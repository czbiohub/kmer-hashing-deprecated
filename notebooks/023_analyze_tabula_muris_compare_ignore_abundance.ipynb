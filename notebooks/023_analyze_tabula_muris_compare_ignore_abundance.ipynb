{
 "cells": [
  {
   "cell_type": "code",
   "execution_count": 1,
   "metadata": {},
   "outputs": [],
   "source": [
    "import glob\n",
    "import os\n",
    "\n",
    "\n",
    "# Reminder to install s3fs to read files from aws\n",
    "import s3fs\n",
    "\n",
    "import matplotlib.pyplot as plt\n",
    "import numpy as np\n",
    "import pandas as pd\n",
    "\n",
    "import seaborn as sns\n",
    "\n",
    "# import holoviews as hv\n",
    "# hv.extension('bokeh')\n",
    "# hv.archive.auto()\n",
    "\n",
    "%matplotlib inline"
   ]
  },
  {
   "cell_type": "code",
   "execution_count": 2,
   "metadata": {},
   "outputs": [
    {
     "name": "stdout",
     "output_type": "stream",
     "text": [
      "2018-09-23 16:03:11  350735969 -similarity.parquet\r\n",
      "2018-09-23 17:36:09     104782 cell-metadata.csv\r\n",
      "2018-09-23 17:36:09       7857 experiment-metadata.csv\r\n",
      "2018-09-23 17:36:09 6503843924 similarity.csv\r\n",
      "2018-09-23 17:35:32  681313514 similarity.parquet\r\n"
     ]
    }
   ],
   "source": [
    "# csv_prefix = '/mnt/data/tabula-muris-sourmash-compare-ignore-abundance-'\n",
    "csv_prefix = 's3://olgabot-maca/facs/sourmash_compare_no_track_abundance_combined/'\n",
    "! aws s3 ls $csv_prefix"
   ]
  },
  {
   "cell_type": "code",
   "execution_count": 105,
   "metadata": {},
   "outputs": [
    {
     "name": "stdout",
     "output_type": "stream",
     "text": [
      "(910, 4)\n"
     ]
    },
    {
     "data": {
      "text/html": [
       "<div>\n",
       "<style scoped>\n",
       "    .dataframe tbody tr th:only-of-type {\n",
       "        vertical-align: middle;\n",
       "    }\n",
       "\n",
       "    .dataframe tbody tr th {\n",
       "        vertical-align: top;\n",
       "    }\n",
       "\n",
       "    .dataframe thead th {\n",
       "        text-align: right;\n",
       "    }\n",
       "</style>\n",
       "<table border=\"1\" class=\"dataframe\">\n",
       "  <thead>\n",
       "    <tr style=\"text-align: right;\">\n",
       "      <th></th>\n",
       "      <th>comparison_sequence</th>\n",
       "      <th>ksize</th>\n",
       "      <th>scaled</th>\n",
       "      <th>trim</th>\n",
       "    </tr>\n",
       "  </thead>\n",
       "  <tbody>\n",
       "    <tr>\n",
       "      <th>trim=false_scaled=1000_dna_ksize=12</th>\n",
       "      <td>dna</td>\n",
       "      <td>12</td>\n",
       "      <td>1000</td>\n",
       "      <td>False</td>\n",
       "    </tr>\n",
       "    <tr>\n",
       "      <th>trim=false_scaled=1000_dna_ksize=15</th>\n",
       "      <td>dna</td>\n",
       "      <td>15</td>\n",
       "      <td>1000</td>\n",
       "      <td>False</td>\n",
       "    </tr>\n",
       "    <tr>\n",
       "      <th>trim=false_scaled=1000_dna_ksize=18</th>\n",
       "      <td>dna</td>\n",
       "      <td>18</td>\n",
       "      <td>1000</td>\n",
       "      <td>False</td>\n",
       "    </tr>\n",
       "    <tr>\n",
       "      <th>trim=false_scaled=1000_dna_ksize=21</th>\n",
       "      <td>dna</td>\n",
       "      <td>21</td>\n",
       "      <td>1000</td>\n",
       "      <td>False</td>\n",
       "    </tr>\n",
       "    <tr>\n",
       "      <th>trim=false_scaled=1000_dna_ksize=24</th>\n",
       "      <td>dna</td>\n",
       "      <td>24</td>\n",
       "      <td>1000</td>\n",
       "      <td>False</td>\n",
       "    </tr>\n",
       "  </tbody>\n",
       "</table>\n",
       "</div>"
      ],
      "text/plain": [
       "                                    comparison_sequence  ksize  scaled   trim\n",
       "trim=false_scaled=1000_dna_ksize=12                 dna     12    1000  False\n",
       "trim=false_scaled=1000_dna_ksize=15                 dna     15    1000  False\n",
       "trim=false_scaled=1000_dna_ksize=18                 dna     18    1000  False\n",
       "trim=false_scaled=1000_dna_ksize=21                 dna     21    1000  False\n",
       "trim=false_scaled=1000_dna_ksize=24                 dna     24    1000  False"
      ]
     },
     "execution_count": 105,
     "metadata": {},
     "output_type": "execute_result"
    }
   ],
   "source": [
    "experiment_metadata = pd.read_csv(f'{csv_prefix}experiment-metadata.csv', index_col=0)\n",
    "print(experiment_metadata.shape)\n",
    "experiment_metadata.head()"
   ]
  },
  {
   "cell_type": "code",
   "execution_count": 4,
   "metadata": {},
   "outputs": [
    {
     "name": "stdout",
     "output_type": "stream",
     "text": [
      "(1000, 5)\n"
     ]
    },
    {
     "data": {
      "text/html": [
       "<div>\n",
       "<style scoped>\n",
       "    .dataframe tbody tr th:only-of-type {\n",
       "        vertical-align: middle;\n",
       "    }\n",
       "\n",
       "    .dataframe tbody tr th {\n",
       "        vertical-align: top;\n",
       "    }\n",
       "\n",
       "    .dataframe thead th {\n",
       "        text-align: right;\n",
       "    }\n",
       "</style>\n",
       "<table border=\"1\" class=\"dataframe\">\n",
       "  <thead>\n",
       "    <tr style=\"text-align: right;\">\n",
       "      <th></th>\n",
       "      <th>tissue</th>\n",
       "      <th>subtissue</th>\n",
       "      <th>cell_ontology_class</th>\n",
       "      <th>free_annotation</th>\n",
       "      <th>cell_ontology_free_annotation</th>\n",
       "    </tr>\n",
       "    <tr>\n",
       "      <th>cell_id</th>\n",
       "      <th></th>\n",
       "      <th></th>\n",
       "      <th></th>\n",
       "      <th></th>\n",
       "      <th></th>\n",
       "    </tr>\n",
       "  </thead>\n",
       "  <tbody>\n",
       "    <tr>\n",
       "      <th>A1-B002427-3_39_F-1-1</th>\n",
       "      <td>Heart</td>\n",
       "      <td>LA</td>\n",
       "      <td>myofibroblast_cell</td>\n",
       "      <td>NaN</td>\n",
       "      <td>myofibroblast_cell (NA)</td>\n",
       "    </tr>\n",
       "    <tr>\n",
       "      <th>A1-D041914-3_8_M-1-1</th>\n",
       "      <td>Bladder</td>\n",
       "      <td>NaN</td>\n",
       "      <td>bladder_cell</td>\n",
       "      <td>Bladder_mesenchymal_cell</td>\n",
       "      <td>bladder_cell (Bladder_mesenchymal_cell)</td>\n",
       "    </tr>\n",
       "    <tr>\n",
       "      <th>A1-MAA000496-3_10_M-1-1</th>\n",
       "      <td>Trachea</td>\n",
       "      <td>NaN</td>\n",
       "      <td>mesenchymal_cell</td>\n",
       "      <td>NaN</td>\n",
       "      <td>mesenchymal_cell (NA)</td>\n",
       "    </tr>\n",
       "    <tr>\n",
       "      <th>A1-MAA000549-3_8_M-1-1</th>\n",
       "      <td>Skin</td>\n",
       "      <td>Anagen</td>\n",
       "      <td>epidermal_cell</td>\n",
       "      <td>Intermediate_IFE</td>\n",
       "      <td>epidermal_cell (Intermediate_IFE)</td>\n",
       "    </tr>\n",
       "    <tr>\n",
       "      <th>A1-MAA001869-3_38_F-1-1</th>\n",
       "      <td>Large_Intestine</td>\n",
       "      <td>Proximal</td>\n",
       "      <td>epithelial_cell_of_large_intestine</td>\n",
       "      <td>Lgr5-_amplifying_undifferentiated_cell</td>\n",
       "      <td>epithelial_cell_of_large_intestine (Lgr5-_ampl...</td>\n",
       "    </tr>\n",
       "  </tbody>\n",
       "</table>\n",
       "</div>"
      ],
      "text/plain": [
       "                                  tissue subtissue  \\\n",
       "cell_id                                              \n",
       "A1-B002427-3_39_F-1-1              Heart        LA   \n",
       "A1-D041914-3_8_M-1-1             Bladder       NaN   \n",
       "A1-MAA000496-3_10_M-1-1          Trachea       NaN   \n",
       "A1-MAA000549-3_8_M-1-1              Skin    Anagen   \n",
       "A1-MAA001869-3_38_F-1-1  Large_Intestine  Proximal   \n",
       "\n",
       "                                        cell_ontology_class  \\\n",
       "cell_id                                                       \n",
       "A1-B002427-3_39_F-1-1                    myofibroblast_cell   \n",
       "A1-D041914-3_8_M-1-1                           bladder_cell   \n",
       "A1-MAA000496-3_10_M-1-1                    mesenchymal_cell   \n",
       "A1-MAA000549-3_8_M-1-1                       epidermal_cell   \n",
       "A1-MAA001869-3_38_F-1-1  epithelial_cell_of_large_intestine   \n",
       "\n",
       "                                                free_annotation  \\\n",
       "cell_id                                                           \n",
       "A1-B002427-3_39_F-1-1                                       NaN   \n",
       "A1-D041914-3_8_M-1-1                   Bladder_mesenchymal_cell   \n",
       "A1-MAA000496-3_10_M-1-1                                     NaN   \n",
       "A1-MAA000549-3_8_M-1-1                         Intermediate_IFE   \n",
       "A1-MAA001869-3_38_F-1-1  Lgr5-_amplifying_undifferentiated_cell   \n",
       "\n",
       "                                             cell_ontology_free_annotation  \n",
       "cell_id                                                                     \n",
       "A1-B002427-3_39_F-1-1                              myofibroblast_cell (NA)  \n",
       "A1-D041914-3_8_M-1-1               bladder_cell (Bladder_mesenchymal_cell)  \n",
       "A1-MAA000496-3_10_M-1-1                              mesenchymal_cell (NA)  \n",
       "A1-MAA000549-3_8_M-1-1                   epidermal_cell (Intermediate_IFE)  \n",
       "A1-MAA001869-3_38_F-1-1  epithelial_cell_of_large_intestine (Lgr5-_ampl...  "
      ]
     },
     "execution_count": 4,
     "metadata": {},
     "output_type": "execute_result"
    }
   ],
   "source": [
    "cell_metadata = pd.read_csv(f'{csv_prefix}cell-metadata.csv', index_col=0)\n",
    "print(cell_metadata.shape)\n",
    "cell_metadata.head()"
   ]
  },
  {
   "cell_type": "code",
   "execution_count": 100,
   "metadata": {},
   "outputs": [
    {
     "name": "stdout",
     "output_type": "stream",
     "text": [
      "(56618998, 4)\n"
     ]
    },
    {
     "data": {
      "text/html": [
       "<div>\n",
       "<style scoped>\n",
       "    .dataframe tbody tr th:only-of-type {\n",
       "        vertical-align: middle;\n",
       "    }\n",
       "\n",
       "    .dataframe tbody tr th {\n",
       "        vertical-align: top;\n",
       "    }\n",
       "\n",
       "    .dataframe thead th {\n",
       "        text-align: right;\n",
       "    }\n",
       "</style>\n",
       "<table border=\"1\" class=\"dataframe\">\n",
       "  <thead>\n",
       "    <tr style=\"text-align: right;\">\n",
       "      <th></th>\n",
       "      <th>cell_id</th>\n",
       "      <th>other_cell</th>\n",
       "      <th>similarity</th>\n",
       "      <th>experiment</th>\n",
       "    </tr>\n",
       "  </thead>\n",
       "  <tbody>\n",
       "    <tr>\n",
       "      <th>0</th>\n",
       "      <td>B22-MAA000871-3_11_M-1-1</td>\n",
       "      <td>B22-MAA000871-3_11_M-1-1</td>\n",
       "      <td>1.000000</td>\n",
       "      <td>trim=false_scaled=1000_dna_ksize=12</td>\n",
       "    </tr>\n",
       "    <tr>\n",
       "      <th>1</th>\n",
       "      <td>B22-MAA000871-3_11_M-1-1</td>\n",
       "      <td>L11-MAA000586-3_8_M-1-1</td>\n",
       "      <td>0.398906</td>\n",
       "      <td>trim=false_scaled=1000_dna_ksize=12</td>\n",
       "    </tr>\n",
       "    <tr>\n",
       "      <th>2</th>\n",
       "      <td>B22-MAA000871-3_11_M-1-1</td>\n",
       "      <td>O20-MAA001632-3_56_F-1-1</td>\n",
       "      <td>0.407873</td>\n",
       "      <td>trim=false_scaled=1000_dna_ksize=12</td>\n",
       "    </tr>\n",
       "    <tr>\n",
       "      <th>3</th>\n",
       "      <td>B22-MAA000871-3_11_M-1-1</td>\n",
       "      <td>D2-MAA000452-3_8_M-1-1</td>\n",
       "      <td>0.386677</td>\n",
       "      <td>trim=false_scaled=1000_dna_ksize=12</td>\n",
       "    </tr>\n",
       "    <tr>\n",
       "      <th>4</th>\n",
       "      <td>B22-MAA000871-3_11_M-1-1</td>\n",
       "      <td>P1-D042473-3_10_M-1-1</td>\n",
       "      <td>0.384180</td>\n",
       "      <td>trim=false_scaled=1000_dna_ksize=12</td>\n",
       "    </tr>\n",
       "  </tbody>\n",
       "</table>\n",
       "</div>"
      ],
      "text/plain": [
       "                    cell_id                other_cell  similarity  \\\n",
       "0  B22-MAA000871-3_11_M-1-1  B22-MAA000871-3_11_M-1-1    1.000000   \n",
       "1  B22-MAA000871-3_11_M-1-1   L11-MAA000586-3_8_M-1-1    0.398906   \n",
       "2  B22-MAA000871-3_11_M-1-1  O20-MAA001632-3_56_F-1-1    0.407873   \n",
       "3  B22-MAA000871-3_11_M-1-1    D2-MAA000452-3_8_M-1-1    0.386677   \n",
       "4  B22-MAA000871-3_11_M-1-1     P1-D042473-3_10_M-1-1    0.384180   \n",
       "\n",
       "                            experiment  \n",
       "0  trim=false_scaled=1000_dna_ksize=12  \n",
       "1  trim=false_scaled=1000_dna_ksize=12  \n",
       "2  trim=false_scaled=1000_dna_ksize=12  \n",
       "3  trim=false_scaled=1000_dna_ksize=12  \n",
       "4  trim=false_scaled=1000_dna_ksize=12  "
      ]
     },
     "execution_count": 100,
     "metadata": {},
     "output_type": "execute_result"
    }
   ],
   "source": [
    "compare_results = pd.read_parquet(f'{csv_prefix}similarity-scaled-subset.parquet')\n",
    "print(compare_results.shape)\n",
    "compare_results.head()"
   ]
  },
  {
   "cell_type": "code",
   "execution_count": 104,
   "metadata": {},
   "outputs": [
    {
     "name": "stdout",
     "output_type": "stream",
     "text": [
      "146\n"
     ]
    },
    {
     "data": {
      "text/plain": [
       "array(['trim=false_scaled=1000_dna_ksize=12',\n",
       "       'trim=false_scaled=1000_dna_ksize=15',\n",
       "       'trim=false_scaled=1000_dna_ksize=18',\n",
       "       'trim=false_scaled=1000_dna_ksize=21',\n",
       "       'trim=false_scaled=1000_dna_ksize=24',\n",
       "       'trim=false_scaled=1000_dna_ksize=27',\n",
       "       'trim=false_scaled=1000_dna_ksize=3',\n",
       "       'trim=false_scaled=1000_dna_ksize=30',\n",
       "       'trim=false_scaled=1000_dna_ksize=33',\n",
       "       'trim=false_scaled=1000_dna_ksize=36'], dtype=object)"
      ]
     },
     "execution_count": 104,
     "metadata": {},
     "output_type": "execute_result"
    }
   ],
   "source": [
    "compare_results_experiments = compare_results.experiment.unique()\n",
    "print(len(compare_results_experiments))\n",
    "compare_results_experiments[:10]"
   ]
  },
  {
   "cell_type": "code",
   "execution_count": 107,
   "metadata": {},
   "outputs": [
    {
     "name": "stdout",
     "output_type": "stream",
     "text": [
      "(146, 4)\n"
     ]
    },
    {
     "data": {
      "text/html": [
       "<div>\n",
       "<style scoped>\n",
       "    .dataframe tbody tr th:only-of-type {\n",
       "        vertical-align: middle;\n",
       "    }\n",
       "\n",
       "    .dataframe tbody tr th {\n",
       "        vertical-align: top;\n",
       "    }\n",
       "\n",
       "    .dataframe thead th {\n",
       "        text-align: right;\n",
       "    }\n",
       "</style>\n",
       "<table border=\"1\" class=\"dataframe\">\n",
       "  <thead>\n",
       "    <tr style=\"text-align: right;\">\n",
       "      <th></th>\n",
       "      <th>comparison_sequence</th>\n",
       "      <th>ksize</th>\n",
       "      <th>scaled</th>\n",
       "      <th>trim</th>\n",
       "    </tr>\n",
       "  </thead>\n",
       "  <tbody>\n",
       "    <tr>\n",
       "      <th>trim=false_scaled=1000_dna_ksize=12</th>\n",
       "      <td>dna</td>\n",
       "      <td>12</td>\n",
       "      <td>1000</td>\n",
       "      <td>False</td>\n",
       "    </tr>\n",
       "    <tr>\n",
       "      <th>trim=false_scaled=1000_dna_ksize=15</th>\n",
       "      <td>dna</td>\n",
       "      <td>15</td>\n",
       "      <td>1000</td>\n",
       "      <td>False</td>\n",
       "    </tr>\n",
       "    <tr>\n",
       "      <th>trim=false_scaled=1000_dna_ksize=18</th>\n",
       "      <td>dna</td>\n",
       "      <td>18</td>\n",
       "      <td>1000</td>\n",
       "      <td>False</td>\n",
       "    </tr>\n",
       "    <tr>\n",
       "      <th>trim=false_scaled=1000_dna_ksize=21</th>\n",
       "      <td>dna</td>\n",
       "      <td>21</td>\n",
       "      <td>1000</td>\n",
       "      <td>False</td>\n",
       "    </tr>\n",
       "    <tr>\n",
       "      <th>trim=false_scaled=1000_dna_ksize=24</th>\n",
       "      <td>dna</td>\n",
       "      <td>24</td>\n",
       "      <td>1000</td>\n",
       "      <td>False</td>\n",
       "    </tr>\n",
       "  </tbody>\n",
       "</table>\n",
       "</div>"
      ],
      "text/plain": [
       "                                    comparison_sequence  ksize  scaled   trim\n",
       "trim=false_scaled=1000_dna_ksize=12                 dna     12    1000  False\n",
       "trim=false_scaled=1000_dna_ksize=15                 dna     15    1000  False\n",
       "trim=false_scaled=1000_dna_ksize=18                 dna     18    1000  False\n",
       "trim=false_scaled=1000_dna_ksize=21                 dna     21    1000  False\n",
       "trim=false_scaled=1000_dna_ksize=24                 dna     24    1000  False"
      ]
     },
     "execution_count": 107,
     "metadata": {},
     "output_type": "execute_result"
    }
   ],
   "source": [
    "experiment_metadata = experiment_metadata.loc[compare_results_experiments]\n",
    "print(experiment_metadata.shape)\n",
    "experiment_metadata.head()"
   ]
  },
  {
   "cell_type": "markdown",
   "metadata": {},
   "source": [
    "## Only look at trim=True for now"
   ]
  },
  {
   "cell_type": "code",
   "execution_count": 6,
   "metadata": {},
   "outputs": [
    {
     "name": "stdout",
     "output_type": "stream",
     "text": [
      "(28620778,)\n"
     ]
    },
    {
     "data": {
      "text/plain": [
       "trim=false_scaled=1000_dna_ksize=15    False\n",
       "trim=false_scaled=1000_dna_ksize=15    False\n",
       "trim=false_scaled=1000_dna_ksize=15    False\n",
       "trim=false_scaled=1000_dna_ksize=15    False\n",
       "trim=false_scaled=1000_dna_ksize=15    False\n",
       "Name: trim, dtype: bool"
      ]
     },
     "execution_count": 6,
     "metadata": {},
     "output_type": "execute_result"
    }
   ],
   "source": [
    "trimmed_rows = experiment_metadata.loc[compare_results.experiment, 'trim']\n",
    "print(trimmed_rows.shape)\n",
    "trimmed_rows.head()"
   ]
  },
  {
   "cell_type": "code",
   "execution_count": 101,
   "metadata": {},
   "outputs": [
    {
     "name": "stdout",
     "output_type": "stream",
     "text": [
      "(69, 4)\n"
     ]
    },
    {
     "data": {
      "text/html": [
       "<div>\n",
       "<style scoped>\n",
       "    .dataframe tbody tr th:only-of-type {\n",
       "        vertical-align: middle;\n",
       "    }\n",
       "\n",
       "    .dataframe tbody tr th {\n",
       "        vertical-align: top;\n",
       "    }\n",
       "\n",
       "    .dataframe thead th {\n",
       "        text-align: right;\n",
       "    }\n",
       "</style>\n",
       "<table border=\"1\" class=\"dataframe\">\n",
       "  <thead>\n",
       "    <tr style=\"text-align: right;\">\n",
       "      <th></th>\n",
       "      <th>comparison_sequence</th>\n",
       "      <th>ksize</th>\n",
       "      <th>scaled</th>\n",
       "      <th>trim</th>\n",
       "    </tr>\n",
       "  </thead>\n",
       "  <tbody>\n",
       "    <tr>\n",
       "      <th>trim=true_scaled=1000_dna_ksize=12</th>\n",
       "      <td>dna</td>\n",
       "      <td>12</td>\n",
       "      <td>1000</td>\n",
       "      <td>True</td>\n",
       "    </tr>\n",
       "    <tr>\n",
       "      <th>trim=true_scaled=1000_dna_ksize=18</th>\n",
       "      <td>dna</td>\n",
       "      <td>18</td>\n",
       "      <td>1000</td>\n",
       "      <td>True</td>\n",
       "    </tr>\n",
       "    <tr>\n",
       "      <th>trim=true_scaled=1000_dna_ksize=33</th>\n",
       "      <td>dna</td>\n",
       "      <td>33</td>\n",
       "      <td>1000</td>\n",
       "      <td>True</td>\n",
       "    </tr>\n",
       "    <tr>\n",
       "      <th>trim=true_scaled=1000_dna_ksize=39</th>\n",
       "      <td>dna</td>\n",
       "      <td>39</td>\n",
       "      <td>1000</td>\n",
       "      <td>True</td>\n",
       "    </tr>\n",
       "    <tr>\n",
       "      <th>trim=true_scaled=1000_dna_ksize=42</th>\n",
       "      <td>dna</td>\n",
       "      <td>42</td>\n",
       "      <td>1000</td>\n",
       "      <td>True</td>\n",
       "    </tr>\n",
       "  </tbody>\n",
       "</table>\n",
       "</div>"
      ],
      "text/plain": [
       "                                   comparison_sequence  ksize  scaled  trim\n",
       "trim=true_scaled=1000_dna_ksize=12                 dna     12    1000  True\n",
       "trim=true_scaled=1000_dna_ksize=18                 dna     18    1000  True\n",
       "trim=true_scaled=1000_dna_ksize=33                 dna     33    1000  True\n",
       "trim=true_scaled=1000_dna_ksize=39                 dna     39    1000  True\n",
       "trim=true_scaled=1000_dna_ksize=42                 dna     42    1000  True"
      ]
     },
     "execution_count": 101,
     "metadata": {},
     "output_type": "execute_result"
    }
   ],
   "source": [
    "experiment_metadata_trimmed = experiment_metadata.query('trim == True')\n",
    "print(experiment_metadata_trimmed.shape)\n",
    "experiment_metadata_trimmed.head()"
   ]
  },
  {
   "cell_type": "code",
   "execution_count": 7,
   "metadata": {},
   "outputs": [
    {
     "name": "stdout",
     "output_type": "stream",
     "text": [
      "(12482005, 4)\n"
     ]
    },
    {
     "data": {
      "text/html": [
       "<div>\n",
       "<style scoped>\n",
       "    .dataframe tbody tr th:only-of-type {\n",
       "        vertical-align: middle;\n",
       "    }\n",
       "\n",
       "    .dataframe tbody tr th {\n",
       "        vertical-align: top;\n",
       "    }\n",
       "\n",
       "    .dataframe thead th {\n",
       "        text-align: right;\n",
       "    }\n",
       "</style>\n",
       "<table border=\"1\" class=\"dataframe\">\n",
       "  <thead>\n",
       "    <tr style=\"text-align: right;\">\n",
       "      <th></th>\n",
       "      <th>cell_id</th>\n",
       "      <th>other_cell</th>\n",
       "      <th>similarity</th>\n",
       "      <th>experiment</th>\n",
       "    </tr>\n",
       "  </thead>\n",
       "  <tbody>\n",
       "    <tr>\n",
       "      <th>16138773</th>\n",
       "      <td>H5-B000127-3_38_F-1-1</td>\n",
       "      <td>H5-B000127-3_38_F-1-1</td>\n",
       "      <td>1.000000</td>\n",
       "      <td>trim=true_scaled=1100_dna_ksize=18</td>\n",
       "    </tr>\n",
       "    <tr>\n",
       "      <th>16138774</th>\n",
       "      <td>H5-B000127-3_38_F-1-1</td>\n",
       "      <td>E18-MAA000908-3_10_M-1-1</td>\n",
       "      <td>0.027140</td>\n",
       "      <td>trim=true_scaled=1100_dna_ksize=18</td>\n",
       "    </tr>\n",
       "    <tr>\n",
       "      <th>16138775</th>\n",
       "      <td>H5-B000127-3_38_F-1-1</td>\n",
       "      <td>E5-D042479-3_8_M-1-1</td>\n",
       "      <td>0.038163</td>\n",
       "      <td>trim=true_scaled=1100_dna_ksize=18</td>\n",
       "    </tr>\n",
       "    <tr>\n",
       "      <th>16138776</th>\n",
       "      <td>H5-B000127-3_38_F-1-1</td>\n",
       "      <td>L1-D042475-3_9_M-1-1</td>\n",
       "      <td>0.034971</td>\n",
       "      <td>trim=true_scaled=1100_dna_ksize=18</td>\n",
       "    </tr>\n",
       "    <tr>\n",
       "      <th>16138777</th>\n",
       "      <td>H5-B000127-3_38_F-1-1</td>\n",
       "      <td>G15-D042475-3_9_M-1-1</td>\n",
       "      <td>0.032866</td>\n",
       "      <td>trim=true_scaled=1100_dna_ksize=18</td>\n",
       "    </tr>\n",
       "  </tbody>\n",
       "</table>\n",
       "</div>"
      ],
      "text/plain": [
       "                        cell_id                other_cell  similarity  \\\n",
       "16138773  H5-B000127-3_38_F-1-1     H5-B000127-3_38_F-1-1    1.000000   \n",
       "16138774  H5-B000127-3_38_F-1-1  E18-MAA000908-3_10_M-1-1    0.027140   \n",
       "16138775  H5-B000127-3_38_F-1-1      E5-D042479-3_8_M-1-1    0.038163   \n",
       "16138776  H5-B000127-3_38_F-1-1      L1-D042475-3_9_M-1-1    0.034971   \n",
       "16138777  H5-B000127-3_38_F-1-1     G15-D042475-3_9_M-1-1    0.032866   \n",
       "\n",
       "                                  experiment  \n",
       "16138773  trim=true_scaled=1100_dna_ksize=18  \n",
       "16138774  trim=true_scaled=1100_dna_ksize=18  \n",
       "16138775  trim=true_scaled=1100_dna_ksize=18  \n",
       "16138776  trim=true_scaled=1100_dna_ksize=18  \n",
       "16138777  trim=true_scaled=1100_dna_ksize=18  "
      ]
     },
     "execution_count": 7,
     "metadata": {},
     "output_type": "execute_result"
    }
   ],
   "source": [
    "compare_results_trim_true = compare_results.loc[trimmed_rows.values]\n",
    "print(compare_results_trim_true.shape)\n",
    "compare_results_trim_true.head()"
   ]
  },
  {
   "cell_type": "code",
   "execution_count": 46,
   "metadata": {},
   "outputs": [
    {
     "name": "stdout",
     "output_type": "stream",
     "text": [
      "CPU times: user 60 ms, sys: 0 ns, total: 60 ms\n",
      "Wall time: 60.7 ms\n",
      "CPU times: user 52 ms, sys: 0 ns, total: 52 ms\n",
      "Wall time: 51.7 ms\n"
     ]
    },
    {
     "data": {
      "text/plain": [
       "cell_id                   experiment                        \n",
       "A12-B001689-3_38_F-1-1    trim=true_scaled=1100_dna_ksize=18                       microglial_cell\n",
       "E18-MAA000908-3_10_M-1-1  trim=true_scaled=1100_dna_ksize=18                      endothelial_cell\n",
       "E5-D042479-3_8_M-1-1      trim=true_scaled=1100_dna_ksize=18                      precursor_B_cell\n",
       "G15-D042475-3_9_M-1-1     trim=true_scaled=1100_dna_ksize=18                          myeloid_cell\n",
       "H5-B000127-3_38_F-1-1     trim=true_scaled=1100_dna_ksize=18                      endothelial_cell\n",
       "I2-B002438-3_38_F-1-1     trim=true_scaled=1100_dna_ksize=18                            basal_cell\n",
       "I6-MAA000884-3_10_M-1-1   trim=true_scaled=1100_dna_ksize=18                type_B_pancreatic_cell\n",
       "K15-MAA000907-3_11_M-1-1  trim=true_scaled=1100_dna_ksize=18    epithelial_cell_of_proximal_tubule\n",
       "L1-D042475-3_9_M-1-1      trim=true_scaled=1100_dna_ksize=18                      mesenchymal_cell\n",
       "P1-MAA000938-3_8_M-1-1    trim=true_scaled=1100_dna_ksize=18               basal_cell_of_epidermis\n",
       "P8-MAA000571-3_9_M-1-1    trim=true_scaled=1100_dna_ksize=18                       microglial_cell\n",
       "dtype: object"
      ]
     },
     "execution_count": 46,
     "metadata": {},
     "output_type": "execute_result"
    }
   ],
   "source": []
  },
  {
   "cell_type": "code",
   "execution_count": null,
   "metadata": {},
   "outputs": [],
   "source": []
  },
  {
   "cell_type": "code",
   "execution_count": 42,
   "metadata": {},
   "outputs": [
    {
     "data": {
      "text/plain": [
       "other_cell\n",
       "G15-D042475-3_9_M-1-1         blood_cell\n",
       "M8-D045139-3_39_F-1-1        granulocyte\n",
       "E14-MAA000388-3_11_M-1-1    myeloid_cell\n",
       "F17-D042479-3_8_M-1-1        granulocyte\n",
       "I10-D045058-3_39_F-1-1      myeloid_cell\n",
       "F8-B002954-3_56_F-1-1       myeloid_cell\n",
       "M13-MAA000531-3_8_M-1-1     myeloid_cell\n",
       "A16-D043520-3_39_F-1-1      myeloid_cell\n",
       "M2-MAA000639-3_9_M-1-1       granulocyte\n",
       "D15-MAA000441-3_10_M-1-1    myeloid_cell\n",
       "Name: cell_ontology_class, dtype: object"
      ]
     },
     "execution_count": 42,
     "metadata": {},
     "output_type": "execute_result"
    }
   ],
   "source": [
    "s = cell_metadata['cell_ontology_class'][subset.query('cell_id == \"G15-D042475-3_9_M-1-1\"').nlargest(10, 'similarity')['other_cell']]\n",
    "s"
   ]
  },
  {
   "cell_type": "code",
   "execution_count": 44,
   "metadata": {},
   "outputs": [
    {
     "data": {
      "text/plain": [
       "0    myeloid_cell\n",
       "dtype: object"
      ]
     },
     "execution_count": 44,
     "metadata": {},
     "output_type": "execute_result"
    }
   ],
   "source": [
    "s.mode()"
   ]
  },
  {
   "cell_type": "code",
   "execution_count": 45,
   "metadata": {},
   "outputs": [
    {
     "data": {
      "text/plain": [
       "'myeloid_cell'"
      ]
     },
     "execution_count": 45,
     "metadata": {},
     "output_type": "execute_result"
    }
   ],
   "source": [
    "s.max()"
   ]
  },
  {
   "cell_type": "code",
   "execution_count": 143,
   "metadata": {},
   "outputs": [
    {
     "name": "stdout",
     "output_type": "stream",
     "text": [
      "CPU times: user 52 ms, sys: 0 ns, total: 52 ms\n",
      "Wall time: 50.2 ms\n",
      "CPU times: user 44 ms, sys: 0 ns, total: 44 ms\n",
      "Wall time: 43.1 ms\n"
     ]
    },
    {
     "data": {
      "text/plain": [
       "cell_id                   experiment                        \n",
       "A12-B001689-3_38_F-1-1    trim=true_scaled=1100_dna_ksize=18            microglial_cell\n",
       "E18-MAA000908-3_10_M-1-1  trim=true_scaled=1100_dna_ksize=18           endothelial_cell\n",
       "E5-D042479-3_8_M-1-1      trim=true_scaled=1100_dna_ksize=18           precursor_B_cell\n",
       "G15-D042475-3_9_M-1-1     trim=true_scaled=1100_dna_ksize=18                granulocyte\n",
       "H5-B000127-3_38_F-1-1     trim=true_scaled=1100_dna_ksize=18           endothelial_cell\n",
       "I2-B002438-3_38_F-1-1     trim=true_scaled=1100_dna_ksize=18                 basal_cell\n",
       "I6-MAA000884-3_10_M-1-1   trim=true_scaled=1100_dna_ksize=18          pancreatic_D_cell\n",
       "K15-MAA000907-3_11_M-1-1  trim=true_scaled=1100_dna_ksize=18               Kupffer_cell\n",
       "L1-D042475-3_9_M-1-1      trim=true_scaled=1100_dna_ksize=18               bladder_cell\n",
       "P1-MAA000938-3_8_M-1-1    trim=true_scaled=1100_dna_ksize=18    basal_cell_of_epidermis\n",
       "P8-MAA000571-3_9_M-1-1    trim=true_scaled=1100_dna_ksize=18            microglial_cell\n",
       "dtype: object"
      ]
     },
     "execution_count": 143,
     "metadata": {},
     "output_type": "execute_result"
    }
   ],
   "source": [
    "subset = compare_results_trim_true.head(10000)\n",
    "groupby_cols = ['cell_id', 'experiment']\n",
    "\n",
    "def guess_cell_ontology(cell_subset, n=5, col='cell_ontology_class'):\n",
    "    neighboring_cells = cell_subset.nlargest(n, 'similarity')['other_cell']\n",
    "    neighoring_ontologies = cell_metadata[col][neighboring_cells]\n",
    "    return neighoring_ontologies.astype(str).mode()[0]\n",
    "\n",
    "%time subset.query('similarity < 1').groupby(groupby_cols).apply(guess_cell_ontology)\n",
    "%time subset.groupby(groupby_cols).apply(guess_cell_ontology)"
   ]
  },
  {
   "cell_type": "code",
   "execution_count": 144,
   "metadata": {},
   "outputs": [
    {
     "name": "stdout",
     "output_type": "stream",
     "text": [
      "CPU times: user 5min 37s, sys: 6.18 s, total: 5min 43s\n",
      "Wall time: 5min 12s\n",
      "(125188,)\n"
     ]
    },
    {
     "data": {
      "text/plain": [
       "cell_id                experiment                         \n",
       "A1-B002427-3_39_F-1-1  trim=false_scaled=1000_dna_ksize=12      basal_cell\n",
       "                       trim=false_scaled=1000_dna_ksize=15    bladder_cell\n",
       "                       trim=false_scaled=1000_dna_ksize=18    bladder_cell\n",
       "                       trim=false_scaled=1000_dna_ksize=24    bladder_cell\n",
       "                       trim=false_scaled=1000_dna_ksize=27      basal_cell\n",
       "dtype: object"
      ]
     },
     "execution_count": 144,
     "metadata": {},
     "output_type": "execute_result"
    }
   ],
   "source": [
    "groupby_cols = ['cell_id', 'experiment']\n",
    "\n",
    "grouped = compare_results.query('similarity < 1').groupby(groupby_cols)\n",
    "%time guessed_ontology_n5 = grouped.apply(guess_cell_ontology, n=5)\n",
    "print(guessed_ontology_n5.shape)\n",
    "guessed_ontology_n5.head()"
   ]
  },
  {
   "cell_type": "code",
   "execution_count": 145,
   "metadata": {},
   "outputs": [
    {
     "name": "stdout",
     "output_type": "stream",
     "text": [
      "CPU times: user 5min 33s, sys: 6.81 s, total: 5min 39s\n",
      "Wall time: 5min 7s\n",
      "(125188,)\n"
     ]
    },
    {
     "data": {
      "text/plain": [
       "cell_id                experiment                         \n",
       "A1-B002427-3_39_F-1-1  trim=false_scaled=1000_dna_ksize=12                          basal_cell\n",
       "                       trim=false_scaled=1000_dna_ksize=15                        bladder_cell\n",
       "                       trim=false_scaled=1000_dna_ksize=18                        bladder_cell\n",
       "                       trim=false_scaled=1000_dna_ksize=24    mesenchymal_stem_cell_of_adipose\n",
       "                       trim=false_scaled=1000_dna_ksize=27                          basal_cell\n",
       "dtype: object"
      ]
     },
     "execution_count": 145,
     "metadata": {},
     "output_type": "execute_result"
    }
   ],
   "source": [
    "%time guessed_ontology_n10 = grouped.apply(guess_cell_ontology, n=10)\n",
    "print(guessed_ontology_n10.shape)\n",
    "guessed_ontology_n10.head()"
   ]
  },
  {
   "cell_type": "code",
   "execution_count": 146,
   "metadata": {},
   "outputs": [
    {
     "name": "stdout",
     "output_type": "stream",
     "text": [
      "(1000, 144)\n"
     ]
    },
    {
     "data": {
      "text/html": [
       "<div>\n",
       "<style scoped>\n",
       "    .dataframe tbody tr th:only-of-type {\n",
       "        vertical-align: middle;\n",
       "    }\n",
       "\n",
       "    .dataframe tbody tr th {\n",
       "        vertical-align: top;\n",
       "    }\n",
       "\n",
       "    .dataframe thead th {\n",
       "        text-align: right;\n",
       "    }\n",
       "</style>\n",
       "<table border=\"1\" class=\"dataframe\">\n",
       "  <thead>\n",
       "    <tr style=\"text-align: right;\">\n",
       "      <th>experiment</th>\n",
       "      <th>trim=false_scaled=1000_dna_ksize=12</th>\n",
       "      <th>trim=false_scaled=1000_dna_ksize=15</th>\n",
       "      <th>trim=false_scaled=1000_dna_ksize=18</th>\n",
       "      <th>trim=false_scaled=1000_dna_ksize=21</th>\n",
       "      <th>trim=false_scaled=1000_dna_ksize=24</th>\n",
       "      <th>trim=false_scaled=1000_dna_ksize=27</th>\n",
       "      <th>trim=false_scaled=1000_dna_ksize=3</th>\n",
       "      <th>trim=false_scaled=1000_dna_ksize=30</th>\n",
       "      <th>trim=false_scaled=1000_dna_ksize=33</th>\n",
       "      <th>trim=false_scaled=1000_dna_ksize=36</th>\n",
       "      <th>...</th>\n",
       "      <th>trim=true_scaled=500_dna_ksize=30</th>\n",
       "      <th>trim=true_scaled=500_dna_ksize=36</th>\n",
       "      <th>trim=true_scaled=500_dna_ksize=39</th>\n",
       "      <th>trim=true_scaled=500_dna_ksize=42</th>\n",
       "      <th>trim=true_scaled=500_dna_ksize=45</th>\n",
       "      <th>trim=true_scaled=500_dna_ksize=48</th>\n",
       "      <th>trim=true_scaled=500_dna_ksize=54</th>\n",
       "      <th>trim=true_scaled=500_dna_ksize=57</th>\n",
       "      <th>trim=true_scaled=500_dna_ksize=60</th>\n",
       "      <th>trim=true_scaled=500_dna_ksize=9</th>\n",
       "    </tr>\n",
       "    <tr>\n",
       "      <th>cell_id</th>\n",
       "      <th></th>\n",
       "      <th></th>\n",
       "      <th></th>\n",
       "      <th></th>\n",
       "      <th></th>\n",
       "      <th></th>\n",
       "      <th></th>\n",
       "      <th></th>\n",
       "      <th></th>\n",
       "      <th></th>\n",
       "      <th></th>\n",
       "      <th></th>\n",
       "      <th></th>\n",
       "      <th></th>\n",
       "      <th></th>\n",
       "      <th></th>\n",
       "      <th></th>\n",
       "      <th></th>\n",
       "      <th></th>\n",
       "      <th></th>\n",
       "      <th></th>\n",
       "    </tr>\n",
       "  </thead>\n",
       "  <tbody>\n",
       "    <tr>\n",
       "      <th>A1-B002427-3_39_F-1-1</th>\n",
       "      <td>basal_cell</td>\n",
       "      <td>bladder_cell</td>\n",
       "      <td>bladder_cell</td>\n",
       "      <td>NaN</td>\n",
       "      <td>bladder_cell</td>\n",
       "      <td>basal_cell</td>\n",
       "      <td>Slamf1-negative_multipotent_progenitor_cell</td>\n",
       "      <td>bladder_cell</td>\n",
       "      <td>NaN</td>\n",
       "      <td>NaN</td>\n",
       "      <td>...</td>\n",
       "      <td>bladder_cell</td>\n",
       "      <td>basal_cell</td>\n",
       "      <td>bladder_cell</td>\n",
       "      <td>bladder_cell</td>\n",
       "      <td>bladder_cell</td>\n",
       "      <td>luminal_epithelial_cell_of_mammary_gland</td>\n",
       "      <td>bladder_cell</td>\n",
       "      <td>bladder_cell</td>\n",
       "      <td>bladder_cell</td>\n",
       "      <td>B_cell</td>\n",
       "    </tr>\n",
       "    <tr>\n",
       "      <th>A1-D041914-3_8_M-1-1</th>\n",
       "      <td>bladder_cell</td>\n",
       "      <td>basal_cell</td>\n",
       "      <td>mesenchymal_stem_cell_of_adipose</td>\n",
       "      <td>luminal_epithelial_cell_of_mammary_gland</td>\n",
       "      <td>mesenchymal_stem_cell_of_adipose</td>\n",
       "      <td>bladder_cell</td>\n",
       "      <td>epithelial_cell_of_large_intestine</td>\n",
       "      <td>bladder_cell</td>\n",
       "      <td>bladder_cell</td>\n",
       "      <td>bladder_cell</td>\n",
       "      <td>...</td>\n",
       "      <td>bladder_cell</td>\n",
       "      <td>mesenchymal_stem_cell_of_adipose</td>\n",
       "      <td>bladder_cell</td>\n",
       "      <td>fibroblast</td>\n",
       "      <td>bladder_cell</td>\n",
       "      <td>bladder_cell</td>\n",
       "      <td>fibroblast</td>\n",
       "      <td>bladder_cell</td>\n",
       "      <td>bladder_cell</td>\n",
       "      <td>T_cell</td>\n",
       "    </tr>\n",
       "    <tr>\n",
       "      <th>A1-MAA000496-3_10_M-1-1</th>\n",
       "      <td>hepatocyte</td>\n",
       "      <td>bladder_cell</td>\n",
       "      <td>bladder_cell</td>\n",
       "      <td>bladder_cell</td>\n",
       "      <td>mesenchymal_stem_cell_of_adipose</td>\n",
       "      <td>fibroblast</td>\n",
       "      <td>microglial_cell</td>\n",
       "      <td>bladder_cell</td>\n",
       "      <td>bladder_cell</td>\n",
       "      <td>bladder_cell</td>\n",
       "      <td>...</td>\n",
       "      <td>bladder_cell</td>\n",
       "      <td>mesenchymal_stem_cell_of_adipose</td>\n",
       "      <td>bladder_cell</td>\n",
       "      <td>bladder_cell</td>\n",
       "      <td>bladder_cell</td>\n",
       "      <td>bladder_cell</td>\n",
       "      <td>bladder_cell</td>\n",
       "      <td>bladder_cell</td>\n",
       "      <td>stromal_cell</td>\n",
       "      <td>endothelial_cell</td>\n",
       "    </tr>\n",
       "    <tr>\n",
       "      <th>A1-MAA000549-3_8_M-1-1</th>\n",
       "      <td>basal_cell_of_epidermis</td>\n",
       "      <td>bladder_cell</td>\n",
       "      <td>bladder_urothelial_cell</td>\n",
       "      <td>basal_cell_of_epidermis</td>\n",
       "      <td>bladder_urothelial_cell</td>\n",
       "      <td>basal_cell_of_epidermis</td>\n",
       "      <td>epidermal_cell</td>\n",
       "      <td>basal_cell_of_epidermis</td>\n",
       "      <td>basal_cell_of_epidermis</td>\n",
       "      <td>basal_cell_of_epidermis</td>\n",
       "      <td>...</td>\n",
       "      <td>bladder_urothelial_cell</td>\n",
       "      <td>basal_cell_of_epidermis</td>\n",
       "      <td>keratinocyte_stem_cell</td>\n",
       "      <td>bladder_urothelial_cell</td>\n",
       "      <td>basal_cell</td>\n",
       "      <td>luminal_epithelial_cell_of_mammary_gland</td>\n",
       "      <td>luminal_epithelial_cell_of_mammary_gland</td>\n",
       "      <td>keratinocyte</td>\n",
       "      <td>basal_cell_of_epidermis</td>\n",
       "      <td>T_cell</td>\n",
       "    </tr>\n",
       "    <tr>\n",
       "      <th>A1-MAA001869-3_38_F-1-1</th>\n",
       "      <td>brain_pericyte</td>\n",
       "      <td>epithelial_cell_of_large_intestine</td>\n",
       "      <td>epithelial_cell_of_large_intestine</td>\n",
       "      <td>epithelial_cell_of_large_intestine</td>\n",
       "      <td>epithelial_cell_of_large_intestine</td>\n",
       "      <td>epithelial_cell_of_large_intestine</td>\n",
       "      <td>B_cell</td>\n",
       "      <td>epithelial_cell_of_large_intestine</td>\n",
       "      <td>cardiac_muscle_cell</td>\n",
       "      <td>cardiac_muscle_cell</td>\n",
       "      <td>...</td>\n",
       "      <td>epithelial_cell_of_large_intestine</td>\n",
       "      <td>epithelial_cell_of_large_intestine</td>\n",
       "      <td>epithelial_cell_of_large_intestine</td>\n",
       "      <td>epithelial_cell_of_large_intestine</td>\n",
       "      <td>epithelial_cell_of_large_intestine</td>\n",
       "      <td>epithelial_cell_of_large_intestine</td>\n",
       "      <td>epithelial_cell_of_large_intestine</td>\n",
       "      <td>enterocyte_of_epithelium_of_large_intestine</td>\n",
       "      <td>epithelial_cell_of_large_intestine</td>\n",
       "      <td>B_cell</td>\n",
       "    </tr>\n",
       "  </tbody>\n",
       "</table>\n",
       "<p>5 rows × 144 columns</p>\n",
       "</div>"
      ],
      "text/plain": [
       "experiment              trim=false_scaled=1000_dna_ksize=12  \\\n",
       "cell_id                                                       \n",
       "A1-B002427-3_39_F-1-1                            basal_cell   \n",
       "A1-D041914-3_8_M-1-1                           bladder_cell   \n",
       "A1-MAA000496-3_10_M-1-1                          hepatocyte   \n",
       "A1-MAA000549-3_8_M-1-1              basal_cell_of_epidermis   \n",
       "A1-MAA001869-3_38_F-1-1                      brain_pericyte   \n",
       "\n",
       "experiment              trim=false_scaled=1000_dna_ksize=15  \\\n",
       "cell_id                                                       \n",
       "A1-B002427-3_39_F-1-1                          bladder_cell   \n",
       "A1-D041914-3_8_M-1-1                             basal_cell   \n",
       "A1-MAA000496-3_10_M-1-1                        bladder_cell   \n",
       "A1-MAA000549-3_8_M-1-1                         bladder_cell   \n",
       "A1-MAA001869-3_38_F-1-1  epithelial_cell_of_large_intestine   \n",
       "\n",
       "experiment              trim=false_scaled=1000_dna_ksize=18  \\\n",
       "cell_id                                                       \n",
       "A1-B002427-3_39_F-1-1                          bladder_cell   \n",
       "A1-D041914-3_8_M-1-1       mesenchymal_stem_cell_of_adipose   \n",
       "A1-MAA000496-3_10_M-1-1                        bladder_cell   \n",
       "A1-MAA000549-3_8_M-1-1              bladder_urothelial_cell   \n",
       "A1-MAA001869-3_38_F-1-1  epithelial_cell_of_large_intestine   \n",
       "\n",
       "experiment                    trim=false_scaled=1000_dna_ksize=21  \\\n",
       "cell_id                                                             \n",
       "A1-B002427-3_39_F-1-1                                         NaN   \n",
       "A1-D041914-3_8_M-1-1     luminal_epithelial_cell_of_mammary_gland   \n",
       "A1-MAA000496-3_10_M-1-1                              bladder_cell   \n",
       "A1-MAA000549-3_8_M-1-1                    basal_cell_of_epidermis   \n",
       "A1-MAA001869-3_38_F-1-1        epithelial_cell_of_large_intestine   \n",
       "\n",
       "experiment              trim=false_scaled=1000_dna_ksize=24  \\\n",
       "cell_id                                                       \n",
       "A1-B002427-3_39_F-1-1                          bladder_cell   \n",
       "A1-D041914-3_8_M-1-1       mesenchymal_stem_cell_of_adipose   \n",
       "A1-MAA000496-3_10_M-1-1    mesenchymal_stem_cell_of_adipose   \n",
       "A1-MAA000549-3_8_M-1-1              bladder_urothelial_cell   \n",
       "A1-MAA001869-3_38_F-1-1  epithelial_cell_of_large_intestine   \n",
       "\n",
       "experiment              trim=false_scaled=1000_dna_ksize=27  \\\n",
       "cell_id                                                       \n",
       "A1-B002427-3_39_F-1-1                            basal_cell   \n",
       "A1-D041914-3_8_M-1-1                           bladder_cell   \n",
       "A1-MAA000496-3_10_M-1-1                          fibroblast   \n",
       "A1-MAA000549-3_8_M-1-1              basal_cell_of_epidermis   \n",
       "A1-MAA001869-3_38_F-1-1  epithelial_cell_of_large_intestine   \n",
       "\n",
       "experiment                        trim=false_scaled=1000_dna_ksize=3  \\\n",
       "cell_id                                                                \n",
       "A1-B002427-3_39_F-1-1    Slamf1-negative_multipotent_progenitor_cell   \n",
       "A1-D041914-3_8_M-1-1              epithelial_cell_of_large_intestine   \n",
       "A1-MAA000496-3_10_M-1-1                              microglial_cell   \n",
       "A1-MAA000549-3_8_M-1-1                                epidermal_cell   \n",
       "A1-MAA001869-3_38_F-1-1                                       B_cell   \n",
       "\n",
       "experiment              trim=false_scaled=1000_dna_ksize=30  \\\n",
       "cell_id                                                       \n",
       "A1-B002427-3_39_F-1-1                          bladder_cell   \n",
       "A1-D041914-3_8_M-1-1                           bladder_cell   \n",
       "A1-MAA000496-3_10_M-1-1                        bladder_cell   \n",
       "A1-MAA000549-3_8_M-1-1              basal_cell_of_epidermis   \n",
       "A1-MAA001869-3_38_F-1-1  epithelial_cell_of_large_intestine   \n",
       "\n",
       "experiment              trim=false_scaled=1000_dna_ksize=33  \\\n",
       "cell_id                                                       \n",
       "A1-B002427-3_39_F-1-1                                   NaN   \n",
       "A1-D041914-3_8_M-1-1                           bladder_cell   \n",
       "A1-MAA000496-3_10_M-1-1                        bladder_cell   \n",
       "A1-MAA000549-3_8_M-1-1              basal_cell_of_epidermis   \n",
       "A1-MAA001869-3_38_F-1-1                 cardiac_muscle_cell   \n",
       "\n",
       "experiment              trim=false_scaled=1000_dna_ksize=36  \\\n",
       "cell_id                                                       \n",
       "A1-B002427-3_39_F-1-1                                   NaN   \n",
       "A1-D041914-3_8_M-1-1                           bladder_cell   \n",
       "A1-MAA000496-3_10_M-1-1                        bladder_cell   \n",
       "A1-MAA000549-3_8_M-1-1              basal_cell_of_epidermis   \n",
       "A1-MAA001869-3_38_F-1-1                 cardiac_muscle_cell   \n",
       "\n",
       "experiment                            ...                 \\\n",
       "cell_id                               ...                  \n",
       "A1-B002427-3_39_F-1-1                 ...                  \n",
       "A1-D041914-3_8_M-1-1                  ...                  \n",
       "A1-MAA000496-3_10_M-1-1               ...                  \n",
       "A1-MAA000549-3_8_M-1-1                ...                  \n",
       "A1-MAA001869-3_38_F-1-1               ...                  \n",
       "\n",
       "experiment                trim=true_scaled=500_dna_ksize=30  \\\n",
       "cell_id                                                       \n",
       "A1-B002427-3_39_F-1-1                          bladder_cell   \n",
       "A1-D041914-3_8_M-1-1                           bladder_cell   \n",
       "A1-MAA000496-3_10_M-1-1                        bladder_cell   \n",
       "A1-MAA000549-3_8_M-1-1              bladder_urothelial_cell   \n",
       "A1-MAA001869-3_38_F-1-1  epithelial_cell_of_large_intestine   \n",
       "\n",
       "experiment                trim=true_scaled=500_dna_ksize=36  \\\n",
       "cell_id                                                       \n",
       "A1-B002427-3_39_F-1-1                            basal_cell   \n",
       "A1-D041914-3_8_M-1-1       mesenchymal_stem_cell_of_adipose   \n",
       "A1-MAA000496-3_10_M-1-1    mesenchymal_stem_cell_of_adipose   \n",
       "A1-MAA000549-3_8_M-1-1              basal_cell_of_epidermis   \n",
       "A1-MAA001869-3_38_F-1-1  epithelial_cell_of_large_intestine   \n",
       "\n",
       "experiment                trim=true_scaled=500_dna_ksize=39  \\\n",
       "cell_id                                                       \n",
       "A1-B002427-3_39_F-1-1                          bladder_cell   \n",
       "A1-D041914-3_8_M-1-1                           bladder_cell   \n",
       "A1-MAA000496-3_10_M-1-1                        bladder_cell   \n",
       "A1-MAA000549-3_8_M-1-1               keratinocyte_stem_cell   \n",
       "A1-MAA001869-3_38_F-1-1  epithelial_cell_of_large_intestine   \n",
       "\n",
       "experiment                trim=true_scaled=500_dna_ksize=42  \\\n",
       "cell_id                                                       \n",
       "A1-B002427-3_39_F-1-1                          bladder_cell   \n",
       "A1-D041914-3_8_M-1-1                             fibroblast   \n",
       "A1-MAA000496-3_10_M-1-1                        bladder_cell   \n",
       "A1-MAA000549-3_8_M-1-1              bladder_urothelial_cell   \n",
       "A1-MAA001869-3_38_F-1-1  epithelial_cell_of_large_intestine   \n",
       "\n",
       "experiment                trim=true_scaled=500_dna_ksize=45  \\\n",
       "cell_id                                                       \n",
       "A1-B002427-3_39_F-1-1                          bladder_cell   \n",
       "A1-D041914-3_8_M-1-1                           bladder_cell   \n",
       "A1-MAA000496-3_10_M-1-1                        bladder_cell   \n",
       "A1-MAA000549-3_8_M-1-1                           basal_cell   \n",
       "A1-MAA001869-3_38_F-1-1  epithelial_cell_of_large_intestine   \n",
       "\n",
       "experiment                      trim=true_scaled=500_dna_ksize=48  \\\n",
       "cell_id                                                             \n",
       "A1-B002427-3_39_F-1-1    luminal_epithelial_cell_of_mammary_gland   \n",
       "A1-D041914-3_8_M-1-1                                 bladder_cell   \n",
       "A1-MAA000496-3_10_M-1-1                              bladder_cell   \n",
       "A1-MAA000549-3_8_M-1-1   luminal_epithelial_cell_of_mammary_gland   \n",
       "A1-MAA001869-3_38_F-1-1        epithelial_cell_of_large_intestine   \n",
       "\n",
       "experiment                      trim=true_scaled=500_dna_ksize=54  \\\n",
       "cell_id                                                             \n",
       "A1-B002427-3_39_F-1-1                                bladder_cell   \n",
       "A1-D041914-3_8_M-1-1                                   fibroblast   \n",
       "A1-MAA000496-3_10_M-1-1                              bladder_cell   \n",
       "A1-MAA000549-3_8_M-1-1   luminal_epithelial_cell_of_mammary_gland   \n",
       "A1-MAA001869-3_38_F-1-1        epithelial_cell_of_large_intestine   \n",
       "\n",
       "experiment                         trim=true_scaled=500_dna_ksize=57  \\\n",
       "cell_id                                                                \n",
       "A1-B002427-3_39_F-1-1                                   bladder_cell   \n",
       "A1-D041914-3_8_M-1-1                                    bladder_cell   \n",
       "A1-MAA000496-3_10_M-1-1                                 bladder_cell   \n",
       "A1-MAA000549-3_8_M-1-1                                  keratinocyte   \n",
       "A1-MAA001869-3_38_F-1-1  enterocyte_of_epithelium_of_large_intestine   \n",
       "\n",
       "experiment                trim=true_scaled=500_dna_ksize=60  \\\n",
       "cell_id                                                       \n",
       "A1-B002427-3_39_F-1-1                          bladder_cell   \n",
       "A1-D041914-3_8_M-1-1                           bladder_cell   \n",
       "A1-MAA000496-3_10_M-1-1                        stromal_cell   \n",
       "A1-MAA000549-3_8_M-1-1              basal_cell_of_epidermis   \n",
       "A1-MAA001869-3_38_F-1-1  epithelial_cell_of_large_intestine   \n",
       "\n",
       "experiment              trim=true_scaled=500_dna_ksize=9  \n",
       "cell_id                                                   \n",
       "A1-B002427-3_39_F-1-1                             B_cell  \n",
       "A1-D041914-3_8_M-1-1                              T_cell  \n",
       "A1-MAA000496-3_10_M-1-1                 endothelial_cell  \n",
       "A1-MAA000549-3_8_M-1-1                            T_cell  \n",
       "A1-MAA001869-3_38_F-1-1                           B_cell  \n",
       "\n",
       "[5 rows x 144 columns]"
      ]
     },
     "execution_count": 146,
     "metadata": {},
     "output_type": "execute_result"
    }
   ],
   "source": [
    "guessed_ontology_n5_wide = guessed_ontology_n5.unstack()\n",
    "print(guessed_ontology_n5_wide.shape)\n",
    "guessed_ontology_n5_wide.head()"
   ]
  },
  {
   "cell_type": "code",
   "execution_count": 147,
   "metadata": {},
   "outputs": [
    {
     "data": {
      "text/plain": [
       "cell_id\n",
       "A1-B002427-3_39_F-1-1                      myofibroblast_cell\n",
       "A1-D041914-3_8_M-1-1                             bladder_cell\n",
       "A1-MAA000496-3_10_M-1-1                      mesenchymal_cell\n",
       "A1-MAA000549-3_8_M-1-1                         epidermal_cell\n",
       "A1-MAA001869-3_38_F-1-1    epithelial_cell_of_large_intestine\n",
       "Name: cell_ontology_class, dtype: object"
      ]
     },
     "execution_count": 147,
     "metadata": {},
     "output_type": "execute_result"
    }
   ],
   "source": [
    "cell_metadata['cell_ontology_class'].head()"
   ]
  },
  {
   "cell_type": "code",
   "execution_count": 148,
   "metadata": {},
   "outputs": [
    {
     "name": "stderr",
     "output_type": "stream",
     "text": [
      "/home/olga/miniconda3/lib/python3.6/site-packages/sklearn/metrics/classification.py:1143: UndefinedMetricWarning: Precision and F-score are ill-defined and being set to 0.0 in labels with no predicted samples.\n",
      "  'precision', 'predicted', average, warn_for)\n"
     ]
    },
    {
     "data": {
      "text/plain": [
       "0.25431751589928137"
      ]
     },
     "execution_count": 148,
     "metadata": {},
     "output_type": "execute_result"
    }
   ],
   "source": [
    "from sklearn.metrics import precision_recall_fscore_support\n",
    "\n",
    "truth = cell_metadata['cell_ontology_class'].astype(str)\n",
    "labels = sorted(truth.unique())\n",
    "predicted = guessed_ontology_n5_wide.iloc[:, 0].astype(str)\n",
    "\n",
    "\n",
    "precision, recall, fscore, support = precision_recall_fscore_support(truth, predicted, \n",
    "                                labels=labels, average='weighted')\n",
    "precision"
   ]
  },
  {
   "cell_type": "code",
   "execution_count": 159,
   "metadata": {
    "scrolled": false
   },
   "outputs": [
    {
     "name": "stdout",
     "output_type": "stream",
     "text": [
      "(144, 4)\n"
     ]
    },
    {
     "data": {
      "text/html": [
       "<div>\n",
       "<style scoped>\n",
       "    .dataframe tbody tr th:only-of-type {\n",
       "        vertical-align: middle;\n",
       "    }\n",
       "\n",
       "    .dataframe tbody tr th {\n",
       "        vertical-align: top;\n",
       "    }\n",
       "\n",
       "    .dataframe thead th {\n",
       "        text-align: right;\n",
       "    }\n",
       "</style>\n",
       "<table border=\"1\" class=\"dataframe\">\n",
       "  <thead>\n",
       "    <tr style=\"text-align: right;\">\n",
       "      <th></th>\n",
       "      <th>precision</th>\n",
       "      <th>recall</th>\n",
       "      <th>fscore</th>\n",
       "      <th>support</th>\n",
       "    </tr>\n",
       "    <tr>\n",
       "      <th>experiment</th>\n",
       "      <th></th>\n",
       "      <th></th>\n",
       "      <th></th>\n",
       "      <th></th>\n",
       "    </tr>\n",
       "  </thead>\n",
       "  <tbody>\n",
       "    <tr>\n",
       "      <th>trim=false_scaled=1000_dna_ksize=12</th>\n",
       "      <td>0.254318</td>\n",
       "      <td>0.107</td>\n",
       "      <td>0.089423</td>\n",
       "      <td>None</td>\n",
       "    </tr>\n",
       "    <tr>\n",
       "      <th>trim=false_scaled=1000_dna_ksize=15</th>\n",
       "      <td>0.587692</td>\n",
       "      <td>0.493</td>\n",
       "      <td>0.481680</td>\n",
       "      <td>None</td>\n",
       "    </tr>\n",
       "    <tr>\n",
       "      <th>trim=false_scaled=1000_dna_ksize=18</th>\n",
       "      <td>0.597231</td>\n",
       "      <td>0.518</td>\n",
       "      <td>0.498254</td>\n",
       "      <td>None</td>\n",
       "    </tr>\n",
       "    <tr>\n",
       "      <th>trim=false_scaled=1000_dna_ksize=21</th>\n",
       "      <td>0.526828</td>\n",
       "      <td>0.377</td>\n",
       "      <td>0.416493</td>\n",
       "      <td>None</td>\n",
       "    </tr>\n",
       "    <tr>\n",
       "      <th>trim=false_scaled=1000_dna_ksize=24</th>\n",
       "      <td>0.594575</td>\n",
       "      <td>0.513</td>\n",
       "      <td>0.492528</td>\n",
       "      <td>None</td>\n",
       "    </tr>\n",
       "  </tbody>\n",
       "</table>\n",
       "</div>"
      ],
      "text/plain": [
       "                                     precision  recall    fscore support\n",
       "experiment                                                              \n",
       "trim=false_scaled=1000_dna_ksize=12   0.254318   0.107  0.089423    None\n",
       "trim=false_scaled=1000_dna_ksize=15   0.587692   0.493  0.481680    None\n",
       "trim=false_scaled=1000_dna_ksize=18   0.597231   0.518  0.498254    None\n",
       "trim=false_scaled=1000_dna_ksize=21   0.526828   0.377  0.416493    None\n",
       "trim=false_scaled=1000_dna_ksize=24   0.594575   0.513  0.492528    None"
      ]
     },
     "execution_count": 159,
     "metadata": {},
     "output_type": "execute_result"
    }
   ],
   "source": [
    "import warnings\n",
    "\n",
    "def score_ontology_guesses(guessed_ontology_wide, truth=cell_metadata['cell_ontology_class'].astype(str)):\n",
    "    \n",
    "    labels = sorted(truth.unique())\n",
    "\n",
    "    # There's some crazy error here so we're ignoring it\n",
    "    with warnings.catch_warnings():\n",
    "        warnings.simplefilter(\"ignore\")\n",
    "        data = guessed_ontology_wide.apply(\n",
    "            lambda x: precision_recall_fscore_support(truth, x.astype(str), \n",
    "                                                      labels=labels, average='weighted'))\n",
    "\n",
    "    scores = pd.DataFrame(list(data.values), \n",
    "                                              columns=['precision', 'recall', 'fscore', 'support'],\n",
    "                                              index=guessed_ontology_wide.columns)\n",
    "    return scores\n",
    "\n",
    "guessed_ontology_n5_scores = score_ontology_guesses(guessed_ontology_n5_wide)\n",
    "print(guessed_ontology_n5_scores.shape)\n",
    "guessed_ontology_n5_scores.head()"
   ]
  },
  {
   "cell_type": "code",
   "execution_count": 166,
   "metadata": {},
   "outputs": [
    {
     "name": "stdout",
     "output_type": "stream",
     "text": [
      "(144, 8)\n"
     ]
    },
    {
     "data": {
      "text/html": [
       "<div>\n",
       "<style scoped>\n",
       "    .dataframe tbody tr th:only-of-type {\n",
       "        vertical-align: middle;\n",
       "    }\n",
       "\n",
       "    .dataframe tbody tr th {\n",
       "        vertical-align: top;\n",
       "    }\n",
       "\n",
       "    .dataframe thead th {\n",
       "        text-align: right;\n",
       "    }\n",
       "</style>\n",
       "<table border=\"1\" class=\"dataframe\">\n",
       "  <thead>\n",
       "    <tr style=\"text-align: right;\">\n",
       "      <th></th>\n",
       "      <th>precision</th>\n",
       "      <th>recall</th>\n",
       "      <th>fscore</th>\n",
       "      <th>support</th>\n",
       "      <th>comparison_sequence</th>\n",
       "      <th>ksize</th>\n",
       "      <th>scaled</th>\n",
       "      <th>trim</th>\n",
       "    </tr>\n",
       "    <tr>\n",
       "      <th>experiment</th>\n",
       "      <th></th>\n",
       "      <th></th>\n",
       "      <th></th>\n",
       "      <th></th>\n",
       "      <th></th>\n",
       "      <th></th>\n",
       "      <th></th>\n",
       "      <th></th>\n",
       "    </tr>\n",
       "  </thead>\n",
       "  <tbody>\n",
       "    <tr>\n",
       "      <th>trim=false_scaled=1000_dna_ksize=12</th>\n",
       "      <td>0.254318</td>\n",
       "      <td>0.107</td>\n",
       "      <td>0.089423</td>\n",
       "      <td>None</td>\n",
       "      <td>dna</td>\n",
       "      <td>12</td>\n",
       "      <td>1000</td>\n",
       "      <td>False</td>\n",
       "    </tr>\n",
       "    <tr>\n",
       "      <th>trim=false_scaled=1000_dna_ksize=15</th>\n",
       "      <td>0.587692</td>\n",
       "      <td>0.493</td>\n",
       "      <td>0.481680</td>\n",
       "      <td>None</td>\n",
       "      <td>dna</td>\n",
       "      <td>15</td>\n",
       "      <td>1000</td>\n",
       "      <td>False</td>\n",
       "    </tr>\n",
       "    <tr>\n",
       "      <th>trim=false_scaled=1000_dna_ksize=18</th>\n",
       "      <td>0.597231</td>\n",
       "      <td>0.518</td>\n",
       "      <td>0.498254</td>\n",
       "      <td>None</td>\n",
       "      <td>dna</td>\n",
       "      <td>18</td>\n",
       "      <td>1000</td>\n",
       "      <td>False</td>\n",
       "    </tr>\n",
       "    <tr>\n",
       "      <th>trim=false_scaled=1000_dna_ksize=21</th>\n",
       "      <td>0.526828</td>\n",
       "      <td>0.377</td>\n",
       "      <td>0.416493</td>\n",
       "      <td>None</td>\n",
       "      <td>dna</td>\n",
       "      <td>21</td>\n",
       "      <td>1000</td>\n",
       "      <td>False</td>\n",
       "    </tr>\n",
       "    <tr>\n",
       "      <th>trim=false_scaled=1000_dna_ksize=24</th>\n",
       "      <td>0.594575</td>\n",
       "      <td>0.513</td>\n",
       "      <td>0.492528</td>\n",
       "      <td>None</td>\n",
       "      <td>dna</td>\n",
       "      <td>24</td>\n",
       "      <td>1000</td>\n",
       "      <td>False</td>\n",
       "    </tr>\n",
       "  </tbody>\n",
       "</table>\n",
       "</div>"
      ],
      "text/plain": [
       "                                     precision  recall    fscore support  \\\n",
       "experiment                                                                 \n",
       "trim=false_scaled=1000_dna_ksize=12   0.254318   0.107  0.089423    None   \n",
       "trim=false_scaled=1000_dna_ksize=15   0.587692   0.493  0.481680    None   \n",
       "trim=false_scaled=1000_dna_ksize=18   0.597231   0.518  0.498254    None   \n",
       "trim=false_scaled=1000_dna_ksize=21   0.526828   0.377  0.416493    None   \n",
       "trim=false_scaled=1000_dna_ksize=24   0.594575   0.513  0.492528    None   \n",
       "\n",
       "                                    comparison_sequence  ksize  scaled   trim  \n",
       "experiment                                                                     \n",
       "trim=false_scaled=1000_dna_ksize=12                 dna     12    1000  False  \n",
       "trim=false_scaled=1000_dna_ksize=15                 dna     15    1000  False  \n",
       "trim=false_scaled=1000_dna_ksize=18                 dna     18    1000  False  \n",
       "trim=false_scaled=1000_dna_ksize=21                 dna     21    1000  False  \n",
       "trim=false_scaled=1000_dna_ksize=24                 dna     24    1000  False  "
      ]
     },
     "execution_count": 166,
     "metadata": {},
     "output_type": "execute_result"
    }
   ],
   "source": [
    "guessed_ontology_n5_scores_metadata = guessed_ontology_n5_scores.join(experiment_metadata)\n",
    "print(guessed_ontology_n5_scores_metadata.shape)\n",
    "guessed_ontology_n5_scores_metadata.head()"
   ]
  },
  {
   "cell_type": "code",
   "execution_count": 160,
   "metadata": {},
   "outputs": [
    {
     "name": "stdout",
     "output_type": "stream",
     "text": [
      "(144, 4)\n"
     ]
    },
    {
     "data": {
      "text/html": [
       "<div>\n",
       "<style scoped>\n",
       "    .dataframe tbody tr th:only-of-type {\n",
       "        vertical-align: middle;\n",
       "    }\n",
       "\n",
       "    .dataframe tbody tr th {\n",
       "        vertical-align: top;\n",
       "    }\n",
       "\n",
       "    .dataframe thead th {\n",
       "        text-align: right;\n",
       "    }\n",
       "</style>\n",
       "<table border=\"1\" class=\"dataframe\">\n",
       "  <thead>\n",
       "    <tr style=\"text-align: right;\">\n",
       "      <th></th>\n",
       "      <th>precision</th>\n",
       "      <th>recall</th>\n",
       "      <th>fscore</th>\n",
       "      <th>support</th>\n",
       "    </tr>\n",
       "    <tr>\n",
       "      <th>experiment</th>\n",
       "      <th></th>\n",
       "      <th></th>\n",
       "      <th></th>\n",
       "      <th></th>\n",
       "    </tr>\n",
       "  </thead>\n",
       "  <tbody>\n",
       "    <tr>\n",
       "      <th>trim=false_scaled=1000_dna_ksize=12</th>\n",
       "      <td>0.248864</td>\n",
       "      <td>0.101</td>\n",
       "      <td>0.082024</td>\n",
       "      <td>None</td>\n",
       "    </tr>\n",
       "    <tr>\n",
       "      <th>trim=false_scaled=1000_dna_ksize=15</th>\n",
       "      <td>0.599319</td>\n",
       "      <td>0.473</td>\n",
       "      <td>0.465406</td>\n",
       "      <td>None</td>\n",
       "    </tr>\n",
       "    <tr>\n",
       "      <th>trim=false_scaled=1000_dna_ksize=18</th>\n",
       "      <td>0.521497</td>\n",
       "      <td>0.491</td>\n",
       "      <td>0.457005</td>\n",
       "      <td>None</td>\n",
       "    </tr>\n",
       "    <tr>\n",
       "      <th>trim=false_scaled=1000_dna_ksize=21</th>\n",
       "      <td>0.467199</td>\n",
       "      <td>0.371</td>\n",
       "      <td>0.397123</td>\n",
       "      <td>None</td>\n",
       "    </tr>\n",
       "    <tr>\n",
       "      <th>trim=false_scaled=1000_dna_ksize=24</th>\n",
       "      <td>0.528183</td>\n",
       "      <td>0.498</td>\n",
       "      <td>0.465194</td>\n",
       "      <td>None</td>\n",
       "    </tr>\n",
       "  </tbody>\n",
       "</table>\n",
       "</div>"
      ],
      "text/plain": [
       "                                     precision  recall    fscore support\n",
       "experiment                                                              \n",
       "trim=false_scaled=1000_dna_ksize=12   0.248864   0.101  0.082024    None\n",
       "trim=false_scaled=1000_dna_ksize=15   0.599319   0.473  0.465406    None\n",
       "trim=false_scaled=1000_dna_ksize=18   0.521497   0.491  0.457005    None\n",
       "trim=false_scaled=1000_dna_ksize=21   0.467199   0.371  0.397123    None\n",
       "trim=false_scaled=1000_dna_ksize=24   0.528183   0.498  0.465194    None"
      ]
     },
     "execution_count": 160,
     "metadata": {},
     "output_type": "execute_result"
    }
   ],
   "source": [
    "guessed_ontology_n10_wide = guessed_ontology_n10.unstack()\n",
    "\n",
    "guessed_ontology_n10_scores = score_ontology_guesses(guessed_ontology_n10_wide)\n",
    "print(guessed_ontology_n10_scores.shape)\n",
    "guessed_ontology_n10_scores.head()"
   ]
  },
  {
   "cell_type": "code",
   "execution_count": 161,
   "metadata": {},
   "outputs": [
    {
     "data": {
      "text/plain": [
       "[500, 1000, 2000, 5000]"
      ]
     },
     "execution_count": 161,
     "metadata": {},
     "output_type": "execute_result"
    }
   ],
   "source": [
    "sorted(experiment_metadata['scaled'].unique())"
   ]
  },
  {
   "cell_type": "code",
   "execution_count": 162,
   "metadata": {},
   "outputs": [
    {
     "data": {
      "text/html": [
       "<div>\n",
       "<style scoped>\n",
       "    .dataframe tbody tr th:only-of-type {\n",
       "        vertical-align: middle;\n",
       "    }\n",
       "\n",
       "    .dataframe tbody tr th {\n",
       "        vertical-align: top;\n",
       "    }\n",
       "\n",
       "    .dataframe thead th {\n",
       "        text-align: right;\n",
       "    }\n",
       "</style>\n",
       "<table border=\"1\" class=\"dataframe\">\n",
       "  <thead>\n",
       "    <tr style=\"text-align: right;\">\n",
       "      <th></th>\n",
       "      <th>precision</th>\n",
       "      <th>recall</th>\n",
       "      <th>fscore</th>\n",
       "      <th>support</th>\n",
       "      <th>comparison_sequence</th>\n",
       "      <th>ksize</th>\n",
       "      <th>scaled</th>\n",
       "      <th>trim</th>\n",
       "    </tr>\n",
       "    <tr>\n",
       "      <th>experiment</th>\n",
       "      <th></th>\n",
       "      <th></th>\n",
       "      <th></th>\n",
       "      <th></th>\n",
       "      <th></th>\n",
       "      <th></th>\n",
       "      <th></th>\n",
       "      <th></th>\n",
       "    </tr>\n",
       "  </thead>\n",
       "  <tbody>\n",
       "    <tr>\n",
       "      <th>trim=false_scaled=1000_dna_ksize=12</th>\n",
       "      <td>0.248864</td>\n",
       "      <td>0.101</td>\n",
       "      <td>0.082024</td>\n",
       "      <td>None</td>\n",
       "      <td>dna</td>\n",
       "      <td>12</td>\n",
       "      <td>1000</td>\n",
       "      <td>False</td>\n",
       "    </tr>\n",
       "    <tr>\n",
       "      <th>trim=false_scaled=1000_dna_ksize=15</th>\n",
       "      <td>0.599319</td>\n",
       "      <td>0.473</td>\n",
       "      <td>0.465406</td>\n",
       "      <td>None</td>\n",
       "      <td>dna</td>\n",
       "      <td>15</td>\n",
       "      <td>1000</td>\n",
       "      <td>False</td>\n",
       "    </tr>\n",
       "    <tr>\n",
       "      <th>trim=false_scaled=1000_dna_ksize=18</th>\n",
       "      <td>0.521497</td>\n",
       "      <td>0.491</td>\n",
       "      <td>0.457005</td>\n",
       "      <td>None</td>\n",
       "      <td>dna</td>\n",
       "      <td>18</td>\n",
       "      <td>1000</td>\n",
       "      <td>False</td>\n",
       "    </tr>\n",
       "    <tr>\n",
       "      <th>trim=false_scaled=1000_dna_ksize=21</th>\n",
       "      <td>0.467199</td>\n",
       "      <td>0.371</td>\n",
       "      <td>0.397123</td>\n",
       "      <td>None</td>\n",
       "      <td>dna</td>\n",
       "      <td>21</td>\n",
       "      <td>1000</td>\n",
       "      <td>False</td>\n",
       "    </tr>\n",
       "    <tr>\n",
       "      <th>trim=false_scaled=1000_dna_ksize=24</th>\n",
       "      <td>0.528183</td>\n",
       "      <td>0.498</td>\n",
       "      <td>0.465194</td>\n",
       "      <td>None</td>\n",
       "      <td>dna</td>\n",
       "      <td>24</td>\n",
       "      <td>1000</td>\n",
       "      <td>False</td>\n",
       "    </tr>\n",
       "  </tbody>\n",
       "</table>\n",
       "</div>"
      ],
      "text/plain": [
       "                                     precision  recall    fscore support  \\\n",
       "experiment                                                                 \n",
       "trim=false_scaled=1000_dna_ksize=12   0.248864   0.101  0.082024    None   \n",
       "trim=false_scaled=1000_dna_ksize=15   0.599319   0.473  0.465406    None   \n",
       "trim=false_scaled=1000_dna_ksize=18   0.521497   0.491  0.457005    None   \n",
       "trim=false_scaled=1000_dna_ksize=21   0.467199   0.371  0.397123    None   \n",
       "trim=false_scaled=1000_dna_ksize=24   0.528183   0.498  0.465194    None   \n",
       "\n",
       "                                    comparison_sequence  ksize  scaled   trim  \n",
       "experiment                                                                     \n",
       "trim=false_scaled=1000_dna_ksize=12                 dna     12    1000  False  \n",
       "trim=false_scaled=1000_dna_ksize=15                 dna     15    1000  False  \n",
       "trim=false_scaled=1000_dna_ksize=18                 dna     18    1000  False  \n",
       "trim=false_scaled=1000_dna_ksize=21                 dna     21    1000  False  \n",
       "trim=false_scaled=1000_dna_ksize=24                 dna     24    1000  False  "
      ]
     },
     "execution_count": 162,
     "metadata": {},
     "output_type": "execute_result"
    }
   ],
   "source": [
    "guessed_ontology_n10_scores_metadata = guessed_ontology_n10_scores.join(experiment_metadata)\n",
    "guessed_ontology_n10_scores_metadata.head()"
   ]
  },
  {
   "cell_type": "code",
   "execution_count": 168,
   "metadata": {},
   "outputs": [
    {
     "name": "stderr",
     "output_type": "stream",
     "text": [
      "/home/olga/miniconda3/lib/python3.6/site-packages/seaborn/axisgrid.py:715: UserWarning: Using the pointplot function without specifying `order` is likely to produce an incorrect plot.\n",
      "  warnings.warn(warning)\n"
     ]
    },
    {
     "data": {
      "text/plain": [
       "<seaborn.axisgrid.FacetGrid at 0x7f3701bf3588>"
      ]
     },
     "execution_count": 168,
     "metadata": {},
     "output_type": "execute_result"
    },
    {
     "data": {
      "image/png": "[encoded data removed]",
      "text/plain": [
       "<Figure size 480.75x216 with 2 Axes>"
      ]
     },
     "metadata": {},
     "output_type": "display_data"
    }
   ],
   "source": [
    "g = sns.FacetGrid(guessed_ontology_n10_scores_metadata, \n",
    "                  col='trim', palette='viridis',\n",
    "                  hue='ksize', sharex=False, sharey=False)\n",
    "g.map(sns.pointplot, 'scaled', 'precision', )\n",
    "g.add_legend()"
   ]
  },
  {
   "cell_type": "code",
   "execution_count": 167,
   "metadata": {
    "scrolled": false
   },
   "outputs": [
    {
     "name": "stderr",
     "output_type": "stream",
     "text": [
      "/home/olga/miniconda3/lib/python3.6/site-packages/seaborn/axisgrid.py:715: UserWarning: Using the pointplot function without specifying `order` is likely to produce an incorrect plot.\n",
      "  warnings.warn(warning)\n"
     ]
    },
    {
     "data": {
      "text/plain": [
       "<seaborn.axisgrid.FacetGrid at 0x7f3701ede2b0>"
      ]
     },
     "execution_count": 167,
     "metadata": {},
     "output_type": "execute_result"
    },
    {
     "data": {
      "image/png": "[encoded data removed]",
      "text/plain": [
       "<Figure size 480.75x216 with 2 Axes>"
      ]
     },
     "metadata": {},
     "output_type": "display_data"
    }
   ],
   "source": [
    "g = sns.FacetGrid(guessed_ontology_n5_scores_metadata, \n",
    "                  col='trim', palette='viridis',\n",
    "                  hue='ksize', sharex=False, sharey=False)\n",
    "g.map(sns.pointplot, 'scaled', 'precision', )\n",
    "g.add_legend()"
   ]
  },
  {
   "cell_type": "code",
   "execution_count": 164,
   "metadata": {},
   "outputs": [
    {
     "name": "stderr",
     "output_type": "stream",
     "text": [
      "/home/olga/miniconda3/lib/python3.6/site-packages/seaborn/axisgrid.py:715: UserWarning: Using the pointplot function without specifying `order` is likely to produce an incorrect plot.\n",
      "  warnings.warn(warning)\n"
     ]
    },
    {
     "data": {
      "text/plain": [
       "<seaborn.axisgrid.FacetGrid at 0x7f37024ad668>"
      ]
     },
     "execution_count": 164,
     "metadata": {},
     "output_type": "execute_result"
    },
    {
     "data": {
      "image/png": "[encoded data removed]",
      "text/plain": [
       "<Figure size 480.75x216 with 2 Axes>"
      ]
     },
     "metadata": {},
     "output_type": "display_data"
    }
   ],
   "source": [
    "g = sns.FacetGrid(guessed_ontology_n10_scores_metadata, \n",
    "                  col='trim', palette='viridis',\n",
    "                  hue='ksize', sharex=False, sharey=False)\n",
    "g.map(sns.pointplot, 'scaled', 'recall', )\n",
    "g.add_legend()"
   ]
  },
  {
   "cell_type": "code",
   "execution_count": 165,
   "metadata": {},
   "outputs": [
    {
     "name": "stderr",
     "output_type": "stream",
     "text": [
      "/home/olga/miniconda3/lib/python3.6/site-packages/seaborn/axisgrid.py:715: UserWarning: Using the pointplot function without specifying `order` is likely to produce an incorrect plot.\n",
      "  warnings.warn(warning)\n"
     ]
    },
    {
     "data": {
      "text/plain": [
       "<seaborn.axisgrid.FacetGrid at 0x7f37021913c8>"
      ]
     },
     "execution_count": 165,
     "metadata": {},
     "output_type": "execute_result"
    },
    {
     "data": {
      "image/png": "[encoded data removed]",
      "text/plain": [
       "<Figure size 480.75x216 with 2 Axes>"
      ]
     },
     "metadata": {},
     "output_type": "display_data"
    }
   ],
   "source": [
    "g = sns.FacetGrid(guessed_ontology_n10_scores_metadata, \n",
    "                  col='trim', palette='viridis',\n",
    "                  hue='ksize', sharex=False, sharey=False)\n",
    "g.map(sns.pointplot, 'scaled', 'fscore' )\n",
    "g.add_legend()"
   ]
  },
  {
   "cell_type": "code",
   "execution_count": 156,
   "metadata": {},
   "outputs": [
    {
     "data": {
      "text/plain": [
       "<seaborn.axisgrid.FacetGrid at 0x7f3702ab90f0>"
      ]
     },
     "execution_count": 156,
     "metadata": {},
     "output_type": "execute_result"
    },
    {
     "data": {
      "image/png": "[encoded data removed]",
      "text/plain": [
       "<Figure size 480.75x216 with 2 Axes>"
      ]
     },
     "metadata": {},
     "output_type": "display_data"
    }
   ],
   "source": [
    "g = sns.FacetGrid(guessed_ontology_n10_scores_metadata, \n",
    "                  col='trim', palette='viridis',\n",
    "                  hue='ksize', sharex=False, sharey=False)\n",
    "g.map(sns.regplot, 'scaled', 'fscore', lowess=True)\n",
    "g.set(xlim=(0, 5500))\n",
    "g.add_legend()"
   ]
  },
  {
   "cell_type": "code",
   "execution_count": 171,
   "metadata": {},
   "outputs": [
    {
     "name": "stderr",
     "output_type": "stream",
     "text": [
      "/home/olga/miniconda3/lib/python3.6/site-packages/seaborn/axisgrid.py:715: UserWarning: Using the pointplot function without specifying `order` is likely to produce an incorrect plot.\n",
      "  warnings.warn(warning)\n"
     ]
    },
    {
     "data": {
      "text/plain": [
       "<seaborn.axisgrid.FacetGrid at 0x7f37015f2240>"
      ]
     },
     "execution_count": 171,
     "metadata": {},
     "output_type": "execute_result"
    },
    {
     "data": {
      "image/png": "[encoded data removed]",
      "text/plain": [
       "<Figure size 926.125x216 with 4 Axes>"
      ]
     },
     "metadata": {},
     "output_type": "display_data"
    }
   ],
   "source": [
    "g = sns.FacetGrid(guessed_ontology_n5_scores_metadata, \n",
    "                  col='scaled',\n",
    "                  hue='trim', sharex=False, sharey=False)\n",
    "g.map(sns.pointplot, 'ksize', 'fscore')\n",
    "# g.set(xlim=(0, 5500))\n",
    "g.add_legend()"
   ]
  },
  {
   "cell_type": "code",
   "execution_count": 169,
   "metadata": {},
   "outputs": [
    {
     "data": {
      "text/plain": [
       "<seaborn.axisgrid.FacetGrid at 0x7f3701912748>"
      ]
     },
     "execution_count": 169,
     "metadata": {},
     "output_type": "execute_result"
    },
    {
     "data": {
      "image/png": "[encoded data removed]",
      "text/plain": [
       "<Figure size 926.125x216 with 4 Axes>"
      ]
     },
     "metadata": {},
     "output_type": "display_data"
    }
   ],
   "source": [
    "g = sns.FacetGrid(guessed_ontology_n5_scores_metadata, \n",
    "                  col='scaled',\n",
    "                  hue='trim', sharex=False, sharey=False)\n",
    "g.map(sns.regplot, 'ksize', 'fscore', lowess=True)\n",
    "# g.set(xlim=(0, 5500))\n",
    "g.add_legend()"
   ]
  },
  {
   "cell_type": "code",
   "execution_count": 170,
   "metadata": {},
   "outputs": [
    {
     "data": {
      "text/plain": [
       "<seaborn.axisgrid.FacetGrid at 0x7f37017c9780>"
      ]
     },
     "execution_count": 170,
     "metadata": {},
     "output_type": "execute_result"
    },
    {
     "data": {
      "image/png": "[encoded data removed]",
      "text/plain": [
       "<Figure size 926.125x216 with 4 Axes>"
      ]
     },
     "metadata": {},
     "output_type": "display_data"
    }
   ],
   "source": [
    "g = sns.FacetGrid(guessed_ontology_n10_scores_metadata, \n",
    "                  col='scaled',\n",
    "                  hue='trim', sharex=False, sharey=False)\n",
    "g.map(sns.regplot, 'ksize', 'fscore', lowess=True)\n",
    "# g.set(xlim=(0, 5500))\n",
    "g.add_legend()"
   ]
  },
  {
   "cell_type": "code",
   "execution_count": 158,
   "metadata": {},
   "outputs": [],
   "source": [
    "# trim_true_scaled1100_dna_ksize_18 = pd.read_csv('s3://olgabot-maca/facs/sourmash_compare_no_track_abundance/trim=true_scaled=1100_dna_ksize=18.csv')\n",
    "# print(trim_true_scaled1100_dna_ksize_18.shape)\n",
    "# trim_true_scaled1100_dna_ksize_18.head()"
   ]
  },
  {
   "cell_type": "code",
   "execution_count": 132,
   "metadata": {},
   "outputs": [
    {
     "data": {
      "text/plain": [
       "1"
      ]
     },
     "execution_count": 132,
     "metadata": {},
     "output_type": "execute_result"
    }
   ],
   "source": [
    "(cell_ids == 'A1-B002427-3_39_F-1-1').sum()"
   ]
  },
  {
   "cell_type": "code",
   "execution_count": 133,
   "metadata": {},
   "outputs": [
    {
     "data": {
      "text/html": [
       "<div>\n",
       "<style scoped>\n",
       "    .dataframe tbody tr th:only-of-type {\n",
       "        vertical-align: middle;\n",
       "    }\n",
       "\n",
       "    .dataframe tbody tr th {\n",
       "        vertical-align: top;\n",
       "    }\n",
       "\n",
       "    .dataframe thead th {\n",
       "        text-align: right;\n",
       "    }\n",
       "</style>\n",
       "<table border=\"1\" class=\"dataframe\">\n",
       "  <thead>\n",
       "    <tr style=\"text-align: right;\">\n",
       "      <th></th>\n",
       "      <th>H5-B000127-3_38_F-1-1</th>\n",
       "      <th>E18-MAA000908-3_10_M-1-1</th>\n",
       "      <th>E5-D042479-3_8_M-1-1</th>\n",
       "      <th>L1-D042475-3_9_M-1-1</th>\n",
       "      <th>G15-D042475-3_9_M-1-1</th>\n",
       "      <th>A12-B001689-3_38_F-1-1</th>\n",
       "      <th>K15-MAA000907-3_11_M-1-1</th>\n",
       "      <th>I6-MAA000884-3_10_M-1-1</th>\n",
       "      <th>I2-B002438-3_38_F-1-1</th>\n",
       "      <th>P8-MAA000571-3_9_M-1-1</th>\n",
       "      <th>...</th>\n",
       "      <th>N9-MAA000593-3_8_M-1-1</th>\n",
       "      <th>A2-MAA000909-3_10_M-1-1</th>\n",
       "      <th>I17-MAA000920-3_11_M-1-1</th>\n",
       "      <th>P19-MAA000593-3_8_M-1-1</th>\n",
       "      <th>K13-MAA000442-3_11_M-1-1</th>\n",
       "      <th>D17-MAA000617-3_10_M-1-1</th>\n",
       "      <th>M7-MAA000531-3_8_M-1-1</th>\n",
       "      <th>F3-MAA000848-3_10_M-1-1</th>\n",
       "      <th>G6-MAA001871-3_39_F-1-1</th>\n",
       "      <th>F9-MAA000611-3_8_M-1-1</th>\n",
       "    </tr>\n",
       "  </thead>\n",
       "  <tbody>\n",
       "    <tr>\n",
       "      <th>H5-B000127-3_38_F-1-1</th>\n",
       "      <td>1.000000</td>\n",
       "      <td>0.027140</td>\n",
       "      <td>0.038163</td>\n",
       "      <td>0.034971</td>\n",
       "      <td>0.032866</td>\n",
       "      <td>0.037230</td>\n",
       "      <td>0.036039</td>\n",
       "      <td>0.031600</td>\n",
       "      <td>0.028872</td>\n",
       "      <td>0.022105</td>\n",
       "      <td>...</td>\n",
       "      <td>0.033259</td>\n",
       "      <td>0.026113</td>\n",
       "      <td>0.027120</td>\n",
       "      <td>0.037776</td>\n",
       "      <td>0.038759</td>\n",
       "      <td>0.025873</td>\n",
       "      <td>0.035129</td>\n",
       "      <td>0.024869</td>\n",
       "      <td>0.023591</td>\n",
       "      <td>0.023699</td>\n",
       "    </tr>\n",
       "    <tr>\n",
       "      <th>E18-MAA000908-3_10_M-1-1</th>\n",
       "      <td>0.027140</td>\n",
       "      <td>1.000000</td>\n",
       "      <td>0.037292</td>\n",
       "      <td>0.044087</td>\n",
       "      <td>0.024841</td>\n",
       "      <td>0.031663</td>\n",
       "      <td>0.025094</td>\n",
       "      <td>0.037032</td>\n",
       "      <td>0.041199</td>\n",
       "      <td>0.029072</td>\n",
       "      <td>...</td>\n",
       "      <td>0.033584</td>\n",
       "      <td>0.049507</td>\n",
       "      <td>0.046187</td>\n",
       "      <td>0.034700</td>\n",
       "      <td>0.034724</td>\n",
       "      <td>0.034234</td>\n",
       "      <td>0.052846</td>\n",
       "      <td>0.039724</td>\n",
       "      <td>0.050605</td>\n",
       "      <td>0.049275</td>\n",
       "    </tr>\n",
       "    <tr>\n",
       "      <th>E5-D042479-3_8_M-1-1</th>\n",
       "      <td>0.038163</td>\n",
       "      <td>0.037292</td>\n",
       "      <td>1.000000</td>\n",
       "      <td>0.052959</td>\n",
       "      <td>0.043952</td>\n",
       "      <td>0.051118</td>\n",
       "      <td>0.041680</td>\n",
       "      <td>0.048105</td>\n",
       "      <td>0.047342</td>\n",
       "      <td>0.030516</td>\n",
       "      <td>...</td>\n",
       "      <td>0.055129</td>\n",
       "      <td>0.053896</td>\n",
       "      <td>0.043088</td>\n",
       "      <td>0.059946</td>\n",
       "      <td>0.054306</td>\n",
       "      <td>0.037975</td>\n",
       "      <td>0.053315</td>\n",
       "      <td>0.043964</td>\n",
       "      <td>0.050330</td>\n",
       "      <td>0.048903</td>\n",
       "    </tr>\n",
       "    <tr>\n",
       "      <th>L1-D042475-3_9_M-1-1</th>\n",
       "      <td>0.034971</td>\n",
       "      <td>0.044087</td>\n",
       "      <td>0.052959</td>\n",
       "      <td>1.000000</td>\n",
       "      <td>0.036335</td>\n",
       "      <td>0.045522</td>\n",
       "      <td>0.037773</td>\n",
       "      <td>0.049140</td>\n",
       "      <td>0.063775</td>\n",
       "      <td>0.032409</td>\n",
       "      <td>...</td>\n",
       "      <td>0.044549</td>\n",
       "      <td>0.064648</td>\n",
       "      <td>0.074038</td>\n",
       "      <td>0.045044</td>\n",
       "      <td>0.048865</td>\n",
       "      <td>0.040992</td>\n",
       "      <td>0.084092</td>\n",
       "      <td>0.047597</td>\n",
       "      <td>0.061502</td>\n",
       "      <td>0.061103</td>\n",
       "    </tr>\n",
       "    <tr>\n",
       "      <th>G15-D042475-3_9_M-1-1</th>\n",
       "      <td>0.032866</td>\n",
       "      <td>0.024841</td>\n",
       "      <td>0.043952</td>\n",
       "      <td>0.036335</td>\n",
       "      <td>1.000000</td>\n",
       "      <td>0.036492</td>\n",
       "      <td>0.038382</td>\n",
       "      <td>0.032858</td>\n",
       "      <td>0.027301</td>\n",
       "      <td>0.020083</td>\n",
       "      <td>...</td>\n",
       "      <td>0.040848</td>\n",
       "      <td>0.026894</td>\n",
       "      <td>0.025268</td>\n",
       "      <td>0.046512</td>\n",
       "      <td>0.047159</td>\n",
       "      <td>0.026143</td>\n",
       "      <td>0.033757</td>\n",
       "      <td>0.022667</td>\n",
       "      <td>0.022505</td>\n",
       "      <td>0.023941</td>\n",
       "    </tr>\n",
       "  </tbody>\n",
       "</table>\n",
       "<p>5 rows × 993 columns</p>\n",
       "</div>"
      ],
      "text/plain": [
       "                          H5-B000127-3_38_F-1-1  E18-MAA000908-3_10_M-1-1  \\\n",
       "H5-B000127-3_38_F-1-1                  1.000000                  0.027140   \n",
       "E18-MAA000908-3_10_M-1-1               0.027140                  1.000000   \n",
       "E5-D042479-3_8_M-1-1                   0.038163                  0.037292   \n",
       "L1-D042475-3_9_M-1-1                   0.034971                  0.044087   \n",
       "G15-D042475-3_9_M-1-1                  0.032866                  0.024841   \n",
       "\n",
       "                          E5-D042479-3_8_M-1-1  L1-D042475-3_9_M-1-1  \\\n",
       "H5-B000127-3_38_F-1-1                 0.038163              0.034971   \n",
       "E18-MAA000908-3_10_M-1-1              0.037292              0.044087   \n",
       "E5-D042479-3_8_M-1-1                  1.000000              0.052959   \n",
       "L1-D042475-3_9_M-1-1                  0.052959              1.000000   \n",
       "G15-D042475-3_9_M-1-1                 0.043952              0.036335   \n",
       "\n",
       "                          G15-D042475-3_9_M-1-1  A12-B001689-3_38_F-1-1  \\\n",
       "H5-B000127-3_38_F-1-1                  0.032866                0.037230   \n",
       "E18-MAA000908-3_10_M-1-1               0.024841                0.031663   \n",
       "E5-D042479-3_8_M-1-1                   0.043952                0.051118   \n",
       "L1-D042475-3_9_M-1-1                   0.036335                0.045522   \n",
       "G15-D042475-3_9_M-1-1                  1.000000                0.036492   \n",
       "\n",
       "                          K15-MAA000907-3_11_M-1-1  I6-MAA000884-3_10_M-1-1  \\\n",
       "H5-B000127-3_38_F-1-1                     0.036039                 0.031600   \n",
       "E18-MAA000908-3_10_M-1-1                  0.025094                 0.037032   \n",
       "E5-D042479-3_8_M-1-1                      0.041680                 0.048105   \n",
       "L1-D042475-3_9_M-1-1                      0.037773                 0.049140   \n",
       "G15-D042475-3_9_M-1-1                     0.038382                 0.032858   \n",
       "\n",
       "                          I2-B002438-3_38_F-1-1  P8-MAA000571-3_9_M-1-1  \\\n",
       "H5-B000127-3_38_F-1-1                  0.028872                0.022105   \n",
       "E18-MAA000908-3_10_M-1-1               0.041199                0.029072   \n",
       "E5-D042479-3_8_M-1-1                   0.047342                0.030516   \n",
       "L1-D042475-3_9_M-1-1                   0.063775                0.032409   \n",
       "G15-D042475-3_9_M-1-1                  0.027301                0.020083   \n",
       "\n",
       "                                   ...            N9-MAA000593-3_8_M-1-1  \\\n",
       "H5-B000127-3_38_F-1-1              ...                          0.033259   \n",
       "E18-MAA000908-3_10_M-1-1           ...                          0.033584   \n",
       "E5-D042479-3_8_M-1-1               ...                          0.055129   \n",
       "L1-D042475-3_9_M-1-1               ...                          0.044549   \n",
       "G15-D042475-3_9_M-1-1              ...                          0.040848   \n",
       "\n",
       "                          A2-MAA000909-3_10_M-1-1  I17-MAA000920-3_11_M-1-1  \\\n",
       "H5-B000127-3_38_F-1-1                    0.026113                  0.027120   \n",
       "E18-MAA000908-3_10_M-1-1                 0.049507                  0.046187   \n",
       "E5-D042479-3_8_M-1-1                     0.053896                  0.043088   \n",
       "L1-D042475-3_9_M-1-1                     0.064648                  0.074038   \n",
       "G15-D042475-3_9_M-1-1                    0.026894                  0.025268   \n",
       "\n",
       "                          P19-MAA000593-3_8_M-1-1  K13-MAA000442-3_11_M-1-1  \\\n",
       "H5-B000127-3_38_F-1-1                    0.037776                  0.038759   \n",
       "E18-MAA000908-3_10_M-1-1                 0.034700                  0.034724   \n",
       "E5-D042479-3_8_M-1-1                     0.059946                  0.054306   \n",
       "L1-D042475-3_9_M-1-1                     0.045044                  0.048865   \n",
       "G15-D042475-3_9_M-1-1                    0.046512                  0.047159   \n",
       "\n",
       "                          D17-MAA000617-3_10_M-1-1  M7-MAA000531-3_8_M-1-1  \\\n",
       "H5-B000127-3_38_F-1-1                     0.025873                0.035129   \n",
       "E18-MAA000908-3_10_M-1-1                  0.034234                0.052846   \n",
       "E5-D042479-3_8_M-1-1                      0.037975                0.053315   \n",
       "L1-D042475-3_9_M-1-1                      0.040992                0.084092   \n",
       "G15-D042475-3_9_M-1-1                     0.026143                0.033757   \n",
       "\n",
       "                          F3-MAA000848-3_10_M-1-1  G6-MAA001871-3_39_F-1-1  \\\n",
       "H5-B000127-3_38_F-1-1                    0.024869                 0.023591   \n",
       "E18-MAA000908-3_10_M-1-1                 0.039724                 0.050605   \n",
       "E5-D042479-3_8_M-1-1                     0.043964                 0.050330   \n",
       "L1-D042475-3_9_M-1-1                     0.047597                 0.061502   \n",
       "G15-D042475-3_9_M-1-1                    0.022667                 0.022505   \n",
       "\n",
       "                          F9-MAA000611-3_8_M-1-1  \n",
       "H5-B000127-3_38_F-1-1                   0.023699  \n",
       "E18-MAA000908-3_10_M-1-1                0.049275  \n",
       "E5-D042479-3_8_M-1-1                    0.048903  \n",
       "L1-D042475-3_9_M-1-1                    0.061103  \n",
       "G15-D042475-3_9_M-1-1                   0.023941  \n",
       "\n",
       "[5 rows x 993 columns]"
      ]
     },
     "execution_count": 133,
     "metadata": {},
     "output_type": "execute_result"
    }
   ],
   "source": [
    "cell_ids = df.columns.str.split('|').str[0]\n",
    "cell_ids\n",
    "trim_true_scaled1100_dna_ksize_18.columns = trim_true_scaled1100_dna_ksize_18.index = cell_ids\n",
    "trim_true_scaled1100_dna_ksize_18.head()"
   ]
  },
  {
   "cell_type": "code",
   "execution_count": 16,
   "metadata": {},
   "outputs": [
    {
     "name": "stdout",
     "output_type": "stream",
     "text": [
      "(993, 5)\n"
     ]
    },
    {
     "data": {
      "text/html": [
       "<div>\n",
       "<style scoped>\n",
       "    .dataframe tbody tr th:only-of-type {\n",
       "        vertical-align: middle;\n",
       "    }\n",
       "\n",
       "    .dataframe tbody tr th {\n",
       "        vertical-align: top;\n",
       "    }\n",
       "\n",
       "    .dataframe thead th {\n",
       "        text-align: right;\n",
       "    }\n",
       "</style>\n",
       "<table border=\"1\" class=\"dataframe\">\n",
       "  <thead>\n",
       "    <tr style=\"text-align: right;\">\n",
       "      <th>column</th>\n",
       "      <th>cell_ontology_class</th>\n",
       "      <th>free_annotation</th>\n",
       "      <th>subtissue</th>\n",
       "      <th>tissue</th>\n",
       "      <th>cell_ontology_free_annotation</th>\n",
       "    </tr>\n",
       "    <tr>\n",
       "      <th>level_0</th>\n",
       "      <th></th>\n",
       "      <th></th>\n",
       "      <th></th>\n",
       "      <th></th>\n",
       "      <th></th>\n",
       "    </tr>\n",
       "  </thead>\n",
       "  <tbody>\n",
       "    <tr>\n",
       "      <th>0</th>\n",
       "      <td>endothelial_cell</td>\n",
       "      <td>NA</td>\n",
       "      <td>SCAT</td>\n",
       "      <td>Fat</td>\n",
       "      <td>endothelial_cell (NA)</td>\n",
       "    </tr>\n",
       "    <tr>\n",
       "      <th>1</th>\n",
       "      <td>endothelial_cell</td>\n",
       "      <td>NA</td>\n",
       "      <td>NA</td>\n",
       "      <td>Aorta</td>\n",
       "      <td>endothelial_cell (NA)</td>\n",
       "    </tr>\n",
       "    <tr>\n",
       "      <th>2</th>\n",
       "      <td>precursor_B_cell</td>\n",
       "      <td>pre-B_cell_</td>\n",
       "      <td>B-cells</td>\n",
       "      <td>Marrow</td>\n",
       "      <td>precursor_B_cell (pre-B_cell_)</td>\n",
       "    </tr>\n",
       "    <tr>\n",
       "      <th>3</th>\n",
       "      <td>mesenchymal_cell</td>\n",
       "      <td>NA</td>\n",
       "      <td>NA</td>\n",
       "      <td>Trachea</td>\n",
       "      <td>mesenchymal_cell (NA)</td>\n",
       "    </tr>\n",
       "    <tr>\n",
       "      <th>4</th>\n",
       "      <td>blood_cell</td>\n",
       "      <td>NA</td>\n",
       "      <td>NA</td>\n",
       "      <td>Trachea</td>\n",
       "      <td>blood_cell (NA)</td>\n",
       "    </tr>\n",
       "  </tbody>\n",
       "</table>\n",
       "</div>"
      ],
      "text/plain": [
       "column  cell_ontology_class free_annotation subtissue   tissue  \\\n",
       "level_0                                                          \n",
       "0          endothelial_cell              NA      SCAT      Fat   \n",
       "1          endothelial_cell              NA        NA    Aorta   \n",
       "2          precursor_B_cell     pre-B_cell_   B-cells   Marrow   \n",
       "3          mesenchymal_cell              NA        NA  Trachea   \n",
       "4                blood_cell              NA        NA  Trachea   \n",
       "\n",
       "column    cell_ontology_free_annotation  \n",
       "level_0                                  \n",
       "0                 endothelial_cell (NA)  \n",
       "1                 endothelial_cell (NA)  \n",
       "2        precursor_B_cell (pre-B_cell_)  \n",
       "3                 mesenchymal_cell (NA)  \n",
       "4                       blood_cell (NA)  "
      ]
     },
     "execution_count": 16,
     "metadata": {},
     "output_type": "execute_result"
    }
   ],
   "source": [
    "from extract_metadata import extract_cell_metadata\n",
    "\n",
    "trim_true_scaled1100_dna_ksize_18_metadata = extract_cell_metadata(df.columns)\n",
    "\n",
    "print(trim_true_scaled1100_dna_ksize_18_metadata.shape)\n",
    "trim_true_scaled1100_dna_ksize_18_metadata.head()"
   ]
  },
  {
   "cell_type": "code",
   "execution_count": 9,
   "metadata": {},
   "outputs": [
    {
     "data": {
      "text/plain": [
       "trim=false_scaled=1000_dna_ksize=15    False\n",
       "trim=false_scaled=1000_dna_ksize=15    False\n",
       "trim=false_scaled=1000_dna_ksize=15    False\n",
       "trim=false_scaled=1000_dna_ksize=15    False\n",
       "trim=false_scaled=1000_dna_ksize=15    False\n",
       "Name: trim, dtype: bool"
      ]
     },
     "execution_count": 9,
     "metadata": {},
     "output_type": "execute_result"
    }
   ],
   "source": [
    "trimmed_rows.head()"
   ]
  },
  {
   "cell_type": "markdown",
   "metadata": {},
   "source": [
    "## Look at similarities relative to bladder mesenchymal cell"
   ]
  },
  {
   "cell_type": "code",
   "execution_count": 179,
   "metadata": {},
   "outputs": [
    {
     "data": {
      "text/html": [
       "<div>\n",
       "<style scoped>\n",
       "    .dataframe tbody tr th:only-of-type {\n",
       "        vertical-align: middle;\n",
       "    }\n",
       "\n",
       "    .dataframe tbody tr th {\n",
       "        vertical-align: top;\n",
       "    }\n",
       "\n",
       "    .dataframe thead th {\n",
       "        text-align: right;\n",
       "    }\n",
       "</style>\n",
       "<table border=\"1\" class=\"dataframe\">\n",
       "  <thead>\n",
       "    <tr style=\"text-align: right;\">\n",
       "      <th></th>\n",
       "      <th>tissue</th>\n",
       "      <th>subtissue</th>\n",
       "      <th>cell_ontology_class</th>\n",
       "      <th>free_annotation</th>\n",
       "      <th>cell_ontology_free_annotation</th>\n",
       "    </tr>\n",
       "    <tr>\n",
       "      <th>cell_id</th>\n",
       "      <th></th>\n",
       "      <th></th>\n",
       "      <th></th>\n",
       "      <th></th>\n",
       "      <th></th>\n",
       "    </tr>\n",
       "  </thead>\n",
       "  <tbody>\n",
       "    <tr>\n",
       "      <th>A1-B002427-3_39_F-1-1</th>\n",
       "      <td>Heart</td>\n",
       "      <td>LA</td>\n",
       "      <td>myofibroblast_cell</td>\n",
       "      <td>NaN</td>\n",
       "      <td>myofibroblast_cell (NA)</td>\n",
       "    </tr>\n",
       "    <tr>\n",
       "      <th>A1-D041914-3_8_M-1-1</th>\n",
       "      <td>Bladder</td>\n",
       "      <td>NaN</td>\n",
       "      <td>bladder_cell</td>\n",
       "      <td>Bladder_mesenchymal_cell</td>\n",
       "      <td>bladder_cell (Bladder_mesenchymal_cell)</td>\n",
       "    </tr>\n",
       "    <tr>\n",
       "      <th>A1-MAA000496-3_10_M-1-1</th>\n",
       "      <td>Trachea</td>\n",
       "      <td>NaN</td>\n",
       "      <td>mesenchymal_cell</td>\n",
       "      <td>NaN</td>\n",
       "      <td>mesenchymal_cell (NA)</td>\n",
       "    </tr>\n",
       "    <tr>\n",
       "      <th>A1-MAA000549-3_8_M-1-1</th>\n",
       "      <td>Skin</td>\n",
       "      <td>Anagen</td>\n",
       "      <td>epidermal_cell</td>\n",
       "      <td>Intermediate_IFE</td>\n",
       "      <td>epidermal_cell (Intermediate_IFE)</td>\n",
       "    </tr>\n",
       "    <tr>\n",
       "      <th>A1-MAA001869-3_38_F-1-1</th>\n",
       "      <td>Large_Intestine</td>\n",
       "      <td>Proximal</td>\n",
       "      <td>epithelial_cell_of_large_intestine</td>\n",
       "      <td>Lgr5-_amplifying_undifferentiated_cell</td>\n",
       "      <td>epithelial_cell_of_large_intestine (Lgr5-_ampl...</td>\n",
       "    </tr>\n",
       "  </tbody>\n",
       "</table>\n",
       "</div>"
      ],
      "text/plain": [
       "                                  tissue subtissue  \\\n",
       "cell_id                                              \n",
       "A1-B002427-3_39_F-1-1              Heart        LA   \n",
       "A1-D041914-3_8_M-1-1             Bladder       NaN   \n",
       "A1-MAA000496-3_10_M-1-1          Trachea       NaN   \n",
       "A1-MAA000549-3_8_M-1-1              Skin    Anagen   \n",
       "A1-MAA001869-3_38_F-1-1  Large_Intestine  Proximal   \n",
       "\n",
       "                                        cell_ontology_class  \\\n",
       "cell_id                                                       \n",
       "A1-B002427-3_39_F-1-1                    myofibroblast_cell   \n",
       "A1-D041914-3_8_M-1-1                           bladder_cell   \n",
       "A1-MAA000496-3_10_M-1-1                    mesenchymal_cell   \n",
       "A1-MAA000549-3_8_M-1-1                       epidermal_cell   \n",
       "A1-MAA001869-3_38_F-1-1  epithelial_cell_of_large_intestine   \n",
       "\n",
       "                                                free_annotation  \\\n",
       "cell_id                                                           \n",
       "A1-B002427-3_39_F-1-1                                       NaN   \n",
       "A1-D041914-3_8_M-1-1                   Bladder_mesenchymal_cell   \n",
       "A1-MAA000496-3_10_M-1-1                                     NaN   \n",
       "A1-MAA000549-3_8_M-1-1                         Intermediate_IFE   \n",
       "A1-MAA001869-3_38_F-1-1  Lgr5-_amplifying_undifferentiated_cell   \n",
       "\n",
       "                                             cell_ontology_free_annotation  \n",
       "cell_id                                                                     \n",
       "A1-B002427-3_39_F-1-1                              myofibroblast_cell (NA)  \n",
       "A1-D041914-3_8_M-1-1               bladder_cell (Bladder_mesenchymal_cell)  \n",
       "A1-MAA000496-3_10_M-1-1                              mesenchymal_cell (NA)  \n",
       "A1-MAA000549-3_8_M-1-1                   epidermal_cell (Intermediate_IFE)  \n",
       "A1-MAA001869-3_38_F-1-1  epithelial_cell_of_large_intestine (Lgr5-_ampl...  "
      ]
     },
     "execution_count": 179,
     "metadata": {},
     "output_type": "execute_result"
    }
   ],
   "source": [
    "cell_metadata.head()"
   ]
  },
  {
   "cell_type": "code",
   "execution_count": 185,
   "metadata": {},
   "outputs": [
    {
     "name": "stdout",
     "output_type": "stream",
     "text": [
      "(33,)\n"
     ]
    },
    {
     "data": {
      "text/plain": [
       "Index(['A1-D041914-3_8_M-1-1', 'A13-D041914-3_8_M-1-1', 'A7-D041914-3_8_M-1-1',\n",
       "       'A8-MAA000487-3_10_M-1-1', 'B22-MAA000487-3_10_M-1-1',\n",
       "       'B3-MAA000487-3_10_M-1-1', 'C11-MAA000487-3_10_M-1-1',\n",
       "       'C16-D041914-3_8_M-1-1', 'C8-D041914-3_8_M-1-1',\n",
       "       'D1-B002764-3_38_F-1-1'],\n",
       "      dtype='object', name='cell_id')"
      ]
     },
     "execution_count": 185,
     "metadata": {},
     "output_type": "execute_result"
    }
   ],
   "source": [
    "bladder_cells = cell_metadata.query('tissue == \"Bladder\"').index\n",
    "print(bladder_cells.shape)\n",
    "bladder_cells[:10]"
   ]
  },
  {
   "cell_type": "code",
   "execution_count": 187,
   "metadata": {},
   "outputs": [
    {
     "data": {
      "text/plain": [
       "cell_id\n",
       "A1-D041914-3_8_M-1-1        137\n",
       "A13-D041914-3_8_M-1-1       146\n",
       "A7-D041914-3_8_M-1-1        119\n",
       "A8-MAA000487-3_10_M-1-1     128\n",
       "B22-MAA000487-3_10_M-1-1    131\n",
       "B3-MAA000487-3_10_M-1-1     137\n",
       "C11-MAA000487-3_10_M-1-1    113\n",
       "C16-D041914-3_8_M-1-1       116\n",
       "C8-D041914-3_8_M-1-1        125\n",
       "D1-B002764-3_38_F-1-1       117\n",
       "D21-B002764-3_38_F-1-1      110\n",
       "E14-D042253-3_9_M-1-1       125\n",
       "E21-D041914-3_8_M-1-1       128\n",
       "E22-D042253-3_9_M-1-1       137\n",
       "G15-D042253-3_9_M-1-1       113\n",
       "G20-B002764-3_38_F-1-1       92\n",
       "H2-B002764-3_38_F-1-1       112\n",
       "H20-D042253-3_9_M-1-1       131\n",
       "H6-D042253-3_9_M-1-1        146\n",
       "I10-B000610-3_56_F-1-1      125\n",
       "J10-D041914-3_8_M-1-1       128\n",
       "J12-B002764-3_38_F-1-1      125\n",
       "J20-D041914-3_8_M-1-1       104\n",
       "J21-D041914-3_8_M-1-1       137\n",
       "K16-B000610-3_56_F-1-1      146\n",
       "K2-D042253-3_9_M-1-1        122\n",
       "K9-D041914-3_8_M-1-1        131\n",
       "N13-B000610-3_56_F-1-1      113\n",
       "N18-MAA000487-3_10_M-1-1    134\n",
       "N19-D041914-3_8_M-1-1       122\n",
       "O10-MAA000487-3_10_M-1-1    134\n",
       "O14-D041914-3_8_M-1-1       113\n",
       "P8-B000610-3_56_F-1-1       125\n",
       "dtype: int64"
      ]
     },
     "execution_count": 187,
     "metadata": {},
     "output_type": "execute_result"
    }
   ],
   "source": [
    "compare_results.query('cell_id in @bladder_cells').groupby(['cell_id']).apply(lambda x: x['experiment'].nunique())"
   ]
  },
  {
   "cell_type": "code",
   "execution_count": 188,
   "metadata": {},
   "outputs": [
    {
     "name": "stdout",
     "output_type": "stream",
     "text": [
      "(54615, 13)\n"
     ]
    },
    {
     "data": {
      "text/html": [
       "<div>\n",
       "<style scoped>\n",
       "    .dataframe tbody tr th:only-of-type {\n",
       "        vertical-align: middle;\n",
       "    }\n",
       "\n",
       "    .dataframe tbody tr th {\n",
       "        vertical-align: top;\n",
       "    }\n",
       "\n",
       "    .dataframe thead th {\n",
       "        text-align: right;\n",
       "    }\n",
       "</style>\n",
       "<table border=\"1\" class=\"dataframe\">\n",
       "  <thead>\n",
       "    <tr style=\"text-align: right;\">\n",
       "      <th></th>\n",
       "      <th>cell_id</th>\n",
       "      <th>other_cell</th>\n",
       "      <th>similarity</th>\n",
       "      <th>experiment</th>\n",
       "      <th>tissue</th>\n",
       "      <th>subtissue</th>\n",
       "      <th>cell_ontology_class</th>\n",
       "      <th>free_annotation</th>\n",
       "      <th>cell_ontology_free_annotation</th>\n",
       "      <th>comparison_sequence</th>\n",
       "      <th>ksize</th>\n",
       "      <th>scaled</th>\n",
       "      <th>trim</th>\n",
       "    </tr>\n",
       "  </thead>\n",
       "  <tbody>\n",
       "    <tr>\n",
       "      <th>386347</th>\n",
       "      <td>A1-D041914-3_8_M-1-1</td>\n",
       "      <td>A1-D041914-3_8_M-1-1</td>\n",
       "      <td>1.000000</td>\n",
       "      <td>trim=false_scaled=1000_dna_ksize=12</td>\n",
       "      <td>Bladder</td>\n",
       "      <td>NaN</td>\n",
       "      <td>bladder_cell</td>\n",
       "      <td>Bladder_mesenchymal_cell</td>\n",
       "      <td>bladder_cell (Bladder_mesenchymal_cell)</td>\n",
       "      <td>dna</td>\n",
       "      <td>12</td>\n",
       "      <td>1000</td>\n",
       "      <td>False</td>\n",
       "    </tr>\n",
       "    <tr>\n",
       "      <th>386348</th>\n",
       "      <td>A1-D041914-3_8_M-1-1</td>\n",
       "      <td>J1-B000634-3_56_F-1-1</td>\n",
       "      <td>0.538661</td>\n",
       "      <td>trim=false_scaled=1000_dna_ksize=12</td>\n",
       "      <td>Heart</td>\n",
       "      <td>LA</td>\n",
       "      <td>fibroblast</td>\n",
       "      <td>NaN</td>\n",
       "      <td>fibroblast (NA)</td>\n",
       "      <td>dna</td>\n",
       "      <td>12</td>\n",
       "      <td>1000</td>\n",
       "      <td>False</td>\n",
       "    </tr>\n",
       "    <tr>\n",
       "      <th>386349</th>\n",
       "      <td>A1-D041914-3_8_M-1-1</td>\n",
       "      <td>L22-MAA000752-3_10_M-1-1</td>\n",
       "      <td>0.432674</td>\n",
       "      <td>trim=false_scaled=1000_dna_ksize=12</td>\n",
       "      <td>Kidney</td>\n",
       "      <td>NaN</td>\n",
       "      <td>epithelial_cell_of_proximal_tubule</td>\n",
       "      <td>NaN</td>\n",
       "      <td>epithelial_cell_of_proximal_tubule (NA)</td>\n",
       "      <td>dna</td>\n",
       "      <td>12</td>\n",
       "      <td>1000</td>\n",
       "      <td>False</td>\n",
       "    </tr>\n",
       "    <tr>\n",
       "      <th>386350</th>\n",
       "      <td>A1-D041914-3_8_M-1-1</td>\n",
       "      <td>J5-MAA000934-3_9_M-1-1</td>\n",
       "      <td>0.529394</td>\n",
       "      <td>trim=false_scaled=1000_dna_ksize=12</td>\n",
       "      <td>Fat</td>\n",
       "      <td>SCAT</td>\n",
       "      <td>mesenchymal_stem_cell_of_adipose</td>\n",
       "      <td>mesenchymal_progenitor</td>\n",
       "      <td>mesenchymal_stem_cell_of_adipose (mesenchymal_...</td>\n",
       "      <td>dna</td>\n",
       "      <td>12</td>\n",
       "      <td>1000</td>\n",
       "      <td>False</td>\n",
       "    </tr>\n",
       "    <tr>\n",
       "      <th>386351</th>\n",
       "      <td>A1-D041914-3_8_M-1-1</td>\n",
       "      <td>F5-B001689-3_38_F-1-1</td>\n",
       "      <td>0.436136</td>\n",
       "      <td>trim=false_scaled=1000_dna_ksize=12</td>\n",
       "      <td>Brain_Myeloid</td>\n",
       "      <td>Hippocampus</td>\n",
       "      <td>microglial_cell</td>\n",
       "      <td>NaN</td>\n",
       "      <td>microglial_cell (NA)</td>\n",
       "      <td>dna</td>\n",
       "      <td>12</td>\n",
       "      <td>1000</td>\n",
       "      <td>False</td>\n",
       "    </tr>\n",
       "  </tbody>\n",
       "</table>\n",
       "</div>"
      ],
      "text/plain": [
       "                     cell_id                other_cell  similarity  \\\n",
       "386347  A1-D041914-3_8_M-1-1      A1-D041914-3_8_M-1-1    1.000000   \n",
       "386348  A1-D041914-3_8_M-1-1     J1-B000634-3_56_F-1-1    0.538661   \n",
       "386349  A1-D041914-3_8_M-1-1  L22-MAA000752-3_10_M-1-1    0.432674   \n",
       "386350  A1-D041914-3_8_M-1-1    J5-MAA000934-3_9_M-1-1    0.529394   \n",
       "386351  A1-D041914-3_8_M-1-1     F5-B001689-3_38_F-1-1    0.436136   \n",
       "\n",
       "                                 experiment         tissue    subtissue  \\\n",
       "386347  trim=false_scaled=1000_dna_ksize=12        Bladder          NaN   \n",
       "386348  trim=false_scaled=1000_dna_ksize=12          Heart           LA   \n",
       "386349  trim=false_scaled=1000_dna_ksize=12         Kidney          NaN   \n",
       "386350  trim=false_scaled=1000_dna_ksize=12            Fat         SCAT   \n",
       "386351  trim=false_scaled=1000_dna_ksize=12  Brain_Myeloid  Hippocampus   \n",
       "\n",
       "                       cell_ontology_class           free_annotation  \\\n",
       "386347                        bladder_cell  Bladder_mesenchymal_cell   \n",
       "386348                          fibroblast                       NaN   \n",
       "386349  epithelial_cell_of_proximal_tubule                       NaN   \n",
       "386350    mesenchymal_stem_cell_of_adipose    mesenchymal_progenitor   \n",
       "386351                     microglial_cell                       NaN   \n",
       "\n",
       "                            cell_ontology_free_annotation comparison_sequence  \\\n",
       "386347            bladder_cell (Bladder_mesenchymal_cell)                 dna   \n",
       "386348                                    fibroblast (NA)                 dna   \n",
       "386349            epithelial_cell_of_proximal_tubule (NA)                 dna   \n",
       "386350  mesenchymal_stem_cell_of_adipose (mesenchymal_...                 dna   \n",
       "386351                               microglial_cell (NA)                 dna   \n",
       "\n",
       "        ksize  scaled   trim  \n",
       "386347     12    1000  False  \n",
       "386348     12    1000  False  \n",
       "386349     12    1000  False  \n",
       "386350     12    1000  False  \n",
       "386351     12    1000  False  "
      ]
     },
     "execution_count": 188,
     "metadata": {},
     "output_type": "execute_result"
    }
   ],
   "source": [
    "bladder_cell = 'A1-D041914-3_8_M-1-1'\n",
    "\n",
    "similarity_bladder_cell = compare_results.query('cell_id == @bladder_cell')\n",
    "similarity_bladder_cell = similarity_bladder_cell.join(cell_metadata, on='other_cell')\n",
    "similarity_bladder_cell = similarity_bladder_cell.join(experiment_metadata, on='experiment')\n",
    "print(similarity_bladder_cell.shape)\n",
    "similarity_bladder_cell.head()"
   ]
  },
  {
   "cell_type": "code",
   "execution_count": 189,
   "metadata": {},
   "outputs": [
    {
     "data": {
      "text/plain": [
       "[3, 6, 9, 12, 15, 18, 21, 24, 27, 30, 33, 36, 39, 42, 45, 48, 51, 54, 57, 60]"
      ]
     },
     "execution_count": 189,
     "metadata": {},
     "output_type": "execute_result"
    }
   ],
   "source": [
    "sorted(similarity_bladder_cell.ksize.unique())"
   ]
  },
  {
   "cell_type": "code",
   "execution_count": 190,
   "metadata": {},
   "outputs": [
    {
     "data": {
      "text/plain": [
       "[500, 1000, 2000, 5000]"
      ]
     },
     "execution_count": 190,
     "metadata": {},
     "output_type": "execute_result"
    }
   ],
   "source": [
    "sorted(similarity_bladder_cell.scaled.unique())"
   ]
  },
  {
   "cell_type": "markdown",
   "metadata": {},
   "source": [
    "### Look at overall similarity distribution within scaled, ksize"
   ]
  },
  {
   "cell_type": "code",
   "execution_count": 200,
   "metadata": {},
   "outputs": [
    {
     "name": "stderr",
     "output_type": "stream",
     "text": [
      "/home/olga/miniconda3/lib/python3.6/site-packages/seaborn/axisgrid.py:715: UserWarning: Using the pointplot function without specifying `order` is likely to produce an incorrect plot.\n",
      "  warnings.warn(warning)\n"
     ]
    },
    {
     "data": {
      "text/plain": [
       "<seaborn.axisgrid.FacetGrid at 0x7f36f31aca58>"
      ]
     },
     "execution_count": 200,
     "metadata": {},
     "output_type": "execute_result"
    },
    {
     "data": {
      "image/png": "[encoded data removed]",
      "text/plain": [
       "<Figure size 926.125x216 with 4 Axes>"
      ]
     },
     "metadata": {},
     "output_type": "display_data"
    }
   ],
   "source": [
    "g = sns.FacetGrid(similarity_bladder_cell, hue='trim', col='scaled')\n",
    "g.map(sns.pointplot, 'ksize', 'similarity')\n",
    "g.add_legend()"
   ]
  },
  {
   "cell_type": "code",
   "execution_count": 195,
   "metadata": {},
   "outputs": [
    {
     "name": "stderr",
     "output_type": "stream",
     "text": [
      "/home/olga/miniconda3/lib/python3.6/site-packages/statsmodels/nonparametric/kde.py:488: RuntimeWarning: invalid value encountered in true_divide\n",
      "  binned = fast_linbin(X, a, b, gridsize) / (delta * nobs)\n",
      "/home/olga/miniconda3/lib/python3.6/site-packages/statsmodels/nonparametric/kdetools.py:34: RuntimeWarning: invalid value encountered in double_scalars\n",
      "  FAC1 = 2*(np.pi*bw/RANGE)**2\n"
     ]
    },
    {
     "data": {
      "text/plain": [
       "<seaborn.axisgrid.FacetGrid at 0x7f36fad1eef0>"
      ]
     },
     "execution_count": 195,
     "metadata": {},
     "output_type": "execute_result"
    },
    {
     "data": {
      "image/png": "[encoded data removed]",
      "text/plain": [
       "<Figure size 912.75x216 with 4 Axes>"
      ]
     },
     "metadata": {},
     "output_type": "display_data"
    }
   ],
   "source": [
    "g = sns.FacetGrid(similarity_bladder_cell, hue='ksize', col_wrap=4, col='scaled', palette='magma')\n",
    "g.map(sns.distplot, 'similarity')\n",
    "g.set(xlim=(-0.05, 0.2))\n",
    "g.add_legend()"
   ]
  },
  {
   "cell_type": "markdown",
   "metadata": {},
   "source": [
    "### Get tissue colors from paper"
   ]
  },
  {
   "cell_type": "code",
   "execution_count": 196,
   "metadata": {},
   "outputs": [
    {
     "data": {
      "text/plain": [
       "range(0, 3)"
      ]
     },
     "execution_count": 196,
     "metadata": {},
     "output_type": "execute_result"
    }
   ],
   "source": [
    "range(3)"
   ]
  },
  {
   "cell_type": "code",
   "execution_count": 197,
   "metadata": {},
   "outputs": [
    {
     "data": {
      "text/plain": [
       "Aorta                #1f77b4\n",
       "Bladder              #aec7e8\n",
       "Brain_Myeloid        #ff7f0e\n",
       "Brain_Non-Myeloid    #ffbb78\n",
       "Diaphragm            #2ca02c\n",
       "Name: color, dtype: object"
      ]
     },
     "execution_count": 197,
     "metadata": {},
     "output_type": "execute_result"
    }
   ],
   "source": [
    "tissue_colors = pd.read_csv('/home/olga/tabula-muris/00_data_ingest/15_color_palette/tissue_colors.csv', \n",
    "                            squeeze=True, index_col=0)\n",
    "tissue_colors.head()"
   ]
  },
  {
   "cell_type": "code",
   "execution_count": 198,
   "metadata": {},
   "outputs": [
    {
     "data": {
      "image/png": "[encoded data removed]",
      "text/plain": [
       "<Figure size 576x72 with 1 Axes>"
      ]
     },
     "metadata": {},
     "output_type": "display_data"
    }
   ],
   "source": [
    "dark2 = sns.color_palette('Dark2')\n",
    "sns.palplot(dark2)\n",
    "\n",
    "bladder = 'Bladder'\n",
    "\n",
    "\n",
    "highlight_bladder_colors = tissue_colors.copy()\n",
    "highlight_bladder_colors[highlight_bladder_colors.index != bladder] = 'lightgrey'\n",
    "highlight_bladder_colors[bladder] = dark2[3]\n",
    "\n",
    "hue_order = highlight_bladder_colors.index.difference([bladder]).tolist()\n",
    "hue_order.append(bladder)\n",
    "hue_order\n",
    "\n",
    "palette = highlight_bladder_colors[hue_order]\n",
    "palette\n",
    "\n",
    "tissue_kws = dict(hue='tissue', palette=palette, \n",
    "                  hue_order=hue_order)"
   ]
  },
  {
   "cell_type": "markdown",
   "metadata": {},
   "source": [
    "### Look at similarity distribution within tissue"
   ]
  },
  {
   "cell_type": "code",
   "execution_count": 199,
   "metadata": {},
   "outputs": [
    {
     "name": "stderr",
     "output_type": "stream",
     "text": [
      "/home/olga/miniconda3/lib/python3.6/site-packages/seaborn/axisgrid.py:230: UserWarning: The `size` paramter has been renamed to `height`; please update your code.\n",
      "  warnings.warn(msg, UserWarning)\n",
      "/home/olga/miniconda3/lib/python3.6/site-packages/statsmodels/nonparametric/kde.py:488: RuntimeWarning: invalid value encountered in true_divide\n",
      "  binned = fast_linbin(X, a, b, gridsize) / (delta * nobs)\n",
      "/home/olga/miniconda3/lib/python3.6/site-packages/statsmodels/nonparametric/kdetools.py:34: RuntimeWarning: invalid value encountered in double_scalars\n",
      "  FAC1 = 2*(np.pi*bw/RANGE)**2\n",
      "/home/olga/miniconda3/lib/python3.6/site-packages/numpy/core/_methods.py:135: RuntimeWarning: Degrees of freedom <= 0 for slice\n",
      "  \n",
      "/home/olga/miniconda3/lib/python3.6/site-packages/numpy/core/_methods.py:127: RuntimeWarning: invalid value encountered in double_scalars\n",
      "  # divide by degrees of freedom\n"
     ]
    },
    {
     "data": {
      "text/plain": [
       "<seaborn.axisgrid.FacetGrid at 0x7f36fe77b978>"
      ]
     },
     "execution_count": 199,
     "metadata": {},
     "output_type": "execute_result"
    },
    {
     "data": {
      "image/png": "[encoded data removed]",
      "text/plain": [
       "<Figure size 2160x432 with 80 Axes>"
      ]
     },
     "metadata": {},
     "output_type": "display_data"
    }
   ],
   "source": [
    "g = sns.FacetGrid(similarity_bladder_cell, col='ksize', row='scaled', \n",
    "                  margin_titles=True, size=1.5, **tissue_kws)\n",
    "g.map(sns.kdeplot, 'similarity', shade=True)\n",
    "g.set(xlim=(0, 1), ylim=(0, 20), xticks=[0, 0.5, 1])\n",
    "# g.add_legend()"
   ]
  },
  {
   "cell_type": "code",
   "execution_count": null,
   "metadata": {},
   "outputs": [
    {
     "name": "stderr",
     "output_type": "stream",
     "text": [
      "/home/olga/miniconda3/lib/python3.6/site-packages/seaborn/axisgrid.py:715: UserWarning: Using the pointplot function without specifying `order` is likely to produce an incorrect plot.\n",
      "  warnings.warn(warning)\n"
     ]
    }
   ],
   "source": [
    "g = sns.FacetGrid(similarity_bladder_cell, col='ksize', margin_titles=True, col_wrap=4, sharex=False, **tissue_kws)\n",
    "g.map(sns.pointplot, 'scaled', 'similarity', estimator=np.median)\n",
    "g.add_legend()"
   ]
  },
  {
   "cell_type": "markdown",
   "metadata": {},
   "source": [
    "### only look within bladder cells"
   ]
  },
  {
   "cell_type": "code",
   "execution_count": null,
   "metadata": {},
   "outputs": [],
   "source": [
    "similarity_bladder_cell_within_bladder = similarity_bladder_cell.query('tissue == \"Bladder\"')\n",
    "print(similarity_bladder_cell_within_bladder.shape)\n",
    "similarity_bladder_cell_within_bladder.head()"
   ]
  },
  {
   "cell_type": "code",
   "execution_count": null,
   "metadata": {},
   "outputs": [],
   "source": [
    "similarity_bladder_cell_within_bladder.scaled.unique()"
   ]
  },
  {
   "cell_type": "code",
   "execution_count": null,
   "metadata": {},
   "outputs": [],
   "source": [
    "g = sns.FacetGrid(similarity_bladder_cell_within_bladder, hue='cell_ontology_class', \n",
    "                  col='ksize', col_wrap=4, sharex=False)\n",
    "g.map(sns.pointplot, 'scaled', 'similarity', estimator=np.median, dodge=True)\n",
    "g.add_legend()"
   ]
  },
  {
   "cell_type": "code",
   "execution_count": null,
   "metadata": {},
   "outputs": [],
   "source": [
    "g = sns.FacetGrid(similarity_bladder_cell_within_bladder, hue='cell_ontology_free_annotation', \n",
    "                  col='ksize', col_wrap=4, sharex=False)\n",
    "g.map(sns.pointplot, 'scaled', 'similarity', estimator=np.median, dodge=True)\n",
    "g.add_legend()"
   ]
  },
  {
   "cell_type": "code",
   "execution_count": null,
   "metadata": {},
   "outputs": [],
   "source": [
    "g = sns.FacetGrid(similarity_bladder_cell_within_bladder, hue='cell_ontology_class', \n",
    "                  col='ksize', col_wrap=4)\n",
    "g.map(sns.violinplot, 'scaled', 'similarity', cut=True, dodge=True)\n",
    "g.add_legend()"
   ]
  },
  {
   "cell_type": "code",
   "execution_count": null,
   "metadata": {},
   "outputs": [],
   "source": [
    "g = sns.FacetGrid(similarity_bladder_cell_within_bladder, hue='ksize', \n",
    "                  col='scaled', col_wrap=4, palette='magma_r')\n",
    "g.map(sns.kdeplot, 'similarity', shade=True)\n",
    "g.set(xlim=(0, 1))\n",
    "g.add_legend()"
   ]
  },
  {
   "cell_type": "code",
   "execution_count": null,
   "metadata": {},
   "outputs": [],
   "source": [
    "g = sns.FacetGrid(similarity_bladder_cell_within_bladder, hue='cell_ontology_class', \n",
    "                  col='ksize', col_wrap=4)\n",
    "g.map(sns.kdeplot, 'similarity', shade=True)\n",
    "g.set(xlim=(0, 1))\n",
    "g.add_legend()"
   ]
  },
  {
   "cell_type": "code",
   "execution_count": null,
   "metadata": {},
   "outputs": [],
   "source": [
    "g = sns.FacetGrid(similarity_bladder_cell_within_bladder, hue='cell_ontology_class', \n",
    "                  col='scaled', row='ksize')\n",
    "g.map(sns.kdeplot, 'similarity', shade=True)\n",
    "g.set(xlim=(0, 1))\n",
    "g.add_legend()"
   ]
  },
  {
   "cell_type": "code",
   "execution_count": null,
   "metadata": {},
   "outputs": [],
   "source": [
    "g = sns.FacetGrid(similarity_bladder_cell_within_bladder, hue='cell_ontology_class', \n",
    "                  col='scaled', row='ksize')\n",
    "g.map(sns.kdeplot, 'similarity', shade=True)\n",
    "g.set(xlim=(0, 0.2))\n",
    "g.add_legend()"
   ]
  },
  {
   "cell_type": "code",
   "execution_count": null,
   "metadata": {},
   "outputs": [],
   "source": [
    "g = sns.FacetGrid(similarity_bladder_cell_within_bladder, hue='cell_ontology_free_annotation', \n",
    "                  col='scaled', col_wrap=4)\n",
    "g.map(sns.kdeplot, 'similarity', shade=True)\n",
    "g.set(xlim=(0, 1))\n",
    "g.add_legend()"
   ]
  },
  {
   "cell_type": "code",
   "execution_count": null,
   "metadata": {},
   "outputs": [],
   "source": [
    "g = sns.FacetGrid(similarity_bladder_cell_within_bladder, hue='cell_ontology_free_annotation', \n",
    "                  col='scaled', col_wrap=4)\n",
    "g.map(sns.kdeplot, 'similarity', shade=True)\n",
    "g.set(xlim=(0, 0.2))\n",
    "g.add_legend()"
   ]
  },
  {
   "cell_type": "markdown",
   "metadata": {},
   "source": [
    "## Compare to similarity for pancreatic beta cell (insulin-producing cell)"
   ]
  },
  {
   "cell_type": "code",
   "execution_count": null,
   "metadata": {},
   "outputs": [],
   "source": [
    "cell_metadata.query('tissue == \"Pancreas\"').head(10)"
   ]
  },
  {
   "cell_type": "code",
   "execution_count": null,
   "metadata": {},
   "outputs": [],
   "source": [
    "type_b_pancreatic_cell = 'F12-MAA000574-3_8_M-1-1'\n",
    "\n",
    "similarity_pancreatic_cell = compare_results_trim_true.query('cell_id == @type_b_pancreatic_cell')\n",
    "similarity_pancreatic_cell = similarity_pancreatic_cell.join(cell_metadata, on='other_cell')\n",
    "similarity_pancreatic_cell = similarity_pancreatic_cell.join(experiment_metadata, on='experiment')\n",
    "print(similarity_pancreatic_cell.shape)\n",
    "similarity_pancreatic_cell.head()"
   ]
  },
  {
   "cell_type": "code",
   "execution_count": null,
   "metadata": {},
   "outputs": [],
   "source": [
    "g = sns.FacetGrid(similarity_pancreatic_cell, hue='ksize', col_wrap=4, col='scaled', palette='magma')\n",
    "g.map(sns.distplot, 'similarity')\n",
    "g.add_legend()"
   ]
  },
  {
   "cell_type": "code",
   "execution_count": null,
   "metadata": {},
   "outputs": [],
   "source": [
    "similarity_bladder_cell_within_bladder.similarity.describe()"
   ]
  },
  {
   "cell_type": "markdown",
   "metadata": {},
   "source": [
    "## Compare to similarity to Spleen B cell"
   ]
  },
  {
   "cell_type": "code",
   "execution_count": 48,
   "metadata": {},
   "outputs": [
    {
     "data": {
      "text/html": [
       "<div>\n",
       "<style scoped>\n",
       "    .dataframe tbody tr th:only-of-type {\n",
       "        vertical-align: middle;\n",
       "    }\n",
       "\n",
       "    .dataframe tbody tr th {\n",
       "        vertical-align: top;\n",
       "    }\n",
       "\n",
       "    .dataframe thead th {\n",
       "        text-align: right;\n",
       "    }\n",
       "</style>\n",
       "<table border=\"1\" class=\"dataframe\">\n",
       "  <thead>\n",
       "    <tr style=\"text-align: right;\">\n",
       "      <th></th>\n",
       "      <th>tissue</th>\n",
       "      <th>subtissue</th>\n",
       "      <th>cell_ontology_class</th>\n",
       "      <th>free_annotation</th>\n",
       "      <th>cell_ontology_free_annotation</th>\n",
       "    </tr>\n",
       "    <tr>\n",
       "      <th>cell_id</th>\n",
       "      <th></th>\n",
       "      <th></th>\n",
       "      <th></th>\n",
       "      <th></th>\n",
       "      <th></th>\n",
       "    </tr>\n",
       "  </thead>\n",
       "  <tbody>\n",
       "    <tr>\n",
       "      <th>A20-B000971-3_39_F-1-1</th>\n",
       "      <td>Spleen</td>\n",
       "      <td>NaN</td>\n",
       "      <td>B_cell</td>\n",
       "      <td>NaN</td>\n",
       "      <td>B_cell (NA)</td>\n",
       "    </tr>\n",
       "    <tr>\n",
       "      <th>B15-MAA000779-3_11_M-1-1</th>\n",
       "      <td>Spleen</td>\n",
       "      <td>NaN</td>\n",
       "      <td>B_cell</td>\n",
       "      <td>NaN</td>\n",
       "      <td>B_cell (NA)</td>\n",
       "    </tr>\n",
       "    <tr>\n",
       "      <th>B21-MAA000559-3_8_M-1-1</th>\n",
       "      <td>Spleen</td>\n",
       "      <td>NaN</td>\n",
       "      <td>B_cell</td>\n",
       "      <td>NaN</td>\n",
       "      <td>B_cell (NA)</td>\n",
       "    </tr>\n",
       "    <tr>\n",
       "      <th>C1-MAA000776-3_10_M-1-1</th>\n",
       "      <td>Spleen</td>\n",
       "      <td>NaN</td>\n",
       "      <td>B_cell</td>\n",
       "      <td>NaN</td>\n",
       "      <td>B_cell (NA)</td>\n",
       "    </tr>\n",
       "    <tr>\n",
       "      <th>C2-MAA000508-3_9_M-1-1</th>\n",
       "      <td>Spleen</td>\n",
       "      <td>NaN</td>\n",
       "      <td>B_cell</td>\n",
       "      <td>NaN</td>\n",
       "      <td>B_cell (NA)</td>\n",
       "    </tr>\n",
       "  </tbody>\n",
       "</table>\n",
       "</div>"
      ],
      "text/plain": [
       "                          tissue subtissue cell_ontology_class  \\\n",
       "cell_id                                                          \n",
       "A20-B000971-3_39_F-1-1    Spleen       NaN              B_cell   \n",
       "B15-MAA000779-3_11_M-1-1  Spleen       NaN              B_cell   \n",
       "B21-MAA000559-3_8_M-1-1   Spleen       NaN              B_cell   \n",
       "C1-MAA000776-3_10_M-1-1   Spleen       NaN              B_cell   \n",
       "C2-MAA000508-3_9_M-1-1    Spleen       NaN              B_cell   \n",
       "\n",
       "                         free_annotation cell_ontology_free_annotation  \n",
       "cell_id                                                                 \n",
       "A20-B000971-3_39_F-1-1               NaN                   B_cell (NA)  \n",
       "B15-MAA000779-3_11_M-1-1             NaN                   B_cell (NA)  \n",
       "B21-MAA000559-3_8_M-1-1              NaN                   B_cell (NA)  \n",
       "C1-MAA000776-3_10_M-1-1              NaN                   B_cell (NA)  \n",
       "C2-MAA000508-3_9_M-1-1               NaN                   B_cell (NA)  "
      ]
     },
     "execution_count": 48,
     "metadata": {},
     "output_type": "execute_result"
    }
   ],
   "source": [
    "cell_metadata.query('tissue == \"Spleen\"').head()"
   ]
  },
  {
   "cell_type": "code",
   "execution_count": null,
   "metadata": {},
   "outputs": [],
   "source": [
    "spleen_b_cell = 'A20-B000971-3_39_F-1-1'"
   ]
  }
 ],
 "metadata": {
  "kernelspec": {
   "display_name": "Python 3",
   "language": "python",
   "name": "python3"
  },
  "language_info": {
   "codemirror_mode": {
    "name": "ipython",
    "version": 3
   },
   "file_extension": ".py",
   "mimetype": "text/x-python",
   "name": "python",
   "nbconvert_exporter": "python",
   "pygments_lexer": "ipython3",
   "version": "3.6.4"
  }
 },
 "nbformat": 4,
 "nbformat_minor": 2
}
