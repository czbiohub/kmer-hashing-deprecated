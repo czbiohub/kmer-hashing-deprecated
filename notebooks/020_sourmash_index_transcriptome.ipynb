{
 "cells": [
  {
   "cell_type": "code",
   "execution_count": 3,
   "metadata": {},
   "outputs": [
    {
     "name": "stdout",
     "output_type": "stream",
     "text": [
      "/mnt/data/genomes/mm10/gencode/m17\n",
      "/mnt/data/genomes/mm10/gencode/m17\n",
      "/mnt/data/genomes/mm10/gencode/m17\n"
     ]
    }
   ],
   "source": [
    "cd /mnt/data/genomes/mm10/gencode/m17"
   ]
  },
  {
   "cell_type": "code",
   "execution_count": 21,
   "metadata": {},
   "outputs": [
    {
     "name": "stdout",
     "output_type": "stream",
     "text": [
      "gencode.vM17.transcripts.fa.Bb6D7f40\r\n",
      "\u001b[0m\u001b[01;31mgencode.vM17.transcripts.fa.gz\u001b[0m\r\n",
      "gencode.vM17.transcripts.fa.kallisto.AbfcaAae\r\n"
     ]
    }
   ],
   "source": [
    "ls"
   ]
  },
  {
   "cell_type": "code",
   "execution_count": 8,
   "metadata": {},
   "outputs": [],
   "source": [
    "import seaborn as sns\n",
    "\n",
    "import matplotlib.pyplot as plt\n",
    "%matplotlib inline"
   ]
  },
  {
   "cell_type": "code",
   "execution_count": 10,
   "metadata": {},
   "outputs": [
    {
     "name": "stdout",
     "output_type": "stream",
     "text": [
      "/mnt/data/genomes/mm10/gencode/m17/genomes/mm10/gencode/m17\n"
     ]
    }
   ],
   "source": [
    "cd genomes/mm10/gencode/m17/"
   ]
  },
  {
   "cell_type": "code",
   "execution_count": 22,
   "metadata": {},
   "outputs": [
    {
     "data": {
      "text/plain": [
       "'/mnt/data/genomes/mm10/gencode/m17'"
      ]
     },
     "execution_count": 22,
     "metadata": {},
     "output_type": "execute_result"
    }
   ],
   "source": [
    "pwd"
   ]
  },
  {
   "cell_type": "code",
   "execution_count": 35,
   "metadata": {},
   "outputs": [
    {
     "data": {
      "text/plain": [
       "'3,6,9,12,15,18,21,24,27,30,33,36,39,42,45,48,51,54,57,60'"
      ]
     },
     "execution_count": 35,
     "metadata": {},
     "output_type": "execute_result"
    }
   ],
   "source": [
    "ksizes = ','.join(map(str, range(3, 61, 3)))\n",
    "ksizes"
   ]
  },
  {
   "cell_type": "code",
   "execution_count": 27,
   "metadata": {},
   "outputs": [
    {
     "name": "stdout",
     "output_type": "stream",
     "text": [
      "usage: sourmash [-h] [--protein] [--no-protein] [--dna] [--no-dna] [-q]\r\n",
      "                [--input-is-protein] [-k KSIZES] [-n NUM_HASHES]\r\n",
      "                [--check-sequence] [-f] [-o OUTPUT] [--singleton]\r\n",
      "                [--merge MERGED] [--name-from-first] [--track-abundance]\r\n",
      "                [--scaled SCALED] [--seed SEED] [--randomize]\r\n",
      "                [--license LICENSE]\r\n",
      "                filenames [filenames ...]\r\n",
      "\r\n",
      "positional arguments:\r\n",
      "  filenames             file(s) of sequences\r\n",
      "\r\n",
      "optional arguments:\r\n",
      "  -h, --help            show this help message and exit\r\n",
      "  --protein             build protein signatures (default: False)\r\n",
      "  --no-protein          do not build protein signatures\r\n",
      "  --dna                 build DNA signatures (default: True)\r\n",
      "  --no-dna              do not build DNA signatures\r\n",
      "  -q, --quiet           suppress non-error output\r\n",
      "  --input-is-protein    Consume protein sequences - no translation needed.\r\n",
      "  -k KSIZES, --ksizes KSIZES\r\n",
      "                        comma-separated list of k-mer sizes (default:\r\n",
      "                        21,31,51)\r\n",
      "  -n NUM_HASHES, --num-hashes NUM_HASHES\r\n",
      "                        number of hashes to use in each sketch (default: 500)\r\n",
      "  --check-sequence      complain if input sequence is invalid (default: False)\r\n",
      "  -f, --force           recompute signatures even if the file exists (default:\r\n",
      "                        False)\r\n",
      "  -o OUTPUT, --output OUTPUT\r\n",
      "                        output computed signatures to this file\r\n",
      "  --singleton           compute a signature for each sequence record\r\n",
      "                        individually (default: False)\r\n",
      "  --merge MERGED, --name MERGED\r\n",
      "                        merge all input files into one signature named this\r\n",
      "  --name-from-first     name the signature generated from each file after the\r\n",
      "                        first record in the file (default: False)\r\n",
      "  --track-abundance     track k-mer abundances in the generated signature\r\n",
      "                        (default: False)\r\n",
      "  --scaled SCALED       choose number of hashes as 1 in FRACTION of input\r\n",
      "                        k-mers\r\n",
      "  --seed SEED           seed used by MurmurHash (default: 42)\r\n",
      "  --randomize           shuffle the list of input filenames randomly\r\n",
      "  --license LICENSE     signature license. Currently only CC0 is supported.\r\n"
     ]
    }
   ],
   "source": [
    "! sourmash compute --help"
   ]
  },
  {
   "cell_type": "code",
   "execution_count": 73,
   "metadata": {},
   "outputs": [
    {
     "name": "stdout",
     "output_type": "stream",
     "text": [
      "Process is interrupted.\n"
     ]
    }
   ],
   "source": [
    "%%bash\n",
    "\n",
    "sourmash compute --ksizes 21,33,51 \\\n",
    "    --singleton \\\n",
    "    --protein \\\n",
    "    --scaled 1000 \\\n",
    "    -o gencode.vM17.transcripts.scale1000.fromgz.sig \\\n",
    "    gencode.vM17.transcripts.fa.gz"
   ]
  },
  {
   "cell_type": "code",
   "execution_count": null,
   "metadata": {},
   "outputs": [],
   "source": [
    "%%bash\n",
    "\n",
    "sourmash compute --ksizes 15,18,21,24,27,30,33 \\\n",
    "    --singleton \\\n",
    "    --protein \\\n",
    "    --scaled 1000 \\\n",
    "    -o gencode.vM17.transcripts.scale1000.k15-33.sig \\\n",
    "    gencode.vM17.transcripts.fa.gz"
   ]
  },
  {
   "cell_type": "code",
   "execution_count": null,
   "metadata": {},
   "outputs": [],
   "source": [
    "ksizes_transcripts = range(15, 34, 3)\n",
    "molecules = 'protein', 'dna'\n",
    "\n",
    "for ksize in ksizes_transcripts:\n",
    "    for molecule in molecules:\n",
    "        csv = f'gencode.vM17.transcripts.scale1000.k{ksize}.{molecule}.csv'\n",
    "        command = f'sourmash compare --ksize {ksize} --csv {csv} --{molecule} gencode.vM17.transcripts.scale1000.k15-33.sig'\n",
    "        ! $command"
   ]
  },
  {
   "cell_type": "code",
   "execution_count": 74,
   "metadata": {},
   "outputs": [
    {
     "name": "stdout",
     "output_type": "stream",
     "text": [
      "Process is interrupted.\n"
     ]
    }
   ],
   "source": [
    "%%bash\n",
    "\n",
    "sourmash compute --ksizes 21,33,51 \\\n",
    "    --singleton \\\n",
    "    --protein \\\n",
    "    --scaled 1000 \\\n",
    "    -o gencode.vM17.transcripts.scale1000.fromfa.sig \\\n",
    "    gencode.vM17.transcripts.fa"
   ]
  },
  {
   "cell_type": "markdown",
   "metadata": {},
   "source": [
    "### Remove adapters"
   ]
  },
  {
   "cell_type": "code",
   "execution_count": null,
   "metadata": {},
   "outputs": [],
   "source": [
    "%%bash\n",
    "AdapterRemoval \\\n",
    "    --file1 A1-D041914-3_8_M-1-1_S269_R1_001.fastq.gz \\\n",
    "    --file2 A1-D041914-3_8_M-1-1_S269_R2_001.fastq.gz \\\n",
    "    --identify-adapters > A1-D041914-3_8_M-1-1_S269.adapterremoval.txt 2&>1"
   ]
  },
  {
   "cell_type": "code",
   "execution_count": 91,
   "metadata": {},
   "outputs": [
    {
     "name": "stderr",
     "output_type": "stream",
     "text": [
      "Trimming paired end reads ...\n",
      "Opening FASTQ file 'A1-D041914-3_8_M-1-1_S269_R1_001.fastq.gz'\n",
      "Opening FASTQ file 'A1-D041914-3_8_M-1-1_S269_R2_001.fastq.gz'\n",
      "\r",
      "Processed 1,000,504 reads in 12.6s; 79,000 reads per second ...\r",
      "Processed a total of 1,342,606 reads in 17.5s; 76,000 reads per second on average ...\n"
     ]
    }
   ],
   "source": [
    "\n",
    "%%bash\n",
    "\n",
    "AdapterRemoval \\\n",
    "    --file1 A1-D041914-3_8_M-1-1_S269_R1_001.fastq.gz \\\n",
    "    --file2 A1-D041914-3_8_M-1-1_S269_R2_001.fastq.gz \\\n",
    "    --basename A1-D041914-3_8_M-1-1_S269 \\\n",
    "    --gzip \\\n",
    "    --threads 16 \\\n",
    "    --minlength 80 \\\n",
    "    --adapter1 CTGTCTCTTATACACATCTCCGAGCCCACGAGA \\\n",
    "    --adapter2 CTGTCTCTTATACACATCTCCGAGCCCACGAGA"
   ]
  },
  {
   "cell_type": "code",
   "execution_count": 94,
   "metadata": {},
   "outputs": [
    {
     "data": {
      "text/plain": [
       "33"
      ]
     },
     "execution_count": 94,
     "metadata": {},
     "output_type": "execute_result"
    }
   ],
   "source": [
    "len('CTGTCTCTTATACACATCTCCGAGCCCACGAGA')"
   ]
  },
  {
   "cell_type": "code",
   "execution_count": 92,
   "metadata": {},
   "outputs": [
    {
     "name": "stdout",
     "output_type": "stream",
     "text": [
      "total 30G\r\n",
      "drwxrwxr-x 5 ubuntu ubuntu  4.0K Aug  3 23:49 \u001b[0m\u001b[01;34m.\u001b[0m/\r\n",
      "drwxrwxr-x 3 ubuntu ubuntu  4.0K Aug  2 21:06 \u001b[01;34m..\u001b[0m/\r\n",
      "-rw-rw-r-- 1 ubuntu ubuntu   554 Aug  3 23:43 1\r\n",
      "-rw-rw-r-- 1 ubuntu ubuntu  542K Aug  3 02:36 A1-D041914-3_8_M-1-1.gencode.vM17.csv\r\n",
      "-rw-rw-r-- 1 ubuntu ubuntu  1.4K Aug  3 23:43 A1-D041914-3_8_M-1-1_S269.adapterremoval.txt\r\n",
      "-rw-rw-r-- 1 ubuntu ubuntu  767K Aug  3 23:49 \u001b[01;31mA1-D041914-3_8_M-1-1_S269.discarded.gz\u001b[0m\r\n",
      "-rw-rw-r-- 1 ubuntu ubuntu  3.8G Aug  3 19:05 A1-D041914-3_8_M-1-1_S269.k12.cg\r\n",
      "-rw-rw-r-- 1 ubuntu ubuntu   193 Aug  3 19:06 A1-D041914-3_8_M-1-1_S269.k12.cg.info\r\n",
      "-rw-rw-r-- 1 ubuntu ubuntu  3.8G Aug  3 19:07 A1-D041914-3_8_M-1-1_S269.k15.cg\r\n",
      "-rw-rw-r-- 1 ubuntu ubuntu   193 Aug  3 19:07 A1-D041914-3_8_M-1-1_S269.k15.cg.info\r\n",
      "-rw-rw-r-- 1 ubuntu ubuntu  3.8G Aug  3 19:08 A1-D041914-3_8_M-1-1_S269.k18.cg\r\n",
      "-rw-rw-r-- 1 ubuntu ubuntu   193 Aug  3 19:09 A1-D041914-3_8_M-1-1_S269.k18.cg.info\r\n",
      "-rw-rw-r-- 1 ubuntu ubuntu  3.8G Aug  3 19:09 A1-D041914-3_8_M-1-1_S269.k21.cg\r\n",
      "-rw-rw-r-- 1 ubuntu ubuntu   193 Aug  3 19:10 A1-D041914-3_8_M-1-1_S269.k21.cg.info\r\n",
      "-rw-rw-r-- 1 ubuntu ubuntu  3.8G Aug  3 19:10 A1-D041914-3_8_M-1-1_S269.k24.cg\r\n",
      "-rw-rw-r-- 1 ubuntu ubuntu   194 Aug  3 19:11 A1-D041914-3_8_M-1-1_S269.k24.cg.info\r\n",
      "-rw-rw-r-- 1 ubuntu ubuntu  3.8G Aug  3 19:11 A1-D041914-3_8_M-1-1_S269.k27.cg\r\n",
      "-rw-rw-r-- 1 ubuntu ubuntu   194 Aug  3 19:12 A1-D041914-3_8_M-1-1_S269.k27.cg.info\r\n",
      "-rw-rw-r-- 1 ubuntu ubuntu  3.8G Aug  3 19:13 A1-D041914-3_8_M-1-1_S269.k30.cg\r\n",
      "-rw-rw-r-- 1 ubuntu ubuntu   194 Aug  3 19:13 A1-D041914-3_8_M-1-1_S269.k30.cg.info\r\n",
      "-rw-rw-r-- 1 ubuntu ubuntu   29M Aug  3 23:49 \u001b[01;31mA1-D041914-3_8_M-1-1_S269.pair1.truncated.gz\u001b[0m\r\n",
      "-rw-rw-r-- 1 ubuntu ubuntu   30M Aug  3 23:49 \u001b[01;31mA1-D041914-3_8_M-1-1_S269.pair2.truncated.gz\u001b[0m\r\n",
      "-rw-rw-r-- 1 ubuntu ubuntu   34M Oct 31  2017 \u001b[01;31mA1-D041914-3_8_M-1-1_S269_R1_001.fastq.gz\u001b[0m\r\n",
      "-rw-rw-r-- 1 ubuntu ubuntu  1.3M Aug  3 19:20 A1-D041914-3_8_M-1-1_S269_R1_001.k12.dist\r\n",
      "-rw-rw-r-- 1 ubuntu ubuntu  1.2M Aug  3 19:23 A1-D041914-3_8_M-1-1_S269_R1_001.k15.dist\r\n",
      "-rw-rw-r-- 1 ubuntu ubuntu  1.2M Aug  3 19:26 A1-D041914-3_8_M-1-1_S269_R1_001.k18.dist\r\n",
      "-rw-rw-r-- 1 ubuntu ubuntu  1.2M Aug  3 19:29 A1-D041914-3_8_M-1-1_S269_R1_001.k21.dist\r\n",
      "-rw-rw-r-- 1 ubuntu ubuntu  1.1M Aug  3 19:32 A1-D041914-3_8_M-1-1_S269_R1_001.k24.dist\r\n",
      "-rw-rw-r-- 1 ubuntu ubuntu  1.1M Aug  3 19:34 A1-D041914-3_8_M-1-1_S269_R1_001.k27.dist\r\n",
      "-rw-rw-r-- 1 ubuntu ubuntu  948K Aug  3 19:37 A1-D041914-3_8_M-1-1_S269_R1_001.k30.dist\r\n",
      "-rw-rw-r-- 1 ubuntu ubuntu   36M Oct 31  2017 \u001b[01;31mA1-D041914-3_8_M-1-1_S269_R2_001.fastq.gz\u001b[0m\r\n",
      "-rw-rw-r-- 1 ubuntu ubuntu  1.3M Aug  3 19:20 A1-D041914-3_8_M-1-1_S269_R2_001.k12.dist\r\n",
      "-rw-rw-r-- 1 ubuntu ubuntu  1.2M Aug  3 19:24 A1-D041914-3_8_M-1-1_S269_R2_001.k15.dist\r\n",
      "-rw-rw-r-- 1 ubuntu ubuntu  1.2M Aug  3 19:26 A1-D041914-3_8_M-1-1_S269_R2_001.k18.dist\r\n",
      "-rw-rw-r-- 1 ubuntu ubuntu  1.2M Aug  3 19:29 A1-D041914-3_8_M-1-1_S269_R2_001.k21.dist\r\n",
      "-rw-rw-r-- 1 ubuntu ubuntu  1.1M Aug  3 19:32 A1-D041914-3_8_M-1-1_S269_R2_001.k24.dist\r\n",
      "-rw-rw-r-- 1 ubuntu ubuntu  1.1M Aug  3 19:35 A1-D041914-3_8_M-1-1_S269_R2_001.k27.dist\r\n",
      "-rw-rw-r-- 1 ubuntu ubuntu  947K Aug  3 19:38 A1-D041914-3_8_M-1-1_S269_R2_001.k30.dist\r\n",
      "-rw-rw-r-- 1 ubuntu ubuntu  2.8K Aug  3 23:49 A1-D041914-3_8_M-1-1_S269.settings\r\n",
      "-rw-rw-r-- 1 ubuntu ubuntu    20 Aug  3 23:49 \u001b[01;31mA1-D041914-3_8_M-1-1_S269.singleton.truncated.gz\u001b[0m\r\n",
      "-rw-rw-r-- 1 ubuntu ubuntu  2.9M Aug  2 07:51 A1-D041914-3_8_M-1-1.sig\r\n",
      "-rw-rw-r-- 1 ubuntu ubuntu     0 Aug  3 20:04 A1-D041914-3_8_M-1-1.trimmed\r\n",
      "-rw-rw-r-- 1 ubuntu ubuntu   56M Aug  3 19:30 \u001b[01;31mA1-D041914-3_8_M-1-1.trimmed.gz\u001b[0m\r\n",
      "-rw-rw-r-- 1 ubuntu ubuntu  1.3M Aug  3 19:55 A1-D041914-3_8_M-1-1.trimmed.k12.dist\r\n",
      "-rw-rw-r-- 1 ubuntu ubuntu  1.3M Aug  3 19:40 A1-D041914-3_8_M-1-1.trimmed.k12.hist\r\n",
      "-rw-rw-r-- 1 ubuntu ubuntu  1.2M Aug  3 19:55 A1-D041914-3_8_M-1-1.trimmed.k15.dist\r\n",
      "-rw-rw-r-- 1 ubuntu ubuntu  1.2M Aug  3 19:40 A1-D041914-3_8_M-1-1.trimmed.k15.hist\r\n",
      "-rw-rw-r-- 1 ubuntu ubuntu  1.2M Aug  3 19:55 A1-D041914-3_8_M-1-1.trimmed.k18.dist\r\n",
      "-rw-rw-r-- 1 ubuntu ubuntu  1.2M Aug  3 19:41 A1-D041914-3_8_M-1-1.trimmed.k18.hist\r\n",
      "-rw-rw-r-- 1 ubuntu ubuntu  1.2M Aug  3 19:56 A1-D041914-3_8_M-1-1.trimmed.k21.dist\r\n",
      "-rw-rw-r-- 1 ubuntu ubuntu  1.2M Aug  3 19:41 A1-D041914-3_8_M-1-1.trimmed.k21.hist\r\n",
      "-rw-rw-r-- 1 ubuntu ubuntu  1.1M Aug  3 19:56 A1-D041914-3_8_M-1-1.trimmed.k24.dist\r\n",
      "-rw-rw-r-- 1 ubuntu ubuntu  1.1M Aug  3 19:42 A1-D041914-3_8_M-1-1.trimmed.k24.hist\r\n",
      "-rw-rw-r-- 1 ubuntu ubuntu 1021K Aug  3 19:56 A1-D041914-3_8_M-1-1.trimmed.k27.dist\r\n",
      "-rw-rw-r-- 1 ubuntu ubuntu  1.1M Aug  3 19:42 A1-D041914-3_8_M-1-1.trimmed.k27.hist\r\n",
      "-rw-rw-r-- 1 ubuntu ubuntu  940K Aug  3 19:57 A1-D041914-3_8_M-1-1.trimmed.k30.dist\r\n",
      "-rw-rw-r-- 1 ubuntu ubuntu  943K Aug  3 19:42 A1-D041914-3_8_M-1-1.trimmed.k30.hist\r\n",
      "-rw-rw-r-- 1 ubuntu ubuntu    48 Aug  3 19:57 A1-D041914-3_8_M-1-1.trimmed.k33.dist\r\n",
      "-rw-rw-r-- 1 ubuntu ubuntu    48 Aug  3 19:42 A1-D041914-3_8_M-1-1.trimmed.k33.hist\r\n",
      "-rw-rw-r-- 1 ubuntu ubuntu  239M May 10 01:08 gencode.vM17.transcripts.fa\r\n",
      "-rw-rw-r-- 1 ubuntu ubuntu   53M Apr 25 21:13 \u001b[01;31mgencode.vM17.transcripts.fa.gz\u001b[0m\r\n",
      "-rw-rw-r-- 1 ubuntu ubuntu  2.4G May 10 01:08 gencode.vM17.transcripts.fa.kallisto\r\n",
      "-rw-rw-r-- 1 ubuntu ubuntu  1.3M Aug  3 00:24 gencode.vM17.transcripts.k12.dist\r\n",
      "-rw-rw-r-- 1 ubuntu ubuntu  1.5M Aug  3 00:25 gencode.vM17.transcripts.k15.dist\r\n",
      "-rw-rw-r-- 1 ubuntu ubuntu  1.2M Aug  3 00:26 gencode.vM17.transcripts.k18.dist\r\n",
      "-rw-rw-r-- 1 ubuntu ubuntu  999K Aug  3 00:27 gencode.vM17.transcripts.k21.dist\r\n",
      "-rw-rw-r-- 1 ubuntu ubuntu  819K Aug  3 00:29 gencode.vM17.transcripts.k24.dist\r\n",
      "-rw-rw-r-- 1 ubuntu ubuntu  662K Aug  3 00:30 gencode.vM17.transcripts.k27.dist\r\n",
      "-rw-rw-r-- 1 ubuntu ubuntu  523K Aug  3 00:31 gencode.vM17.transcripts.k30.dist\r\n",
      "-rw-rw-r-- 1 ubuntu ubuntu    48 Aug  3 00:31 gencode.vM17.transcripts.k33.dist\r\n",
      "-rw-rw-r-- 1 ubuntu ubuntu  174M Aug  2 23:43 gencode.vM17.transcripts.scale1000.fromfa.sig\r\n",
      "-rw-rw-r-- 1 ubuntu ubuntu  174M Aug  2 23:41 gencode.vM17.transcripts.scale1000.fromgz.sig\r\n",
      "-rw-rw-r-- 1 ubuntu ubuntu   33M Aug  3 00:07 gencode.vM17.transcripts.scale1000.k21.dna.sbt.sbt.json\r\n",
      "-rw-rw-r-- 1 ubuntu ubuntu   33M Aug  3 18:46 gencode.vM17.transcripts.scale1000.k21.protein.sbt.sbt.json\r\n",
      "-rw-rw-r-- 1 ubuntu ubuntu     0 Aug  2 23:31 gencode.vM17.transcripts.scale1000.sig\r\n",
      "-rw-rw-r-- 1 ubuntu ubuntu     0 Aug  2 21:14 gencode.vM17.transcripts.scale500.sig\r\n",
      "drwxrwxr-x 2 ubuntu ubuntu  8.0M Aug  2 22:14 \u001b[01;34m.sbt.gencode.vM17.transcripts.scale1000.k21.dna.sbt\u001b[0m/\r\n",
      "drwxrwxr-x 2 ubuntu ubuntu  9.1M Aug  3 18:46 \u001b[01;34m.sbt.gencode.vM17.transcripts.scale1000.k21.protein.sbt\u001b[0m/\r\n",
      "drwx------ 2 ubuntu ubuntu  4.0K Aug  3 19:27 \u001b[01;34mtmplwy8pfzhkhmer\u001b[0m/\r\n",
      "-rw-rw-r-- 1 ubuntu ubuntu  767K Aug  3 23:49 \u001b[01;31myour_output.discarded.gz\u001b[0m\r\n",
      "-rw-rw-r-- 1 ubuntu ubuntu   29M Aug  3 23:49 \u001b[01;31myour_output.pair1.truncated.gz\u001b[0m\r\n",
      "-rw-rw-r-- 1 ubuntu ubuntu   30M Aug  3 23:49 \u001b[01;31myour_output.pair2.truncated.gz\u001b[0m\r\n",
      "-rw-rw-r-- 1 ubuntu ubuntu  2.8K Aug  3 23:49 your_output.settings\r\n",
      "-rw-rw-r-- 1 ubuntu ubuntu    20 Aug  3 23:49 \u001b[01;31myour_output.singleton.truncated.gz\u001b[0m\r\n"
     ]
    }
   ],
   "source": [
    "ls -lha"
   ]
  },
  {
   "cell_type": "code",
   "execution_count": 93,
   "metadata": {
    "scrolled": false
   },
   "outputs": [
    {
     "name": "stdout",
     "output_type": "stream",
     "text": [
      "AdapterRemoval ver. 2.2.2\r\n",
      "Trimming of paired-end reads\r\n",
      "\r\n",
      "\r\n",
      "[Adapter sequences]\r\n",
      "Adapter1[1]: CTGTCTCTTATACACATCTCCGAGCCCACGAGA\r\n",
      "Adapter2[1]: CTGTCTCTTATACACATCTCCGAGCCCACGAGA\r\n",
      "\r\n",
      "\r\n",
      "[Adapter trimming]\r\n",
      "RNG seed: NA\r\n",
      "Alignment shift value: 2\r\n",
      "Global mismatch threshold: 0.333333\r\n",
      "Quality format (input): Phred+33\r\n",
      "Quality score max (input): 41\r\n",
      "Quality format (output): Phred+33\r\n",
      "Quality score max (output): 41\r\n",
      "Mate-number separator (input): '/'\r\n",
      "Trimming Ns: No\r\n",
      "Trimming Phred scores <= 2: No\r\n",
      "Trimming using sliding windows: No\r\n",
      "Minimum genomic length: 80\r\n",
      "Maximum genomic length: 4294967295\r\n",
      "Collapse overlapping reads: No\r\n",
      "Minimum overlap (in case of collapse): 11\r\n",
      "\r\n",
      "\r\n",
      "[Trimming statistics]\r\n",
      "Total number of read pairs: 671303\r\n",
      "Number of unaligned read pairs: 448575\r\n",
      "Number of well aligned read pairs: 222728\r\n",
      "Number of discarded mate 1 reads: 15529\r\n",
      "Number of singleton mate 1 reads: 0\r\n",
      "Number of discarded mate 2 reads: 15529\r\n",
      "Number of singleton mate 2 reads: 0\r\n",
      "Number of reads with adapters[1]: 50548\r\n",
      "Number of retained reads: 1311548\r\n",
      "Number of retained nucleotides: 130959124\r\n",
      "Average length of retained reads: 99.8508\r\n",
      "\r\n",
      "\r\n",
      "[Length distribution]\r\n",
      "Length\tMate1\tMate2\tSingleton\tDiscarded\tAll\r\n",
      "0\t0\t0\t0\t16\t16\r\n",
      "1\t0\t0\t0\t14\t14\r\n",
      "2\t0\t0\t0\t14\t14\r\n",
      "3\t0\t0\t0\t42\t42\r\n",
      "4\t0\t0\t0\t6\t6\r\n",
      "5\t0\t0\t0\t6\t6\r\n",
      "6\t0\t0\t0\t22\t22\r\n",
      "7\t0\t0\t0\t18\t18\r\n",
      "8\t0\t0\t0\t74\t74\r\n",
      "9\t0\t0\t0\t20\t20\r\n",
      "10\t0\t0\t0\t10\t10\r\n",
      "11\t0\t0\t0\t6\t6\r\n",
      "12\t0\t0\t0\t6\t6\r\n",
      "13\t0\t0\t0\t12\t12\r\n",
      "14\t0\t0\t0\t8\t8\r\n",
      "15\t0\t0\t0\t4\t4\r\n",
      "16\t0\t0\t0\t4\t4\r\n",
      "17\t0\t0\t0\t6\t6\r\n",
      "18\t0\t0\t0\t2\t2\r\n",
      "19\t0\t0\t0\t4\t4\r\n",
      "20\t0\t0\t0\t10\t10\r\n",
      "21\t0\t0\t0\t10\t10\r\n",
      "22\t0\t0\t0\t12\t12\r\n",
      "23\t0\t0\t0\t10\t10\r\n",
      "24\t0\t0\t0\t10\t10\r\n",
      "25\t0\t0\t0\t20\t20\r\n",
      "26\t0\t0\t0\t28\t28\r\n",
      "27\t0\t0\t0\t48\t48\r\n",
      "28\t0\t0\t0\t42\t42\r\n",
      "29\t0\t0\t0\t84\t84\r\n",
      "30\t0\t0\t0\t78\t78\r\n",
      "31\t0\t0\t0\t116\t116\r\n",
      "32\t0\t0\t0\t132\t132\r\n",
      "33\t0\t0\t0\t190\t190\r\n",
      "34\t0\t0\t0\t212\t212\r\n",
      "35\t0\t0\t0\t358\t358\r\n",
      "36\t0\t0\t0\t368\t368\r\n",
      "37\t0\t0\t0\t410\t410\r\n",
      "38\t0\t0\t0\t562\t562\r\n",
      "39\t0\t0\t0\t602\t602\r\n",
      "40\t0\t0\t0\t678\t678\r\n",
      "41\t0\t0\t0\t618\t618\r\n",
      "42\t0\t0\t0\t634\t634\r\n",
      "43\t0\t0\t0\t574\t574\r\n",
      "44\t0\t0\t0\t544\t544\r\n",
      "45\t0\t0\t0\t612\t612\r\n",
      "46\t0\t0\t0\t562\t562\r\n",
      "47\t0\t0\t0\t584\t584\r\n",
      "48\t0\t0\t0\t484\t484\r\n",
      "49\t0\t0\t0\t542\t542\r\n",
      "50\t0\t0\t0\t682\t682\r\n",
      "51\t0\t0\t0\t640\t640\r\n",
      "52\t0\t0\t0\t752\t752\r\n",
      "53\t0\t0\t0\t692\t692\r\n",
      "54\t0\t0\t0\t774\t774\r\n",
      "55\t0\t0\t0\t880\t880\r\n",
      "56\t0\t0\t0\t704\t704\r\n",
      "57\t0\t0\t0\t774\t774\r\n",
      "58\t0\t0\t0\t618\t618\r\n",
      "59\t0\t0\t0\t614\t614\r\n",
      "60\t0\t0\t0\t618\t618\r\n",
      "61\t0\t0\t0\t634\t634\r\n",
      "62\t0\t0\t0\t614\t614\r\n",
      "63\t0\t0\t0\t676\t676\r\n",
      "64\t0\t0\t0\t684\t684\r\n",
      "65\t0\t0\t0\t692\t692\r\n",
      "66\t0\t0\t0\t692\t692\r\n",
      "67\t0\t0\t0\t768\t768\r\n",
      "68\t0\t0\t0\t702\t702\r\n",
      "69\t0\t0\t0\t774\t774\r\n",
      "70\t0\t0\t0\t750\t750\r\n",
      "71\t0\t0\t0\t810\t810\r\n",
      "72\t0\t0\t0\t682\t682\r\n",
      "73\t0\t0\t0\t748\t748\r\n",
      "74\t0\t0\t0\t758\t758\r\n",
      "75\t0\t0\t0\t738\t738\r\n",
      "76\t0\t0\t0\t782\t782\r\n",
      "77\t0\t0\t0\t764\t764\r\n",
      "78\t0\t0\t0\t802\t802\r\n",
      "79\t0\t0\t0\t812\t812\r\n",
      "80\t422\t422\t0\t0\t844\r\n",
      "81\t428\t428\t0\t0\t856\r\n",
      "82\t486\t486\t0\t0\t972\r\n",
      "83\t427\t427\t0\t0\t854\r\n",
      "84\t449\t449\t0\t0\t898\r\n",
      "85\t477\t477\t0\t0\t954\r\n",
      "86\t443\t443\t0\t0\t886\r\n",
      "87\t455\t455\t0\t0\t910\r\n",
      "88\t525\t525\t0\t0\t1050\r\n",
      "89\t472\t472\t0\t0\t944\r\n",
      "90\t476\t476\t0\t0\t952\r\n",
      "91\t501\t501\t0\t0\t1002\r\n",
      "92\t456\t456\t0\t0\t912\r\n",
      "93\t526\t526\t0\t0\t1052\r\n",
      "94\t469\t469\t0\t0\t938\r\n",
      "95\t488\t488\t0\t0\t976\r\n",
      "96\t551\t551\t0\t0\t1102\r\n",
      "97\t503\t503\t0\t0\t1006\r\n",
      "98\t554\t554\t0\t0\t1108\r\n",
      "99\t637\t637\t0\t0\t1274\r\n",
      "100\t646029\t646029\t0\t0\t1292058\r\n"
     ]
    }
   ],
   "source": [
    "cat A1-D041914-3_8_M-1-1_S269.settings"
   ]
  },
  {
   "cell_type": "code",
   "execution_count": 88,
   "metadata": {},
   "outputs": [
    {
     "name": "stdout",
     "output_type": "stream",
     "text": [
      "Attempting to identify adapter sequences ...\r\n",
      "   Found 206735 overlapping pairs ...\r\n",
      "   Of which 21859 contained adapter sequence(s) ...\r\n",
      "\r\n",
      "Printing adapter sequences, including poly-A tails:\r\n",
      "  --adapter1:  AGATCGGAAGAGCACACGTCTGAACTCCAGTCACNNNNNNATCTCGTATGCCGTCTTCTGCTTG\r\n",
      "                  ||       ||||  || || | |  |  ||******   ||   |      |  |     \r\n",
      "   Consensus:  CTGTCTCTTATACACATCTCCGAGCCCACGAGACGACGAATGATCTCGTATGCCGTCTTCTGCTTGAAAAGGGGGGGGGGGGGGGGGGC\r\n",
      "     Quality:  **+*))(*++(+(+(+&&&**(+(++**)(*&*)'*('*)(&)'&$&(('('(((&%&&%%&%$$$$###\"#\"\"#\"\"\"\"\"\"\"##\"\"\"#\"\r\n",
      "\r\n",
      "    Top 5 most common 9-bp 5'-kmers:\r\n",
      "            1: CTGTCTCTT = 72.42% (13227)\r\n",
      "            2: CTGTCTATT =  1.86% (340)\r\n",
      "            3: CTGTATCTT =  1.02% (187)\r\n",
      "            4: CTGTCACTT =  0.91% (166)\r\n",
      "            5: CTGTATATT =  0.85% (156)\r\n",
      "\r\n",
      "\r\n",
      "  --adapter2:  AGATCGGAAGAGCGTCGTGTAGGGAAAGAGTGTAGATCTCGGTGGTCGCCGTATCATT\r\n",
      "                  ||       |       | |        |         |||     |        \r\n",
      "   Consensus:  CTGTCTCTTATACACATCTGACGCTGCCGACGACTCAGCTAGTGTAGATCTCGGGGGGGGGCGGATCATTAGAAAAGGGGGGCGGGGGG\r\n",
      "     Quality:  )*)*(('**,(,'+',&&('+)()')*+'*('*&%&)'&&(&(&'$##'\"$#((#'($$'#$&$\"#\"##\"\"\"#\"\"\"\"\"\"\"#\"\"#\"\"$\"\"\r\n",
      "\r\n",
      "    Top 5 most common 9-bp 5'-kmers:\r\n",
      "            1: CTGTCTCTT = 68.28% (12464)\r\n",
      "            2: CTGTCTATT =  1.11% (203)\r\n",
      "            3: CTGTATATT =  0.86% (157)\r\n",
      "            4: CTGTATCTT =  0.61% (112)\r\n",
      "            5: CTGTCACTT =  0.51% (93)\r\n"
     ]
    }
   ],
   "source": [
    "cat A1-D041914-3_8_M-1-1_S269.adapterremoval.txt"
   ]
  },
  {
   "cell_type": "code",
   "execution_count": 60,
   "metadata": {},
   "outputs": [
    {
     "name": "stdout",
     "output_type": "stream",
     "text": [
      "total 3.0G\r\n",
      "drwxrwxr-x 3 ubuntu ubuntu 4.0K Aug  2 22:22 \u001b[0m\u001b[01;34m.\u001b[0m/\r\n",
      "drwxrwxr-x 3 ubuntu ubuntu 4.0K Aug  2 21:06 \u001b[01;34m..\u001b[0m/\r\n",
      "-rw-rw-r-- 1 ubuntu ubuntu  34M Oct 31  2017 \u001b[01;31mA1-D041914-3_8_M-1-1_S269_R1_001.fastq.gz\u001b[0m\r\n",
      "-rw-rw-r-- 1 ubuntu ubuntu  36M Oct 31  2017 \u001b[01;31mA1-D041914-3_8_M-1-1_S269_R2_001.fastq.gz\u001b[0m\r\n",
      "-rw-rw-r-- 1 ubuntu ubuntu 2.9M Aug  2 07:51 A1-D041914-3_8_M-1-1.sig\r\n",
      "-rw-rw-r-- 1 ubuntu ubuntu 239M May 10 01:08 gencode.vM17.transcripts.fa\r\n",
      "-rw-rw-r-- 1 ubuntu ubuntu  53M Apr 25 21:13 \u001b[01;31mgencode.vM17.transcripts.fa.gz\u001b[0m\r\n",
      "-rw-rw-r-- 1 ubuntu ubuntu 2.4G May 10 01:08 gencode.vM17.transcripts.fa.kallisto\r\n",
      "-rw-rw-r-- 1 ubuntu ubuntu  33M Aug  2 22:14 gencode.vM17.transcripts.scale1000.k21.dna.sbt.sbt.json\r\n",
      "-rw-rw-r-- 1 ubuntu ubuntu 174M Aug  2 22:34 gencode.vM17.transcripts.scale1000.sig\r\n",
      "-rw-rw-r-- 1 ubuntu ubuntu    0 Aug  2 21:14 gencode.vM17.transcripts.scale500.sig\r\n",
      "drwxrwxr-x 2 ubuntu ubuntu 8.0M Aug  2 22:14 \u001b[01;34m.sbt.gencode.vM17.transcripts.scale1000.k21.dna.sbt\u001b[0m/\r\n"
     ]
    }
   ],
   "source": [
    "ls -lha"
   ]
  },
  {
   "cell_type": "code",
   "execution_count": 61,
   "metadata": {},
   "outputs": [
    {
     "name": "stdout",
     "output_type": "stream",
     "text": [
      "usage: sourmash [-h] [-q] [-k KSIZE] [-d N_CHILDREN] [--traverse-directory]\r\n",
      "                [--append] [-x BF_SIZE] [-f] [-s SPARSENESS] [--protein]\r\n",
      "                [--no-protein] [--dna] [--no-dna]\r\n",
      "                sbt_name signatures [signatures ...]\r\n",
      "\r\n",
      "positional arguments:\r\n",
      "  sbt_name              name to save SBT into\r\n",
      "  signatures            signatures to load into SBT\r\n",
      "\r\n",
      "optional arguments:\r\n",
      "  -h, --help            show this help message and exit\r\n",
      "  -q, --quiet           suppress non-error output\r\n",
      "  -k KSIZE, --ksize KSIZE\r\n",
      "                        k-mer size for which to build the SBT.\r\n",
      "  -d N_CHILDREN, --n_children N_CHILDREN\r\n",
      "                        Number of children for internal nodes\r\n",
      "  --traverse-directory  load all signatures underneath this directory.\r\n",
      "  --append              add signatures to an existing SBT.\r\n",
      "  -x BF_SIZE, --bf-size BF_SIZE\r\n",
      "                        Bloom filter size used for internal nodes.\r\n",
      "  -f, --force           Try loading all files with --traverse-directory\r\n",
      "  -s SPARSENESS, --sparseness SPARSENESS\r\n",
      "                        What percentage of internal nodes will not be saved.\r\n",
      "                        Ranges from 0.0 (save all nodes) to 1.0 (no nodes\r\n",
      "                        saved)\r\n",
      "  --protein             choose a protein signature (default: False)\r\n",
      "  --no-protein          do not choose a protein signature\r\n",
      "  --dna                 choose a DNA signature (default: True)\r\n",
      "  --no-dna              do not choose a DNA signature\r\n"
     ]
    }
   ],
   "source": [
    "! sourmash index --help"
   ]
  },
  {
   "cell_type": "code",
   "execution_count": 62,
   "metadata": {},
   "outputs": [
    {
     "name": "stderr",
     "output_type": "stream",
     "text": [
      "IOPub data rate exceeded.\n",
      "The notebook server will temporarily stop sending output\n",
      "to the client in order to avoid crashing it.\n",
      "To change this limit, set the config variable\n",
      "`--NotebookApp.iopub_data_rate_limit`.\n",
      "\n",
      "Current values:\n",
      "NotebookApp.iopub_data_rate_limit=1000000.0 (bytes/sec)\n",
      "NotebookApp.rate_limit_window=3.0 (secs)\n",
      "\n"
     ]
    }
   ],
   "source": [
    "%%bash\n",
    "\n",
    "sourmash index --dna --ksize=21 \\\n",
    "    gencode.vM17.transcripts.scale1000.k21.dna.sbt gencode.vM17.transcripts.scale1000.sig"
   ]
  },
  {
   "cell_type": "code",
   "execution_count": 34,
   "metadata": {},
   "outputs": [
    {
     "name": "stdout",
     "output_type": "stream",
     "text": [
      "total 3.2G\r\n",
      "drwxrwxr-x 3 ubuntu ubuntu 4.0K Aug  3 01:05 \u001b[0m\u001b[01;34m.\u001b[0m/\r\n",
      "drwxrwxr-x 3 ubuntu ubuntu 4.0K Aug  2 21:06 \u001b[01;34m..\u001b[0m/\r\n",
      "-rw-rw-r-- 1 ubuntu ubuntu 542K Aug  3 02:36 A1-D041914-3_8_M-1-1.gencode.vM17.csv\r\n",
      "-rw-rw-r-- 1 ubuntu ubuntu  34M Oct 31  2017 \u001b[01;31mA1-D041914-3_8_M-1-1_S269_R1_001.fastq.gz\u001b[0m\r\n",
      "-rw-rw-r-- 1 ubuntu ubuntu  36M Oct 31  2017 \u001b[01;31mA1-D041914-3_8_M-1-1_S269_R2_001.fastq.gz\u001b[0m\r\n",
      "-rw-rw-r-- 1 ubuntu ubuntu 2.9M Aug  2 07:51 A1-D041914-3_8_M-1-1.sig\r\n",
      "-rw-rw-r-- 1 ubuntu ubuntu 239M May 10 01:08 gencode.vM17.transcripts.fa\r\n",
      "-rw-rw-r-- 1 ubuntu ubuntu  53M Apr 25 21:13 \u001b[01;31mgencode.vM17.transcripts.fa.gz\u001b[0m\r\n",
      "-rw-rw-r-- 1 ubuntu ubuntu 2.4G May 10 01:08 gencode.vM17.transcripts.fa.kallisto\r\n",
      "-rw-rw-r-- 1 ubuntu ubuntu 1.3M Aug  3 00:24 gencode.vM17.transcripts.k12.dist\r\n",
      "-rw-rw-r-- 1 ubuntu ubuntu 1.5M Aug  3 00:25 gencode.vM17.transcripts.k15.dist\r\n",
      "-rw-rw-r-- 1 ubuntu ubuntu 1.2M Aug  3 00:26 gencode.vM17.transcripts.k18.dist\r\n",
      "-rw-rw-r-- 1 ubuntu ubuntu 999K Aug  3 00:27 gencode.vM17.transcripts.k21.dist\r\n",
      "-rw-rw-r-- 1 ubuntu ubuntu 819K Aug  3 00:29 gencode.vM17.transcripts.k24.dist\r\n",
      "-rw-rw-r-- 1 ubuntu ubuntu 662K Aug  3 00:30 gencode.vM17.transcripts.k27.dist\r\n",
      "-rw-rw-r-- 1 ubuntu ubuntu 523K Aug  3 00:31 gencode.vM17.transcripts.k30.dist\r\n",
      "-rw-rw-r-- 1 ubuntu ubuntu   48 Aug  3 00:31 gencode.vM17.transcripts.k33.dist\r\n",
      "-rw-rw-r-- 1 ubuntu ubuntu 174M Aug  2 23:43 gencode.vM17.transcripts.scale1000.fromfa.sig\r\n",
      "-rw-rw-r-- 1 ubuntu ubuntu 174M Aug  2 23:41 gencode.vM17.transcripts.scale1000.fromgz.sig\r\n",
      "-rw-rw-r-- 1 ubuntu ubuntu  33M Aug  3 00:07 gencode.vM17.transcripts.scale1000.k21.dna.sbt.sbt.json\r\n",
      "-rw-rw-r-- 1 ubuntu ubuntu    0 Aug  2 23:31 gencode.vM17.transcripts.scale1000.sig\r\n",
      "-rw-rw-r-- 1 ubuntu ubuntu    0 Aug  2 21:14 gencode.vM17.transcripts.scale500.sig\r\n",
      "drwxrwxr-x 2 ubuntu ubuntu 8.0M Aug  2 22:14 \u001b[01;34m.sbt.gencode.vM17.transcripts.scale1000.k21.dna.sbt\u001b[0m/\r\n"
     ]
    }
   ],
   "source": [
    "ls -lha"
   ]
  },
  {
   "cell_type": "code",
   "execution_count": 36,
   "metadata": {},
   "outputs": [
    {
     "name": "stderr",
     "output_type": "stream",
     "text": [
      "IOPub data rate exceeded.\n",
      "The notebook server will temporarily stop sending output\n",
      "to the client in order to avoid crashing it.\n",
      "To change this limit, set the config variable\n",
      "`--NotebookApp.iopub_data_rate_limit`.\n",
      "\n",
      "Current values:\n",
      "NotebookApp.iopub_data_rate_limit=1000000.0 (bytes/sec)\n",
      "NotebookApp.rate_limit_window=3.0 (secs)\n",
      "\n"
     ]
    }
   ],
   "source": [
    "%%bash\n",
    "\n",
    "sourmash index --protein --ksize=21 \\\n",
    "    gencode.vM17.transcripts.scale1000.k21.protein.sbt gencode.vM17.transcripts.scale1000.fromfa.sig"
   ]
  },
  {
   "cell_type": "code",
   "execution_count": 22,
   "metadata": {},
   "outputs": [
    {
     "name": "stdout",
     "output_type": "stream",
     "text": [
      "download: s3://olgabot-maca/facs/sourmash_dna-only_trim=true_scaled=1000/A1-D041914-3_8_M-1-1.signature to ./A1-D041914-3_8_M-1-1.sig\n",
      "download: s3://olgabot-maca/facs/sourmash_dna-only_trim=true_scaled=1000/A1-D041914-3_8_M-1-1.signature to ./A1-D041914-3_8_M-1-1.sig\n",
      "download: s3://olgabot-maca/facs/sourmash_dna-only_trim=true_scaled=1000/A1-D041914-3_8_M-1-1.signature to ./A1-D041914-3_8_M-1-1.sig\n"
     ]
    }
   ],
   "source": [
    "! aws s3 cp s3://olgabot-maca/facs/sourmash_dna-only_trim=true_scaled=1000/A1-D041914-3_8_M-1-1.signature A1-D041914-3_8_M-1-1.sig\n"
   ]
  },
  {
   "cell_type": "code",
   "execution_count": 48,
   "metadata": {},
   "outputs": [
    {
     "name": "stdout",
     "output_type": "stream",
     "text": [
      "usage: sourmash [-h] [--traverse-directory] [-q] [--threshold THRESHOLD]\n",
      "                [--save-matches SAVE_MATCHES] [--best-only] [-n NUM_RESULTS]\n",
      "                [--containment] [--scaled SCALED] [-o OUTPUT] [-k KSIZE]\n",
      "                [--protein] [--no-protein] [--dna] [--no-dna]\n",
      "                query databases [databases ...]\n",
      "\n",
      "positional arguments:\n",
      "  query                 query signature\n",
      "  databases             signatures/SBTs to search\n",
      "\n",
      "optional arguments:\n",
      "  -h, --help            show this help message and exit\n",
      "  --traverse-directory  search all signatures underneath directories.\n",
      "  -q, --quiet           suppress non-error output\n",
      "  --threshold THRESHOLD\n",
      "                        minimum threshold for reporting matches\n",
      "  --save-matches SAVE_MATCHES\n",
      "                        output matching signatures to this file.\n",
      "  --best-only           report only the best match (with greater speed).\n",
      "  -n NUM_RESULTS, --num-results NUM_RESULTS\n",
      "                        number of results to report\n",
      "  --containment         evaluate containment rather than similarity\n",
      "  --scaled SCALED       downsample query to this scaled factor (yields greater\n",
      "                        speed)\n",
      "  -o OUTPUT, --output OUTPUT\n",
      "                        output CSV containing matches to this file\n",
      "  -k KSIZE, --ksize KSIZE\n",
      "                        k-mer size (default: 31)\n",
      "  --protein             choose a protein signature (default: False)\n",
      "  --no-protein          do not choose a protein signature\n",
      "  --dna                 choose a DNA signature (default: True)\n",
      "  --no-dna              do not choose a DNA signature\n"
     ]
    }
   ],
   "source": [
    "%%bash\n",
    "\n",
    "sourmash search --help"
   ]
  },
  {
   "cell_type": "markdown",
   "metadata": {},
   "source": [
    "## Download `A1-D041914-3_8_M-1-1` cell's fastqs"
   ]
  },
  {
   "cell_type": "code",
   "execution_count": 55,
   "metadata": {},
   "outputs": [
    {
     "name": "stdout",
     "output_type": "stream",
     "text": [
      "download: s3://czbiohub-maca/remux_data/170907_A00111_0052_AH2HTCDMXX/rawdata/A1-D041914-3_8_M-1-1_S269/A1-D041914-3_8_M-1-1_S269_R2_001.fastq.gz to ./A1-D041914-3_8_M-1-1_S269_R2_001.fastq.gz\n",
      "download: s3://czbiohub-maca/remux_data/170907_A00111_0052_AH2HTCDMXX/rawdata/A1-D041914-3_8_M-1-1_S269/A1-D041914-3_8_M-1-1_S269_R1_001.fastq.gz to ./A1-D041914-3_8_M-1-1_S269_R1_001.fastq.gz\n"
     ]
    }
   ],
   "source": [
    "! aws s3 cp --recursive --exclude \"*\" --include \"*fastq.gz\" s3://czbiohub-maca/remux_data/170907_A00111_0052_AH2HTCDMXX/rawdata/A1-D041914-3_8_M-1-1_S269/ ."
   ]
  },
  {
   "cell_type": "code",
   "execution_count": 63,
   "metadata": {},
   "outputs": [
    {
     "name": "stdout",
     "output_type": "stream",
     "text": [
      "Process is terminated.\n"
     ]
    }
   ],
   "source": [
    "%%bash\n",
    "\n",
    "sourmash compute --ksizes 21,33,51 \\\n",
    "    --singleton \\\n",
    "    --protein \\\n",
    "    --scaled 1000 \\\n",
    "    -o A1-D041914-3_8_M-1-1.singleton.sig \\\n",
    "    A1-D041914-3_8_M-1-1_S269_R1_001.fastq.gz A1-D041914-3_8_M-1-1_S269_R2_001.fastq.gz"
   ]
  },
  {
   "cell_type": "markdown",
   "metadata": {},
   "source": [
    "## Find kmer distribution in the transcriptome"
   ]
  },
  {
   "cell_type": "code",
   "execution_count": 75,
   "metadata": {},
   "outputs": [
    {
     "name": "stdout",
     "output_type": "stream",
     "text": [
      "\r\n",
      "|| This is the script load-into-counting.py in khmer.\r\n",
      "|| You are running khmer version 3.0.0a1\r\n",
      "|| You are also using screed version 1.0\r\n",
      "||\r\n",
      "|| If you use this script in a publication, please cite EACH of the following:\r\n",
      "||\r\n",
      "||   * MR Crusoe et al., 2015. http://dx.doi.org/10.12688/f1000research.6924.1\r\n",
      "||   * Q Zhang et al., http://dx.doi.org/10.1371/journal.pone.0101271\r\n",
      "||   * A. Döring et al. http://dx.doi.org:80/10.1186/1471-2105-9-11\r\n",
      "||\r\n",
      "|| Please see http://khmer.readthedocs.io/en/latest/citations.html for details.\r\n",
      "\r\n",
      "usage: load-into-counting.py [--version] [--info] [-h] [-k KSIZE]\r\n",
      "                             [-U UNIQUE_KMERS] [--fp-rate FP_RATE]\r\n",
      "                             [-M MAX_MEMORY_USAGE] [--small-count]\r\n",
      "                             [-T THREADS] [-b] [-s FORMAT] [-f] [-q]\r\n",
      "                             output_countgraph_filename\r\n",
      "                             input_sequence_filename\r\n",
      "                             [input_sequence_filename ...]\r\n",
      "\r\n",
      "Build a k-mer countgraph from the given sequences.\r\n",
      "\r\n",
      "positional arguments:\r\n",
      "  output_countgraph_filename\r\n",
      "                        The name of the file to write the k-mer countgraph to.\r\n",
      "  input_sequence_filename\r\n",
      "                        The names of one or more FAST[AQ] input sequence\r\n",
      "                        files.\r\n",
      "\r\n",
      "optional arguments:\r\n",
      "  --version             show program's version number and exit\r\n",
      "  --info                print citation information\r\n",
      "  -h, --help            show this help message and exit\r\n",
      "  -k KSIZE, --ksize KSIZE\r\n",
      "                        k-mer size to use (default: 32)\r\n",
      "  -U UNIQUE_KMERS, --unique-kmers UNIQUE_KMERS\r\n",
      "                        approximate number of unique kmers in the input set\r\n",
      "                        (default: 0)\r\n",
      "  --fp-rate FP_RATE     Override the automatic FP rate setting for the current\r\n",
      "                        script (default: None)\r\n",
      "  -M MAX_MEMORY_USAGE, --max-memory-usage MAX_MEMORY_USAGE\r\n",
      "                        maximum amount of memory to use for data structure\r\n",
      "                        (default: None)\r\n",
      "  --small-count         Reduce memory usage by using a smaller counter for\r\n",
      "                        individual kmers. (default: False)\r\n",
      "  -T THREADS, --threads THREADS\r\n",
      "                        Number of simultaneous threads to execute (default: 1)\r\n",
      "  -b, --no-bigcount     The default behaviour is to count past 255 using\r\n",
      "                        bigcount. This flag turns bigcount off, limiting\r\n",
      "                        counts to 255. (default: True)\r\n",
      "  -s FORMAT, --summary-info FORMAT\r\n",
      "                        What format should the machine readable run summary be\r\n",
      "                        in? (`json` or `tsv`, disabled by default) (default:\r\n",
      "                        None)\r\n",
      "  -f, --force           Overwrite output file if it exists (default: False)\r\n",
      "  -q, --quiet\r\n",
      "\r\n",
      "Note: with `-b`/`--no-bigcount` the output will be the exact size of the k-mer\r\n",
      "countgraph and this script will use a constant amount of memory. In exchange\r\n",
      "k-mer counts will stop at 255. The memory usage of this script with `-b` will\r\n",
      "be about 1.15x the product of the `-x` and `-N` numbers.\r\n",
      "\r\n",
      "Example:\r\n",
      "\r\n",
      "    load-into-counting.py -k 20 -x 5e7 out data/100k-filtered.fa\r\n",
      "\r\n",
      "Multiple threads can be used to accelerate the process, if you have extra cores\r\n",
      "to spare.\r\n",
      "\r\n",
      "Example:\r\n",
      "\r\n",
      "    load-into-counting.py -k 20 -x 5e7 -T 4 out data/100k-filtered.fa\r\n"
     ]
    }
   ],
   "source": [
    "! load-into-counting.py --help"
   ]
  },
  {
   "cell_type": "code",
   "execution_count": 37,
   "metadata": {
    "scrolled": true
   },
   "outputs": [
    {
     "name": "stdout",
     "output_type": "stream",
     "text": [
      "12\n",
      "\n",
      "|| This is the script load-into-counting.py in khmer.\n",
      "|| You are running khmer version 3.0.0a1\n",
      "|| You are also using screed version 1.0\n",
      "||\n",
      "|| If you use this script in a publication, please cite EACH of the following:\n",
      "||\n",
      "||   * MR Crusoe et al., 2015. http://dx.doi.org/10.12688/f1000research.6924.1\n",
      "||   * Q Zhang et al., http://dx.doi.org/10.1371/journal.pone.0101271\n",
      "||   * A. Döring et al. http://dx.doi.org:80/10.1186/1471-2105-9-11\n",
      "||\n",
      "|| Please see http://khmer.readthedocs.io/en/latest/citations.html for details.\n",
      "\n",
      "\n",
      "PARAMETERS:\n",
      " - kmer size =     12 \t\t(-k)\n",
      " - n tables =      4 \t\t(-N)\n",
      " - max tablesize = 1e+09 \t(-x)\n",
      "Estimated memory usage is 4.0 Gb (4e+09 bytes = 4 bytes x 1e+09 entries / 1 entries per byte)\n",
      "--------\n",
      "Saving k-mer countgraph to A1-D041914-3_8_M-1-1_S269.k12.cg\n",
      "Loading kmers from sequences in ['A1-D041914-3_8_M-1-1_S269_R1_001.fastq.gz', 'A1-D041914-3_8_M-1-1_S269_R2_001.fastq.gz']\n",
      "making countgraph\n",
      "consuming input A1-D041914-3_8_M-1-1_S269_R1_001.fastq.gz\n",
      "consuming input A1-D041914-3_8_M-1-1_S269_R2_001.fastq.gz\n",
      "Total number of unique k-mers: 3981416\n",
      "saving A1-D041914-3_8_M-1-1_S269.k12.cg\n",
      "fp rate estimated to be 0.000\n",
      "DONE.\n",
      "wrote to: A1-D041914-3_8_M-1-1_S269.k12.cg.info\n",
      "15\n",
      "\n",
      "|| This is the script load-into-counting.py in khmer.\n",
      "|| You are running khmer version 3.0.0a1\n",
      "|| You are also using screed version 1.0\n",
      "||\n",
      "|| If you use this script in a publication, please cite EACH of the following:\n",
      "||\n",
      "||   * MR Crusoe et al., 2015. http://dx.doi.org/10.12688/f1000research.6924.1\n",
      "||   * Q Zhang et al., http://dx.doi.org/10.1371/journal.pone.0101271\n",
      "||   * A. Döring et al. http://dx.doi.org:80/10.1186/1471-2105-9-11\n",
      "||\n",
      "|| Please see http://khmer.readthedocs.io/en/latest/citations.html for details.\n",
      "\n",
      "\n",
      "PARAMETERS:\n",
      " - kmer size =     15 \t\t(-k)\n",
      " - n tables =      4 \t\t(-N)\n",
      " - max tablesize = 1e+09 \t(-x)\n",
      "Estimated memory usage is 4.0 Gb (4e+09 bytes = 4 bytes x 1e+09 entries / 1 entries per byte)\n",
      "--------\n",
      "Saving k-mer countgraph to A1-D041914-3_8_M-1-1_S269.k15.cg\n",
      "Loading kmers from sequences in ['A1-D041914-3_8_M-1-1_S269_R1_001.fastq.gz', 'A1-D041914-3_8_M-1-1_S269_R2_001.fastq.gz']\n",
      "making countgraph\n",
      "consuming input A1-D041914-3_8_M-1-1_S269_R1_001.fastq.gz\n",
      "consuming input A1-D041914-3_8_M-1-1_S269_R2_001.fastq.gz\n",
      "Total number of unique k-mers: 7944437\n",
      "saving A1-D041914-3_8_M-1-1_S269.k15.cg\n",
      "fp rate estimated to be 0.000\n",
      "DONE.\n",
      "wrote to: A1-D041914-3_8_M-1-1_S269.k15.cg.info\n",
      "18\n",
      "\n",
      "|| This is the script load-into-counting.py in khmer.\n",
      "|| You are running khmer version 3.0.0a1\n",
      "|| You are also using screed version 1.0\n",
      "||\n",
      "|| If you use this script in a publication, please cite EACH of the following:\n",
      "||\n",
      "||   * MR Crusoe et al., 2015. http://dx.doi.org/10.12688/f1000research.6924.1\n",
      "||   * Q Zhang et al., http://dx.doi.org/10.1371/journal.pone.0101271\n",
      "||   * A. Döring et al. http://dx.doi.org:80/10.1186/1471-2105-9-11\n",
      "||\n",
      "|| Please see http://khmer.readthedocs.io/en/latest/citations.html for details.\n",
      "\n",
      "\n",
      "PARAMETERS:\n",
      " - kmer size =     18 \t\t(-k)\n",
      " - n tables =      4 \t\t(-N)\n",
      " - max tablesize = 1e+09 \t(-x)\n",
      "Estimated memory usage is 4.0 Gb (4e+09 bytes = 4 bytes x 1e+09 entries / 1 entries per byte)\n",
      "--------\n",
      "Saving k-mer countgraph to A1-D041914-3_8_M-1-1_S269.k18.cg\n",
      "Loading kmers from sequences in ['A1-D041914-3_8_M-1-1_S269_R1_001.fastq.gz', 'A1-D041914-3_8_M-1-1_S269_R2_001.fastq.gz']\n",
      "making countgraph\n",
      "consuming input A1-D041914-3_8_M-1-1_S269_R1_001.fastq.gz\n",
      "consuming input A1-D041914-3_8_M-1-1_S269_R2_001.fastq.gz\n",
      "Total number of unique k-mers: 9047219\n",
      "saving A1-D041914-3_8_M-1-1_S269.k18.cg\n",
      "fp rate estimated to be 0.000\n",
      "DONE.\n",
      "wrote to: A1-D041914-3_8_M-1-1_S269.k18.cg.info\n",
      "21\n",
      "\n",
      "|| This is the script load-into-counting.py in khmer.\n",
      "|| You are running khmer version 3.0.0a1\n",
      "|| You are also using screed version 1.0\n",
      "||\n",
      "|| If you use this script in a publication, please cite EACH of the following:\n",
      "||\n",
      "||   * MR Crusoe et al., 2015. http://dx.doi.org/10.12688/f1000research.6924.1\n",
      "||   * Q Zhang et al., http://dx.doi.org/10.1371/journal.pone.0101271\n",
      "||   * A. Döring et al. http://dx.doi.org:80/10.1186/1471-2105-9-11\n",
      "||\n",
      "|| Please see http://khmer.readthedocs.io/en/latest/citations.html for details.\n",
      "\n",
      "\n",
      "PARAMETERS:\n",
      " - kmer size =     21 \t\t(-k)\n",
      " - n tables =      4 \t\t(-N)\n",
      " - max tablesize = 1e+09 \t(-x)\n",
      "Estimated memory usage is 4.0 Gb (4e+09 bytes = 4 bytes x 1e+09 entries / 1 entries per byte)\n",
      "--------\n",
      "Saving k-mer countgraph to A1-D041914-3_8_M-1-1_S269.k21.cg\n",
      "Loading kmers from sequences in ['A1-D041914-3_8_M-1-1_S269_R1_001.fastq.gz', 'A1-D041914-3_8_M-1-1_S269_R2_001.fastq.gz']\n",
      "making countgraph\n",
      "consuming input A1-D041914-3_8_M-1-1_S269_R1_001.fastq.gz\n",
      "consuming input A1-D041914-3_8_M-1-1_S269_R2_001.fastq.gz\n",
      "Total number of unique k-mers: 9737694\n",
      "saving A1-D041914-3_8_M-1-1_S269.k21.cg\n",
      "fp rate estimated to be 0.000\n",
      "DONE.\n",
      "wrote to: A1-D041914-3_8_M-1-1_S269.k21.cg.info\n",
      "24\n",
      "\n",
      "|| This is the script load-into-counting.py in khmer.\n",
      "|| You are running khmer version 3.0.0a1\n",
      "|| You are also using screed version 1.0\n",
      "||\n",
      "|| If you use this script in a publication, please cite EACH of the following:\n",
      "||\n",
      "||   * MR Crusoe et al., 2015. http://dx.doi.org/10.12688/f1000research.6924.1\n",
      "||   * Q Zhang et al., http://dx.doi.org/10.1371/journal.pone.0101271\n",
      "||   * A. Döring et al. http://dx.doi.org:80/10.1186/1471-2105-9-11\n",
      "||\n",
      "|| Please see http://khmer.readthedocs.io/en/latest/citations.html for details.\n",
      "\n",
      "\n",
      "PARAMETERS:\n",
      " - kmer size =     24 \t\t(-k)\n",
      " - n tables =      4 \t\t(-N)\n",
      " - max tablesize = 1e+09 \t(-x)\n",
      "Estimated memory usage is 4.0 Gb (4e+09 bytes = 4 bytes x 1e+09 entries / 1 entries per byte)\n",
      "--------\n",
      "Saving k-mer countgraph to A1-D041914-3_8_M-1-1_S269.k24.cg\n",
      "Loading kmers from sequences in ['A1-D041914-3_8_M-1-1_S269_R1_001.fastq.gz', 'A1-D041914-3_8_M-1-1_S269_R2_001.fastq.gz']\n",
      "making countgraph\n",
      "consuming input A1-D041914-3_8_M-1-1_S269_R1_001.fastq.gz\n",
      "consuming input A1-D041914-3_8_M-1-1_S269_R2_001.fastq.gz\n",
      "Total number of unique k-mers: 10230090\n",
      "saving A1-D041914-3_8_M-1-1_S269.k24.cg\n",
      "fp rate estimated to be 0.000\n",
      "DONE.\n",
      "wrote to: A1-D041914-3_8_M-1-1_S269.k24.cg.info\n",
      "27\n",
      "\n",
      "|| This is the script load-into-counting.py in khmer.\n",
      "|| You are running khmer version 3.0.0a1\n",
      "|| You are also using screed version 1.0\n",
      "||\n",
      "|| If you use this script in a publication, please cite EACH of the following:\n",
      "||\n",
      "||   * MR Crusoe et al., 2015. http://dx.doi.org/10.12688/f1000research.6924.1\n",
      "||   * Q Zhang et al., http://dx.doi.org/10.1371/journal.pone.0101271\n",
      "||   * A. Döring et al. http://dx.doi.org:80/10.1186/1471-2105-9-11\n",
      "||\n",
      "|| Please see http://khmer.readthedocs.io/en/latest/citations.html for details.\n",
      "\n",
      "\n",
      "PARAMETERS:\n",
      " - kmer size =     27 \t\t(-k)\n",
      " - n tables =      4 \t\t(-N)\n",
      " - max tablesize = 1e+09 \t(-x)\n",
      "Estimated memory usage is 4.0 Gb (4e+09 bytes = 4 bytes x 1e+09 entries / 1 entries per byte)\n",
      "--------\n",
      "Saving k-mer countgraph to A1-D041914-3_8_M-1-1_S269.k27.cg\n",
      "Loading kmers from sequences in ['A1-D041914-3_8_M-1-1_S269_R1_001.fastq.gz', 'A1-D041914-3_8_M-1-1_S269_R2_001.fastq.gz']\n",
      "making countgraph\n",
      "consuming input A1-D041914-3_8_M-1-1_S269_R1_001.fastq.gz\n",
      "consuming input A1-D041914-3_8_M-1-1_S269_R2_001.fastq.gz\n",
      "Total number of unique k-mers: 10593892\n",
      "saving A1-D041914-3_8_M-1-1_S269.k27.cg\n",
      "fp rate estimated to be 0.000\n",
      "DONE.\n",
      "wrote to: A1-D041914-3_8_M-1-1_S269.k27.cg.info\n",
      "30\n",
      "\n",
      "|| This is the script load-into-counting.py in khmer.\n",
      "|| You are running khmer version 3.0.0a1\n",
      "|| You are also using screed version 1.0\n",
      "||\n",
      "|| If you use this script in a publication, please cite EACH of the following:\n",
      "||\n",
      "||   * MR Crusoe et al., 2015. http://dx.doi.org/10.12688/f1000research.6924.1\n",
      "||   * Q Zhang et al., http://dx.doi.org/10.1371/journal.pone.0101271\n",
      "||   * A. Döring et al. http://dx.doi.org:80/10.1186/1471-2105-9-11\n",
      "||\n",
      "|| Please see http://khmer.readthedocs.io/en/latest/citations.html for details.\n",
      "\n",
      "\n",
      "PARAMETERS:\n",
      " - kmer size =     30 \t\t(-k)\n",
      " - n tables =      4 \t\t(-N)\n",
      " - max tablesize = 1e+09 \t(-x)\n",
      "Estimated memory usage is 4.0 Gb (4e+09 bytes = 4 bytes x 1e+09 entries / 1 entries per byte)\n",
      "--------\n",
      "Saving k-mer countgraph to A1-D041914-3_8_M-1-1_S269.k30.cg\n",
      "Loading kmers from sequences in ['A1-D041914-3_8_M-1-1_S269_R1_001.fastq.gz', 'A1-D041914-3_8_M-1-1_S269_R2_001.fastq.gz']\n",
      "making countgraph\n"
     ]
    },
    {
     "name": "stdout",
     "output_type": "stream",
     "text": [
      "consuming input A1-D041914-3_8_M-1-1_S269_R1_001.fastq.gz\n",
      "consuming input A1-D041914-3_8_M-1-1_S269_R2_001.fastq.gz\n",
      "Total number of unique k-mers: 10862654\n",
      "saving A1-D041914-3_8_M-1-1_S269.k30.cg\n",
      "fp rate estimated to be 0.000\n",
      "DONE.\n",
      "wrote to: A1-D041914-3_8_M-1-1_S269.k30.cg.info\n"
     ]
    }
   ],
   "source": [
    "ksizes = range(12, 32, 3)\n",
    "\n",
    "\n",
    "for ksize in ksizes:\n",
    "    command = f'load-into-counting.py --ksize {ksize} -M 4G --threads 8 A1-D041914-3_8_M-1-1_S269.k{ksize}.cg A1-D041914-3_8_M-1-1_S269_R1_001.fastq.gz A1-D041914-3_8_M-1-1_S269_R2_001.fastq.gz'\n",
    "    ! echo $ksize\n",
    "    ! $command"
   ]
  },
  {
   "cell_type": "code",
   "execution_count": 38,
   "metadata": {},
   "outputs": [
    {
     "name": "stdout",
     "output_type": "stream",
     "text": [
      "\r\n",
      "|| This is the script abundance-dist.py in khmer.\r\n",
      "|| You are running khmer version 3.0.0a1\r\n",
      "|| You are also using screed version 1.0\r\n",
      "||\r\n",
      "|| If you use this script in a publication, please cite EACH of the following:\r\n",
      "||\r\n",
      "||   * MR Crusoe et al., 2015. http://dx.doi.org/10.12688/f1000research.6924.1\r\n",
      "||   * Q Zhang et al., http://dx.doi.org/10.1371/journal.pone.0101271\r\n",
      "||\r\n",
      "|| Please see http://khmer.readthedocs.io/en/latest/citations.html for details.\r\n",
      "\r\n",
      "usage: abundance-dist.py [--version] [--info] [-h] [-z] [-s] [-b] [-f] [-q]\r\n",
      "                         input_count_graph_filename input_sequence_filename\r\n",
      "                         output_histogram_filename\r\n",
      "\r\n",
      "Calculate abundance distribution of the k-mers in the sequence file using a\r\n",
      "pre-made k-mer countgraph.\r\n",
      "\r\n",
      "positional arguments:\r\n",
      "  input_count_graph_filename\r\n",
      "                        The name of the input k-mer countgraph file.\r\n",
      "  input_sequence_filename\r\n",
      "                        The name of the input FAST[AQ] sequence file.\r\n",
      "  output_histogram_filename\r\n",
      "                        The columns are: (1) k-mer abundance, (2) k-mer count,\r\n",
      "                        (3) cumulative count, (4) fraction of total distinct\r\n",
      "                        k-mers.\r\n",
      "\r\n",
      "optional arguments:\r\n",
      "  --version             show program's version number and exit\r\n",
      "  --info                print citation information\r\n",
      "  -h, --help            show this help message and exit\r\n",
      "  -z, --no-zero         Do not output zero-count bins (default: True)\r\n",
      "  -s, --squash          Overwrite existing output_histogram_filename (default:\r\n",
      "                        False)\r\n",
      "  -b, --no-bigcount     Do not count k-mers past 255 (default: True)\r\n",
      "  -f, --force           Continue even if specified input files do not exist or\r\n",
      "                        are empty. (default: False)\r\n",
      "  -q, --quiet\r\n",
      "\r\n",
      "Example:\r\n",
      "\r\n",
      "    load-into-counting.py -x 1e7 -N 2 -k 17 counts \\\r\n",
      "            tests/test-data/test-abund-read-2.fa\r\n",
      "    abundance-dist.py counts tests/test-data/test-abund-read-2.fa test-dist\r\n"
     ]
    }
   ],
   "source": [
    "! abundance-dist.py --help"
   ]
  },
  {
   "cell_type": "markdown",
   "metadata": {},
   "source": [
    "### Get distribution of kmers in untrimmed data"
   ]
  },
  {
   "cell_type": "code",
   "execution_count": 40,
   "metadata": {
    "scrolled": true
   },
   "outputs": [
    {
     "name": "stdout",
     "output_type": "stream",
     "text": [
      "12\n",
      "\n",
      "|| This is the script abundance-dist.py in khmer.\n",
      "|| You are running khmer version 3.0.0a1\n",
      "|| You are also using screed version 1.0\n",
      "||\n",
      "|| If you use this script in a publication, please cite EACH of the following:\n",
      "||\n",
      "||   * MR Crusoe et al., 2015. http://dx.doi.org/10.12688/f1000research.6924.1\n",
      "||   * Q Zhang et al., http://dx.doi.org/10.1371/journal.pone.0101271\n",
      "||\n",
      "|| Please see http://khmer.readthedocs.io/en/latest/citations.html for details.\n",
      "\n",
      "Loading counting graph from A1-D041914-3_8_M-1-1_S269.k12.cg\n",
      "K: 12\n",
      "outputting to A1-D041914-3_8_M-1-1_S269_R1_001.k12.dist\n",
      "preparing hist...\n",
      "\n",
      "|| This is the script abundance-dist.py in khmer.\n",
      "|| You are running khmer version 3.0.0a1\n",
      "|| You are also using screed version 1.0\n",
      "||\n",
      "|| If you use this script in a publication, please cite EACH of the following:\n",
      "||\n",
      "||   * MR Crusoe et al., 2015. http://dx.doi.org/10.12688/f1000research.6924.1\n",
      "||   * Q Zhang et al., http://dx.doi.org/10.1371/journal.pone.0101271\n",
      "||\n",
      "|| Please see http://khmer.readthedocs.io/en/latest/citations.html for details.\n",
      "\n",
      "Loading counting graph from A1-D041914-3_8_M-1-1_S269.k12.cg\n",
      "K: 12\n",
      "outputting to A1-D041914-3_8_M-1-1_S269_R2_001.k12.dist\n",
      "preparing hist...\n",
      "15\n",
      "\n",
      "|| This is the script abundance-dist.py in khmer.\n",
      "|| You are running khmer version 3.0.0a1\n",
      "|| You are also using screed version 1.0\n",
      "||\n",
      "|| If you use this script in a publication, please cite EACH of the following:\n",
      "||\n",
      "||   * MR Crusoe et al., 2015. http://dx.doi.org/10.12688/f1000research.6924.1\n",
      "||   * Q Zhang et al., http://dx.doi.org/10.1371/journal.pone.0101271\n",
      "||\n",
      "|| Please see http://khmer.readthedocs.io/en/latest/citations.html for details.\n",
      "\n",
      "Loading counting graph from A1-D041914-3_8_M-1-1_S269.k15.cg\n",
      "K: 15\n",
      "outputting to A1-D041914-3_8_M-1-1_S269_R1_001.k15.dist\n",
      "preparing hist...\n",
      "\n",
      "|| This is the script abundance-dist.py in khmer.\n",
      "|| You are running khmer version 3.0.0a1\n",
      "|| You are also using screed version 1.0\n",
      "||\n",
      "|| If you use this script in a publication, please cite EACH of the following:\n",
      "||\n",
      "||   * MR Crusoe et al., 2015. http://dx.doi.org/10.12688/f1000research.6924.1\n",
      "||   * Q Zhang et al., http://dx.doi.org/10.1371/journal.pone.0101271\n",
      "||\n",
      "|| Please see http://khmer.readthedocs.io/en/latest/citations.html for details.\n",
      "\n",
      "Loading counting graph from A1-D041914-3_8_M-1-1_S269.k15.cg\n",
      "K: 15\n",
      "outputting to A1-D041914-3_8_M-1-1_S269_R2_001.k15.dist\n",
      "preparing hist...\n",
      "18\n",
      "\n",
      "|| This is the script abundance-dist.py in khmer.\n",
      "|| You are running khmer version 3.0.0a1\n",
      "|| You are also using screed version 1.0\n",
      "||\n",
      "|| If you use this script in a publication, please cite EACH of the following:\n",
      "||\n",
      "||   * MR Crusoe et al., 2015. http://dx.doi.org/10.12688/f1000research.6924.1\n",
      "||   * Q Zhang et al., http://dx.doi.org/10.1371/journal.pone.0101271\n",
      "||\n",
      "|| Please see http://khmer.readthedocs.io/en/latest/citations.html for details.\n",
      "\n",
      "Loading counting graph from A1-D041914-3_8_M-1-1_S269.k18.cg\n",
      "K: 18\n",
      "outputting to A1-D041914-3_8_M-1-1_S269_R1_001.k18.dist\n",
      "preparing hist...\n",
      "\n",
      "|| This is the script abundance-dist.py in khmer.\n",
      "|| You are running khmer version 3.0.0a1\n",
      "|| You are also using screed version 1.0\n",
      "||\n",
      "|| If you use this script in a publication, please cite EACH of the following:\n",
      "||\n",
      "||   * MR Crusoe et al., 2015. http://dx.doi.org/10.12688/f1000research.6924.1\n",
      "||   * Q Zhang et al., http://dx.doi.org/10.1371/journal.pone.0101271\n",
      "||\n",
      "|| Please see http://khmer.readthedocs.io/en/latest/citations.html for details.\n",
      "\n",
      "Loading counting graph from A1-D041914-3_8_M-1-1_S269.k18.cg\n",
      "K: 18\n",
      "outputting to A1-D041914-3_8_M-1-1_S269_R2_001.k18.dist\n",
      "preparing hist...\n",
      "21\n",
      "\n",
      "|| This is the script abundance-dist.py in khmer.\n",
      "|| You are running khmer version 3.0.0a1\n",
      "|| You are also using screed version 1.0\n",
      "||\n",
      "|| If you use this script in a publication, please cite EACH of the following:\n",
      "||\n",
      "||   * MR Crusoe et al., 2015. http://dx.doi.org/10.12688/f1000research.6924.1\n",
      "||   * Q Zhang et al., http://dx.doi.org/10.1371/journal.pone.0101271\n",
      "||\n",
      "|| Please see http://khmer.readthedocs.io/en/latest/citations.html for details.\n",
      "\n",
      "Loading counting graph from A1-D041914-3_8_M-1-1_S269.k21.cg\n",
      "K: 21\n",
      "outputting to A1-D041914-3_8_M-1-1_S269_R1_001.k21.dist\n",
      "preparing hist...\n",
      "\n",
      "|| This is the script abundance-dist.py in khmer.\n",
      "|| You are running khmer version 3.0.0a1\n",
      "|| You are also using screed version 1.0\n",
      "||\n",
      "|| If you use this script in a publication, please cite EACH of the following:\n",
      "||\n",
      "||   * MR Crusoe et al., 2015. http://dx.doi.org/10.12688/f1000research.6924.1\n",
      "||   * Q Zhang et al., http://dx.doi.org/10.1371/journal.pone.0101271\n",
      "||\n",
      "|| Please see http://khmer.readthedocs.io/en/latest/citations.html for details.\n",
      "\n",
      "Loading counting graph from A1-D041914-3_8_M-1-1_S269.k21.cg\n",
      "K: 21\n",
      "outputting to A1-D041914-3_8_M-1-1_S269_R2_001.k21.dist\n",
      "preparing hist...\n",
      "24\n",
      "\n",
      "|| This is the script abundance-dist.py in khmer.\n",
      "|| You are running khmer version 3.0.0a1\n",
      "|| You are also using screed version 1.0\n",
      "||\n",
      "|| If you use this script in a publication, please cite EACH of the following:\n",
      "||\n",
      "||   * MR Crusoe et al., 2015. http://dx.doi.org/10.12688/f1000research.6924.1\n",
      "||   * Q Zhang et al., http://dx.doi.org/10.1371/journal.pone.0101271\n",
      "||\n",
      "|| Please see http://khmer.readthedocs.io/en/latest/citations.html for details.\n",
      "\n",
      "Loading counting graph from A1-D041914-3_8_M-1-1_S269.k24.cg\n",
      "K: 24\n",
      "outputting to A1-D041914-3_8_M-1-1_S269_R1_001.k24.dist\n",
      "preparing hist...\n",
      "\n",
      "|| This is the script abundance-dist.py in khmer.\n",
      "|| You are running khmer version 3.0.0a1\n",
      "|| You are also using screed version 1.0\n",
      "||\n",
      "|| If you use this script in a publication, please cite EACH of the following:\n",
      "||\n",
      "||   * MR Crusoe et al., 2015. http://dx.doi.org/10.12688/f1000research.6924.1\n",
      "||   * Q Zhang et al., http://dx.doi.org/10.1371/journal.pone.0101271\n",
      "||\n",
      "|| Please see http://khmer.readthedocs.io/en/latest/citations.html for details.\n",
      "\n",
      "Loading counting graph from A1-D041914-3_8_M-1-1_S269.k24.cg\n",
      "K: 24\n",
      "outputting to A1-D041914-3_8_M-1-1_S269_R2_001.k24.dist\n",
      "preparing hist...\n",
      "27\n",
      "\n",
      "|| This is the script abundance-dist.py in khmer.\n",
      "|| You are running khmer version 3.0.0a1\n",
      "|| You are also using screed version 1.0\n",
      "||\n",
      "|| If you use this script in a publication, please cite EACH of the following:\n",
      "||\n",
      "||   * MR Crusoe et al., 2015. http://dx.doi.org/10.12688/f1000research.6924.1\n",
      "||   * Q Zhang et al., http://dx.doi.org/10.1371/journal.pone.0101271\n",
      "||\n",
      "|| Please see http://khmer.readthedocs.io/en/latest/citations.html for details.\n",
      "\n",
      "Loading counting graph from A1-D041914-3_8_M-1-1_S269.k27.cg\n",
      "K: 27\n",
      "outputting to A1-D041914-3_8_M-1-1_S269_R1_001.k27.dist\n",
      "preparing hist...\n",
      "\n",
      "|| This is the script abundance-dist.py in khmer.\n",
      "|| You are running khmer version 3.0.0a1\n",
      "|| You are also using screed version 1.0\n",
      "||\n",
      "|| If you use this script in a publication, please cite EACH of the following:\n",
      "||\n",
      "||   * MR Crusoe et al., 2015. http://dx.doi.org/10.12688/f1000research.6924.1\n",
      "||   * Q Zhang et al., http://dx.doi.org/10.1371/journal.pone.0101271\n",
      "||\n",
      "|| Please see http://khmer.readthedocs.io/en/latest/citations.html for details.\n",
      "\n",
      "Loading counting graph from A1-D041914-3_8_M-1-1_S269.k27.cg\n",
      "K: 27\n",
      "outputting to A1-D041914-3_8_M-1-1_S269_R2_001.k27.dist\n",
      "preparing hist...\n",
      "30\n",
      "\n",
      "|| This is the script abundance-dist.py in khmer.\n",
      "|| You are running khmer version 3.0.0a1\n",
      "|| You are also using screed version 1.0\n",
      "||\n",
      "|| If you use this script in a publication, please cite EACH of the following:\n",
      "||\n",
      "||   * MR Crusoe et al., 2015. http://dx.doi.org/10.12688/f1000research.6924.1\n",
      "||   * Q Zhang et al., http://dx.doi.org/10.1371/journal.pone.0101271\n",
      "||\n",
      "|| Please see http://khmer.readthedocs.io/en/latest/citations.html for details.\n",
      "\n",
      "Loading counting graph from A1-D041914-3_8_M-1-1_S269.k30.cg\n",
      "K: 30\n",
      "outputting to A1-D041914-3_8_M-1-1_S269_R1_001.k30.dist\n",
      "preparing hist...\n",
      "\n",
      "|| This is the script abundance-dist.py in khmer.\n",
      "|| You are running khmer version 3.0.0a1\n",
      "|| You are also using screed version 1.0\n",
      "||\n",
      "|| If you use this script in a publication, please cite EACH of the following:\n",
      "||\n",
      "||   * MR Crusoe et al., 2015. http://dx.doi.org/10.12688/f1000research.6924.1\n",
      "||   * Q Zhang et al., http://dx.doi.org/10.1371/journal.pone.0101271\n",
      "||\n",
      "|| Please see http://khmer.readthedocs.io/en/latest/citations.html for details.\n",
      "\n",
      "Loading counting graph from A1-D041914-3_8_M-1-1_S269.k30.cg\n"
     ]
    },
    {
     "name": "stdout",
     "output_type": "stream",
     "text": [
      "K: 30\r\n",
      "outputting to A1-D041914-3_8_M-1-1_S269_R2_001.k30.dist\r\n",
      "preparing hist...\r\n"
     ]
    }
   ],
   "source": [
    "ksizes = range(12, 32, 3)\n",
    "\n",
    "\n",
    "for ksize in ksizes:\n",
    "    command_r1 = f'abundance-dist.py A1-D041914-3_8_M-1-1_S269.k{ksize}.cg A1-D041914-3_8_M-1-1_S269_R1_001.fastq.gz A1-D041914-3_8_M-1-1_S269_R1_001.k{ksize}.dist'\n",
    "    command_r2 = f'abundance-dist.py A1-D041914-3_8_M-1-1_S269.k{ksize}.cg A1-D041914-3_8_M-1-1_S269_R2_001.fastq.gz A1-D041914-3_8_M-1-1_S269_R2_001.k{ksize}.dist'\n",
    "    ! echo $ksize\n",
    "    ! $command_r1\n",
    "    ! $command_r2"
   ]
  },
  {
   "cell_type": "code",
   "execution_count": 65,
   "metadata": {},
   "outputs": [
    {
     "name": "stdout",
     "output_type": "stream",
     "text": [
      "(778936, 7)\n"
     ]
    },
    {
     "data": {
      "text/html": [
       "<div>\n",
       "<style scoped>\n",
       "    .dataframe tbody tr th:only-of-type {\n",
       "        vertical-align: middle;\n",
       "    }\n",
       "\n",
       "    .dataframe tbody tr th {\n",
       "        vertical-align: top;\n",
       "    }\n",
       "\n",
       "    .dataframe thead th {\n",
       "        text-align: right;\n",
       "    }\n",
       "</style>\n",
       "<table border=\"1\" class=\"dataframe\">\n",
       "  <thead>\n",
       "    <tr style=\"text-align: right;\">\n",
       "      <th></th>\n",
       "      <th>abundance</th>\n",
       "      <th>count</th>\n",
       "      <th>cumulative</th>\n",
       "      <th>cumulative_fraction</th>\n",
       "      <th>ksize</th>\n",
       "      <th>read_number</th>\n",
       "      <th>count_both_reads</th>\n",
       "    </tr>\n",
       "  </thead>\n",
       "  <tbody>\n",
       "    <tr>\n",
       "      <th>0</th>\n",
       "      <td>0</td>\n",
       "      <td>0</td>\n",
       "      <td>0</td>\n",
       "      <td>0.000</td>\n",
       "      <td>15</td>\n",
       "      <td>R2</td>\n",
       "      <td>0.0</td>\n",
       "    </tr>\n",
       "    <tr>\n",
       "      <th>1</th>\n",
       "      <td>1</td>\n",
       "      <td>2278888</td>\n",
       "      <td>2278888</td>\n",
       "      <td>0.373</td>\n",
       "      <td>15</td>\n",
       "      <td>R2</td>\n",
       "      <td>34439086.0</td>\n",
       "    </tr>\n",
       "    <tr>\n",
       "      <th>2</th>\n",
       "      <td>2</td>\n",
       "      <td>537125</td>\n",
       "      <td>2816013</td>\n",
       "      <td>0.461</td>\n",
       "      <td>15</td>\n",
       "      <td>R2</td>\n",
       "      <td>7146352.0</td>\n",
       "    </tr>\n",
       "    <tr>\n",
       "      <th>3</th>\n",
       "      <td>3</td>\n",
       "      <td>308618</td>\n",
       "      <td>3124631</td>\n",
       "      <td>0.511</td>\n",
       "      <td>15</td>\n",
       "      <td>R2</td>\n",
       "      <td>4200020.0</td>\n",
       "    </tr>\n",
       "    <tr>\n",
       "      <th>4</th>\n",
       "      <td>4</td>\n",
       "      <td>250335</td>\n",
       "      <td>3374966</td>\n",
       "      <td>0.552</td>\n",
       "      <td>15</td>\n",
       "      <td>R2</td>\n",
       "      <td>3415939.0</td>\n",
       "    </tr>\n",
       "  </tbody>\n",
       "</table>\n",
       "</div>"
      ],
      "text/plain": [
       "   abundance    count  cumulative  cumulative_fraction  ksize read_number  \\\n",
       "0          0        0           0                0.000     15          R2   \n",
       "1          1  2278888     2278888                0.373     15          R2   \n",
       "2          2   537125     2816013                0.461     15          R2   \n",
       "3          3   308618     3124631                0.511     15          R2   \n",
       "4          4   250335     3374966                0.552     15          R2   \n",
       "\n",
       "   count_both_reads  \n",
       "0               0.0  \n",
       "1        34439086.0  \n",
       "2         7146352.0  \n",
       "3         4200020.0  \n",
       "4         3415939.0  "
      ]
     },
     "execution_count": 65,
     "metadata": {},
     "output_type": "execute_result"
    }
   ],
   "source": [
    "import glob\n",
    "import pandas as pd\n",
    "import re\n",
    "\n",
    "dfs = []\n",
    "\n",
    "for filename in glob.glob(\"A1-D041914-3_8_M-1-1_S269*.dist\"):\n",
    "    df = pd.read_csv(filename)\n",
    "    df['ksize'] = int(filename.split('.')[-2].strip('k'))\n",
    "    df['read_number'] = re.findall('_(R\\d)_', filename)[0]\n",
    "    dfs.append(df)\n",
    "\n",
    "cell_kmer_dist = pd.concat(dfs, ignore_index=True)\n",
    "print(cell_kmer_dist.shape)\n",
    "cell_kmer_dist.head()"
   ]
  },
  {
   "cell_type": "code",
   "execution_count": 70,
   "metadata": {},
   "outputs": [
    {
     "data": {
      "text/html": [
       "<div>\n",
       "<style scoped>\n",
       "    .dataframe tbody tr th:only-of-type {\n",
       "        vertical-align: middle;\n",
       "    }\n",
       "\n",
       "    .dataframe tbody tr th {\n",
       "        vertical-align: top;\n",
       "    }\n",
       "\n",
       "    .dataframe thead th {\n",
       "        text-align: right;\n",
       "    }\n",
       "</style>\n",
       "<table border=\"1\" class=\"dataframe\">\n",
       "  <thead>\n",
       "    <tr style=\"text-align: right;\">\n",
       "      <th></th>\n",
       "      <th>abundance</th>\n",
       "      <th>ksize</th>\n",
       "      <th>count</th>\n",
       "    </tr>\n",
       "  </thead>\n",
       "  <tbody>\n",
       "    <tr>\n",
       "      <th>0</th>\n",
       "      <td>0</td>\n",
       "      <td>12</td>\n",
       "      <td>0</td>\n",
       "    </tr>\n",
       "    <tr>\n",
       "      <th>1</th>\n",
       "      <td>0</td>\n",
       "      <td>15</td>\n",
       "      <td>0</td>\n",
       "    </tr>\n",
       "    <tr>\n",
       "      <th>2</th>\n",
       "      <td>0</td>\n",
       "      <td>18</td>\n",
       "      <td>0</td>\n",
       "    </tr>\n",
       "    <tr>\n",
       "      <th>3</th>\n",
       "      <td>0</td>\n",
       "      <td>21</td>\n",
       "      <td>0</td>\n",
       "    </tr>\n",
       "    <tr>\n",
       "      <th>4</th>\n",
       "      <td>0</td>\n",
       "      <td>24</td>\n",
       "      <td>0</td>\n",
       "    </tr>\n",
       "  </tbody>\n",
       "</table>\n",
       "</div>"
      ],
      "text/plain": [
       "   abundance  ksize  count\n",
       "0          0     12      0\n",
       "1          0     15      0\n",
       "2          0     18      0\n",
       "3          0     21      0\n",
       "4          0     24      0"
      ]
     },
     "execution_count": 70,
     "metadata": {},
     "output_type": "execute_result"
    }
   ],
   "source": [
    "cell_kmer_dist_both_reads = cell_kmer_dist.groupby(['abundance', 'ksize'])['count'].sum()\n",
    "cell_kmer_dist_both_reads = cell_kmer_dist_both_reads.reset_index()\n",
    "cell_kmer_dist_both_reads.head()"
   ]
  },
  {
   "cell_type": "code",
   "execution_count": 71,
   "metadata": {},
   "outputs": [
    {
     "data": {
      "text/plain": [
       "<seaborn.axisgrid.FacetGrid at 0x7f2bfacca358>"
      ]
     },
     "execution_count": 71,
     "metadata": {},
     "output_type": "execute_result"
    },
    {
     "data": {
      "image/png": "[encoded data removed]",
      "text/plain": [
       "<Figure size 264.75x216 with 1 Axes>"
      ]
     },
     "metadata": {},
     "output_type": "display_data"
    }
   ],
   "source": [
    "g = sns.FacetGrid(cell_kmer_dist_both_reads, hue='ksize')\n",
    "g.map(plt.loglog, 'abundance', 'count', alpha=0.75)\n",
    "g.add_legend()"
   ]
  },
  {
   "cell_type": "code",
   "execution_count": 73,
   "metadata": {},
   "outputs": [
    {
     "data": {
      "text/plain": [
       "<seaborn.axisgrid.FacetGrid at 0x7f2bfaac26a0>"
      ]
     },
     "execution_count": 73,
     "metadata": {},
     "output_type": "execute_result"
    },
    {
     "data": {
      "image/png": "[encoded data removed]",
      "text/plain": [
       "<Figure size 264.75x216 with 1 Axes>"
      ]
     },
     "metadata": {},
     "output_type": "display_data"
    }
   ],
   "source": [
    "g = sns.FacetGrid(cell_kmer_dist_both_reads, hue='ksize')\n",
    "g.map(plt.semilogy, 'abundance', 'count', alpha=0.75)\n",
    "g.add_legend()"
   ]
  },
  {
   "cell_type": "code",
   "execution_count": 74,
   "metadata": {},
   "outputs": [
    {
     "data": {
      "text/plain": [
       "<seaborn.axisgrid.FacetGrid at 0x7f2bfa992cf8>"
      ]
     },
     "execution_count": 74,
     "metadata": {},
     "output_type": "execute_result"
    },
    {
     "data": {
      "image/png": "[encoded data removed]",
      "text/plain": [
       "<Figure size 264.75x216 with 1 Axes>"
      ]
     },
     "metadata": {},
     "output_type": "display_data"
    }
   ],
   "source": [
    "g = sns.FacetGrid(cell_kmer_dist_both_reads, hue='ksize')\n",
    "g.map(plt.semilogx, 'abundance', 'count', alpha=0.75)\n",
    "g.add_legend()"
   ]
  },
  {
   "cell_type": "code",
   "execution_count": 75,
   "metadata": {},
   "outputs": [
    {
     "data": {
      "text/plain": [
       "<seaborn.axisgrid.FacetGrid at 0x7f2bfae8c1d0>"
      ]
     },
     "execution_count": 75,
     "metadata": {},
     "output_type": "execute_result"
    },
    {
     "data": {
      "image/png": "[encoded data removed]",
      "text/plain": [
       "<Figure size 264.75x216 with 1 Axes>"
      ]
     },
     "metadata": {},
     "output_type": "display_data"
    }
   ],
   "source": [
    "g = sns.FacetGrid(cell_kmer_dist_both_reads, hue='ksize')\n",
    "g.map(plt.plot, 'abundance', 'count', alpha=0.75)\n",
    "g.add_legend()"
   ]
  },
  {
   "cell_type": "markdown",
   "metadata": {},
   "source": [
    "### Get distribution of kmers in **trimmed** data"
   ]
  },
  {
   "cell_type": "code",
   "execution_count": 82,
   "metadata": {
    "scrolled": false
   },
   "outputs": [
    {
     "name": "stdout",
     "output_type": "stream",
     "text": [
      "abundance-dist-single.py --force --threads 4 -M 4G -k 12 A1-D041914-3_8_M-1-1.trimmed A1-D041914-3_8_M-1-1.trimmed.k12.dist\n",
      "\n",
      "|| This is the script abundance-dist-single.py in khmer.\n",
      "|| You are running khmer version 3.0.0a1\n",
      "|| You are also using screed version 1.0\n",
      "||\n",
      "|| If you use this script in a publication, please cite EACH of the following:\n",
      "||\n",
      "||   * MR Crusoe et al., 2015. http://dx.doi.org/10.12688/f1000research.6924.1\n",
      "||   * Q Zhang et al., http://dx.doi.org/10.1371/journal.pone.0101271\n",
      "||   * A. Döring et al. http://dx.doi.org:80/10.1186/1471-2105-9-11\n",
      "||\n",
      "|| Please see http://khmer.readthedocs.io/en/latest/citations.html for details.\n",
      "\n",
      "\n",
      "PARAMETERS:\n",
      " - kmer size =     12 \t\t(-k)\n",
      " - n tables =      4 \t\t(-N)\n",
      " - max tablesize = 1e+09 \t(-x)\n",
      "Estimated memory usage is 4.0 Gb (4e+09 bytes = 4 bytes x 1e+09 entries / 1 entries per byte)\n",
      "--------\n",
      "making countgraph\n",
      "building k-mer tracking graph\n",
      "kmer_size: 12\n",
      "k-mer countgraph sizes: [860214997, 860214959, 860214923, 860214919]\n",
      "outputting to A1-D041914-3_8_M-1-1.trimmed.k12.dist\n",
      "consuming input, round 1 -- A1-D041914-3_8_M-1-1.trimmed\n",
      "Total number of unique k-mers: 3671865\n",
      "preparing hist from A1-D041914-3_8_M-1-1.trimmed...\n",
      "consuming input, round 2 -- A1-D041914-3_8_M-1-1.trimmed\n",
      "wrote to: A1-D041914-3_8_M-1-1.trimmed.k12.dist\n",
      "abundance-dist-single.py --force --threads 4 -M 4G -k 15 A1-D041914-3_8_M-1-1.trimmed A1-D041914-3_8_M-1-1.trimmed.k15.dist\n",
      "\n",
      "|| This is the script abundance-dist-single.py in khmer.\n",
      "|| You are running khmer version 3.0.0a1\n",
      "|| You are also using screed version 1.0\n",
      "||\n",
      "|| If you use this script in a publication, please cite EACH of the following:\n",
      "||\n",
      "||   * MR Crusoe et al., 2015. http://dx.doi.org/10.12688/f1000research.6924.1\n",
      "||   * Q Zhang et al., http://dx.doi.org/10.1371/journal.pone.0101271\n",
      "||   * A. Döring et al. http://dx.doi.org:80/10.1186/1471-2105-9-11\n",
      "||\n",
      "|| Please see http://khmer.readthedocs.io/en/latest/citations.html for details.\n",
      "\n",
      "\n",
      "PARAMETERS:\n",
      " - kmer size =     15 \t\t(-k)\n",
      " - n tables =      4 \t\t(-N)\n",
      " - max tablesize = 1e+09 \t(-x)\n",
      "Estimated memory usage is 4.0 Gb (4e+09 bytes = 4 bytes x 1e+09 entries / 1 entries per byte)\n",
      "--------\n",
      "making countgraph\n",
      "building k-mer tracking graph\n",
      "kmer_size: 15\n",
      "k-mer countgraph sizes: [860214997, 860214959, 860214923, 860214919]\n",
      "outputting to A1-D041914-3_8_M-1-1.trimmed.k15.dist\n",
      "consuming input, round 1 -- A1-D041914-3_8_M-1-1.trimmed\n",
      "Total number of unique k-mers: 6887365\n",
      "preparing hist from A1-D041914-3_8_M-1-1.trimmed...\n",
      "consuming input, round 2 -- A1-D041914-3_8_M-1-1.trimmed\n",
      "wrote to: A1-D041914-3_8_M-1-1.trimmed.k15.dist\n",
      "abundance-dist-single.py --force --threads 4 -M 4G -k 18 A1-D041914-3_8_M-1-1.trimmed A1-D041914-3_8_M-1-1.trimmed.k18.dist\n",
      "\n",
      "|| This is the script abundance-dist-single.py in khmer.\n",
      "|| You are running khmer version 3.0.0a1\n",
      "|| You are also using screed version 1.0\n",
      "||\n",
      "|| If you use this script in a publication, please cite EACH of the following:\n",
      "||\n",
      "||   * MR Crusoe et al., 2015. http://dx.doi.org/10.12688/f1000research.6924.1\n",
      "||   * Q Zhang et al., http://dx.doi.org/10.1371/journal.pone.0101271\n",
      "||   * A. Döring et al. http://dx.doi.org:80/10.1186/1471-2105-9-11\n",
      "||\n",
      "|| Please see http://khmer.readthedocs.io/en/latest/citations.html for details.\n",
      "\n",
      "\n",
      "PARAMETERS:\n",
      " - kmer size =     18 \t\t(-k)\n",
      " - n tables =      4 \t\t(-N)\n",
      " - max tablesize = 1e+09 \t(-x)\n",
      "Estimated memory usage is 4.0 Gb (4e+09 bytes = 4 bytes x 1e+09 entries / 1 entries per byte)\n",
      "--------\n",
      "making countgraph\n",
      "building k-mer tracking graph\n",
      "kmer_size: 18\n",
      "k-mer countgraph sizes: [860214997, 860214959, 860214923, 860214919]\n",
      "outputting to A1-D041914-3_8_M-1-1.trimmed.k18.dist\n",
      "consuming input, round 1 -- A1-D041914-3_8_M-1-1.trimmed\n",
      "Total number of unique k-mers: 7670247\n",
      "preparing hist from A1-D041914-3_8_M-1-1.trimmed...\n",
      "consuming input, round 2 -- A1-D041914-3_8_M-1-1.trimmed\n",
      "wrote to: A1-D041914-3_8_M-1-1.trimmed.k18.dist\n",
      "abundance-dist-single.py --force --threads 4 -M 4G -k 21 A1-D041914-3_8_M-1-1.trimmed A1-D041914-3_8_M-1-1.trimmed.k21.dist\n",
      "\n",
      "|| This is the script abundance-dist-single.py in khmer.\n",
      "|| You are running khmer version 3.0.0a1\n",
      "|| You are also using screed version 1.0\n",
      "||\n",
      "|| If you use this script in a publication, please cite EACH of the following:\n",
      "||\n",
      "||   * MR Crusoe et al., 2015. http://dx.doi.org/10.12688/f1000research.6924.1\n",
      "||   * Q Zhang et al., http://dx.doi.org/10.1371/journal.pone.0101271\n",
      "||   * A. Döring et al. http://dx.doi.org:80/10.1186/1471-2105-9-11\n",
      "||\n",
      "|| Please see http://khmer.readthedocs.io/en/latest/citations.html for details.\n",
      "\n",
      "\n",
      "PARAMETERS:\n",
      " - kmer size =     21 \t\t(-k)\n",
      " - n tables =      4 \t\t(-N)\n",
      " - max tablesize = 1e+09 \t(-x)\n",
      "Estimated memory usage is 4.0 Gb (4e+09 bytes = 4 bytes x 1e+09 entries / 1 entries per byte)\n",
      "--------\n",
      "making countgraph\n",
      "building k-mer tracking graph\n",
      "kmer_size: 21\n",
      "k-mer countgraph sizes: [860214997, 860214959, 860214923, 860214919]\n",
      "outputting to A1-D041914-3_8_M-1-1.trimmed.k21.dist\n",
      "consuming input, round 1 -- A1-D041914-3_8_M-1-1.trimmed\n",
      "Total number of unique k-mers: 8099232\n",
      "preparing hist from A1-D041914-3_8_M-1-1.trimmed...\n",
      "consuming input, round 2 -- A1-D041914-3_8_M-1-1.trimmed\n",
      "wrote to: A1-D041914-3_8_M-1-1.trimmed.k21.dist\n",
      "abundance-dist-single.py --force --threads 4 -M 4G -k 24 A1-D041914-3_8_M-1-1.trimmed A1-D041914-3_8_M-1-1.trimmed.k24.dist\n",
      "\n",
      "|| This is the script abundance-dist-single.py in khmer.\n",
      "|| You are running khmer version 3.0.0a1\n",
      "|| You are also using screed version 1.0\n",
      "||\n",
      "|| If you use this script in a publication, please cite EACH of the following:\n",
      "||\n",
      "||   * MR Crusoe et al., 2015. http://dx.doi.org/10.12688/f1000research.6924.1\n",
      "||   * Q Zhang et al., http://dx.doi.org/10.1371/journal.pone.0101271\n",
      "||   * A. Döring et al. http://dx.doi.org:80/10.1186/1471-2105-9-11\n",
      "||\n",
      "|| Please see http://khmer.readthedocs.io/en/latest/citations.html for details.\n",
      "\n",
      "\n",
      "PARAMETERS:\n",
      " - kmer size =     24 \t\t(-k)\n",
      " - n tables =      4 \t\t(-N)\n",
      " - max tablesize = 1e+09 \t(-x)\n",
      "Estimated memory usage is 4.0 Gb (4e+09 bytes = 4 bytes x 1e+09 entries / 1 entries per byte)\n",
      "--------\n",
      "making countgraph\n",
      "building k-mer tracking graph\n",
      "kmer_size: 24\n",
      "k-mer countgraph sizes: [860214997, 860214959, 860214923, 860214919]\n",
      "outputting to A1-D041914-3_8_M-1-1.trimmed.k24.dist\n",
      "consuming input, round 1 -- A1-D041914-3_8_M-1-1.trimmed\n",
      "Total number of unique k-mers: 8362947\n",
      "preparing hist from A1-D041914-3_8_M-1-1.trimmed...\n",
      "consuming input, round 2 -- A1-D041914-3_8_M-1-1.trimmed\n",
      "wrote to: A1-D041914-3_8_M-1-1.trimmed.k24.dist\n",
      "abundance-dist-single.py --force --threads 4 -M 4G -k 27 A1-D041914-3_8_M-1-1.trimmed A1-D041914-3_8_M-1-1.trimmed.k27.dist\n",
      "\n",
      "|| This is the script abundance-dist-single.py in khmer.\n",
      "|| You are running khmer version 3.0.0a1\n",
      "|| You are also using screed version 1.0\n",
      "||\n",
      "|| If you use this script in a publication, please cite EACH of the following:\n",
      "||\n",
      "||   * MR Crusoe et al., 2015. http://dx.doi.org/10.12688/f1000research.6924.1\n",
      "||   * Q Zhang et al., http://dx.doi.org/10.1371/journal.pone.0101271\n",
      "||   * A. Döring et al. http://dx.doi.org:80/10.1186/1471-2105-9-11\n",
      "||\n",
      "|| Please see http://khmer.readthedocs.io/en/latest/citations.html for details.\n",
      "\n",
      "\n",
      "PARAMETERS:\n",
      " - kmer size =     27 \t\t(-k)\n",
      " - n tables =      4 \t\t(-N)\n",
      " - max tablesize = 1e+09 \t(-x)\n",
      "Estimated memory usage is 4.0 Gb (4e+09 bytes = 4 bytes x 1e+09 entries / 1 entries per byte)\n",
      "--------\n",
      "making countgraph\n",
      "building k-mer tracking graph\n",
      "kmer_size: 27\n",
      "k-mer countgraph sizes: [860214997, 860214959, 860214923, 860214919]\n",
      "outputting to A1-D041914-3_8_M-1-1.trimmed.k27.dist\n",
      "consuming input, round 1 -- A1-D041914-3_8_M-1-1.trimmed\n",
      "Total number of unique k-mers: 8526019\n",
      "preparing hist from A1-D041914-3_8_M-1-1.trimmed...\n",
      "consuming input, round 2 -- A1-D041914-3_8_M-1-1.trimmed\n",
      "wrote to: A1-D041914-3_8_M-1-1.trimmed.k27.dist\n",
      "abundance-dist-single.py --force --threads 4 -M 4G -k 30 A1-D041914-3_8_M-1-1.trimmed A1-D041914-3_8_M-1-1.trimmed.k30.dist\n",
      "\n",
      "|| This is the script abundance-dist-single.py in khmer.\n",
      "|| You are running khmer version 3.0.0a1\n",
      "|| You are also using screed version 1.0\n",
      "||\n",
      "|| If you use this script in a publication, please cite EACH of the following:\n",
      "||\n",
      "||   * MR Crusoe et al., 2015. http://dx.doi.org/10.12688/f1000research.6924.1\n",
      "||   * Q Zhang et al., http://dx.doi.org/10.1371/journal.pone.0101271\n",
      "||   * A. Döring et al. http://dx.doi.org:80/10.1186/1471-2105-9-11\n",
      "||\n",
      "|| Please see http://khmer.readthedocs.io/en/latest/citations.html for details.\n",
      "\n",
      "\n",
      "PARAMETERS:\n",
      " - kmer size =     30 \t\t(-k)\n",
      " - n tables =      4 \t\t(-N)\n",
      " - max tablesize = 1e+09 \t(-x)\n",
      "Estimated memory usage is 4.0 Gb (4e+09 bytes = 4 bytes x 1e+09 entries / 1 entries per byte)\n",
      "--------\n",
      "making countgraph\n"
     ]
    },
    {
     "name": "stdout",
     "output_type": "stream",
     "text": [
      "building k-mer tracking graph\n",
      "kmer_size: 30\n",
      "k-mer countgraph sizes: [860214997, 860214959, 860214923, 860214919]\n",
      "outputting to A1-D041914-3_8_M-1-1.trimmed.k30.dist\n",
      "consuming input, round 1 -- A1-D041914-3_8_M-1-1.trimmed\n",
      "Total number of unique k-mers: 8621268\n",
      "preparing hist from A1-D041914-3_8_M-1-1.trimmed...\n",
      "consuming input, round 2 -- A1-D041914-3_8_M-1-1.trimmed\n",
      "wrote to: A1-D041914-3_8_M-1-1.trimmed.k30.dist\n",
      "abundance-dist-single.py --force --threads 4 -M 4G -k 33 A1-D041914-3_8_M-1-1.trimmed A1-D041914-3_8_M-1-1.trimmed.k33.dist\n",
      "\n",
      "|| This is the script abundance-dist-single.py in khmer.\n",
      "|| You are running khmer version 3.0.0a1\n",
      "|| You are also using screed version 1.0\n",
      "||\n",
      "|| If you use this script in a publication, please cite EACH of the following:\n",
      "||\n",
      "||   * MR Crusoe et al., 2015. http://dx.doi.org/10.12688/f1000research.6924.1\n",
      "||   * Q Zhang et al., http://dx.doi.org/10.1371/journal.pone.0101271\n",
      "||   * A. Döring et al. http://dx.doi.org:80/10.1186/1471-2105-9-11\n",
      "||\n",
      "|| Please see http://khmer.readthedocs.io/en/latest/citations.html for details.\n",
      "\n",
      "\n",
      "PARAMETERS:\n",
      " - kmer size =     33 \t\t(-k)\n",
      " - n tables =      4 \t\t(-N)\n",
      " - max tablesize = 1e+09 \t(-x)\n",
      "Estimated memory usage is 4.0 Gb (4e+09 bytes = 4 bytes x 1e+09 entries / 1 entries per byte)\n",
      "--------\n",
      "making countgraph\n",
      "\n",
      "** ERROR: khmer only supports k-mer sizes <= 32.\n",
      "\n"
     ]
    }
   ],
   "source": [
    "ksizes = range(12, 35, 3)\n",
    "\n",
    "x = \"asdf\"\n",
    "\n",
    "for ksize in ksizes:\n",
    "    command = f'abundance-dist-single.py --force --threads 4 -M 4G -k {ksize} A1-D041914-3_8_M-1-1.trimmed A1-D041914-3_8_M-1-1.trimmed.k{ksize}.dist'\n",
    "    ! echo $command\n",
    "    ! $command\n",
    "#     ! echo $ksize $x\n",
    "#     k = str(ksize)\n",
    "#     ! echo $ksize"
   ]
  },
  {
   "cell_type": "code",
   "execution_count": 83,
   "metadata": {},
   "outputs": [
    {
     "name": "stdout",
     "output_type": "stream",
     "text": [
      "(384052, 5)\n"
     ]
    },
    {
     "data": {
      "text/html": [
       "<div>\n",
       "<style scoped>\n",
       "    .dataframe tbody tr th:only-of-type {\n",
       "        vertical-align: middle;\n",
       "    }\n",
       "\n",
       "    .dataframe tbody tr th {\n",
       "        vertical-align: top;\n",
       "    }\n",
       "\n",
       "    .dataframe thead th {\n",
       "        text-align: right;\n",
       "    }\n",
       "</style>\n",
       "<table border=\"1\" class=\"dataframe\">\n",
       "  <thead>\n",
       "    <tr style=\"text-align: right;\">\n",
       "      <th></th>\n",
       "      <th>abundance</th>\n",
       "      <th>count</th>\n",
       "      <th>cumulative</th>\n",
       "      <th>cumulative_fraction</th>\n",
       "      <th>ksize</th>\n",
       "    </tr>\n",
       "  </thead>\n",
       "  <tbody>\n",
       "    <tr>\n",
       "      <th>0</th>\n",
       "      <td>0</td>\n",
       "      <td>0</td>\n",
       "      <td>0</td>\n",
       "      <td>0.000</td>\n",
       "      <td>27</td>\n",
       "    </tr>\n",
       "    <tr>\n",
       "      <th>1</th>\n",
       "      <td>1</td>\n",
       "      <td>4834186</td>\n",
       "      <td>4834186</td>\n",
       "      <td>0.565</td>\n",
       "      <td>27</td>\n",
       "    </tr>\n",
       "    <tr>\n",
       "      <th>2</th>\n",
       "      <td>2</td>\n",
       "      <td>571063</td>\n",
       "      <td>5405249</td>\n",
       "      <td>0.631</td>\n",
       "      <td>27</td>\n",
       "    </tr>\n",
       "    <tr>\n",
       "      <th>3</th>\n",
       "      <td>3</td>\n",
       "      <td>331995</td>\n",
       "      <td>5737244</td>\n",
       "      <td>0.670</td>\n",
       "      <td>27</td>\n",
       "    </tr>\n",
       "    <tr>\n",
       "      <th>4</th>\n",
       "      <td>4</td>\n",
       "      <td>262501</td>\n",
       "      <td>5999745</td>\n",
       "      <td>0.701</td>\n",
       "      <td>27</td>\n",
       "    </tr>\n",
       "  </tbody>\n",
       "</table>\n",
       "</div>"
      ],
      "text/plain": [
       "  abundance    count cumulative  cumulative_fraction  ksize\n",
       "0         0        0          0                0.000     27\n",
       "1         1  4834186    4834186                0.565     27\n",
       "2         2   571063    5405249                0.631     27\n",
       "3         3   331995    5737244                0.670     27\n",
       "4         4   262501    5999745                0.701     27"
      ]
     },
     "execution_count": 83,
     "metadata": {},
     "output_type": "execute_result"
    }
   ],
   "source": [
    "import glob\n",
    "import pandas as pd\n",
    "import re\n",
    "\n",
    "dfs = []\n",
    "\n",
    "for filename in glob.glob(\"A1-D041914-3_8_M-1-1.trimmed.*.dist\"):\n",
    "    df = pd.read_csv(filename)\n",
    "    df['ksize'] = int(filename.split('.')[-2].strip('k'))\n",
    "#     df['read_number'] = re.findall('_(R\\d)_', filename)[0]\n",
    "    dfs.append(df)\n",
    "\n",
    "trimmed_cell_kmer_dist = pd.concat(dfs, ignore_index=True)\n",
    "print(trimmed_cell_kmer_dist.shape)\n",
    "trimmed_cell_kmer_dist.head()"
   ]
  },
  {
   "cell_type": "code",
   "execution_count": 84,
   "metadata": {},
   "outputs": [
    {
     "data": {
      "text/plain": [
       "<seaborn.axisgrid.FacetGrid at 0x7f2bfa4ffc50>"
      ]
     },
     "execution_count": 84,
     "metadata": {},
     "output_type": "execute_result"
    },
    {
     "data": {
      "image/png": "[encoded data removed]",
      "text/plain": [
       "<Figure size 264.75x216 with 1 Axes>"
      ]
     },
     "metadata": {},
     "output_type": "display_data"
    }
   ],
   "source": [
    "g = sns.FacetGrid(trimmed_cell_kmer_dist, hue='ksize')\n",
    "g.map(plt.plot, 'abundance', 'count', alpha=0.75)\n",
    "g.add_legend()"
   ]
  },
  {
   "cell_type": "code",
   "execution_count": 85,
   "metadata": {},
   "outputs": [
    {
     "data": {
      "text/plain": [
       "<seaborn.axisgrid.FacetGrid at 0x7f2bf8c0ecf8>"
      ]
     },
     "execution_count": 85,
     "metadata": {},
     "output_type": "execute_result"
    },
    {
     "data": {
      "image/png": "[encoded data removed]",
      "text/plain": [
       "<Figure size 264.75x216 with 1 Axes>"
      ]
     },
     "metadata": {},
     "output_type": "display_data"
    }
   ],
   "source": [
    "g = sns.FacetGrid(trimmed_cell_kmer_dist, hue='ksize')\n",
    "g.map(plt.loglog, 'abundance', 'count', alpha=0.75)\n",
    "g.add_legend()"
   ]
  },
  {
   "cell_type": "code",
   "execution_count": 86,
   "metadata": {},
   "outputs": [
    {
     "data": {
      "text/plain": [
       "<seaborn.axisgrid.FacetGrid at 0x7f2bf8ab6438>"
      ]
     },
     "execution_count": 86,
     "metadata": {},
     "output_type": "execute_result"
    },
    {
     "data": {
      "image/png": "[encoded data removed]",
      "text/plain": [
       "<Figure size 264.75x216 with 1 Axes>"
      ]
     },
     "metadata": {},
     "output_type": "display_data"
    }
   ],
   "source": [
    "g = sns.FacetGrid(trimmed_cell_kmer_dist, hue='ksize')\n",
    "g.map(plt.semilogx, 'abundance', 'count', alpha=0.75)\n",
    "g.add_legend()"
   ]
  },
  {
   "cell_type": "code",
   "execution_count": 87,
   "metadata": {},
   "outputs": [
    {
     "data": {
      "text/plain": [
       "<seaborn.axisgrid.FacetGrid at 0x7f2bf8975588>"
      ]
     },
     "execution_count": 87,
     "metadata": {},
     "output_type": "execute_result"
    },
    {
     "data": {
      "image/png": "[encoded data removed]",
      "text/plain": [
       "<Figure size 264.75x216 with 1 Axes>"
      ]
     },
     "metadata": {},
     "output_type": "display_data"
    }
   ],
   "source": [
    "g = sns.FacetGrid(trimmed_cell_kmer_dist, hue='ksize')\n",
    "g.map(plt.semilogy, 'abundance', 'count', alpha=0.75)\n",
    "g.add_legend()"
   ]
  },
  {
   "cell_type": "code",
   "execution_count": 80,
   "metadata": {
    "scrolled": false
   },
   "outputs": [
    {
     "name": "stdout",
     "output_type": "stream",
     "text": [
      "\r\n",
      "|| This is the script abundance-dist-single.py in khmer.\r\n",
      "|| You are running khmer version 3.0.0a1\r\n",
      "|| You are also using screed version 1.0\r\n",
      "||\r\n",
      "|| If you use this script in a publication, please cite EACH of the following:\r\n",
      "||\r\n",
      "||   * MR Crusoe et al., 2015. http://dx.doi.org/10.12688/f1000research.6924.1\r\n",
      "||   * Q Zhang et al., http://dx.doi.org/10.1371/journal.pone.0101271\r\n",
      "||   * A. Döring et al. http://dx.doi.org:80/10.1186/1471-2105-9-11\r\n",
      "||\r\n",
      "|| Please see http://khmer.readthedocs.io/en/latest/citations.html for details.\r\n",
      "\r\n",
      "usage: abundance-dist-single.py [--version] [--info] [-h] [-k KSIZE]\r\n",
      "                                [-U UNIQUE_KMERS] [--fp-rate FP_RATE]\r\n",
      "                                [-M MAX_MEMORY_USAGE] [--small-count]\r\n",
      "                                [-T THREADS] [-z] [-b] [-s]\r\n",
      "                                [--savegraph filename] [-f] [-q]\r\n",
      "                                input_sequence_filename\r\n",
      "                                output_histogram_filename\r\n",
      "\r\n",
      "Calculate the abundance distribution of k-mers from a single sequence file.\r\n",
      "\r\n",
      "positional arguments:\r\n",
      "  input_sequence_filename\r\n",
      "                        The name of the input FAST[AQ] sequence file.\r\n",
      "  output_histogram_filename\r\n",
      "                        The name of the output histogram file. The columns\r\n",
      "                        are: (1) k-mer abundance, (2) k-mer count, (3)\r\n",
      "                        cumulative count, (4) fraction of total distinct\r\n",
      "                        k-mers.\r\n",
      "\r\n",
      "optional arguments:\r\n",
      "  --version             show program's version number and exit\r\n",
      "  --info                print citation information\r\n",
      "  -h, --help            show this help message and exit\r\n",
      "  -k KSIZE, --ksize KSIZE\r\n",
      "                        k-mer size to use (default: 32)\r\n",
      "  -U UNIQUE_KMERS, --unique-kmers UNIQUE_KMERS\r\n",
      "                        approximate number of unique kmers in the input set\r\n",
      "                        (default: 0)\r\n",
      "  --fp-rate FP_RATE     Override the automatic FP rate setting for the current\r\n",
      "                        script (default: None)\r\n",
      "  -M MAX_MEMORY_USAGE, --max-memory-usage MAX_MEMORY_USAGE\r\n",
      "                        maximum amount of memory to use for data structure\r\n",
      "                        (default: None)\r\n",
      "  --small-count         Reduce memory usage by using a smaller counter for\r\n",
      "                        individual kmers. (default: False)\r\n",
      "  -T THREADS, --threads THREADS\r\n",
      "                        Number of simultaneous threads to execute (default: 1)\r\n",
      "  -z, --no-zero         Do not output zero-count bins (default: True)\r\n",
      "  -b, --no-bigcount     Do not count k-mers past 255 (default: True)\r\n",
      "  -s, --squash          Overwrite output file if it exists (default: False)\r\n",
      "  --savegraph filename  Save the k-mer countgraph to the specified filename.\r\n",
      "                        (default: None)\r\n",
      "  -f, --force           Override sanity checks (default: False)\r\n",
      "  -q, --quiet\r\n",
      "\r\n",
      "Note that with `-b`/`--no-bigcount` this script is constant memory; in\r\n",
      "exchange, k-mer counts will stop at 255. The memory usage of this script with\r\n",
      "`-b` will be about 1.15x the product of the `-x` and `-N` numbers.\r\n",
      "\r\n",
      "To count k-mers in multiple files use `load_into_counting.py` and\r\n",
      "`abundance_dist.py`.\r\n",
      "\r\n",
      "Example:\r\n",
      "\r\n",
      "    abundance-dist-single.py -x 1e7 -N 2 -k 17 \\\r\n",
      "            tests/test-data/test-abund-read-2.fa test-dist\r\n"
     ]
    }
   ],
   "source": [
    "! abundance-dist-single.py --help"
   ]
  },
  {
   "cell_type": "code",
   "execution_count": 82,
   "metadata": {},
   "outputs": [
    {
     "name": "stdout",
     "output_type": "stream",
     "text": [
      "total 3.2G\r\n",
      "drwxrwxr-x 3 ubuntu ubuntu 4.0K Aug  3 00:10 \u001b[0m\u001b[01;34m.\u001b[0m/\r\n",
      "drwxrwxr-x 3 ubuntu ubuntu 4.0K Aug  2 21:06 \u001b[01;34m..\u001b[0m/\r\n",
      "-rw-rw-r-- 1 ubuntu ubuntu  34M Oct 31  2017 \u001b[01;31mA1-D041914-3_8_M-1-1_S269_R1_001.fastq.gz\u001b[0m\r\n",
      "-rw-rw-r-- 1 ubuntu ubuntu  36M Oct 31  2017 \u001b[01;31mA1-D041914-3_8_M-1-1_S269_R2_001.fastq.gz\u001b[0m\r\n",
      "-rw-rw-r-- 1 ubuntu ubuntu    0 Aug  2 22:40 A1-D041914-3_8_M-1-1.sig\r\n",
      "-rw-rw-r-- 1 ubuntu ubuntu 239M May 10 01:08 gencode.vM17.transcripts.fa\r\n",
      "-rw-rw-r-- 1 ubuntu ubuntu  53M Apr 25 21:13 \u001b[01;31mgencode.vM17.transcripts.fa.gz\u001b[0m\r\n",
      "-rw-rw-r-- 1 ubuntu ubuntu 2.4G May 10 01:08 gencode.vM17.transcripts.fa.kallisto\r\n",
      "-rw-rw-r-- 1 ubuntu ubuntu 911K Aug  3 00:11 gencode.vM17.transcripts.k21.dist\r\n",
      "-rw-rw-r-- 1 ubuntu ubuntu 174M Aug  2 23:43 gencode.vM17.transcripts.scale1000.fromfa.sig\r\n",
      "-rw-rw-r-- 1 ubuntu ubuntu 174M Aug  2 23:41 gencode.vM17.transcripts.scale1000.fromgz.sig\r\n",
      "-rw-rw-r-- 1 ubuntu ubuntu  33M Aug  3 00:07 gencode.vM17.transcripts.scale1000.k21.dna.sbt.sbt.json\r\n",
      "-rw-rw-r-- 1 ubuntu ubuntu    0 Aug  2 23:31 gencode.vM17.transcripts.scale1000.sig\r\n",
      "-rw-rw-r-- 1 ubuntu ubuntu    0 Aug  2 21:14 gencode.vM17.transcripts.scale500.sig\r\n",
      "drwxrwxr-x 2 ubuntu ubuntu 8.0M Aug  2 22:14 \u001b[01;34m.sbt.gencode.vM17.transcripts.scale1000.k21.dna.sbt\u001b[0m/\r\n"
     ]
    }
   ],
   "source": [
    "ls -lha"
   ]
  },
  {
   "cell_type": "code",
   "execution_count": 81,
   "metadata": {},
   "outputs": [
    {
     "name": "stdout",
     "output_type": "stream",
     "text": [
      "\r\n",
      "|| This is the script abundance-dist-single.py in khmer.\r\n",
      "|| You are running khmer version 3.0.0a1\r\n",
      "|| You are also using screed version 1.0\r\n",
      "||\r\n",
      "|| If you use this script in a publication, please cite EACH of the following:\r\n",
      "||\r\n",
      "||   * MR Crusoe et al., 2015. http://dx.doi.org/10.12688/f1000research.6924.1\r\n",
      "||   * Q Zhang et al., http://dx.doi.org/10.1371/journal.pone.0101271\r\n",
      "||   * A. Döring et al. http://dx.doi.org:80/10.1186/1471-2105-9-11\r\n",
      "||\r\n",
      "|| Please see http://khmer.readthedocs.io/en/latest/citations.html for details.\r\n",
      "\r\n",
      "\r\n",
      "PARAMETERS:\r\n",
      " - kmer size =     21 \t\t(-k)\r\n",
      " - n tables =      4 \t\t(-N)\r\n",
      " - max tablesize = 1e+09 \t(-x)\r\n",
      "Estimated memory usage is 4.0 Gb (4e+09 bytes = 4 bytes x 1e+09 entries / 1 entries per byte)\r\n",
      "--------\r\n",
      "ERROR: gencode.vM17.transcripts.k21.dist exists; not squashing.\r\n"
     ]
    }
   ],
   "source": [
    "! abundance-dist-single.py --force --threads 4 -M 4G -k 21 gencode.vM17.transcripts.fa gencode.vM17.transcripts.k21.dist"
   ]
  },
  {
   "cell_type": "code",
   "execution_count": 1,
   "metadata": {},
   "outputs": [
    {
     "data": {
      "text/plain": [
       "range(0, 3)"
      ]
     },
     "execution_count": 1,
     "metadata": {},
     "output_type": "execute_result"
    }
   ],
   "source": [
    "range(3)"
   ]
  },
  {
   "cell_type": "code",
   "execution_count": 5,
   "metadata": {},
   "outputs": [],
   "source": [
    "rm *dist"
   ]
  },
  {
   "cell_type": "markdown",
   "metadata": {},
   "source": [
    "## Get distributions of kmers in transcriptome"
   ]
  },
  {
   "cell_type": "code",
   "execution_count": 6,
   "metadata": {
    "scrolled": true
   },
   "outputs": [
    {
     "name": "stdout",
     "output_type": "stream",
     "text": [
      "abundance-dist-single.py --force --threads 4 -M 4G -k 12 gencode.vM17.transcripts.fa gencode.vM17.transcripts.k12.dist\n",
      "\n",
      "|| This is the script abundance-dist-single.py in khmer.\n",
      "|| You are running khmer version 3.0.0a1\n",
      "|| You are also using screed version 1.0\n",
      "||\n",
      "|| If you use this script in a publication, please cite EACH of the following:\n",
      "||\n",
      "||   * MR Crusoe et al., 2015. http://dx.doi.org/10.12688/f1000research.6924.1\n",
      "||   * Q Zhang et al., http://dx.doi.org/10.1371/journal.pone.0101271\n",
      "||   * A. Döring et al. http://dx.doi.org:80/10.1186/1471-2105-9-11\n",
      "||\n",
      "|| Please see http://khmer.readthedocs.io/en/latest/citations.html for details.\n",
      "\n",
      "\n",
      "PARAMETERS:\n",
      " - kmer size =     12 \t\t(-k)\n",
      " - n tables =      4 \t\t(-N)\n",
      " - max tablesize = 1e+09 \t(-x)\n",
      "Estimated memory usage is 4.0 Gb (4e+09 bytes = 4 bytes x 1e+09 entries / 1 entries per byte)\n",
      "--------\n",
      "making countgraph\n",
      "building k-mer tracking graph\n",
      "kmer_size: 12\n",
      "k-mer countgraph sizes: [860214997, 860214959, 860214923, 860214919]\n",
      "outputting to gencode.vM17.transcripts.k12.dist\n",
      "consuming input, round 1 -- gencode.vM17.transcripts.fa\n",
      "Total number of unique k-mers: 7859133\n",
      "preparing hist from gencode.vM17.transcripts.fa...\n",
      "consuming input, round 2 -- gencode.vM17.transcripts.fa\n",
      "wrote to: gencode.vM17.transcripts.k12.dist\n",
      "abundance-dist-single.py --force --threads 4 -M 4G -k 15 gencode.vM17.transcripts.fa gencode.vM17.transcripts.k15.dist\n",
      "\n",
      "|| This is the script abundance-dist-single.py in khmer.\n",
      "|| You are running khmer version 3.0.0a1\n",
      "|| You are also using screed version 1.0\n",
      "||\n",
      "|| If you use this script in a publication, please cite EACH of the following:\n",
      "||\n",
      "||   * MR Crusoe et al., 2015. http://dx.doi.org/10.12688/f1000research.6924.1\n",
      "||   * Q Zhang et al., http://dx.doi.org/10.1371/journal.pone.0101271\n",
      "||   * A. Döring et al. http://dx.doi.org:80/10.1186/1471-2105-9-11\n",
      "||\n",
      "|| Please see http://khmer.readthedocs.io/en/latest/citations.html for details.\n",
      "\n",
      "\n",
      "PARAMETERS:\n",
      " - kmer size =     15 \t\t(-k)\n",
      " - n tables =      4 \t\t(-N)\n",
      " - max tablesize = 1e+09 \t(-x)\n",
      "Estimated memory usage is 4.0 Gb (4e+09 bytes = 4 bytes x 1e+09 entries / 1 entries per byte)\n",
      "--------\n",
      "making countgraph\n",
      "building k-mer tracking graph\n",
      "kmer_size: 15\n",
      "k-mer countgraph sizes: [860214997, 860214959, 860214923, 860214919]\n",
      "outputting to gencode.vM17.transcripts.k15.dist\n",
      "consuming input, round 1 -- gencode.vM17.transcripts.fa\n",
      "Total number of unique k-mers: 85379768\n",
      "preparing hist from gencode.vM17.transcripts.fa...\n",
      "consuming input, round 2 -- gencode.vM17.transcripts.fa\n",
      "wrote to: gencode.vM17.transcripts.k15.dist\n",
      "abundance-dist-single.py --force --threads 4 -M 4G -k 18 gencode.vM17.transcripts.fa gencode.vM17.transcripts.k18.dist\n",
      "\n",
      "|| This is the script abundance-dist-single.py in khmer.\n",
      "|| You are running khmer version 3.0.0a1\n",
      "|| You are also using screed version 1.0\n",
      "||\n",
      "|| If you use this script in a publication, please cite EACH of the following:\n",
      "||\n",
      "||   * MR Crusoe et al., 2015. http://dx.doi.org/10.12688/f1000research.6924.1\n",
      "||   * Q Zhang et al., http://dx.doi.org/10.1371/journal.pone.0101271\n",
      "||   * A. Döring et al. http://dx.doi.org:80/10.1186/1471-2105-9-11\n",
      "||\n",
      "|| Please see http://khmer.readthedocs.io/en/latest/citations.html for details.\n",
      "\n",
      "\n",
      "PARAMETERS:\n",
      " - kmer size =     18 \t\t(-k)\n",
      " - n tables =      4 \t\t(-N)\n",
      " - max tablesize = 1e+09 \t(-x)\n",
      "Estimated memory usage is 4.0 Gb (4e+09 bytes = 4 bytes x 1e+09 entries / 1 entries per byte)\n",
      "--------\n",
      "making countgraph\n",
      "building k-mer tracking graph\n",
      "kmer_size: 18\n",
      "k-mer countgraph sizes: [860214997, 860214959, 860214923, 860214919]\n",
      "outputting to gencode.vM17.transcripts.k18.dist\n",
      "consuming input, round 1 -- gencode.vM17.transcripts.fa\n",
      "Total number of unique k-mers: 111351399\n",
      "preparing hist from gencode.vM17.transcripts.fa...\n",
      "consuming input, round 2 -- gencode.vM17.transcripts.fa\n",
      "wrote to: gencode.vM17.transcripts.k18.dist\n",
      "abundance-dist-single.py --force --threads 4 -M 4G -k 21 gencode.vM17.transcripts.fa gencode.vM17.transcripts.k21.dist\n",
      "\n",
      "|| This is the script abundance-dist-single.py in khmer.\n",
      "|| You are running khmer version 3.0.0a1\n",
      "|| You are also using screed version 1.0\n",
      "||\n",
      "|| If you use this script in a publication, please cite EACH of the following:\n",
      "||\n",
      "||   * MR Crusoe et al., 2015. http://dx.doi.org/10.12688/f1000research.6924.1\n",
      "||   * Q Zhang et al., http://dx.doi.org/10.1371/journal.pone.0101271\n",
      "||   * A. Döring et al. http://dx.doi.org:80/10.1186/1471-2105-9-11\n",
      "||\n",
      "|| Please see http://khmer.readthedocs.io/en/latest/citations.html for details.\n",
      "\n",
      "\n",
      "PARAMETERS:\n",
      " - kmer size =     21 \t\t(-k)\n",
      " - n tables =      4 \t\t(-N)\n",
      " - max tablesize = 1e+09 \t(-x)\n",
      "Estimated memory usage is 4.0 Gb (4e+09 bytes = 4 bytes x 1e+09 entries / 1 entries per byte)\n",
      "--------\n",
      "making countgraph\n",
      "building k-mer tracking graph\n",
      "kmer_size: 21\n",
      "k-mer countgraph sizes: [860214997, 860214959, 860214923, 860214919]\n",
      "outputting to gencode.vM17.transcripts.k21.dist\n",
      "consuming input, round 1 -- gencode.vM17.transcripts.fa\n",
      "Total number of unique k-mers: 113763217\n",
      "preparing hist from gencode.vM17.transcripts.fa...\n",
      "consuming input, round 2 -- gencode.vM17.transcripts.fa\n",
      "wrote to: gencode.vM17.transcripts.k21.dist\n",
      "abundance-dist-single.py --force --threads 4 -M 4G -k 24 gencode.vM17.transcripts.fa gencode.vM17.transcripts.k24.dist\n",
      "\n",
      "|| This is the script abundance-dist-single.py in khmer.\n",
      "|| You are running khmer version 3.0.0a1\n",
      "|| You are also using screed version 1.0\n",
      "||\n",
      "|| If you use this script in a publication, please cite EACH of the following:\n",
      "||\n",
      "||   * MR Crusoe et al., 2015. http://dx.doi.org/10.12688/f1000research.6924.1\n",
      "||   * Q Zhang et al., http://dx.doi.org/10.1371/journal.pone.0101271\n",
      "||   * A. Döring et al. http://dx.doi.org:80/10.1186/1471-2105-9-11\n",
      "||\n",
      "|| Please see http://khmer.readthedocs.io/en/latest/citations.html for details.\n",
      "\n",
      "\n",
      "PARAMETERS:\n",
      " - kmer size =     24 \t\t(-k)\n",
      " - n tables =      4 \t\t(-N)\n",
      " - max tablesize = 1e+09 \t(-x)\n",
      "Estimated memory usage is 4.0 Gb (4e+09 bytes = 4 bytes x 1e+09 entries / 1 entries per byte)\n",
      "--------\n",
      "making countgraph\n",
      "building k-mer tracking graph\n",
      "kmer_size: 24\n",
      "k-mer countgraph sizes: [860214997, 860214959, 860214923, 860214919]\n",
      "outputting to gencode.vM17.transcripts.k24.dist\n",
      "consuming input, round 1 -- gencode.vM17.transcripts.fa\n",
      "Total number of unique k-mers: 114828419\n",
      "preparing hist from gencode.vM17.transcripts.fa...\n",
      "consuming input, round 2 -- gencode.vM17.transcripts.fa\n",
      "wrote to: gencode.vM17.transcripts.k24.dist\n",
      "abundance-dist-single.py --force --threads 4 -M 4G -k 27 gencode.vM17.transcripts.fa gencode.vM17.transcripts.k27.dist\n",
      "\n",
      "|| This is the script abundance-dist-single.py in khmer.\n",
      "|| You are running khmer version 3.0.0a1\n",
      "|| You are also using screed version 1.0\n",
      "||\n",
      "|| If you use this script in a publication, please cite EACH of the following:\n",
      "||\n",
      "||   * MR Crusoe et al., 2015. http://dx.doi.org/10.12688/f1000research.6924.1\n",
      "||   * Q Zhang et al., http://dx.doi.org/10.1371/journal.pone.0101271\n",
      "||   * A. Döring et al. http://dx.doi.org:80/10.1186/1471-2105-9-11\n",
      "||\n",
      "|| Please see http://khmer.readthedocs.io/en/latest/citations.html for details.\n",
      "\n",
      "\n",
      "PARAMETERS:\n",
      " - kmer size =     27 \t\t(-k)\n",
      " - n tables =      4 \t\t(-N)\n",
      " - max tablesize = 1e+09 \t(-x)\n",
      "Estimated memory usage is 4.0 Gb (4e+09 bytes = 4 bytes x 1e+09 entries / 1 entries per byte)\n",
      "--------\n",
      "making countgraph\n",
      "building k-mer tracking graph\n",
      "kmer_size: 27\n",
      "k-mer countgraph sizes: [860214997, 860214959, 860214923, 860214919]\n",
      "outputting to gencode.vM17.transcripts.k27.dist\n",
      "consuming input, round 1 -- gencode.vM17.transcripts.fa\n",
      "Total number of unique k-mers: 115584842\n",
      "preparing hist from gencode.vM17.transcripts.fa...\n",
      "consuming input, round 2 -- gencode.vM17.transcripts.fa\n",
      "wrote to: gencode.vM17.transcripts.k27.dist\n",
      "abundance-dist-single.py --force --threads 4 -M 4G -k 30 gencode.vM17.transcripts.fa gencode.vM17.transcripts.k30.dist\n",
      "\n",
      "|| This is the script abundance-dist-single.py in khmer.\n",
      "|| You are running khmer version 3.0.0a1\n",
      "|| You are also using screed version 1.0\n",
      "||\n",
      "|| If you use this script in a publication, please cite EACH of the following:\n",
      "||\n",
      "||   * MR Crusoe et al., 2015. http://dx.doi.org/10.12688/f1000research.6924.1\n",
      "||   * Q Zhang et al., http://dx.doi.org/10.1371/journal.pone.0101271\n",
      "||   * A. Döring et al. http://dx.doi.org:80/10.1186/1471-2105-9-11\n",
      "||\n",
      "|| Please see http://khmer.readthedocs.io/en/latest/citations.html for details.\n",
      "\n",
      "\n",
      "PARAMETERS:\n",
      " - kmer size =     30 \t\t(-k)\n",
      " - n tables =      4 \t\t(-N)\n",
      " - max tablesize = 1e+09 \t(-x)\n",
      "Estimated memory usage is 4.0 Gb (4e+09 bytes = 4 bytes x 1e+09 entries / 1 entries per byte)\n",
      "--------\n",
      "making countgraph\n"
     ]
    },
    {
     "name": "stdout",
     "output_type": "stream",
     "text": [
      "building k-mer tracking graph\n",
      "kmer_size: 30\n",
      "k-mer countgraph sizes: [860214997, 860214959, 860214923, 860214919]\n",
      "outputting to gencode.vM17.transcripts.k30.dist\n",
      "consuming input, round 1 -- gencode.vM17.transcripts.fa\n",
      "Total number of unique k-mers: 116175270\n",
      "preparing hist from gencode.vM17.transcripts.fa...\n",
      "consuming input, round 2 -- gencode.vM17.transcripts.fa\n",
      "wrote to: gencode.vM17.transcripts.k30.dist\n",
      "abundance-dist-single.py --force --threads 4 -M 4G -k 33 gencode.vM17.transcripts.fa gencode.vM17.transcripts.k33.dist\n",
      "\n",
      "|| This is the script abundance-dist-single.py in khmer.\n",
      "|| You are running khmer version 3.0.0a1\n",
      "|| You are also using screed version 1.0\n",
      "||\n",
      "|| If you use this script in a publication, please cite EACH of the following:\n",
      "||\n",
      "||   * MR Crusoe et al., 2015. http://dx.doi.org/10.12688/f1000research.6924.1\n",
      "||   * Q Zhang et al., http://dx.doi.org/10.1371/journal.pone.0101271\n",
      "||   * A. Döring et al. http://dx.doi.org:80/10.1186/1471-2105-9-11\n",
      "||\n",
      "|| Please see http://khmer.readthedocs.io/en/latest/citations.html for details.\n",
      "\n",
      "\n",
      "PARAMETERS:\n",
      " - kmer size =     33 \t\t(-k)\n",
      " - n tables =      4 \t\t(-N)\n",
      " - max tablesize = 1e+09 \t(-x)\n",
      "Estimated memory usage is 4.0 Gb (4e+09 bytes = 4 bytes x 1e+09 entries / 1 entries per byte)\n",
      "--------\n",
      "making countgraph\n",
      "\n",
      "** ERROR: khmer only supports k-mer sizes <= 32.\n",
      "\n"
     ]
    }
   ],
   "source": [
    "ksizes = range(12, 35, 3)\n",
    "\n",
    "x = \"asdf\"\n",
    "\n",
    "for ksize in ksizes:\n",
    "    command = f'abundance-dist-single.py --force --threads 4 -M 4G -k {ksize} gencode.vM17.transcripts.fa gencode.vM17.transcripts.k{ksize}.dist'\n",
    "    ! echo $command\n",
    "    ! $command\n",
    "#     ! echo $ksize $x\n",
    "#     k = str(ksize)\n",
    "#     ! echo $ksize"
   ]
  },
  {
   "cell_type": "code",
   "execution_count": null,
   "metadata": {},
   "outputs": [],
   "source": [
    "ksizes = range(12, 35, 3)\n",
    "\n",
    "x = \"asdf\"\n",
    "\n",
    "for ksize in ksizes:\n",
    "    command = f'abundance-dist-single.py --force --threads 4 -M 4G -k {ksize} gencode.vM17.transcripts.fa gencode.vM17.transcripts.k{ksize}.dist'\n",
    "    ! echo $command\n",
    "    ! $command\n",
    "#     ! echo $ksize $x\n",
    "#     k = str(ksize)\n",
    "#     ! echo $ksize"
   ]
  },
  {
   "cell_type": "code",
   "execution_count": 7,
   "metadata": {},
   "outputs": [
    {
     "name": "stdout",
     "output_type": "stream",
     "text": [
      "\u001b[0m\u001b[01;31mA1-D041914-3_8_M-1-1_S269_R1_001.fastq.gz\u001b[0m\r\n",
      "\u001b[01;31mA1-D041914-3_8_M-1-1_S269_R2_001.fastq.gz\u001b[0m\r\n",
      "A1-D041914-3_8_M-1-1.sig\r\n",
      "gencode.vM17.transcripts.fa\r\n",
      "\u001b[01;31mgencode.vM17.transcripts.fa.gz\u001b[0m\r\n",
      "gencode.vM17.transcripts.fa.kallisto\r\n",
      "gencode.vM17.transcripts.k12.dist\r\n",
      "gencode.vM17.transcripts.k15.dist\r\n",
      "gencode.vM17.transcripts.k18.dist\r\n",
      "gencode.vM17.transcripts.k21.dist\r\n",
      "gencode.vM17.transcripts.k24.dist\r\n",
      "gencode.vM17.transcripts.k27.dist\r\n",
      "gencode.vM17.transcripts.k30.dist\r\n",
      "gencode.vM17.transcripts.k33.dist\r\n",
      "gencode.vM17.transcripts.scale1000.fromfa.sig\r\n",
      "gencode.vM17.transcripts.scale1000.fromgz.sig\r\n",
      "gencode.vM17.transcripts.scale1000.k21.dna.sbt.sbt.json\r\n",
      "gencode.vM17.transcripts.scale1000.sig\r\n",
      "gencode.vM17.transcripts.scale500.sig\r\n"
     ]
    }
   ],
   "source": [
    "ls "
   ]
  },
  {
   "cell_type": "code",
   "execution_count": 4,
   "metadata": {},
   "outputs": [
    {
     "name": "stdout",
     "output_type": "stream",
     "text": [
      "(319019, 5)\n",
      "(319019, 5)\n"
     ]
    },
    {
     "data": {
      "text/html": [
       "<div>\n",
       "<style scoped>\n",
       "    .dataframe tbody tr th:only-of-type {\n",
       "        vertical-align: middle;\n",
       "    }\n",
       "\n",
       "    .dataframe tbody tr th {\n",
       "        vertical-align: top;\n",
       "    }\n",
       "\n",
       "    .dataframe thead th {\n",
       "        text-align: right;\n",
       "    }\n",
       "</style>\n",
       "<table border=\"1\" class=\"dataframe\">\n",
       "  <thead>\n",
       "    <tr style=\"text-align: right;\">\n",
       "      <th></th>\n",
       "      <th>abundance</th>\n",
       "      <th>count</th>\n",
       "      <th>cumulative</th>\n",
       "      <th>cumulative_fraction</th>\n",
       "      <th>ksize</th>\n",
       "    </tr>\n",
       "  </thead>\n",
       "  <tbody>\n",
       "    <tr>\n",
       "      <th>0</th>\n",
       "      <td>0</td>\n",
       "      <td>0</td>\n",
       "      <td>0</td>\n",
       "      <td>0.000</td>\n",
       "      <td>12</td>\n",
       "    </tr>\n",
       "    <tr>\n",
       "      <th>1</th>\n",
       "      <td>1</td>\n",
       "      <td>361057</td>\n",
       "      <td>361057</td>\n",
       "      <td>0.041</td>\n",
       "      <td>12</td>\n",
       "    </tr>\n",
       "    <tr>\n",
       "      <th>2</th>\n",
       "      <td>2</td>\n",
       "      <td>334380</td>\n",
       "      <td>695437</td>\n",
       "      <td>0.079</td>\n",
       "      <td>12</td>\n",
       "    </tr>\n",
       "    <tr>\n",
       "      <th>3</th>\n",
       "      <td>3</td>\n",
       "      <td>320771</td>\n",
       "      <td>1016208</td>\n",
       "      <td>0.115</td>\n",
       "      <td>12</td>\n",
       "    </tr>\n",
       "    <tr>\n",
       "      <th>4</th>\n",
       "      <td>4</td>\n",
       "      <td>306833</td>\n",
       "      <td>1323041</td>\n",
       "      <td>0.150</td>\n",
       "      <td>12</td>\n",
       "    </tr>\n",
       "  </tbody>\n",
       "</table>\n",
       "</div>"
      ],
      "text/plain": [
       "  abundance   count cumulative  cumulative_fraction  ksize\n",
       "0         0       0          0                0.000     12\n",
       "1         1  361057     361057                0.041     12\n",
       "2         2  334380     695437                0.079     12\n",
       "3         3  320771    1016208                0.115     12\n",
       "4         4  306833    1323041                0.150     12"
      ]
     },
     "execution_count": 4,
     "metadata": {},
     "output_type": "execute_result"
    },
    {
     "data": {
      "text/html": [
       "<div>\n",
       "<style scoped>\n",
       "    .dataframe tbody tr th:only-of-type {\n",
       "        vertical-align: middle;\n",
       "    }\n",
       "\n",
       "    .dataframe tbody tr th {\n",
       "        vertical-align: top;\n",
       "    }\n",
       "\n",
       "    .dataframe thead th {\n",
       "        text-align: right;\n",
       "    }\n",
       "</style>\n",
       "<table border=\"1\" class=\"dataframe\">\n",
       "  <thead>\n",
       "    <tr style=\"text-align: right;\">\n",
       "      <th></th>\n",
       "      <th>abundance</th>\n",
       "      <th>count</th>\n",
       "      <th>cumulative</th>\n",
       "      <th>cumulative_fraction</th>\n",
       "      <th>ksize</th>\n",
       "    </tr>\n",
       "  </thead>\n",
       "  <tbody>\n",
       "    <tr>\n",
       "      <th>0</th>\n",
       "      <td>0</td>\n",
       "      <td>0</td>\n",
       "      <td>0</td>\n",
       "      <td>0.000</td>\n",
       "      <td>12</td>\n",
       "    </tr>\n",
       "    <tr>\n",
       "      <th>1</th>\n",
       "      <td>1</td>\n",
       "      <td>361057</td>\n",
       "      <td>361057</td>\n",
       "      <td>0.041</td>\n",
       "      <td>12</td>\n",
       "    </tr>\n",
       "    <tr>\n",
       "      <th>2</th>\n",
       "      <td>2</td>\n",
       "      <td>334380</td>\n",
       "      <td>695437</td>\n",
       "      <td>0.079</td>\n",
       "      <td>12</td>\n",
       "    </tr>\n",
       "    <tr>\n",
       "      <th>3</th>\n",
       "      <td>3</td>\n",
       "      <td>320771</td>\n",
       "      <td>1016208</td>\n",
       "      <td>0.115</td>\n",
       "      <td>12</td>\n",
       "    </tr>\n",
       "    <tr>\n",
       "      <th>4</th>\n",
       "      <td>4</td>\n",
       "      <td>306833</td>\n",
       "      <td>1323041</td>\n",
       "      <td>0.150</td>\n",
       "      <td>12</td>\n",
       "    </tr>\n",
       "  </tbody>\n",
       "</table>\n",
       "</div>"
      ],
      "text/plain": [
       "  abundance   count cumulative  cumulative_fraction  ksize\n",
       "0         0       0          0                0.000     12\n",
       "1         1  361057     361057                0.041     12\n",
       "2         2  334380     695437                0.079     12\n",
       "3         3  320771    1016208                0.115     12\n",
       "4         4  306833    1323041                0.150     12"
      ]
     },
     "execution_count": 4,
     "metadata": {},
     "output_type": "execute_result"
    },
    {
     "name": "stdout",
     "output_type": "stream",
     "text": [
      "(319019, 5)\n"
     ]
    },
    {
     "data": {
      "text/html": [
       "<div>\n",
       "<style scoped>\n",
       "    .dataframe tbody tr th:only-of-type {\n",
       "        vertical-align: middle;\n",
       "    }\n",
       "\n",
       "    .dataframe tbody tr th {\n",
       "        vertical-align: top;\n",
       "    }\n",
       "\n",
       "    .dataframe thead th {\n",
       "        text-align: right;\n",
       "    }\n",
       "</style>\n",
       "<table border=\"1\" class=\"dataframe\">\n",
       "  <thead>\n",
       "    <tr style=\"text-align: right;\">\n",
       "      <th></th>\n",
       "      <th>abundance</th>\n",
       "      <th>count</th>\n",
       "      <th>cumulative</th>\n",
       "      <th>cumulative_fraction</th>\n",
       "      <th>ksize</th>\n",
       "    </tr>\n",
       "  </thead>\n",
       "  <tbody>\n",
       "    <tr>\n",
       "      <th>0</th>\n",
       "      <td>0</td>\n",
       "      <td>0</td>\n",
       "      <td>0</td>\n",
       "      <td>0.000</td>\n",
       "      <td>12</td>\n",
       "    </tr>\n",
       "    <tr>\n",
       "      <th>1</th>\n",
       "      <td>1</td>\n",
       "      <td>361057</td>\n",
       "      <td>361057</td>\n",
       "      <td>0.041</td>\n",
       "      <td>12</td>\n",
       "    </tr>\n",
       "    <tr>\n",
       "      <th>2</th>\n",
       "      <td>2</td>\n",
       "      <td>334380</td>\n",
       "      <td>695437</td>\n",
       "      <td>0.079</td>\n",
       "      <td>12</td>\n",
       "    </tr>\n",
       "    <tr>\n",
       "      <th>3</th>\n",
       "      <td>3</td>\n",
       "      <td>320771</td>\n",
       "      <td>1016208</td>\n",
       "      <td>0.115</td>\n",
       "      <td>12</td>\n",
       "    </tr>\n",
       "    <tr>\n",
       "      <th>4</th>\n",
       "      <td>4</td>\n",
       "      <td>306833</td>\n",
       "      <td>1323041</td>\n",
       "      <td>0.150</td>\n",
       "      <td>12</td>\n",
       "    </tr>\n",
       "  </tbody>\n",
       "</table>\n",
       "</div>"
      ],
      "text/plain": [
       "  abundance   count cumulative  cumulative_fraction  ksize\n",
       "0         0       0          0                0.000     12\n",
       "1         1  361057     361057                0.041     12\n",
       "2         2  334380     695437                0.079     12\n",
       "3         3  320771    1016208                0.115     12\n",
       "4         4  306833    1323041                0.150     12"
      ]
     },
     "execution_count": 4,
     "metadata": {},
     "output_type": "execute_result"
    }
   ],
   "source": [
    "import glob\n",
    "import pandas as pd\n",
    "\n",
    "dfs = []\n",
    "\n",
    "for filename in glob.glob(\"gencode.vM17.transcripts.*.dist\"):\n",
    "    df = pd.read_csv(filename)\n",
    "    df['ksize'] = int(filename.split('.')[-2].strip('k'))\n",
    "    dfs.append(df)\n",
    "\n",
    "distributions = pd.concat(dfs, ignore_index=True)\n",
    "print(distributions.shape)\n",
    "distributions.head()"
   ]
  },
  {
   "cell_type": "code",
   "execution_count": 20,
   "metadata": {},
   "outputs": [
    {
     "data": {
      "text/plain": [
       "<seaborn.axisgrid.FacetGrid at 0x7f2c22e126d8>"
      ]
     },
     "execution_count": 20,
     "metadata": {},
     "output_type": "execute_result"
    },
    {
     "data": {
      "text/plain": [
       "<seaborn.axisgrid.FacetGrid at 0x7f2c22e126d8>"
      ]
     },
     "execution_count": 20,
     "metadata": {},
     "output_type": "execute_result"
    },
    {
     "data": {
      "text/plain": [
       "<seaborn.axisgrid.FacetGrid at 0x7f2c22e126d8>"
      ]
     },
     "execution_count": 20,
     "metadata": {},
     "output_type": "execute_result"
    },
    {
     "data": {
      "image/png": "[encoded data removed]",
      "text/plain": [
       "<Figure size 264.75x216 with 1 Axes>"
      ]
     },
     "metadata": {},
     "output_type": "display_data"
    },
    {
     "data": {
      "image/png": "[encoded data removed]",
      "text/plain": [
       "<Figure size 264.75x216 with 1 Axes>"
      ]
     },
     "metadata": {},
     "output_type": "display_data"
    },
    {
     "data": {
      "image/png": "[encoded data removed]",
      "text/plain": [
       "<Figure size 264.75x216 with 1 Axes>"
      ]
     },
     "metadata": {},
     "output_type": "display_data"
    }
   ],
   "source": [
    "g = sns.FacetGrid(distributions, hue='ksize')\n",
    "g.map(plt.loglog, 'abundance', 'count', alpha=0.75)\n",
    "g.add_legend()"
   ]
  },
  {
   "cell_type": "code",
   "execution_count": 28,
   "metadata": {},
   "outputs": [
    {
     "data": {
      "text/plain": [
       "<seaborn.axisgrid.FacetGrid at 0x7f2c25733160>"
      ]
     },
     "execution_count": 28,
     "metadata": {},
     "output_type": "execute_result"
    },
    {
     "data": {
      "image/png": "[encoded data removed]",
      "text/plain": [
       "<Figure size 264.75x216 with 1 Axes>"
      ]
     },
     "metadata": {},
     "output_type": "display_data"
    }
   ],
   "source": [
    "g = sns.FacetGrid(distributions, hue='ksize')\n",
    "g.map(plt.loglog, 'abundance', 'count', alpha=0.75)\n",
    "g.add_legend()\n",
    "g.set(ylim=(1e5, 1e8))"
   ]
  },
  {
   "cell_type": "code",
   "execution_count": 29,
   "metadata": {},
   "outputs": [
    {
     "data": {
      "text/plain": [
       "<seaborn.axisgrid.FacetGrid at 0x7f2c25689550>"
      ]
     },
     "execution_count": 29,
     "metadata": {},
     "output_type": "execute_result"
    },
    {
     "data": {
      "image/png": "[encoded data removed]",
      "text/plain": [
       "<Figure size 264.75x216 with 1 Axes>"
      ]
     },
     "metadata": {},
     "output_type": "display_data"
    }
   ],
   "source": [
    "g = sns.FacetGrid(distributions, hue='ksize')\n",
    "g.map(plt.loglog, 'abundance', 'count', alpha=0.75)\n",
    "g.add_legend()\n",
    "g.set(ylim=(1e7, 1e8))"
   ]
  },
  {
   "cell_type": "code",
   "execution_count": 30,
   "metadata": {},
   "outputs": [
    {
     "data": {
      "text/plain": [
       "<seaborn.axisgrid.FacetGrid at 0x7f2c21da3390>"
      ]
     },
     "execution_count": 30,
     "metadata": {},
     "output_type": "execute_result"
    },
    {
     "data": {
      "image/png": "[encoded data removed]",
      "text/plain": [
       "<Figure size 264.75x216 with 1 Axes>"
      ]
     },
     "metadata": {},
     "output_type": "display_data"
    }
   ],
   "source": [
    "g = sns.FacetGrid(distributions, hue='ksize')\n",
    "g.map(plt.loglog, 'abundance', 'count', alpha=0.75)\n",
    "g.add_legend()\n",
    "g.set(ylim=(5*1e7, 1e8))"
   ]
  },
  {
   "cell_type": "code",
   "execution_count": 12,
   "metadata": {},
   "outputs": [
    {
     "data": {
      "text/plain": [
       "<matplotlib.axes._subplots.AxesSubplot at 0x7f2c23bf7b70>"
      ]
     },
     "execution_count": 12,
     "metadata": {},
     "output_type": "execute_result"
    },
    {
     "data": {
      "text/plain": [
       "<matplotlib.axes._subplots.AxesSubplot at 0x7f2c23bf7b70>"
      ]
     },
     "execution_count": 12,
     "metadata": {},
     "output_type": "execute_result"
    },
    {
     "data": {
      "text/plain": [
       "<matplotlib.axes._subplots.AxesSubplot at 0x7f2c23bf7b70>"
      ]
     },
     "execution_count": 12,
     "metadata": {},
     "output_type": "execute_result"
    },
    {
     "data": {
      "image/png": "[encoded data removed]",
      "text/plain": [
       "<Figure size 432x288 with 1 Axes>"
      ]
     },
     "metadata": {},
     "output_type": "display_data"
    },
    {
     "data": {
      "image/png": "[encoded data removed]",
      "text/plain": [
       "<Figure size 432x288 with 1 Axes>"
      ]
     },
     "metadata": {},
     "output_type": "display_data"
    },
    {
     "data": {
      "image/png": "[encoded data removed]",
      "text/plain": [
       "<Figure size 432x288 with 1 Axes>"
      ]
     },
     "metadata": {},
     "output_type": "display_data"
    }
   ],
   "source": [
    "distributions.plot(x='abundance', y='count', logy=True)"
   ]
  },
  {
   "cell_type": "code",
   "execution_count": 13,
   "metadata": {},
   "outputs": [],
   "source": [
    "# import altair as alt"
   ]
  },
  {
   "cell_type": "code",
   "execution_count": 18,
   "metadata": {},
   "outputs": [
    {
     "data": {
      "text/plain": [
       "RendererRegistry.enable('notebook')"
      ]
     },
     "execution_count": 18,
     "metadata": {},
     "output_type": "execute_result"
    }
   ],
   "source": [
    "# alt.data_transformers.enable('default', max_rows=None)\n",
    "# alt.renderers.enable('notebook')"
   ]
  },
  {
   "cell_type": "code",
   "execution_count": null,
   "metadata": {},
   "outputs": [],
   "source": [
    "\n",
    "# alt.Chart(distributions).mark_line().encode(\n",
    "#     x='abundance',\n",
    "#     y='count',\n",
    "#     color='ksize'\n",
    "# )"
   ]
  },
  {
   "cell_type": "markdown",
   "metadata": {},
   "source": [
    "### Distributions with tooltips"
   ]
  },
  {
   "cell_type": "code",
   "execution_count": null,
   "metadata": {},
   "outputs": [],
   "source": [
    "# Create a selection that chooses the nearest point & selects based on x-value\n",
    "nearest = alt.selection(type='single', nearest=True, on='mouseover',\n",
    "                        fields=['x'], empty='none')\n",
    "\n",
    "# The basic line\n",
    "line = alt.Chart().mark_line(interpolate='basis').encode(\n",
    "    x='abunance:Q',\n",
    "    y='count:Q',\n",
    "    color='ksize:N'\n",
    ")\n",
    "\n",
    "# Transparent selectors across the chart. This is what tells us\n",
    "# the x-value of the cursor\n",
    "selectors = alt.Chart().mark_point().encode(\n",
    "    x='x:Q',\n",
    "    opacity=alt.value(0),\n",
    ").add_selection(\n",
    "    nearest\n",
    ")\n",
    "\n",
    "# Draw points on the line, and highlight based on selection\n",
    "points = line.mark_point().encode(\n",
    "    opacity=alt.condition(nearest, alt.value(1), alt.value(0))\n",
    ")\n",
    "\n",
    "# Draw text labels near the points, and highlight based on selection\n",
    "text = line.mark_text(align='left', dx=5, dy=-5).encode(\n",
    "    text=alt.condition(nearest, 'y:Q', alt.value(' '))\n",
    ")\n",
    "\n",
    "# Draw a rule at the location of the selection\n",
    "rules = alt.Chart().mark_rule(color='gray').encode(\n",
    "    x='x:Q',\n",
    ").transform_filter(\n",
    "    nearest\n",
    ")\n",
    "\n",
    "# Put the five layers into a chart and bind the data\n",
    "alt.layer(line, selectors, points, rules, text,\n",
    "          data=data, width=600, height=300)"
   ]
  },
  {
   "cell_type": "code",
   "execution_count": 89,
   "metadata": {},
   "outputs": [
    {
     "name": "stdout",
     "output_type": "stream",
     "text": [
      "abundance,count,cumulative,cumulative_fraction\r",
      "\r\n",
      "0,0,0,0.0\r",
      "\r\n",
      "1,0,0,0.0\r",
      "\r\n",
      "2,0,0,0.0\r",
      "\r\n",
      "3,0,0,0.0\r",
      "\r\n",
      "4,0,0,0.0\r",
      "\r\n",
      "5,0,0,0.0\r",
      "\r\n",
      "6,0,0,0.0\r",
      "\r\n",
      "7,0,0,0.0\r",
      "\r\n",
      "8,0,0,0.0\r",
      "\r\n"
     ]
    }
   ],
   "source": [
    "! head gencode.vM17.transcripts.k21.dist"
   ]
  },
  {
   "cell_type": "code",
   "execution_count": 96,
   "metadata": {},
   "outputs": [
    {
     "data": {
      "text/html": [
       "<div>\n",
       "<style scoped>\n",
       "    .dataframe tbody tr th:only-of-type {\n",
       "        vertical-align: middle;\n",
       "    }\n",
       "\n",
       "    .dataframe tbody tr th {\n",
       "        vertical-align: top;\n",
       "    }\n",
       "\n",
       "    .dataframe thead th {\n",
       "        text-align: right;\n",
       "    }\n",
       "</style>\n",
       "<table border=\"1\" class=\"dataframe\">\n",
       "  <thead>\n",
       "    <tr style=\"text-align: right;\">\n",
       "      <th></th>\n",
       "      <th>count</th>\n",
       "      <th>cumulative</th>\n",
       "      <th>cumulative_fraction</th>\n",
       "    </tr>\n",
       "    <tr>\n",
       "      <th>abundance</th>\n",
       "      <th></th>\n",
       "      <th></th>\n",
       "      <th></th>\n",
       "    </tr>\n",
       "  </thead>\n",
       "  <tbody>\n",
       "    <tr>\n",
       "      <th>0</th>\n",
       "      <td>0</td>\n",
       "      <td>0</td>\n",
       "      <td>0.0</td>\n",
       "    </tr>\n",
       "    <tr>\n",
       "      <th>1</th>\n",
       "      <td>0</td>\n",
       "      <td>0</td>\n",
       "      <td>0.0</td>\n",
       "    </tr>\n",
       "    <tr>\n",
       "      <th>2</th>\n",
       "      <td>0</td>\n",
       "      <td>0</td>\n",
       "      <td>0.0</td>\n",
       "    </tr>\n",
       "    <tr>\n",
       "      <th>3</th>\n",
       "      <td>0</td>\n",
       "      <td>0</td>\n",
       "      <td>0.0</td>\n",
       "    </tr>\n",
       "    <tr>\n",
       "      <th>4</th>\n",
       "      <td>0</td>\n",
       "      <td>0</td>\n",
       "      <td>0.0</td>\n",
       "    </tr>\n",
       "  </tbody>\n",
       "</table>\n",
       "</div>"
      ],
      "text/plain": [
       "           count  cumulative  cumulative_fraction\n",
       "abundance                                        \n",
       "0              0           0                  0.0\n",
       "1              0           0                  0.0\n",
       "2              0           0                  0.0\n",
       "3              0           0                  0.0\n",
       "4              0           0                  0.0"
      ]
     },
     "execution_count": 96,
     "metadata": {},
     "output_type": "execute_result"
    }
   ],
   "source": [
    "import numpy as np\n",
    "import pandas as pd\n",
    "%matplotlib inline\n",
    "\n",
    "dist_file = 'gencode.vM17.transcripts.k21.dist'\n",
    "\n",
    "dist = pd.read_csv(dist_file, index_col=0)\n",
    "dist.head()"
   ]
  },
  {
   "cell_type": "code",
   "execution_count": 98,
   "metadata": {},
   "outputs": [
    {
     "data": {
      "text/plain": [
       "<matplotlib.axes._subplots.AxesSubplot at 0x7f64db5679e8>"
      ]
     },
     "execution_count": 98,
     "metadata": {},
     "output_type": "execute_result"
    },
    {
     "data": {
      "image/png": "[encoded data removed]",
      "text/plain": [
       "<Figure size 432x288 with 1 Axes>"
      ]
     },
     "metadata": {},
     "output_type": "display_data"
    }
   ],
   "source": [
    "dist.plot(y='count')"
   ]
  },
  {
   "cell_type": "code",
   "execution_count": 97,
   "metadata": {},
   "outputs": [
    {
     "data": {
      "text/plain": [
       "<matplotlib.axes._subplots.AxesSubplot at 0x7f64db5fbf98>"
      ]
     },
     "execution_count": 97,
     "metadata": {},
     "output_type": "execute_result"
    },
    {
     "data": {
      "image/png": "[encoded data removed]",
      "text/plain": [
       "<Figure size 432x288 with 1 Axes>"
      ]
     },
     "metadata": {},
     "output_type": "display_data"
    }
   ],
   "source": [
    "dist.plot(y='cumulative_fraction')"
   ]
  },
  {
   "cell_type": "markdown",
   "metadata": {},
   "source": [
    "##  Index the transcript signatures"
   ]
  },
  {
   "cell_type": "code",
   "execution_count": null,
   "metadata": {},
   "outputs": [],
   "source": [
    "! abund"
   ]
  },
  {
   "cell_type": "code",
   "execution_count": 70,
   "metadata": {},
   "outputs": [
    {
     "name": "stdout",
     "output_type": "stream",
     "text": [
      "Process is terminated.\n"
     ]
    }
   ],
   "source": [
    "%%bash\n",
    "\n",
    "sourmash index --dna --ksize=21 \\\n",
    "    gencode.vM17.transcripts.scale1000.k21.dna.sbt gencode.vM17.transcripts.scale1000.fromfa.sig"
   ]
  },
  {
   "cell_type": "code",
   "execution_count": null,
   "metadata": {},
   "outputs": [],
   "source": [
    "%%bash\n",
    "\n",
    "sourmash index --protein --scale1000 --ksize=21 \\\n",
    "    gencode.vM17.transcripts.scale1000.k21.dna.sbt gencode.vM17.transcripts.scale1000.fromfa.sig"
   ]
  },
  {
   "cell_type": "code",
   "execution_count": 68,
   "metadata": {},
   "outputs": [
    {
     "data": {
      "text/plain": [
       "range(0, 3)"
      ]
     },
     "execution_count": 68,
     "metadata": {},
     "output_type": "execute_result"
    }
   ],
   "source": [
    "range(3)"
   ]
  },
  {
   "cell_type": "markdown",
   "metadata": {},
   "source": [
    "##  Search for the cell's reads in the transcriptomes"
   ]
  },
  {
   "cell_type": "code",
   "execution_count": 24,
   "metadata": {},
   "outputs": [
    {
     "name": "stdout",
     "output_type": "stream",
     "text": [
      "usage: sourmash [-h] [--traverse-directory] [-o OUTPUT]\n",
      "                [--save-matches SAVE_MATCHES] [--threshold-bp THRESHOLD_BP]\n",
      "                [--output-unassigned OUTPUT_UNASSIGNED] [--scaled SCALED] [-q]\n",
      "                [--ignore-abundance] [-d] [-k KSIZE] [--protein]\n",
      "                [--no-protein] [--dna] [--no-dna]\n",
      "                query databases [databases ...]\n",
      "\n",
      "positional arguments:\n",
      "  query                 query signature\n",
      "  databases             signatures/SBTs to search\n",
      "\n",
      "optional arguments:\n",
      "  -h, --help            show this help message and exit\n",
      "  --traverse-directory  search all signatures underneath directories.\n",
      "  -o OUTPUT, --output OUTPUT\n",
      "                        output CSV containing matches to this file\n",
      "  --save-matches SAVE_MATCHES\n",
      "                        save the matched signatures from the database to this\n",
      "                        file.\n",
      "  --threshold-bp THRESHOLD_BP\n",
      "                        threshold (in bp) for reporting results\n",
      "  --output-unassigned OUTPUT_UNASSIGNED\n",
      "                        output unassigned portions of the query as a signature\n",
      "                        to this file\n",
      "  --scaled SCALED       downsample query to this scaled factor\n",
      "  -q, --quiet           suppress non-error output\n",
      "  --ignore-abundance    do NOT use k-mer abundances if present\n",
      "  -d, --debug\n",
      "  -k KSIZE, --ksize KSIZE\n",
      "                        k-mer size (default: 31)\n",
      "  --protein             choose a protein signature (default: False)\n",
      "  --no-protein          do not choose a protein signature\n",
      "  --dna                 choose a DNA signature (default: True)\n",
      "  --no-dna              do not choose a DNA signature\n",
      "usage: sourmash [-h] [--traverse-directory] [-o OUTPUT]\n",
      "                [--save-matches SAVE_MATCHES] [--threshold-bp THRESHOLD_BP]\n",
      "                [--output-unassigned OUTPUT_UNASSIGNED] [--scaled SCALED] [-q]\n",
      "                [--ignore-abundance] [-d] [-k KSIZE] [--protein]\n",
      "                [--no-protein] [--dna] [--no-dna]\n",
      "                query databases [databases ...]\n",
      "\n",
      "positional arguments:\n",
      "  query                 query signature\n",
      "  databases             signatures/SBTs to search\n",
      "\n",
      "optional arguments:\n",
      "  -h, --help            show this help message and exit\n",
      "  --traverse-directory  search all signatures underneath directories.\n",
      "  -o OUTPUT, --output OUTPUT\n",
      "                        output CSV containing matches to this file\n",
      "  --save-matches SAVE_MATCHES\n",
      "                        save the matched signatures from the database to this\n",
      "                        file.\n",
      "  --threshold-bp THRESHOLD_BP\n",
      "                        threshold (in bp) for reporting results\n",
      "  --output-unassigned OUTPUT_UNASSIGNED\n",
      "                        output unassigned portions of the query as a signature\n",
      "                        to this file\n",
      "  --scaled SCALED       downsample query to this scaled factor\n",
      "  -q, --quiet           suppress non-error output\n",
      "  --ignore-abundance    do NOT use k-mer abundances if present\n",
      "  -d, --debug\n",
      "  -k KSIZE, --ksize KSIZE\n",
      "                        k-mer size (default: 31)\n",
      "  --protein             choose a protein signature (default: False)\n",
      "  --no-protein          do not choose a protein signature\n",
      "  --dna                 choose a DNA signature (default: True)\n",
      "  --no-dna              do not choose a DNA signature\n",
      "usage: sourmash [-h] [--traverse-directory] [-o OUTPUT]\n",
      "                [--save-matches SAVE_MATCHES] [--threshold-bp THRESHOLD_BP]\n",
      "                [--output-unassigned OUTPUT_UNASSIGNED] [--scaled SCALED] [-q]\n",
      "                [--ignore-abundance] [-d] [-k KSIZE] [--protein]\n",
      "                [--no-protein] [--dna] [--no-dna]\n",
      "                query databases [databases ...]\n",
      "\n",
      "positional arguments:\n",
      "  query                 query signature\n",
      "  databases             signatures/SBTs to search\n",
      "\n",
      "optional arguments:\n",
      "  -h, --help            show this help message and exit\n",
      "  --traverse-directory  search all signatures underneath directories.\n",
      "  -o OUTPUT, --output OUTPUT\n",
      "                        output CSV containing matches to this file\n",
      "  --save-matches SAVE_MATCHES\n",
      "                        save the matched signatures from the database to this\n",
      "                        file.\n",
      "  --threshold-bp THRESHOLD_BP\n",
      "                        threshold (in bp) for reporting results\n",
      "  --output-unassigned OUTPUT_UNASSIGNED\n",
      "                        output unassigned portions of the query as a signature\n",
      "                        to this file\n",
      "  --scaled SCALED       downsample query to this scaled factor\n",
      "  -q, --quiet           suppress non-error output\n",
      "  --ignore-abundance    do NOT use k-mer abundances if present\n",
      "  -d, --debug\n",
      "  -k KSIZE, --ksize KSIZE\n",
      "                        k-mer size (default: 31)\n",
      "  --protein             choose a protein signature (default: False)\n",
      "  --no-protein          do not choose a protein signature\n",
      "  --dna                 choose a DNA signature (default: True)\n",
      "  --no-dna              do not choose a DNA signature\n"
     ]
    }
   ],
   "source": [
    "! sourmash gather --help"
   ]
  },
  {
   "cell_type": "code",
   "execution_count": 27,
   "metadata": {},
   "outputs": [
    {
     "name": "stdout",
     "output_type": "stream",
     "text": [
      "Process is interrupted.\n",
      "Process is interrupted.\n",
      "Process is interrupted.\n"
     ]
    }
   ],
   "source": [
    "%%bash\n",
    "\n",
    "sourmash gather --output A1-D041914-3_8_M-1-1.gencode.vM17.csv --threshold-bp 500 --dna --ksize 21 A1-D041914-3_8_M-1-1.sig gencode.vM17.transcripts.scale1000.k21.dna.sbt"
   ]
  },
  {
   "cell_type": "code",
   "execution_count": 25,
   "metadata": {},
   "outputs": [
    {
     "name": "stdout",
     "output_type": "stream",
     "text": [
      "\n",
      "0 matches:\n",
      "similarity   match\n",
      "----------   -----\n",
      "\n",
      "0 matches:\n",
      "similarity   match\n",
      "----------   -----\n",
      "\n",
      "0 matches:\n",
      "similarity   match\n",
      "----------   -----\n"
     ]
    },
    {
     "name": "stderr",
     "output_type": "stream",
     "text": [
      "\u001b[Kloaded query: A1-D041914-3_8_M-1-1|tissue:Bl... (k=21, DNA)\n",
      "\u001b[Kloaded 1 databases.                                                            \n",
      "\u001b[Kloaded query: A1-D041914-3_8_M-1-1|tissue:Bl... (k=21, DNA)\n",
      "\u001b[Kloaded 1 databases.                                                            \n",
      "\u001b[Kloaded query: A1-D041914-3_8_M-1-1|tissue:Bl... (k=21, DNA)\n",
      "\u001b[Kloaded 1 databases.                                                            \n"
     ]
    }
   ],
   "source": [
    "%%bash\n",
    "\n",
    "sourmash search --threshold-bp 500 --dna --ksize 21 A1-D041914-3_8_M-1-1.sig gencode.vM17.transcripts.scale1000.k21.dna.sbt"
   ]
  },
  {
   "cell_type": "code",
   "execution_count": 51,
   "metadata": {},
   "outputs": [
    {
     "name": "stdout",
     "output_type": "stream",
     "text": [
      "\n",
      "0 matches:\n",
      "similarity   match\n",
      "----------   -----\n"
     ]
    },
    {
     "name": "stderr",
     "output_type": "stream",
     "text": [
      "\r",
      "\u001b[Kloaded query: A1-D041914-3_8_M-1-1|tissue:Bl... (k=21, DNA)\n",
      "\r",
      "\u001b[Kloaded SBT gencode.vM17.transcripts.scale1000.k21.dna.sbt\r",
      "\r",
      "\u001b[K                                                                               \r",
      "\r",
      "\u001b[Kloaded 1 databases.\n"
     ]
    }
   ],
   "source": [
    "%%bash\n",
    "\n",
    "sourmash search --dna --ksize 21 --containment A1-D041914-3_8_M-1-1.sig gencode.vM17.transcripts.scale1000.k21.dna.sbt"
   ]
  },
  {
   "cell_type": "code",
   "execution_count": null,
   "metadata": {},
   "outputs": [],
   "source": []
  }
 ],
 "metadata": {
  "kernelspec": {
   "display_name": "Python 3",
   "language": "python",
   "name": "python3"
  },
  "language_info": {
   "codemirror_mode": {
    "name": "ipython",
    "version": 3
   },
   "file_extension": ".py",
   "mimetype": "text/x-python",
   "name": "python",
   "nbconvert_exporter": "python",
   "pygments_lexer": "ipython3",
   "version": "3.6.3"
  }
 },
 "nbformat": 4,
 "nbformat_minor": 2
}
