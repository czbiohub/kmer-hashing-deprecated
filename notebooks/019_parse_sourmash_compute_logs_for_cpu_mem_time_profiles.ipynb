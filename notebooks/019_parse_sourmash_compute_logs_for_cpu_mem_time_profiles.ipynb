{
 "cells": [
  {
   "cell_type": "code",
   "execution_count": 1,
   "metadata": {},
   "outputs": [],
   "source": [
    "import pandas as pd\n",
    "import glob\n",
    "import os"
   ]
  },
  {
   "cell_type": "code",
   "execution_count": 2,
   "metadata": {},
   "outputs": [
    {
     "name": "stdout",
     "output_type": "stream",
     "text": [
      "/home/olga/code/kmer-hashing/sourmash/maca/facs_compute_v7_all\n"
     ]
    }
   ],
   "source": [
    "cd ../sourmash/maca/facs_compute_v7_all/"
   ]
  },
  {
   "cell_type": "code",
   "execution_count": 3,
   "metadata": {},
   "outputs": [],
   "source": [
    "import re"
   ]
  },
  {
   "cell_type": "code",
   "execution_count": 128,
   "metadata": {},
   "outputs": [
    {
     "data": {
      "text/plain": [
       "{'cpu': 'cpu mean=(\\\\d+\\\\.?\\\\d*) max=(\\\\d+\\\\.?\\\\d*)',\n",
       " 'mem': 'mem mean=(\\\\d+\\\\.?\\\\d*[MBK]iB) max=(\\\\d+\\\\.?\\\\d*[MBK]iB)',\n",
       " 'time': 'time=(\\\\d+)m(\\\\d+)s'}"
      ]
     },
     "execution_count": 128,
     "metadata": {},
     "output_type": "execute_result"
    }
   ],
   "source": [
    "MEAN_MAX_PATTERN = r'mean=(\\d+\\.?\\d*) max=(\\d+\\.?\\d*)'\n",
    "\n",
    "profile_stats = ['mean', 'max']\n",
    "\n",
    "features = ['cpu', 'mem' ]#'disk', 'tmp']\n",
    "feature_units = ['', '[MBK]iB', '[MBK]', '[MBK]']\n",
    "\n",
    "feature_patterns = {}\n",
    "for feature, unit in zip(features, feature_units):\n",
    "    suffix = ' '.join(f'{stat}=(\\d+\\.?\\d*{unit})' for stat in profile_stats)\n",
    "    pattern = f'{feature} {suffix}'\n",
    "    feature_patterns[feature] = pattern\n",
    "\n",
    "time_pattern = 'time=(\\d+)m(\\d+)s'\n",
    "feature_patterns['time'] = time_pattern\n",
    "# prefix_patterns = {prefix: prefix + ' ' + MEAN_MAX_PATTERN \n",
    "#                    for feature, unit in zip(features, feature_units)}\n",
    "# prefix_patterns['mem'] = r'mem mean=(\\d+\\.\\d+)[MBK]iB max=(\\d+\\.\\d+)[MBK]iB'\n",
    "feature_patterns"
   ]
  },
  {
   "cell_type": "code",
   "execution_count": 129,
   "metadata": {},
   "outputs": [],
   "source": [
    "time_pattern = 'time=(\\d+)m(\\d+)s'"
   ]
  },
  {
   "cell_type": "code",
   "execution_count": 130,
   "metadata": {},
   "outputs": [
    {
     "data": {
      "text/plain": [
       "[('17.6', '18.1')]"
      ]
     },
     "execution_count": 130,
     "metadata": {},
     "output_type": "execute_result"
    }
   ],
   "source": [
    "re.findall(prefix_patterns['mem'],  'mem mean=17.6MiB max=18.1MiB')"
   ]
  },
  {
   "cell_type": "code",
   "execution_count": 131,
   "metadata": {},
   "outputs": [
    {
     "data": {
      "text/plain": [
       "[('0', '0')]"
      ]
     },
     "execution_count": 131,
     "metadata": {},
     "output_type": "execute_result"
    }
   ],
   "source": [
    "re.findall(prefix_patterns['disk'], 'disk mean=0B max=0B')"
   ]
  },
  {
   "cell_type": "code",
   "execution_count": 132,
   "metadata": {},
   "outputs": [
    {
     "data": {
      "text/plain": [
       "[('1.0', '1.0')]"
      ]
     },
     "execution_count": 132,
     "metadata": {},
     "output_type": "execute_result"
    }
   ],
   "source": [
    "re.findall(prefix_patterns['cpu'],  'cpu mean=1.0 max=1.0')"
   ]
  },
  {
   "cell_type": "code",
   "execution_count": 133,
   "metadata": {},
   "outputs": [
    {
     "data": {
      "text/plain": [
       "[('4', '4')]"
      ]
     },
     "execution_count": 133,
     "metadata": {},
     "output_type": "execute_result"
    }
   ],
   "source": [
    "re.findall('time=(\\d+)m(\\d+)s', '2018/08/16 03:14:01 total n=5 time=4m4s')"
   ]
  },
  {
   "cell_type": "code",
   "execution_count": 134,
   "metadata": {},
   "outputs": [
    {
     "data": {
      "text/plain": [
       "{'cpu': ('mean', 'max'), 'mem': ('mean', 'max'), 'time': ('min', 'sec')}"
      ]
     },
     "execution_count": 134,
     "metadata": {},
     "output_type": "execute_result"
    }
   ],
   "source": [
    "feature_stats = {k: ('mean', 'max') for k in features}\n",
    "feature_stats['time'] = ('min', 'sec')\n",
    "feature_stats"
   ]
  },
  {
   "cell_type": "code",
   "execution_count": 135,
   "metadata": {},
   "outputs": [],
   "source": [
    "import bitmath\n",
    "\n",
    "mem_mean = bitmath.parse_string('17.6MiB')"
   ]
  },
  {
   "cell_type": "code",
   "execution_count": 136,
   "metadata": {},
   "outputs": [
    {
     "data": {
      "text/plain": [
       "MiB(17.6)"
      ]
     },
     "execution_count": 136,
     "metadata": {},
     "output_type": "execute_result"
    }
   ],
   "source": [
    "mem_mean"
   ]
  },
  {
   "cell_type": "code",
   "execution_count": 137,
   "metadata": {},
   "outputs": [
    {
     "data": {
      "text/plain": [
       "Gb(0.14763950080000002)"
      ]
     },
     "execution_count": 137,
     "metadata": {},
     "output_type": "execute_result"
    }
   ],
   "source": [
    "mem_mean.to_Gb()"
   ]
  },
  {
   "cell_type": "code",
   "execution_count": 138,
   "metadata": {},
   "outputs": [
    {
     "data": {
      "text/plain": [
       "GB(0.018454937600000002)"
      ]
     },
     "execution_count": 138,
     "metadata": {},
     "output_type": "execute_result"
    }
   ],
   "source": [
    "mem_mean.to_GB()"
   ]
  },
  {
   "cell_type": "code",
   "execution_count": 139,
   "metadata": {},
   "outputs": [
    {
     "data": {
      "text/plain": [
       "GiB(0.0171875)"
      ]
     },
     "execution_count": 139,
     "metadata": {},
     "output_type": "execute_result"
    }
   ],
   "source": [
    "mem_mean.to_GiB()"
   ]
  },
  {
   "cell_type": "code",
   "execution_count": 140,
   "metadata": {},
   "outputs": [
    {
     "data": {
      "text/plain": [
       "MiB(17.6)"
      ]
     },
     "execution_count": 140,
     "metadata": {},
     "output_type": "execute_result"
    }
   ],
   "source": [
    "mem_mean.to_MiB()"
   ]
  },
  {
   "cell_type": "code",
   "execution_count": 141,
   "metadata": {},
   "outputs": [
    {
     "data": {
      "text/plain": [
       "17.6"
      ]
     },
     "execution_count": 141,
     "metadata": {},
     "output_type": "execute_result"
    }
   ],
   "source": [
    "mem_mean.value"
   ]
  },
  {
   "cell_type": "code",
   "execution_count": 142,
   "metadata": {},
   "outputs": [],
   "source": [
    "mem_mean_Gib = mem_mean.to_Gib()\n"
   ]
  },
  {
   "cell_type": "code",
   "execution_count": 146,
   "metadata": {},
   "outputs": [
    {
     "name": "stdout",
     "output_type": "stream",
     "text": [
      "(284324, 4)\n"
     ]
    },
    {
     "data": {
      "text/html": [
       "<div>\n",
       "<style scoped>\n",
       "    .dataframe tbody tr th:only-of-type {\n",
       "        vertical-align: middle;\n",
       "    }\n",
       "\n",
       "    .dataframe tbody tr th {\n",
       "        vertical-align: top;\n",
       "    }\n",
       "\n",
       "    .dataframe thead th {\n",
       "        text-align: right;\n",
       "    }\n",
       "</style>\n",
       "<table border=\"1\" class=\"dataframe\">\n",
       "  <thead>\n",
       "    <tr style=\"text-align: right;\">\n",
       "      <th></th>\n",
       "      <th>feature</th>\n",
       "      <th>sample_id</th>\n",
       "      <th>stat</th>\n",
       "      <th>value</th>\n",
       "    </tr>\n",
       "  </thead>\n",
       "  <tbody>\n",
       "    <tr>\n",
       "      <th>0</th>\n",
       "      <td>cpu</td>\n",
       "      <td>P11-B001717-3_38_F-1-1</td>\n",
       "      <td>mean</td>\n",
       "      <td>0.9</td>\n",
       "    </tr>\n",
       "    <tr>\n",
       "      <th>1</th>\n",
       "      <td>cpu</td>\n",
       "      <td>P11-B001717-3_38_F-1-1</td>\n",
       "      <td>max</td>\n",
       "      <td>1.0</td>\n",
       "    </tr>\n",
       "    <tr>\n",
       "      <th>2</th>\n",
       "      <td>cpu</td>\n",
       "      <td>P19-MAA000556-3_9_M-1-1</td>\n",
       "      <td>mean</td>\n",
       "      <td>0.7</td>\n",
       "    </tr>\n",
       "    <tr>\n",
       "      <th>3</th>\n",
       "      <td>cpu</td>\n",
       "      <td>P19-MAA000556-3_9_M-1-1</td>\n",
       "      <td>max</td>\n",
       "      <td>1.0</td>\n",
       "    </tr>\n",
       "    <tr>\n",
       "      <th>4</th>\n",
       "      <td>cpu</td>\n",
       "      <td>P19-MAA000556-3_9_M-1-1</td>\n",
       "      <td>mean</td>\n",
       "      <td>0.7</td>\n",
       "    </tr>\n",
       "  </tbody>\n",
       "</table>\n",
       "</div>"
      ],
      "text/plain": [
       "  feature                sample_id  stat  value\n",
       "0     cpu   P11-B001717-3_38_F-1-1  mean    0.9\n",
       "1     cpu   P11-B001717-3_38_F-1-1   max    1.0\n",
       "2     cpu  P19-MAA000556-3_9_M-1-1  mean    0.7\n",
       "3     cpu  P19-MAA000556-3_9_M-1-1   max    1.0\n",
       "4     cpu  P19-MAA000556-3_9_M-1-1  mean    0.7"
      ]
     },
     "execution_count": 146,
     "metadata": {},
     "output_type": "execute_result"
    }
   ],
   "source": [
    "\n",
    "\n",
    "data = []\n",
    " \n",
    "def add_data(sample_id, feature, stat, value, d):\n",
    "    value = float(value)\n",
    "    d = dict(sample_id=sample_id, feature=feature, stat=stat, value=value)\n",
    "    data.append(d)\n",
    "    \n",
    "    \n",
    "def parse_values(found):\n",
    "    \"\"\"Convert string values into addable floats\"\"\"\n",
    "    try:\n",
    "        # Simple conversion to floats - no other strings\n",
    "        found = [float(x) for x in found[0]]\n",
    "    except ValueError:\n",
    "        # There's letters in here specifying the unit\n",
    "        found = [bitmath.parse_string(x).to_MiB() for x in found[0]]\n",
    "    return found\n",
    "\n",
    "\n",
    "# def maybe_add_data_from_line()\n",
    "\n",
    "\n",
    "for filename in glob.iglob('log*'):\n",
    "    basename = os.path.basename(filename)\n",
    "    sample_id = basename.split('log.')[-1]\n",
    "    with open(filename) as f:\n",
    "        for line in f:\n",
    "            for feature, pattern in feature_patterns.items():\n",
    "                found = re.findall(pattern, line)\n",
    "                if len(found) > 0:\n",
    "                    \n",
    "                    stats = feature_stats[feature]\n",
    "                    \n",
    "                    found = parse_values(found)\n",
    "                        \n",
    "                    if feature == 'time':\n",
    "                        stat = 'seconds'\n",
    "                        # first field is minutes, second is seconds. save total seconds\n",
    "                        value = found[0]*60 + found[1]\n",
    "                        add_data(sample_id, feature, stat, value, d)\n",
    "                        continue\n",
    "                    \n",
    "                    for stat, value in zip(stats, found):\n",
    "                        add_data(sample_id, feature, stat, value, d)\n",
    "\n",
    "\n",
    "profile = pd.DataFrame(data)\n",
    "# profile['value'] = profile['value'].astype(float)\n",
    "print(profile.shape)\n",
    "profile.head()"
   ]
  },
  {
   "cell_type": "code",
   "execution_count": 147,
   "metadata": {},
   "outputs": [
    {
     "data": {
      "text/html": [
       "<div>\n",
       "<style scoped>\n",
       "    .dataframe tbody tr th:only-of-type {\n",
       "        vertical-align: middle;\n",
       "    }\n",
       "\n",
       "    .dataframe tbody tr th {\n",
       "        vertical-align: top;\n",
       "    }\n",
       "\n",
       "    .dataframe thead tr th {\n",
       "        text-align: left;\n",
       "    }\n",
       "\n",
       "    .dataframe thead tr:last-of-type th {\n",
       "        text-align: right;\n",
       "    }\n",
       "</style>\n",
       "<table border=\"1\" class=\"dataframe\">\n",
       "  <thead>\n",
       "    <tr>\n",
       "      <th></th>\n",
       "      <th></th>\n",
       "      <th colspan=\"8\" halign=\"left\">value</th>\n",
       "    </tr>\n",
       "    <tr>\n",
       "      <th></th>\n",
       "      <th></th>\n",
       "      <th>count</th>\n",
       "      <th>mean</th>\n",
       "      <th>std</th>\n",
       "      <th>min</th>\n",
       "      <th>25%</th>\n",
       "      <th>50%</th>\n",
       "      <th>75%</th>\n",
       "      <th>max</th>\n",
       "    </tr>\n",
       "    <tr>\n",
       "      <th>feature</th>\n",
       "      <th>stat</th>\n",
       "      <th></th>\n",
       "      <th></th>\n",
       "      <th></th>\n",
       "      <th></th>\n",
       "      <th></th>\n",
       "      <th></th>\n",
       "      <th></th>\n",
       "      <th></th>\n",
       "    </tr>\n",
       "  </thead>\n",
       "  <tbody>\n",
       "    <tr>\n",
       "      <th rowspan=\"2\" valign=\"top\">cpu</th>\n",
       "      <th>max</th>\n",
       "      <td>85531.0</td>\n",
       "      <td>1.162398</td>\n",
       "      <td>1.191359</td>\n",
       "      <td>0.0</td>\n",
       "      <td>1.0</td>\n",
       "      <td>1.0</td>\n",
       "      <td>1.0</td>\n",
       "      <td>10.1</td>\n",
       "    </tr>\n",
       "    <tr>\n",
       "      <th>mean</th>\n",
       "      <td>85531.0</td>\n",
       "      <td>1.099200</td>\n",
       "      <td>1.129704</td>\n",
       "      <td>0.0</td>\n",
       "      <td>0.9</td>\n",
       "      <td>1.0</td>\n",
       "      <td>1.0</td>\n",
       "      <td>7.9</td>\n",
       "    </tr>\n",
       "    <tr>\n",
       "      <th rowspan=\"2\" valign=\"top\">mem</th>\n",
       "      <th>max</th>\n",
       "      <td>39225.0</td>\n",
       "      <td>23.950886</td>\n",
       "      <td>62.629606</td>\n",
       "      <td>1.5</td>\n",
       "      <td>17.8</td>\n",
       "      <td>18.2</td>\n",
       "      <td>18.5</td>\n",
       "      <td>1021.4</td>\n",
       "    </tr>\n",
       "    <tr>\n",
       "      <th>mean</th>\n",
       "      <td>39225.0</td>\n",
       "      <td>21.543131</td>\n",
       "      <td>50.540739</td>\n",
       "      <td>1.5</td>\n",
       "      <td>17.4</td>\n",
       "      <td>17.6</td>\n",
       "      <td>17.9</td>\n",
       "      <td>1021.4</td>\n",
       "    </tr>\n",
       "    <tr>\n",
       "      <th>time</th>\n",
       "      <th>seconds</th>\n",
       "      <td>34812.0</td>\n",
       "      <td>312.809376</td>\n",
       "      <td>165.413489</td>\n",
       "      <td>60.0</td>\n",
       "      <td>204.0</td>\n",
       "      <td>288.0</td>\n",
       "      <td>384.0</td>\n",
       "      <td>1875.0</td>\n",
       "    </tr>\n",
       "  </tbody>\n",
       "</table>\n",
       "</div>"
      ],
      "text/plain": [
       "                   value                                                     \\\n",
       "                   count        mean         std   min    25%    50%    75%   \n",
       "feature stat                                                                  \n",
       "cpu     max      85531.0    1.162398    1.191359   0.0    1.0    1.0    1.0   \n",
       "        mean     85531.0    1.099200    1.129704   0.0    0.9    1.0    1.0   \n",
       "mem     max      39225.0   23.950886   62.629606   1.5   17.8   18.2   18.5   \n",
       "        mean     39225.0   21.543131   50.540739   1.5   17.4   17.6   17.9   \n",
       "time    seconds  34812.0  312.809376  165.413489  60.0  204.0  288.0  384.0   \n",
       "\n",
       "                         \n",
       "                    max  \n",
       "feature stat             \n",
       "cpu     max        10.1  \n",
       "        mean        7.9  \n",
       "mem     max      1021.4  \n",
       "        mean     1021.4  \n",
       "time    seconds  1875.0  "
      ]
     },
     "execution_count": 147,
     "metadata": {},
     "output_type": "execute_result"
    }
   ],
   "source": [
    "profile.groupby(['feature', 'stat']).describe()"
   ]
  },
  {
   "cell_type": "code",
   "execution_count": 148,
   "metadata": {},
   "outputs": [
    {
     "data": {
      "text/html": [
       "<div>\n",
       "<style scoped>\n",
       "    .dataframe tbody tr th:only-of-type {\n",
       "        vertical-align: middle;\n",
       "    }\n",
       "\n",
       "    .dataframe tbody tr th {\n",
       "        vertical-align: top;\n",
       "    }\n",
       "\n",
       "    .dataframe thead tr th {\n",
       "        text-align: left;\n",
       "    }\n",
       "\n",
       "    .dataframe thead tr:last-of-type th {\n",
       "        text-align: right;\n",
       "    }\n",
       "</style>\n",
       "<table border=\"1\" class=\"dataframe\">\n",
       "  <thead>\n",
       "    <tr>\n",
       "      <th></th>\n",
       "      <th></th>\n",
       "      <th colspan=\"8\" halign=\"left\">value</th>\n",
       "    </tr>\n",
       "    <tr>\n",
       "      <th></th>\n",
       "      <th></th>\n",
       "      <th>count</th>\n",
       "      <th>mean</th>\n",
       "      <th>std</th>\n",
       "      <th>min</th>\n",
       "      <th>25%</th>\n",
       "      <th>50%</th>\n",
       "      <th>75%</th>\n",
       "      <th>max</th>\n",
       "    </tr>\n",
       "    <tr>\n",
       "      <th>feature</th>\n",
       "      <th>stat</th>\n",
       "      <th></th>\n",
       "      <th></th>\n",
       "      <th></th>\n",
       "      <th></th>\n",
       "      <th></th>\n",
       "      <th></th>\n",
       "      <th></th>\n",
       "      <th></th>\n",
       "    </tr>\n",
       "  </thead>\n",
       "  <tbody>\n",
       "    <tr>\n",
       "      <th rowspan=\"2\" valign=\"top\">cpu</th>\n",
       "      <th>max</th>\n",
       "      <td>85428.0</td>\n",
       "      <td>1.162018</td>\n",
       "      <td>1.190453</td>\n",
       "      <td>0.0</td>\n",
       "      <td>1.0</td>\n",
       "      <td>1.0</td>\n",
       "      <td>1.0</td>\n",
       "      <td>10.1</td>\n",
       "    </tr>\n",
       "    <tr>\n",
       "      <th>mean</th>\n",
       "      <td>85428.0</td>\n",
       "      <td>1.098815</td>\n",
       "      <td>1.128797</td>\n",
       "      <td>0.0</td>\n",
       "      <td>0.9</td>\n",
       "      <td>1.0</td>\n",
       "      <td>1.0</td>\n",
       "      <td>7.9</td>\n",
       "    </tr>\n",
       "    <tr>\n",
       "      <th rowspan=\"2\" valign=\"top\">mem</th>\n",
       "      <th>max</th>\n",
       "      <td>39167.0</td>\n",
       "      <td>23.959147</td>\n",
       "      <td>62.675589</td>\n",
       "      <td>1.5</td>\n",
       "      <td>17.8</td>\n",
       "      <td>18.2</td>\n",
       "      <td>18.5</td>\n",
       "      <td>1021.4</td>\n",
       "    </tr>\n",
       "    <tr>\n",
       "      <th>mean</th>\n",
       "      <td>39167.0</td>\n",
       "      <td>21.548903</td>\n",
       "      <td>50.577920</td>\n",
       "      <td>1.5</td>\n",
       "      <td>17.4</td>\n",
       "      <td>17.6</td>\n",
       "      <td>17.9</td>\n",
       "      <td>1021.4</td>\n",
       "    </tr>\n",
       "  </tbody>\n",
       "</table>\n",
       "</div>"
      ],
      "text/plain": [
       "                value                                                     \n",
       "                count       mean        std  min   25%   50%   75%     max\n",
       "feature stat                                                              \n",
       "cpu     max   85428.0   1.162018   1.190453  0.0   1.0   1.0   1.0    10.1\n",
       "        mean  85428.0   1.098815   1.128797  0.0   0.9   1.0   1.0     7.9\n",
       "mem     max   39167.0  23.959147  62.675589  1.5  17.8  18.2  18.5  1021.4\n",
       "        mean  39167.0  21.548903  50.577920  1.5  17.4  17.6  17.9  1021.4"
      ]
     },
     "execution_count": 148,
     "metadata": {},
     "output_type": "execute_result"
    }
   ],
   "source": [
    "profile_mem_cpu.groupby(['feature', 'stat']).describe()"
   ]
  },
  {
   "cell_type": "code",
   "execution_count": 158,
   "metadata": {},
   "outputs": [
    {
     "data": {
      "text/plain": [
       "<seaborn.axisgrid.FacetGrid at 0x7f9422466080>"
      ]
     },
     "execution_count": 158,
     "metadata": {},
     "output_type": "execute_result"
    },
    {
     "data": {
      "image/png": "[encoded data removed]",
      "text/plain": [
       "<Figure size 724.875x216 with 3 Axes>"
      ]
     },
     "metadata": {},
     "output_type": "display_data"
    }
   ],
   "source": [
    "import seaborn as sns\n",
    "\n",
    "g = sns.FacetGrid(profile, col='feature', hue='stat', \n",
    "                  sharex=False, sharey=False, col_wrap=3)\n",
    "g.map(sns.distplot, 'value')\n",
    "for ax in g.axes.flat:\n",
    "    if 'time' in ax.get_title():\n",
    "        xlabel = 'Seconds'\n",
    "    elif 'mem' in ax.get_title():\n",
    "        xlabel = 'MiB'\n",
    "    else:\n",
    "        xlabel = 'Number of Processors'\n",
    "    ax.set(xlabel=xlabel)\n",
    "g.add_legend()"
   ]
  },
  {
   "cell_type": "markdown",
   "metadata": {},
   "source": [
    "Disk and tmp are zero for everything - remove"
   ]
  },
  {
   "cell_type": "code",
   "execution_count": 150,
   "metadata": {},
   "outputs": [
    {
     "data": {
      "text/html": [
       "<div>\n",
       "<style scoped>\n",
       "    .dataframe tbody tr th:only-of-type {\n",
       "        vertical-align: middle;\n",
       "    }\n",
       "\n",
       "    .dataframe tbody tr th {\n",
       "        vertical-align: top;\n",
       "    }\n",
       "\n",
       "    .dataframe thead th {\n",
       "        text-align: right;\n",
       "    }\n",
       "</style>\n",
       "<table border=\"1\" class=\"dataframe\">\n",
       "  <thead>\n",
       "    <tr style=\"text-align: right;\">\n",
       "      <th></th>\n",
       "      <th>feature</th>\n",
       "      <th>sample_id</th>\n",
       "      <th>stat</th>\n",
       "      <th>value</th>\n",
       "    </tr>\n",
       "  </thead>\n",
       "  <tbody>\n",
       "    <tr>\n",
       "      <th>0</th>\n",
       "      <td>cpu</td>\n",
       "      <td>P11-B001717-3_38_F-1-1</td>\n",
       "      <td>mean</td>\n",
       "      <td>0.9</td>\n",
       "    </tr>\n",
       "    <tr>\n",
       "      <th>1</th>\n",
       "      <td>cpu</td>\n",
       "      <td>P11-B001717-3_38_F-1-1</td>\n",
       "      <td>max</td>\n",
       "      <td>1.0</td>\n",
       "    </tr>\n",
       "    <tr>\n",
       "      <th>2</th>\n",
       "      <td>cpu</td>\n",
       "      <td>P19-MAA000556-3_9_M-1-1</td>\n",
       "      <td>mean</td>\n",
       "      <td>0.7</td>\n",
       "    </tr>\n",
       "    <tr>\n",
       "      <th>3</th>\n",
       "      <td>cpu</td>\n",
       "      <td>P19-MAA000556-3_9_M-1-1</td>\n",
       "      <td>max</td>\n",
       "      <td>1.0</td>\n",
       "    </tr>\n",
       "    <tr>\n",
       "      <th>4</th>\n",
       "      <td>cpu</td>\n",
       "      <td>P19-MAA000556-3_9_M-1-1</td>\n",
       "      <td>mean</td>\n",
       "      <td>0.7</td>\n",
       "    </tr>\n",
       "  </tbody>\n",
       "</table>\n",
       "</div>"
      ],
      "text/plain": [
       "  feature                sample_id  stat  value\n",
       "0     cpu   P11-B001717-3_38_F-1-1  mean    0.9\n",
       "1     cpu   P11-B001717-3_38_F-1-1   max    1.0\n",
       "2     cpu  P19-MAA000556-3_9_M-1-1  mean    0.7\n",
       "3     cpu  P19-MAA000556-3_9_M-1-1   max    1.0\n",
       "4     cpu  P19-MAA000556-3_9_M-1-1  mean    0.7"
      ]
     },
     "execution_count": 150,
     "metadata": {},
     "output_type": "execute_result"
    }
   ],
   "source": [
    "disk_tmp = \"disk\", \"tmp\"\n",
    "\n",
    "profile_not_disk_tmp = profile.query(\"feature not in @disk_tmp\")\n",
    "profile_not_disk_tmp.head()"
   ]
  },
  {
   "cell_type": "code",
   "execution_count": 151,
   "metadata": {},
   "outputs": [
    {
     "data": {
      "text/html": [
       "<div>\n",
       "<style scoped>\n",
       "    .dataframe tbody tr th:only-of-type {\n",
       "        vertical-align: middle;\n",
       "    }\n",
       "\n",
       "    .dataframe tbody tr th {\n",
       "        vertical-align: top;\n",
       "    }\n",
       "\n",
       "    .dataframe thead th {\n",
       "        text-align: right;\n",
       "    }\n",
       "</style>\n",
       "<table border=\"1\" class=\"dataframe\">\n",
       "  <thead>\n",
       "    <tr style=\"text-align: right;\">\n",
       "      <th></th>\n",
       "      <th>feature</th>\n",
       "      <th>sample_id</th>\n",
       "      <th>stat</th>\n",
       "      <th>value</th>\n",
       "    </tr>\n",
       "  </thead>\n",
       "  <tbody>\n",
       "    <tr>\n",
       "      <th>8</th>\n",
       "      <td>time</td>\n",
       "      <td>P19-MAA000556-3_9_M-1-1</td>\n",
       "      <td>seconds</td>\n",
       "      <td>193.0</td>\n",
       "    </tr>\n",
       "    <tr>\n",
       "      <th>21</th>\n",
       "      <td>time</td>\n",
       "      <td>P6-D042186-3_8_M-1-1</td>\n",
       "      <td>seconds</td>\n",
       "      <td>233.0</td>\n",
       "    </tr>\n",
       "    <tr>\n",
       "      <th>40</th>\n",
       "      <td>time</td>\n",
       "      <td>I17-MAA000906-3_11_M-1-1</td>\n",
       "      <td>seconds</td>\n",
       "      <td>240.0</td>\n",
       "    </tr>\n",
       "    <tr>\n",
       "      <th>53</th>\n",
       "      <td>time</td>\n",
       "      <td>N8-MAA000526-3_9_M-1-1</td>\n",
       "      <td>seconds</td>\n",
       "      <td>393.0</td>\n",
       "    </tr>\n",
       "    <tr>\n",
       "      <th>60</th>\n",
       "      <td>time</td>\n",
       "      <td>I1-B002433-3_38_F-1-1</td>\n",
       "      <td>seconds</td>\n",
       "      <td>343.0</td>\n",
       "    </tr>\n",
       "  </tbody>\n",
       "</table>\n",
       "</div>"
      ],
      "text/plain": [
       "   feature                 sample_id     stat  value\n",
       "8     time   P19-MAA000556-3_9_M-1-1  seconds  193.0\n",
       "21    time      P6-D042186-3_8_M-1-1  seconds  233.0\n",
       "40    time  I17-MAA000906-3_11_M-1-1  seconds  240.0\n",
       "53    time    N8-MAA000526-3_9_M-1-1  seconds  393.0\n",
       "60    time     I1-B002433-3_38_F-1-1  seconds  343.0"
      ]
     },
     "execution_count": 151,
     "metadata": {},
     "output_type": "execute_result"
    }
   ],
   "source": [
    "profile_time = profile_not_disk_tmp.query(\"feature == 'time'\")\n",
    "profile_time.head()"
   ]
  },
  {
   "cell_type": "code",
   "execution_count": 152,
   "metadata": {},
   "outputs": [
    {
     "data": {
      "text/plain": [
       "<seaborn.axisgrid.FacetGrid at 0x7f9425a8e9e8>"
      ]
     },
     "execution_count": 152,
     "metadata": {},
     "output_type": "execute_result"
    },
    {
     "data": {
      "image/png": "[encoded data removed]",
      "text/plain": [
       "<Figure size 724.875x216 with 3 Axes>"
      ]
     },
     "metadata": {},
     "output_type": "display_data"
    }
   ],
   "source": [
    "import seaborn as sns\n",
    "\n",
    "g = sns.FacetGrid(profile_not_disk_tmp, col='feature', hue='stat', \n",
    "                  sharex=False, sharey=False, col_wrap=3)\n",
    "g.map(sns.distplot, 'value')\n",
    "g.add_legend()"
   ]
  },
  {
   "cell_type": "code",
   "execution_count": 153,
   "metadata": {},
   "outputs": [
    {
     "data": {
      "text/html": [
       "<div>\n",
       "<style scoped>\n",
       "    .dataframe tbody tr th:only-of-type {\n",
       "        vertical-align: middle;\n",
       "    }\n",
       "\n",
       "    .dataframe tbody tr th {\n",
       "        vertical-align: top;\n",
       "    }\n",
       "\n",
       "    .dataframe thead th {\n",
       "        text-align: right;\n",
       "    }\n",
       "</style>\n",
       "<table border=\"1\" class=\"dataframe\">\n",
       "  <thead>\n",
       "    <tr style=\"text-align: right;\">\n",
       "      <th></th>\n",
       "      <th>feature</th>\n",
       "      <th>sample_id</th>\n",
       "      <th>stat</th>\n",
       "      <th>value</th>\n",
       "    </tr>\n",
       "  </thead>\n",
       "  <tbody>\n",
       "    <tr>\n",
       "      <th>0</th>\n",
       "      <td>cpu</td>\n",
       "      <td>P11-B001717-3_38_F-1-1</td>\n",
       "      <td>mean</td>\n",
       "      <td>0.9</td>\n",
       "    </tr>\n",
       "    <tr>\n",
       "      <th>1</th>\n",
       "      <td>cpu</td>\n",
       "      <td>P11-B001717-3_38_F-1-1</td>\n",
       "      <td>max</td>\n",
       "      <td>1.0</td>\n",
       "    </tr>\n",
       "    <tr>\n",
       "      <th>2</th>\n",
       "      <td>cpu</td>\n",
       "      <td>P19-MAA000556-3_9_M-1-1</td>\n",
       "      <td>mean</td>\n",
       "      <td>0.7</td>\n",
       "    </tr>\n",
       "    <tr>\n",
       "      <th>3</th>\n",
       "      <td>cpu</td>\n",
       "      <td>P19-MAA000556-3_9_M-1-1</td>\n",
       "      <td>max</td>\n",
       "      <td>1.0</td>\n",
       "    </tr>\n",
       "    <tr>\n",
       "      <th>4</th>\n",
       "      <td>cpu</td>\n",
       "      <td>P19-MAA000556-3_9_M-1-1</td>\n",
       "      <td>mean</td>\n",
       "      <td>0.7</td>\n",
       "    </tr>\n",
       "  </tbody>\n",
       "</table>\n",
       "</div>"
      ],
      "text/plain": [
       "  feature                sample_id  stat  value\n",
       "0     cpu   P11-B001717-3_38_F-1-1  mean    0.9\n",
       "1     cpu   P11-B001717-3_38_F-1-1   max    1.0\n",
       "2     cpu  P19-MAA000556-3_9_M-1-1  mean    0.7\n",
       "3     cpu  P19-MAA000556-3_9_M-1-1   max    1.0\n",
       "4     cpu  P19-MAA000556-3_9_M-1-1  mean    0.7"
      ]
     },
     "execution_count": 153,
     "metadata": {},
     "output_type": "execute_result"
    }
   ],
   "source": [
    "mem_cpu = \"mem\", \"cpu\"\n",
    "\n",
    "profile_mem_cpu = profile.query(\"feature in @mem_cpu\")\n",
    "profile_mem_cpu.head()"
   ]
  },
  {
   "cell_type": "code",
   "execution_count": 154,
   "metadata": {},
   "outputs": [
    {
     "name": "stderr",
     "output_type": "stream",
     "text": [
      "/home/olga/miniconda3/lib/python3.6/site-packages/seaborn/axisgrid.py:715: UserWarning: Using the violinplot function without specifying `order` is likely to produce an incorrect plot.\n",
      "  warnings.warn(warning)\n"
     ]
    },
    {
     "data": {
      "text/plain": [
       "<seaborn.axisgrid.FacetGrid at 0x7f941f1f19e8>"
      ]
     },
     "execution_count": 154,
     "metadata": {},
     "output_type": "execute_result"
    },
    {
     "data": {
      "image/png": "[encoded data removed]",
      "text/plain": [
       "<Figure size 440x216 with 2 Axes>"
      ]
     },
     "metadata": {},
     "output_type": "display_data"
    }
   ],
   "source": [
    "g = sns.FacetGrid(profile_mem_cpu, col='feature', sharex=False, sharey=False)\n",
    "g.map(sns.violinplot, 'stat', 'value', split=True)\n",
    "g.add_legend()"
   ]
  },
  {
   "cell_type": "code",
   "execution_count": null,
   "metadata": {},
   "outputs": [],
   "source": []
  },
  {
   "cell_type": "code",
   "execution_count": 155,
   "metadata": {},
   "outputs": [
    {
     "name": "stderr",
     "output_type": "stream",
     "text": [
      "/home/olga/miniconda3/lib/python3.6/site-packages/ipykernel_launcher.py:1: SettingWithCopyWarning: \n",
      "A value is trying to be set on a copy of a slice from a DataFrame.\n",
      "Try using .loc[row_indexer,col_indexer] = value instead\n",
      "\n",
      "See the caveats in the documentation: http://pandas.pydata.org/pandas-docs/stable/indexing.html#indexing-view-versus-copy\n",
      "  \"\"\"Entry point for launching an IPython kernel.\n"
     ]
    },
    {
     "data": {
      "text/html": [
       "<div>\n",
       "<style scoped>\n",
       "    .dataframe tbody tr th:only-of-type {\n",
       "        vertical-align: middle;\n",
       "    }\n",
       "\n",
       "    .dataframe tbody tr th {\n",
       "        vertical-align: top;\n",
       "    }\n",
       "\n",
       "    .dataframe thead th {\n",
       "        text-align: right;\n",
       "    }\n",
       "</style>\n",
       "<table border=\"1\" class=\"dataframe\">\n",
       "  <thead>\n",
       "    <tr style=\"text-align: right;\">\n",
       "      <th></th>\n",
       "      <th>feature</th>\n",
       "      <th>sample_id</th>\n",
       "      <th>stat</th>\n",
       "      <th>value</th>\n",
       "      <th>minutes</th>\n",
       "    </tr>\n",
       "  </thead>\n",
       "  <tbody>\n",
       "    <tr>\n",
       "      <th>8</th>\n",
       "      <td>time</td>\n",
       "      <td>P19-MAA000556-3_9_M-1-1</td>\n",
       "      <td>seconds</td>\n",
       "      <td>193.0</td>\n",
       "      <td>3.216667</td>\n",
       "    </tr>\n",
       "    <tr>\n",
       "      <th>21</th>\n",
       "      <td>time</td>\n",
       "      <td>P6-D042186-3_8_M-1-1</td>\n",
       "      <td>seconds</td>\n",
       "      <td>233.0</td>\n",
       "      <td>3.883333</td>\n",
       "    </tr>\n",
       "    <tr>\n",
       "      <th>40</th>\n",
       "      <td>time</td>\n",
       "      <td>I17-MAA000906-3_11_M-1-1</td>\n",
       "      <td>seconds</td>\n",
       "      <td>240.0</td>\n",
       "      <td>4.000000</td>\n",
       "    </tr>\n",
       "    <tr>\n",
       "      <th>53</th>\n",
       "      <td>time</td>\n",
       "      <td>N8-MAA000526-3_9_M-1-1</td>\n",
       "      <td>seconds</td>\n",
       "      <td>393.0</td>\n",
       "      <td>6.550000</td>\n",
       "    </tr>\n",
       "    <tr>\n",
       "      <th>60</th>\n",
       "      <td>time</td>\n",
       "      <td>I1-B002433-3_38_F-1-1</td>\n",
       "      <td>seconds</td>\n",
       "      <td>343.0</td>\n",
       "      <td>5.716667</td>\n",
       "    </tr>\n",
       "  </tbody>\n",
       "</table>\n",
       "</div>"
      ],
      "text/plain": [
       "   feature                 sample_id     stat  value   minutes\n",
       "8     time   P19-MAA000556-3_9_M-1-1  seconds  193.0  3.216667\n",
       "21    time      P6-D042186-3_8_M-1-1  seconds  233.0  3.883333\n",
       "40    time  I17-MAA000906-3_11_M-1-1  seconds  240.0  4.000000\n",
       "53    time    N8-MAA000526-3_9_M-1-1  seconds  393.0  6.550000\n",
       "60    time     I1-B002433-3_38_F-1-1  seconds  343.0  5.716667"
      ]
     },
     "execution_count": 155,
     "metadata": {},
     "output_type": "execute_result"
    }
   ],
   "source": [
    "profile_time['minutes'] = profile_time['value']/60\n",
    "profile_time.head()"
   ]
  },
  {
   "cell_type": "code",
   "execution_count": 156,
   "metadata": {},
   "outputs": [
    {
     "data": {
      "text/plain": [
       "<matplotlib.axes._subplots.AxesSubplot at 0x7f9312ea0a58>"
      ]
     },
     "execution_count": 156,
     "metadata": {},
     "output_type": "execute_result"
    },
    {
     "data": {
      "image/png": "[encoded data removed]",
      "text/plain": [
       "<Figure size 432x288 with 1 Axes>"
      ]
     },
     "metadata": {},
     "output_type": "display_data"
    }
   ],
   "source": [
    "sns.distplot(profile_time['minutes'], kde=False)"
   ]
  },
  {
   "cell_type": "code",
   "execution_count": null,
   "metadata": {},
   "outputs": [],
   "source": []
  },
  {
   "cell_type": "code",
   "execution_count": null,
   "metadata": {},
   "outputs": [],
   "source": []
  }
 ],
 "metadata": {
  "kernelspec": {
   "display_name": "Python 3",
   "language": "python",
   "name": "python3"
  },
  "language_info": {
   "codemirror_mode": {
    "name": "ipython",
    "version": 3
   },
   "file_extension": ".py",
   "mimetype": "text/x-python",
   "name": "python",
   "nbconvert_exporter": "python",
   "pygments_lexer": "ipython3",
   "version": "3.6.4"
  }
 },
 "nbformat": 4,
 "nbformat_minor": 2
}
