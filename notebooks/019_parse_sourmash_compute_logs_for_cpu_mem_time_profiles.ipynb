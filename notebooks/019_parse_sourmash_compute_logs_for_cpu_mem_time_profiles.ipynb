{
 "cells": [
  {
   "cell_type": "code",
   "execution_count": 1,
   "metadata": {},
   "outputs": [],
   "source": [
    "import pandas as pd\n",
    "import glob\n",
    "import os\n",
    "import matplotlib.pyplot as plt\n",
    "import seaborn as sns"
   ]
  },
  {
   "cell_type": "code",
   "execution_count": 2,
   "metadata": {},
   "outputs": [],
   "source": [
    "import re"
   ]
  },
  {
   "cell_type": "code",
   "execution_count": 3,
   "metadata": {},
   "outputs": [
    {
     "data": {
      "text/plain": [
       "{'cpu': 'cpu mean=(\\\\d+\\\\.?\\\\d*) max=(\\\\d+\\\\.?\\\\d*)',\n",
       " 'mem': 'mem mean=(\\\\d+\\\\.?\\\\d*[MBK]iB) max=(\\\\d+\\\\.?\\\\d*[MBK]iB)',\n",
       " 'time': 'time=(\\\\d+)m(\\\\d+)s'}"
      ]
     },
     "execution_count": 3,
     "metadata": {},
     "output_type": "execute_result"
    }
   ],
   "source": [
    "MEAN_MAX_PATTERN = r'mean=(\\d+\\.?\\d*) max=(\\d+\\.?\\d*)'\n",
    "\n",
    "profile_stats = ['mean', 'max']\n",
    "\n",
    "features = ['cpu', 'mem' ]#'disk', 'tmp']\n",
    "feature_units = ['', '[MBK]iB', '[MBK]', '[MBK]']\n",
    "\n",
    "feature_patterns = {}\n",
    "for feature, unit in zip(features, feature_units):\n",
    "    suffix = ' '.join(f'{stat}=(\\d+\\.?\\d*{unit})' for stat in profile_stats)\n",
    "    pattern = f'{feature} {suffix}'\n",
    "    feature_patterns[feature] = pattern\n",
    "\n",
    "time_pattern = 'time=(\\d+)m(\\d+)s'\n",
    "feature_patterns['time'] = time_pattern\n",
    "# prefix_patterns = {prefix: prefix + ' ' + MEAN_MAX_PATTERN \n",
    "#                    for feature, unit in zip(features, feature_units)}\n",
    "# prefix_patterns['mem'] = r'mem mean=(\\d+\\.\\d+)[MBK]iB max=(\\d+\\.\\d+)[MBK]iB'\n",
    "feature_patterns"
   ]
  },
  {
   "cell_type": "code",
   "execution_count": 4,
   "metadata": {},
   "outputs": [],
   "source": [
    "time_pattern = 'time=(\\d+)m(\\d+)s'"
   ]
  },
  {
   "cell_type": "code",
   "execution_count": 5,
   "metadata": {},
   "outputs": [],
   "source": [
    "feature_stats = {'cpu': ('mean', \"max\"), \"mem\": (\"mean\", \"max\"), 'time': (\"time\")}"
   ]
  },
  {
   "cell_type": "code",
   "execution_count": 6,
   "metadata": {},
   "outputs": [
    {
     "name": "stdout",
     "output_type": "stream",
     "text": [
      "(730438, 4)\n"
     ]
    },
    {
     "data": {
      "text/html": [
       "<div>\n",
       "<style scoped>\n",
       "    .dataframe tbody tr th:only-of-type {\n",
       "        vertical-align: middle;\n",
       "    }\n",
       "\n",
       "    .dataframe tbody tr th {\n",
       "        vertical-align: top;\n",
       "    }\n",
       "\n",
       "    .dataframe thead th {\n",
       "        text-align: right;\n",
       "    }\n",
       "</style>\n",
       "<table border=\"1\" class=\"dataframe\">\n",
       "  <thead>\n",
       "    <tr style=\"text-align: right;\">\n",
       "      <th></th>\n",
       "      <th>feature</th>\n",
       "      <th>sample_id</th>\n",
       "      <th>stat</th>\n",
       "      <th>value</th>\n",
       "    </tr>\n",
       "  </thead>\n",
       "  <tbody>\n",
       "    <tr>\n",
       "      <th>0</th>\n",
       "      <td>cpu</td>\n",
       "      <td>P11-B001717-3_38_F-1-1</td>\n",
       "      <td>mean</td>\n",
       "      <td>0.9</td>\n",
       "    </tr>\n",
       "    <tr>\n",
       "      <th>1</th>\n",
       "      <td>cpu</td>\n",
       "      <td>P11-B001717-3_38_F-1-1</td>\n",
       "      <td>max</td>\n",
       "      <td>1.0</td>\n",
       "    </tr>\n",
       "    <tr>\n",
       "      <th>2</th>\n",
       "      <td>cpu</td>\n",
       "      <td>P11-B001717-3_38_F-1-1</td>\n",
       "      <td>mean</td>\n",
       "      <td>0.9</td>\n",
       "    </tr>\n",
       "    <tr>\n",
       "      <th>3</th>\n",
       "      <td>cpu</td>\n",
       "      <td>P11-B001717-3_38_F-1-1</td>\n",
       "      <td>max</td>\n",
       "      <td>1.0</td>\n",
       "    </tr>\n",
       "    <tr>\n",
       "      <th>4</th>\n",
       "      <td>cpu</td>\n",
       "      <td>P11-B001717-3_38_F-1-1</td>\n",
       "      <td>mean</td>\n",
       "      <td>1.0</td>\n",
       "    </tr>\n",
       "  </tbody>\n",
       "</table>\n",
       "</div>"
      ],
      "text/plain": [
       "  feature               sample_id  stat  value\n",
       "0     cpu  P11-B001717-3_38_F-1-1  mean    0.9\n",
       "1     cpu  P11-B001717-3_38_F-1-1   max    1.0\n",
       "2     cpu  P11-B001717-3_38_F-1-1  mean    0.9\n",
       "3     cpu  P11-B001717-3_38_F-1-1   max    1.0\n",
       "4     cpu  P11-B001717-3_38_F-1-1  mean    1.0"
      ]
     },
     "execution_count": 6,
     "metadata": {},
     "output_type": "execute_result"
    }
   ],
   "source": [
    "import bitmath\n",
    "\n",
    "\n",
    "data = []\n",
    " \n",
    "def add_data(sample_id, feature, stat, value):\n",
    "    value = float(value)\n",
    "    d = dict(sample_id=sample_id, feature=feature, stat=stat, value=value)\n",
    "    data.append(d)\n",
    "    \n",
    "    \n",
    "def parse_values(found):\n",
    "    \"\"\"Convert string values into addable floats\"\"\"\n",
    "    try:\n",
    "        # Simple conversion to floats - no other strings\n",
    "        found = [float(x) for x in found[0]]\n",
    "    except ValueError:\n",
    "        # There's letters in here specifying the unit\n",
    "        found = [bitmath.parse_string(x).to_MiB() for x in found[0]]\n",
    "    return found\n",
    "\n",
    "\n",
    "# def maybe_add_data_from_line()\n",
    "\n",
    "\n",
    "for filename in glob.iglob('../sourmash/maca/facs_compute_v7_all/log*'):\n",
    "    basename = os.path.basename(filename)\n",
    "    sample_id = basename.split('log.')[-1]\n",
    "    with open(filename) as f:\n",
    "        for line in f:\n",
    "            for feature, pattern in feature_patterns.items():\n",
    "                found = re.findall(pattern, line)\n",
    "                if len(found) > 0:\n",
    "                    \n",
    "                    stats = feature_stats[feature]\n",
    "                    \n",
    "                    found = parse_values(found)\n",
    "                        \n",
    "                    if feature == 'time':\n",
    "                        stat = 'seconds'\n",
    "                        # first field is minutes, second is seconds. save total seconds\n",
    "                        value = found[0]*60 + found[1]\n",
    "                        add_data(sample_id, feature, stat, value)\n",
    "                        continue\n",
    "                    \n",
    "                    for stat, value in zip(stats, found):\n",
    "                        add_data(sample_id, feature, stat, value)\n",
    "\n",
    "\n",
    "profile = pd.DataFrame(data)\n",
    "# profile['value'] = profile['value'].astype(float)\n",
    "print(profile.shape)\n",
    "profile.head()"
   ]
  },
  {
   "cell_type": "code",
   "execution_count": 18,
   "metadata": {},
   "outputs": [],
   "source": [
    "import s3_utils"
   ]
  },
  {
   "cell_type": "code",
   "execution_count": 19,
   "metadata": {},
   "outputs": [],
   "source": [
    "s3_utils.write_s3(profile, 's3://olgabot-maca/facs/sourmash_compute_cpu_mem_time_profile.csv', 'csv')"
   ]
  },
  {
   "cell_type": "code",
   "execution_count": 7,
   "metadata": {},
   "outputs": [
    {
     "data": {
      "text/html": [
       "<div>\n",
       "<style scoped>\n",
       "    .dataframe tbody tr th:only-of-type {\n",
       "        vertical-align: middle;\n",
       "    }\n",
       "\n",
       "    .dataframe tbody tr th {\n",
       "        vertical-align: top;\n",
       "    }\n",
       "\n",
       "    .dataframe thead tr th {\n",
       "        text-align: left;\n",
       "    }\n",
       "\n",
       "    .dataframe thead tr:last-of-type th {\n",
       "        text-align: right;\n",
       "    }\n",
       "</style>\n",
       "<table border=\"1\" class=\"dataframe\">\n",
       "  <thead>\n",
       "    <tr>\n",
       "      <th></th>\n",
       "      <th></th>\n",
       "      <th colspan=\"8\" halign=\"left\">value</th>\n",
       "    </tr>\n",
       "    <tr>\n",
       "      <th></th>\n",
       "      <th></th>\n",
       "      <th>count</th>\n",
       "      <th>mean</th>\n",
       "      <th>std</th>\n",
       "      <th>min</th>\n",
       "      <th>25%</th>\n",
       "      <th>50%</th>\n",
       "      <th>75%</th>\n",
       "      <th>max</th>\n",
       "    </tr>\n",
       "    <tr>\n",
       "      <th>feature</th>\n",
       "      <th>stat</th>\n",
       "      <th></th>\n",
       "      <th></th>\n",
       "      <th></th>\n",
       "      <th></th>\n",
       "      <th></th>\n",
       "      <th></th>\n",
       "      <th></th>\n",
       "      <th></th>\n",
       "    </tr>\n",
       "  </thead>\n",
       "  <tbody>\n",
       "    <tr>\n",
       "      <th rowspan=\"2\" valign=\"top\">cpu</th>\n",
       "      <th>max</th>\n",
       "      <td>220980.0</td>\n",
       "      <td>0.900326</td>\n",
       "      <td>0.974888</td>\n",
       "      <td>0.0</td>\n",
       "      <td>1.0</td>\n",
       "      <td>1.0</td>\n",
       "      <td>1.0</td>\n",
       "      <td>10.1</td>\n",
       "    </tr>\n",
       "    <tr>\n",
       "      <th>mean</th>\n",
       "      <td>220980.0</td>\n",
       "      <td>0.859620</td>\n",
       "      <td>0.927424</td>\n",
       "      <td>0.0</td>\n",
       "      <td>0.7</td>\n",
       "      <td>1.0</td>\n",
       "      <td>1.0</td>\n",
       "      <td>7.9</td>\n",
       "    </tr>\n",
       "    <tr>\n",
       "      <th rowspan=\"2\" valign=\"top\">mem</th>\n",
       "      <th>max</th>\n",
       "      <td>100063.0</td>\n",
       "      <td>22.887398</td>\n",
       "      <td>50.931460</td>\n",
       "      <td>1.5</td>\n",
       "      <td>18.0</td>\n",
       "      <td>18.5</td>\n",
       "      <td>19.5</td>\n",
       "      <td>1021.4</td>\n",
       "    </tr>\n",
       "    <tr>\n",
       "      <th>mean</th>\n",
       "      <td>100063.0</td>\n",
       "      <td>20.528520</td>\n",
       "      <td>42.435238</td>\n",
       "      <td>1.5</td>\n",
       "      <td>17.5</td>\n",
       "      <td>17.8</td>\n",
       "      <td>18.2</td>\n",
       "      <td>1021.4</td>\n",
       "    </tr>\n",
       "    <tr>\n",
       "      <th>time</th>\n",
       "      <th>seconds</th>\n",
       "      <td>88352.0</td>\n",
       "      <td>329.783468</td>\n",
       "      <td>204.873663</td>\n",
       "      <td>60.0</td>\n",
       "      <td>187.0</td>\n",
       "      <td>283.0</td>\n",
       "      <td>434.0</td>\n",
       "      <td>3278.0</td>\n",
       "    </tr>\n",
       "  </tbody>\n",
       "</table>\n",
       "</div>"
      ],
      "text/plain": [
       "                    value                                                     \\\n",
       "                    count        mean         std   min    25%    50%    75%   \n",
       "feature stat                                                                   \n",
       "cpu     max      220980.0    0.900326    0.974888   0.0    1.0    1.0    1.0   \n",
       "        mean     220980.0    0.859620    0.927424   0.0    0.7    1.0    1.0   \n",
       "mem     max      100063.0   22.887398   50.931460   1.5   18.0   18.5   19.5   \n",
       "        mean     100063.0   20.528520   42.435238   1.5   17.5   17.8   18.2   \n",
       "time    seconds   88352.0  329.783468  204.873663  60.0  187.0  283.0  434.0   \n",
       "\n",
       "                         \n",
       "                    max  \n",
       "feature stat             \n",
       "cpu     max        10.1  \n",
       "        mean        7.9  \n",
       "mem     max      1021.4  \n",
       "        mean     1021.4  \n",
       "time    seconds  3278.0  "
      ]
     },
     "execution_count": 7,
     "metadata": {},
     "output_type": "execute_result"
    }
   ],
   "source": [
    "profile.groupby(['feature', 'stat']).describe()"
   ]
  },
  {
   "cell_type": "code",
   "execution_count": 8,
   "metadata": {},
   "outputs": [
    {
     "data": {
      "text/plain": [
       "<seaborn.axisgrid.FacetGrid at 0x7f7390661c18>"
      ]
     },
     "execution_count": 8,
     "metadata": {},
     "output_type": "execute_result"
    },
    {
     "data": {
      "image/png": "[encoded data removed]",
      "text/plain": [
       "<Figure size 724.875x216 with 3 Axes>"
      ]
     },
     "metadata": {},
     "output_type": "display_data"
    }
   ],
   "source": [
    "import seaborn as sns\n",
    "\n",
    "g = sns.FacetGrid(profile, col='feature', hue='stat', \n",
    "                  sharex=False, sharey=False, col_wrap=3)\n",
    "g.map(sns.distplot, 'value')\n",
    "for ax in g.axes.flat:\n",
    "    if 'time' in ax.get_title():\n",
    "        xlabel = 'Seconds'\n",
    "    elif 'mem' in ax.get_title():\n",
    "        xlabel = 'MiB'\n",
    "    else:\n",
    "        xlabel = 'Number of Processors'\n",
    "    ax.set(xlabel=xlabel)\n",
    "g.add_legend()"
   ]
  },
  {
   "cell_type": "markdown",
   "metadata": {},
   "source": [
    "Disk and tmp are zero for everything - remove"
   ]
  },
  {
   "cell_type": "code",
   "execution_count": 9,
   "metadata": {},
   "outputs": [
    {
     "data": {
      "text/html": [
       "<div>\n",
       "<style scoped>\n",
       "    .dataframe tbody tr th:only-of-type {\n",
       "        vertical-align: middle;\n",
       "    }\n",
       "\n",
       "    .dataframe tbody tr th {\n",
       "        vertical-align: top;\n",
       "    }\n",
       "\n",
       "    .dataframe thead th {\n",
       "        text-align: right;\n",
       "    }\n",
       "</style>\n",
       "<table border=\"1\" class=\"dataframe\">\n",
       "  <thead>\n",
       "    <tr style=\"text-align: right;\">\n",
       "      <th></th>\n",
       "      <th>feature</th>\n",
       "      <th>sample_id</th>\n",
       "      <th>stat</th>\n",
       "      <th>value</th>\n",
       "    </tr>\n",
       "  </thead>\n",
       "  <tbody>\n",
       "    <tr>\n",
       "      <th>0</th>\n",
       "      <td>cpu</td>\n",
       "      <td>P11-B001717-3_38_F-1-1</td>\n",
       "      <td>mean</td>\n",
       "      <td>0.9</td>\n",
       "    </tr>\n",
       "    <tr>\n",
       "      <th>1</th>\n",
       "      <td>cpu</td>\n",
       "      <td>P11-B001717-3_38_F-1-1</td>\n",
       "      <td>max</td>\n",
       "      <td>1.0</td>\n",
       "    </tr>\n",
       "    <tr>\n",
       "      <th>2</th>\n",
       "      <td>cpu</td>\n",
       "      <td>P11-B001717-3_38_F-1-1</td>\n",
       "      <td>mean</td>\n",
       "      <td>0.9</td>\n",
       "    </tr>\n",
       "    <tr>\n",
       "      <th>3</th>\n",
       "      <td>cpu</td>\n",
       "      <td>P11-B001717-3_38_F-1-1</td>\n",
       "      <td>max</td>\n",
       "      <td>1.0</td>\n",
       "    </tr>\n",
       "    <tr>\n",
       "      <th>4</th>\n",
       "      <td>cpu</td>\n",
       "      <td>P11-B001717-3_38_F-1-1</td>\n",
       "      <td>mean</td>\n",
       "      <td>1.0</td>\n",
       "    </tr>\n",
       "  </tbody>\n",
       "</table>\n",
       "</div>"
      ],
      "text/plain": [
       "  feature               sample_id  stat  value\n",
       "0     cpu  P11-B001717-3_38_F-1-1  mean    0.9\n",
       "1     cpu  P11-B001717-3_38_F-1-1   max    1.0\n",
       "2     cpu  P11-B001717-3_38_F-1-1  mean    0.9\n",
       "3     cpu  P11-B001717-3_38_F-1-1   max    1.0\n",
       "4     cpu  P11-B001717-3_38_F-1-1  mean    1.0"
      ]
     },
     "execution_count": 9,
     "metadata": {},
     "output_type": "execute_result"
    }
   ],
   "source": [
    "disk_tmp = \"disk\", \"tmp\"\n",
    "\n",
    "profile_not_disk_tmp = profile.query(\"feature not in @disk_tmp\")\n",
    "profile_not_disk_tmp.head()"
   ]
  },
  {
   "cell_type": "code",
   "execution_count": 10,
   "metadata": {},
   "outputs": [
    {
     "data": {
      "text/html": [
       "<div>\n",
       "<style scoped>\n",
       "    .dataframe tbody tr th:only-of-type {\n",
       "        vertical-align: middle;\n",
       "    }\n",
       "\n",
       "    .dataframe tbody tr th {\n",
       "        vertical-align: top;\n",
       "    }\n",
       "\n",
       "    .dataframe thead th {\n",
       "        text-align: right;\n",
       "    }\n",
       "</style>\n",
       "<table border=\"1\" class=\"dataframe\">\n",
       "  <thead>\n",
       "    <tr style=\"text-align: right;\">\n",
       "      <th></th>\n",
       "      <th>feature</th>\n",
       "      <th>sample_id</th>\n",
       "      <th>stat</th>\n",
       "      <th>value</th>\n",
       "    </tr>\n",
       "  </thead>\n",
       "  <tbody>\n",
       "    <tr>\n",
       "      <th>8</th>\n",
       "      <td>time</td>\n",
       "      <td>P11-B001717-3_38_F-1-1</td>\n",
       "      <td>seconds</td>\n",
       "      <td>499.0</td>\n",
       "    </tr>\n",
       "    <tr>\n",
       "      <th>15</th>\n",
       "      <td>time</td>\n",
       "      <td>P19-MAA000556-3_9_M-1-1</td>\n",
       "      <td>seconds</td>\n",
       "      <td>193.0</td>\n",
       "    </tr>\n",
       "    <tr>\n",
       "      <th>28</th>\n",
       "      <td>time</td>\n",
       "      <td>C22-MAA000400-3_8_M-1-1</td>\n",
       "      <td>seconds</td>\n",
       "      <td>324.0</td>\n",
       "    </tr>\n",
       "    <tr>\n",
       "      <th>35</th>\n",
       "      <td>time</td>\n",
       "      <td>P6-D042186-3_8_M-1-1</td>\n",
       "      <td>seconds</td>\n",
       "      <td>233.0</td>\n",
       "    </tr>\n",
       "    <tr>\n",
       "      <th>58</th>\n",
       "      <td>time</td>\n",
       "      <td>G5-MAA000600-3_8_M-1-1</td>\n",
       "      <td>seconds</td>\n",
       "      <td>481.0</td>\n",
       "    </tr>\n",
       "  </tbody>\n",
       "</table>\n",
       "</div>"
      ],
      "text/plain": [
       "   feature                sample_id     stat  value\n",
       "8     time   P11-B001717-3_38_F-1-1  seconds  499.0\n",
       "15    time  P19-MAA000556-3_9_M-1-1  seconds  193.0\n",
       "28    time  C22-MAA000400-3_8_M-1-1  seconds  324.0\n",
       "35    time     P6-D042186-3_8_M-1-1  seconds  233.0\n",
       "58    time   G5-MAA000600-3_8_M-1-1  seconds  481.0"
      ]
     },
     "execution_count": 10,
     "metadata": {},
     "output_type": "execute_result"
    }
   ],
   "source": [
    "profile_time = profile_not_disk_tmp.query(\"feature == 'time'\")\n",
    "profile_time.head()"
   ]
  },
  {
   "cell_type": "code",
   "execution_count": 11,
   "metadata": {},
   "outputs": [
    {
     "data": {
      "text/plain": [
       "<seaborn.axisgrid.FacetGrid at 0x7f738260fb70>"
      ]
     },
     "execution_count": 11,
     "metadata": {},
     "output_type": "execute_result"
    },
    {
     "data": {
      "image/png": "[encoded data removed]",
      "text/plain": [
       "<Figure size 724.875x216 with 3 Axes>"
      ]
     },
     "metadata": {},
     "output_type": "display_data"
    }
   ],
   "source": [
    "import seaborn as sns\n",
    "\n",
    "g = sns.FacetGrid(profile_not_disk_tmp, col='feature', hue='stat', \n",
    "                  sharex=False, sharey=False, col_wrap=3)\n",
    "g.map(sns.distplot, 'value')\n",
    "g.add_legend()"
   ]
  },
  {
   "cell_type": "code",
   "execution_count": 12,
   "metadata": {},
   "outputs": [
    {
     "data": {
      "text/html": [
       "<div>\n",
       "<style scoped>\n",
       "    .dataframe tbody tr th:only-of-type {\n",
       "        vertical-align: middle;\n",
       "    }\n",
       "\n",
       "    .dataframe tbody tr th {\n",
       "        vertical-align: top;\n",
       "    }\n",
       "\n",
       "    .dataframe thead th {\n",
       "        text-align: right;\n",
       "    }\n",
       "</style>\n",
       "<table border=\"1\" class=\"dataframe\">\n",
       "  <thead>\n",
       "    <tr style=\"text-align: right;\">\n",
       "      <th></th>\n",
       "      <th>feature</th>\n",
       "      <th>sample_id</th>\n",
       "      <th>stat</th>\n",
       "      <th>value</th>\n",
       "    </tr>\n",
       "  </thead>\n",
       "  <tbody>\n",
       "    <tr>\n",
       "      <th>0</th>\n",
       "      <td>cpu</td>\n",
       "      <td>P11-B001717-3_38_F-1-1</td>\n",
       "      <td>mean</td>\n",
       "      <td>0.9</td>\n",
       "    </tr>\n",
       "    <tr>\n",
       "      <th>1</th>\n",
       "      <td>cpu</td>\n",
       "      <td>P11-B001717-3_38_F-1-1</td>\n",
       "      <td>max</td>\n",
       "      <td>1.0</td>\n",
       "    </tr>\n",
       "    <tr>\n",
       "      <th>2</th>\n",
       "      <td>cpu</td>\n",
       "      <td>P11-B001717-3_38_F-1-1</td>\n",
       "      <td>mean</td>\n",
       "      <td>0.9</td>\n",
       "    </tr>\n",
       "    <tr>\n",
       "      <th>3</th>\n",
       "      <td>cpu</td>\n",
       "      <td>P11-B001717-3_38_F-1-1</td>\n",
       "      <td>max</td>\n",
       "      <td>1.0</td>\n",
       "    </tr>\n",
       "    <tr>\n",
       "      <th>4</th>\n",
       "      <td>cpu</td>\n",
       "      <td>P11-B001717-3_38_F-1-1</td>\n",
       "      <td>mean</td>\n",
       "      <td>1.0</td>\n",
       "    </tr>\n",
       "  </tbody>\n",
       "</table>\n",
       "</div>"
      ],
      "text/plain": [
       "  feature               sample_id  stat  value\n",
       "0     cpu  P11-B001717-3_38_F-1-1  mean    0.9\n",
       "1     cpu  P11-B001717-3_38_F-1-1   max    1.0\n",
       "2     cpu  P11-B001717-3_38_F-1-1  mean    0.9\n",
       "3     cpu  P11-B001717-3_38_F-1-1   max    1.0\n",
       "4     cpu  P11-B001717-3_38_F-1-1  mean    1.0"
      ]
     },
     "execution_count": 12,
     "metadata": {},
     "output_type": "execute_result"
    }
   ],
   "source": [
    "mem_cpu = \"mem\", \"cpu\"\n",
    "\n",
    "profile_mem_cpu = profile.query(\"feature in @mem_cpu\")\n",
    "profile_mem_cpu.head()"
   ]
  },
  {
   "cell_type": "code",
   "execution_count": 13,
   "metadata": {},
   "outputs": [
    {
     "data": {
      "text/html": [
       "<div>\n",
       "<style scoped>\n",
       "    .dataframe tbody tr th:only-of-type {\n",
       "        vertical-align: middle;\n",
       "    }\n",
       "\n",
       "    .dataframe tbody tr th {\n",
       "        vertical-align: top;\n",
       "    }\n",
       "\n",
       "    .dataframe thead tr th {\n",
       "        text-align: left;\n",
       "    }\n",
       "\n",
       "    .dataframe thead tr:last-of-type th {\n",
       "        text-align: right;\n",
       "    }\n",
       "</style>\n",
       "<table border=\"1\" class=\"dataframe\">\n",
       "  <thead>\n",
       "    <tr>\n",
       "      <th></th>\n",
       "      <th></th>\n",
       "      <th colspan=\"8\" halign=\"left\">value</th>\n",
       "    </tr>\n",
       "    <tr>\n",
       "      <th></th>\n",
       "      <th></th>\n",
       "      <th>count</th>\n",
       "      <th>mean</th>\n",
       "      <th>std</th>\n",
       "      <th>min</th>\n",
       "      <th>25%</th>\n",
       "      <th>50%</th>\n",
       "      <th>75%</th>\n",
       "      <th>max</th>\n",
       "    </tr>\n",
       "    <tr>\n",
       "      <th>feature</th>\n",
       "      <th>stat</th>\n",
       "      <th></th>\n",
       "      <th></th>\n",
       "      <th></th>\n",
       "      <th></th>\n",
       "      <th></th>\n",
       "      <th></th>\n",
       "      <th></th>\n",
       "      <th></th>\n",
       "    </tr>\n",
       "  </thead>\n",
       "  <tbody>\n",
       "    <tr>\n",
       "      <th rowspan=\"2\" valign=\"top\">cpu</th>\n",
       "      <th>max</th>\n",
       "      <td>220980.0</td>\n",
       "      <td>0.900326</td>\n",
       "      <td>0.974888</td>\n",
       "      <td>0.0</td>\n",
       "      <td>1.0</td>\n",
       "      <td>1.0</td>\n",
       "      <td>1.0</td>\n",
       "      <td>10.1</td>\n",
       "    </tr>\n",
       "    <tr>\n",
       "      <th>mean</th>\n",
       "      <td>220980.0</td>\n",
       "      <td>0.859620</td>\n",
       "      <td>0.927424</td>\n",
       "      <td>0.0</td>\n",
       "      <td>0.7</td>\n",
       "      <td>1.0</td>\n",
       "      <td>1.0</td>\n",
       "      <td>7.9</td>\n",
       "    </tr>\n",
       "    <tr>\n",
       "      <th rowspan=\"2\" valign=\"top\">mem</th>\n",
       "      <th>max</th>\n",
       "      <td>100063.0</td>\n",
       "      <td>22.887398</td>\n",
       "      <td>50.931460</td>\n",
       "      <td>1.5</td>\n",
       "      <td>18.0</td>\n",
       "      <td>18.5</td>\n",
       "      <td>19.5</td>\n",
       "      <td>1021.4</td>\n",
       "    </tr>\n",
       "    <tr>\n",
       "      <th>mean</th>\n",
       "      <td>100063.0</td>\n",
       "      <td>20.528520</td>\n",
       "      <td>42.435238</td>\n",
       "      <td>1.5</td>\n",
       "      <td>17.5</td>\n",
       "      <td>17.8</td>\n",
       "      <td>18.2</td>\n",
       "      <td>1021.4</td>\n",
       "    </tr>\n",
       "  </tbody>\n",
       "</table>\n",
       "</div>"
      ],
      "text/plain": [
       "                 value                                                     \n",
       "                 count       mean        std  min   25%   50%   75%     max\n",
       "feature stat                                                               \n",
       "cpu     max   220980.0   0.900326   0.974888  0.0   1.0   1.0   1.0    10.1\n",
       "        mean  220980.0   0.859620   0.927424  0.0   0.7   1.0   1.0     7.9\n",
       "mem     max   100063.0  22.887398  50.931460  1.5  18.0  18.5  19.5  1021.4\n",
       "        mean  100063.0  20.528520  42.435238  1.5  17.5  17.8  18.2  1021.4"
      ]
     },
     "execution_count": 13,
     "metadata": {},
     "output_type": "execute_result"
    }
   ],
   "source": [
    "profile_mem_cpu.groupby(['feature', 'stat']).describe()"
   ]
  },
  {
   "cell_type": "code",
   "execution_count": 14,
   "metadata": {},
   "outputs": [
    {
     "name": "stderr",
     "output_type": "stream",
     "text": [
      "/home/olga/miniconda3/lib/python3.6/site-packages/seaborn/axisgrid.py:715: UserWarning: Using the violinplot function without specifying `order` is likely to produce an incorrect plot.\n",
      "  warnings.warn(warning)\n"
     ]
    },
    {
     "data": {
      "text/plain": [
       "<seaborn.axisgrid.FacetGrid at 0x7f738226ac50>"
      ]
     },
     "execution_count": 14,
     "metadata": {},
     "output_type": "execute_result"
    },
    {
     "data": {
      "image/png": "[encoded data removed]",
      "text/plain": [
       "<Figure size 440x216 with 2 Axes>"
      ]
     },
     "metadata": {},
     "output_type": "display_data"
    }
   ],
   "source": [
    "g = sns.FacetGrid(profile_mem_cpu, col='feature', sharex=False, sharey=False)\n",
    "g.map(sns.violinplot, 'stat', 'value', split=True)\n",
    "g.add_legend()"
   ]
  },
  {
   "cell_type": "code",
   "execution_count": 15,
   "metadata": {},
   "outputs": [],
   "source": [
    "# sns.set(style='white')"
   ]
  },
  {
   "cell_type": "code",
   "execution_count": null,
   "metadata": {},
   "outputs": [
    {
     "name": "stderr",
     "output_type": "stream",
     "text": [
      "/home/olga/miniconda3/lib/python3.6/site-packages/seaborn/axisgrid.py:230: UserWarning: The `size` paramter has been renamed to `height`; please update your code.\n",
      "  warnings.warn(msg, UserWarning)\n"
     ]
    }
   ],
   "source": [
    "g = sns.FacetGrid(profile_mem_cpu, col='feature', row='stat', sharex=False,\n",
    "                  sharey=True, margin_titles=True, size=2)\n",
    "g.map(sns.distplot, 'value', kde=False, hist_kws=dict(alpha=0.8))\n",
    "g.add_legend()\n",
    "\n",
    "for ax in g.axes.flat:\n",
    "    ax.set_yscale('log')\n",
    "    if ax.is_first_col():\n",
    "        xlabel = 'Number of Processors'\n",
    "        xlim = (-0.5, 10.5)\n",
    "    else:\n",
    "        xlabel = 'MiB of RAM'\n",
    "        xlim = (-50, 1050)\n",
    "    ax.set(xlim=xlim, xlabel=xlabel)\n",
    "g.savefig('../figures/minhash_compute_cpu_memory.pdf')"
   ]
  },
  {
   "cell_type": "code",
   "execution_count": null,
   "metadata": {},
   "outputs": [],
   "source": [
    "profile_time['minutes'] = profile_time['value']/60\n",
    "profile_time.head()"
   ]
  },
  {
   "cell_type": "code",
   "execution_count": null,
   "metadata": {},
   "outputs": [],
   "source": [
    "mkdir ../figures/"
   ]
  },
  {
   "cell_type": "code",
   "execution_count": null,
   "metadata": {},
   "outputs": [],
   "source": [
    "fig, ax = plt.subplots(figsize=(4, 3))\n",
    "\n",
    "sns.distplot(profile_time['minutes'], kde=False, hist_kws=dict(alpha=0.8))\n",
    "sns.despine()\n",
    "ax.set(title='MinHash compute time\\nk=21,27,33,51; DNA and protein signatures', ylabel='cells');\n",
    "fig.tight_layout()\n",
    "fig.savefig('../figures/minhash_compute_time.pdf')"
   ]
  },
  {
   "cell_type": "code",
   "execution_count": null,
   "metadata": {},
   "outputs": [],
   "source": []
  },
  {
   "cell_type": "code",
   "execution_count": null,
   "metadata": {},
   "outputs": [],
   "source": []
  }
 ],
 "metadata": {
  "kernelspec": {
   "display_name": "Python 3",
   "language": "python",
   "name": "python3"
  },
  "language_info": {
   "codemirror_mode": {
    "name": "ipython",
    "version": 3
   },
   "file_extension": ".py",
   "mimetype": "text/x-python",
   "name": "python",
   "nbconvert_exporter": "python",
   "pygments_lexer": "ipython3",
   "version": "3.6.4"
  }
 },
 "nbformat": 4,
 "nbformat_minor": 2
}
