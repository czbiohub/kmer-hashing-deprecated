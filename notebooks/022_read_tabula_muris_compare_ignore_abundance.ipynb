{
 "cells": [
  {
   "cell_type": "code",
   "execution_count": 1,
   "metadata": {},
   "outputs": [],
   "source": [
    "import glob\n",
    "import os\n",
    "\n",
    "\n",
    "# Reminder to install s3fs to read files from aws\n",
    "import s3fs\n",
    "\n",
    "# import altair as alt\n",
    "import matplotlib.pyplot as plt\n",
    "import numpy as np\n",
    "import pandas as pd\n",
    "# import xarray as xr\n",
    "\n",
    "import seaborn as sns\n",
    "\n",
    "# import scanpy.api as sc\n",
    "\n",
    "# import holoviews as hv\n",
    "# hv.extension('bokeh')\n",
    "# hv.archive.auto()\n",
    "\n",
    "%matplotlib inline"
   ]
  },
  {
   "cell_type": "code",
   "execution_count": 2,
   "metadata": {},
   "outputs": [],
   "source": [
    "prefix = 's3://olgabot-maca/facs/sourmash_compare_no_track_abundance/'\n",
    "txt = 'aws_s3_ls_tabula_muris_compare_no_track_abundance.txt'"
   ]
  },
  {
   "cell_type": "code",
   "execution_count": 3,
   "metadata": {},
   "outputs": [],
   "source": [
    "! aws s3 ls $prefix > $txt"
   ]
  },
  {
   "cell_type": "code",
   "execution_count": 4,
   "metadata": {},
   "outputs": [
    {
     "name": "stdout",
     "output_type": "stream",
     "text": [
      "(63, 4)\n"
     ]
    },
    {
     "data": {
      "text/html": [
       "<div>\n",
       "<style scoped>\n",
       "    .dataframe tbody tr th:only-of-type {\n",
       "        vertical-align: middle;\n",
       "    }\n",
       "\n",
       "    .dataframe tbody tr th {\n",
       "        vertical-align: top;\n",
       "    }\n",
       "\n",
       "    .dataframe thead th {\n",
       "        text-align: right;\n",
       "    }\n",
       "</style>\n",
       "<table border=\"1\" class=\"dataframe\">\n",
       "  <thead>\n",
       "    <tr style=\"text-align: right;\">\n",
       "      <th></th>\n",
       "      <th>date</th>\n",
       "      <th>time</th>\n",
       "      <th>bytes</th>\n",
       "      <th>basename</th>\n",
       "    </tr>\n",
       "  </thead>\n",
       "  <tbody>\n",
       "    <tr>\n",
       "      <th>0</th>\n",
       "      <td>2018-09-18</td>\n",
       "      <td>01:32:22</td>\n",
       "      <td>19873413</td>\n",
       "      <td>trim=false_scaled=1000_dna_ksize=15.csv</td>\n",
       "    </tr>\n",
       "    <tr>\n",
       "      <th>1</th>\n",
       "      <td>2018-09-17</td>\n",
       "      <td>22:08:11</td>\n",
       "      <td>20376123</td>\n",
       "      <td>trim=false_scaled=1000_dna_ksize=42.csv</td>\n",
       "    </tr>\n",
       "    <tr>\n",
       "      <th>2</th>\n",
       "      <td>2018-09-17</td>\n",
       "      <td>21:12:04</td>\n",
       "      <td>20432677</td>\n",
       "      <td>trim=false_scaled=1000_dna_ksize=57.csv</td>\n",
       "    </tr>\n",
       "    <tr>\n",
       "      <th>3</th>\n",
       "      <td>2018-09-18</td>\n",
       "      <td>02:57:36</td>\n",
       "      <td>19595448</td>\n",
       "      <td>trim=false_scaled=1100_dna_ksize=15.csv</td>\n",
       "    </tr>\n",
       "    <tr>\n",
       "      <th>4</th>\n",
       "      <td>2018-09-18</td>\n",
       "      <td>00:19:51</td>\n",
       "      <td>11427393</td>\n",
       "      <td>trim=false_scaled=1200_dna_ksize=60.csv</td>\n",
       "    </tr>\n",
       "  </tbody>\n",
       "</table>\n",
       "</div>"
      ],
      "text/plain": [
       "         date      time     bytes                                 basename\n",
       "0  2018-09-18  01:32:22  19873413  trim=false_scaled=1000_dna_ksize=15.csv\n",
       "1  2018-09-17  22:08:11  20376123  trim=false_scaled=1000_dna_ksize=42.csv\n",
       "2  2018-09-17  21:12:04  20432677  trim=false_scaled=1000_dna_ksize=57.csv\n",
       "3  2018-09-18  02:57:36  19595448  trim=false_scaled=1100_dna_ksize=15.csv\n",
       "4  2018-09-18  00:19:51  11427393  trim=false_scaled=1200_dna_ksize=60.csv"
      ]
     },
     "execution_count": 4,
     "metadata": {},
     "output_type": "execute_result"
    }
   ],
   "source": [
    "aws_s3_ls = pd.read_table(txt, delim_whitespace=True, header=None, \n",
    "                          names=['date', 'time', 'bytes', 'basename'])\n",
    "print(aws_s3_ls.shape)\n",
    "aws_s3_ls.head()"
   ]
  },
  {
   "cell_type": "code",
   "execution_count": 5,
   "metadata": {},
   "outputs": [],
   "source": [
    "from tqdm import tqdm"
   ]
  },
  {
   "cell_type": "code",
   "execution_count": 6,
   "metadata": {},
   "outputs": [
    {
     "name": "stderr",
     "output_type": "stream",
     "text": [
      "  2%|▏         | 1/63 [00:01<01:46,  1.72s/it]"
     ]
    },
    {
     "name": "stdout",
     "output_type": "stream",
     "text": [
      "\tcell_metadata.shape, (997, 4)\n"
     ]
    },
    {
     "name": "stderr",
     "output_type": "stream",
     "text": [
      "  6%|▋         | 4/63 [00:06<01:35,  1.61s/it]"
     ]
    },
    {
     "name": "stdout",
     "output_type": "stream",
     "text": [
      "\tcell_metadata.shape, (1000, 4)\n"
     ]
    },
    {
     "name": "stderr",
     "output_type": "stream",
     "text": [
      "100%|██████████| 63/63 [01:56<00:00,  1.85s/it]\n"
     ]
    }
   ],
   "source": [
    "\n",
    "def extract_cell_metadata(columns):\n",
    "    cell_metadata = pd.Series(columns).str.split('|', expand=True)\n",
    "#     cell_metadata.index = columns\n",
    "    cell_metadata.columns = ['cell_id', 'tissue', \n",
    "                             'subtissue', 'cell_ontology_class', \n",
    "                             'free_annotation']\n",
    "    cell_metadata = cell_metadata.set_index('cell_id')\n",
    "    cell_metadata.index.name = 'cell_id'\n",
    "    cell_metadata = cell_metadata.applymap(lambda x: x.split(':')[-1])\n",
    "#     print('\\tcell_metadata.shape', cell_metadata.shape)\n",
    "#     cell_metadata = cell_metadata.sort_index()\n",
    "#     cell_metadata.head()\n",
    "    return cell_metadata\n",
    "\n",
    "\n",
    "\n",
    "dfs = {}\n",
    "\n",
    "metadatas = []\n",
    "\n",
    "def to_key_value_pair(attribute):\n",
    "    if len(attribute) > 1:\n",
    "        try:\n",
    "            return attribute[0], int(attribute[1])\n",
    "        except ValueError:\n",
    "            return attribute[0], attribute[1] \n",
    "    else:\n",
    "        return 'comparison_sequence', attribute[0]\n",
    "\n",
    "\n",
    "\n",
    "def extract_experiment_metadata(basename):\n",
    "    key = basename.split('.csv')[0]\n",
    "    split = key.split('_')\n",
    "    attributes = [x.split('=') for x in split]\n",
    "    attributes = dict(to_key_value_pair(x) for x in attributes)\n",
    "    return key, attributes\n",
    "\n",
    "\n",
    "experiment_metadatas = {}\n",
    "\n",
    "cell_metadata = pd.DataFrame()\n",
    "\n",
    "max_cells = 1000\n",
    "tidy_dfs = []\n",
    "\n",
    "for basename in tqdm(aws_s3_ls['basename']):\n",
    "    csv = f'{prefix}{basename}'\n",
    "    df = pd.read_csv(csv)\n",
    "#     aprint(f'{basename}\\tdf.shape: {df.shape}')\n",
    "    \n",
    "    key, attributes = extract_experiment_metadata(basename)\n",
    "    experiment_metadatas[key] = attributes\n",
    "\n",
    "    metadata = extract_cell_metadata(df.columns)\n",
    "    \n",
    "    mask = np.triu(np.ones(df.shape)).astype(np.bool)\n",
    "\n",
    "    df.index = metadata.index.copy()\n",
    "    df.columns = metadata.index.copy()\n",
    "    \n",
    "    df = df.where(mask)\n",
    "    df.index.name = 'cell_id'\n",
    "    df.columns.name = 'other_cell'\n",
    "    tidy = df.stack().reset_index()\n",
    "    tidy['experiment'] = key\n",
    "#     tidy = tidy.rename(columns={'level_0': 'cell_id', 'level_1': 'other_cell'})\n",
    "        \n",
    "    tidy_dfs.append(tidy)\n",
    "\n",
    "    # Add new cells to metadata\n",
    "    if len(df.index.difference(cell_metadata.index)) > 0:\n",
    "        cell_metadata = cell_metadata.append(metadata)\n",
    "        cell_metadata = cell_metadata.loc[~cell_metadata.index.duplicated()]\n",
    "        print(f'\\tcell_metadata.shape, {cell_metadata.shape}')\n",
    "\n"
   ]
  },
  {
   "cell_type": "code",
   "execution_count": 17,
   "metadata": {},
   "outputs": [
    {
     "name": "stdout",
     "output_type": "stream",
     "text": [
      "(28620778, 4)\n"
     ]
    },
    {
     "data": {
      "text/html": [
       "<div>\n",
       "<style scoped>\n",
       "    .dataframe tbody tr th:only-of-type {\n",
       "        vertical-align: middle;\n",
       "    }\n",
       "\n",
       "    .dataframe tbody tr th {\n",
       "        vertical-align: top;\n",
       "    }\n",
       "\n",
       "    .dataframe thead th {\n",
       "        text-align: right;\n",
       "    }\n",
       "</style>\n",
       "<table border=\"1\" class=\"dataframe\">\n",
       "  <thead>\n",
       "    <tr style=\"text-align: right;\">\n",
       "      <th></th>\n",
       "      <th>cell_id</th>\n",
       "      <th>other_cell</th>\n",
       "      <th>similarity</th>\n",
       "      <th>experiment</th>\n",
       "    </tr>\n",
       "  </thead>\n",
       "  <tbody>\n",
       "    <tr>\n",
       "      <th>0</th>\n",
       "      <td>K16-MAA001861-3_39_F-1-1</td>\n",
       "      <td>K16-MAA001861-3_39_F-1-1</td>\n",
       "      <td>1.000000</td>\n",
       "      <td>trim=false_scaled=1000_dna_ksize=15</td>\n",
       "    </tr>\n",
       "    <tr>\n",
       "      <th>1</th>\n",
       "      <td>K16-MAA001861-3_39_F-1-1</td>\n",
       "      <td>G3-D042103-3_11_M-1</td>\n",
       "      <td>0.048418</td>\n",
       "      <td>trim=false_scaled=1000_dna_ksize=15</td>\n",
       "    </tr>\n",
       "    <tr>\n",
       "      <th>2</th>\n",
       "      <td>K16-MAA001861-3_39_F-1-1</td>\n",
       "      <td>B11-MAA000934-3_9_M-1-1</td>\n",
       "      <td>0.046684</td>\n",
       "      <td>trim=false_scaled=1000_dna_ksize=15</td>\n",
       "    </tr>\n",
       "    <tr>\n",
       "      <th>3</th>\n",
       "      <td>K16-MAA001861-3_39_F-1-1</td>\n",
       "      <td>O9-MAA001632-3_56_F-1-1</td>\n",
       "      <td>0.056352</td>\n",
       "      <td>trim=false_scaled=1000_dna_ksize=15</td>\n",
       "    </tr>\n",
       "    <tr>\n",
       "      <th>4</th>\n",
       "      <td>K16-MAA001861-3_39_F-1-1</td>\n",
       "      <td>H12-B002436-3_39_F-1-1</td>\n",
       "      <td>0.068042</td>\n",
       "      <td>trim=false_scaled=1000_dna_ksize=15</td>\n",
       "    </tr>\n",
       "  </tbody>\n",
       "</table>\n",
       "</div>"
      ],
      "text/plain": [
       "                    cell_id                other_cell  similarity  \\\n",
       "0  K16-MAA001861-3_39_F-1-1  K16-MAA001861-3_39_F-1-1    1.000000   \n",
       "1  K16-MAA001861-3_39_F-1-1       G3-D042103-3_11_M-1    0.048418   \n",
       "2  K16-MAA001861-3_39_F-1-1   B11-MAA000934-3_9_M-1-1    0.046684   \n",
       "3  K16-MAA001861-3_39_F-1-1   O9-MAA001632-3_56_F-1-1    0.056352   \n",
       "4  K16-MAA001861-3_39_F-1-1    H12-B002436-3_39_F-1-1    0.068042   \n",
       "\n",
       "                            experiment  \n",
       "0  trim=false_scaled=1000_dna_ksize=15  \n",
       "1  trim=false_scaled=1000_dna_ksize=15  \n",
       "2  trim=false_scaled=1000_dna_ksize=15  \n",
       "3  trim=false_scaled=1000_dna_ksize=15  \n",
       "4  trim=false_scaled=1000_dna_ksize=15  "
      ]
     },
     "execution_count": 17,
     "metadata": {},
     "output_type": "execute_result"
    }
   ],
   "source": [
    "compare_results = pd.concat(tidy_dfs, ignore_index=True)\n",
    "compare_results = compare_results.rename(columns={0: 'similarity'})\n",
    "print(compare_results.shape)\n",
    "compare_results.head()"
   ]
  },
  {
   "cell_type": "code",
   "execution_count": 18,
   "metadata": {},
   "outputs": [
    {
     "data": {
      "text/html": [
       "<div>\n",
       "<style scoped>\n",
       "    .dataframe tbody tr th:only-of-type {\n",
       "        vertical-align: middle;\n",
       "    }\n",
       "\n",
       "    .dataframe tbody tr th {\n",
       "        vertical-align: top;\n",
       "    }\n",
       "\n",
       "    .dataframe thead th {\n",
       "        text-align: right;\n",
       "    }\n",
       "</style>\n",
       "<table border=\"1\" class=\"dataframe\">\n",
       "  <thead>\n",
       "    <tr style=\"text-align: right;\">\n",
       "      <th></th>\n",
       "      <th>cell_id</th>\n",
       "      <th>other_cell</th>\n",
       "      <th>similarity</th>\n",
       "      <th>experiment</th>\n",
       "    </tr>\n",
       "  </thead>\n",
       "  <tbody>\n",
       "    <tr>\n",
       "      <th>28620773</th>\n",
       "      <td>J9-MAA001892-3_38_F-1-1</td>\n",
       "      <td>O2-MAA001454-3_38_F-1-1</td>\n",
       "      <td>0.053038</td>\n",
       "      <td>trim=true_scaled=900_dna_ksize=21</td>\n",
       "    </tr>\n",
       "    <tr>\n",
       "      <th>28620774</th>\n",
       "      <td>J9-MAA001892-3_38_F-1-1</td>\n",
       "      <td>F6-MAA000871-3_11_M-1-1</td>\n",
       "      <td>0.053920</td>\n",
       "      <td>trim=true_scaled=900_dna_ksize=21</td>\n",
       "    </tr>\n",
       "    <tr>\n",
       "      <th>28620775</th>\n",
       "      <td>O2-MAA001454-3_38_F-1-1</td>\n",
       "      <td>O2-MAA001454-3_38_F-1-1</td>\n",
       "      <td>1.000000</td>\n",
       "      <td>trim=true_scaled=900_dna_ksize=21</td>\n",
       "    </tr>\n",
       "    <tr>\n",
       "      <th>28620776</th>\n",
       "      <td>O2-MAA001454-3_38_F-1-1</td>\n",
       "      <td>F6-MAA000871-3_11_M-1-1</td>\n",
       "      <td>0.052045</td>\n",
       "      <td>trim=true_scaled=900_dna_ksize=21</td>\n",
       "    </tr>\n",
       "    <tr>\n",
       "      <th>28620777</th>\n",
       "      <td>F6-MAA000871-3_11_M-1-1</td>\n",
       "      <td>F6-MAA000871-3_11_M-1-1</td>\n",
       "      <td>1.000000</td>\n",
       "      <td>trim=true_scaled=900_dna_ksize=21</td>\n",
       "    </tr>\n",
       "  </tbody>\n",
       "</table>\n",
       "</div>"
      ],
      "text/plain": [
       "                          cell_id               other_cell  similarity  \\\n",
       "28620773  J9-MAA001892-3_38_F-1-1  O2-MAA001454-3_38_F-1-1    0.053038   \n",
       "28620774  J9-MAA001892-3_38_F-1-1  F6-MAA000871-3_11_M-1-1    0.053920   \n",
       "28620775  O2-MAA001454-3_38_F-1-1  O2-MAA001454-3_38_F-1-1    1.000000   \n",
       "28620776  O2-MAA001454-3_38_F-1-1  F6-MAA000871-3_11_M-1-1    0.052045   \n",
       "28620777  F6-MAA000871-3_11_M-1-1  F6-MAA000871-3_11_M-1-1    1.000000   \n",
       "\n",
       "                                 experiment  \n",
       "28620773  trim=true_scaled=900_dna_ksize=21  \n",
       "28620774  trim=true_scaled=900_dna_ksize=21  \n",
       "28620775  trim=true_scaled=900_dna_ksize=21  \n",
       "28620776  trim=true_scaled=900_dna_ksize=21  \n",
       "28620777  trim=true_scaled=900_dna_ksize=21  "
      ]
     },
     "execution_count": 18,
     "metadata": {},
     "output_type": "execute_result"
    }
   ],
   "source": [
    "compare_results.tail()"
   ]
  },
  {
   "cell_type": "code",
   "execution_count": 19,
   "metadata": {},
   "outputs": [],
   "source": [
    "def combine_cell_ontology_free_annotation(row):\n",
    "    if pd.notnull(row['free_annotation']):\n",
    "        return '{cell_ontology_class} ({free_annotation})'.format(**row)\n",
    "    else:\n",
    "        return row['cell_ontology_class']"
   ]
  },
  {
   "cell_type": "code",
   "execution_count": 20,
   "metadata": {},
   "outputs": [
    {
     "name": "stdout",
     "output_type": "stream",
     "text": [
      "(1000, 5)\n"
     ]
    },
    {
     "data": {
      "text/html": [
       "<div>\n",
       "<style scoped>\n",
       "    .dataframe tbody tr th:only-of-type {\n",
       "        vertical-align: middle;\n",
       "    }\n",
       "\n",
       "    .dataframe tbody tr th {\n",
       "        vertical-align: top;\n",
       "    }\n",
       "\n",
       "    .dataframe thead th {\n",
       "        text-align: right;\n",
       "    }\n",
       "</style>\n",
       "<table border=\"1\" class=\"dataframe\">\n",
       "  <thead>\n",
       "    <tr style=\"text-align: right;\">\n",
       "      <th></th>\n",
       "      <th>tissue</th>\n",
       "      <th>subtissue</th>\n",
       "      <th>cell_ontology_class</th>\n",
       "      <th>free_annotation</th>\n",
       "      <th>cell_ontology_free_annotation</th>\n",
       "    </tr>\n",
       "    <tr>\n",
       "      <th>cell_id</th>\n",
       "      <th></th>\n",
       "      <th></th>\n",
       "      <th></th>\n",
       "      <th></th>\n",
       "      <th></th>\n",
       "    </tr>\n",
       "  </thead>\n",
       "  <tbody>\n",
       "    <tr>\n",
       "      <th>A1-B002427-3_39_F-1-1</th>\n",
       "      <td>Heart</td>\n",
       "      <td>LA</td>\n",
       "      <td>myofibroblast_cell</td>\n",
       "      <td>NA</td>\n",
       "      <td>myofibroblast_cell (NA)</td>\n",
       "    </tr>\n",
       "    <tr>\n",
       "      <th>A1-D041914-3_8_M-1-1</th>\n",
       "      <td>Bladder</td>\n",
       "      <td>NA</td>\n",
       "      <td>bladder_cell</td>\n",
       "      <td>Bladder_mesenchymal_cell</td>\n",
       "      <td>bladder_cell (Bladder_mesenchymal_cell)</td>\n",
       "    </tr>\n",
       "    <tr>\n",
       "      <th>A1-MAA000496-3_10_M-1-1</th>\n",
       "      <td>Trachea</td>\n",
       "      <td>NA</td>\n",
       "      <td>mesenchymal_cell</td>\n",
       "      <td>NA</td>\n",
       "      <td>mesenchymal_cell (NA)</td>\n",
       "    </tr>\n",
       "    <tr>\n",
       "      <th>A1-MAA000549-3_8_M-1-1</th>\n",
       "      <td>Skin</td>\n",
       "      <td>Anagen</td>\n",
       "      <td>epidermal_cell</td>\n",
       "      <td>Intermediate_IFE</td>\n",
       "      <td>epidermal_cell (Intermediate_IFE)</td>\n",
       "    </tr>\n",
       "    <tr>\n",
       "      <th>A1-MAA001869-3_38_F-1-1</th>\n",
       "      <td>Large_Intestine</td>\n",
       "      <td>Proximal</td>\n",
       "      <td>epithelial_cell_of_large_intestine</td>\n",
       "      <td>Lgr5-_amplifying_undifferentiated_cell</td>\n",
       "      <td>epithelial_cell_of_large_intestine (Lgr5-_ampl...</td>\n",
       "    </tr>\n",
       "  </tbody>\n",
       "</table>\n",
       "</div>"
      ],
      "text/plain": [
       "                                  tissue subtissue  \\\n",
       "cell_id                                              \n",
       "A1-B002427-3_39_F-1-1              Heart        LA   \n",
       "A1-D041914-3_8_M-1-1             Bladder        NA   \n",
       "A1-MAA000496-3_10_M-1-1          Trachea        NA   \n",
       "A1-MAA000549-3_8_M-1-1              Skin    Anagen   \n",
       "A1-MAA001869-3_38_F-1-1  Large_Intestine  Proximal   \n",
       "\n",
       "                                        cell_ontology_class  \\\n",
       "cell_id                                                       \n",
       "A1-B002427-3_39_F-1-1                    myofibroblast_cell   \n",
       "A1-D041914-3_8_M-1-1                           bladder_cell   \n",
       "A1-MAA000496-3_10_M-1-1                    mesenchymal_cell   \n",
       "A1-MAA000549-3_8_M-1-1                       epidermal_cell   \n",
       "A1-MAA001869-3_38_F-1-1  epithelial_cell_of_large_intestine   \n",
       "\n",
       "                                                free_annotation  \\\n",
       "cell_id                                                           \n",
       "A1-B002427-3_39_F-1-1                                        NA   \n",
       "A1-D041914-3_8_M-1-1                   Bladder_mesenchymal_cell   \n",
       "A1-MAA000496-3_10_M-1-1                                      NA   \n",
       "A1-MAA000549-3_8_M-1-1                         Intermediate_IFE   \n",
       "A1-MAA001869-3_38_F-1-1  Lgr5-_amplifying_undifferentiated_cell   \n",
       "\n",
       "                                             cell_ontology_free_annotation  \n",
       "cell_id                                                                     \n",
       "A1-B002427-3_39_F-1-1                              myofibroblast_cell (NA)  \n",
       "A1-D041914-3_8_M-1-1               bladder_cell (Bladder_mesenchymal_cell)  \n",
       "A1-MAA000496-3_10_M-1-1                              mesenchymal_cell (NA)  \n",
       "A1-MAA000549-3_8_M-1-1                   epidermal_cell (Intermediate_IFE)  \n",
       "A1-MAA001869-3_38_F-1-1  epithelial_cell_of_large_intestine (Lgr5-_ampl...  "
      ]
     },
     "execution_count": 20,
     "metadata": {},
     "output_type": "execute_result"
    }
   ],
   "source": [
    "# cell_metadata = pd.concat(metadatas)\n",
    "# print(cell_metadata.shape)\n",
    "# cell_metadata = cell_metadata.loc[~cell_metadata.index.duplicated()]\n",
    "cell_metadata = cell_metadata.sort_index()\n",
    "cell_metadata['cell_ontology_free_annotation'] = cell_metadata.apply(combine_cell_ontology_free_annotation, axis=1)\n",
    "print(cell_metadata.shape)\n",
    "cell_metadata.head()"
   ]
  },
  {
   "cell_type": "code",
   "execution_count": 21,
   "metadata": {},
   "outputs": [
    {
     "name": "stdout",
     "output_type": "stream",
     "text": [
      "(63, 4)\n"
     ]
    },
    {
     "data": {
      "text/html": [
       "<div>\n",
       "<style scoped>\n",
       "    .dataframe tbody tr th:only-of-type {\n",
       "        vertical-align: middle;\n",
       "    }\n",
       "\n",
       "    .dataframe tbody tr th {\n",
       "        vertical-align: top;\n",
       "    }\n",
       "\n",
       "    .dataframe thead th {\n",
       "        text-align: right;\n",
       "    }\n",
       "</style>\n",
       "<table border=\"1\" class=\"dataframe\">\n",
       "  <thead>\n",
       "    <tr style=\"text-align: right;\">\n",
       "      <th></th>\n",
       "      <th>comparison_sequence</th>\n",
       "      <th>ksize</th>\n",
       "      <th>scaled</th>\n",
       "      <th>trim</th>\n",
       "    </tr>\n",
       "  </thead>\n",
       "  <tbody>\n",
       "    <tr>\n",
       "      <th>trim=false_scaled=1000_dna_ksize=15</th>\n",
       "      <td>dna</td>\n",
       "      <td>15</td>\n",
       "      <td>1000</td>\n",
       "      <td>False</td>\n",
       "    </tr>\n",
       "    <tr>\n",
       "      <th>trim=false_scaled=1000_dna_ksize=42</th>\n",
       "      <td>dna</td>\n",
       "      <td>42</td>\n",
       "      <td>1000</td>\n",
       "      <td>False</td>\n",
       "    </tr>\n",
       "    <tr>\n",
       "      <th>trim=false_scaled=1000_dna_ksize=57</th>\n",
       "      <td>dna</td>\n",
       "      <td>57</td>\n",
       "      <td>1000</td>\n",
       "      <td>False</td>\n",
       "    </tr>\n",
       "    <tr>\n",
       "      <th>trim=false_scaled=1100_dna_ksize=15</th>\n",
       "      <td>dna</td>\n",
       "      <td>15</td>\n",
       "      <td>1100</td>\n",
       "      <td>False</td>\n",
       "    </tr>\n",
       "    <tr>\n",
       "      <th>trim=false_scaled=1200_dna_ksize=60</th>\n",
       "      <td>dna</td>\n",
       "      <td>60</td>\n",
       "      <td>1200</td>\n",
       "      <td>False</td>\n",
       "    </tr>\n",
       "  </tbody>\n",
       "</table>\n",
       "</div>"
      ],
      "text/plain": [
       "                                    comparison_sequence  ksize  scaled   trim\n",
       "trim=false_scaled=1000_dna_ksize=15                 dna     15    1000  False\n",
       "trim=false_scaled=1000_dna_ksize=42                 dna     42    1000  False\n",
       "trim=false_scaled=1000_dna_ksize=57                 dna     57    1000  False\n",
       "trim=false_scaled=1100_dna_ksize=15                 dna     15    1100  False\n",
       "trim=false_scaled=1200_dna_ksize=60                 dna     60    1200  False"
      ]
     },
     "execution_count": 21,
     "metadata": {},
     "output_type": "execute_result"
    }
   ],
   "source": [
    "experiment_metadata = pd.DataFrame(experiment_metadatas).T\n",
    "experiment_metadata['trim'] = experiment_metadata['trim'].map(lambda x: x == 'true')\n",
    "experiment_metadata['ksize'] = experiment_metadata['ksize'].astype(int)\n",
    "experiment_metadata['scaled'] = experiment_metadata['scaled'].astype(int)\n",
    "print(experiment_metadata.shape)\n",
    "experiment_metadata.head()"
   ]
  },
  {
   "cell_type": "code",
   "execution_count": 22,
   "metadata": {},
   "outputs": [
    {
     "data": {
      "text/plain": [
       "array([1000, 1100, 1200, 1500, 1600, 1800,  200, 3000,  400, 4500,  500,\n",
       "        600,  700,  800,  900, 1300, 1700, 1900])"
      ]
     },
     "execution_count": 22,
     "metadata": {},
     "output_type": "execute_result"
    }
   ],
   "source": [
    "experiment_metadata.scaled.unique()"
   ]
  },
  {
   "cell_type": "code",
   "execution_count": 23,
   "metadata": {},
   "outputs": [],
   "source": [
    "csv_prefix = 's3://olgabot-maca/facs/sourmash_compare_no_track_abundance_combined/'"
   ]
  },
  {
   "cell_type": "code",
   "execution_count": 24,
   "metadata": {},
   "outputs": [],
   "source": [
    "# with fs.open(f'{csv_prefix}experiment-metadata.csv', 'w') as f:\n",
    "#     experiment_metadata.to_csv(f)\n",
    "# # %time experiment_metadata.to_csv(f'{csv_prefix}experiment-metadata.csv')"
   ]
  },
  {
   "cell_type": "code",
   "execution_count": 25,
   "metadata": {},
   "outputs": [],
   "source": [
    "# pd.read_csv(f'{csv_prefix}experiment-metadata.csv').head()"
   ]
  },
  {
   "cell_type": "code",
   "execution_count": 26,
   "metadata": {},
   "outputs": [
    {
     "name": "stdout",
     "output_type": "stream",
     "text": [
      "Overwriting s3_utils.py\n"
     ]
    }
   ],
   "source": [
    "%%file s3_utils.py\n",
    "import s3fs\n",
    "\n",
    "def write_s3(df, filename, fmt='csv', **kwargs):\n",
    "    fs = s3fs.S3FileSystem(anon=False)\n",
    "    if fmt == 'csv':\n",
    "        # csv is a text format\n",
    "        with fs.open(filename, 'w') as f:\n",
    "            return df.to_csv(f, **kwargs)\n",
    "    elif fmt == 'parquet':\n",
    "        # Parquet is a binary format and needs the \"b\" flag\n",
    "        with fs.open(filename, 'wb') as f:\n",
    "            return df.to_parquet(f, **kwargs)\n",
    "        "
   ]
  },
  {
   "cell_type": "code",
   "execution_count": 34,
   "metadata": {},
   "outputs": [
    {
     "name": "stdout",
     "output_type": "stream",
     "text": [
      "CPU times: user 25.4 s, sys: 11.2 s, total: 36.6 s\n",
      "Wall time: 32.3 s\n"
     ]
    }
   ],
   "source": [
    "import s3fs\n",
    "\n",
    "fs = s3fs.S3FileSystem(anon=False)\n",
    "\n",
    "with fs.open(f'{csv_prefix}similarity.parquet', 'wb') as f:\n",
    "    %time compare_results.to_parquet(f)"
   ]
  },
  {
   "cell_type": "code",
   "execution_count": 28,
   "metadata": {},
   "outputs": [
    {
     "name": "stdout",
     "output_type": "stream",
     "text": [
      "CPU times: user 12 ms, sys: 8 ms, total: 20 ms\n",
      "Wall time: 260 ms\n",
      "CPU times: user 4 ms, sys: 0 ns, total: 4 ms\n",
      "Wall time: 61.3 ms\n"
     ]
    }
   ],
   "source": [
    "from s3_utils import write_s3\n",
    "\n",
    "%time write_s3(cell_metadata, f'{csv_prefix}cell-metadata.csv', 'csv')\n",
    "%time write_s3(experiment_metadata, f'{csv_prefix}experiment-metadata.csv', 'csv')\n"
   ]
  },
  {
   "cell_type": "code",
   "execution_count": 31,
   "metadata": {},
   "outputs": [
    {
     "name": "stdout",
     "output_type": "stream",
     "text": [
      "CPU times: user 2min 20s, sys: 1.72 s, total: 2min 21s\n",
      "Wall time: 5min 4s\n"
     ]
    }
   ],
   "source": [
    "%time write_s3(compare_results, f'{csv_prefix}similarity.csv', 'csv')\n"
   ]
  },
  {
   "cell_type": "code",
   "execution_count": 33,
   "metadata": {},
   "outputs": [
    {
     "name": "stdout",
     "output_type": "stream",
     "text": [
      "2018-09-23 16:03:11  334.5 MiB -similarity.parquet\r\n",
      "2018-09-23 15:51:07  102.3 KiB cell-metadata.csv\r\n",
      "2018-09-23 15:51:08    3.2 KiB experiment-metadata.csv\r\n",
      "2018-09-23 15:51:36    2.9 GiB similarity.csv\r\n"
     ]
    }
   ],
   "source": [
    "! aws s3 ls --human-readable $csv_prefix"
   ]
  },
  {
   "cell_type": "code",
   "execution_count": null,
   "metadata": {},
   "outputs": [],
   "source": [
    "# write_s3(compare_results, f'{csv_prefix}-similarity.parquet', 'parquet')"
   ]
  },
  {
   "cell_type": "code",
   "execution_count": null,
   "metadata": {},
   "outputs": [],
   "source": [
    "# with fs.open(f'{csv_prefix}cell-metadata.csv', 'w') as f:\n",
    "#     cell_metadata.to_csv(f)"
   ]
  },
  {
   "cell_type": "code",
   "execution_count": null,
   "metadata": {},
   "outputs": [],
   "source": [
    "# with fs.open(f'{csv_prefix}similarity.csv', 'w') as f:\n",
    "#     %time compare_results.to_csv(f, index=False)"
   ]
  },
  {
   "cell_type": "code",
   "execution_count": 1,
   "metadata": {},
   "outputs": [
    {
     "name": "stdout",
     "output_type": "stream",
     "text": [
      "-rwxrwxr-x 1 olga olga 4.3M Jul 16 09:03 \u001b[0m\u001b[01;32m000_tabula-muris_reflow_fastqs.ipynb\u001b[0m*\r\n",
      "-rwxrwxr-x 1 olga olga 170K Aug  7 13:01 \u001b[01;32m004_ashley_cancer_fastq.ipynb\u001b[0m*\r\n",
      "-rwxrwxr-x 1 olga olga 116K Jul 16 09:03 \u001b[01;32m005_why_did_some_reflow_runs_fail.ipynb\u001b[0m*\r\n",
      "-rw-rw-r-- 1 olga olga 138K Jul 27 12:27 006_tabula-muris_reflow_fastqs_v5.ipynb\r\n",
      "-rw-rw-r-- 1 olga olga  67K Jul 27 12:27 006_tabula-muris_reflow_fastqs_v6.ipynb\r\n",
      "-rwxrwxr-x 1 olga olga  43K Sep 19 10:59 \u001b[01;32m007_reflow_runbatch_compare.ipynb\u001b[0m*\r\n",
      "-rw-rw-r-- 1 olga olga  17K Sep 19 09:25 008_ashley_cancer_compute_v2.ipynb\r\n",
      "-rw-rw-r-- 1 olga olga  15K Sep 20 12:21 009_ashley_cancer_compare.ipynb\r\n",
      "-rw-rw-r-- 1 olga olga 1.3M Aug  2 14:49 010_sourmash_compare_analysis.ipynb\r\n",
      "-rw-rw-r-- 1 olga olga 303K Aug 14 12:15 011_kmers_in_single_bladder_cell_vs_gencode_transcripts.ipynb\r\n",
      "-rw-rw-r-- 1 olga olga 6.0M Aug 14 12:15 012_sourmash_compare_csv_scale1200_k15.ipynb\r\n",
      "-rw-rw-r-- 1 olga olga 1.6M Sep 21 15:08 013_read_all_tabula_muris_sourmash_compare_csvs.ipynb\r\n",
      "-rw-rw-r-- 1 olga olga 5.2M Aug 14 12:15 014_compare_tabula_muris_kmer_distances_to_gene_counts.ipynb\r\n",
      "-rw-rw-r-- 1 olga olga 2.8M Sep 19 10:59 015_compare_cell-cell_distances_with_different_ksizes.ipynb\r\n",
      "-rw-rw-r-- 1 olga olga  34K Sep 19 09:25 016_run_sourmash_compute_on_all_maca_samples.ipynb\r\n",
      "-rw-rw-r-- 1 olga olga  31K Sep 19 09:25 017_sourmash_index_tabula_muris.ipynb\r\n",
      "-rw-rw-r-- 1 olga olga 255K Sep 20 12:21 018_sourmash_index_1000cell_tabula_muris.ipynb\r\n",
      "-rw-rw-r-- 1 olga olga 102K Sep 23 15:31 019_parse_sourmash_compute_logs_for_cpu_mem_time_profiles.ipynb\r\n",
      "-rw-rw-r-- 1 olga olga 342K Aug 14 12:15 020_sourmash_index_transcriptome.ipynb\r\n",
      "-rw-rw-r-- 1 olga olga 517K Sep 19 10:59 021_sourmash_compare_b_cells.ipynb\r\n",
      "-rw-rw-r-- 1 olga olga  40K Sep 21 14:24 022_read_tabula_muris_compare_ignore_abundance.ipynb\r\n",
      "-rw-rw-r-- 1 olga olga  70K Sep 20 19:51 024_reflow_ashley_cancer_search_tabula_muris.ipynb\r\n",
      "-rw-rw-r-- 1 olga olga 201K Sep 20 19:51 025_read_ashley_cancer_search_tabula_muris.ipynb\r\n",
      "-rw-rw-r-- 1 olga olga 3.1M Sep 20 19:32 027_analyze_tabula_muris_compare_ignore_abundance.ipynb\r\n",
      "-rw-rw-r-- 1 olga olga  12M Aug 14 12:15 030_lung_cancer_scanpy.ipynb\r\n",
      "-rw-rw-r-- 1 olga olga 2.9M Aug 14 12:15 031_lung_cancer_sourmash_compare.ipynb\r\n",
      "-rw-rw-r-- 1 olga olga 3.2K Aug 14 12:15 040_test_sourmash_translate.ipynb\r\n",
      "-rw-rw-r-- 1 olga olga  42K Sep 20 19:32 050_run_sourmash_on_10x_lung.ipynb\r\n",
      "-rw-rw-r-- 1 olga olga  87K Sep 19 11:00 051_run_search_bladder_cell_within_tabula_muris.ipynb\r\n",
      "-rw-rw-r-- 1 olga olga 4.1M Sep 19 10:59 051_tabula_muris_protein_signatures_on_lung_cancer.ipynb\r\n",
      "-rw-rw-r-- 1 olga olga  28K Sep 20 19:32 052_reflow_search_maybe_ignore_abundance.ipynb\r\n",
      "-rw-rw-r-- 1 olga olga 395K Sep 20 19:32 053_analyze_search_bladder_cell_within_tabula_muris.ipynb\r\n",
      "-rw-rw-r-- 1 olga olga  824 Sep 20 19:32 aws_s3_ls_sourmash_search.txt\r\n",
      "-rw-rw-r-- 1 olga olga 4.4K Sep 21 11:33 aws_s3_ls_tabula_muris_compare_no_track_abundance.txt\r\n",
      "-rw-rw-r-- 1 olga olga  72K Sep 21 14:12 aws_s3_ls_tabula_muris_compare.txt\r\n",
      "-rw-rw-r-- 1 olga olga  806 Sep 20 19:32 extract_metadata.py\r\n",
      "-rw-rw-r-- 1 olga olga 1.6K Sep 20 19:51 lung_cancer_sourmash_search.txt\r\n",
      "-rw-rw-r-- 1 olga olga  440 Sep 19 11:00 sourmash_databases.txt\r\n",
      "-rw-rw-r-- 1 olga olga   72 Sep 20 12:21 Untitled.ipynb\r\n"
     ]
    }
   ],
   "source": [
    "# ls -lha $csv_prefix*"
   ]
  },
  {
   "cell_type": "code",
   "execution_count": null,
   "metadata": {},
   "outputs": [],
   "source": []
  }
 ],
 "metadata": {
  "kernelspec": {
   "display_name": "Python 3",
   "language": "python",
   "name": "python3"
  },
  "language_info": {
   "codemirror_mode": {
    "name": "ipython",
    "version": 3
   },
   "file_extension": ".py",
   "mimetype": "text/x-python",
   "name": "python",
   "nbconvert_exporter": "python",
   "pygments_lexer": "ipython3",
   "version": "3.6.4"
  }
 },
 "nbformat": 4,
 "nbformat_minor": 2
}
