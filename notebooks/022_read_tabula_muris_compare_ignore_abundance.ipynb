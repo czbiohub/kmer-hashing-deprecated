{
 "cells": [
  {
   "cell_type": "code",
   "execution_count": 1,
   "metadata": {},
   "outputs": [],
   "source": [
    "import glob\n",
    "import os\n",
    "\n",
    "\n",
    "# Reminder to install s3fs to read files from aws\n",
    "import s3fs\n",
    "\n",
    "# import altair as alt\n",
    "import matplotlib.pyplot as plt\n",
    "import numpy as np\n",
    "import pandas as pd\n",
    "# import xarray as xr\n",
    "\n",
    "import seaborn as sns\n",
    "\n",
    "# import scanpy.api as sc\n",
    "\n",
    "# import holoviews as hv\n",
    "# hv.extension('bokeh')\n",
    "# hv.archive.auto()\n",
    "\n",
    "%matplotlib inline"
   ]
  },
  {
   "cell_type": "code",
   "execution_count": 35,
   "metadata": {},
   "outputs": [],
   "source": [
    "prefix = 's3://olgabot-maca/facs/sourmash_compare_no_track_abundance/'\n",
    "txt = 'aws_s3_ls_tabula_muris_compare_no_track_abundance.txt'"
   ]
  },
  {
   "cell_type": "code",
   "execution_count": 36,
   "metadata": {},
   "outputs": [],
   "source": [
    "! aws s3 ls $prefix > $txt"
   ]
  },
  {
   "cell_type": "code",
   "execution_count": 54,
   "metadata": {},
   "outputs": [
    {
     "name": "stdout",
     "output_type": "stream",
     "text": [
      "(150, 4)\n"
     ]
    },
    {
     "data": {
      "text/html": [
       "<div>\n",
       "<style scoped>\n",
       "    .dataframe tbody tr th:only-of-type {\n",
       "        vertical-align: middle;\n",
       "    }\n",
       "\n",
       "    .dataframe tbody tr th {\n",
       "        vertical-align: top;\n",
       "    }\n",
       "\n",
       "    .dataframe thead th {\n",
       "        text-align: right;\n",
       "    }\n",
       "</style>\n",
       "<table border=\"1\" class=\"dataframe\">\n",
       "  <thead>\n",
       "    <tr style=\"text-align: right;\">\n",
       "      <th></th>\n",
       "      <th>date</th>\n",
       "      <th>time</th>\n",
       "      <th>bytes</th>\n",
       "      <th>basename</th>\n",
       "    </tr>\n",
       "  </thead>\n",
       "  <tbody>\n",
       "    <tr>\n",
       "      <th>0</th>\n",
       "      <td>2018-09-23</td>\n",
       "      <td>16:46:50</td>\n",
       "      <td>19045449</td>\n",
       "      <td>trim=false_scaled=1000_dna_ksize=12.csv</td>\n",
       "    </tr>\n",
       "    <tr>\n",
       "      <th>1</th>\n",
       "      <td>2018-09-18</td>\n",
       "      <td>01:32:22</td>\n",
       "      <td>19873413</td>\n",
       "      <td>trim=false_scaled=1000_dna_ksize=15.csv</td>\n",
       "    </tr>\n",
       "    <tr>\n",
       "      <th>2</th>\n",
       "      <td>2018-09-23</td>\n",
       "      <td>16:44:28</td>\n",
       "      <td>10580690</td>\n",
       "      <td>trim=false_scaled=1000_dna_ksize=33.csv</td>\n",
       "    </tr>\n",
       "    <tr>\n",
       "      <th>3</th>\n",
       "      <td>2018-09-17</td>\n",
       "      <td>22:08:11</td>\n",
       "      <td>20376123</td>\n",
       "      <td>trim=false_scaled=1000_dna_ksize=42.csv</td>\n",
       "    </tr>\n",
       "    <tr>\n",
       "      <th>4</th>\n",
       "      <td>2018-09-23</td>\n",
       "      <td>16:46:49</td>\n",
       "      <td>20396041</td>\n",
       "      <td>trim=false_scaled=1000_dna_ksize=45.csv</td>\n",
       "    </tr>\n",
       "  </tbody>\n",
       "</table>\n",
       "</div>"
      ],
      "text/plain": [
       "         date      time     bytes                                 basename\n",
       "0  2018-09-23  16:46:50  19045449  trim=false_scaled=1000_dna_ksize=12.csv\n",
       "1  2018-09-18  01:32:22  19873413  trim=false_scaled=1000_dna_ksize=15.csv\n",
       "2  2018-09-23  16:44:28  10580690  trim=false_scaled=1000_dna_ksize=33.csv\n",
       "3  2018-09-17  22:08:11  20376123  trim=false_scaled=1000_dna_ksize=42.csv\n",
       "4  2018-09-23  16:46:49  20396041  trim=false_scaled=1000_dna_ksize=45.csv"
      ]
     },
     "execution_count": 54,
     "metadata": {},
     "output_type": "execute_result"
    }
   ],
   "source": [
    "aws_s3_ls = pd.read_table(txt, delim_whitespace=True, header=None, \n",
    "                          names=['date', 'time', 'bytes', 'basename'])\n",
    "print(aws_s3_ls.shape)\n",
    "aws_s3_ls.head()"
   ]
  },
  {
   "cell_type": "code",
   "execution_count": 38,
   "metadata": {},
   "outputs": [],
   "source": [
    "from tqdm import tqdm"
   ]
  },
  {
   "cell_type": "code",
   "execution_count": 39,
   "metadata": {},
   "outputs": [
    {
     "name": "stderr",
     "output_type": "stream",
     "text": [
      "  1%|          | 1/150 [00:01<03:46,  1.52s/it]"
     ]
    },
    {
     "name": "stdout",
     "output_type": "stream",
     "text": [
      "\tcell_metadata.shape, (997, 4)\n"
     ]
    },
    {
     "name": "stderr",
     "output_type": "stream",
     "text": [
      "  5%|▌         | 8/150 [00:16<04:50,  2.04s/it]"
     ]
    },
    {
     "name": "stdout",
     "output_type": "stream",
     "text": [
      "\tcell_metadata.shape, (1000, 4)\n"
     ]
    },
    {
     "name": "stderr",
     "output_type": "stream",
     "text": [
      "100%|██████████| 150/150 [06:00<00:00,  2.40s/it]\n"
     ]
    }
   ],
   "source": [
    "\n",
    "def extract_cell_metadata(columns):\n",
    "    cell_metadata = pd.Series(columns).str.split('|', expand=True)\n",
    "#     cell_metadata.index = columns\n",
    "    cell_metadata.columns = ['cell_id', 'tissue', \n",
    "                             'subtissue', 'cell_ontology_class', \n",
    "                             'free_annotation']\n",
    "    cell_metadata = cell_metadata.set_index('cell_id')\n",
    "    cell_metadata.index.name = 'cell_id'\n",
    "    cell_metadata = cell_metadata.applymap(lambda x: x.split(':')[-1])\n",
    "#     print('\\tcell_metadata.shape', cell_metadata.shape)\n",
    "#     cell_metadata = cell_metadata.sort_index()\n",
    "#     cell_metadata.head()\n",
    "    return cell_metadata\n",
    "\n",
    "\n",
    "\n",
    "dfs = {}\n",
    "\n",
    "metadatas = []\n",
    "\n",
    "def to_key_value_pair(attribute):\n",
    "    if len(attribute) > 1:\n",
    "        try:\n",
    "            return attribute[0], int(attribute[1])\n",
    "        except ValueError:\n",
    "            return attribute[0], attribute[1] \n",
    "    else:\n",
    "        return 'comparison_sequence', attribute[0]\n",
    "\n",
    "\n",
    "\n",
    "def extract_experiment_metadata(basename):\n",
    "    key = basename.split('.csv')[0]\n",
    "    split = key.split('_')\n",
    "    attributes = [x.split('=') for x in split]\n",
    "    attributes = dict(to_key_value_pair(x) for x in attributes)\n",
    "    return key, attributes\n",
    "\n",
    "\n",
    "experiment_metadatas = {}\n",
    "\n",
    "cell_metadata = pd.DataFrame()\n",
    "\n",
    "max_cells = 1000\n",
    "tidy_dfs = []\n",
    "\n",
    "for basename in tqdm(aws_s3_ls['basename']):\n",
    "    csv = f'{prefix}{basename}'\n",
    "    df = pd.read_csv(csv)\n",
    "#     aprint(f'{basename}\\tdf.shape: {df.shape}')\n",
    "    \n",
    "    key, attributes = extract_experiment_metadata(basename)\n",
    "    experiment_metadatas[key] = attributes\n",
    "\n",
    "    metadata = extract_cell_metadata(df.columns)\n",
    "    \n",
    "    mask = np.triu(np.ones(df.shape)).astype(np.bool)\n",
    "\n",
    "    df.index = metadata.index.copy()\n",
    "    df.columns = metadata.index.copy()\n",
    "    \n",
    "    df = df.where(mask)\n",
    "    df.index.name = 'cell_id'\n",
    "    df.columns.name = 'other_cell'\n",
    "    tidy = df.stack().reset_index()\n",
    "    tidy['experiment'] = key\n",
    "#     tidy = tidy.rename(columns={'level_0': 'cell_id', 'level_1': 'other_cell'})\n",
    "        \n",
    "    tidy_dfs.append(tidy)\n",
    "\n",
    "    # Add new cells to metadata\n",
    "    if len(df.index.difference(cell_metadata.index)) > 0:\n",
    "        cell_metadata = cell_metadata.append(metadata)\n",
    "        cell_metadata = cell_metadata.loc[~cell_metadata.index.duplicated()]\n",
    "        print(f'\\tcell_metadata.shape, {cell_metadata.shape}')\n",
    "\n"
   ]
  },
  {
   "cell_type": "code",
   "execution_count": 40,
   "metadata": {},
   "outputs": [
    {
     "name": "stdout",
     "output_type": "stream",
     "text": [
      "(59524382, 4)\n"
     ]
    },
    {
     "data": {
      "text/html": [
       "<div>\n",
       "<style scoped>\n",
       "    .dataframe tbody tr th:only-of-type {\n",
       "        vertical-align: middle;\n",
       "    }\n",
       "\n",
       "    .dataframe tbody tr th {\n",
       "        vertical-align: top;\n",
       "    }\n",
       "\n",
       "    .dataframe thead th {\n",
       "        text-align: right;\n",
       "    }\n",
       "</style>\n",
       "<table border=\"1\" class=\"dataframe\">\n",
       "  <thead>\n",
       "    <tr style=\"text-align: right;\">\n",
       "      <th></th>\n",
       "      <th>cell_id</th>\n",
       "      <th>other_cell</th>\n",
       "      <th>similarity</th>\n",
       "      <th>experiment</th>\n",
       "    </tr>\n",
       "  </thead>\n",
       "  <tbody>\n",
       "    <tr>\n",
       "      <th>0</th>\n",
       "      <td>B22-MAA000871-3_11_M-1-1</td>\n",
       "      <td>B22-MAA000871-3_11_M-1-1</td>\n",
       "      <td>1.000000</td>\n",
       "      <td>trim=false_scaled=1000_dna_ksize=12</td>\n",
       "    </tr>\n",
       "    <tr>\n",
       "      <th>1</th>\n",
       "      <td>B22-MAA000871-3_11_M-1-1</td>\n",
       "      <td>L11-MAA000586-3_8_M-1-1</td>\n",
       "      <td>0.398906</td>\n",
       "      <td>trim=false_scaled=1000_dna_ksize=12</td>\n",
       "    </tr>\n",
       "    <tr>\n",
       "      <th>2</th>\n",
       "      <td>B22-MAA000871-3_11_M-1-1</td>\n",
       "      <td>O20-MAA001632-3_56_F-1-1</td>\n",
       "      <td>0.407873</td>\n",
       "      <td>trim=false_scaled=1000_dna_ksize=12</td>\n",
       "    </tr>\n",
       "    <tr>\n",
       "      <th>3</th>\n",
       "      <td>B22-MAA000871-3_11_M-1-1</td>\n",
       "      <td>D2-MAA000452-3_8_M-1-1</td>\n",
       "      <td>0.386677</td>\n",
       "      <td>trim=false_scaled=1000_dna_ksize=12</td>\n",
       "    </tr>\n",
       "    <tr>\n",
       "      <th>4</th>\n",
       "      <td>B22-MAA000871-3_11_M-1-1</td>\n",
       "      <td>P1-D042473-3_10_M-1-1</td>\n",
       "      <td>0.384180</td>\n",
       "      <td>trim=false_scaled=1000_dna_ksize=12</td>\n",
       "    </tr>\n",
       "  </tbody>\n",
       "</table>\n",
       "</div>"
      ],
      "text/plain": [
       "                    cell_id                other_cell  similarity  \\\n",
       "0  B22-MAA000871-3_11_M-1-1  B22-MAA000871-3_11_M-1-1    1.000000   \n",
       "1  B22-MAA000871-3_11_M-1-1   L11-MAA000586-3_8_M-1-1    0.398906   \n",
       "2  B22-MAA000871-3_11_M-1-1  O20-MAA001632-3_56_F-1-1    0.407873   \n",
       "3  B22-MAA000871-3_11_M-1-1    D2-MAA000452-3_8_M-1-1    0.386677   \n",
       "4  B22-MAA000871-3_11_M-1-1     P1-D042473-3_10_M-1-1    0.384180   \n",
       "\n",
       "                            experiment  \n",
       "0  trim=false_scaled=1000_dna_ksize=12  \n",
       "1  trim=false_scaled=1000_dna_ksize=12  \n",
       "2  trim=false_scaled=1000_dna_ksize=12  \n",
       "3  trim=false_scaled=1000_dna_ksize=12  \n",
       "4  trim=false_scaled=1000_dna_ksize=12  "
      ]
     },
     "execution_count": 40,
     "metadata": {},
     "output_type": "execute_result"
    }
   ],
   "source": [
    "compare_results = pd.concat(tidy_dfs, ignore_index=True)\n",
    "compare_results = compare_results.rename(columns={0: 'similarity'})\n",
    "print(compare_results.shape)\n",
    "compare_results.head()"
   ]
  },
  {
   "cell_type": "code",
   "execution_count": 41,
   "metadata": {},
   "outputs": [
    {
     "data": {
      "text/html": [
       "<div>\n",
       "<style scoped>\n",
       "    .dataframe tbody tr th:only-of-type {\n",
       "        vertical-align: middle;\n",
       "    }\n",
       "\n",
       "    .dataframe tbody tr th {\n",
       "        vertical-align: top;\n",
       "    }\n",
       "\n",
       "    .dataframe thead th {\n",
       "        text-align: right;\n",
       "    }\n",
       "</style>\n",
       "<table border=\"1\" class=\"dataframe\">\n",
       "  <thead>\n",
       "    <tr style=\"text-align: right;\">\n",
       "      <th></th>\n",
       "      <th>cell_id</th>\n",
       "      <th>other_cell</th>\n",
       "      <th>similarity</th>\n",
       "      <th>experiment</th>\n",
       "    </tr>\n",
       "  </thead>\n",
       "  <tbody>\n",
       "    <tr>\n",
       "      <th>59524377</th>\n",
       "      <td>J9-MAA001892-3_38_F-1-1</td>\n",
       "      <td>O2-MAA001454-3_38_F-1-1</td>\n",
       "      <td>0.053038</td>\n",
       "      <td>trim=true_scaled=900_dna_ksize=21</td>\n",
       "    </tr>\n",
       "    <tr>\n",
       "      <th>59524378</th>\n",
       "      <td>J9-MAA001892-3_38_F-1-1</td>\n",
       "      <td>F6-MAA000871-3_11_M-1-1</td>\n",
       "      <td>0.053920</td>\n",
       "      <td>trim=true_scaled=900_dna_ksize=21</td>\n",
       "    </tr>\n",
       "    <tr>\n",
       "      <th>59524379</th>\n",
       "      <td>O2-MAA001454-3_38_F-1-1</td>\n",
       "      <td>O2-MAA001454-3_38_F-1-1</td>\n",
       "      <td>1.000000</td>\n",
       "      <td>trim=true_scaled=900_dna_ksize=21</td>\n",
       "    </tr>\n",
       "    <tr>\n",
       "      <th>59524380</th>\n",
       "      <td>O2-MAA001454-3_38_F-1-1</td>\n",
       "      <td>F6-MAA000871-3_11_M-1-1</td>\n",
       "      <td>0.052045</td>\n",
       "      <td>trim=true_scaled=900_dna_ksize=21</td>\n",
       "    </tr>\n",
       "    <tr>\n",
       "      <th>59524381</th>\n",
       "      <td>F6-MAA000871-3_11_M-1-1</td>\n",
       "      <td>F6-MAA000871-3_11_M-1-1</td>\n",
       "      <td>1.000000</td>\n",
       "      <td>trim=true_scaled=900_dna_ksize=21</td>\n",
       "    </tr>\n",
       "  </tbody>\n",
       "</table>\n",
       "</div>"
      ],
      "text/plain": [
       "                          cell_id               other_cell  similarity  \\\n",
       "59524377  J9-MAA001892-3_38_F-1-1  O2-MAA001454-3_38_F-1-1    0.053038   \n",
       "59524378  J9-MAA001892-3_38_F-1-1  F6-MAA000871-3_11_M-1-1    0.053920   \n",
       "59524379  O2-MAA001454-3_38_F-1-1  O2-MAA001454-3_38_F-1-1    1.000000   \n",
       "59524380  O2-MAA001454-3_38_F-1-1  F6-MAA000871-3_11_M-1-1    0.052045   \n",
       "59524381  F6-MAA000871-3_11_M-1-1  F6-MAA000871-3_11_M-1-1    1.000000   \n",
       "\n",
       "                                 experiment  \n",
       "59524377  trim=true_scaled=900_dna_ksize=21  \n",
       "59524378  trim=true_scaled=900_dna_ksize=21  \n",
       "59524379  trim=true_scaled=900_dna_ksize=21  \n",
       "59524380  trim=true_scaled=900_dna_ksize=21  \n",
       "59524381  trim=true_scaled=900_dna_ksize=21  "
      ]
     },
     "execution_count": 41,
     "metadata": {},
     "output_type": "execute_result"
    }
   ],
   "source": [
    "compare_results.tail()"
   ]
  },
  {
   "cell_type": "code",
   "execution_count": 42,
   "metadata": {},
   "outputs": [],
   "source": [
    "def combine_cell_ontology_free_annotation(row):\n",
    "    if pd.notnull(row['free_annotation']):\n",
    "        return '{cell_ontology_class} ({free_annotation})'.format(**row)\n",
    "    else:\n",
    "        return row['cell_ontology_class']"
   ]
  },
  {
   "cell_type": "code",
   "execution_count": 43,
   "metadata": {},
   "outputs": [
    {
     "name": "stdout",
     "output_type": "stream",
     "text": [
      "(1000, 5)\n"
     ]
    },
    {
     "data": {
      "text/html": [
       "<div>\n",
       "<style scoped>\n",
       "    .dataframe tbody tr th:only-of-type {\n",
       "        vertical-align: middle;\n",
       "    }\n",
       "\n",
       "    .dataframe tbody tr th {\n",
       "        vertical-align: top;\n",
       "    }\n",
       "\n",
       "    .dataframe thead th {\n",
       "        text-align: right;\n",
       "    }\n",
       "</style>\n",
       "<table border=\"1\" class=\"dataframe\">\n",
       "  <thead>\n",
       "    <tr style=\"text-align: right;\">\n",
       "      <th></th>\n",
       "      <th>tissue</th>\n",
       "      <th>subtissue</th>\n",
       "      <th>cell_ontology_class</th>\n",
       "      <th>free_annotation</th>\n",
       "      <th>cell_ontology_free_annotation</th>\n",
       "    </tr>\n",
       "    <tr>\n",
       "      <th>cell_id</th>\n",
       "      <th></th>\n",
       "      <th></th>\n",
       "      <th></th>\n",
       "      <th></th>\n",
       "      <th></th>\n",
       "    </tr>\n",
       "  </thead>\n",
       "  <tbody>\n",
       "    <tr>\n",
       "      <th>A1-B002427-3_39_F-1-1</th>\n",
       "      <td>Heart</td>\n",
       "      <td>LA</td>\n",
       "      <td>myofibroblast_cell</td>\n",
       "      <td>NA</td>\n",
       "      <td>myofibroblast_cell (NA)</td>\n",
       "    </tr>\n",
       "    <tr>\n",
       "      <th>A1-D041914-3_8_M-1-1</th>\n",
       "      <td>Bladder</td>\n",
       "      <td>NA</td>\n",
       "      <td>bladder_cell</td>\n",
       "      <td>Bladder_mesenchymal_cell</td>\n",
       "      <td>bladder_cell (Bladder_mesenchymal_cell)</td>\n",
       "    </tr>\n",
       "    <tr>\n",
       "      <th>A1-MAA000496-3_10_M-1-1</th>\n",
       "      <td>Trachea</td>\n",
       "      <td>NA</td>\n",
       "      <td>mesenchymal_cell</td>\n",
       "      <td>NA</td>\n",
       "      <td>mesenchymal_cell (NA)</td>\n",
       "    </tr>\n",
       "    <tr>\n",
       "      <th>A1-MAA000549-3_8_M-1-1</th>\n",
       "      <td>Skin</td>\n",
       "      <td>Anagen</td>\n",
       "      <td>epidermal_cell</td>\n",
       "      <td>Intermediate_IFE</td>\n",
       "      <td>epidermal_cell (Intermediate_IFE)</td>\n",
       "    </tr>\n",
       "    <tr>\n",
       "      <th>A1-MAA001869-3_38_F-1-1</th>\n",
       "      <td>Large_Intestine</td>\n",
       "      <td>Proximal</td>\n",
       "      <td>epithelial_cell_of_large_intestine</td>\n",
       "      <td>Lgr5-_amplifying_undifferentiated_cell</td>\n",
       "      <td>epithelial_cell_of_large_intestine (Lgr5-_ampl...</td>\n",
       "    </tr>\n",
       "  </tbody>\n",
       "</table>\n",
       "</div>"
      ],
      "text/plain": [
       "                                  tissue subtissue  \\\n",
       "cell_id                                              \n",
       "A1-B002427-3_39_F-1-1              Heart        LA   \n",
       "A1-D041914-3_8_M-1-1             Bladder        NA   \n",
       "A1-MAA000496-3_10_M-1-1          Trachea        NA   \n",
       "A1-MAA000549-3_8_M-1-1              Skin    Anagen   \n",
       "A1-MAA001869-3_38_F-1-1  Large_Intestine  Proximal   \n",
       "\n",
       "                                        cell_ontology_class  \\\n",
       "cell_id                                                       \n",
       "A1-B002427-3_39_F-1-1                    myofibroblast_cell   \n",
       "A1-D041914-3_8_M-1-1                           bladder_cell   \n",
       "A1-MAA000496-3_10_M-1-1                    mesenchymal_cell   \n",
       "A1-MAA000549-3_8_M-1-1                       epidermal_cell   \n",
       "A1-MAA001869-3_38_F-1-1  epithelial_cell_of_large_intestine   \n",
       "\n",
       "                                                free_annotation  \\\n",
       "cell_id                                                           \n",
       "A1-B002427-3_39_F-1-1                                        NA   \n",
       "A1-D041914-3_8_M-1-1                   Bladder_mesenchymal_cell   \n",
       "A1-MAA000496-3_10_M-1-1                                      NA   \n",
       "A1-MAA000549-3_8_M-1-1                         Intermediate_IFE   \n",
       "A1-MAA001869-3_38_F-1-1  Lgr5-_amplifying_undifferentiated_cell   \n",
       "\n",
       "                                             cell_ontology_free_annotation  \n",
       "cell_id                                                                     \n",
       "A1-B002427-3_39_F-1-1                              myofibroblast_cell (NA)  \n",
       "A1-D041914-3_8_M-1-1               bladder_cell (Bladder_mesenchymal_cell)  \n",
       "A1-MAA000496-3_10_M-1-1                              mesenchymal_cell (NA)  \n",
       "A1-MAA000549-3_8_M-1-1                   epidermal_cell (Intermediate_IFE)  \n",
       "A1-MAA001869-3_38_F-1-1  epithelial_cell_of_large_intestine (Lgr5-_ampl...  "
      ]
     },
     "execution_count": 43,
     "metadata": {},
     "output_type": "execute_result"
    }
   ],
   "source": [
    "# cell_metadata = pd.concat(metadatas)\n",
    "# print(cell_metadata.shape)\n",
    "# cell_metadata = cell_metadata.loc[~cell_metadata.index.duplicated()]\n",
    "cell_metadata = cell_metadata.sort_index()\n",
    "cell_metadata['cell_ontology_free_annotation'] = cell_metadata.apply(combine_cell_ontology_free_annotation, axis=1)\n",
    "print(cell_metadata.shape)\n",
    "cell_metadata.head()"
   ]
  },
  {
   "cell_type": "code",
   "execution_count": 44,
   "metadata": {},
   "outputs": [
    {
     "name": "stdout",
     "output_type": "stream",
     "text": [
      "(150, 4)\n"
     ]
    },
    {
     "data": {
      "text/html": [
       "<div>\n",
       "<style scoped>\n",
       "    .dataframe tbody tr th:only-of-type {\n",
       "        vertical-align: middle;\n",
       "    }\n",
       "\n",
       "    .dataframe tbody tr th {\n",
       "        vertical-align: top;\n",
       "    }\n",
       "\n",
       "    .dataframe thead th {\n",
       "        text-align: right;\n",
       "    }\n",
       "</style>\n",
       "<table border=\"1\" class=\"dataframe\">\n",
       "  <thead>\n",
       "    <tr style=\"text-align: right;\">\n",
       "      <th></th>\n",
       "      <th>comparison_sequence</th>\n",
       "      <th>ksize</th>\n",
       "      <th>scaled</th>\n",
       "      <th>trim</th>\n",
       "    </tr>\n",
       "  </thead>\n",
       "  <tbody>\n",
       "    <tr>\n",
       "      <th>trim=false_scaled=1000_dna_ksize=12</th>\n",
       "      <td>dna</td>\n",
       "      <td>12</td>\n",
       "      <td>1000</td>\n",
       "      <td>False</td>\n",
       "    </tr>\n",
       "    <tr>\n",
       "      <th>trim=false_scaled=1000_dna_ksize=15</th>\n",
       "      <td>dna</td>\n",
       "      <td>15</td>\n",
       "      <td>1000</td>\n",
       "      <td>False</td>\n",
       "    </tr>\n",
       "    <tr>\n",
       "      <th>trim=false_scaled=1000_dna_ksize=33</th>\n",
       "      <td>dna</td>\n",
       "      <td>33</td>\n",
       "      <td>1000</td>\n",
       "      <td>False</td>\n",
       "    </tr>\n",
       "    <tr>\n",
       "      <th>trim=false_scaled=1000_dna_ksize=42</th>\n",
       "      <td>dna</td>\n",
       "      <td>42</td>\n",
       "      <td>1000</td>\n",
       "      <td>False</td>\n",
       "    </tr>\n",
       "    <tr>\n",
       "      <th>trim=false_scaled=1000_dna_ksize=45</th>\n",
       "      <td>dna</td>\n",
       "      <td>45</td>\n",
       "      <td>1000</td>\n",
       "      <td>False</td>\n",
       "    </tr>\n",
       "  </tbody>\n",
       "</table>\n",
       "</div>"
      ],
      "text/plain": [
       "                                    comparison_sequence  ksize  scaled   trim\n",
       "trim=false_scaled=1000_dna_ksize=12                 dna     12    1000  False\n",
       "trim=false_scaled=1000_dna_ksize=15                 dna     15    1000  False\n",
       "trim=false_scaled=1000_dna_ksize=33                 dna     33    1000  False\n",
       "trim=false_scaled=1000_dna_ksize=42                 dna     42    1000  False\n",
       "trim=false_scaled=1000_dna_ksize=45                 dna     45    1000  False"
      ]
     },
     "execution_count": 44,
     "metadata": {},
     "output_type": "execute_result"
    }
   ],
   "source": [
    "experiment_metadata = pd.DataFrame(experiment_metadatas).T\n",
    "experiment_metadata['trim'] = experiment_metadata['trim'].map(lambda x: x == 'true')\n",
    "experiment_metadata['ksize'] = experiment_metadata['ksize'].astype(int)\n",
    "experiment_metadata['scaled'] = experiment_metadata['scaled'].astype(int)\n",
    "print(experiment_metadata.shape)\n",
    "experiment_metadata.head()"
   ]
  },
  {
   "cell_type": "code",
   "execution_count": 45,
   "metadata": {},
   "outputs": [
    {
     "data": {
      "text/plain": [
       "[200,\n",
       " 300,\n",
       " 400,\n",
       " 500,\n",
       " 600,\n",
       " 700,\n",
       " 800,\n",
       " 900,\n",
       " 1000,\n",
       " 1100,\n",
       " 1200,\n",
       " 1300,\n",
       " 1400,\n",
       " 1500,\n",
       " 1600,\n",
       " 1700,\n",
       " 1800,\n",
       " 1900,\n",
       " 2000,\n",
       " 2500,\n",
       " 3000,\n",
       " 3500,\n",
       " 4000,\n",
       " 4500,\n",
       " 5000]"
      ]
     },
     "execution_count": 45,
     "metadata": {},
     "output_type": "execute_result"
    }
   ],
   "source": [
    "sorted(experiment_metadata.scaled.unique())"
   ]
  },
  {
   "cell_type": "code",
   "execution_count": 46,
   "metadata": {},
   "outputs": [],
   "source": [
    "csv_prefix = 's3://olgabot-maca/facs/sourmash_compare_no_track_abundance_combined/'"
   ]
  },
  {
   "cell_type": "code",
   "execution_count": 47,
   "metadata": {},
   "outputs": [],
   "source": [
    "# with fs.open(f'{csv_prefix}experiment-metadata.csv', 'w') as f:\n",
    "#     experiment_metadata.to_csv(f)\n",
    "# # %time experiment_metadata.to_csv(f'{csv_prefix}experiment-metadata.csv')"
   ]
  },
  {
   "cell_type": "code",
   "execution_count": 48,
   "metadata": {},
   "outputs": [],
   "source": [
    "# pd.read_csv(f'{csv_prefix}experiment-metadata.csv').head()"
   ]
  },
  {
   "cell_type": "code",
   "execution_count": 49,
   "metadata": {},
   "outputs": [
    {
     "name": "stdout",
     "output_type": "stream",
     "text": [
      "Overwriting s3_utils.py\n"
     ]
    }
   ],
   "source": [
    "%%file s3_utils.py\n",
    "import s3fs\n",
    "\n",
    "def write_s3(df, filename, fmt='csv', **kwargs):\n",
    "    fs = s3fs.S3FileSystem(anon=False)\n",
    "    if fmt == 'csv':\n",
    "        # csv is a text format\n",
    "        with fs.open(filename, 'w') as f:\n",
    "            return df.to_csv(f, **kwargs)\n",
    "    elif fmt == 'parquet':\n",
    "        # Parquet is a binary format and needs the \"b\" flag\n",
    "        with fs.open(filename, 'wb') as f:\n",
    "            return df.to_parquet(f, **kwargs)\n",
    "        "
   ]
  },
  {
   "cell_type": "code",
   "execution_count": 50,
   "metadata": {},
   "outputs": [
    {
     "name": "stdout",
     "output_type": "stream",
     "text": [
      "CPU times: user 41.1 s, sys: 36.1 s, total: 1min 17s\n",
      "Wall time: 1min 23s\n"
     ]
    }
   ],
   "source": [
    "import s3fs\n",
    "\n",
    "fs = s3fs.S3FileSystem(anon=False)\n",
    "\n",
    "with fs.open(f'{csv_prefix}similarity.parquet', 'wb') as f:\n",
    "    %time compare_results.to_parquet(f)"
   ]
  },
  {
   "cell_type": "code",
   "execution_count": 51,
   "metadata": {},
   "outputs": [
    {
     "name": "stdout",
     "output_type": "stream",
     "text": [
      "CPU times: user 12 ms, sys: 0 ns, total: 12 ms\n",
      "Wall time: 80.8 ms\n",
      "CPU times: user 8 ms, sys: 0 ns, total: 8 ms\n",
      "Wall time: 69.2 ms\n"
     ]
    }
   ],
   "source": [
    "from s3_utils import write_s3\n",
    "\n",
    "%time write_s3(cell_metadata, f'{csv_prefix}cell-metadata.csv', 'csv')\n",
    "%time write_s3(experiment_metadata, f'{csv_prefix}experiment-metadata.csv', 'csv')\n"
   ]
  },
  {
   "cell_type": "code",
   "execution_count": 52,
   "metadata": {},
   "outputs": [
    {
     "name": "stdout",
     "output_type": "stream",
     "text": [
      "CPU times: user 5min 6s, sys: 6.62 s, total: 5min 13s\n",
      "Wall time: 10min 55s\n"
     ]
    }
   ],
   "source": [
    "%time write_s3(compare_results, f'{csv_prefix}similarity.csv', 'csv')\n"
   ]
  },
  {
   "cell_type": "code",
   "execution_count": 53,
   "metadata": {},
   "outputs": [
    {
     "name": "stdout",
     "output_type": "stream",
     "text": [
      "2018-09-23 16:03:11  334.5 MiB -similarity.parquet\r\n",
      "2018-09-23 17:36:09  102.3 KiB cell-metadata.csv\r\n",
      "2018-09-23 17:36:09    7.7 KiB experiment-metadata.csv\r\n",
      "2018-09-23 17:36:09    6.1 GiB similarity.csv\r\n",
      "2018-09-23 17:35:32  649.8 MiB similarity.parquet\r\n"
     ]
    }
   ],
   "source": [
    "! aws s3 ls --human-readable $csv_prefix"
   ]
  },
  {
   "cell_type": "code",
   "execution_count": null,
   "metadata": {},
   "outputs": [],
   "source": [
    "# write_s3(compare_results, f'{csv_prefix}-similarity.parquet', 'parquet')"
   ]
  },
  {
   "cell_type": "code",
   "execution_count": null,
   "metadata": {},
   "outputs": [],
   "source": [
    "# with fs.open(f'{csv_prefix}cell-metadata.csv', 'w') as f:\n",
    "#     cell_metadata.to_csv(f)"
   ]
  },
  {
   "cell_type": "code",
   "execution_count": null,
   "metadata": {},
   "outputs": [],
   "source": [
    "# with fs.open(f'{csv_prefix}similarity.csv', 'w') as f:\n",
    "#     %time compare_results.to_csv(f, index=False)"
   ]
  },
  {
   "cell_type": "code",
   "execution_count": 1,
   "metadata": {},
   "outputs": [
    {
     "name": "stdout",
     "output_type": "stream",
     "text": [
      "-rwxrwxr-x 1 olga olga 4.3M Jul 16 09:03 \u001b[0m\u001b[01;32m000_tabula-muris_reflow_fastqs.ipynb\u001b[0m*\r\n",
      "-rwxrwxr-x 1 olga olga 170K Aug  7 13:01 \u001b[01;32m004_ashley_cancer_fastq.ipynb\u001b[0m*\r\n",
      "-rwxrwxr-x 1 olga olga 116K Jul 16 09:03 \u001b[01;32m005_why_did_some_reflow_runs_fail.ipynb\u001b[0m*\r\n",
      "-rw-rw-r-- 1 olga olga 138K Jul 27 12:27 006_tabula-muris_reflow_fastqs_v5.ipynb\r\n",
      "-rw-rw-r-- 1 olga olga  67K Jul 27 12:27 006_tabula-muris_reflow_fastqs_v6.ipynb\r\n",
      "-rwxrwxr-x 1 olga olga  43K Sep 19 10:59 \u001b[01;32m007_reflow_runbatch_compare.ipynb\u001b[0m*\r\n",
      "-rw-rw-r-- 1 olga olga  17K Sep 19 09:25 008_ashley_cancer_compute_v2.ipynb\r\n",
      "-rw-rw-r-- 1 olga olga  15K Sep 20 12:21 009_ashley_cancer_compare.ipynb\r\n",
      "-rw-rw-r-- 1 olga olga 1.3M Aug  2 14:49 010_sourmash_compare_analysis.ipynb\r\n",
      "-rw-rw-r-- 1 olga olga 303K Aug 14 12:15 011_kmers_in_single_bladder_cell_vs_gencode_transcripts.ipynb\r\n",
      "-rw-rw-r-- 1 olga olga 6.0M Aug 14 12:15 012_sourmash_compare_csv_scale1200_k15.ipynb\r\n",
      "-rw-rw-r-- 1 olga olga 1.6M Sep 21 15:08 013_read_all_tabula_muris_sourmash_compare_csvs.ipynb\r\n",
      "-rw-rw-r-- 1 olga olga 5.2M Aug 14 12:15 014_compare_tabula_muris_kmer_distances_to_gene_counts.ipynb\r\n",
      "-rw-rw-r-- 1 olga olga 2.8M Sep 19 10:59 015_compare_cell-cell_distances_with_different_ksizes.ipynb\r\n",
      "-rw-rw-r-- 1 olga olga  34K Sep 19 09:25 016_run_sourmash_compute_on_all_maca_samples.ipynb\r\n",
      "-rw-rw-r-- 1 olga olga  31K Sep 19 09:25 017_sourmash_index_tabula_muris.ipynb\r\n",
      "-rw-rw-r-- 1 olga olga 255K Sep 20 12:21 018_sourmash_index_1000cell_tabula_muris.ipynb\r\n",
      "-rw-rw-r-- 1 olga olga 102K Sep 23 15:31 019_parse_sourmash_compute_logs_for_cpu_mem_time_profiles.ipynb\r\n",
      "-rw-rw-r-- 1 olga olga 342K Aug 14 12:15 020_sourmash_index_transcriptome.ipynb\r\n",
      "-rw-rw-r-- 1 olga olga 517K Sep 19 10:59 021_sourmash_compare_b_cells.ipynb\r\n",
      "-rw-rw-r-- 1 olga olga  40K Sep 21 14:24 022_read_tabula_muris_compare_ignore_abundance.ipynb\r\n",
      "-rw-rw-r-- 1 olga olga  70K Sep 20 19:51 024_reflow_ashley_cancer_search_tabula_muris.ipynb\r\n",
      "-rw-rw-r-- 1 olga olga 201K Sep 20 19:51 025_read_ashley_cancer_search_tabula_muris.ipynb\r\n",
      "-rw-rw-r-- 1 olga olga 3.1M Sep 20 19:32 027_analyze_tabula_muris_compare_ignore_abundance.ipynb\r\n",
      "-rw-rw-r-- 1 olga olga  12M Aug 14 12:15 030_lung_cancer_scanpy.ipynb\r\n",
      "-rw-rw-r-- 1 olga olga 2.9M Aug 14 12:15 031_lung_cancer_sourmash_compare.ipynb\r\n",
      "-rw-rw-r-- 1 olga olga 3.2K Aug 14 12:15 040_test_sourmash_translate.ipynb\r\n",
      "-rw-rw-r-- 1 olga olga  42K Sep 20 19:32 050_run_sourmash_on_10x_lung.ipynb\r\n",
      "-rw-rw-r-- 1 olga olga  87K Sep 19 11:00 051_run_search_bladder_cell_within_tabula_muris.ipynb\r\n",
      "-rw-rw-r-- 1 olga olga 4.1M Sep 19 10:59 051_tabula_muris_protein_signatures_on_lung_cancer.ipynb\r\n",
      "-rw-rw-r-- 1 olga olga  28K Sep 20 19:32 052_reflow_search_maybe_ignore_abundance.ipynb\r\n",
      "-rw-rw-r-- 1 olga olga 395K Sep 20 19:32 053_analyze_search_bladder_cell_within_tabula_muris.ipynb\r\n",
      "-rw-rw-r-- 1 olga olga  824 Sep 20 19:32 aws_s3_ls_sourmash_search.txt\r\n",
      "-rw-rw-r-- 1 olga olga 4.4K Sep 21 11:33 aws_s3_ls_tabula_muris_compare_no_track_abundance.txt\r\n",
      "-rw-rw-r-- 1 olga olga  72K Sep 21 14:12 aws_s3_ls_tabula_muris_compare.txt\r\n",
      "-rw-rw-r-- 1 olga olga  806 Sep 20 19:32 extract_metadata.py\r\n",
      "-rw-rw-r-- 1 olga olga 1.6K Sep 20 19:51 lung_cancer_sourmash_search.txt\r\n",
      "-rw-rw-r-- 1 olga olga  440 Sep 19 11:00 sourmash_databases.txt\r\n",
      "-rw-rw-r-- 1 olga olga   72 Sep 20 12:21 Untitled.ipynb\r\n"
     ]
    }
   ],
   "source": [
    "# ls -lha $csv_prefix*"
   ]
  },
  {
   "cell_type": "code",
   "execution_count": null,
   "metadata": {},
   "outputs": [],
   "source": []
  }
 ],
 "metadata": {
  "kernelspec": {
   "display_name": "Python 3",
   "language": "python",
   "name": "python3"
  },
  "language_info": {
   "codemirror_mode": {
    "name": "ipython",
    "version": 3
   },
   "file_extension": ".py",
   "mimetype": "text/x-python",
   "name": "python",
   "nbconvert_exporter": "python",
   "pygments_lexer": "ipython3",
   "version": "3.6.5"
  }
 },
 "nbformat": 4,
 "nbformat_minor": 2
}
