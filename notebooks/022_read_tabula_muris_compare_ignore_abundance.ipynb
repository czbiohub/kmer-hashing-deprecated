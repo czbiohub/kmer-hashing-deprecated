{
 "cells": [
  {
   "cell_type": "code",
   "execution_count": 4,
   "metadata": {},
   "outputs": [],
   "source": [
    "import glob\n",
    "import os\n",
    "\n",
    "\n",
    "# Reminder to install s3fs to read files from aws\n",
    "import s3fs\n",
    "\n",
    "# import altair as alt\n",
    "import matplotlib.pyplot as plt\n",
    "import numpy as np\n",
    "import pandas as pd\n",
    "# import xarray as xr\n",
    "\n",
    "import seaborn as sns\n",
    "\n",
    "# import scanpy.api as sc\n",
    "\n",
    "# import holoviews as hv\n",
    "# hv.extension('bokeh')\n",
    "# hv.archive.auto()\n",
    "\n",
    "%matplotlib inline"
   ]
  },
  {
   "cell_type": "code",
   "execution_count": 5,
   "metadata": {},
   "outputs": [],
   "source": [
    "prefix = 's3://olgabot-maca/facs/sourmash_compare_no_track_abundance/'\n",
    "txt = 'aws_s3_ls_tabula_muris_compare_no_track_abundance.txt'"
   ]
  },
  {
   "cell_type": "code",
   "execution_count": 6,
   "metadata": {},
   "outputs": [],
   "source": [
    "! aws s3 ls $prefix > $txt"
   ]
  },
  {
   "cell_type": "code",
   "execution_count": 7,
   "metadata": {},
   "outputs": [
    {
     "name": "stdout",
     "output_type": "stream",
     "text": [
      "(910, 4)\n"
     ]
    },
    {
     "data": {
      "text/html": [
       "<div>\n",
       "<style scoped>\n",
       "    .dataframe tbody tr th:only-of-type {\n",
       "        vertical-align: middle;\n",
       "    }\n",
       "\n",
       "    .dataframe tbody tr th {\n",
       "        vertical-align: top;\n",
       "    }\n",
       "\n",
       "    .dataframe thead th {\n",
       "        text-align: right;\n",
       "    }\n",
       "</style>\n",
       "<table border=\"1\" class=\"dataframe\">\n",
       "  <thead>\n",
       "    <tr style=\"text-align: right;\">\n",
       "      <th></th>\n",
       "      <th>date</th>\n",
       "      <th>time</th>\n",
       "      <th>bytes</th>\n",
       "      <th>basename</th>\n",
       "    </tr>\n",
       "  </thead>\n",
       "  <tbody>\n",
       "    <tr>\n",
       "      <th>0</th>\n",
       "      <td>2018-09-23</td>\n",
       "      <td>16:46:50</td>\n",
       "      <td>19045449</td>\n",
       "      <td>trim=false_scaled=1000_dna_ksize=12.csv</td>\n",
       "    </tr>\n",
       "    <tr>\n",
       "      <th>1</th>\n",
       "      <td>2018-09-24</td>\n",
       "      <td>12:18:09</td>\n",
       "      <td>19873413</td>\n",
       "      <td>trim=false_scaled=1000_dna_ksize=15.csv</td>\n",
       "    </tr>\n",
       "    <tr>\n",
       "      <th>2</th>\n",
       "      <td>2018-09-24</td>\n",
       "      <td>00:00:49</td>\n",
       "      <td>20133019</td>\n",
       "      <td>trim=false_scaled=1000_dna_ksize=18.csv</td>\n",
       "    </tr>\n",
       "    <tr>\n",
       "      <th>3</th>\n",
       "      <td>2018-09-24</td>\n",
       "      <td>01:43:50</td>\n",
       "      <td>10499576</td>\n",
       "      <td>trim=false_scaled=1000_dna_ksize=21.csv</td>\n",
       "    </tr>\n",
       "    <tr>\n",
       "      <th>4</th>\n",
       "      <td>2018-09-24</td>\n",
       "      <td>03:23:29</td>\n",
       "      <td>20258815</td>\n",
       "      <td>trim=false_scaled=1000_dna_ksize=24.csv</td>\n",
       "    </tr>\n",
       "  </tbody>\n",
       "</table>\n",
       "</div>"
      ],
      "text/plain": [
       "         date      time     bytes                                 basename\n",
       "0  2018-09-23  16:46:50  19045449  trim=false_scaled=1000_dna_ksize=12.csv\n",
       "1  2018-09-24  12:18:09  19873413  trim=false_scaled=1000_dna_ksize=15.csv\n",
       "2  2018-09-24  00:00:49  20133019  trim=false_scaled=1000_dna_ksize=18.csv\n",
       "3  2018-09-24  01:43:50  10499576  trim=false_scaled=1000_dna_ksize=21.csv\n",
       "4  2018-09-24  03:23:29  20258815  trim=false_scaled=1000_dna_ksize=24.csv"
      ]
     },
     "execution_count": 7,
     "metadata": {},
     "output_type": "execute_result"
    }
   ],
   "source": [
    "aws_s3_ls = pd.read_table(txt, delim_whitespace=True, header=None, \n",
    "                          names=['date', 'time', 'bytes', 'basename'])\n",
    "print(aws_s3_ls.shape)\n",
    "aws_s3_ls.head()"
   ]
  },
  {
   "cell_type": "code",
   "execution_count": null,
   "metadata": {},
   "outputs": [],
   "source": [
    "aws_s3_ls.tail()"
   ]
  },
  {
   "cell_type": "code",
   "execution_count": 8,
   "metadata": {},
   "outputs": [],
   "source": [
    "from tqdm import tqdm"
   ]
  },
  {
   "cell_type": "code",
   "execution_count": 9,
   "metadata": {},
   "outputs": [
    {
     "name": "stderr",
     "output_type": "stream",
     "text": [
      "  0%|          | 1/910 [00:02<30:43,  2.03s/it]"
     ]
    },
    {
     "name": "stdout",
     "output_type": "stream",
     "text": [
      "\tcell_metadata.shape, (997, 4)\n"
     ]
    },
    {
     "name": "stderr",
     "output_type": "stream",
     "text": [
      "  2%|▏         | 21/910 [00:35<24:43,  1.67s/it]"
     ]
    },
    {
     "name": "stdout",
     "output_type": "stream",
     "text": [
      "\tcell_metadata.shape, (1000, 4)\n"
     ]
    },
    {
     "name": "stderr",
     "output_type": "stream",
     "text": [
      "100%|██████████| 910/910 [26:45<00:00,  1.76s/it]\n"
     ]
    }
   ],
   "source": [
    "\n",
    "def extract_cell_metadata(columns):\n",
    "    cell_metadata = pd.Series(columns).str.split('|', expand=True)\n",
    "#     cell_metadata.index = columns\n",
    "    cell_metadata.columns = ['cell_id', 'tissue', \n",
    "                             'subtissue', 'cell_ontology_class', \n",
    "                             'free_annotation']\n",
    "    cell_metadata = cell_metadata.set_index('cell_id')\n",
    "    cell_metadata.index.name = 'cell_id'\n",
    "    cell_metadata = cell_metadata.applymap(lambda x: x.split(':')[-1])\n",
    "#     print('\\tcell_metadata.shape', cell_metadata.shape)\n",
    "#     cell_metadata = cell_metadata.sort_index()\n",
    "#     cell_metadata.head()\n",
    "    return cell_metadata\n",
    "\n",
    "\n",
    "\n",
    "dfs = {}\n",
    "\n",
    "metadatas = []\n",
    "\n",
    "def to_key_value_pair(attribute):\n",
    "    if len(attribute) > 1:\n",
    "        try:\n",
    "            return attribute[0], int(attribute[1])\n",
    "        except ValueError:\n",
    "            return attribute[0], attribute[1] \n",
    "    else:\n",
    "        return 'comparison_sequence', attribute[0]\n",
    "\n",
    "\n",
    "\n",
    "def extract_experiment_metadata(basename):\n",
    "    key = basename.split('.csv')[0]\n",
    "    split = key.split('_')\n",
    "    attributes = [x.split('=') for x in split]\n",
    "    attributes = dict(to_key_value_pair(x) for x in attributes)\n",
    "    return key, attributes\n",
    "\n",
    "\n",
    "experiment_metadatas = {}\n",
    "\n",
    "cell_metadata = pd.DataFrame()\n",
    "\n",
    "max_cells = 1000\n",
    "tidy_dfs = []\n",
    "\n",
    "for basename in tqdm(aws_s3_ls['basename']):\n",
    "    csv = f'{prefix}{basename}'\n",
    "    df = pd.read_csv(csv)\n",
    "#     aprint(f'{basename}\\tdf.shape: {df.shape}')\n",
    "    \n",
    "    key, attributes = extract_experiment_metadata(basename)\n",
    "    experiment_metadatas[key] = attributes\n",
    "\n",
    "    metadata = extract_cell_metadata(df.columns)\n",
    "    \n",
    "    mask = np.triu(np.ones(df.shape)).astype(np.bool)\n",
    "\n",
    "    df.index = metadata.index.copy()\n",
    "    df.columns = metadata.index.copy()\n",
    "    \n",
    "    df = df.where(mask)\n",
    "    df.index.name = 'cell_id'\n",
    "    df.columns.name = 'other_cell'\n",
    "    tidy = df.stack().reset_index()\n",
    "    tidy['experiment'] = key\n",
    "#     tidy = tidy.rename(columns={'level_0': 'cell_id', 'level_1': 'other_cell'})\n",
    "        \n",
    "    tidy_dfs.append(tidy)\n",
    "\n",
    "    # Add new cells to metadata\n",
    "    if len(df.index.difference(cell_metadata.index)) > 0:\n",
    "        cell_metadata = cell_metadata.append(metadata)\n",
    "        cell_metadata = cell_metadata.loc[~cell_metadata.index.duplicated()]\n",
    "        print(f'\\tcell_metadata.shape, {cell_metadata.shape}')\n",
    "\n"
   ]
  },
  {
   "cell_type": "code",
   "execution_count": 10,
   "metadata": {},
   "outputs": [
    {
     "name": "stdout",
     "output_type": "stream",
     "text": [
      "(338632046, 4)\n"
     ]
    },
    {
     "data": {
      "text/html": [
       "<div>\n",
       "<style scoped>\n",
       "    .dataframe tbody tr th:only-of-type {\n",
       "        vertical-align: middle;\n",
       "    }\n",
       "\n",
       "    .dataframe tbody tr th {\n",
       "        vertical-align: top;\n",
       "    }\n",
       "\n",
       "    .dataframe thead th {\n",
       "        text-align: right;\n",
       "    }\n",
       "</style>\n",
       "<table border=\"1\" class=\"dataframe\">\n",
       "  <thead>\n",
       "    <tr style=\"text-align: right;\">\n",
       "      <th></th>\n",
       "      <th>cell_id</th>\n",
       "      <th>other_cell</th>\n",
       "      <th>similarity</th>\n",
       "      <th>experiment</th>\n",
       "    </tr>\n",
       "  </thead>\n",
       "  <tbody>\n",
       "    <tr>\n",
       "      <th>0</th>\n",
       "      <td>B22-MAA000871-3_11_M-1-1</td>\n",
       "      <td>B22-MAA000871-3_11_M-1-1</td>\n",
       "      <td>1.000000</td>\n",
       "      <td>trim=false_scaled=1000_dna_ksize=12</td>\n",
       "    </tr>\n",
       "    <tr>\n",
       "      <th>1</th>\n",
       "      <td>B22-MAA000871-3_11_M-1-1</td>\n",
       "      <td>L11-MAA000586-3_8_M-1-1</td>\n",
       "      <td>0.398906</td>\n",
       "      <td>trim=false_scaled=1000_dna_ksize=12</td>\n",
       "    </tr>\n",
       "    <tr>\n",
       "      <th>2</th>\n",
       "      <td>B22-MAA000871-3_11_M-1-1</td>\n",
       "      <td>O20-MAA001632-3_56_F-1-1</td>\n",
       "      <td>0.407873</td>\n",
       "      <td>trim=false_scaled=1000_dna_ksize=12</td>\n",
       "    </tr>\n",
       "    <tr>\n",
       "      <th>3</th>\n",
       "      <td>B22-MAA000871-3_11_M-1-1</td>\n",
       "      <td>D2-MAA000452-3_8_M-1-1</td>\n",
       "      <td>0.386677</td>\n",
       "      <td>trim=false_scaled=1000_dna_ksize=12</td>\n",
       "    </tr>\n",
       "    <tr>\n",
       "      <th>4</th>\n",
       "      <td>B22-MAA000871-3_11_M-1-1</td>\n",
       "      <td>P1-D042473-3_10_M-1-1</td>\n",
       "      <td>0.384180</td>\n",
       "      <td>trim=false_scaled=1000_dna_ksize=12</td>\n",
       "    </tr>\n",
       "  </tbody>\n",
       "</table>\n",
       "</div>"
      ],
      "text/plain": [
       "                    cell_id                other_cell  similarity  \\\n",
       "0  B22-MAA000871-3_11_M-1-1  B22-MAA000871-3_11_M-1-1    1.000000   \n",
       "1  B22-MAA000871-3_11_M-1-1   L11-MAA000586-3_8_M-1-1    0.398906   \n",
       "2  B22-MAA000871-3_11_M-1-1  O20-MAA001632-3_56_F-1-1    0.407873   \n",
       "3  B22-MAA000871-3_11_M-1-1    D2-MAA000452-3_8_M-1-1    0.386677   \n",
       "4  B22-MAA000871-3_11_M-1-1     P1-D042473-3_10_M-1-1    0.384180   \n",
       "\n",
       "                            experiment  \n",
       "0  trim=false_scaled=1000_dna_ksize=12  \n",
       "1  trim=false_scaled=1000_dna_ksize=12  \n",
       "2  trim=false_scaled=1000_dna_ksize=12  \n",
       "3  trim=false_scaled=1000_dna_ksize=12  \n",
       "4  trim=false_scaled=1000_dna_ksize=12  "
      ]
     },
     "execution_count": 10,
     "metadata": {},
     "output_type": "execute_result"
    }
   ],
   "source": [
    "compare_results = pd.concat(tidy_dfs, ignore_index=True)\n",
    "compare_results = compare_results.rename(columns={0: 'similarity'})\n",
    "print(compare_results.shape)\n",
    "compare_results.head()"
   ]
  },
  {
   "cell_type": "code",
   "execution_count": 11,
   "metadata": {},
   "outputs": [
    {
     "data": {
      "text/html": [
       "<div>\n",
       "<style scoped>\n",
       "    .dataframe tbody tr th:only-of-type {\n",
       "        vertical-align: middle;\n",
       "    }\n",
       "\n",
       "    .dataframe tbody tr th {\n",
       "        vertical-align: top;\n",
       "    }\n",
       "\n",
       "    .dataframe thead th {\n",
       "        text-align: right;\n",
       "    }\n",
       "</style>\n",
       "<table border=\"1\" class=\"dataframe\">\n",
       "  <thead>\n",
       "    <tr style=\"text-align: right;\">\n",
       "      <th></th>\n",
       "      <th>cell_id</th>\n",
       "      <th>other_cell</th>\n",
       "      <th>similarity</th>\n",
       "      <th>experiment</th>\n",
       "    </tr>\n",
       "  </thead>\n",
       "  <tbody>\n",
       "    <tr>\n",
       "      <th>338632041</th>\n",
       "      <td>L16-MAA000913-3_9_M-1-1</td>\n",
       "      <td>A12-MAA000388-3_11_M-1-1</td>\n",
       "      <td>1.0</td>\n",
       "      <td>trim=true_scaled=900_dna_ksize=9</td>\n",
       "    </tr>\n",
       "    <tr>\n",
       "      <th>338632042</th>\n",
       "      <td>L16-MAA000913-3_9_M-1-1</td>\n",
       "      <td>N6-B002423-3_39_F-1-1</td>\n",
       "      <td>1.0</td>\n",
       "      <td>trim=true_scaled=900_dna_ksize=9</td>\n",
       "    </tr>\n",
       "    <tr>\n",
       "      <th>338632043</th>\n",
       "      <td>A12-MAA000388-3_11_M-1-1</td>\n",
       "      <td>A12-MAA000388-3_11_M-1-1</td>\n",
       "      <td>1.0</td>\n",
       "      <td>trim=true_scaled=900_dna_ksize=9</td>\n",
       "    </tr>\n",
       "    <tr>\n",
       "      <th>338632044</th>\n",
       "      <td>A12-MAA000388-3_11_M-1-1</td>\n",
       "      <td>N6-B002423-3_39_F-1-1</td>\n",
       "      <td>1.0</td>\n",
       "      <td>trim=true_scaled=900_dna_ksize=9</td>\n",
       "    </tr>\n",
       "    <tr>\n",
       "      <th>338632045</th>\n",
       "      <td>N6-B002423-3_39_F-1-1</td>\n",
       "      <td>N6-B002423-3_39_F-1-1</td>\n",
       "      <td>1.0</td>\n",
       "      <td>trim=true_scaled=900_dna_ksize=9</td>\n",
       "    </tr>\n",
       "  </tbody>\n",
       "</table>\n",
       "</div>"
      ],
      "text/plain": [
       "                            cell_id                other_cell  similarity  \\\n",
       "338632041   L16-MAA000913-3_9_M-1-1  A12-MAA000388-3_11_M-1-1         1.0   \n",
       "338632042   L16-MAA000913-3_9_M-1-1     N6-B002423-3_39_F-1-1         1.0   \n",
       "338632043  A12-MAA000388-3_11_M-1-1  A12-MAA000388-3_11_M-1-1         1.0   \n",
       "338632044  A12-MAA000388-3_11_M-1-1     N6-B002423-3_39_F-1-1         1.0   \n",
       "338632045     N6-B002423-3_39_F-1-1     N6-B002423-3_39_F-1-1         1.0   \n",
       "\n",
       "                                 experiment  \n",
       "338632041  trim=true_scaled=900_dna_ksize=9  \n",
       "338632042  trim=true_scaled=900_dna_ksize=9  \n",
       "338632043  trim=true_scaled=900_dna_ksize=9  \n",
       "338632044  trim=true_scaled=900_dna_ksize=9  \n",
       "338632045  trim=true_scaled=900_dna_ksize=9  "
      ]
     },
     "execution_count": 11,
     "metadata": {},
     "output_type": "execute_result"
    }
   ],
   "source": [
    "compare_results.tail()"
   ]
  },
  {
   "cell_type": "code",
   "execution_count": 12,
   "metadata": {},
   "outputs": [],
   "source": [
    "def combine_cell_ontology_free_annotation(row):\n",
    "    if pd.notnull(row['free_annotation']):\n",
    "        return '{cell_ontology_class} ({free_annotation})'.format(**row)\n",
    "    else:\n",
    "        return row['cell_ontology_class']"
   ]
  },
  {
   "cell_type": "code",
   "execution_count": 13,
   "metadata": {},
   "outputs": [
    {
     "name": "stdout",
     "output_type": "stream",
     "text": [
      "(1000, 5)\n"
     ]
    },
    {
     "data": {
      "text/html": [
       "<div>\n",
       "<style scoped>\n",
       "    .dataframe tbody tr th:only-of-type {\n",
       "        vertical-align: middle;\n",
       "    }\n",
       "\n",
       "    .dataframe tbody tr th {\n",
       "        vertical-align: top;\n",
       "    }\n",
       "\n",
       "    .dataframe thead th {\n",
       "        text-align: right;\n",
       "    }\n",
       "</style>\n",
       "<table border=\"1\" class=\"dataframe\">\n",
       "  <thead>\n",
       "    <tr style=\"text-align: right;\">\n",
       "      <th></th>\n",
       "      <th>tissue</th>\n",
       "      <th>subtissue</th>\n",
       "      <th>cell_ontology_class</th>\n",
       "      <th>free_annotation</th>\n",
       "      <th>cell_ontology_free_annotation</th>\n",
       "    </tr>\n",
       "    <tr>\n",
       "      <th>cell_id</th>\n",
       "      <th></th>\n",
       "      <th></th>\n",
       "      <th></th>\n",
       "      <th></th>\n",
       "      <th></th>\n",
       "    </tr>\n",
       "  </thead>\n",
       "  <tbody>\n",
       "    <tr>\n",
       "      <th>A1-B002427-3_39_F-1-1</th>\n",
       "      <td>Heart</td>\n",
       "      <td>LA</td>\n",
       "      <td>myofibroblast_cell</td>\n",
       "      <td>NA</td>\n",
       "      <td>myofibroblast_cell (NA)</td>\n",
       "    </tr>\n",
       "    <tr>\n",
       "      <th>A1-D041914-3_8_M-1-1</th>\n",
       "      <td>Bladder</td>\n",
       "      <td>NA</td>\n",
       "      <td>bladder_cell</td>\n",
       "      <td>Bladder_mesenchymal_cell</td>\n",
       "      <td>bladder_cell (Bladder_mesenchymal_cell)</td>\n",
       "    </tr>\n",
       "    <tr>\n",
       "      <th>A1-MAA000496-3_10_M-1-1</th>\n",
       "      <td>Trachea</td>\n",
       "      <td>NA</td>\n",
       "      <td>mesenchymal_cell</td>\n",
       "      <td>NA</td>\n",
       "      <td>mesenchymal_cell (NA)</td>\n",
       "    </tr>\n",
       "    <tr>\n",
       "      <th>A1-MAA000549-3_8_M-1-1</th>\n",
       "      <td>Skin</td>\n",
       "      <td>Anagen</td>\n",
       "      <td>epidermal_cell</td>\n",
       "      <td>Intermediate_IFE</td>\n",
       "      <td>epidermal_cell (Intermediate_IFE)</td>\n",
       "    </tr>\n",
       "    <tr>\n",
       "      <th>A1-MAA001869-3_38_F-1-1</th>\n",
       "      <td>Large_Intestine</td>\n",
       "      <td>Proximal</td>\n",
       "      <td>epithelial_cell_of_large_intestine</td>\n",
       "      <td>Lgr5-_amplifying_undifferentiated_cell</td>\n",
       "      <td>epithelial_cell_of_large_intestine (Lgr5-_ampl...</td>\n",
       "    </tr>\n",
       "  </tbody>\n",
       "</table>\n",
       "</div>"
      ],
      "text/plain": [
       "                                  tissue subtissue  \\\n",
       "cell_id                                              \n",
       "A1-B002427-3_39_F-1-1              Heart        LA   \n",
       "A1-D041914-3_8_M-1-1             Bladder        NA   \n",
       "A1-MAA000496-3_10_M-1-1          Trachea        NA   \n",
       "A1-MAA000549-3_8_M-1-1              Skin    Anagen   \n",
       "A1-MAA001869-3_38_F-1-1  Large_Intestine  Proximal   \n",
       "\n",
       "                                        cell_ontology_class  \\\n",
       "cell_id                                                       \n",
       "A1-B002427-3_39_F-1-1                    myofibroblast_cell   \n",
       "A1-D041914-3_8_M-1-1                           bladder_cell   \n",
       "A1-MAA000496-3_10_M-1-1                    mesenchymal_cell   \n",
       "A1-MAA000549-3_8_M-1-1                       epidermal_cell   \n",
       "A1-MAA001869-3_38_F-1-1  epithelial_cell_of_large_intestine   \n",
       "\n",
       "                                                free_annotation  \\\n",
       "cell_id                                                           \n",
       "A1-B002427-3_39_F-1-1                                        NA   \n",
       "A1-D041914-3_8_M-1-1                   Bladder_mesenchymal_cell   \n",
       "A1-MAA000496-3_10_M-1-1                                      NA   \n",
       "A1-MAA000549-3_8_M-1-1                         Intermediate_IFE   \n",
       "A1-MAA001869-3_38_F-1-1  Lgr5-_amplifying_undifferentiated_cell   \n",
       "\n",
       "                                             cell_ontology_free_annotation  \n",
       "cell_id                                                                     \n",
       "A1-B002427-3_39_F-1-1                              myofibroblast_cell (NA)  \n",
       "A1-D041914-3_8_M-1-1               bladder_cell (Bladder_mesenchymal_cell)  \n",
       "A1-MAA000496-3_10_M-1-1                              mesenchymal_cell (NA)  \n",
       "A1-MAA000549-3_8_M-1-1                   epidermal_cell (Intermediate_IFE)  \n",
       "A1-MAA001869-3_38_F-1-1  epithelial_cell_of_large_intestine (Lgr5-_ampl...  "
      ]
     },
     "execution_count": 13,
     "metadata": {},
     "output_type": "execute_result"
    }
   ],
   "source": [
    "# cell_metadata = pd.concat(metadatas)\n",
    "# print(cell_metadata.shape)\n",
    "# cell_metadata = cell_metadata.loc[~cell_metadata.index.duplicated()]\n",
    "cell_metadata = cell_metadata.sort_index()\n",
    "cell_metadata['cell_ontology_free_annotation'] = cell_metadata.apply(combine_cell_ontology_free_annotation, axis=1)\n",
    "print(cell_metadata.shape)\n",
    "cell_metadata.head()"
   ]
  },
  {
   "cell_type": "code",
   "execution_count": 14,
   "metadata": {},
   "outputs": [
    {
     "name": "stdout",
     "output_type": "stream",
     "text": [
      "(910, 4)\n"
     ]
    },
    {
     "data": {
      "text/html": [
       "<div>\n",
       "<style scoped>\n",
       "    .dataframe tbody tr th:only-of-type {\n",
       "        vertical-align: middle;\n",
       "    }\n",
       "\n",
       "    .dataframe tbody tr th {\n",
       "        vertical-align: top;\n",
       "    }\n",
       "\n",
       "    .dataframe thead th {\n",
       "        text-align: right;\n",
       "    }\n",
       "</style>\n",
       "<table border=\"1\" class=\"dataframe\">\n",
       "  <thead>\n",
       "    <tr style=\"text-align: right;\">\n",
       "      <th></th>\n",
       "      <th>comparison_sequence</th>\n",
       "      <th>ksize</th>\n",
       "      <th>scaled</th>\n",
       "      <th>trim</th>\n",
       "    </tr>\n",
       "  </thead>\n",
       "  <tbody>\n",
       "    <tr>\n",
       "      <th>trim=false_scaled=1000_dna_ksize=12</th>\n",
       "      <td>dna</td>\n",
       "      <td>12</td>\n",
       "      <td>1000</td>\n",
       "      <td>False</td>\n",
       "    </tr>\n",
       "    <tr>\n",
       "      <th>trim=false_scaled=1000_dna_ksize=15</th>\n",
       "      <td>dna</td>\n",
       "      <td>15</td>\n",
       "      <td>1000</td>\n",
       "      <td>False</td>\n",
       "    </tr>\n",
       "    <tr>\n",
       "      <th>trim=false_scaled=1000_dna_ksize=18</th>\n",
       "      <td>dna</td>\n",
       "      <td>18</td>\n",
       "      <td>1000</td>\n",
       "      <td>False</td>\n",
       "    </tr>\n",
       "    <tr>\n",
       "      <th>trim=false_scaled=1000_dna_ksize=21</th>\n",
       "      <td>dna</td>\n",
       "      <td>21</td>\n",
       "      <td>1000</td>\n",
       "      <td>False</td>\n",
       "    </tr>\n",
       "    <tr>\n",
       "      <th>trim=false_scaled=1000_dna_ksize=24</th>\n",
       "      <td>dna</td>\n",
       "      <td>24</td>\n",
       "      <td>1000</td>\n",
       "      <td>False</td>\n",
       "    </tr>\n",
       "  </tbody>\n",
       "</table>\n",
       "</div>"
      ],
      "text/plain": [
       "                                    comparison_sequence  ksize  scaled   trim\n",
       "trim=false_scaled=1000_dna_ksize=12                 dna     12    1000  False\n",
       "trim=false_scaled=1000_dna_ksize=15                 dna     15    1000  False\n",
       "trim=false_scaled=1000_dna_ksize=18                 dna     18    1000  False\n",
       "trim=false_scaled=1000_dna_ksize=21                 dna     21    1000  False\n",
       "trim=false_scaled=1000_dna_ksize=24                 dna     24    1000  False"
      ]
     },
     "execution_count": 14,
     "metadata": {},
     "output_type": "execute_result"
    }
   ],
   "source": [
    "experiment_metadata = pd.DataFrame(experiment_metadatas).T\n",
    "experiment_metadata['trim'] = experiment_metadata['trim'].map(lambda x: x == 'true')\n",
    "experiment_metadata['ksize'] = experiment_metadata['ksize'].astype(int)\n",
    "experiment_metadata['scaled'] = experiment_metadata['scaled'].astype(int)\n",
    "print(experiment_metadata.shape)\n",
    "experiment_metadata.head()"
   ]
  },
  {
   "cell_type": "code",
   "execution_count": 15,
   "metadata": {},
   "outputs": [
    {
     "data": {
      "text/plain": [
       "[100,\n",
       " 200,\n",
       " 300,\n",
       " 400,\n",
       " 500,\n",
       " 600,\n",
       " 700,\n",
       " 800,\n",
       " 900,\n",
       " 1000,\n",
       " 1100,\n",
       " 1200,\n",
       " 1300,\n",
       " 1400,\n",
       " 1500,\n",
       " 1600,\n",
       " 1700,\n",
       " 1800,\n",
       " 1900,\n",
       " 2000,\n",
       " 2500,\n",
       " 3000,\n",
       " 3500,\n",
       " 4000,\n",
       " 4500,\n",
       " 5000]"
      ]
     },
     "execution_count": 15,
     "metadata": {},
     "output_type": "execute_result"
    }
   ],
   "source": [
    "sorted(experiment_metadata.scaled.unique())"
   ]
  },
  {
   "cell_type": "code",
   "execution_count": 16,
   "metadata": {},
   "outputs": [],
   "source": [
    "csv_prefix = 's3://olgabot-maca/facs/sourmash_compare_no_track_abundance_combined/'"
   ]
  },
  {
   "cell_type": "code",
   "execution_count": 17,
   "metadata": {},
   "outputs": [],
   "source": [
    "# with fs.open(f'{csv_prefix}experiment-metadata.csv', 'w') as f:\n",
    "#     experiment_metadata.to_csv(f)\n",
    "# # %time experiment_metadata.to_csv(f'{csv_prefix}experiment-metadata.csv')"
   ]
  },
  {
   "cell_type": "code",
   "execution_count": 18,
   "metadata": {},
   "outputs": [],
   "source": [
    "# pd.read_csv(f'{csv_prefix}experiment-metadata.csv').head()"
   ]
  },
  {
   "cell_type": "code",
   "execution_count": 19,
   "metadata": {},
   "outputs": [
    {
     "name": "stdout",
     "output_type": "stream",
     "text": [
      "Overwriting s3_utils.py\n"
     ]
    }
   ],
   "source": [
    "%%file s3_utils.py\n",
    "import s3fs\n",
    "\n",
    "def write_s3(df, filename, fmt='csv', **kwargs):\n",
    "    fs = s3fs.S3FileSystem(anon=False)\n",
    "    if fmt == 'csv':\n",
    "        # csv is a text format\n",
    "        with fs.open(filename, 'w') as f:\n",
    "            return df.to_csv(f, **kwargs)\n",
    "    elif fmt == 'parquet':\n",
    "        # Parquet is a binary format and needs the \"b\" flag\n",
    "        with fs.open(filename, 'wb') as f:\n",
    "            return df.to_parquet(f, **kwargs)\n",
    "        "
   ]
  },
  {
   "cell_type": "code",
   "execution_count": 20,
   "metadata": {},
   "outputs": [
    {
     "name": "stdout",
     "output_type": "stream",
     "text": [
      "CPU times: user 2min 57s, sys: 2min 2s, total: 4min 59s\n",
      "Wall time: 6min 50s\n"
     ]
    }
   ],
   "source": [
    "import s3fs\n",
    "\n",
    "fs = s3fs.S3FileSystem(anon=False)\n",
    "\n",
    "with fs.open(f'{csv_prefix}similarity.parquet', 'wb') as f:\n",
    "    %time compare_results.to_parquet(f)"
   ]
  },
  {
   "cell_type": "code",
   "execution_count": 21,
   "metadata": {},
   "outputs": [
    {
     "name": "stdout",
     "output_type": "stream",
     "text": [
      "CPU times: user 8 ms, sys: 4 ms, total: 12 ms\n",
      "Wall time: 74 ms\n",
      "CPU times: user 12 ms, sys: 4 ms, total: 16 ms\n",
      "Wall time: 76.8 ms\n"
     ]
    }
   ],
   "source": [
    "from s3_utils import write_s3\n",
    "\n",
    "%time write_s3(cell_metadata, f'{csv_prefix}cell-metadata.csv', 'csv')\n",
    "%time write_s3(experiment_metadata, f'{csv_prefix}experiment-metadata.csv', 'csv')\n"
   ]
  },
  {
   "cell_type": "code",
   "execution_count": null,
   "metadata": {},
   "outputs": [],
   "source": [
    "%time write_s3(compare_results, f'{csv_prefix}similarity.csv', 'csv')\n"
   ]
  },
  {
   "cell_type": "code",
   "execution_count": null,
   "metadata": {},
   "outputs": [],
   "source": [
    "! aws s3 ls --human-readable $csv_prefix"
   ]
  },
  {
   "cell_type": "code",
   "execution_count": null,
   "metadata": {},
   "outputs": [],
   "source": [
    "# write_s3(compare_results, f'{csv_prefix}-similarity.parquet', 'parquet')"
   ]
  },
  {
   "cell_type": "code",
   "execution_count": null,
   "metadata": {},
   "outputs": [],
   "source": [
    "# with fs.open(f'{csv_prefix}cell-metadata.csv', 'w') as f:\n",
    "#     cell_metadata.to_csv(f)"
   ]
  },
  {
   "cell_type": "code",
   "execution_count": null,
   "metadata": {},
   "outputs": [],
   "source": [
    "# with fs.open(f'{csv_prefix}similarity.csv', 'w') as f:\n",
    "#     %time compare_results.to_csv(f, index=False)"
   ]
  },
  {
   "cell_type": "code",
   "execution_count": null,
   "metadata": {},
   "outputs": [],
   "source": [
    "# ls -lha $csv_prefix*"
   ]
  },
  {
   "cell_type": "code",
   "execution_count": 32,
   "metadata": {},
   "outputs": [
    {
     "data": {
      "text/html": [
       "<div>\n",
       "<style scoped>\n",
       "    .dataframe tbody tr th:only-of-type {\n",
       "        vertical-align: middle;\n",
       "    }\n",
       "\n",
       "    .dataframe tbody tr th {\n",
       "        vertical-align: top;\n",
       "    }\n",
       "\n",
       "    .dataframe thead th {\n",
       "        text-align: right;\n",
       "    }\n",
       "</style>\n",
       "<table border=\"1\" class=\"dataframe\">\n",
       "  <thead>\n",
       "    <tr style=\"text-align: right;\">\n",
       "      <th></th>\n",
       "      <th>cell_id</th>\n",
       "      <th>other_cell</th>\n",
       "      <th>similarity</th>\n",
       "      <th>experiment</th>\n",
       "    </tr>\n",
       "  </thead>\n",
       "  <tbody>\n",
       "    <tr>\n",
       "      <th>0</th>\n",
       "      <td>B22-MAA000871-3_11_M-1-1</td>\n",
       "      <td>B22-MAA000871-3_11_M-1-1</td>\n",
       "      <td>1.000000</td>\n",
       "      <td>trim=false_scaled=1000_dna_ksize=12</td>\n",
       "    </tr>\n",
       "    <tr>\n",
       "      <th>1</th>\n",
       "      <td>B22-MAA000871-3_11_M-1-1</td>\n",
       "      <td>L11-MAA000586-3_8_M-1-1</td>\n",
       "      <td>0.398906</td>\n",
       "      <td>trim=false_scaled=1000_dna_ksize=12</td>\n",
       "    </tr>\n",
       "    <tr>\n",
       "      <th>2</th>\n",
       "      <td>B22-MAA000871-3_11_M-1-1</td>\n",
       "      <td>O20-MAA001632-3_56_F-1-1</td>\n",
       "      <td>0.407873</td>\n",
       "      <td>trim=false_scaled=1000_dna_ksize=12</td>\n",
       "    </tr>\n",
       "    <tr>\n",
       "      <th>3</th>\n",
       "      <td>B22-MAA000871-3_11_M-1-1</td>\n",
       "      <td>D2-MAA000452-3_8_M-1-1</td>\n",
       "      <td>0.386677</td>\n",
       "      <td>trim=false_scaled=1000_dna_ksize=12</td>\n",
       "    </tr>\n",
       "    <tr>\n",
       "      <th>4</th>\n",
       "      <td>B22-MAA000871-3_11_M-1-1</td>\n",
       "      <td>P1-D042473-3_10_M-1-1</td>\n",
       "      <td>0.384180</td>\n",
       "      <td>trim=false_scaled=1000_dna_ksize=12</td>\n",
       "    </tr>\n",
       "  </tbody>\n",
       "</table>\n",
       "</div>"
      ],
      "text/plain": [
       "                    cell_id                other_cell  similarity  \\\n",
       "0  B22-MAA000871-3_11_M-1-1  B22-MAA000871-3_11_M-1-1    1.000000   \n",
       "1  B22-MAA000871-3_11_M-1-1   L11-MAA000586-3_8_M-1-1    0.398906   \n",
       "2  B22-MAA000871-3_11_M-1-1  O20-MAA001632-3_56_F-1-1    0.407873   \n",
       "3  B22-MAA000871-3_11_M-1-1    D2-MAA000452-3_8_M-1-1    0.386677   \n",
       "4  B22-MAA000871-3_11_M-1-1     P1-D042473-3_10_M-1-1    0.384180   \n",
       "\n",
       "                            experiment  \n",
       "0  trim=false_scaled=1000_dna_ksize=12  \n",
       "1  trim=false_scaled=1000_dna_ksize=12  \n",
       "2  trim=false_scaled=1000_dna_ksize=12  \n",
       "3  trim=false_scaled=1000_dna_ksize=12  \n",
       "4  trim=false_scaled=1000_dna_ksize=12  "
      ]
     },
     "execution_count": 32,
     "metadata": {},
     "output_type": "execute_result"
    }
   ],
   "source": [
    "compare_results.head()"
   ]
  },
  {
   "cell_type": "code",
   "execution_count": 34,
   "metadata": {},
   "outputs": [
    {
     "name": "stdout",
     "output_type": "stream",
     "text": [
      "(146, 4)\n"
     ]
    },
    {
     "data": {
      "text/html": [
       "<div>\n",
       "<style scoped>\n",
       "    .dataframe tbody tr th:only-of-type {\n",
       "        vertical-align: middle;\n",
       "    }\n",
       "\n",
       "    .dataframe tbody tr th {\n",
       "        vertical-align: top;\n",
       "    }\n",
       "\n",
       "    .dataframe thead th {\n",
       "        text-align: right;\n",
       "    }\n",
       "</style>\n",
       "<table border=\"1\" class=\"dataframe\">\n",
       "  <thead>\n",
       "    <tr style=\"text-align: right;\">\n",
       "      <th></th>\n",
       "      <th>comparison_sequence</th>\n",
       "      <th>ksize</th>\n",
       "      <th>scaled</th>\n",
       "      <th>trim</th>\n",
       "    </tr>\n",
       "  </thead>\n",
       "  <tbody>\n",
       "    <tr>\n",
       "      <th>trim=false_scaled=1000_dna_ksize=12</th>\n",
       "      <td>dna</td>\n",
       "      <td>12</td>\n",
       "      <td>1000</td>\n",
       "      <td>False</td>\n",
       "    </tr>\n",
       "    <tr>\n",
       "      <th>trim=false_scaled=1000_dna_ksize=15</th>\n",
       "      <td>dna</td>\n",
       "      <td>15</td>\n",
       "      <td>1000</td>\n",
       "      <td>False</td>\n",
       "    </tr>\n",
       "    <tr>\n",
       "      <th>trim=false_scaled=1000_dna_ksize=18</th>\n",
       "      <td>dna</td>\n",
       "      <td>18</td>\n",
       "      <td>1000</td>\n",
       "      <td>False</td>\n",
       "    </tr>\n",
       "    <tr>\n",
       "      <th>trim=false_scaled=1000_dna_ksize=21</th>\n",
       "      <td>dna</td>\n",
       "      <td>21</td>\n",
       "      <td>1000</td>\n",
       "      <td>False</td>\n",
       "    </tr>\n",
       "    <tr>\n",
       "      <th>trim=false_scaled=1000_dna_ksize=24</th>\n",
       "      <td>dna</td>\n",
       "      <td>24</td>\n",
       "      <td>1000</td>\n",
       "      <td>False</td>\n",
       "    </tr>\n",
       "  </tbody>\n",
       "</table>\n",
       "</div>"
      ],
      "text/plain": [
       "                                    comparison_sequence  ksize  scaled   trim\n",
       "trim=false_scaled=1000_dna_ksize=12                 dna     12    1000  False\n",
       "trim=false_scaled=1000_dna_ksize=15                 dna     15    1000  False\n",
       "trim=false_scaled=1000_dna_ksize=18                 dna     18    1000  False\n",
       "trim=false_scaled=1000_dna_ksize=21                 dna     21    1000  False\n",
       "trim=false_scaled=1000_dna_ksize=24                 dna     24    1000  False"
      ]
     },
     "execution_count": 34,
     "metadata": {},
     "output_type": "execute_result"
    }
   ],
   "source": [
    "scaled_subset = 500, 1000, 2000, 5000\n",
    "\n",
    "scaled_subset_experiments = experiment_metadata.query('scaled in @scaled_subset')\n",
    "print(scaled_subset_experiments.shape)\n",
    "scaled_subset_experiments.head()"
   ]
  },
  {
   "cell_type": "code",
   "execution_count": 36,
   "metadata": {},
   "outputs": [
    {
     "name": "stdout",
     "output_type": "stream",
     "text": [
      "(56618998, 4)\n"
     ]
    },
    {
     "data": {
      "text/html": [
       "<div>\n",
       "<style scoped>\n",
       "    .dataframe tbody tr th:only-of-type {\n",
       "        vertical-align: middle;\n",
       "    }\n",
       "\n",
       "    .dataframe tbody tr th {\n",
       "        vertical-align: top;\n",
       "    }\n",
       "\n",
       "    .dataframe thead th {\n",
       "        text-align: right;\n",
       "    }\n",
       "</style>\n",
       "<table border=\"1\" class=\"dataframe\">\n",
       "  <thead>\n",
       "    <tr style=\"text-align: right;\">\n",
       "      <th></th>\n",
       "      <th>cell_id</th>\n",
       "      <th>other_cell</th>\n",
       "      <th>similarity</th>\n",
       "      <th>experiment</th>\n",
       "    </tr>\n",
       "  </thead>\n",
       "  <tbody>\n",
       "    <tr>\n",
       "      <th>0</th>\n",
       "      <td>B22-MAA000871-3_11_M-1-1</td>\n",
       "      <td>B22-MAA000871-3_11_M-1-1</td>\n",
       "      <td>1.000000</td>\n",
       "      <td>trim=false_scaled=1000_dna_ksize=12</td>\n",
       "    </tr>\n",
       "    <tr>\n",
       "      <th>1</th>\n",
       "      <td>B22-MAA000871-3_11_M-1-1</td>\n",
       "      <td>L11-MAA000586-3_8_M-1-1</td>\n",
       "      <td>0.398906</td>\n",
       "      <td>trim=false_scaled=1000_dna_ksize=12</td>\n",
       "    </tr>\n",
       "    <tr>\n",
       "      <th>2</th>\n",
       "      <td>B22-MAA000871-3_11_M-1-1</td>\n",
       "      <td>O20-MAA001632-3_56_F-1-1</td>\n",
       "      <td>0.407873</td>\n",
       "      <td>trim=false_scaled=1000_dna_ksize=12</td>\n",
       "    </tr>\n",
       "    <tr>\n",
       "      <th>3</th>\n",
       "      <td>B22-MAA000871-3_11_M-1-1</td>\n",
       "      <td>D2-MAA000452-3_8_M-1-1</td>\n",
       "      <td>0.386677</td>\n",
       "      <td>trim=false_scaled=1000_dna_ksize=12</td>\n",
       "    </tr>\n",
       "    <tr>\n",
       "      <th>4</th>\n",
       "      <td>B22-MAA000871-3_11_M-1-1</td>\n",
       "      <td>P1-D042473-3_10_M-1-1</td>\n",
       "      <td>0.384180</td>\n",
       "      <td>trim=false_scaled=1000_dna_ksize=12</td>\n",
       "    </tr>\n",
       "  </tbody>\n",
       "</table>\n",
       "</div>"
      ],
      "text/plain": [
       "                    cell_id                other_cell  similarity  \\\n",
       "0  B22-MAA000871-3_11_M-1-1  B22-MAA000871-3_11_M-1-1    1.000000   \n",
       "1  B22-MAA000871-3_11_M-1-1   L11-MAA000586-3_8_M-1-1    0.398906   \n",
       "2  B22-MAA000871-3_11_M-1-1  O20-MAA001632-3_56_F-1-1    0.407873   \n",
       "3  B22-MAA000871-3_11_M-1-1    D2-MAA000452-3_8_M-1-1    0.386677   \n",
       "4  B22-MAA000871-3_11_M-1-1     P1-D042473-3_10_M-1-1    0.384180   \n",
       "\n",
       "                            experiment  \n",
       "0  trim=false_scaled=1000_dna_ksize=12  \n",
       "1  trim=false_scaled=1000_dna_ksize=12  \n",
       "2  trim=false_scaled=1000_dna_ksize=12  \n",
       "3  trim=false_scaled=1000_dna_ksize=12  \n",
       "4  trim=false_scaled=1000_dna_ksize=12  "
      ]
     },
     "execution_count": 36,
     "metadata": {},
     "output_type": "execute_result"
    }
   ],
   "source": [
    "compare_results_scaled_subset = compare_results.query(\n",
    "    'experiment in @scaled_subset_experiments.index')\n",
    "print(compare_results_scaled_subset.shape)\n",
    "compare_results_scaled_subset.head()"
   ]
  },
  {
   "cell_type": "code",
   "execution_count": 38,
   "metadata": {},
   "outputs": [
    {
     "name": "stdout",
     "output_type": "stream",
     "text": [
      "CPU times: user 36.9 s, sys: 19.5 s, total: 56.4 s\n",
      "Wall time: 1min 22s\n"
     ]
    }
   ],
   "source": [
    "%time write_s3(compare_results_scaled_subset, f'{csv_prefix}similarity-scaled-subset.parquet', 'parquet')"
   ]
  },
  {
   "cell_type": "code",
   "execution_count": 40,
   "metadata": {},
   "outputs": [
    {
     "name": "stdout",
     "output_type": "stream",
     "text": [
      "2018-09-23 16:03:11  334.5 MiB -similarity.parquet\r\n",
      "2018-10-15 19:03:59  102.3 KiB cell-metadata.csv\r\n",
      "2018-10-15 19:03:59   46.4 KiB experiment-metadata.csv\r\n",
      "2018-10-16 14:42:59  592.5 MiB similarity-scaled-subset.parquet\r\n",
      "2018-10-15 19:04:00   34.4 GiB similarity.csv\r\n",
      "2018-10-15 19:00:25    3.5 GiB similarity.parquet\r\n"
     ]
    }
   ],
   "source": [
    "! aws s3 ls --human-readable $csv_prefix"
   ]
  },
  {
   "cell_type": "code",
   "execution_count": 41,
   "metadata": {},
   "outputs": [
    {
     "data": {
      "text/plain": [
       "'s3://olgabot-maca/facs/sourmash_compare_no_track_abundance_combined/'"
      ]
     },
     "execution_count": 41,
     "metadata": {},
     "output_type": "execute_result"
    }
   ],
   "source": [
    "csv_prefix"
   ]
  },
  {
   "cell_type": "code",
   "execution_count": null,
   "metadata": {},
   "outputs": [],
   "source": []
  }
 ],
 "metadata": {
  "kernelspec": {
   "display_name": "Python 3",
   "language": "python",
   "name": "python3"
  },
  "language_info": {
   "codemirror_mode": {
    "name": "ipython",
    "version": 3
   },
   "file_extension": ".py",
   "mimetype": "text/x-python",
   "name": "python",
   "nbconvert_exporter": "python",
   "pygments_lexer": "ipython3",
   "version": "3.6.4"
  }
 },
 "nbformat": 4,
 "nbformat_minor": 2
}
