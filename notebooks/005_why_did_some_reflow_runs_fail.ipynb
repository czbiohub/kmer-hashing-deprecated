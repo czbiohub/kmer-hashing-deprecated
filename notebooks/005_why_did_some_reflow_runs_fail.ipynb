{
 "cells": [
  {
   "cell_type": "code",
   "execution_count": 1,
   "metadata": {},
   "outputs": [],
   "source": [
    "import pandas as pd"
   ]
  },
  {
   "cell_type": "code",
   "execution_count": 2,
   "metadata": {},
   "outputs": [
    {
     "name": "stdout",
     "output_type": "stream",
     "text": [
      "/home/ubuntu/kmer-hashing/sourmash/maca/facs\n"
     ]
    }
   ],
   "source": [
    "cd ~/kmer-hashing/sourmash/maca/facs/"
   ]
  },
  {
   "cell_type": "markdown",
   "metadata": {},
   "source": [
    "Found failed samples this way (outside on the terminal)\n",
    "\n",
    "```\n",
    "aws s3 ls s3://olgabot-maca/facs/sourmash/ | cut -f 9 -d ' ' | cut -f 1 -d'.' > samples_with_signatures.txt\n",
    "ls -lh | grep --fixed-strings --file samples_with_signatures.txt -v | grep log > failed_samples.txt\n",
    "```\n",
    "\n",
    "read the logs with:\n",
    "```\n",
    "ls  | grep --fixed-strings --file samples_with_signatures.txt -v | grep log | xargs tail | less\n",
    "```"
   ]
  },
  {
   "cell_type": "code",
   "execution_count": 5,
   "metadata": {},
   "outputs": [
    {
     "name": "stdout",
     "output_type": "stream",
     "text": [
      "-rw------- 1 ubuntu ubuntu 4.6K Jun 12 06:14 log.A10-B002010-3_39_F-1-1_S218\r\n",
      "-rw------- 1 ubuntu ubuntu 1.8K Jun 12 16:53 log.A10-B002421-3_39_F-1-1_S193\r\n",
      "-rw------- 1 ubuntu ubuntu 1.8K Jun 12 16:54 log.A10-B002429-3_38_F-1-1_S39\r\n",
      "-rw------- 1 ubuntu ubuntu 3.3K Jun 12 05:01 log.A10-B002435-3_39_F-1-1_S249\r\n",
      "-rw------- 1 ubuntu ubuntu 3.4K Jun 12 16:54 log.A10-D041894-3_9_M-1-1_S99\r\n",
      "-rw------- 1 ubuntu ubuntu 3.4K Jun 12 16:53 log.A10-MAA000439-3_10_M-1-1_S45\r\n",
      "-rw------- 1 ubuntu ubuntu 1.4K Jun 12 06:34 log.A10-MAA000572-3_8_M-1-1_S250\r\n",
      "-rw------- 1 ubuntu ubuntu 3.4K Jun 12 16:53 log.A10-MAA000595-3_9_M-1-1_S288\r\n",
      "-rw------- 1 ubuntu ubuntu 4.6K Jun 12 00:45 log.A10-MAA000839-3_11_M-1-1_S186\r\n",
      "-rw------- 1 ubuntu ubuntu 3.4K Jun 12 16:54 log.A10-MAA001887-3_39_F-1-1_S174\r\n"
     ]
    }
   ],
   "source": [
    "! head failed_samples.txt"
   ]
  },
  {
   "cell_type": "code",
   "execution_count": null,
   "metadata": {},
   "outputs": [],
   "source": [
    "! head failed_samples.txt"
   ]
  },
  {
   "cell_type": "code",
   "execution_count": 32,
   "metadata": {},
   "outputs": [
    {
     "name": "stdout",
     "output_type": "stream",
     "text": [
      "\t    {{signature}} =\r\n",
      "\t        . sha256:268a126b191343e2e56969da8f99588fd34b3c1e66ed6813725b6b309d38af15 26.9KiB\r\n",
      "\tprofile:\r\n",
      "\t    cpu mean=1.0 max=1.4\r\n",
      "\t    mem mean=14.5MiB max=14.6MiB\r\n",
      "\t    disk mean=0B max=0B\r\n",
      "\t    tmp mean=0B max=0B\r\n",
      "2018/06/12 06:14:44 retain 0s: keepalive 0a105711eedbf376 0s: operation not supported: zombie alloc\r\n",
      "2018/06/12 06:14:44 marking run done after nonrecoverable error put 0a105711eedbf376 sha256:d73544f957060c3c72bb25088ea73434d5e06aa0a07ebf19e42dee3bbfeaf06f execconfig extern url s3://olgabot-maca/facs/sourmash/A10-B002010-3_39_F-1-1_S218.signature resources {}: operation not supported: zombie alloc\r\n",
      "2018/06/12 06:14:44 run A10-B002010-3_39_F-1-1_S218: state: done error put 0a105711eedbf376 sha256:d73544f957060c3c72bb25088ea73434d5e06aa0a07ebf19e42dee3bbfeaf06f execconfig extern url s3://olgabot-maca/facs/sourmash/A10-B002010-3_39_F-1-1_S218.signature resources {}: operation not supported: zombie alloc\r\n"
     ]
    }
   ],
   "source": [
    "! tail log.A10-B002010-3_39_F-1-1_S218"
   ]
  },
  {
   "cell_type": "code",
   "execution_count": 4,
   "metadata": {},
   "outputs": [
    {
     "name": "stdout",
     "output_type": "stream",
     "text": [
      "(54912, 4)\n"
     ]
    },
    {
     "data": {
      "text/html": [
       "<div>\n",
       "<style scoped>\n",
       "    .dataframe tbody tr th:only-of-type {\n",
       "        vertical-align: middle;\n",
       "    }\n",
       "\n",
       "    .dataframe tbody tr th {\n",
       "        vertical-align: top;\n",
       "    }\n",
       "\n",
       "    .dataframe thead th {\n",
       "        text-align: right;\n",
       "    }\n",
       "</style>\n",
       "<table border=\"1\" class=\"dataframe\">\n",
       "  <thead>\n",
       "    <tr style=\"text-align: right;\">\n",
       "      <th></th>\n",
       "      <th>read1</th>\n",
       "      <th>read2</th>\n",
       "      <th>sample_id</th>\n",
       "      <th>output_signature</th>\n",
       "    </tr>\n",
       "    <tr>\n",
       "      <th>id</th>\n",
       "      <th></th>\n",
       "      <th></th>\n",
       "      <th></th>\n",
       "      <th></th>\n",
       "    </tr>\n",
       "  </thead>\n",
       "  <tbody>\n",
       "    <tr>\n",
       "      <th>A1-B000126-3_39_F-1-1_S289</th>\n",
       "      <td>s3://czbiohub-maca/remux_data/170925_A00111_00...</td>\n",
       "      <td>s3://czbiohub-maca/remux_data/170925_A00111_00...</td>\n",
       "      <td>A1-B000126-3_39_F-1-1_S289</td>\n",
       "      <td>s3://olgabot-maca/facs/sourmash/A1-B000126-3_3...</td>\n",
       "    </tr>\n",
       "    <tr>\n",
       "      <th>A1-B000127-3_38_F-1-1_S1</th>\n",
       "      <td>s3://czbiohub-maca/remux_data/170914_A00111_00...</td>\n",
       "      <td>s3://czbiohub-maca/remux_data/170914_A00111_00...</td>\n",
       "      <td>A1-B000127-3_38_F-1-1_S1</td>\n",
       "      <td>s3://olgabot-maca/facs/sourmash/A1-B000127-3_3...</td>\n",
       "    </tr>\n",
       "    <tr>\n",
       "      <th>A1-B000167-3_56_F-1-1_S228</th>\n",
       "      <td>s3://czbiohub-maca/remux_data/170925_A00111_00...</td>\n",
       "      <td>s3://czbiohub-maca/remux_data/170925_A00111_00...</td>\n",
       "      <td>A1-B000167-3_56_F-1-1_S228</td>\n",
       "      <td>s3://olgabot-maca/facs/sourmash/A1-B000167-3_5...</td>\n",
       "    </tr>\n",
       "    <tr>\n",
       "      <th>A1-B000168-3_57_F-1-1_S177</th>\n",
       "      <td>s3://czbiohub-maca/remux_data/170925_A00111_00...</td>\n",
       "      <td>s3://czbiohub-maca/remux_data/170925_A00111_00...</td>\n",
       "      <td>A1-B000168-3_57_F-1-1_S177</td>\n",
       "      <td>s3://olgabot-maca/facs/sourmash/A1-B000168-3_5...</td>\n",
       "    </tr>\n",
       "    <tr>\n",
       "      <th>A1-B000412-3_56_F-1-1_S110</th>\n",
       "      <td>s3://czbiohub-maca/remux_data/170914_A00111_00...</td>\n",
       "      <td>s3://czbiohub-maca/remux_data/170914_A00111_00...</td>\n",
       "      <td>A1-B000412-3_56_F-1-1_S110</td>\n",
       "      <td>s3://olgabot-maca/facs/sourmash/A1-B000412-3_5...</td>\n",
       "    </tr>\n",
       "  </tbody>\n",
       "</table>\n",
       "</div>"
      ],
      "text/plain": [
       "                                                                        read1  \\\n",
       "id                                                                              \n",
       "A1-B000126-3_39_F-1-1_S289  s3://czbiohub-maca/remux_data/170925_A00111_00...   \n",
       "A1-B000127-3_38_F-1-1_S1    s3://czbiohub-maca/remux_data/170914_A00111_00...   \n",
       "A1-B000167-3_56_F-1-1_S228  s3://czbiohub-maca/remux_data/170925_A00111_00...   \n",
       "A1-B000168-3_57_F-1-1_S177  s3://czbiohub-maca/remux_data/170925_A00111_00...   \n",
       "A1-B000412-3_56_F-1-1_S110  s3://czbiohub-maca/remux_data/170914_A00111_00...   \n",
       "\n",
       "                                                                        read2  \\\n",
       "id                                                                              \n",
       "A1-B000126-3_39_F-1-1_S289  s3://czbiohub-maca/remux_data/170925_A00111_00...   \n",
       "A1-B000127-3_38_F-1-1_S1    s3://czbiohub-maca/remux_data/170914_A00111_00...   \n",
       "A1-B000167-3_56_F-1-1_S228  s3://czbiohub-maca/remux_data/170925_A00111_00...   \n",
       "A1-B000168-3_57_F-1-1_S177  s3://czbiohub-maca/remux_data/170925_A00111_00...   \n",
       "A1-B000412-3_56_F-1-1_S110  s3://czbiohub-maca/remux_data/170914_A00111_00...   \n",
       "\n",
       "                                             sample_id  \\\n",
       "id                                                       \n",
       "A1-B000126-3_39_F-1-1_S289  A1-B000126-3_39_F-1-1_S289   \n",
       "A1-B000127-3_38_F-1-1_S1      A1-B000127-3_38_F-1-1_S1   \n",
       "A1-B000167-3_56_F-1-1_S228  A1-B000167-3_56_F-1-1_S228   \n",
       "A1-B000168-3_57_F-1-1_S177  A1-B000168-3_57_F-1-1_S177   \n",
       "A1-B000412-3_56_F-1-1_S110  A1-B000412-3_56_F-1-1_S110   \n",
       "\n",
       "                                                             output_signature  \n",
       "id                                                                             \n",
       "A1-B000126-3_39_F-1-1_S289  s3://olgabot-maca/facs/sourmash/A1-B000126-3_3...  \n",
       "A1-B000127-3_38_F-1-1_S1    s3://olgabot-maca/facs/sourmash/A1-B000127-3_3...  \n",
       "A1-B000167-3_56_F-1-1_S228  s3://olgabot-maca/facs/sourmash/A1-B000167-3_5...  \n",
       "A1-B000168-3_57_F-1-1_S177  s3://olgabot-maca/facs/sourmash/A1-B000168-3_5...  \n",
       "A1-B000412-3_56_F-1-1_S110  s3://olgabot-maca/facs/sourmash/A1-B000412-3_5...  "
      ]
     },
     "execution_count": 4,
     "metadata": {},
     "output_type": "execute_result"
    }
   ],
   "source": [
    "samples = pd.read_csv('samples.csv', index_col=0)\n",
    "print(samples.shape)\n",
    "samples.head()"
   ]
  },
  {
   "cell_type": "code",
   "execution_count": 9,
   "metadata": {},
   "outputs": [
    {
     "name": "stdout",
     "output_type": "stream",
     "text": [
      "(3466, 10)\n"
     ]
    },
    {
     "data": {
      "text/html": [
       "<div>\n",
       "<style scoped>\n",
       "    .dataframe tbody tr th:only-of-type {\n",
       "        vertical-align: middle;\n",
       "    }\n",
       "\n",
       "    .dataframe tbody tr th {\n",
       "        vertical-align: top;\n",
       "    }\n",
       "\n",
       "    .dataframe thead th {\n",
       "        text-align: right;\n",
       "    }\n",
       "</style>\n",
       "<table border=\"1\" class=\"dataframe\">\n",
       "  <thead>\n",
       "    <tr style=\"text-align: right;\">\n",
       "      <th></th>\n",
       "      <th>0</th>\n",
       "      <th>1</th>\n",
       "      <th>2</th>\n",
       "      <th>3</th>\n",
       "      <th>4</th>\n",
       "      <th>5</th>\n",
       "      <th>6</th>\n",
       "      <th>7</th>\n",
       "      <th>8</th>\n",
       "      <th>id</th>\n",
       "    </tr>\n",
       "  </thead>\n",
       "  <tbody>\n",
       "    <tr>\n",
       "      <th>0</th>\n",
       "      <td>-rw-------</td>\n",
       "      <td>1</td>\n",
       "      <td>ubuntu</td>\n",
       "      <td>ubuntu</td>\n",
       "      <td>4.6K</td>\n",
       "      <td>Jun</td>\n",
       "      <td>12</td>\n",
       "      <td>06:14</td>\n",
       "      <td>log.A10-B002010-3_39_F-1-1_S218</td>\n",
       "      <td>A10-B002010-3_39_F-1-1_S218</td>\n",
       "    </tr>\n",
       "    <tr>\n",
       "      <th>1</th>\n",
       "      <td>-rw-------</td>\n",
       "      <td>1</td>\n",
       "      <td>ubuntu</td>\n",
       "      <td>ubuntu</td>\n",
       "      <td>1.8K</td>\n",
       "      <td>Jun</td>\n",
       "      <td>12</td>\n",
       "      <td>16:53</td>\n",
       "      <td>log.A10-B002421-3_39_F-1-1_S193</td>\n",
       "      <td>A10-B002421-3_39_F-1-1_S193</td>\n",
       "    </tr>\n",
       "    <tr>\n",
       "      <th>2</th>\n",
       "      <td>-rw-------</td>\n",
       "      <td>1</td>\n",
       "      <td>ubuntu</td>\n",
       "      <td>ubuntu</td>\n",
       "      <td>1.8K</td>\n",
       "      <td>Jun</td>\n",
       "      <td>12</td>\n",
       "      <td>16:54</td>\n",
       "      <td>log.A10-B002429-3_38_F-1-1_S39</td>\n",
       "      <td>A10-B002429-3_38_F-1-1_S39</td>\n",
       "    </tr>\n",
       "    <tr>\n",
       "      <th>3</th>\n",
       "      <td>-rw-------</td>\n",
       "      <td>1</td>\n",
       "      <td>ubuntu</td>\n",
       "      <td>ubuntu</td>\n",
       "      <td>3.3K</td>\n",
       "      <td>Jun</td>\n",
       "      <td>12</td>\n",
       "      <td>05:01</td>\n",
       "      <td>log.A10-B002435-3_39_F-1-1_S249</td>\n",
       "      <td>A10-B002435-3_39_F-1-1_S249</td>\n",
       "    </tr>\n",
       "    <tr>\n",
       "      <th>4</th>\n",
       "      <td>-rw-------</td>\n",
       "      <td>1</td>\n",
       "      <td>ubuntu</td>\n",
       "      <td>ubuntu</td>\n",
       "      <td>3.4K</td>\n",
       "      <td>Jun</td>\n",
       "      <td>12</td>\n",
       "      <td>16:54</td>\n",
       "      <td>log.A10-D041894-3_9_M-1-1_S99</td>\n",
       "      <td>A10-D041894-3_9_M-1-1_S99</td>\n",
       "    </tr>\n",
       "  </tbody>\n",
       "</table>\n",
       "</div>"
      ],
      "text/plain": [
       "            0  1       2       3     4    5   6      7  \\\n",
       "0  -rw-------  1  ubuntu  ubuntu  4.6K  Jun  12  06:14   \n",
       "1  -rw-------  1  ubuntu  ubuntu  1.8K  Jun  12  16:53   \n",
       "2  -rw-------  1  ubuntu  ubuntu  1.8K  Jun  12  16:54   \n",
       "3  -rw-------  1  ubuntu  ubuntu  3.3K  Jun  12  05:01   \n",
       "4  -rw-------  1  ubuntu  ubuntu  3.4K  Jun  12  16:54   \n",
       "\n",
       "                                 8                           id  \n",
       "0  log.A10-B002010-3_39_F-1-1_S218  A10-B002010-3_39_F-1-1_S218  \n",
       "1  log.A10-B002421-3_39_F-1-1_S193  A10-B002421-3_39_F-1-1_S193  \n",
       "2   log.A10-B002429-3_38_F-1-1_S39   A10-B002429-3_38_F-1-1_S39  \n",
       "3  log.A10-B002435-3_39_F-1-1_S249  A10-B002435-3_39_F-1-1_S249  \n",
       "4    log.A10-D041894-3_9_M-1-1_S99    A10-D041894-3_9_M-1-1_S99  "
      ]
     },
     "execution_count": 9,
     "metadata": {},
     "output_type": "execute_result"
    }
   ],
   "source": [
    "failed_samples_logs = pd.read_table('failed_samples.txt', sep='\\s+', header=None)\n",
    "failed_samples_logs['id'] = failed_samples_logs[8].str.split('.').str[-1]\n",
    "print(failed_samples_logs.shape)\n",
    "failed_samples_logs.head()"
   ]
  },
  {
   "cell_type": "code",
   "execution_count": 10,
   "metadata": {},
   "outputs": [
    {
     "name": "stdout",
     "output_type": "stream",
     "text": [
      "(3466, 4)\n"
     ]
    },
    {
     "data": {
      "text/html": [
       "<div>\n",
       "<style scoped>\n",
       "    .dataframe tbody tr th:only-of-type {\n",
       "        vertical-align: middle;\n",
       "    }\n",
       "\n",
       "    .dataframe tbody tr th {\n",
       "        vertical-align: top;\n",
       "    }\n",
       "\n",
       "    .dataframe thead th {\n",
       "        text-align: right;\n",
       "    }\n",
       "</style>\n",
       "<table border=\"1\" class=\"dataframe\">\n",
       "  <thead>\n",
       "    <tr style=\"text-align: right;\">\n",
       "      <th></th>\n",
       "      <th>read1</th>\n",
       "      <th>read2</th>\n",
       "      <th>sample_id</th>\n",
       "      <th>output_signature</th>\n",
       "    </tr>\n",
       "    <tr>\n",
       "      <th>id</th>\n",
       "      <th></th>\n",
       "      <th></th>\n",
       "      <th></th>\n",
       "      <th></th>\n",
       "    </tr>\n",
       "  </thead>\n",
       "  <tbody>\n",
       "    <tr>\n",
       "      <th>A10-B002010-3_39_F-1-1_S218</th>\n",
       "      <td>s3://czbiohub-maca/remux_data/170914_A00111_00...</td>\n",
       "      <td>s3://czbiohub-maca/remux_data/170914_A00111_00...</td>\n",
       "      <td>A10-B002010-3_39_F-1-1_S218</td>\n",
       "      <td>s3://olgabot-maca/facs/sourmash/A10-B002010-3_...</td>\n",
       "    </tr>\n",
       "    <tr>\n",
       "      <th>A10-B002421-3_39_F-1-1_S193</th>\n",
       "      <td>s3://czbiohub-maca/remux_data/170914_A00111_00...</td>\n",
       "      <td>s3://czbiohub-maca/remux_data/170914_A00111_00...</td>\n",
       "      <td>A10-B002421-3_39_F-1-1_S193</td>\n",
       "      <td>s3://olgabot-maca/facs/sourmash/A10-B002421-3_...</td>\n",
       "    </tr>\n",
       "    <tr>\n",
       "      <th>A10-B002429-3_38_F-1-1_S39</th>\n",
       "      <td>s3://czbiohub-maca/remux_data/170928_A00111_00...</td>\n",
       "      <td>s3://czbiohub-maca/remux_data/170928_A00111_00...</td>\n",
       "      <td>A10-B002429-3_38_F-1-1_S39</td>\n",
       "      <td>s3://olgabot-maca/facs/sourmash/A10-B002429-3_...</td>\n",
       "    </tr>\n",
       "    <tr>\n",
       "      <th>A10-B002435-3_39_F-1-1_S249</th>\n",
       "      <td>s3://czbiohub-maca/remux_data/170914_A00111_00...</td>\n",
       "      <td>s3://czbiohub-maca/remux_data/170914_A00111_00...</td>\n",
       "      <td>A10-B002435-3_39_F-1-1_S249</td>\n",
       "      <td>s3://olgabot-maca/facs/sourmash/A10-B002435-3_...</td>\n",
       "    </tr>\n",
       "    <tr>\n",
       "      <th>A10-D041894-3_9_M-1-1_S99</th>\n",
       "      <td>s3://czbiohub-maca/remux_data/170918_A00111_00...</td>\n",
       "      <td>s3://czbiohub-maca/remux_data/170918_A00111_00...</td>\n",
       "      <td>A10-D041894-3_9_M-1-1_S99</td>\n",
       "      <td>s3://olgabot-maca/facs/sourmash/A10-D041894-3_...</td>\n",
       "    </tr>\n",
       "  </tbody>\n",
       "</table>\n",
       "</div>"
      ],
      "text/plain": [
       "                                                                         read1  \\\n",
       "id                                                                               \n",
       "A10-B002010-3_39_F-1-1_S218  s3://czbiohub-maca/remux_data/170914_A00111_00...   \n",
       "A10-B002421-3_39_F-1-1_S193  s3://czbiohub-maca/remux_data/170914_A00111_00...   \n",
       "A10-B002429-3_38_F-1-1_S39   s3://czbiohub-maca/remux_data/170928_A00111_00...   \n",
       "A10-B002435-3_39_F-1-1_S249  s3://czbiohub-maca/remux_data/170914_A00111_00...   \n",
       "A10-D041894-3_9_M-1-1_S99    s3://czbiohub-maca/remux_data/170918_A00111_00...   \n",
       "\n",
       "                                                                         read2  \\\n",
       "id                                                                               \n",
       "A10-B002010-3_39_F-1-1_S218  s3://czbiohub-maca/remux_data/170914_A00111_00...   \n",
       "A10-B002421-3_39_F-1-1_S193  s3://czbiohub-maca/remux_data/170914_A00111_00...   \n",
       "A10-B002429-3_38_F-1-1_S39   s3://czbiohub-maca/remux_data/170928_A00111_00...   \n",
       "A10-B002435-3_39_F-1-1_S249  s3://czbiohub-maca/remux_data/170914_A00111_00...   \n",
       "A10-D041894-3_9_M-1-1_S99    s3://czbiohub-maca/remux_data/170918_A00111_00...   \n",
       "\n",
       "                                               sample_id  \\\n",
       "id                                                         \n",
       "A10-B002010-3_39_F-1-1_S218  A10-B002010-3_39_F-1-1_S218   \n",
       "A10-B002421-3_39_F-1-1_S193  A10-B002421-3_39_F-1-1_S193   \n",
       "A10-B002429-3_38_F-1-1_S39    A10-B002429-3_38_F-1-1_S39   \n",
       "A10-B002435-3_39_F-1-1_S249  A10-B002435-3_39_F-1-1_S249   \n",
       "A10-D041894-3_9_M-1-1_S99      A10-D041894-3_9_M-1-1_S99   \n",
       "\n",
       "                                                              output_signature  \n",
       "id                                                                              \n",
       "A10-B002010-3_39_F-1-1_S218  s3://olgabot-maca/facs/sourmash/A10-B002010-3_...  \n",
       "A10-B002421-3_39_F-1-1_S193  s3://olgabot-maca/facs/sourmash/A10-B002421-3_...  \n",
       "A10-B002429-3_38_F-1-1_S39   s3://olgabot-maca/facs/sourmash/A10-B002429-3_...  \n",
       "A10-B002435-3_39_F-1-1_S249  s3://olgabot-maca/facs/sourmash/A10-B002435-3_...  \n",
       "A10-D041894-3_9_M-1-1_S99    s3://olgabot-maca/facs/sourmash/A10-D041894-3_...  "
      ]
     },
     "execution_count": 10,
     "metadata": {},
     "output_type": "execute_result"
    }
   ],
   "source": [
    "samples_failed = samples.loc[failed_samples_logs['id']]\n",
    "print(samples_failed.shape)\n",
    "samples_failed.head()"
   ]
  },
  {
   "cell_type": "code",
   "execution_count": 11,
   "metadata": {},
   "outputs": [],
   "source": [
    "pd.options.display.max_colwidth = 500"
   ]
  },
  {
   "cell_type": "code",
   "execution_count": 12,
   "metadata": {},
   "outputs": [
    {
     "data": {
      "text/html": [
       "<div>\n",
       "<style scoped>\n",
       "    .dataframe tbody tr th:only-of-type {\n",
       "        vertical-align: middle;\n",
       "    }\n",
       "\n",
       "    .dataframe tbody tr th {\n",
       "        vertical-align: top;\n",
       "    }\n",
       "\n",
       "    .dataframe thead th {\n",
       "        text-align: right;\n",
       "    }\n",
       "</style>\n",
       "<table border=\"1\" class=\"dataframe\">\n",
       "  <thead>\n",
       "    <tr style=\"text-align: right;\">\n",
       "      <th></th>\n",
       "      <th>read1</th>\n",
       "      <th>read2</th>\n",
       "      <th>sample_id</th>\n",
       "      <th>output_signature</th>\n",
       "    </tr>\n",
       "    <tr>\n",
       "      <th>id</th>\n",
       "      <th></th>\n",
       "      <th></th>\n",
       "      <th></th>\n",
       "      <th></th>\n",
       "    </tr>\n",
       "  </thead>\n",
       "  <tbody>\n",
       "    <tr>\n",
       "      <th>A10-B002010-3_39_F-1-1_S218</th>\n",
       "      <td>s3://czbiohub-maca/remux_data/170914_A00111_0058_AH3FYKDMXX/rawdata/A10-B002010-3_39_F-1-1_S218/A10-B002010-3_39_F-1-1_S218_R1_001.fastq.gz</td>\n",
       "      <td>s3://czbiohub-maca/remux_data/170914_A00111_0058_AH3FYKDMXX/rawdata/A10-B002010-3_39_F-1-1_S218/A10-B002010-3_39_F-1-1_S218_R2_001.fastq.gz</td>\n",
       "      <td>A10-B002010-3_39_F-1-1_S218</td>\n",
       "      <td>s3://olgabot-maca/facs/sourmash/A10-B002010-3_39_F-1-1_S218.signature</td>\n",
       "    </tr>\n",
       "    <tr>\n",
       "      <th>A10-B002421-3_39_F-1-1_S193</th>\n",
       "      <td>s3://czbiohub-maca/remux_data/170914_A00111_0058_AH3FYKDMXX/rawdata/A10-B002421-3_39_F-1-1_S193/A10-B002421-3_39_F-1-1_S193_R1_001.fastq.gz</td>\n",
       "      <td>s3://czbiohub-maca/remux_data/170914_A00111_0058_AH3FYKDMXX/rawdata/A10-B002421-3_39_F-1-1_S193/A10-B002421-3_39_F-1-1_S193_R2_001.fastq.gz</td>\n",
       "      <td>A10-B002421-3_39_F-1-1_S193</td>\n",
       "      <td>s3://olgabot-maca/facs/sourmash/A10-B002421-3_39_F-1-1_S193.signature</td>\n",
       "    </tr>\n",
       "    <tr>\n",
       "      <th>A10-B002429-3_38_F-1-1_S39</th>\n",
       "      <td>s3://czbiohub-maca/remux_data/170928_A00111_0068_AH3YKKDMXX/rawdata/A10-B002429-3_38_F-1-1_S39/A10-B002429-3_38_F-1-1_S39_R1_001.fastq.gz</td>\n",
       "      <td>s3://czbiohub-maca/remux_data/170928_A00111_0068_AH3YKKDMXX/rawdata/A10-B002429-3_38_F-1-1_S39/A10-B002429-3_38_F-1-1_S39_R2_001.fastq.gz</td>\n",
       "      <td>A10-B002429-3_38_F-1-1_S39</td>\n",
       "      <td>s3://olgabot-maca/facs/sourmash/A10-B002429-3_38_F-1-1_S39.signature</td>\n",
       "    </tr>\n",
       "    <tr>\n",
       "      <th>A10-B002435-3_39_F-1-1_S249</th>\n",
       "      <td>s3://czbiohub-maca/remux_data/170914_A00111_0058_AH3FYKDMXX/rawdata/A10-B002435-3_39_F-1-1_S249/A10-B002435-3_39_F-1-1_S249_R1_001.fastq.gz</td>\n",
       "      <td>s3://czbiohub-maca/remux_data/170914_A00111_0058_AH3FYKDMXX/rawdata/A10-B002435-3_39_F-1-1_S249/A10-B002435-3_39_F-1-1_S249_R2_001.fastq.gz</td>\n",
       "      <td>A10-B002435-3_39_F-1-1_S249</td>\n",
       "      <td>s3://olgabot-maca/facs/sourmash/A10-B002435-3_39_F-1-1_S249.signature</td>\n",
       "    </tr>\n",
       "    <tr>\n",
       "      <th>A10-D041894-3_9_M-1-1_S99</th>\n",
       "      <td>s3://czbiohub-maca/remux_data/170918_A00111_0059_BH3G22DMXX/rawdata/A10-D041894-3_9_M-1-1_S99/A10-D041894-3_9_M-1-1_S99_R1_001.fastq.gz</td>\n",
       "      <td>s3://czbiohub-maca/remux_data/170918_A00111_0059_BH3G22DMXX/rawdata/A10-D041894-3_9_M-1-1_S99/A10-D041894-3_9_M-1-1_S99_R2_001.fastq.gz</td>\n",
       "      <td>A10-D041894-3_9_M-1-1_S99</td>\n",
       "      <td>s3://olgabot-maca/facs/sourmash/A10-D041894-3_9_M-1-1_S99.signature</td>\n",
       "    </tr>\n",
       "  </tbody>\n",
       "</table>\n",
       "</div>"
      ],
      "text/plain": [
       "                                                                                                                                                                   read1  \\\n",
       "id                                                                                                                                                                         \n",
       "A10-B002010-3_39_F-1-1_S218  s3://czbiohub-maca/remux_data/170914_A00111_0058_AH3FYKDMXX/rawdata/A10-B002010-3_39_F-1-1_S218/A10-B002010-3_39_F-1-1_S218_R1_001.fastq.gz   \n",
       "A10-B002421-3_39_F-1-1_S193  s3://czbiohub-maca/remux_data/170914_A00111_0058_AH3FYKDMXX/rawdata/A10-B002421-3_39_F-1-1_S193/A10-B002421-3_39_F-1-1_S193_R1_001.fastq.gz   \n",
       "A10-B002429-3_38_F-1-1_S39     s3://czbiohub-maca/remux_data/170928_A00111_0068_AH3YKKDMXX/rawdata/A10-B002429-3_38_F-1-1_S39/A10-B002429-3_38_F-1-1_S39_R1_001.fastq.gz   \n",
       "A10-B002435-3_39_F-1-1_S249  s3://czbiohub-maca/remux_data/170914_A00111_0058_AH3FYKDMXX/rawdata/A10-B002435-3_39_F-1-1_S249/A10-B002435-3_39_F-1-1_S249_R1_001.fastq.gz   \n",
       "A10-D041894-3_9_M-1-1_S99        s3://czbiohub-maca/remux_data/170918_A00111_0059_BH3G22DMXX/rawdata/A10-D041894-3_9_M-1-1_S99/A10-D041894-3_9_M-1-1_S99_R1_001.fastq.gz   \n",
       "\n",
       "                                                                                                                                                                   read2  \\\n",
       "id                                                                                                                                                                         \n",
       "A10-B002010-3_39_F-1-1_S218  s3://czbiohub-maca/remux_data/170914_A00111_0058_AH3FYKDMXX/rawdata/A10-B002010-3_39_F-1-1_S218/A10-B002010-3_39_F-1-1_S218_R2_001.fastq.gz   \n",
       "A10-B002421-3_39_F-1-1_S193  s3://czbiohub-maca/remux_data/170914_A00111_0058_AH3FYKDMXX/rawdata/A10-B002421-3_39_F-1-1_S193/A10-B002421-3_39_F-1-1_S193_R2_001.fastq.gz   \n",
       "A10-B002429-3_38_F-1-1_S39     s3://czbiohub-maca/remux_data/170928_A00111_0068_AH3YKKDMXX/rawdata/A10-B002429-3_38_F-1-1_S39/A10-B002429-3_38_F-1-1_S39_R2_001.fastq.gz   \n",
       "A10-B002435-3_39_F-1-1_S249  s3://czbiohub-maca/remux_data/170914_A00111_0058_AH3FYKDMXX/rawdata/A10-B002435-3_39_F-1-1_S249/A10-B002435-3_39_F-1-1_S249_R2_001.fastq.gz   \n",
       "A10-D041894-3_9_M-1-1_S99        s3://czbiohub-maca/remux_data/170918_A00111_0059_BH3G22DMXX/rawdata/A10-D041894-3_9_M-1-1_S99/A10-D041894-3_9_M-1-1_S99_R2_001.fastq.gz   \n",
       "\n",
       "                                               sample_id  \\\n",
       "id                                                         \n",
       "A10-B002010-3_39_F-1-1_S218  A10-B002010-3_39_F-1-1_S218   \n",
       "A10-B002421-3_39_F-1-1_S193  A10-B002421-3_39_F-1-1_S193   \n",
       "A10-B002429-3_38_F-1-1_S39    A10-B002429-3_38_F-1-1_S39   \n",
       "A10-B002435-3_39_F-1-1_S249  A10-B002435-3_39_F-1-1_S249   \n",
       "A10-D041894-3_9_M-1-1_S99      A10-D041894-3_9_M-1-1_S99   \n",
       "\n",
       "                                                                                  output_signature  \n",
       "id                                                                                                  \n",
       "A10-B002010-3_39_F-1-1_S218  s3://olgabot-maca/facs/sourmash/A10-B002010-3_39_F-1-1_S218.signature  \n",
       "A10-B002421-3_39_F-1-1_S193  s3://olgabot-maca/facs/sourmash/A10-B002421-3_39_F-1-1_S193.signature  \n",
       "A10-B002429-3_38_F-1-1_S39    s3://olgabot-maca/facs/sourmash/A10-B002429-3_38_F-1-1_S39.signature  \n",
       "A10-B002435-3_39_F-1-1_S249  s3://olgabot-maca/facs/sourmash/A10-B002435-3_39_F-1-1_S249.signature  \n",
       "A10-D041894-3_9_M-1-1_S99      s3://olgabot-maca/facs/sourmash/A10-D041894-3_9_M-1-1_S99.signature  "
      ]
     },
     "execution_count": 12,
     "metadata": {},
     "output_type": "execute_result"
    }
   ],
   "source": [
    "samples_failed.head()"
   ]
  },
  {
   "cell_type": "code",
   "execution_count": 16,
   "metadata": {},
   "outputs": [
    {
     "name": "stdout",
     "output_type": "stream",
     "text": [
      "(263160, 4)\n"
     ]
    },
    {
     "data": {
      "text/html": [
       "<div>\n",
       "<style scoped>\n",
       "    .dataframe tbody tr th:only-of-type {\n",
       "        vertical-align: middle;\n",
       "    }\n",
       "\n",
       "    .dataframe tbody tr th {\n",
       "        vertical-align: top;\n",
       "    }\n",
       "\n",
       "    .dataframe thead th {\n",
       "        text-align: right;\n",
       "    }\n",
       "</style>\n",
       "<table border=\"1\" class=\"dataframe\">\n",
       "  <thead>\n",
       "    <tr style=\"text-align: right;\">\n",
       "      <th></th>\n",
       "      <th>date</th>\n",
       "      <th>time</th>\n",
       "      <th>filesize</th>\n",
       "      <th>suffix</th>\n",
       "    </tr>\n",
       "  </thead>\n",
       "  <tbody>\n",
       "    <tr>\n",
       "      <th>0</th>\n",
       "      <td>2017-10-31</td>\n",
       "      <td>19:17:18</td>\n",
       "      <td>52570660</td>\n",
       "      <td>remux_data/170907_A00111_0051_BH2HWLDMXX/rawdata/A1-D041911-3_8_M-1-1_S128/A1-D041911-3_8_M-1-1_S128_R1_001.fastq.gz</td>\n",
       "    </tr>\n",
       "    <tr>\n",
       "      <th>1</th>\n",
       "      <td>2017-10-31</td>\n",
       "      <td>19:17:18</td>\n",
       "      <td>55481347</td>\n",
       "      <td>remux_data/170907_A00111_0051_BH2HWLDMXX/rawdata/A1-D041911-3_8_M-1-1_S128/A1-D041911-3_8_M-1-1_S128_R2_001.fastq.gz</td>\n",
       "    </tr>\n",
       "    <tr>\n",
       "      <th>2</th>\n",
       "      <td>2017-10-31</td>\n",
       "      <td>19:14:53</td>\n",
       "      <td>53806</td>\n",
       "      <td>remux_data/170907_A00111_0051_BH2HWLDMXX/rawdata/A1-D041912-3_8_M-1-1_S1/A1-D041912-3_8_M-1-1_S1_R1_001.fastq.gz</td>\n",
       "    </tr>\n",
       "    <tr>\n",
       "      <th>3</th>\n",
       "      <td>2017-10-31</td>\n",
       "      <td>19:14:53</td>\n",
       "      <td>54967</td>\n",
       "      <td>remux_data/170907_A00111_0051_BH2HWLDMXX/rawdata/A1-D041912-3_8_M-1-1_S1/A1-D041912-3_8_M-1-1_S1_R2_001.fastq.gz</td>\n",
       "    </tr>\n",
       "    <tr>\n",
       "      <th>4</th>\n",
       "      <td>2017-10-31</td>\n",
       "      <td>19:14:53</td>\n",
       "      <td>36204</td>\n",
       "      <td>remux_data/170907_A00111_0051_BH2HWLDMXX/rawdata/A1-D041914-3_8_M-1-1_S269/A1-D041914-3_8_M-1-1_S269_R1_001.fastq.gz</td>\n",
       "    </tr>\n",
       "  </tbody>\n",
       "</table>\n",
       "</div>"
      ],
      "text/plain": [
       "         date      time  filesize  \\\n",
       "0  2017-10-31  19:17:18  52570660   \n",
       "1  2017-10-31  19:17:18  55481347   \n",
       "2  2017-10-31  19:14:53     53806   \n",
       "3  2017-10-31  19:14:53     54967   \n",
       "4  2017-10-31  19:14:53     36204   \n",
       "\n",
       "                                                                                                                 suffix  \n",
       "0  remux_data/170907_A00111_0051_BH2HWLDMXX/rawdata/A1-D041911-3_8_M-1-1_S128/A1-D041911-3_8_M-1-1_S128_R1_001.fastq.gz  \n",
       "1  remux_data/170907_A00111_0051_BH2HWLDMXX/rawdata/A1-D041911-3_8_M-1-1_S128/A1-D041911-3_8_M-1-1_S128_R2_001.fastq.gz  \n",
       "2      remux_data/170907_A00111_0051_BH2HWLDMXX/rawdata/A1-D041912-3_8_M-1-1_S1/A1-D041912-3_8_M-1-1_S1_R1_001.fastq.gz  \n",
       "3      remux_data/170907_A00111_0051_BH2HWLDMXX/rawdata/A1-D041912-3_8_M-1-1_S1/A1-D041912-3_8_M-1-1_S1_R2_001.fastq.gz  \n",
       "4  remux_data/170907_A00111_0051_BH2HWLDMXX/rawdata/A1-D041914-3_8_M-1-1_S269/A1-D041914-3_8_M-1-1_S269_R1_001.fastq.gz  "
      ]
     },
     "execution_count": 16,
     "metadata": {},
     "output_type": "execute_result"
    }
   ],
   "source": [
    "aws_fastq_bytes = pd.read_table('/mnt/data/maca/facs/aws_maca_remux_bytes_fastq.txt', sep='\\s+', \n",
    "                                header=None, names=['date', 'time', 'filesize', 'suffix'])\n",
    "print(aws_fastq_bytes.shape)\n",
    "aws_fastq_bytes.head()"
   ]
  },
  {
   "cell_type": "code",
   "execution_count": 17,
   "metadata": {},
   "outputs": [
    {
     "data": {
      "text/html": [
       "<div>\n",
       "<style scoped>\n",
       "    .dataframe tbody tr th:only-of-type {\n",
       "        vertical-align: middle;\n",
       "    }\n",
       "\n",
       "    .dataframe tbody tr th {\n",
       "        vertical-align: top;\n",
       "    }\n",
       "\n",
       "    .dataframe thead th {\n",
       "        text-align: right;\n",
       "    }\n",
       "</style>\n",
       "<table border=\"1\" class=\"dataframe\">\n",
       "  <thead>\n",
       "    <tr style=\"text-align: right;\">\n",
       "      <th></th>\n",
       "      <th>date</th>\n",
       "      <th>time</th>\n",
       "      <th>filesize</th>\n",
       "      <th>suffix</th>\n",
       "      <th>sample_id</th>\n",
       "      <th>read</th>\n",
       "    </tr>\n",
       "  </thead>\n",
       "  <tbody>\n",
       "    <tr>\n",
       "      <th>0</th>\n",
       "      <td>2017-10-31</td>\n",
       "      <td>19:17:18</td>\n",
       "      <td>52570660</td>\n",
       "      <td>remux_data/170907_A00111_0051_BH2HWLDMXX/rawdata/A1-D041911-3_8_M-1-1_S128/A1-D041911-3_8_M-1-1_S128_R1_001.fastq.gz</td>\n",
       "      <td>A1-D041911-3_8_M-1-1_S128</td>\n",
       "      <td>R1</td>\n",
       "    </tr>\n",
       "    <tr>\n",
       "      <th>1</th>\n",
       "      <td>2017-10-31</td>\n",
       "      <td>19:17:18</td>\n",
       "      <td>55481347</td>\n",
       "      <td>remux_data/170907_A00111_0051_BH2HWLDMXX/rawdata/A1-D041911-3_8_M-1-1_S128/A1-D041911-3_8_M-1-1_S128_R2_001.fastq.gz</td>\n",
       "      <td>A1-D041911-3_8_M-1-1_S128</td>\n",
       "      <td>R2</td>\n",
       "    </tr>\n",
       "    <tr>\n",
       "      <th>2</th>\n",
       "      <td>2017-10-31</td>\n",
       "      <td>19:14:53</td>\n",
       "      <td>53806</td>\n",
       "      <td>remux_data/170907_A00111_0051_BH2HWLDMXX/rawdata/A1-D041912-3_8_M-1-1_S1/A1-D041912-3_8_M-1-1_S1_R1_001.fastq.gz</td>\n",
       "      <td>A1-D041912-3_8_M-1-1_S1</td>\n",
       "      <td>R1</td>\n",
       "    </tr>\n",
       "    <tr>\n",
       "      <th>3</th>\n",
       "      <td>2017-10-31</td>\n",
       "      <td>19:14:53</td>\n",
       "      <td>54967</td>\n",
       "      <td>remux_data/170907_A00111_0051_BH2HWLDMXX/rawdata/A1-D041912-3_8_M-1-1_S1/A1-D041912-3_8_M-1-1_S1_R2_001.fastq.gz</td>\n",
       "      <td>A1-D041912-3_8_M-1-1_S1</td>\n",
       "      <td>R2</td>\n",
       "    </tr>\n",
       "    <tr>\n",
       "      <th>4</th>\n",
       "      <td>2017-10-31</td>\n",
       "      <td>19:14:53</td>\n",
       "      <td>36204</td>\n",
       "      <td>remux_data/170907_A00111_0051_BH2HWLDMXX/rawdata/A1-D041914-3_8_M-1-1_S269/A1-D041914-3_8_M-1-1_S269_R1_001.fastq.gz</td>\n",
       "      <td>A1-D041914-3_8_M-1-1_S269</td>\n",
       "      <td>R1</td>\n",
       "    </tr>\n",
       "  </tbody>\n",
       "</table>\n",
       "</div>"
      ],
      "text/plain": [
       "         date      time  filesize  \\\n",
       "0  2017-10-31  19:17:18  52570660   \n",
       "1  2017-10-31  19:17:18  55481347   \n",
       "2  2017-10-31  19:14:53     53806   \n",
       "3  2017-10-31  19:14:53     54967   \n",
       "4  2017-10-31  19:14:53     36204   \n",
       "\n",
       "                                                                                                                 suffix  \\\n",
       "0  remux_data/170907_A00111_0051_BH2HWLDMXX/rawdata/A1-D041911-3_8_M-1-1_S128/A1-D041911-3_8_M-1-1_S128_R1_001.fastq.gz   \n",
       "1  remux_data/170907_A00111_0051_BH2HWLDMXX/rawdata/A1-D041911-3_8_M-1-1_S128/A1-D041911-3_8_M-1-1_S128_R2_001.fastq.gz   \n",
       "2      remux_data/170907_A00111_0051_BH2HWLDMXX/rawdata/A1-D041912-3_8_M-1-1_S1/A1-D041912-3_8_M-1-1_S1_R1_001.fastq.gz   \n",
       "3      remux_data/170907_A00111_0051_BH2HWLDMXX/rawdata/A1-D041912-3_8_M-1-1_S1/A1-D041912-3_8_M-1-1_S1_R2_001.fastq.gz   \n",
       "4  remux_data/170907_A00111_0051_BH2HWLDMXX/rawdata/A1-D041914-3_8_M-1-1_S269/A1-D041914-3_8_M-1-1_S269_R1_001.fastq.gz   \n",
       "\n",
       "                   sample_id read  \n",
       "0  A1-D041911-3_8_M-1-1_S128   R1  \n",
       "1  A1-D041911-3_8_M-1-1_S128   R2  \n",
       "2    A1-D041912-3_8_M-1-1_S1   R1  \n",
       "3    A1-D041912-3_8_M-1-1_S1   R2  \n",
       "4  A1-D041914-3_8_M-1-1_S269   R1  "
      ]
     },
     "execution_count": 17,
     "metadata": {},
     "output_type": "execute_result"
    }
   ],
   "source": [
    "aws_fastq_bytes['sample_id'] = aws_fastq_bytes['suffix'].str.split('/').str[-2]\n",
    "aws_fastq_bytes['read'] = aws_fastq_bytes['suffix'].str.extract('_(R[12])_')\n",
    "aws_fastq_bytes.head()"
   ]
  },
  {
   "cell_type": "code",
   "execution_count": 26,
   "metadata": {},
   "outputs": [
    {
     "data": {
      "text/html": [
       "<div>\n",
       "<style scoped>\n",
       "    .dataframe tbody tr th:only-of-type {\n",
       "        vertical-align: middle;\n",
       "    }\n",
       "\n",
       "    .dataframe tbody tr th {\n",
       "        vertical-align: top;\n",
       "    }\n",
       "\n",
       "    .dataframe thead th {\n",
       "        text-align: right;\n",
       "    }\n",
       "</style>\n",
       "<table border=\"1\" class=\"dataframe\">\n",
       "  <thead>\n",
       "    <tr style=\"text-align: right;\">\n",
       "      <th></th>\n",
       "      <th>date</th>\n",
       "      <th>time</th>\n",
       "      <th>filesize</th>\n",
       "      <th>suffix</th>\n",
       "      <th>sample_id</th>\n",
       "      <th>read</th>\n",
       "      <th>megabytes</th>\n",
       "    </tr>\n",
       "  </thead>\n",
       "  <tbody>\n",
       "    <tr>\n",
       "      <th>0</th>\n",
       "      <td>2017-10-31</td>\n",
       "      <td>19:17:18</td>\n",
       "      <td>52570660</td>\n",
       "      <td>remux_data/170907_A00111_0051_BH2HWLDMXX/rawdata/A1-D041911-3_8_M-1-1_S128/A1-D041911-3_8_M-1-1_S128_R1_001.fastq.gz</td>\n",
       "      <td>A1-D041911-3_8_M-1-1_S128</td>\n",
       "      <td>R1</td>\n",
       "      <td>52.570660</td>\n",
       "    </tr>\n",
       "    <tr>\n",
       "      <th>1</th>\n",
       "      <td>2017-10-31</td>\n",
       "      <td>19:17:18</td>\n",
       "      <td>55481347</td>\n",
       "      <td>remux_data/170907_A00111_0051_BH2HWLDMXX/rawdata/A1-D041911-3_8_M-1-1_S128/A1-D041911-3_8_M-1-1_S128_R2_001.fastq.gz</td>\n",
       "      <td>A1-D041911-3_8_M-1-1_S128</td>\n",
       "      <td>R2</td>\n",
       "      <td>55.481347</td>\n",
       "    </tr>\n",
       "    <tr>\n",
       "      <th>2</th>\n",
       "      <td>2017-10-31</td>\n",
       "      <td>19:14:53</td>\n",
       "      <td>53806</td>\n",
       "      <td>remux_data/170907_A00111_0051_BH2HWLDMXX/rawdata/A1-D041912-3_8_M-1-1_S1/A1-D041912-3_8_M-1-1_S1_R1_001.fastq.gz</td>\n",
       "      <td>A1-D041912-3_8_M-1-1_S1</td>\n",
       "      <td>R1</td>\n",
       "      <td>0.053806</td>\n",
       "    </tr>\n",
       "    <tr>\n",
       "      <th>3</th>\n",
       "      <td>2017-10-31</td>\n",
       "      <td>19:14:53</td>\n",
       "      <td>54967</td>\n",
       "      <td>remux_data/170907_A00111_0051_BH2HWLDMXX/rawdata/A1-D041912-3_8_M-1-1_S1/A1-D041912-3_8_M-1-1_S1_R2_001.fastq.gz</td>\n",
       "      <td>A1-D041912-3_8_M-1-1_S1</td>\n",
       "      <td>R2</td>\n",
       "      <td>0.054967</td>\n",
       "    </tr>\n",
       "    <tr>\n",
       "      <th>4</th>\n",
       "      <td>2017-10-31</td>\n",
       "      <td>19:14:53</td>\n",
       "      <td>36204</td>\n",
       "      <td>remux_data/170907_A00111_0051_BH2HWLDMXX/rawdata/A1-D041914-3_8_M-1-1_S269/A1-D041914-3_8_M-1-1_S269_R1_001.fastq.gz</td>\n",
       "      <td>A1-D041914-3_8_M-1-1_S269</td>\n",
       "      <td>R1</td>\n",
       "      <td>0.036204</td>\n",
       "    </tr>\n",
       "  </tbody>\n",
       "</table>\n",
       "</div>"
      ],
      "text/plain": [
       "         date      time  filesize  \\\n",
       "0  2017-10-31  19:17:18  52570660   \n",
       "1  2017-10-31  19:17:18  55481347   \n",
       "2  2017-10-31  19:14:53     53806   \n",
       "3  2017-10-31  19:14:53     54967   \n",
       "4  2017-10-31  19:14:53     36204   \n",
       "\n",
       "                                                                                                                 suffix  \\\n",
       "0  remux_data/170907_A00111_0051_BH2HWLDMXX/rawdata/A1-D041911-3_8_M-1-1_S128/A1-D041911-3_8_M-1-1_S128_R1_001.fastq.gz   \n",
       "1  remux_data/170907_A00111_0051_BH2HWLDMXX/rawdata/A1-D041911-3_8_M-1-1_S128/A1-D041911-3_8_M-1-1_S128_R2_001.fastq.gz   \n",
       "2      remux_data/170907_A00111_0051_BH2HWLDMXX/rawdata/A1-D041912-3_8_M-1-1_S1/A1-D041912-3_8_M-1-1_S1_R1_001.fastq.gz   \n",
       "3      remux_data/170907_A00111_0051_BH2HWLDMXX/rawdata/A1-D041912-3_8_M-1-1_S1/A1-D041912-3_8_M-1-1_S1_R2_001.fastq.gz   \n",
       "4  remux_data/170907_A00111_0051_BH2HWLDMXX/rawdata/A1-D041914-3_8_M-1-1_S269/A1-D041914-3_8_M-1-1_S269_R1_001.fastq.gz   \n",
       "\n",
       "                   sample_id read  megabytes  \n",
       "0  A1-D041911-3_8_M-1-1_S128   R1  52.570660  \n",
       "1  A1-D041911-3_8_M-1-1_S128   R2  55.481347  \n",
       "2    A1-D041912-3_8_M-1-1_S1   R1   0.053806  \n",
       "3    A1-D041912-3_8_M-1-1_S1   R2   0.054967  \n",
       "4  A1-D041914-3_8_M-1-1_S269   R1   0.036204  "
      ]
     },
     "execution_count": 26,
     "metadata": {},
     "output_type": "execute_result"
    }
   ],
   "source": [
    "aws_fastq_bytes['megabytes'] = aws_fastq_bytes['filesize']/1e6\n",
    "aws_fastq_bytes.head()"
   ]
  },
  {
   "cell_type": "code",
   "execution_count": 27,
   "metadata": {},
   "outputs": [
    {
     "data": {
      "text/html": [
       "<div>\n",
       "<style scoped>\n",
       "    .dataframe tbody tr th:only-of-type {\n",
       "        vertical-align: middle;\n",
       "    }\n",
       "\n",
       "    .dataframe tbody tr th {\n",
       "        vertical-align: top;\n",
       "    }\n",
       "\n",
       "    .dataframe thead th {\n",
       "        text-align: right;\n",
       "    }\n",
       "</style>\n",
       "<table border=\"1\" class=\"dataframe\">\n",
       "  <thead>\n",
       "    <tr style=\"text-align: right;\">\n",
       "      <th></th>\n",
       "      <th>date</th>\n",
       "      <th>time</th>\n",
       "      <th>filesize</th>\n",
       "      <th>suffix</th>\n",
       "      <th>sample_id</th>\n",
       "      <th>read</th>\n",
       "      <th>megabytes</th>\n",
       "    </tr>\n",
       "  </thead>\n",
       "  <tbody>\n",
       "    <tr>\n",
       "      <th>36</th>\n",
       "      <td>2017-10-31</td>\n",
       "      <td>19:31:51</td>\n",
       "      <td>25252295</td>\n",
       "      <td>remux_data/170907_A00111_0051_BH2HWLDMXX/rawdata/A1-MAA000776-3_10_M-1-1_S81/A1-MAA000776-3_10_M-1-1_S81_R1_001.fastq.gz</td>\n",
       "      <td>A1-MAA000776-3_10_M-1-1_S81</td>\n",
       "      <td>R1</td>\n",
       "      <td>25.252295</td>\n",
       "    </tr>\n",
       "    <tr>\n",
       "      <th>37</th>\n",
       "      <td>2017-10-31</td>\n",
       "      <td>19:31:51</td>\n",
       "      <td>26355542</td>\n",
       "      <td>remux_data/170907_A00111_0051_BH2HWLDMXX/rawdata/A1-MAA000776-3_10_M-1-1_S81/A1-MAA000776-3_10_M-1-1_S81_R2_001.fastq.gz</td>\n",
       "      <td>A1-MAA000776-3_10_M-1-1_S81</td>\n",
       "      <td>R2</td>\n",
       "      <td>26.355542</td>\n",
       "    </tr>\n",
       "    <tr>\n",
       "      <th>50</th>\n",
       "      <td>2017-11-01</td>\n",
       "      <td>20:14:17</td>\n",
       "      <td>29405786</td>\n",
       "      <td>remux_data/170907_A00111_0051_BH2HWLDMXX/rawdata/A1-MAA000937-3_8_M-1-1_S119/A1-MAA000937-3_8_M-1-1_S119_R1_001.fastq.gz</td>\n",
       "      <td>A1-MAA000937-3_8_M-1-1_S119</td>\n",
       "      <td>R1</td>\n",
       "      <td>29.405786</td>\n",
       "    </tr>\n",
       "    <tr>\n",
       "      <th>51</th>\n",
       "      <td>2017-11-01</td>\n",
       "      <td>20:14:17</td>\n",
       "      <td>31298734</td>\n",
       "      <td>remux_data/170907_A00111_0051_BH2HWLDMXX/rawdata/A1-MAA000937-3_8_M-1-1_S119/A1-MAA000937-3_8_M-1-1_S119_R2_001.fastq.gz</td>\n",
       "      <td>A1-MAA000937-3_8_M-1-1_S119</td>\n",
       "      <td>R2</td>\n",
       "      <td>31.298734</td>\n",
       "    </tr>\n",
       "    <tr>\n",
       "      <th>106</th>\n",
       "      <td>2017-10-31</td>\n",
       "      <td>19:35:19</td>\n",
       "      <td>31727</td>\n",
       "      <td>remux_data/170907_A00111_0051_BH2HWLDMXX/rawdata/A11-D042193-3_8_M-1-1_S22/A11-D042193-3_8_M-1-1_S22_R1_001.fastq.gz</td>\n",
       "      <td>A11-D042193-3_8_M-1-1_S22</td>\n",
       "      <td>R1</td>\n",
       "      <td>0.031727</td>\n",
       "    </tr>\n",
       "  </tbody>\n",
       "</table>\n",
       "</div>"
      ],
      "text/plain": [
       "           date      time  filesize  \\\n",
       "36   2017-10-31  19:31:51  25252295   \n",
       "37   2017-10-31  19:31:51  26355542   \n",
       "50   2017-11-01  20:14:17  29405786   \n",
       "51   2017-11-01  20:14:17  31298734   \n",
       "106  2017-10-31  19:35:19     31727   \n",
       "\n",
       "                                                                                                                       suffix  \\\n",
       "36   remux_data/170907_A00111_0051_BH2HWLDMXX/rawdata/A1-MAA000776-3_10_M-1-1_S81/A1-MAA000776-3_10_M-1-1_S81_R1_001.fastq.gz   \n",
       "37   remux_data/170907_A00111_0051_BH2HWLDMXX/rawdata/A1-MAA000776-3_10_M-1-1_S81/A1-MAA000776-3_10_M-1-1_S81_R2_001.fastq.gz   \n",
       "50   remux_data/170907_A00111_0051_BH2HWLDMXX/rawdata/A1-MAA000937-3_8_M-1-1_S119/A1-MAA000937-3_8_M-1-1_S119_R1_001.fastq.gz   \n",
       "51   remux_data/170907_A00111_0051_BH2HWLDMXX/rawdata/A1-MAA000937-3_8_M-1-1_S119/A1-MAA000937-3_8_M-1-1_S119_R2_001.fastq.gz   \n",
       "106      remux_data/170907_A00111_0051_BH2HWLDMXX/rawdata/A11-D042193-3_8_M-1-1_S22/A11-D042193-3_8_M-1-1_S22_R1_001.fastq.gz   \n",
       "\n",
       "                       sample_id read  megabytes  \n",
       "36   A1-MAA000776-3_10_M-1-1_S81   R1  25.252295  \n",
       "37   A1-MAA000776-3_10_M-1-1_S81   R2  26.355542  \n",
       "50   A1-MAA000937-3_8_M-1-1_S119   R1  29.405786  \n",
       "51   A1-MAA000937-3_8_M-1-1_S119   R2  31.298734  \n",
       "106    A11-D042193-3_8_M-1-1_S22   R1   0.031727  "
      ]
     },
     "execution_count": 27,
     "metadata": {},
     "output_type": "execute_result"
    }
   ],
   "source": [
    "aws_fastq_bytes_failed = aws_fastq_bytes.query('sample_id in @failed_samples_logs.id')\n",
    "aws_fastq_bytes_failed.head()"
   ]
  },
  {
   "cell_type": "code",
   "execution_count": 28,
   "metadata": {},
   "outputs": [
    {
     "name": "stderr",
     "output_type": "stream",
     "text": [
      "/home/ubuntu/anaconda/lib/python3.6/site-packages/matplotlib/axes/_axes.py:6462: UserWarning: The 'normed' kwarg is deprecated, and has been replaced by the 'density' kwarg.\n",
      "  warnings.warn(\"The 'normed' kwarg is deprecated, and has been \"\n",
      "/home/ubuntu/anaconda/lib/python3.6/site-packages/matplotlib/axes/_axes.py:6462: UserWarning: The 'normed' kwarg is deprecated, and has been replaced by the 'density' kwarg.\n",
      "  warnings.warn(\"The 'normed' kwarg is deprecated, and has been \"\n"
     ]
    },
    {
     "data": {
      "text/plain": [
       "<matplotlib.legend.Legend at 0x7fa52a503470>"
      ]
     },
     "execution_count": 28,
     "metadata": {},
     "output_type": "execute_result"
    },
    {
     "data": {
      "image/png": "[encoded data removed]",
      "text/plain": [
       "<Figure size 432x288 with 1 Axes>"
      ]
     },
     "metadata": {},
     "output_type": "display_data"
    }
   ],
   "source": [
    "import matplotlib.pyplot as plt\n",
    "import seaborn as sns\n",
    "%matplotlib inline\n",
    "\n",
    "fig, ax = plt.subplots()\n",
    "sns.distplot(aws_fastq_bytes['megabytes'], label='All files')\n",
    "sns.distplot(aws_fastq_bytes_failed['megabytes'], label='failed files')\n",
    "ax.legend()"
   ]
  },
  {
   "cell_type": "code",
   "execution_count": 33,
   "metadata": {},
   "outputs": [
    {
     "data": {
      "text/html": [
       "<div>\n",
       "<style scoped>\n",
       "    .dataframe tbody tr th:only-of-type {\n",
       "        vertical-align: middle;\n",
       "    }\n",
       "\n",
       "    .dataframe tbody tr th {\n",
       "        vertical-align: top;\n",
       "    }\n",
       "\n",
       "    .dataframe thead th {\n",
       "        text-align: right;\n",
       "    }\n",
       "</style>\n",
       "<table border=\"1\" class=\"dataframe\">\n",
       "  <thead>\n",
       "    <tr style=\"text-align: right;\">\n",
       "      <th></th>\n",
       "      <th>date</th>\n",
       "      <th>time</th>\n",
       "      <th>filesize</th>\n",
       "      <th>suffix</th>\n",
       "      <th>sample_id</th>\n",
       "      <th>read</th>\n",
       "      <th>s3_path</th>\n",
       "      <th>megabytes</th>\n",
       "    </tr>\n",
       "  </thead>\n",
       "  <tbody>\n",
       "    <tr>\n",
       "      <th>0</th>\n",
       "      <td>2017-11-01</td>\n",
       "      <td>14:31:20</td>\n",
       "      <td>22145573</td>\n",
       "      <td>remux_data/170925_A00111_0066_AH3TKNDMXX/rawdata/A1-B000126-3_39_F-1-1_S289/A1-B000126-3_39_F-1-1_S289_R1_001.fastq.gz</td>\n",
       "      <td>A1-B000126-3_39_F-1-1_S289</td>\n",
       "      <td>R1</td>\n",
       "      <td>s3://czbiohub-maca/remux_data/170925_A00111_0066_AH3TKNDMXX/rawdata/A1-B000126-3_39_F-1-1_S289/A1-B000126-3_39_F-1-1_S289_R1_001.fastq.gz</td>\n",
       "      <td>22.145573</td>\n",
       "    </tr>\n",
       "    <tr>\n",
       "      <th>1</th>\n",
       "      <td>2017-11-01</td>\n",
       "      <td>16:41:03</td>\n",
       "      <td>23266148</td>\n",
       "      <td>remux_data/170925_A00111_0067_BH3M5YDMXX/rawdata/A1-B000126-3_39_F-1-1_S289/A1-B000126-3_39_F-1-1_S289_R2_001.fastq.gz</td>\n",
       "      <td>A1-B000126-3_39_F-1-1_S289</td>\n",
       "      <td>R2</td>\n",
       "      <td>s3://czbiohub-maca/remux_data/170925_A00111_0067_BH3M5YDMXX/rawdata/A1-B000126-3_39_F-1-1_S289/A1-B000126-3_39_F-1-1_S289_R2_001.fastq.gz</td>\n",
       "      <td>23.266148</td>\n",
       "    </tr>\n",
       "    <tr>\n",
       "      <th>2</th>\n",
       "      <td>2017-11-01</td>\n",
       "      <td>02:55:18</td>\n",
       "      <td>21310221</td>\n",
       "      <td>remux_data/170914_A00111_0058_AH3FYKDMXX/rawdata/A1-B000127-3_38_F-1-1_S1/A1-B000127-3_38_F-1-1_S1_R1_001.fastq.gz</td>\n",
       "      <td>A1-B000127-3_38_F-1-1_S1</td>\n",
       "      <td>R1</td>\n",
       "      <td>s3://czbiohub-maca/remux_data/170914_A00111_0058_AH3FYKDMXX/rawdata/A1-B000127-3_38_F-1-1_S1/A1-B000127-3_38_F-1-1_S1_R1_001.fastq.gz</td>\n",
       "      <td>21.310221</td>\n",
       "    </tr>\n",
       "    <tr>\n",
       "      <th>3</th>\n",
       "      <td>2017-11-01</td>\n",
       "      <td>02:55:18</td>\n",
       "      <td>22202025</td>\n",
       "      <td>remux_data/170914_A00111_0058_AH3FYKDMXX/rawdata/A1-B000127-3_38_F-1-1_S1/A1-B000127-3_38_F-1-1_S1_R2_001.fastq.gz</td>\n",
       "      <td>A1-B000127-3_38_F-1-1_S1</td>\n",
       "      <td>R2</td>\n",
       "      <td>s3://czbiohub-maca/remux_data/170914_A00111_0058_AH3FYKDMXX/rawdata/A1-B000127-3_38_F-1-1_S1/A1-B000127-3_38_F-1-1_S1_R2_001.fastq.gz</td>\n",
       "      <td>22.202025</td>\n",
       "    </tr>\n",
       "    <tr>\n",
       "      <th>4</th>\n",
       "      <td>2017-11-01</td>\n",
       "      <td>16:13:47</td>\n",
       "      <td>16167976</td>\n",
       "      <td>remux_data/170925_A00111_0066_AH3TKNDMXX/rawdata/A1-B000167-3_56_F-1-1_S228/A1-B000167-3_56_F-1-1_S228_R1_001.fastq.gz</td>\n",
       "      <td>A1-B000167-3_56_F-1-1_S228</td>\n",
       "      <td>R1</td>\n",
       "      <td>s3://czbiohub-maca/remux_data/170925_A00111_0066_AH3TKNDMXX/rawdata/A1-B000167-3_56_F-1-1_S228/A1-B000167-3_56_F-1-1_S228_R1_001.fastq.gz</td>\n",
       "      <td>16.167976</td>\n",
       "    </tr>\n",
       "  </tbody>\n",
       "</table>\n",
       "</div>"
      ],
      "text/plain": [
       "         date      time  filesize  \\\n",
       "0  2017-11-01  14:31:20  22145573   \n",
       "1  2017-11-01  16:41:03  23266148   \n",
       "2  2017-11-01  02:55:18  21310221   \n",
       "3  2017-11-01  02:55:18  22202025   \n",
       "4  2017-11-01  16:13:47  16167976   \n",
       "\n",
       "                                                                                                                   suffix  \\\n",
       "0  remux_data/170925_A00111_0066_AH3TKNDMXX/rawdata/A1-B000126-3_39_F-1-1_S289/A1-B000126-3_39_F-1-1_S289_R1_001.fastq.gz   \n",
       "1  remux_data/170925_A00111_0067_BH3M5YDMXX/rawdata/A1-B000126-3_39_F-1-1_S289/A1-B000126-3_39_F-1-1_S289_R2_001.fastq.gz   \n",
       "2      remux_data/170914_A00111_0058_AH3FYKDMXX/rawdata/A1-B000127-3_38_F-1-1_S1/A1-B000127-3_38_F-1-1_S1_R1_001.fastq.gz   \n",
       "3      remux_data/170914_A00111_0058_AH3FYKDMXX/rawdata/A1-B000127-3_38_F-1-1_S1/A1-B000127-3_38_F-1-1_S1_R2_001.fastq.gz   \n",
       "4  remux_data/170925_A00111_0066_AH3TKNDMXX/rawdata/A1-B000167-3_56_F-1-1_S228/A1-B000167-3_56_F-1-1_S228_R1_001.fastq.gz   \n",
       "\n",
       "                    sample_id read  \\\n",
       "0  A1-B000126-3_39_F-1-1_S289   R1   \n",
       "1  A1-B000126-3_39_F-1-1_S289   R2   \n",
       "2    A1-B000127-3_38_F-1-1_S1   R1   \n",
       "3    A1-B000127-3_38_F-1-1_S1   R2   \n",
       "4  A1-B000167-3_56_F-1-1_S228   R1   \n",
       "\n",
       "                                                                                                                                     s3_path  \\\n",
       "0  s3://czbiohub-maca/remux_data/170925_A00111_0066_AH3TKNDMXX/rawdata/A1-B000126-3_39_F-1-1_S289/A1-B000126-3_39_F-1-1_S289_R1_001.fastq.gz   \n",
       "1  s3://czbiohub-maca/remux_data/170925_A00111_0067_BH3M5YDMXX/rawdata/A1-B000126-3_39_F-1-1_S289/A1-B000126-3_39_F-1-1_S289_R2_001.fastq.gz   \n",
       "2      s3://czbiohub-maca/remux_data/170914_A00111_0058_AH3FYKDMXX/rawdata/A1-B000127-3_38_F-1-1_S1/A1-B000127-3_38_F-1-1_S1_R1_001.fastq.gz   \n",
       "3      s3://czbiohub-maca/remux_data/170914_A00111_0058_AH3FYKDMXX/rawdata/A1-B000127-3_38_F-1-1_S1/A1-B000127-3_38_F-1-1_S1_R2_001.fastq.gz   \n",
       "4  s3://czbiohub-maca/remux_data/170925_A00111_0066_AH3TKNDMXX/rawdata/A1-B000167-3_56_F-1-1_S228/A1-B000167-3_56_F-1-1_S228_R1_001.fastq.gz   \n",
       "\n",
       "   megabytes  \n",
       "0  22.145573  \n",
       "1  23.266148  \n",
       "2  21.310221  \n",
       "3  22.202025  \n",
       "4  16.167976  "
      ]
     },
     "execution_count": 33,
     "metadata": {},
     "output_type": "execute_result"
    }
   ],
   "source": [
    "aws_largest_file = pd.read_csv('/home/ubuntu/kmer-hashing/sourmash/maca/facs/aws_largest_file_per_sample_read.csv')\n",
    "aws_largest_file['megabytes'] = aws_largest_file['filesize']/1e6\n",
    "aws_largest_file.head()"
   ]
  },
  {
   "cell_type": "code",
   "execution_count": 34,
   "metadata": {},
   "outputs": [
    {
     "name": "stdout",
     "output_type": "stream",
     "text": [
      "(6932, 8)\n"
     ]
    },
    {
     "data": {
      "text/html": [
       "<div>\n",
       "<style scoped>\n",
       "    .dataframe tbody tr th:only-of-type {\n",
       "        vertical-align: middle;\n",
       "    }\n",
       "\n",
       "    .dataframe tbody tr th {\n",
       "        vertical-align: top;\n",
       "    }\n",
       "\n",
       "    .dataframe thead th {\n",
       "        text-align: right;\n",
       "    }\n",
       "</style>\n",
       "<table border=\"1\" class=\"dataframe\">\n",
       "  <thead>\n",
       "    <tr style=\"text-align: right;\">\n",
       "      <th></th>\n",
       "      <th>date</th>\n",
       "      <th>time</th>\n",
       "      <th>filesize</th>\n",
       "      <th>suffix</th>\n",
       "      <th>sample_id</th>\n",
       "      <th>read</th>\n",
       "      <th>s3_path</th>\n",
       "      <th>megabytes</th>\n",
       "    </tr>\n",
       "  </thead>\n",
       "  <tbody>\n",
       "    <tr>\n",
       "      <th>160</th>\n",
       "      <td>2017-10-31</td>\n",
       "      <td>23:50:27</td>\n",
       "      <td>61972501</td>\n",
       "      <td>remux_data/170910_A00111_0054_AH2HGWDMXX/rawdata/A1-MAA000560-3_10_M-1-1_S298/A1-MAA000560-3_10_M-1-1_S298_R1_001.fastq.gz</td>\n",
       "      <td>A1-MAA000560-3_10_M-1-1_S298</td>\n",
       "      <td>R1</td>\n",
       "      <td>s3://czbiohub-maca/remux_data/170910_A00111_0054_AH2HGWDMXX/rawdata/A1-MAA000560-3_10_M-1-1_S298/A1-MAA000560-3_10_M-1-1_S298_R1_001.fastq.gz</td>\n",
       "      <td>61.972501</td>\n",
       "    </tr>\n",
       "    <tr>\n",
       "      <th>161</th>\n",
       "      <td>2017-10-31</td>\n",
       "      <td>23:50:27</td>\n",
       "      <td>64906886</td>\n",
       "      <td>remux_data/170910_A00111_0054_AH2HGWDMXX/rawdata/A1-MAA000560-3_10_M-1-1_S298/A1-MAA000560-3_10_M-1-1_S298_R2_001.fastq.gz</td>\n",
       "      <td>A1-MAA000560-3_10_M-1-1_S298</td>\n",
       "      <td>R2</td>\n",
       "      <td>s3://czbiohub-maca/remux_data/170910_A00111_0054_AH2HGWDMXX/rawdata/A1-MAA000560-3_10_M-1-1_S298/A1-MAA000560-3_10_M-1-1_S298_R2_001.fastq.gz</td>\n",
       "      <td>64.906886</td>\n",
       "    </tr>\n",
       "    <tr>\n",
       "      <th>212</th>\n",
       "      <td>2017-10-31</td>\n",
       "      <td>19:31:51</td>\n",
       "      <td>25252295</td>\n",
       "      <td>remux_data/170907_A00111_0051_BH2HWLDMXX/rawdata/A1-MAA000776-3_10_M-1-1_S81/A1-MAA000776-3_10_M-1-1_S81_R1_001.fastq.gz</td>\n",
       "      <td>A1-MAA000776-3_10_M-1-1_S81</td>\n",
       "      <td>R1</td>\n",
       "      <td>s3://czbiohub-maca/remux_data/170907_A00111_0051_BH2HWLDMXX/rawdata/A1-MAA000776-3_10_M-1-1_S81/A1-MAA000776-3_10_M-1-1_S81_R1_001.fastq.gz</td>\n",
       "      <td>25.252295</td>\n",
       "    </tr>\n",
       "    <tr>\n",
       "      <th>213</th>\n",
       "      <td>2017-10-31</td>\n",
       "      <td>19:31:51</td>\n",
       "      <td>26355542</td>\n",
       "      <td>remux_data/170907_A00111_0051_BH2HWLDMXX/rawdata/A1-MAA000776-3_10_M-1-1_S81/A1-MAA000776-3_10_M-1-1_S81_R2_001.fastq.gz</td>\n",
       "      <td>A1-MAA000776-3_10_M-1-1_S81</td>\n",
       "      <td>R2</td>\n",
       "      <td>s3://czbiohub-maca/remux_data/170907_A00111_0051_BH2HWLDMXX/rawdata/A1-MAA000776-3_10_M-1-1_S81/A1-MAA000776-3_10_M-1-1_S81_R2_001.fastq.gz</td>\n",
       "      <td>26.355542</td>\n",
       "    </tr>\n",
       "    <tr>\n",
       "      <th>276</th>\n",
       "      <td>2017-11-01</td>\n",
       "      <td>20:14:17</td>\n",
       "      <td>29405786</td>\n",
       "      <td>remux_data/170907_A00111_0051_BH2HWLDMXX/rawdata/A1-MAA000937-3_8_M-1-1_S119/A1-MAA000937-3_8_M-1-1_S119_R1_001.fastq.gz</td>\n",
       "      <td>A1-MAA000937-3_8_M-1-1_S119</td>\n",
       "      <td>R1</td>\n",
       "      <td>s3://czbiohub-maca/remux_data/170907_A00111_0051_BH2HWLDMXX/rawdata/A1-MAA000937-3_8_M-1-1_S119/A1-MAA000937-3_8_M-1-1_S119_R1_001.fastq.gz</td>\n",
       "      <td>29.405786</td>\n",
       "    </tr>\n",
       "  </tbody>\n",
       "</table>\n",
       "</div>"
      ],
      "text/plain": [
       "           date      time  filesize  \\\n",
       "160  2017-10-31  23:50:27  61972501   \n",
       "161  2017-10-31  23:50:27  64906886   \n",
       "212  2017-10-31  19:31:51  25252295   \n",
       "213  2017-10-31  19:31:51  26355542   \n",
       "276  2017-11-01  20:14:17  29405786   \n",
       "\n",
       "                                                                                                                         suffix  \\\n",
       "160  remux_data/170910_A00111_0054_AH2HGWDMXX/rawdata/A1-MAA000560-3_10_M-1-1_S298/A1-MAA000560-3_10_M-1-1_S298_R1_001.fastq.gz   \n",
       "161  remux_data/170910_A00111_0054_AH2HGWDMXX/rawdata/A1-MAA000560-3_10_M-1-1_S298/A1-MAA000560-3_10_M-1-1_S298_R2_001.fastq.gz   \n",
       "212    remux_data/170907_A00111_0051_BH2HWLDMXX/rawdata/A1-MAA000776-3_10_M-1-1_S81/A1-MAA000776-3_10_M-1-1_S81_R1_001.fastq.gz   \n",
       "213    remux_data/170907_A00111_0051_BH2HWLDMXX/rawdata/A1-MAA000776-3_10_M-1-1_S81/A1-MAA000776-3_10_M-1-1_S81_R2_001.fastq.gz   \n",
       "276    remux_data/170907_A00111_0051_BH2HWLDMXX/rawdata/A1-MAA000937-3_8_M-1-1_S119/A1-MAA000937-3_8_M-1-1_S119_R1_001.fastq.gz   \n",
       "\n",
       "                        sample_id read  \\\n",
       "160  A1-MAA000560-3_10_M-1-1_S298   R1   \n",
       "161  A1-MAA000560-3_10_M-1-1_S298   R2   \n",
       "212   A1-MAA000776-3_10_M-1-1_S81   R1   \n",
       "213   A1-MAA000776-3_10_M-1-1_S81   R2   \n",
       "276   A1-MAA000937-3_8_M-1-1_S119   R1   \n",
       "\n",
       "                                                                                                                                           s3_path  \\\n",
       "160  s3://czbiohub-maca/remux_data/170910_A00111_0054_AH2HGWDMXX/rawdata/A1-MAA000560-3_10_M-1-1_S298/A1-MAA000560-3_10_M-1-1_S298_R1_001.fastq.gz   \n",
       "161  s3://czbiohub-maca/remux_data/170910_A00111_0054_AH2HGWDMXX/rawdata/A1-MAA000560-3_10_M-1-1_S298/A1-MAA000560-3_10_M-1-1_S298_R2_001.fastq.gz   \n",
       "212    s3://czbiohub-maca/remux_data/170907_A00111_0051_BH2HWLDMXX/rawdata/A1-MAA000776-3_10_M-1-1_S81/A1-MAA000776-3_10_M-1-1_S81_R1_001.fastq.gz   \n",
       "213    s3://czbiohub-maca/remux_data/170907_A00111_0051_BH2HWLDMXX/rawdata/A1-MAA000776-3_10_M-1-1_S81/A1-MAA000776-3_10_M-1-1_S81_R2_001.fastq.gz   \n",
       "276    s3://czbiohub-maca/remux_data/170907_A00111_0051_BH2HWLDMXX/rawdata/A1-MAA000937-3_8_M-1-1_S119/A1-MAA000937-3_8_M-1-1_S119_R1_001.fastq.gz   \n",
       "\n",
       "     megabytes  \n",
       "160  61.972501  \n",
       "161  64.906886  \n",
       "212  25.252295  \n",
       "213  26.355542  \n",
       "276  29.405786  "
      ]
     },
     "execution_count": 34,
     "metadata": {},
     "output_type": "execute_result"
    }
   ],
   "source": [
    "aws_largest_file_failed = aws_largest_file.query('sample_id in @failed_samples_logs.id')\n",
    "print(aws_largest_file_failed.shape)\n",
    "aws_largest_file_failed.head()"
   ]
  },
  {
   "cell_type": "code",
   "execution_count": 35,
   "metadata": {},
   "outputs": [
    {
     "name": "stderr",
     "output_type": "stream",
     "text": [
      "/home/ubuntu/anaconda/lib/python3.6/site-packages/matplotlib/axes/_axes.py:6462: UserWarning: The 'normed' kwarg is deprecated, and has been replaced by the 'density' kwarg.\n",
      "  warnings.warn(\"The 'normed' kwarg is deprecated, and has been \"\n",
      "/home/ubuntu/anaconda/lib/python3.6/site-packages/matplotlib/axes/_axes.py:6462: UserWarning: The 'normed' kwarg is deprecated, and has been replaced by the 'density' kwarg.\n",
      "  warnings.warn(\"The 'normed' kwarg is deprecated, and has been \"\n"
     ]
    },
    {
     "data": {
      "text/plain": [
       "<matplotlib.legend.Legend at 0x7fa50d312d30>"
      ]
     },
     "execution_count": 35,
     "metadata": {},
     "output_type": "execute_result"
    },
    {
     "data": {
      "image/png": "[encoded data removed]",
      "text/plain": [
       "<Figure size 432x288 with 1 Axes>"
      ]
     },
     "metadata": {},
     "output_type": "display_data"
    }
   ],
   "source": [
    "fig, ax = plt.subplots()\n",
    "sns.distplot(aws_largest_file['megabytes'], label='All files')\n",
    "sns.distplot(aws_largest_file_failed['megabytes'], label='failed files')\n",
    "ax.legend()"
   ]
  },
  {
   "cell_type": "markdown",
   "metadata": {},
   "source": [
    "## LUng cancer data"
   ]
  },
  {
   "cell_type": "markdown",
   "metadata": {},
   "source": [
    "How many signatures were created?"
   ]
  },
  {
   "cell_type": "code",
   "execution_count": 36,
   "metadata": {},
   "outputs": [
    {
     "name": "stdout",
     "output_type": "stream",
     "text": [
      "247\r\n"
     ]
    }
   ],
   "source": [
    "! aws s3 ls s3://olgabot-maca/lung_cancer/sourmash/ | wc -l"
   ]
  },
  {
   "cell_type": "markdown",
   "metadata": {},
   "source": [
    "How many samples are there?"
   ]
  },
  {
   "cell_type": "code",
   "execution_count": 37,
   "metadata": {},
   "outputs": [
    {
     "name": "stdout",
     "output_type": "stream",
     "text": [
      "5055 /home/ubuntu/kmer-hashing/sourmash/lung_cancer/samples.csv\r\n"
     ]
    }
   ],
   "source": [
    "!wc -l /home/ubuntu/kmer-hashing/sourmash/lung_cancer/samples.csv"
   ]
  },
  {
   "cell_type": "code",
   "execution_count": 47,
   "metadata": {},
   "outputs": [
    {
     "name": "stdout",
     "output_type": "stream",
     "text": [
      "id,read1,read2,sample_id,output_signature\r\n",
      "A10_B000419_S34,s3://czbiohub-seqbot/fastqs/180516_A00111_0149_AH5CM2DSXX/rawdata/A10_B000419_S34/A10_B000419_S34_R1_001.fastq.gz,s3://czbiohub-seqbot/fastqs/180516_A00111_0149_AH5CM2DSXX/rawdata/A10_B000419_S34/A10_B000419_S34_R2_001.fastq.gz,A10_B000419_S34,s3://olgabot-maca/lung_cancer/sourmash/A10_B000419_S34.signature\r\n",
      "A10_B000420_S82,s3://czbiohub-seqbot/fastqs/180516_A00111_0149_AH5CM2DSXX/rawdata/A10_B000420_S82/A10_B000420_S82_R1_001.fastq.gz,s3://czbiohub-seqbot/fastqs/180516_A00111_0149_AH5CM2DSXX/rawdata/A10_B000420_S82/A10_B000420_S82_R2_001.fastq.gz,A10_B000420_S82,s3://olgabot-maca/lung_cancer/sourmash/A10_B000420_S82.signature\r\n",
      "A10_B002073_S166,s3://czbiohub-seqbot/fastqs/180516_A00111_0149_AH5CM2DSXX/rawdata/A10_B002073_S166/A10_B002073_S166_R1_001.fastq.gz,s3://czbiohub-seqbot/fastqs/180516_A00111_0149_AH5CM2DSXX/rawdata/A10_B002073_S166/A10_B002073_S166_R2_001.fastq.gz,A10_B002073_S166,s3://olgabot-maca/lung_cancer/sourmash/A10_B002073_S166.signature\r\n",
      "A10_B002078_S202,s3://czbiohub-seqbot/fastqs/180516_A00111_0149_AH5CM2DSXX/rawdata/A10_B002078_S202/A10_B002078_S202_R1_001.fastq.gz,s3://czbiohub-seqbot/fastqs/180516_A00111_0149_AH5CM2DSXX/rawdata/A10_B002078_S202/A10_B002078_S202_R2_001.fastq.gz,A10_B002078_S202,s3://olgabot-maca/lung_cancer/sourmash/A10_B002078_S202.signature\r\n",
      "A10_B002095_S118,s3://czbiohub-seqbot/fastqs/180516_A00111_0149_AH5CM2DSXX/rawdata/A10_B002095_S118/A10_B002095_S118_R1_001.fastq.gz,s3://czbiohub-seqbot/fastqs/180516_A00111_0149_AH5CM2DSXX/rawdata/A10_B002095_S118/A10_B002095_S118_R2_001.fastq.gz,A10_B002095_S118,s3://olgabot-maca/lung_cancer/sourmash/A10_B002095_S118.signature\r\n",
      "A10_B002097_S250,s3://czbiohub-seqbot/fastqs/180516_A00111_0149_AH5CM2DSXX/rawdata/A10_B002097_S250/A10_B002097_S250_R1_001.fastq.gz,s3://czbiohub-seqbot/fastqs/180516_A00111_0149_AH5CM2DSXX/rawdata/A10_B002097_S250/A10_B002097_S250_R2_001.fastq.gz,A10_B002097_S250,s3://olgabot-maca/lung_cancer/sourmash/A10_B002097_S250.signature\r\n",
      "A10_B003125_S262,s3://czbiohub-seqbot/fastqs/180516_A00111_0149_AH5CM2DSXX/rawdata/A10_B003125_S262/A10_B003125_S262_R1_001.fastq.gz,s3://czbiohub-seqbot/fastqs/180516_A00111_0149_AH5CM2DSXX/rawdata/A10_B003125_S262/A10_B003125_S262_R2_001.fastq.gz,A10_B003125_S262,s3://olgabot-maca/lung_cancer/sourmash/A10_B003125_S262.signature\r\n",
      "A10_B003511_S214,s3://czbiohub-seqbot/fastqs/180516_A00111_0149_AH5CM2DSXX/rawdata/A10_B003511_S214/A10_B003511_S214_R1_001.fastq.gz,s3://czbiohub-seqbot/fastqs/180516_A00111_0149_AH5CM2DSXX/rawdata/A10_B003511_S214/A10_B003511_S214_R2_001.fastq.gz,A10_B003511_S214,s3://olgabot-maca/lung_cancer/sourmash/A10_B003511_S214.signature\r\n",
      "A10_B003527_S130,s3://czbiohub-seqbot/fastqs/180516_A00111_0149_AH5CM2DSXX/rawdata/A10_B003527_S130/A10_B003527_S130_R1_001.fastq.gz,s3://czbiohub-seqbot/fastqs/180516_A00111_0149_AH5CM2DSXX/rawdata/A10_B003527_S130/A10_B003527_S130_R2_001.fastq.gz,A10_B003527_S130,s3://olgabot-maca/lung_cancer/sourmash/A10_B003527_S130.signature\r\n"
     ]
    }
   ],
   "source": [
    "! head samples.csv"
   ]
  },
  {
   "cell_type": "code",
   "execution_count": 38,
   "metadata": {},
   "outputs": [
    {
     "name": "stdout",
     "output_type": "stream",
     "text": [
      "/home/ubuntu/kmer-hashing/sourmash/lung_cancer\n"
     ]
    }
   ],
   "source": [
    "cd ~/kmer-hashing/sourmash/lung_cancer/"
   ]
  },
  {
   "cell_type": "code",
   "execution_count": 40,
   "metadata": {},
   "outputs": [],
   "source": [
    "%%bash\n",
    "\n",
    "aws s3 ls s3://olgabot-maca/lung_cancer/sourmash/ | cut -f 9 -d ' ' | cut -f 1 -d'.' > samples_with_signatures.txt\n",
    "ls -lh | grep --fixed-strings --file samples_with_signatures.txt -v | grep log > failed_samples.txt"
   ]
  },
  {
   "cell_type": "code",
   "execution_count": 42,
   "metadata": {},
   "outputs": [
    {
     "name": "stdout",
     "output_type": "stream",
     "text": [
      "4808 failed_samples.txt\r\n"
     ]
    }
   ],
   "source": [
    "! wc -l failed_samples.txt"
   ]
  },
  {
   "cell_type": "code",
   "execution_count": 41,
   "metadata": {},
   "outputs": [
    {
     "name": "stdout",
     "output_type": "stream",
     "text": [
      "-rw------- 1 ubuntu ubuntu 2.6K Jun 13 17:30 log.A10_B000419_S34\r\n",
      "-rw------- 1 ubuntu ubuntu 2.6K Jun 13 17:30 log.A10_B000420_S82\r\n",
      "-rw------- 1 ubuntu ubuntu 2.6K Jun 13 17:30 log.A10_B002073_S166\r\n",
      "-rw------- 1 ubuntu ubuntu 2.6K Jun 13 17:30 log.A10_B002078_S202\r\n",
      "-rw------- 1 ubuntu ubuntu 2.6K Jun 13 17:30 log.A10_B002095_S118\r\n",
      "-rw------- 1 ubuntu ubuntu  261 Jun 13 17:30 log.A10_B002097_S250\r\n",
      "-rw------- 1 ubuntu ubuntu 2.6K Jun 13 17:30 log.A10_B003125_S262\r\n",
      "-rw------- 1 ubuntu ubuntu 2.6K Jun 13 17:30 log.A10_B003511_S214\r\n",
      "-rw------- 1 ubuntu ubuntu 2.6K Jun 13 17:30 log.A10_B003527_S130\r\n",
      "-rw------- 1 ubuntu ubuntu 2.6K Jun 13 17:30 log.A10_B003528_S10\r\n"
     ]
    }
   ],
   "source": [
    "! head failed_samples.txt"
   ]
  },
  {
   "cell_type": "code",
   "execution_count": 45,
   "metadata": {
    "scrolled": false
   },
   "outputs": [
    {
     "name": "stdout",
     "output_type": "stream",
     "text": [
      "==> log.A10_B000419_S34 <==\r\n",
      "\terror intern s3://czbiohub-seqbot/fastqs: resource does not exist: NotFound: Not Found\r\n",
      "\tstatus code: 404, request id: 471A934CE7C05F89, host id: uyaUdx7YY/gDGi5qESYfdhi9rU2070lrhRtHpkzNjTwAVyB6G8fI2OEIB9SXl4xfqAZ+TZ1aH0Q=\r\n",
      "\t/home/ubuntu/reflow-workflows/sourmash.rf:154:15\r\n",
      "2018/06/13 00:49:09 total n=2 time=0s\r\n",
      "\tident            n   ncache transfer runtime(m) cpu mem(GiB) disk(GiB) tmp(GiB)\r\n",
      "\tsourmash.Compute 1   0      0B                                         \r\n",
      "\tsourmash.r1      1   0      0B                                         \r\n",
      "\t\r\n",
      "2018/06/13 00:49:09 marking run done after nonrecoverable error evaluation error:\r\n",
      "\tintern s3://czbiohub-seqbot/fastqs: resource does not exist: NotFound: Not Found\r\n",
      "\tstatus code: 404, request id: 471A934CE7C05F89, host id: uyaUdx7YY/gDGi5qESYfdhi9rU2070lrhRtHpkzNjTwAVyB6G8fI2OEIB9SXl4xfqAZ+TZ1aH0Q=\r\n",
      "2018/06/13 00:49:09 run A10_B000419_S34: state: done error evaluation error:\r\n",
      "\tintern s3://czbiohub-seqbot/fastqs: resource does not exist: NotFound: Not Found\r\n",
      "\tstatus code: 404, request id: 471A934CE7C05F89, host id: uyaUdx7YY/gDGi5qESYfdhi9rU2070lrhRtHpkzNjTwAVyB6G8fI2OEIB9SXl4xfqAZ+TZ1aH0Q=\r\n",
      "2018/06/13 00:52:27 run A10_B000419_S34: state: done error evaluation error:\r\n",
      "\tintern s3://czbiohub-seqbot/fastqs: resource does not exist: NotFound: Not Found\r\n",
      "\tstatus code: 404, request id: 471A934CE7C05F89, host id: uyaUdx7YY/gDGi5qESYfdhi9rU2070lrhRtHpkzNjTwAVyB6G8fI2OEIB9SXl4xfqAZ+TZ1aH0Q=\r\n",
      "2018/06/13 17:30:41 run A10_B000419_S34: state: done error evaluation error:\r\n",
      "\tintern s3://czbiohub-seqbot/fastqs: resource does not exist: NotFound: Not Found\r\n",
      "\tstatus code: 404, request id: 471A934CE7C05F89, host id: uyaUdx7YY/gDGi5qESYfdhi9rU2070lrhRtHpkzNjTwAVyB6G8fI2OEIB9SXl4xfqAZ+TZ1aH0Q=\r\n",
      "\r\n",
      "==> log.A10_B000420_S82 <==\r\n",
      "\terror intern s3://czbiohub-seqbot/fastqs: resource does not exist: NotFound: Not Found\r\n",
      "\tstatus code: 404, request id: 61F057F90D430417, host id: eNj9g73RYutM51c8r4h/DUKmLubPbkagKKL4mHZsphlUku8uyktG/FyKQrL4rsIkeGhPHjCvfls=\r\n",
      "\t/home/ubuntu/reflow-workflows/sourmash.rf:154:15\r\n",
      "2018/06/13 00:33:32 total n=2 time=0s\r\n",
      "\tident            n   ncache transfer runtime(m) cpu mem(GiB) disk(GiB) tmp(GiB)\r\n",
      "\tsourmash.Compute 1   0      0B                                         \r\n",
      "\tsourmash.r1      1   0      0B                                         \r\n",
      "\t\r\n",
      "2018/06/13 00:33:32 marking run done after nonrecoverable error evaluation error:\r\n",
      "\tintern s3://czbiohub-seqbot/fastqs: resource does not exist: NotFound: Not Found\r\n",
      "\tstatus code: 404, request id: 61F057F90D430417, host id: eNj9g73RYutM51c8r4h/DUKmLubPbkagKKL4mHZsphlUku8uyktG/FyKQrL4rsIkeGhPHjCvfls=\r\n",
      "2018/06/13 00:33:32 run A10_B000420_S82: state: done error evaluation error:\r\n",
      "\tintern s3://czbiohub-seqbot/fastqs: resource does not exist: NotFound: Not Found\r\n",
      "\tstatus code: 404, request id: 61F057F90D430417, host id: eNj9g73RYutM51c8r4h/DUKmLubPbkagKKL4mHZsphlUku8uyktG/FyKQrL4rsIkeGhPHjCvfls=\r\n",
      "2018/06/13 00:52:27 run A10_B000420_S82: state: done error evaluation error:\r\n",
      "\tintern s3://czbiohub-seqbot/fastqs: resource does not exist: NotFound: Not Found\r\n",
      "\tstatus code: 404, request id: 61F057F90D430417, host id: eNj9g73RYutM51c8r4h/DUKmLubPbkagKKL4mHZsphlUku8uyktG/FyKQrL4rsIkeGhPHjCvfls=\r\n",
      "2018/06/13 17:30:46 run A10_B000420_S82: state: done error evaluation error:\r\n",
      "\tintern s3://czbiohub-seqbot/fastqs: resource does not exist: NotFound: Not Found\r\n",
      "\tstatus code: 404, request id: 61F057F90D430417, host id: eNj9g73RYutM51c8r4h/DUKmLubPbkagKKL4mHZsphlUku8uyktG/FyKQrL4rsIkeGhPHjCvfls=\r\n",
      "\r\n",
      "==> log.A10_B002073_S166 <==\r\n",
      "\terror intern s3://czbiohub-seqbot/fastqs: resource does not exist: NotFound: Not Found\r\n",
      "\tstatus code: 404, request id: 2234E3ABDDA021A8, host id: 0jEP1QjbWPDKPZU7qLgIz90eRE4IygOP3EJsF+E7423K4XjbDbxebe3NO76DUz6XznoPlLqUzpI=\r\n",
      "\t/home/ubuntu/reflow-workflows/sourmash.rf:154:15\r\n",
      "2018/06/13 00:49:32 total n=2 time=0s\r\n",
      "\tident            n   ncache transfer runtime(m) cpu mem(GiB) disk(GiB) tmp(GiB)\r\n",
      "tail: error writing 'standard output': Broken pipe\r\n"
     ]
    }
   ],
   "source": [
    "! ls  | grep --fixed-strings --file samples_with_signatures.txt -v | grep log | xargs tail -n 20 | head -n 50"
   ]
  },
  {
   "cell_type": "code",
   "execution_count": 46,
   "metadata": {},
   "outputs": [
    {
     "name": "stdout",
     "output_type": "stream",
     "text": [
      "==> log.A10_B000419_S34 <==\r\n",
      "2018/06/13 00:48:50 accepted alloc ec2-18-237-24-105.us-west-2.compute.amazonaws.com:9000/806b421692e2ac46\r\n",
      "2018/06/13 00:49:08 run A10_B000419_S34: state: eval alloc ec2-18-237-24-105.us-west-2.compute.amazonaws.com:9000/806b421692e2ac46\r\n",
      "2018/06/13 00:49:08 turning caching off because assoc and repository are not configured\r\n",
      "2018/06/13 00:49:08 evaluating with configuration: executor *client.clientAlloc transferer *repository.Manager flags cacheextern,nocache,nogc,norecomputeempty,topdown flowconfig hashv2 cachelookuptimeout 1m0s\r\n",
      "2018/06/13 00:49:08  ->  sourmash.r1  c4f18df3 run  intern s3://czbiohub-seqbot/fastqs\r\n",
      "2018/06/13 00:49:08 sourmash.r1 c4f18df3 /home/ubuntu/reflow-workflows/sourmash.rf:154:15:\r\n",
      "\tsha256:c4f18df3ed8e78ff3397810faf613049c7bf75852581be97f315d53c9d71b5ef\r\n",
      "2018/06/13 00:49:09  <-  sourmash.r1  c4f18df3 err  intern 0s 0B\r\n",
      "\terror intern s3://czbiohub-seqbot/fastqs: resource does not exist: NotFound: Not Found\r\n",
      "\tstatus code: 404, request id: 471A934CE7C05F89, host id: uyaUdx7YY/gDGi5qESYfdhi9rU2070lrhRtHpkzNjTwAVyB6G8fI2OEIB9SXl4xfqAZ+TZ1aH0Q=\r\n",
      "\t/home/ubuntu/reflow-workflows/sourmash.rf:154:15\r\n",
      "2018/06/13 00:49:09 total n=2 time=0s\r\n",
      "\tident            n   ncache transfer runtime(m) cpu mem(GiB) disk(GiB) tmp(GiB)\r\n",
      "\tsourmash.Compute 1   0      0B                                         \r\n",
      "\tsourmash.r1      1   0      0B                                         \r\n",
      "\t\r\n",
      "2018/06/13 00:49:09 marking run done after nonrecoverable error evaluation error:\r\n",
      "\tintern s3://czbiohub-seqbot/fastqs: resource does not exist: NotFound: Not Found\r\n",
      "\tstatus code: 404, request id: 471A934CE7C05F89, host id: uyaUdx7YY/gDGi5qESYfdhi9rU2070lrhRtHpkzNjTwAVyB6G8fI2OEIB9SXl4xfqAZ+TZ1aH0Q=\r\n",
      "2018/06/13 00:49:09 run A10_B000419_S34: state: done error evaluation error:\r\n",
      "\r\n",
      "==> log.A10_B000420_S82 <==\r\n",
      "2018/06/13 00:33:32 accepted alloc ec2-54-149-226-203.us-west-2.compute.amazonaws.com:9000/8d92e75f73277224\r\n",
      "2018/06/13 00:33:32 run A10_B000420_S82: state: eval alloc ec2-54-149-226-203.us-west-2.compute.amazonaws.com:9000/8d92e75f73277224\r\n",
      "2018/06/13 00:33:32 turning caching off because assoc and repository are not configured\r\n",
      "2018/06/13 00:33:32 evaluating with configuration: executor *client.clientAlloc transferer *repository.Manager flags cacheextern,nocache,nogc,norecomputeempty,topdown flowconfig hashv2 cachelookuptimeout 1m0s\r\n",
      "2018/06/13 00:33:32  ->  sourmash.r1  c4f18df3 run  intern s3://czbiohub-seqbot/fastqs\r\n",
      "2018/06/13 00:33:32 sourmash.r1 c4f18df3 /home/ubuntu/reflow-workflows/sourmash.rf:154:15:\r\n",
      "\tsha256:c4f18df3ed8e78ff3397810faf613049c7bf75852581be97f315d53c9d71b5ef\r\n",
      "2018/06/13 00:33:32  <-  sourmash.r1  c4f18df3 err  intern 0s 0B\r\n",
      "\terror intern s3://czbiohub-seqbot/fastqs: resource does not exist: NotFound: Not Found\r\n",
      "\tstatus code: 404, request id: 61F057F90D430417, host id: eNj9g73RYutM51c8r4h/DUKmLubPbkagKKL4mHZsphlUku8uyktG/FyKQrL4rsIkeGhPHjCvfls=\r\n",
      "\t/home/ubuntu/reflow-workflows/sourmash.rf:154:15\r\n",
      "2018/06/13 00:33:32 total n=2 time=0s\r\n",
      "\tident            n   ncache transfer runtime(m) cpu mem(GiB) disk(GiB) tmp(GiB)\r\n",
      "\tsourmash.Compute 1   0      0B                                         \r\n",
      "\tsourmash.r1      1   0      0B                                         \r\n",
      "\t\r\n",
      "2018/06/13 00:33:32 marking run done after nonrecoverable error evaluation error:\r\n",
      "\tintern s3://czbiohub-seqbot/fastqs: resource does not exist: NotFound: Not Found\r\n",
      "\tstatus code: 404, request id: 61F057F90D430417, host id: eNj9g73RYutM51c8r4h/DUKmLubPbkagKKL4mHZsphlUku8uyktG/FyKQrL4rsIkeGhPHjCvfls=\r\n",
      "2018/06/13 00:33:32 run A10_B000420_S82: state: done error evaluation error:\r\n",
      "\r\n",
      "==> log.A10_B002073_S166 <==\r\n",
      "2018/06/13 00:49:21 accepted alloc ec2-18-237-162-86.us-west-2.compute.amazonaws.com:9000/4b282c967351fff5\r\n",
      "2018/06/13 00:49:32 run A10_B002073_S166: state: eval alloc ec2-18-237-162-86.us-west-2.compute.amazonaws.com:9000/4b282c967351fff5\r\n",
      "2018/06/13 00:49:32 turning caching off because assoc and repository are not configured\r\n",
      "2018/06/13 00:49:32 evaluating with configuration: executor *client.clientAlloc transferer *repository.Manager flags cacheextern,nocache,nogc,norecomputeempty,topdown flowconfig hashv2 cachelookuptimeout 1m0s\r\n",
      "2018/06/13 00:49:32  ->  sourmash.r1  c4f18df3 run  intern s3://czbiohub-seqbot/fastqs\r\n",
      "head: error writing 'standard output': Broken pipe\r\n"
     ]
    }
   ],
   "source": [
    "! ls  | grep --fixed-strings --file samples_with_signatures.txt -v | grep log | xargs head -n 20 | head -n 50"
   ]
  },
  {
   "cell_type": "code",
   "execution_count": null,
   "metadata": {},
   "outputs": [],
   "source": []
  }
 ],
 "metadata": {
  "kernelspec": {
   "display_name": "Python 3",
   "language": "python",
   "name": "python3"
  },
  "language_info": {
   "codemirror_mode": {
    "name": "ipython",
    "version": 3
   },
   "file_extension": ".py",
   "mimetype": "text/x-python",
   "name": "python",
   "nbconvert_exporter": "python",
   "pygments_lexer": "ipython3",
   "version": "3.6.3"
  }
 },
 "nbformat": 4,
 "nbformat_minor": 2
}
