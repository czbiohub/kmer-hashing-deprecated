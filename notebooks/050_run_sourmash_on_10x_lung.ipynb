{
 "cells": [
  {
   "cell_type": "code",
   "execution_count": 1,
   "metadata": {},
   "outputs": [
    {
     "name": "stdout",
     "output_type": "stream",
     "text": [
      "/mnt/data\n"
     ]
    }
   ],
   "source": [
    "cd /mnt/data"
   ]
  },
  {
   "cell_type": "code",
   "execution_count": 2,
   "metadata": {},
   "outputs": [],
   "source": [
    "! aws s3 sync s3://czbiohub-maca/10x_data/10X_P7_8/ 10X_P7_8/"
   ]
  },
  {
   "cell_type": "code",
   "execution_count": 3,
   "metadata": {},
   "outputs": [
    {
     "name": "stdout",
     "output_type": "stream",
     "text": [
      "\r\n",
      "Program: samtools (Tools for alignments in the SAM format)\r\n",
      "Version: 1.9 (using htslib 1.9)\r\n",
      "\r\n",
      "Usage:   samtools <command> [options]\r\n",
      "\r\n",
      "Commands:\r\n",
      "  -- Indexing\r\n",
      "     dict           create a sequence dictionary file\r\n",
      "     faidx          index/extract FASTA\r\n",
      "     fqidx          index/extract FASTQ\r\n",
      "     index          index alignment\r\n",
      "\r\n",
      "  -- Editing\r\n",
      "     calmd          recalculate MD/NM tags and '=' bases\r\n",
      "     fixmate        fix mate information\r\n",
      "     reheader       replace BAM header\r\n",
      "     targetcut      cut fosmid regions (for fosmid pool only)\r\n",
      "     addreplacerg   adds or replaces RG tags\r\n",
      "     markdup        mark duplicates\r\n",
      "\r\n",
      "  -- File operations\r\n",
      "     collate        shuffle and group alignments by name\r\n",
      "     cat            concatenate BAMs\r\n",
      "     merge          merge sorted alignments\r\n",
      "     mpileup        multi-way pileup\r\n",
      "     sort           sort alignment file\r\n",
      "     split          splits a file by read group\r\n",
      "     quickcheck     quickly check if SAM/BAM/CRAM file appears intact\r\n",
      "     fastq          converts a BAM to a FASTQ\r\n",
      "     fasta          converts a BAM to a FASTA\r\n",
      "\r\n",
      "  -- Statistics\r\n",
      "     bedcov         read depth per BED region\r\n",
      "     depth          compute the depth\r\n",
      "     flagstat       simple stats\r\n",
      "     idxstats       BAM index stats\r\n",
      "     phase          phase heterozygotes\r\n",
      "     stats          generate stats (former bamcheck)\r\n",
      "\r\n",
      "  -- Viewing\r\n",
      "     flags          explain BAM flags\r\n",
      "     tview          text alignment viewer\r\n",
      "     view           SAM<->BAM<->CRAM conversion\r\n",
      "     depad          convert padded BAM to unpadded BAM\r\n",
      "\r\n"
     ]
    }
   ],
   "source": [
    "! samtools"
   ]
  },
  {
   "cell_type": "code",
   "execution_count": 4,
   "metadata": {},
   "outputs": [],
   "source": [
    "ptprc_location = 'chr1:138062861-138175708'"
   ]
  },
  {
   "cell_type": "code",
   "execution_count": 5,
   "metadata": {},
   "outputs": [],
   "source": [
    "! samtools view -bh 10X_P7_8/possorted_genome_bam.bam $ptprc_location > 10X_P7_8/lung_ptprc.bam"
   ]
  },
  {
   "cell_type": "code",
   "execution_count": 6,
   "metadata": {},
   "outputs": [
    {
     "name": "stdout",
     "output_type": "stream",
     "text": [
      "total 37G\r\n",
      "drwxrwxr-x 2 ubuntu ubuntu 4.0K Sep  6 19:10 \u001b[0m\u001b[01;34m.\u001b[0m/\r\n",
      "drwxr-xr-x 5 ubuntu root   4.0K Sep  7 21:31 \u001b[01;34m..\u001b[0m/\r\n",
      "-rw-rw-r-- 1 ubuntu ubuntu  62M Aug 31  2017 10X_P7_8.mus.cell-gene.csv\r\n",
      "-rw-rw-r-- 1 ubuntu ubuntu  19G Aug 31  2017 \u001b[01;31m10X_P7_8.tgz\u001b[0m\r\n",
      "-rw-rw-r-- 1 ubuntu ubuntu  12K Sep  1  2017 barcodes.tsv\r\n",
      "-rw-rw-r-- 1 ubuntu ubuntu 340K Sep  1  2017 genes.tsv\r\n",
      "-rw-rw-r-- 1 ubuntu ubuntu 3.6M Sep  7 21:58 lung_ptprc.bam\r\n",
      "-rw-rw-r-- 1 ubuntu ubuntu  69K Sep  7 21:32 lung_ptprc.bam.bai\r\n",
      "-rw-rw-r-- 1 ubuntu ubuntu 931K Sep  7 21:32 lung_ptprc.sig\r\n",
      "-rw-rw-r-- 1 ubuntu ubuntu  14M Sep  1  2017 matrix.mtx\r\n",
      "-rw-rw-r-- 1 ubuntu ubuntu  612 Aug 31  2017 metrics_summary.csv\r\n",
      "-rw-rw-r-- 1 ubuntu ubuntu  19G Jun 19 06:16 possorted_genome_bam.bam\r\n",
      "-rw-rw-r-- 1 ubuntu ubuntu 5.5M Jun 19 06:16 possorted_genome_bam.bam.bai\r\n",
      "-rw-rw-r-- 1 ubuntu ubuntu 9.2M Sep 16  2017 raw_gene_bc_matrices_h5.h5\r\n",
      "-rw-rw-r-- 1 ubuntu ubuntu 2.6M Aug 31  2017 web_summary.html\r\n"
     ]
    }
   ],
   "source": [
    "ls -lha 10X_P7_8/"
   ]
  },
  {
   "cell_type": "code",
   "execution_count": 7,
   "metadata": {},
   "outputs": [],
   "source": [
    "! samtools index 10X_P7_8/lung_ptprc.bam"
   ]
  },
  {
   "cell_type": "code",
   "execution_count": 8,
   "metadata": {},
   "outputs": [],
   "source": [
    "ksizes = 21, 27, 33, 51\n",
    "protein = True\n",
    "dna = True\n",
    "seed = 42\n",
    "track_abundance = True\n",
    "scaled = 1000\n",
    "num_hashes = 0\n",
    "input_is_protein = False \n",
    "check_sequence = False"
   ]
  },
  {
   "cell_type": "code",
   "execution_count": 9,
   "metadata": {},
   "outputs": [
    {
     "data": {
      "text/plain": [
       "624"
      ]
     },
     "execution_count": 9,
     "metadata": {},
     "output_type": "execute_result"
    }
   ],
   "source": [
    "import pandas as pd\n",
    "barcodes = set(pd.read_csv('/mnt/data/10X_P7_8/barcodes.tsv', squeeze=True))\n",
    "genes = set(pd.read_csv('/mnt/data/10X_P7_8/genes.tsv', squeeze=True))\n",
    "len(barcodes)"
   ]
  },
  {
   "cell_type": "code",
   "execution_count": 10,
   "metadata": {},
   "outputs": [],
   "source": [
    "from sourmash import DEFAULT_SEED, MinHash, load_sbt_index, create_sbt_index\n",
    "from sourmash import signature as sig\n",
    "from sourmash import sourmash_args\n",
    "from sourmash.logging import notify, error, print_results, set_quiet\n",
    "from sourmash.sbtmh import SearchMinHashesFindBest, SigLeaf\n",
    "\n",
    "from sourmash.sourmash_args import DEFAULT_LOAD_K\n",
    "DEFAULT_COMPUTE_K = '21,31,51'\n",
    "\n",
    "DEFAULT_N = 500\n",
    "WATERMARK_SIZE = 10000\n",
    " \n",
    "def make_minhashes():\n",
    "    # one minhash for each ksize\n",
    "    Elist = []\n",
    "    for k in ksizes:\n",
    "        if protein:\n",
    "            E = MinHash(ksize=k, n=num_hashes,\n",
    "                        is_protein=True,\n",
    "                        track_abundance=track_abundance,\n",
    "                        scaled=scaled,\n",
    "                        seed=seed)\n",
    "            Elist.append(E)\n",
    "        if dna:\n",
    "            E = MinHash(ksize=k, n=num_hashes,\n",
    "                        is_protein=False,\n",
    "                        track_abundance=track_abundance,\n",
    "                        scaled=scaled,\n",
    "                        seed=seed)\n",
    "            Elist.append(E)\n",
    "    return Elist\n",
    "\n",
    "def add_seq(Elist, seq, input_is_protein, check_sequence):\n",
    "    for E in Elist:\n",
    "        if input_is_protein:\n",
    "            E.add_protein(seq)\n",
    "        else:\n",
    "            E.add_sequence(seq, not check_sequence)\n",
    "\n",
    "def build_siglist(Elist, filename, name=None):\n",
    "    return [ sig.SourmashSignature(E, filename=filename,\n",
    "                                   name=name) for E in Elist ]\n",
    "\n",
    "def save_siglist(siglist, output_fp, filename=None):\n",
    "    # save!\n",
    "    if output_fp:\n",
    "        sig.save_signatures(siglist, args.output)\n",
    "    else:\n",
    "        if filename is None:\n",
    "            raise Exception(\"internal error, filename is None\")\n",
    "        with open(filename, 'w') as fp:\n",
    "            sig.save_signatures(siglist, fp)\n",
    "    notify('saved {} signature(s). Note: signature license is CC0.'.format(len(siglist)))"
   ]
  },
  {
   "cell_type": "code",
   "execution_count": 11,
   "metadata": {},
   "outputs": [],
   "source": [
    "%load_ext line_profiler"
   ]
  },
  {
   "cell_type": "code",
   "execution_count": null,
   "metadata": {},
   "outputs": [],
   "source": [
    "import pandas as pd\n",
    "\n",
    "annotations = pd.read_csv('~/tabula-muris/00_data_ingest/18_global_annotation_csv/annotations_droplet.csv')\n",
    "\n",
    "annotations_subset = annotations.loc[annotations.cell_id.startswith('10X_P7_8')]\n",
    "annotations_subset.head()"
   ]
  },
  {
   "cell_type": "code",
   "execution_count": 12,
   "metadata": {},
   "outputs": [
    {
     "name": "stderr",
     "output_type": "stream",
     "text": [
      "72221it [00:07, 10165.52it/s]\n",
      "\u001b[Ksaved 4992 signature(s). Note: signature license is CC0.\n"
     ]
    }
   ],
   "source": [
    "\n",
    "import pysam\n",
    "from tqdm import tqdm\n",
    "import itertools\n",
    "\n",
    "\n",
    "bam_filename = '/mnt/data/10X_P7_8/lung_ptprc.bam'\n",
    "\n",
    "def make_10x_signatures(bam_filename):\n",
    "    output = bam_filename.replace('.bam', '.sig')\n",
    "\n",
    "    bam_file = pysam.AlignmentFile(bam_filename, mode='rb')\n",
    "    cell_seqs = {barcode: make_minhashes() for barcode in barcodes}\n",
    "\n",
    "    for a in tqdm(bam_file):\n",
    "        if (a.mapq == 255                                    # high quality mapping\n",
    "            and a.has_tag('CB') and a.get_tag('CB') in barcodes  # in our set of barcodes,\n",
    "    #         and a.has_tag('GN') and a.get_tag['GN'] in genes   # that maps to a single gene,\n",
    "    #         and a.has_tag('RE') and a.get_tag('RE') == 'E'   # specifically to an exon,\n",
    "            and a.has_tag('UB')):                            # and has a good UMI\n",
    "\n",
    "            barcode = a.get_tag('CB')\n",
    "    #         print(a)\n",
    "            # if this isn't marked a duplicate, count it as a UMI\n",
    "            if not a.is_duplicate:\n",
    "    #             print(f\"Adding {a.seq} to {barcode}\")\n",
    "                add_seq(cell_seqs[barcode], a.seq,\n",
    "                                input_is_protein, check_sequence)\n",
    "    cell_signatures = [build_siglist(seqs, filename=bam_filename, name=barcode) for barcode, seqs in cell_seqs.items()]\n",
    "    signatures_flat = list(itertools.chain(*cell_signatures))\n",
    "    save_siglist(signatures_flat, output_fp=False, filename=output)\n",
    "\n",
    "%lprun -f make_10x_signatures make_10x_signatures(bam_filename)"
   ]
  },
  {
   "cell_type": "code",
   "execution_count": null,
   "metadata": {},
   "outputs": [
    {
     "name": "stderr",
     "output_type": "stream",
     "text": [
      "89793465it [55:44, 26850.40it/s] "
     ]
    }
   ],
   "source": [
    "make_10x_signatures('/mnt/data/10X_P7_8/possorted_genome_bam.bam')"
   ]
  },
  {
   "cell_type": "code",
   "execution_count": 16,
   "metadata": {},
   "outputs": [
    {
     "name": "stdout",
     "output_type": "stream",
     "text": [
      "total 37G\r\n",
      "drwxrwxr-x  2 ubuntu ubuntu 4.0K Sep  8 01:31 \u001b[0m\u001b[01;34m.\u001b[0m/\r\n",
      "drwxr-xr-x 12 ubuntu root   4.0K Sep 10 19:03 \u001b[01;34m..\u001b[0m/\r\n",
      "-rw-rw-r--  1 ubuntu ubuntu  62M Aug 31  2017 10X_P7_8.mus.cell-gene.csv\r\n",
      "-rw-rw-r--  1 ubuntu ubuntu  19G Aug 31  2017 \u001b[01;31m10X_P7_8.tgz\u001b[0m\r\n",
      "-rw-rw-r--  1 ubuntu ubuntu  12K Sep  1  2017 barcodes.tsv\r\n",
      "-rw-rw-r--  1 ubuntu ubuntu 340K Sep  1  2017 genes.tsv\r\n",
      "-rw-rw-r--  1 ubuntu ubuntu 3.6M Sep  7 21:58 lung_ptprc.bam\r\n",
      "-rw-rw-r--  1 ubuntu ubuntu  69K Sep  7 21:58 lung_ptprc.bam.bai\r\n",
      "-rw-rw-r--  1 ubuntu ubuntu 931K Sep  7 21:58 lung_ptprc.sig\r\n",
      "-rw-rw-r--  1 ubuntu ubuntu  14M Sep  1  2017 matrix.mtx\r\n",
      "-rw-rw-r--  1 ubuntu ubuntu  612 Aug 31  2017 metrics_summary.csv\r\n",
      "-rw-rw-r--  1 ubuntu ubuntu  19G Jun 19 06:16 possorted_genome_bam.bam\r\n",
      "-rw-rw-r--  1 ubuntu ubuntu 5.5M Jun 19 06:16 possorted_genome_bam.bam.bai\r\n",
      "-rw-rw-r--  1 ubuntu ubuntu 193M Sep  8 01:31 possorted_genome_bam.sig\r\n",
      "-rw-rw-r--  1 ubuntu ubuntu 9.2M Sep 16  2017 raw_gene_bc_matrices_h5.h5\r\n",
      "-rw-rw-r--  1 ubuntu ubuntu 2.6M Aug 31  2017 web_summary.html\r\n"
     ]
    }
   ],
   "source": [
    "ls -lha /mnt/data/10X_P7_8/"
   ]
  },
  {
   "cell_type": "code",
   "execution_count": 19,
   "metadata": {},
   "outputs": [
    {
     "name": "stdout",
     "output_type": "stream",
     "text": [
      "total 13M\r\n",
      "drwxrwxr-x  3 ubuntu ubuntu 4.0K Sep  8 18:05 \u001b[0m\u001b[01;34m.\u001b[0m/\r\n",
      "drwxr-xr-x 12 ubuntu root   4.0K Sep 10 19:03 \u001b[01;34m..\u001b[0m/\r\n",
      "drwxrwxr-x  2 ubuntu ubuntu 3.4M Sep  8 18:05 \u001b[01;34m.sbt.tabula-muris-dna-k21\u001b[0m/\r\n",
      "-rw-rw-r--  1 ubuntu ubuntu 8.8M Sep  8 18:05 tabula-muris-dna-k21.sbt.json\r\n"
     ]
    }
   ],
   "source": [
    "ls -lha /mnt/data/sourmash_databases/"
   ]
  },
  {
   "cell_type": "code",
   "execution_count": 22,
   "metadata": {},
   "outputs": [
    {
     "name": "stdout",
     "output_type": "stream",
     "text": [
      "usage: sourmash [-h] [-q] [-k KSIZE] [--threshold THRESHOLD]\r\n",
      "                [--traverse-directory] [--protein] [--no-protein] [--dna]\r\n",
      "                [--no-dna] [--csv CSV] [--load-csv LOAD_CSV]\r\n",
      "                sbt_name queries [queries ...]\r\n",
      "\r\n",
      "positional arguments:\r\n",
      "  sbt_name              name of SBT to load\r\n",
      "  queries               list of signatures to categorize\r\n",
      "\r\n",
      "optional arguments:\r\n",
      "  -h, --help            show this help message and exit\r\n",
      "  -q, --quiet           suppress non-error output\r\n",
      "  -k KSIZE, --ksize KSIZE\r\n",
      "  --threshold THRESHOLD\r\n",
      "  --traverse-directory\r\n",
      "  --protein             choose a protein signature (default: False)\r\n",
      "  --no-protein          do not choose a protein signature\r\n",
      "  --dna                 choose a DNA signature (default: True)\r\n",
      "  --no-dna              do not choose a DNA signature\r\n",
      "  --csv CSV\r\n",
      "  --load-csv LOAD_CSV\r\n"
     ]
    }
   ],
   "source": [
    "! sourmash categorize -h"
   ]
  },
  {
   "cell_type": "code",
   "execution_count": null,
   "metadata": {},
   "outputs": [
    {
     "name": "stdout",
     "output_type": "stream",
     "text": [
      "\u001b[Kfound 1 files to query\n",
      "...sig loading 623\n",
      "\u001b[Kloaded query: ACGGCCACAATGGTCT-1... (k=21, DNA)\n"
     ]
    }
   ],
   "source": [
    "! sourmash categorize --ksize 21 --dna /mnt/data/sourmash_databases/tabula-muris-dna-k21.sbt.json /mnt/data/10X_P7_8/possorted_genome_bam.sig | head"
   ]
  },
  {
   "cell_type": "code",
   "execution_count": null,
   "metadata": {},
   "outputs": [],
   "source": []
  }
 ],
 "metadata": {
  "kernelspec": {
   "display_name": "Python 3",
   "language": "python",
   "name": "python3"
  },
  "language_info": {
   "codemirror_mode": {
    "name": "ipython",
    "version": 3
   },
   "file_extension": ".py",
   "mimetype": "text/x-python",
   "name": "python",
   "nbconvert_exporter": "python",
   "pygments_lexer": "ipython3",
   "version": "3.6.5"
  }
 },
 "nbformat": 4,
 "nbformat_minor": 2
}
