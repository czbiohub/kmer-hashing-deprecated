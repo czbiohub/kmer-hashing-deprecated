{
 "cells": [
  {
   "cell_type": "code",
   "execution_count": 1,
   "metadata": {},
   "outputs": [],
   "source": [
    "import glob\n",
    "import os\n",
    "\n",
    "\n",
    "# Reminder to install s3fs to read files from aws\n",
    "import s3fs\n",
    "\n",
    "# import altair as alt\n",
    "import matplotlib.pyplot as plt\n",
    "import numpy as np\n",
    "import pandas as pd\n",
    "# import xarray as xr\n",
    "\n",
    "import seaborn as sns\n",
    "\n",
    "# import scanpy.api as sc\n",
    "\n",
    "# import holoviews as hv\n",
    "# hv.extension('bokeh')\n",
    "# hv.archive.auto()\n",
    "\n",
    "%matplotlib inline"
   ]
  },
  {
   "cell_type": "code",
   "execution_count": 2,
   "metadata": {},
   "outputs": [
    {
     "name": "stdout",
     "output_type": "stream",
     "text": [
      "(1040, 4)\n"
     ]
    },
    {
     "data": {
      "text/html": [
       "<div>\n",
       "<style scoped>\n",
       "    .dataframe tbody tr th:only-of-type {\n",
       "        vertical-align: middle;\n",
       "    }\n",
       "\n",
       "    .dataframe tbody tr th {\n",
       "        vertical-align: top;\n",
       "    }\n",
       "\n",
       "    .dataframe thead th {\n",
       "        text-align: right;\n",
       "    }\n",
       "</style>\n",
       "<table border=\"1\" class=\"dataframe\">\n",
       "  <thead>\n",
       "    <tr style=\"text-align: right;\">\n",
       "      <th></th>\n",
       "      <th>date</th>\n",
       "      <th>time</th>\n",
       "      <th>bytes</th>\n",
       "      <th>basename</th>\n",
       "    </tr>\n",
       "  </thead>\n",
       "  <tbody>\n",
       "    <tr>\n",
       "      <th>0</th>\n",
       "      <td>2018-09-14</td>\n",
       "      <td>22:08:28</td>\n",
       "      <td>19045449</td>\n",
       "      <td>trim=false_scaled=1000_dna_ksize=12.csv</td>\n",
       "    </tr>\n",
       "    <tr>\n",
       "      <th>1</th>\n",
       "      <td>2018-08-10</td>\n",
       "      <td>11:01:24</td>\n",
       "      <td>19395540</td>\n",
       "      <td>trim=false_scaled=1000_dna_ksize=15.csv</td>\n",
       "    </tr>\n",
       "    <tr>\n",
       "      <th>2</th>\n",
       "      <td>2018-09-14</td>\n",
       "      <td>22:01:01</td>\n",
       "      <td>20133019</td>\n",
       "      <td>trim=false_scaled=1000_dna_ksize=18.csv</td>\n",
       "    </tr>\n",
       "    <tr>\n",
       "      <th>3</th>\n",
       "      <td>2018-09-12</td>\n",
       "      <td>23:40:02</td>\n",
       "      <td>10499576</td>\n",
       "      <td>trim=false_scaled=1000_dna_ksize=21.csv</td>\n",
       "    </tr>\n",
       "    <tr>\n",
       "      <th>4</th>\n",
       "      <td>2018-09-15</td>\n",
       "      <td>05:15:04</td>\n",
       "      <td>20258815</td>\n",
       "      <td>trim=false_scaled=1000_dna_ksize=24.csv</td>\n",
       "    </tr>\n",
       "  </tbody>\n",
       "</table>\n",
       "</div>"
      ],
      "text/plain": [
       "         date      time     bytes                                 basename\n",
       "0  2018-09-14  22:08:28  19045449  trim=false_scaled=1000_dna_ksize=12.csv\n",
       "1  2018-08-10  11:01:24  19395540  trim=false_scaled=1000_dna_ksize=15.csv\n",
       "2  2018-09-14  22:01:01  20133019  trim=false_scaled=1000_dna_ksize=18.csv\n",
       "3  2018-09-12  23:40:02  10499576  trim=false_scaled=1000_dna_ksize=21.csv\n",
       "4  2018-09-15  05:15:04  20258815  trim=false_scaled=1000_dna_ksize=24.csv"
      ]
     },
     "execution_count": 2,
     "metadata": {},
     "output_type": "execute_result"
    }
   ],
   "source": [
    "! aws s3 ls s3://olgabot-maca/facs/sourmash_compare/ > aws_s3_ls_tabula_muris_compare.txt\n",
    "\n",
    "aws_s3_ls = pd.read_table('aws_s3_ls_tabula_muris_compare.txt', \n",
    "                          delim_whitespace=True, header=None, \n",
    "                          names=['date', 'time', 'bytes', 'basename'])\n",
    "print(aws_s3_ls.shape)\n",
    "aws_s3_ls.head()"
   ]
  },
  {
   "cell_type": "code",
   "execution_count": 3,
   "metadata": {},
   "outputs": [
    {
     "data": {
      "text/plain": [
       "['2018-08-09',\n",
       " '2018-08-10',\n",
       " '2018-08-11',\n",
       " '2018-08-12',\n",
       " '2018-09-12',\n",
       " '2018-09-13',\n",
       " '2018-09-14',\n",
       " '2018-09-15',\n",
       " '2018-09-16',\n",
       " '2018-09-18',\n",
       " '2018-09-19',\n",
       " '2018-09-20']"
      ]
     },
     "execution_count": 3,
     "metadata": {},
     "output_type": "execute_result"
    }
   ],
   "source": [
    "sorted(aws_s3_ls.date.unique())"
   ]
  },
  {
   "cell_type": "code",
   "execution_count": 4,
   "metadata": {},
   "outputs": [],
   "source": [
    "prefix = 's3://olgabot-maca/facs/sourmash_compare/'"
   ]
  },
  {
   "cell_type": "code",
   "execution_count": 5,
   "metadata": {},
   "outputs": [
    {
     "data": {
      "text/html": [
       "<div>\n",
       "<style scoped>\n",
       "    .dataframe tbody tr th:only-of-type {\n",
       "        vertical-align: middle;\n",
       "    }\n",
       "\n",
       "    .dataframe tbody tr th {\n",
       "        vertical-align: top;\n",
       "    }\n",
       "\n",
       "    .dataframe thead th {\n",
       "        text-align: right;\n",
       "    }\n",
       "</style>\n",
       "<table border=\"1\" class=\"dataframe\">\n",
       "  <thead>\n",
       "    <tr style=\"text-align: right;\">\n",
       "      <th></th>\n",
       "      <th>N9-B002428-3_38_F-1-1|tissue:Heart|subtissue:LA|cell_ontology_class:fibroblast|free_annotation:NA</th>\n",
       "      <th>E5-D042479-3_8_M-1-1|tissue:Marrow|subtissue:B-cells|cell_ontology_class:precursor_B_cell|free_annotation:pre-B_cell_(Philadelphia_nomenclature)</th>\n",
       "      <th>L1-D042475-3_9_M-1-1|tissue:Trachea|subtissue:NA|cell_ontology_class:mesenchymal_cell|free_annotation:NA</th>\n",
       "      <th>P12-MAA000596-3_9_M-1-1|tissue:Marrow|subtissue:KLS|cell_ontology_class:hematopoietic_precursor_cell|free_annotation:NA</th>\n",
       "      <th>I10-MAA000385-3_10_M-1-1|tissue:Fat|subtissue:SCAT|cell_ontology_class:myeloid_cell|free_annotation:NA</th>\n",
       "    </tr>\n",
       "  </thead>\n",
       "  <tbody>\n",
       "    <tr>\n",
       "      <th>0</th>\n",
       "      <td>1.000000</td>\n",
       "      <td>0.455388</td>\n",
       "      <td>0.738791</td>\n",
       "      <td>0.609054</td>\n",
       "      <td>0.497532</td>\n",
       "    </tr>\n",
       "    <tr>\n",
       "      <th>1</th>\n",
       "      <td>0.455388</td>\n",
       "      <td>1.000000</td>\n",
       "      <td>0.542118</td>\n",
       "      <td>0.556670</td>\n",
       "      <td>0.519706</td>\n",
       "    </tr>\n",
       "    <tr>\n",
       "      <th>2</th>\n",
       "      <td>0.738791</td>\n",
       "      <td>0.542118</td>\n",
       "      <td>0.999999</td>\n",
       "      <td>0.731973</td>\n",
       "      <td>0.588434</td>\n",
       "    </tr>\n",
       "    <tr>\n",
       "      <th>3</th>\n",
       "      <td>0.609054</td>\n",
       "      <td>0.556670</td>\n",
       "      <td>0.731973</td>\n",
       "      <td>1.000000</td>\n",
       "      <td>0.647301</td>\n",
       "    </tr>\n",
       "    <tr>\n",
       "      <th>4</th>\n",
       "      <td>0.497532</td>\n",
       "      <td>0.519706</td>\n",
       "      <td>0.588434</td>\n",
       "      <td>0.647301</td>\n",
       "      <td>1.000000</td>\n",
       "    </tr>\n",
       "  </tbody>\n",
       "</table>\n",
       "</div>"
      ],
      "text/plain": [
       "   N9-B002428-3_38_F-1-1|tissue:Heart|subtissue:LA|cell_ontology_class:fibroblast|free_annotation:NA  \\\n",
       "0                                           1.000000                                                   \n",
       "1                                           0.455388                                                   \n",
       "2                                           0.738791                                                   \n",
       "3                                           0.609054                                                   \n",
       "4                                           0.497532                                                   \n",
       "\n",
       "   E5-D042479-3_8_M-1-1|tissue:Marrow|subtissue:B-cells|cell_ontology_class:precursor_B_cell|free_annotation:pre-B_cell_(Philadelphia_nomenclature)  \\\n",
       "0                                           0.455388                                                                                                  \n",
       "1                                           1.000000                                                                                                  \n",
       "2                                           0.542118                                                                                                  \n",
       "3                                           0.556670                                                                                                  \n",
       "4                                           0.519706                                                                                                  \n",
       "\n",
       "   L1-D042475-3_9_M-1-1|tissue:Trachea|subtissue:NA|cell_ontology_class:mesenchymal_cell|free_annotation:NA  \\\n",
       "0                                           0.738791                                                          \n",
       "1                                           0.542118                                                          \n",
       "2                                           0.999999                                                          \n",
       "3                                           0.731973                                                          \n",
       "4                                           0.588434                                                          \n",
       "\n",
       "   P12-MAA000596-3_9_M-1-1|tissue:Marrow|subtissue:KLS|cell_ontology_class:hematopoietic_precursor_cell|free_annotation:NA  \\\n",
       "0                                           0.609054                                                                         \n",
       "1                                           0.556670                                                                         \n",
       "2                                           0.731973                                                                         \n",
       "3                                           1.000000                                                                         \n",
       "4                                           0.647301                                                                         \n",
       "\n",
       "   I10-MAA000385-3_10_M-1-1|tissue:Fat|subtissue:SCAT|cell_ontology_class:myeloid_cell|free_annotation:NA  \n",
       "0                                           0.497532                                                       \n",
       "1                                           0.519706                                                       \n",
       "2                                           0.588434                                                       \n",
       "3                                           0.647301                                                       \n",
       "4                                           1.000000                                                       "
      ]
     },
     "execution_count": 5,
     "metadata": {},
     "output_type": "execute_result"
    }
   ],
   "source": [
    "df = pd.read_csv(prefix + aws_s3_ls.query('date == \"2018-08-12\"').iloc[0]['basename'])\n",
    "df.iloc[:5, :5]"
   ]
  },
  {
   "cell_type": "code",
   "execution_count": 6,
   "metadata": {},
   "outputs": [
    {
     "data": {
      "text/html": [
       "<div>\n",
       "<style scoped>\n",
       "    .dataframe tbody tr th:only-of-type {\n",
       "        vertical-align: middle;\n",
       "    }\n",
       "\n",
       "    .dataframe tbody tr th {\n",
       "        vertical-align: top;\n",
       "    }\n",
       "\n",
       "    .dataframe thead th {\n",
       "        text-align: right;\n",
       "    }\n",
       "</style>\n",
       "<table border=\"1\" class=\"dataframe\">\n",
       "  <thead>\n",
       "    <tr style=\"text-align: right;\">\n",
       "      <th></th>\n",
       "      <th>G12-MAA000496-3_10_M-1-1|tissue:Trachea|subtissue:NA|cell_ontology_class:mesenchymal_cell|free_annotation:NA</th>\n",
       "      <th>F12-D045140-3_38_F-1-1|tissue:Marrow|subtissue:Granulocytes|cell_ontology_class:granulocyte|free_annotation:NA</th>\n",
       "      <th>N9-MAA000617-3_10_M-1-1|tissue:Brain_Myeloid|subtissue:Striatum|cell_ontology_class:microglial_cell|free_annotation:NA</th>\n",
       "      <th>F20-MAA000934-3_9_M-1-1|tissue:Fat|subtissue:SCAT|cell_ontology_class:mesenchymal_stem_cell_of_adipose|free_annotation:mesenchymal_progenitor</th>\n",
       "      <th>A8-MAA000609-3_8_M-1-1|tissue:Thymus|subtissue:NA|cell_ontology_class:immature_T_cell|free_annotation:DN4-DP_in_transition_Cd69_negative_thymocytes</th>\n",
       "    </tr>\n",
       "  </thead>\n",
       "  <tbody>\n",
       "    <tr>\n",
       "      <th>0</th>\n",
       "      <td>1.000000</td>\n",
       "      <td>0.027854</td>\n",
       "      <td>0.044296</td>\n",
       "      <td>0.081313</td>\n",
       "      <td>0.040397</td>\n",
       "    </tr>\n",
       "    <tr>\n",
       "      <th>1</th>\n",
       "      <td>0.027854</td>\n",
       "      <td>1.000000</td>\n",
       "      <td>0.028868</td>\n",
       "      <td>0.030979</td>\n",
       "      <td>0.023340</td>\n",
       "    </tr>\n",
       "    <tr>\n",
       "      <th>2</th>\n",
       "      <td>0.044296</td>\n",
       "      <td>0.028868</td>\n",
       "      <td>1.000000</td>\n",
       "      <td>0.054794</td>\n",
       "      <td>0.036477</td>\n",
       "    </tr>\n",
       "    <tr>\n",
       "      <th>3</th>\n",
       "      <td>0.081313</td>\n",
       "      <td>0.030979</td>\n",
       "      <td>0.054794</td>\n",
       "      <td>1.000000</td>\n",
       "      <td>0.035593</td>\n",
       "    </tr>\n",
       "    <tr>\n",
       "      <th>4</th>\n",
       "      <td>0.040397</td>\n",
       "      <td>0.023340</td>\n",
       "      <td>0.036477</td>\n",
       "      <td>0.035593</td>\n",
       "      <td>1.000000</td>\n",
       "    </tr>\n",
       "  </tbody>\n",
       "</table>\n",
       "</div>"
      ],
      "text/plain": [
       "   G12-MAA000496-3_10_M-1-1|tissue:Trachea|subtissue:NA|cell_ontology_class:mesenchymal_cell|free_annotation:NA  \\\n",
       "0                                           1.000000                                                              \n",
       "1                                           0.027854                                                              \n",
       "2                                           0.044296                                                              \n",
       "3                                           0.081313                                                              \n",
       "4                                           0.040397                                                              \n",
       "\n",
       "   F12-D045140-3_38_F-1-1|tissue:Marrow|subtissue:Granulocytes|cell_ontology_class:granulocyte|free_annotation:NA  \\\n",
       "0                                           0.027854                                                                \n",
       "1                                           1.000000                                                                \n",
       "2                                           0.028868                                                                \n",
       "3                                           0.030979                                                                \n",
       "4                                           0.023340                                                                \n",
       "\n",
       "   N9-MAA000617-3_10_M-1-1|tissue:Brain_Myeloid|subtissue:Striatum|cell_ontology_class:microglial_cell|free_annotation:NA  \\\n",
       "0                                           0.044296                                                                        \n",
       "1                                           0.028868                                                                        \n",
       "2                                           1.000000                                                                        \n",
       "3                                           0.054794                                                                        \n",
       "4                                           0.036477                                                                        \n",
       "\n",
       "   F20-MAA000934-3_9_M-1-1|tissue:Fat|subtissue:SCAT|cell_ontology_class:mesenchymal_stem_cell_of_adipose|free_annotation:mesenchymal_progenitor  \\\n",
       "0                                           0.081313                                                                                               \n",
       "1                                           0.030979                                                                                               \n",
       "2                                           0.054794                                                                                               \n",
       "3                                           1.000000                                                                                               \n",
       "4                                           0.035593                                                                                               \n",
       "\n",
       "   A8-MAA000609-3_8_M-1-1|tissue:Thymus|subtissue:NA|cell_ontology_class:immature_T_cell|free_annotation:DN4-DP_in_transition_Cd69_negative_thymocytes  \n",
       "0                                           0.040397                                                                                                    \n",
       "1                                           0.023340                                                                                                    \n",
       "2                                           0.036477                                                                                                    \n",
       "3                                           0.035593                                                                                                    \n",
       "4                                           1.000000                                                                                                    "
      ]
     },
     "execution_count": 6,
     "metadata": {},
     "output_type": "execute_result"
    }
   ],
   "source": [
    "df = pd.read_csv(prefix + aws_s3_ls.query('date == \"2018-09-12\"').iloc[0]['basename'])\n",
    "df.iloc[:5, :5]"
   ]
  },
  {
   "cell_type": "code",
   "execution_count": 7,
   "metadata": {},
   "outputs": [
    {
     "data": {
      "text/html": [
       "<div>\n",
       "<style scoped>\n",
       "    .dataframe tbody tr th:only-of-type {\n",
       "        vertical-align: middle;\n",
       "    }\n",
       "\n",
       "    .dataframe tbody tr th {\n",
       "        vertical-align: top;\n",
       "    }\n",
       "\n",
       "    .dataframe thead th {\n",
       "        text-align: right;\n",
       "    }\n",
       "</style>\n",
       "<table border=\"1\" class=\"dataframe\">\n",
       "  <thead>\n",
       "    <tr style=\"text-align: right;\">\n",
       "      <th></th>\n",
       "      <th>M20-B002775-3_39_F-1-1|tissue:Kidney|subtissue:NA|cell_ontology_class:epithelial_cell_of_proximal_tubule|free_annotation:NA</th>\n",
       "      <th>N9-B002011-3_38_F-1-1|tissue:Heart|subtissue:RA|cell_ontology_class:fibroblast|free_annotation:NA</th>\n",
       "      <th>L17-B002423-3_39_F-1-1|tissue:Heart|subtissue:RV|cell_ontology_class:fibroblast|free_annotation:NA</th>\n",
       "      <th>N16-MAA001539-3_56_F-1-1|tissue:Large_Intestine|subtissue:Distal|cell_ontology_class:enterocyte_of_epithelium_of_large_intestine|free_annotation:Enterocyte_(Distal)</th>\n",
       "      <th>B21-D042474-3_8_M-1-1|tissue:Trachea|subtissue:NA|cell_ontology_class:endothelial_cell|free_annotation:NA</th>\n",
       "    </tr>\n",
       "  </thead>\n",
       "  <tbody>\n",
       "    <tr>\n",
       "      <th>0</th>\n",
       "      <td>1.000000</td>\n",
       "      <td>0.030867</td>\n",
       "      <td>0.041741</td>\n",
       "      <td>0.026250</td>\n",
       "      <td>0.029224</td>\n",
       "    </tr>\n",
       "    <tr>\n",
       "      <th>1</th>\n",
       "      <td>0.030867</td>\n",
       "      <td>1.000000</td>\n",
       "      <td>0.059843</td>\n",
       "      <td>0.020217</td>\n",
       "      <td>0.043646</td>\n",
       "    </tr>\n",
       "    <tr>\n",
       "      <th>2</th>\n",
       "      <td>0.041741</td>\n",
       "      <td>0.059843</td>\n",
       "      <td>1.000000</td>\n",
       "      <td>0.027921</td>\n",
       "      <td>0.046250</td>\n",
       "    </tr>\n",
       "    <tr>\n",
       "      <th>3</th>\n",
       "      <td>0.026250</td>\n",
       "      <td>0.020217</td>\n",
       "      <td>0.027921</td>\n",
       "      <td>1.000000</td>\n",
       "      <td>0.021005</td>\n",
       "    </tr>\n",
       "    <tr>\n",
       "      <th>4</th>\n",
       "      <td>0.029224</td>\n",
       "      <td>0.043646</td>\n",
       "      <td>0.046250</td>\n",
       "      <td>0.021005</td>\n",
       "      <td>1.000000</td>\n",
       "    </tr>\n",
       "  </tbody>\n",
       "</table>\n",
       "</div>"
      ],
      "text/plain": [
       "   M20-B002775-3_39_F-1-1|tissue:Kidney|subtissue:NA|cell_ontology_class:epithelial_cell_of_proximal_tubule|free_annotation:NA  \\\n",
       "0                                           1.000000                                                                             \n",
       "1                                           0.030867                                                                             \n",
       "2                                           0.041741                                                                             \n",
       "3                                           0.026250                                                                             \n",
       "4                                           0.029224                                                                             \n",
       "\n",
       "   N9-B002011-3_38_F-1-1|tissue:Heart|subtissue:RA|cell_ontology_class:fibroblast|free_annotation:NA  \\\n",
       "0                                           0.030867                                                   \n",
       "1                                           1.000000                                                   \n",
       "2                                           0.059843                                                   \n",
       "3                                           0.020217                                                   \n",
       "4                                           0.043646                                                   \n",
       "\n",
       "   L17-B002423-3_39_F-1-1|tissue:Heart|subtissue:RV|cell_ontology_class:fibroblast|free_annotation:NA  \\\n",
       "0                                           0.041741                                                    \n",
       "1                                           0.059843                                                    \n",
       "2                                           1.000000                                                    \n",
       "3                                           0.027921                                                    \n",
       "4                                           0.046250                                                    \n",
       "\n",
       "   N16-MAA001539-3_56_F-1-1|tissue:Large_Intestine|subtissue:Distal|cell_ontology_class:enterocyte_of_epithelium_of_large_intestine|free_annotation:Enterocyte_(Distal)  \\\n",
       "0                                           0.026250                                                                                                                      \n",
       "1                                           0.020217                                                                                                                      \n",
       "2                                           0.027921                                                                                                                      \n",
       "3                                           1.000000                                                                                                                      \n",
       "4                                           0.021005                                                                                                                      \n",
       "\n",
       "   B21-D042474-3_8_M-1-1|tissue:Trachea|subtissue:NA|cell_ontology_class:endothelial_cell|free_annotation:NA  \n",
       "0                                           0.029224                                                          \n",
       "1                                           0.043646                                                          \n",
       "2                                           0.046250                                                          \n",
       "3                                           0.021005                                                          \n",
       "4                                           1.000000                                                          "
      ]
     },
     "execution_count": 7,
     "metadata": {},
     "output_type": "execute_result"
    }
   ],
   "source": [
    "df = pd.read_csv(prefix + aws_s3_ls.query('date == \"2018-09-15\"').iloc[0]['basename'])\n",
    "df.iloc[:5, :5]"
   ]
  },
  {
   "cell_type": "code",
   "execution_count": 8,
   "metadata": {},
   "outputs": [],
   "source": [
    "# df = pd.read_csv(prefix + aws_s3_ls.query('date == \"2018-09-16\"').iloc[0]['basename'])\n",
    "# df.iloc[:5, :5]"
   ]
  },
  {
   "cell_type": "markdown",
   "metadata": {},
   "source": [
    "CSVs created from 2018-09-12 to 2018-09-15 are all with the `--ignore-abundance` flag"
   ]
  },
  {
   "cell_type": "code",
   "execution_count": 9,
   "metadata": {},
   "outputs": [],
   "source": [
    "from tqdm import tqdm"
   ]
  },
  {
   "cell_type": "code",
   "execution_count": null,
   "metadata": {},
   "outputs": [
    {
     "name": "stderr",
     "output_type": "stream",
     "text": [
      "1it [00:01,  1.06s/it]"
     ]
    },
    {
     "name": "stdout",
     "output_type": "stream",
     "text": [
      "\tcell_metadata.shape, (997, 4)\n"
     ]
    },
    {
     "name": "stderr",
     "output_type": "stream",
     "text": [
      "21it [00:17,  1.17it/s]"
     ]
    },
    {
     "name": "stdout",
     "output_type": "stream",
     "text": [
      "\tcell_metadata.shape, (1000, 4)\n"
     ]
    },
    {
     "name": "stderr",
     "output_type": "stream",
     "text": [
      "441it [10:14,  1.39s/it]"
     ]
    }
   ],
   "source": [
    "\n",
    "def extract_cell_metadata(columns):\n",
    "    cell_metadata = pd.Series(columns).str.split('|', expand=True)\n",
    "#     cell_metadata.index = columns\n",
    "    cell_metadata.columns = ['cell_id', 'tissue', \n",
    "                             'subtissue', 'cell_ontology_class', \n",
    "                             'free_annotation']\n",
    "    cell_metadata = cell_metadata.set_index('cell_id')\n",
    "    cell_metadata.index.name = 'cell_id'\n",
    "    cell_metadata = cell_metadata.applymap(lambda x: x.split(':')[-1])\n",
    "#     print('\\tcell_metadata.shape', cell_metadata.shape)\n",
    "#     cell_metadata = cell_metadata.sort_index()\n",
    "#     cell_metadata.head()\n",
    "    return cell_metadata\n",
    "\n",
    "\n",
    "\n",
    "dfs = {}\n",
    "\n",
    "metadatas = []\n",
    "\n",
    "def to_key_value_pair(attribute):\n",
    "    if len(attribute) > 1:\n",
    "        try:\n",
    "            return attribute[0], int(attribute[1])\n",
    "        except ValueError:\n",
    "            return attribute[0], attribute[1] \n",
    "    else:\n",
    "        return 'comparison_sequence', attribute[0]\n",
    "\n",
    "\n",
    "\n",
    "def extract_experiment_metadata(basename):\n",
    "    key = basename.split('.csv')[0]\n",
    "    split = key.split('_')\n",
    "    attributes = [x.split('=') for x in split]\n",
    "    attributes = dict(to_key_value_pair(x) for x in attributes)\n",
    "    return key, attributes\n",
    "\n",
    "\n",
    "ignore_abundance_dates = ['2018-09-12',\n",
    " '2018-09-13',\n",
    " '2018-09-14',\n",
    " '2018-09-15']\n",
    "\n",
    "experiment_metadatas = {}\n",
    "\n",
    "cell_metadata = pd.DataFrame()\n",
    "\n",
    "max_cells = 1000\n",
    "tidy_dfs = []\n",
    "\n",
    "for i, row in tqdm(aws_s3_ls.iterrows()):\n",
    "    basename = row['basename']\n",
    "    csv = f'{prefix}{basename}'\n",
    "    df = pd.read_csv(csv)\n",
    "#     print(f'{basename}\\tdf.shape: {df.shape}')\n",
    "    \n",
    "    key, attributes = extract_experiment_metadata(basename)\n",
    "    experiment_metadatas[key] = attributes\n",
    "\n",
    "    metadata = extract_cell_metadata(df.columns)\n",
    "    \n",
    "    mask = np.triu(np.ones(df.shape)).astype(np.bool)\n",
    "\n",
    "    df.index = metadata.index.copy()\n",
    "    df.columns = metadata.index.copy()\n",
    "    \n",
    "    df = df.where(mask)\n",
    "    df.index.name = 'cell_id'\n",
    "    df.columns.name = 'other_cell'\n",
    "    tidy = df.stack().reset_index()\n",
    "    tidy['experiment'] = key\n",
    "    \n",
    "    ignore_abundance = row['date'] in ignore_abundance_dates\n",
    "    tidy['ignore_abundance'] = ignore_abundance\n",
    "#     tidy = tidy.rename(columns={'level_0': 'cell_id', 'level_1': 'other_cell'})\n",
    "        \n",
    "    tidy_dfs.append(tidy)\n",
    "\n",
    "    # Add new cells to metadata\n",
    "    if len(df.index.difference(cell_metadata.index)) > 0:\n",
    "        cell_metadata = cell_metadata.append(metadata)\n",
    "        cell_metadata = cell_metadata.loc[~cell_metadata.index.duplicated()]\n",
    "        print(f'\\tcell_metadata.shape, {cell_metadata.shape}')\n",
    "\n"
   ]
  },
  {
   "cell_type": "code",
   "execution_count": null,
   "metadata": {},
   "outputs": [],
   "source": [
    "# cell_metadata = pd.concat(metadatas)\n",
    "# print(cell_metadata.shape)\n",
    "# cell_metadata = cell_metadata.loc[~cell_metadata.index.duplicated()]\n",
    "cell_metadata = cell_metadata.sort_index()\n",
    "print(cell_metadata.shape)\n",
    "cell_metadata.head()"
   ]
  },
  {
   "cell_type": "code",
   "execution_count": null,
   "metadata": {},
   "outputs": [],
   "source": [
    "experiment_metadata = pd.DataFrame(experiment_metadatas).T\n",
    "experiment_metadata['trim'] = experiment_metadata['trim'].map(lambda x: x == 'true')\n",
    "experiment_metadata['ksize'] = experiment_metadata['ksize'].astype(int)\n",
    "experiment_metadata['scaled'] = experiment_metadata['scaled'].astype(int)\n",
    "print(experiment_metadata.shape)\n",
    "experiment_metadata.head()"
   ]
  },
  {
   "cell_type": "code",
   "execution_count": null,
   "metadata": {},
   "outputs": [],
   "source": [
    "# csv_prefix = '/mnt/data/tabula-muris-sourmash-compare'"
   ]
  },
  {
   "cell_type": "code",
   "execution_count": null,
   "metadata": {},
   "outputs": [],
   "source": [
    "import s3fs\n",
    "\n",
    "def write_s3(df, filename, fmt='csv', **kwargs):\n",
    "    fs = s3fs.S3FileSystem(anon=False)\n",
    "    if fmt == 'csv':\n",
    "        # csv is a text format\n",
    "        with fs.open(filename, 'w') as f:\n",
    "            return df.to_csv(f, **kwargs)\n",
    "    elif fmt == 'parquet':\n",
    "        # Parquet is a binary format and needs the \"b\" flag\n",
    "        with fs.open(filename, 'wb') as f:\n",
    "            return df.to_parquet(f, engine='pyarrow', **kwargs)\n",
    "        "
   ]
  },
  {
   "cell_type": "code",
   "execution_count": null,
   "metadata": {},
   "outputs": [],
   "source": [
    "csv_prefix = 's3://olgabot-maca/facs/sourmash_compare_combined/'"
   ]
  },
  {
   "cell_type": "code",
   "execution_count": null,
   "metadata": {},
   "outputs": [],
   "source": [
    "    # %load_ext autoreload\n",
    "    # %autoreload 2"
   ]
  },
  {
   "cell_type": "code",
   "execution_count": null,
   "metadata": {},
   "outputs": [],
   "source": [
    "pd.__file__"
   ]
  },
  {
   "cell_type": "code",
   "execution_count": null,
   "metadata": {},
   "outputs": [],
   "source": [
    "write_s3(experiment_metadata, f'{csv_prefix}experiment-metadata.csv', 'csv')\n",
    "\n",
    "write_s3(cell_metadata, f'{csv_prefix}cell-metadata.csv', 'csv')\n"
   ]
  },
  {
   "cell_type": "code",
   "execution_count": null,
   "metadata": {},
   "outputs": [],
   "source": [
    "similarity_scaled_subset = similarity.query()"
   ]
  },
  {
   "cell_type": "code",
   "execution_count": null,
   "metadata": {},
   "outputs": [],
   "source": [
    "%time similarity = pd.concat(tidy_dfs, ignore_index=True)\n",
    "print(similarity.shape)\n",
    "similarity.head()"
   ]
  },
  {
   "cell_type": "code",
   "execution_count": null,
   "metadata": {},
   "outputs": [],
   "source": [
    "%time similarity = similarity.rename(columns={0:'similarity'})"
   ]
  },
  {
   "cell_type": "code",
   "execution_count": null,
   "metadata": {},
   "outputs": [],
   "source": []
  },
  {
   "cell_type": "code",
   "execution_count": null,
   "metadata": {},
   "outputs": [],
   "source": [
    "%time write_s3(similarity, f'{csv_prefix}similarity.csv', 'csv')"
   ]
  },
  {
   "cell_type": "code",
   "execution_count": null,
   "metadata": {},
   "outputs": [],
   "source": [
    "%time write_s3(similarity, f'{csv_prefix}similarity.parquet', 'parquet')"
   ]
  },
  {
   "cell_type": "code",
   "execution_count": null,
   "metadata": {},
   "outputs": [],
   "source": [
    "! aws s3 ls --human-readable $csv_prefix"
   ]
  },
  {
   "cell_type": "code",
   "execution_count": null,
   "metadata": {},
   "outputs": [],
   "source": [
    "# experiment_metadata.to_csv(f'{csv_prefix}-experiment-metadata.csv')"
   ]
  },
  {
   "cell_type": "code",
   "execution_count": null,
   "metadata": {},
   "outputs": [],
   "source": [
    "cell_metadata.to_csv(f'{csv_prefix}-cell-metadata.csv')"
   ]
  },
  {
   "cell_type": "code",
   "execution_count": null,
   "metadata": {},
   "outputs": [],
   "source": [
    "%time compare_results.to_parquet(f'{csv_prefix}-similarity.parquet')"
   ]
  },
  {
   "cell_type": "markdown",
   "metadata": {},
   "source": [
    "## Save subset with only a few scalings"
   ]
  },
  {
   "cell_type": "code",
   "execution_count": null,
   "metadata": {},
   "outputs": [],
   "source": [
    "sorted(experiment_metadata.scaled.unique())"
   ]
  },
  {
   "cell_type": "code",
   "execution_count": null,
   "metadata": {},
   "outputs": [],
   "source": [
    "scaleds = [100, 500, 1000, 5000]\n",
    "\n",
    "experiment_metadata_subset = experiment_metadata.loc[experiment_metadata.scaled.isin(scaleds)]\n",
    "experiment_metadata_subset.head()"
   ]
  },
  {
   "cell_type": "code",
   "execution_count": null,
   "metadata": {},
   "outputs": [],
   "source": [
    "%time similarity_subset = similarity.query('experiment in @experiment_metadata_subset.index')\n",
    "print(similarity_subset.shape)\n",
    "similarity_subset.head()"
   ]
  },
  {
   "cell_type": "code",
   "execution_count": null,
   "metadata": {},
   "outputs": [],
   "source": [
    "%time write_s3(experiment_metadata_subset, f'{csv_prefix}experiment-metadata-scaled-subset.csv', 'csv')\n"
   ]
  },
  {
   "cell_type": "code",
   "execution_count": null,
   "metadata": {},
   "outputs": [],
   "source": [
    "similarity_subset.dtypes"
   ]
  },
  {
   "cell_type": "code",
   "execution_count": null,
   "metadata": {},
   "outputs": [],
   "source": [
    "%time write_s3(similarity_subset, f'{csv_prefix}similarity-scaled-subset.parquet', 'parquet')"
   ]
  },
  {
   "cell_type": "code",
   "execution_count": null,
   "metadata": {},
   "outputs": [],
   "source": [
    "# attrs = experiment_metadata.T.to_dict()\n",
    "# attrs"
   ]
  },
  {
   "cell_type": "code",
   "execution_count": null,
   "metadata": {},
   "outputs": [],
   "source": [
    "ds = 1-xr.Dataset(dfs)\n",
    "ds"
   ]
  },
  {
   "cell_type": "code",
   "execution_count": null,
   "metadata": {},
   "outputs": [],
   "source": [
    "ds.to_netcdf('/mnt/data/tabula-muris-sourmash-compare.netcdf')"
   ]
  },
  {
   "cell_type": "code",
   "execution_count": null,
   "metadata": {},
   "outputs": [],
   "source": [
    "ls -lh /mnt/data/"
   ]
  },
  {
   "cell_type": "markdown",
   "metadata": {},
   "source": [
    "## Read full, normalized dataset to see where the cells lie"
   ]
  },
  {
   "cell_type": "code",
   "execution_count": null,
   "metadata": {},
   "outputs": [],
   "source": [
    "tabula_muris = sc.read('/mnt/data/tabula-muris-facs.h5ad')\n",
    "tabula_muris"
   ]
  },
  {
   "cell_type": "code",
   "execution_count": null,
   "metadata": {},
   "outputs": [],
   "source": [
    "rows = tabula_muris.obs.index.isin(cell_metadata.index)\n",
    "\n",
    "facs_1000cell_cheating = tabula_muris[rows, :]\n",
    "\n",
    "\n",
    "sc.pl.umap(facs_1000cell_cheating, 'cell_ontology_class')"
   ]
  },
  {
   "cell_type": "markdown",
   "metadata": {},
   "source": [
    "## Re-load original, unnormalized count matrices"
   ]
  },
  {
   "cell_type": "code",
   "execution_count": null,
   "metadata": {},
   "outputs": [],
   "source": [
    "import scanpy\n",
    "\n",
    "results_file = '/mnt/data/tabula-muris-facs_1000cell_subset.h5ad'\n",
    "\n",
    "\n",
    "tm_facs_metadata = pd.read_csv('/mnt/data/czbiohub-tabula-muris/TM_facs_metadata.csv')\n",
    "tm_facs_metadata = tm_facs_metadata.set_index('cell')\n",
    "\n",
    "# Replace dots with dashes\n",
    "index = tm_facs_metadata.index.str.replace('.', '-')\n",
    "tm_facs_metadata.index = index\n",
    "\n",
    "tm_facs_data = scanpy.anndata.read_h5ad('/mnt/data/czbiohub-tabula-muris/TM_facs_mat.h5ad')\n",
    "\n",
    "tm_facs_data.obs.index = index\n",
    "tm_facs_data.obs = tm_facs_metadata\n",
    "tm_facs_data"
   ]
  },
  {
   "cell_type": "code",
   "execution_count": null,
   "metadata": {},
   "outputs": [],
   "source": [
    "rows = tm_facs_data.obs.index.isin(cell_metadata.index)\n",
    "\n",
    "facs_1000cell = tm_facs_data[rows, :]\n",
    "sc.tl.pca(facs_1000cell)\n",
    "\n",
    "sc.pl.pca_variance_ratio(facs_1000cell, log=True)"
   ]
  },
  {
   "cell_type": "code",
   "execution_count": null,
   "metadata": {},
   "outputs": [],
   "source": [
    "sc.pp.neighbors(facs_1000cell, n_neighbors=5, n_pcs=19)\n",
    "sc.tl.umap(facs_1000cell)\n",
    "\n",
    "sc.pl.umap(facs_1000cell, 'cell_ontology_class')"
   ]
  },
  {
   "cell_type": "code",
   "execution_count": null,
   "metadata": {},
   "outputs": [],
   "source": [
    "len(facs_1000cell.obs.cell_ontology_class.unique())"
   ]
  },
  {
   "cell_type": "code",
   "execution_count": null,
   "metadata": {},
   "outputs": [],
   "source": [
    "facs_1000cell.write(results_file)"
   ]
  },
  {
   "cell_type": "code",
   "execution_count": null,
   "metadata": {},
   "outputs": [],
   "source": [
    "def embedding_to_df(embedding, metadata):\n",
    "    embedding_df = pd.DataFrame(embedding, index=metadata.index, columns=['UMAP_1', 'UMAP_2'])\n",
    "\n",
    "    sample_id_to_cell_ontology_class = pd.DataFrame(metadata[['tissue', 'cell_ontology_class']].values, \n",
    "                                                 index=metadata.index, \n",
    "                                                    columns=['tissue', 'cell_ontology_class'])\n",
    "    sample_id_to_cell_ontology_class['mouse_sex'] = sample_id_to_cell_ontology_class.index.map(lambda x: x.split(\"_\")[-1][0])\n",
    "    sample_id_to_cell_ontology_class.head()\n",
    "\n",
    "    embedding_metadata = embedding_df.join(sample_id_to_cell_ontology_class)\n",
    "    embedding_metadata.index.name = 'cell_id'\n",
    "    return embedding_metadata\n",
    "\n",
    "def embedding_to_hv_table(embedding_metadata):\n",
    "\n",
    "    key_dimensions = [('cell_ontology_class', 'Cell ontology class'),\n",
    "                      ('tissue', \"Organ\"), ('mouse_sex', 'Mouse Sex')]\n",
    "    value_dimensions = [(\"UMAP_1\", 'UMAP 1'), (\"UMAP_2\", \"UMAP 2\")]\n",
    "    embedding_hv = hv.Table(embedding_metadata.reset_index(), key_dimensions, value_dimensions)\n",
    "    return embedding_hv"
   ]
  },
  {
   "cell_type": "code",
   "execution_count": null,
   "metadata": {},
   "outputs": [],
   "source": [
    "alignment_umap_df = embedding_to_df(facs_1000cell.obsm['X_umap'], facs_1000cell.obs)\n",
    "alignment_umap_hv = embedding_to_hv_table(alignment_umap_df)\n",
    "alignment_umap_hv"
   ]
  },
  {
   "cell_type": "markdown",
   "metadata": {},
   "source": [
    "### Define a reasonable looking color cycle"
   ]
  },
  {
   "cell_type": "code",
   "execution_count": null,
   "metadata": {},
   "outputs": [],
   "source": [
    "cat20c = hv.Cycle(\"Category20c\")\n",
    "cat20b = hv.Cycle(\"Category20b\")\n",
    "\n",
    "new_palette = cat20b.values + cat20c.values\n",
    "\n",
    "color_cycle = hv.Cycle(new_palette)"
   ]
  },
  {
   "cell_type": "markdown",
   "metadata": {},
   "source": [
    "### Plot interactive version of umap"
   ]
  },
  {
   "cell_type": "code",
   "execution_count": null,
   "metadata": {},
   "outputs": [],
   "source": [
    "%%opts Scatter [width=400 height=400 tools=['hover']]\n",
    "%%opts Scatter (color=color_cycle)\n",
    "\n",
    "scatters = alignment_umap_hv.to.scatter('UMAP 1', 'UMAP 2', groupby='Cell ontology class')\n",
    "scatters.overlay('Cell ontology class')\n"
   ]
  },
  {
   "cell_type": "markdown",
   "metadata": {},
   "source": [
    "## Get median ranks of cells adjacent in gene count space"
   ]
  },
  {
   "cell_type": "code",
   "execution_count": null,
   "metadata": {},
   "outputs": [],
   "source": [
    "cell_ids = facs_1000cell.obs.index\n",
    "facs_1000cell_adjacency_matrix = pd.DataFrame(facs_1000cell.uns['neighbors']['connectivities'].todense(),\n",
    "                                          index=cell_ids, \n",
    "                                          columns=cell_ids)\n",
    "# adjacency_matrix = \n",
    "facs_1000cell_adjacency_matrix.head()"
   ]
  },
  {
   "cell_type": "code",
   "execution_count": null,
   "metadata": {},
   "outputs": [],
   "source": [
    "(facs_1000cell_adjacency_matrix > 0).sum().head()"
   ]
  },
  {
   "cell_type": "code",
   "execution_count": null,
   "metadata": {},
   "outputs": [],
   "source": [
    "def median_neighbor_rank(jaccard_distances, adjacency_matrix, dim='cell_id', \n",
    "                         ascending=True):\n",
    "    \n",
    "    index = jaccard_distances.coords.indexes.get(dim)\n",
    "    da_as_df = pd.DataFrame(jaccard_distances.values, index=index, columns=index)\n",
    "    jaccard_ranks = da_as_df.rank(ascending=ascending)\n",
    "\n",
    "    median_ranks = jaccard_ranks[adjacency_matrix > 0].median()\n",
    "    return median_ranks\n",
    "\n",
    "median_ranks = median_neighbor_rank(ds['trim=false_scaled=1000_dna_ksize=12'],\n",
    "                                    facs_1000cell_adjacency_matrix)\n",
    "# sns.distplot(median_ranks)\n",
    "median_ranks.head()"
   ]
  },
  {
   "cell_type": "code",
   "execution_count": null,
   "metadata": {},
   "outputs": [],
   "source": [
    "sns.distplot(median_ranks.dropna())"
   ]
  },
  {
   "cell_type": "code",
   "execution_count": null,
   "metadata": {},
   "outputs": [],
   "source": [
    "median_ranks_all = ds.apply(median_neighbor_rank, adjacency_matrix=facs_1000cell_adjacency_matrix)\n",
    "median_ranks_all"
   ]
  },
  {
   "cell_type": "code",
   "execution_count": null,
   "metadata": {},
   "outputs": [],
   "source": [
    "median_ranks_df = median_ranks_all.to_dataframe().T.unstack().reset_index()\n",
    "median_ranks_df = median_ranks_df.rename(\n",
    "    columns={\"level_1\": 'experiment_id', 0: 'nn_median_rank'})\n",
    "median_ranks_df.head()"
   ]
  },
  {
   "cell_type": "code",
   "execution_count": null,
   "metadata": {},
   "outputs": [],
   "source": [
    "median_ranks_metadata = median_ranks_df.join(experiment_metadata, on='experiment_id') \n",
    "print(median_ranks_metadata.shape)\n",
    "median_ranks_metadata.head()"
   ]
  },
  {
   "cell_type": "code",
   "execution_count": null,
   "metadata": {},
   "outputs": [],
   "source": [
    "ksize_order = sorted(median_ranks_metadata['ksize'].unique())\n",
    "ksize_order"
   ]
  },
  {
   "cell_type": "code",
   "execution_count": null,
   "metadata": {},
   "outputs": [],
   "source": [
    "scaled_order = sorted(median_ranks_metadata['scaled'].unique())\n",
    "scaled_order"
   ]
  },
  {
   "cell_type": "code",
   "execution_count": null,
   "metadata": {},
   "outputs": [],
   "source": [
    "median_ranks_metadata.dtypes"
   ]
  },
  {
   "cell_type": "code",
   "execution_count": null,
   "metadata": {},
   "outputs": [],
   "source": [
    "g = sns.FacetGrid(median_ranks_metadata, hue='scaled', col='trim', \n",
    "                  size=6, hue_order=scaled_order, palette='viridis')\n",
    "g = g.map(sns.pointplot, 'ksize', 'nn_median_rank', lowess=True, order=ksize_order)\n",
    "g = g.add_legend()"
   ]
  },
  {
   "cell_type": "code",
   "execution_count": null,
   "metadata": {},
   "outputs": [],
   "source": [
    "g = sns.FacetGrid(median_ranks_metadata, hue='scaled', col='trim', \n",
    "                  height=6, hue_order=scaled_order, palette='viridis')\n",
    "g.map(sns.regplot, 'ksize', 'nn_median_rank', lowess=True)\n",
    "g.add_legend()\n",
    "g.set(xlim=(3, 60))"
   ]
  },
  {
   "cell_type": "code",
   "execution_count": null,
   "metadata": {},
   "outputs": [],
   "source": [
    "sns.regplot?"
   ]
  },
  {
   "cell_type": "code",
   "execution_count": null,
   "metadata": {},
   "outputs": [],
   "source": [
    "sns.pointplot?"
   ]
  },
  {
   "cell_type": "code",
   "execution_count": null,
   "metadata": {},
   "outputs": [],
   "source": [
    "scales = [100, 500, 1000, 2000, 5000]"
   ]
  },
  {
   "cell_type": "code",
   "execution_count": null,
   "metadata": {},
   "outputs": [],
   "source": [
    "median_ranks_metadata_subset_scales = median_ranks_metadata.query('scaled in @scales')\n",
    "median_ranks_metadata_subset_scales = median_ranks_metadata_subset_scales.dropna()\n",
    "print(median_ranks_metadata_subset_scales.shape)\n",
    "median_ranks_metadata_subset_scales.head()"
   ]
  },
  {
   "cell_type": "code",
   "execution_count": null,
   "metadata": {},
   "outputs": [],
   "source": [
    "g = sns.FacetGrid(median_ranks_metadata_subset_scales, hue='scaled', col='trim', \n",
    "                  height=6, palette='Set1')\n",
    "g = g.map(sns.pointplot, 'ksize', 'nn_median_rank', lowess=True, order=ksize_order)\n",
    "g = g.add_legend()"
   ]
  },
  {
   "cell_type": "code",
   "execution_count": null,
   "metadata": {},
   "outputs": [],
   "source": [
    "g = sns.FacetGrid(median_ranks_metadata_subset_scales, hue='scaled', col='trim', \n",
    "                  height=6, palette='Set1')\n",
    "g.map(sns.regplot, 'ksize', 'nn_median_rank', lowess=True)\n",
    "g.add_legend()\n",
    "\n",
    "# For some reason scatter=False doesn't work so you have to manually remove them\n",
    "ax = g.axes[0][0]\n",
    "ax.collections = []"
   ]
  },
  {
   "cell_type": "code",
   "execution_count": null,
   "metadata": {},
   "outputs": [],
   "source": [
    "sns.regplot?"
   ]
  },
  {
   "cell_type": "code",
   "execution_count": null,
   "metadata": {},
   "outputs": [],
   "source": [
    "with sns.axes_style('whitegrid'):\n",
    "    g = sns.FacetGrid(median_ranks_metadata_subset_scales, hue='scaled', col='trim', \n",
    "                      height=6, palette='Set1')\n",
    "    g.map(sns.regplot, 'ksize', 'nn_median_rank', lowess=True, scatter=False, \n",
    "          line_kws=dict(alpha=0.75))\n",
    "    g.add_legend()\n",
    "    g.set(xlim=(0, 60))"
   ]
  },
  {
   "cell_type": "code",
   "execution_count": null,
   "metadata": {},
   "outputs": [],
   "source": [
    "with sns.axes_style('whitegrid'):\n",
    "    g = sns.FacetGrid(median_ranks_metadata_subset_scales, hue='scaled', col='trim', \n",
    "                      height=6, palette='Set1')\n",
    "    g.map(sns.regplot, 'ksize', 'nn_median_rank', lowess=True, scatter=False, \n",
    "          line_kws=dict(alpha=0.75))\n",
    "    g.add_legend()\n",
    "    g.set(xlim=(20, 34), xticks=range(21, 35, 3))\n"
   ]
  },
  {
   "cell_type": "code",
   "execution_count": null,
   "metadata": {},
   "outputs": [],
   "source": [
    "fig, ax = plt.subplots(figsize=(20, 4))\n",
    "\n",
    "sns.violinplot('ksize', 'nn_median_rank', data=median_ranks_metadata_subset_scales, \n",
    "               hue='scaled', palette='viridis', scale='width')\n",
    "sns.despine()"
   ]
  },
  {
   "cell_type": "code",
   "execution_count": null,
   "metadata": {},
   "outputs": [],
   "source": [
    "fig, ax = plt.subplots(figsize=(20, 4))\n",
    "\n",
    "sns.boxplot('ksize', 'nn_median_rank', data=median_ranks_metadata_subset_scales, \n",
    "               hue='scaled', palette='viridis')\n",
    "sns.despine()"
   ]
  },
  {
   "cell_type": "code",
   "execution_count": null,
   "metadata": {},
   "outputs": [],
   "source": [
    "# g = sns.FacetGrid(median_ranks_metadata_subset, hue='scaled', col='trim', \n",
    "# #                   row='scaled',\n",
    "#                   height=6, palette='viridis', aspect=2)\n",
    "# g.map(sns.boxplot, 'ksize', 'nn_median_rank')\n",
    "# g.add_legend()"
   ]
  },
  {
   "cell_type": "code",
   "execution_count": null,
   "metadata": {
    "scrolled": false
   },
   "outputs": [],
   "source": [
    "# g = sns.FacetGrid(median_ranks_metadata_subset, hue='scaled', \n",
    "#                   row='ksize', sharex=True, sharey=True,\n",
    "#                   height=1, palette='viridis', aspect=2)\n",
    "# g.map(sns.distplot, 'nn_median_rank', kde=False)\n",
    "# g.add_legend()"
   ]
  },
  {
   "cell_type": "code",
   "execution_count": null,
   "metadata": {},
   "outputs": [],
   "source": [
    "ksizes = list(range(21, 34, 3))\n",
    "ksizes"
   ]
  },
  {
   "cell_type": "code",
   "execution_count": null,
   "metadata": {},
   "outputs": [],
   "source": [
    "median_ranks_metadata_subset_ksizes = median_ranks_metadata_subset_scales.query('ksize in @ksizes')\n",
    "median_ranks_metadata_subset_ksizes = median_ranks_metadata_subset_ksizes.dropna()\n",
    "print(median_ranks_metadata_subset_ksizes.shape)\n",
    "median_ranks_metadata_subset_ksizes.head()"
   ]
  },
  {
   "cell_type": "code",
   "execution_count": null,
   "metadata": {},
   "outputs": [],
   "source": [
    "fig, ax = plt.subplots(figsize=(20, 4))\n",
    "\n",
    "sns.boxplot('ksize', 'nn_median_rank', data=median_ranks_metadata_subset_ksizes, \n",
    "               hue='scaled', palette='viridis')\n",
    "sns.despine()"
   ]
  },
  {
   "cell_type": "markdown",
   "metadata": {},
   "source": [
    "### Plot ksize as hue"
   ]
  },
  {
   "cell_type": "code",
   "execution_count": null,
   "metadata": {},
   "outputs": [],
   "source": [
    "g = sns.FacetGrid(median_ranks_metadata_subset_ksizes, hue='ksize', col='trim', \n",
    "                  height=6, palette='magma', aspect=2)\n",
    "g = g.map(sns.pointplot, 'scaled', 'nn_median_rank', estimator=np.median)\n",
    "g = g.add_legend()"
   ]
  },
  {
   "cell_type": "code",
   "execution_count": null,
   "metadata": {},
   "outputs": [],
   "source": [
    "from scipy import stats"
   ]
  },
  {
   "cell_type": "code",
   "execution_count": null,
   "metadata": {},
   "outputs": [],
   "source": [
    "g = sns.FacetGrid(median_ranks_metadata_subset_ksizes, hue='ksize', col='trim', \n",
    "                  height=6, palette='magma', aspect=2)\n",
    "g = g.map(sns.pointplot, 'scaled', 'nn_median_rank', estimator=stats.gmean)\n",
    "g = g.add_legend()"
   ]
  },
  {
   "cell_type": "code",
   "execution_count": null,
   "metadata": {},
   "outputs": [],
   "source": [
    "g = sns.FacetGrid(median_ranks_metadata_subset_ksizes, hue='ksize', col='trim', \n",
    "                  height=6, palette='magma', aspect=2)\n",
    "g = g.map(sns.regplot, 'scaled', 'nn_median_rank', lowess=True)\n",
    "g = g.add_legend()"
   ]
  },
  {
   "cell_type": "markdown",
   "metadata": {},
   "source": [
    "Turn scatter off"
   ]
  },
  {
   "cell_type": "code",
   "execution_count": null,
   "metadata": {},
   "outputs": [],
   "source": [
    "g = sns.FacetGrid(median_ranks_metadata_subset_ksizes, hue='ksize', col='trim', \n",
    "                  height=6, palette='magma', aspect=2)\n",
    "g = g.map(sns.regplot, 'scaled', 'nn_median_rank', lowess=True, scatter=False)\n",
    "g = g.add_legend()\n",
    "g.set(xlim=(0, 5000))"
   ]
  },
  {
   "cell_type": "code",
   "execution_count": null,
   "metadata": {},
   "outputs": [],
   "source": [
    "g = sns.FacetGrid(median_ranks_metadata_subset_ksizes, hue='ksize', col='trim', \n",
    "                  height=6, palette='magma', aspect=2)\n",
    "g = g.map(sns.regplot, 'scaled', 'nn_median_rank')\n",
    "g = g.add_legend()"
   ]
  },
  {
   "cell_type": "code",
   "execution_count": null,
   "metadata": {},
   "outputs": [],
   "source": []
  },
  {
   "cell_type": "code",
   "execution_count": null,
   "metadata": {},
   "outputs": [],
   "source": []
  },
  {
   "cell_type": "code",
   "execution_count": null,
   "metadata": {},
   "outputs": [],
   "source": []
  }
 ],
 "metadata": {
  "kernelspec": {
   "display_name": "Python 3",
   "language": "python",
   "name": "python3"
  },
  "language_info": {
   "codemirror_mode": {
    "name": "ipython",
    "version": 3
   },
   "file_extension": ".py",
   "mimetype": "text/x-python",
   "name": "python",
   "nbconvert_exporter": "python",
   "pygments_lexer": "ipython3",
   "version": "3.6.5"
  }
 },
 "nbformat": 4,
 "nbformat_minor": 2
}
