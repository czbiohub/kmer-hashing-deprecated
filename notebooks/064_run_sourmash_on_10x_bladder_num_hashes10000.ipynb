{
 "cells": [
  {
   "cell_type": "code",
   "execution_count": 1,
   "metadata": {},
   "outputs": [
    {
     "name": "stdout",
     "output_type": "stream",
     "text": [
      "/mnt/data\n"
     ]
    }
   ],
   "source": [
    "cd /mnt/data"
   ]
  },
  {
   "cell_type": "code",
   "execution_count": 2,
   "metadata": {},
   "outputs": [],
   "source": [
    "tenx_channel = '10X_P4_3'"
   ]
  },
  {
   "cell_type": "code",
   "execution_count": 3,
   "metadata": {},
   "outputs": [],
   "source": [
    "! aws s3 sync s3://czbiohub-maca/10x_data/$tenx_channel/ $tenx_channel/"
   ]
  },
  {
   "cell_type": "code",
   "execution_count": 4,
   "metadata": {},
   "outputs": [
    {
     "name": "stdout",
     "output_type": "stream",
     "text": [
      "total 28G\r\n",
      "drwxrwxr-x  2 ubuntu ubuntu 4.0K Sep 24 09:06 \u001b[0m\u001b[01;34m.\u001b[0m/\r\n",
      "drwxr-xr-x 25 ubuntu root   4.0K Sep 24 00:48 \u001b[01;34m..\u001b[0m/\r\n",
      "-rw-rw-r--  1 ubuntu ubuntu  15M Aug 22  2017 10X_P4_3.mus.cell-gene.csv\r\n",
      "-rw-rw-r--  1 ubuntu ubuntu  14G Aug 22  2017 \u001b[01;31m10X_P4_3.tgz\u001b[0m\r\n",
      "-rw-rw-r--  1 ubuntu ubuntu 2.8K Aug 31  2017 barcodes.tsv\r\n",
      "-rw-rw-r--  1 ubuntu ubuntu 340K Aug 31  2017 genes.tsv\r\n",
      "-rw-rw-r--  1 ubuntu ubuntu 5.4M Aug 31  2017 matrix.mtx\r\n",
      "-rw-rw-r--  1 ubuntu ubuntu  615 Aug 22  2017 metrics_summary.csv\r\n",
      "-rw-rw-r--  1 ubuntu ubuntu  14G Jun 19 02:34 possorted_genome_bam.bam\r\n",
      "-rw-rw-r--  1 ubuntu ubuntu 4.7M Jun 19 02:34 possorted_genome_bam.bam.bai\r\n",
      "-rw-rw-r--  1 ubuntu ubuntu    0 Sep 24 09:06 possorted_genome_bam_scaled=100.sig\r\n",
      "-rw-rw-r--  1 ubuntu ubuntu  81M Sep 24 08:11 possorted_genome_bam.sig\r\n",
      "-rw-rw-r--  1 ubuntu ubuntu 7.4M Sep 15  2017 raw_gene_bc_matrices_h5.h5\r\n",
      "-rw-rw-r--  1 ubuntu ubuntu 2.6M Aug 22  2017 web_summary.html\r\n"
     ]
    }
   ],
   "source": [
    "ls -lha /mnt/data/$tenx_channel/"
   ]
  },
  {
   "cell_type": "code",
   "execution_count": 16,
   "metadata": {},
   "outputs": [],
   "source": [
    "ksizes = 21, 27, 33, 51\n",
    "protein = True\n",
    "dna = True\n",
    "seed = 42\n",
    "track_abundance = True\n",
    "scaled = 0\n",
    "num_hashes = 10000\n",
    "input_is_protein = False \n",
    "check_sequence = False"
   ]
  },
  {
   "cell_type": "code",
   "execution_count": 6,
   "metadata": {},
   "outputs": [
    {
     "name": "stderr",
     "output_type": "stream",
     "text": [
      "/home/ubuntu/anaconda/lib/python3.6/importlib/_bootstrap.py:219: RuntimeWarning: numpy.dtype size changed, may indicate binary incompatibility. Expected 96, got 88\n",
      "  return f(*args, **kwds)\n",
      "/home/ubuntu/anaconda/lib/python3.6/importlib/_bootstrap.py:219: RuntimeWarning: numpy.dtype size changed, may indicate binary incompatibility. Expected 96, got 88\n",
      "  return f(*args, **kwds)\n"
     ]
    },
    {
     "data": {
      "text/plain": [
       "148"
      ]
     },
     "execution_count": 6,
     "metadata": {},
     "output_type": "execute_result"
    }
   ],
   "source": [
    "import pandas as pd\n",
    "barcodes = set(pd.read_csv(f'/mnt/data/{tenx_channel}/barcodes.tsv', squeeze=True))\n",
    "genes = set(pd.read_csv(f'/mnt/data/{tenx_channel}/genes.tsv', squeeze=True))\n",
    "len(barcodes)"
   ]
  },
  {
   "cell_type": "code",
   "execution_count": 7,
   "metadata": {},
   "outputs": [],
   "source": [
    "from sourmash import DEFAULT_SEED, MinHash, load_sbt_index, create_sbt_index\n",
    "from sourmash import signature as sig\n",
    "from sourmash import sourmash_args\n",
    "from sourmash.logging import notify, error, print_results, set_quiet\n",
    "from sourmash.sbtmh import SearchMinHashesFindBest, SigLeaf\n",
    "\n",
    "from sourmash.sourmash_args import DEFAULT_LOAD_K\n",
    "DEFAULT_COMPUTE_K = '21,31,51'\n",
    "\n",
    "DEFAULT_N = 500\n",
    "WATERMARK_SIZE = 10000\n",
    " \n",
    "def make_minhashes():\n",
    "    # one minhash for each ksize\n",
    "    Elist = []\n",
    "    for k in ksizes:\n",
    "        if protein:\n",
    "            E = MinHash(ksize=k, n=num_hashes,\n",
    "                        is_protein=True,\n",
    "                        track_abundance=track_abundance,\n",
    "                        scaled=scaled,\n",
    "                        seed=seed)\n",
    "            Elist.append(E)\n",
    "        if dna:\n",
    "            E = MinHash(ksize=k, n=num_hashes,\n",
    "                        is_protein=False,\n",
    "                        track_abundance=track_abundance,\n",
    "                        scaled=scaled,\n",
    "                        seed=seed)\n",
    "            Elist.append(E)\n",
    "    return Elist\n",
    "\n",
    "def add_seq(Elist, seq, input_is_protein, check_sequence):\n",
    "    for E in Elist:\n",
    "        if input_is_protein:\n",
    "            E.add_protein(seq)\n",
    "        else:\n",
    "            E.add_sequence(seq, not check_sequence)\n",
    "\n",
    "def build_siglist(Elist, filename, name=None):\n",
    "    return [ sig.SourmashSignature(E, filename=filename,\n",
    "                                   name=name) for E in Elist ]\n",
    "\n",
    "def save_siglist(siglist, output_fp, filename=None):\n",
    "    # save!\n",
    "    if output_fp:\n",
    "        sig.save_signatures(siglist, args.output)\n",
    "    else:\n",
    "        if filename is None:\n",
    "            raise Exception(\"internal error, filename is None\")\n",
    "        with open(filename, 'w') as fp:\n",
    "            sig.save_signatures(siglist, fp)\n",
    "    notify('saved {} signature(s). Note: signature license is CC0.'.format(len(siglist)))"
   ]
  },
  {
   "cell_type": "code",
   "execution_count": 8,
   "metadata": {},
   "outputs": [],
   "source": [
    "%load_ext line_profiler"
   ]
  },
  {
   "cell_type": "code",
   "execution_count": 9,
   "metadata": {},
   "outputs": [
    {
     "data": {
      "text/plain": [
       "'cell_ontology_class:{cell_ontology_class}|tissue:{tissue}|free_annotation:{free_annotation}|mouse_id:{mouse_id}|cell:{cell}'"
      ]
     },
     "execution_count": 9,
     "metadata": {},
     "output_type": "execute_result"
    }
   ],
   "source": [
    "import pandas as pd\n",
    "\n",
    "cols = ['cell_ontology_class', 'tissue', 'free_annotation', 'mouse_id', 'cell']\n",
    "name_template = '|'.join([x + ':{' + x + '}' for x in cols])\n",
    "name_template"
   ]
  },
  {
   "cell_type": "code",
   "execution_count": 10,
   "metadata": {},
   "outputs": [
    {
     "name": "stderr",
     "output_type": "stream",
     "text": [
      "/home/ubuntu/anaconda/lib/python3.6/site-packages/IPython/core/interactiveshell.py:2785: DtypeWarning: Columns (10,12,14) have mixed types. Specify dtype option on import or set low_memory=False.\n",
      "  interactivity=interactivity, compiler=compiler, result=result)\n",
      "/home/ubuntu/anaconda/lib/python3.6/site-packages/ipykernel_launcher.py:7: SettingWithCopyWarning: \n",
      "A value is trying to be set on a copy of a slice from a DataFrame.\n",
      "Try using .loc[row_indexer,col_indexer] = value instead\n",
      "\n",
      "See the caveats in the documentation: http://pandas.pydata.org/pandas-docs/stable/indexing.html#indexing-view-versus-copy\n",
      "  import sys\n"
     ]
    },
    {
     "name": "stdout",
     "output_type": "stream",
     "text": [
      "(149, 21)\n"
     ]
    },
    {
     "name": "stderr",
     "output_type": "stream",
     "text": [
      "/home/ubuntu/anaconda/lib/python3.6/site-packages/ipykernel_launcher.py:9: SettingWithCopyWarning: \n",
      "A value is trying to be set on a copy of a slice from a DataFrame.\n",
      "Try using .loc[row_indexer,col_indexer] = value instead\n",
      "\n",
      "See the caveats in the documentation: http://pandas.pydata.org/pandas-docs/stable/indexing.html#indexing-view-versus-copy\n",
      "  if __name__ == '__main__':\n",
      "/home/ubuntu/anaconda/lib/python3.6/site-packages/ipykernel_launcher.py:10: SettingWithCopyWarning: \n",
      "A value is trying to be set on a copy of a slice from a DataFrame.\n",
      "Try using .loc[row_indexer,col_indexer] = value instead\n",
      "\n",
      "See the caveats in the documentation: http://pandas.pydata.org/pandas-docs/stable/indexing.html#indexing-view-versus-copy\n",
      "  # Remove the CWD from sys.path while we load stuff.\n"
     ]
    },
    {
     "data": {
      "text/plain": [
       "barcode\n",
       "AAAGTAGAGATGCCAG-1    cell_ontology_class:bladder_cell|tissue:Bladde...\n",
       "AACCGCGTCCAACCAA-1    cell_ontology_class:bladder_cell|tissue:Bladde...\n",
       "AACTCCCGTCGGGTCT-1    cell_ontology_class:bladder_cell|tissue:Bladde...\n",
       "AACTCTTAGTTGCAGG-1    cell_ontology_class:bladder_urothelial_cell|ti...\n",
       "AACTCTTTCATAACCG-1    cell_ontology_class:bladder_cell|tissue:Bladde...\n",
       "Name: name, dtype: object"
      ]
     },
     "execution_count": 10,
     "metadata": {},
     "output_type": "execute_result"
    }
   ],
   "source": [
    "import pandas as pd\n",
    "\n",
    "annotations = pd.read_csv('~/tabula-muris/00_data_ingest/18_global_annotation_csv/annotations_droplet.csv')\n",
    "annotations.columns = annotations.columns.map(lambda x: x.replace('.', '_'))\n",
    "\n",
    "annotations_subset = annotations.loc[annotations.cell.str.startswith(tenx_channel)]\n",
    "annotations_subset['barcode'] = annotations_subset.cell.str.split('_').str[-1] + '-1'\n",
    "annotations_subset['name'] = annotations_subset.apply(\n",
    "    lambda x: 'cell_ontology_class:{cell_ontology_class}|tissue:{tissue}|free_annotation:{free_annotation}|mouse_id:{mouse_id}|{cell}'.format(**x), axis=1)\n",
    "annotations_subset['name'] = annotations_subset['name'].str.replace(\" \", \"_\")\n",
    "annotations_subset = annotations_subset.set_index('barcode')\n",
    "print(annotations_subset.shape)\n",
    "names = annotations_subset.name\n",
    "names.head()\n",
    "# annotations_subset.head()"
   ]
  },
  {
   "cell_type": "code",
   "execution_count": 11,
   "metadata": {},
   "outputs": [],
   "source": [
    "def maybe_get_name(barcode):\n",
    "    try:\n",
    "        return names[barcode]\n",
    "    except KeyError:\n",
    "        return barcode"
   ]
  },
  {
   "cell_type": "code",
   "execution_count": 17,
   "metadata": {},
   "outputs": [],
   "source": [
    "\n",
    "import pysam\n",
    "from tqdm import tqdm\n",
    "import itertools\n",
    "\n",
    "\n",
    "# bam_filename = '/mnt/data/10X_P7_8/lung_ptprc.bam'\n",
    "\n",
    "def make_10x_signatures(bam_filename):\n",
    "    output = bam_filename.replace('.bam', f'_num_hashes={num_hashes}.sig')\n",
    "\n",
    "    bam_file = pysam.AlignmentFile(bam_filename, mode='rb')\n",
    "    cell_seqs = {barcode: make_minhashes() for barcode in barcodes}\n",
    "\n",
    "    for a in tqdm(bam_file):\n",
    "        if (a.mapq == 255                                    # high quality mapping\n",
    "            and a.has_tag('CB') and a.get_tag('CB') in barcodes  # in our set of barcodes,\n",
    "    #         and a.has_tag('GN') and a.get_tag['GN'] in genes   # that maps to a single gene,\n",
    "    #         and a.has_tag('RE') and a.get_tag('RE') == 'E'   # specifically to an exon,\n",
    "            and a.has_tag('UB')):                            # and has a good UMI\n",
    "\n",
    "            barcode = a.get_tag('CB')\n",
    "    #         print(a)\n",
    "            # if this isn't marked a duplicate, count it as a UMI\n",
    "            if not a.is_duplicate:\n",
    "    #             print(f\"Adding {a.seq} to {barcode}\")\n",
    "                add_seq(cell_seqs[barcode], a.seq,\n",
    "                                input_is_protein, check_sequence)\n",
    "    cell_signatures = [build_siglist(seqs, filename=bam_filename, name=maybe_get_name(barcode)) \n",
    "                       for barcode, seqs in cell_seqs.items()]\n",
    "    signatures_flat = list(itertools.chain(*cell_signatures))\n",
    "    save_siglist(signatures_flat, output_fp=False, filename=output)\n",
    "\n",
    "# %lprun -f make_10x_signatures make_10x_signatures(bam_filename)"
   ]
  },
  {
   "cell_type": "code",
   "execution_count": 18,
   "metadata": {},
   "outputs": [],
   "source": [
    "import sourmash"
   ]
  },
  {
   "cell_type": "code",
   "execution_count": 19,
   "metadata": {},
   "outputs": [
    {
     "data": {
      "text/plain": [
       "'/home/ubuntu/anaconda/lib/python3.6/site-packages/sourmash/__init__.py'"
      ]
     },
     "execution_count": 19,
     "metadata": {},
     "output_type": "execute_result"
    }
   ],
   "source": [
    "sourmash.__file__"
   ]
  },
  {
   "cell_type": "code",
   "execution_count": null,
   "metadata": {},
   "outputs": [
    {
     "name": "stderr",
     "output_type": "stream",
     "text": [
      "35507512it [54:56, 10770.36it/s]"
     ]
    }
   ],
   "source": [
    "make_10x_signatures(f'/mnt/data/{tenx_channel}/possorted_genome_bam.bam')"
   ]
  },
  {
   "cell_type": "code",
   "execution_count": null,
   "metadata": {},
   "outputs": [],
   "source": [
    "%debug"
   ]
  },
  {
   "cell_type": "code",
   "execution_count": null,
   "metadata": {},
   "outputs": [],
   "source": [
    "ls -lha /mnt/data/$tenx_channel/"
   ]
  },
  {
   "cell_type": "code",
   "execution_count": null,
   "metadata": {},
   "outputs": [],
   "source": [
    "ls -lha /mnt/data/sourmash_databases/"
   ]
  },
  {
   "cell_type": "code",
   "execution_count": null,
   "metadata": {},
   "outputs": [],
   "source": [
    "! sourmash categorize -h"
   ]
  },
  {
   "cell_type": "code",
   "execution_count": null,
   "metadata": {},
   "outputs": [],
   "source": [
    "%%bash\n",
    "\n",
    "sourmash search /mnt/data/maca-facs-sourmash_compute_all/A1-B000610-3_56_F-1-1.sig \\\n",
    "    /mnt/data/sourmash_databases/tabula-muris-dna-k21.sbt.json"
   ]
  },
  {
   "cell_type": "code",
   "execution_count": null,
   "metadata": {},
   "outputs": [],
   "source": [
    "%%bash\n",
    "sourmash categorize --ksize 21 --dna \\\n",
    "    /mnt/data/sourmash_databases/tabula-muris-dna-k21.sbt.json \\\n",
    "    /mnt/data/10X_P7_8/possorted_genome_bam.sig | head"
   ]
  },
  {
   "cell_type": "markdown",
   "metadata": {},
   "source": [
    "```\n",
    " Wed 12 Sep - 20:57  ~/kmer-hashing   origin ☊ olgabot/index-tabula-muris 4● \n",
    "  sourmash categorize --ksize 21 --dna \\\n",
    "    /mnt/data/sourmash_databases/tabula-muris-dna-k21.sbt.json \\\n",
    "    /mnt/data/10X_P7_8/possorted_genome_bam.sig | head\n",
    "found 1 files to query\n",
    "\n",
    "...sig loading 620\n",
    "loaded query: alveolar macrophage|Lung|3-F-5... (k=21, DNA)\n",
    "for alveolar macrophage|Lung|3-F-56|10X_P7_8_ACGGCCACAATGGTCT, found: 0.24 cell_ontology_class:epithelial_cell_of_lung|tissue:Lung|subtissue:nan|free_annotation:alveolar_epithelial_type_1_cells,_alveolar_epithelial_type_2_cells,_club_cells,_and_basal_cells|cell_id:K3-MAA000526-3_9_M-1-1\n",
    "loaded query: classical monocyte|Lung|3-F-56... (k=21, DNA)\n",
    "for classical monocyte|Lung|3-F-56|10X_P7_8_ACGAGGACAAGCCCAC, found: 0.40 cell_ontology_class:epithelial_cell_of_lung|tissue:Lung|subtissue:nan|free_annotation:alveolar_epithelial_type_1_cells,_alveolar_epithelial_type_2_cells,_club_cells,_and_basal_cells|cell_id:G4-MAA000526-3_9_M-1-1\n",
    "loaded query: lung endothelial cell|Lung|3-F... (k=21, DNA)\n",
    "for lung endothelial cell|Lung|3-F-56|10X_P7_8_AACACGTGTGGCTCCA, found: 0.35 cell_ontology_class:skeletal_muscle_satellite_stem_cell|tissue:Diaphragm|subtissue:nan|free_annotation:nan|cell_id:H3-MAA001454-3_38_F-1-1\n",
    "loaded query: lung endothelial cell|Lung|3-F... (k=21, DNA)\n",
    "for lung endothelial cell|Lung|3-F-56|10X_P7_8_CATCGGGCAGATGAGC, found: 0.36 cell_ontology_class:endothelial_cell|tissue:Heart|subtissue:Unknown|free_annotation:nan|cell_id:A2-MAA100037-3_10_M-1-1\n",
    "loaded query: non-classical monocyte|Lung|3-... (k=21, DNA)\n",
    "for non-classical monocyte|Lung|3-F-56|10X_P7_8_CTTAACTTCTCAAGTG, found: 0.45 cell_ontology_class:monocyte|tissue:Lung|subtissue:Endomucin|free_annotation:circulating_monocytes|cell_id:A22-MAA001892-3_38_F-1-1\n",
    "loaded query: stromal cell|Lung|3-F-56|10X_P... (k=21, DNA)\n",
    "for stromal cell|Lung|3-F-56|10X_P7_8_GTCAAGTAGCTAAACA, found: 0.38 cell_ontology_class:immature_B_cell|tissue:Marrow|subtissue:B-cells|free_annotation:nan|cell_id:E6-MAA001884-3_38_F-1-1\n",
    "loaded query: stromal cell|Lung|3-F-56|10X_P... (k=21, DNA)\n",
    "for stromal cell|Lung|3-F-56|10X_P7_8_GTCAAGTAGTTTCCTT, found: 0.27 cell_ontology_class:nan|tissue:Fat|subtissue:SCAT|free_annotation:nan|cell_id:N22-B000127-3_38_F-1-1\n",
    "loaded query: alveolar macrophage|Lung|3-F-5... (k=21, DNA)\n",
    "for alveolar macrophage|Lung|3-F-56|10X_P7_8_CCGTACTGTCAGATAA, found: 0.37 cell_ontology_class:monocyte|tissue:Lung|subtissue:Endomucin|free_annotation:circulating_monocytes|cell_id:A22-MAA001892-3_38_F-1-1\n",
    "loaded query: lung endothelial cell|Lung|3-F... (k=21, DNA)\n",
    "for lung endothelial cell|Lung|3-F-56|10X_P7_8_CTCAGAAAGTTTCCTT, found: 0.37 cell_ontology_class:skeletal_muscle_satellite_stem_cell|tissue:Diaphragm|subtissue:nan|free_annotation:nan|cell_id:H3-MAA001454-3_38_F-1-1\n",
    "loaded query: non-classical monocyte|Lung|3-... (k=21, DNA)\n",
    "for non-classical monocyte|Lung|3-F-56|10X_P7_8_GTCGGGTCACACATGT, found: 0.36 cell_ontology_class:epithelial_cell_of_lung|tissue:Lung|subtissue:nan|free_annotation:alveolar_epithelial_type_1_cells,_alveolar_epithelial_type_2_cells,_club_cells,_and_basal_cells|cell_id:G4-MAA000526-3_9_M-1-1\n",
    "loaded query: lung endothelial cell|Lung|3-F... (k=21, DNA)\n",
    "for lung endothelial cell|Lung|3-F-56|10X_P7_8_CCACGGATCAGCTCGG, found: 0.45 cell_ontology_class:bladder_cell|tissue:Bladder|subtissue:nan|free_annotation:Bladder_mesenchymal_cell|cell_id:A3-D041914-3_8_M-1-1\n",
    "loaded query: non-classical monocyte|Lung|3-... (k=21, DNA)\n",
    "for non-classical monocyte|Lung|3-F-56|10X_P7_8_GTAACGTAGATAGGAG, found: 0.56 cell_ontology_class:monocyte|tissue:Lung|subtissue:Endomucin|free_annotation:circulating_monocytes|cell_id:A22-MAA001892-3_38_F-1-1\n",
    "loaded query: alveolar macrophage|Lung|3-F-5... (k=21, DNA)\n",
    "for alveolar macrophage|Lung|3-F-56|10X_P7_8_GTTTCTAAGTGCAAGC, found: 0.18 cell_ontology_class:epithelial_cell_of_lung|tissue:Lung|subtissue:nan|free_annotation:alveolar_epithelial_type_1_cells,_alveolar_epithelial_type_2_cells,_club_cells,_and_basal_cells|cell_id:G4-MAA000526-3_9_M-1-1\n",
    "loaded query: B cell|Lung|3-F-56|10X_P7_8_CT... (k=21, DNA)\n",
    "for B cell|Lung|3-F-56|10X_P7_8_CTGATCCGTTGCGCAC, found: 0.23 cell_ontology_class:immature_B_cell|tissue:Marrow|subtissue:B-cells|free_annotation:nan|cell_id:G8-MAA000652-3_10_M-1-1\n",
    "loaded query: alveolar macrophage|Lung|3-F-5... (k=21, DNA)\n",
    "for alveolar macrophage|Lung|3-F-56|10X_P7_8_AACTCTTGTTCCAACA, found: 0.50 cell_ontology_class:monocyte|tissue:Lung|subtissue:Endomucin|free_annotation:circulating_monocytes|cell_id:A22-MAA001892-3_38_F-1-1\n",
    "loaded query: myeloid cell|Lung|3-F-56|10X_P... (k=21, DNA)\n",
    "for myeloid cell|Lung|3-F-56|10X_P7_8_GCTGCTTTCATGCTCC, found: 0.22 cell_ontology_class:monocyte|tissue:Lung|subtissue:Endomucin|free_annotation:circulating_monocytes|cell_id:A22-MAA001892-3_38_F-1-1\n",
    "loaded query: stromal cell|Lung|3-F-56|10X_P... (k=21, DNA)\n",
    "for stromal cell|Lung|3-F-56|10X_P7_8_AACCATGCACGTCAGC, found: 0.42 cell_ontology_class:endothelial_cell|tissue:Fat|subtissue:BAT|free_annotation:nan|cell_id:F21-B001216-3_38_F-1-1\n",
    "loaded query: T cell|Lung|3-F-56|10X_P7_8_CC... (k=21, DNA)\n",
    "for T cell|Lung|3-F-56|10X_P7_8_CCATGTCCACGGTTTA, found: 0.25 cell_ontology_class:T_cell|tissue:Lung|subtissue:EPCAM|free_annotation:nan|cell_id:H1-MAA001889-3_38_F-1-1\n",
    "loaded query: alveolar macrophage|Lung|3-F-5... (k=21, DNA)\n",
    "for alveolar macrophage|Lung|3-F-56|10X_P7_8_CGTTGGGCACCGAAAG, found: 0.28 cell_ontology_class:epithelial_cell_of_lung|tissue:Lung|subtissue:nan|free_annotation:alveolar_epithelial_type_1_cells,_alveolar_epithelial_type_2_cells,_club_cells,_and_basal_cells|cell_id:K3-MAA000526-3_9_M-1-1\n",
    "loaded query: T cell|Lung|3-F-56|10X_P7_8_CC... (k=21, DNA)\n",
    "for T cell|Lung|3-F-56|10X_P7_8_CCGTTCACATAGTAAG, found: 0.25 cell_ontology_class:epithelial_cell_of_large_intestine|tissue:Large_Intestine|subtissue:Distal|free_annotation:Lgr5+_undifferentiated_cell_(Distal)|cell_id:M2-MAA001873-3_38_F-1-1\n",
    "loaded query: lung endothelial cell|Lung|3-F... (k=21, DNA)\n",
    "\n",
    "```"
   ]
  },
  {
   "cell_type": "code",
   "execution_count": null,
   "metadata": {},
   "outputs": [],
   "source": [
    "mkdir /mnt/data/10X_P7_8/sourmash_search/"
   ]
  },
  {
   "cell_type": "markdown",
   "metadata": {},
   "source": [
    "\n",
    "### Can't run this because there's multiple signatures in the sig file\n",
    "\n",
    "```\n",
    "sourmash search --ksize 27 --dna --ignore-abundance \\\n",
    "    --output /mnt/data/10X_P7_8/sourmash_search/tabula-muris-dna-k27.csv \\\n",
    "    /mnt/data/10X_P7_8/possorted_genome_bam.sig \\\n",
    "    /mnt/data/maca-facs-sourmash_index_all/tabula-muris-k27-dna/tabula-muris-k27-dna/tabula-muris-k27-dna.sbt.json \n",
    "```"
   ]
  },
  {
   "cell_type": "code",
   "execution_count": null,
   "metadata": {},
   "outputs": [],
   "source": [
    "mkdir /mnt/data/10X_P7_8/sourmash_categorize"
   ]
  },
  {
   "cell_type": "markdown",
   "metadata": {},
   "source": [
    "```\n",
    "sourmash categorize --ksize 27 --dna \\\n",
    "    --csv /mnt/data/10X_P7_8/sourmash_categorize/tabula-muris-dna-k27_ignore-abundance=True.csv \\\n",
    "    --ignore-abundance \\\n",
    "    /mnt/data/maca-facs-sourmash_index_all/tabula-muris-k27-dna/tabula-muris-k27-dna/tabula-muris-k27-dna.sbt.json  \\\n",
    "    /mnt/data/10X_P7_8/possorted_genome_bam.sig\n",
    "```"
   ]
  },
  {
   "cell_type": "code",
   "execution_count": null,
   "metadata": {},
   "outputs": [],
   "source": [
    "ll  /mnt/data/10X_P7_8/sourmash_categorize"
   ]
  },
  {
   "cell_type": "code",
   "execution_count": null,
   "metadata": {},
   "outputs": [],
   "source": []
  }
 ],
 "metadata": {
  "kernelspec": {
   "display_name": "Python 3",
   "language": "python",
   "name": "python3"
  },
  "language_info": {
   "codemirror_mode": {
    "name": "ipython",
    "version": 3
   },
   "file_extension": ".py",
   "mimetype": "text/x-python",
   "name": "python",
   "nbconvert_exporter": "python",
   "pygments_lexer": "ipython3",
   "version": "3.6.5"
  }
 },
 "nbformat": 4,
 "nbformat_minor": 2
}
