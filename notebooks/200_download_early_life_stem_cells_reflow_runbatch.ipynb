{
 "cells": [
  {
   "cell_type": "markdown",
   "metadata": {},
   "source": [
    "# Download ancient stem cells\n",
    "\n",
    "Download fastq files from https://www.ncbi.nlm.nih.gov/bioproject/PRJNA244851\n",
    "\n",
    "\n",
    "\n",
    "Proc Natl Acad Sci U S A. 2015 Dec 22;112(51):E7093-100. doi: 10.1073/pnas.1514789112. Epub 2015 Dec 7.\n",
    "## The ancestral gene repertoire of animal stem cells.\n",
    "Alié A1, Hayashi T2, Sugimura I3, Manuel M4, Sugano W5, Mano A5, Satoh N6, Agata K5, Funayama N1.\n",
    "### Abstract\n",
    "Stem cells are pivotal for development and tissue homeostasis of multicellular animals, and the quest for a gene toolkit associated with the emergence of stem cells in a common ancestor of all metazoans remains a major challenge for evolutionary biology. We reconstructed the conserved gene repertoire of animal stem cells by transcriptomic profiling of totipotent archeocytes in the demosponge Ephydatia fluviatilis and by tracing shared molecular signatures with flatworm and Hydra stem cells. Phylostratigraphy analyses indicated that most of these stem-cell genes predate animal origin, with only few metazoan innovations, notably including several partners of the Piwi machinery known to promote genome stability. The ancestral stem-cell transcriptome is strikingly poor in transcription factors. Instead, it is rich in RNA regulatory actors, including components of the \"germ-line multipotency program\" and many RNA-binding proteins known as critical regulators of mammalian embryonic stem cells.\n",
    "\n",
    "KEYWORDS:\n",
    "Porifera; RNA binding; evolution; stem cells; uPriSCs"
   ]
  },
  {
   "cell_type": "markdown",
   "metadata": {},
   "source": [
    "## How to use `download_sra.rf`\n",
    "\n",
    "```\n",
    " Tue  5 Feb - 08:31  ~/code/reflow-workflows/workflows   origin ☊ master ✔ 1☀ \n",
    "  reflow run download_sra.rf\n",
    "flag errors:\n",
    "        missing mandatory flag -output\n",
    "        missing mandatory flag -sra_id\n",
    "usage of download_sra.rf:\n",
    "  -fastq_dump_disk uint\n",
    "        GiB of storage for converting to fastq.gz files (per file)\n",
    "         (default 50)\n",
    "  -fastq_dump_threads uint\n",
    "        GiB of memory for samtools cat\n",
    "         (default 8)\n",
    "  -output string\n",
    "        S3 folder location to put the downloaded files (required)\n",
    "  -sra_disk uint\n",
    "        GiB of storage for downloading SRA files (per file)\n",
    "         (default 50)\n",
    "  -sra_id string\n",
    "        Can be any of SRR, ERR, or SRX ids. Pipe-separate for multiple, e.g. 'SRR1539523|SRR1539569|SRR1539570' (required)\n",
    "```"
   ]
  },
  {
   "cell_type": "code",
   "execution_count": 6,
   "metadata": {},
   "outputs": [
    {
     "data": {
      "text/html": [
       "<div>\n",
       "<style scoped>\n",
       "    .dataframe tbody tr th:only-of-type {\n",
       "        vertical-align: middle;\n",
       "    }\n",
       "\n",
       "    .dataframe tbody tr th {\n",
       "        vertical-align: top;\n",
       "    }\n",
       "\n",
       "    .dataframe thead th {\n",
       "        text-align: right;\n",
       "    }\n",
       "</style>\n",
       "<table border=\"1\" class=\"dataframe\">\n",
       "  <thead>\n",
       "    <tr style=\"text-align: right;\">\n",
       "      <th></th>\n",
       "      <th>sra_id</th>\n",
       "      <th>output</th>\n",
       "    </tr>\n",
       "    <tr>\n",
       "      <th>id</th>\n",
       "      <th></th>\n",
       "      <th></th>\n",
       "    </tr>\n",
       "  </thead>\n",
       "  <tbody>\n",
       "    <tr>\n",
       "      <th>PRJNA244851</th>\n",
       "      <td>PRJNA244851</td>\n",
       "      <td>s3://olgabot-maca/ancient_stem_cells/fastqs/</td>\n",
       "    </tr>\n",
       "  </tbody>\n",
       "</table>\n",
       "</div>"
      ],
      "text/plain": [
       "                  sra_id                                        output\n",
       "id                                                                    \n",
       "PRJNA244851  PRJNA244851  s3://olgabot-maca/ancient_stem_cells/fastqs/"
      ]
     },
     "execution_count": 6,
     "metadata": {},
     "output_type": "execute_result"
    }
   ],
   "source": [
    "import pandas as pd\n",
    "\n",
    "\n",
    "data = {'sra_id': ['PRJNA244851'], 'output': ['s3://olgabot-maca/ancient_stem_cells/fastqs/']}\n",
    "samples = pd.DataFrame(data)\n",
    "samples['id'] = samples['sra_id']\n",
    "samples = samples.set_index('id')\n",
    "samples"
   ]
  },
  {
   "cell_type": "code",
   "execution_count": 7,
   "metadata": {},
   "outputs": [
    {
     "name": "stdout",
     "output_type": "stream",
     "text": [
      "==> ../ancient_stem_cells//samples.csv <==\r\n",
      "id,sra_id,output\r\n",
      "PRJNA244851,PRJNA244851,s3://olgabot-maca/ancient_stem_cells/fastqs/\r\n",
      "\r\n",
      "==> ../ancient_stem_cells//config.json <==\r\n",
      "{\"program\": \"../../reflow-workflows/workflows/download_sra.rf\", \"runs_file\": \"samples.csv\"}"
     ]
    }
   ],
   "source": [
    "import json\n",
    "\n",
    "folder = '../ancient_stem_cells/'\n",
    "\n",
    "! mkdir -p $folder\n",
    "samples.to_csv(f'{folder}/samples.csv')\n",
    "\n",
    "config = \t{\n",
    "\t\t\"program\": \"../../reflow-workflows/workflows/download_sra.rf\",\n",
    "\t\t\"runs_file\": \"samples.csv\"\n",
    "\t}\n",
    "\n",
    "with open(f'{folder}/config.json', 'w') as f:\n",
    "    json.dump(config, f)\n",
    "    \n",
    "! head -n 2 $folder/samples.csv $folder/config.json"
   ]
  },
  {
   "cell_type": "code",
   "execution_count": null,
   "metadata": {},
   "outputs": [],
   "source": []
  }
 ],
 "metadata": {
  "kernelspec": {
   "display_name": "Python [conda env:kmer-hashing]",
   "language": "python",
   "name": "conda-env-kmer-hashing-py"
  },
  "language_info": {
   "codemirror_mode": {
    "name": "ipython",
    "version": 3
   },
   "file_extension": ".py",
   "mimetype": "text/x-python",
   "name": "python",
   "nbconvert_exporter": "python",
   "pygments_lexer": "ipython3",
   "version": "3.6.6"
  }
 },
 "nbformat": 4,
 "nbformat_minor": 2
}
