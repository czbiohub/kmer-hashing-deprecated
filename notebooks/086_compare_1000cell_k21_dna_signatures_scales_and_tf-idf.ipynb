{
 "cells": [
  {
   "cell_type": "code",
   "execution_count": 2,
   "metadata": {},
   "outputs": [],
   "source": [
    "import pickle"
   ]
  },
  {
   "cell_type": "code",
   "execution_count": 10,
   "metadata": {},
   "outputs": [],
   "source": [
    "import jaccard_utils\n",
    "from joblib import Parallel, delayed\n",
    "import itertools\n"
   ]
  },
  {
   "cell_type": "code",
   "execution_count": 7,
   "metadata": {},
   "outputs": [],
   "source": [
    "ksize = 27\n",
    "moltype = 'dna'"
   ]
  },
  {
   "cell_type": "code",
   "execution_count": 4,
   "metadata": {},
   "outputs": [
    {
     "data": {
      "text/plain": [
       "'../figures/086_compare_1000cell_k21_dna_signatures_scales_and_tf-idf'"
      ]
     },
     "execution_count": 4,
     "metadata": {},
     "output_type": "execute_result"
    }
   ],
   "source": [
    "import common\n",
    "\n",
    "figure_folder = common.get_figure_folder()\n",
    "! mkdir -p $figure_folder\n",
    "figure_folder"
   ]
  },
  {
   "cell_type": "code",
   "execution_count": 3,
   "metadata": {},
   "outputs": [
    {
     "name": "stdout",
     "output_type": "stream",
     "text": [
      "CPU times: user 1min 30s, sys: 10.3 s, total: 1min 41s\n",
      "Wall time: 2min 41s\n"
     ]
    }
   ],
   "source": [
    "%%time\n",
    "\n",
    "pickle_filename = '/home/olga/scratch/maca/facs/sourmash_dna-only_trim=false_scaled=100/siglist.pickle'\n",
    "\n",
    "with open(pickle_filename, 'rb') as f:\n",
    "    siglist = pickle.load(f)"
   ]
  },
  {
   "cell_type": "code",
   "execution_count": null,
   "metadata": {},
   "outputs": [],
   "source": [
    "ls -lha $pickle_filename"
   ]
  },
  {
   "cell_type": "code",
   "execution_count": 6,
   "metadata": {},
   "outputs": [
    {
     "data": {
      "text/plain": [
       "996"
      ]
     },
     "execution_count": 6,
     "metadata": {},
     "output_type": "execute_result"
    }
   ],
   "source": [
    "len(siglist)"
   ]
  },
  {
   "cell_type": "code",
   "execution_count": 5,
   "metadata": {},
   "outputs": [
    {
     "data": {
      "text/plain": [
       "[SourmashSignature('A1-D041914-3_8_M-1-1|tissue:Bladder|subtissue:NA|cell_ontology_class:bladder_cell|free_annotation:Bladder_mesenchymal_cell', 41af7a8b),\n",
       " SourmashSignature('A1-B002427-3_39_F-1-1|tissue:Heart|subtissue:LA|cell_ontology_class:myofibroblast_cell|free_annotation:NA', 62d1d3fb),\n",
       " SourmashSignature('A1-MAA000549-3_8_M-1-1|tissue:Skin|subtissue:Anagen|cell_ontology_class:epidermal_cell|free_annotation:Intermediate_IFE', 997f98a1),\n",
       " SourmashSignature('A1-MAA000496-3_10_M-1-1|tissue:Trachea|subtissue:NA|cell_ontology_class:mesenchymal_cell|free_annotation:NA', 8aacf25e),\n",
       " SourmashSignature('A10-B003281-3_39_F-1-1|tissue:Brain_Myeloid|subtissue:Hippocampus|cell_ontology_class:microglial_cell|free_annotation:NA', c26e78da),\n",
       " SourmashSignature('A1-MAA001869-3_38_F-1-1|tissue:Large_Intestine|subtissue:Proximal|cell_ontology_class:epithelial_cell_of_large_intestine|free_annotation:Lgr5-_amplifying_undifferentiated_cell', 39486507),\n",
       " SourmashSignature('A11-MAA000611-3_8_M-1-1|tissue:Large_Intestine|subtissue:Proximal|cell_ontology_class:epithelial_cell_of_large_intestine|free_annotation:Lgr5-_undifferentiated_cell', 2203897c),\n",
       " SourmashSignature('A12-B003290-3_38_F-1-1|tissue:Brain_Non-Myeloid|subtissue:Striatum|cell_ontology_class:endothelial_cell|free_annotation:NA', 7689cbcc),\n",
       " SourmashSignature('A12-B001689-3_38_F-1-1|tissue:Brain_Myeloid|subtissue:Hippocampus|cell_ontology_class:microglial_cell|free_annotation:NA', 62f2ee99),\n",
       " SourmashSignature('A10-MAA000496-3_10_M-1-1|tissue:Trachea|subtissue:NA|cell_ontology_class:mesenchymal_cell|free_annotation:NA', 8a746f0d)]"
      ]
     },
     "execution_count": 5,
     "metadata": {},
     "output_type": "execute_result"
    }
   ],
   "source": [
    "siglist[:10]"
   ]
  },
  {
   "cell_type": "code",
   "execution_count": null,
   "metadata": {},
   "outputs": [
    {
     "name": "stderr",
     "output_type": "stream",
     "text": [
      "/home/olga/miniconda3/envs/kmer-hashing/lib/python3.6/site-packages/joblib/externals/loky/process_executor.py:700: UserWarning: A worker stopped while some jobs were given to the executor. This can be caused by a too short worker timeout or by a memory leak.\n",
      "  \"timeout or by a memory leak.\", UserWarning\n"
     ]
    }
   ],
   "source": [
    "%%time\n",
    "\n",
    "nrow = len(siglist)\n",
    "\n",
    "n_jobs = 64\n",
    "\n",
    "values = Parallel(n_jobs=n_jobs)(delayed(jaccard_utils.jaccard_sigs)(i, j, siglist) \n",
    "                                 for i, j in itertools.product(range(len(siglist)), range(len(siglist))))"
   ]
  },
  {
   "cell_type": "code",
   "execution_count": null,
   "metadata": {},
   "outputs": [],
   "source": [
    "values"
   ]
  },
  {
   "cell_type": "code",
   "execution_count": null,
   "metadata": {},
   "outputs": [],
   "source": [
    "range(2)"
   ]
  },
  {
   "cell_type": "code",
   "execution_count": null,
   "metadata": {},
   "outputs": [],
   "source": []
  }
 ],
 "metadata": {
  "kernelspec": {
   "display_name": "Python [conda env:kmer-hashing]",
   "language": "python",
   "name": "conda-env-kmer-hashing-py"
  }
 },
 "nbformat": 4,
 "nbformat_minor": 2
}
