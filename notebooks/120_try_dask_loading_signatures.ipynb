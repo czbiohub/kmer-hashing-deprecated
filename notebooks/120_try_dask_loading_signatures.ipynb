{
 "cells": [
  {
   "cell_type": "code",
   "execution_count": 22,
   "metadata": {},
   "outputs": [
    {
     "data": {
      "text/plain": [
       "dask.bag<bag-fro..., npartitions=5>"
      ]
     },
     "execution_count": 22,
     "metadata": {},
     "output_type": "execute_result"
    }
   ],
   "source": [
    "import dask.bag as db\n",
    "from itertools import chain\n",
    "import glob\n",
    "from tqdm import tqdm\n",
    "\n",
    "folder = '/data_lg/olga/maca/facs/sourmash_compute_tissue_subset/'\n",
    "\n",
    "globber = f\"{folder}/A1-*.sig\"\n",
    "\n",
    "b = db.read_text(globber)\n",
    "b"
   ]
  },
  {
   "cell_type": "code",
   "execution_count": 4,
   "metadata": {},
   "outputs": [
    {
     "name": "stdout",
     "output_type": "stream",
     "text": [
      "/data_lg/olga/maca/facs/sourmash_compute_tissue_subset//A1-B002764-3_38_F-1-1.sig\r\n",
      "/data_lg/olga/maca/facs/sourmash_compute_tissue_subset//A1-D042253-3_9_M-1-1.sig\r\n",
      "/data_lg/olga/maca/facs/sourmash_compute_tissue_subset//A1-MAA000487-3_10_M-1-1.sig\r\n",
      "/data_lg/olga/maca/facs/sourmash_compute_tissue_subset//A1-MAA000779-3_11_M-1-1.sig\r\n",
      "/data_lg/olga/maca/facs/sourmash_compute_tissue_subset//A1-MAA100039-3_11_M-1-1.sig\r\n"
     ]
    }
   ],
   "source": [
    "ls $folder/A1-*.sig"
   ]
  },
  {
   "cell_type": "code",
   "execution_count": 49,
   "metadata": {},
   "outputs": [
    {
     "name": "stdout",
     "output_type": "stream",
     "text": [
      "CPU times: user 6.18 ms, sys: 13 µs, total: 6.2 ms\n",
      "Wall time: 4.92 ms\n",
      "CPU times: user 8min 3s, sys: 6.3 s, total: 8min 9s\n",
      "Wall time: 11min 18s\n",
      "CPU times: user 8min 3s, sys: 6.3 s, total: 8min 9s\n",
      "Wall time: 11min 18s\n"
     ]
    }
   ],
   "source": [
    "%%time\n",
    "\n",
    "import json\n",
    "\n",
    "%time b_json_loads = db.read_text(globber).map(json.loads)\n",
    "b_json_loads\n",
    "\n",
    "%time b_json_loads_loaded = list(chain(*b_json_loads))\n",
    "single_sig_json = b_json_loads_loaded[0]\n",
    "single_sig_json"
   ]
  },
  {
   "cell_type": "code",
   "execution_count": 53,
   "metadata": {},
   "outputs": [
    {
     "data": {
      "text/plain": [
       "dict_keys(['class', 'email', 'filename', 'hash_function', 'license', 'name', 'signatures', 'version'])"
      ]
     },
     "execution_count": 53,
     "metadata": {},
     "output_type": "execute_result"
    }
   ],
   "source": [
    "\n",
    "with open('/data_lg/olga/maca/facs/sourmash_compute_tissue_subset//A1-B002764-3_38_F-1-1.sig') as f:\n",
    "    json_signatures = json.load(f)\n",
    "json_signatures[0].keys()"
   ]
  },
  {
   "cell_type": "code",
   "execution_count": 54,
   "metadata": {},
   "outputs": [
    {
     "data": {
      "text/plain": [
       "1"
      ]
     },
     "execution_count": 54,
     "metadata": {},
     "output_type": "execute_result"
    }
   ],
   "source": [
    "len(json_signatures)"
   ]
  },
  {
   "cell_type": "code",
   "execution_count": 61,
   "metadata": {
    "scrolled": false
   },
   "outputs": [
    {
     "name": "stdout",
     "output_type": "stream",
     "text": [
      "{'class': 'sourmash_signature',\n",
      " 'email': '',\n",
      " 'filename': '/arg/2/1',\n",
      " 'hash_function': '0.murmur64',\n",
      " 'license': 'CC0',\n",
      " 'name': 'A1-B002764-3_38_F-1-1|tissue:Bladder|subtissue:NA|cell_ontology_class:bladder_urothelial_cell|free_annotation:Luminal_bladder_epithelial_cell',\n",
      " 'signatures': [{'abundances': [1, 1, 1, 1, 1, 1, 1, 2, 1, 3, ...],\n",
      "   'ksize': 21,\n",
      "   'max_hash': 0,\n",
      "   'md5sum': '15e24523b2f4fc4b809202f4edc752e4',\n",
      "   'mins': [5374179861363,\n",
      "    7024158594514,\n",
      "    7773053314393,\n",
      "    9076196387442,\n",
      "    17019727878151,\n",
      "    21268452495739,\n",
      "    22092088695955,\n",
      "    26181274510539,\n",
      "    27371326608036,\n",
      "    29243034423266,\n",
      "    ...],\n",
      "   'molecule': 'protein',\n",
      "   'num': 1000000,\n",
      "   'seed': 42},\n",
      "  {'abundances': [1, 6, 1, 2, 1, 1, 1, 1, 1, 2, ...],\n",
      "   'ksize': 21,\n",
      "   'max_hash': 0,\n",
      "   'md5sum': '89bb22ab62c56c42abd4131e13d3231d',\n",
      "   'mins': [4319888920071,\n",
      "    11897683056067,\n",
      "    15688568034930,\n",
      "    18288931836992,\n",
      "    27514404317028,\n",
      "    28774406637780,\n",
      "    28801856705165,\n",
      "    29695955487065,\n",
      "    31178866345647,\n",
      "    31925058964274,\n",
      "    ...],\n",
      "   'molecule': 'DNA',\n",
      "   'num': 1000000,\n",
      "   'seed': 42},\n",
      "  {'abundances': [2, 1, 1, 13, 6, 1, 1, 1, 1, 1, ...],\n",
      "   'ksize': 27,\n",
      "   'max_hash': 0,\n",
      "   'md5sum': '7c03cbd2349231a79bb4b6a65a2ddf3a',\n",
      "   'mins': [283539583191,\n",
      "    6453369679683,\n",
      "    9176917744703,\n",
      "    9934807438048,\n",
      "    10515290837760,\n",
      "    11538752706443,\n",
      "    12117270628829,\n",
      "    13837679331886,\n",
      "    14394196034729,\n",
      "    19231512757070,\n",
      "    ...],\n",
      "   'molecule': 'protein',\n",
      "   'num': 1000000,\n",
      "   'seed': 42},\n",
      "  {'abundances': [1, 1, 1, 1, 1, 2, 1, 2, 1, 2, ...],\n",
      "   'ksize': 27,\n",
      "   'max_hash': 0,\n",
      "   'md5sum': '162db048499b8e22a5d5947cb81364a8',\n",
      "   'mins': [7335423218021,\n",
      "    17317925528210,\n",
      "    22649273984768,\n",
      "    26345541886272,\n",
      "    29851921816246,\n",
      "    34179679384265,\n",
      "    36717177111272,\n",
      "    37358654226446,\n",
      "    39502826968433,\n",
      "    53982144380237,\n",
      "    ...],\n",
      "   'molecule': 'DNA',\n",
      "   'num': 1000000,\n",
      "   'seed': 42},\n",
      "  {'abundances': [1, 1, 1, 1, 1, 1, 1, 2, 1, 1, ...],\n",
      "   'ksize': 33,\n",
      "   'max_hash': 0,\n",
      "   'md5sum': '73c77f176aee1dfdd132e22a76c87dd3',\n",
      "   'mins': [893903897311,\n",
      "    2753030707555,\n",
      "    4870094401911,\n",
      "    6677516392919,\n",
      "    7407648174410,\n",
      "    9352380200489,\n",
      "    10500293051119,\n",
      "    10570205530177,\n",
      "    11726226785930,\n",
      "    12689244699008,\n",
      "    ...],\n",
      "   'molecule': 'protein',\n",
      "   'num': 1000000,\n",
      "   'seed': 42},\n",
      "  {'abundances': [1, 1, 531, 1, 1, 1, 1, 1, 1, 1, ...],\n",
      "   'ksize': 33,\n",
      "   'max_hash': 0,\n",
      "   'md5sum': 'd06ed3d55d4409e9e88429ad173ea71c',\n",
      "   'mins': [5749921033413,\n",
      "    8654744566365,\n",
      "    10791382742772,\n",
      "    14360874270321,\n",
      "    21658274964738,\n",
      "    23669019038450,\n",
      "    24569908543667,\n",
      "    26781179150585,\n",
      "    28345063118637,\n",
      "    32112864533873,\n",
      "    ...],\n",
      "   'molecule': 'DNA',\n",
      "   'num': 1000000,\n",
      "   'seed': 42},\n",
      "  {'abundances': [1, 2, 4, 1, 1, 2, 1, 3, 1, 6, ...],\n",
      "   'ksize': 51,\n",
      "   'max_hash': 0,\n",
      "   'md5sum': '4c78327dbe5648596bb81ec7d6603cf6',\n",
      "   'mins': [1487277247488,\n",
      "    2089814497887,\n",
      "    2387663965878,\n",
      "    2808460861509,\n",
      "    5883848220928,\n",
      "    6029817624698,\n",
      "    6599581084531,\n",
      "    8708017954304,\n",
      "    9590506819908,\n",
      "    10652814121476,\n",
      "    ...],\n",
      "   'molecule': 'protein',\n",
      "   'num': 1000000,\n",
      "   'seed': 42},\n",
      "  {'abundances': [1, 1, 1, 1, 1, 1, 1, 1, 1, 1, ...],\n",
      "   'ksize': 51,\n",
      "   'max_hash': 0,\n",
      "   'md5sum': '0d3562920538add0020dde932c03579f',\n",
      "   'mins': [648238822156,\n",
      "    3672617997020,\n",
      "    12425644583014,\n",
      "    14919838560983,\n",
      "    21651990062118,\n",
      "    23056120416131,\n",
      "    23471311422224,\n",
      "    25330285481957,\n",
      "    28253079649079,\n",
      "    29350978760656,\n",
      "    ...],\n",
      "   'molecule': 'DNA',\n",
      "   'num': 1000000,\n",
      "   'seed': 42}],\n",
      " 'version': 0.4}\n"
     ]
    }
   ],
   "source": [
    "from IPython.lib.pretty import pprint\n",
    "pprint(json_signatures[0], max_seq_length=10)"
   ]
  },
  {
   "cell_type": "code",
   "execution_count": null,
   "metadata": {},
   "outputs": [],
   "source": [
    "{\"namespace\": \"sourmash.signature\",\n",
    " \"type\": \"record\",\n",
    " \"name\": \"Sample\",\n",
    " \"fields\": [\n",
    "     {\"name\": \"name\", \"type\": \"string\"},\n",
    "     {\"name\": \"class\",  \"type\": \"string\"},\n",
    "     {\"name\": \"email\", \"type\": [\"string\", \"null\"]}\n",
    "     {\"name\": \"filename\",  \"type\": \"string\"},\n",
    "     {\"name\": \"hash_function\",  \"type\": \"string\"},\n",
    "     {\"name\": \"license\",  \"type\": \"string\"},\n",
    "     {\"name\": \"signatures\"}\n",
    " ] \n",
    "}"
   ]
  },
  {
   "cell_type": "code",
   "execution_count": null,
   "metadata": {},
   "outputs": [],
   "source": [
    "b.to_avro()"
   ]
  },
  {
   "cell_type": "code",
   "execution_count": 8,
   "metadata": {},
   "outputs": [],
   "source": [
    "from sourmash import signature as sig\n",
    "sig.load_signatures?"
   ]
  },
  {
   "cell_type": "code",
   "execution_count": 10,
   "metadata": {},
   "outputs": [
    {
     "data": {
      "text/plain": [
       "dask.bag<map-loa..., npartitions=5>"
      ]
     },
     "execution_count": 10,
     "metadata": {},
     "output_type": "execute_result"
    }
   ],
   "source": [
    "b = db.read_text(globber).map(sig.load_signatures)\n",
    "b"
   ]
  },
  {
   "cell_type": "code",
   "execution_count": 11,
   "metadata": {},
   "outputs": [],
   "source": [
    "b?"
   ]
  },
  {
   "cell_type": "code",
   "execution_count": 13,
   "metadata": {},
   "outputs": [
    {
     "data": {
      "text/plain": [
       "[[SourmashSignature('A1-B002764-3_38_F-1-1|tissue:Bladder|subtissue:NA|cell_ontology_class:bladder_urothelial_cell|free_annotation:Luminal_bladder_epithelial_cell', 15e24523),\n",
       "  SourmashSignature('A1-B002764-3_38_F-1-1|tissue:Bladder|subtissue:NA|cell_ontology_class:bladder_urothelial_cell|free_annotation:Luminal_bladder_epithelial_cell', 89bb22ab),\n",
       "  SourmashSignature('A1-B002764-3_38_F-1-1|tissue:Bladder|subtissue:NA|cell_ontology_class:bladder_urothelial_cell|free_annotation:Luminal_bladder_epithelial_cell', 7c03cbd2),\n",
       "  SourmashSignature('A1-B002764-3_38_F-1-1|tissue:Bladder|subtissue:NA|cell_ontology_class:bladder_urothelial_cell|free_annotation:Luminal_bladder_epithelial_cell', 162db048),\n",
       "  SourmashSignature('A1-B002764-3_38_F-1-1|tissue:Bladder|subtissue:NA|cell_ontology_class:bladder_urothelial_cell|free_annotation:Luminal_bladder_epithelial_cell', 73c77f17),\n",
       "  SourmashSignature('A1-B002764-3_38_F-1-1|tissue:Bladder|subtissue:NA|cell_ontology_class:bladder_urothelial_cell|free_annotation:Luminal_bladder_epithelial_cell', d06ed3d5),\n",
       "  SourmashSignature('A1-B002764-3_38_F-1-1|tissue:Bladder|subtissue:NA|cell_ontology_class:bladder_urothelial_cell|free_annotation:Luminal_bladder_epithelial_cell', 4c78327d),\n",
       "  SourmashSignature('A1-B002764-3_38_F-1-1|tissue:Bladder|subtissue:NA|cell_ontology_class:bladder_urothelial_cell|free_annotation:Luminal_bladder_epithelial_cell', 0d356292)],\n",
       " [SourmashSignature('A1-D042253-3_9_M-1-1|tissue:Bladder|subtissue:NA|cell_ontology_class:bladder_cell|free_annotation:Bladder_mesenchymal_cell', 8de11415),\n",
       "  SourmashSignature('A1-D042253-3_9_M-1-1|tissue:Bladder|subtissue:NA|cell_ontology_class:bladder_cell|free_annotation:Bladder_mesenchymal_cell', 7653b44d),\n",
       "  SourmashSignature('A1-D042253-3_9_M-1-1|tissue:Bladder|subtissue:NA|cell_ontology_class:bladder_cell|free_annotation:Bladder_mesenchymal_cell', 87c9d2ba),\n",
       "  SourmashSignature('A1-D042253-3_9_M-1-1|tissue:Bladder|subtissue:NA|cell_ontology_class:bladder_cell|free_annotation:Bladder_mesenchymal_cell', 2d0d0254),\n",
       "  SourmashSignature('A1-D042253-3_9_M-1-1|tissue:Bladder|subtissue:NA|cell_ontology_class:bladder_cell|free_annotation:Bladder_mesenchymal_cell', 3428b0a0),\n",
       "  SourmashSignature('A1-D042253-3_9_M-1-1|tissue:Bladder|subtissue:NA|cell_ontology_class:bladder_cell|free_annotation:Bladder_mesenchymal_cell', ffa30194),\n",
       "  SourmashSignature('A1-D042253-3_9_M-1-1|tissue:Bladder|subtissue:NA|cell_ontology_class:bladder_cell|free_annotation:Bladder_mesenchymal_cell', 656dab9d),\n",
       "  SourmashSignature('A1-D042253-3_9_M-1-1|tissue:Bladder|subtissue:NA|cell_ontology_class:bladder_cell|free_annotation:Bladder_mesenchymal_cell', b3958e76)],\n",
       " [SourmashSignature('A1-MAA000487-3_10_M-1-1|tissue:Bladder|subtissue:NA|cell_ontology_class:bladder_cell|free_annotation:Bladder_mesenchymal_cell', 482c5620),\n",
       "  SourmashSignature('A1-MAA000487-3_10_M-1-1|tissue:Bladder|subtissue:NA|cell_ontology_class:bladder_cell|free_annotation:Bladder_mesenchymal_cell', 0a9640fe),\n",
       "  SourmashSignature('A1-MAA000487-3_10_M-1-1|tissue:Bladder|subtissue:NA|cell_ontology_class:bladder_cell|free_annotation:Bladder_mesenchymal_cell', da2a5431),\n",
       "  SourmashSignature('A1-MAA000487-3_10_M-1-1|tissue:Bladder|subtissue:NA|cell_ontology_class:bladder_cell|free_annotation:Bladder_mesenchymal_cell', e8a91bb0),\n",
       "  SourmashSignature('A1-MAA000487-3_10_M-1-1|tissue:Bladder|subtissue:NA|cell_ontology_class:bladder_cell|free_annotation:Bladder_mesenchymal_cell', c64deeb4),\n",
       "  SourmashSignature('A1-MAA000487-3_10_M-1-1|tissue:Bladder|subtissue:NA|cell_ontology_class:bladder_cell|free_annotation:Bladder_mesenchymal_cell', edfa16af),\n",
       "  SourmashSignature('A1-MAA000487-3_10_M-1-1|tissue:Bladder|subtissue:NA|cell_ontology_class:bladder_cell|free_annotation:Bladder_mesenchymal_cell', 6d8c8e22),\n",
       "  SourmashSignature('A1-MAA000487-3_10_M-1-1|tissue:Bladder|subtissue:NA|cell_ontology_class:bladder_cell|free_annotation:Bladder_mesenchymal_cell', 6445e038)],\n",
       " [SourmashSignature('A1-MAA000779-3_11_M-1-1|tissue:Spleen|subtissue:NA|cell_ontology_class:B_cell|free_annotation:NA', fdbcc662),\n",
       "  SourmashSignature('A1-MAA000779-3_11_M-1-1|tissue:Spleen|subtissue:NA|cell_ontology_class:B_cell|free_annotation:NA', 4d37e41e),\n",
       "  SourmashSignature('A1-MAA000779-3_11_M-1-1|tissue:Spleen|subtissue:NA|cell_ontology_class:B_cell|free_annotation:NA', abd34f63),\n",
       "  SourmashSignature('A1-MAA000779-3_11_M-1-1|tissue:Spleen|subtissue:NA|cell_ontology_class:B_cell|free_annotation:NA', 469f3435),\n",
       "  SourmashSignature('A1-MAA000779-3_11_M-1-1|tissue:Spleen|subtissue:NA|cell_ontology_class:B_cell|free_annotation:NA', 0b1dd44c),\n",
       "  SourmashSignature('A1-MAA000779-3_11_M-1-1|tissue:Spleen|subtissue:NA|cell_ontology_class:B_cell|free_annotation:NA', 85dbbeac),\n",
       "  SourmashSignature('A1-MAA000779-3_11_M-1-1|tissue:Spleen|subtissue:NA|cell_ontology_class:B_cell|free_annotation:NA', cfa76b0f),\n",
       "  SourmashSignature('A1-MAA000779-3_11_M-1-1|tissue:Spleen|subtissue:NA|cell_ontology_class:B_cell|free_annotation:NA', 58f0fbdf)],\n",
       " [SourmashSignature('A1-MAA100039-3_11_M-1-1|tissue:Liver|subtissue:Hepatocytes|cell_ontology_class:hepatocyte|free_annotation:NA', e0a426ad),\n",
       "  SourmashSignature('A1-MAA100039-3_11_M-1-1|tissue:Liver|subtissue:Hepatocytes|cell_ontology_class:hepatocyte|free_annotation:NA', 4ad3c090),\n",
       "  SourmashSignature('A1-MAA100039-3_11_M-1-1|tissue:Liver|subtissue:Hepatocytes|cell_ontology_class:hepatocyte|free_annotation:NA', 951fc648),\n",
       "  SourmashSignature('A1-MAA100039-3_11_M-1-1|tissue:Liver|subtissue:Hepatocytes|cell_ontology_class:hepatocyte|free_annotation:NA', 90326216),\n",
       "  SourmashSignature('A1-MAA100039-3_11_M-1-1|tissue:Liver|subtissue:Hepatocytes|cell_ontology_class:hepatocyte|free_annotation:NA', 649069df),\n",
       "  SourmashSignature('A1-MAA100039-3_11_M-1-1|tissue:Liver|subtissue:Hepatocytes|cell_ontology_class:hepatocyte|free_annotation:NA', 10f001e0),\n",
       "  SourmashSignature('A1-MAA100039-3_11_M-1-1|tissue:Liver|subtissue:Hepatocytes|cell_ontology_class:hepatocyte|free_annotation:NA', c4b0a219),\n",
       "  SourmashSignature('A1-MAA100039-3_11_M-1-1|tissue:Liver|subtissue:Hepatocytes|cell_ontology_class:hepatocyte|free_annotation:NA', 10f83cda)]]"
      ]
     },
     "execution_count": 13,
     "metadata": {},
     "output_type": "execute_result"
    }
   ],
   "source": [
    "\n",
    "list(b)"
   ]
  },
  {
   "cell_type": "code",
   "execution_count": 15,
   "metadata": {},
   "outputs": [
    {
     "name": "stdout",
     "output_type": "stream",
     "text": [
      "CPU times: user 5.32 ms, sys: 0 ns, total: 5.32 ms\n",
      "Wall time: 4.54 ms\n",
      "CPU times: user 9min 27s, sys: 4.7 s, total: 9min 32s\n",
      "Wall time: 15min 9s\n",
      "CPU times: user 9min 27s, sys: 4.7 s, total: 9min 32s\n",
      "Wall time: 15min 9s\n"
     ]
    }
   ],
   "source": [
    "%%time\n",
    "%time b = db.read_text(globber).map(sig.load_signatures)\n",
    "%time sigs = list(chain(*b))"
   ]
  },
  {
   "cell_type": "code",
   "execution_count": 24,
   "metadata": {},
   "outputs": [
    {
     "name": "stderr",
     "output_type": "stream",
     "text": [
      "\r",
      "  0%|          | 0/5 [00:00<?, ?it/s]"
     ]
    },
    {
     "name": "stdout",
     "output_type": "stream",
     "text": [
      "len(filenames): 5\n"
     ]
    },
    {
     "name": "stderr",
     "output_type": "stream",
     "text": [
      "100%|██████████| 5/5 [12:35<00:00, 150.98s/it]"
     ]
    },
    {
     "name": "stdout",
     "output_type": "stream",
     "text": [
      "CPU times: user 12min 33s, sys: 3.12 s, total: 12min 36s\n",
      "Wall time: 12min 35s\n"
     ]
    },
    {
     "name": "stderr",
     "output_type": "stream",
     "text": [
      "\n"
     ]
    }
   ],
   "source": [
    "%%time\n",
    "\n",
    "filenames = glob.glob(globber)\n",
    "print(f'len(filenames): {len(filenames)}')\n",
    "\n",
    "siglist_traditional = []\n",
    "\n",
    "for filename in tqdm(filenames):\n",
    "    loaded = sig.load_signatures(filename)\n",
    "    siglist_traditional.extend(loaded)"
   ]
  },
  {
   "cell_type": "code",
   "execution_count": null,
   "metadata": {},
   "outputs": [
    {
     "name": "stderr",
     "output_type": "stream",
     "text": [
      "100%|██████████| 5/5 [00:00<00:00, 40960.00it/s]\n"
     ]
    }
   ],
   "source": [
    "%%time\n",
    "\n",
    "siglist_traditional_chained = list(chain(*[sig.load_signatures(f) for f in tqdm(filenames)]))"
   ]
  },
  {
   "cell_type": "code",
   "execution_count": 28,
   "metadata": {},
   "outputs": [
    {
     "data": {
      "text/plain": [
       "[SourmashSignature('A1-B002764-3_38_F-1-1|tissue:Bladder|subtissue:NA|cell_ontology_class:bladder_urothelial_cell|free_annotation:Luminal_bladder_epithelial_cell', 15e24523),\n",
       " SourmashSignature('A1-B002764-3_38_F-1-1|tissue:Bladder|subtissue:NA|cell_ontology_class:bladder_urothelial_cell|free_annotation:Luminal_bladder_epithelial_cell', 89bb22ab),\n",
       " SourmashSignature('A1-B002764-3_38_F-1-1|tissue:Bladder|subtissue:NA|cell_ontology_class:bladder_urothelial_cell|free_annotation:Luminal_bladder_epithelial_cell', 7c03cbd2),\n",
       " SourmashSignature('A1-B002764-3_38_F-1-1|tissue:Bladder|subtissue:NA|cell_ontology_class:bladder_urothelial_cell|free_annotation:Luminal_bladder_epithelial_cell', 162db048),\n",
       " SourmashSignature('A1-B002764-3_38_F-1-1|tissue:Bladder|subtissue:NA|cell_ontology_class:bladder_urothelial_cell|free_annotation:Luminal_bladder_epithelial_cell', 73c77f17)]"
      ]
     },
     "execution_count": 28,
     "metadata": {},
     "output_type": "execute_result"
    }
   ],
   "source": [
    "siglist_traditional_chained[:5]"
   ]
  },
  {
   "cell_type": "code",
   "execution_count": 29,
   "metadata": {},
   "outputs": [
    {
     "data": {
      "text/plain": [
       "[SourmashSignature('A1-B002764-3_38_F-1-1|tissue:Bladder|subtissue:NA|cell_ontology_class:bladder_urothelial_cell|free_annotation:Luminal_bladder_epithelial_cell', 15e24523),\n",
       " SourmashSignature('A1-B002764-3_38_F-1-1|tissue:Bladder|subtissue:NA|cell_ontology_class:bladder_urothelial_cell|free_annotation:Luminal_bladder_epithelial_cell', 89bb22ab),\n",
       " SourmashSignature('A1-B002764-3_38_F-1-1|tissue:Bladder|subtissue:NA|cell_ontology_class:bladder_urothelial_cell|free_annotation:Luminal_bladder_epithelial_cell', 7c03cbd2),\n",
       " SourmashSignature('A1-B002764-3_38_F-1-1|tissue:Bladder|subtissue:NA|cell_ontology_class:bladder_urothelial_cell|free_annotation:Luminal_bladder_epithelial_cell', 162db048),\n",
       " SourmashSignature('A1-B002764-3_38_F-1-1|tissue:Bladder|subtissue:NA|cell_ontology_class:bladder_urothelial_cell|free_annotation:Luminal_bladder_epithelial_cell', 73c77f17)]"
      ]
     },
     "execution_count": 29,
     "metadata": {},
     "output_type": "execute_result"
    }
   ],
   "source": [
    "sigs[:5]"
   ]
  },
  {
   "cell_type": "code",
   "execution_count": 30,
   "metadata": {},
   "outputs": [
    {
     "data": {
      "text/plain": [
       "dask.bag<bag-fro..., npartitions=5>"
      ]
     },
     "execution_count": 30,
     "metadata": {},
     "output_type": "execute_result"
    }
   ],
   "source": [
    "b"
   ]
  },
  {
   "cell_type": "code",
   "execution_count": 33,
   "metadata": {},
   "outputs": [
    {
     "name": "stdout",
     "output_type": "stream",
     "text": [
      "/data_lg/olga/maca/\n",
      "└── facs\n",
      "    └── sourmash_compute_tissue_subset\n",
      "\n",
      "2 directories\n"
     ]
    }
   ],
   "source": [
    "! tree -d /data_lg/olga/maca/"
   ]
  },
  {
   "cell_type": "code",
   "execution_count": 35,
   "metadata": {},
   "outputs": [],
   "source": [
    "folder = '/data_lg/olga/maca/facs/sourmash_compute_tissue_subset/dask'\n",
    "! mkdir $folder"
   ]
  },
  {
   "cell_type": "code",
   "execution_count": 37,
   "metadata": {},
   "outputs": [],
   "source": [
    "s = sigs[0]"
   ]
  },
  {
   "cell_type": "code",
   "execution_count": 39,
   "metadata": {},
   "outputs": [
    {
     "data": {
      "text/plain": [
       "SourmashSignature('A1-B002764-3_38_F-1-1|tissue:Bladder|subtissue:NA|cell_ontology_class:bladder_urothelial_cell|free_annotation:Luminal_bladder_epithelial_cell', 15e24523)"
      ]
     },
     "execution_count": 39,
     "metadata": {},
     "output_type": "execute_result"
    }
   ],
   "source": [
    "s"
   ]
  },
  {
   "cell_type": "code",
   "execution_count": 40,
   "metadata": {},
   "outputs": [
    {
     "data": {
      "text/plain": [
       "{'class': 'sourmash_signature',\n",
       " 'license': 'CC0',\n",
       " 'name': 'A1-B002764-3_38_F-1-1|tissue:Bladder|subtissue:NA|cell_ontology_class:bladder_urothelial_cell|free_annotation:Luminal_bladder_epithelial_cell',\n",
       " 'filename': '/arg/2/1'}"
      ]
     },
     "execution_count": 40,
     "metadata": {},
     "output_type": "execute_result"
    }
   ],
   "source": [
    "s.d"
   ]
  },
  {
   "cell_type": "code",
   "execution_count": 41,
   "metadata": {},
   "outputs": [
    {
     "data": {
      "text/plain": [
       "{'d': {'class': 'sourmash_signature',\n",
       "  'license': 'CC0',\n",
       "  'name': 'A1-B002764-3_38_F-1-1|tissue:Bladder|subtissue:NA|cell_ontology_class:bladder_urothelial_cell|free_annotation:Luminal_bladder_epithelial_cell',\n",
       "  'filename': '/arg/2/1'},\n",
       " 'minhash': <sourmash._minhash.MinHash at 0x7fff8d9c5198>}"
      ]
     },
     "execution_count": 41,
     "metadata": {},
     "output_type": "execute_result"
    }
   ],
   "source": [
    "s.__dict__"
   ]
  },
  {
   "cell_type": "code",
   "execution_count": 46,
   "metadata": {},
   "outputs": [
    {
     "data": {
      "text/plain": [
       "['__class__',\n",
       " '__copy__',\n",
       " '__delattr__',\n",
       " '__dir__',\n",
       " '__doc__',\n",
       " '__eq__',\n",
       " '__format__',\n",
       " '__ge__',\n",
       " '__getattribute__',\n",
       " '__getstate__',\n",
       " '__gt__',\n",
       " '__hash__',\n",
       " '__iadd__',\n",
       " '__init__',\n",
       " '__init_subclass__',\n",
       " '__le__',\n",
       " '__len__',\n",
       " '__lt__',\n",
       " '__ne__',\n",
       " '__new__',\n",
       " '__pyx_vtable__',\n",
       " '__reduce__',\n",
       " '__reduce_ex__',\n",
       " '__repr__',\n",
       " '__setattr__',\n",
       " '__setstate__',\n",
       " '__sizeof__',\n",
       " '__str__',\n",
       " '__subclasshook__',\n",
       " 'add',\n",
       " 'add_hash',\n",
       " 'add_many',\n",
       " 'add_protein',\n",
       " 'add_sequence',\n",
       " 'compare',\n",
       " 'contained_by',\n",
       " 'containment_ignore_maxhash',\n",
       " 'copy_and_clear',\n",
       " 'count_common',\n",
       " 'downsample_max_hash',\n",
       " 'downsample_n',\n",
       " 'downsample_scaled',\n",
       " 'get_hashes',\n",
       " 'get_mins',\n",
       " 'intersection',\n",
       " 'is_molecule_type',\n",
       " 'is_protein',\n",
       " 'jaccard',\n",
       " 'ksize',\n",
       " 'max_hash',\n",
       " 'merge',\n",
       " 'num',\n",
       " 'remove_many',\n",
       " 'scaled',\n",
       " 'seed',\n",
       " 'set_abundances',\n",
       " 'similarity',\n",
       " 'subtract_mins',\n",
       " 'track_abundance',\n",
       " 'update']"
      ]
     },
     "execution_count": 46,
     "metadata": {},
     "output_type": "execute_result"
    }
   ],
   "source": [
    "dir(s.minhash)"
   ]
  },
  {
   "cell_type": "code",
   "execution_count": null,
   "metadata": {},
   "outputs": [],
   "source": [
    "schema = {'name': 'Test',\n",
    " 'namespace': 'Test',\n",
    " 'doc': 'Descriptive text',\n",
    " 'type': 'record',\n",
    " 'fields': [\n",
    "    {'name': 'a', 'type': 'int'},\n",
    " ]}\n"
   ]
  },
  {
   "cell_type": "code",
   "execution_count": 36,
   "metadata": {},
   "outputs": [
    {
     "ename": "TypeError",
     "evalue": "to_avro() missing 1 required positional argument: 'schema'",
     "output_type": "error",
     "traceback": [
      "\u001b[0;31m---------------------------------------------------------------------------\u001b[0m",
      "\u001b[0;31mTypeError\u001b[0m                                 Traceback (most recent call last)",
      "\u001b[0;32m<ipython-input-36-feb58c17c01a>\u001b[0m in \u001b[0;36m<module>\u001b[0;34m\u001b[0m\n\u001b[0;32m----> 1\u001b[0;31m \u001b[0mdb\u001b[0m\u001b[0;34m.\u001b[0m\u001b[0mavro\u001b[0m\u001b[0;34m.\u001b[0m\u001b[0mto_avro\u001b[0m\u001b[0;34m(\u001b[0m\u001b[0mb\u001b[0m\u001b[0;34m,\u001b[0m \u001b[0;34mf'{folder}/A1_signatures.avro'\u001b[0m\u001b[0;34m)\u001b[0m\u001b[0;34m\u001b[0m\u001b[0;34m\u001b[0m\u001b[0m\n\u001b[0m",
      "\u001b[0;31mTypeError\u001b[0m: to_avro() missing 1 required positional argument: 'schema'"
     ]
    }
   ],
   "source": [
    "db.avro.to_avro(b, f'{folder}/A1_signatures.avro')"
   ]
  },
  {
   "cell_type": "code",
   "execution_count": null,
   "metadata": {},
   "outputs": [],
   "source": []
  }
 ],
 "metadata": {
  "kernelspec": {
   "display_name": "Python 3",
   "language": "python",
   "name": "python3"
  },
  "language_info": {
   "codemirror_mode": {
    "name": "ipython",
    "version": 3
   },
   "file_extension": ".py",
   "mimetype": "text/x-python",
   "name": "python",
   "nbconvert_exporter": "python",
   "pygments_lexer": "ipython3",
   "version": "3.6.8"
  }
 },
 "nbformat": 4,
 "nbformat_minor": 2
}
