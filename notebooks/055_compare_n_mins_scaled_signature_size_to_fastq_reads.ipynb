{
 "cells": [
  {
   "cell_type": "code",
   "execution_count": 2,
   "metadata": {},
   "outputs": [],
   "source": [
    "import pandas as pd\n",
    "\n",
    "import ijson"
   ]
  },
  {
   "cell_type": "code",
   "execution_count": 3,
   "metadata": {},
   "outputs": [
    {
     "name": "stdout",
     "output_type": "stream",
     "text": [
      "/bin/sh: 1: ll: not found\r\n"
     ]
    }
   ],
   "source": [
    "! ll /mnt/data/maca-facs-sourmash_compute_all | head"
   ]
  },
  {
   "cell_type": "code",
   "execution_count": 4,
   "metadata": {},
   "outputs": [
    {
     "name": "stdout",
     "output_type": "stream",
     "text": [
      "total 3720\r\n",
      "drwxrwxr-x 3 ubuntu 4096 Sep 15 01:14 \u001b[0m\u001b[01;34mtrim=false_scaled=1000_dna_ksize=12\u001b[0m/\r\n",
      "drwxrwxr-x 3 ubuntu 4096 Sep 15 01:14 \u001b[01;34mtrim=false_scaled=1000_dna_ksize=15\u001b[0m/\r\n",
      "drwxrwxr-x 3 ubuntu 4096 Sep 15 01:14 \u001b[01;34mtrim=false_scaled=1000_dna_ksize=18\u001b[0m/\r\n",
      "drwxrwxr-x 3 ubuntu 4096 Sep 15 01:15 \u001b[01;34mtrim=false_scaled=1000_dna_ksize=21\u001b[0m/\r\n",
      "drwxrwxr-x 3 ubuntu 4096 Sep 15 01:15 \u001b[01;34mtrim=false_scaled=1000_dna_ksize=24\u001b[0m/\r\n",
      "drwxrwxr-x 3 ubuntu 4096 Sep 15 01:15 \u001b[01;34mtrim=false_scaled=1000_dna_ksize=27\u001b[0m/\r\n",
      "drwxrwxr-x 3 ubuntu 4096 Sep 15 01:15 \u001b[01;34mtrim=false_scaled=1000_dna_ksize=3\u001b[0m/\r\n",
      "drwxrwxr-x 3 ubuntu 4096 Sep 15 01:15 \u001b[01;34mtrim=false_scaled=1000_dna_ksize=30\u001b[0m/\r\n",
      "drwxrwxr-x 3 ubuntu 4096 Sep 15 01:16 \u001b[01;34mtrim=false_scaled=1000_dna_ksize=33\u001b[0m/\r\n",
      "ls: write error\r\n"
     ]
    }
   ],
   "source": [
    "ll /mnt/data/sourmash_index_1000cell | head"
   ]
  },
  {
   "cell_type": "code",
   "execution_count": 5,
   "metadata": {},
   "outputs": [],
   "source": [
    "import json"
   ]
  },
  {
   "cell_type": "code",
   "execution_count": 6,
   "metadata": {},
   "outputs": [],
   "source": [
    "filename = '/mnt/data/maca-facs-sourmash_compute_all/A10-B000126-3_39_F-1-1.sig'\n",
    "with open(filename) as f:\n",
    "    signatures = json.load(f)"
   ]
  },
  {
   "cell_type": "code",
   "execution_count": 7,
   "metadata": {},
   "outputs": [
    {
     "data": {
      "text/plain": [
       "dict_keys(['class', 'email', 'filename', 'hash_function', 'license', 'name', 'signatures', 'version'])"
      ]
     },
     "execution_count": 7,
     "metadata": {},
     "output_type": "execute_result"
    }
   ],
   "source": [
    "signature = signatures[0]\n",
    "signature.keys()"
   ]
  },
  {
   "cell_type": "code",
   "execution_count": 8,
   "metadata": {},
   "outputs": [
    {
     "data": {
      "text/plain": [
       "'sourmash_signature'"
      ]
     },
     "execution_count": 8,
     "metadata": {},
     "output_type": "execute_result"
    }
   ],
   "source": [
    "signature['class']"
   ]
  },
  {
   "cell_type": "code",
   "execution_count": 9,
   "metadata": {},
   "outputs": [
    {
     "data": {
      "text/plain": [
       "0.4"
      ]
     },
     "execution_count": 9,
     "metadata": {},
     "output_type": "execute_result"
    }
   ],
   "source": [
    "signature['version']"
   ]
  },
  {
   "cell_type": "code",
   "execution_count": 10,
   "metadata": {
    "scrolled": false
   },
   "outputs": [
    {
     "name": "stdout",
     "output_type": "stream",
     "text": [
      "---\n",
      "abundances:\n",
      "\tlength: 8471\n",
      "ksize:\n",
      "\tvalue: 21\n",
      "max_hash:\n",
      "\tvalue: 18446744073709552\n",
      "md5sum:\n",
      "\tvalue: 44795c8eb2dabc07025cc1da1ab156c7\n",
      "mins:\n",
      "\tlength: 8471\n",
      "molecule:\n",
      "\tvalue: protein\n",
      "num:\n",
      "\tvalue: 0\n",
      "seed:\n",
      "\tvalue: 42\n",
      "---\n",
      "abundances:\n",
      "\tlength: 4593\n",
      "ksize:\n",
      "\tvalue: 21\n",
      "max_hash:\n",
      "\tvalue: 18446744073709552\n",
      "md5sum:\n",
      "\tvalue: dc46c785cb3f9941c5ce9e6b385d94a1\n",
      "mins:\n",
      "\tlength: 4593\n",
      "molecule:\n",
      "\tvalue: DNA\n",
      "num:\n",
      "\tvalue: 0\n",
      "seed:\n",
      "\tvalue: 42\n",
      "---\n",
      "abundances:\n",
      "\tlength: 8920\n",
      "ksize:\n",
      "\tvalue: 27\n",
      "max_hash:\n",
      "\tvalue: 18446744073709552\n",
      "md5sum:\n",
      "\tvalue: 0ba559fc0195b062424078cc850219c0\n",
      "mins:\n",
      "\tlength: 8920\n",
      "molecule:\n",
      "\tvalue: protein\n",
      "num:\n",
      "\tvalue: 0\n",
      "seed:\n",
      "\tvalue: 42\n",
      "---\n",
      "abundances:\n",
      "\tlength: 4769\n",
      "ksize:\n",
      "\tvalue: 27\n",
      "max_hash:\n",
      "\tvalue: 18446744073709552\n",
      "md5sum:\n",
      "\tvalue: 2d4dc3de2ce5e9624bf28894f5814516\n",
      "mins:\n",
      "\tlength: 4769\n",
      "molecule:\n",
      "\tvalue: DNA\n",
      "num:\n",
      "\tvalue: 0\n",
      "seed:\n",
      "\tvalue: 42\n",
      "---\n",
      "abundances:\n",
      "\tlength: 9175\n",
      "ksize:\n",
      "\tvalue: 33\n",
      "max_hash:\n",
      "\tvalue: 18446744073709552\n",
      "md5sum:\n",
      "\tvalue: e958290cd70d5d3191d394c7aae37e0b\n",
      "mins:\n",
      "\tlength: 9175\n",
      "molecule:\n",
      "\tvalue: protein\n",
      "num:\n",
      "\tvalue: 0\n",
      "seed:\n",
      "\tvalue: 42\n",
      "---\n",
      "abundances:\n",
      "\tlength: 4755\n",
      "ksize:\n",
      "\tvalue: 33\n",
      "max_hash:\n",
      "\tvalue: 18446744073709552\n",
      "md5sum:\n",
      "\tvalue: 26ee0a30b6e37fa411f3c68cb820e522\n",
      "mins:\n",
      "\tlength: 4755\n",
      "molecule:\n",
      "\tvalue: DNA\n",
      "num:\n",
      "\tvalue: 0\n",
      "seed:\n",
      "\tvalue: 42\n",
      "---\n",
      "abundances:\n",
      "\tlength: 8755\n",
      "ksize:\n",
      "\tvalue: 51\n",
      "max_hash:\n",
      "\tvalue: 18446744073709552\n",
      "md5sum:\n",
      "\tvalue: c016b18deff2a56def63a7cf9266e2d6\n",
      "mins:\n",
      "\tlength: 8755\n",
      "molecule:\n",
      "\tvalue: protein\n",
      "num:\n",
      "\tvalue: 0\n",
      "seed:\n",
      "\tvalue: 42\n",
      "---\n",
      "abundances:\n",
      "\tlength: 4444\n",
      "ksize:\n",
      "\tvalue: 51\n",
      "max_hash:\n",
      "\tvalue: 18446744073709552\n",
      "md5sum:\n",
      "\tvalue: 43dca9a1700c39f78e25a0ea39fe1e81\n",
      "mins:\n",
      "\tlength: 4444\n",
      "molecule:\n",
      "\tvalue: DNA\n",
      "num:\n",
      "\tvalue: 0\n",
      "seed:\n",
      "\tvalue: 42\n"
     ]
    }
   ],
   "source": [
    "for sig in signature['signatures']:\n",
    "    print('---')\n",
    "    for key, value in sig.items():\n",
    "        print(f'{key}:')\n",
    "        if isinstance(value, list):\n",
    "            print(f'\\tlength: {len(value)}')\n",
    "        else:\n",
    "            print(f'\\tvalue: {value}')\n",
    "#     print(sig.keys())"
   ]
  },
  {
   "cell_type": "code",
   "execution_count": 11,
   "metadata": {},
   "outputs": [],
   "source": [
    "keys_for_length = ('mins',)\n",
    "\n",
    "keys_for_values = ('ksize', 'molecule')\n",
    "\n",
    "keys_to_print = keys_for_length + keys_for_values\n",
    "\n",
    "def summarize(signature):\n",
    "    data = []\n",
    "    for sig in signature['signatures']:\n",
    "        d = dict(name=signature['name'])\n",
    "        for key, value in sig.items():\n",
    "            if key not in keys_to_print:\n",
    "                continue\n",
    "\n",
    "            if key in keys_for_length:\n",
    "                v = len(value)\n",
    "                k = 'n_' + key\n",
    "            elif key in keys_for_values:\n",
    "                v = value\n",
    "                k = key\n",
    "            d[k] = v\n",
    "        data.append(d)\n",
    "    return data"
   ]
  },
  {
   "cell_type": "code",
   "execution_count": 12,
   "metadata": {},
   "outputs": [
    {
     "data": {
      "text/html": [
       "<div>\n",
       "<style scoped>\n",
       "    .dataframe tbody tr th:only-of-type {\n",
       "        vertical-align: middle;\n",
       "    }\n",
       "\n",
       "    .dataframe tbody tr th {\n",
       "        vertical-align: top;\n",
       "    }\n",
       "\n",
       "    .dataframe thead th {\n",
       "        text-align: right;\n",
       "    }\n",
       "</style>\n",
       "<table border=\"1\" class=\"dataframe\">\n",
       "  <thead>\n",
       "    <tr style=\"text-align: right;\">\n",
       "      <th></th>\n",
       "      <th>ksize</th>\n",
       "      <th>molecule</th>\n",
       "      <th>n_mins</th>\n",
       "      <th>name</th>\n",
       "    </tr>\n",
       "  </thead>\n",
       "  <tbody>\n",
       "    <tr>\n",
       "      <th>0</th>\n",
       "      <td>21</td>\n",
       "      <td>protein</td>\n",
       "      <td>8471</td>\n",
       "      <td>cell_ontology_class:keratinocyte_stem_cell|tis...</td>\n",
       "    </tr>\n",
       "    <tr>\n",
       "      <th>1</th>\n",
       "      <td>21</td>\n",
       "      <td>DNA</td>\n",
       "      <td>4593</td>\n",
       "      <td>cell_ontology_class:keratinocyte_stem_cell|tis...</td>\n",
       "    </tr>\n",
       "    <tr>\n",
       "      <th>2</th>\n",
       "      <td>27</td>\n",
       "      <td>protein</td>\n",
       "      <td>8920</td>\n",
       "      <td>cell_ontology_class:keratinocyte_stem_cell|tis...</td>\n",
       "    </tr>\n",
       "    <tr>\n",
       "      <th>3</th>\n",
       "      <td>27</td>\n",
       "      <td>DNA</td>\n",
       "      <td>4769</td>\n",
       "      <td>cell_ontology_class:keratinocyte_stem_cell|tis...</td>\n",
       "    </tr>\n",
       "    <tr>\n",
       "      <th>4</th>\n",
       "      <td>33</td>\n",
       "      <td>protein</td>\n",
       "      <td>9175</td>\n",
       "      <td>cell_ontology_class:keratinocyte_stem_cell|tis...</td>\n",
       "    </tr>\n",
       "    <tr>\n",
       "      <th>5</th>\n",
       "      <td>33</td>\n",
       "      <td>DNA</td>\n",
       "      <td>4755</td>\n",
       "      <td>cell_ontology_class:keratinocyte_stem_cell|tis...</td>\n",
       "    </tr>\n",
       "    <tr>\n",
       "      <th>6</th>\n",
       "      <td>51</td>\n",
       "      <td>protein</td>\n",
       "      <td>8755</td>\n",
       "      <td>cell_ontology_class:keratinocyte_stem_cell|tis...</td>\n",
       "    </tr>\n",
       "    <tr>\n",
       "      <th>7</th>\n",
       "      <td>51</td>\n",
       "      <td>DNA</td>\n",
       "      <td>4444</td>\n",
       "      <td>cell_ontology_class:keratinocyte_stem_cell|tis...</td>\n",
       "    </tr>\n",
       "  </tbody>\n",
       "</table>\n",
       "</div>"
      ],
      "text/plain": [
       "   ksize molecule  n_mins                                               name\n",
       "0     21  protein    8471  cell_ontology_class:keratinocyte_stem_cell|tis...\n",
       "1     21      DNA    4593  cell_ontology_class:keratinocyte_stem_cell|tis...\n",
       "2     27  protein    8920  cell_ontology_class:keratinocyte_stem_cell|tis...\n",
       "3     27      DNA    4769  cell_ontology_class:keratinocyte_stem_cell|tis...\n",
       "4     33  protein    9175  cell_ontology_class:keratinocyte_stem_cell|tis...\n",
       "5     33      DNA    4755  cell_ontology_class:keratinocyte_stem_cell|tis...\n",
       "6     51  protein    8755  cell_ontology_class:keratinocyte_stem_cell|tis...\n",
       "7     51      DNA    4444  cell_ontology_class:keratinocyte_stem_cell|tis..."
      ]
     },
     "execution_count": 12,
     "metadata": {},
     "output_type": "execute_result"
    }
   ],
   "source": [
    "pd.DataFrame(summarize(signature))"
   ]
  },
  {
   "cell_type": "code",
   "execution_count": 13,
   "metadata": {},
   "outputs": [],
   "source": [
    "del signature"
   ]
  },
  {
   "cell_type": "code",
   "execution_count": 14,
   "metadata": {},
   "outputs": [],
   "source": [
    "pd.options.display.max_columns = 500\n",
    "pd.options.display.max_colwidth = 500"
   ]
  },
  {
   "cell_type": "code",
   "execution_count": 15,
   "metadata": {},
   "outputs": [
    {
     "name": "stdout",
     "output_type": "stream",
     "text": [
      "142 ms ± 184 µs per loop (mean ± std. dev. of 7 runs, 10 loops each)\n"
     ]
    }
   ],
   "source": [
    "%%timeit\n",
    "\n",
    "import glob\n",
    "\n",
    "from sourmash.signature import load_signatures\n",
    "import itertools\n",
    "\n",
    "\n",
    "globber = '/mnt/data/maca-facs-sourmash_compute_all/A12-*.sig'\n",
    "\n",
    "data = []\n",
    "\n",
    "for i, filename in zip(range(5), glob.iglob(globber)):\n",
    "    with open(filename) as f:\n",
    "        signature = json.load(f)\n",
    "    summary = itertools.chain(*map(summarize, signature))\n",
    "    data.extend(summary)\n",
    "pd.DataFrame(data)"
   ]
  },
  {
   "cell_type": "code",
   "execution_count": 49,
   "metadata": {},
   "outputs": [],
   "source": [
    "from tqdm import tqdm"
   ]
  },
  {
   "cell_type": "code",
   "execution_count": null,
   "metadata": {},
   "outputs": [
    {
     "name": "stderr",
     "output_type": "stream",
     "text": [
      "7817it [11:39, 11.17it/s]"
     ]
    }
   ],
   "source": [
    "# %%timeit\n",
    "\n",
    "import glob\n",
    "\n",
    "from sourmash.signature import load_signatures\n",
    "import itertools\n",
    "\n",
    "\n",
    "globber = '/mnt/data/maca-facs-sourmash_compute_all/*.sig'\n",
    "\n",
    "data = []\n",
    "\n",
    "for filename in tqdm(glob.iglob(globber)):\n",
    "    with open(filename) as f:\n",
    "        signature = json.load(f)\n",
    "    summary = itertools.chain(*map(summarize, signature))\n",
    "    data.extend(summary)\n",
    "signature_summaries = pd.DataFrame(data)\n",
    "print(signature_summaries.shape)\n",
    "signature_summaries.head()"
   ]
  },
  {
   "cell_type": "code",
   "execution_count": 16,
   "metadata": {},
   "outputs": [
    {
     "data": {
      "text/plain": [
       "7250000"
      ]
     },
     "execution_count": 16,
     "metadata": {},
     "output_type": "execute_result"
    }
   ],
   "source": [
    "# 50,000 samples\n",
    "145 * 50000"
   ]
  },
  {
   "cell_type": "code",
   "execution_count": 17,
   "metadata": {},
   "outputs": [
    {
     "data": {
      "text/plain": [
       "120.83333333333333"
      ]
     },
     "execution_count": 17,
     "metadata": {},
     "output_type": "execute_result"
    }
   ],
   "source": [
    "# divide by 1000 for miliseconds, divide by 60 for minutes\n",
    "7250000/1000/60"
   ]
  },
  {
   "cell_type": "markdown",
   "metadata": {},
   "source": [
    "## Try using ijson for speed"
   ]
  },
  {
   "cell_type": "code",
   "execution_count": 38,
   "metadata": {
    "scrolled": false
   },
   "outputs": [
    {
     "name": "stdout",
     "output_type": "stream",
     "text": [
      "-------------------\n",
      "---- start array ----\n",
      "prefix: , event: start_array, value: None\n",
      "\tassigned name: cell_ontology_class:bladder_cell|tissue:Bladder|subtissue:nan|free_annotation:Bladder_mesenchymal_cell|cell_id:A12-D041914-3_8_M-1-1\n",
      "\td, {'name': 'cell_ontology_class:bladder_cell|tissue:Bladder|subtissue:nan|free_annotation:Bladder_mesenchymal_cell|cell_id:A12-D041914-3_8_M-1-1'}\n",
      "---- start array ----\n",
      "prefix: item.signatures, event: start_array, value: None\n",
      "---- start array ----\n",
      "prefix: item.signatures.item.abundances, event: start_array, value: None\n",
      "prefix: item.signatures.item.abundances, event: end_array, value: None\n",
      "---- end array ----\n",
      "map_key: None\n",
      "map_value: 0\n",
      "\tksize!!! prefix: item.signatures.item, event: map_key, value: ksize\n",
      "\tassigned ksize: 27\n",
      "\td, {'name': 'cell_ontology_class:bladder_cell|tissue:Bladder|subtissue:nan|free_annotation:Bladder_mesenchymal_cell|cell_id:A12-D041914-3_8_M-1-1', 'ksize': 27}\n",
      "---- start array ----\n",
      "prefix: item.signatures.item.mins, event: start_array, value: None\n",
      "prefix: item.signatures.item.mins, event: end_array, value: None\n",
      "---- end array ----\n",
      "map_key: n_kmers\n",
      "map_value: 34845\n",
      "\tassigned n_kmers: 34845\n",
      "\td, {'name': 'cell_ontology_class:bladder_cell|tissue:Bladder|subtissue:nan|free_annotation:Bladder_mesenchymal_cell|cell_id:A12-D041914-3_8_M-1-1', 'ksize': 27, 'n_kmers': 34845}\n",
      "\tassigned molecule: protein\n",
      "\td, {'name': 'cell_ontology_class:bladder_cell|tissue:Bladder|subtissue:nan|free_annotation:Bladder_mesenchymal_cell|cell_id:A12-D041914-3_8_M-1-1', 'ksize': 27, 'n_kmers': 34845, 'molecule': 'protein'}\n",
      "\t\t--- appended to data\n",
      "---- start array ----\n",
      "prefix: item.signatures.item.abundances, event: start_array, value: None\n",
      "prefix: item.signatures.item.abundances, event: end_array, value: None\n",
      "---- end array ----\n",
      "map_key: None\n",
      "map_value: 0\n",
      "\tksize!!! prefix: item.signatures.item, event: map_key, value: ksize\n",
      "\tassigned ksize: 27\n",
      "\td, {'ksize': 27}\n",
      "---- start array ----\n",
      "prefix: item.signatures.item.mins, event: start_array, value: None\n",
      "prefix: item.signatures.item.mins, event: end_array, value: None\n",
      "---- end array ----\n",
      "map_key: n_kmers\n",
      "map_value: 19316\n",
      "\tassigned n_kmers: 19316\n",
      "\td, {'ksize': 27, 'n_kmers': 19316}\n",
      "\tassigned molecule: DNA\n",
      "\td, {'ksize': 27, 'n_kmers': 19316, 'molecule': 'DNA'}\n",
      "prefix: item.signatures, event: end_array, value: None\n",
      "---- end array ----\n",
      "map_key: None\n",
      "map_value: 0\n",
      "prefix: , event: end_array, value: None\n",
      "---- end array ----\n",
      "map_key: None\n",
      "map_value: 0\n",
      "data, [{'name': 'cell_ontology_class:bladder_cell|tissue:Bladder|subtissue:nan|free_annotation:Bladder_mesenchymal_cell|cell_id:A12-D041914-3_8_M-1-1', 'ksize': 27, 'n_kmers': 34845, 'molecule': 'protein'}]\n",
      "-------------------\n",
      "---- start array ----\n",
      "prefix: , event: start_array, value: None\n",
      "\tassigned name: cell_ontology_class:epithelial_cell_of_large_intestine|tissue:Large_Intestine|subtissue:Proximal|free_annotation:Lgr5+_undifferentiated_cell_(Proximal)|cell_id:A12-MAA001632-3_56_F-1-1\n",
      "\td, {'name': 'cell_ontology_class:epithelial_cell_of_large_intestine|tissue:Large_Intestine|subtissue:Proximal|free_annotation:Lgr5+_undifferentiated_cell_(Proximal)|cell_id:A12-MAA001632-3_56_F-1-1'}\n",
      "---- start array ----\n",
      "prefix: item.signatures, event: start_array, value: None\n",
      "---- start array ----\n",
      "prefix: item.signatures.item.abundances, event: start_array, value: None\n",
      "prefix: item.signatures.item.abundances, event: end_array, value: None\n",
      "---- end array ----\n",
      "map_key: None\n",
      "map_value: 0\n",
      "\tksize!!! prefix: item.signatures.item, event: map_key, value: ksize\n",
      "\tassigned ksize: 27\n",
      "\td, {'name': 'cell_ontology_class:epithelial_cell_of_large_intestine|tissue:Large_Intestine|subtissue:Proximal|free_annotation:Lgr5+_undifferentiated_cell_(Proximal)|cell_id:A12-MAA001632-3_56_F-1-1', 'ksize': 27}\n",
      "---- start array ----\n",
      "prefix: item.signatures.item.mins, event: start_array, value: None\n",
      "prefix: item.signatures.item.mins, event: end_array, value: None\n",
      "---- end array ----\n",
      "map_key: n_kmers\n",
      "map_value: 27751\n",
      "\tassigned n_kmers: 27751\n",
      "\td, {'name': 'cell_ontology_class:epithelial_cell_of_large_intestine|tissue:Large_Intestine|subtissue:Proximal|free_annotation:Lgr5+_undifferentiated_cell_(Proximal)|cell_id:A12-MAA001632-3_56_F-1-1', 'ksize': 27, 'n_kmers': 27751}\n",
      "\tassigned molecule: protein\n",
      "\td, {'name': 'cell_ontology_class:epithelial_cell_of_large_intestine|tissue:Large_Intestine|subtissue:Proximal|free_annotation:Lgr5+_undifferentiated_cell_(Proximal)|cell_id:A12-MAA001632-3_56_F-1-1', 'ksize': 27, 'n_kmers': 27751, 'molecule': 'protein'}\n",
      "\t\t--- appended to data\n",
      "---- start array ----\n",
      "prefix: item.signatures.item.abundances, event: start_array, value: None\n",
      "prefix: item.signatures.item.abundances, event: end_array, value: None\n",
      "---- end array ----\n",
      "map_key: None\n",
      "map_value: 0\n",
      "\tksize!!! prefix: item.signatures.item, event: map_key, value: ksize\n",
      "\tassigned ksize: 27\n",
      "\td, {'ksize': 27}\n",
      "---- start array ----\n",
      "prefix: item.signatures.item.mins, event: start_array, value: None\n",
      "prefix: item.signatures.item.mins, event: end_array, value: None\n",
      "---- end array ----\n",
      "map_key: n_kmers\n",
      "map_value: 14519\n",
      "\tassigned n_kmers: 14519\n",
      "\td, {'ksize': 27, 'n_kmers': 14519}\n",
      "\tassigned molecule: DNA\n",
      "\td, {'ksize': 27, 'n_kmers': 14519, 'molecule': 'DNA'}\n",
      "prefix: item.signatures, event: end_array, value: None\n",
      "---- end array ----\n",
      "map_key: None\n",
      "map_value: 0\n",
      "prefix: , event: end_array, value: None\n",
      "---- end array ----\n",
      "map_key: None\n",
      "map_value: 0\n",
      "data, [{'name': 'cell_ontology_class:epithelial_cell_of_large_intestine|tissue:Large_Intestine|subtissue:Proximal|free_annotation:Lgr5+_undifferentiated_cell_(Proximal)|cell_id:A12-MAA001632-3_56_F-1-1', 'ksize': 27, 'n_kmers': 27751, 'molecule': 'protein'}]\n"
     ]
    },
    {
     "data": {
      "text/html": [
       "<div>\n",
       "<style scoped>\n",
       "    .dataframe tbody tr th:only-of-type {\n",
       "        vertical-align: middle;\n",
       "    }\n",
       "\n",
       "    .dataframe tbody tr th {\n",
       "        vertical-align: top;\n",
       "    }\n",
       "\n",
       "    .dataframe thead th {\n",
       "        text-align: right;\n",
       "    }\n",
       "</style>\n",
       "<table border=\"1\" class=\"dataframe\">\n",
       "  <thead>\n",
       "    <tr style=\"text-align: right;\">\n",
       "      <th></th>\n",
       "      <th>ksize</th>\n",
       "      <th>molecule</th>\n",
       "      <th>n_kmers</th>\n",
       "      <th>name</th>\n",
       "    </tr>\n",
       "  </thead>\n",
       "  <tbody>\n",
       "    <tr>\n",
       "      <th>0</th>\n",
       "      <td>27</td>\n",
       "      <td>protein</td>\n",
       "      <td>34845</td>\n",
       "      <td>cell_ontology_class:bladder_cell|tissue:Bladder|subtissue:nan|free_annotation:Bladder_mesenchymal_cell|cell_id:A12-D041914-3_8_M-1-1</td>\n",
       "    </tr>\n",
       "    <tr>\n",
       "      <th>1</th>\n",
       "      <td>27</td>\n",
       "      <td>protein</td>\n",
       "      <td>27751</td>\n",
       "      <td>cell_ontology_class:epithelial_cell_of_large_intestine|tissue:Large_Intestine|subtissue:Proximal|free_annotation:Lgr5+_undifferentiated_cell_(Proximal)|cell_id:A12-MAA001632-3_56_F-1-1</td>\n",
       "    </tr>\n",
       "  </tbody>\n",
       "</table>\n",
       "</div>"
      ],
      "text/plain": [
       "   ksize molecule  n_kmers  \\\n",
       "0     27  protein    34845   \n",
       "1     27  protein    27751   \n",
       "\n",
       "                                                                                                                                                                                       name  \n",
       "0                                                      cell_ontology_class:bladder_cell|tissue:Bladder|subtissue:nan|free_annotation:Bladder_mesenchymal_cell|cell_id:A12-D041914-3_8_M-1-1  \n",
       "1  cell_ontology_class:epithelial_cell_of_large_intestine|tissue:Large_Intestine|subtissue:Proximal|free_annotation:Lgr5+_undifferentiated_cell_(Proximal)|cell_id:A12-MAA001632-3_56_F-1-1  "
      ]
     },
     "execution_count": 38,
     "metadata": {},
     "output_type": "execute_result"
    }
   ],
   "source": [
    "# %%timeit\n",
    "\n",
    "import glob\n",
    "\n",
    "from sourmash.signature import load_signatures\n",
    "import itertools\n",
    "\n",
    "keys_for_length = ('mins',)\n",
    "\n",
    "keys_for_values = ('ksize', 'molecule', 'name')\n",
    "\n",
    "keys_to_print = keys_for_length + keys_for_values\n",
    "\n",
    "\n",
    "final_keys = ('n_kmers',) + keys_for_values\n",
    "\n",
    "def _read_stream(prefix, event, value):\n",
    "    pass\n",
    "\n",
    "def summarize_stream(parser):\n",
    "    data = []\n",
    "    n_abundances = 0\n",
    "#     max_abundances = 5\n",
    "    print('-------------------')\n",
    "    map_key = None\n",
    "    map_value = 0\n",
    "    d = {}\n",
    "    for prefix, event, value in parser:\n",
    "        if value == \"ksize\":\n",
    "            print(f'\\tksize!!! prefix: {prefix}, event: {event}, value: {value}')\n",
    "        \n",
    "        if event == \"start_array\":\n",
    "            print('---- start array ----')\n",
    "            print(f'prefix: {prefix}, event: {event}, value: {value}')\n",
    "        if event == \"end_array\":\n",
    "            print(f'prefix: {prefix}, event: {event}, value: {value}')\n",
    "            print('---- end array ----')\n",
    "            print(f'map_key: {map_key}')\n",
    "            print(f'map_value: {map_value}')\n",
    "            if map_key == 'n_kmers':\n",
    "                d[map_key] = map_value\n",
    "                print(f\"\\tassigned {map_key}: {map_value}\")\n",
    "                print(f'\\td, {d}')\n",
    "                map_key = None\n",
    "                map_value = 0\n",
    "        if 'mins' in prefix and event == \"number\":\n",
    "            map_value += 1\n",
    "#             print(\"incremented map value\")\n",
    "#         print(f'\\tprefix: \"{prefix}\"\\tevent: \"{event}\"\\tvalue: {value}')\n",
    "        \n",
    "        \n",
    "        # If the minimum hash value list has ended\n",
    "\n",
    "        \n",
    "        # if this is one of the keys we care about\n",
    "        if event == 'map_key':\n",
    "            if value in keys_to_print:\n",
    "                map_key = value\n",
    "                if map_key == 'mins':\n",
    "                    map_key = 'n_kmers'\n",
    "#                 print(f'map_key: {map_key}')\n",
    "                    \n",
    "        # if previous thing was a key\n",
    "        if event != 'map_key' and map_key is not None:\n",
    "            if map_key in keys_for_values:\n",
    "                map_value = value\n",
    "                d[map_key] = map_value\n",
    "                print(f\"\\tassigned {map_key}: {map_value}\")\n",
    "                print(f'\\td, {d}')\n",
    "                map_key = None\n",
    "                map_value = 0\n",
    "                \n",
    "        if all(k in d.keys() for k in final_keys):\n",
    "            data.append(d)\n",
    "            print('\\t\\t--- appended to data')\n",
    "            d = {}\n",
    "            map_value = 0\n",
    "            map_key = None\n",
    "            \n",
    "    print(f'data, {data}')\n",
    "    return data\n",
    "\n",
    "\n",
    "globber = '/mnt/data/maca-facs-sourmash_compute_all/A12-*.sig'\n",
    "\n",
    "data = []\n",
    "\n",
    "for i, filename in zip(range(2), glob.iglob(globber)):\n",
    "    with open(filename) as f:\n",
    "        parser = ijson.parse(f)\n",
    "#         for prefix, event, value in parser:\n",
    "        summary = summarize_stream(parser)\n",
    "#             print(f'prefix: {prefix}, event: {event}, value: {value}')\n",
    "#             summary = itertools.chain(*map(summarize, signature))\n",
    "    data.extend(summary)\n",
    "pd.DataFrame(data)"
   ]
  },
  {
   "cell_type": "code",
   "execution_count": 27,
   "metadata": {},
   "outputs": [
    {
     "data": {
      "text/plain": [
       "('mins', 'ksize', 'molecule', 'name')"
      ]
     },
     "execution_count": 27,
     "metadata": {},
     "output_type": "execute_result"
    }
   ],
   "source": [
    "keys_to_print"
   ]
  },
  {
   "cell_type": "code",
   "execution_count": null,
   "metadata": {},
   "outputs": [],
   "source": []
  },
  {
   "cell_type": "code",
   "execution_count": 46,
   "metadata": {},
   "outputs": [
    {
     "name": "stdout",
     "output_type": "stream",
     "text": [
      "prefix: , event: start_array, value: None\n",
      "prefix: item, event: start_map, value: None\n",
      "prefix: item, event: map_key, value: class\n",
      "prefix: item.class, event: string, value: sourmash_signature\n",
      "prefix: item, event: map_key, value: email\n",
      "prefix: item.email, event: string, value: \n",
      "prefix: item, event: map_key, value: filename\n",
      "prefix: item.filename, event: string, value: /arg/1/0\n",
      "prefix: item, event: map_key, value: hash_function\n",
      "prefix: item.hash_function, event: string, value: 0.murmur64\n",
      "prefix: item, event: map_key, value: license\n",
      "prefix: item.license, event: string, value: CC0\n",
      "prefix: item, event: map_key, value: name\n",
      "prefix: item.name, event: string, value: cell_ontology_class:epithelial_cell_of_large_intestine|tissue:Large_Intestine|subtissue:Proximal|free_annotation:Lgr5+_undifferentiated_cell_(Proximal)|cell_id:A12-MAA001632-3_56_F-1-1\n",
      "prefix: item, event: map_key, value: signatures\n",
      "prefix: item.signatures, event: start_array, value: None\n",
      "prefix: item.signatures.item, event: start_map, value: None\n",
      "prefix: item.signatures.item, event: map_key, value: abundances\n",
      "prefix: item.signatures.item.abundances, event: start_array, value: None\n",
      "prefix: item.signatures.item.abundances.item, event: number, value: 1\n",
      "prefix: item.signatures.item.abundances.item, event: number, value: 5\n",
      "prefix: item.signatures.item.abundances.item, event: number, value: 4\n",
      "prefix: item.signatures.item.abundances.item, event: number, value: 1\n",
      "prefix: item.signatures.item.abundances.item, event: number, value: 1\n",
      "prefix: item.signatures.item.abundances.item, event: number, value: 4\n",
      "prefix: item.signatures.item.abundances.item, event: number, value: 9\n",
      "prefix: item.signatures.item.abundances.item, event: number, value: 1\n",
      "prefix: item.signatures.item.abundances.item, event: number, value: 1\n",
      "prefix: item.signatures.item.abundances.item, event: number, value: 1\n",
      "prefix: item.signatures.item.abundances, event: end_array, value: None\n",
      "prefix: item.signatures.item, event: map_key, value: ksize\n",
      "prefix: item.signatures.item.ksize, event: number, value: 27\n",
      "prefix: item.signatures.item, event: map_key, value: max_hash\n",
      "prefix: item.signatures.item.max_hash, event: number, value: 18446744073709552\n",
      "prefix: item.signatures.item, event: map_key, value: md5sum\n",
      "prefix: item.signatures.item.md5sum, event: string, value: fe0e5b205cc2ad5a6d3e99a498ed8414\n",
      "prefix: item.signatures.item, event: map_key, value: mins\n",
      "prefix: item.signatures.item.mins, event: start_array, value: None\n",
      "prefix: item.signatures.item.mins, event: end_array, value: None\n",
      "prefix: item.signatures.item, event: map_key, value: molecule\n",
      "prefix: item.signatures.item.molecule, event: string, value: protein\n",
      "prefix: item.signatures.item, event: map_key, value: num\n",
      "prefix: item.signatures.item.num, event: number, value: 0\n",
      "prefix: item.signatures.item, event: map_key, value: seed\n",
      "prefix: item.signatures.item.seed, event: number, value: 42\n",
      "prefix: item.signatures.item, event: end_map, value: None\n",
      "prefix: item.signatures.item, event: start_map, value: None\n",
      "prefix: item.signatures.item, event: map_key, value: abundances\n",
      "prefix: item.signatures.item.abundances, event: start_array, value: None\n",
      "prefix: item.signatures.item.abundances, event: end_array, value: None\n",
      "prefix: item.signatures.item, event: map_key, value: ksize\n",
      "prefix: item.signatures.item.ksize, event: number, value: 27\n",
      "prefix: item.signatures.item, event: map_key, value: max_hash\n",
      "prefix: item.signatures.item.max_hash, event: number, value: 18446744073709552\n",
      "prefix: item.signatures.item, event: map_key, value: md5sum\n",
      "prefix: item.signatures.item.md5sum, event: string, value: b74460d0a91f6ba0a424e32cca121cfc\n",
      "prefix: item.signatures.item, event: map_key, value: mins\n",
      "prefix: item.signatures.item.mins, event: start_array, value: None\n",
      "prefix: item.signatures.item.mins, event: end_array, value: None\n",
      "prefix: item.signatures.item, event: map_key, value: molecule\n",
      "prefix: item.signatures.item.molecule, event: string, value: DNA\n",
      "prefix: item.signatures.item, event: map_key, value: num\n",
      "prefix: item.signatures.item.num, event: number, value: 0\n",
      "prefix: item.signatures.item, event: map_key, value: seed\n",
      "prefix: item.signatures.item.seed, event: number, value: 42\n",
      "prefix: item.signatures.item, event: end_map, value: None\n",
      "prefix: item.signatures, event: end_array, value: None\n",
      "prefix: item, event: map_key, value: version\n",
      "prefix: item.version, event: number, value: 0.4\n",
      "prefix: item, event: end_map, value: None\n",
      "prefix: , event: end_array, value: None\n"
     ]
    }
   ],
   "source": [
    "max_numbers = 10\n",
    "n_numbers = 0\n",
    "\n",
    "with open(filename) as f:\n",
    "    parser = ijson.parse(f)\n",
    "    for prefix, event, value in parser:\n",
    "        if 'abundance' not in prefix and 'mins' not in prefix:\n",
    "            print(f'prefix: {prefix}, event: {event}, value: {value}')\n",
    "        else:\n",
    "            if event == 'number':\n",
    "                if n_numbers < max_numbers:\n",
    "                    print(f'prefix: {prefix}, event: {event}, value: {value}')\n",
    "                    n_numbers += 1\n",
    "#                     print(f'n_numbers: {n_numbers}')\n",
    "            else:\n",
    "                print(f'prefix: {prefix}, event: {event}, value: {value}')\n",
    "\n",
    "                "
   ]
  },
  {
   "cell_type": "markdown",
   "metadata": {},
   "source": [
    "## Try using ujson for speed"
   ]
  },
  {
   "cell_type": "code",
   "execution_count": 98,
   "metadata": {},
   "outputs": [
    {
     "ename": "ModuleNotFoundError",
     "evalue": "No module named 'ujson'",
     "output_type": "error",
     "traceback": [
      "\u001b[0;31m---------------------------------------------------------------------------\u001b[0m",
      "\u001b[0;31mModuleNotFoundError\u001b[0m                       Traceback (most recent call last)",
      "\u001b[0;32m<ipython-input-98-e8d63ebeabc7>\u001b[0m in \u001b[0;36m<module>\u001b[0;34m()\u001b[0m\n\u001b[0;32m----> 1\u001b[0;31m \u001b[0;32mimport\u001b[0m \u001b[0mujson\u001b[0m\u001b[0;34m\u001b[0m\u001b[0m\n\u001b[0m",
      "\u001b[0;31mModuleNotFoundError\u001b[0m: No module named 'ujson'"
     ]
    }
   ],
   "source": [
    "import ujson\n",
    "\n",
    "%%timeit\n",
    "\n",
    "import glob\n",
    "\n",
    "from sourmash.signature import load_signatures\n",
    "import itertools\n",
    "\n",
    "\n",
    "globber = '/mnt/data/maca-facs-sourmash_compute_all/A12-*.sig'\n",
    "\n",
    "data = []\n",
    "\n",
    "for i, filename in zip(range(5), glob.iglob(globber)):\n",
    "    with open(filename) as f:\n",
    "        signature = json.load(f)\n",
    "    summary = itertools.chain(*map(summarize, signature))\n",
    "    data.extend(summary)\n",
    "pd.DataFrame(data)"
   ]
  },
  {
   "cell_type": "code",
   "execution_count": 94,
   "metadata": {},
   "outputs": [
    {
     "name": "stdout",
     "output_type": "stream",
     "text": [
      "> \u001b[0;32m<ipython-input-51-9f5e3e3c34db>\u001b[0m(11)\u001b[0;36msummarize\u001b[0;34m()\u001b[0m\n",
      "\u001b[0;32m      9 \u001b[0;31m\u001b[0;34m\u001b[0m\u001b[0m\n",
      "\u001b[0m\u001b[0;32m     10 \u001b[0;31m    \u001b[0mdata\u001b[0m \u001b[0;34m=\u001b[0m \u001b[0;34m[\u001b[0m\u001b[0;34m]\u001b[0m\u001b[0;34m\u001b[0m\u001b[0m\n",
      "\u001b[0m\u001b[0;32m---> 11 \u001b[0;31m    \u001b[0;32mfor\u001b[0m \u001b[0msig\u001b[0m \u001b[0;32min\u001b[0m \u001b[0msignature\u001b[0m\u001b[0;34m[\u001b[0m\u001b[0;34m'signatures'\u001b[0m\u001b[0;34m]\u001b[0m\u001b[0;34m:\u001b[0m\u001b[0;34m\u001b[0m\u001b[0m\n",
      "\u001b[0m\u001b[0;32m     12 \u001b[0;31m        \u001b[0md\u001b[0m \u001b[0;34m=\u001b[0m \u001b[0mdict\u001b[0m\u001b[0;34m(\u001b[0m\u001b[0mname\u001b[0m\u001b[0;34m=\u001b[0m\u001b[0msignature\u001b[0m\u001b[0;34m[\u001b[0m\u001b[0;34m'name'\u001b[0m\u001b[0;34m]\u001b[0m\u001b[0;34m)\u001b[0m\u001b[0;34m\u001b[0m\u001b[0m\n",
      "\u001b[0m\u001b[0;32m     13 \u001b[0;31m        \u001b[0;32mfor\u001b[0m \u001b[0mkey\u001b[0m\u001b[0;34m,\u001b[0m \u001b[0mvalue\u001b[0m \u001b[0;32min\u001b[0m \u001b[0msig\u001b[0m\u001b[0;34m.\u001b[0m\u001b[0mitems\u001b[0m\u001b[0;34m(\u001b[0m\u001b[0;34m)\u001b[0m\u001b[0;34m:\u001b[0m\u001b[0;34m\u001b[0m\u001b[0m\n",
      "\u001b[0m\n",
      "ipdb> signature['signatures']\n",
      "*** TypeError: tuple indices must be integers or slices, not str\n",
      "ipdb> signature\n",
      "('', 'start_array', None)\n",
      "ipdb> q\n"
     ]
    }
   ],
   "source": [
    "%debug"
   ]
  },
  {
   "cell_type": "code",
   "execution_count": 72,
   "metadata": {},
   "outputs": [
    {
     "data": {
      "text/plain": [
       "['In',\n",
       " 'Out',\n",
       " '_',\n",
       " '_12',\n",
       " '_16',\n",
       " '_17',\n",
       " '_21',\n",
       " '_23',\n",
       " '_24',\n",
       " '_25',\n",
       " '_26',\n",
       " '_27',\n",
       " '_28',\n",
       " '_29',\n",
       " '_31',\n",
       " '_32',\n",
       " '_33',\n",
       " '_34',\n",
       " '_35',\n",
       " '_36',\n",
       " '_37',\n",
       " '_38',\n",
       " '_47',\n",
       " '_50',\n",
       " '_51',\n",
       " '_54',\n",
       " '_56',\n",
       " '_59',\n",
       " '_61',\n",
       " '_63',\n",
       " '_7',\n",
       " '_8',\n",
       " '_9',\n",
       " '__',\n",
       " '___',\n",
       " '__builtin__',\n",
       " '__builtins__',\n",
       " '__doc__',\n",
       " '__loader__',\n",
       " '__name__',\n",
       " '__package__',\n",
       " '__spec__',\n",
       " '_dh',\n",
       " '_exit_code',\n",
       " '_i',\n",
       " '_i1',\n",
       " '_i10',\n",
       " '_i11',\n",
       " '_i12',\n",
       " '_i13',\n",
       " '_i14',\n",
       " '_i15',\n",
       " '_i16',\n",
       " '_i17',\n",
       " '_i18',\n",
       " '_i19',\n",
       " '_i2',\n",
       " '_i20',\n",
       " '_i21',\n",
       " '_i22',\n",
       " '_i23',\n",
       " '_i24',\n",
       " '_i25',\n",
       " '_i26',\n",
       " '_i27',\n",
       " '_i28',\n",
       " '_i29',\n",
       " '_i3',\n",
       " '_i30',\n",
       " '_i31',\n",
       " '_i32',\n",
       " '_i33',\n",
       " '_i34',\n",
       " '_i35',\n",
       " '_i36',\n",
       " '_i37',\n",
       " '_i38',\n",
       " '_i39',\n",
       " '_i4',\n",
       " '_i40',\n",
       " '_i41',\n",
       " '_i42',\n",
       " '_i43',\n",
       " '_i44',\n",
       " '_i45',\n",
       " '_i46',\n",
       " '_i47',\n",
       " '_i48',\n",
       " '_i49',\n",
       " '_i5',\n",
       " '_i50',\n",
       " '_i51',\n",
       " '_i52',\n",
       " '_i53',\n",
       " '_i54',\n",
       " '_i55',\n",
       " '_i56',\n",
       " '_i57',\n",
       " '_i58',\n",
       " '_i59',\n",
       " '_i6',\n",
       " '_i60',\n",
       " '_i61',\n",
       " '_i62',\n",
       " '_i63',\n",
       " '_i64',\n",
       " '_i65',\n",
       " '_i66',\n",
       " '_i67',\n",
       " '_i68',\n",
       " '_i69',\n",
       " '_i7',\n",
       " '_i70',\n",
       " '_i71',\n",
       " '_i72',\n",
       " '_i8',\n",
       " '_i9',\n",
       " '_ih',\n",
       " '_ii',\n",
       " '_iii',\n",
       " '_oh',\n",
       " '_read_stream',\n",
       " 'cell_id',\n",
       " 'cell_metadata',\n",
       " 'cell_metadata_index',\n",
       " 'data',\n",
       " 'event',\n",
       " 'exit',\n",
       " 'extract_metadata',\n",
       " 'f',\n",
       " 'fastqs',\n",
       " 'filename',\n",
       " 'final_keys',\n",
       " 'g',\n",
       " 'get_ipython',\n",
       " 'glob',\n",
       " 'globber',\n",
       " 'i',\n",
       " 'ijson',\n",
       " 'itertools',\n",
       " 'json',\n",
       " 'key',\n",
       " 'keys_for_length',\n",
       " 'keys_for_values',\n",
       " 'keys_to_print',\n",
       " 'load_signatures',\n",
       " 'max_numbers',\n",
       " 'n_lines',\n",
       " 'n_lines_per_read',\n",
       " 'n_numbers',\n",
       " 'n_reads',\n",
       " 'output',\n",
       " 'parser',\n",
       " 'pd',\n",
       " 'prefix',\n",
       " 'quit',\n",
       " 'r1',\n",
       " 'reads_per_cell',\n",
       " 'sig',\n",
       " 'signature',\n",
       " 'signature_summaries',\n",
       " 'signatures',\n",
       " 'sns',\n",
       " 'summarize',\n",
       " 'summarize_stream',\n",
       " 'summary',\n",
       " 'tqdm',\n",
       " 'value',\n",
       " 'write_s3']"
      ]
     },
     "execution_count": 72,
     "metadata": {},
     "output_type": "execute_result"
    }
   ],
   "source": [
    "dir()"
   ]
  },
  {
   "cell_type": "code",
   "execution_count": 84,
   "metadata": {},
   "outputs": [],
   "source": [
    "from s3_utils import write_s3\n",
    "import numpy as np\n",
    "\n",
    "import seaborn as sns\n",
    "\n",
    "%matplotlib inline"
   ]
  },
  {
   "cell_type": "code",
   "execution_count": 85,
   "metadata": {},
   "outputs": [],
   "source": []
  },
  {
   "cell_type": "code",
   "execution_count": 86,
   "metadata": {},
   "outputs": [
    {
     "data": {
      "text/html": [
       "<div>\n",
       "<style scoped>\n",
       "    .dataframe tbody tr th:only-of-type {\n",
       "        vertical-align: middle;\n",
       "    }\n",
       "\n",
       "    .dataframe tbody tr th {\n",
       "        vertical-align: top;\n",
       "    }\n",
       "\n",
       "    .dataframe thead th {\n",
       "        text-align: right;\n",
       "    }\n",
       "</style>\n",
       "<table border=\"1\" class=\"dataframe\">\n",
       "  <thead>\n",
       "    <tr style=\"text-align: right;\">\n",
       "      <th></th>\n",
       "      <th>ksize</th>\n",
       "      <th>molecule</th>\n",
       "      <th>n_mins</th>\n",
       "      <th>name</th>\n",
       "    </tr>\n",
       "  </thead>\n",
       "  <tbody>\n",
       "    <tr>\n",
       "      <th>0</th>\n",
       "      <td>21</td>\n",
       "      <td>protein</td>\n",
       "      <td>24889</td>\n",
       "      <td>cell_ontology_class:cardiac_muscle_cell|tissue:Heart|subtissue:LA/RA|free_annotation:nan|cell_id:G7-MAA100097-3_39_F-1-1</td>\n",
       "    </tr>\n",
       "    <tr>\n",
       "      <th>1</th>\n",
       "      <td>21</td>\n",
       "      <td>DNA</td>\n",
       "      <td>14002</td>\n",
       "      <td>cell_ontology_class:cardiac_muscle_cell|tissue:Heart|subtissue:LA/RA|free_annotation:nan|cell_id:G7-MAA100097-3_39_F-1-1</td>\n",
       "    </tr>\n",
       "    <tr>\n",
       "      <th>2</th>\n",
       "      <td>27</td>\n",
       "      <td>protein</td>\n",
       "      <td>27342</td>\n",
       "      <td>cell_ontology_class:cardiac_muscle_cell|tissue:Heart|subtissue:LA/RA|free_annotation:nan|cell_id:G7-MAA100097-3_39_F-1-1</td>\n",
       "    </tr>\n",
       "    <tr>\n",
       "      <th>3</th>\n",
       "      <td>27</td>\n",
       "      <td>DNA</td>\n",
       "      <td>14704</td>\n",
       "      <td>cell_ontology_class:cardiac_muscle_cell|tissue:Heart|subtissue:LA/RA|free_annotation:nan|cell_id:G7-MAA100097-3_39_F-1-1</td>\n",
       "    </tr>\n",
       "    <tr>\n",
       "      <th>4</th>\n",
       "      <td>33</td>\n",
       "      <td>protein</td>\n",
       "      <td>28107</td>\n",
       "      <td>cell_ontology_class:cardiac_muscle_cell|tissue:Heart|subtissue:LA/RA|free_annotation:nan|cell_id:G7-MAA100097-3_39_F-1-1</td>\n",
       "    </tr>\n",
       "  </tbody>\n",
       "</table>\n",
       "</div>"
      ],
      "text/plain": [
       "   ksize molecule  n_mins  \\\n",
       "0     21  protein   24889   \n",
       "1     21      DNA   14002   \n",
       "2     27  protein   27342   \n",
       "3     27      DNA   14704   \n",
       "4     33  protein   28107   \n",
       "\n",
       "                                                                                                                       name  \n",
       "0  cell_ontology_class:cardiac_muscle_cell|tissue:Heart|subtissue:LA/RA|free_annotation:nan|cell_id:G7-MAA100097-3_39_F-1-1  \n",
       "1  cell_ontology_class:cardiac_muscle_cell|tissue:Heart|subtissue:LA/RA|free_annotation:nan|cell_id:G7-MAA100097-3_39_F-1-1  \n",
       "2  cell_ontology_class:cardiac_muscle_cell|tissue:Heart|subtissue:LA/RA|free_annotation:nan|cell_id:G7-MAA100097-3_39_F-1-1  \n",
       "3  cell_ontology_class:cardiac_muscle_cell|tissue:Heart|subtissue:LA/RA|free_annotation:nan|cell_id:G7-MAA100097-3_39_F-1-1  \n",
       "4  cell_ontology_class:cardiac_muscle_cell|tissue:Heart|subtissue:LA/RA|free_annotation:nan|cell_id:G7-MAA100097-3_39_F-1-1  "
      ]
     },
     "execution_count": 86,
     "metadata": {},
     "output_type": "execute_result"
    }
   ],
   "source": [
    "signature_summaries.head()"
   ]
  },
  {
   "cell_type": "code",
   "execution_count": 93,
   "metadata": {},
   "outputs": [
    {
     "data": {
      "text/plain": [
       "<seaborn.axisgrid.FacetGrid at 0x7f1f6f70d668>"
      ]
     },
     "execution_count": 93,
     "metadata": {},
     "output_type": "execute_result"
    },
    {
     "data": {
      "image/png": "[encoded data removed]",
      "text/plain": [
       "<Figure size 480.75x216 with 2 Axes>"
      ]
     },
     "metadata": {},
     "output_type": "display_data"
    }
   ],
   "source": [
    "g = sns.FacetGrid(signature_summaries, col='molecule', hue='ksize', palette='magma')\n",
    "g.map(sns.distplot, 'n_mins')\n",
    "g.add_legend()"
   ]
  },
  {
   "cell_type": "code",
   "execution_count": 88,
   "metadata": {},
   "outputs": [
    {
     "data": {
      "text/html": [
       "<div>\n",
       "<style scoped>\n",
       "    .dataframe tbody tr th:only-of-type {\n",
       "        vertical-align: middle;\n",
       "    }\n",
       "\n",
       "    .dataframe tbody tr th {\n",
       "        vertical-align: top;\n",
       "    }\n",
       "\n",
       "    .dataframe thead th {\n",
       "        text-align: right;\n",
       "    }\n",
       "</style>\n",
       "<table border=\"1\" class=\"dataframe\">\n",
       "  <thead>\n",
       "    <tr style=\"text-align: right;\">\n",
       "      <th></th>\n",
       "      <th>ksize</th>\n",
       "      <th>molecule</th>\n",
       "      <th>n_mins</th>\n",
       "      <th>name</th>\n",
       "      <th>log10_n_mins</th>\n",
       "    </tr>\n",
       "  </thead>\n",
       "  <tbody>\n",
       "    <tr>\n",
       "      <th>0</th>\n",
       "      <td>21</td>\n",
       "      <td>protein</td>\n",
       "      <td>24889</td>\n",
       "      <td>cell_ontology_class:cardiac_muscle_cell|tissue:Heart|subtissue:LA/RA|free_annotation:nan|cell_id:G7-MAA100097-3_39_F-1-1</td>\n",
       "      <td>4.396007</td>\n",
       "    </tr>\n",
       "    <tr>\n",
       "      <th>1</th>\n",
       "      <td>21</td>\n",
       "      <td>DNA</td>\n",
       "      <td>14002</td>\n",
       "      <td>cell_ontology_class:cardiac_muscle_cell|tissue:Heart|subtissue:LA/RA|free_annotation:nan|cell_id:G7-MAA100097-3_39_F-1-1</td>\n",
       "      <td>4.146190</td>\n",
       "    </tr>\n",
       "    <tr>\n",
       "      <th>2</th>\n",
       "      <td>27</td>\n",
       "      <td>protein</td>\n",
       "      <td>27342</td>\n",
       "      <td>cell_ontology_class:cardiac_muscle_cell|tissue:Heart|subtissue:LA/RA|free_annotation:nan|cell_id:G7-MAA100097-3_39_F-1-1</td>\n",
       "      <td>4.436830</td>\n",
       "    </tr>\n",
       "    <tr>\n",
       "      <th>3</th>\n",
       "      <td>27</td>\n",
       "      <td>DNA</td>\n",
       "      <td>14704</td>\n",
       "      <td>cell_ontology_class:cardiac_muscle_cell|tissue:Heart|subtissue:LA/RA|free_annotation:nan|cell_id:G7-MAA100097-3_39_F-1-1</td>\n",
       "      <td>4.167435</td>\n",
       "    </tr>\n",
       "    <tr>\n",
       "      <th>4</th>\n",
       "      <td>33</td>\n",
       "      <td>protein</td>\n",
       "      <td>28107</td>\n",
       "      <td>cell_ontology_class:cardiac_muscle_cell|tissue:Heart|subtissue:LA/RA|free_annotation:nan|cell_id:G7-MAA100097-3_39_F-1-1</td>\n",
       "      <td>4.448814</td>\n",
       "    </tr>\n",
       "  </tbody>\n",
       "</table>\n",
       "</div>"
      ],
      "text/plain": [
       "   ksize molecule  n_mins  \\\n",
       "0     21  protein   24889   \n",
       "1     21      DNA   14002   \n",
       "2     27  protein   27342   \n",
       "3     27      DNA   14704   \n",
       "4     33  protein   28107   \n",
       "\n",
       "                                                                                                                       name  \\\n",
       "0  cell_ontology_class:cardiac_muscle_cell|tissue:Heart|subtissue:LA/RA|free_annotation:nan|cell_id:G7-MAA100097-3_39_F-1-1   \n",
       "1  cell_ontology_class:cardiac_muscle_cell|tissue:Heart|subtissue:LA/RA|free_annotation:nan|cell_id:G7-MAA100097-3_39_F-1-1   \n",
       "2  cell_ontology_class:cardiac_muscle_cell|tissue:Heart|subtissue:LA/RA|free_annotation:nan|cell_id:G7-MAA100097-3_39_F-1-1   \n",
       "3  cell_ontology_class:cardiac_muscle_cell|tissue:Heart|subtissue:LA/RA|free_annotation:nan|cell_id:G7-MAA100097-3_39_F-1-1   \n",
       "4  cell_ontology_class:cardiac_muscle_cell|tissue:Heart|subtissue:LA/RA|free_annotation:nan|cell_id:G7-MAA100097-3_39_F-1-1   \n",
       "\n",
       "   log10_n_mins  \n",
       "0      4.396007  \n",
       "1      4.146190  \n",
       "2      4.436830  \n",
       "3      4.167435  \n",
       "4      4.448814  "
      ]
     },
     "execution_count": 88,
     "metadata": {},
     "output_type": "execute_result"
    }
   ],
   "source": [
    "signature_summaries['log10_n_mins'] = np.log10(signature_summaries['n_mins'])\n",
    "signature_summaries.head()"
   ]
  },
  {
   "cell_type": "code",
   "execution_count": 92,
   "metadata": {},
   "outputs": [
    {
     "data": {
      "text/plain": [
       "<seaborn.axisgrid.FacetGrid at 0x7f1f6f5707b8>"
      ]
     },
     "execution_count": 92,
     "metadata": {},
     "output_type": "execute_result"
    },
    {
     "data": {
      "image/png": "[encoded data removed]",
      "text/plain": [
       "<Figure size 480.75x216 with 2 Axes>"
      ]
     },
     "metadata": {},
     "output_type": "display_data"
    }
   ],
   "source": [
    "g = sns.FacetGrid(signature_summaries, col='molecule', hue='ksize', palette='magma')\n",
    "g.map(sns.distplot, 'log10_n_mins')\n",
    "g.add_legend()"
   ]
  },
  {
   "cell_type": "code",
   "execution_count": 91,
   "metadata": {},
   "outputs": [
    {
     "data": {
      "text/plain": [
       "<seaborn.axisgrid.FacetGrid at 0x7f1f6eaaf208>"
      ]
     },
     "execution_count": 91,
     "metadata": {},
     "output_type": "execute_result"
    },
    {
     "data": {
      "image/png": "[encoded data removed]",
      "text/plain": [
       "<Figure size 935.625x216 with 4 Axes>"
      ]
     },
     "metadata": {},
     "output_type": "display_data"
    }
   ],
   "source": [
    "g = sns.FacetGrid(signature_summaries, col='ksize', hue='molecule')\n",
    "g.map(sns.distplot, 'log10_n_mins')\n",
    "g.add_legend()"
   ]
  },
  {
   "cell_type": "code",
   "execution_count": 94,
   "metadata": {},
   "outputs": [
    {
     "name": "stderr",
     "output_type": "stream",
     "text": [
      "/home/ubuntu/anaconda/lib/python3.6/site-packages/seaborn/categorical.py:3666: UserWarning: The `factorplot` function has been renamed to `catplot`. The original name will be removed in a future release. Please update your code. Note that the default `kind` in `factorplot` (`'point'`) has changed `'strip'` in `catplot`.\n",
      "  warnings.warn(msg)\n"
     ]
    },
    {
     "data": {
      "text/plain": [
       "<seaborn.axisgrid.FacetGrid at 0x7f1f6fd59dd8>"
      ]
     },
     "execution_count": 94,
     "metadata": {},
     "output_type": "execute_result"
    },
    {
     "data": {
      "image/png": "[encoded data removed]",
      "text/plain": [
       "<Figure size 431.625x360 with 1 Axes>"
      ]
     },
     "metadata": {},
     "output_type": "display_data"
    }
   ],
   "source": [
    "sns.factorplot(x='ksize', y='log10_n_mins', hue='molecule', data=signature_summaries)"
   ]
  },
  {
   "cell_type": "code",
   "execution_count": 95,
   "metadata": {},
   "outputs": [],
   "source": [
    "write_s3(signature_summaries, 's3://olgabot-maca/facs/signature-summaries.csv')"
   ]
  },
  {
   "cell_type": "code",
   "execution_count": 78,
   "metadata": {
    "scrolled": true
   },
   "outputs": [
    {
     "name": "stdout",
     "output_type": "stream",
     "text": [
      "(54912, 3)\n"
     ]
    },
    {
     "data": {
      "text/html": [
       "<div>\n",
       "<style scoped>\n",
       "    .dataframe tbody tr th:only-of-type {\n",
       "        vertical-align: middle;\n",
       "    }\n",
       "\n",
       "    .dataframe tbody tr th {\n",
       "        vertical-align: top;\n",
       "    }\n",
       "\n",
       "    .dataframe thead th {\n",
       "        text-align: right;\n",
       "    }\n",
       "</style>\n",
       "<table border=\"1\" class=\"dataframe\">\n",
       "  <thead>\n",
       "    <tr style=\"text-align: right;\">\n",
       "      <th></th>\n",
       "      <th>sample_id</th>\n",
       "      <th>R1</th>\n",
       "      <th>R2</th>\n",
       "    </tr>\n",
       "  </thead>\n",
       "  <tbody>\n",
       "    <tr>\n",
       "      <th>0</th>\n",
       "      <td>A1-B000126-3_39_F-1-1_S289</td>\n",
       "      <td>s3://czbiohub-maca/remux_data/170925_A00111_0066_AH3TKNDMXX/rawdata/A1-B000126-3_39_F-1-1_S289/A1-B000126-3_39_F-1-1_S289_R1_001.fastq.gz</td>\n",
       "      <td>s3://czbiohub-maca/remux_data/170925_A00111_0067_BH3M5YDMXX/rawdata/A1-B000126-3_39_F-1-1_S289/A1-B000126-3_39_F-1-1_S289_R2_001.fastq.gz</td>\n",
       "    </tr>\n",
       "    <tr>\n",
       "      <th>1</th>\n",
       "      <td>A1-B000127-3_38_F-1-1_S1</td>\n",
       "      <td>s3://czbiohub-maca/remux_data/170914_A00111_0058_AH3FYKDMXX/rawdata/A1-B000127-3_38_F-1-1_S1/A1-B000127-3_38_F-1-1_S1_R1_001.fastq.gz</td>\n",
       "      <td>s3://czbiohub-maca/remux_data/170914_A00111_0058_AH3FYKDMXX/rawdata/A1-B000127-3_38_F-1-1_S1/A1-B000127-3_38_F-1-1_S1_R2_001.fastq.gz</td>\n",
       "    </tr>\n",
       "    <tr>\n",
       "      <th>2</th>\n",
       "      <td>A1-B000167-3_56_F-1-1_S228</td>\n",
       "      <td>s3://czbiohub-maca/remux_data/170925_A00111_0066_AH3TKNDMXX/rawdata/A1-B000167-3_56_F-1-1_S228/A1-B000167-3_56_F-1-1_S228_R1_001.fastq.gz</td>\n",
       "      <td>s3://czbiohub-maca/remux_data/170925_A00111_0066_AH3TKNDMXX/rawdata/A1-B000167-3_56_F-1-1_S228/A1-B000167-3_56_F-1-1_S228_R2_001.fastq.gz</td>\n",
       "    </tr>\n",
       "    <tr>\n",
       "      <th>3</th>\n",
       "      <td>A1-B000168-3_57_F-1-1_S177</td>\n",
       "      <td>s3://czbiohub-maca/remux_data/170925_A00111_0067_BH3M5YDMXX/rawdata/A1-B000168-3_57_F-1-1_S177/A1-B000168-3_57_F-1-1_S177_R1_001.fastq.gz</td>\n",
       "      <td>s3://czbiohub-maca/remux_data/170925_A00111_0067_BH3M5YDMXX/rawdata/A1-B000168-3_57_F-1-1_S177/A1-B000168-3_57_F-1-1_S177_R2_001.fastq.gz</td>\n",
       "    </tr>\n",
       "    <tr>\n",
       "      <th>4</th>\n",
       "      <td>A1-B000412-3_56_F-1-1_S110</td>\n",
       "      <td>s3://czbiohub-maca/remux_data/170914_A00111_0058_AH3FYKDMXX/rawdata/A1-B000412-3_56_F-1-1_S110/A1-B000412-3_56_F-1-1_S110_R1_001.fastq.gz</td>\n",
       "      <td>s3://czbiohub-maca/remux_data/170914_A00111_0058_AH3FYKDMXX/rawdata/A1-B000412-3_56_F-1-1_S110/A1-B000412-3_56_F-1-1_S110_R2_001.fastq.gz</td>\n",
       "    </tr>\n",
       "  </tbody>\n",
       "</table>\n",
       "</div>"
      ],
      "text/plain": [
       "                    sample_id  \\\n",
       "0  A1-B000126-3_39_F-1-1_S289   \n",
       "1    A1-B000127-3_38_F-1-1_S1   \n",
       "2  A1-B000167-3_56_F-1-1_S228   \n",
       "3  A1-B000168-3_57_F-1-1_S177   \n",
       "4  A1-B000412-3_56_F-1-1_S110   \n",
       "\n",
       "                                                                                                                                          R1  \\\n",
       "0  s3://czbiohub-maca/remux_data/170925_A00111_0066_AH3TKNDMXX/rawdata/A1-B000126-3_39_F-1-1_S289/A1-B000126-3_39_F-1-1_S289_R1_001.fastq.gz   \n",
       "1      s3://czbiohub-maca/remux_data/170914_A00111_0058_AH3FYKDMXX/rawdata/A1-B000127-3_38_F-1-1_S1/A1-B000127-3_38_F-1-1_S1_R1_001.fastq.gz   \n",
       "2  s3://czbiohub-maca/remux_data/170925_A00111_0066_AH3TKNDMXX/rawdata/A1-B000167-3_56_F-1-1_S228/A1-B000167-3_56_F-1-1_S228_R1_001.fastq.gz   \n",
       "3  s3://czbiohub-maca/remux_data/170925_A00111_0067_BH3M5YDMXX/rawdata/A1-B000168-3_57_F-1-1_S177/A1-B000168-3_57_F-1-1_S177_R1_001.fastq.gz   \n",
       "4  s3://czbiohub-maca/remux_data/170914_A00111_0058_AH3FYKDMXX/rawdata/A1-B000412-3_56_F-1-1_S110/A1-B000412-3_56_F-1-1_S110_R1_001.fastq.gz   \n",
       "\n",
       "                                                                                                                                          R2  \n",
       "0  s3://czbiohub-maca/remux_data/170925_A00111_0067_BH3M5YDMXX/rawdata/A1-B000126-3_39_F-1-1_S289/A1-B000126-3_39_F-1-1_S289_R2_001.fastq.gz  \n",
       "1      s3://czbiohub-maca/remux_data/170914_A00111_0058_AH3FYKDMXX/rawdata/A1-B000127-3_38_F-1-1_S1/A1-B000127-3_38_F-1-1_S1_R2_001.fastq.gz  \n",
       "2  s3://czbiohub-maca/remux_data/170925_A00111_0066_AH3TKNDMXX/rawdata/A1-B000167-3_56_F-1-1_S228/A1-B000167-3_56_F-1-1_S228_R2_001.fastq.gz  \n",
       "3  s3://czbiohub-maca/remux_data/170925_A00111_0067_BH3M5YDMXX/rawdata/A1-B000168-3_57_F-1-1_S177/A1-B000168-3_57_F-1-1_S177_R2_001.fastq.gz  \n",
       "4  s3://czbiohub-maca/remux_data/170914_A00111_0058_AH3FYKDMXX/rawdata/A1-B000412-3_56_F-1-1_S110/A1-B000412-3_56_F-1-1_S110_R2_001.fastq.gz  "
      ]
     },
     "execution_count": 78,
     "metadata": {},
     "output_type": "execute_result"
    }
   ],
   "source": [
    "fastqs = pd.read_csv('s3://olgabot-maca/facs/fastqs.csv')\n",
    "print(fastqs.shape)\n",
    "fastqs.head()"
   ]
  },
  {
   "cell_type": "code",
   "execution_count": 100,
   "metadata": {},
   "outputs": [
    {
     "data": {
      "text/html": [
       "<div>\n",
       "<style scoped>\n",
       "    .dataframe tbody tr th:only-of-type {\n",
       "        vertical-align: middle;\n",
       "    }\n",
       "\n",
       "    .dataframe tbody tr th {\n",
       "        vertical-align: top;\n",
       "    }\n",
       "\n",
       "    .dataframe thead th {\n",
       "        text-align: right;\n",
       "    }\n",
       "</style>\n",
       "<table border=\"1\" class=\"dataframe\">\n",
       "  <thead>\n",
       "    <tr style=\"text-align: right;\">\n",
       "      <th>column</th>\n",
       "      <th>cell_ontology_class</th>\n",
       "      <th>free_annotation</th>\n",
       "      <th>subtissue</th>\n",
       "      <th>tissue</th>\n",
       "      <th>cell_ontology_free_annotation</th>\n",
       "    </tr>\n",
       "    <tr>\n",
       "      <th>cell_id</th>\n",
       "      <th></th>\n",
       "      <th></th>\n",
       "      <th></th>\n",
       "      <th></th>\n",
       "      <th></th>\n",
       "    </tr>\n",
       "  </thead>\n",
       "  <tbody>\n",
       "    <tr>\n",
       "      <th>G7-MAA100097-3_39_F-1-1</th>\n",
       "      <td>cardiac_muscle_cell</td>\n",
       "      <td>nan</td>\n",
       "      <td>LA</td>\n",
       "      <td>Heart</td>\n",
       "      <td>cardiac_muscle_cell (nan)</td>\n",
       "    </tr>\n",
       "    <tr>\n",
       "      <th>G7-MAA100097-3_39_F-1-1</th>\n",
       "      <td>cardiac_muscle_cell</td>\n",
       "      <td>nan</td>\n",
       "      <td>LA</td>\n",
       "      <td>Heart</td>\n",
       "      <td>cardiac_muscle_cell (nan)</td>\n",
       "    </tr>\n",
       "    <tr>\n",
       "      <th>G7-MAA100097-3_39_F-1-1</th>\n",
       "      <td>cardiac_muscle_cell</td>\n",
       "      <td>nan</td>\n",
       "      <td>LA</td>\n",
       "      <td>Heart</td>\n",
       "      <td>cardiac_muscle_cell (nan)</td>\n",
       "    </tr>\n",
       "    <tr>\n",
       "      <th>G7-MAA100097-3_39_F-1-1</th>\n",
       "      <td>cardiac_muscle_cell</td>\n",
       "      <td>nan</td>\n",
       "      <td>LA</td>\n",
       "      <td>Heart</td>\n",
       "      <td>cardiac_muscle_cell (nan)</td>\n",
       "    </tr>\n",
       "    <tr>\n",
       "      <th>G7-MAA100097-3_39_F-1-1</th>\n",
       "      <td>cardiac_muscle_cell</td>\n",
       "      <td>nan</td>\n",
       "      <td>LA</td>\n",
       "      <td>Heart</td>\n",
       "      <td>cardiac_muscle_cell (nan)</td>\n",
       "    </tr>\n",
       "  </tbody>\n",
       "</table>\n",
       "</div>"
      ],
      "text/plain": [
       "column                   cell_ontology_class free_annotation subtissue tissue  \\\n",
       "cell_id                                                                         \n",
       "G7-MAA100097-3_39_F-1-1  cardiac_muscle_cell             nan        LA  Heart   \n",
       "G7-MAA100097-3_39_F-1-1  cardiac_muscle_cell             nan        LA  Heart   \n",
       "G7-MAA100097-3_39_F-1-1  cardiac_muscle_cell             nan        LA  Heart   \n",
       "G7-MAA100097-3_39_F-1-1  cardiac_muscle_cell             nan        LA  Heart   \n",
       "G7-MAA100097-3_39_F-1-1  cardiac_muscle_cell             nan        LA  Heart   \n",
       "\n",
       "column                  cell_ontology_free_annotation  \n",
       "cell_id                                                \n",
       "G7-MAA100097-3_39_F-1-1     cardiac_muscle_cell (nan)  \n",
       "G7-MAA100097-3_39_F-1-1     cardiac_muscle_cell (nan)  \n",
       "G7-MAA100097-3_39_F-1-1     cardiac_muscle_cell (nan)  \n",
       "G7-MAA100097-3_39_F-1-1     cardiac_muscle_cell (nan)  \n",
       "G7-MAA100097-3_39_F-1-1     cardiac_muscle_cell (nan)  "
      ]
     },
     "execution_count": 100,
     "metadata": {},
     "output_type": "execute_result"
    }
   ],
   "source": [
    "cell_metadata_index.head()"
   ]
  },
  {
   "cell_type": "code",
   "execution_count": 103,
   "metadata": {},
   "outputs": [
    {
     "data": {
      "text/plain": [
       "7039"
      ]
     },
     "execution_count": 103,
     "metadata": {},
     "output_type": "execute_result"
    }
   ],
   "source": [
    "len(reads_per_cell)"
   ]
  },
  {
   "cell_type": "code",
   "execution_count": 106,
   "metadata": {},
   "outputs": [],
   "source": [
    "# reads_per_cell"
   ]
  },
  {
   "cell_type": "code",
   "execution_count": 104,
   "metadata": {},
   "outputs": [
    {
     "data": {
      "text/plain": [
       "263462"
      ]
     },
     "execution_count": 104,
     "metadata": {},
     "output_type": "execute_result"
    }
   ],
   "source": [
    "len(cell_metadata_index)"
   ]
  },
  {
   "cell_type": "code",
   "execution_count": 109,
   "metadata": {},
   "outputs": [
    {
     "name": "stdout",
     "output_type": "stream",
     "text": [
      "(43186, 6)\n"
     ]
    },
    {
     "data": {
      "text/html": [
       "<div>\n",
       "<style scoped>\n",
       "    .dataframe tbody tr th:only-of-type {\n",
       "        vertical-align: middle;\n",
       "    }\n",
       "\n",
       "    .dataframe tbody tr th {\n",
       "        vertical-align: top;\n",
       "    }\n",
       "\n",
       "    .dataframe thead th {\n",
       "        text-align: right;\n",
       "    }\n",
       "</style>\n",
       "<table border=\"1\" class=\"dataframe\">\n",
       "  <thead>\n",
       "    <tr style=\"text-align: right;\">\n",
       "      <th>column</th>\n",
       "      <th>cell_id</th>\n",
       "      <th>cell_ontology_class</th>\n",
       "      <th>free_annotation</th>\n",
       "      <th>subtissue</th>\n",
       "      <th>tissue</th>\n",
       "      <th>cell_ontology_free_annotation</th>\n",
       "    </tr>\n",
       "    <tr>\n",
       "      <th>level_0</th>\n",
       "      <th></th>\n",
       "      <th></th>\n",
       "      <th></th>\n",
       "      <th></th>\n",
       "      <th></th>\n",
       "      <th></th>\n",
       "    </tr>\n",
       "  </thead>\n",
       "  <tbody>\n",
       "    <tr>\n",
       "      <th>0</th>\n",
       "      <td>G7-MAA100097-3_39_F-1-1</td>\n",
       "      <td>cardiac_muscle_cell</td>\n",
       "      <td>nan</td>\n",
       "      <td>LA</td>\n",
       "      <td>Heart</td>\n",
       "      <td>cardiac_muscle_cell (nan)</td>\n",
       "    </tr>\n",
       "    <tr>\n",
       "      <th>8</th>\n",
       "      <td>O20-MAA000906-3_11_M-1-1</td>\n",
       "      <td>endothelial_cell</td>\n",
       "      <td>nan</td>\n",
       "      <td>nan</td>\n",
       "      <td>Aorta</td>\n",
       "      <td>endothelial_cell (nan)</td>\n",
       "    </tr>\n",
       "    <tr>\n",
       "      <th>16</th>\n",
       "      <td>I4-B001689-3_38_F-1-1</td>\n",
       "      <td>microglial_cell</td>\n",
       "      <td>nan</td>\n",
       "      <td>Hippocampus</td>\n",
       "      <td>Brain_Myeloid</td>\n",
       "      <td>microglial_cell (nan)</td>\n",
       "    </tr>\n",
       "    <tr>\n",
       "      <th>26</th>\n",
       "      <td>L14-MAA000652-3_10_M-1-1</td>\n",
       "      <td>precursor_B_cell</td>\n",
       "      <td>pre-B_cell_</td>\n",
       "      <td>B-cells</td>\n",
       "      <td>Marrow</td>\n",
       "      <td>precursor_B_cell (pre-B_cell_)</td>\n",
       "    </tr>\n",
       "    <tr>\n",
       "      <th>28</th>\n",
       "      <td>O6-B002777-3_39_F-1-1</td>\n",
       "      <td>keratinocyte</td>\n",
       "      <td>differentiated_keratinocyte</td>\n",
       "      <td>nan</td>\n",
       "      <td>Tongue</td>\n",
       "      <td>keratinocyte (differentiated_keratinocyte)</td>\n",
       "    </tr>\n",
       "  </tbody>\n",
       "</table>\n",
       "</div>"
      ],
      "text/plain": [
       "column                    cell_id  cell_ontology_class  \\\n",
       "level_0                                                  \n",
       "0         G7-MAA100097-3_39_F-1-1  cardiac_muscle_cell   \n",
       "8        O20-MAA000906-3_11_M-1-1     endothelial_cell   \n",
       "16          I4-B001689-3_38_F-1-1      microglial_cell   \n",
       "26       L14-MAA000652-3_10_M-1-1     precursor_B_cell   \n",
       "28          O6-B002777-3_39_F-1-1         keratinocyte   \n",
       "\n",
       "column               free_annotation    subtissue         tissue  \\\n",
       "level_0                                                            \n",
       "0                                nan           LA          Heart   \n",
       "8                                nan          nan          Aorta   \n",
       "16                               nan  Hippocampus  Brain_Myeloid   \n",
       "26                       pre-B_cell_      B-cells         Marrow   \n",
       "28       differentiated_keratinocyte          nan         Tongue   \n",
       "\n",
       "column                cell_ontology_free_annotation  \n",
       "level_0                                              \n",
       "0                         cardiac_muscle_cell (nan)  \n",
       "8                            endothelial_cell (nan)  \n",
       "16                            microglial_cell (nan)  \n",
       "26                   precursor_B_cell (pre-B_cell_)  \n",
       "28       keratinocyte (differentiated_keratinocyte)  "
      ]
     },
     "execution_count": 109,
     "metadata": {},
     "output_type": "execute_result"
    }
   ],
   "source": [
    "cell_metadata_nodups = cell_metadata.drop_duplicates()\n",
    "print(cell_metadata_nodups.shape)\n",
    "cell_metadata_nodups.head()"
   ]
  },
  {
   "cell_type": "code",
   "execution_count": 102,
   "metadata": {},
   "outputs": [
    {
     "ename": "ValueError",
     "evalue": "Length of values does not match length of index",
     "output_type": "error",
     "traceback": [
      "\u001b[0;31m---------------------------------------------------------------------------\u001b[0m",
      "\u001b[0;31mValueError\u001b[0m                                Traceback (most recent call last)",
      "\u001b[0;32m<ipython-input-102-c0127ec8c5e2>\u001b[0m in \u001b[0;36m<module>\u001b[0;34m()\u001b[0m\n\u001b[0;32m----> 1\u001b[0;31m \u001b[0mcell_metadata_index\u001b[0m\u001b[0;34m[\u001b[0m\u001b[0;34m'n_reads'\u001b[0m\u001b[0;34m]\u001b[0m \u001b[0;34m=\u001b[0m \u001b[0mreads_per_cell\u001b[0m\u001b[0;34m\u001b[0m\u001b[0m\n\u001b[0m\u001b[1;32m      2\u001b[0m \u001b[0mcell_metadata_index\u001b[0m\u001b[0;34m.\u001b[0m\u001b[0mhead\u001b[0m\u001b[0;34m(\u001b[0m\u001b[0;34m)\u001b[0m\u001b[0;34m\u001b[0m\u001b[0m\n",
      "\u001b[0;32m~/anaconda/lib/python3.6/site-packages/pandas/core/frame.py\u001b[0m in \u001b[0;36m__setitem__\u001b[0;34m(self, key, value)\u001b[0m\n\u001b[1;32m   3117\u001b[0m         \u001b[0;32melse\u001b[0m\u001b[0;34m:\u001b[0m\u001b[0;34m\u001b[0m\u001b[0m\n\u001b[1;32m   3118\u001b[0m             \u001b[0;31m# set column\u001b[0m\u001b[0;34m\u001b[0m\u001b[0;34m\u001b[0m\u001b[0m\n\u001b[0;32m-> 3119\u001b[0;31m             \u001b[0mself\u001b[0m\u001b[0;34m.\u001b[0m\u001b[0m_set_item\u001b[0m\u001b[0;34m(\u001b[0m\u001b[0mkey\u001b[0m\u001b[0;34m,\u001b[0m \u001b[0mvalue\u001b[0m\u001b[0;34m)\u001b[0m\u001b[0;34m\u001b[0m\u001b[0m\n\u001b[0m\u001b[1;32m   3120\u001b[0m \u001b[0;34m\u001b[0m\u001b[0m\n\u001b[1;32m   3121\u001b[0m     \u001b[0;32mdef\u001b[0m \u001b[0m_setitem_slice\u001b[0m\u001b[0;34m(\u001b[0m\u001b[0mself\u001b[0m\u001b[0;34m,\u001b[0m \u001b[0mkey\u001b[0m\u001b[0;34m,\u001b[0m \u001b[0mvalue\u001b[0m\u001b[0;34m)\u001b[0m\u001b[0;34m:\u001b[0m\u001b[0;34m\u001b[0m\u001b[0m\n",
      "\u001b[0;32m~/anaconda/lib/python3.6/site-packages/pandas/core/frame.py\u001b[0m in \u001b[0;36m_set_item\u001b[0;34m(self, key, value)\u001b[0m\n\u001b[1;32m   3192\u001b[0m \u001b[0;34m\u001b[0m\u001b[0m\n\u001b[1;32m   3193\u001b[0m         \u001b[0mself\u001b[0m\u001b[0;34m.\u001b[0m\u001b[0m_ensure_valid_index\u001b[0m\u001b[0;34m(\u001b[0m\u001b[0mvalue\u001b[0m\u001b[0;34m)\u001b[0m\u001b[0;34m\u001b[0m\u001b[0m\n\u001b[0;32m-> 3194\u001b[0;31m         \u001b[0mvalue\u001b[0m \u001b[0;34m=\u001b[0m \u001b[0mself\u001b[0m\u001b[0;34m.\u001b[0m\u001b[0m_sanitize_column\u001b[0m\u001b[0;34m(\u001b[0m\u001b[0mkey\u001b[0m\u001b[0;34m,\u001b[0m \u001b[0mvalue\u001b[0m\u001b[0;34m)\u001b[0m\u001b[0;34m\u001b[0m\u001b[0m\n\u001b[0m\u001b[1;32m   3195\u001b[0m         \u001b[0mNDFrame\u001b[0m\u001b[0;34m.\u001b[0m\u001b[0m_set_item\u001b[0m\u001b[0;34m(\u001b[0m\u001b[0mself\u001b[0m\u001b[0;34m,\u001b[0m \u001b[0mkey\u001b[0m\u001b[0;34m,\u001b[0m \u001b[0mvalue\u001b[0m\u001b[0;34m)\u001b[0m\u001b[0;34m\u001b[0m\u001b[0m\n\u001b[1;32m   3196\u001b[0m \u001b[0;34m\u001b[0m\u001b[0m\n",
      "\u001b[0;32m~/anaconda/lib/python3.6/site-packages/pandas/core/frame.py\u001b[0m in \u001b[0;36m_sanitize_column\u001b[0;34m(self, key, value, broadcast)\u001b[0m\n\u001b[1;32m   3389\u001b[0m \u001b[0;34m\u001b[0m\u001b[0m\n\u001b[1;32m   3390\u001b[0m             \u001b[0;31m# turn me into an ndarray\u001b[0m\u001b[0;34m\u001b[0m\u001b[0;34m\u001b[0m\u001b[0m\n\u001b[0;32m-> 3391\u001b[0;31m             \u001b[0mvalue\u001b[0m \u001b[0;34m=\u001b[0m \u001b[0m_sanitize_index\u001b[0m\u001b[0;34m(\u001b[0m\u001b[0mvalue\u001b[0m\u001b[0;34m,\u001b[0m \u001b[0mself\u001b[0m\u001b[0;34m.\u001b[0m\u001b[0mindex\u001b[0m\u001b[0;34m,\u001b[0m \u001b[0mcopy\u001b[0m\u001b[0;34m=\u001b[0m\u001b[0;32mFalse\u001b[0m\u001b[0;34m)\u001b[0m\u001b[0;34m\u001b[0m\u001b[0m\n\u001b[0m\u001b[1;32m   3392\u001b[0m             \u001b[0;32mif\u001b[0m \u001b[0;32mnot\u001b[0m \u001b[0misinstance\u001b[0m\u001b[0;34m(\u001b[0m\u001b[0mvalue\u001b[0m\u001b[0;34m,\u001b[0m \u001b[0;34m(\u001b[0m\u001b[0mnp\u001b[0m\u001b[0;34m.\u001b[0m\u001b[0mndarray\u001b[0m\u001b[0;34m,\u001b[0m \u001b[0mIndex\u001b[0m\u001b[0;34m)\u001b[0m\u001b[0;34m)\u001b[0m\u001b[0;34m:\u001b[0m\u001b[0;34m\u001b[0m\u001b[0m\n\u001b[1;32m   3393\u001b[0m                 \u001b[0;32mif\u001b[0m \u001b[0misinstance\u001b[0m\u001b[0;34m(\u001b[0m\u001b[0mvalue\u001b[0m\u001b[0;34m,\u001b[0m \u001b[0mlist\u001b[0m\u001b[0;34m)\u001b[0m \u001b[0;32mand\u001b[0m \u001b[0mlen\u001b[0m\u001b[0;34m(\u001b[0m\u001b[0mvalue\u001b[0m\u001b[0;34m)\u001b[0m \u001b[0;34m>\u001b[0m \u001b[0;36m0\u001b[0m\u001b[0;34m:\u001b[0m\u001b[0;34m\u001b[0m\u001b[0m\n",
      "\u001b[0;32m~/anaconda/lib/python3.6/site-packages/pandas/core/series.py\u001b[0m in \u001b[0;36m_sanitize_index\u001b[0;34m(data, index, copy)\u001b[0m\n\u001b[1;32m   3999\u001b[0m \u001b[0;34m\u001b[0m\u001b[0m\n\u001b[1;32m   4000\u001b[0m     \u001b[0;32mif\u001b[0m \u001b[0mlen\u001b[0m\u001b[0;34m(\u001b[0m\u001b[0mdata\u001b[0m\u001b[0;34m)\u001b[0m \u001b[0;34m!=\u001b[0m \u001b[0mlen\u001b[0m\u001b[0;34m(\u001b[0m\u001b[0mindex\u001b[0m\u001b[0;34m)\u001b[0m\u001b[0;34m:\u001b[0m\u001b[0;34m\u001b[0m\u001b[0m\n\u001b[0;32m-> 4001\u001b[0;31m         \u001b[0;32mraise\u001b[0m \u001b[0mValueError\u001b[0m\u001b[0;34m(\u001b[0m\u001b[0;34m'Length of values does not match length of '\u001b[0m \u001b[0;34m'index'\u001b[0m\u001b[0;34m)\u001b[0m\u001b[0;34m\u001b[0m\u001b[0m\n\u001b[0m\u001b[1;32m   4002\u001b[0m \u001b[0;34m\u001b[0m\u001b[0m\n\u001b[1;32m   4003\u001b[0m     \u001b[0;32mif\u001b[0m \u001b[0misinstance\u001b[0m\u001b[0;34m(\u001b[0m\u001b[0mdata\u001b[0m\u001b[0;34m,\u001b[0m \u001b[0mABCIndexClass\u001b[0m\u001b[0;34m)\u001b[0m \u001b[0;32mand\u001b[0m \u001b[0;32mnot\u001b[0m \u001b[0mcopy\u001b[0m\u001b[0;34m:\u001b[0m\u001b[0;34m\u001b[0m\u001b[0m\n",
      "\u001b[0;31mValueError\u001b[0m: Length of values does not match length of index"
     ]
    }
   ],
   "source": [
    "cell_metadata_index['n_reads'] = reads_per_cell\n",
    "cell_metadata_index.head()"
   ]
  },
  {
   "cell_type": "code",
   "execution_count": 108,
   "metadata": {},
   "outputs": [
    {
     "data": {
      "text/plain": [
       "['110339']"
      ]
     },
     "execution_count": 108,
     "metadata": {},
     "output_type": "execute_result"
    }
   ],
   "source": [
    "read1 = 's3://czbiohub-maca/remux_data/170925_A00111_0066_AH3TKNDMXX/rawdata/A1-B000126-3_39_F-1-1_S289/A1-B000126-3_39_F-1-1_S289_R1_001.fastq.gz'\n",
    "\n",
    "line_count = ! aws s3 cp $read1 - | wc -l\n",
    "line_count"
   ]
  },
  {
   "cell_type": "code",
   "execution_count": null,
   "metadata": {},
   "outputs": [],
   "source": [
    "n_lines = int(line_count[0])"
   ]
  },
  {
   "cell_type": "code",
   "execution_count": 112,
   "metadata": {},
   "outputs": [
    {
     "name": "stderr",
     "output_type": "stream",
     "text": [
      "4096it [6:18:35,  5.55s/it]"
     ]
    },
    {
     "ename": "ValueError",
     "evalue": "invalid literal for int() with base 10: \"download failed: s3://czbiohub-maca/remux_data/170914_A00111_0058_AH3FYKDMXX/rawdata/B12-B001960-3_56_F-1-1_S71/B12-B001960-3_56_F-1-1_S71_R1_001.fastq.gz to - HTTPSConnectionPool(host='czbiohub-maca",
     "output_type": "error",
     "traceback": [
      "\u001b[0;31m---------------------------------------------------------------------------\u001b[0m",
      "\u001b[0;31mValueError\u001b[0m                                Traceback (most recent call last)",
      "\u001b[0;32m<ipython-input-112-3bd65ea14bb1>\u001b[0m in \u001b[0;36m<module>\u001b[0;34m()\u001b[0m\n\u001b[1;32m      5\u001b[0m \u001b[0;32mfor\u001b[0m \u001b[0mcell_id\u001b[0m\u001b[0;34m,\u001b[0m \u001b[0mread1\u001b[0m \u001b[0;32min\u001b[0m \u001b[0mtqdm\u001b[0m\u001b[0;34m(\u001b[0m\u001b[0mzip\u001b[0m\u001b[0;34m(\u001b[0m\u001b[0mfastqs\u001b[0m\u001b[0;34m.\u001b[0m\u001b[0msample_id\u001b[0m\u001b[0;34m,\u001b[0m \u001b[0mfastqs\u001b[0m\u001b[0;34m.\u001b[0m\u001b[0mR1\u001b[0m\u001b[0;34m)\u001b[0m\u001b[0;34m)\u001b[0m\u001b[0;34m:\u001b[0m\u001b[0;34m\u001b[0m\u001b[0m\n\u001b[1;32m      6\u001b[0m     \u001b[0mline_count\u001b[0m \u001b[0;34m=\u001b[0m \u001b[0mget_ipython\u001b[0m\u001b[0;34m(\u001b[0m\u001b[0;34m)\u001b[0m\u001b[0;34m.\u001b[0m\u001b[0mgetoutput\u001b[0m\u001b[0;34m(\u001b[0m\u001b[0;34m'aws s3 cp $read1 - | wc -l'\u001b[0m\u001b[0;34m)\u001b[0m\u001b[0;34m\u001b[0m\u001b[0m\n\u001b[0;32m----> 7\u001b[0;31m     \u001b[0mn_lines\u001b[0m \u001b[0;34m=\u001b[0m \u001b[0mint\u001b[0m\u001b[0;34m(\u001b[0m\u001b[0mline_count\u001b[0m\u001b[0;34m[\u001b[0m\u001b[0;36m0\u001b[0m\u001b[0;34m]\u001b[0m\u001b[0;34m)\u001b[0m\u001b[0;34m\u001b[0m\u001b[0m\n\u001b[0m\u001b[1;32m      8\u001b[0m     \u001b[0mn_reads\u001b[0m \u001b[0;34m=\u001b[0m \u001b[0mn_lines\u001b[0m\u001b[0;34m/\u001b[0m\u001b[0mn_lines_per_read\u001b[0m\u001b[0;34m\u001b[0m\u001b[0m\n\u001b[1;32m      9\u001b[0m     \u001b[0mreads_per_cell\u001b[0m\u001b[0;34m[\u001b[0m\u001b[0mcell_id\u001b[0m\u001b[0;34m]\u001b[0m \u001b[0;34m=\u001b[0m \u001b[0mn_reads\u001b[0m\u001b[0;34m\u001b[0m\u001b[0m\n",
      "\u001b[0;31mValueError\u001b[0m: invalid literal for int() with base 10: \"download failed: s3://czbiohub-maca/remux_data/170914_A00111_0058_AH3FYKDMXX/rawdata/B12-B001960-3_56_F-1-1_S71/B12-B001960-3_56_F-1-1_S71_R1_001.fastq.gz to - HTTPSConnectionPool(host='czbiohub-maca"
     ]
    }
   ],
   "source": [
    "n_lines_per_read = 4\n",
    "\n",
    "reads_per_cell = pd.Series()\n",
    "\n",
    "for cell_id, read1 in tqdm(zip(fastqs.sample_id, fastqs.R1)):\n",
    "    line_count = ! aws s3 cp $read1 - | wc -l\n",
    "    n_lines = int(line_count[0])\n",
    "    n_reads = n_lines/n_lines_per_read\n",
    "    reads_per_cell[cell_id] = n_reads"
   ]
  },
  {
   "cell_type": "code",
   "execution_count": null,
   "metadata": {},
   "outputs": [],
   "source": []
  }
 ],
 "metadata": {
  "kernelspec": {
   "display_name": "Python 3",
   "language": "python",
   "name": "python3"
  },
  "language_info": {
   "codemirror_mode": {
    "name": "ipython",
    "version": 3
   },
   "file_extension": ".py",
   "mimetype": "text/x-python",
   "name": "python",
   "nbconvert_exporter": "python",
   "pygments_lexer": "ipython3",
   "version": "3.6.5"
  }
 },
 "nbformat": 4,
 "nbformat_minor": 2
}
