{
 "cells": [
  {
   "cell_type": "code",
   "execution_count": 1,
   "metadata": {},
   "outputs": [
    {
     "name": "stdout",
     "output_type": "stream",
     "text": [
      "/mnt/data\n"
     ]
    }
   ],
   "source": [
    "cd /mnt/data"
   ]
  },
  {
   "cell_type": "code",
   "execution_count": null,
   "metadata": {},
   "outputs": [],
   "source": [
    "! aws s3 ls s3://olgabot-maca/"
   ]
  },
  {
   "cell_type": "code",
   "execution_count": 2,
   "metadata": {},
   "outputs": [
    {
     "name": "stdout",
     "output_type": "stream",
     "text": [
      "                           PRE sourmash/\r\n",
      "                           PRE sourmash_compare/\r\n",
      "                           PRE sourmash_compute_all/\r\n",
      "                           PRE sourmash_dna-only_trim=false_scaled=100/\r\n",
      "                           PRE sourmash_dna-only_trim=false_scaled=1000/\r\n",
      "                           PRE sourmash_dna-only_trim=false_scaled=1100/\r\n",
      "                           PRE sourmash_dna-only_trim=false_scaled=1200/\r\n",
      "                           PRE sourmash_dna-only_trim=false_scaled=1300/\r\n",
      "                           PRE sourmash_dna-only_trim=false_scaled=1400/\r\n",
      "                           PRE sourmash_dna-only_trim=false_scaled=1500/\r\n",
      "                           PRE sourmash_dna-only_trim=false_scaled=1600/\r\n",
      "                           PRE sourmash_dna-only_trim=false_scaled=1700/\r\n",
      "                           PRE sourmash_dna-only_trim=false_scaled=1800/\r\n",
      "                           PRE sourmash_dna-only_trim=false_scaled=1900/\r\n",
      "                           PRE sourmash_dna-only_trim=false_scaled=200/\r\n",
      "                           PRE sourmash_dna-only_trim=false_scaled=2000/\r\n",
      "                           PRE sourmash_dna-only_trim=false_scaled=2500/\r\n",
      "                           PRE sourmash_dna-only_trim=false_scaled=300/\r\n",
      "                           PRE sourmash_dna-only_trim=false_scaled=3000/\r\n",
      "                           PRE sourmash_dna-only_trim=false_scaled=3500/\r\n",
      "                           PRE sourmash_dna-only_trim=false_scaled=400/\r\n",
      "                           PRE sourmash_dna-only_trim=false_scaled=4000/\r\n",
      "                           PRE sourmash_dna-only_trim=false_scaled=4500/\r\n",
      "                           PRE sourmash_dna-only_trim=false_scaled=500/\r\n",
      "                           PRE sourmash_dna-only_trim=false_scaled=5000/\r\n",
      "                           PRE sourmash_dna-only_trim=false_scaled=600/\r\n",
      "                           PRE sourmash_dna-only_trim=false_scaled=700/\r\n",
      "                           PRE sourmash_dna-only_trim=false_scaled=800/\r\n",
      "                           PRE sourmash_dna-only_trim=false_scaled=900/\r\n",
      "                           PRE sourmash_dna-only_trim=true_scaled=100/\r\n",
      "                           PRE sourmash_dna-only_trim=true_scaled=1000/\r\n",
      "                           PRE sourmash_dna-only_trim=true_scaled=1000_test_subset/\r\n",
      "                           PRE sourmash_dna-only_trim=true_scaled=1100/\r\n",
      "                           PRE sourmash_dna-only_trim=true_scaled=1200/\r\n",
      "                           PRE sourmash_dna-only_trim=true_scaled=1300/\r\n",
      "                           PRE sourmash_dna-only_trim=true_scaled=1400/\r\n",
      "                           PRE sourmash_dna-only_trim=true_scaled=1500/\r\n",
      "                           PRE sourmash_dna-only_trim=true_scaled=1600/\r\n",
      "                           PRE sourmash_dna-only_trim=true_scaled=1700/\r\n",
      "                           PRE sourmash_dna-only_trim=true_scaled=1800/\r\n",
      "                           PRE sourmash_dna-only_trim=true_scaled=1900/\r\n",
      "                           PRE sourmash_dna-only_trim=true_scaled=200/\r\n",
      "                           PRE sourmash_dna-only_trim=true_scaled=2000/\r\n",
      "                           PRE sourmash_dna-only_trim=true_scaled=2500/\r\n",
      "                           PRE sourmash_dna-only_trim=true_scaled=300/\r\n",
      "                           PRE sourmash_dna-only_trim=true_scaled=3000/\r\n",
      "                           PRE sourmash_dna-only_trim=true_scaled=3500/\r\n",
      "                           PRE sourmash_dna-only_trim=true_scaled=400/\r\n",
      "                           PRE sourmash_dna-only_trim=true_scaled=4000/\r\n",
      "                           PRE sourmash_dna-only_trim=true_scaled=4500/\r\n",
      "                           PRE sourmash_dna-only_trim=true_scaled=500/\r\n",
      "                           PRE sourmash_dna-only_trim=true_scaled=5000/\r\n",
      "                           PRE sourmash_dna-only_trim=true_scaled=600/\r\n",
      "                           PRE sourmash_dna-only_trim=true_scaled=700/\r\n",
      "                           PRE sourmash_dna-only_trim=true_scaled=800/\r\n",
      "                           PRE sourmash_dna-only_trim=true_scaled=900/\r\n",
      "                           PRE sourmash_failed_samples/\r\n",
      "                           PRE sourmash_index_test/\r\n",
      "                           PRE sourmash_trim=true_scaled=100/\r\n",
      "2018-06-11 18:16:08  133752351 aws_maca_remux.txt\r\n",
      "2018-06-11 18:16:08  133752351 aws_maca_remux_bytes.txt\r\n",
      "2018-06-11 18:16:11   39477616 aws_maca_remux_bytes_fastq.txt\r\n",
      "2018-06-11 18:16:08   39477616 aws_maca_remux_fastq.txt\r\n",
      "2018-06-11 18:16:08   16885502 fastqs.csv\r\n",
      "2018-06-11 18:16:10   22255940 fastqs_sourmash.csv\r\n"
     ]
    }
   ],
   "source": [
    "! aws s3 ls s3://olgabot-maca/facs/"
   ]
  },
  {
   "cell_type": "code",
   "execution_count": null,
   "metadata": {},
   "outputs": [],
   "source": [
    "! aws s3 sync --quiet s3://olgabot-maca/facs/sourmash_compute_all/ /mnt/data/maca-facs-sourmash_compute_all/"
   ]
  },
  {
   "cell_type": "code",
   "execution_count": null,
   "metadata": {},
   "outputs": [],
   "source": []
  }
 ],
 "metadata": {
  "kernelspec": {
   "display_name": "Python 3",
   "language": "python",
   "name": "python3"
  },
  "language_info": {
   "codemirror_mode": {
    "name": "ipython",
    "version": 3
   },
   "file_extension": ".py",
   "mimetype": "text/x-python",
   "name": "python",
   "nbconvert_exporter": "python",
   "pygments_lexer": "ipython3",
   "version": "3.6.5"
  }
 },
 "nbformat": 4,
 "nbformat_minor": 2
}
