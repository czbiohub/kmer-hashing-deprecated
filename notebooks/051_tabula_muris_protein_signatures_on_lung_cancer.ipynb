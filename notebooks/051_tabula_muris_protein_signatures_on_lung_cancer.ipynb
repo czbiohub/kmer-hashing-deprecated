{
 "cells": [
  {
   "cell_type": "code",
   "execution_count": 1,
   "metadata": {},
   "outputs": [
    {
     "name": "stdout",
     "output_type": "stream",
     "text": [
      "/mnt/data\n"
     ]
    }
   ],
   "source": [
    "cd /mnt/data"
   ]
  },
  {
   "cell_type": "code",
   "execution_count": 4,
   "metadata": {},
   "outputs": [
    {
     "name": "stdout",
     "output_type": "stream",
     "text": [
      "                           PRE czbiohub-tabula-muris/\r\n",
      "                           PRE facs/\r\n",
      "                           PRE lung_cancer/\r\n",
      "                           PRE multiqc_test_input/\r\n",
      "                           PRE multiqc_test_output/\r\n",
      "                           PRE sourmash/\r\n",
      "                           PRE star_htseq_test/\r\n",
      "                           PRE temp/\r\n",
      "                           PRE xarray-coordinates-to-variables/\r\n",
      "2018-06-11 18:15:42  133752351 aws_maca_remux.txt\r\n",
      "2018-06-11 18:15:42  133752351 aws_maca_remux_bytes.txt\r\n",
      "2018-06-11 18:15:42   39477616 aws_maca_remux_bytes_fastq.txt\r\n",
      "2018-06-11 18:15:42   39477616 aws_maca_remux_fastq.txt\r\n",
      "2018-06-11 18:15:47   16885502 fastqs.csv\r\n",
      "2018-06-11 18:15:47   22255940 fastqs_sourmash.csv\r\n",
      "2018-08-14 00:58:59   15848390 lung_cancer.h5ad\r\n",
      "2018-06-07 18:15:04      55810 sourmash\r\n",
      "2018-08-14 01:05:10   17210892 tabula-muris-1000cell-median-ranks.netcdf\r\n",
      "2018-08-14 01:05:11   79193769 tabula-muris-1000cell-spearman-correl.netcdf\r\n",
      "2018-08-10 18:37:55  144050532 tabula-muris-facs.h5ad\r\n",
      "2018-08-14 01:05:11   14900040 tabula-muris-facs_1000cell_subset.h5ad\r\n",
      "2018-08-14 01:05:12      71362 tabula-muris-sourmash-compare-cell-metadata.csv\r\n",
      "2018-08-14 01:05:11      53973 tabula-muris-sourmash-compare-experiment-metadata.csv\r\n",
      "2018-08-14 01:05:11 8313755293 tabula-muris-sourmash-compare.netcdf\r\n"
     ]
    }
   ],
   "source": [
    "! aws s3 ls s3://olgabot-maca/"
   ]
  },
  {
   "cell_type": "code",
   "execution_count": 2,
   "metadata": {},
   "outputs": [
    {
     "name": "stdout",
     "output_type": "stream",
     "text": [
      "                           PRE sourmash/\r\n",
      "                           PRE sourmash_compare/\r\n",
      "                           PRE sourmash_compute_all/\r\n",
      "                           PRE sourmash_dna-only_trim=false_scaled=100/\r\n",
      "                           PRE sourmash_dna-only_trim=false_scaled=1000/\r\n",
      "                           PRE sourmash_dna-only_trim=false_scaled=1100/\r\n",
      "                           PRE sourmash_dna-only_trim=false_scaled=1200/\r\n",
      "                           PRE sourmash_dna-only_trim=false_scaled=1300/\r\n",
      "                           PRE sourmash_dna-only_trim=false_scaled=1400/\r\n",
      "                           PRE sourmash_dna-only_trim=false_scaled=1500/\r\n",
      "                           PRE sourmash_dna-only_trim=false_scaled=1600/\r\n",
      "                           PRE sourmash_dna-only_trim=false_scaled=1700/\r\n",
      "                           PRE sourmash_dna-only_trim=false_scaled=1800/\r\n",
      "                           PRE sourmash_dna-only_trim=false_scaled=1900/\r\n",
      "                           PRE sourmash_dna-only_trim=false_scaled=200/\r\n",
      "                           PRE sourmash_dna-only_trim=false_scaled=2000/\r\n",
      "                           PRE sourmash_dna-only_trim=false_scaled=2500/\r\n",
      "                           PRE sourmash_dna-only_trim=false_scaled=300/\r\n",
      "                           PRE sourmash_dna-only_trim=false_scaled=3000/\r\n",
      "                           PRE sourmash_dna-only_trim=false_scaled=3500/\r\n",
      "                           PRE sourmash_dna-only_trim=false_scaled=400/\r\n",
      "                           PRE sourmash_dna-only_trim=false_scaled=4000/\r\n",
      "                           PRE sourmash_dna-only_trim=false_scaled=4500/\r\n",
      "                           PRE sourmash_dna-only_trim=false_scaled=500/\r\n",
      "                           PRE sourmash_dna-only_trim=false_scaled=5000/\r\n",
      "                           PRE sourmash_dna-only_trim=false_scaled=600/\r\n",
      "                           PRE sourmash_dna-only_trim=false_scaled=700/\r\n",
      "                           PRE sourmash_dna-only_trim=false_scaled=800/\r\n",
      "                           PRE sourmash_dna-only_trim=false_scaled=900/\r\n",
      "                           PRE sourmash_dna-only_trim=true_scaled=100/\r\n",
      "                           PRE sourmash_dna-only_trim=true_scaled=1000/\r\n",
      "                           PRE sourmash_dna-only_trim=true_scaled=1000_test_subset/\r\n",
      "                           PRE sourmash_dna-only_trim=true_scaled=1100/\r\n",
      "                           PRE sourmash_dna-only_trim=true_scaled=1200/\r\n",
      "                           PRE sourmash_dna-only_trim=true_scaled=1300/\r\n",
      "                           PRE sourmash_dna-only_trim=true_scaled=1400/\r\n",
      "                           PRE sourmash_dna-only_trim=true_scaled=1500/\r\n",
      "                           PRE sourmash_dna-only_trim=true_scaled=1600/\r\n",
      "                           PRE sourmash_dna-only_trim=true_scaled=1700/\r\n",
      "                           PRE sourmash_dna-only_trim=true_scaled=1800/\r\n",
      "                           PRE sourmash_dna-only_trim=true_scaled=1900/\r\n",
      "                           PRE sourmash_dna-only_trim=true_scaled=200/\r\n",
      "                           PRE sourmash_dna-only_trim=true_scaled=2000/\r\n",
      "                           PRE sourmash_dna-only_trim=true_scaled=2500/\r\n",
      "                           PRE sourmash_dna-only_trim=true_scaled=300/\r\n",
      "                           PRE sourmash_dna-only_trim=true_scaled=3000/\r\n",
      "                           PRE sourmash_dna-only_trim=true_scaled=3500/\r\n",
      "                           PRE sourmash_dna-only_trim=true_scaled=400/\r\n",
      "                           PRE sourmash_dna-only_trim=true_scaled=4000/\r\n",
      "                           PRE sourmash_dna-only_trim=true_scaled=4500/\r\n",
      "                           PRE sourmash_dna-only_trim=true_scaled=500/\r\n",
      "                           PRE sourmash_dna-only_trim=true_scaled=5000/\r\n",
      "                           PRE sourmash_dna-only_trim=true_scaled=600/\r\n",
      "                           PRE sourmash_dna-only_trim=true_scaled=700/\r\n",
      "                           PRE sourmash_dna-only_trim=true_scaled=800/\r\n",
      "                           PRE sourmash_dna-only_trim=true_scaled=900/\r\n",
      "                           PRE sourmash_failed_samples/\r\n",
      "                           PRE sourmash_index_test/\r\n",
      "                           PRE sourmash_trim=true_scaled=100/\r\n",
      "2018-06-11 18:16:08  133752351 aws_maca_remux.txt\r\n",
      "2018-06-11 18:16:08  133752351 aws_maca_remux_bytes.txt\r\n",
      "2018-06-11 18:16:11   39477616 aws_maca_remux_bytes_fastq.txt\r\n",
      "2018-06-11 18:16:08   39477616 aws_maca_remux_fastq.txt\r\n",
      "2018-06-11 18:16:08   16885502 fastqs.csv\r\n",
      "2018-06-11 18:16:10   22255940 fastqs_sourmash.csv\r\n"
     ]
    }
   ],
   "source": [
    "! aws s3 ls s3://olgabot-maca/facs/"
   ]
  },
  {
   "cell_type": "code",
   "execution_count": 3,
   "metadata": {},
   "outputs": [],
   "source": [
    "! aws s3 sync --quiet s3://olgabot-maca/facs/sourmash_compute_all/ /mnt/data/maca-facs-sourmash_compute_all/"
   ]
  },
  {
   "cell_type": "code",
   "execution_count": 5,
   "metadata": {},
   "outputs": [
    {
     "name": "stdout",
     "output_type": "stream",
     "text": [
      "                           PRE sourmash/\r\n",
      "                           PRE sourmash_v2/\r\n",
      "                           PRE sourmash_v3/\r\n",
      "                           PRE sourmash_v3_compare/\r\n",
      "2018-08-14 19:19:20    3499020 sample_metadata.csv\r\n",
      "2018-08-15 18:20:47    2909856 sample_metadata_v2.csv\r\n"
     ]
    }
   ],
   "source": [
    "! aws s3 ls s3://olgabot-maca/lung_cancer/"
   ]
  },
  {
   "cell_type": "code",
   "execution_count": 8,
   "metadata": {},
   "outputs": [
    {
     "name": "stdout",
     "output_type": "stream",
     "text": [
      "2018-08-08 20:24:48     692789 P9_B003511_S273.signature\r\n",
      "2018-08-08 20:36:13    2663452 P9_B003527_S189.signature\r\n",
      "2018-08-08 18:43:48     956118 P9_B003528_S69.signature\r\n",
      "2018-08-08 18:26:11    4375203 P9_B003570_S153.signature\r\n",
      "2018-08-08 18:31:44     293014 P9_B003573_S237.signature\r\n",
      "2018-08-08 18:21:28     566190 P9_B003586_S57.signature\r\n",
      "2018-08-08 20:57:12     631524 P9_B003588_S105.signature\r\n",
      "\r\n",
      "Total Objects: 5054\r\n",
      "   Total Size: 8751611800\r\n"
     ]
    }
   ],
   "source": [
    "! aws s3 ls --summarize s3://olgabot-maca/lung_cancer/sourmash_v3/ | tail"
   ]
  },
  {
   "cell_type": "code",
   "execution_count": 9,
   "metadata": {},
   "outputs": [
    {
     "name": "stdout",
     "output_type": "stream",
     "text": [
      "2018-06-13 21:52:07      27929 P9_B003511_S273.signature\r\n",
      "2018-06-13 23:23:54      27240 P9_B003527_S189.signature\r\n",
      "2018-06-13 22:55:35      27662 P9_B003528_S69.signature\r\n",
      "2018-06-14 05:49:08      27017 P9_B003570_S153.signature\r\n",
      "2018-06-13 22:52:24      28603 P9_B003573_S237.signature\r\n",
      "2018-06-13 23:11:04      28101 P9_B003586_S57.signature\r\n",
      "2018-06-14 05:31:39      28123 P9_B003588_S105.signature\r\n",
      "\r\n",
      "Total Objects: 4772\r\n",
      "   Total Size: 132869027\r\n"
     ]
    }
   ],
   "source": [
    "! aws s3 ls --summarize s3://olgabot-maca/lung_cancer/sourmash_v2/  |tail"
   ]
  },
  {
   "cell_type": "code",
   "execution_count": 7,
   "metadata": {},
   "outputs": [],
   "source": [
    "! aws s3 sync --quiet s3://olgabot-maca/lung_cancer/sourmash_v3/ /mnt/data/lung_cancer_sourmash_v3/"
   ]
  },
  {
   "cell_type": "code",
   "execution_count": 10,
   "metadata": {},
   "outputs": [
    {
     "name": "stdout",
     "output_type": "stream",
     "text": [
      "\r\n",
      "sourmash <command> [<args>]\r\n",
      "\r\n",
      "** Commands include:\r\n",
      "\r\n",
      "compute <filenames>         Compute MinHash signatures for sequences in files.\r\n",
      "compare <filenames.sig>     Compute similarity matrix for multiple signatures.\r\n",
      "search <query> <against>    Search a signature against a list of signatures.\r\n",
      "plot <matrix>               Plot a distance matrix made by 'compare'.\r\n",
      "gather                      Search a metagenome signature for multiple\r\n",
      "                                 non-overlapping matches.\r\n",
      "\r\n",
      "** Taxonomic classification utilities:\r\n",
      "\r\n",
      "   Run 'sourmash lca' for the taxonomic classification routines.\r\n",
      "\r\n",
      "** Sequence Bloom Tree (SBT) utilities:\r\n",
      "\r\n",
      "index                   Index a collection of signatures for fast searching.\r\n",
      "sbt_combine             Combine multiple SBTs into a new one.\r\n",
      "categorize              Identify best matches for many signatures using an SBT.\r\n",
      "watch                   Classify a stream of sequences.\r\n",
      "\r\n",
      "** Other information:\r\n",
      "\r\n",
      "info                        Sourmash version and other information.\r\n",
      "\r\n",
      "Use '-h' to get subcommand-specific help, e.g.\r\n",
      "\r\n",
      "sourmash compute -h\r\n",
      "\r\n",
      "** Documentation is available at https://sourmash.readthedocs.io/\r\n",
      "\r\n"
     ]
    }
   ],
   "source": [
    "! sourmash"
   ]
  },
  {
   "cell_type": "code",
   "execution_count": 13,
   "metadata": {},
   "outputs": [
    {
     "name": "stdout",
     "output_type": "stream",
     "text": [
      "usage: sourmash [-h] [-q] [-k KSIZE] [-d N_CHILDREN] [--traverse-directory]\r\n",
      "                [--append] [-x BF_SIZE] [-f] [-s SPARSENESS] [--protein]\r\n",
      "                [--no-protein] [--dna] [--no-dna]\r\n",
      "                sbt_name signatures [signatures ...]\r\n",
      "\r\n",
      "positional arguments:\r\n",
      "  sbt_name              name to save SBT into\r\n",
      "  signatures            signatures to load into SBT\r\n",
      "\r\n",
      "optional arguments:\r\n",
      "  -h, --help            show this help message and exit\r\n",
      "  -q, --quiet           suppress non-error output\r\n",
      "  -k KSIZE, --ksize KSIZE\r\n",
      "                        k-mer size for which to build the SBT.\r\n",
      "  -d N_CHILDREN, --n_children N_CHILDREN\r\n",
      "                        Number of children for internal nodes\r\n",
      "  --traverse-directory  load all signatures underneath this directory.\r\n",
      "  --append              add signatures to an existing SBT.\r\n",
      "  -x BF_SIZE, --bf-size BF_SIZE\r\n",
      "                        Bloom filter size used for internal nodes.\r\n",
      "  -f, --force           Try loading all files with --traverse-directory\r\n",
      "  -s SPARSENESS, --sparseness SPARSENESS\r\n",
      "                        What percentage of internal nodes will not be saved.\r\n",
      "                        Ranges from 0.0 (save all nodes) to 1.0 (no nodes\r\n",
      "                        saved)\r\n",
      "  --protein             choose a protein signature (default: False)\r\n",
      "  --no-protein          do not choose a protein signature\r\n",
      "  --dna                 choose a DNA signature (default: True)\r\n",
      "  --no-dna              do not choose a DNA signature\r\n"
     ]
    }
   ],
   "source": [
    "! sourmash index  -h"
   ]
  },
  {
   "cell_type": "code",
   "execution_count": 14,
   "metadata": {},
   "outputs": [],
   "source": [
    "!mkdir /mnt/data/sourmash_databases"
   ]
  },
  {
   "cell_type": "code",
   "execution_count": null,
   "metadata": {},
   "outputs": [],
   "source": [
    "%%bash\n",
    "\n",
    "time sourmash index \\\n",
    "    --ksize 21 \\\n",
    "    --dna \\\n",
    "    --traverse-directory \\\n",
    "    /mnt/data/sourmash_databases/tabula-muris-dna-k21 \\\n",
    "    /mnt/data/maca-facs-sourmash_compute_all/"
   ]
  },
  {
   "cell_type": "code",
   "execution_count": null,
   "metadata": {},
   "outputs": [],
   "source": [
    "%%bash\n",
    "\n",
    "time sourmash index \\\n",
    "    --ksize 21 \\\n",
    "    --protein \\\n",
    "    --traverse-directory \\\n",
    "    /mnt/data/sourmash_databases/tabula-muris-protein-k21 \\\n",
    "    /mnt/data/maca-facs-sourmash_compute_all/"
   ]
  },
  {
   "cell_type": "code",
   "execution_count": 20,
   "metadata": {},
   "outputs": [
    {
     "name": "stdout",
     "output_type": "stream",
     "text": [
      "total 13M\r\n",
      "drwxrwxr-x  3 ubuntu ubuntu 4.0K Sep  8 18:05 \u001b[0m\u001b[01;34m.\u001b[0m/\r\n",
      "drwxr-xr-x 12 ubuntu root   4.0K Sep 10 19:03 \u001b[01;34m..\u001b[0m/\r\n",
      "drwxrwxr-x  2 ubuntu ubuntu 3.4M Sep  8 18:05 \u001b[01;34m.sbt.tabula-muris-dna-k21\u001b[0m/\r\n",
      "-rw-rw-r--  1 ubuntu ubuntu 8.8M Sep  8 18:05 tabula-muris-dna-k21.sbt.json\r\n"
     ]
    }
   ],
   "source": [
    "ls -lha /mnt/data/sourmash_databases/"
   ]
  },
  {
   "cell_type": "code",
   "execution_count": 16,
   "metadata": {},
   "outputs": [
    {
     "name": "stdout",
     "output_type": "stream",
     "text": [
      "usage: sourmash [-h] [--traverse-directory] [-q] [--threshold THRESHOLD]\r\n",
      "                [--save-matches SAVE_MATCHES] [--best-only] [-n NUM_RESULTS]\r\n",
      "                [--containment] [--scaled SCALED] [-o OUTPUT] [-k KSIZE]\r\n",
      "                [--protein] [--no-protein] [--dna] [--no-dna]\r\n",
      "                query databases [databases ...]\r\n",
      "sourmash: error: the following arguments are required: query, databases\r\n"
     ]
    }
   ],
   "source": [
    "! sourmash search"
   ]
  },
  {
   "cell_type": "code",
   "execution_count": 17,
   "metadata": {},
   "outputs": [
    {
     "name": "stdout",
     "output_type": "stream",
     "text": [
      "\u001b[0m\u001b[01;34m10X_P7_8\u001b[0m/\r\n",
      "\u001b[01;34mlost+found\u001b[0m/\r\n",
      "\u001b[01;34mlung_cancer_sourmash_v3\u001b[0m/\r\n",
      "\u001b[01;34mmaca-facs-sourmash_compute_all\u001b[0m/\r\n",
      "\u001b[01;34msourmash_databases\u001b[0m/\r\n",
      "\u001b[01;34mtick\u001b[0m/\r\n",
      "\u001b[01;34mtick0\u001b[0m/\r\n",
      "tick0.fake.genome.fasta.sig\r\n",
      "tick0.fake_ref_transcriptome.fasta.sig\r\n",
      "tick0.hq.fastq.gz.sig\r\n",
      "tick0.orphans.fasta.sig\r\n",
      "tick0.transcriptome.fasta.sig\r\n",
      "\u001b[01;34mtick1\u001b[0m/\r\n",
      "tick1.fake.genome.fasta.sig\r\n",
      "tick1.fake_ref_transcriptome.fasta.sig\r\n",
      "tick1.hq.fastq.gz.sig\r\n",
      "tick1.orphans.fasta.sig\r\n",
      "tick1.transcriptome.fasta.sig\r\n",
      "\u001b[01;34mtick2\u001b[0m/\r\n",
      "tick2.fake.genome.fasta.sig\r\n",
      "tick2.fake_ref_transcriptome.fasta.sig\r\n",
      "tick2.hq.fastq.gz.sig\r\n",
      "tick2.orphans.fasta.sig\r\n",
      "tick2.transcriptome.fasta.sig\r\n",
      "\u001b[01;34mtick4\u001b[0m/\r\n",
      "tick4.fake.genome.fasta.sig\r\n",
      "tick4.fake_ref_transcriptome.fasta.sig\r\n",
      "tick4.hq.fastq.gz.sig\r\n",
      "tick4.orphans.fasta.sig\r\n",
      "tick4.transcriptome.fasta.sig\r\n",
      "tick-fake_genome-k21-dna.csv\r\n",
      "tick-fake_genome-k21-protein.csv\r\n",
      "tick-fake_genome-k27-dna.csv\r\n",
      "tick-fake_genome-k27-protein.csv\r\n",
      "tick-fake_genome-k33-dna.csv\r\n",
      "tick-fake_genome-k33-protein.csv\r\n",
      "tick-fake_genome-k51-dna.csv\r\n",
      "tick-fake_genome-k51-protein.csv\r\n",
      "tick-fake_ref_transcriptome-k21-dna.csv\r\n",
      "tick-fake_ref_transcriptome-k21-protein.csv\r\n",
      "tick-fake_ref_transcriptome-k27-dna.csv\r\n",
      "tick-fake_ref_transcriptome-k27-protein.csv\r\n",
      "tick-fake_ref_transcriptome-k33-dna.csv\r\n",
      "tick-fake_ref_transcriptome-k33-protein.csv\r\n",
      "tick-fake_ref_transcriptome-k51-dna.csv\r\n",
      "tick-fake_ref_transcriptome-k51-protein.csv\r\n",
      "tick-hq-k21-dna.csv\r\n",
      "tick-hq-k21-protein.csv\r\n",
      "tick-hq-k27-dna.csv\r\n",
      "tick-hq-k27-protein.csv\r\n",
      "tick-hq-k33-dna.csv\r\n",
      "tick-hq-k33-protein.csv\r\n",
      "tick-hq-k51-dna.csv\r\n",
      "tick-hq-k51-protein.csv\r\n",
      "tick-orphans-k21-dna.csv\r\n",
      "tick-orphans-k21-protein.csv\r\n",
      "tick-orphans-k27-dna.csv\r\n",
      "tick-orphans-k27-protein.csv\r\n",
      "tick-orphans-k33-dna.csv\r\n",
      "tick-orphans-k33-protein.csv\r\n",
      "tick-orphans-k51-dna.csv\r\n",
      "tick-orphans-k51-protein.csv\r\n",
      "tick-transcriptome-k21-dna.csv\r\n",
      "tick-transcriptome-k21-protein.csv\r\n",
      "tick-transcriptome-k27-dna.csv\r\n",
      "tick-transcriptome-k27-protein.csv\r\n",
      "tick-transcriptome-k33-dna.csv\r\n",
      "tick-transcriptome-k33-protein.csv\r\n",
      "tick-transcriptome-k51-dna.csv\r\n",
      "tick-transcriptome-k51-protein.csv\r\n"
     ]
    }
   ],
   "source": [
    "ls"
   ]
  },
  {
   "cell_type": "code",
   "execution_count": null,
   "metadata": {},
   "outputs": [],
   "source": [
    "range(3)"
   ]
  },
  {
   "cell_type": "code",
   "execution_count": null,
   "metadata": {},
   "outputs": [],
   "source": []
  }
 ],
 "metadata": {
  "kernelspec": {
   "display_name": "Python 3",
   "language": "python",
   "name": "python3"
  },
  "language_info": {
   "codemirror_mode": {
    "name": "ipython",
    "version": 3
   },
   "file_extension": ".py",
   "mimetype": "text/x-python",
   "name": "python",
   "nbconvert_exporter": "python",
   "pygments_lexer": "ipython3",
   "version": "3.6.5"
  }
 },
 "nbformat": 4,
 "nbformat_minor": 2
}
