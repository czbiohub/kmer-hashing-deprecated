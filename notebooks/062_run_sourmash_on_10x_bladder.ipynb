{
 "cells": [
  {
   "cell_type": "code",
   "execution_count": 1,
   "metadata": {},
   "outputs": [
    {
     "name": "stdout",
     "output_type": "stream",
     "text": [
      "/mnt/data\n"
     ]
    }
   ],
   "source": [
    "cd /mnt/data"
   ]
  },
  {
   "cell_type": "code",
   "execution_count": 6,
   "metadata": {},
   "outputs": [],
   "source": [
    "tenx_channel = '10X_P4_3'"
   ]
  },
  {
   "cell_type": "code",
   "execution_count": 7,
   "metadata": {},
   "outputs": [],
   "source": [
    "! aws s3 sync s3://czbiohub-maca/10x_data/$tenx_channel/ $tenx_channel/"
   ]
  },
  {
   "cell_type": "code",
   "execution_count": 8,
   "metadata": {},
   "outputs": [
    {
     "name": "stdout",
     "output_type": "stream",
     "text": [
      "total 27G\r\n",
      "drwxrwxr-x  2 ubuntu ubuntu 4.0K Sep 13 23:26 \u001b[0m\u001b[01;34m.\u001b[0m/\r\n",
      "drwxr-xr-x 25 ubuntu root   4.0K Sep 21 01:30 \u001b[01;34m..\u001b[0m/\r\n",
      "-rw-rw-r--  1 ubuntu ubuntu  15M Aug 22  2017 10X_P4_3.mus.cell-gene.csv\r\n",
      "-rw-rw-r--  1 ubuntu ubuntu  14G Aug 22  2017 \u001b[01;31m10X_P4_3.tgz\u001b[0m\r\n",
      "-rw-rw-r--  1 ubuntu ubuntu 2.8K Aug 31  2017 barcodes.tsv\r\n",
      "-rw-rw-r--  1 ubuntu ubuntu 340K Aug 31  2017 genes.tsv\r\n",
      "-rw-rw-r--  1 ubuntu ubuntu 5.4M Aug 31  2017 matrix.mtx\r\n",
      "-rw-rw-r--  1 ubuntu ubuntu  615 Aug 22  2017 metrics_summary.csv\r\n",
      "-rw-rw-r--  1 ubuntu ubuntu  14G Jun 19 02:34 possorted_genome_bam.bam\r\n",
      "-rw-rw-r--  1 ubuntu ubuntu 4.7M Jun 19 02:34 possorted_genome_bam.bam.bai\r\n",
      "-rw-rw-r--  1 ubuntu ubuntu 7.4M Sep 15  2017 raw_gene_bc_matrices_h5.h5\r\n",
      "-rw-rw-r--  1 ubuntu ubuntu 2.6M Aug 22  2017 web_summary.html\r\n"
     ]
    }
   ],
   "source": [
    "ls -lha /mnt/data/$tenx_channel/"
   ]
  },
  {
   "cell_type": "code",
   "execution_count": 9,
   "metadata": {},
   "outputs": [],
   "source": [
    "ksizes = 21, 27, 33, 51\n",
    "protein = True\n",
    "dna = True\n",
    "seed = 42\n",
    "track_abundance = True\n",
    "scaled = 1000\n",
    "num_hashes = 0\n",
    "input_is_protein = False \n",
    "check_sequence = False"
   ]
  },
  {
   "cell_type": "code",
   "execution_count": 10,
   "metadata": {},
   "outputs": [
    {
     "name": "stderr",
     "output_type": "stream",
     "text": [
      "/home/ubuntu/anaconda/lib/python3.6/importlib/_bootstrap.py:219: RuntimeWarning: numpy.dtype size changed, may indicate binary incompatibility. Expected 96, got 88\n",
      "  return f(*args, **kwds)\n",
      "/home/ubuntu/anaconda/lib/python3.6/importlib/_bootstrap.py:219: RuntimeWarning: numpy.dtype size changed, may indicate binary incompatibility. Expected 96, got 88\n",
      "  return f(*args, **kwds)\n"
     ]
    },
    {
     "data": {
      "text/plain": [
       "148"
      ]
     },
     "execution_count": 10,
     "metadata": {},
     "output_type": "execute_result"
    }
   ],
   "source": [
    "import pandas as pd\n",
    "barcodes = set(pd.read_csv(f'/mnt/data/{tenx_channel}/barcodes.tsv', squeeze=True))\n",
    "genes = set(pd.read_csv(f'/mnt/data/{tenx_channel}/genes.tsv', squeeze=True))\n",
    "len(barcodes)"
   ]
  },
  {
   "cell_type": "code",
   "execution_count": 13,
   "metadata": {},
   "outputs": [],
   "source": [
    "from sourmash import DEFAULT_SEED, MinHash, load_sbt_index, create_sbt_index\n",
    "from sourmash import signature as sig\n",
    "from sourmash import sourmash_args\n",
    "from sourmash.logging import notify, error, print_results, set_quiet\n",
    "from sourmash.sbtmh import SearchMinHashesFindBest, SigLeaf\n",
    "\n",
    "from sourmash.sourmash_args import DEFAULT_LOAD_K\n",
    "DEFAULT_COMPUTE_K = '21,31,51'\n",
    "\n",
    "DEFAULT_N = 500\n",
    "WATERMARK_SIZE = 10000\n",
    " \n",
    "def make_minhashes():\n",
    "    # one minhash for each ksize\n",
    "    Elist = []\n",
    "    for k in ksizes:\n",
    "        if protein:\n",
    "            E = MinHash(ksize=k, n=num_hashes,\n",
    "                        is_protein=True,\n",
    "                        track_abundance=track_abundance,\n",
    "                        scaled=scaled,\n",
    "                        seed=seed)\n",
    "            Elist.append(E)\n",
    "        if dna:\n",
    "            E = MinHash(ksize=k, n=num_hashes,\n",
    "                        is_protein=False,\n",
    "                        track_abundance=track_abundance,\n",
    "                        scaled=scaled,\n",
    "                        seed=seed)\n",
    "            Elist.append(E)\n",
    "    return Elist\n",
    "\n",
    "def add_seq(Elist, seq, input_is_protein, check_sequence):\n",
    "    for E in Elist:\n",
    "        if input_is_protein:\n",
    "            E.add_protein(seq)\n",
    "        else:\n",
    "            E.add_sequence(seq, not check_sequence)\n",
    "\n",
    "def build_siglist(Elist, filename, name=None):\n",
    "    return [ sig.SourmashSignature(E, filename=filename,\n",
    "                                   name=name) for E in Elist ]\n",
    "\n",
    "def save_siglist(siglist, output_fp, filename=None):\n",
    "    # save!\n",
    "    if output_fp:\n",
    "        sig.save_signatures(siglist, args.output)\n",
    "    else:\n",
    "        if filename is None:\n",
    "            raise Exception(\"internal error, filename is None\")\n",
    "        with open(filename, 'w') as fp:\n",
    "            sig.save_signatures(siglist, fp)\n",
    "    notify('saved {} signature(s). Note: signature license is CC0.'.format(len(siglist)))"
   ]
  },
  {
   "cell_type": "code",
   "execution_count": 14,
   "metadata": {},
   "outputs": [
    {
     "name": "stdout",
     "output_type": "stream",
     "text": [
      "The line_profiler extension is already loaded. To reload it, use:\n",
      "  %reload_ext line_profiler\n"
     ]
    }
   ],
   "source": [
    "%load_ext line_profiler"
   ]
  },
  {
   "cell_type": "code",
   "execution_count": 15,
   "metadata": {},
   "outputs": [
    {
     "name": "stderr",
     "output_type": "stream",
     "text": [
      "/home/ubuntu/anaconda/lib/python3.6/site-packages/IPython/core/interactiveshell.py:2785: DtypeWarning: Columns (10,12,14) have mixed types. Specify dtype option on import or set low_memory=False.\n",
      "  interactivity=interactivity, compiler=compiler, result=result)\n",
      "/home/ubuntu/anaconda/lib/python3.6/site-packages/ipykernel_launcher.py:7: SettingWithCopyWarning: \n",
      "A value is trying to be set on a copy of a slice from a DataFrame.\n",
      "Try using .loc[row_indexer,col_indexer] = value instead\n",
      "\n",
      "See the caveats in the documentation: http://pandas.pydata.org/pandas-docs/stable/indexing.html#indexing-view-versus-copy\n",
      "  import sys\n",
      "/home/ubuntu/anaconda/lib/python3.6/site-packages/ipykernel_launcher.py:9: SettingWithCopyWarning: \n",
      "A value is trying to be set on a copy of a slice from a DataFrame.\n",
      "Try using .loc[row_indexer,col_indexer] = value instead\n",
      "\n",
      "See the caveats in the documentation: http://pandas.pydata.org/pandas-docs/stable/indexing.html#indexing-view-versus-copy\n",
      "  if __name__ == '__main__':\n"
     ]
    },
    {
     "name": "stdout",
     "output_type": "stream",
     "text": [
      "(149, 21)\n"
     ]
    },
    {
     "name": "stderr",
     "output_type": "stream",
     "text": [
      "/home/ubuntu/anaconda/lib/python3.6/site-packages/ipykernel_launcher.py:10: SettingWithCopyWarning: \n",
      "A value is trying to be set on a copy of a slice from a DataFrame.\n",
      "Try using .loc[row_indexer,col_indexer] = value instead\n",
      "\n",
      "See the caveats in the documentation: http://pandas.pydata.org/pandas-docs/stable/indexing.html#indexing-view-versus-copy\n",
      "  # Remove the CWD from sys.path while we load stuff.\n"
     ]
    },
    {
     "data": {
      "text/html": [
       "<div>\n",
       "<style scoped>\n",
       "    .dataframe tbody tr th:only-of-type {\n",
       "        vertical-align: middle;\n",
       "    }\n",
       "\n",
       "    .dataframe tbody tr th {\n",
       "        vertical-align: top;\n",
       "    }\n",
       "\n",
       "    .dataframe thead th {\n",
       "        text-align: right;\n",
       "    }\n",
       "</style>\n",
       "<table border=\"1\" class=\"dataframe\">\n",
       "  <thead>\n",
       "    <tr style=\"text-align: right;\">\n",
       "      <th></th>\n",
       "      <th>cell</th>\n",
       "      <th>cell_ontology_class</th>\n",
       "      <th>cell_ontology_id</th>\n",
       "      <th>channel</th>\n",
       "      <th>cluster_ids</th>\n",
       "      <th>free_annotation</th>\n",
       "      <th>mouse_id</th>\n",
       "      <th>mouse_sex</th>\n",
       "      <th>subsetA</th>\n",
       "      <th>subsetA_cluster_ids</th>\n",
       "      <th>...</th>\n",
       "      <th>subsetB_cluster_ids</th>\n",
       "      <th>subsetC</th>\n",
       "      <th>subsetC_cluster_ids</th>\n",
       "      <th>subsetD</th>\n",
       "      <th>subsetD_cluster_ids</th>\n",
       "      <th>subtissue</th>\n",
       "      <th>tissue</th>\n",
       "      <th>tissue_tSNE_1</th>\n",
       "      <th>tissue_tSNE_2</th>\n",
       "      <th>name</th>\n",
       "    </tr>\n",
       "    <tr>\n",
       "      <th>barcode</th>\n",
       "      <th></th>\n",
       "      <th></th>\n",
       "      <th></th>\n",
       "      <th></th>\n",
       "      <th></th>\n",
       "      <th></th>\n",
       "      <th></th>\n",
       "      <th></th>\n",
       "      <th></th>\n",
       "      <th></th>\n",
       "      <th></th>\n",
       "      <th></th>\n",
       "      <th></th>\n",
       "      <th></th>\n",
       "      <th></th>\n",
       "      <th></th>\n",
       "      <th></th>\n",
       "      <th></th>\n",
       "      <th></th>\n",
       "      <th></th>\n",
       "      <th></th>\n",
       "    </tr>\n",
       "  </thead>\n",
       "  <tbody>\n",
       "    <tr>\n",
       "      <th>AAAGTAGAGATGCCAG-1</th>\n",
       "      <td>10X_P4_3_AAAGTAGAGATGCCAG</td>\n",
       "      <td>bladder cell</td>\n",
       "      <td>CL:1001319</td>\n",
       "      <td>10X_P4_3</td>\n",
       "      <td>0</td>\n",
       "      <td>Bladder mesenchymal cell</td>\n",
       "      <td>3-M-8</td>\n",
       "      <td>M</td>\n",
       "      <td>NaN</td>\n",
       "      <td>NaN</td>\n",
       "      <td>...</td>\n",
       "      <td>NaN</td>\n",
       "      <td>NaN</td>\n",
       "      <td>NaN</td>\n",
       "      <td>NaN</td>\n",
       "      <td>NaN</td>\n",
       "      <td>NaN</td>\n",
       "      <td>Bladder</td>\n",
       "      <td>-28.034252</td>\n",
       "      <td>-13.407488</td>\n",
       "      <td>cell_ontology_class:bladder_cell|tissue:Bladde...</td>\n",
       "    </tr>\n",
       "    <tr>\n",
       "      <th>AACCGCGTCCAACCAA-1</th>\n",
       "      <td>10X_P4_3_AACCGCGTCCAACCAA</td>\n",
       "      <td>bladder cell</td>\n",
       "      <td>CL:1001319</td>\n",
       "      <td>10X_P4_3</td>\n",
       "      <td>2</td>\n",
       "      <td>Bladder mesenchymal cell</td>\n",
       "      <td>3-M-8</td>\n",
       "      <td>M</td>\n",
       "      <td>NaN</td>\n",
       "      <td>NaN</td>\n",
       "      <td>...</td>\n",
       "      <td>NaN</td>\n",
       "      <td>NaN</td>\n",
       "      <td>NaN</td>\n",
       "      <td>NaN</td>\n",
       "      <td>NaN</td>\n",
       "      <td>NaN</td>\n",
       "      <td>Bladder</td>\n",
       "      <td>-15.890827</td>\n",
       "      <td>7.453387</td>\n",
       "      <td>cell_ontology_class:bladder_cell|tissue:Bladde...</td>\n",
       "    </tr>\n",
       "    <tr>\n",
       "      <th>AACTCCCGTCGGGTCT-1</th>\n",
       "      <td>10X_P4_3_AACTCCCGTCGGGTCT</td>\n",
       "      <td>bladder cell</td>\n",
       "      <td>CL:1001319</td>\n",
       "      <td>10X_P4_3</td>\n",
       "      <td>5</td>\n",
       "      <td>Bladder mesenchymal cell</td>\n",
       "      <td>3-M-8</td>\n",
       "      <td>M</td>\n",
       "      <td>NaN</td>\n",
       "      <td>NaN</td>\n",
       "      <td>...</td>\n",
       "      <td>NaN</td>\n",
       "      <td>NaN</td>\n",
       "      <td>NaN</td>\n",
       "      <td>NaN</td>\n",
       "      <td>NaN</td>\n",
       "      <td>NaN</td>\n",
       "      <td>Bladder</td>\n",
       "      <td>-11.131739</td>\n",
       "      <td>8.426802</td>\n",
       "      <td>cell_ontology_class:bladder_cell|tissue:Bladde...</td>\n",
       "    </tr>\n",
       "    <tr>\n",
       "      <th>AACTCTTAGTTGCAGG-1</th>\n",
       "      <td>10X_P4_3_AACTCTTAGTTGCAGG</td>\n",
       "      <td>bladder urothelial cell</td>\n",
       "      <td>CL:1001428</td>\n",
       "      <td>10X_P4_3</td>\n",
       "      <td>3</td>\n",
       "      <td>Luminal bladder epithelial cell</td>\n",
       "      <td>3-M-8</td>\n",
       "      <td>M</td>\n",
       "      <td>NaN</td>\n",
       "      <td>NaN</td>\n",
       "      <td>...</td>\n",
       "      <td>NaN</td>\n",
       "      <td>NaN</td>\n",
       "      <td>NaN</td>\n",
       "      <td>NaN</td>\n",
       "      <td>NaN</td>\n",
       "      <td>NaN</td>\n",
       "      <td>Bladder</td>\n",
       "      <td>21.559201</td>\n",
       "      <td>6.817286</td>\n",
       "      <td>cell_ontology_class:bladder_urothelial_cell|ti...</td>\n",
       "    </tr>\n",
       "    <tr>\n",
       "      <th>AACTCTTTCATAACCG-1</th>\n",
       "      <td>10X_P4_3_AACTCTTTCATAACCG</td>\n",
       "      <td>bladder cell</td>\n",
       "      <td>CL:1001319</td>\n",
       "      <td>10X_P4_3</td>\n",
       "      <td>2</td>\n",
       "      <td>Bladder mesenchymal cell</td>\n",
       "      <td>3-M-8</td>\n",
       "      <td>M</td>\n",
       "      <td>NaN</td>\n",
       "      <td>NaN</td>\n",
       "      <td>...</td>\n",
       "      <td>NaN</td>\n",
       "      <td>NaN</td>\n",
       "      <td>NaN</td>\n",
       "      <td>NaN</td>\n",
       "      <td>NaN</td>\n",
       "      <td>NaN</td>\n",
       "      <td>Bladder</td>\n",
       "      <td>-5.939946</td>\n",
       "      <td>19.630456</td>\n",
       "      <td>cell_ontology_class:bladder_cell|tissue:Bladde...</td>\n",
       "    </tr>\n",
       "  </tbody>\n",
       "</table>\n",
       "<p>5 rows × 21 columns</p>\n",
       "</div>"
      ],
      "text/plain": [
       "                                         cell      cell_ontology_class  \\\n",
       "barcode                                                                  \n",
       "AAAGTAGAGATGCCAG-1  10X_P4_3_AAAGTAGAGATGCCAG             bladder cell   \n",
       "AACCGCGTCCAACCAA-1  10X_P4_3_AACCGCGTCCAACCAA             bladder cell   \n",
       "AACTCCCGTCGGGTCT-1  10X_P4_3_AACTCCCGTCGGGTCT             bladder cell   \n",
       "AACTCTTAGTTGCAGG-1  10X_P4_3_AACTCTTAGTTGCAGG  bladder urothelial cell   \n",
       "AACTCTTTCATAACCG-1  10X_P4_3_AACTCTTTCATAACCG             bladder cell   \n",
       "\n",
       "                   cell_ontology_id   channel  cluster_ids  \\\n",
       "barcode                                                      \n",
       "AAAGTAGAGATGCCAG-1       CL:1001319  10X_P4_3            0   \n",
       "AACCGCGTCCAACCAA-1       CL:1001319  10X_P4_3            2   \n",
       "AACTCCCGTCGGGTCT-1       CL:1001319  10X_P4_3            5   \n",
       "AACTCTTAGTTGCAGG-1       CL:1001428  10X_P4_3            3   \n",
       "AACTCTTTCATAACCG-1       CL:1001319  10X_P4_3            2   \n",
       "\n",
       "                                    free_annotation mouse_id mouse_sex  \\\n",
       "barcode                                                                  \n",
       "AAAGTAGAGATGCCAG-1         Bladder mesenchymal cell    3-M-8         M   \n",
       "AACCGCGTCCAACCAA-1         Bladder mesenchymal cell    3-M-8         M   \n",
       "AACTCCCGTCGGGTCT-1         Bladder mesenchymal cell    3-M-8         M   \n",
       "AACTCTTAGTTGCAGG-1  Luminal bladder epithelial cell    3-M-8         M   \n",
       "AACTCTTTCATAACCG-1         Bladder mesenchymal cell    3-M-8         M   \n",
       "\n",
       "                   subsetA  subsetA_cluster_ids  \\\n",
       "barcode                                           \n",
       "AAAGTAGAGATGCCAG-1     NaN                  NaN   \n",
       "AACCGCGTCCAACCAA-1     NaN                  NaN   \n",
       "AACTCCCGTCGGGTCT-1     NaN                  NaN   \n",
       "AACTCTTAGTTGCAGG-1     NaN                  NaN   \n",
       "AACTCTTTCATAACCG-1     NaN                  NaN   \n",
       "\n",
       "                                          ...                          \\\n",
       "barcode                                   ...                           \n",
       "AAAGTAGAGATGCCAG-1                        ...                           \n",
       "AACCGCGTCCAACCAA-1                        ...                           \n",
       "AACTCCCGTCGGGTCT-1                        ...                           \n",
       "AACTCTTAGTTGCAGG-1                        ...                           \n",
       "AACTCTTTCATAACCG-1                        ...                           \n",
       "\n",
       "                   subsetB_cluster_ids  subsetC subsetC_cluster_ids  subsetD  \\\n",
       "barcode                                                                        \n",
       "AAAGTAGAGATGCCAG-1                 NaN      NaN                 NaN      NaN   \n",
       "AACCGCGTCCAACCAA-1                 NaN      NaN                 NaN      NaN   \n",
       "AACTCCCGTCGGGTCT-1                 NaN      NaN                 NaN      NaN   \n",
       "AACTCTTAGTTGCAGG-1                 NaN      NaN                 NaN      NaN   \n",
       "AACTCTTTCATAACCG-1                 NaN      NaN                 NaN      NaN   \n",
       "\n",
       "                   subsetD_cluster_ids  subtissue   tissue tissue_tSNE_1  \\\n",
       "barcode                                                                    \n",
       "AAAGTAGAGATGCCAG-1                 NaN        NaN  Bladder    -28.034252   \n",
       "AACCGCGTCCAACCAA-1                 NaN        NaN  Bladder    -15.890827   \n",
       "AACTCCCGTCGGGTCT-1                 NaN        NaN  Bladder    -11.131739   \n",
       "AACTCTTAGTTGCAGG-1                 NaN        NaN  Bladder     21.559201   \n",
       "AACTCTTTCATAACCG-1                 NaN        NaN  Bladder     -5.939946   \n",
       "\n",
       "                    tissue_tSNE_2  \\\n",
       "barcode                             \n",
       "AAAGTAGAGATGCCAG-1     -13.407488   \n",
       "AACCGCGTCCAACCAA-1       7.453387   \n",
       "AACTCCCGTCGGGTCT-1       8.426802   \n",
       "AACTCTTAGTTGCAGG-1       6.817286   \n",
       "AACTCTTTCATAACCG-1      19.630456   \n",
       "\n",
       "                                                                 name  \n",
       "barcode                                                                \n",
       "AAAGTAGAGATGCCAG-1  cell_ontology_class:bladder_cell|tissue:Bladde...  \n",
       "AACCGCGTCCAACCAA-1  cell_ontology_class:bladder_cell|tissue:Bladde...  \n",
       "AACTCCCGTCGGGTCT-1  cell_ontology_class:bladder_cell|tissue:Bladde...  \n",
       "AACTCTTAGTTGCAGG-1  cell_ontology_class:bladder_urothelial_cell|ti...  \n",
       "AACTCTTTCATAACCG-1  cell_ontology_class:bladder_cell|tissue:Bladde...  \n",
       "\n",
       "[5 rows x 21 columns]"
      ]
     },
     "execution_count": 15,
     "metadata": {},
     "output_type": "execute_result"
    }
   ],
   "source": [
    "import pandas as pd\n",
    "\n",
    "annotations = pd.read_csv('~/tabula-muris/00_data_ingest/18_global_annotation_csv/annotations_droplet.csv')\n",
    "annotations.columns = annotations.columns.map(lambda x: x.replace('.', '_'))\n",
    "\n",
    "annotations_subset = annotations.loc[annotations.cell.str.startswith(tenx_channel)]\n",
    "annotations_subset['barcode'] = annotations_subset.cell.str.split('_').str[-1] + '-1'\n",
    "annotations_subset['name'] = annotations_subset.apply(\n",
    "    lambda x: 'cell_ontology_class:{cell_ontology_class}|tissue:{tissue}|free_annotation:{free_annotation}|mouse_id:{mouse_id}|{cell}'.format(**x), axis=1)\n",
    "annotations_subset['name'] = annotations_subset['name'].str.replace(\" \", \"_\")\n",
    "annotations_subset = annotations_subset.set_index('barcode')\n",
    "print(annotations_subset.shape)\n",
    "annotations_subset.head()"
   ]
  },
  {
   "cell_type": "code",
   "execution_count": 16,
   "metadata": {},
   "outputs": [],
   "source": [
    "def maybe_get_name(barcode):\n",
    "    try:\n",
    "        return names[barcode]\n",
    "    except KeyError:\n",
    "        return barcode"
   ]
  },
  {
   "cell_type": "code",
   "execution_count": 17,
   "metadata": {},
   "outputs": [],
   "source": [
    "\n",
    "import pysam\n",
    "from tqdm import tqdm\n",
    "import itertools\n",
    "\n",
    "\n",
    "# bam_filename = '/mnt/data/10X_P7_8/lung_ptprc.bam'\n",
    "\n",
    "def make_10x_signatures(bam_filename):\n",
    "    output = bam_filename.replace('.bam', '.sig')\n",
    "\n",
    "    bam_file = pysam.AlignmentFile(bam_filename, mode='rb')\n",
    "    cell_seqs = {barcode: make_minhashes() for barcode in barcodes}\n",
    "\n",
    "    for a in tqdm(bam_file):\n",
    "        if (a.mapq == 255                                    # high quality mapping\n",
    "            and a.has_tag('CB') and a.get_tag('CB') in barcodes  # in our set of barcodes,\n",
    "    #         and a.has_tag('GN') and a.get_tag['GN'] in genes   # that maps to a single gene,\n",
    "    #         and a.has_tag('RE') and a.get_tag('RE') == 'E'   # specifically to an exon,\n",
    "            and a.has_tag('UB')):                            # and has a good UMI\n",
    "\n",
    "            barcode = a.get_tag('CB')\n",
    "    #         print(a)\n",
    "            # if this isn't marked a duplicate, count it as a UMI\n",
    "            if not a.is_duplicate:\n",
    "    #             print(f\"Adding {a.seq} to {barcode}\")\n",
    "                add_seq(cell_seqs[barcode], a.seq,\n",
    "                                input_is_protein, check_sequence)\n",
    "    cell_signatures = [build_siglist(seqs, filename=bam_filename, name=maybe_get_name(barcode)) \n",
    "                       for barcode, seqs in cell_seqs.items()]\n",
    "    signatures_flat = list(itertools.chain(*cell_signatures))\n",
    "    save_siglist(signatures_flat, output_fp=False, filename=output)\n",
    "\n",
    "# %lprun -f make_10x_signatures make_10x_signatures(bam_filename)"
   ]
  },
  {
   "cell_type": "code",
   "execution_count": 19,
   "metadata": {},
   "outputs": [],
   "source": [
    "import sourmash"
   ]
  },
  {
   "cell_type": "code",
   "execution_count": 20,
   "metadata": {},
   "outputs": [
    {
     "data": {
      "text/plain": [
       "'/home/ubuntu/anaconda/lib/python3.6/site-packages/sourmash/__init__.py'"
      ]
     },
     "execution_count": 20,
     "metadata": {},
     "output_type": "execute_result"
    }
   ],
   "source": [
    "sourmash.__file__"
   ]
  },
  {
   "cell_type": "code",
   "execution_count": 18,
   "metadata": {},
   "outputs": [
    {
     "name": "stderr",
     "output_type": "stream",
     "text": [
      "900782it [00:26, 33844.03it/s]"
     ]
    },
    {
     "ename": "ValueError",
     "evalue": "basic_string::substr: __pos (which is 15) > this->size() (which is 14)",
     "output_type": "error",
     "traceback": [
      "\u001b[0;31m---------------------------------------------------------------------------\u001b[0m",
      "\u001b[0;31mValueError\u001b[0m                                Traceback (most recent call last)",
      "\u001b[0;32m<ipython-input-18-705e0931f1f7>\u001b[0m in \u001b[0;36m<module>\u001b[0;34m()\u001b[0m\n\u001b[0;32m----> 1\u001b[0;31m \u001b[0mmake_10x_signatures\u001b[0m\u001b[0;34m(\u001b[0m\u001b[0;34mf'/mnt/data/{tenx_channel}/possorted_genome_bam.bam'\u001b[0m\u001b[0;34m)\u001b[0m\u001b[0;34m\u001b[0m\u001b[0m\n\u001b[0m",
      "\u001b[0;32m<ipython-input-17-0b8bafc3c87a>\u001b[0m in \u001b[0;36mmake_10x_signatures\u001b[0;34m(bam_filename)\u001b[0m\n\u001b[1;32m     26\u001b[0m     \u001b[0;31m#             print(f\"Adding {a.seq} to {barcode}\")\u001b[0m\u001b[0;34m\u001b[0m\u001b[0;34m\u001b[0m\u001b[0m\n\u001b[1;32m     27\u001b[0m                 add_seq(cell_seqs[barcode], a.seq,\n\u001b[0;32m---> 28\u001b[0;31m                                 input_is_protein, check_sequence)\n\u001b[0m\u001b[1;32m     29\u001b[0m     cell_signatures = [build_siglist(seqs, filename=bam_filename, name=maybe_get_name(barcode)) \n\u001b[1;32m     30\u001b[0m                        for barcode, seqs in cell_seqs.items()]\n",
      "\u001b[0;32m<ipython-input-13-39537ff44979>\u001b[0m in \u001b[0;36madd_seq\u001b[0;34m(Elist, seq, input_is_protein, check_sequence)\u001b[0m\n\u001b[1;32m     36\u001b[0m             \u001b[0mE\u001b[0m\u001b[0;34m.\u001b[0m\u001b[0madd_protein\u001b[0m\u001b[0;34m(\u001b[0m\u001b[0mseq\u001b[0m\u001b[0;34m)\u001b[0m\u001b[0;34m\u001b[0m\u001b[0m\n\u001b[1;32m     37\u001b[0m         \u001b[0;32melse\u001b[0m\u001b[0;34m:\u001b[0m\u001b[0;34m\u001b[0m\u001b[0m\n\u001b[0;32m---> 38\u001b[0;31m             \u001b[0mE\u001b[0m\u001b[0;34m.\u001b[0m\u001b[0madd_sequence\u001b[0m\u001b[0;34m(\u001b[0m\u001b[0mseq\u001b[0m\u001b[0;34m,\u001b[0m \u001b[0;32mnot\u001b[0m \u001b[0mcheck_sequence\u001b[0m\u001b[0;34m)\u001b[0m\u001b[0;34m\u001b[0m\u001b[0m\n\u001b[0m\u001b[1;32m     39\u001b[0m \u001b[0;34m\u001b[0m\u001b[0m\n\u001b[1;32m     40\u001b[0m \u001b[0;32mdef\u001b[0m \u001b[0mbuild_siglist\u001b[0m\u001b[0;34m(\u001b[0m\u001b[0mElist\u001b[0m\u001b[0;34m,\u001b[0m \u001b[0mfilename\u001b[0m\u001b[0;34m,\u001b[0m \u001b[0mname\u001b[0m\u001b[0;34m=\u001b[0m\u001b[0;32mNone\u001b[0m\u001b[0;34m)\u001b[0m\u001b[0;34m:\u001b[0m\u001b[0;34m\u001b[0m\u001b[0m\n",
      "\u001b[0;32m~/anaconda/lib/python3.6/site-packages/sourmash/_minhash.pyx\u001b[0m in \u001b[0;36msourmash._minhash.MinHash.add_sequence\u001b[0;34m()\u001b[0m\n",
      "\u001b[0;31mValueError\u001b[0m: basic_string::substr: __pos (which is 15) > this->size() (which is 14)"
     ]
    },
    {
     "name": "stderr",
     "output_type": "stream",
     "text": [
      "\r",
      "900782it [00:40, 22518.21it/s]"
     ]
    }
   ],
   "source": [
    "make_10x_signatures(f'/mnt/data/{tenx_channel}/possorted_genome_bam.bam')"
   ]
  },
  {
   "cell_type": "code",
   "execution_count": 21,
   "metadata": {},
   "outputs": [
    {
     "name": "stdout",
     "output_type": "stream",
     "text": [
      "> \u001b[0;32m/mnt/data/sourmash/_minhash.pyx\u001b[0m(178)\u001b[0;36msourmash._minhash.MinHash.add_sequence\u001b[0;34m()\u001b[0m\n",
      "\n",
      "ipdb> dir()\n",
      "['MinHash', '__builtins__', '__doc__', '__file__', '__loader__', '__name__', '__package__', '__spec__', '__test__', 'copy', 'dotproduct', 'get_max_hash_for_scaled', 'get_minhash_default_seed', 'get_minhash_max_hash', 'get_scaled_for_max_hash', 'hash_murmur', 'math']\n",
      "ipdb> seq\n",
      "*** NameError: name 'seq' is not defined\n",
      "ipdb> u\n",
      "> \u001b[0;32m<ipython-input-13-39537ff44979>\u001b[0m(38)\u001b[0;36madd_seq\u001b[0;34m()\u001b[0m\n",
      "\u001b[0;32m     36 \u001b[0;31m            \u001b[0mE\u001b[0m\u001b[0;34m.\u001b[0m\u001b[0madd_protein\u001b[0m\u001b[0;34m(\u001b[0m\u001b[0mseq\u001b[0m\u001b[0;34m)\u001b[0m\u001b[0;34m\u001b[0m\u001b[0m\n",
      "\u001b[0m\u001b[0;32m     37 \u001b[0;31m        \u001b[0;32melse\u001b[0m\u001b[0;34m:\u001b[0m\u001b[0;34m\u001b[0m\u001b[0m\n",
      "\u001b[0m\u001b[0;32m---> 38 \u001b[0;31m            \u001b[0mE\u001b[0m\u001b[0;34m.\u001b[0m\u001b[0madd_sequence\u001b[0m\u001b[0;34m(\u001b[0m\u001b[0mseq\u001b[0m\u001b[0;34m,\u001b[0m \u001b[0;32mnot\u001b[0m \u001b[0mcheck_sequence\u001b[0m\u001b[0;34m)\u001b[0m\u001b[0;34m\u001b[0m\u001b[0m\n",
      "\u001b[0m\u001b[0;32m     39 \u001b[0;31m\u001b[0;34m\u001b[0m\u001b[0m\n",
      "\u001b[0m\u001b[0;32m     40 \u001b[0;31m\u001b[0;32mdef\u001b[0m \u001b[0mbuild_siglist\u001b[0m\u001b[0;34m(\u001b[0m\u001b[0mElist\u001b[0m\u001b[0;34m,\u001b[0m \u001b[0mfilename\u001b[0m\u001b[0;34m,\u001b[0m \u001b[0mname\u001b[0m\u001b[0;34m=\u001b[0m\u001b[0;32mNone\u001b[0m\u001b[0;34m)\u001b[0m\u001b[0;34m:\u001b[0m\u001b[0;34m\u001b[0m\u001b[0m\n",
      "\u001b[0m\n",
      "ipdb> print(seq)\n",
      "NGGCCCAAGGAGAAGAGCGTGGCCGGCAAGGTGTGCNTCATCACGGGCNCNGNCNGCGNCNTNGNCNNNNTCTTNNCNNNNGNNNTNNCN\n",
      "ipdb> qq\n",
      "*** NameError: name 'qq' is not defined\n",
      "ipdb> q\n"
     ]
    }
   ],
   "source": [
    "%debug"
   ]
  },
  {
   "cell_type": "code",
   "execution_count": 43,
   "metadata": {},
   "outputs": [
    {
     "name": "stdout",
     "output_type": "stream",
     "text": [
      "total 37G\r\n",
      "drwxrwxr-x  2 ubuntu ubuntu 4.0K Sep  8 01:31 \u001b[0m\u001b[01;34m.\u001b[0m/\r\n",
      "drwxr-xr-x 12 ubuntu root   4.0K Sep 10 19:03 \u001b[01;34m..\u001b[0m/\r\n",
      "-rw-rw-r--  1 ubuntu ubuntu  62M Aug 31  2017 10X_P7_8.mus.cell-gene.csv\r\n",
      "-rw-rw-r--  1 ubuntu ubuntu  19G Aug 31  2017 \u001b[01;31m10X_P7_8.tgz\u001b[0m\r\n",
      "-rw-rw-r--  1 ubuntu ubuntu  12K Sep  1  2017 barcodes.tsv\r\n",
      "-rw-rw-r--  1 ubuntu ubuntu 340K Sep  1  2017 genes.tsv\r\n",
      "-rw-rw-r--  1 ubuntu ubuntu 3.6M Sep  7 21:58 lung_ptprc.bam\r\n",
      "-rw-rw-r--  1 ubuntu ubuntu  69K Sep  7 21:58 lung_ptprc.bam.bai\r\n",
      "-rw-rw-r--  1 ubuntu ubuntu 953K Sep 10 20:50 lung_ptprc.sig\r\n",
      "-rw-rw-r--  1 ubuntu ubuntu  14M Sep  1  2017 matrix.mtx\r\n",
      "-rw-rw-r--  1 ubuntu ubuntu  612 Aug 31  2017 metrics_summary.csv\r\n",
      "-rw-rw-r--  1 ubuntu ubuntu  19G Jun 19 06:16 possorted_genome_bam.bam\r\n",
      "-rw-rw-r--  1 ubuntu ubuntu 5.5M Jun 19 06:16 possorted_genome_bam.bam.bai\r\n",
      "-rw-rw-r--  1 ubuntu ubuntu 193M Sep 11 00:22 possorted_genome_bam.sig\r\n",
      "-rw-rw-r--  1 ubuntu ubuntu 9.2M Sep 16  2017 raw_gene_bc_matrices_h5.h5\r\n",
      "-rw-rw-r--  1 ubuntu ubuntu 2.6M Aug 31  2017 web_summary.html\r\n"
     ]
    }
   ],
   "source": [
    "ls -lha /mnt/data/$tenx_channel/"
   ]
  },
  {
   "cell_type": "code",
   "execution_count": 19,
   "metadata": {},
   "outputs": [
    {
     "name": "stdout",
     "output_type": "stream",
     "text": [
      "total 13M\r\n",
      "drwxrwxr-x  3 ubuntu ubuntu 4.0K Sep  8 18:05 \u001b[0m\u001b[01;34m.\u001b[0m/\r\n",
      "drwxr-xr-x 12 ubuntu root   4.0K Sep 10 19:03 \u001b[01;34m..\u001b[0m/\r\n",
      "drwxrwxr-x  2 ubuntu ubuntu 3.4M Sep  8 18:05 \u001b[01;34m.sbt.tabula-muris-dna-k21\u001b[0m/\r\n",
      "-rw-rw-r--  1 ubuntu ubuntu 8.8M Sep  8 18:05 tabula-muris-dna-k21.sbt.json\r\n"
     ]
    }
   ],
   "source": [
    "ls -lha /mnt/data/sourmash_databases/"
   ]
  },
  {
   "cell_type": "code",
   "execution_count": 22,
   "metadata": {},
   "outputs": [
    {
     "name": "stdout",
     "output_type": "stream",
     "text": [
      "usage: sourmash [-h] [-q] [-k KSIZE] [--threshold THRESHOLD]\r\n",
      "                [--traverse-directory] [--protein] [--no-protein] [--dna]\r\n",
      "                [--no-dna] [--csv CSV] [--load-csv LOAD_CSV]\r\n",
      "                sbt_name queries [queries ...]\r\n",
      "\r\n",
      "positional arguments:\r\n",
      "  sbt_name              name of SBT to load\r\n",
      "  queries               list of signatures to categorize\r\n",
      "\r\n",
      "optional arguments:\r\n",
      "  -h, --help            show this help message and exit\r\n",
      "  -q, --quiet           suppress non-error output\r\n",
      "  -k KSIZE, --ksize KSIZE\r\n",
      "  --threshold THRESHOLD\r\n",
      "  --traverse-directory\r\n",
      "  --protein             choose a protein signature (default: False)\r\n",
      "  --no-protein          do not choose a protein signature\r\n",
      "  --dna                 choose a DNA signature (default: True)\r\n",
      "  --no-dna              do not choose a DNA signature\r\n",
      "  --csv CSV\r\n",
      "  --load-csv LOAD_CSV\r\n"
     ]
    }
   ],
   "source": [
    "! sourmash categorize -h"
   ]
  },
  {
   "cell_type": "code",
   "execution_count": 46,
   "metadata": {},
   "outputs": [
    {
     "name": "stderr",
     "output_type": "stream",
     "text": [
      "\r",
      "\u001b[KWhen loading query from \"/mnt/data/maca-facs-sourmash_compute_all/A1-B000610-3_56_F-1-1.sig\"\n",
      "\r",
      "\u001b[K8 signatures matching ksize and molecule type;\n",
      "\r",
      "\u001b[Kneed exactly one. Specify --ksize or --dna/--protein.\n"
     ]
    }
   ],
   "source": [
    "%%bash\n",
    "\n",
    "sourmash search /mnt/data/maca-facs-sourmash_compute_all/A1-B000610-3_56_F-1-1.sig \\\n",
    "    /mnt/data/sourmash_databases/tabula-muris-dna-k21.sbt.json"
   ]
  },
  {
   "cell_type": "code",
   "execution_count": null,
   "metadata": {},
   "outputs": [],
   "source": [
    "%%bash\n",
    "sourmash categorize --ksize 21 --dna \\\n",
    "    /mnt/data/sourmash_databases/tabula-muris-dna-k21.sbt.json \\\n",
    "    /mnt/data/10X_P7_8/possorted_genome_bam.sig | head"
   ]
  },
  {
   "cell_type": "markdown",
   "metadata": {},
   "source": [
    "```\n",
    " Wed 12 Sep - 20:57  ~/kmer-hashing   origin ☊ olgabot/index-tabula-muris 4● \n",
    "  sourmash categorize --ksize 21 --dna \\\n",
    "    /mnt/data/sourmash_databases/tabula-muris-dna-k21.sbt.json \\\n",
    "    /mnt/data/10X_P7_8/possorted_genome_bam.sig | head\n",
    "found 1 files to query\n",
    "\n",
    "...sig loading 620\n",
    "loaded query: alveolar macrophage|Lung|3-F-5... (k=21, DNA)\n",
    "for alveolar macrophage|Lung|3-F-56|10X_P7_8_ACGGCCACAATGGTCT, found: 0.24 cell_ontology_class:epithelial_cell_of_lung|tissue:Lung|subtissue:nan|free_annotation:alveolar_epithelial_type_1_cells,_alveolar_epithelial_type_2_cells,_club_cells,_and_basal_cells|cell_id:K3-MAA000526-3_9_M-1-1\n",
    "loaded query: classical monocyte|Lung|3-F-56... (k=21, DNA)\n",
    "for classical monocyte|Lung|3-F-56|10X_P7_8_ACGAGGACAAGCCCAC, found: 0.40 cell_ontology_class:epithelial_cell_of_lung|tissue:Lung|subtissue:nan|free_annotation:alveolar_epithelial_type_1_cells,_alveolar_epithelial_type_2_cells,_club_cells,_and_basal_cells|cell_id:G4-MAA000526-3_9_M-1-1\n",
    "loaded query: lung endothelial cell|Lung|3-F... (k=21, DNA)\n",
    "for lung endothelial cell|Lung|3-F-56|10X_P7_8_AACACGTGTGGCTCCA, found: 0.35 cell_ontology_class:skeletal_muscle_satellite_stem_cell|tissue:Diaphragm|subtissue:nan|free_annotation:nan|cell_id:H3-MAA001454-3_38_F-1-1\n",
    "loaded query: lung endothelial cell|Lung|3-F... (k=21, DNA)\n",
    "for lung endothelial cell|Lung|3-F-56|10X_P7_8_CATCGGGCAGATGAGC, found: 0.36 cell_ontology_class:endothelial_cell|tissue:Heart|subtissue:Unknown|free_annotation:nan|cell_id:A2-MAA100037-3_10_M-1-1\n",
    "loaded query: non-classical monocyte|Lung|3-... (k=21, DNA)\n",
    "for non-classical monocyte|Lung|3-F-56|10X_P7_8_CTTAACTTCTCAAGTG, found: 0.45 cell_ontology_class:monocyte|tissue:Lung|subtissue:Endomucin|free_annotation:circulating_monocytes|cell_id:A22-MAA001892-3_38_F-1-1\n",
    "loaded query: stromal cell|Lung|3-F-56|10X_P... (k=21, DNA)\n",
    "for stromal cell|Lung|3-F-56|10X_P7_8_GTCAAGTAGCTAAACA, found: 0.38 cell_ontology_class:immature_B_cell|tissue:Marrow|subtissue:B-cells|free_annotation:nan|cell_id:E6-MAA001884-3_38_F-1-1\n",
    "loaded query: stromal cell|Lung|3-F-56|10X_P... (k=21, DNA)\n",
    "for stromal cell|Lung|3-F-56|10X_P7_8_GTCAAGTAGTTTCCTT, found: 0.27 cell_ontology_class:nan|tissue:Fat|subtissue:SCAT|free_annotation:nan|cell_id:N22-B000127-3_38_F-1-1\n",
    "loaded query: alveolar macrophage|Lung|3-F-5... (k=21, DNA)\n",
    "for alveolar macrophage|Lung|3-F-56|10X_P7_8_CCGTACTGTCAGATAA, found: 0.37 cell_ontology_class:monocyte|tissue:Lung|subtissue:Endomucin|free_annotation:circulating_monocytes|cell_id:A22-MAA001892-3_38_F-1-1\n",
    "loaded query: lung endothelial cell|Lung|3-F... (k=21, DNA)\n",
    "for lung endothelial cell|Lung|3-F-56|10X_P7_8_CTCAGAAAGTTTCCTT, found: 0.37 cell_ontology_class:skeletal_muscle_satellite_stem_cell|tissue:Diaphragm|subtissue:nan|free_annotation:nan|cell_id:H3-MAA001454-3_38_F-1-1\n",
    "loaded query: non-classical monocyte|Lung|3-... (k=21, DNA)\n",
    "for non-classical monocyte|Lung|3-F-56|10X_P7_8_GTCGGGTCACACATGT, found: 0.36 cell_ontology_class:epithelial_cell_of_lung|tissue:Lung|subtissue:nan|free_annotation:alveolar_epithelial_type_1_cells,_alveolar_epithelial_type_2_cells,_club_cells,_and_basal_cells|cell_id:G4-MAA000526-3_9_M-1-1\n",
    "loaded query: lung endothelial cell|Lung|3-F... (k=21, DNA)\n",
    "for lung endothelial cell|Lung|3-F-56|10X_P7_8_CCACGGATCAGCTCGG, found: 0.45 cell_ontology_class:bladder_cell|tissue:Bladder|subtissue:nan|free_annotation:Bladder_mesenchymal_cell|cell_id:A3-D041914-3_8_M-1-1\n",
    "loaded query: non-classical monocyte|Lung|3-... (k=21, DNA)\n",
    "for non-classical monocyte|Lung|3-F-56|10X_P7_8_GTAACGTAGATAGGAG, found: 0.56 cell_ontology_class:monocyte|tissue:Lung|subtissue:Endomucin|free_annotation:circulating_monocytes|cell_id:A22-MAA001892-3_38_F-1-1\n",
    "loaded query: alveolar macrophage|Lung|3-F-5... (k=21, DNA)\n",
    "for alveolar macrophage|Lung|3-F-56|10X_P7_8_GTTTCTAAGTGCAAGC, found: 0.18 cell_ontology_class:epithelial_cell_of_lung|tissue:Lung|subtissue:nan|free_annotation:alveolar_epithelial_type_1_cells,_alveolar_epithelial_type_2_cells,_club_cells,_and_basal_cells|cell_id:G4-MAA000526-3_9_M-1-1\n",
    "loaded query: B cell|Lung|3-F-56|10X_P7_8_CT... (k=21, DNA)\n",
    "for B cell|Lung|3-F-56|10X_P7_8_CTGATCCGTTGCGCAC, found: 0.23 cell_ontology_class:immature_B_cell|tissue:Marrow|subtissue:B-cells|free_annotation:nan|cell_id:G8-MAA000652-3_10_M-1-1\n",
    "loaded query: alveolar macrophage|Lung|3-F-5... (k=21, DNA)\n",
    "for alveolar macrophage|Lung|3-F-56|10X_P7_8_AACTCTTGTTCCAACA, found: 0.50 cell_ontology_class:monocyte|tissue:Lung|subtissue:Endomucin|free_annotation:circulating_monocytes|cell_id:A22-MAA001892-3_38_F-1-1\n",
    "loaded query: myeloid cell|Lung|3-F-56|10X_P... (k=21, DNA)\n",
    "for myeloid cell|Lung|3-F-56|10X_P7_8_GCTGCTTTCATGCTCC, found: 0.22 cell_ontology_class:monocyte|tissue:Lung|subtissue:Endomucin|free_annotation:circulating_monocytes|cell_id:A22-MAA001892-3_38_F-1-1\n",
    "loaded query: stromal cell|Lung|3-F-56|10X_P... (k=21, DNA)\n",
    "for stromal cell|Lung|3-F-56|10X_P7_8_AACCATGCACGTCAGC, found: 0.42 cell_ontology_class:endothelial_cell|tissue:Fat|subtissue:BAT|free_annotation:nan|cell_id:F21-B001216-3_38_F-1-1\n",
    "loaded query: T cell|Lung|3-F-56|10X_P7_8_CC... (k=21, DNA)\n",
    "for T cell|Lung|3-F-56|10X_P7_8_CCATGTCCACGGTTTA, found: 0.25 cell_ontology_class:T_cell|tissue:Lung|subtissue:EPCAM|free_annotation:nan|cell_id:H1-MAA001889-3_38_F-1-1\n",
    "loaded query: alveolar macrophage|Lung|3-F-5... (k=21, DNA)\n",
    "for alveolar macrophage|Lung|3-F-56|10X_P7_8_CGTTGGGCACCGAAAG, found: 0.28 cell_ontology_class:epithelial_cell_of_lung|tissue:Lung|subtissue:nan|free_annotation:alveolar_epithelial_type_1_cells,_alveolar_epithelial_type_2_cells,_club_cells,_and_basal_cells|cell_id:K3-MAA000526-3_9_M-1-1\n",
    "loaded query: T cell|Lung|3-F-56|10X_P7_8_CC... (k=21, DNA)\n",
    "for T cell|Lung|3-F-56|10X_P7_8_CCGTTCACATAGTAAG, found: 0.25 cell_ontology_class:epithelial_cell_of_large_intestine|tissue:Large_Intestine|subtissue:Distal|free_annotation:Lgr5+_undifferentiated_cell_(Distal)|cell_id:M2-MAA001873-3_38_F-1-1\n",
    "loaded query: lung endothelial cell|Lung|3-F... (k=21, DNA)\n",
    "\n",
    "```"
   ]
  },
  {
   "cell_type": "code",
   "execution_count": 1,
   "metadata": {},
   "outputs": [],
   "source": [
    "mkdir /mnt/data/10X_P7_8/sourmash_search/"
   ]
  },
  {
   "cell_type": "markdown",
   "metadata": {},
   "source": [
    "\n",
    "### Can't run this because there's multiple signatures in the sig file\n",
    "\n",
    "```\n",
    "sourmash search --ksize 27 --dna --ignore-abundance \\\n",
    "    --output /mnt/data/10X_P7_8/sourmash_search/tabula-muris-dna-k27.csv \\\n",
    "    /mnt/data/10X_P7_8/possorted_genome_bam.sig \\\n",
    "    /mnt/data/maca-facs-sourmash_index_all/tabula-muris-k27-dna/tabula-muris-k27-dna/tabula-muris-k27-dna.sbt.json \n",
    "```"
   ]
  },
  {
   "cell_type": "code",
   "execution_count": 2,
   "metadata": {},
   "outputs": [],
   "source": [
    "mkdir /mnt/data/10X_P7_8/sourmash_categorize"
   ]
  },
  {
   "cell_type": "markdown",
   "metadata": {},
   "source": [
    "```\n",
    "sourmash categorize --ksize 27 --dna \\\n",
    "    --csv /mnt/data/10X_P7_8/sourmash_categorize/tabula-muris-dna-k27_ignore-abundance=True.csv \\\n",
    "    --ignore-abundance \\\n",
    "    /mnt/data/maca-facs-sourmash_index_all/tabula-muris-k27-dna/tabula-muris-k27-dna/tabula-muris-k27-dna.sbt.json  \\\n",
    "    /mnt/data/10X_P7_8/possorted_genome_bam.sig\n",
    "```"
   ]
  },
  {
   "cell_type": "code",
   "execution_count": 3,
   "metadata": {},
   "outputs": [
    {
     "name": "stdout",
     "output_type": "stream",
     "text": [
      "total 0\r\n",
      "-rw-rw-r-- 1 ubuntu 0 Sep 21 02:15 tabula-muris-dna-k27.csv\r\n",
      "-rw-rw-r-- 1 ubuntu 0 Sep 21 02:15 tabula-muris-dna-k27_ignore-abundance=True.csv\r\n"
     ]
    }
   ],
   "source": [
    "ll  /mnt/data/10X_P7_8/sourmash_categorize"
   ]
  },
  {
   "cell_type": "code",
   "execution_count": null,
   "metadata": {},
   "outputs": [],
   "source": []
  }
 ],
 "metadata": {
  "kernelspec": {
   "display_name": "Python 3",
   "language": "python",
   "name": "python3"
  },
  "language_info": {
   "codemirror_mode": {
    "name": "ipython",
    "version": 3
   },
   "file_extension": ".py",
   "mimetype": "text/x-python",
   "name": "python",
   "nbconvert_exporter": "python",
   "pygments_lexer": "ipython3",
   "version": "3.6.5"
  }
 },
 "nbformat": 4,
 "nbformat_minor": 2
}
