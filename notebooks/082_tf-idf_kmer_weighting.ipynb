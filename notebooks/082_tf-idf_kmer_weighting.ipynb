{
 "cells": [
  {
   "cell_type": "code",
   "execution_count": 1,
   "metadata": {},
   "outputs": [
    {
     "name": "stdout",
     "output_type": "stream",
     "text": [
      "996\r\n"
     ]
    }
   ],
   "source": [
    "! aws s3 ls s3://olgabot-maca/facs/sourmash_dna-only_trim=false_scaled=100/ | wc -l"
   ]
  },
  {
   "cell_type": "code",
   "execution_count": 2,
   "metadata": {},
   "outputs": [
    {
     "name": "stdout",
     "output_type": "stream",
     "text": [
      "2018-08-03 09:01:13   29.3 MiB A1-B002427-3_39_F-1-1.signature\r\n",
      "2018-08-03 09:55:41   34.1 MiB A1-D041914-3_8_M-1-1.signature\r\n",
      "2018-08-07 19:28:52   36.0 MiB A1-MAA000496-3_10_M-1-1.signature\r\n",
      "2018-08-07 16:43:04   30.0 MiB A1-MAA000549-3_8_M-1-1.signature\r\n",
      "2018-08-02 07:08:10   46.2 MiB A1-MAA001869-3_38_F-1-1.signature\r\n",
      "2018-08-01 19:08:23   50.1 MiB A10-B003281-3_39_F-1-1.signature\r\n",
      "2018-08-07 22:16:58   63.6 MiB A10-MAA000496-3_10_M-1-1.signature\r\n",
      "2018-08-02 20:19:17   88.9 MiB A10-MAA000605-3_10_M-1-1.signature\r\n",
      "2018-08-07 18:40:08   24.5 MiB A11-MAA000611-3_8_M-1-1.signature\r\n",
      "2018-08-02 22:43:11   32.0 MiB A12-B001689-3_38_F-1-1.signature\r\n",
      "\r\n",
      "[Errno 32] Broken pipe\r\n",
      "Exception ignored in: <_io.TextIOWrapper name='<stdout>' mode='w' encoding='UTF-8'>\r\n",
      "BrokenPipeError: [Errno 32] Broken pipe\r\n"
     ]
    }
   ],
   "source": [
    "! aws s3 ls --human-readable s3://olgabot-maca/facs/sourmash_dna-only_trim=false_scaled=100/ | head"
   ]
  },
  {
   "cell_type": "code",
   "execution_count": 4,
   "metadata": {},
   "outputs": [
    {
     "name": "stdout",
     "output_type": "stream",
     "text": [
      "2018-08-02 15:04:21   15.3 MiB P8-MAA000508-3_9_M-1-1.signature\r\n",
      "2018-08-03 03:15:02  124.0 MiB P8-MAA000571-3_9_M-1-1.signature\r\n",
      "2018-08-02 19:11:16   12.0 MiB P9-B001717-3_38_F-1-1.signature\r\n",
      "2018-08-08 09:35:00   17.4 MiB P9-B003281-3_39_F-1-1.signature\r\n",
      "2018-08-07 22:59:26   14.5 MiB P9-MAA000508-3_9_M-1-1.signature\r\n",
      "2018-08-07 20:18:41   38.0 MiB P9-MAA000586-3_8_M-1-1.signature\r\n",
      "2018-08-01 18:57:48   63.6 MiB P9-MAA000937-3_8_M-1-1.signature\r\n",
      "\r\n",
      "Total Objects: 996\r\n",
      "   Total Size: 53.1 GiB\r\n"
     ]
    }
   ],
   "source": [
    "! aws s3 ls --summarize --human-readable s3://olgabot-maca/facs/sourmash_dna-only_trim=false_scaled=100/ | tail"
   ]
  },
  {
   "cell_type": "code",
   "execution_count": null,
   "metadata": {},
   "outputs": [],
   "source": [
    "# ! aws s3 sync s3://olgabot-maca/facs/sourmash_dna-only_trim=false_scaled=100/ /home/olga/scratch/maca/facs/sourmash_dna-only_trim=false_scaled=100/"
   ]
  },
  {
   "cell_type": "code",
   "execution_count": null,
   "metadata": {},
   "outputs": [
    {
     "name": "stderr",
     "output_type": "stream",
     "text": [
      "\n",
      "\n",
      "  0%|          | 0/996 [00:00<?, ?it/s]\u001b[A\u001b[A\n",
      "\n",
      "  0%|          | 1/996 [00:38<10:36:22, 38.37s/it]\u001b[A\u001b[A\n",
      "\n",
      "  0%|          | 2/996 [01:09<9:58:44, 36.14s/it] \u001b[A\u001b[A\n",
      "\n",
      "  0%|          | 3/996 [01:40<9:33:29, 34.65s/it]\u001b[A\u001b[A\n",
      "\n",
      "  0%|          | 4/996 [02:19<9:54:30, 35.96s/it]\u001b[A\u001b[A\n",
      "\n",
      "  1%|          | 5/996 [03:18<11:49:42, 42.97s/it]\u001b[A\u001b[A\n",
      "\n",
      "  1%|          | 6/996 [04:12<12:43:55, 46.30s/it]\u001b[A\u001b[A\n",
      "\n",
      "  1%|          | 7/996 [04:38<11:02:27, 40.19s/it]\u001b[A\u001b[A\n",
      "\n",
      "  1%|          | 8/996 [04:55<9:05:58, 33.16s/it] \u001b[A\u001b[A\n",
      "\n",
      "  1%|          | 9/996 [05:30<9:16:07, 33.81s/it]\u001b[A\u001b[A\n",
      "\n",
      "  1%|          | 10/996 [06:51<13:07:31, 47.92s/it]\u001b[A\u001b[A\n",
      "\n",
      "  1%|          | 11/996 [07:29<12:16:12, 44.85s/it]\u001b[A\u001b[A\n",
      "\n",
      "  1%|          | 12/996 [08:01<11:13:48, 41.09s/it]\u001b[A\u001b[A\n",
      "\n",
      "  1%|▏         | 13/996 [10:05<18:01:48, 66.03s/it]\u001b[A\u001b[A\n",
      "\n",
      "  1%|▏         | 14/996 [11:38<20:10:00, 73.93s/it]\u001b[A\u001b[A\n",
      "\n",
      "  2%|▏         | 15/996 [12:40<19:09:41, 70.32s/it]\u001b[A\u001b[A\n",
      "\n",
      "  2%|▏         | 16/996 [14:18<21:25:07, 78.68s/it]\u001b[A\u001b[A\n",
      "\n",
      "  2%|▏         | 17/996 [16:24<25:14:18, 92.81s/it]\u001b[A\u001b[A\n",
      "\n",
      "  2%|▏         | 18/996 [17:05<21:02:48, 77.47s/it]\u001b[A\u001b[A\n",
      "\n",
      "  2%|▏         | 19/996 [17:17<15:41:39, 57.83s/it]\u001b[A\u001b[A\n",
      "\n",
      "  2%|▏         | 20/996 [17:31<12:06:30, 44.66s/it]\u001b[A\u001b[A\n",
      "\n",
      "  2%|▏         | 21/996 [18:10<11:35:51, 42.82s/it]\u001b[A\u001b[A\n",
      "\n",
      "  2%|▏         | 22/996 [20:28<19:19:10, 71.41s/it]\u001b[A\u001b[A\n",
      "\n",
      "  2%|▏         | 23/996 [22:00<20:58:53, 77.63s/it]\u001b[A\u001b[A\n",
      "\n",
      "  2%|▏         | 24/996 [22:57<19:17:56, 71.48s/it]\u001b[A\u001b[A\n",
      "\n",
      "  3%|▎         | 25/996 [23:21<15:25:46, 57.21s/it]\u001b[A\u001b[A\n",
      "\n",
      "  3%|▎         | 26/996 [24:06<14:25:25, 53.53s/it]\u001b[A\u001b[A\n",
      "\n",
      "  3%|▎         | 27/996 [24:35<12:26:20, 46.21s/it]\u001b[A\u001b[A\n",
      "\n",
      "  3%|▎         | 28/996 [25:29<13:02:39, 48.51s/it]\u001b[A\u001b[A\n",
      "\n",
      "  3%|▎         | 29/996 [25:41<10:06:46, 37.65s/it]\u001b[A\u001b[A\n",
      "\n",
      "  3%|▎         | 30/996 [26:31<11:05:14, 41.32s/it]\u001b[A\u001b[A\n",
      "\n",
      "  3%|▎         | 31/996 [27:27<12:15:31, 45.73s/it]\u001b[A\u001b[A\n",
      "\n",
      "  3%|▎         | 32/996 [28:25<13:12:32, 49.33s/it]\u001b[A\u001b[A\n",
      "\n",
      "  3%|▎         | 33/996 [30:31<19:19:02, 72.21s/it]\u001b[A\u001b[A\n",
      "\n",
      "  3%|▎         | 34/996 [30:46<14:43:57, 55.13s/it]\u001b[A\u001b[A\n",
      "\n",
      "  4%|▎         | 35/996 [31:30<13:49:20, 51.78s/it]\u001b[A\u001b[A\n",
      "\n",
      "  4%|▎         | 36/996 [32:02<12:13:31, 45.85s/it]\u001b[A\u001b[A\n",
      "\n",
      "  4%|▎         | 37/996 [32:36<11:14:36, 42.21s/it]\u001b[A\u001b[A\n",
      "\n",
      "  4%|▍         | 38/996 [33:20<11:24:17, 42.86s/it]\u001b[A\u001b[A\n",
      "\n",
      "  4%|▍         | 39/996 [36:41<24:00:59, 90.34s/it]\u001b[A\u001b[A\n",
      "\n",
      "  4%|▍         | 40/996 [38:49<27:00:41, 101.72s/it]\u001b[A\u001b[A"
     ]
    }
   ],
   "source": [
    "import glob\n",
    "from sourmash import signature as sig\n",
    "from tqdm import tqdm\n",
    "\n",
    "folder = '/home/olga/scratch/maca/facs/sourmash_dna-only_trim=false_scaled=100/'\n",
    "\n",
    "filenames = glob.glob(f'{folder}/*.signature')\n",
    "\n",
    "\n",
    "ksize = 27\n",
    "moltype = 'dna'\n",
    "\n",
    "siglist = []\n",
    "ksizes = []\n",
    "moltypes = []\n",
    "\n",
    "for filename in tqdm(filenames):\n",
    "    loaded = sig.load_signatures(filename, ksize=ksize, select_moltype=moltype)\n",
    "    siglist.extend(loaded)"
   ]
  },
  {
   "cell_type": "code",
   "execution_count": null,
   "metadata": {},
   "outputs": [],
   "source": [
    "scaled_sigs = [s.minhash.max_hash for s in siglist]\n",
    "is_scaled = all(scaled_sigs)\n",
    "is_scaled_2 = any(scaled_sigs)\n"
   ]
  },
  {
   "cell_type": "code",
   "execution_count": 3,
   "metadata": {},
   "outputs": [
    {
     "data": {
      "text/plain": [
       "[SourmashSignature('A1-D041914-3_8_M-1-1|tissue:Bladder|subtissue:NA|cell_ontology_class:bladder_cell|free_annotation:Bladder_mesenchymal_cell', 41af7a8b),\n",
       " SourmashSignature('A1-B002427-3_39_F-1-1|tissue:Heart|subtissue:LA|cell_ontology_class:myofibroblast_cell|free_annotation:NA', 62d1d3fb),\n",
       " SourmashSignature('A1-MAA000549-3_8_M-1-1|tissue:Skin|subtissue:Anagen|cell_ontology_class:epidermal_cell|free_annotation:Intermediate_IFE', 997f98a1),\n",
       " SourmashSignature('A1-MAA000496-3_10_M-1-1|tissue:Trachea|subtissue:NA|cell_ontology_class:mesenchymal_cell|free_annotation:NA', 8aacf25e),\n",
       " SourmashSignature('A10-B003281-3_39_F-1-1|tissue:Brain_Myeloid|subtissue:Hippocampus|cell_ontology_class:microglial_cell|free_annotation:NA', c26e78da),\n",
       " SourmashSignature('A1-MAA001869-3_38_F-1-1|tissue:Large_Intestine|subtissue:Proximal|cell_ontology_class:epithelial_cell_of_large_intestine|free_annotation:Lgr5-_amplifying_undifferentiated_cell', 39486507),\n",
       " SourmashSignature('A11-MAA000611-3_8_M-1-1|tissue:Large_Intestine|subtissue:Proximal|cell_ontology_class:epithelial_cell_of_large_intestine|free_annotation:Lgr5-_undifferentiated_cell', 2203897c),\n",
       " SourmashSignature('A12-B003290-3_38_F-1-1|tissue:Brain_Non-Myeloid|subtissue:Striatum|cell_ontology_class:endothelial_cell|free_annotation:NA', 7689cbcc),\n",
       " SourmashSignature('A12-B001689-3_38_F-1-1|tissue:Brain_Myeloid|subtissue:Hippocampus|cell_ontology_class:microglial_cell|free_annotation:NA', 62f2ee99),\n",
       " SourmashSignature('A10-MAA000496-3_10_M-1-1|tissue:Trachea|subtissue:NA|cell_ontology_class:mesenchymal_cell|free_annotation:NA', 8a746f0d),\n",
       " SourmashSignature('A12-MAA000388-3_11_M-1-1|tissue:Fat|subtissue:GAT|cell_ontology_class:myeloid_cell|free_annotation:NA', 4fdf418d),\n",
       " SourmashSignature('A12-MAA000597-3_9_M-1-1|tissue:Skin|subtissue:Anagen|cell_ontology_class:keratinocyte_stem_cell|free_annotation:Inner_Bulge', ea044ce6)]"
      ]
     },
     "execution_count": 3,
     "metadata": {},
     "output_type": "execute_result"
    }
   ],
   "source": [
    "siglist"
   ]
  },
  {
   "cell_type": "code",
   "execution_count": null,
   "metadata": {},
   "outputs": [],
   "source": []
  }
 ],
 "metadata": {
  "kernelspec": {
   "display_name": "Python [conda env:kmer-hashing]",
   "language": "python",
   "name": "conda-env-kmer-hashing-py"
  },
  "language_info": {
   "codemirror_mode": {
    "name": "ipython",
    "version": 3
   },
   "file_extension": ".py",
   "mimetype": "text/x-python",
   "name": "python",
   "nbconvert_exporter": "python",
   "pygments_lexer": "ipython3",
   "version": "3.6.6"
  }
 },
 "nbformat": 4,
 "nbformat_minor": 2
}
