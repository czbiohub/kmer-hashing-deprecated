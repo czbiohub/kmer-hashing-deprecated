{
 "cells": [
  {
   "cell_type": "markdown",
   "metadata": {},
   "source": [
    "From this paper: https://www.ncbi.nlm.nih.gov/pubmed/29980650\n",
    "\n",
    "\n",
    "J Am Soc Nephrol. 2018 Aug;29(8):2069-2080. doi: 10.1681/ASN.2018020125. Epub 2018 Jul 6.\n",
    "### Single-Cell Transcriptomics of a Human Kidney Allograft Biopsy Specimen Defines a Diverse Inflammatory Response.\n",
    "Wu H1, Malone AF1, Donnelly EL1, Kirita Y1, Uchimura K1, Ramakrishnan SM1, Gaut JP2, Humphreys BD3,4.\n",
    "#### Abstract\n",
    "Background Single-cell genomics techniques are revolutionizing our ability to characterize complex tissues. By contrast, the techniques used to analyze renal biopsy specimens have changed little over several decades. We tested the hypothesis that single-cell RNA-sequencing can comprehensively describe cell types and states in a human kidney biopsy specimen.Methods We generated 8746 single-cell transcriptomes from a healthy adult kidney and a single kidney transplant biopsy core by single-cell RNA-sequencing. Unsupervised clustering analysis of the biopsy specimen was performed to identify 16 distinct cell types, including all of the major immune cell types and most native kidney cell types, in this biopsy specimen, for which the histologic read was mixed rejection.Results Monocytes formed two subclusters representing a nonclassical CD16+ group and a classic CD16- group expressing dendritic cell maturation markers. The presence of both monocyte cell subtypes was validated by staining of independent transplant biopsy specimens. Comparison of healthy kidney epithelial transcriptomes with biopsy specimen counterparts identified novel segment-specific proinflammatory responses in rejection. Endothelial cells formed three distinct subclusters: resting cells and two activated endothelial cell groups. One activated endothelial cell group expressed Fc receptor pathway activation and Ig internalization genes, consistent with the pathologic diagnosis of antibody-mediated rejection. We mapped previously defined genes that associate with rejection outcomes to single cell types and generated a searchable online gene expression database.Conclusions We present the first step toward incorporation of single-cell transcriptomics into kidney biopsy specimen interpretation, describe a heterogeneous immune response in mixed rejection, and provide a searchable resource for the scientific community.\n",
    "\n"
   ]
  },
  {
   "cell_type": "code",
   "execution_count": 1,
   "metadata": {},
   "outputs": [],
   "source": [
    "ids = 'PRJNA464435|PRJNA431401'\n",
    "output = 's3://olgabot-maca/kidney-biopsy/fastqs/'"
   ]
  },
  {
   "cell_type": "markdown",
   "metadata": {},
   "source": [
    "\n",
    "\n",
    "    reflow run download_sra.rf -sra_id='PRJNA464435|PRJNA431401' -output='s3://olgabot-maca/kidney-biopsy/fastqs/'"
   ]
  }
 ],
 "metadata": {
  "kernelspec": {
   "display_name": "Python 3",
   "language": "python",
   "name": "python3"
  },
  "language_info": {
   "codemirror_mode": {
    "name": "ipython",
    "version": 3
   },
   "file_extension": ".py",
   "mimetype": "text/x-python",
   "name": "python",
   "nbconvert_exporter": "python",
   "pygments_lexer": "ipython3",
   "version": "3.6.5"
  }
 },
 "nbformat": 4,
 "nbformat_minor": 2
}
