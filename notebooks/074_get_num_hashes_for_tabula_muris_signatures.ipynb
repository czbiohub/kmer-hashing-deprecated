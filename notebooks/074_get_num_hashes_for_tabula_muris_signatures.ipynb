{
 "cells": [
  {
   "cell_type": "code",
   "execution_count": 1,
   "metadata": {},
   "outputs": [],
   "source": [
    "%load_ext autoreload\n",
    "%autoreload 2"
   ]
  },
  {
   "cell_type": "code",
   "execution_count": 2,
   "metadata": {},
   "outputs": [],
   "source": [
    "import sourmash_utils"
   ]
  },
  {
   "cell_type": "code",
   "execution_count": 3,
   "metadata": {},
   "outputs": [],
   "source": [
    "import glob\n",
    "import os"
   ]
  },
  {
   "cell_type": "code",
   "execution_count": 4,
   "metadata": {},
   "outputs": [
    {
     "name": "stdout",
     "output_type": "stream",
     "text": [
      "A10-B000126-3_39_F-1-1.sig\n",
      "A10-B000127-3_38_F-1-1.sig\n",
      "A10-B000166-3_56_F-1-1.sig\n",
      "A10-B000167-3_56_F-1-1.sig\n",
      "A10-B000412-3_56_F-1-1.sig\n",
      "A10-B000610-3_56_F-1-1.sig\n",
      "A10-B000633-3_56_F-1-1.sig\n",
      "A10-B000636-3_56_F-1-1.sig\n",
      "A10-B000826-3_39_F-1-1.sig\n",
      "A10-B000827-3_38_F-1-1.sig\n",
      "ls: write error: Broken pipe\n"
     ]
    }
   ],
   "source": [
    "! ls -1 /mnt/data/maca-facs-sourmash_compute_all/ | head"
   ]
  },
  {
   "cell_type": "code",
   "execution_count": 5,
   "metadata": {},
   "outputs": [],
   "source": [
    "folder = '/mnt/data/maca-facs-sourmash_compute_all'"
   ]
  },
  {
   "cell_type": "code",
   "execution_count": 6,
   "metadata": {},
   "outputs": [
    {
     "data": {
      "text/html": [
       "<div>\n",
       "<style scoped>\n",
       "    .dataframe tbody tr th:only-of-type {\n",
       "        vertical-align: middle;\n",
       "    }\n",
       "\n",
       "    .dataframe tbody tr th {\n",
       "        vertical-align: top;\n",
       "    }\n",
       "\n",
       "    .dataframe thead th {\n",
       "        text-align: right;\n",
       "    }\n",
       "</style>\n",
       "<table border=\"1\" class=\"dataframe\">\n",
       "  <thead>\n",
       "    <tr style=\"text-align: right;\">\n",
       "      <th></th>\n",
       "      <th>ksize</th>\n",
       "      <th>molecule</th>\n",
       "      <th>n_mins</th>\n",
       "      <th>name</th>\n",
       "    </tr>\n",
       "  </thead>\n",
       "  <tbody>\n",
       "    <tr>\n",
       "      <th>0</th>\n",
       "      <td>21</td>\n",
       "      <td>protein</td>\n",
       "      <td>8471</td>\n",
       "      <td>cell_ontology_class:keratinocyte_stem_cell|tis...</td>\n",
       "    </tr>\n",
       "    <tr>\n",
       "      <th>1</th>\n",
       "      <td>21</td>\n",
       "      <td>DNA</td>\n",
       "      <td>4593</td>\n",
       "      <td>cell_ontology_class:keratinocyte_stem_cell|tis...</td>\n",
       "    </tr>\n",
       "    <tr>\n",
       "      <th>2</th>\n",
       "      <td>27</td>\n",
       "      <td>protein</td>\n",
       "      <td>8920</td>\n",
       "      <td>cell_ontology_class:keratinocyte_stem_cell|tis...</td>\n",
       "    </tr>\n",
       "    <tr>\n",
       "      <th>3</th>\n",
       "      <td>27</td>\n",
       "      <td>DNA</td>\n",
       "      <td>4769</td>\n",
       "      <td>cell_ontology_class:keratinocyte_stem_cell|tis...</td>\n",
       "    </tr>\n",
       "    <tr>\n",
       "      <th>4</th>\n",
       "      <td>33</td>\n",
       "      <td>protein</td>\n",
       "      <td>9175</td>\n",
       "      <td>cell_ontology_class:keratinocyte_stem_cell|tis...</td>\n",
       "    </tr>\n",
       "    <tr>\n",
       "      <th>5</th>\n",
       "      <td>33</td>\n",
       "      <td>DNA</td>\n",
       "      <td>4755</td>\n",
       "      <td>cell_ontology_class:keratinocyte_stem_cell|tis...</td>\n",
       "    </tr>\n",
       "    <tr>\n",
       "      <th>6</th>\n",
       "      <td>51</td>\n",
       "      <td>protein</td>\n",
       "      <td>8755</td>\n",
       "      <td>cell_ontology_class:keratinocyte_stem_cell|tis...</td>\n",
       "    </tr>\n",
       "    <tr>\n",
       "      <th>7</th>\n",
       "      <td>51</td>\n",
       "      <td>DNA</td>\n",
       "      <td>4444</td>\n",
       "      <td>cell_ontology_class:keratinocyte_stem_cell|tis...</td>\n",
       "    </tr>\n",
       "  </tbody>\n",
       "</table>\n",
       "</div>"
      ],
      "text/plain": [
       "   ksize molecule  n_mins                                               name\n",
       "0     21  protein    8471  cell_ontology_class:keratinocyte_stem_cell|tis...\n",
       "1     21      DNA    4593  cell_ontology_class:keratinocyte_stem_cell|tis...\n",
       "2     27  protein    8920  cell_ontology_class:keratinocyte_stem_cell|tis...\n",
       "3     27      DNA    4769  cell_ontology_class:keratinocyte_stem_cell|tis...\n",
       "4     33  protein    9175  cell_ontology_class:keratinocyte_stem_cell|tis...\n",
       "5     33      DNA    4755  cell_ontology_class:keratinocyte_stem_cell|tis...\n",
       "6     51  protein    8755  cell_ontology_class:keratinocyte_stem_cell|tis...\n",
       "7     51      DNA    4444  cell_ontology_class:keratinocyte_stem_cell|tis..."
      ]
     },
     "execution_count": 6,
     "metadata": {},
     "output_type": "execute_result"
    }
   ],
   "source": [
    "sourmash_utils.describe(f'{folder}/A10-B000126-3_39_F-1-1.sig')"
   ]
  },
  {
   "cell_type": "code",
   "execution_count": null,
   "metadata": {},
   "outputs": [],
   "source": [
    "dfs = [sourmash_utils.describe(sig) for sig in glob.iglob(f'{folder}/*.sig')]\n",
    "print(len(dfs))"
   ]
  },
  {
   "cell_type": "code",
   "execution_count": null,
   "metadata": {},
   "outputs": [],
   "source": [
    "import pandas as pd"
   ]
  },
  {
   "cell_type": "code",
   "execution_count": null,
   "metadata": {},
   "outputs": [],
   "source": [
    "descriptions_all = pd.concat(dfs)\n",
    "print(descriptions_all.shape)\n",
    "descriptions_all.head()"
   ]
  },
  {
   "cell_type": "code",
   "execution_count": null,
   "metadata": {},
   "outputs": [],
   "source": [
    "import numpy as np"
   ]
  },
  {
   "cell_type": "code",
   "execution_count": null,
   "metadata": {},
   "outputs": [],
   "source": [
    "descriptions_all['log10_n_mins'] = np.log10(descriptions_all.n_mins)\n",
    "descriptions_all.head()"
   ]
  },
  {
   "cell_type": "code",
   "execution_count": null,
   "metadata": {},
   "outputs": [],
   "source": [
    "descriptions_all.to_csv('/mnt/data/maca-facs-sourmash_compute_all_descriptions.csv')"
   ]
  },
  {
   "cell_type": "markdown",
   "metadata": {},
   "source": [
    "## Write to S3!!!"
   ]
  },
  {
   "cell_type": "code",
   "execution_count": null,
   "metadata": {},
   "outputs": [],
   "source": [
    "import s3_utils\n",
    "\n",
    "\n",
    "fmt = 'parquet'\n",
    "filename = f's3://olgabot-maca/facs/sourmash_compute_all_descriptions.{fmt}'\n",
    "\n",
    "%time s3_utils.write_s3(descriptions_all, filename, fmt=fmt)"
   ]
  },
  {
   "cell_type": "code",
   "execution_count": null,
   "metadata": {},
   "outputs": [],
   "source": [
    "# descriptions_all.mean()"
   ]
  },
  {
   "cell_type": "code",
   "execution_count": null,
   "metadata": {},
   "outputs": [],
   "source": [
    "# descriptions_all.median()"
   ]
  },
  {
   "cell_type": "code",
   "execution_count": null,
   "metadata": {},
   "outputs": [],
   "source": [
    "import seaborn as sns\n",
    "%matplotlib inline"
   ]
  },
  {
   "cell_type": "code",
   "execution_count": null,
   "metadata": {},
   "outputs": [],
   "source": [
    "g = sns.FacetGrid(descriptions_all, col='molecule', hue='ksize', palette='magma')\n",
    "g.map(sns.kdeplot, 'n_mins', shade=False)\n",
    "g.add_legend()"
   ]
  },
  {
   "cell_type": "code",
   "execution_count": null,
   "metadata": {},
   "outputs": [],
   "source": [
    "g = sns.FacetGrid(descriptions_all, col='molecule', hue='ksize', palette='magma')\n",
    "g.map(sns.kdeplot, 'log10_n_mins', shade=False)\n",
    "g.add_legend()"
   ]
  },
  {
   "cell_type": "code",
   "execution_count": null,
   "metadata": {},
   "outputs": [],
   "source": [
    "g = sns.FacetGrid(descriptions_all, col='ksize', hue='molecule', palette='magma')\n",
    "g.map(sns.kdeplot, 'log10_n_mins', shade=True)\n",
    "g.add_legend()"
   ]
  },
  {
   "cell_type": "code",
   "execution_count": null,
   "metadata": {},
   "outputs": [],
   "source": [
    "bladder_droplet = pd.read_csv('/mnt/data/10X_P4_3/descriptions.csv')\n",
    "bladder_droplet.head()"
   ]
  },
  {
   "cell_type": "code",
   "execution_count": null,
   "metadata": {},
   "outputs": [],
   "source": [
    "bladder_droplet['method'] = '10x (droplet)'\n",
    "descriptions_all['method'] = 'FACS (SmartSeq2)'"
   ]
  },
  {
   "cell_type": "code",
   "execution_count": null,
   "metadata": {},
   "outputs": [],
   "source": [
    "descriptions_concat = pd.concat([bladder_droplet, descriptions_all], ignore_index=True)\n",
    "print(descriptions_concat.shape)\n",
    "descriptions_concat.head()"
   ]
  },
  {
   "cell_type": "code",
   "execution_count": null,
   "metadata": {},
   "outputs": [],
   "source": [
    "%matplotlib inline"
   ]
  },
  {
   "cell_type": "code",
   "execution_count": null,
   "metadata": {},
   "outputs": [],
   "source": [
    "g = sns.FacetGrid(descriptions_concat, col='ksize',\n",
    "                   row='molecule',\n",
    "                   hue='method', palette='magma')\n",
    "g.map(sns.kdeplot, 'log10_n_mins', shade=False)\n",
    "g.add_legend()"
   ]
  },
  {
   "cell_type": "code",
   "execution_count": null,
   "metadata": {},
   "outputs": [],
   "source": []
  }
 ],
 "metadata": {
  "kernelspec": {
   "display_name": "Python [default]",
   "language": "python",
   "name": "python3"
  },
  "language_info": {
   "codemirror_mode": {
    "name": "ipython",
    "version": 3
   },
   "file_extension": ".py",
   "mimetype": "text/x-python",
   "name": "python",
   "nbconvert_exporter": "python",
   "pygments_lexer": "ipython3",
   "version": "3.6.4"
  }
 },
 "nbformat": 4,
 "nbformat_minor": 2
}
