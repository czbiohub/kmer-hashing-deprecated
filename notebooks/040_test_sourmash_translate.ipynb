{
 "cells": [
  {
   "cell_type": "code",
   "execution_count": 5,
   "metadata": {},
   "outputs": [],
   "source": [
    "dna_to_aa={'TTT':'F','TTC':'F', 'TTA':'L','TTG':'L',\n",
    "                'TCT':'S','TCC':'S','TCA':'S','TCG':'S',\n",
    "                'TAT':'Y','TAC':'Y', 'TAA':'*','TAG':'*','TGA':'*',\n",
    "                'TGT':'C','TGC':'C', 'TGG':'W',\n",
    "                'CTT':'L','CTC':'L','CTA':'L','CTG':'L',\n",
    "                'CCT':'P','CCC':'P','CCA':'P','CCG':'P',\n",
    "                'CAT':'H','CAC':'H', 'CAA':'Q','CAG':'Q',\n",
    "                'CGT':'R','CGC':'R','CGA':'R','CGG':'R',\n",
    "                'ATT':'I','ATC':'I','ATA':'I', 'ATG':'M',\n",
    "                'ACT':'T','ACC':'T','ACA':'T','ACG':'T',\n",
    "                'AAT':'N','AAC':'N', 'AAA':'K','AAG':'K',\n",
    "                'AGT':'S','AGC':'S', 'AGA':'R','AGG':'R',\n",
    "                'GTT':'V','GTC':'V','GTA':'V','GTG':'V',\n",
    "                'GCT':'A','GCC':'A','GCA':'A','GCG':'A',\n",
    "                'GAT':'D','GAC':'D', 'GAA':'E','GAG':'E',\n",
    "                'GGT':'G','GGC':'G','GGA':'G','GGG':'G'}\n",
    "\n",
    "\n",
    "__complementTranslation = { \"A\": \"T\", \"C\": \"G\", \"G\": \"C\", \"T\": \"A\", \"N\": \"N\" }\n",
    "def complement(s):\n",
    "    \"\"\"\n",
    "    Return complement of 's'.\n",
    "    \"\"\"\n",
    "    c = \"\".join(__complementTranslation[n] for n in s)\n",
    "    return c\n",
    "\n",
    "\n",
    "def reverse(s):\n",
    "    \"\"\"\n",
    "    Return reverse of 's'.\n",
    "    \"\"\"\n",
    "    r = \"\".join(reversed(s))\n",
    "    return r\n",
    "\n",
    "\n",
    "def peptides(seq, start):\n",
    "    for i in range(start, len(seq), 3):\n",
    "        yield dna_to_aa.get(seq[i:i+3], \"X\")\n",
    "\n",
    "\n",
    "def translate(seq):\n",
    "    for i in range(3):\n",
    "        pep = peptides(seq, i)\n",
    "        yield \"\".join(pep)\n",
    "\n",
    "    revcomp = reverse(complement((seq)))\n",
    "    for i in range(3):\n",
    "        pep = peptides(revcomp, i)\n",
    "        yield \"\".join(pep)\n",
    "\n",
    "def kmers(seq, k):\n",
    "    for start in range(len(seq) - k + 1):\n",
    "        yield seq[start:start + k]"
   ]
  },
  {
   "cell_type": "code",
   "execution_count": 7,
   "metadata": {},
   "outputs": [
    {
     "data": {
      "text/plain": [
       "['FX', 'LX', 'XX', 'XK', 'XX', '*X']"
      ]
     },
     "execution_count": 7,
     "metadata": {},
     "output_type": "execute_result"
    }
   ],
   "source": [
    "list(translate(\"TTTANT\"))"
   ]
  },
  {
   "cell_type": "code",
   "execution_count": null,
   "metadata": {},
   "outputs": [],
   "source": []
  }
 ],
 "metadata": {
  "kernelspec": {
   "display_name": "Python 3",
   "language": "python",
   "name": "python3"
  },
  "language_info": {
   "codemirror_mode": {
    "name": "ipython",
    "version": 3
   },
   "file_extension": ".py",
   "mimetype": "text/x-python",
   "name": "python",
   "nbconvert_exporter": "python",
   "pygments_lexer": "ipython3",
   "version": "3.6.3"
  }
 },
 "nbformat": 4,
 "nbformat_minor": 2
}
