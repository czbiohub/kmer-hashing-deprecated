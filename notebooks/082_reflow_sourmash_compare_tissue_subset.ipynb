{
 "cells": [
  {
   "cell_type": "code",
   "execution_count": 2,
   "metadata": {},
   "outputs": [],
   "source": [
    "from itertools import product\n",
    "\n",
    "import pandas as pd"
   ]
  },
  {
   "cell_type": "code",
   "execution_count": 3,
   "metadata": {},
   "outputs": [],
   "source": [
    "signatures_dir = \"s3://olgabot-maca/facs/sourmash_compute_tissue_subset/\"\n",
    "\n",
    "ksizes = 21, 27, 33, 51\n",
    "ksizes = ','.join(map(str, ksizes))\n",
    "num_hashes = int(1e6)\n",
    "dna = True\n",
    "protein = True\n",
    "\n",
    "molecules = \"dna\", \"protein\"\n",
    "\n",
    "ignore_abundance = True\n",
    "\n",
    "input_folder = f'/home/olga/code/kmer-hashing/sourmash/maca/facs_v8_tissue-subset_num-hashes={num_hashes}'\n"
   ]
  },
  {
   "cell_type": "code",
   "execution_count": null,
   "metadata": {},
   "outputs": [],
   "source": [
    "pd.options.display()"
   ]
  },
  {
   "cell_type": "code",
   "execution_count": 6,
   "metadata": {},
   "outputs": [
    {
     "name": "stdout",
     "output_type": "stream",
     "text": [
      "(1000, 10)\n"
     ]
    },
    {
     "data": {
      "text/html": [
       "<div>\n",
       "<style scoped>\n",
       "    .dataframe tbody tr th:only-of-type {\n",
       "        vertical-align: middle;\n",
       "    }\n",
       "\n",
       "    .dataframe tbody tr th {\n",
       "        vertical-align: top;\n",
       "    }\n",
       "\n",
       "    .dataframe thead th {\n",
       "        text-align: right;\n",
       "    }\n",
       "</style>\n",
       "<table border=\"1\" class=\"dataframe\">\n",
       "  <thead>\n",
       "    <tr style=\"text-align: right;\">\n",
       "      <th></th>\n",
       "      <th>id</th>\n",
       "      <th>read1</th>\n",
       "      <th>read2</th>\n",
       "      <th>name</th>\n",
       "      <th>output</th>\n",
       "      <th>ksizes</th>\n",
       "      <th>num_hashes</th>\n",
       "      <th>dna</th>\n",
       "      <th>protein</th>\n",
       "      <th>trim_low_abundance_kmers</th>\n",
       "    </tr>\n",
       "  </thead>\n",
       "  <tbody>\n",
       "    <tr>\n",
       "      <th>0</th>\n",
       "      <td>A1-B002764-3_38_F-1-1</td>\n",
       "      <td>s3://czbiohub-maca/remux_data/170914_A00111_00...</td>\n",
       "      <td>s3://czbiohub-maca/remux_data/170914_A00111_00...</td>\n",
       "      <td>A1-B002764-3_38_F-1-1|tissue:Bladder|subtissue...</td>\n",
       "      <td>s3://olgabot-maca/facs/sourmash_compute_tissue...</td>\n",
       "      <td>21,27,33,51</td>\n",
       "      <td>1000000</td>\n",
       "      <td>True</td>\n",
       "      <td>True</td>\n",
       "      <td>False</td>\n",
       "    </tr>\n",
       "    <tr>\n",
       "      <th>1</th>\n",
       "      <td>A1-D042253-3_9_M-1-1</td>\n",
       "      <td>s3://czbiohub-maca/remux_data/170907_A00111_00...</td>\n",
       "      <td>s3://czbiohub-maca/remux_data/170907_A00111_00...</td>\n",
       "      <td>A1-D042253-3_9_M-1-1|tissue:Bladder|subtissue:...</td>\n",
       "      <td>s3://olgabot-maca/facs/sourmash_compute_tissue...</td>\n",
       "      <td>21,27,33,51</td>\n",
       "      <td>1000000</td>\n",
       "      <td>True</td>\n",
       "      <td>True</td>\n",
       "      <td>False</td>\n",
       "    </tr>\n",
       "    <tr>\n",
       "      <th>2</th>\n",
       "      <td>A1-MAA000487-3_10_M-1-1</td>\n",
       "      <td>s3://czbiohub-maca/remux_data/170910_A00111_00...</td>\n",
       "      <td>s3://czbiohub-maca/remux_data/170910_A00111_00...</td>\n",
       "      <td>A1-MAA000487-3_10_M-1-1|tissue:Bladder|subtiss...</td>\n",
       "      <td>s3://olgabot-maca/facs/sourmash_compute_tissue...</td>\n",
       "      <td>21,27,33,51</td>\n",
       "      <td>1000000</td>\n",
       "      <td>True</td>\n",
       "      <td>True</td>\n",
       "      <td>False</td>\n",
       "    </tr>\n",
       "    <tr>\n",
       "      <th>3</th>\n",
       "      <td>A1-MAA000779-3_11_M-1-1</td>\n",
       "      <td>s3://czbiohub-maca/remux_data/170928_A00111_00...</td>\n",
       "      <td>s3://czbiohub-maca/remux_data/170928_A00111_00...</td>\n",
       "      <td>A1-MAA000779-3_11_M-1-1|tissue:Spleen|subtissu...</td>\n",
       "      <td>s3://olgabot-maca/facs/sourmash_compute_tissue...</td>\n",
       "      <td>21,27,33,51</td>\n",
       "      <td>1000000</td>\n",
       "      <td>True</td>\n",
       "      <td>True</td>\n",
       "      <td>False</td>\n",
       "    </tr>\n",
       "    <tr>\n",
       "      <th>4</th>\n",
       "      <td>A1-MAA100039-3_11_M-1-1</td>\n",
       "      <td>s3://czbiohub-maca/remux_data/170928_A00111_00...</td>\n",
       "      <td>s3://czbiohub-maca/remux_data/170928_A00111_00...</td>\n",
       "      <td>A1-MAA100039-3_11_M-1-1|tissue:Liver|subtissue...</td>\n",
       "      <td>s3://olgabot-maca/facs/sourmash_compute_tissue...</td>\n",
       "      <td>21,27,33,51</td>\n",
       "      <td>1000000</td>\n",
       "      <td>True</td>\n",
       "      <td>True</td>\n",
       "      <td>False</td>\n",
       "    </tr>\n",
       "  </tbody>\n",
       "</table>\n",
       "</div>"
      ],
      "text/plain": [
       "                        id                                              read1  \\\n",
       "0    A1-B002764-3_38_F-1-1  s3://czbiohub-maca/remux_data/170914_A00111_00...   \n",
       "1     A1-D042253-3_9_M-1-1  s3://czbiohub-maca/remux_data/170907_A00111_00...   \n",
       "2  A1-MAA000487-3_10_M-1-1  s3://czbiohub-maca/remux_data/170910_A00111_00...   \n",
       "3  A1-MAA000779-3_11_M-1-1  s3://czbiohub-maca/remux_data/170928_A00111_00...   \n",
       "4  A1-MAA100039-3_11_M-1-1  s3://czbiohub-maca/remux_data/170928_A00111_00...   \n",
       "\n",
       "                                               read2  \\\n",
       "0  s3://czbiohub-maca/remux_data/170914_A00111_00...   \n",
       "1  s3://czbiohub-maca/remux_data/170907_A00111_00...   \n",
       "2  s3://czbiohub-maca/remux_data/170910_A00111_00...   \n",
       "3  s3://czbiohub-maca/remux_data/170928_A00111_00...   \n",
       "4  s3://czbiohub-maca/remux_data/170928_A00111_00...   \n",
       "\n",
       "                                                name  \\\n",
       "0  A1-B002764-3_38_F-1-1|tissue:Bladder|subtissue...   \n",
       "1  A1-D042253-3_9_M-1-1|tissue:Bladder|subtissue:...   \n",
       "2  A1-MAA000487-3_10_M-1-1|tissue:Bladder|subtiss...   \n",
       "3  A1-MAA000779-3_11_M-1-1|tissue:Spleen|subtissu...   \n",
       "4  A1-MAA100039-3_11_M-1-1|tissue:Liver|subtissue...   \n",
       "\n",
       "                                              output       ksizes  num_hashes  \\\n",
       "0  s3://olgabot-maca/facs/sourmash_compute_tissue...  21,27,33,51     1000000   \n",
       "1  s3://olgabot-maca/facs/sourmash_compute_tissue...  21,27,33,51     1000000   \n",
       "2  s3://olgabot-maca/facs/sourmash_compute_tissue...  21,27,33,51     1000000   \n",
       "3  s3://olgabot-maca/facs/sourmash_compute_tissue...  21,27,33,51     1000000   \n",
       "4  s3://olgabot-maca/facs/sourmash_compute_tissue...  21,27,33,51     1000000   \n",
       "\n",
       "    dna  protein  trim_low_abundance_kmers  \n",
       "0  True     True                     False  \n",
       "1  True     True                     False  \n",
       "2  True     True                     False  \n",
       "3  True     True                     False  \n",
       "4  True     True                     False  "
      ]
     },
     "execution_count": 6,
     "metadata": {},
     "output_type": "execute_result"
    }
   ],
   "source": [
    "samples = pd.read_csv(f'{input_folder}/samples.csv')\n",
    "print(samples.shape)\n",
    "samples.head()"
   ]
  },
  {
   "cell_type": "code",
   "execution_count": 28,
   "metadata": {},
   "outputs": [
    {
     "name": "stdout",
     "output_type": "stream",
     "text": [
      "==> /home/olga/code/kmer-hashing/sourmash/maca/facs_v8_tissue-subset_num-hashes=1000000/samples.csv <==\r\n",
      "id,read1,read2,name,output,ksizes,num_hashes,dna,protein,trim_low_abundance_kmers\r\n",
      "A1-B002764-3_38_F-1-1,s3://czbiohub-maca/remux_data/170914_A00111_0057_BH3FY7DMXX/rawdata/A1-B002764-3_38_F-1-1_S291/A1-B002764-3_38_F-1-1_S291_R1_001.fastq.gz|s3://czbiohub-maca/remux_data/170914_A00111_0058_AH3FYKDMXX/rawdata/A1-B002764-3_38_F-1-1_S291/A1-B002764-3_38_F-1-1_S291_R1_001.fastq.gz,s3://czbiohub-maca/remux_data/170914_A00111_0057_BH3FY7DMXX/rawdata/A1-B002764-3_38_F-1-1_S291/A1-B002764-3_38_F-1-1_S291_R2_001.fastq.gz|s3://czbiohub-maca/remux_data/170914_A00111_0058_AH3FYKDMXX/rawdata/A1-B002764-3_38_F-1-1_S291/A1-B002764-3_38_F-1-1_S291_R2_001.fastq.gz,A1-B002764-3_38_F-1-1|tissue:Bladder|subtissue:NA|cell_ontology_class:bladder_urothelial_cell|free_annotation:Luminal_bladder_epithelial_cell,s3://olgabot-maca/facs/sourmash_compute_tissue_subset/A1-B002764-3_38_F-1-1.sig,\"21,27,33,51\",1000000,True,True,False\r\n",
      "A1-D042253-3_9_M-1-1,s3://czbiohub-maca/remux_data/170907_A00111_0051_BH2HWLDMXX/rawdata/A1-D042253-3_9_M-1-1_S43/A1-D042253-3_9_M-1-1_S43_R1_001.fastq.gz|s3://czbiohub-maca/remux_data/170907_A00111_0052_AH2HTCDMXX/rawdata/A1-D042253-3_9_M-1-1_S43/A1-D042253-3_9_M-1-1_S43_R1_001.fastq.gz,s3://czbiohub-maca/remux_data/170907_A00111_0051_BH2HWLDMXX/rawdata/A1-D042253-3_9_M-1-1_S43/A1-D042253-3_9_M-1-1_S43_R2_001.fastq.gz|s3://czbiohub-maca/remux_data/170907_A00111_0052_AH2HTCDMXX/rawdata/A1-D042253-3_9_M-1-1_S43/A1-D042253-3_9_M-1-1_S43_R2_001.fastq.gz,A1-D042253-3_9_M-1-1|tissue:Bladder|subtissue:NA|cell_ontology_class:bladder_cell|free_annotation:Bladder_mesenchymal_cell,s3://olgabot-maca/facs/sourmash_compute_tissue_subset/A1-D042253-3_9_M-1-1.sig,\"21,27,33,51\",1000000,True,True,False\r\n",
      "\r\n",
      "==> /home/olga/code/kmer-hashing/sourmash/maca/facs_v8_tissue-subset_num-hashes=1000000/config.json <==\r\n",
      "{\"program\": \"../../../reflow/sourmash_compute.rf\", \"runs_file\": \"samples.csv\"}"
     ]
    }
   ],
   "source": [
    "import json\n",
    "\n",
    "\n",
    "! mkdir -p $folder\n",
    "samples.to_csv(f'{folder}/samples.csv')\n",
    "\n",
    "config = \t{\n",
    "\t\t\"program\": \"../../../reflow/sourmash_compute.rf\",\n",
    "\t\t\"runs_file\": \"samples.csv\"\n",
    "\t}\n",
    "\n",
    "with open(f'{folder}/config.json', 'w') as f:\n",
    "    json.dump(config, f)\n",
    "    \n",
    "! head -n 3 $folder/samples.csv $folder/config.json"
   ]
  },
  {
   "cell_type": "code",
   "execution_count": 110,
   "metadata": {},
   "outputs": [
    {
     "name": "stdout",
     "output_type": "stream",
     "text": [
      "996\r\n"
     ]
    }
   ],
   "source": [
    "! aws s3 ls s3://olgabot-maca/facs/sourmash_dna-only_trim=false_scaled=100/ | wc -l"
   ]
  },
  {
   "cell_type": "code",
   "execution_count": null,
   "metadata": {},
   "outputs": [],
   "source": []
  },
  {
   "cell_type": "code",
   "execution_count": null,
   "metadata": {},
   "outputs": [],
   "source": []
  }
 ],
 "metadata": {
  "kernelspec": {
   "display_name": "Python 3",
   "language": "python",
   "name": "python3"
  },
  "language_info": {
   "codemirror_mode": {
    "name": "ipython",
    "version": 3
   },
   "file_extension": ".py",
   "mimetype": "text/x-python",
   "name": "python",
   "nbconvert_exporter": "python",
   "pygments_lexer": "ipython3",
   "version": "3.6.8"
  }
 },
 "nbformat": 4,
 "nbformat_minor": 2
}
