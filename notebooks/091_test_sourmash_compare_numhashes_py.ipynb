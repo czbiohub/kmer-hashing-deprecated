{
 "cells": [
  {
   "cell_type": "code",
   "execution_count": 4,
   "metadata": {},
   "outputs": [
    {
     "name": "stdout",
     "output_type": "stream",
     "text": [
      "Traceback (most recent call last):\r\n",
      "  File \"/home/olga/code/kmer-hashing/scripts/sourmash_compare_numhashes.py\", line 4, in <module>\r\n",
      "    import click\r\n",
      "ModuleNotFoundError: No module named 'click'\r\n"
     ]
    }
   ],
   "source": [
    "! /home/olga/anaconda/envs/kmer-hashing/bin/python /home/olga/code/kmer-hashing/scripts/sourmash_compare_numhashes.py"
   ]
  },
  {
   "cell_type": "code",
   "execution_count": 5,
   "metadata": {},
   "outputs": [
    {
     "name": "stderr",
     "output_type": "stream",
     "text": [
      "Traceback (most recent call last):\n",
      "  File \"/home/olga/code/kmer-hashing/scripts/sourmash_compare_numhashes.py\", line 4, in <module>\n",
      "    import click\n",
      "ModuleNotFoundError: No module named 'click'\n"
     ]
    }
   ],
   "source": [
    "%%bash\n",
    "\n",
    "/home/olga/anaconda/envs/kmer-hashing/bin/python \\\n",
    "    /home/olga/code/kmer-hashing/scripts/sourmash_compare_numhashes.py \\\n",
    "    /home/olga/scratch-pure/maca/facs/sourmash_compute_tissue_subset/A1-*"
   ]
  },
  {
   "cell_type": "code",
   "execution_count": null,
   "metadata": {},
   "outputs": [],
   "source": []
  }
 ],
 "metadata": {
  "kernelspec": {
   "display_name": "Python [conda env:kmer-hashing]",
   "language": "python",
   "name": "conda-env-kmer-hashing-py"
  },
  "language_info": {
   "codemirror_mode": {
    "name": "ipython",
    "version": 3
   },
   "file_extension": ".py",
   "mimetype": "text/x-python",
   "name": "python",
   "nbconvert_exporter": "python",
   "pygments_lexer": "ipython3",
   "version": "3.6.6"
  }
 },
 "nbformat": 4,
 "nbformat_minor": 2
}
