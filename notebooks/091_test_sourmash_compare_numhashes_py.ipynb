{
 "cells": [
  {
   "cell_type": "code",
   "execution_count": 10,
   "metadata": {},
   "outputs": [
    {
     "name": "stdout",
     "output_type": "stream",
     "text": [
      "Usage: sourmash_compare_numhashes.py [OPTIONS] FILENAMES\r\n",
      "\r\n",
      "Options:\r\n",
      "  --num-hashes <INTEGER INTEGER INTEGER INTEGER INTEGER INTEGER INTEGER INTEGER>...\r\n",
      "                                  Which hash values to compare. Default: (500,\r\n",
      "                                  1000, 2000, 5000, 10000, 20000, 50000,\r\n",
      "                                  10000)\r\n",
      "  --molecules <TEXT TEXT>...      Which hash values to compare. Default:\r\n",
      "                                  ('dna', 'protein')\r\n",
      "  --ksizes <INTEGER INTEGER INTEGER INTEGER>...\r\n",
      "                                  Which hash values to compare. Default: (21,\r\n",
      "                                  27, 33, 51)\r\n",
      "  --outdir TEXT                   Output directory for csvs\r\n",
      "  --help                          Show this message and exit.\r\n"
     ]
    }
   ],
   "source": [
    "! /home/olga/anaconda/envs/kmer-hashing/bin/python /home/olga/code/kmer-hashing/scripts/sourmash_compare_numhashes.py --help"
   ]
  },
  {
   "cell_type": "code",
   "execution_count": 12,
   "metadata": {},
   "outputs": [
    {
     "name": "stdout",
     "output_type": "stream",
     "text": [
      "Process is interrupted.\n"
     ]
    }
   ],
   "source": [
    "%%bash\n",
    "\n",
    "/home/olga/anaconda/envs/kmer-hashing/bin/python \\\n",
    "    /home/olga/code/kmer-hashing/scripts/sourmash_compare_numhashes.py \\\n",
    "    /home/olga/scratch-pure/maca/facs/sourmash_compute_tissue_subset/A1-*"
   ]
  },
  {
   "cell_type": "code",
   "execution_count": null,
   "metadata": {},
   "outputs": [],
   "source": []
  }
 ],
 "metadata": {
  "kernelspec": {
   "display_name": "Python [conda env:kmer-hashing]",
   "language": "python",
   "name": "conda-env-kmer-hashing-py"
  },
  "language_info": {
   "codemirror_mode": {
    "name": "ipython",
    "version": 3
   },
   "file_extension": ".py",
   "mimetype": "text/x-python",
   "name": "python",
   "nbconvert_exporter": "python",
   "pygments_lexer": "ipython3",
   "version": "3.6.6"
  }
 },
 "nbformat": 4,
 "nbformat_minor": 2
}
