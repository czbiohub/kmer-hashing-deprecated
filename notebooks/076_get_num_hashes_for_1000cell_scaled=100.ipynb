{
 "cells": [
  {
   "cell_type": "code",
   "execution_count": 59,
   "metadata": {},
   "outputs": [
    {
     "name": "stdout",
     "output_type": "stream",
     "text": [
      "Writing jupyter_utils.py\n"
     ]
    }
   ],
   "source": [
    "%%file jupyter_utils.py\n",
    "import json\n",
    "import os.path\n",
    "import re\n",
    "import ipykernel\n",
    "import requests\n",
    "\n",
    "\n",
    "from requests.compat import urljoin\n",
    "\n",
    "from notebook.notebookapp import list_running_servers\n",
    "\n",
    "def get_notebook_name():\n",
    "    \"\"\"\n",
    "    Return the full path of the jupyter notebook.\n",
    "    \"\"\"\n",
    "    kernel_id = re.search('kernel-(.*).json',\n",
    "                          ipykernel.connect.get_connection_file()).group(1)\n",
    "    servers = list_running_servers()\n",
    "    for ss in servers:\n",
    "        response = requests.get(urljoin(ss['url'], 'api/sessions'),\n",
    "                                params={'token': ss.get('token', '')})\n",
    "        for nn in json.loads(response.text):\n",
    "            if nn['kernel']['id'] == kernel_id:\n",
    "                relative_path = nn['notebook']['path']\n",
    "                return os.path.join(ss['notebook_dir'], relative_path)"
   ]
  },
  {
   "cell_type": "code",
   "execution_count": 66,
   "metadata": {},
   "outputs": [
    {
     "name": "stdout",
     "output_type": "stream",
     "text": [
      "Overwriting common.py\n"
     ]
    }
   ],
   "source": [
    "%%file common.py\n",
    "import os\n",
    "\n",
    "\n",
    "import jupyter_utils\n",
    "\n",
    "\n",
    "\n",
    "FIGURE_FOLDER = os.path.join('..', 'figures')\n",
    "\n",
    "def get_notebook_basename():\n",
    "    notebook_path = jupyter_utils.get_notebook_name()\n",
    "    notebook_basename = os.path.basename(notebook_path).split('.ipynb')[0]\n",
    "    return notebook_basename\n",
    "\n",
    "\n",
    "def get_figure_folder():\n",
    "    notebook_basename = get_notebook_basename()\n",
    "    figure_folder = os.path.join(FIGURE_FOLDER, notebook_basename)\n",
    "    return figure_folder"
   ]
  },
  {
   "cell_type": "code",
   "execution_count": 67,
   "metadata": {},
   "outputs": [],
   "source": [
    "import common"
   ]
  },
  {
   "cell_type": "code",
   "execution_count": 72,
   "metadata": {},
   "outputs": [
    {
     "data": {
      "text/plain": [
       "'../figures/076_get_num_hashes_for_1000cell_scaled=100'"
      ]
     },
     "execution_count": 72,
     "metadata": {},
     "output_type": "execute_result"
    }
   ],
   "source": [
    "figure_folder = common.get_figure_folder()\n",
    "! mkdir -p $figure_folder\n",
    "figure_folder\n"
   ]
  },
  {
   "cell_type": "code",
   "execution_count": 1,
   "metadata": {},
   "outputs": [],
   "source": [
    "%load_ext autoreload\n",
    "%autoreload 2\n",
    "\n",
    "import glob\n",
    "import os\n",
    "\n",
    "import pandas as pd\n",
    "import numpy as np\n",
    "from tqdm import tqdm\n",
    "\n",
    "\n",
    "import sourmash_utils"
   ]
  },
  {
   "cell_type": "code",
   "execution_count": 6,
   "metadata": {},
   "outputs": [
    {
     "name": "stdout",
     "output_type": "stream",
     "text": [
      "total 56315452\r\n",
      "-rwxr-xr-x 1 olga olga  52535023 Aug  1 19:08 A10-B003281-3_39_F-1-1.signature\r\n",
      "-rwxr-xr-x 1 olga olga  66727477 Aug  7 22:16 A10-MAA000496-3_10_M-1-1.signature\r\n",
      "-rwxr-xr-x 1 olga olga  93244878 Aug  2 20:19 A10-MAA000605-3_10_M-1-1.signature\r\n",
      "-rwxr-xr-x 1 olga olga  25735293 Aug  7 18:40 A11-MAA000611-3_8_M-1-1.signature\r\n",
      "-rwxr-xr-x 1 olga olga  33580028 Aug  2 22:43 A12-B001689-3_38_F-1-1.signature\r\n",
      "-rwxr-xr-x 1 olga olga  16490093 Aug  1 12:18 A12-B003290-3_38_F-1-1.signature\r\n",
      "-rwxr-xr-x 1 olga olga  36779365 Aug  3 09:54 A12-MAA000388-3_11_M-1-1.signature\r\n",
      "-rwxr-xr-x 1 olga olga  74498621 Aug  3 10:33 A12-MAA000439-3_10_M-1-1.signature\r\n",
      "-rwxr-xr-x 1 olga olga  32144761 Aug  1 15:38 A12-MAA000597-3_9_M-1-1.signature\r\n",
      "ls: write error: Broken pipe\r\n"
     ]
    }
   ],
   "source": [
    "folder = '/home/olga/scratch/maca/facs/sourmash_dna-only_trim=false_scaled=100'\n",
    "! ls -l $folder | head"
   ]
  },
  {
   "cell_type": "code",
   "execution_count": 3,
   "metadata": {},
   "outputs": [
    {
     "name": "stderr",
     "output_type": "stream",
     "text": [
      "/home/olga/code/kmer-hashing/notebooks/sourmash_utils.py:54: RuntimeWarning: divide by zero encountered in log10\n",
      "  description['log10_n_mins'] = np.log10(description.n_mins)\n"
     ]
    },
    {
     "data": {
      "text/html": [
       "<div>\n",
       "<style scoped>\n",
       "    .dataframe tbody tr th:only-of-type {\n",
       "        vertical-align: middle;\n",
       "    }\n",
       "\n",
       "    .dataframe tbody tr th {\n",
       "        vertical-align: top;\n",
       "    }\n",
       "\n",
       "    .dataframe thead th {\n",
       "        text-align: right;\n",
       "    }\n",
       "</style>\n",
       "<table border=\"1\" class=\"dataframe\">\n",
       "  <thead>\n",
       "    <tr style=\"text-align: right;\">\n",
       "      <th></th>\n",
       "      <th>ksize</th>\n",
       "      <th>molecule</th>\n",
       "      <th>n_mins</th>\n",
       "      <th>name</th>\n",
       "      <th>log10_n_mins</th>\n",
       "    </tr>\n",
       "  </thead>\n",
       "  <tbody>\n",
       "    <tr>\n",
       "      <th>0</th>\n",
       "      <td>3</td>\n",
       "      <td>DNA</td>\n",
       "      <td>0</td>\n",
       "      <td>A10-B003281-3_39_F-1-1|tissue:Brain_Myeloid|su...</td>\n",
       "      <td>-inf</td>\n",
       "    </tr>\n",
       "    <tr>\n",
       "      <th>1</th>\n",
       "      <td>6</td>\n",
       "      <td>DNA</td>\n",
       "      <td>24</td>\n",
       "      <td>A10-B003281-3_39_F-1-1|tissue:Brain_Myeloid|su...</td>\n",
       "      <td>1.380211</td>\n",
       "    </tr>\n",
       "    <tr>\n",
       "      <th>2</th>\n",
       "      <td>9</td>\n",
       "      <td>DNA</td>\n",
       "      <td>1362</td>\n",
       "      <td>A10-B003281-3_39_F-1-1|tissue:Brain_Myeloid|su...</td>\n",
       "      <td>3.134177</td>\n",
       "    </tr>\n",
       "    <tr>\n",
       "      <th>3</th>\n",
       "      <td>12</td>\n",
       "      <td>DNA</td>\n",
       "      <td>45727</td>\n",
       "      <td>A10-B003281-3_39_F-1-1|tissue:Brain_Myeloid|su...</td>\n",
       "      <td>4.660173</td>\n",
       "    </tr>\n",
       "    <tr>\n",
       "      <th>4</th>\n",
       "      <td>15</td>\n",
       "      <td>DNA</td>\n",
       "      <td>102642</td>\n",
       "      <td>A10-B003281-3_39_F-1-1|tissue:Brain_Myeloid|su...</td>\n",
       "      <td>5.011325</td>\n",
       "    </tr>\n",
       "    <tr>\n",
       "      <th>5</th>\n",
       "      <td>18</td>\n",
       "      <td>DNA</td>\n",
       "      <td>122117</td>\n",
       "      <td>A10-B003281-3_39_F-1-1|tissue:Brain_Myeloid|su...</td>\n",
       "      <td>5.086776</td>\n",
       "    </tr>\n",
       "    <tr>\n",
       "      <th>6</th>\n",
       "      <td>21</td>\n",
       "      <td>DNA</td>\n",
       "      <td>134256</td>\n",
       "      <td>A10-B003281-3_39_F-1-1|tissue:Brain_Myeloid|su...</td>\n",
       "      <td>5.127934</td>\n",
       "    </tr>\n",
       "    <tr>\n",
       "      <th>7</th>\n",
       "      <td>24</td>\n",
       "      <td>DNA</td>\n",
       "      <td>144378</td>\n",
       "      <td>A10-B003281-3_39_F-1-1|tissue:Brain_Myeloid|su...</td>\n",
       "      <td>5.159501</td>\n",
       "    </tr>\n",
       "    <tr>\n",
       "      <th>8</th>\n",
       "      <td>27</td>\n",
       "      <td>DNA</td>\n",
       "      <td>153218</td>\n",
       "      <td>A10-B003281-3_39_F-1-1|tissue:Brain_Myeloid|su...</td>\n",
       "      <td>5.185310</td>\n",
       "    </tr>\n",
       "    <tr>\n",
       "      <th>9</th>\n",
       "      <td>30</td>\n",
       "      <td>DNA</td>\n",
       "      <td>159089</td>\n",
       "      <td>A10-B003281-3_39_F-1-1|tissue:Brain_Myeloid|su...</td>\n",
       "      <td>5.201640</td>\n",
       "    </tr>\n",
       "    <tr>\n",
       "      <th>10</th>\n",
       "      <td>33</td>\n",
       "      <td>DNA</td>\n",
       "      <td>163367</td>\n",
       "      <td>A10-B003281-3_39_F-1-1|tissue:Brain_Myeloid|su...</td>\n",
       "      <td>5.213164</td>\n",
       "    </tr>\n",
       "    <tr>\n",
       "      <th>11</th>\n",
       "      <td>36</td>\n",
       "      <td>DNA</td>\n",
       "      <td>167459</td>\n",
       "      <td>A10-B003281-3_39_F-1-1|tissue:Brain_Myeloid|su...</td>\n",
       "      <td>5.223908</td>\n",
       "    </tr>\n",
       "    <tr>\n",
       "      <th>12</th>\n",
       "      <td>39</td>\n",
       "      <td>DNA</td>\n",
       "      <td>170763</td>\n",
       "      <td>A10-B003281-3_39_F-1-1|tissue:Brain_Myeloid|su...</td>\n",
       "      <td>5.232394</td>\n",
       "    </tr>\n",
       "    <tr>\n",
       "      <th>13</th>\n",
       "      <td>42</td>\n",
       "      <td>DNA</td>\n",
       "      <td>172542</td>\n",
       "      <td>A10-B003281-3_39_F-1-1|tissue:Brain_Myeloid|su...</td>\n",
       "      <td>5.236895</td>\n",
       "    </tr>\n",
       "    <tr>\n",
       "      <th>14</th>\n",
       "      <td>45</td>\n",
       "      <td>DNA</td>\n",
       "      <td>174335</td>\n",
       "      <td>A10-B003281-3_39_F-1-1|tissue:Brain_Myeloid|su...</td>\n",
       "      <td>5.241385</td>\n",
       "    </tr>\n",
       "    <tr>\n",
       "      <th>15</th>\n",
       "      <td>48</td>\n",
       "      <td>DNA</td>\n",
       "      <td>173687</td>\n",
       "      <td>A10-B003281-3_39_F-1-1|tissue:Brain_Myeloid|su...</td>\n",
       "      <td>5.239767</td>\n",
       "    </tr>\n",
       "    <tr>\n",
       "      <th>16</th>\n",
       "      <td>51</td>\n",
       "      <td>DNA</td>\n",
       "      <td>173583</td>\n",
       "      <td>A10-B003281-3_39_F-1-1|tissue:Brain_Myeloid|su...</td>\n",
       "      <td>5.239507</td>\n",
       "    </tr>\n",
       "    <tr>\n",
       "      <th>17</th>\n",
       "      <td>54</td>\n",
       "      <td>DNA</td>\n",
       "      <td>171049</td>\n",
       "      <td>A10-B003281-3_39_F-1-1|tissue:Brain_Myeloid|su...</td>\n",
       "      <td>5.233121</td>\n",
       "    </tr>\n",
       "    <tr>\n",
       "      <th>18</th>\n",
       "      <td>57</td>\n",
       "      <td>DNA</td>\n",
       "      <td>166677</td>\n",
       "      <td>A10-B003281-3_39_F-1-1|tissue:Brain_Myeloid|su...</td>\n",
       "      <td>5.221876</td>\n",
       "    </tr>\n",
       "    <tr>\n",
       "      <th>19</th>\n",
       "      <td>60</td>\n",
       "      <td>DNA</td>\n",
       "      <td>160936</td>\n",
       "      <td>A10-B003281-3_39_F-1-1|tissue:Brain_Myeloid|su...</td>\n",
       "      <td>5.206653</td>\n",
       "    </tr>\n",
       "  </tbody>\n",
       "</table>\n",
       "</div>"
      ],
      "text/plain": [
       "    ksize molecule  n_mins                                               name  \\\n",
       "0       3      DNA       0  A10-B003281-3_39_F-1-1|tissue:Brain_Myeloid|su...   \n",
       "1       6      DNA      24  A10-B003281-3_39_F-1-1|tissue:Brain_Myeloid|su...   \n",
       "2       9      DNA    1362  A10-B003281-3_39_F-1-1|tissue:Brain_Myeloid|su...   \n",
       "3      12      DNA   45727  A10-B003281-3_39_F-1-1|tissue:Brain_Myeloid|su...   \n",
       "4      15      DNA  102642  A10-B003281-3_39_F-1-1|tissue:Brain_Myeloid|su...   \n",
       "5      18      DNA  122117  A10-B003281-3_39_F-1-1|tissue:Brain_Myeloid|su...   \n",
       "6      21      DNA  134256  A10-B003281-3_39_F-1-1|tissue:Brain_Myeloid|su...   \n",
       "7      24      DNA  144378  A10-B003281-3_39_F-1-1|tissue:Brain_Myeloid|su...   \n",
       "8      27      DNA  153218  A10-B003281-3_39_F-1-1|tissue:Brain_Myeloid|su...   \n",
       "9      30      DNA  159089  A10-B003281-3_39_F-1-1|tissue:Brain_Myeloid|su...   \n",
       "10     33      DNA  163367  A10-B003281-3_39_F-1-1|tissue:Brain_Myeloid|su...   \n",
       "11     36      DNA  167459  A10-B003281-3_39_F-1-1|tissue:Brain_Myeloid|su...   \n",
       "12     39      DNA  170763  A10-B003281-3_39_F-1-1|tissue:Brain_Myeloid|su...   \n",
       "13     42      DNA  172542  A10-B003281-3_39_F-1-1|tissue:Brain_Myeloid|su...   \n",
       "14     45      DNA  174335  A10-B003281-3_39_F-1-1|tissue:Brain_Myeloid|su...   \n",
       "15     48      DNA  173687  A10-B003281-3_39_F-1-1|tissue:Brain_Myeloid|su...   \n",
       "16     51      DNA  173583  A10-B003281-3_39_F-1-1|tissue:Brain_Myeloid|su...   \n",
       "17     54      DNA  171049  A10-B003281-3_39_F-1-1|tissue:Brain_Myeloid|su...   \n",
       "18     57      DNA  166677  A10-B003281-3_39_F-1-1|tissue:Brain_Myeloid|su...   \n",
       "19     60      DNA  160936  A10-B003281-3_39_F-1-1|tissue:Brain_Myeloid|su...   \n",
       "\n",
       "    log10_n_mins  \n",
       "0           -inf  \n",
       "1       1.380211  \n",
       "2       3.134177  \n",
       "3       4.660173  \n",
       "4       5.011325  \n",
       "5       5.086776  \n",
       "6       5.127934  \n",
       "7       5.159501  \n",
       "8       5.185310  \n",
       "9       5.201640  \n",
       "10      5.213164  \n",
       "11      5.223908  \n",
       "12      5.232394  \n",
       "13      5.236895  \n",
       "14      5.241385  \n",
       "15      5.239767  \n",
       "16      5.239507  \n",
       "17      5.233121  \n",
       "18      5.221876  \n",
       "19      5.206653  "
      ]
     },
     "execution_count": 3,
     "metadata": {},
     "output_type": "execute_result"
    }
   ],
   "source": [
    "sourmash_utils.describe(f'{folder}/A10-B003281-3_39_F-1-1.signature')"
   ]
  },
  {
   "cell_type": "code",
   "execution_count": 4,
   "metadata": {},
   "outputs": [
    {
     "name": "stderr",
     "output_type": "stream",
     "text": [
      "0it [00:00, ?it/s]/home/olga/code/kmer-hashing/notebooks/sourmash_utils.py:54: RuntimeWarning: divide by zero encountered in log10\n",
      "  description['log10_n_mins'] = np.log10(description.n_mins)\n",
      "996it [28:49,  3.00s/it]"
     ]
    },
    {
     "name": "stdout",
     "output_type": "stream",
     "text": [
      "CPU times: user 12min 17s, sys: 1min 6s, total: 13min 24s\n",
      "Wall time: 28min 49s\n",
      "996\n"
     ]
    },
    {
     "name": "stderr",
     "output_type": "stream",
     "text": [
      "\n"
     ]
    }
   ],
   "source": [
    "%time dfs = [sourmash_utils.describe(sig) for sig in tqdm(glob.iglob(f'{folder}/*.signature'))]\n",
    "print(len(dfs))"
   ]
  },
  {
   "cell_type": "code",
   "execution_count": 8,
   "metadata": {},
   "outputs": [],
   "source": [
    "import seaborn as sns\n",
    "%matplotlib inline"
   ]
  },
  {
   "cell_type": "code",
   "execution_count": 10,
   "metadata": {},
   "outputs": [
    {
     "name": "stderr",
     "output_type": "stream",
     "text": [
      "/home/olga/miniconda3/envs/kmer-hashing/lib/python3.6/site-packages/seaborn/axisgrid.py:715: UserWarning: Using the pointplot function without specifying `order` is likely to produce an incorrect plot.\n",
      "  warnings.warn(warning)\n",
      "/home/olga/miniconda3/envs/kmer-hashing/lib/python3.6/site-packages/scipy/stats/stats.py:1713: FutureWarning: Using a non-tuple sequence for multidimensional indexing is deprecated; use `arr[tuple(seq)]` instead of `arr[seq]`. In the future this will be interpreted as an array index, `arr[np.array(seq)]`, which will result either in an error or a different result.\n",
      "  return np.add.reduce(sorted[indexer] * weights, axis=axis) / sumval\n"
     ]
    },
    {
     "data": {
      "text/plain": [
       "<seaborn.axisgrid.FacetGrid at 0x7f55c0c0f908>"
      ]
     },
     "execution_count": 10,
     "metadata": {},
     "output_type": "execute_result"
    },
    {
     "data": {
      "image/png": "[encoded data removed]",
      "text/plain": [
       "<Figure size 224x216 with 1 Axes>"
      ]
     },
     "metadata": {
      "needs_background": "light"
     },
     "output_type": "display_data"
    }
   ],
   "source": [
    "g = sns.FacetGrid(descriptions_all, palette='magma')\n",
    "g.map(sns.pointplot, 'ksize', 'log10_n_mins')\n",
    "g.add_legend()"
   ]
  },
  {
   "cell_type": "code",
   "execution_count": 14,
   "metadata": {},
   "outputs": [
    {
     "name": "stderr",
     "output_type": "stream",
     "text": [
      "/home/olga/miniconda3/envs/kmer-hashing/lib/python3.6/site-packages/scipy/stats/stats.py:1713: FutureWarning: Using a non-tuple sequence for multidimensional indexing is deprecated; use `arr[tuple(seq)]` instead of `arr[seq]`. In the future this will be interpreted as an array index, `arr[np.array(seq)]`, which will result either in an error or a different result.\n",
      "  return np.add.reduce(sorted[indexer] * weights, axis=axis) / sumval\n"
     ]
    },
    {
     "data": {
      "text/plain": [
       "<seaborn.axisgrid.FacetGrid at 0x7f55c1f63a58>"
      ]
     },
     "execution_count": 14,
     "metadata": {},
     "output_type": "execute_result"
    },
    {
     "data": {
      "image/png": "[encoded data removed]",
      "text/plain": [
       "<Figure size 224x216 with 1 Axes>"
      ]
     },
     "metadata": {
      "needs_background": "light"
     },
     "output_type": "display_data"
    }
   ],
   "source": [
    "g = sns.FacetGrid(descriptions_all, palette='magma')\n",
    "g.map(sns.regplot, 'ksize', 'log10_n_mins')\n",
    "g.add_legend()"
   ]
  },
  {
   "cell_type": "code",
   "execution_count": 19,
   "metadata": {},
   "outputs": [
    {
     "data": {
      "text/plain": [
       "<seaborn.axisgrid.FacetGrid at 0x7f55c0b1cc88>"
      ]
     },
     "execution_count": 19,
     "metadata": {},
     "output_type": "execute_result"
    },
    {
     "data": {
      "image/png": "[encoded data removed]",
      "text/plain": [
       "<Figure size 224x216 with 1 Axes>"
      ]
     },
     "metadata": {
      "needs_background": "light"
     },
     "output_type": "display_data"
    }
   ],
   "source": [
    "g = sns.FacetGrid(descriptions_all, palette='magma')\n",
    "g.map(sns.regplot, 'ksize', 'log10_n_mins', lowess=True)\n",
    "g.add_legend()"
   ]
  },
  {
   "cell_type": "code",
   "execution_count": 33,
   "metadata": {},
   "outputs": [
    {
     "name": "stderr",
     "output_type": "stream",
     "text": [
      "/home/olga/miniconda3/envs/kmer-hashing/lib/python3.6/site-packages/seaborn/axisgrid.py:230: UserWarning: The `size` paramter has been renamed to `height`; please update your code.\n",
      "  warnings.warn(msg, UserWarning)\n"
     ]
    },
    {
     "data": {
      "text/plain": [
       "<seaborn.axisgrid.FacetGrid at 0x7f55c0f252b0>"
      ]
     },
     "execution_count": 33,
     "metadata": {},
     "output_type": "execute_result"
    },
    {
     "data": {
      "image/png": "[encoded data removed]",
      "text/plain": [
       "<Figure size 584x288 with 1 Axes>"
      ]
     },
     "metadata": {},
     "output_type": "display_data"
    }
   ],
   "source": [
    "xticks = sorted(descriptions_all.ksize.unique())\n",
    "sns.set_style('whitegrid')\n",
    "g = sns.FacetGrid(descriptions_all, palette='magma', size=4, aspect=2)\n",
    "g.map(sns.regplot, 'ksize', 'log10_n_mins', lowess=True, scatter=False)\n",
    "g.set(ylim=(4.2, 5.25), xlim=(1, 63), xticks=xticks)\n",
    "g.add_legend()"
   ]
  },
  {
   "cell_type": "code",
   "execution_count": 39,
   "metadata": {},
   "outputs": [
    {
     "data": {
      "text/plain": [
       "158489.3192461114"
      ]
     },
     "execution_count": 39,
     "metadata": {},
     "output_type": "execute_result"
    }
   ],
   "source": [
    "10**5.2"
   ]
  },
  {
   "cell_type": "code",
   "execution_count": 40,
   "metadata": {},
   "outputs": [],
   "source": [
    "import matplotlib.pyplot as plt"
   ]
  },
  {
   "cell_type": "code",
   "execution_count": 76,
   "metadata": {},
   "outputs": [
    {
     "name": "stderr",
     "output_type": "stream",
     "text": [
      "/home/olga/miniconda3/envs/kmer-hashing/lib/python3.6/site-packages/seaborn/axisgrid.py:230: UserWarning: The `size` paramter has been renamed to `height`; please update your code.\n",
      "  warnings.warn(msg, UserWarning)\n"
     ]
    },
    {
     "data": {
      "image/png": "[encoded data removed]",
      "text/plain": [
       "<Figure size 440x216 with 1 Axes>"
      ]
     },
     "metadata": {},
     "output_type": "display_data"
    }
   ],
   "source": [
    "xticks = sorted(descriptions_all.ksize.unique())\n",
    "sns.set_style('whitegrid')\n",
    "g = sns.FacetGrid(descriptions_all, palette='magma', size=3, aspect=2)\n",
    "g.map(sns.regplot, 'ksize', 'n_mins', lowess=True, scatter=False,)\n",
    "g.set(xlim=(1, 63), xticks=xticks, yscale='log', ylabel='Number of hashes (scale=1/100)')\n",
    "for ax in g.axes.flat:\n",
    "    ax.hlines(150000, 3, 60, label='150,000 hashes (scale=1/100)')\n",
    "    ax.legend(loc='lower right')\n",
    "g.add_legend()\n",
    "g.savefig(os.path.join(figure_folder, 'num_hashes_per_ksize.pdf'))"
   ]
  },
  {
   "cell_type": "code",
   "execution_count": 75,
   "metadata": {},
   "outputs": [
    {
     "name": "stderr",
     "output_type": "stream",
     "text": [
      "/home/olga/miniconda3/envs/kmer-hashing/lib/python3.6/site-packages/seaborn/axisgrid.py:230: UserWarning: The `size` paramter has been renamed to `height`; please update your code.\n",
      "  warnings.warn(msg, UserWarning)\n"
     ]
    },
    {
     "data": {
      "text/plain": [
       "<seaborn.axisgrid.FacetGrid at 0x7f55b2970400>"
      ]
     },
     "execution_count": 75,
     "metadata": {},
     "output_type": "execute_result"
    },
    {
     "data": {
      "image/png": "[encoded data removed]",
      "text/plain": [
       "<Figure size 584x288 with 1 Axes>"
      ]
     },
     "metadata": {},
     "output_type": "display_data"
    }
   ],
   "source": [
    "xticks = sorted(descriptions_all.ksize.unique())\n",
    "sns.set_style('whitegrid')\n",
    "g = sns.FacetGrid(descriptions_all, palette='magma', size=4, aspect=2)\n",
    "g.map(sns.regplot, 'ksize', 'n_mins', lowess=True, scatter=False,)\n",
    "g.set(xlim=(1, 63), xticks=xticks, yscale='log', ylabel='Number of hashes (scale=1/100)')\n",
    "for ax in g.axes.flat:\n",
    "    ax.hlines(150000, 3, 60, label='150,000 hashes (scale=1/100)')\n",
    "    ax.legend(loc='lower right')\n",
    "g.add_legend()\n",
    "# g.savefig(os.path.join(figure_folder, 'num_hashes_per_ksize.pdf'))"
   ]
  },
  {
   "cell_type": "code",
   "execution_count": 54,
   "metadata": {},
   "outputs": [
    {
     "name": "stdout",
     "output_type": "stream",
     "text": [
      "CPU times: user 48 ms, sys: 8 ms, total: 56 ms\n",
      "Wall time: 377 ms\n"
     ]
    }
   ],
   "source": [
    "import s3_utils\n",
    "\n",
    "\n",
    "fmt = 'parquet'\n",
    "filename = f's3://olgabot-maca/facs/sourmash_compute_trim=false_scaled=100_descriptions.{fmt}'\n",
    "\n",
    "%time s3_utils.write_s3(descriptions_all, filename, fmt=fmt)"
   ]
  },
  {
   "cell_type": "code",
   "execution_count": 55,
   "metadata": {},
   "outputs": [
    {
     "name": "stdout",
     "output_type": "stream",
     "text": [
      "2018-11-01 06:49:53     309146 sourmash_compute_trim=false_scaled=100_descriptions.parquet\r\n"
     ]
    }
   ],
   "source": [
    "! aws s3 ls $filename"
   ]
  },
  {
   "cell_type": "code",
   "execution_count": null,
   "metadata": {},
   "outputs": [],
   "source": []
  }
 ],
 "metadata": {
  "kernelspec": {
   "display_name": "Python [conda env:kmer-hashing]",
   "language": "python",
   "name": "conda-env-kmer-hashing-py"
  },
  "language_info": {
   "codemirror_mode": {
    "name": "ipython",
    "version": 3
   },
   "file_extension": ".py",
   "mimetype": "text/x-python",
   "name": "python",
   "nbconvert_exporter": "python",
   "pygments_lexer": "ipython3",
   "version": "3.6.6"
  }
 },
 "nbformat": 4,
 "nbformat_minor": 2
}
