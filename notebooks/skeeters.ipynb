{
 "cells": [
  {
   "cell_type": "code",
   "execution_count": 1,
   "metadata": {},
   "outputs": [],
   "source": [
    "import pandas as pd"
   ]
  },
  {
   "cell_type": "code",
   "execution_count": 2,
   "metadata": {},
   "outputs": [
    {
     "name": "stdout",
     "output_type": "stream",
     "text": [
      "mkdir: tmp: File exists\r\n"
     ]
    }
   ],
   "source": [
    "!mkdir tmp"
   ]
  },
  {
   "cell_type": "code",
   "execution_count": 3,
   "metadata": {},
   "outputs": [],
   "source": [
    "sequences_prefix = 's3://czbiohub-mosquito/sequences/'\n",
    "folders = ['CMS001_fastq.gz/', 'CMS002_fastq.gz/']\n",
    "signature_prefix = 's3://czbiohub-mosquito/references/sourmash/signatures/'\n",
    "comparison_prefix = 's3://czbiohub-mosquito/references/sourmash/comparison/'"
   ]
  },
  {
   "cell_type": "code",
   "execution_count": 4,
   "metadata": {},
   "outputs": [],
   "source": [
    "def get_paired_reads(folder):\n",
    "    tmpfile = 'tmp/samples.txt'\n",
    "\n",
    "    ! mkdir -p tmp\n",
    "    ! aws s3 ls {folder} > {tmpfile}\n",
    "    \n",
    "    fastqs = []\n",
    "    for line in open(tmpfile):\n",
    "        if 'fastq' in line:\n",
    "            fastqs.append(line.split()[-1])\n",
    "    read_ones = sorted([f for f in fastqs if 'R1' in f])\n",
    "    read_twos = sorted([f for f in fastqs if 'R2' in f])\n",
    "    for r1, r2 in zip(read_ones, read_twos):\n",
    "        assert r1.split('R1')[0] == r2.split('R2')[0]\n",
    "        \n",
    "    return read_ones, read_twos"
   ]
  },
  {
   "cell_type": "code",
   "execution_count": 5,
   "metadata": {},
   "outputs": [],
   "source": [
    "df = pd.DataFrame(columns=[\"id\",\"read1\",\"read2\",\"name\",\"output\",\"trim_low_abundance_kmers\",\"dna\",\"protein\",\"ksizes\",\"scaled\"])\n",
    "\n",
    "for folder in folders:\n",
    "    read_ones, read_twos = get_paired_reads(sequences_prefix + folder)\n",
    "    \n",
    "    for r1 , r2 in zip(read_ones, read_twos):\n",
    "        name = r1.split('R1')[0].strip('_')\n",
    "        df = df.append({\"id\": name,\n",
    "                        \"read1\": sequences_prefix + folder + r1,\n",
    "                        \"read2\": sequences_prefix + folder + r2,\n",
    "                        \"name\": name,\n",
    "                        \"output\": signature_prefix + name + '.sig',\n",
    "                        \"trim_low_abundance_kmers\": True,\n",
    "                        \"dna\": True,\n",
    "                        \"protein\": False,\n",
    "                        \"ksizes\": \"21,31,51\",\n",
    "                        \"scaled\": 500\n",
    "                          }, ignore_index=True)"
   ]
  },
  {
   "cell_type": "code",
   "execution_count": 6,
   "metadata": {},
   "outputs": [
    {
     "data": {
      "text/html": [
       "<div>\n",
       "<style scoped>\n",
       "    .dataframe tbody tr th:only-of-type {\n",
       "        vertical-align: middle;\n",
       "    }\n",
       "\n",
       "    .dataframe tbody tr th {\n",
       "        vertical-align: top;\n",
       "    }\n",
       "\n",
       "    .dataframe thead th {\n",
       "        text-align: right;\n",
       "    }\n",
       "</style>\n",
       "<table border=\"1\" class=\"dataframe\">\n",
       "  <thead>\n",
       "    <tr style=\"text-align: right;\">\n",
       "      <th></th>\n",
       "      <th>id</th>\n",
       "      <th>read1</th>\n",
       "      <th>read2</th>\n",
       "      <th>name</th>\n",
       "      <th>output</th>\n",
       "      <th>trim_low_abundance_kmers</th>\n",
       "      <th>dna</th>\n",
       "      <th>protein</th>\n",
       "      <th>ksizes</th>\n",
       "      <th>scaled</th>\n",
       "    </tr>\n",
       "  </thead>\n",
       "  <tbody>\n",
       "    <tr>\n",
       "      <th>0</th>\n",
       "      <td>CMS_001_RNA_A_S1</td>\n",
       "      <td>s3://czbiohub-mosquito/sequences/CMS001_fastq....</td>\n",
       "      <td>s3://czbiohub-mosquito/sequences/CMS001_fastq....</td>\n",
       "      <td>CMS_001_RNA_A_S1</td>\n",
       "      <td>s3://czbiohub-mosquito/references/sourmash/sig...</td>\n",
       "      <td>True</td>\n",
       "      <td>True</td>\n",
       "      <td>False</td>\n",
       "      <td>21,31,51</td>\n",
       "      <td>500</td>\n",
       "    </tr>\n",
       "    <tr>\n",
       "      <th>1</th>\n",
       "      <td>CMS_002_RNA_A_S1</td>\n",
       "      <td>s3://czbiohub-mosquito/sequences/CMS001_fastq....</td>\n",
       "      <td>s3://czbiohub-mosquito/sequences/CMS001_fastq....</td>\n",
       "      <td>CMS_002_RNA_A_S1</td>\n",
       "      <td>s3://czbiohub-mosquito/references/sourmash/sig...</td>\n",
       "      <td>True</td>\n",
       "      <td>True</td>\n",
       "      <td>False</td>\n",
       "      <td>21,31,51</td>\n",
       "      <td>500</td>\n",
       "    </tr>\n",
       "    <tr>\n",
       "      <th>2</th>\n",
       "      <td>CMS_003_RNA_A_S2</td>\n",
       "      <td>s3://czbiohub-mosquito/sequences/CMS001_fastq....</td>\n",
       "      <td>s3://czbiohub-mosquito/sequences/CMS001_fastq....</td>\n",
       "      <td>CMS_003_RNA_A_S2</td>\n",
       "      <td>s3://czbiohub-mosquito/references/sourmash/sig...</td>\n",
       "      <td>True</td>\n",
       "      <td>True</td>\n",
       "      <td>False</td>\n",
       "      <td>21,31,51</td>\n",
       "      <td>500</td>\n",
       "    </tr>\n",
       "    <tr>\n",
       "      <th>3</th>\n",
       "      <td>CMS_004_RNA_A_S2</td>\n",
       "      <td>s3://czbiohub-mosquito/sequences/CMS001_fastq....</td>\n",
       "      <td>s3://czbiohub-mosquito/sequences/CMS001_fastq....</td>\n",
       "      <td>CMS_004_RNA_A_S2</td>\n",
       "      <td>s3://czbiohub-mosquito/references/sourmash/sig...</td>\n",
       "      <td>True</td>\n",
       "      <td>True</td>\n",
       "      <td>False</td>\n",
       "      <td>21,31,51</td>\n",
       "      <td>500</td>\n",
       "    </tr>\n",
       "    <tr>\n",
       "      <th>4</th>\n",
       "      <td>CMS_005_RNA_A_S3</td>\n",
       "      <td>s3://czbiohub-mosquito/sequences/CMS001_fastq....</td>\n",
       "      <td>s3://czbiohub-mosquito/sequences/CMS001_fastq....</td>\n",
       "      <td>CMS_005_RNA_A_S3</td>\n",
       "      <td>s3://czbiohub-mosquito/references/sourmash/sig...</td>\n",
       "      <td>True</td>\n",
       "      <td>True</td>\n",
       "      <td>False</td>\n",
       "      <td>21,31,51</td>\n",
       "      <td>500</td>\n",
       "    </tr>\n",
       "  </tbody>\n",
       "</table>\n",
       "</div>"
      ],
      "text/plain": [
       "                 id                                              read1  \\\n",
       "0  CMS_001_RNA_A_S1  s3://czbiohub-mosquito/sequences/CMS001_fastq....   \n",
       "1  CMS_002_RNA_A_S1  s3://czbiohub-mosquito/sequences/CMS001_fastq....   \n",
       "2  CMS_003_RNA_A_S2  s3://czbiohub-mosquito/sequences/CMS001_fastq....   \n",
       "3  CMS_004_RNA_A_S2  s3://czbiohub-mosquito/sequences/CMS001_fastq....   \n",
       "4  CMS_005_RNA_A_S3  s3://czbiohub-mosquito/sequences/CMS001_fastq....   \n",
       "\n",
       "                                               read2              name  \\\n",
       "0  s3://czbiohub-mosquito/sequences/CMS001_fastq....  CMS_001_RNA_A_S1   \n",
       "1  s3://czbiohub-mosquito/sequences/CMS001_fastq....  CMS_002_RNA_A_S1   \n",
       "2  s3://czbiohub-mosquito/sequences/CMS001_fastq....  CMS_003_RNA_A_S2   \n",
       "3  s3://czbiohub-mosquito/sequences/CMS001_fastq....  CMS_004_RNA_A_S2   \n",
       "4  s3://czbiohub-mosquito/sequences/CMS001_fastq....  CMS_005_RNA_A_S3   \n",
       "\n",
       "                                              output trim_low_abundance_kmers  \\\n",
       "0  s3://czbiohub-mosquito/references/sourmash/sig...                     True   \n",
       "1  s3://czbiohub-mosquito/references/sourmash/sig...                     True   \n",
       "2  s3://czbiohub-mosquito/references/sourmash/sig...                     True   \n",
       "3  s3://czbiohub-mosquito/references/sourmash/sig...                     True   \n",
       "4  s3://czbiohub-mosquito/references/sourmash/sig...                     True   \n",
       "\n",
       "    dna protein    ksizes scaled  \n",
       "0  True   False  21,31,51    500  \n",
       "1  True   False  21,31,51    500  \n",
       "2  True   False  21,31,51    500  \n",
       "3  True   False  21,31,51    500  \n",
       "4  True   False  21,31,51    500  "
      ]
     },
     "execution_count": 6,
     "metadata": {},
     "output_type": "execute_result"
    }
   ],
   "source": [
    "df.head()"
   ]
  },
  {
   "cell_type": "code",
   "execution_count": 7,
   "metadata": {},
   "outputs": [],
   "source": [
    "df.to_csv('../sourmash/skeeters/compute/samples.csv', index = False)"
   ]
  },
  {
   "cell_type": "markdown",
   "metadata": {},
   "source": [
    "Some have been computed already"
   ]
  },
  {
   "cell_type": "code",
   "execution_count": 24,
   "metadata": {},
   "outputs": [],
   "source": [
    "computed_signatures = ! aws s3 ls s3://czbiohub-mosquito/references/sourmash/signatures/\n",
    "computed_signatures = [x.split()[-1].split('.')[0] for x in computed_signatures]"
   ]
  },
  {
   "cell_type": "code",
   "execution_count": 28,
   "metadata": {},
   "outputs": [],
   "source": [
    "df_remaining = df[~ df['id'].isin(computed_signatures)]"
   ]
  },
  {
   "cell_type": "code",
   "execution_count": 29,
   "metadata": {},
   "outputs": [],
   "source": [
    "dir_name = '../sourmash/skeeters/compute_remaining'\n",
    "!mkdir {dir_name}\n",
    "df_remaining.to_csv(dir_name + '/samples.csv', index = False)"
   ]
  },
  {
   "cell_type": "markdown",
   "metadata": {},
   "source": [
    "## Split into groups of 10"
   ]
  },
  {
   "cell_type": "markdown",
   "metadata": {},
   "source": [
    "Since runbatch seems to choke on large numbers of samples, we split into groups of 10."
   ]
  },
  {
   "cell_type": "code",
   "execution_count": 41,
   "metadata": {},
   "outputs": [
    {
     "name": "stdout",
     "output_type": "stream",
     "text": [
      "mkdir: ../sourmash/skeeters/compute_0: File exists\n",
      "mkdir: ../sourmash/skeeters/compute_1: File exists\n",
      "mkdir: ../sourmash/skeeters/compute_2: File exists\n",
      "mkdir: ../sourmash/skeeters/compute_3: File exists\n",
      "mkdir: ../sourmash/skeeters/compute_4: File exists\n",
      "mkdir: ../sourmash/skeeters/compute_5: File exists\n",
      "mkdir: ../sourmash/skeeters/compute_6: File exists\n",
      "mkdir: ../sourmash/skeeters/compute_7: File exists\n",
      "mkdir: ../sourmash/skeeters/compute_8: File exists\n",
      "mkdir: ../sourmash/skeeters/compute_9: File exists\n",
      "mkdir: ../sourmash/skeeters/compute_10: File exists\n",
      "mkdir: ../sourmash/skeeters/compute_11: File exists\n",
      "mkdir: ../sourmash/skeeters/compute_12: File exists\n"
     ]
    }
   ],
   "source": [
    "for i in range(len(df)//10 + 1):\n",
    "    dir_name = '../sourmash/skeeters/compute_' + str(i)\n",
    "    !mkdir {dir_name}\n",
    "    df_slice = df.iloc[10*i:10*i + 10]\n",
    "    df_slice.to_csv(dir_name + '/samples.csv', index = False)"
   ]
  },
  {
   "cell_type": "code",
   "execution_count": 32,
   "metadata": {},
   "outputs": [
    {
     "name": "stdout",
     "output_type": "stream",
     "text": [
      "      10\r\n"
     ]
    }
   ],
   "source": [
    "! cat ../sourmash/skeeters/compute_12/samples.csv | wc -l"
   ]
  },
  {
   "cell_type": "code",
   "execution_count": 42,
   "metadata": {},
   "outputs": [
    {
     "name": "stdout",
     "output_type": "stream",
     "text": [
      "cd compute_0\n",
      "reflow runbatch -retry &\n",
      "cd ..\n",
      "cd compute_1\n",
      "reflow runbatch -retry &\n",
      "cd ..\n",
      "cd compute_2\n",
      "reflow runbatch -retry &\n",
      "cd ..\n",
      "cd compute_3\n",
      "reflow runbatch -retry &\n",
      "cd ..\n",
      "cd compute_4\n",
      "reflow runbatch -retry &\n",
      "cd ..\n",
      "cd compute_5\n",
      "reflow runbatch -retry &\n",
      "cd ..\n",
      "cd compute_6\n",
      "reflow runbatch -retry &\n",
      "cd ..\n",
      "cd compute_7\n",
      "reflow runbatch -retry &\n",
      "cd ..\n",
      "cd compute_8\n",
      "reflow runbatch -retry &\n",
      "cd ..\n",
      "cd compute_9\n",
      "reflow runbatch -retry &\n",
      "cd ..\n",
      "cd compute_10\n",
      "reflow runbatch -retry &\n",
      "cd ..\n",
      "cd compute_11\n",
      "reflow runbatch -retry &\n",
      "cd ..\n",
      "cd compute_12\n",
      "reflow runbatch -retry &\n",
      "cd ..\n"
     ]
    }
   ],
   "source": [
    "# Script to run them all\n",
    "for i in range(13):\n",
    "    print('cd compute_'+str(i))\n",
    "    print('reflow runbatch -retry &')\n",
    "    print('cd ..')"
   ]
  },
  {
   "cell_type": "markdown",
   "metadata": {},
   "source": [
    "# Compare"
   ]
  },
  {
   "cell_type": "code",
   "execution_count": 16,
   "metadata": {
    "collapsed": true
   },
   "outputs": [],
   "source": [
    "df = pd.DataFrame(columns=[\"id\", \"ksize\", \"signatures\", \"output\"])\n",
    "\n",
    "for k in [\"21\",\"31\",\"51\"]:\n",
    "    name = \"k\" + str(k)\n",
    "    df = df.append({\"id\": name,\n",
    "               \"ksize\": k,\n",
    "               \"signatures\": signature_prefix,\n",
    "               \"output\": comparison_prefix + name + \"abun.csv\"},\n",
    "             ignore_index = True)"
   ]
  },
  {
   "cell_type": "code",
   "execution_count": 17,
   "metadata": {},
   "outputs": [
    {
     "data": {
      "text/html": [
       "<div>\n",
       "<style scoped>\n",
       "    .dataframe tbody tr th:only-of-type {\n",
       "        vertical-align: middle;\n",
       "    }\n",
       "\n",
       "    .dataframe tbody tr th {\n",
       "        vertical-align: top;\n",
       "    }\n",
       "\n",
       "    .dataframe thead th {\n",
       "        text-align: right;\n",
       "    }\n",
       "</style>\n",
       "<table border=\"1\" class=\"dataframe\">\n",
       "  <thead>\n",
       "    <tr style=\"text-align: right;\">\n",
       "      <th></th>\n",
       "      <th>id</th>\n",
       "      <th>ksize</th>\n",
       "      <th>signatures</th>\n",
       "      <th>output</th>\n",
       "    </tr>\n",
       "  </thead>\n",
       "  <tbody>\n",
       "    <tr>\n",
       "      <th>0</th>\n",
       "      <td>k21</td>\n",
       "      <td>21</td>\n",
       "      <td>s3://czbiohub-mosquito/references/sourmash/sig...</td>\n",
       "      <td>s3://czbiohub-mosquito/references/sourmash/com...</td>\n",
       "    </tr>\n",
       "    <tr>\n",
       "      <th>1</th>\n",
       "      <td>k31</td>\n",
       "      <td>31</td>\n",
       "      <td>s3://czbiohub-mosquito/references/sourmash/sig...</td>\n",
       "      <td>s3://czbiohub-mosquito/references/sourmash/com...</td>\n",
       "    </tr>\n",
       "    <tr>\n",
       "      <th>2</th>\n",
       "      <td>k51</td>\n",
       "      <td>51</td>\n",
       "      <td>s3://czbiohub-mosquito/references/sourmash/sig...</td>\n",
       "      <td>s3://czbiohub-mosquito/references/sourmash/com...</td>\n",
       "    </tr>\n",
       "  </tbody>\n",
       "</table>\n",
       "</div>"
      ],
      "text/plain": [
       "    id ksize                                         signatures  \\\n",
       "0  k21    21  s3://czbiohub-mosquito/references/sourmash/sig...   \n",
       "1  k31    31  s3://czbiohub-mosquito/references/sourmash/sig...   \n",
       "2  k51    51  s3://czbiohub-mosquito/references/sourmash/sig...   \n",
       "\n",
       "                                              output  \n",
       "0  s3://czbiohub-mosquito/references/sourmash/com...  \n",
       "1  s3://czbiohub-mosquito/references/sourmash/com...  \n",
       "2  s3://czbiohub-mosquito/references/sourmash/com...  "
      ]
     },
     "execution_count": 17,
     "metadata": {},
     "output_type": "execute_result"
    }
   ],
   "source": [
    "df.head()"
   ]
  },
  {
   "cell_type": "code",
   "execution_count": 18,
   "metadata": {
    "collapsed": true
   },
   "outputs": [],
   "source": [
    "df.to_csv('../sourmash/skeeters/compare/samples.csv', index = False)"
   ]
  },
  {
   "cell_type": "code",
   "execution_count": null,
   "metadata": {
    "collapsed": true
   },
   "outputs": [],
   "source": []
  }
 ],
 "metadata": {
  "kernelspec": {
   "display_name": "ml",
   "language": "python",
   "name": "ml"
  },
  "language_info": {
   "codemirror_mode": {
    "name": "ipython",
    "version": 3
   },
   "file_extension": ".py",
   "mimetype": "text/x-python",
   "name": "python",
   "nbconvert_exporter": "python",
   "pygments_lexer": "ipython3",
   "version": "3.6.4"
  }
 },
 "nbformat": 4,
 "nbformat_minor": 2
}
