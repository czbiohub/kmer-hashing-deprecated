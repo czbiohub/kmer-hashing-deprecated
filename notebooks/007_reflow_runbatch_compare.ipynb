{
 "cells": [
  {
   "cell_type": "code",
   "execution_count": 6,
   "metadata": {},
   "outputs": [],
   "source": [
    "lung_cancer = {\n",
    "#      'v3_trimmed': 's3://olgabot-maca/lung_cancer/sourmash_v3/',\n",
    "    \n",
    "    # Only v2 has many (4k) signatures\n",
    "               'v2': 's3://olgabot-maca/lung_cancer/sourmash_v2/',\n",
    "#               'v1': 's3://olgabot-maca/lung_cancer/sourmash_v2/'\n",
    "              }\n",
    "\n",
    "tabula_muris = {\n",
    "#     'v2_untrimmed': 's3://olgabot-maca/facs/sourmash_v2/',\n",
    "#                 'v3_trimmed': 's3://olgabot-maca/facs/sourmash_v3/',\n",
    "                \n",
    "                # Only v1 has signatures\n",
    "                 'v1': 's3://olgabot-maca/facs/sourmash/'}"
   ]
  },
  {
   "cell_type": "code",
   "execution_count": 12,
   "metadata": {},
   "outputs": [
    {
     "data": {
      "text/html": [
       "<div>\n",
       "<style scoped>\n",
       "    .dataframe tbody tr th:only-of-type {\n",
       "        vertical-align: middle;\n",
       "    }\n",
       "\n",
       "    .dataframe tbody tr th {\n",
       "        vertical-align: top;\n",
       "    }\n",
       "\n",
       "    .dataframe thead th {\n",
       "        text-align: right;\n",
       "    }\n",
       "</style>\n",
       "<table border=\"1\" class=\"dataframe\">\n",
       "  <thead>\n",
       "    <tr style=\"text-align: right;\">\n",
       "      <th></th>\n",
       "      <th>dataset</th>\n",
       "      <th>run_version</th>\n",
       "      <th>s3_path</th>\n",
       "    </tr>\n",
       "  </thead>\n",
       "  <tbody>\n",
       "    <tr>\n",
       "      <th>1</th>\n",
       "      <td>lung_cancer</td>\n",
       "      <td>v2</td>\n",
       "      <td>s3://olgabot-maca/lung_cancer/sourmash_v2/</td>\n",
       "    </tr>\n",
       "    <tr>\n",
       "      <th>2</th>\n",
       "      <td>tabula_muris</td>\n",
       "      <td>v1</td>\n",
       "      <td>s3://olgabot-maca/facs/sourmash/</td>\n",
       "    </tr>\n",
       "  </tbody>\n",
       "</table>\n",
       "</div>"
      ],
      "text/plain": [
       "        dataset run_version                                     s3_path\n",
       "1   lung_cancer          v2  s3://olgabot-maca/lung_cancer/sourmash_v2/\n",
       "2  tabula_muris          v1            s3://olgabot-maca/facs/sourmash/"
      ]
     },
     "execution_count": 12,
     "metadata": {},
     "output_type": "execute_result"
    }
   ],
   "source": [
    "data = dict(lung_cancer=lung_cancer, tabula_muris=tabula_muris)\n",
    "sourmash_runs = pd.DataFrame(data)\n",
    "sourmash_runs = sourmash_runs.unstack().reset_index()\n",
    "sourmash_runs = sourmash_runs.rename(columns={'level_0':'dataset', 'level_1':'run_version', 0: 's3_path'})\n",
    "sourmash_runs = sourmash_runs.dropna()\n",
    "sourmash_runs.head()"
   ]
  },
  {
   "cell_type": "code",
   "execution_count": 13,
   "metadata": {},
   "outputs": [
    {
     "data": {
      "text/html": [
       "<div>\n",
       "<style scoped>\n",
       "    .dataframe tbody tr th:only-of-type {\n",
       "        vertical-align: middle;\n",
       "    }\n",
       "\n",
       "    .dataframe tbody tr th {\n",
       "        vertical-align: top;\n",
       "    }\n",
       "\n",
       "    .dataframe thead th {\n",
       "        text-align: right;\n",
       "    }\n",
       "</style>\n",
       "<table border=\"1\" class=\"dataframe\">\n",
       "  <thead>\n",
       "    <tr style=\"text-align: right;\">\n",
       "      <th></th>\n",
       "      <th>trimmed</th>\n",
       "      <th>ksizes</th>\n",
       "      <th>protein</th>\n",
       "      <th>dna</th>\n",
       "    </tr>\n",
       "  </thead>\n",
       "  <tbody>\n",
       "    <tr>\n",
       "      <th>v1</th>\n",
       "      <td>False</td>\n",
       "      <td>21,31,52</td>\n",
       "      <td>False</td>\n",
       "      <td>True</td>\n",
       "    </tr>\n",
       "    <tr>\n",
       "      <th>v2</th>\n",
       "      <td>False</td>\n",
       "      <td>21,33,51</td>\n",
       "      <td>True</td>\n",
       "      <td>True</td>\n",
       "    </tr>\n",
       "    <tr>\n",
       "      <th>v3</th>\n",
       "      <td>True</td>\n",
       "      <td>21,33,51</td>\n",
       "      <td>True</td>\n",
       "      <td>True</td>\n",
       "    </tr>\n",
       "  </tbody>\n",
       "</table>\n",
       "</div>"
      ],
      "text/plain": [
       "    trimmed    ksizes  protein   dna\n",
       "v1    False  21,31,52    False  True\n",
       "v2    False  21,33,51     True  True\n",
       "v3     True  21,33,51     True  True"
      ]
     },
     "execution_count": 13,
     "metadata": {},
     "output_type": "execute_result"
    }
   ],
   "source": [
    "import pandas as pd\n",
    "\n",
    "data = {\"trimmed\": dict(v1=False, v2=False, v3=True), \n",
    "        'ksizes': dict(v1='21,31,52', v2='21,33,51', v3='21,33,51'),\n",
    "        \n",
    "        # Was a protein signature calculated?\n",
    "        'protein': dict(v1=False, v2=True, v3=True),\n",
    "        \n",
    "        # Was a DNA signature calculated?\n",
    "         'dna': dict(v1=True, v2=True, v3=True)}\n",
    "\n",
    "metadata = pd.DataFrame(data)\n",
    "metadata.head()"
   ]
  },
  {
   "cell_type": "markdown",
   "metadata": {},
   "source": [
    "Example command:\n",
    "\n",
    "```\n",
    "reflow run ~/reflow-workflows/sourmash_compare.rf -signatures=s3://olgabot-maca/facs/sourmash/ -output==s3://olgabot-maca/facs/sourmash_index_k21 -ksize=21\n",
    "```"
   ]
  },
  {
   "cell_type": "markdown",
   "metadata": {},
   "source": [
    "## Sourmash compare"
   ]
  },
  {
   "cell_type": "code",
   "execution_count": 40,
   "metadata": {},
   "outputs": [
    {
     "name": "stdout",
     "output_type": "stream",
     "text": [
      "total 21M\r\n",
      "drwxrwxr-x 2 ubuntu ubuntu 4.0K Jun 18 22:00 .\r\n",
      "drwxrwxr-x 8 ubuntu ubuntu 4.0K Jun 18 22:01 ..\r\n",
      "-rw-rw-r-- 1 ubuntu ubuntu   92 Jun 18 22:01 config.json\r\n",
      "-rw------- 1 ubuntu ubuntu   72 Jun 18 21:23 log.0\r\n",
      "-rw------- 1 ubuntu ubuntu   72 Jun 18 21:23 log.1\r\n",
      "-rw------- 1 ubuntu ubuntu   72 Jun 18 21:23 log.2\r\n",
      "-rw------- 1 ubuntu ubuntu   72 Jun 18 21:23 log.3\r\n",
      "-rw------- 1 ubuntu ubuntu   72 Jun 18 21:23 log.4\r\n",
      "-rw------- 1 ubuntu ubuntu   72 Jun 18 21:23 log.5\r\n",
      "-rw------- 1 ubuntu ubuntu 1.6M Jun 18 21:28 log.lung_cancer_v2\r\n",
      "-rw------- 1 ubuntu ubuntu   89 Jun 18 22:01 log.lung_cancer_v2_k21\r\n",
      "-rw------- 1 ubuntu ubuntu   89 Jun 18 22:01 log.lung_cancer_v2_k33\r\n",
      "-rw------- 1 ubuntu ubuntu   89 Jun 18 22:01 log.lung_cancer_v2_k51\r\n",
      "-rw------- 1 ubuntu ubuntu  19M Jun 18 21:30 log.tabula_muris_v1\r\n",
      "-rw------- 1 ubuntu ubuntu   90 Jun 18 22:01 log.tabula_muris_v1_k21\r\n",
      "-rw------- 1 ubuntu ubuntu   90 Jun 18 22:01 log.tabula_muris_v1_k31\r\n",
      "-rw------- 1 ubuntu ubuntu   90 Jun 18 22:01 log.tabula_muris_v1_k52\r\n",
      "-rw-rw-r-- 1 ubuntu ubuntu  684 Jun 18 22:01 samples.csv\r\n",
      "-rw------- 1 ubuntu ubuntu  688 Jun 18 22:00 state.bak\r\n",
      "-rw------- 1 ubuntu ubuntu 2.1K Jun 18 22:00 state.json\r\n",
      "-rwxrwxr-x 1 ubuntu ubuntu    0 Jun 18 21:22 state.lock\r\n"
     ]
    }
   ],
   "source": [
    "\n",
    "import json\n",
    "\n",
    "lines = []\n",
    "\n",
    "program = 'compare'\n",
    "folder = f'/home/ubuntu/kmer-hashing/sourmash/{program}'\n",
    "! mkdir -p $folder\n",
    "\n",
    "\n",
    "for i, row in sourmash_runs.iterrows():\n",
    "    run_id = f'{row.dataset}_{row.run_version}'.format(**row)\n",
    "\n",
    "    ksizes = metadata.loc[row.run_version].ksizes.split(',')\n",
    "\n",
    "    for ksize in ksizes:\n",
    "        output = row.s3_path.rstrip('/') + f'_{program}_k{ksize}'\n",
    "        line = {'id': f'{run_id}_k{ksize}', 'signatures': row.s3_path, 'output': output, 'ksize': ksize}\n",
    "        lines.append(line)\n",
    "            \n",
    "samples = pd.DataFrame.from_records(lines)\n",
    "samples.to_csv(f'{folder}/samples.csv', index=False)\n",
    "samples\n",
    "\n",
    "config = \t{\n",
    "\t\t\"program\": f\"/home/ubuntu/reflow-workflows/sourmash_{program}.rf\",\n",
    "\t\t\"runs_file\": \"samples.csv\"\n",
    "\t}\n",
    "\n",
    "\n",
    "\n",
    "with open(f'{folder}/config.json', 'w') as f:\n",
    "    json.dump(config, f)\n",
    "    \n",
    "! ls -lha $folder"
   ]
  },
  {
   "cell_type": "markdown",
   "metadata": {},
   "source": [
    "## Sourmash index"
   ]
  },
  {
   "cell_type": "code",
   "execution_count": 39,
   "metadata": {},
   "outputs": [
    {
     "name": "stdout",
     "output_type": "stream",
     "text": [
      "/home/ubuntu/kmer-hashing/sourmash/index\n",
      "total 16K\n",
      "drwxrwxr-x 2 ubuntu ubuntu 4.0K Jun 18 22:01 .\n",
      "drwxrwxr-x 8 ubuntu ubuntu 4.0K Jun 18 22:01 ..\n",
      "-rw-rw-r-- 1 ubuntu ubuntu   90 Jun 18 22:01 config.json\n",
      "-rw-rw-r-- 1 ubuntu ubuntu  672 Jun 18 22:01 samples.csv\n"
     ]
    }
   ],
   "source": [
    "lines = []\n",
    "\n",
    "program = 'index'\n",
    "folder = f'/home/ubuntu/kmer-hashing/sourmash/{program}'\n",
    "! mkdir -p $folder\n",
    "print(folder)\n",
    "\n",
    "\n",
    "for i, row in sourmash_runs.iterrows():\n",
    "    run_id = f'{row.dataset}_{row.run_version}'.format(**row)\n",
    "\n",
    "    ksizes = metadata.loc[row.run_version].ksizes.split(',')\n",
    "\n",
    "    for ksize in ksizes:\n",
    "        output = row.s3_path.rstrip('/') + f'_{program}_k{ksize}'\n",
    "        line = {'id': f'{run_id}_k{ksize}', 'signatures': row.s3_path, 'output': output, 'ksize': ksize}\n",
    "        lines.append(line)\n",
    "            \n",
    "samples = pd.DataFrame.from_records(lines)\n",
    "samples.to_csv(f'{folder}/samples.csv', index=False)\n",
    "\n",
    "config = \t{\n",
    "\t\t\"program\": f\"/home/ubuntu/reflow-workflows/sourmash_{program}.rf\",\n",
    "\t\t\"runs_file\": \"samples.csv\"\n",
    "\t}\n",
    "\n",
    "\n",
    "\n",
    "with open(f'{folder}/config.json', 'w') as f:\n",
    "    json.dump(config, f)\n",
    "\n",
    "samples\n",
    "\n",
    "! ls -lha $folder"
   ]
  },
  {
   "cell_type": "code",
   "execution_count": 38,
   "metadata": {},
   "outputs": [
    {
     "data": {
      "text/plain": [
       "'/home/ubuntu/kmer-hashing/sourmash/compare'"
      ]
     },
     "execution_count": 38,
     "metadata": {},
     "output_type": "execute_result"
    }
   ],
   "source": [
    "folder"
   ]
  },
  {
   "cell_type": "code",
   "execution_count": null,
   "metadata": {},
   "outputs": [],
   "source": []
  }
 ],
 "metadata": {
  "kernelspec": {
   "display_name": "Python 3",
   "language": "python",
   "name": "python3"
  },
  "language_info": {
   "codemirror_mode": {
    "name": "ipython",
    "version": 3
   },
   "file_extension": ".py",
   "mimetype": "text/x-python",
   "name": "python",
   "nbconvert_exporter": "python",
   "pygments_lexer": "ipython3",
   "version": "3.6.3"
  }
 },
 "nbformat": 4,
 "nbformat_minor": 2
}
