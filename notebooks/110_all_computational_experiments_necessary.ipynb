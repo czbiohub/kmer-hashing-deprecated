{
 "cells": [
  {
   "cell_type": "code",
   "execution_count": 1,
   "metadata": {},
   "outputs": [],
   "source": [
    "from itertools import product\n",
    "\n",
    "import pandas as pd"
   ]
  },
  {
   "cell_type": "code",
   "execution_count": 15,
   "metadata": {},
   "outputs": [],
   "source": [
    "ksizes = 15, 21, 27, 33, 51\n",
    "num_hashes = 500, 1000, 2000, 5000, 10000, 50000, 100000\n",
    "\n",
    "log2_sketch_sizes = 8, 9, 10, 11, 12, 13, 14, 15, 16\n",
    "is_scaled = True, False\n",
    "\n",
    "molecules = 'protein', 'DNA'\n",
    "\n",
    "methods = '10x', 'FACS'\n",
    "algorithms = 'dashing/HLL', 'sourmash/MinHash'\n",
    "\n",
    "tissues = 'within bladder', 'within kidney' 'across kidney & bladder'\n",
    "species = 'within human', 'within mouse', 'across human & mouse'"
   ]
  },
  {
   "cell_type": "code",
   "execution_count": 18,
   "metadata": {},
   "outputs": [
    {
     "name": "stdout",
     "output_type": "stream",
     "text": [
      "(4320, 9)\n"
     ]
    },
    {
     "data": {
      "text/html": [
       "<div>\n",
       "<style scoped>\n",
       "    .dataframe tbody tr th:only-of-type {\n",
       "        vertical-align: middle;\n",
       "    }\n",
       "\n",
       "    .dataframe tbody tr th {\n",
       "        vertical-align: top;\n",
       "    }\n",
       "\n",
       "    .dataframe thead th {\n",
       "        text-align: right;\n",
       "    }\n",
       "</style>\n",
       "<table border=\"1\" class=\"dataframe\">\n",
       "  <thead>\n",
       "    <tr style=\"text-align: right;\">\n",
       "      <th></th>\n",
       "      <th>ksize</th>\n",
       "      <th>log2_sketch_sizes</th>\n",
       "      <th>molecules</th>\n",
       "      <th>methods</th>\n",
       "      <th>algorithms</th>\n",
       "      <th>tissues</th>\n",
       "      <th>species</th>\n",
       "      <th>is_scaled</th>\n",
       "      <th>num_hashes</th>\n",
       "    </tr>\n",
       "  </thead>\n",
       "  <tbody>\n",
       "    <tr>\n",
       "      <th>0</th>\n",
       "      <td>15</td>\n",
       "      <td>8</td>\n",
       "      <td>protein</td>\n",
       "      <td>10x</td>\n",
       "      <td>dashing/HLL</td>\n",
       "      <td>within bladder</td>\n",
       "      <td>within human</td>\n",
       "      <td>True</td>\n",
       "      <td>256</td>\n",
       "    </tr>\n",
       "    <tr>\n",
       "      <th>1</th>\n",
       "      <td>15</td>\n",
       "      <td>8</td>\n",
       "      <td>protein</td>\n",
       "      <td>10x</td>\n",
       "      <td>dashing/HLL</td>\n",
       "      <td>within bladder</td>\n",
       "      <td>within human</td>\n",
       "      <td>False</td>\n",
       "      <td>256</td>\n",
       "    </tr>\n",
       "    <tr>\n",
       "      <th>2</th>\n",
       "      <td>15</td>\n",
       "      <td>8</td>\n",
       "      <td>protein</td>\n",
       "      <td>10x</td>\n",
       "      <td>dashing/HLL</td>\n",
       "      <td>within bladder</td>\n",
       "      <td>within mouse</td>\n",
       "      <td>True</td>\n",
       "      <td>256</td>\n",
       "    </tr>\n",
       "    <tr>\n",
       "      <th>3</th>\n",
       "      <td>15</td>\n",
       "      <td>8</td>\n",
       "      <td>protein</td>\n",
       "      <td>10x</td>\n",
       "      <td>dashing/HLL</td>\n",
       "      <td>within bladder</td>\n",
       "      <td>within mouse</td>\n",
       "      <td>False</td>\n",
       "      <td>256</td>\n",
       "    </tr>\n",
       "    <tr>\n",
       "      <th>4</th>\n",
       "      <td>15</td>\n",
       "      <td>8</td>\n",
       "      <td>protein</td>\n",
       "      <td>10x</td>\n",
       "      <td>dashing/HLL</td>\n",
       "      <td>within bladder</td>\n",
       "      <td>across human &amp; mouse</td>\n",
       "      <td>True</td>\n",
       "      <td>256</td>\n",
       "    </tr>\n",
       "  </tbody>\n",
       "</table>\n",
       "</div>"
      ],
      "text/plain": [
       "   ksize  log2_sketch_sizes molecules methods   algorithms         tissues  \\\n",
       "0     15                  8   protein     10x  dashing/HLL  within bladder   \n",
       "1     15                  8   protein     10x  dashing/HLL  within bladder   \n",
       "2     15                  8   protein     10x  dashing/HLL  within bladder   \n",
       "3     15                  8   protein     10x  dashing/HLL  within bladder   \n",
       "4     15                  8   protein     10x  dashing/HLL  within bladder   \n",
       "\n",
       "                species  is_scaled  num_hashes  \n",
       "0          within human       True         256  \n",
       "1          within human      False         256  \n",
       "2          within mouse       True         256  \n",
       "3          within mouse      False         256  \n",
       "4  across human & mouse       True         256  "
      ]
     },
     "execution_count": 18,
     "metadata": {},
     "output_type": "execute_result"
    }
   ],
   "source": [
    "data = list(product(ksizes, log2_sketch_sizes, molecules, methods, algorithms, tissues, species, is_scaled))\n",
    "\n",
    "columns = ['ksize', 'log2_sketch_sizes', 'molecules', 'methods', 'algorithms', 'tissues', 'species', 'is_scaled']\n",
    "\n",
    "df = pd.DataFrame(data, columns=columns)\n",
    "df['num_hashes'] = df.log2_sketch_sizes.map(lambda x: 2**x)\n",
    "print(df.shape)\n",
    "df.head()"
   ]
  },
  {
   "cell_type": "code",
   "execution_count": 14,
   "metadata": {},
   "outputs": [
    {
     "ename": "PyperclipException",
     "evalue": "\n    Pyperclip could not find a copy/paste mechanism for your system.\n    For more information, please visit https://pyperclip.readthedocs.org ",
     "output_type": "error",
     "traceback": [
      "\u001b[0;31m---------------------------------------------------------------------------\u001b[0m",
      "\u001b[0;31mPyperclipException\u001b[0m                        Traceback (most recent call last)",
      "\u001b[0;32m<ipython-input-14-d9e762ebf7d3>\u001b[0m in \u001b[0;36m<module>\u001b[0;34m()\u001b[0m\n\u001b[0;32m----> 1\u001b[0;31m \u001b[0mdf\u001b[0m\u001b[0;34m.\u001b[0m\u001b[0mto_clipboard\u001b[0m\u001b[0;34m(\u001b[0m\u001b[0;34m)\u001b[0m\u001b[0;34m\u001b[0m\u001b[0;34m\u001b[0m\u001b[0m\n\u001b[0m",
      "\u001b[0;32m~/miniconda3/envs/kmer-hashing/lib/python3.6/site-packages/pandas/core/generic.py\u001b[0m in \u001b[0;36mto_clipboard\u001b[0;34m(self, excel, sep, **kwargs)\u001b[0m\n\u001b[1;32m   2649\u001b[0m         \"\"\"\n\u001b[1;32m   2650\u001b[0m         \u001b[0;32mfrom\u001b[0m \u001b[0mpandas\u001b[0m\u001b[0;34m.\u001b[0m\u001b[0mio\u001b[0m \u001b[0;32mimport\u001b[0m \u001b[0mclipboards\u001b[0m\u001b[0;34m\u001b[0m\u001b[0;34m\u001b[0m\u001b[0m\n\u001b[0;32m-> 2651\u001b[0;31m         \u001b[0mclipboards\u001b[0m\u001b[0;34m.\u001b[0m\u001b[0mto_clipboard\u001b[0m\u001b[0;34m(\u001b[0m\u001b[0mself\u001b[0m\u001b[0;34m,\u001b[0m \u001b[0mexcel\u001b[0m\u001b[0;34m=\u001b[0m\u001b[0mexcel\u001b[0m\u001b[0;34m,\u001b[0m \u001b[0msep\u001b[0m\u001b[0;34m=\u001b[0m\u001b[0msep\u001b[0m\u001b[0;34m,\u001b[0m \u001b[0;34m**\u001b[0m\u001b[0mkwargs\u001b[0m\u001b[0;34m)\u001b[0m\u001b[0;34m\u001b[0m\u001b[0;34m\u001b[0m\u001b[0m\n\u001b[0m\u001b[1;32m   2652\u001b[0m \u001b[0;34m\u001b[0m\u001b[0m\n\u001b[1;32m   2653\u001b[0m     \u001b[0;32mdef\u001b[0m \u001b[0mto_xarray\u001b[0m\u001b[0;34m(\u001b[0m\u001b[0mself\u001b[0m\u001b[0;34m)\u001b[0m\u001b[0;34m:\u001b[0m\u001b[0;34m\u001b[0m\u001b[0;34m\u001b[0m\u001b[0m\n",
      "\u001b[0;32m~/miniconda3/envs/kmer-hashing/lib/python3.6/site-packages/pandas/io/clipboards.py\u001b[0m in \u001b[0;36mto_clipboard\u001b[0;34m(obj, excel, sep, **kwargs)\u001b[0m\n\u001b[1;32m    129\u001b[0m             \u001b[0;32mif\u001b[0m \u001b[0mPY2\u001b[0m\u001b[0;34m:\u001b[0m\u001b[0;34m\u001b[0m\u001b[0;34m\u001b[0m\u001b[0m\n\u001b[1;32m    130\u001b[0m                 \u001b[0mtext\u001b[0m \u001b[0;34m=\u001b[0m \u001b[0mtext\u001b[0m\u001b[0;34m.\u001b[0m\u001b[0mdecode\u001b[0m\u001b[0;34m(\u001b[0m\u001b[0;34m'utf-8'\u001b[0m\u001b[0;34m)\u001b[0m\u001b[0;34m\u001b[0m\u001b[0;34m\u001b[0m\u001b[0m\n\u001b[0;32m--> 131\u001b[0;31m             \u001b[0mclipboard_set\u001b[0m\u001b[0;34m(\u001b[0m\u001b[0mtext\u001b[0m\u001b[0;34m)\u001b[0m\u001b[0;34m\u001b[0m\u001b[0;34m\u001b[0m\u001b[0m\n\u001b[0m\u001b[1;32m    132\u001b[0m             \u001b[0;32mreturn\u001b[0m\u001b[0;34m\u001b[0m\u001b[0;34m\u001b[0m\u001b[0m\n\u001b[1;32m    133\u001b[0m         \u001b[0;32mexcept\u001b[0m \u001b[0mTypeError\u001b[0m\u001b[0;34m:\u001b[0m\u001b[0;34m\u001b[0m\u001b[0;34m\u001b[0m\u001b[0m\n",
      "\u001b[0;32m~/miniconda3/envs/kmer-hashing/lib/python3.6/site-packages/pandas/io/clipboard/clipboards.py\u001b[0m in \u001b[0;36m__call__\u001b[0;34m(self, *args, **kwargs)\u001b[0m\n\u001b[1;32m    134\u001b[0m \u001b[0;34m\u001b[0m\u001b[0m\n\u001b[1;32m    135\u001b[0m         \u001b[0;32mdef\u001b[0m \u001b[0m__call__\u001b[0m\u001b[0;34m(\u001b[0m\u001b[0mself\u001b[0m\u001b[0;34m,\u001b[0m \u001b[0;34m*\u001b[0m\u001b[0margs\u001b[0m\u001b[0;34m,\u001b[0m \u001b[0;34m**\u001b[0m\u001b[0mkwargs\u001b[0m\u001b[0;34m)\u001b[0m\u001b[0;34m:\u001b[0m\u001b[0;34m\u001b[0m\u001b[0;34m\u001b[0m\u001b[0m\n\u001b[0;32m--> 136\u001b[0;31m             \u001b[0;32mraise\u001b[0m \u001b[0mPyperclipException\u001b[0m\u001b[0;34m(\u001b[0m\u001b[0mEXCEPT_MSG\u001b[0m\u001b[0;34m)\u001b[0m\u001b[0;34m\u001b[0m\u001b[0;34m\u001b[0m\u001b[0m\n\u001b[0m\u001b[1;32m    137\u001b[0m \u001b[0;34m\u001b[0m\u001b[0m\n\u001b[1;32m    138\u001b[0m         \u001b[0;32mif\u001b[0m \u001b[0mPY2\u001b[0m\u001b[0;34m:\u001b[0m\u001b[0;34m\u001b[0m\u001b[0;34m\u001b[0m\u001b[0m\n",
      "\u001b[0;31mPyperclipException\u001b[0m: \n    Pyperclip could not find a copy/paste mechanism for your system.\n    For more information, please visit https://pyperclip.readthedocs.org "
     ]
    }
   ],
   "source": [
    "df.to_clipboard()"
   ]
  },
  {
   "cell_type": "code",
   "execution_count": 8,
   "metadata": {},
   "outputs": [],
   "source": [
    "from math import log2"
   ]
  },
  {
   "cell_type": "code",
   "execution_count": 10,
   "metadata": {},
   "outputs": [
    {
     "name": "stdout",
     "output_type": "stream",
     "text": [
      "log2(500): 8.965784284662087\n",
      "log2(1000): 9.965784284662087\n",
      "log2(2000): 10.965784284662087\n",
      "log2(5000): 12.287712379549449\n",
      "log2(10000): 13.287712379549449\n",
      "log2(50000): 15.609640474436812\n",
      "log2(100000): 16.609640474436812\n"
     ]
    }
   ],
   "source": [
    "for num_hash in num_hashes:\n",
    "    print(f'log2({num_hash}): {log2(num_hash)}')"
   ]
  },
  {
   "cell_type": "code",
   "execution_count": null,
   "metadata": {},
   "outputs": [],
   "source": []
  }
 ],
 "metadata": {
  "kernelspec": {
   "display_name": "Python [conda env:kmer-hashing]",
   "language": "python",
   "name": "conda-env-kmer-hashing-py"
  },
  "language_info": {
   "codemirror_mode": {
    "name": "ipython",
    "version": 3
   },
   "file_extension": ".py",
   "mimetype": "text/x-python",
   "name": "python",
   "nbconvert_exporter": "python",
   "pygments_lexer": "ipython3",
   "version": "3.6.8"
  }
 },
 "nbformat": 4,
 "nbformat_minor": 2
}
