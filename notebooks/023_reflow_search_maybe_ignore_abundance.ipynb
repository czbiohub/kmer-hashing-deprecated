{
 "cells": [
  {
   "cell_type": "code",
   "execution_count": 4,
   "metadata": {},
   "outputs": [
    {
     "name": "stderr",
     "output_type": "stream",
     "text": [
      "/home/ubuntu/anaconda/lib/python3.6/importlib/_bootstrap.py:219: RuntimeWarning: numpy.dtype size changed, may indicate binary incompatibility. Expected 96, got 88\n",
      "  return f(*args, **kwds)\n",
      "/home/ubuntu/anaconda/lib/python3.6/importlib/_bootstrap.py:219: RuntimeWarning: numpy.dtype size changed, may indicate binary incompatibility. Expected 96, got 88\n",
      "  return f(*args, **kwds)\n"
     ]
    }
   ],
   "source": [
    "import os\n",
    "\n",
    "import pandas as pd\n",
    "\n",
    "pd.options.display.max_colwidth = 100"
   ]
  },
  {
   "cell_type": "code",
   "execution_count": 5,
   "metadata": {},
   "outputs": [
    {
     "name": "stdout",
     "output_type": "stream",
     "text": [
      "                           PRE tabula-muris-k21-dna/\r\n",
      "                           PRE tabula-muris-k21-protein/\r\n",
      "                           PRE tabula-muris-k27-dna/\r\n",
      "                           PRE tabula-muris-k27-protein/\r\n",
      "                           PRE tabula-muris-k33-dna/\r\n",
      "                           PRE tabula-muris-k33-protein/\r\n",
      "                           PRE tabula-muris-k51-dna/\r\n",
      "                           PRE tabula-muris-k51-protein/\r\n"
     ]
    }
   ],
   "source": [
    "prefix = 's3://olgabot-maca/facs/sourmash_index_all/'\n",
    "txt = 'sourmash_databases.txt'\n",
    "\n",
    "! aws s3 ls $prefix > $txt\n",
    "! cat $txt"
   ]
  },
  {
   "cell_type": "code",
   "execution_count": 26,
   "metadata": {},
   "outputs": [],
   "source": [
    "cell = 'A1-B000610-3_56_F-1-1'\n",
    "\n",
    "signature = 's3://olgabot-maca/facs/sourmash_compute_all/{cell}.sig'"
   ]
  },
  {
   "cell_type": "code",
   "execution_count": 17,
   "metadata": {},
   "outputs": [
    {
     "data": {
      "text/html": [
       "<div>\n",
       "<style scoped>\n",
       "    .dataframe tbody tr th:only-of-type {\n",
       "        vertical-align: middle;\n",
       "    }\n",
       "\n",
       "    .dataframe tbody tr th {\n",
       "        vertical-align: top;\n",
       "    }\n",
       "\n",
       "    .dataframe thead th {\n",
       "        text-align: right;\n",
       "    }\n",
       "</style>\n",
       "<table border=\"1\" class=\"dataframe\">\n",
       "  <thead>\n",
       "    <tr style=\"text-align: right;\">\n",
       "      <th></th>\n",
       "      <th>ksize</th>\n",
       "      <th>sequence_to_compare</th>\n",
       "      <th>database</th>\n",
       "    </tr>\n",
       "    <tr>\n",
       "      <th>database_name</th>\n",
       "      <th></th>\n",
       "      <th></th>\n",
       "      <th></th>\n",
       "    </tr>\n",
       "  </thead>\n",
       "  <tbody>\n",
       "    <tr>\n",
       "      <th>tabula-muris-k21-dna</th>\n",
       "      <td>21</td>\n",
       "      <td>dna</td>\n",
       "      <td>s3://olgabot-maca/facs/sourmash_index_all//tabula-muris-k21-dna/tabula-muris-k21-dna/</td>\n",
       "    </tr>\n",
       "    <tr>\n",
       "      <th>tabula-muris-k21-protein</th>\n",
       "      <td>21</td>\n",
       "      <td>protein</td>\n",
       "      <td>s3://olgabot-maca/facs/sourmash_index_all//tabula-muris-k21-protein/tabula-muris-k21-protein/</td>\n",
       "    </tr>\n",
       "    <tr>\n",
       "      <th>tabula-muris-k27-dna</th>\n",
       "      <td>27</td>\n",
       "      <td>dna</td>\n",
       "      <td>s3://olgabot-maca/facs/sourmash_index_all//tabula-muris-k27-dna/tabula-muris-k27-dna/</td>\n",
       "    </tr>\n",
       "    <tr>\n",
       "      <th>tabula-muris-k27-protein</th>\n",
       "      <td>27</td>\n",
       "      <td>protein</td>\n",
       "      <td>s3://olgabot-maca/facs/sourmash_index_all//tabula-muris-k27-protein/tabula-muris-k27-protein/</td>\n",
       "    </tr>\n",
       "    <tr>\n",
       "      <th>tabula-muris-k33-dna</th>\n",
       "      <td>33</td>\n",
       "      <td>dna</td>\n",
       "      <td>s3://olgabot-maca/facs/sourmash_index_all//tabula-muris-k33-dna/tabula-muris-k33-dna/</td>\n",
       "    </tr>\n",
       "    <tr>\n",
       "      <th>tabula-muris-k33-protein</th>\n",
       "      <td>33</td>\n",
       "      <td>protein</td>\n",
       "      <td>s3://olgabot-maca/facs/sourmash_index_all//tabula-muris-k33-protein/tabula-muris-k33-protein/</td>\n",
       "    </tr>\n",
       "    <tr>\n",
       "      <th>tabula-muris-k51-dna</th>\n",
       "      <td>51</td>\n",
       "      <td>dna</td>\n",
       "      <td>s3://olgabot-maca/facs/sourmash_index_all//tabula-muris-k51-dna/tabula-muris-k51-dna/</td>\n",
       "    </tr>\n",
       "    <tr>\n",
       "      <th>tabula-muris-k51-protein</th>\n",
       "      <td>51</td>\n",
       "      <td>protein</td>\n",
       "      <td>s3://olgabot-maca/facs/sourmash_index_all//tabula-muris-k51-protein/tabula-muris-k51-protein/</td>\n",
       "    </tr>\n",
       "  </tbody>\n",
       "</table>\n",
       "</div>"
      ],
      "text/plain": [
       "                          ksize sequence_to_compare  \\\n",
       "database_name                                         \n",
       "tabula-muris-k21-dna         21                 dna   \n",
       "tabula-muris-k21-protein     21             protein   \n",
       "tabula-muris-k27-dna         27                 dna   \n",
       "tabula-muris-k27-protein     27             protein   \n",
       "tabula-muris-k33-dna         33                 dna   \n",
       "tabula-muris-k33-protein     33             protein   \n",
       "tabula-muris-k51-dna         51                 dna   \n",
       "tabula-muris-k51-protein     51             protein   \n",
       "\n",
       "                                                                                                               database  \n",
       "database_name                                                                                                            \n",
       "tabula-muris-k21-dna              s3://olgabot-maca/facs/sourmash_index_all//tabula-muris-k21-dna/tabula-muris-k21-dna/  \n",
       "tabula-muris-k21-protein  s3://olgabot-maca/facs/sourmash_index_all//tabula-muris-k21-protein/tabula-muris-k21-protein/  \n",
       "tabula-muris-k27-dna              s3://olgabot-maca/facs/sourmash_index_all//tabula-muris-k27-dna/tabula-muris-k27-dna/  \n",
       "tabula-muris-k27-protein  s3://olgabot-maca/facs/sourmash_index_all//tabula-muris-k27-protein/tabula-muris-k27-protein/  \n",
       "tabula-muris-k33-dna              s3://olgabot-maca/facs/sourmash_index_all//tabula-muris-k33-dna/tabula-muris-k33-dna/  \n",
       "tabula-muris-k33-protein  s3://olgabot-maca/facs/sourmash_index_all//tabula-muris-k33-protein/tabula-muris-k33-protein/  \n",
       "tabula-muris-k51-dna              s3://olgabot-maca/facs/sourmash_index_all//tabula-muris-k51-dna/tabula-muris-k51-dna/  \n",
       "tabula-muris-k51-protein  s3://olgabot-maca/facs/sourmash_index_all//tabula-muris-k51-protein/tabula-muris-k51-protein/  "
      ]
     },
     "execution_count": 17,
     "metadata": {},
     "output_type": "execute_result"
    }
   ],
   "source": [
    "databases = pd.read_table(txt, delim_whitespace=True, header=None, names=['is_prefix', 'database_name'])\n",
    "databases['database_name'] = databases['database_name'].str.strip('/')\n",
    "databases = databases.drop('is_prefix', axis=1)\n",
    "databases['ksize'] = databases['database_name'].str.extract('k(\\d+)').astype(int)\n",
    "databases['sequence_to_compare'] = databases['database_name'].map(lambda x: x.split('-')[-1])\n",
    "databases['database'] = databases['database_name'].map(lambda x: f'{prefix}/{x}/{x}/')\n",
    "databases = databases.set_index('database_name')\n",
    "databases"
   ]
  },
  {
   "cell_type": "code",
   "execution_count": 14,
   "metadata": {},
   "outputs": [],
   "source": [
    "ignore_abundances = True, False"
   ]
  },
  {
   "cell_type": "code",
   "execution_count": 33,
   "metadata": {},
   "outputs": [
    {
     "name": "stdout",
     "output_type": "stream",
     "text": [
      "(16, 6)\n"
     ]
    },
    {
     "data": {
      "text/html": [
       "<div>\n",
       "<style scoped>\n",
       "    .dataframe tbody tr th:only-of-type {\n",
       "        vertical-align: middle;\n",
       "    }\n",
       "\n",
       "    .dataframe tbody tr th {\n",
       "        vertical-align: top;\n",
       "    }\n",
       "\n",
       "    .dataframe thead th {\n",
       "        text-align: right;\n",
       "    }\n",
       "</style>\n",
       "<table border=\"1\" class=\"dataframe\">\n",
       "  <thead>\n",
       "    <tr style=\"text-align: right;\">\n",
       "      <th></th>\n",
       "      <th>database_name</th>\n",
       "      <th>ignore_abundance</th>\n",
       "      <th>ksize</th>\n",
       "      <th>sequence_to_compare</th>\n",
       "      <th>database</th>\n",
       "      <th>signature</th>\n",
       "      <th>output</th>\n",
       "    </tr>\n",
       "    <tr>\n",
       "      <th>id</th>\n",
       "      <th></th>\n",
       "      <th></th>\n",
       "      <th></th>\n",
       "      <th></th>\n",
       "      <th></th>\n",
       "      <th></th>\n",
       "      <th></th>\n",
       "    </tr>\n",
       "  </thead>\n",
       "  <tbody>\n",
       "    <tr>\n",
       "      <th>A1-B000610-3_56_F-1-1_tabula-muris-k21-dna_ignore-abundance=True</th>\n",
       "      <td>tabula-muris-k21-dna</td>\n",
       "      <td>True</td>\n",
       "      <td>21</td>\n",
       "      <td>dna</td>\n",
       "      <td>s3://olgabot-maca/facs/sourmash_index_all//tabula-muris-k21-dna/tabula-muris-k21-dna/</td>\n",
       "      <td>s3://olgabot-maca/facs/sourmash_compute_all/{cell}.sig</td>\n",
       "      <td>s3://olgabot-maca/facs/sourmash_search/A1-B000610-3_56_F-1-1_tabula-muris-k21-dna_ignore-abundan...</td>\n",
       "    </tr>\n",
       "    <tr>\n",
       "      <th>A1-B000610-3_56_F-1-1_tabula-muris-k21-dna_ignore-abundance=False</th>\n",
       "      <td>tabula-muris-k21-dna</td>\n",
       "      <td>False</td>\n",
       "      <td>21</td>\n",
       "      <td>dna</td>\n",
       "      <td>s3://olgabot-maca/facs/sourmash_index_all//tabula-muris-k21-dna/tabula-muris-k21-dna/</td>\n",
       "      <td>s3://olgabot-maca/facs/sourmash_compute_all/{cell}.sig</td>\n",
       "      <td>s3://olgabot-maca/facs/sourmash_search/A1-B000610-3_56_F-1-1_tabula-muris-k21-dna_ignore-abundan...</td>\n",
       "    </tr>\n",
       "    <tr>\n",
       "      <th>A1-B000610-3_56_F-1-1_tabula-muris-k21-protein_ignore-abundance=True</th>\n",
       "      <td>tabula-muris-k21-protein</td>\n",
       "      <td>True</td>\n",
       "      <td>21</td>\n",
       "      <td>protein</td>\n",
       "      <td>s3://olgabot-maca/facs/sourmash_index_all//tabula-muris-k21-protein/tabula-muris-k21-protein/</td>\n",
       "      <td>s3://olgabot-maca/facs/sourmash_compute_all/{cell}.sig</td>\n",
       "      <td>s3://olgabot-maca/facs/sourmash_search/A1-B000610-3_56_F-1-1_tabula-muris-k21-protein_ignore-abu...</td>\n",
       "    </tr>\n",
       "    <tr>\n",
       "      <th>A1-B000610-3_56_F-1-1_tabula-muris-k21-protein_ignore-abundance=False</th>\n",
       "      <td>tabula-muris-k21-protein</td>\n",
       "      <td>False</td>\n",
       "      <td>21</td>\n",
       "      <td>protein</td>\n",
       "      <td>s3://olgabot-maca/facs/sourmash_index_all//tabula-muris-k21-protein/tabula-muris-k21-protein/</td>\n",
       "      <td>s3://olgabot-maca/facs/sourmash_compute_all/{cell}.sig</td>\n",
       "      <td>s3://olgabot-maca/facs/sourmash_search/A1-B000610-3_56_F-1-1_tabula-muris-k21-protein_ignore-abu...</td>\n",
       "    </tr>\n",
       "    <tr>\n",
       "      <th>A1-B000610-3_56_F-1-1_tabula-muris-k27-dna_ignore-abundance=True</th>\n",
       "      <td>tabula-muris-k27-dna</td>\n",
       "      <td>True</td>\n",
       "      <td>27</td>\n",
       "      <td>dna</td>\n",
       "      <td>s3://olgabot-maca/facs/sourmash_index_all//tabula-muris-k27-dna/tabula-muris-k27-dna/</td>\n",
       "      <td>s3://olgabot-maca/facs/sourmash_compute_all/{cell}.sig</td>\n",
       "      <td>s3://olgabot-maca/facs/sourmash_search/A1-B000610-3_56_F-1-1_tabula-muris-k27-dna_ignore-abundan...</td>\n",
       "    </tr>\n",
       "  </tbody>\n",
       "</table>\n",
       "</div>"
      ],
      "text/plain": [
       "                                                                                  database_name  \\\n",
       "id                                                                                                \n",
       "A1-B000610-3_56_F-1-1_tabula-muris-k21-dna_ignore-abundance=True           tabula-muris-k21-dna   \n",
       "A1-B000610-3_56_F-1-1_tabula-muris-k21-dna_ignore-abundance=False          tabula-muris-k21-dna   \n",
       "A1-B000610-3_56_F-1-1_tabula-muris-k21-protein_ignore-abundance=True   tabula-muris-k21-protein   \n",
       "A1-B000610-3_56_F-1-1_tabula-muris-k21-protein_ignore-abundance=False  tabula-muris-k21-protein   \n",
       "A1-B000610-3_56_F-1-1_tabula-muris-k27-dna_ignore-abundance=True           tabula-muris-k27-dna   \n",
       "\n",
       "                                                                       ignore_abundance  \\\n",
       "id                                                                                        \n",
       "A1-B000610-3_56_F-1-1_tabula-muris-k21-dna_ignore-abundance=True                   True   \n",
       "A1-B000610-3_56_F-1-1_tabula-muris-k21-dna_ignore-abundance=False                 False   \n",
       "A1-B000610-3_56_F-1-1_tabula-muris-k21-protein_ignore-abundance=True               True   \n",
       "A1-B000610-3_56_F-1-1_tabula-muris-k21-protein_ignore-abundance=False             False   \n",
       "A1-B000610-3_56_F-1-1_tabula-muris-k27-dna_ignore-abundance=True                   True   \n",
       "\n",
       "                                                                       ksize  \\\n",
       "id                                                                             \n",
       "A1-B000610-3_56_F-1-1_tabula-muris-k21-dna_ignore-abundance=True          21   \n",
       "A1-B000610-3_56_F-1-1_tabula-muris-k21-dna_ignore-abundance=False         21   \n",
       "A1-B000610-3_56_F-1-1_tabula-muris-k21-protein_ignore-abundance=True      21   \n",
       "A1-B000610-3_56_F-1-1_tabula-muris-k21-protein_ignore-abundance=False     21   \n",
       "A1-B000610-3_56_F-1-1_tabula-muris-k27-dna_ignore-abundance=True          27   \n",
       "\n",
       "                                                                      sequence_to_compare  \\\n",
       "id                                                                                          \n",
       "A1-B000610-3_56_F-1-1_tabula-muris-k21-dna_ignore-abundance=True                      dna   \n",
       "A1-B000610-3_56_F-1-1_tabula-muris-k21-dna_ignore-abundance=False                     dna   \n",
       "A1-B000610-3_56_F-1-1_tabula-muris-k21-protein_ignore-abundance=True              protein   \n",
       "A1-B000610-3_56_F-1-1_tabula-muris-k21-protein_ignore-abundance=False             protein   \n",
       "A1-B000610-3_56_F-1-1_tabula-muris-k27-dna_ignore-abundance=True                      dna   \n",
       "\n",
       "                                                                                                                                                            database  \\\n",
       "id                                                                                                                                                                     \n",
       "A1-B000610-3_56_F-1-1_tabula-muris-k21-dna_ignore-abundance=True               s3://olgabot-maca/facs/sourmash_index_all//tabula-muris-k21-dna/tabula-muris-k21-dna/   \n",
       "A1-B000610-3_56_F-1-1_tabula-muris-k21-dna_ignore-abundance=False              s3://olgabot-maca/facs/sourmash_index_all//tabula-muris-k21-dna/tabula-muris-k21-dna/   \n",
       "A1-B000610-3_56_F-1-1_tabula-muris-k21-protein_ignore-abundance=True   s3://olgabot-maca/facs/sourmash_index_all//tabula-muris-k21-protein/tabula-muris-k21-protein/   \n",
       "A1-B000610-3_56_F-1-1_tabula-muris-k21-protein_ignore-abundance=False  s3://olgabot-maca/facs/sourmash_index_all//tabula-muris-k21-protein/tabula-muris-k21-protein/   \n",
       "A1-B000610-3_56_F-1-1_tabula-muris-k27-dna_ignore-abundance=True               s3://olgabot-maca/facs/sourmash_index_all//tabula-muris-k27-dna/tabula-muris-k27-dna/   \n",
       "\n",
       "                                                                                                                    signature  \\\n",
       "id                                                                                                                              \n",
       "A1-B000610-3_56_F-1-1_tabula-muris-k21-dna_ignore-abundance=True       s3://olgabot-maca/facs/sourmash_compute_all/{cell}.sig   \n",
       "A1-B000610-3_56_F-1-1_tabula-muris-k21-dna_ignore-abundance=False      s3://olgabot-maca/facs/sourmash_compute_all/{cell}.sig   \n",
       "A1-B000610-3_56_F-1-1_tabula-muris-k21-protein_ignore-abundance=True   s3://olgabot-maca/facs/sourmash_compute_all/{cell}.sig   \n",
       "A1-B000610-3_56_F-1-1_tabula-muris-k21-protein_ignore-abundance=False  s3://olgabot-maca/facs/sourmash_compute_all/{cell}.sig   \n",
       "A1-B000610-3_56_F-1-1_tabula-muris-k27-dna_ignore-abundance=True       s3://olgabot-maca/facs/sourmash_compute_all/{cell}.sig   \n",
       "\n",
       "                                                                                                                                                                    output  \n",
       "id                                                                                                                                                                          \n",
       "A1-B000610-3_56_F-1-1_tabula-muris-k21-dna_ignore-abundance=True       s3://olgabot-maca/facs/sourmash_search/A1-B000610-3_56_F-1-1_tabula-muris-k21-dna_ignore-abundan...  \n",
       "A1-B000610-3_56_F-1-1_tabula-muris-k21-dna_ignore-abundance=False      s3://olgabot-maca/facs/sourmash_search/A1-B000610-3_56_F-1-1_tabula-muris-k21-dna_ignore-abundan...  \n",
       "A1-B000610-3_56_F-1-1_tabula-muris-k21-protein_ignore-abundance=True   s3://olgabot-maca/facs/sourmash_search/A1-B000610-3_56_F-1-1_tabula-muris-k21-protein_ignore-abu...  \n",
       "A1-B000610-3_56_F-1-1_tabula-muris-k21-protein_ignore-abundance=False  s3://olgabot-maca/facs/sourmash_search/A1-B000610-3_56_F-1-1_tabula-muris-k21-protein_ignore-abu...  \n",
       "A1-B000610-3_56_F-1-1_tabula-muris-k27-dna_ignore-abundance=True       s3://olgabot-maca/facs/sourmash_search/A1-B000610-3_56_F-1-1_tabula-muris-k27-dna_ignore-abundan...  "
      ]
     },
     "execution_count": 33,
     "metadata": {},
     "output_type": "execute_result"
    }
   ],
   "source": [
    "import itertools\n",
    "\n",
    "data = list(itertools.product(databases.index, ignore_abundances))\n",
    "\n",
    "samples = pd.DataFrame(data, columns=['database_name', 'ignore_abundance'])\n",
    "samples = samples.join(databases, on='database_name')\n",
    "samples['signature'] = signature\n",
    "print(samples.shape)\n",
    "samples.head()\n",
    "\n",
    "output_prefix = 's3://olgabot-maca/facs/sourmash_search/'\n",
    "\n",
    "samples['id'] = samples.apply(\n",
    "    lambda x: '{cell}_{database_name}_ignore-abundance={ignore_abundance}'.format(cell=cell, **x), axis=1)\n",
    "samples['output'] = output_prefix + samples['id'] + '.csv'\n",
    "samples = samples.set_index('id')\n",
    "samples.head()"
   ]
  },
  {
   "cell_type": "markdown",
   "metadata": {},
   "source": [
    "Example command:\n",
    "\n",
    "```\n",
    "reflow run ~/reflow-workflows/sourmash_compare.rf -signatures=s3://olgabot-maca/facs/sourmash/ -output==s3://olgabot-maca/facs/sourmash_index_k21.npy -ksize=21\n",
    "```"
   ]
  },
  {
   "cell_type": "code",
   "execution_count": 24,
   "metadata": {},
   "outputs": [
    {
     "name": "stdout",
     "output_type": "stream",
     "text": [
      "usage: sourmash [-h] [--traverse-directory] [-q] [--threshold THRESHOLD]\r\n",
      "                [--save-matches SAVE_MATCHES] [--best-only] [-n NUM_RESULTS]\r\n",
      "                [--containment] [--ignore-abundance] [--scaled SCALED]\r\n",
      "                [-o OUTPUT] [-k KSIZE] [--protein] [--no-protein] [--dna]\r\n",
      "                [--no-dna]\r\n",
      "                query databases [databases ...]\r\n",
      "\r\n",
      "positional arguments:\r\n",
      "  query                 query signature\r\n",
      "  databases             signatures/SBTs to search\r\n",
      "\r\n",
      "optional arguments:\r\n",
      "  -h, --help            show this help message and exit\r\n",
      "  --traverse-directory  search all signatures underneath directories.\r\n",
      "  -q, --quiet           suppress non-error output\r\n",
      "  --threshold THRESHOLD\r\n",
      "                        minimum threshold for reporting matches (default=0.08)\r\n",
      "  --save-matches SAVE_MATCHES\r\n",
      "                        output matching signatures to this file.\r\n",
      "  --best-only           report only the best match (with greater speed).\r\n",
      "  -n NUM_RESULTS, --num-results NUM_RESULTS\r\n",
      "                        number of results to report\r\n",
      "  --containment         evaluate containment rather than similarity\r\n",
      "  --ignore-abundance    do NOT use k-mer abundances if present. Note: has no\r\n",
      "                        effect if --containment is specified\r\n",
      "  --scaled SCALED       downsample query to this scaled factor (yields greater\r\n",
      "                        speed)\r\n",
      "  -o OUTPUT, --output OUTPUT\r\n",
      "                        output CSV containing matches to this file\r\n",
      "  -k KSIZE, --ksize KSIZE\r\n",
      "                        k-mer size (default: 31)\r\n",
      "  --protein             choose a protein signature (default: False)\r\n",
      "  --no-protein          do not choose a protein signature\r\n",
      "  --dna                 choose a DNA signature (default: True)\r\n",
      "  --no-dna              do not choose a DNA signature\r\n"
     ]
    }
   ],
   "source": [
    "! sourmash search -h"
   ]
  },
  {
   "cell_type": "markdown",
   "metadata": {},
   "source": [
    "## Sourmash search"
   ]
  },
  {
   "cell_type": "code",
   "execution_count": 35,
   "metadata": {},
   "outputs": [
    {
     "name": "stdout",
     "output_type": "stream",
     "text": [
      "mkdir: cannot create directory ‘../sourmash/search’: File exists\n",
      "total 20K\n",
      "drwxrwxr-x  2 ubuntu ubuntu 4.0K Sep 19 17:56 .\n",
      "drwxrwxr-x 12 ubuntu ubuntu 4.0K Sep 19 17:56 ..\n",
      "-rw-rw-r--  1 ubuntu ubuntu   74 Sep 19 17:56 config.json\n",
      "-rw-rw-r--  1 ubuntu ubuntu 5.8K Sep 19 17:56 samples.csv\n"
     ]
    }
   ],
   "source": [
    "import json\n",
    "\n",
    "lines = []\n",
    "\n",
    "program = 'search'\n",
    "folder = f'../sourmash/{program}'\n",
    "! mkdir $folder\n",
    "            \n",
    "samples.to_csv(f'{folder}/samples.csv')\n",
    "\n",
    "config = \t{\n",
    "\t\t\"program\": f\"../../reflow/sourmash_{program}.rf\",\n",
    "\t\t\"runs_file\": \"samples.csv\"\n",
    "\t}\n",
    "\n",
    "\n",
    "with open(f'{folder}/config.json', 'w') as f:\n",
    "    json.dump(config, f)\n",
    "    \n",
    "! ls -lha $folder"
   ]
  },
  {
   "cell_type": "code",
   "execution_count": 36,
   "metadata": {},
   "outputs": [
    {
     "name": "stdout",
     "output_type": "stream",
     "text": [
      "id,database_name,ignore_abundance,ksize,sequence_to_compare,database,signature,output\r\n",
      "A1-B000610-3_56_F-1-1_tabula-muris-k21-dna_ignore-abundance=True,tabula-muris-k21-dna,True,21,dna,s3://olgabot-maca/facs/sourmash_index_all//tabula-muris-k21-dna/tabula-muris-k21-dna/,s3://olgabot-maca/facs/sourmash_compute_all/{cell}.sig,s3://olgabot-maca/facs/sourmash_search/A1-B000610-3_56_F-1-1_tabula-muris-k21-dna_ignore-abundance=True.csv\r\n",
      "A1-B000610-3_56_F-1-1_tabula-muris-k21-dna_ignore-abundance=False,tabula-muris-k21-dna,False,21,dna,s3://olgabot-maca/facs/sourmash_index_all//tabula-muris-k21-dna/tabula-muris-k21-dna/,s3://olgabot-maca/facs/sourmash_compute_all/{cell}.sig,s3://olgabot-maca/facs/sourmash_search/A1-B000610-3_56_F-1-1_tabula-muris-k21-dna_ignore-abundance=False.csv\r\n",
      "A1-B000610-3_56_F-1-1_tabula-muris-k21-protein_ignore-abundance=True,tabula-muris-k21-protein,True,21,protein,s3://olgabot-maca/facs/sourmash_index_all//tabula-muris-k21-protein/tabula-muris-k21-protein/,s3://olgabot-maca/facs/sourmash_compute_all/{cell}.sig,s3://olgabot-maca/facs/sourmash_search/A1-B000610-3_56_F-1-1_tabula-muris-k21-protein_ignore-abundance=True.csv\r\n",
      "A1-B000610-3_56_F-1-1_tabula-muris-k21-protein_ignore-abundance=False,tabula-muris-k21-protein,False,21,protein,s3://olgabot-maca/facs/sourmash_index_all//tabula-muris-k21-protein/tabula-muris-k21-protein/,s3://olgabot-maca/facs/sourmash_compute_all/{cell}.sig,s3://olgabot-maca/facs/sourmash_search/A1-B000610-3_56_F-1-1_tabula-muris-k21-protein_ignore-abundance=False.csv\r\n",
      "A1-B000610-3_56_F-1-1_tabula-muris-k27-dna_ignore-abundance=True,tabula-muris-k27-dna,True,27,dna,s3://olgabot-maca/facs/sourmash_index_all//tabula-muris-k27-dna/tabula-muris-k27-dna/,s3://olgabot-maca/facs/sourmash_compute_all/{cell}.sig,s3://olgabot-maca/facs/sourmash_search/A1-B000610-3_56_F-1-1_tabula-muris-k27-dna_ignore-abundance=True.csv\r\n",
      "A1-B000610-3_56_F-1-1_tabula-muris-k27-dna_ignore-abundance=False,tabula-muris-k27-dna,False,27,dna,s3://olgabot-maca/facs/sourmash_index_all//tabula-muris-k27-dna/tabula-muris-k27-dna/,s3://olgabot-maca/facs/sourmash_compute_all/{cell}.sig,s3://olgabot-maca/facs/sourmash_search/A1-B000610-3_56_F-1-1_tabula-muris-k27-dna_ignore-abundance=False.csv\r\n",
      "A1-B000610-3_56_F-1-1_tabula-muris-k27-protein_ignore-abundance=True,tabula-muris-k27-protein,True,27,protein,s3://olgabot-maca/facs/sourmash_index_all//tabula-muris-k27-protein/tabula-muris-k27-protein/,s3://olgabot-maca/facs/sourmash_compute_all/{cell}.sig,s3://olgabot-maca/facs/sourmash_search/A1-B000610-3_56_F-1-1_tabula-muris-k27-protein_ignore-abundance=True.csv\r\n",
      "A1-B000610-3_56_F-1-1_tabula-muris-k27-protein_ignore-abundance=False,tabula-muris-k27-protein,False,27,protein,s3://olgabot-maca/facs/sourmash_index_all//tabula-muris-k27-protein/tabula-muris-k27-protein/,s3://olgabot-maca/facs/sourmash_compute_all/{cell}.sig,s3://olgabot-maca/facs/sourmash_search/A1-B000610-3_56_F-1-1_tabula-muris-k27-protein_ignore-abundance=False.csv\r\n",
      "A1-B000610-3_56_F-1-1_tabula-muris-k33-dna_ignore-abundance=True,tabula-muris-k33-dna,True,33,dna,s3://olgabot-maca/facs/sourmash_index_all//tabula-muris-k33-dna/tabula-muris-k33-dna/,s3://olgabot-maca/facs/sourmash_compute_all/{cell}.sig,s3://olgabot-maca/facs/sourmash_search/A1-B000610-3_56_F-1-1_tabula-muris-k33-dna_ignore-abundance=True.csv\r\n"
     ]
    }
   ],
   "source": [
    "! head $folder/samples.csv"
   ]
  },
  {
   "cell_type": "code",
   "execution_count": null,
   "metadata": {
    "collapsed": true
   },
   "outputs": [],
   "source": []
  }
 ],
 "metadata": {
  "kernelspec": {
   "display_name": "Python 3",
   "language": "python",
   "name": "python3"
  },
  "language_info": {
   "codemirror_mode": {
    "name": "ipython",
    "version": 3
   },
   "file_extension": ".py",
   "mimetype": "text/x-python",
   "name": "python",
   "nbconvert_exporter": "python",
   "pygments_lexer": "ipython3",
   "version": "3.6.5"
  }
 },
 "nbformat": 4,
 "nbformat_minor": 2
}
