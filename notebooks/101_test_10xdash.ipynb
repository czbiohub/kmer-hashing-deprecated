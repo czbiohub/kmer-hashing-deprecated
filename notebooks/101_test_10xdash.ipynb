{
 "cells": [
  {
   "cell_type": "markdown",
   "metadata": {},
   "source": [
    "Bladder - fewer cells"
   ]
  },
  {
   "cell_type": "code",
   "execution_count": 3,
   "metadata": {},
   "outputs": [
    {
     "name": "stdout",
     "output_type": "stream",
     "text": [
      "download: s3://czbiohub-maca/10x_data/10X_P4_3/possorted_genome_bam.bam to ../../../scratch-pure/czbiohub-maca/10x_data/10X_P4_3/possorted_genome_bam.bam\n"
     ]
    }
   ],
   "source": [
    "tenx_channel = '10X_P4_3'\n",
    "\n",
    "! aws s3 sync --exclude \"*\" --include \"*bam*\" --include \"*barcodes.tsv\" s3://czbiohub-maca/10x_data/$tenx_channel/ /home/olga/scratch-pure/czbiohub-maca/10x_data/$tenx_channel/\n",
    "    "
   ]
  },
  {
   "cell_type": "markdown",
   "metadata": {},
   "source": [
    "Kidney - more cells"
   ]
  },
  {
   "cell_type": "code",
   "execution_count": 4,
   "metadata": {},
   "outputs": [
    {
     "name": "stdout",
     "output_type": "stream",
     "text": [
      "Completed 10.7 GiB/15.8 GiB (12.5 MiB/s) with 1 file(s) remaining  \r"
     ]
    },
    {
     "name": "stderr",
     "output_type": "stream",
     "text": [
      "IOPub message rate exceeded.\n",
      "The notebook server will temporarily stop sending output\n",
      "to the client in order to avoid crashing it.\n",
      "To change this limit, set the config variable\n",
      "`--NotebookApp.iopub_msg_rate_limit`.\n",
      "\n",
      "Current values:\n",
      "NotebookApp.iopub_msg_rate_limit=1000.0 (msgs/sec)\n",
      "NotebookApp.rate_limit_window=3.0 (secs)\n",
      "\n"
     ]
    },
    {
     "name": "stdout",
     "output_type": "stream",
     "text": [
      "download: s3://czbiohub-maca/10x_data/10X_P4_5/possorted_genome_bam.bam to ../../../scratch-pure/czbiohub-maca/10x_data/10X_P4_5/possorted_genome_bam.bam\n"
     ]
    }
   ],
   "source": [
    "tenx_channel = '10X_P4_5'\n",
    "\n",
    "! aws s3 sync  --exclude \"*\" --include \"*bam*\" --include \"*barcodes.tsv\" s3://czbiohub-maca/10x_data/$tenx_channel/ /home/olga/scratch-pure/czbiohub-maca/10x_data/$tenx_channel/\n"
   ]
  },
  {
   "cell_type": "code",
   "execution_count": 7,
   "metadata": {},
   "outputs": [
    {
     "name": "stdout",
     "output_type": "stream",
     "text": [
      "Usage:\r\n",
      "/home/olga/code/10xdash/10xdash <flags> in.{sb}am\r\n",
      "/home/olga/code/10xdash/10xdash currently does not assume any sorted ordering or alignment and compares by HLLs by default.\r\n",
      "-B\tUse Bloom Filters for sketches. These become more accurate with very large sketches. Default: HLL\r\n",
      "-K\tUse full hash sets instead of sketches. These are exact, but expensive to compare and require a relatively larger amount of memory. Default: HLL\r\n",
      "-M\tUse bottom-k minhash. Default: HLL\r\n",
      "-C\tUse counting bottom-k minhash histogram intersection. Default: HLL\r\n",
      "-S\tSketch size in bytes, log2. Default: 8 (256 bytes per sketch)\r\n",
      "-k\tKmer length. Default: 31\r\n",
      "-f\tFail all reads without all bits in argument set. This can be specified multiple times. Default: 0\r\n",
      "-F\tFail all reads with any bits in argument set. This can be specified multiple times. Default: 0\r\n",
      "-o\tOutput path. Default: in.{sb}am.distmat\r\n",
      "-p\tNumber of threads to use. Default: 1\r\n",
      "-b\tCheck 'UB' tag. Default: 'CB'\r\n",
      "-r\tCheck 'UR' tag. Default: 'CB'\r\n",
      "-s\tIncrement in log2 size of full experiment sketch in bytes. Default: 0\r\n",
      "-R\tMap reserve size. Pre-allocate this much space in the hash table. Default: 1 << 16\r\n",
      "-z\tOutput zlib compression level. Set to 0 for uncompressed. Default: 0\r\n",
      "-w\tWrite sketches to disk. This will be done in one file per barcode\r\n",
      "-D\tDo not perform distance calculations. (This should only be done is -w is specified.)\r\n",
      "-h/-?\tEmit this usage menu.\r\n"
     ]
    }
   ],
   "source": [
    "! /home/olga/code/10xdash/10xdash -h"
   ]
  },
  {
   "cell_type": "code",
   "execution_count": 11,
   "metadata": {},
   "outputs": [
    {
     "name": "stdout",
     "output_type": "stream",
     "text": [
      "total 28G\r\n",
      "drwxrwxr-x 1 olga olga    0 Feb  8 08:53 \u001b[0m\u001b[01;34m.\u001b[0m/\r\n",
      "drwxrwxr-x 1 olga olga    0 Feb  8 08:36 \u001b[01;34m..\u001b[0m/\r\n",
      "-rw-rw-r-- 1 olga olga  15M Aug 21  2017 10X_P4_3.mus.cell-gene.csv\r\n",
      "-rw-rw-r-- 1 olga olga 6.9G Feb  8 08:36 10X_P4_3.tgz.Ef3d1e68\r\n",
      "-rw-rw-r-- 1 olga olga 2.8K Aug 31  2017 barcodes.tsv\r\n",
      "-rw-rw-r-- 1 olga olga 340K Aug 31  2017 genes.tsv\r\n",
      "-rw-rw-r-- 1 olga olga 5.4M Aug 31  2017 matrix.mtx\r\n",
      "-rw-rw-r-- 1 olga olga  615 Aug 21  2017 metrics_summary.csv\r\n",
      "-rw-rw-r-- 1 olga olga  14G Jun 18  2018 possorted_genome_bam.bam\r\n",
      "-rw-rw-r-- 1 olga olga 6.8G Feb  8 08:36 possorted_genome_bam.bam.955c165a\r\n",
      "-rw-rw-r-- 1 olga olga 4.7M Jun 18  2018 possorted_genome_bam.bam.bai\r\n",
      "-rw-rw-r-- 1 olga olga 7.4M Sep 15  2017 raw_gene_bc_matrices_h5.h5\r\n",
      "-rw-rw-r-- 1 olga olga 2.6M Aug 21  2017 web_summary.html\r\n"
     ]
    }
   ],
   "source": [
    "ls -lha /home/olga/scratch-pure/czbiohub-maca/10x_data/10X_P4_3/"
   ]
  },
  {
   "cell_type": "code",
   "execution_count": 10,
   "metadata": {},
   "outputs": [
    {
     "name": "stdout",
     "output_type": "stream",
     "text": [
      "Segmentation fault (core dumped)\r\n"
     ]
    }
   ],
   "source": [
    "! /home/olga/code/10xdash/10xdash -k 21 /home/olga/scratch-pure/czbiohub-maca/10x_data/10X_P4_3/possorted_genome_bam.bam"
   ]
  },
  {
   "cell_type": "code",
   "execution_count": 12,
   "metadata": {},
   "outputs": [],
   "source": [
    "rm -rf /home/olga/scratch-pure/czbiohub-maca/10x_data/10X_P4_3/possorted_genome_bam.bam.955c165a"
   ]
  },
  {
   "cell_type": "code",
   "execution_count": 13,
   "metadata": {},
   "outputs": [],
   "source": [
    "rm -rf /home/olga/scratch-pure/czbiohub-maca/10x_data/10X_P4_3/10X_P4_3.tgz.Ef3d1e68"
   ]
  },
  {
   "cell_type": "code",
   "execution_count": 14,
   "metadata": {},
   "outputs": [
    {
     "name": "stdout",
     "output_type": "stream",
     "text": [
      "total 14G\r\n",
      "drwxrwxr-x 1 olga olga    0 Feb  8 13:29 \u001b[0m\u001b[01;34m.\u001b[0m/\r\n",
      "drwxrwxr-x 1 olga olga    0 Feb  8 08:36 \u001b[01;34m..\u001b[0m/\r\n",
      "-rw-rw-r-- 1 olga olga  15M Aug 21  2017 10X_P4_3.mus.cell-gene.csv\r\n",
      "-rw-rw-r-- 1 olga olga 2.8K Aug 31  2017 barcodes.tsv\r\n",
      "-rw-rw-r-- 1 olga olga 340K Aug 31  2017 genes.tsv\r\n",
      "-rw-rw-r-- 1 olga olga 5.4M Aug 31  2017 matrix.mtx\r\n",
      "-rw-rw-r-- 1 olga olga  615 Aug 21  2017 metrics_summary.csv\r\n",
      "-rw-rw-r-- 1 olga olga  14G Jun 18  2018 possorted_genome_bam.bam\r\n",
      "-rw-rw-r-- 1 olga olga 4.7M Jun 18  2018 possorted_genome_bam.bam.bai\r\n",
      "-rw-rw-r-- 1 olga olga 7.4M Sep 15  2017 raw_gene_bc_matrices_h5.h5\r\n",
      "-rw-rw-r-- 1 olga olga 2.6M Aug 21  2017 web_summary.html\r\n"
     ]
    }
   ],
   "source": [
    "ls -lha /home/olga/scratch-pure/czbiohub-maca/10x_data/10X_P4_3/"
   ]
  },
  {
   "cell_type": "code",
   "execution_count": 16,
   "metadata": {},
   "outputs": [
    {
     "name": "stdout",
     "output_type": "stream",
     "text": [
      "Segmentation fault (core dumped)\r\n"
     ]
    }
   ],
   "source": [
    "! /home/olga/code/10xdash/10xdash -k 21 /home/olga/scratch-pure/czbiohub-maca/10x_data/10X_P4_3/possorted_genome_bam.bam"
   ]
  },
  {
   "cell_type": "code",
   "execution_count": 17,
   "metadata": {},
   "outputs": [
    {
     "name": "stdout",
     "output_type": "stream",
     "text": [
      "Segmentation fault (core dumped)\r\n"
     ]
    }
   ],
   "source": [
    "! /home/olga/code/10xdash/10xdash -k 21 /home/olga/scratch-pure/czbiohub-maca/10x_data/10X_P4_5/possorted_genome_bam.bam"
   ]
  },
  {
   "cell_type": "code",
   "execution_count": null,
   "metadata": {},
   "outputs": [],
   "source": []
  }
 ],
 "metadata": {
  "kernelspec": {
   "display_name": "Python [conda env:kmer-hashing]",
   "language": "python",
   "name": "conda-env-kmer-hashing-py"
  },
  "language_info": {
   "codemirror_mode": {
    "name": "ipython",
    "version": 3
   },
   "file_extension": ".py",
   "mimetype": "text/x-python",
   "name": "python",
   "nbconvert_exporter": "python",
   "pygments_lexer": "ipython3",
   "version": "3.6.8"
  }
 },
 "nbformat": 4,
 "nbformat_minor": 2
}
