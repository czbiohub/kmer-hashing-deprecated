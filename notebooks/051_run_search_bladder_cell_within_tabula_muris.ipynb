{
 "cells": [
  {
   "cell_type": "code",
   "execution_count": null,
   "metadata": {},
   "outputs": [],
   "source": [
    "cd /mnt/data"
   ]
  },
  {
   "cell_type": "code",
   "execution_count": null,
   "metadata": {},
   "outputs": [],
   "source": [
    "! aws s3 ls s3://olgabot-maca/"
   ]
  },
  {
   "cell_type": "code",
   "execution_count": null,
   "metadata": {},
   "outputs": [],
   "source": [
    "! aws s3 ls s3://olgabot-maca/facs/"
   ]
  },
  {
   "cell_type": "code",
   "execution_count": 3,
   "metadata": {},
   "outputs": [],
   "source": [
    "# ! aws s3 sync --quiet s3://olgabot-maca/facs/sourmash_compute_all/ /mnt/data/maca-facs-sourmash_compute_all/"
   ]
  },
  {
   "cell_type": "code",
   "execution_count": null,
   "metadata": {},
   "outputs": [],
   "source": [
    "! aws s3 ls s3://olgabot-maca/lung_cancer/"
   ]
  },
  {
   "cell_type": "code",
   "execution_count": null,
   "metadata": {},
   "outputs": [],
   "source": [
    "! aws s3 ls --summarize s3://olgabot-maca/lung_cancer/sourmash_v3/ | tail"
   ]
  },
  {
   "cell_type": "code",
   "execution_count": null,
   "metadata": {},
   "outputs": [],
   "source": [
    "! aws s3 ls --summarize s3://olgabot-maca/lung_cancer/sourmash_v4/  |tail"
   ]
  },
  {
   "cell_type": "code",
   "execution_count": null,
   "metadata": {},
   "outputs": [],
   "source": [
    "# ! aws s3 sync --quiet s3://olgabot-maca/lung_cancer/sourmash_v4/ /mnt/data/lung_cancer_sourmash_v4/"
   ]
  },
  {
   "cell_type": "code",
   "execution_count": null,
   "metadata": {},
   "outputs": [],
   "source": [
    "! sourmash"
   ]
  },
  {
   "cell_type": "code",
   "execution_count": null,
   "metadata": {},
   "outputs": [],
   "source": [
    "! sourmash index  -h"
   ]
  },
  {
   "cell_type": "code",
   "execution_count": 14,
   "metadata": {},
   "outputs": [],
   "source": [
    "!mkdir /mnt/data/sourmash_databases"
   ]
  },
  {
   "cell_type": "code",
   "execution_count": null,
   "metadata": {},
   "outputs": [],
   "source": [
    "# %%bash\n",
    "\n",
    "# time sourmash index \\\n",
    "#     --ksize 21 \\\n",
    "#     --dna \\\n",
    "#     --traverse-directory \\\n",
    "#     /mnt/data/sourmash_databases/tabula-muris-dna-k21 \\\n",
    "#     /mnt/data/maca-facs-sourmash_compute_all/"
   ]
  },
  {
   "cell_type": "code",
   "execution_count": 1,
   "metadata": {},
   "outputs": [],
   "source": [
    "# %%bash\n",
    "\n",
    "# time sourmash index \\\n",
    "#     --ksize 21 \\\n",
    "#     --protein \\\n",
    "#     --traverse-directory \\\n",
    "#     /mnt/data/sourmash_databases/tabula-muris-protein-k21 \\\n",
    "    \n",
    "    "
   ]
  },
  {
   "cell_type": "code",
   "execution_count": 56,
   "metadata": {},
   "outputs": [
    {
     "name": "stdout",
     "output_type": "stream",
     "text": [
      "usage: sourmash [-h] [--traverse-directory] [-q] [--threshold THRESHOLD]\r\n",
      "                [--save-matches SAVE_MATCHES] [--best-only] [-n NUM_RESULTS]\r\n",
      "                [--containment] [--scaled SCALED] [-o OUTPUT] [-k KSIZE]\r\n",
      "                [--protein] [--no-protein] [--dna] [--no-dna]\r\n",
      "                query databases [databases ...]\r\n",
      "\r\n",
      "positional arguments:\r\n",
      "  query                 query signature\r\n",
      "  databases             signatures/SBTs to search\r\n",
      "\r\n",
      "optional arguments:\r\n",
      "  -h, --help            show this help message and exit\r\n",
      "  --traverse-directory  search all signatures underneath directories.\r\n",
      "  -q, --quiet           suppress non-error output\r\n",
      "  --threshold THRESHOLD\r\n",
      "                        minimum threshold for reporting matches\r\n",
      "  --save-matches SAVE_MATCHES\r\n",
      "                        output matching signatures to this file.\r\n",
      "  --best-only           report only the best match (with greater speed).\r\n",
      "  -n NUM_RESULTS, --num-results NUM_RESULTS\r\n",
      "                        number of results to report\r\n",
      "  --containment         evaluate containment rather than similarity\r\n",
      "  --scaled SCALED       downsample query to this scaled factor (yields greater\r\n",
      "                        speed)\r\n",
      "  -o OUTPUT, --output OUTPUT\r\n",
      "                        output CSV containing matches to this file\r\n",
      "  -k KSIZE, --ksize KSIZE\r\n",
      "                        k-mer size (default: 31)\r\n",
      "  --protein             choose a protein signature (default: False)\r\n",
      "  --no-protein          do not choose a protein signature\r\n",
      "  --dna                 choose a DNA signature (default: True)\r\n",
      "  --no-dna              do not choose a DNA signature\r\n"
     ]
    }
   ],
   "source": [
    "! sourmash search -h"
   ]
  },
  {
   "cell_type": "code",
   "execution_count": null,
   "metadata": {},
   "outputs": [],
   "source": [
    "%%bash\n",
    "\n",
    "DIR=/mnt/data/maca-facs-sourmash_search\n",
    "mkdir $DIR\n",
    "\n",
    "sourmash search --num-results 100 --csv $DIR/A1-B000610-3_56_F-1-1.csv \\\n",
    "    --ksize 21 --dna \\\n",
    "    /mnt/data/maca-facs-sourmash_compute_all/A1-B000610-3_56_F-1-1.sig \\\n",
    "    /mnt/data/sourmash_databases/tabula-muris-dna-k21.sbt.json"
   ]
  },
  {
   "cell_type": "code",
   "execution_count": 65,
   "metadata": {},
   "outputs": [
    {
     "name": "stdout",
     "output_type": "stream",
     "text": [
      "total 7.2M\r\n",
      "drwxrwxr-x  2 ubuntu ubuntu 4.0K Sep 13 00:21 \u001b[0m\u001b[01;34m.\u001b[0m/\r\n",
      "drwxr-xr-x 17 ubuntu root   4.0K Sep 13 00:21 \u001b[01;34m..\u001b[0m/\r\n",
      "-rw-rw-r--  1 ubuntu ubuntu 7.2M Sep 13 02:08 A1-B000610-3_56_F-1-1.csv\r\n"
     ]
    }
   ],
   "source": [
    "ls -lha /mnt/data/maca-facs-sourmash_search/"
   ]
  },
  {
   "cell_type": "code",
   "execution_count": 2,
   "metadata": {},
   "outputs": [
    {
     "name": "stdout",
     "output_type": "stream",
     "text": [
      "(32210, 4)\n"
     ]
    },
    {
     "data": {
      "text/html": [
       "<div>\n",
       "<style scoped>\n",
       "    .dataframe tbody tr th:only-of-type {\n",
       "        vertical-align: middle;\n",
       "    }\n",
       "\n",
       "    .dataframe tbody tr th {\n",
       "        vertical-align: top;\n",
       "    }\n",
       "\n",
       "    .dataframe thead th {\n",
       "        text-align: right;\n",
       "    }\n",
       "</style>\n",
       "<table border=\"1\" class=\"dataframe\">\n",
       "  <thead>\n",
       "    <tr style=\"text-align: right;\">\n",
       "      <th></th>\n",
       "      <th>similarity</th>\n",
       "      <th>name</th>\n",
       "      <th>filename</th>\n",
       "      <th>md5</th>\n",
       "    </tr>\n",
       "  </thead>\n",
       "  <tbody>\n",
       "    <tr>\n",
       "      <th>0</th>\n",
       "      <td>1.000000</td>\n",
       "      <td>cell_ontology_class:bladder_cell|tissue:Bladder|subtissue:nan|free_annotation:Bladder_mesenchymal_cell|cell_id:A1-B000610-3_56_F-1-1</td>\n",
       "      <td>/mnt/data/sourmash_databases/tabula-muris-dna-k21.sbt.json</td>\n",
       "      <td>3413cb3e2d21ab83572f49de51dac2e6</td>\n",
       "    </tr>\n",
       "    <tr>\n",
       "      <th>1</th>\n",
       "      <td>0.893563</td>\n",
       "      <td>cell_ontology_class:bladder_cell|tissue:Bladder|subtissue:nan|free_annotation:Bladder_mesenchymal_cell|cell_id:A13-B000610-3_56_F-1-1</td>\n",
       "      <td>/mnt/data/sourmash_databases/tabula-muris-dna-k21.sbt.json</td>\n",
       "      <td>15ca87e27d546f9b7972ff150a41480f</td>\n",
       "    </tr>\n",
       "    <tr>\n",
       "      <th>2</th>\n",
       "      <td>0.879294</td>\n",
       "      <td>cell_ontology_class:bladder_cell|tissue:Bladder|subtissue:nan|free_annotation:Bladder_mesenchymal_cell|cell_id:E2-B000610-3_56_F-1-1</td>\n",
       "      <td>/mnt/data/sourmash_databases/tabula-muris-dna-k21.sbt.json</td>\n",
       "      <td>edacf015289b20877385cd68188bd7bd</td>\n",
       "    </tr>\n",
       "    <tr>\n",
       "      <th>3</th>\n",
       "      <td>0.876851</td>\n",
       "      <td>cell_ontology_class:bladder_cell|tissue:Bladder|subtissue:nan|free_annotation:Bladder_mesenchymal_cell|cell_id:K14-B000610-3_56_F-1-1</td>\n",
       "      <td>/mnt/data/sourmash_databases/tabula-muris-dna-k21.sbt.json</td>\n",
       "      <td>772e252a524576ca4687ac7d6d4cd93c</td>\n",
       "    </tr>\n",
       "    <tr>\n",
       "      <th>4</th>\n",
       "      <td>0.872425</td>\n",
       "      <td>cell_ontology_class:bladder_cell|tissue:Bladder|subtissue:nan|free_annotation:Bladder_mesenchymal_cell|cell_id:C15-B000610-3_56_F-1-1</td>\n",
       "      <td>/mnt/data/sourmash_databases/tabula-muris-dna-k21.sbt.json</td>\n",
       "      <td>ceb6145f9e786c0ebce8a4b44b767d27</td>\n",
       "    </tr>\n",
       "  </tbody>\n",
       "</table>\n",
       "</div>"
      ],
      "text/plain": [
       "   similarity  \\\n",
       "0    1.000000   \n",
       "1    0.893563   \n",
       "2    0.879294   \n",
       "3    0.876851   \n",
       "4    0.872425   \n",
       "\n",
       "                                                                                                                                    name  \\\n",
       "0   cell_ontology_class:bladder_cell|tissue:Bladder|subtissue:nan|free_annotation:Bladder_mesenchymal_cell|cell_id:A1-B000610-3_56_F-1-1   \n",
       "1  cell_ontology_class:bladder_cell|tissue:Bladder|subtissue:nan|free_annotation:Bladder_mesenchymal_cell|cell_id:A13-B000610-3_56_F-1-1   \n",
       "2   cell_ontology_class:bladder_cell|tissue:Bladder|subtissue:nan|free_annotation:Bladder_mesenchymal_cell|cell_id:E2-B000610-3_56_F-1-1   \n",
       "3  cell_ontology_class:bladder_cell|tissue:Bladder|subtissue:nan|free_annotation:Bladder_mesenchymal_cell|cell_id:K14-B000610-3_56_F-1-1   \n",
       "4  cell_ontology_class:bladder_cell|tissue:Bladder|subtissue:nan|free_annotation:Bladder_mesenchymal_cell|cell_id:C15-B000610-3_56_F-1-1   \n",
       "\n",
       "                                                     filename  \\\n",
       "0  /mnt/data/sourmash_databases/tabula-muris-dna-k21.sbt.json   \n",
       "1  /mnt/data/sourmash_databases/tabula-muris-dna-k21.sbt.json   \n",
       "2  /mnt/data/sourmash_databases/tabula-muris-dna-k21.sbt.json   \n",
       "3  /mnt/data/sourmash_databases/tabula-muris-dna-k21.sbt.json   \n",
       "4  /mnt/data/sourmash_databases/tabula-muris-dna-k21.sbt.json   \n",
       "\n",
       "                                md5  \n",
       "0  3413cb3e2d21ab83572f49de51dac2e6  \n",
       "1  15ca87e27d546f9b7972ff150a41480f  \n",
       "2  edacf015289b20877385cd68188bd7bd  \n",
       "3  772e252a524576ca4687ac7d6d4cd93c  \n",
       "4  ceb6145f9e786c0ebce8a4b44b767d27  "
      ]
     },
     "execution_count": 2,
     "metadata": {},
     "output_type": "execute_result"
    }
   ],
   "source": [
    "import pandas as pd\n",
    "pd.options.display.max_colwidth = 500\n",
    "\n",
    "\n",
    "search_results = pd.read_csv('/mnt/data/maca-facs-sourmash_search/A1-B000610-3_56_F-1-1.csv')\n",
    "print(search_results.shape)\n",
    "search_results.head()"
   ]
  },
  {
   "cell_type": "code",
   "execution_count": 3,
   "metadata": {},
   "outputs": [
    {
     "data": {
      "text/html": [
       "<div>\n",
       "<style scoped>\n",
       "    .dataframe tbody tr th:only-of-type {\n",
       "        vertical-align: middle;\n",
       "    }\n",
       "\n",
       "    .dataframe tbody tr th {\n",
       "        vertical-align: top;\n",
       "    }\n",
       "\n",
       "    .dataframe thead th {\n",
       "        text-align: right;\n",
       "    }\n",
       "</style>\n",
       "<table border=\"1\" class=\"dataframe\">\n",
       "  <thead>\n",
       "    <tr style=\"text-align: right;\">\n",
       "      <th></th>\n",
       "      <th>similarity</th>\n",
       "      <th>name</th>\n",
       "      <th>filename</th>\n",
       "      <th>md5</th>\n",
       "    </tr>\n",
       "  </thead>\n",
       "  <tbody>\n",
       "    <tr>\n",
       "      <th>32205</th>\n",
       "      <td>0.080091</td>\n",
       "      <td>O4-MAA000942-3_8_M-1-1</td>\n",
       "      <td>/mnt/data/sourmash_databases/tabula-muris-dna-k21.sbt.json</td>\n",
       "      <td>7b0aa55529280f962cc25b548d023415</td>\n",
       "    </tr>\n",
       "    <tr>\n",
       "      <th>32206</th>\n",
       "      <td>0.080081</td>\n",
       "      <td>F11-B003277-3_39_F-1-1</td>\n",
       "      <td>/mnt/data/sourmash_databases/tabula-muris-dna-k21.sbt.json</td>\n",
       "      <td>b6848e899f347a5e3ed39cb6bc5ad5a2</td>\n",
       "    </tr>\n",
       "    <tr>\n",
       "      <th>32207</th>\n",
       "      <td>0.080071</td>\n",
       "      <td>cell_ontology_class:enterocyte_of_epithelium_of_large_intestine|tissue:Large_Intestine|subtissue:Proximal|free_annotation:Enterocyte_(Proximal)|cell_id:I19-MAA001872-3_39_F-1-1</td>\n",
       "      <td>/mnt/data/sourmash_databases/tabula-muris-dna-k21.sbt.json</td>\n",
       "      <td>68cc517b4556cf47080bb6c4af4f12f2</td>\n",
       "    </tr>\n",
       "    <tr>\n",
       "      <th>32208</th>\n",
       "      <td>0.080068</td>\n",
       "      <td>G13-MAA001868-3_38_F-1-1</td>\n",
       "      <td>/mnt/data/sourmash_databases/tabula-muris-dna-k21.sbt.json</td>\n",
       "      <td>60988646de5050554a45a60ae22908ee</td>\n",
       "    </tr>\n",
       "    <tr>\n",
       "      <th>32209</th>\n",
       "      <td>0.080009</td>\n",
       "      <td>C6-MAA000556-3_9_M-1-1</td>\n",
       "      <td>/mnt/data/sourmash_databases/tabula-muris-dna-k21.sbt.json</td>\n",
       "      <td>9ab3250deb350b1a8aa60b5112aa967f</td>\n",
       "    </tr>\n",
       "  </tbody>\n",
       "</table>\n",
       "</div>"
      ],
      "text/plain": [
       "       similarity  \\\n",
       "32205    0.080091   \n",
       "32206    0.080081   \n",
       "32207    0.080071   \n",
       "32208    0.080068   \n",
       "32209    0.080009   \n",
       "\n",
       "                                                                                                                                                                                   name  \\\n",
       "32205                                                                                                                                                            O4-MAA000942-3_8_M-1-1   \n",
       "32206                                                                                                                                                            F11-B003277-3_39_F-1-1   \n",
       "32207  cell_ontology_class:enterocyte_of_epithelium_of_large_intestine|tissue:Large_Intestine|subtissue:Proximal|free_annotation:Enterocyte_(Proximal)|cell_id:I19-MAA001872-3_39_F-1-1   \n",
       "32208                                                                                                                                                          G13-MAA001868-3_38_F-1-1   \n",
       "32209                                                                                                                                                            C6-MAA000556-3_9_M-1-1   \n",
       "\n",
       "                                                         filename  \\\n",
       "32205  /mnt/data/sourmash_databases/tabula-muris-dna-k21.sbt.json   \n",
       "32206  /mnt/data/sourmash_databases/tabula-muris-dna-k21.sbt.json   \n",
       "32207  /mnt/data/sourmash_databases/tabula-muris-dna-k21.sbt.json   \n",
       "32208  /mnt/data/sourmash_databases/tabula-muris-dna-k21.sbt.json   \n",
       "32209  /mnt/data/sourmash_databases/tabula-muris-dna-k21.sbt.json   \n",
       "\n",
       "                                    md5  \n",
       "32205  7b0aa55529280f962cc25b548d023415  \n",
       "32206  b6848e899f347a5e3ed39cb6bc5ad5a2  \n",
       "32207  68cc517b4556cf47080bb6c4af4f12f2  \n",
       "32208  60988646de5050554a45a60ae22908ee  \n",
       "32209  9ab3250deb350b1a8aa60b5112aa967f  "
      ]
     },
     "execution_count": 3,
     "metadata": {},
     "output_type": "execute_result"
    }
   ],
   "source": [
    "search_results.tail()"
   ]
  },
  {
   "cell_type": "code",
   "execution_count": 4,
   "metadata": {},
   "outputs": [
    {
     "data": {
      "text/plain": [
       "[('cell_ontology_class', 'bladder_cell'),\n",
       " ('tissue', 'Bladder'),\n",
       " ('subtissue', 'nan'),\n",
       " ('free_annotation', 'Bladder_mesenchymal_cell'),\n",
       " ('cell_id', 'C15-B000610-3_56_F-1-1')]"
      ]
     },
     "execution_count": 4,
     "metadata": {},
     "output_type": "execute_result"
    }
   ],
   "source": [
    "import re\n",
    "\n",
    "s = 'cell_ontology_class:bladder_cell|tissue:Bladder|subtissue:nan|free_annotation:Bladder_mesenchymal_cell|cell_id:C15-B000610-3_56_F-1-1'\n",
    "pattern = '(\\w+):([\\w\\d\\-_]+)'\n",
    "\n",
    "re.findall(pattern, s)"
   ]
  },
  {
   "cell_type": "code",
   "execution_count": 5,
   "metadata": {},
   "outputs": [
    {
     "name": "stdout",
     "output_type": "stream",
     "text": [
      "(144800, 2)\n"
     ]
    },
    {
     "data": {
      "text/html": [
       "<div>\n",
       "<style scoped>\n",
       "    .dataframe tbody tr th:only-of-type {\n",
       "        vertical-align: middle;\n",
       "    }\n",
       "\n",
       "    .dataframe tbody tr th {\n",
       "        vertical-align: top;\n",
       "    }\n",
       "\n",
       "    .dataframe thead th {\n",
       "        text-align: right;\n",
       "    }\n",
       "</style>\n",
       "<table border=\"1\" class=\"dataframe\">\n",
       "  <thead>\n",
       "    <tr style=\"text-align: right;\">\n",
       "      <th></th>\n",
       "      <th></th>\n",
       "      <th>0</th>\n",
       "      <th>1</th>\n",
       "    </tr>\n",
       "    <tr>\n",
       "      <th></th>\n",
       "      <th>match</th>\n",
       "      <th></th>\n",
       "      <th></th>\n",
       "    </tr>\n",
       "  </thead>\n",
       "  <tbody>\n",
       "    <tr>\n",
       "      <th rowspan=\"5\" valign=\"top\">0</th>\n",
       "      <th>0</th>\n",
       "      <td>cell_ontology_class</td>\n",
       "      <td>bladder_cell</td>\n",
       "    </tr>\n",
       "    <tr>\n",
       "      <th>1</th>\n",
       "      <td>tissue</td>\n",
       "      <td>Bladder</td>\n",
       "    </tr>\n",
       "    <tr>\n",
       "      <th>2</th>\n",
       "      <td>subtissue</td>\n",
       "      <td>nan</td>\n",
       "    </tr>\n",
       "    <tr>\n",
       "      <th>3</th>\n",
       "      <td>free_annotation</td>\n",
       "      <td>Bladder_mesenchymal_cell</td>\n",
       "    </tr>\n",
       "    <tr>\n",
       "      <th>4</th>\n",
       "      <td>cell_id</td>\n",
       "      <td>A1-B000610-3_56_F-1-1</td>\n",
       "    </tr>\n",
       "  </tbody>\n",
       "</table>\n",
       "</div>"
      ],
      "text/plain": [
       "                           0                         1\n",
       "  match                                               \n",
       "0 0      cell_ontology_class              bladder_cell\n",
       "  1                   tissue                   Bladder\n",
       "  2                subtissue                       nan\n",
       "  3          free_annotation  Bladder_mesenchymal_cell\n",
       "  4                  cell_id     A1-B000610-3_56_F-1-1"
      ]
     },
     "execution_count": 5,
     "metadata": {},
     "output_type": "execute_result"
    }
   ],
   "source": [
    "expanded = search_results.name.str.extractall(pattern)\n",
    "print(expanded.shape)\n",
    "expanded.head()"
   ]
  },
  {
   "cell_type": "code",
   "execution_count": 6,
   "metadata": {},
   "outputs": [
    {
     "name": "stdout",
     "output_type": "stream",
     "text": [
      "(144800, 4)\n"
     ]
    },
    {
     "data": {
      "text/html": [
       "<div>\n",
       "<style scoped>\n",
       "    .dataframe tbody tr th:only-of-type {\n",
       "        vertical-align: middle;\n",
       "    }\n",
       "\n",
       "    .dataframe tbody tr th {\n",
       "        vertical-align: top;\n",
       "    }\n",
       "\n",
       "    .dataframe thead th {\n",
       "        text-align: right;\n",
       "    }\n",
       "</style>\n",
       "<table border=\"1\" class=\"dataframe\">\n",
       "  <thead>\n",
       "    <tr style=\"text-align: right;\">\n",
       "      <th></th>\n",
       "      <th>level_0</th>\n",
       "      <th>match</th>\n",
       "      <th>0</th>\n",
       "      <th>1</th>\n",
       "    </tr>\n",
       "  </thead>\n",
       "  <tbody>\n",
       "    <tr>\n",
       "      <th>0</th>\n",
       "      <td>0</td>\n",
       "      <td>0</td>\n",
       "      <td>cell_ontology_class</td>\n",
       "      <td>bladder_cell</td>\n",
       "    </tr>\n",
       "    <tr>\n",
       "      <th>1</th>\n",
       "      <td>0</td>\n",
       "      <td>1</td>\n",
       "      <td>tissue</td>\n",
       "      <td>Bladder</td>\n",
       "    </tr>\n",
       "    <tr>\n",
       "      <th>2</th>\n",
       "      <td>0</td>\n",
       "      <td>2</td>\n",
       "      <td>subtissue</td>\n",
       "      <td>nan</td>\n",
       "    </tr>\n",
       "    <tr>\n",
       "      <th>3</th>\n",
       "      <td>0</td>\n",
       "      <td>3</td>\n",
       "      <td>free_annotation</td>\n",
       "      <td>Bladder_mesenchymal_cell</td>\n",
       "    </tr>\n",
       "    <tr>\n",
       "      <th>4</th>\n",
       "      <td>0</td>\n",
       "      <td>4</td>\n",
       "      <td>cell_id</td>\n",
       "      <td>A1-B000610-3_56_F-1-1</td>\n",
       "    </tr>\n",
       "  </tbody>\n",
       "</table>\n",
       "</div>"
      ],
      "text/plain": [
       "   level_0  match                    0                         1\n",
       "0        0      0  cell_ontology_class              bladder_cell\n",
       "1        0      1               tissue                   Bladder\n",
       "2        0      2            subtissue                       nan\n",
       "3        0      3      free_annotation  Bladder_mesenchymal_cell\n",
       "4        0      4              cell_id     A1-B000610-3_56_F-1-1"
      ]
     },
     "execution_count": 6,
     "metadata": {},
     "output_type": "execute_result"
    }
   ],
   "source": [
    "expanded_index = expanded.reset_index()\n",
    "print(expanded_index.shape)\n",
    "expanded_index.head()"
   ]
  },
  {
   "cell_type": "code",
   "execution_count": 7,
   "metadata": {},
   "outputs": [
    {
     "name": "stdout",
     "output_type": "stream",
     "text": [
      "(28960, 5)\n"
     ]
    },
    {
     "data": {
      "text/html": [
       "<div>\n",
       "<style scoped>\n",
       "    .dataframe tbody tr th:only-of-type {\n",
       "        vertical-align: middle;\n",
       "    }\n",
       "\n",
       "    .dataframe tbody tr th {\n",
       "        vertical-align: top;\n",
       "    }\n",
       "\n",
       "    .dataframe thead th {\n",
       "        text-align: right;\n",
       "    }\n",
       "</style>\n",
       "<table border=\"1\" class=\"dataframe\">\n",
       "  <thead>\n",
       "    <tr style=\"text-align: right;\">\n",
       "      <th></th>\n",
       "      <th>cell_id</th>\n",
       "      <th>cell_ontology_class</th>\n",
       "      <th>free_annotation</th>\n",
       "      <th>subtissue</th>\n",
       "      <th>tissue</th>\n",
       "    </tr>\n",
       "    <tr>\n",
       "      <th>level_0</th>\n",
       "      <th></th>\n",
       "      <th></th>\n",
       "      <th></th>\n",
       "      <th></th>\n",
       "      <th></th>\n",
       "    </tr>\n",
       "  </thead>\n",
       "  <tbody>\n",
       "    <tr>\n",
       "      <th>0</th>\n",
       "      <td>A1-B000610-3_56_F-1-1</td>\n",
       "      <td>bladder_cell</td>\n",
       "      <td>Bladder_mesenchymal_cell</td>\n",
       "      <td>nan</td>\n",
       "      <td>Bladder</td>\n",
       "    </tr>\n",
       "    <tr>\n",
       "      <th>1</th>\n",
       "      <td>A13-B000610-3_56_F-1-1</td>\n",
       "      <td>bladder_cell</td>\n",
       "      <td>Bladder_mesenchymal_cell</td>\n",
       "      <td>nan</td>\n",
       "      <td>Bladder</td>\n",
       "    </tr>\n",
       "    <tr>\n",
       "      <th>2</th>\n",
       "      <td>E2-B000610-3_56_F-1-1</td>\n",
       "      <td>bladder_cell</td>\n",
       "      <td>Bladder_mesenchymal_cell</td>\n",
       "      <td>nan</td>\n",
       "      <td>Bladder</td>\n",
       "    </tr>\n",
       "    <tr>\n",
       "      <th>3</th>\n",
       "      <td>K14-B000610-3_56_F-1-1</td>\n",
       "      <td>bladder_cell</td>\n",
       "      <td>Bladder_mesenchymal_cell</td>\n",
       "      <td>nan</td>\n",
       "      <td>Bladder</td>\n",
       "    </tr>\n",
       "    <tr>\n",
       "      <th>4</th>\n",
       "      <td>C15-B000610-3_56_F-1-1</td>\n",
       "      <td>bladder_cell</td>\n",
       "      <td>Bladder_mesenchymal_cell</td>\n",
       "      <td>nan</td>\n",
       "      <td>Bladder</td>\n",
       "    </tr>\n",
       "  </tbody>\n",
       "</table>\n",
       "</div>"
      ],
      "text/plain": [
       "0                       cell_id cell_ontology_class           free_annotation  \\\n",
       "level_0                                                                         \n",
       "0         A1-B000610-3_56_F-1-1        bladder_cell  Bladder_mesenchymal_cell   \n",
       "1        A13-B000610-3_56_F-1-1        bladder_cell  Bladder_mesenchymal_cell   \n",
       "2         E2-B000610-3_56_F-1-1        bladder_cell  Bladder_mesenchymal_cell   \n",
       "3        K14-B000610-3_56_F-1-1        bladder_cell  Bladder_mesenchymal_cell   \n",
       "4        C15-B000610-3_56_F-1-1        bladder_cell  Bladder_mesenchymal_cell   \n",
       "\n",
       "0       subtissue   tissue  \n",
       "level_0                     \n",
       "0             nan  Bladder  \n",
       "1             nan  Bladder  \n",
       "2             nan  Bladder  \n",
       "3             nan  Bladder  \n",
       "4             nan  Bladder  "
      ]
     },
     "execution_count": 7,
     "metadata": {},
     "output_type": "execute_result"
    }
   ],
   "source": [
    "annotations = expanded_index.pivot(columns=0, values=1, index='level_0')\n",
    "print(annotations.shape)\n",
    "annotations.head()"
   ]
  },
  {
   "cell_type": "code",
   "execution_count": 8,
   "metadata": {},
   "outputs": [
    {
     "data": {
      "text/html": [
       "<div>\n",
       "<style scoped>\n",
       "    .dataframe tbody tr th:only-of-type {\n",
       "        vertical-align: middle;\n",
       "    }\n",
       "\n",
       "    .dataframe tbody tr th {\n",
       "        vertical-align: top;\n",
       "    }\n",
       "\n",
       "    .dataframe thead th {\n",
       "        text-align: right;\n",
       "    }\n",
       "</style>\n",
       "<table border=\"1\" class=\"dataframe\">\n",
       "  <thead>\n",
       "    <tr style=\"text-align: right;\">\n",
       "      <th></th>\n",
       "      <th>cell_id</th>\n",
       "      <th>cell_ontology_class</th>\n",
       "      <th>free_annotation</th>\n",
       "      <th>subtissue</th>\n",
       "      <th>tissue</th>\n",
       "    </tr>\n",
       "    <tr>\n",
       "      <th>level_0</th>\n",
       "      <th></th>\n",
       "      <th></th>\n",
       "      <th></th>\n",
       "      <th></th>\n",
       "      <th></th>\n",
       "    </tr>\n",
       "  </thead>\n",
       "  <tbody>\n",
       "    <tr>\n",
       "      <th>32197</th>\n",
       "      <td>N20-MAA001884-3_38_F-1-1</td>\n",
       "      <td>naive_B_cell</td>\n",
       "      <td>nan</td>\n",
       "      <td>B-cells</td>\n",
       "      <td>Marrow</td>\n",
       "    </tr>\n",
       "    <tr>\n",
       "      <th>32200</th>\n",
       "      <td>D7-MAA100039-3_11_M-1-1</td>\n",
       "      <td>hepatocyte</td>\n",
       "      <td>nan</td>\n",
       "      <td>Hepatocytes</td>\n",
       "      <td>Liver</td>\n",
       "    </tr>\n",
       "    <tr>\n",
       "      <th>32202</th>\n",
       "      <td>M15-MAA001869-3_38_F-1-1</td>\n",
       "      <td>epithelial_cell_of_large_intestine</td>\n",
       "      <td>Lgr5</td>\n",
       "      <td>Proximal</td>\n",
       "      <td>Large_Intestine</td>\n",
       "    </tr>\n",
       "    <tr>\n",
       "      <th>32203</th>\n",
       "      <td>I21-MAA001892-3_38_F-1-1</td>\n",
       "      <td>classical_monocyte</td>\n",
       "      <td>invading_monocytes</td>\n",
       "      <td>Endomucin</td>\n",
       "      <td>Lung</td>\n",
       "    </tr>\n",
       "    <tr>\n",
       "      <th>32207</th>\n",
       "      <td>I19-MAA001872-3_39_F-1-1</td>\n",
       "      <td>enterocyte_of_epithelium_of_large_intestine</td>\n",
       "      <td>Enterocyte_</td>\n",
       "      <td>Proximal</td>\n",
       "      <td>Large_Intestine</td>\n",
       "    </tr>\n",
       "  </tbody>\n",
       "</table>\n",
       "</div>"
      ],
      "text/plain": [
       "0                         cell_id  \\\n",
       "level_0                             \n",
       "32197    N20-MAA001884-3_38_F-1-1   \n",
       "32200     D7-MAA100039-3_11_M-1-1   \n",
       "32202    M15-MAA001869-3_38_F-1-1   \n",
       "32203    I21-MAA001892-3_38_F-1-1   \n",
       "32207    I19-MAA001872-3_39_F-1-1   \n",
       "\n",
       "0                                cell_ontology_class     free_annotation  \\\n",
       "level_0                                                                    \n",
       "32197                                   naive_B_cell                 nan   \n",
       "32200                                     hepatocyte                 nan   \n",
       "32202             epithelial_cell_of_large_intestine                Lgr5   \n",
       "32203                             classical_monocyte  invading_monocytes   \n",
       "32207    enterocyte_of_epithelium_of_large_intestine         Enterocyte_   \n",
       "\n",
       "0          subtissue           tissue  \n",
       "level_0                                \n",
       "32197        B-cells           Marrow  \n",
       "32200    Hepatocytes            Liver  \n",
       "32202       Proximal  Large_Intestine  \n",
       "32203      Endomucin             Lung  \n",
       "32207       Proximal  Large_Intestine  "
      ]
     },
     "execution_count": 8,
     "metadata": {},
     "output_type": "execute_result"
    }
   ],
   "source": [
    "annotations.tail()"
   ]
  },
  {
   "cell_type": "code",
   "execution_count": 9,
   "metadata": {},
   "outputs": [],
   "source": [
    "def extract_cell_annotations(name_column):\n",
    "    pattern = '(\\w+):([\\w\\d\\-_]+)'\n",
    "    expanded = name_column.str.extractall(pattern)\n",
    "    expanded_index = expanded.reset_index()\n",
    "    annotations = expanded_index.pivot(columns=0, values=1, index='level_0')\n",
    "    return annotations"
   ]
  },
  {
   "cell_type": "code",
   "execution_count": 10,
   "metadata": {},
   "outputs": [
    {
     "name": "stdout",
     "output_type": "stream",
     "text": [
      "(32210, 9)\n"
     ]
    },
    {
     "data": {
      "text/html": [
       "<div>\n",
       "<style scoped>\n",
       "    .dataframe tbody tr th:only-of-type {\n",
       "        vertical-align: middle;\n",
       "    }\n",
       "\n",
       "    .dataframe tbody tr th {\n",
       "        vertical-align: top;\n",
       "    }\n",
       "\n",
       "    .dataframe thead th {\n",
       "        text-align: right;\n",
       "    }\n",
       "</style>\n",
       "<table border=\"1\" class=\"dataframe\">\n",
       "  <thead>\n",
       "    <tr style=\"text-align: right;\">\n",
       "      <th></th>\n",
       "      <th>similarity</th>\n",
       "      <th>name</th>\n",
       "      <th>filename</th>\n",
       "      <th>md5</th>\n",
       "      <th>cell_id</th>\n",
       "      <th>cell_ontology_class</th>\n",
       "      <th>free_annotation</th>\n",
       "      <th>subtissue</th>\n",
       "      <th>tissue</th>\n",
       "    </tr>\n",
       "  </thead>\n",
       "  <tbody>\n",
       "    <tr>\n",
       "      <th>0</th>\n",
       "      <td>1.000000</td>\n",
       "      <td>cell_ontology_class:bladder_cell|tissue:Bladder|subtissue:nan|free_annotation:Bladder_mesenchymal_cell|cell_id:A1-B000610-3_56_F-1-1</td>\n",
       "      <td>/mnt/data/sourmash_databases/tabula-muris-dna-k21.sbt.json</td>\n",
       "      <td>3413cb3e2d21ab83572f49de51dac2e6</td>\n",
       "      <td>A1-B000610-3_56_F-1-1</td>\n",
       "      <td>bladder_cell</td>\n",
       "      <td>Bladder_mesenchymal_cell</td>\n",
       "      <td>nan</td>\n",
       "      <td>Bladder</td>\n",
       "    </tr>\n",
       "    <tr>\n",
       "      <th>1</th>\n",
       "      <td>0.893563</td>\n",
       "      <td>cell_ontology_class:bladder_cell|tissue:Bladder|subtissue:nan|free_annotation:Bladder_mesenchymal_cell|cell_id:A13-B000610-3_56_F-1-1</td>\n",
       "      <td>/mnt/data/sourmash_databases/tabula-muris-dna-k21.sbt.json</td>\n",
       "      <td>15ca87e27d546f9b7972ff150a41480f</td>\n",
       "      <td>A13-B000610-3_56_F-1-1</td>\n",
       "      <td>bladder_cell</td>\n",
       "      <td>Bladder_mesenchymal_cell</td>\n",
       "      <td>nan</td>\n",
       "      <td>Bladder</td>\n",
       "    </tr>\n",
       "    <tr>\n",
       "      <th>2</th>\n",
       "      <td>0.879294</td>\n",
       "      <td>cell_ontology_class:bladder_cell|tissue:Bladder|subtissue:nan|free_annotation:Bladder_mesenchymal_cell|cell_id:E2-B000610-3_56_F-1-1</td>\n",
       "      <td>/mnt/data/sourmash_databases/tabula-muris-dna-k21.sbt.json</td>\n",
       "      <td>edacf015289b20877385cd68188bd7bd</td>\n",
       "      <td>E2-B000610-3_56_F-1-1</td>\n",
       "      <td>bladder_cell</td>\n",
       "      <td>Bladder_mesenchymal_cell</td>\n",
       "      <td>nan</td>\n",
       "      <td>Bladder</td>\n",
       "    </tr>\n",
       "    <tr>\n",
       "      <th>3</th>\n",
       "      <td>0.876851</td>\n",
       "      <td>cell_ontology_class:bladder_cell|tissue:Bladder|subtissue:nan|free_annotation:Bladder_mesenchymal_cell|cell_id:K14-B000610-3_56_F-1-1</td>\n",
       "      <td>/mnt/data/sourmash_databases/tabula-muris-dna-k21.sbt.json</td>\n",
       "      <td>772e252a524576ca4687ac7d6d4cd93c</td>\n",
       "      <td>K14-B000610-3_56_F-1-1</td>\n",
       "      <td>bladder_cell</td>\n",
       "      <td>Bladder_mesenchymal_cell</td>\n",
       "      <td>nan</td>\n",
       "      <td>Bladder</td>\n",
       "    </tr>\n",
       "    <tr>\n",
       "      <th>4</th>\n",
       "      <td>0.872425</td>\n",
       "      <td>cell_ontology_class:bladder_cell|tissue:Bladder|subtissue:nan|free_annotation:Bladder_mesenchymal_cell|cell_id:C15-B000610-3_56_F-1-1</td>\n",
       "      <td>/mnt/data/sourmash_databases/tabula-muris-dna-k21.sbt.json</td>\n",
       "      <td>ceb6145f9e786c0ebce8a4b44b767d27</td>\n",
       "      <td>C15-B000610-3_56_F-1-1</td>\n",
       "      <td>bladder_cell</td>\n",
       "      <td>Bladder_mesenchymal_cell</td>\n",
       "      <td>nan</td>\n",
       "      <td>Bladder</td>\n",
       "    </tr>\n",
       "  </tbody>\n",
       "</table>\n",
       "</div>"
      ],
      "text/plain": [
       "   similarity  \\\n",
       "0    1.000000   \n",
       "1    0.893563   \n",
       "2    0.879294   \n",
       "3    0.876851   \n",
       "4    0.872425   \n",
       "\n",
       "                                                                                                                                    name  \\\n",
       "0   cell_ontology_class:bladder_cell|tissue:Bladder|subtissue:nan|free_annotation:Bladder_mesenchymal_cell|cell_id:A1-B000610-3_56_F-1-1   \n",
       "1  cell_ontology_class:bladder_cell|tissue:Bladder|subtissue:nan|free_annotation:Bladder_mesenchymal_cell|cell_id:A13-B000610-3_56_F-1-1   \n",
       "2   cell_ontology_class:bladder_cell|tissue:Bladder|subtissue:nan|free_annotation:Bladder_mesenchymal_cell|cell_id:E2-B000610-3_56_F-1-1   \n",
       "3  cell_ontology_class:bladder_cell|tissue:Bladder|subtissue:nan|free_annotation:Bladder_mesenchymal_cell|cell_id:K14-B000610-3_56_F-1-1   \n",
       "4  cell_ontology_class:bladder_cell|tissue:Bladder|subtissue:nan|free_annotation:Bladder_mesenchymal_cell|cell_id:C15-B000610-3_56_F-1-1   \n",
       "\n",
       "                                                     filename  \\\n",
       "0  /mnt/data/sourmash_databases/tabula-muris-dna-k21.sbt.json   \n",
       "1  /mnt/data/sourmash_databases/tabula-muris-dna-k21.sbt.json   \n",
       "2  /mnt/data/sourmash_databases/tabula-muris-dna-k21.sbt.json   \n",
       "3  /mnt/data/sourmash_databases/tabula-muris-dna-k21.sbt.json   \n",
       "4  /mnt/data/sourmash_databases/tabula-muris-dna-k21.sbt.json   \n",
       "\n",
       "                                md5                 cell_id  \\\n",
       "0  3413cb3e2d21ab83572f49de51dac2e6   A1-B000610-3_56_F-1-1   \n",
       "1  15ca87e27d546f9b7972ff150a41480f  A13-B000610-3_56_F-1-1   \n",
       "2  edacf015289b20877385cd68188bd7bd   E2-B000610-3_56_F-1-1   \n",
       "3  772e252a524576ca4687ac7d6d4cd93c  K14-B000610-3_56_F-1-1   \n",
       "4  ceb6145f9e786c0ebce8a4b44b767d27  C15-B000610-3_56_F-1-1   \n",
       "\n",
       "  cell_ontology_class           free_annotation subtissue   tissue  \n",
       "0        bladder_cell  Bladder_mesenchymal_cell       nan  Bladder  \n",
       "1        bladder_cell  Bladder_mesenchymal_cell       nan  Bladder  \n",
       "2        bladder_cell  Bladder_mesenchymal_cell       nan  Bladder  \n",
       "3        bladder_cell  Bladder_mesenchymal_cell       nan  Bladder  \n",
       "4        bladder_cell  Bladder_mesenchymal_cell       nan  Bladder  "
      ]
     },
     "execution_count": 10,
     "metadata": {},
     "output_type": "execute_result"
    }
   ],
   "source": [
    "search_results_annotated = search_results.join(annotations)\n",
    "print(search_results_annotated.shape)\n",
    "search_results_annotated.head()"
   ]
  },
  {
   "cell_type": "code",
   "execution_count": 11,
   "metadata": {},
   "outputs": [
    {
     "data": {
      "text/plain": [
       "<matplotlib.axes._subplots.AxesSubplot at 0x7f65a8741278>"
      ]
     },
     "execution_count": 11,
     "metadata": {},
     "output_type": "execute_result"
    },
    {
     "data": {
      "image/png": "[encoded data removed]",
      "text/plain": [
       "<Figure size 432x288 with 1 Axes>"
      ]
     },
     "metadata": {},
     "output_type": "display_data"
    }
   ],
   "source": [
    "import seaborn as sns \n",
    "%matplotlib inline\n",
    "\n",
    "sns.distplot(search_results_annotated.similarity)"
   ]
  },
  {
   "cell_type": "code",
   "execution_count": 12,
   "metadata": {},
   "outputs": [
    {
     "name": "stdout",
     "output_type": "stream",
     "text": [
      "(528, 9)\n"
     ]
    },
    {
     "data": {
      "text/html": [
       "<div>\n",
       "<style scoped>\n",
       "    .dataframe tbody tr th:only-of-type {\n",
       "        vertical-align: middle;\n",
       "    }\n",
       "\n",
       "    .dataframe tbody tr th {\n",
       "        vertical-align: top;\n",
       "    }\n",
       "\n",
       "    .dataframe thead th {\n",
       "        text-align: right;\n",
       "    }\n",
       "</style>\n",
       "<table border=\"1\" class=\"dataframe\">\n",
       "  <thead>\n",
       "    <tr style=\"text-align: right;\">\n",
       "      <th></th>\n",
       "      <th>similarity</th>\n",
       "      <th>name</th>\n",
       "      <th>filename</th>\n",
       "      <th>md5</th>\n",
       "      <th>cell_id</th>\n",
       "      <th>cell_ontology_class</th>\n",
       "      <th>free_annotation</th>\n",
       "      <th>subtissue</th>\n",
       "      <th>tissue</th>\n",
       "    </tr>\n",
       "  </thead>\n",
       "  <tbody>\n",
       "    <tr>\n",
       "      <th>523</th>\n",
       "      <td>0.600428</td>\n",
       "      <td>cell_ontology_class:T_cell|tissue:Limb_Muscle|subtissue:ForelimbandHindlimb|free_annotation:nan|cell_id:O7-D042186-3_8_M-1-1</td>\n",
       "      <td>/mnt/data/sourmash_databases/tabula-muris-dna-k21.sbt.json</td>\n",
       "      <td>d58b3b8e381fe9993b392f7861b322a2</td>\n",
       "      <td>O7-D042186-3_8_M-1-1</td>\n",
       "      <td>T_cell</td>\n",
       "      <td>nan</td>\n",
       "      <td>ForelimbandHindlimb</td>\n",
       "      <td>Limb_Muscle</td>\n",
       "    </tr>\n",
       "    <tr>\n",
       "      <th>524</th>\n",
       "      <td>0.600385</td>\n",
       "      <td>cell_ontology_class:mesenchymal_stem_cell_of_adipose|tissue:Fat|subtissue:GAT|free_annotation:mesenchymal_progenitor|cell_id:M7-MAA000388-3_11_M-1-1</td>\n",
       "      <td>/mnt/data/sourmash_databases/tabula-muris-dna-k21.sbt.json</td>\n",
       "      <td>a1db5c86f99b6e01084b740d541fdbe7</td>\n",
       "      <td>M7-MAA000388-3_11_M-1-1</td>\n",
       "      <td>mesenchymal_stem_cell_of_adipose</td>\n",
       "      <td>mesenchymal_progenitor</td>\n",
       "      <td>GAT</td>\n",
       "      <td>Fat</td>\n",
       "    </tr>\n",
       "    <tr>\n",
       "      <th>525</th>\n",
       "      <td>0.600213</td>\n",
       "      <td>cell_ontology_class:brain_pericyte|tissue:Brain_Non-Myeloid|subtissue:Cerebellum|free_annotation:nan|cell_id:C3-MAA000641-3_9_M-1-1</td>\n",
       "      <td>/mnt/data/sourmash_databases/tabula-muris-dna-k21.sbt.json</td>\n",
       "      <td>e47305ab372779d6597e86374601e440</td>\n",
       "      <td>C3-MAA000641-3_9_M-1-1</td>\n",
       "      <td>brain_pericyte</td>\n",
       "      <td>nan</td>\n",
       "      <td>Cerebellum</td>\n",
       "      <td>Brain_Non-Myeloid</td>\n",
       "    </tr>\n",
       "    <tr>\n",
       "      <th>526</th>\n",
       "      <td>0.600194</td>\n",
       "      <td>cell_ontology_class:endothelial_cell|tissue:Trachea|subtissue:nan|free_annotation:nan|cell_id:C14-MAA001865-3_38_F-1-1</td>\n",
       "      <td>/mnt/data/sourmash_databases/tabula-muris-dna-k21.sbt.json</td>\n",
       "      <td>8923582c93b785e1a4c7e95571c77e41</td>\n",
       "      <td>C14-MAA001865-3_38_F-1-1</td>\n",
       "      <td>endothelial_cell</td>\n",
       "      <td>nan</td>\n",
       "      <td>nan</td>\n",
       "      <td>Trachea</td>\n",
       "    </tr>\n",
       "    <tr>\n",
       "      <th>527</th>\n",
       "      <td>0.600035</td>\n",
       "      <td>cell_ontology_class:bladder_cell|tissue:Bladder|subtissue:nan|free_annotation:Bladder_mesenchymal_cell|cell_id:O15-B000610-3_56_F-1-1</td>\n",
       "      <td>/mnt/data/sourmash_databases/tabula-muris-dna-k21.sbt.json</td>\n",
       "      <td>427b32b0b57eee9877898e41585d6056</td>\n",
       "      <td>O15-B000610-3_56_F-1-1</td>\n",
       "      <td>bladder_cell</td>\n",
       "      <td>Bladder_mesenchymal_cell</td>\n",
       "      <td>nan</td>\n",
       "      <td>Bladder</td>\n",
       "    </tr>\n",
       "  </tbody>\n",
       "</table>\n",
       "</div>"
      ],
      "text/plain": [
       "     similarity  \\\n",
       "523    0.600428   \n",
       "524    0.600385   \n",
       "525    0.600213   \n",
       "526    0.600194   \n",
       "527    0.600035   \n",
       "\n",
       "                                                                                                                                                     name  \\\n",
       "523                          cell_ontology_class:T_cell|tissue:Limb_Muscle|subtissue:ForelimbandHindlimb|free_annotation:nan|cell_id:O7-D042186-3_8_M-1-1   \n",
       "524  cell_ontology_class:mesenchymal_stem_cell_of_adipose|tissue:Fat|subtissue:GAT|free_annotation:mesenchymal_progenitor|cell_id:M7-MAA000388-3_11_M-1-1   \n",
       "525                   cell_ontology_class:brain_pericyte|tissue:Brain_Non-Myeloid|subtissue:Cerebellum|free_annotation:nan|cell_id:C3-MAA000641-3_9_M-1-1   \n",
       "526                                cell_ontology_class:endothelial_cell|tissue:Trachea|subtissue:nan|free_annotation:nan|cell_id:C14-MAA001865-3_38_F-1-1   \n",
       "527                 cell_ontology_class:bladder_cell|tissue:Bladder|subtissue:nan|free_annotation:Bladder_mesenchymal_cell|cell_id:O15-B000610-3_56_F-1-1   \n",
       "\n",
       "                                                       filename  \\\n",
       "523  /mnt/data/sourmash_databases/tabula-muris-dna-k21.sbt.json   \n",
       "524  /mnt/data/sourmash_databases/tabula-muris-dna-k21.sbt.json   \n",
       "525  /mnt/data/sourmash_databases/tabula-muris-dna-k21.sbt.json   \n",
       "526  /mnt/data/sourmash_databases/tabula-muris-dna-k21.sbt.json   \n",
       "527  /mnt/data/sourmash_databases/tabula-muris-dna-k21.sbt.json   \n",
       "\n",
       "                                  md5                   cell_id  \\\n",
       "523  d58b3b8e381fe9993b392f7861b322a2      O7-D042186-3_8_M-1-1   \n",
       "524  a1db5c86f99b6e01084b740d541fdbe7   M7-MAA000388-3_11_M-1-1   \n",
       "525  e47305ab372779d6597e86374601e440    C3-MAA000641-3_9_M-1-1   \n",
       "526  8923582c93b785e1a4c7e95571c77e41  C14-MAA001865-3_38_F-1-1   \n",
       "527  427b32b0b57eee9877898e41585d6056    O15-B000610-3_56_F-1-1   \n",
       "\n",
       "                  cell_ontology_class           free_annotation  \\\n",
       "523                            T_cell                       nan   \n",
       "524  mesenchymal_stem_cell_of_adipose    mesenchymal_progenitor   \n",
       "525                    brain_pericyte                       nan   \n",
       "526                  endothelial_cell                       nan   \n",
       "527                      bladder_cell  Bladder_mesenchymal_cell   \n",
       "\n",
       "               subtissue             tissue  \n",
       "523  ForelimbandHindlimb        Limb_Muscle  \n",
       "524                  GAT                Fat  \n",
       "525           Cerebellum  Brain_Non-Myeloid  \n",
       "526                  nan            Trachea  \n",
       "527                  nan            Bladder  "
      ]
     },
     "execution_count": 12,
     "metadata": {},
     "output_type": "execute_result"
    }
   ],
   "source": [
    "search_results_annotated_subset = search_results_annotated.query('similarity > 0.6')\n",
    "print(search_results_annotated_subset.shape)\n",
    "search_results_annotated_subset.tail()"
   ]
  },
  {
   "cell_type": "code",
   "execution_count": 13,
   "metadata": {},
   "outputs": [
    {
     "name": "stdout",
     "output_type": "stream",
     "text": [
      "(24, 9)\n"
     ]
    },
    {
     "data": {
      "text/html": [
       "<div>\n",
       "<style scoped>\n",
       "    .dataframe tbody tr th:only-of-type {\n",
       "        vertical-align: middle;\n",
       "    }\n",
       "\n",
       "    .dataframe tbody tr th {\n",
       "        vertical-align: top;\n",
       "    }\n",
       "\n",
       "    .dataframe thead th {\n",
       "        text-align: right;\n",
       "    }\n",
       "</style>\n",
       "<table border=\"1\" class=\"dataframe\">\n",
       "  <thead>\n",
       "    <tr style=\"text-align: right;\">\n",
       "      <th></th>\n",
       "      <th>similarity</th>\n",
       "      <th>name</th>\n",
       "      <th>filename</th>\n",
       "      <th>md5</th>\n",
       "      <th>cell_id</th>\n",
       "      <th>cell_ontology_class</th>\n",
       "      <th>free_annotation</th>\n",
       "      <th>subtissue</th>\n",
       "      <th>tissue</th>\n",
       "    </tr>\n",
       "  </thead>\n",
       "  <tbody>\n",
       "    <tr>\n",
       "      <th>19</th>\n",
       "      <td>0.808605</td>\n",
       "      <td>cell_ontology_class:skeletal_muscle_satellite_cell|tissue:Limb_Muscle|subtissue:ForelimbandHindlimb|free_annotation:nan|cell_id:C15-B002769-3_39_F-1-1</td>\n",
       "      <td>/mnt/data/sourmash_databases/tabula-muris-dna-k21.sbt.json</td>\n",
       "      <td>f2570bbc14ad391da8d391280e5cf051</td>\n",
       "      <td>C15-B002769-3_39_F-1-1</td>\n",
       "      <td>skeletal_muscle_satellite_cell</td>\n",
       "      <td>nan</td>\n",
       "      <td>ForelimbandHindlimb</td>\n",
       "      <td>Limb_Muscle</td>\n",
       "    </tr>\n",
       "    <tr>\n",
       "      <th>20</th>\n",
       "      <td>0.805943</td>\n",
       "      <td>cell_ontology_class:bladder_cell|tissue:Bladder|subtissue:nan|free_annotation:Bladder_mesenchymal_cell|cell_id:N3-D041914-3_8_M-1-1</td>\n",
       "      <td>/mnt/data/sourmash_databases/tabula-muris-dna-k21.sbt.json</td>\n",
       "      <td>d40019c2bb816245fd73cd6a04f7faa5</td>\n",
       "      <td>N3-D041914-3_8_M-1-1</td>\n",
       "      <td>bladder_cell</td>\n",
       "      <td>Bladder_mesenchymal_cell</td>\n",
       "      <td>nan</td>\n",
       "      <td>Bladder</td>\n",
       "    </tr>\n",
       "    <tr>\n",
       "      <th>21</th>\n",
       "      <td>0.803120</td>\n",
       "      <td>cell_ontology_class:bladder_cell|tissue:Bladder|subtissue:nan|free_annotation:Bladder_mesenchymal_cell|cell_id:C3-D041914-3_8_M-1-1</td>\n",
       "      <td>/mnt/data/sourmash_databases/tabula-muris-dna-k21.sbt.json</td>\n",
       "      <td>0bbbcdf94354672282eaf25ee98290c6</td>\n",
       "      <td>C3-D041914-3_8_M-1-1</td>\n",
       "      <td>bladder_cell</td>\n",
       "      <td>Bladder_mesenchymal_cell</td>\n",
       "      <td>nan</td>\n",
       "      <td>Bladder</td>\n",
       "    </tr>\n",
       "    <tr>\n",
       "      <th>22</th>\n",
       "      <td>0.802825</td>\n",
       "      <td>F3-D041914-3_8_M-1-1</td>\n",
       "      <td>/mnt/data/sourmash_databases/tabula-muris-dna-k21.sbt.json</td>\n",
       "      <td>b07761d7d85f9f89926551781577d979</td>\n",
       "      <td>NaN</td>\n",
       "      <td>NaN</td>\n",
       "      <td>NaN</td>\n",
       "      <td>NaN</td>\n",
       "      <td>NaN</td>\n",
       "    </tr>\n",
       "    <tr>\n",
       "      <th>23</th>\n",
       "      <td>0.801559</td>\n",
       "      <td>cell_ontology_class:bladder_cell|tissue:Bladder|subtissue:nan|free_annotation:Bladder_mesenchymal_cell|cell_id:B4-D041914-3_8_M-1-1</td>\n",
       "      <td>/mnt/data/sourmash_databases/tabula-muris-dna-k21.sbt.json</td>\n",
       "      <td>31757be8557d2910bda14528ac103927</td>\n",
       "      <td>B4-D041914-3_8_M-1-1</td>\n",
       "      <td>bladder_cell</td>\n",
       "      <td>Bladder_mesenchymal_cell</td>\n",
       "      <td>nan</td>\n",
       "      <td>Bladder</td>\n",
       "    </tr>\n",
       "  </tbody>\n",
       "</table>\n",
       "</div>"
      ],
      "text/plain": [
       "    similarity  \\\n",
       "19    0.808605   \n",
       "20    0.805943   \n",
       "21    0.803120   \n",
       "22    0.802825   \n",
       "23    0.801559   \n",
       "\n",
       "                                                                                                                                                      name  \\\n",
       "19  cell_ontology_class:skeletal_muscle_satellite_cell|tissue:Limb_Muscle|subtissue:ForelimbandHindlimb|free_annotation:nan|cell_id:C15-B002769-3_39_F-1-1   \n",
       "20                     cell_ontology_class:bladder_cell|tissue:Bladder|subtissue:nan|free_annotation:Bladder_mesenchymal_cell|cell_id:N3-D041914-3_8_M-1-1   \n",
       "21                     cell_ontology_class:bladder_cell|tissue:Bladder|subtissue:nan|free_annotation:Bladder_mesenchymal_cell|cell_id:C3-D041914-3_8_M-1-1   \n",
       "22                                                                                                                                    F3-D041914-3_8_M-1-1   \n",
       "23                     cell_ontology_class:bladder_cell|tissue:Bladder|subtissue:nan|free_annotation:Bladder_mesenchymal_cell|cell_id:B4-D041914-3_8_M-1-1   \n",
       "\n",
       "                                                      filename  \\\n",
       "19  /mnt/data/sourmash_databases/tabula-muris-dna-k21.sbt.json   \n",
       "20  /mnt/data/sourmash_databases/tabula-muris-dna-k21.sbt.json   \n",
       "21  /mnt/data/sourmash_databases/tabula-muris-dna-k21.sbt.json   \n",
       "22  /mnt/data/sourmash_databases/tabula-muris-dna-k21.sbt.json   \n",
       "23  /mnt/data/sourmash_databases/tabula-muris-dna-k21.sbt.json   \n",
       "\n",
       "                                 md5                 cell_id  \\\n",
       "19  f2570bbc14ad391da8d391280e5cf051  C15-B002769-3_39_F-1-1   \n",
       "20  d40019c2bb816245fd73cd6a04f7faa5    N3-D041914-3_8_M-1-1   \n",
       "21  0bbbcdf94354672282eaf25ee98290c6    C3-D041914-3_8_M-1-1   \n",
       "22  b07761d7d85f9f89926551781577d979                     NaN   \n",
       "23  31757be8557d2910bda14528ac103927    B4-D041914-3_8_M-1-1   \n",
       "\n",
       "               cell_ontology_class           free_annotation  \\\n",
       "19  skeletal_muscle_satellite_cell                       nan   \n",
       "20                    bladder_cell  Bladder_mesenchymal_cell   \n",
       "21                    bladder_cell  Bladder_mesenchymal_cell   \n",
       "22                             NaN                       NaN   \n",
       "23                    bladder_cell  Bladder_mesenchymal_cell   \n",
       "\n",
       "              subtissue       tissue  \n",
       "19  ForelimbandHindlimb  Limb_Muscle  \n",
       "20                  nan      Bladder  \n",
       "21                  nan      Bladder  \n",
       "22                  NaN          NaN  \n",
       "23                  nan      Bladder  "
      ]
     },
     "execution_count": 13,
     "metadata": {},
     "output_type": "execute_result"
    }
   ],
   "source": [
    "search_results_annotated_subset = search_results_annotated.query('similarity > 0.8')\n",
    "print(search_results_annotated_subset.shape)\n",
    "search_results_annotated_subset.tail()"
   ]
  },
  {
   "cell_type": "code",
   "execution_count": 59,
   "metadata": {},
   "outputs": [
    {
     "name": "stdout",
     "output_type": "stream",
     "text": [
      "\n",
      "32210 matches; showing first 10:\n",
      "similarity   match\n",
      "----------   -----\n",
      "100.0%       cell_ontology_class:bladder_cell|tissue:Bladder|subtissue...\n",
      " 89.4%       cell_ontology_class:bladder_cell|tissue:Bladder|subtissue...\n",
      " 87.9%       cell_ontology_class:bladder_cell|tissue:Bladder|subtissue...\n",
      " 87.7%       cell_ontology_class:bladder_cell|tissue:Bladder|subtissue...\n",
      " 87.2%       cell_ontology_class:bladder_cell|tissue:Bladder|subtissue...\n",
      " 85.4%       cell_ontology_class:bladder_cell|tissue:Bladder|subtissue...\n",
      " 84.7%       cell_ontology_class:bladder_cell|tissue:Bladder|subtissue...\n",
      " 84.0%       cell_ontology_class:bladder_cell|tissue:Bladder|subtissue...\n",
      " 83.4%       cell_ontology_class:bladder_cell|tissue:Bladder|subtissue...\n",
      " 83.3%       cell_ontology_class:bladder_cell|tissue:Bladder|subtissue...\n"
     ]
    },
    {
     "name": "stderr",
     "output_type": "stream",
     "text": [
      "\r",
      "\u001b[Kloaded query: cell_ontology_class:bladder_ce... (k=21, DNA)\n",
      "\r",
      "\u001b[Kloaded SBT /mnt/data/sourmash_databases/tabula-muris-dna-k21.sbt.json\r",
      "\r",
      "\u001b[K                                                                               \r",
      "\r",
      "\u001b[Kloaded 1 databases.\n"
     ]
    }
   ],
   "source": [
    "%%bash\n",
    "\n",
    "sourmash search --num-results 10 --csv  --ksize 21 --dna \\\n",
    "    /mnt/data/maca-facs-sourmash_compute_all/A1-B000610-3_56_F-1-1.sig \\\n",
    "    /mnt/data/sourmash_databases/tabula-muris-dna-k21.sbt.json"
   ]
  },
  {
   "cell_type": "code",
   "execution_count": 103,
   "metadata": {},
   "outputs": [
    {
     "name": "stderr",
     "output_type": "stream",
     "text": [
      "mkdir: cannot create directory ‘/mnt/data/maca-facs-sourmash_search’: File exists\n",
      "\r",
      "\u001b[Kloaded query: cell_ontology_class:bladder_ce... (k=27, DNA)\n",
      "\r",
      "\u001b[Kksize on tree '/mnt/data/sourmash_databases/tabula-muris-dna-k21.sbt.json' is 21;\n",
      "\r",
      "\u001b[Kthis is different from query ksize of 27.\n"
     ]
    }
   ],
   "source": [
    "%%bash\n",
    "\n",
    "\n",
    "DIR=/mnt/data/maca-facs-sourmash_search\n",
    "mkdir $DIR\n",
    "\n",
    "sourmash search --num-results 10 --output $DIR/A1-B000610-3_56_F-1-1_k27.csv \\\n",
    "    --threshold 0.8 --ksize 27 --dna \\\n",
    "    /mnt/data/maca-facs-sourmash_compute_all/A1-B000610-3_56_F-1-1.sig \\\n",
    "    /mnt/data/sourmash_databases/tabula-muris-dna-k21.sbt.json"
   ]
  },
  {
   "cell_type": "code",
   "execution_count": 111,
   "metadata": {},
   "outputs": [
    {
     "name": "stdout",
     "output_type": "stream",
     "text": [
      "\n",
      "6316 matches; showing first 3:\n",
      "similarity   match\n",
      "----------   -----\n",
      "100.0%       cell_ontology_class:bladder_cell|tissue:Bladder|subtissue...\n",
      " 84.0%       cell_ontology_class:bladder_cell|tissue:Bladder|subtissue...\n",
      " 83.7%       cell_ontology_class:bladder_cell|tissue:Bladder|subtissue...\n"
     ]
    },
    {
     "name": "stderr",
     "output_type": "stream",
     "text": [
      "\r",
      "\u001b[Kloaded query: cell_ontology_class:bladder_ce... (k=21, protein)\n",
      "\r",
      "\u001b[Kloaded SBT /mnt/data/sourmash_databases/tabula-muris-protein-k21.sbt.json\r",
      "\r",
      "\u001b[K                                                                               \r",
      "\r",
      "\u001b[Kloaded 1 databases.\n"
     ]
    }
   ],
   "source": [
    "%%bash\n",
    "\n",
    "DIR=/mnt/data/maca-facs-sourmash_search\n",
    "\n",
    "\n",
    "sourmash search --ksize 21 --threshold 0.5 \\\n",
    "    --output $DIR/A1-B000610-3_56_F-1-1_protein.csv \\\n",
    "    --protein \\\n",
    "    /mnt/data/maca-facs-sourmash_compute_all/A1-B000610-3_56_F-1-1.sig \\\n",
    "    /mnt/data/sourmash_databases/tabula-muris-protein-k21.sbt.json"
   ]
  },
  {
   "cell_type": "code",
   "execution_count": 109,
   "metadata": {},
   "outputs": [
    {
     "name": "stdout",
     "output_type": "stream",
     "text": [
      "tabula-muris-dna-k21.sbt.json  tabula-muris-protein-k21.sbt.json\r\n"
     ]
    }
   ],
   "source": [
    "ls /mnt/data/sourmash_databases/"
   ]
  },
  {
   "cell_type": "markdown",
   "metadata": {},
   "source": [
    "Meanwhile, outside of the notebook:\n",
    "\n",
    "    aws s3 cp --quiet --recursive s3://olgabot-maca/facs/sourmash_index_all /mnt/data/maca-facs-sourmash_index_all/"
   ]
  },
  {
   "cell_type": "markdown",
   "metadata": {},
   "source": [
    "## Search for this cell across all databases"
   ]
  },
  {
   "cell_type": "code",
   "execution_count": null,
   "metadata": {},
   "outputs": [
    {
     "name": "stdout",
     "output_type": "stream",
     "text": [
      "ksize: 21, seq: protein\n",
      "-rw-rw-r-- 1 ubuntu ubuntu 8.8M Sep 13 15:36 /mnt/data/maca-facs-sourmash_index_all/tabula-muris-k21-protein/tabula-muris-k21-protein/tabula-muris-k21-protein.sbt.json\n",
      "ksize: 21, seq: protein\n",
      "-rw-rw-r-- 1 ubuntu ubuntu 8.8M Sep 13 15:36 /mnt/data/maca-facs-sourmash_index_all/tabula-muris-k21-protein/tabula-muris-k21-protein/tabula-muris-k21-protein.sbt.json\n",
      "ksize: 21, seq: dna\n",
      "-rw-rw-r-- 1 ubuntu ubuntu 8.8M Sep 13 15:44 /mnt/data/maca-facs-sourmash_index_all/tabula-muris-k21-dna/tabula-muris-k21-dna/tabula-muris-k21-dna.sbt.json\n",
      "ksize: 21, seq: dna\n",
      "-rw-rw-r-- 1 ubuntu ubuntu 8.8M Sep 13 15:44 /mnt/data/maca-facs-sourmash_index_all/tabula-muris-k21-dna/tabula-muris-k21-dna/tabula-muris-k21-dna.sbt.json\n",
      "ksize: 27, seq: protein\n",
      "-rw-rw-r-- 1 ubuntu ubuntu 13M Sep 13 16:08 /mnt/data/maca-facs-sourmash_index_all/tabula-muris-k27-protein/tabula-muris-k27-protein/tabula-muris-k27-protein.sbt.json\n",
      "ksize: 27, seq: protein\n",
      "-rw-rw-r-- 1 ubuntu ubuntu 13M Sep 13 16:08 /mnt/data/maca-facs-sourmash_index_all/tabula-muris-k27-protein/tabula-muris-k27-protein/tabula-muris-k27-protein.sbt.json\n",
      "ksize: 27, seq: dna\n",
      "-rw-rw-r-- 1 ubuntu ubuntu 13M Sep 13 15:36 /mnt/data/maca-facs-sourmash_index_all/tabula-muris-k27-dna/tabula-muris-k27-dna/tabula-muris-k27-dna.sbt.json\n",
      "ksize: 27, seq: dna\n",
      "-rw-rw-r-- 1 ubuntu ubuntu 13M Sep 13 15:36 /mnt/data/maca-facs-sourmash_index_all/tabula-muris-k27-dna/tabula-muris-k27-dna/tabula-muris-k27-dna.sbt.json\n",
      "ksize: 33, seq: protein\n",
      "-rw-rw-r-- 1 ubuntu ubuntu 8.8M Sep 14 13:09 /mnt/data/maca-facs-sourmash_index_all/tabula-muris-k33-protein/tabula-muris-k33-protein/tabula-muris-k33-protein.sbt.json\n"
     ]
    }
   ],
   "source": [
    "import itertools\n",
    "\n",
    "ksizes = 21, 27, 33, 51\n",
    "sequences = 'protein', 'dna'\n",
    "abundance_flags = '--ignore-abundance', ''\n",
    "\n",
    "output_dir = '/mnt/data/maca-facs-sourmash_search'\n",
    "\n",
    "cell_id = 'A1-B000610-3_56_F-1-1'\n",
    "\n",
    "query = f'/mnt/data/maca-facs-sourmash_compute_all/{cell_id}.sig'\n",
    "db_name = 'tabula-muris-k{ksize}-{seq}'\n",
    "db_template = f'/mnt/data/maca-facs-sourmash_index_all/{db_name}/{db_name}/{db_name}.sbt.json'\n",
    "\n",
    "for ksize, seq, flag in itertools.product(ksizes, sequences, abundance_flags):\n",
    "    print(f'ksize: {ksize}, seq: {seq}')\n",
    "    \n",
    "    database = db_template.format(ksize=ksize, seq=seq)\n",
    "    ! ls -lha $database\n",
    "    abundance = 'ignore_abundance' if flag else \"include_abundance\"\n",
    "    prefix = f'{output_dir}/{cell_id}_k{ksize}-{seq}-{abundance}'\n",
    "    csv = f'{prefix}.csv'\n",
    "    out = f'{prefix}.out'\n",
    "    err = f'{prefix}.err'\n",
    "    ! time sourmash search --output $csv --num-results 10 $flag --ksize $ksize --$seq $query $database >$out 2>$err"
   ]
  },
  {
   "cell_type": "markdown",
   "metadata": {},
   "source": [
    "The protein indexes are HUGE which is probably why these are failing\n",
    "\n",
    "```\n",
    " Wed 19 Sep - 16:04  /mnt/data/maca-facs-sourmash_index_all \n",
    "  du -h --max-depth 1 .\n",
    "12G     ./tabula-muris-k27-dna\n",
    "14G     ./tabula-muris-k33-protein\n",
    "12G     ./tabula-muris-k21-protein\n",
    "19G     ./tabula-muris-k27-protein\n",
    "13G     ./tabula-muris-k51-protein\n",
    "7.9G    ./tabula-muris-k33-dna\n",
    "7.5G    ./tabula-muris-k21-dna\n",
    "7.8G    ./tabula-muris-k51-dna\n",
    "92G     .\n",
    "```"
   ]
  },
  {
   "cell_type": "code",
   "execution_count": 34,
   "metadata": {},
   "outputs": [
    {
     "name": "stdout",
     "output_type": "stream",
     "text": [
      "total 49M\r\n",
      "drwxrwxr-x  2 ubuntu ubuntu 4.0K Sep 17 18:31 \u001b[0m\u001b[01;34m.\u001b[0m/\r\n",
      "drwxr-xr-x 24 ubuntu root   4.0K Sep 15 01:51 \u001b[01;34m..\u001b[0m/\r\n",
      "-rw-rw-r--  1 ubuntu ubuntu 7.2M Sep 13 02:08 A1-B000610-3_56_F-1-1.csv\r\n",
      "-rw-rw-r--  1 ubuntu ubuntu 8.8M Sep 15 06:48 A1-B000610-3_56_F-1-1_k21-dna.csv\r\n",
      "-rw-rw-r--  1 ubuntu ubuntu    0 Sep 17 17:31 A1-B000610-3_56_F-1-1_k21-protein.csv\r\n",
      "-rw-rw-r--  1 ubuntu ubuntu 1.8K Sep 17 18:31 A1-B000610-3_56_F-1-1_k21-protein.err\r\n",
      "-rw-rw-r--  1 ubuntu ubuntu    1 Sep 17 18:31 A1-B000610-3_56_F-1-1_k21-protein.out\r\n",
      "-rw-rw-r--  1 ubuntu ubuntu    0 Sep 13 20:32 A1-B000610-3_56_F-1-1_k27.csv\r\n",
      "-rw-rw-r--  1 ubuntu ubuntu  14M Sep 15 13:45 A1-B000610-3_56_F-1-1_k27-dna.csv\r\n",
      "-rw-rw-r--  1 ubuntu ubuntu    0 Sep 17 18:31 A1-B000610-3_56_F-1-1_k27-protein.csv\r\n",
      "-rw-rw-r--  1 ubuntu ubuntu 2.3K Sep 17 18:31 A1-B000610-3_56_F-1-1_k27-protein.err\r\n",
      "-rw-rw-r--  1 ubuntu ubuntu    1 Sep 17 18:31 A1-B000610-3_56_F-1-1_k27-protein.out\r\n",
      "-rw-rw-r--  1 ubuntu ubuntu 9.2M Sep 15 20:10 A1-B000610-3_56_F-1-1_k33-dna.csv\r\n",
      "-rw-rw-r--  1 ubuntu ubuntu    0 Sep 17 18:31 A1-B000610-3_56_F-1-1_k33-protein.csv\r\n",
      "-rw-rw-r--  1 ubuntu ubuntu 2.3K Sep 17 18:31 A1-B000610-3_56_F-1-1_k33-protein.err\r\n",
      "-rw-rw-r--  1 ubuntu ubuntu    1 Sep 17 18:31 A1-B000610-3_56_F-1-1_k33-protein.out\r\n",
      "-rw-rw-r--  1 ubuntu ubuntu 8.9M Sep 16 06:22 A1-B000610-3_56_F-1-1_k51-dna.csv\r\n",
      "-rw-rw-r--  1 ubuntu ubuntu    0 Sep 17 18:31 A1-B000610-3_56_F-1-1_k51-protein.csv\r\n",
      "-rw-rw-r--  1 ubuntu ubuntu 2.3K Sep 17 18:31 A1-B000610-3_56_F-1-1_k51-protein.err\r\n",
      "-rw-rw-r--  1 ubuntu ubuntu    1 Sep 17 18:31 A1-B000610-3_56_F-1-1_k51-protein.out\r\n",
      "-rw-rw-r--  1 ubuntu ubuntu 1.5M Sep 13 21:23 A1-B000610-3_56_F-1-1_protein.csv\r\n"
     ]
    }
   ],
   "source": [
    "ls -lha $output_dir"
   ]
  },
  {
   "cell_type": "code",
   "execution_count": 35,
   "metadata": {},
   "outputs": [
    {
     "name": "stdout",
     "output_type": "stream",
     "text": [
      "\r",
      "\u001b[Kloaded query: cell_ontology_class:bladder_ce... (k=21, protein)\r\n",
      "\r",
      "\u001b[Kloaded SBT /mnt/data/maca-facs-sourmash_index_all/tabula-muris-k21-protein/tabula-muris-k21-protein/tabula-muris-k21-protein.sbt.json\r",
      "\r",
      "\u001b[K                                                                               \r",
      "\r",
      "\u001b[Kloaded 1 databases.\r\n",
      "Traceback (most recent call last):\r\n",
      "  File \"/home/ubuntu/anaconda/bin/sourmash\", line 11, in <module>\r\n",
      "    load_entry_point('sourmash==2.0.0a9', 'console_scripts', 'sourmash')()\r\n",
      "  File \"/home/ubuntu/anaconda/lib/python3.6/site-packages/sourmash/__main__.py\", line 77, in main\r\n",
      "    cmd(sys.argv[2:])\r\n",
      "  File \"/home/ubuntu/anaconda/lib/python3.6/site-packages/sourmash/commands.py\", line 789, in search\r\n",
      "    args.best_only)\r\n",
      "  File \"/home/ubuntu/anaconda/lib/python3.6/site-packages/sourmash/search.py\", line 47, in search_databases\r\n",
      "    for leaf in tree.find(search_fn, query, threshold):\r\n",
      "  File \"/home/ubuntu/anaconda/lib/python3.6/site-packages/sourmash/sbt.py\", line 197, in find\r\n",
      "    if search_fn(node_g, *args):\r\n",
      "  File \"/home/ubuntu/anaconda/lib/python3.6/site-packages/sourmash/sbtmh.py\", line 131, in search_minhashes\r\n",
      "    score = _max_jaccard_underneath_internal_node(node, mins)\r\n",
      "  File \"/home/ubuntu/anaconda/lib/python3.6/site-packages/sourmash/sbtmh.py\", line 96, in _max_jaccard_underneath_internal_node\r\n",
      "    get = node.data.get\r\n",
      "  File \"/home/ubuntu/anaconda/lib/python3.6/site-packages/sourmash/sbt.py\", line 791, in data\r\n",
      "    f.write(data)\r\n",
      "  File \"/home/ubuntu/anaconda/lib/python3.6/tempfile.py\", line 483, in func_wrapper\r\n",
      "    return func(*args, **kwargs)\r\n",
      "OSError: [Errno 28] No space left on device\r\n",
      "Command exited with non-zero status 1\r\n",
      "3273.92user 8.32system 59:37.78elapsed 91%CPU (0avgtext+0avgdata 5157796maxresident)k\r\n",
      "9266296inputs+1422848outputs (0major+1308516minor)pagefaults 0swaps\r\n"
     ]
    }
   ],
   "source": [
    "! cat $output_dir/A1-B000610-3_56_F-1-1_k21-protein.err"
   ]
  },
  {
   "cell_type": "code",
   "execution_count": 15,
   "metadata": {},
   "outputs": [
    {
     "name": "stdout",
     "output_type": "stream",
     "text": [
      "head: cannot open '/*k*-*csv' for reading: No such file or directory\r\n"
     ]
    }
   ],
   "source": [
    "! head $output_dir/*k*-*csv"
   ]
  },
  {
   "cell_type": "code",
   "execution_count": null,
   "metadata": {},
   "outputs": [],
   "source": [
    "! grep protein /mnt/data/lung_cancer_sourmash_v4/*| head"
   ]
  },
  {
   "cell_type": "code",
   "execution_count": 51,
   "metadata": {},
   "outputs": [
    {
     "name": "stdout",
     "output_type": "stream",
     "text": [
      "usage: sourmash [-h] [--traverse-directory] [-q] [--threshold THRESHOLD]\r\n",
      "                [--save-matches SAVE_MATCHES] [--best-only] [-n NUM_RESULTS]\r\n",
      "                [--containment] [--scaled SCALED] [-o OUTPUT] [-k KSIZE]\r\n",
      "                [--protein] [--no-protein] [--dna] [--no-dna]\r\n",
      "                query databases [databases ...]\r\n",
      "\r\n",
      "positional arguments:\r\n",
      "  query                 query signature\r\n",
      "  databases             signatures/SBTs to search\r\n",
      "\r\n",
      "optional arguments:\r\n",
      "  -h, --help            show this help message and exit\r\n",
      "  --traverse-directory  search all signatures underneath directories.\r\n",
      "  -q, --quiet           suppress non-error output\r\n",
      "  --threshold THRESHOLD\r\n",
      "                        minimum threshold for reporting matches\r\n",
      "  --save-matches SAVE_MATCHES\r\n",
      "                        output matching signatures to this file.\r\n",
      "  --best-only           report only the best match (with greater speed).\r\n",
      "  -n NUM_RESULTS, --num-results NUM_RESULTS\r\n",
      "                        number of results to report\r\n",
      "  --containment         evaluate containment rather than similarity\r\n",
      "  --scaled SCALED       downsample query to this scaled factor (yields greater\r\n",
      "                        speed)\r\n",
      "  -o OUTPUT, --output OUTPUT\r\n",
      "                        output CSV containing matches to this file\r\n",
      "  -k KSIZE, --ksize KSIZE\r\n",
      "                        k-mer size (default: 31)\r\n",
      "  --protein             choose a protein signature (default: False)\r\n",
      "  --no-protein          do not choose a protein signature\r\n",
      "  --dna                 choose a DNA signature (default: True)\r\n",
      "  --no-dna              do not choose a DNA signature\r\n"
     ]
    }
   ],
   "source": [
    "!sourmash search -h"
   ]
  },
  {
   "cell_type": "code",
   "execution_count": 45,
   "metadata": {},
   "outputs": [
    {
     "name": "stdout",
     "output_type": "stream",
     "text": [
      "Process is interrupted.\n"
     ]
    }
   ],
   "source": [
    "%%bash\n",
    "\n",
    "sourmash search --ksize 21 --protein \\\n",
    "    --no-dna \\\n",
    "    /mnt/data/lung_cancer_sourmash_v3/A10_B000420_S82.signature \\\n",
    "    /mnt/data/sourmash_databases/tabula-muris-protein-k21.sbt.json"
   ]
  },
  {
   "cell_type": "code",
   "execution_count": 52,
   "metadata": {},
   "outputs": [
    {
     "name": "stdout",
     "output_type": "stream",
     "text": [
      "usage: sourmash [-h] [-q] [-k KSIZE] [--threshold THRESHOLD]\r\n",
      "                [--traverse-directory] [--protein] [--no-protein] [--dna]\r\n",
      "                [--no-dna] [--csv CSV] [--load-csv LOAD_CSV]\r\n",
      "                sbt_name queries [queries ...]\r\n",
      "\r\n",
      "positional arguments:\r\n",
      "  sbt_name              name of SBT to load\r\n",
      "  queries               list of signatures to categorize\r\n",
      "\r\n",
      "optional arguments:\r\n",
      "  -h, --help            show this help message and exit\r\n",
      "  -q, --quiet           suppress non-error output\r\n",
      "  -k KSIZE, --ksize KSIZE\r\n",
      "  --threshold THRESHOLD\r\n",
      "  --traverse-directory\r\n",
      "  --protein             choose a protein signature (default: False)\r\n",
      "  --no-protein          do not choose a protein signature\r\n",
      "  --dna                 choose a DNA signature (default: True)\r\n",
      "  --no-dna              do not choose a DNA signature\r\n",
      "  --csv CSV\r\n",
      "  --load-csv LOAD_CSV\r\n"
     ]
    }
   ],
   "source": [
    "! sourmash categorize -h"
   ]
  },
  {
   "cell_type": "code",
   "execution_count": 50,
   "metadata": {},
   "outputs": [
    {
     "name": "stderr",
     "output_type": "stream",
     "text": [
      "\r",
      "\u001b[Kfound 1 files to query\n",
      "\r",
      "\u001b[Kloaded query: A10_B000420_S82... (k=21, protein)\n",
      "Traceback (most recent call last):\n",
      "  File \"/home/ubuntu/anaconda/bin/sourmash\", line 11, in <module>\n",
      "    load_entry_point('sourmash==2.0.0a9', 'console_scripts', 'sourmash')()\n",
      "  File \"/home/ubuntu/anaconda/lib/python3.6/site-packages/sourmash/__main__.py\", line 77, in main\n",
      "    cmd(sys.argv[2:])\n",
      "  File \"/home/ubuntu/anaconda/lib/python3.6/site-packages/sourmash/commands.py\", line 881, in categorize\n",
      "    results.append((query.similarity(leaf.data), leaf.data))\n",
      "  File \"/home/ubuntu/anaconda/lib/python3.6/site-packages/sourmash/signature.py\", line 111, in similarity\n",
      "    return self.minhash.similarity(other.minhash, ignore_abundance)\n",
      "  File \"sourmash/_minhash.pyx\", line 352, in sourmash._minhash.MinHash.similarity\n",
      "  File \"sourmash/_minhash.pyx\", line 384, in sourmash._minhash.MinHash.__iadd__\n",
      "ValueError: mismatch in max_hash; comparison fail\n"
     ]
    }
   ],
   "source": [
    "%%bash\n",
    "\n",
    "sourmash categorize --ksize 21 --protein \\\n",
    "    --no-dna \\\n",
    "    /mnt/data/sourmash_databases/tabula-muris-protein-k21.sbt.json \\\n",
    "    /mnt/data/lung_cancer_sourmash_v3/A10_B000420_S82.signature\n"
   ]
  },
  {
   "cell_type": "code",
   "execution_count": null,
   "metadata": {},
   "outputs": [],
   "source": [
    "range(3)"
   ]
  },
  {
   "cell_type": "code",
   "execution_count": null,
   "metadata": {},
   "outputs": [],
   "source": []
  }
 ],
 "metadata": {
  "kernelspec": {
   "display_name": "Python 3",
   "language": "python",
   "name": "python3"
  },
  "language_info": {
   "codemirror_mode": {
    "name": "ipython",
    "version": 3
   },
   "file_extension": ".py",
   "mimetype": "text/x-python",
   "name": "python",
   "nbconvert_exporter": "python",
   "pygments_lexer": "ipython3",
   "version": "3.6.5"
  }
 },
 "nbformat": 4,
 "nbformat_minor": 2
}
