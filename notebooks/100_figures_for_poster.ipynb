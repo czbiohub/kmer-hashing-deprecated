{
 "cells": [
  {
   "cell_type": "code",
   "execution_count": 1,
   "metadata": {},
   "outputs": [
    {
     "name": "stderr",
     "output_type": "stream",
     "text": [
      "/home/ubuntu/anaconda/lib/python3.6/importlib/_bootstrap.py:219: RuntimeWarning: numpy.dtype size changed, may indicate binary incompatibility. Expected 96, got 88\n",
      "  return f(*args, **kwds)\n",
      "/home/ubuntu/anaconda/lib/python3.6/importlib/_bootstrap.py:219: RuntimeWarning: numpy.dtype size changed, may indicate binary incompatibility. Expected 96, got 88\n",
      "  return f(*args, **kwds)\n"
     ]
    }
   ],
   "source": [
    "import pandas as pd"
   ]
  },
  {
   "cell_type": "code",
   "execution_count": 11,
   "metadata": {},
   "outputs": [
    {
     "name": "stdout",
     "output_type": "stream",
     "text": [
      "26\n"
     ]
    }
   ],
   "source": [
    "sequence = 'AATGCCTGTGAGACTAATAGCAACTC'\n",
    "print(len(sequence))"
   ]
  },
  {
   "cell_type": "code",
   "execution_count": 43,
   "metadata": {},
   "outputs": [
    {
     "data": {
      "image/png": "[encoded data removed]",
      "text/plain": [
       "<Figure size 432x288 with 2 Axes>"
      ]
     },
     "metadata": {},
     "output_type": "display_data"
    }
   ],
   "source": [
    "import numpy as np\n",
    "import matplotlib.pyplot as plt\n",
    "import seaborn as sns\n",
    "%matplotlib inline\n",
    "\n",
    "fig, ax = plt.subplots()\n",
    "\n",
    "data = np.random.randn(100).reshape(10, 10)\n",
    "sns.heatmap(data, cmap='viridis_r')\n",
    "fig.savefig('../figures/viridis_heatmap.pdf')"
   ]
  },
  {
   "cell_type": "code",
   "execution_count": 3,
   "metadata": {},
   "outputs": [],
   "source": [
    "ksize = 6"
   ]
  },
  {
   "cell_type": "code",
   "execution_count": 5,
   "metadata": {},
   "outputs": [
    {
     "name": "stdout",
     "output_type": "stream",
     "text": [
      "21\n"
     ]
    },
    {
     "data": {
      "text/plain": [
       "['AATGCC',\n",
       " 'ATGCCT',\n",
       " 'TGCCTG',\n",
       " 'GCCTGT',\n",
       " 'CCTGTG',\n",
       " 'CTGTGA',\n",
       " 'TGTGAG',\n",
       " 'GTGAGA',\n",
       " 'TGAGAC',\n",
       " 'GAGACT',\n",
       " 'AGACTA',\n",
       " 'GACTAA',\n",
       " 'ACTAAT',\n",
       " 'CTAATA',\n",
       " 'TAATAG',\n",
       " 'AATAGC',\n",
       " 'ATAGCA',\n",
       " 'TAGCAA',\n",
       " 'AGCAAC',\n",
       " 'GCAACT',\n",
       " 'CAACTC']"
      ]
     },
     "execution_count": 5,
     "metadata": {},
     "output_type": "execute_result"
    }
   ],
   "source": [
    "kmers = [sequence[i:(i+ksize)] for i in range(len(sequence) - ksize + 1)]\n",
    "print(len(kmers))\n",
    "kmers"
   ]
  },
  {
   "cell_type": "code",
   "execution_count": 6,
   "metadata": {},
   "outputs": [
    {
     "data": {
      "text/plain": [
       "21"
      ]
     },
     "execution_count": 6,
     "metadata": {},
     "output_type": "execute_result"
    }
   ],
   "source": [
    "len(set(kmers))"
   ]
  },
  {
   "cell_type": "code",
   "execution_count": 8,
   "metadata": {},
   "outputs": [
    {
     "data": {
      "text/plain": [
       "[2975355093487706742,\n",
       " -4118105600113849338,\n",
       " -5256987658684438142,\n",
       " 9031597745747680024,\n",
       " 8135101000182636355,\n",
       " 2897173032656888631,\n",
       " -8344453955671504395,\n",
       " -6564277414051485267,\n",
       " -7012432350897759085,\n",
       " 6994702741625991292,\n",
       " 6140609993507045067,\n",
       " 4712667550011694469,\n",
       " 2811250341501004886,\n",
       " -26201231185939449,\n",
       " 4387170094193117528,\n",
       " -4317165546468973981,\n",
       " -6054772612504490009,\n",
       " -5135887063470547649,\n",
       " 6492331651019835212,\n",
       " 102944457650492320,\n",
       " 6432010842412835191]"
      ]
     },
     "execution_count": 8,
     "metadata": {},
     "output_type": "execute_result"
    }
   ],
   "source": [
    "hashes = [hash(kmer) for kmer in kmers]\n",
    "hashes"
   ]
  },
  {
   "cell_type": "code",
   "execution_count": 9,
   "metadata": {},
   "outputs": [
    {
     "data": {
      "text/plain": [
       "AATGCC    2975355093487706742\n",
       "ATGCCT   -4118105600113849338\n",
       "TGCCTG   -5256987658684438142\n",
       "GCCTGT    9031597745747680024\n",
       "CCTGTG    8135101000182636355\n",
       "CTGTGA    2897173032656888631\n",
       "TGTGAG   -8344453955671504395\n",
       "GTGAGA   -6564277414051485267\n",
       "TGAGAC   -7012432350897759085\n",
       "GAGACT    6994702741625991292\n",
       "AGACTA    6140609993507045067\n",
       "GACTAA    4712667550011694469\n",
       "ACTAAT    2811250341501004886\n",
       "CTAATA     -26201231185939449\n",
       "TAATAG    4387170094193117528\n",
       "AATAGC   -4317165546468973981\n",
       "ATAGCA   -6054772612504490009\n",
       "TAGCAA   -5135887063470547649\n",
       "AGCAAC    6492331651019835212\n",
       "GCAACT     102944457650492320\n",
       "CAACTC    6432010842412835191\n",
       "dtype: int64"
      ]
     },
     "execution_count": 9,
     "metadata": {},
     "output_type": "execute_result"
    }
   ],
   "source": [
    "kmer_hashes = pd.Series(hashes, index=kmers)\n",
    "kmer_hashes"
   ]
  },
  {
   "cell_type": "code",
   "execution_count": 31,
   "metadata": {},
   "outputs": [
    {
     "data": {
      "text/plain": [
       "GCAACT     102944457650492320\n",
       "CTAATA     -26201231185939449\n",
       "ATGCCT   -4118105600113849338\n",
       "AATAGC   -4317165546468973981\n",
       "TAGCAA   -5135887063470547649\n",
       "TGCCTG   -5256987658684438142\n",
       "ATAGCA   -6054772612504490009\n",
       "GTGAGA   -6564277414051485267\n",
       "TGAGAC   -7012432350897759085\n",
       "TGTGAG   -8344453955671504395\n",
       "dtype: int64"
      ]
     },
     "execution_count": 31,
     "metadata": {},
     "output_type": "execute_result"
    }
   ],
   "source": [
    "kmer_hashes = kmer_hashes.sort_values(ascending=False)\n",
    "kmer_hashes.tail(10)"
   ]
  },
  {
   "cell_type": "code",
   "execution_count": 33,
   "metadata": {},
   "outputs": [
    {
     "name": "stdout",
     "output_type": "stream",
     "text": [
      "GCCTGT\n",
      "CCTGTG\n",
      "GAGACT\n",
      "AGCAAC\n",
      "CAACTC\n",
      "AGACTA\n",
      "GACTAA\n",
      "TAATAG\n",
      "AATGCC\n",
      "CTGTGA\n",
      "ACTAAT\n",
      "GCAACT\n",
      "CTAATA\n",
      "ATGCCT\n",
      "AATAGC\n",
      "TAGCAA\n",
      "TGCCTG\n",
      "ATAGCA\n",
      "GTGAGA\n",
      "TGAGAC\n",
      "TGTGAG\n"
     ]
    }
   ],
   "source": [
    "for kmer in kmer_hashes.index:\n",
    "    print(kmer)"
   ]
  },
  {
   "cell_type": "code",
   "execution_count": 34,
   "metadata": {},
   "outputs": [
    {
     "name": "stdout",
     "output_type": "stream",
     "text": [
      "9031597745747680024\n",
      "8135101000182636355\n",
      "6994702741625991292\n",
      "6492331651019835212\n",
      "6432010842412835191\n",
      "6140609993507045067\n",
      "4712667550011694469\n",
      "4387170094193117528\n",
      "2975355093487706742\n",
      "2897173032656888631\n",
      "2811250341501004886\n",
      "102944457650492320\n",
      "-26201231185939449\n",
      "-4118105600113849338\n",
      "-4317165546468973981\n",
      "-5135887063470547649\n",
      "-5256987658684438142\n",
      "-6054772612504490009\n",
      "-6564277414051485267\n",
      "-7012432350897759085\n",
      "-8344453955671504395\n"
     ]
    }
   ],
   "source": [
    "for kmer_hash in kmer_hashes:\n",
    "    print(kmer_hash)"
   ]
  },
  {
   "cell_type": "code",
   "execution_count": 35,
   "metadata": {},
   "outputs": [
    {
     "data": {
      "text/plain": [
       "GCAACT     102944457650492320\n",
       "CTAATA     -26201231185939449\n",
       "ATGCCT   -4118105600113849338\n",
       "AATAGC   -4317165546468973981\n",
       "TAGCAA   -5135887063470547649\n",
       "TGCCTG   -5256987658684438142\n",
       "ATAGCA   -6054772612504490009\n",
       "GTGAGA   -6564277414051485267\n",
       "TGAGAC   -7012432350897759085\n",
       "TGTGAG   -8344453955671504395\n",
       "dtype: int64"
      ]
     },
     "execution_count": 35,
     "metadata": {},
     "output_type": "execute_result"
    }
   ],
   "source": [
    "bottom_hash = kmer_hashes.tail(10)\n",
    "bottom_hash"
   ]
  },
  {
   "cell_type": "code",
   "execution_count": 36,
   "metadata": {},
   "outputs": [
    {
     "data": {
      "text/plain": [
       "ATGCCT     1\n",
       "TGCCTG     2\n",
       "TGTGAG     6\n",
       "GTGAGA     7\n",
       "TGAGAC     8\n",
       "CTAATA    13\n",
       "AATAGC    15\n",
       "ATAGCA    16\n",
       "TAGCAA    17\n",
       "GCAACT    19\n",
       "dtype: int64"
      ]
     },
     "execution_count": 36,
     "metadata": {},
     "output_type": "execute_result"
    }
   ],
   "source": [
    "bottom_hash_positions = pd.Series([sequence.find(kmer) for kmer in bottom_hash.index], index=bottom_hash.index)\n",
    "bottom_hash_positions = bottom_hash_positions.sort_values()\n",
    "bottom_hash_positions"
   ]
  },
  {
   "cell_type": "code",
   "execution_count": 27,
   "metadata": {},
   "outputs": [
    {
     "data": {
      "text/plain": [
       "TGTGAG     6\n",
       "CTAATA    13\n",
       "ATAGCA    16\n",
       "dtype: int64"
      ]
     },
     "execution_count": 27,
     "metadata": {},
     "output_type": "execute_result"
    }
   ],
   "source": [
    "bottom_hash_positions.drop(['GTGAGA', 'ATGCCT', 'TGAGAC', 'AATAGC', 'TGCCTG', 'TAGCAA', 'GCAACT'])"
   ]
  },
  {
   "cell_type": "code",
   "execution_count": 39,
   "metadata": {},
   "outputs": [
    {
     "data": {
      "text/plain": [
       "'GCAACT, CTAATA, ATGCCT, AATAGC, TAGCAA, TGCCTG, ATAGCA, GTGAGA, TGAGAC, TGTGAG'"
      ]
     },
     "execution_count": 39,
     "metadata": {},
     "output_type": "execute_result"
    }
   ],
   "source": [
    "', '.join(bottom_hash.index)"
   ]
  },
  {
   "cell_type": "code",
   "execution_count": 40,
   "metadata": {},
   "outputs": [
    {
     "data": {
      "text/plain": [
       "Index(['GCAACT', 'CTAATA', 'ATGCCT', 'AATAGC', 'TAGCAA', 'TGCCTG', 'ATAGCA',\n",
       "       'GTGAGA', 'TGAGAC', 'TGTGAG'],\n",
       "      dtype='object')"
      ]
     },
     "execution_count": 40,
     "metadata": {},
     "output_type": "execute_result"
    }
   ],
   "source": [
    "bottom_hash.index"
   ]
  },
  {
   "cell_type": "code",
   "execution_count": null,
   "metadata": {},
   "outputs": [],
   "source": [
    "<!-- Generator: Adobe Illustrator 22.1.0, SVG Export Plug-In  -->\n",
    "<svg version=\"1.1\"\n",
    "\t xmlns=\"http://www.w3.org/2000/svg\" xmlns:xlink=\"http://www.w3.org/1999/xlink\" xmlns:a=\"http://ns.adobe.com/AdobeSVGViewerExtensions/3.0/\"\n",
    "\t x=\"0px\" y=\"0px\" width=\"270.6px\" height=\"41px\" viewBox=\"0 0 270.6 41\" style=\"enable-background:new 0 0 270.6 41;\"\n",
    "\t xml:space=\"preserve\">\n",
    "<style type=\"text/css\">\n",
    "\t.st0{fill:none;stroke:#000000;stroke-width:3;stroke-miterlimit:10;}\n",
    "</style>\n",
    "<defs>\n",
    "</defs>\n",
    "<line class=\"st0\" x1=\"0.2\" y1=\"1.5\" x2=\"270.4\" y2=\"39.5\"/>\n",
    "</svg>\n",
    "\u0000"
   ]
  },
  {
   "cell_type": "code",
   "execution_count": 41,
   "metadata": {},
   "outputs": [
    {
     "ename": "ModuleNotFoundError",
     "evalue": "No module named 'Bio'",
     "output_type": "error",
     "traceback": [
      "\u001b[0;31m---------------------------------------------------------------------------\u001b[0m",
      "\u001b[0;31mModuleNotFoundError\u001b[0m                       Traceback (most recent call last)",
      "\u001b[0;32m<ipython-input-41-f49b2228b99a>\u001b[0m in \u001b[0;36m<module>\u001b[0;34m()\u001b[0m\n\u001b[0;32m----> 1\u001b[0;31m \u001b[0;32mfrom\u001b[0m \u001b[0mBio\u001b[0m\u001b[0;34m.\u001b[0m\u001b[0mSeq\u001b[0m \u001b[0;32mimport\u001b[0m \u001b[0mSeq\u001b[0m\u001b[0;34m\u001b[0m\u001b[0m\n\u001b[0m",
      "\u001b[0;31mModuleNotFoundError\u001b[0m: No module named 'Bio'"
     ]
    }
   ],
   "source": [
    "\n",
    "from Bio.Seq import Seq"
   ]
  },
  {
   "cell_type": "code",
   "execution_count": null,
   "metadata": {},
   "outputs": [],
   "source": []
  }
 ],
 "metadata": {
  "kernelspec": {
   "display_name": "Python 3",
   "language": "python",
   "name": "python3"
  },
  "language_info": {
   "codemirror_mode": {
    "name": "ipython",
    "version": 3
   },
   "file_extension": ".py",
   "mimetype": "text/x-python",
   "name": "python",
   "nbconvert_exporter": "python",
   "pygments_lexer": "ipython3",
   "version": "3.6.5"
  }
 },
 "nbformat": 4,
 "nbformat_minor": 2
}
