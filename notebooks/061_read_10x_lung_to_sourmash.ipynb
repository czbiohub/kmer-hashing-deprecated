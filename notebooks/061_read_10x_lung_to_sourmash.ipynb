{
 "cells": [
  {
   "cell_type": "code",
   "execution_count": 2,
   "metadata": {},
   "outputs": [],
   "source": [
    "import pandas as pd\n",
    "\n",
    "pd.options.display.max_colwidth = 500"
   ]
  },
  {
   "cell_type": "code",
   "execution_count": 5,
   "metadata": {},
   "outputs": [
    {
     "name": "stdout",
     "output_type": "stream",
     "text": [
      "(624, 4)\n"
     ]
    },
    {
     "data": {
      "text/html": [
       "<div>\n",
       "<style scoped>\n",
       "    .dataframe tbody tr th:only-of-type {\n",
       "        vertical-align: middle;\n",
       "    }\n",
       "\n",
       "    .dataframe tbody tr th {\n",
       "        vertical-align: top;\n",
       "    }\n",
       "\n",
       "    .dataframe thead th {\n",
       "        text-align: right;\n",
       "    }\n",
       "</style>\n",
       "<table border=\"1\" class=\"dataframe\">\n",
       "  <thead>\n",
       "    <tr style=\"text-align: right;\">\n",
       "      <th></th>\n",
       "      <th>0</th>\n",
       "      <th>1</th>\n",
       "      <th>2</th>\n",
       "      <th>3</th>\n",
       "    </tr>\n",
       "  </thead>\n",
       "  <tbody>\n",
       "    <tr>\n",
       "      <th>0</th>\n",
       "      <td>/mnt/data/10X_P7_8/possorted_genome_bam.sig</td>\n",
       "      <td>alveolar macrophage|Lung|3-F-56|10X_P7_8_ACGGCCACAATGGTCT</td>\n",
       "      <td>cell_ontology_class:granulocytopoietic_cell|tissue:Marrow|subtissue:Granulocytes|free_annotation:nan|cell_id:I2-MAA000409-3_10_M-1-1</td>\n",
       "      <td>0.011952</td>\n",
       "    </tr>\n",
       "    <tr>\n",
       "      <th>1</th>\n",
       "      <td>/mnt/data/10X_P7_8/possorted_genome_bam.sig</td>\n",
       "      <td>classical monocyte|Lung|3-F-56|10X_P7_8_ACGAGGACAAGCCCAC</td>\n",
       "      <td>cell_ontology_class:Slamf1-negative_multipotent_progenitor_cell|tissue:Marrow|subtissue:KLS|free_annotation:nan|cell_id:E10-MAA000848-3_10_M-1-1</td>\n",
       "      <td>0.014933</td>\n",
       "    </tr>\n",
       "    <tr>\n",
       "      <th>2</th>\n",
       "      <td>/mnt/data/10X_P7_8/possorted_genome_bam.sig</td>\n",
       "      <td>lung endothelial cell|Lung|3-F-56|10X_P7_8_AACACGTGTGGCTCCA</td>\n",
       "      <td>empty-MAA-0794</td>\n",
       "      <td>0.014218</td>\n",
       "    </tr>\n",
       "    <tr>\n",
       "      <th>3</th>\n",
       "      <td>/mnt/data/10X_P7_8/possorted_genome_bam.sig</td>\n",
       "      <td>lung endothelial cell|Lung|3-F-56|10X_P7_8_CATCGGGCAGATGAGC</td>\n",
       "      <td>empty-MAA-1052</td>\n",
       "      <td>0.033493</td>\n",
       "    </tr>\n",
       "    <tr>\n",
       "      <th>4</th>\n",
       "      <td>/mnt/data/10X_P7_8/possorted_genome_bam.sig</td>\n",
       "      <td>non-classical monocyte|Lung|3-F-56|10X_P7_8_CTTAACTTCTCAAGTG</td>\n",
       "      <td>cell_ontology_class:epithelial_cell_of_large_intestine|tissue:Large_Intestine|subtissue:Proximal|free_annotation:Lgr5-_amplifying_undifferentiated_cell|cell_id:K2-MAA000909-3_10_M-1-1</td>\n",
       "      <td>0.009534</td>\n",
       "    </tr>\n",
       "  </tbody>\n",
       "</table>\n",
       "</div>"
      ],
      "text/plain": [
       "                                             0  \\\n",
       "0  /mnt/data/10X_P7_8/possorted_genome_bam.sig   \n",
       "1  /mnt/data/10X_P7_8/possorted_genome_bam.sig   \n",
       "2  /mnt/data/10X_P7_8/possorted_genome_bam.sig   \n",
       "3  /mnt/data/10X_P7_8/possorted_genome_bam.sig   \n",
       "4  /mnt/data/10X_P7_8/possorted_genome_bam.sig   \n",
       "\n",
       "                                                              1  \\\n",
       "0     alveolar macrophage|Lung|3-F-56|10X_P7_8_ACGGCCACAATGGTCT   \n",
       "1      classical monocyte|Lung|3-F-56|10X_P7_8_ACGAGGACAAGCCCAC   \n",
       "2   lung endothelial cell|Lung|3-F-56|10X_P7_8_AACACGTGTGGCTCCA   \n",
       "3   lung endothelial cell|Lung|3-F-56|10X_P7_8_CATCGGGCAGATGAGC   \n",
       "4  non-classical monocyte|Lung|3-F-56|10X_P7_8_CTTAACTTCTCAAGTG   \n",
       "\n",
       "                                                                                                                                                                                         2  \\\n",
       "0                                                     cell_ontology_class:granulocytopoietic_cell|tissue:Marrow|subtissue:Granulocytes|free_annotation:nan|cell_id:I2-MAA000409-3_10_M-1-1   \n",
       "1                                         cell_ontology_class:Slamf1-negative_multipotent_progenitor_cell|tissue:Marrow|subtissue:KLS|free_annotation:nan|cell_id:E10-MAA000848-3_10_M-1-1   \n",
       "2                                                                                                                                                                           empty-MAA-0794   \n",
       "3                                                                                                                                                                           empty-MAA-1052   \n",
       "4  cell_ontology_class:epithelial_cell_of_large_intestine|tissue:Large_Intestine|subtissue:Proximal|free_annotation:Lgr5-_amplifying_undifferentiated_cell|cell_id:K2-MAA000909-3_10_M-1-1   \n",
       "\n",
       "          3  \n",
       "0  0.011952  \n",
       "1  0.014933  \n",
       "2  0.014218  \n",
       "3  0.033493  \n",
       "4  0.009534  "
      ]
     },
     "execution_count": 5,
     "metadata": {},
     "output_type": "execute_result"
    }
   ],
   "source": [
    "csv = '/mnt/data/10X_P7_8/sourmash_categorize/tabula-muris-dna-k27_ignore-abundance=True.csv'\n",
    "sourmash_categorize = pd.read_csv(csv, header=None)\n",
    "print(sourmash_categorize.shape)\n",
    "sourmash_categorize.head()"
   ]
  },
  {
   "cell_type": "code",
   "execution_count": null,
   "metadata": {},
   "outputs": [],
   "source": []
  }
 ],
 "metadata": {
  "kernelspec": {
   "display_name": "Python 3",
   "language": "python",
   "name": "python3"
  },
  "language_info": {
   "codemirror_mode": {
    "name": "ipython",
    "version": 3
   },
   "file_extension": ".py",
   "mimetype": "text/x-python",
   "name": "python",
   "nbconvert_exporter": "python",
   "pygments_lexer": "ipython3",
   "version": "3.6.5"
  }
 },
 "nbformat": 4,
 "nbformat_minor": 2
}
