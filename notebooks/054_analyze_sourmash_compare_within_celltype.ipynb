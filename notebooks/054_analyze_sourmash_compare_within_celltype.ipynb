{
 "cells": [
  {
   "cell_type": "code",
   "execution_count": 1,
   "metadata": {},
   "outputs": [],
   "source": [
    "import pandas as pd\n",
    "import seaborn as sns \n",
    "import matplotlib.pyplot as plt\n",
    "\n",
    "%matplotlib inline\n",
    "\n",
    "pd.options.display.max_colwidth = 500\n"
   ]
  },
  {
   "cell_type": "code",
   "execution_count": 2,
   "metadata": {},
   "outputs": [
    {
     "name": "stdout",
     "output_type": "stream",
     "text": [
      "2018-09-21 15:07:50      71362 -cell-metadata.csv\r\n",
      "2018-09-21 15:07:50      54127 -experiment-metadata.csv\r\n",
      "2018-09-21 14:10:45          0 -similarity.parquet\r\n",
      "2018-09-23 16:24:15      71362 cell-metadata.csv\r\n",
      "2018-09-23 20:57:57       8311 experiment-metadata-scaled-subset.csv\r\n",
      "2018-09-23 16:24:15      54127 experiment-metadata.csv\r\n",
      "2018-09-23 20:58:31  744497417 similarity-scaled-subset.parquet\r\n",
      "2018-09-23 16:34:26 46405767958 similarity.csv\r\n",
      "2018-09-23 19:09:56 4521742543 similarity.parquet\r\n"
     ]
    }
   ],
   "source": [
    "s3_prefix = 's3://olgabot-maca/facs/sourmash_compare_combined/'\n",
    "txt = 'aws_s3_ls_sourmash_compare_combined.txt'\n",
    "\n",
    "\n",
    "! aws s3 ls --human-readable $s3_prefix > $txt\n",
    "! cat $txt"
   ]
  },
  {
   "cell_type": "code",
   "execution_count": null,
   "metadata": {},
   "outputs": [],
   "source": [
    "%time similarity = pd.read_csv(f'{s3_prefix}similarity-scaled-subset.csv')\n",
    "print(similarity.shape)\n",
    "similarity.head()"
   ]
  },
  {
   "cell_type": "markdown",
   "metadata": {},
   "source": [
    "Can't read parquet file, known issue (https://github.com/apache/arrow/issues/1677):\n",
    "\n",
    "```\n",
    "---------------------------------------------------------------------------\n",
    "ArrowIOError                              Traceback (most recent call last)\n",
    "<ipython-input-8-f83e6103576f> in <module>()\n",
    "----> 1 similarity = pd.read_parquet(f'{s3_prefix}similarity-scaled-subset.parquet', engine='pyarrow')\n",
    "      2 print(similarity.shape)\n",
    "      3 similarity.head()\n",
    "\n",
    "~/miniconda3/lib/python3.6/site-packages/pandas/io/parquet.py in read_parquet(path, engine, columns, **kwargs)\n",
    "    286 \n",
    "    287     impl = get_engine(engine)\n",
    "--> 288     return impl.read(path, columns=columns, **kwargs)\n",
    "\n",
    "~/miniconda3/lib/python3.6/site-packages/pandas/io/parquet.py in read(self, path, columns, **kwargs)\n",
    "    129             kwargs['use_pandas_metadata'] = True\n",
    "    130             result = self.api.parquet.read_table(path, columns=columns,\n",
    "--> 131                                                  **kwargs).to_pandas()\n",
    "    132         if should_close:\n",
    "    133             try:\n",
    "\n",
    "~/miniconda3/lib/python3.6/site-packages/pyarrow/parquet.py in read_table(source, columns, nthreads, metadata, use_pandas_metadata)\n",
    "    939     pf = ParquetFile(source, metadata=metadata)\n",
    "    940     return pf.read(columns=columns, nthreads=nthreads,\n",
    "--> 941                    use_pandas_metadata=use_pandas_metadata)\n",
    "    942 \n",
    "    943 \n",
    "\n",
    "~/miniconda3/lib/python3.6/site-packages/pyarrow/parquet.py in read(self, columns, nthreads, use_pandas_metadata)\n",
    "    148             columns, use_pandas_metadata=use_pandas_metadata)\n",
    "    149         return self.reader.read_all(column_indices=column_indices,\n",
    "--> 150                                     nthreads=nthreads)\n",
    "    151 \n",
    "    152     def scan_contents(self, columns=None, batch_size=65536):\n",
    "\n",
    "_parquet.pyx in pyarrow._parquet.ParquetReader.read_all()\n",
    "\n",
    "error.pxi in pyarrow.lib.check_status()\n",
    "\n",
    "ArrowIOError: Arrow error: Invalid: BinaryArray cannot contain more than 2147483646 bytes, have 2147483679\n",
    "\n",
    "```"
   ]
  },
  {
   "cell_type": "code",
   "execution_count": 10,
   "metadata": {},
   "outputs": [],
   "source": [
    "# similarity = pd.read_parquet(f'{s3_prefix}similarity-scaled-subset.parquet', engine='pyarrow')\n",
    "# print(similarity.shape)\n",
    "# similarity.head()"
   ]
  },
  {
   "cell_type": "code",
   "execution_count": 11,
   "metadata": {},
   "outputs": [],
   "source": [
    "# similarity = pd.read_parquet(f'{s3_prefix}similarity-scaled-subset.parquet', engine='fastparquet')\n",
    "# print(similarity.shape)\n",
    "# similarity.head()"
   ]
  },
  {
   "cell_type": "code",
   "execution_count": null,
   "metadata": {},
   "outputs": [],
   "source": [
    "experiment_metadata = pd.read_csv(f'{s3_prefix}experiment-metadata-scaled-subset.csv')\n",
    "print(experiment_metadata.shape)\n",
    "experiment_metadata.head()"
   ]
  },
  {
   "cell_type": "code",
   "execution_count": 4,
   "metadata": {},
   "outputs": [
    {
     "name": "stdout",
     "output_type": "stream",
     "text": [
      "(1000, 5)\n"
     ]
    },
    {
     "data": {
      "text/html": [
       "<div>\n",
       "<style scoped>\n",
       "    .dataframe tbody tr th:only-of-type {\n",
       "        vertical-align: middle;\n",
       "    }\n",
       "\n",
       "    .dataframe tbody tr th {\n",
       "        vertical-align: top;\n",
       "    }\n",
       "\n",
       "    .dataframe thead th {\n",
       "        text-align: right;\n",
       "    }\n",
       "</style>\n",
       "<table border=\"1\" class=\"dataframe\">\n",
       "  <thead>\n",
       "    <tr style=\"text-align: right;\">\n",
       "      <th></th>\n",
       "      <th>cell_id</th>\n",
       "      <th>tissue</th>\n",
       "      <th>subtissue</th>\n",
       "      <th>cell_ontology_class</th>\n",
       "      <th>free_annotation</th>\n",
       "    </tr>\n",
       "  </thead>\n",
       "  <tbody>\n",
       "    <tr>\n",
       "      <th>0</th>\n",
       "      <td>A1-B002427-3_39_F-1-1</td>\n",
       "      <td>Heart</td>\n",
       "      <td>LA</td>\n",
       "      <td>myofibroblast_cell</td>\n",
       "      <td>NaN</td>\n",
       "    </tr>\n",
       "    <tr>\n",
       "      <th>1</th>\n",
       "      <td>A1-D041914-3_8_M-1-1</td>\n",
       "      <td>Bladder</td>\n",
       "      <td>NaN</td>\n",
       "      <td>bladder_cell</td>\n",
       "      <td>Bladder_mesenchymal_cell</td>\n",
       "    </tr>\n",
       "    <tr>\n",
       "      <th>2</th>\n",
       "      <td>A1-MAA000496-3_10_M-1-1</td>\n",
       "      <td>Trachea</td>\n",
       "      <td>NaN</td>\n",
       "      <td>mesenchymal_cell</td>\n",
       "      <td>NaN</td>\n",
       "    </tr>\n",
       "    <tr>\n",
       "      <th>3</th>\n",
       "      <td>A1-MAA000549-3_8_M-1-1</td>\n",
       "      <td>Skin</td>\n",
       "      <td>Anagen</td>\n",
       "      <td>epidermal_cell</td>\n",
       "      <td>Intermediate_IFE</td>\n",
       "    </tr>\n",
       "    <tr>\n",
       "      <th>4</th>\n",
       "      <td>A1-MAA001869-3_38_F-1-1</td>\n",
       "      <td>Large_Intestine</td>\n",
       "      <td>Proximal</td>\n",
       "      <td>epithelial_cell_of_large_intestine</td>\n",
       "      <td>Lgr5-_amplifying_undifferentiated_cell</td>\n",
       "    </tr>\n",
       "  </tbody>\n",
       "</table>\n",
       "</div>"
      ],
      "text/plain": [
       "                   cell_id           tissue subtissue  \\\n",
       "0    A1-B002427-3_39_F-1-1            Heart        LA   \n",
       "1     A1-D041914-3_8_M-1-1          Bladder       NaN   \n",
       "2  A1-MAA000496-3_10_M-1-1          Trachea       NaN   \n",
       "3   A1-MAA000549-3_8_M-1-1             Skin    Anagen   \n",
       "4  A1-MAA001869-3_38_F-1-1  Large_Intestine  Proximal   \n",
       "\n",
       "                  cell_ontology_class                         free_annotation  \n",
       "0                  myofibroblast_cell                                     NaN  \n",
       "1                        bladder_cell                Bladder_mesenchymal_cell  \n",
       "2                    mesenchymal_cell                                     NaN  \n",
       "3                      epidermal_cell                        Intermediate_IFE  \n",
       "4  epithelial_cell_of_large_intestine  Lgr5-_amplifying_undifferentiated_cell  "
      ]
     },
     "execution_count": 4,
     "metadata": {},
     "output_type": "execute_result"
    }
   ],
   "source": [
    "cell_metdata = pd.read_csv(f'{s3_prefix}cell-metadata.csv')\n",
    "print(cell_metdata.shape)\n",
    "cell_metdata.head()"
   ]
  },
  {
   "cell_type": "code",
   "execution_count": null,
   "metadata": {},
   "outputs": [],
   "source": []
  }
 ],
 "metadata": {
  "kernelspec": {
   "display_name": "Python 3",
   "language": "python",
   "name": "python3"
  },
  "language_info": {
   "codemirror_mode": {
    "name": "ipython",
    "version": 3
   },
   "file_extension": ".py",
   "mimetype": "text/x-python",
   "name": "python",
   "nbconvert_exporter": "python",
   "pygments_lexer": "ipython3",
   "version": "3.6.4"
  }
 },
 "nbformat": 4,
 "nbformat_minor": 2
}
