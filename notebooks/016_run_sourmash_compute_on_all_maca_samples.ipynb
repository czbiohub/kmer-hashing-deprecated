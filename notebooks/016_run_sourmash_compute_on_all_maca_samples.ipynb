{
 "cells": [
  {
   "cell_type": "code",
   "execution_count": 3,
   "metadata": {
    "collapsed": true
   },
   "outputs": [],
   "source": [
    "# ! sudo mkdir -p /mnt/data"
   ]
  },
  {
   "cell_type": "code",
   "execution_count": 5,
   "metadata": {},
   "outputs": [],
   "source": [
    "# cd /mnt/data"
   ]
  },
  {
   "cell_type": "code",
   "execution_count": 6,
   "metadata": {},
   "outputs": [
    {
     "data": {
      "text/plain": [
       "'/Users/olgabot/code/kmer-hashing/notebooks'"
      ]
     },
     "execution_count": 6,
     "metadata": {},
     "output_type": "execute_result"
    }
   ],
   "source": [
    "pwd"
   ]
  },
  {
   "cell_type": "code",
   "execution_count": 7,
   "metadata": {},
   "outputs": [
    {
     "name": "stdout",
     "output_type": "stream",
     "text": []
    },
    {
     "name": "stdout",
     "output_type": "stream",
     "text": []
    },
    {
     "name": "stdout",
     "output_type": "stream",
     "text": []
    },
    {
     "name": "stdout",
     "output_type": "stream",
     "text": []
    },
    {
     "name": "stdout",
     "output_type": "stream",
     "text": []
    },
    {
     "name": "stdout",
     "output_type": "stream",
     "text": []
    },
    {
     "name": "stdout",
     "output_type": "stream",
     "text": []
    },
    {
     "name": "stdout",
     "output_type": "stream",
     "text": []
    },
    {
     "name": "stdout",
     "output_type": "stream",
     "text": []
    },
    {
     "name": "stdout",
     "output_type": "stream",
     "text": []
    },
    {
     "name": "stdout",
     "output_type": "stream",
     "text": []
    },
    {
     "name": "stdout",
     "output_type": "stream",
     "text": []
    },
    {
     "name": "stdout",
     "output_type": "stream",
     "text": []
    },
    {
     "name": "stdout",
     "output_type": "stream",
     "text": []
    },
    {
     "name": "stdout",
     "output_type": "stream",
     "text": []
    },
    {
     "name": "stdout",
     "output_type": "stream",
     "text": []
    },
    {
     "name": "stdout",
     "output_type": "stream",
     "text": []
    },
    {
     "name": "stdout",
     "output_type": "stream",
     "text": []
    },
    {
     "name": "stdout",
     "output_type": "stream",
     "text": []
    },
    {
     "name": "stdout",
     "output_type": "stream",
     "text": []
    },
    {
     "name": "stdout",
     "output_type": "stream",
     "text": []
    },
    {
     "name": "stdout",
     "output_type": "stream",
     "text": []
    },
    {
     "name": "stdout",
     "output_type": "stream",
     "text": []
    },
    {
     "name": "stdout",
     "output_type": "stream",
     "text": []
    },
    {
     "name": "stdout",
     "output_type": "stream",
     "text": []
    },
    {
     "name": "stdout",
     "output_type": "stream",
     "text": []
    },
    {
     "name": "stdout",
     "output_type": "stream",
     "text": []
    },
    {
     "name": "stdout",
     "output_type": "stream",
     "text": []
    },
    {
     "name": "stdout",
     "output_type": "stream",
     "text": []
    },
    {
     "name": "stdout",
     "output_type": "stream",
     "text": []
    },
    {
     "name": "stdout",
     "output_type": "stream",
     "text": []
    },
    {
     "name": "stdout",
     "output_type": "stream",
     "text": []
    },
    {
     "name": "stdout",
     "output_type": "stream",
     "text": []
    },
    {
     "name": "stdout",
     "output_type": "stream",
     "text": []
    },
    {
     "name": "stdout",
     "output_type": "stream",
     "text": []
    },
    {
     "name": "stdout",
     "output_type": "stream",
     "text": []
    },
    {
     "name": "stdout",
     "output_type": "stream",
     "text": []
    },
    {
     "name": "stdout",
     "output_type": "stream",
     "text": []
    },
    {
     "name": "stdout",
     "output_type": "stream",
     "text": [
      "download: s3://olgabot-maca/fastqs.csv to ./fastqs.csv             \n"
     ]
    }
   ],
   "source": [
    "! aws s3 cp s3://olgabot-maca/fastqs.csv ."
   ]
  },
  {
   "cell_type": "code",
   "execution_count": 10,
   "metadata": {},
   "outputs": [
    {
     "name": "stderr",
     "output_type": "stream",
     "text": [
      "/anaconda3/lib/python3.6/site-packages/IPython/core/interactiveshell.py:2785: DtypeWarning: Columns (0,1) have mixed types. Specify dtype option on import or set low_memory=False.\n",
      "  interactivity=interactivity, compiler=compiler, result=result)\n"
     ]
    },
    {
     "data": {
      "text/html": [
       "<div>\n",
       "<style scoped>\n",
       "    .dataframe tbody tr th:only-of-type {\n",
       "        vertical-align: middle;\n",
       "    }\n",
       "\n",
       "    .dataframe tbody tr th {\n",
       "        vertical-align: top;\n",
       "    }\n",
       "\n",
       "    .dataframe thead th {\n",
       "        text-align: right;\n",
       "    }\n",
       "</style>\n",
       "<table border=\"1\" class=\"dataframe\">\n",
       "  <thead>\n",
       "    <tr style=\"text-align: right;\">\n",
       "      <th></th>\n",
       "      <th>Neurog3&gt;0_raw</th>\n",
       "      <th>Neurog3&gt;0_scaled</th>\n",
       "      <th>cell_id</th>\n",
       "      <th>cell_ontology_class</th>\n",
       "      <th>cell_ontology_id</th>\n",
       "      <th>cluster.ids</th>\n",
       "      <th>free_annotation</th>\n",
       "      <th>mouse.id</th>\n",
       "      <th>mouse.sex</th>\n",
       "      <th>plate.barcode</th>\n",
       "      <th>...</th>\n",
       "      <th>subsetC</th>\n",
       "      <th>subsetC_cluster.ids</th>\n",
       "      <th>subsetD</th>\n",
       "      <th>subsetD_cluster.ids</th>\n",
       "      <th>subsetE</th>\n",
       "      <th>subsetE_cluster.ids</th>\n",
       "      <th>subtissue</th>\n",
       "      <th>tissue</th>\n",
       "      <th>tissue_tSNE_1</th>\n",
       "      <th>tissue_tSNE_2</th>\n",
       "    </tr>\n",
       "  </thead>\n",
       "  <tbody>\n",
       "    <tr>\n",
       "      <th>0</th>\n",
       "      <td>NaN</td>\n",
       "      <td>NaN</td>\n",
       "      <td>A1-B000610-3_56_F-1-1</td>\n",
       "      <td>bladder cell</td>\n",
       "      <td>CL:1001319</td>\n",
       "      <td>5</td>\n",
       "      <td>Bladder mesenchymal cell</td>\n",
       "      <td>3_56_F</td>\n",
       "      <td>F</td>\n",
       "      <td>B000610</td>\n",
       "      <td>...</td>\n",
       "      <td>NaN</td>\n",
       "      <td>NaN</td>\n",
       "      <td>NaN</td>\n",
       "      <td>NaN</td>\n",
       "      <td>NaN</td>\n",
       "      <td>NaN</td>\n",
       "      <td>NaN</td>\n",
       "      <td>Bladder</td>\n",
       "      <td>-7.182841</td>\n",
       "      <td>-10.895094</td>\n",
       "    </tr>\n",
       "    <tr>\n",
       "      <th>1</th>\n",
       "      <td>NaN</td>\n",
       "      <td>NaN</td>\n",
       "      <td>A1-B002764-3_38_F-1-1</td>\n",
       "      <td>bladder urothelial cell</td>\n",
       "      <td>CL:1001428</td>\n",
       "      <td>3</td>\n",
       "      <td>Luminal bladder epithelial cell</td>\n",
       "      <td>3_38_F</td>\n",
       "      <td>F</td>\n",
       "      <td>B002764</td>\n",
       "      <td>...</td>\n",
       "      <td>NaN</td>\n",
       "      <td>NaN</td>\n",
       "      <td>NaN</td>\n",
       "      <td>NaN</td>\n",
       "      <td>NaN</td>\n",
       "      <td>NaN</td>\n",
       "      <td>NaN</td>\n",
       "      <td>Bladder</td>\n",
       "      <td>4.199059</td>\n",
       "      <td>-11.050240</td>\n",
       "    </tr>\n",
       "    <tr>\n",
       "      <th>2</th>\n",
       "      <td>NaN</td>\n",
       "      <td>NaN</td>\n",
       "      <td>A1-B002771-3_39_F-1-1</td>\n",
       "      <td>bladder cell</td>\n",
       "      <td>CL:1001319</td>\n",
       "      <td>5</td>\n",
       "      <td>Bladder mesenchymal cell</td>\n",
       "      <td>3_39_F</td>\n",
       "      <td>F</td>\n",
       "      <td>B002771</td>\n",
       "      <td>...</td>\n",
       "      <td>NaN</td>\n",
       "      <td>NaN</td>\n",
       "      <td>NaN</td>\n",
       "      <td>NaN</td>\n",
       "      <td>NaN</td>\n",
       "      <td>NaN</td>\n",
       "      <td>NaN</td>\n",
       "      <td>Bladder</td>\n",
       "      <td>-11.995435</td>\n",
       "      <td>-7.325534</td>\n",
       "    </tr>\n",
       "    <tr>\n",
       "      <th>3</th>\n",
       "      <td>NaN</td>\n",
       "      <td>NaN</td>\n",
       "      <td>A1-D041914-3_8_M-1-1</td>\n",
       "      <td>bladder cell</td>\n",
       "      <td>CL:1001319</td>\n",
       "      <td>5</td>\n",
       "      <td>Bladder mesenchymal cell</td>\n",
       "      <td>3_8_M</td>\n",
       "      <td>M</td>\n",
       "      <td>D041914</td>\n",
       "      <td>...</td>\n",
       "      <td>NaN</td>\n",
       "      <td>NaN</td>\n",
       "      <td>NaN</td>\n",
       "      <td>NaN</td>\n",
       "      <td>NaN</td>\n",
       "      <td>NaN</td>\n",
       "      <td>NaN</td>\n",
       "      <td>Bladder</td>\n",
       "      <td>-6.820022</td>\n",
       "      <td>-14.174246</td>\n",
       "    </tr>\n",
       "    <tr>\n",
       "      <th>4</th>\n",
       "      <td>NaN</td>\n",
       "      <td>NaN</td>\n",
       "      <td>A1-D042253-3_9_M-1-1</td>\n",
       "      <td>bladder cell</td>\n",
       "      <td>CL:1001319</td>\n",
       "      <td>2</td>\n",
       "      <td>Bladder mesenchymal cell</td>\n",
       "      <td>3_9_M</td>\n",
       "      <td>M</td>\n",
       "      <td>D042253</td>\n",
       "      <td>...</td>\n",
       "      <td>NaN</td>\n",
       "      <td>NaN</td>\n",
       "      <td>NaN</td>\n",
       "      <td>NaN</td>\n",
       "      <td>NaN</td>\n",
       "      <td>NaN</td>\n",
       "      <td>NaN</td>\n",
       "      <td>Bladder</td>\n",
       "      <td>-24.163538</td>\n",
       "      <td>-7.499349</td>\n",
       "    </tr>\n",
       "  </tbody>\n",
       "</table>\n",
       "<p>5 rows × 24 columns</p>\n",
       "</div>"
      ],
      "text/plain": [
       "  Neurog3>0_raw Neurog3>0_scaled                cell_id  \\\n",
       "0           NaN              NaN  A1-B000610-3_56_F-1-1   \n",
       "1           NaN              NaN  A1-B002764-3_38_F-1-1   \n",
       "2           NaN              NaN  A1-B002771-3_39_F-1-1   \n",
       "3           NaN              NaN   A1-D041914-3_8_M-1-1   \n",
       "4           NaN              NaN   A1-D042253-3_9_M-1-1   \n",
       "\n",
       "       cell_ontology_class cell_ontology_id  cluster.ids  \\\n",
       "0             bladder cell       CL:1001319            5   \n",
       "1  bladder urothelial cell       CL:1001428            3   \n",
       "2             bladder cell       CL:1001319            5   \n",
       "3             bladder cell       CL:1001319            5   \n",
       "4             bladder cell       CL:1001319            2   \n",
       "\n",
       "                   free_annotation mouse.id mouse.sex plate.barcode  \\\n",
       "0         Bladder mesenchymal cell   3_56_F         F       B000610   \n",
       "1  Luminal bladder epithelial cell   3_38_F         F       B002764   \n",
       "2         Bladder mesenchymal cell   3_39_F         F       B002771   \n",
       "3         Bladder mesenchymal cell    3_8_M         M       D041914   \n",
       "4         Bladder mesenchymal cell    3_9_M         M       D042253   \n",
       "\n",
       "       ...       subsetC  subsetC_cluster.ids subsetD  subsetD_cluster.ids  \\\n",
       "0      ...           NaN                  NaN     NaN                  NaN   \n",
       "1      ...           NaN                  NaN     NaN                  NaN   \n",
       "2      ...           NaN                  NaN     NaN                  NaN   \n",
       "3      ...           NaN                  NaN     NaN                  NaN   \n",
       "4      ...           NaN                  NaN     NaN                  NaN   \n",
       "\n",
       "  subsetE  subsetE_cluster.ids subtissue   tissue tissue_tSNE_1  tissue_tSNE_2  \n",
       "0     NaN                  NaN       NaN  Bladder     -7.182841     -10.895094  \n",
       "1     NaN                  NaN       NaN  Bladder      4.199059     -11.050240  \n",
       "2     NaN                  NaN       NaN  Bladder    -11.995435      -7.325534  \n",
       "3     NaN                  NaN       NaN  Bladder     -6.820022     -14.174246  \n",
       "4     NaN                  NaN       NaN  Bladder    -24.163538      -7.499349  \n",
       "\n",
       "[5 rows x 24 columns]"
      ]
     },
     "execution_count": 10,
     "metadata": {},
     "output_type": "execute_result"
    }
   ],
   "source": [
    "import pandas as pd\n",
    "\n",
    "annotations = pd.read_csv('../../tabula-muris/00_data_ingest/18_global_annotation_csv/annotations_facs.csv')\n",
    "annotations['cell'] = annotations['cell'].str.replace('.', '-')\n",
    "annotations = annotations.rename(columns={'cell': 'cell_id'})\n",
    "# annotations = annotations\n",
    "annotations.head()"
   ]
  },
  {
   "cell_type": "code",
   "execution_count": 11,
   "metadata": {
    "collapsed": true
   },
   "outputs": [],
   "source": [
    "pd.options.display.max_colwidth = 200"
   ]
  },
  {
   "cell_type": "code",
   "execution_count": 12,
   "metadata": {},
   "outputs": [
    {
     "data": {
      "text/plain": [
       "cell_id\n",
       "A1-B000610-3_56_F-1-1                      cell_ontology_class:bladder_cell|tissue:Bladder|subtissue:nan|free_annotation:Bladder_mesenchymal_cell|cell_id:A1-B000610-3_56_F-1-1\n",
       "A1-B002764-3_38_F-1-1    cell_ontology_class:bladder_urothelial_cell|tissue:Bladder|subtissue:nan|free_annotation:Luminal_bladder_epithelial_cell|cell_id:A1-B002764-3_38_F-1-1\n",
       "A1-B002771-3_39_F-1-1                      cell_ontology_class:bladder_cell|tissue:Bladder|subtissue:nan|free_annotation:Bladder_mesenchymal_cell|cell_id:A1-B002771-3_39_F-1-1\n",
       "A1-D041914-3_8_M-1-1                        cell_ontology_class:bladder_cell|tissue:Bladder|subtissue:nan|free_annotation:Bladder_mesenchymal_cell|cell_id:A1-D041914-3_8_M-1-1\n",
       "A1-D042253-3_9_M-1-1                        cell_ontology_class:bladder_cell|tissue:Bladder|subtissue:nan|free_annotation:Bladder_mesenchymal_cell|cell_id:A1-D042253-3_9_M-1-1\n",
       "Name: name, dtype: object"
      ]
     },
     "execution_count": 12,
     "metadata": {},
     "output_type": "execute_result"
    }
   ],
   "source": [
    "cols = ['cell_ontology_class', 'tissue', 'subtissue',  'free_annotation', 'cell_id']\n",
    "\n",
    "\n",
    "def sanitize(x):\n",
    "    try:\n",
    "        return x.replace(\" \", \"_\")\n",
    "    except AttributeError:\n",
    "        return str(x)\n",
    "\n",
    "def join(keys, values):\n",
    "    return '|'.join(f'{sanitize(key)}:{sanitize(value)}' \n",
    "                    for key, value in zip(keys, values))\n",
    "\n",
    "sample_id_with_annotation = annotations.apply(lambda x: join(cols, x[cols]), axis=1)\n",
    "sample_id_with_annotation.name = 'name'\n",
    "sample_id_with_annotation.index = annotations['cell_id']\n",
    "sample_id_with_annotation.head()"
   ]
  },
  {
   "cell_type": "code",
   "execution_count": 13,
   "metadata": {},
   "outputs": [
    {
     "name": "stdout",
     "output_type": "stream",
     "text": [
      "(54912, 3)\n"
     ]
    },
    {
     "data": {
      "text/html": [
       "<div>\n",
       "<style scoped>\n",
       "    .dataframe tbody tr th:only-of-type {\n",
       "        vertical-align: middle;\n",
       "    }\n",
       "\n",
       "    .dataframe tbody tr th {\n",
       "        vertical-align: top;\n",
       "    }\n",
       "\n",
       "    .dataframe thead th {\n",
       "        text-align: right;\n",
       "    }\n",
       "</style>\n",
       "<table border=\"1\" class=\"dataframe\">\n",
       "  <thead>\n",
       "    <tr style=\"text-align: right;\">\n",
       "      <th></th>\n",
       "      <th>read1</th>\n",
       "      <th>read2</th>\n",
       "      <th>name</th>\n",
       "    </tr>\n",
       "    <tr>\n",
       "      <th>id</th>\n",
       "      <th></th>\n",
       "      <th></th>\n",
       "      <th></th>\n",
       "    </tr>\n",
       "  </thead>\n",
       "  <tbody>\n",
       "    <tr>\n",
       "      <th>A1-B000126-3_39_F-1-1</th>\n",
       "      <td>s3://czbiohub-maca/remux_data/170925_A00111_0066_AH3TKNDMXX/rawdata/A1-B000126-3_39_F-1-1_S289/A1-B000126-3_39_F-1-1_S289_R1_001.fastq.gz</td>\n",
       "      <td>s3://czbiohub-maca/remux_data/170925_A00111_0067_BH3M5YDMXX/rawdata/A1-B000126-3_39_F-1-1_S289/A1-B000126-3_39_F-1-1_S289_R2_001.fastq.gz</td>\n",
       "      <td>cell_ontology_class:epidermal_cell|tissue:Skin|subtissue:Telogen|free_annotation:Intermediate_IFE|cell_id:A1-B000126-3_39_F-1-1</td>\n",
       "    </tr>\n",
       "    <tr>\n",
       "      <th>A1-B000127-3_38_F-1-1</th>\n",
       "      <td>s3://czbiohub-maca/remux_data/170914_A00111_0058_AH3FYKDMXX/rawdata/A1-B000127-3_38_F-1-1_S1/A1-B000127-3_38_F-1-1_S1_R1_001.fastq.gz</td>\n",
       "      <td>s3://czbiohub-maca/remux_data/170914_A00111_0058_AH3FYKDMXX/rawdata/A1-B000127-3_38_F-1-1_S1/A1-B000127-3_38_F-1-1_S1_R2_001.fastq.gz</td>\n",
       "      <td>cell_ontology_class:endothelial_cell|tissue:Fat|subtissue:SCAT|free_annotation:nan|cell_id:A1-B000127-3_38_F-1-1</td>\n",
       "    </tr>\n",
       "    <tr>\n",
       "      <th>A1-B000167-3_56_F-1-1</th>\n",
       "      <td>s3://czbiohub-maca/remux_data/170925_A00111_0066_AH3TKNDMXX/rawdata/A1-B000167-3_56_F-1-1_S228/A1-B000167-3_56_F-1-1_S228_R1_001.fastq.gz</td>\n",
       "      <td>s3://czbiohub-maca/remux_data/170925_A00111_0066_AH3TKNDMXX/rawdata/A1-B000167-3_56_F-1-1_S228/A1-B000167-3_56_F-1-1_S228_R2_001.fastq.gz</td>\n",
       "      <td>cell_ontology_class:basal_cell|tissue:Mammary_Gland|subtissue:Mammary_Gland|free_annotation:nan|cell_id:A1-B000167-3_56_F-1-1</td>\n",
       "    </tr>\n",
       "    <tr>\n",
       "      <th>A1-B000168-3_57_F-1-1</th>\n",
       "      <td>s3://czbiohub-maca/remux_data/170925_A00111_0067_BH3M5YDMXX/rawdata/A1-B000168-3_57_F-1-1_S177/A1-B000168-3_57_F-1-1_S177_R1_001.fastq.gz</td>\n",
       "      <td>s3://czbiohub-maca/remux_data/170925_A00111_0067_BH3M5YDMXX/rawdata/A1-B000168-3_57_F-1-1_S177/A1-B000168-3_57_F-1-1_S177_R2_001.fastq.gz</td>\n",
       "      <td>A1-B000168-3_57_F-1-1</td>\n",
       "    </tr>\n",
       "    <tr>\n",
       "      <th>A1-B000412-3_56_F-1-1</th>\n",
       "      <td>s3://czbiohub-maca/remux_data/170914_A00111_0058_AH3FYKDMXX/rawdata/A1-B000412-3_56_F-1-1_S110/A1-B000412-3_56_F-1-1_S110_R1_001.fastq.gz</td>\n",
       "      <td>s3://czbiohub-maca/remux_data/170914_A00111_0058_AH3FYKDMXX/rawdata/A1-B000412-3_56_F-1-1_S110/A1-B000412-3_56_F-1-1_S110_R2_001.fastq.gz</td>\n",
       "      <td>cell_ontology_class:endothelial_cell|tissue:Heart|subtissue:RA|free_annotation:nan|cell_id:A1-B000412-3_56_F-1-1</td>\n",
       "    </tr>\n",
       "  </tbody>\n",
       "</table>\n",
       "</div>"
      ],
      "text/plain": [
       "                                                                                                                                                           read1  \\\n",
       "id                                                                                                                                                                 \n",
       "A1-B000126-3_39_F-1-1  s3://czbiohub-maca/remux_data/170925_A00111_0066_AH3TKNDMXX/rawdata/A1-B000126-3_39_F-1-1_S289/A1-B000126-3_39_F-1-1_S289_R1_001.fastq.gz   \n",
       "A1-B000127-3_38_F-1-1      s3://czbiohub-maca/remux_data/170914_A00111_0058_AH3FYKDMXX/rawdata/A1-B000127-3_38_F-1-1_S1/A1-B000127-3_38_F-1-1_S1_R1_001.fastq.gz   \n",
       "A1-B000167-3_56_F-1-1  s3://czbiohub-maca/remux_data/170925_A00111_0066_AH3TKNDMXX/rawdata/A1-B000167-3_56_F-1-1_S228/A1-B000167-3_56_F-1-1_S228_R1_001.fastq.gz   \n",
       "A1-B000168-3_57_F-1-1  s3://czbiohub-maca/remux_data/170925_A00111_0067_BH3M5YDMXX/rawdata/A1-B000168-3_57_F-1-1_S177/A1-B000168-3_57_F-1-1_S177_R1_001.fastq.gz   \n",
       "A1-B000412-3_56_F-1-1  s3://czbiohub-maca/remux_data/170914_A00111_0058_AH3FYKDMXX/rawdata/A1-B000412-3_56_F-1-1_S110/A1-B000412-3_56_F-1-1_S110_R1_001.fastq.gz   \n",
       "\n",
       "                                                                                                                                                           read2  \\\n",
       "id                                                                                                                                                                 \n",
       "A1-B000126-3_39_F-1-1  s3://czbiohub-maca/remux_data/170925_A00111_0067_BH3M5YDMXX/rawdata/A1-B000126-3_39_F-1-1_S289/A1-B000126-3_39_F-1-1_S289_R2_001.fastq.gz   \n",
       "A1-B000127-3_38_F-1-1      s3://czbiohub-maca/remux_data/170914_A00111_0058_AH3FYKDMXX/rawdata/A1-B000127-3_38_F-1-1_S1/A1-B000127-3_38_F-1-1_S1_R2_001.fastq.gz   \n",
       "A1-B000167-3_56_F-1-1  s3://czbiohub-maca/remux_data/170925_A00111_0066_AH3TKNDMXX/rawdata/A1-B000167-3_56_F-1-1_S228/A1-B000167-3_56_F-1-1_S228_R2_001.fastq.gz   \n",
       "A1-B000168-3_57_F-1-1  s3://czbiohub-maca/remux_data/170925_A00111_0067_BH3M5YDMXX/rawdata/A1-B000168-3_57_F-1-1_S177/A1-B000168-3_57_F-1-1_S177_R2_001.fastq.gz   \n",
       "A1-B000412-3_56_F-1-1  s3://czbiohub-maca/remux_data/170914_A00111_0058_AH3FYKDMXX/rawdata/A1-B000412-3_56_F-1-1_S110/A1-B000412-3_56_F-1-1_S110_R2_001.fastq.gz   \n",
       "\n",
       "                                                                                                                                                  name  \n",
       "id                                                                                                                                                      \n",
       "A1-B000126-3_39_F-1-1  cell_ontology_class:epidermal_cell|tissue:Skin|subtissue:Telogen|free_annotation:Intermediate_IFE|cell_id:A1-B000126-3_39_F-1-1  \n",
       "A1-B000127-3_38_F-1-1                 cell_ontology_class:endothelial_cell|tissue:Fat|subtissue:SCAT|free_annotation:nan|cell_id:A1-B000127-3_38_F-1-1  \n",
       "A1-B000167-3_56_F-1-1    cell_ontology_class:basal_cell|tissue:Mammary_Gland|subtissue:Mammary_Gland|free_annotation:nan|cell_id:A1-B000167-3_56_F-1-1  \n",
       "A1-B000168-3_57_F-1-1                                                                                                            A1-B000168-3_57_F-1-1  \n",
       "A1-B000412-3_56_F-1-1                 cell_ontology_class:endothelial_cell|tissue:Heart|subtissue:RA|free_annotation:nan|cell_id:A1-B000412-3_56_F-1-1  "
      ]
     },
     "execution_count": 13,
     "metadata": {},
     "output_type": "execute_result"
    }
   ],
   "source": [
    "import pandas as pd\n",
    "\n",
    "fastqs = pd.read_csv('fastqs.csv')\n",
    "print(fastqs.shape)\n",
    "fastqs = fastqs.rename(columns={'sample_id':'id', 'R1': 'read1', 'R2': 'read2'})\n",
    "\n",
    "# Remove _S38, etc\n",
    "fastqs['id'] = fastqs['id'].map(lambda x: '_'.join(x.split('_')[:-1]))\n",
    "\n",
    "# Add annotation\n",
    "fastqs = fastqs.set_index('id')\n",
    "fastqs = fastqs.join(sample_id_with_annotation)\n",
    "\n",
    "# Map ids to ids to fill NA\n",
    "id_to_id = pd.Series(fastqs.index, index=fastqs.index)\n",
    "fastqs['name'] = fastqs['name'].fillna(id_to_id)\n",
    "\n",
    "fastqs.head()"
   ]
  },
  {
   "cell_type": "code",
   "execution_count": 14,
   "metadata": {},
   "outputs": [
    {
     "data": {
      "text/html": [
       "<div>\n",
       "<style scoped>\n",
       "    .dataframe tbody tr th:only-of-type {\n",
       "        vertical-align: middle;\n",
       "    }\n",
       "\n",
       "    .dataframe tbody tr th {\n",
       "        vertical-align: top;\n",
       "    }\n",
       "\n",
       "    .dataframe thead th {\n",
       "        text-align: right;\n",
       "    }\n",
       "</style>\n",
       "<table border=\"1\" class=\"dataframe\">\n",
       "  <thead>\n",
       "    <tr style=\"text-align: right;\">\n",
       "      <th></th>\n",
       "      <th>read1</th>\n",
       "      <th>read2</th>\n",
       "      <th>name</th>\n",
       "      <th>output</th>\n",
       "      <th>ksizes</th>\n",
       "      <th>protein</th>\n",
       "      <th>scaled</th>\n",
       "      <th>trim_low_abundance_kmers</th>\n",
       "    </tr>\n",
       "    <tr>\n",
       "      <th>id</th>\n",
       "      <th></th>\n",
       "      <th></th>\n",
       "      <th></th>\n",
       "      <th></th>\n",
       "      <th></th>\n",
       "      <th></th>\n",
       "      <th></th>\n",
       "      <th></th>\n",
       "    </tr>\n",
       "  </thead>\n",
       "  <tbody>\n",
       "    <tr>\n",
       "      <th>A1-B000126-3_39_F-1-1</th>\n",
       "      <td>s3://czbiohub-maca/remux_data/170925_A00111_0066_AH3TKNDMXX/rawdata/A1-B000126-3_39_F-1-1_S289/A1-B000126-3_39_F-1-1_S289_R1_001.fastq.gz</td>\n",
       "      <td>s3://czbiohub-maca/remux_data/170925_A00111_0067_BH3M5YDMXX/rawdata/A1-B000126-3_39_F-1-1_S289/A1-B000126-3_39_F-1-1_S289_R2_001.fastq.gz</td>\n",
       "      <td>cell_ontology_class:epidermal_cell|tissue:Skin|subtissue:Telogen|free_annotation:Intermediate_IFE|cell_id:A1-B000126-3_39_F-1-1</td>\n",
       "      <td>s3://olgabot-maca/facs/sourmash_compute_all/A1-B000126-3_39_F-1-1.sig</td>\n",
       "      <td>21,27,33,51</td>\n",
       "      <td>true</td>\n",
       "      <td>1000</td>\n",
       "      <td>true</td>\n",
       "    </tr>\n",
       "    <tr>\n",
       "      <th>A1-B000127-3_38_F-1-1</th>\n",
       "      <td>s3://czbiohub-maca/remux_data/170914_A00111_0058_AH3FYKDMXX/rawdata/A1-B000127-3_38_F-1-1_S1/A1-B000127-3_38_F-1-1_S1_R1_001.fastq.gz</td>\n",
       "      <td>s3://czbiohub-maca/remux_data/170914_A00111_0058_AH3FYKDMXX/rawdata/A1-B000127-3_38_F-1-1_S1/A1-B000127-3_38_F-1-1_S1_R2_001.fastq.gz</td>\n",
       "      <td>cell_ontology_class:endothelial_cell|tissue:Fat|subtissue:SCAT|free_annotation:nan|cell_id:A1-B000127-3_38_F-1-1</td>\n",
       "      <td>s3://olgabot-maca/facs/sourmash_compute_all/A1-B000127-3_38_F-1-1.sig</td>\n",
       "      <td>21,27,33,51</td>\n",
       "      <td>true</td>\n",
       "      <td>1000</td>\n",
       "      <td>true</td>\n",
       "    </tr>\n",
       "    <tr>\n",
       "      <th>A1-B000167-3_56_F-1-1</th>\n",
       "      <td>s3://czbiohub-maca/remux_data/170925_A00111_0066_AH3TKNDMXX/rawdata/A1-B000167-3_56_F-1-1_S228/A1-B000167-3_56_F-1-1_S228_R1_001.fastq.gz</td>\n",
       "      <td>s3://czbiohub-maca/remux_data/170925_A00111_0066_AH3TKNDMXX/rawdata/A1-B000167-3_56_F-1-1_S228/A1-B000167-3_56_F-1-1_S228_R2_001.fastq.gz</td>\n",
       "      <td>cell_ontology_class:basal_cell|tissue:Mammary_Gland|subtissue:Mammary_Gland|free_annotation:nan|cell_id:A1-B000167-3_56_F-1-1</td>\n",
       "      <td>s3://olgabot-maca/facs/sourmash_compute_all/A1-B000167-3_56_F-1-1.sig</td>\n",
       "      <td>21,27,33,51</td>\n",
       "      <td>true</td>\n",
       "      <td>1000</td>\n",
       "      <td>true</td>\n",
       "    </tr>\n",
       "    <tr>\n",
       "      <th>A1-B000168-3_57_F-1-1</th>\n",
       "      <td>s3://czbiohub-maca/remux_data/170925_A00111_0067_BH3M5YDMXX/rawdata/A1-B000168-3_57_F-1-1_S177/A1-B000168-3_57_F-1-1_S177_R1_001.fastq.gz</td>\n",
       "      <td>s3://czbiohub-maca/remux_data/170925_A00111_0067_BH3M5YDMXX/rawdata/A1-B000168-3_57_F-1-1_S177/A1-B000168-3_57_F-1-1_S177_R2_001.fastq.gz</td>\n",
       "      <td>A1-B000168-3_57_F-1-1</td>\n",
       "      <td>s3://olgabot-maca/facs/sourmash_compute_all/A1-B000168-3_57_F-1-1.sig</td>\n",
       "      <td>21,27,33,51</td>\n",
       "      <td>true</td>\n",
       "      <td>1000</td>\n",
       "      <td>true</td>\n",
       "    </tr>\n",
       "    <tr>\n",
       "      <th>A1-B000412-3_56_F-1-1</th>\n",
       "      <td>s3://czbiohub-maca/remux_data/170914_A00111_0058_AH3FYKDMXX/rawdata/A1-B000412-3_56_F-1-1_S110/A1-B000412-3_56_F-1-1_S110_R1_001.fastq.gz</td>\n",
       "      <td>s3://czbiohub-maca/remux_data/170914_A00111_0058_AH3FYKDMXX/rawdata/A1-B000412-3_56_F-1-1_S110/A1-B000412-3_56_F-1-1_S110_R2_001.fastq.gz</td>\n",
       "      <td>cell_ontology_class:endothelial_cell|tissue:Heart|subtissue:RA|free_annotation:nan|cell_id:A1-B000412-3_56_F-1-1</td>\n",
       "      <td>s3://olgabot-maca/facs/sourmash_compute_all/A1-B000412-3_56_F-1-1.sig</td>\n",
       "      <td>21,27,33,51</td>\n",
       "      <td>true</td>\n",
       "      <td>1000</td>\n",
       "      <td>true</td>\n",
       "    </tr>\n",
       "  </tbody>\n",
       "</table>\n",
       "</div>"
      ],
      "text/plain": [
       "                                                                                                                                                           read1  \\\n",
       "id                                                                                                                                                                 \n",
       "A1-B000126-3_39_F-1-1  s3://czbiohub-maca/remux_data/170925_A00111_0066_AH3TKNDMXX/rawdata/A1-B000126-3_39_F-1-1_S289/A1-B000126-3_39_F-1-1_S289_R1_001.fastq.gz   \n",
       "A1-B000127-3_38_F-1-1      s3://czbiohub-maca/remux_data/170914_A00111_0058_AH3FYKDMXX/rawdata/A1-B000127-3_38_F-1-1_S1/A1-B000127-3_38_F-1-1_S1_R1_001.fastq.gz   \n",
       "A1-B000167-3_56_F-1-1  s3://czbiohub-maca/remux_data/170925_A00111_0066_AH3TKNDMXX/rawdata/A1-B000167-3_56_F-1-1_S228/A1-B000167-3_56_F-1-1_S228_R1_001.fastq.gz   \n",
       "A1-B000168-3_57_F-1-1  s3://czbiohub-maca/remux_data/170925_A00111_0067_BH3M5YDMXX/rawdata/A1-B000168-3_57_F-1-1_S177/A1-B000168-3_57_F-1-1_S177_R1_001.fastq.gz   \n",
       "A1-B000412-3_56_F-1-1  s3://czbiohub-maca/remux_data/170914_A00111_0058_AH3FYKDMXX/rawdata/A1-B000412-3_56_F-1-1_S110/A1-B000412-3_56_F-1-1_S110_R1_001.fastq.gz   \n",
       "\n",
       "                                                                                                                                                           read2  \\\n",
       "id                                                                                                                                                                 \n",
       "A1-B000126-3_39_F-1-1  s3://czbiohub-maca/remux_data/170925_A00111_0067_BH3M5YDMXX/rawdata/A1-B000126-3_39_F-1-1_S289/A1-B000126-3_39_F-1-1_S289_R2_001.fastq.gz   \n",
       "A1-B000127-3_38_F-1-1      s3://czbiohub-maca/remux_data/170914_A00111_0058_AH3FYKDMXX/rawdata/A1-B000127-3_38_F-1-1_S1/A1-B000127-3_38_F-1-1_S1_R2_001.fastq.gz   \n",
       "A1-B000167-3_56_F-1-1  s3://czbiohub-maca/remux_data/170925_A00111_0066_AH3TKNDMXX/rawdata/A1-B000167-3_56_F-1-1_S228/A1-B000167-3_56_F-1-1_S228_R2_001.fastq.gz   \n",
       "A1-B000168-3_57_F-1-1  s3://czbiohub-maca/remux_data/170925_A00111_0067_BH3M5YDMXX/rawdata/A1-B000168-3_57_F-1-1_S177/A1-B000168-3_57_F-1-1_S177_R2_001.fastq.gz   \n",
       "A1-B000412-3_56_F-1-1  s3://czbiohub-maca/remux_data/170914_A00111_0058_AH3FYKDMXX/rawdata/A1-B000412-3_56_F-1-1_S110/A1-B000412-3_56_F-1-1_S110_R2_001.fastq.gz   \n",
       "\n",
       "                                                                                                                                                  name  \\\n",
       "id                                                                                                                                                       \n",
       "A1-B000126-3_39_F-1-1  cell_ontology_class:epidermal_cell|tissue:Skin|subtissue:Telogen|free_annotation:Intermediate_IFE|cell_id:A1-B000126-3_39_F-1-1   \n",
       "A1-B000127-3_38_F-1-1                 cell_ontology_class:endothelial_cell|tissue:Fat|subtissue:SCAT|free_annotation:nan|cell_id:A1-B000127-3_38_F-1-1   \n",
       "A1-B000167-3_56_F-1-1    cell_ontology_class:basal_cell|tissue:Mammary_Gland|subtissue:Mammary_Gland|free_annotation:nan|cell_id:A1-B000167-3_56_F-1-1   \n",
       "A1-B000168-3_57_F-1-1                                                                                                            A1-B000168-3_57_F-1-1   \n",
       "A1-B000412-3_56_F-1-1                 cell_ontology_class:endothelial_cell|tissue:Heart|subtissue:RA|free_annotation:nan|cell_id:A1-B000412-3_56_F-1-1   \n",
       "\n",
       "                                                                                      output  \\\n",
       "id                                                                                             \n",
       "A1-B000126-3_39_F-1-1  s3://olgabot-maca/facs/sourmash_compute_all/A1-B000126-3_39_F-1-1.sig   \n",
       "A1-B000127-3_38_F-1-1  s3://olgabot-maca/facs/sourmash_compute_all/A1-B000127-3_38_F-1-1.sig   \n",
       "A1-B000167-3_56_F-1-1  s3://olgabot-maca/facs/sourmash_compute_all/A1-B000167-3_56_F-1-1.sig   \n",
       "A1-B000168-3_57_F-1-1  s3://olgabot-maca/facs/sourmash_compute_all/A1-B000168-3_57_F-1-1.sig   \n",
       "A1-B000412-3_56_F-1-1  s3://olgabot-maca/facs/sourmash_compute_all/A1-B000412-3_56_F-1-1.sig   \n",
       "\n",
       "                            ksizes protein  scaled trim_low_abundance_kmers  \n",
       "id                                                                           \n",
       "A1-B000126-3_39_F-1-1  21,27,33,51    true    1000                     true  \n",
       "A1-B000127-3_38_F-1-1  21,27,33,51    true    1000                     true  \n",
       "A1-B000167-3_56_F-1-1  21,27,33,51    true    1000                     true  \n",
       "A1-B000168-3_57_F-1-1  21,27,33,51    true    1000                     true  \n",
       "A1-B000412-3_56_F-1-1  21,27,33,51    true    1000                     true  "
      ]
     },
     "execution_count": 14,
     "metadata": {},
     "output_type": "execute_result"
    }
   ],
   "source": [
    "ksizes = '21,27,33,51'\n",
    "protein = 'true'\n",
    "scaled = 1000\n",
    "trim_low_abundance_kmers = 'true'\n",
    "\n",
    "prefix = 's3://olgabot-maca/facs/sourmash_compute_all/'\n",
    "fastqs['output'] = prefix + fastqs.index + '.sig'\n",
    "# fastqs = fastqs.rename(columns={'sample_id': 'name', 'R1': 'read1', 'R2': 'read2'})\n",
    "\n",
    "fastqs['ksizes'] = ksizes\n",
    "fastqs['protein'] = protein\n",
    "fastqs['scaled'] = scaled\n",
    "fastqs['trim_low_abundance_kmers'] = trim_low_abundance_kmers\n",
    "\n",
    "fastqs.head()"
   ]
  },
  {
   "cell_type": "code",
   "execution_count": 15,
   "metadata": {},
   "outputs": [
    {
     "data": {
      "text/plain": [
       "'/Users/olgabot/code/kmer-hashing/notebooks'"
      ]
     },
     "execution_count": 15,
     "metadata": {},
     "output_type": "execute_result"
    }
   ],
   "source": [
    "pwd"
   ]
  },
  {
   "cell_type": "code",
   "execution_count": 16,
   "metadata": {},
   "outputs": [
    {
     "name": "stdout",
     "output_type": "stream",
     "text": [
      "==> ../sourmash/maca/facs_compute_v7_all/samples.csv <==\n",
      "id,read1,read2,name,output,ksizes,protein,scaled,trim_low_abundance_kmers\n",
      "A1-B000126-3_39_F-1-1,s3://czbiohub-maca/remux_data/170925_A00111_0066_AH3TKNDMXX/rawdata/A1-B000126-3_39_F-1-1_S289/A1-B000126-3_39_F-1-1_S289_R1_001.fastq.gz,s3://czbiohub-maca/remux_data/170925_A00111_0067_BH3M5YDMXX/rawdata/A1-B000126-3_39_F-1-1_S289/A1-B000126-3_39_F-1-1_S289_R2_001.fastq.gz,cell_ontology_class:epidermal_cell|tissue:Skin|subtissue:Telogen|free_annotation:Intermediate_IFE|cell_id:A1-B000126-3_39_F-1-1,s3://olgabot-maca/facs/sourmash_compute_all/A1-B000126-3_39_F-1-1.sig,\"21,27,33,51\",true,1000,true\n",
      "A1-B000127-3_38_F-1-1,s3://czbiohub-maca/remux_data/170914_A00111_0058_AH3FYKDMXX/rawdata/A1-B000127-3_38_F-1-1_S1/A1-B000127-3_38_F-1-1_S1_R1_001.fastq.gz,s3://czbiohub-maca/remux_data/170914_A00111_0058_AH3FYKDMXX/rawdata/A1-B000127-3_38_F-1-1_S1/A1-B000127-3_38_F-1-1_S1_R2_001.fastq.gz,cell_ontology_class:endothelial_cell|tissue:Fat|subtissue:SCAT|free_annotation:nan|cell_id:A1-B000127-3_38_F-1-1,s3://olgabot-maca/facs/sourmash_compute_all/A1-B000127-3_38_F-1-1.sig,\"21,27,33,51\",true,1000,true\n",
      "\n",
      "==> ../sourmash/maca/facs_compute_v7_all/config.json <==\n",
      "{\"program\": \"../../../reflow/sourmash_compute.rf\", \"runs_file\": \"samples.csv\"}"
     ]
    }
   ],
   "source": [
    "import json\n",
    "\n",
    "folder = '../sourmash/maca/facs_compute_v7_all'\n",
    "\n",
    "! mkdir -p $folder\n",
    "fastqs.to_csv(f'{folder}/samples.csv')\n",
    "\n",
    "config = \t{\n",
    "\t\t\"program\": \"../../../reflow/sourmash_compute.rf\",\n",
    "\t\t\"runs_file\": \"samples.csv\"\n",
    "\t}\n",
    "\n",
    "with open(f'{folder}/config.json', 'w') as f:\n",
    "    json.dump(config, f)\n",
    "    \n",
    "! head -n 3 $folder/samples.csv $folder/config.json"
   ]
  },
  {
   "cell_type": "code",
   "execution_count": null,
   "metadata": {
    "collapsed": true
   },
   "outputs": [],
   "source": []
  },
  {
   "cell_type": "code",
   "execution_count": null,
   "metadata": {},
   "outputs": [],
   "source": []
  }
 ],
 "metadata": {
  "kernelspec": {
   "display_name": "Python 3",
   "language": "python",
   "name": "python3"
  },
  "language_info": {
   "codemirror_mode": {
    "name": "ipython",
    "version": 3
   },
   "file_extension": ".py",
   "mimetype": "text/x-python",
   "name": "python",
   "nbconvert_exporter": "python",
   "pygments_lexer": "ipython3",
   "version": "3.6.5"
  }
 },
 "nbformat": 4,
 "nbformat_minor": 2
}
