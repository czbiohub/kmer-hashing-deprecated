{
 "cells": [
  {
   "cell_type": "code",
   "execution_count": 2,
   "metadata": {},
   "outputs": [
    {
     "name": "stdout",
     "output_type": "stream",
     "text": [
      "/mnt/data\n"
     ]
    }
   ],
   "source": [
    "cd /mnt/data"
   ]
  },
  {
   "cell_type": "code",
   "execution_count": 3,
   "metadata": {},
   "outputs": [
    {
     "name": "stdout",
     "output_type": "stream",
     "text": [
      "warning: Skipping file /mnt/data/lost+found. File/Directory is not readable.\r\n",
      "Completed 0 file(s) with ~0 file(s) remaining (calculating...)\r",
      "                                                              \r\n"
     ]
    }
   ],
   "source": [
    "! aws s3 sync s3://olgabot-maca/fastqs.csv ."
   ]
  },
  {
   "cell_type": "code",
   "execution_count": 5,
   "metadata": {},
   "outputs": [
    {
     "name": "stdout",
     "output_type": "stream",
     "text": [
      "(54912, 2)\n"
     ]
    },
    {
     "data": {
      "text/html": [
       "<div>\n",
       "<style scoped>\n",
       "    .dataframe tbody tr th:only-of-type {\n",
       "        vertical-align: middle;\n",
       "    }\n",
       "\n",
       "    .dataframe tbody tr th {\n",
       "        vertical-align: top;\n",
       "    }\n",
       "\n",
       "    .dataframe thead th {\n",
       "        text-align: right;\n",
       "    }\n",
       "</style>\n",
       "<table border=\"1\" class=\"dataframe\">\n",
       "  <thead>\n",
       "    <tr style=\"text-align: right;\">\n",
       "      <th></th>\n",
       "      <th>R1</th>\n",
       "      <th>R2</th>\n",
       "    </tr>\n",
       "    <tr>\n",
       "      <th>sample_id</th>\n",
       "      <th></th>\n",
       "      <th></th>\n",
       "    </tr>\n",
       "  </thead>\n",
       "  <tbody>\n",
       "    <tr>\n",
       "      <th>A1-B000126-3_39_F-1-1_S289</th>\n",
       "      <td>s3://czbiohub-maca/remux_data/170925_A00111_00...</td>\n",
       "      <td>s3://czbiohub-maca/remux_data/170925_A00111_00...</td>\n",
       "    </tr>\n",
       "    <tr>\n",
       "      <th>A1-B000127-3_38_F-1-1_S1</th>\n",
       "      <td>s3://czbiohub-maca/remux_data/170914_A00111_00...</td>\n",
       "      <td>s3://czbiohub-maca/remux_data/170914_A00111_00...</td>\n",
       "    </tr>\n",
       "    <tr>\n",
       "      <th>A1-B000167-3_56_F-1-1_S228</th>\n",
       "      <td>s3://czbiohub-maca/remux_data/170925_A00111_00...</td>\n",
       "      <td>s3://czbiohub-maca/remux_data/170925_A00111_00...</td>\n",
       "    </tr>\n",
       "    <tr>\n",
       "      <th>A1-B000168-3_57_F-1-1_S177</th>\n",
       "      <td>s3://czbiohub-maca/remux_data/170925_A00111_00...</td>\n",
       "      <td>s3://czbiohub-maca/remux_data/170925_A00111_00...</td>\n",
       "    </tr>\n",
       "    <tr>\n",
       "      <th>A1-B000412-3_56_F-1-1_S110</th>\n",
       "      <td>s3://czbiohub-maca/remux_data/170914_A00111_00...</td>\n",
       "      <td>s3://czbiohub-maca/remux_data/170914_A00111_00...</td>\n",
       "    </tr>\n",
       "  </tbody>\n",
       "</table>\n",
       "</div>"
      ],
      "text/plain": [
       "                                                                           R1  \\\n",
       "sample_id                                                                       \n",
       "A1-B000126-3_39_F-1-1_S289  s3://czbiohub-maca/remux_data/170925_A00111_00...   \n",
       "A1-B000127-3_38_F-1-1_S1    s3://czbiohub-maca/remux_data/170914_A00111_00...   \n",
       "A1-B000167-3_56_F-1-1_S228  s3://czbiohub-maca/remux_data/170925_A00111_00...   \n",
       "A1-B000168-3_57_F-1-1_S177  s3://czbiohub-maca/remux_data/170925_A00111_00...   \n",
       "A1-B000412-3_56_F-1-1_S110  s3://czbiohub-maca/remux_data/170914_A00111_00...   \n",
       "\n",
       "                                                                           R2  \n",
       "sample_id                                                                      \n",
       "A1-B000126-3_39_F-1-1_S289  s3://czbiohub-maca/remux_data/170925_A00111_00...  \n",
       "A1-B000127-3_38_F-1-1_S1    s3://czbiohub-maca/remux_data/170914_A00111_00...  \n",
       "A1-B000167-3_56_F-1-1_S228  s3://czbiohub-maca/remux_data/170925_A00111_00...  \n",
       "A1-B000168-3_57_F-1-1_S177  s3://czbiohub-maca/remux_data/170925_A00111_00...  \n",
       "A1-B000412-3_56_F-1-1_S110  s3://czbiohub-maca/remux_data/170914_A00111_00...  "
      ]
     },
     "execution_count": 5,
     "metadata": {},
     "output_type": "execute_result"
    }
   ],
   "source": [
    "import pandas as pd\n",
    "\n",
    "fastqs = pd.read_csv('/mnt/data/fastqs.csv', index_col=0)\n",
    "print(fastqs.shape)\n",
    "fastqs.head()"
   ]
  },
  {
   "cell_type": "code",
   "execution_count": 6,
   "metadata": {},
   "outputs": [
    {
     "data": {
      "text/html": [
       "<div>\n",
       "<style scoped>\n",
       "    .dataframe tbody tr th:only-of-type {\n",
       "        vertical-align: middle;\n",
       "    }\n",
       "\n",
       "    .dataframe tbody tr th {\n",
       "        vertical-align: top;\n",
       "    }\n",
       "\n",
       "    .dataframe thead th {\n",
       "        text-align: right;\n",
       "    }\n",
       "</style>\n",
       "<table border=\"1\" class=\"dataframe\">\n",
       "  <thead>\n",
       "    <tr style=\"text-align: right;\">\n",
       "      <th></th>\n",
       "      <th>R1</th>\n",
       "      <th>R2</th>\n",
       "    </tr>\n",
       "    <tr>\n",
       "      <th>sample_id</th>\n",
       "      <th></th>\n",
       "      <th></th>\n",
       "    </tr>\n",
       "  </thead>\n",
       "  <tbody>\n",
       "    <tr>\n",
       "      <th>A1-B000126-3_39_F-1-1_S289</th>\n",
       "      <td>s3://czbiohub-maca/remux_data/170925_A00111_00...</td>\n",
       "      <td>s3://czbiohub-maca/remux_data/170925_A00111_00...</td>\n",
       "    </tr>\n",
       "    <tr>\n",
       "      <th>A1-B000127-3_38_F-1-1_S1</th>\n",
       "      <td>s3://czbiohub-maca/remux_data/170914_A00111_00...</td>\n",
       "      <td>s3://czbiohub-maca/remux_data/170914_A00111_00...</td>\n",
       "    </tr>\n",
       "    <tr>\n",
       "      <th>A1-B000167-3_56_F-1-1_S228</th>\n",
       "      <td>s3://czbiohub-maca/remux_data/170925_A00111_00...</td>\n",
       "      <td>s3://czbiohub-maca/remux_data/170925_A00111_00...</td>\n",
       "    </tr>\n",
       "    <tr>\n",
       "      <th>A1-B000168-3_57_F-1-1_S177</th>\n",
       "      <td>s3://czbiohub-maca/remux_data/170925_A00111_00...</td>\n",
       "      <td>s3://czbiohub-maca/remux_data/170925_A00111_00...</td>\n",
       "    </tr>\n",
       "    <tr>\n",
       "      <th>A1-B000412-3_56_F-1-1_S110</th>\n",
       "      <td>s3://czbiohub-maca/remux_data/170914_A00111_00...</td>\n",
       "      <td>s3://czbiohub-maca/remux_data/170914_A00111_00...</td>\n",
       "    </tr>\n",
       "  </tbody>\n",
       "</table>\n",
       "</div>"
      ],
      "text/plain": [
       "                                                                           R1  \\\n",
       "sample_id                                                                       \n",
       "A1-B000126-3_39_F-1-1_S289  s3://czbiohub-maca/remux_data/170925_A00111_00...   \n",
       "A1-B000127-3_38_F-1-1_S1    s3://czbiohub-maca/remux_data/170914_A00111_00...   \n",
       "A1-B000167-3_56_F-1-1_S228  s3://czbiohub-maca/remux_data/170925_A00111_00...   \n",
       "A1-B000168-3_57_F-1-1_S177  s3://czbiohub-maca/remux_data/170925_A00111_00...   \n",
       "A1-B000412-3_56_F-1-1_S110  s3://czbiohub-maca/remux_data/170914_A00111_00...   \n",
       "\n",
       "                                                                           R2  \n",
       "sample_id                                                                      \n",
       "A1-B000126-3_39_F-1-1_S289  s3://czbiohub-maca/remux_data/170925_A00111_00...  \n",
       "A1-B000127-3_38_F-1-1_S1    s3://czbiohub-maca/remux_data/170914_A00111_00...  \n",
       "A1-B000167-3_56_F-1-1_S228  s3://czbiohub-maca/remux_data/170925_A00111_00...  \n",
       "A1-B000168-3_57_F-1-1_S177  s3://czbiohub-maca/remux_data/170925_A00111_00...  \n",
       "A1-B000412-3_56_F-1-1_S110  s3://czbiohub-maca/remux_data/170914_A00111_00...  "
      ]
     },
     "execution_count": 6,
     "metadata": {},
     "output_type": "execute_result"
    }
   ],
   "source": [
    "fastqs.head()"
   ]
  },
  {
   "cell_type": "code",
   "execution_count": null,
   "metadata": {},
   "outputs": [],
   "source": []
  }
 ],
 "metadata": {
  "kernelspec": {
   "display_name": "Python 3",
   "language": "python",
   "name": "python3"
  },
  "language_info": {
   "codemirror_mode": {
    "name": "ipython",
    "version": 3
   },
   "file_extension": ".py",
   "mimetype": "text/x-python",
   "name": "python",
   "nbconvert_exporter": "python",
   "pygments_lexer": "ipython3",
   "version": "3.6.3"
  }
 },
 "nbformat": 4,
 "nbformat_minor": 2
}
