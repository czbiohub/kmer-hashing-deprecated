{
 "cells": [
  {
   "cell_type": "code",
   "execution_count": 3,
   "metadata": {},
   "outputs": [
    {
     "name": "stdout",
     "output_type": "stream",
     "text": [
      "2018-10-12 22:36:53  237638698 possorted_genome_bam_scaled=0_num_hashes=10000.sig\r\n",
      "2018-10-12 22:36:25   84626832 possorted_genome_bam_scaled=1000_num_hashes=0.sig\r\n"
     ]
    }
   ],
   "source": [
    "! aws s3 ls s3://olgabot-maca/10x/10X_P4_3/"
   ]
  },
  {
   "cell_type": "code",
   "execution_count": 6,
   "metadata": {},
   "outputs": [
    {
     "name": "stdout",
     "output_type": "stream",
     "text": [
      "move: s3://olgabot-maca/10x/10X_P4_3/possorted_genome_bam_scaled=0_num_hashes=10000.sig to s3://olgabot-maca/10x/10X_P4_3/scaled=0_num_hashes=10000/possorted_genome_bam.sig\n"
     ]
    }
   ],
   "source": [
    "oldplace = 's3://olgabot-maca/10x/10X_P4_3/possorted_genome_bam_scaled=0_num_hashes=10000.sig'\n",
    "newplace = 's3://olgabot-maca/10x/10X_P4_3/scaled=0_num_hashes=10000/possorted_genome_bam.sig'\n",
    "\n",
    "! aws s3 mv $oldplace $newplace"
   ]
  },
  {
   "cell_type": "markdown",
   "metadata": {},
   "source": [
    "## Move bladder signatures\n",
    "\n",
    "bladder data = `10X_P4_3`"
   ]
  },
  {
   "cell_type": "code",
   "execution_count": 7,
   "metadata": {},
   "outputs": [
    {
     "name": "stdout",
     "output_type": "stream",
     "text": [
      "move: s3://olgabot-maca/10x/10X_P4_3/possorted_genome_bam_scaled=1000_num_hashes=0.sig to s3://olgabot-maca/10x/10X_P4_3/scaled=1000_num_hashes=0/possorted_genome_bam.sig\n"
     ]
    }
   ],
   "source": [
    "oldplace = 's3://olgabot-maca/10x/10X_P4_3/possorted_genome_bam_scaled=1000_num_hashes=0.sig'\n",
    "newplace = 's3://olgabot-maca/10x/10X_P4_3/scaled=1000_num_hashes=0/possorted_genome_bam.sig'\n",
    "\n",
    "! aws s3 mv $oldplace $newplace"
   ]
  },
  {
   "cell_type": "code",
   "execution_count": 8,
   "metadata": {},
   "outputs": [
    {
     "name": "stdout",
     "output_type": "stream",
     "text": [
      "                           PRE scaled=0_num_hashes=10000/\r\n",
      "                           PRE scaled=1000_num_hashes=0/\r\n"
     ]
    }
   ],
   "source": [
    "! aws s3 ls s3://olgabot-maca/10x/10X_P4_3/"
   ]
  },
  {
   "cell_type": "code",
   "execution_count": 4,
   "metadata": {},
   "outputs": [
    {
     "name": "stdout",
     "output_type": "stream",
     "text": [
      "upload: ../../../../mnt/data/10X_P7_8/possorted_genome_bam.sig to s3://olgabot-maca/10x/10X_P7_8/scaled=1000_num_hashes=0/possorted_genome_bam.sig\n"
     ]
    }
   ],
   "source": [
    "! aws s3 cp /mnt/data/10X_P7_8/possorted_genome_bam.sig s3://olgabot-maca/10x/10X_P7_8/scaled=1000_num_hashes=0/possorted_genome_bam.sig"
   ]
  },
  {
   "cell_type": "code",
   "execution_count": 2,
   "metadata": {},
   "outputs": [],
   "source": [
    "lung_signatures = 's3://olgabot-maca/10x/10X_P7_8/scaled=1000_num_hashes=0/'\n",
    "bladder_signatures = 's3://olgabot-maca/10x/10X_P4_3/scaled=1000_num_hashes=0/'"
   ]
  },
  {
   "cell_type": "code",
   "execution_count": 3,
   "metadata": {},
   "outputs": [
    {
     "name": "stdout",
     "output_type": "stream",
     "text": [
      "copy: s3://olgabot-maca/10x/10X_P7_8/scaled=1000_num_hashes=0/possorted_genome_bam.sig to s3://olgabot-maca/10x/bladder_and_lung/lung_10X_P7_8_possorted_genome_bam.sig\n",
      "copy: s3://olgabot-maca/10x/10X_P4_3/scaled=1000_num_hashes=0/possorted_genome_bam.sig to s3://olgabot-maca/10x/bladder_and_lung/bladder_10X_P4_3_possorted_genome_bam.sig\n"
     ]
    }
   ],
   "source": [
    "combined_signatures = 's3://olgabot-maca/10x/bladder_and_lung/'\n",
    "\n",
    "lung_id = '10X_P7_8'\n",
    "bladder_id = '10X_P4_3'\n",
    "\n",
    "lung_old = f'{lung_signatures}possorted_genome_bam.sig'\n",
    "lung_new = f's3://olgabot-maca/10x/bladder_and_lung/lung_{lung_id}_possorted_genome_bam.sig'\n",
    "\n",
    "bladder_old = f'{bladder_signatures}possorted_genome_bam.sig'\n",
    "bladder_new = f's3://olgabot-maca/10x/bladder_and_lung/bladder_{bladder_id}_possorted_genome_bam.sig'\n",
    "\n",
    "# ! aws s3 cp --dryrun $lung_old $lung_new\n",
    "# ! aws s3 cp --dryrun $bladder_old $bladder_new\n",
    "! aws s3 cp $lung_old $lung_new\n",
    "! aws s3 cp $bladder_old $bladder_new"
   ]
  },
  {
   "cell_type": "code",
   "execution_count": 4,
   "metadata": {},
   "outputs": [
    {
     "data": {
      "text/plain": [
       "7"
      ]
     },
     "execution_count": 4,
     "metadata": {},
     "output_type": "execute_result"
    }
   ],
   "source": [
    "2+5"
   ]
  },
  {
   "cell_type": "code",
   "execution_count": 9,
   "metadata": {},
   "outputs": [
    {
     "name": "stdout",
     "output_type": "stream",
     "text": [
      "(16, 3)\n"
     ]
    },
    {
     "data": {
      "text/html": [
       "<div>\n",
       "<style scoped>\n",
       "    .dataframe tbody tr th:only-of-type {\n",
       "        vertical-align: middle;\n",
       "    }\n",
       "\n",
       "    .dataframe tbody tr th {\n",
       "        vertical-align: top;\n",
       "    }\n",
       "\n",
       "    .dataframe thead th {\n",
       "        text-align: right;\n",
       "    }\n",
       "</style>\n",
       "<table border=\"1\" class=\"dataframe\">\n",
       "  <thead>\n",
       "    <tr style=\"text-align: right;\">\n",
       "      <th></th>\n",
       "      <th>ksize</th>\n",
       "      <th>sequence_to_compare</th>\n",
       "      <th>ignore_abundance</th>\n",
       "      <th>signatures</th>\n",
       "      <th>output</th>\n",
       "    </tr>\n",
       "    <tr>\n",
       "      <th>id</th>\n",
       "      <th></th>\n",
       "      <th></th>\n",
       "      <th></th>\n",
       "      <th></th>\n",
       "      <th></th>\n",
       "    </tr>\n",
       "  </thead>\n",
       "  <tbody>\n",
       "    <tr>\n",
       "      <th>bladder_and_lung_dna_ksize=21_ignore_abundance=True</th>\n",
       "      <td>21</td>\n",
       "      <td>dna</td>\n",
       "      <td>True</td>\n",
       "      <td>s3://olgabot-maca/10x/bladder_and_lung/</td>\n",
       "      <td>s3://olgabot-maca/10x/sourmash_compare/bladder_and_lung_dna_ksize=21_ignore_abundance=True.csv</td>\n",
       "    </tr>\n",
       "    <tr>\n",
       "      <th>bladder_and_lung_dna_ksize=21_ignore_abundance=True</th>\n",
       "      <td>21</td>\n",
       "      <td>dna</td>\n",
       "      <td>True</td>\n",
       "      <td>s3://olgabot-maca/10x/bladder_and_lung/</td>\n",
       "      <td>s3://olgabot-maca/10x/sourmash_compare/bladder_and_lung_dna_ksize=21_ignore_abundance=True.csv</td>\n",
       "    </tr>\n",
       "    <tr>\n",
       "      <th>bladder_and_lung_protein_ksize=21_ignore_abundance=True</th>\n",
       "      <td>21</td>\n",
       "      <td>protein</td>\n",
       "      <td>True</td>\n",
       "      <td>s3://olgabot-maca/10x/bladder_and_lung/</td>\n",
       "      <td>s3://olgabot-maca/10x/sourmash_compare/bladder_and_lung_protein_ksize=21_ignore_abundance=True.csv</td>\n",
       "    </tr>\n",
       "    <tr>\n",
       "      <th>bladder_and_lung_protein_ksize=21_ignore_abundance=True</th>\n",
       "      <td>21</td>\n",
       "      <td>protein</td>\n",
       "      <td>True</td>\n",
       "      <td>s3://olgabot-maca/10x/bladder_and_lung/</td>\n",
       "      <td>s3://olgabot-maca/10x/sourmash_compare/bladder_and_lung_protein_ksize=21_ignore_abundance=True.csv</td>\n",
       "    </tr>\n",
       "    <tr>\n",
       "      <th>bladder_and_lung_dna_ksize=27_ignore_abundance=True</th>\n",
       "      <td>27</td>\n",
       "      <td>dna</td>\n",
       "      <td>True</td>\n",
       "      <td>s3://olgabot-maca/10x/bladder_and_lung/</td>\n",
       "      <td>s3://olgabot-maca/10x/sourmash_compare/bladder_and_lung_dna_ksize=27_ignore_abundance=True.csv</td>\n",
       "    </tr>\n",
       "  </tbody>\n",
       "</table>\n",
       "</div>"
      ],
      "text/plain": [
       "                                                         ksize  \\\n",
       "id                                                               \n",
       "bladder_and_lung_dna_ksize=21_ignore_abundance=True         21   \n",
       "bladder_and_lung_dna_ksize=21_ignore_abundance=True         21   \n",
       "bladder_and_lung_protein_ksize=21_ignore_abundance=True     21   \n",
       "bladder_and_lung_protein_ksize=21_ignore_abundance=True     21   \n",
       "bladder_and_lung_dna_ksize=27_ignore_abundance=True         27   \n",
       "\n",
       "                                                        sequence_to_compare  \\\n",
       "id                                                                            \n",
       "bladder_and_lung_dna_ksize=21_ignore_abundance=True                     dna   \n",
       "bladder_and_lung_dna_ksize=21_ignore_abundance=True                     dna   \n",
       "bladder_and_lung_protein_ksize=21_ignore_abundance=True             protein   \n",
       "bladder_and_lung_protein_ksize=21_ignore_abundance=True             protein   \n",
       "bladder_and_lung_dna_ksize=27_ignore_abundance=True                     dna   \n",
       "\n",
       "                                                         ignore_abundance  \\\n",
       "id                                                                          \n",
       "bladder_and_lung_dna_ksize=21_ignore_abundance=True                  True   \n",
       "bladder_and_lung_dna_ksize=21_ignore_abundance=True                  True   \n",
       "bladder_and_lung_protein_ksize=21_ignore_abundance=True              True   \n",
       "bladder_and_lung_protein_ksize=21_ignore_abundance=True              True   \n",
       "bladder_and_lung_dna_ksize=27_ignore_abundance=True                  True   \n",
       "\n",
       "                                                                                      signatures  \\\n",
       "id                                                                                                 \n",
       "bladder_and_lung_dna_ksize=21_ignore_abundance=True      s3://olgabot-maca/10x/bladder_and_lung/   \n",
       "bladder_and_lung_dna_ksize=21_ignore_abundance=True      s3://olgabot-maca/10x/bladder_and_lung/   \n",
       "bladder_and_lung_protein_ksize=21_ignore_abundance=True  s3://olgabot-maca/10x/bladder_and_lung/   \n",
       "bladder_and_lung_protein_ksize=21_ignore_abundance=True  s3://olgabot-maca/10x/bladder_and_lung/   \n",
       "bladder_and_lung_dna_ksize=27_ignore_abundance=True      s3://olgabot-maca/10x/bladder_and_lung/   \n",
       "\n",
       "                                                                                                                                                     output  \n",
       "id                                                                                                                                                           \n",
       "bladder_and_lung_dna_ksize=21_ignore_abundance=True          s3://olgabot-maca/10x/sourmash_compare/bladder_and_lung_dna_ksize=21_ignore_abundance=True.csv  \n",
       "bladder_and_lung_dna_ksize=21_ignore_abundance=True          s3://olgabot-maca/10x/sourmash_compare/bladder_and_lung_dna_ksize=21_ignore_abundance=True.csv  \n",
       "bladder_and_lung_protein_ksize=21_ignore_abundance=True  s3://olgabot-maca/10x/sourmash_compare/bladder_and_lung_protein_ksize=21_ignore_abundance=True.csv  \n",
       "bladder_and_lung_protein_ksize=21_ignore_abundance=True  s3://olgabot-maca/10x/sourmash_compare/bladder_and_lung_protein_ksize=21_ignore_abundance=True.csv  \n",
       "bladder_and_lung_dna_ksize=27_ignore_abundance=True          s3://olgabot-maca/10x/sourmash_compare/bladder_and_lung_dna_ksize=27_ignore_abundance=True.csv  "
      ]
     },
     "execution_count": 9,
     "metadata": {},
     "output_type": "execute_result"
    }
   ],
   "source": [
    "from itertools import product\n",
    "import os\n",
    "\n",
    "import pandas as pd\n",
    "pd.options.display.max_colwidth = 500\n",
    "\n",
    "ksizes = 21, 27, 33, 51\n",
    "sequence_to_compare = 'dna', 'protein'\n",
    "ignore_abundances = True, False\n",
    "data = list(product(ksizes, sequence_to_compare, ignore_abundances))\n",
    "\n",
    "\n",
    "def make_output(row):\n",
    "    renamed_folder = row['signatures'].replace('10x', '10x/sourmash_compare').rstrip('/')\n",
    "    \n",
    "    csv = f'{renamed_folder}_{row.sequence_to_compare}_ksize={row.ksize}_ignore_abundance={row.ignore_abundance}.csv'\n",
    "    return csv\n",
    "\n",
    "\n",
    "runs = pd.DataFrame(data, columns=['ksize', 'sequence_to_compare', 'ignore_abundance'])\n",
    "print(runs.shape)\n",
    "runs['ignore_abundance'] = True\n",
    "runs['signatures'] = combined_signatures\n",
    "runs['output'] = runs.apply(make_output, axis=1)\n",
    "runs['id'] = runs.output.map(os.path.basename).str.split('.csv').str[0]\n",
    "runs = runs.set_index('id')\n",
    "runs.head()"
   ]
  },
  {
   "cell_type": "code",
   "execution_count": 10,
   "metadata": {},
   "outputs": [],
   "source": [
    "# samples = pd.DataFrame({'ksizes': ksizes})\n",
    "# samples['signatures'] = lung_signatures\n",
    "# samples['ignore_abundance'] = True\n",
    "# samples['sequence_to_compare'] = 'dna'"
   ]
  },
  {
   "cell_type": "code",
   "execution_count": 11,
   "metadata": {},
   "outputs": [
    {
     "name": "stdout",
     "output_type": "stream",
     "text": [
      "mkdir: cannot create directory ‘../sourmash/10x_bladder_lung_compare’: File exists\n",
      "total 16K\n",
      "drwxrwxr-x  2 ubuntu ubuntu 4.0K Oct 17 22:06 .\n",
      "drwxrwxr-x 14 ubuntu ubuntu 4.0K Oct 17 22:06 ..\n",
      "-rw-rw-r--  1 ubuntu ubuntu   75 Oct 17 22:28 config.json\n",
      "-rw-rw-r--  1 ubuntu ubuntu 3.3K Oct 17 22:28 samples.csv\n"
     ]
    }
   ],
   "source": [
    "import json\n",
    "\n",
    "lines = []\n",
    "\n",
    "program = 'compare'\n",
    "folder = f'../sourmash/10x_bladder_lung_{program}'\n",
    "! mkdir $folder\n",
    "            \n",
    "samples = runs.copy()\n",
    "samples.to_csv(f'{folder}/samples.csv')\n",
    "\n",
    "config = \t{\n",
    "\t\t\"program\": f\"../../reflow/sourmash_{program}.rf\",\n",
    "\t\t\"runs_file\": \"samples.csv\"\n",
    "\t}\n",
    "\n",
    "\n",
    "with open(f'{folder}/config.json', 'w') as f:\n",
    "    json.dump(config, f)\n",
    "    \n",
    "! ls -lha $folder"
   ]
  },
  {
   "cell_type": "code",
   "execution_count": 8,
   "metadata": {},
   "outputs": [
    {
     "name": "stdout",
     "output_type": "stream",
     "text": [
      "id,ksize,sequence_to_compare,signatures,ignore_abundance,output\r\n",
      "bladder_and_lung_dna_ksize=21_ignore_abundance=True,21,dna,s3://olgabot-maca/10x/bladder_and_lung/,True,s3://olgabot-maca/10x/sourmash_compare/bladder_and_lung_dna_ksize=21_ignore_abundance=True.csv\r\n",
      "scaled=1000_num_hashes=0_dna_ksize=21_ignore_abundance=True,21,dna,s3://olgabot-maca/10x/10X_P7_8/scaled=1000_num_hashes=0/,True,s3://olgabot-maca/10x/sourmash_compare/10X_P7_8/scaled=1000_num_hashes=0_dna_ksize=21_ignore_abundance=True.csv\r\n",
      "bladder_and_lung_protein_ksize=21_ignore_abundance=True,21,protein,s3://olgabot-maca/10x/bladder_and_lung/,True,s3://olgabot-maca/10x/sourmash_compare/bladder_and_lung_protein_ksize=21_ignore_abundance=True.csv\r\n",
      "scaled=1000_num_hashes=0_protein_ksize=21_ignore_abundance=True,21,protein,s3://olgabot-maca/10x/10X_P7_8/scaled=1000_num_hashes=0/,True,s3://olgabot-maca/10x/sourmash_compare/10X_P7_8/scaled=1000_num_hashes=0_protein_ksize=21_ignore_abundance=True.csv\r\n",
      "bladder_and_lung_dna_ksize=27_ignore_abundance=True,27,dna,s3://olgabot-maca/10x/bladder_and_lung/,True,s3://olgabot-maca/10x/sourmash_compare/bladder_and_lung_dna_ksize=27_ignore_abundance=True.csv\r\n",
      "scaled=1000_num_hashes=0_dna_ksize=27_ignore_abundance=True,27,dna,s3://olgabot-maca/10x/10X_P7_8/scaled=1000_num_hashes=0/,True,s3://olgabot-maca/10x/sourmash_compare/10X_P7_8/scaled=1000_num_hashes=0_dna_ksize=27_ignore_abundance=True.csv\r\n",
      "bladder_and_lung_protein_ksize=27_ignore_abundance=True,27,protein,s3://olgabot-maca/10x/bladder_and_lung/,True,s3://olgabot-maca/10x/sourmash_compare/bladder_and_lung_protein_ksize=27_ignore_abundance=True.csv\r\n",
      "scaled=1000_num_hashes=0_protein_ksize=27_ignore_abundance=True,27,protein,s3://olgabot-maca/10x/10X_P7_8/scaled=1000_num_hashes=0/,True,s3://olgabot-maca/10x/sourmash_compare/10X_P7_8/scaled=1000_num_hashes=0_protein_ksize=27_ignore_abundance=True.csv\r\n",
      "bladder_and_lung_dna_ksize=33_ignore_abundance=True,33,dna,s3://olgabot-maca/10x/bladder_and_lung/,True,s3://olgabot-maca/10x/sourmash_compare/bladder_and_lung_dna_ksize=33_ignore_abundance=True.csv\r\n"
     ]
    }
   ],
   "source": [
    "! head $folder/samples.csv"
   ]
  },
  {
   "cell_type": "code",
   "execution_count": null,
   "metadata": {},
   "outputs": [],
   "source": []
  }
 ],
 "metadata": {
  "kernelspec": {
   "display_name": "Python 3",
   "language": "python",
   "name": "python3"
  },
  "language_info": {
   "codemirror_mode": {
    "name": "ipython",
    "version": 3
   },
   "file_extension": ".py",
   "mimetype": "text/x-python",
   "name": "python",
   "nbconvert_exporter": "python",
   "pygments_lexer": "ipython3",
   "version": "3.6.5"
  }
 },
 "nbformat": 4,
 "nbformat_minor": 2
}
