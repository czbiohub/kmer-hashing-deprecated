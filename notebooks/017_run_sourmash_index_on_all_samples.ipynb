{
 "cells": [
  {
   "cell_type": "code",
   "execution_count": 1,
   "metadata": {
    "collapsed": true
   },
   "outputs": [],
   "source": [
    "import pandas as pd"
   ]
  },
  {
   "cell_type": "code",
   "execution_count": 2,
   "metadata": {},
   "outputs": [
    {
     "data": {
      "text/html": [
       "<div>\n",
       "<style scoped>\n",
       "    .dataframe tbody tr th:only-of-type {\n",
       "        vertical-align: middle;\n",
       "    }\n",
       "\n",
       "    .dataframe tbody tr th {\n",
       "        vertical-align: top;\n",
       "    }\n",
       "\n",
       "    .dataframe thead th {\n",
       "        text-align: right;\n",
       "    }\n",
       "</style>\n",
       "<table border=\"1\" class=\"dataframe\">\n",
       "  <thead>\n",
       "    <tr style=\"text-align: right;\">\n",
       "      <th></th>\n",
       "      <th>id</th>\n",
       "      <th>read1</th>\n",
       "      <th>read2</th>\n",
       "      <th>name</th>\n",
       "      <th>output</th>\n",
       "      <th>ksizes</th>\n",
       "      <th>protein</th>\n",
       "      <th>scaled</th>\n",
       "      <th>trim_low_abundance_kmers</th>\n",
       "    </tr>\n",
       "  </thead>\n",
       "  <tbody>\n",
       "    <tr>\n",
       "      <th>0</th>\n",
       "      <td>A1-B000126-3_39_F-1-1</td>\n",
       "      <td>s3://czbiohub-maca/remux_data/170925_A00111_00...</td>\n",
       "      <td>s3://czbiohub-maca/remux_data/170925_A00111_00...</td>\n",
       "      <td>cell_ontology_class:epidermal_cell|tissue:Skin...</td>\n",
       "      <td>s3://olgabot-maca/facs/sourmash_compute_all/A1...</td>\n",
       "      <td>27</td>\n",
       "      <td>True</td>\n",
       "      <td>1000</td>\n",
       "      <td>True</td>\n",
       "    </tr>\n",
       "    <tr>\n",
       "      <th>1</th>\n",
       "      <td>A1-B000127-3_38_F-1-1</td>\n",
       "      <td>s3://czbiohub-maca/remux_data/170914_A00111_00...</td>\n",
       "      <td>s3://czbiohub-maca/remux_data/170914_A00111_00...</td>\n",
       "      <td>cell_ontology_class:endothelial_cell|tissue:Fa...</td>\n",
       "      <td>s3://olgabot-maca/facs/sourmash_compute_all/A1...</td>\n",
       "      <td>27</td>\n",
       "      <td>True</td>\n",
       "      <td>1000</td>\n",
       "      <td>True</td>\n",
       "    </tr>\n",
       "    <tr>\n",
       "      <th>2</th>\n",
       "      <td>A1-B000167-3_56_F-1-1</td>\n",
       "      <td>s3://czbiohub-maca/remux_data/170925_A00111_00...</td>\n",
       "      <td>s3://czbiohub-maca/remux_data/170925_A00111_00...</td>\n",
       "      <td>cell_ontology_class:basal_cell|tissue:Mammary_...</td>\n",
       "      <td>s3://olgabot-maca/facs/sourmash_compute_all/A1...</td>\n",
       "      <td>27</td>\n",
       "      <td>True</td>\n",
       "      <td>1000</td>\n",
       "      <td>True</td>\n",
       "    </tr>\n",
       "    <tr>\n",
       "      <th>3</th>\n",
       "      <td>A1-B000168-3_57_F-1-1</td>\n",
       "      <td>s3://czbiohub-maca/remux_data/170925_A00111_00...</td>\n",
       "      <td>s3://czbiohub-maca/remux_data/170925_A00111_00...</td>\n",
       "      <td>A1-B000168-3_57_F-1-1</td>\n",
       "      <td>s3://olgabot-maca/facs/sourmash_compute_all/A1...</td>\n",
       "      <td>27</td>\n",
       "      <td>True</td>\n",
       "      <td>1000</td>\n",
       "      <td>True</td>\n",
       "    </tr>\n",
       "    <tr>\n",
       "      <th>4</th>\n",
       "      <td>A1-B000412-3_56_F-1-1</td>\n",
       "      <td>s3://czbiohub-maca/remux_data/170914_A00111_00...</td>\n",
       "      <td>s3://czbiohub-maca/remux_data/170914_A00111_00...</td>\n",
       "      <td>cell_ontology_class:endothelial_cell|tissue:He...</td>\n",
       "      <td>s3://olgabot-maca/facs/sourmash_compute_all/A1...</td>\n",
       "      <td>27</td>\n",
       "      <td>True</td>\n",
       "      <td>1000</td>\n",
       "      <td>True</td>\n",
       "    </tr>\n",
       "  </tbody>\n",
       "</table>\n",
       "</div>"
      ],
      "text/plain": [
       "                      id                                              read1  \\\n",
       "0  A1-B000126-3_39_F-1-1  s3://czbiohub-maca/remux_data/170925_A00111_00...   \n",
       "1  A1-B000127-3_38_F-1-1  s3://czbiohub-maca/remux_data/170914_A00111_00...   \n",
       "2  A1-B000167-3_56_F-1-1  s3://czbiohub-maca/remux_data/170925_A00111_00...   \n",
       "3  A1-B000168-3_57_F-1-1  s3://czbiohub-maca/remux_data/170925_A00111_00...   \n",
       "4  A1-B000412-3_56_F-1-1  s3://czbiohub-maca/remux_data/170914_A00111_00...   \n",
       "\n",
       "                                               read2  \\\n",
       "0  s3://czbiohub-maca/remux_data/170925_A00111_00...   \n",
       "1  s3://czbiohub-maca/remux_data/170914_A00111_00...   \n",
       "2  s3://czbiohub-maca/remux_data/170925_A00111_00...   \n",
       "3  s3://czbiohub-maca/remux_data/170925_A00111_00...   \n",
       "4  s3://czbiohub-maca/remux_data/170914_A00111_00...   \n",
       "\n",
       "                                                name  \\\n",
       "0  cell_ontology_class:epidermal_cell|tissue:Skin...   \n",
       "1  cell_ontology_class:endothelial_cell|tissue:Fa...   \n",
       "2  cell_ontology_class:basal_cell|tissue:Mammary_...   \n",
       "3                              A1-B000168-3_57_F-1-1   \n",
       "4  cell_ontology_class:endothelial_cell|tissue:He...   \n",
       "\n",
       "                                              output  ksizes  protein  scaled  \\\n",
       "0  s3://olgabot-maca/facs/sourmash_compute_all/A1...      27     True    1000   \n",
       "1  s3://olgabot-maca/facs/sourmash_compute_all/A1...      27     True    1000   \n",
       "2  s3://olgabot-maca/facs/sourmash_compute_all/A1...      27     True    1000   \n",
       "3  s3://olgabot-maca/facs/sourmash_compute_all/A1...      27     True    1000   \n",
       "4  s3://olgabot-maca/facs/sourmash_compute_all/A1...      27     True    1000   \n",
       "\n",
       "   trim_low_abundance_kmers  \n",
       "0                      True  \n",
       "1                      True  \n",
       "2                      True  \n",
       "3                      True  \n",
       "4                      True  "
      ]
     },
     "execution_count": 2,
     "metadata": {},
     "output_type": "execute_result"
    }
   ],
   "source": [
    "compute_samples = pd.read_csv('../sourmash/maca/facs_compute_v7_all/samples.csv')\n",
    "compute_samples.head()"
   ]
  },
  {
   "cell_type": "code",
   "execution_count": 5,
   "metadata": {},
   "outputs": [
    {
     "data": {
      "text/plain": [
       "'s3://olgabot-maca/facs/sourmash_compute_all'"
      ]
     },
     "execution_count": 5,
     "metadata": {},
     "output_type": "execute_result"
    }
   ],
   "source": [
    "import os\n",
    "\n",
    "signatures_dir = compute_samples['output'].map(os.path.dirname).unique()[0]\n",
    "signatures_dir"
   ]
  },
  {
   "cell_type": "code",
   "execution_count": 9,
   "metadata": {},
   "outputs": [
    {
     "data": {
      "text/plain": [
       "array([27])"
      ]
     },
     "execution_count": 9,
     "metadata": {},
     "output_type": "execute_result"
    }
   ],
   "source": [
    "ksizes = compute_samples['ksizes'].unique()\n",
    "ksizes"
   ]
  },
  {
   "cell_type": "code",
   "execution_count": 8,
   "metadata": {
    "collapsed": true
   },
   "outputs": [],
   "source": [
    "sequences_to_compare = ['protein', 'dna']"
   ]
  },
  {
   "cell_type": "code",
   "execution_count": 10,
   "metadata": {
    "collapsed": true
   },
   "outputs": [],
   "source": [
    "import itertools"
   ]
  },
  {
   "cell_type": "code",
   "execution_count": 18,
   "metadata": {},
   "outputs": [],
   "source": [
    "output = 's3://olgabot-maca/facs/sourmash_index_all/'"
   ]
  },
  {
   "cell_type": "code",
   "execution_count": 23,
   "metadata": {
    "collapsed": true
   },
   "outputs": [],
   "source": [
    "pd.options.display.max_colwidth = 100"
   ]
  },
  {
   "cell_type": "code",
   "execution_count": 27,
   "metadata": {},
   "outputs": [
    {
     "data": {
      "text/html": [
       "<div>\n",
       "<style scoped>\n",
       "    .dataframe tbody tr th:only-of-type {\n",
       "        vertical-align: middle;\n",
       "    }\n",
       "\n",
       "    .dataframe tbody tr th {\n",
       "        vertical-align: top;\n",
       "    }\n",
       "\n",
       "    .dataframe thead th {\n",
       "        text-align: right;\n",
       "    }\n",
       "</style>\n",
       "<table border=\"1\" class=\"dataframe\">\n",
       "  <thead>\n",
       "    <tr style=\"text-align: right;\">\n",
       "      <th></th>\n",
       "      <th>sequence_to_compare</th>\n",
       "      <th>ksize</th>\n",
       "      <th>signatures</th>\n",
       "      <th>output</th>\n",
       "    </tr>\n",
       "    <tr>\n",
       "      <th>id</th>\n",
       "      <th></th>\n",
       "      <th></th>\n",
       "      <th></th>\n",
       "      <th></th>\n",
       "    </tr>\n",
       "  </thead>\n",
       "  <tbody>\n",
       "    <tr>\n",
       "      <th>k27_protein</th>\n",
       "      <td>protein</td>\n",
       "      <td>27</td>\n",
       "      <td>s3://olgabot-maca/facs/sourmash_compute_all</td>\n",
       "      <td>s3://olgabot-maca/facs/sourmash_index_all/k27_protein.sbt.json</td>\n",
       "    </tr>\n",
       "    <tr>\n",
       "      <th>k27_dna</th>\n",
       "      <td>dna</td>\n",
       "      <td>27</td>\n",
       "      <td>s3://olgabot-maca/facs/sourmash_compute_all</td>\n",
       "      <td>s3://olgabot-maca/facs/sourmash_index_all/k27_dna.sbt.json</td>\n",
       "    </tr>\n",
       "  </tbody>\n",
       "</table>\n",
       "</div>"
      ],
      "text/plain": [
       "            sequence_to_compare  ksize  \\\n",
       "id                                       \n",
       "k27_protein             protein     27   \n",
       "k27_dna                     dna     27   \n",
       "\n",
       "                                              signatures  \\\n",
       "id                                                         \n",
       "k27_protein  s3://olgabot-maca/facs/sourmash_compute_all   \n",
       "k27_dna      s3://olgabot-maca/facs/sourmash_compute_all   \n",
       "\n",
       "                                                                     output  \n",
       "id                                                                           \n",
       "k27_protein  s3://olgabot-maca/facs/sourmash_index_all/k27_protein.sbt.json  \n",
       "k27_dna          s3://olgabot-maca/facs/sourmash_index_all/k27_dna.sbt.json  "
      ]
     },
     "execution_count": 27,
     "metadata": {},
     "output_type": "execute_result"
    }
   ],
   "source": [
    "data = list(itertools.product(sequences_to_compare, ksizes))\n",
    "\n",
    "columns = ['sequence_to_compare', 'ksize']\n",
    "\n",
    "samples = pd.DataFrame(data, columns=columns)\n",
    "\n",
    "samples['signatures'] = signatures_dir\n",
    "samples['id'] = samples.apply(lambda x: 'k{ksize}_{sequence_to_compare}'.format(**x), axis=1)\n",
    "samples['output'] = samples.apply(lambda x: output + '{id}.sbt.json'.format(**x), axis=1)\n",
    "samples = samples.set_index('id')\n",
    "# sapmles['ksize'] = \n",
    "samples.head()"
   ]
  },
  {
   "cell_type": "code",
   "execution_count": 29,
   "metadata": {},
   "outputs": [
    {
     "name": "stdout",
     "output_type": "stream",
     "text": [
      "==> ../sourmash/maca/facs_index_v7_all/samples.csv <==\r\n",
      "id,sequence_to_compare,ksize,signatures,output\r\n",
      "k27_protein,protein,27,s3://olgabot-maca/facs/sourmash_compute_all,s3://olgabot-maca/facs/sourmash_index_all/k27_protein.sbt.json\r\n",
      "k27_dna,dna,27,s3://olgabot-maca/facs/sourmash_compute_all,s3://olgabot-maca/facs/sourmash_index_all/k27_dna.sbt.json\r\n",
      "\r\n",
      "==> ../sourmash/maca/facs_index_v7_all/config.json <==\r\n",
      "{\"program\": \"../../../reflow/sourmash_index.rf\", \"runs_file\": \"samples.csv\"}"
     ]
    }
   ],
   "source": [
    "import json\n",
    "\n",
    "folder = '../sourmash/maca/facs_index_v7_all'\n",
    "\n",
    "! mkdir -p $folder\n",
    "samples.to_csv(f'{folder}/samples.csv')\n",
    "\n",
    "config = \t{\n",
    "\t\t\"program\": \"../../../reflow/sourmash_index.rf\",\n",
    "\t\t\"runs_file\": \"samples.csv\"\n",
    "\t}\n",
    "\n",
    "with open(f'{folder}/config.json', 'w') as f:\n",
    "    json.dump(config, f)\n",
    "    \n",
    "! head -n 3 $folder/samples.csv $folder/config.json"
   ]
  },
  {
   "cell_type": "code",
   "execution_count": null,
   "metadata": {
    "collapsed": true
   },
   "outputs": [],
   "source": []
  }
 ],
 "metadata": {
  "kernelspec": {
   "display_name": "Python [default]",
   "language": "python",
   "name": "python3"
  },
  "language_info": {
   "codemirror_mode": {
    "name": "ipython",
    "version": 3
   },
   "file_extension": ".py",
   "mimetype": "text/x-python",
   "name": "python",
   "nbconvert_exporter": "python",
   "pygments_lexer": "ipython3",
   "version": "3.6.2"
  }
 },
 "nbformat": 4,
 "nbformat_minor": 2
}
