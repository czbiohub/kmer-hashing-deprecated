{
 "cells": [
  {
   "cell_type": "code",
   "execution_count": 31,
   "metadata": {},
   "outputs": [
    {
     "name": "stdout",
     "output_type": "stream",
     "text": [
      "scanpy==1.3.1 anndata==0.6.10 numpy==1.14.3 scipy==1.1.0 pandas==0.23.4 scikit-learn==0.19.2 statsmodels==0.9.0 python-igraph==0.7.1 louvain==0.6.1 \n"
     ]
    }
   ],
   "source": [
    "import numpy as np\n",
    "import pandas as pd\n",
    "import matplotlib.pyplot as pl\n",
    "import scanpy.api as sc\n",
    "\n",
    "sc.settings.verbosity = 1  # verbosity: errors (0), warnings (1), info (2), hints (3)\n",
    "sc.settings.set_figure_params(dpi=80)  # low dpi (dots per inch) yields small inline figures\n",
    "sc.logging.print_versions()\n",
    "tenx_run = '10X_P4_3'\n",
    "path = f'/mnt/data/{tenx_run}/'\n",
    "\n",
    "results_file = f'{path}/{tenx_run}.h5ad'\n",
    "\n",
    "adata = sc.read(path + 'matrix.mtx', cache=True).T  # transpose the data\n",
    "adata.var_names = pd.read_csv(path + 'genes.tsv', header=None, sep='\\t')[1]\n",
    "adata.obs_names = pd.read_csv(path + 'barcodes.tsv', header=None)[0]"
   ]
  },
  {
   "cell_type": "code",
   "execution_count": 64,
   "metadata": {},
   "outputs": [
    {
     "data": {
      "text/plain": [
       "Index(['AAAGTAGAGATGCCAG-1', 'AACCGCGTCCAACCAA-1', 'AACTCCCGTCGGGTCT-1',\n",
       "       'AACTCTTAGTTGCAGG-1', 'AACTCTTTCATAACCG-1', 'AAGACCTAGATCCGAG-1',\n",
       "       'AAGACCTAGGTGGGTT-1', 'AAGGAGCGTGCAACTT-1', 'AAGTCTGAGATAGTCA-1',\n",
       "       'ACAGCTATCATACGGT-1',\n",
       "       ...\n",
       "       'TTCTACAAGGCAGTCA-1', 'TTGAACGTCTCTTATG-1', 'TTGCCGTCACGCCAGT-1',\n",
       "       'TTGGAACGTTAGGGTG-1', 'TTGGCAACATGATCCA-1', 'TTGGCAAGTCCGTTAA-1',\n",
       "       'TTGTAGGCATCCGGGT-1', 'TTTACTGCACACGCTG-1', 'TTTACTGCAGGACGTA-1',\n",
       "       'TTTGTCAGTTGCGTTA-1'],\n",
       "      dtype='object', name=0, length=149)"
      ]
     },
     "execution_count": 64,
     "metadata": {},
     "output_type": "execute_result"
    }
   ],
   "source": [
    "adata.obs_names"
   ]
  },
  {
   "cell_type": "code",
   "execution_count": 63,
   "metadata": {},
   "outputs": [
    {
     "data": {
      "text/plain": [
       "Index(['Xkr4', 'Rp1', 'Sox17', 'Mrpl15', 'Lypla1', 'Tcea1', 'Rgs20', 'Atp6v1h',\n",
       "       'Oprk1', 'Npbwr1',\n",
       "       ...\n",
       "       'ERCC-00163', 'ERCC-00164', 'ERCC-00165', 'ERCC-00168', 'ERCC-00170',\n",
       "       'ERCC-00171', 'Gfp_transgene', 'Cre_transgene', 'Tdtom_transgene',\n",
       "       'zsGreen_transgene'],\n",
       "      dtype='object', name=1, length=23433)"
      ]
     },
     "execution_count": 63,
     "metadata": {},
     "output_type": "execute_result"
    }
   ],
   "source": [
    "adata.var_names"
   ]
  },
  {
   "cell_type": "code",
   "execution_count": 32,
   "metadata": {},
   "outputs": [
    {
     "data": {
      "text/plain": [
       "AnnData object with n_obs × n_vars = 149 × 23433 "
      ]
     },
     "execution_count": 32,
     "metadata": {},
     "output_type": "execute_result"
    }
   ],
   "source": [
    "adata"
   ]
  },
  {
   "cell_type": "code",
   "execution_count": 33,
   "metadata": {},
   "outputs": [
    {
     "name": "stdout",
     "output_type": "stream",
     "text": [
      "2017-10-17 10:34:24   17952446 B000126.htseq-count-by-cell.csv\n",
      "2017-10-17 10:34:24   17472437 B000127.htseq-count-by-cell.csv\n",
      "2017-10-17 10:34:24    9342072 B000166.htseq-count-by-cell.csv\n",
      "2017-10-17 10:34:24   12556466 B000167.htseq-count-by-cell.csv\n",
      "2017-10-17 10:34:24   13003437 B000168.htseq-count-by-cell.csv\n",
      "2017-10-17 10:34:39    3436244 B000404.htseq-count-by-cell.csv\n",
      "2017-10-17 10:34:41   10815682 B000412.htseq-count-by-cell.csv\n",
      "2017-10-17 10:34:49   10653949 B000610.htseq-count-by-cell.csv\n",
      "2017-10-17 10:34:50    1922093 B000621.htseq-count-by-cell.csv\n",
      "2017-10-17 10:34:51   14258117 B000633.htseq-count-by-cell.csv\n",
      "2017-10-17 10:34:52    9405394 B000634.htseq-count-by-cell.csv\n",
      "2017-10-17 10:34:59   16489061 B000636.htseq-count-by-cell.csv\n",
      "2017-10-17 10:35:01   15289684 B000825.htseq-count-by-cell.csv\n",
      "2017-10-17 10:35:13   17537394 B000826.htseq-count-by-cell.csv\n",
      "2017-10-17 10:35:14   17030910 B000827.htseq-count-by-cell.csv\n",
      "2017-10-17 10:35:16   15897793 B000971.htseq-count-by-cell.csv\n",
      "2017-10-17 10:35:21   15233688 B001176.htseq-count-by-cell.csv\n",
      "2017-10-17 10:35:31    7022520 B001216.htseq-count-by-cell.csv\n",
      "2017-10-17 10:35:39    2462338 B001688.htseq-count-by-cell.csv\n",
      "2017-10-17 10:35:54   17294507 B001689.htseq-count-by-cell.csv\n",
      "2017-10-17 10:35:54   11521550 B001717.htseq-count-by-cell.csv\n",
      "2017-10-17 10:35:54   15451260 B001750.htseq-count-by-cell.csv\n",
      "2017-10-17 10:35:54    7325629 B001960.htseq-count-by-cell.csv\n",
      "2017-10-17 10:35:57   17233123 B002010.htseq-count-by-cell.csv\n",
      "2017-10-17 10:35:58   11150176 B002011.htseq-count-by-cell.csv\n",
      "2017-10-17 10:36:25   12433582 B002309.htseq-count-by-cell.csv\n",
      "2017-10-17 10:36:25   12546243 B002314.htseq-count-by-cell.csv\n",
      "2017-10-17 10:36:25   14672514 B002421.htseq-count-by-cell.csv\n",
      "2017-10-17 10:36:26   15471051 B002423.htseq-count-by-cell.csv\n",
      "2017-10-17 10:36:27   17937122 B002427.htseq-count-by-cell.csv\n",
      "2017-10-17 10:36:50   16365671 B002428.htseq-count-by-cell.csv\n",
      "2017-10-17 10:36:50   11182106 B002429.htseq-count-by-cell.csv\n",
      "2017-10-17 10:36:53    6040858 B002430.htseq-count-by-cell.csv\n",
      "2017-10-17 10:36:55   13028075 B002431.htseq-count-by-cell.csv\n",
      "2017-10-17 10:36:56   16723965 B002432.htseq-count-by-cell.csv\n",
      "2017-10-17 10:37:11   16245105 B002433.htseq-count-by-cell.csv\n",
      "2017-10-17 10:37:16   13286391 B002435.htseq-count-by-cell.csv\n",
      "2017-10-17 10:37:17   16786781 B002436.htseq-count-by-cell.csv\n",
      "2017-10-17 10:37:18   11273999 B002437.htseq-count-by-cell.csv\n",
      "2017-10-17 10:37:37   15631387 B002438.htseq-count-by-cell.csv\n",
      "2017-10-17 10:37:38    5041797 B002707.htseq-count-by-cell.csv\n",
      "2017-10-17 10:37:39   14000366 B002762.htseq-count-by-cell.csv\n",
      "2017-10-17 10:37:41   15334448 B002764.htseq-count-by-cell.csv\n",
      "2017-10-17 10:37:48   16615233 B002765.htseq-count-by-cell.csv\n",
      "2017-10-17 10:38:03   10600847 B002769.htseq-count-by-cell.csv\n",
      "2017-10-17 10:38:07    6412403 B002771.htseq-count-by-cell.csv\n",
      "2017-10-17 10:38:07    8250738 B002775.htseq-count-by-cell.csv\n",
      "2017-10-17 10:38:08   14264581 B002777.htseq-count-by-cell.csv\n",
      "2017-10-17 10:38:08    7556719 B002780.htseq-count-by-cell.csv\n",
      "2017-10-17 10:38:21   12804173 B002954.htseq-count-by-cell.csv\n",
      "2017-10-17 10:38:21   11291959 B002955.htseq-count-by-cell.csv\n",
      "2017-10-17 10:38:21    4951231 B003274.htseq-count-by-cell.csv\n",
      "2017-10-17 10:38:28    5069535 B003275.htseq-count-by-cell.csv\n",
      "2017-10-17 10:38:32   15903174 B003277.htseq-count-by-cell.csv\n",
      "2017-10-17 10:38:32    7823504 B003278.htseq-count-by-cell.csv\n",
      "2017-10-17 10:38:50   15520598 B003279.htseq-count-by-cell.csv\n",
      "2017-10-17 10:38:51   15438343 B003281.htseq-count-by-cell.csv\n",
      "2017-10-17 10:38:51   18172450 B003283.htseq-count-by-cell.csv\n",
      "2017-10-17 10:38:53    6846947 B003284.htseq-count-by-cell.csv\n",
      "2017-10-17 10:38:56    2392106 B003285.htseq-count-by-cell.csv\n",
      "2017-10-17 10:39:09    6323569 B003290.htseq-count-by-cell.csv\n",
      "2017-10-17 10:39:21   17367651 B003291.htseq-count-by-cell.csv\n",
      "2017-10-17 10:39:21   16152881 B003292.htseq-count-by-cell.csv\n",
      "2017-10-17 10:39:22   15221176 B003728.htseq-count-by-cell.csv\n",
      "2017-10-17 10:39:22   17841934 D041894.htseq-count-by-cell.csv\n",
      "2017-10-17 10:39:25   17745716 D041904.htseq-count-by-cell.csv\n",
      "2017-10-17 10:39:50   18105810 D041911.htseq-count-by-cell.csv\n",
      "2017-10-17 10:39:52   14051438 D041912.htseq-count-by-cell.csv\n",
      "2017-10-17 10:39:54   16836589 D041914.htseq-count-by-cell.csv\n",
      "2017-10-17 10:39:54   16014859 D042044.htseq-count-by-cell.csv\n",
      "2017-10-17 10:40:08    3940385 D042103.htseq-count-by-cell.csv\n",
      "2017-10-17 10:40:20   17164276 D042105.htseq-count-by-cell.csv\n",
      "2017-10-17 10:40:20    7770394 D042180.htseq-count-by-cell.csv\n",
      "2017-10-17 10:40:24    5366339 D042185.htseq-count-by-cell.csv\n",
      "2017-10-17 10:40:25   17174589 D042186.htseq-count-by-cell.csv\n",
      "2017-10-17 10:40:25   15494813 D042193.htseq-count-by-cell.csv\n",
      "2017-10-17 10:40:25   18161370 D042253.htseq-count-by-cell.csv\n",
      "2017-10-17 10:40:31    6837409 D042467.htseq-count-by-cell.csv\n",
      "2017-10-17 10:40:48    4818283 D042473.htseq-count-by-cell.csv\n",
      "2017-10-17 10:41:00   11625230 D042474.htseq-count-by-cell.csv\n",
      "2017-10-17 10:41:01   14693827 D042475.htseq-count-by-cell.csv\n",
      "2017-10-17 10:41:01   13168849 D042479.htseq-count-by-cell.csv\n",
      "2017-10-17 10:41:04    8068701 D043520.htseq-count-by-cell.csv\n",
      "2017-10-17 10:41:12   11543922 D043522.htseq-count-by-cell.csv\n",
      "2017-10-17 10:41:12   12936981 D043526.htseq-count-by-cell.csv\n",
      "2017-10-17 10:41:26   11076109 D045058.htseq-count-by-cell.csv\n",
      "2017-10-17 10:41:26    9859675 D045064.htseq-count-by-cell.csv\n",
      "2017-10-17 10:41:28   13964898 D045067.htseq-count-by-cell.csv\n",
      "2017-10-17 10:41:34    7118567 D045139.htseq-count-by-cell.csv\n",
      "2017-10-17 10:41:42   17202879 D045140.htseq-count-by-cell.csv\n",
      "2017-10-17 10:41:48    4772700 MAA000377.htseq-count-by-cell.csv\n",
      "2017-10-17 10:41:48    9792894 MAA000385.htseq-count-by-cell.csv\n",
      "2017-10-17 10:41:50   13653594 MAA000386.htseq-count-by-cell.csv\n",
      "2017-10-17 10:41:51   11456324 MAA000388.htseq-count-by-cell.csv\n",
      "2017-10-17 10:41:58    9747655 MAA000398.htseq-count-by-cell.csv\n",
      "2017-10-17 10:42:16   13816837 MAA000399.htseq-count-by-cell.csv\n",
      "2017-10-17 10:42:17    8877846 MAA000400.htseq-count-by-cell.csv\n",
      "2017-10-17 10:42:17   16684208 MAA000409.htseq-count-by-cell.csv\n",
      "2017-10-17 10:42:18    2927026 MAA000424.htseq-count-by-cell.csv\n",
      "2017-10-17 10:42:21   17654835 MAA000427.htseq-count-by-cell.csv\n",
      "2017-10-17 10:42:22   17289315 MAA000435.htseq-count-by-cell.csv\n",
      "2017-10-17 10:42:41   13638261 MAA000439.htseq-count-by-cell.csv\n",
      "2017-10-17 10:42:42    5459647 MAA000441.htseq-count-by-cell.csv\n",
      "2017-10-17 10:42:44    8982561 MAA000442.htseq-count-by-cell.csv\n",
      "2017-10-17 10:42:49    9106687 MAA000452.htseq-count-by-cell.csv\n",
      "2017-10-17 10:42:52   17724203 MAA000487.htseq-count-by-cell.csv\n",
      "2017-10-17 10:43:02   14741224 MAA000496.htseq-count-by-cell.csv\n",
      "2017-10-17 10:43:04   10036470 MAA000508.htseq-count-by-cell.csv\n",
      "2017-10-17 10:43:05   11139362 MAA000510.htseq-count-by-cell.csv\n",
      "2017-10-17 10:43:07   13289451 MAA000526.htseq-count-by-cell.csv\n",
      "2017-10-17 10:43:30   15015999 MAA000530.htseq-count-by-cell.csv\n",
      "2017-10-17 10:43:30    9542769 MAA000531.htseq-count-by-cell.csv\n",
      "2017-10-17 10:43:30    3885874 MAA000538.htseq-count-by-cell.csv\n",
      "2017-10-17 10:43:32    4137796 MAA000545.htseq-count-by-cell.csv\n",
      "2017-10-17 10:43:32    7377100 MAA000549.htseq-count-by-cell.csv\n",
      "2017-10-17 10:43:39    3558647 MAA000550.htseq-count-by-cell.csv\n",
      "2017-10-17 10:43:43    2875294 MAA000553.htseq-count-by-cell.csv\n",
      "2017-10-17 10:43:45   15384644 MAA000554.htseq-count-by-cell.csv\n",
      "2017-10-17 10:43:46   10580251 MAA000556.htseq-count-by-cell.csv\n",
      "2017-10-17 10:43:46   16047667 MAA000559.htseq-count-by-cell.csv\n",
      "2017-10-17 10:43:47   14919018 MAA000560.htseq-count-by-cell.csv\n",
      "2017-10-17 10:43:52    5320601 MAA000561.htseq-count-by-cell.csv\n",
      "2017-10-17 10:44:02    5302979 MAA000563.htseq-count-by-cell.csv\n",
      "2017-10-17 10:44:08    8349899 MAA000564.htseq-count-by-cell.csv\n",
      "2017-10-17 10:44:14    8411406 MAA000570.htseq-count-by-cell.csv\n",
      "2017-10-17 10:44:14    4938104 MAA000571.htseq-count-by-cell.csv\n",
      "2017-10-17 10:44:20   11576272 MAA000572.htseq-count-by-cell.csv\n",
      "2017-10-17 10:44:20    7706591 MAA000573.htseq-count-by-cell.csv\n",
      "2017-10-17 10:44:25   13465389 MAA000574.htseq-count-by-cell.csv\n",
      "2017-10-17 10:44:25   15811633 MAA000577.htseq-count-by-cell.csv\n",
      "2017-10-17 10:44:26    5547241 MAA000578.htseq-count-by-cell.csv\n",
      "2017-10-17 10:44:34   16989381 MAA000581.htseq-count-by-cell.csv\n",
      "2017-10-17 10:44:45   12658214 MAA000583.htseq-count-by-cell.csv\n",
      "2017-10-17 10:44:45   11437605 MAA000586.htseq-count-by-cell.csv\n",
      "2017-10-17 10:44:51    7242778 MAA000587.htseq-count-by-cell.csv\n",
      "2017-10-17 10:44:55    5930787 MAA000589.htseq-count-by-cell.csv\n",
      "2017-10-17 10:45:03   14033889 MAA000590.htseq-count-by-cell.csv\n",
      "2017-10-17 10:45:07    5212802 MAA000591.htseq-count-by-cell.csv\n",
      "2017-10-17 10:45:14    9093597 MAA000592.htseq-count-by-cell.csv\n",
      "2017-10-17 10:45:14    4999873 MAA000593.htseq-count-by-cell.csv\n",
      "2017-10-17 10:45:14    9144134 MAA000594.htseq-count-by-cell.csv\n",
      "2017-10-17 10:45:14    8187578 MAA000595.htseq-count-by-cell.csv\n",
      "2017-10-17 10:45:17   15718282 MAA000596.htseq-count-by-cell.csv\n",
      "2017-10-17 10:45:22    8621639 MAA000597.htseq-count-by-cell.csv\n",
      "2017-10-17 10:45:26    1613294 MAA000599.htseq-count-by-cell.csv\n",
      "2017-10-17 10:45:38   18072762 MAA000600.htseq-count-by-cell.csv\n",
      "2017-10-17 10:45:38   16141220 MAA000603.htseq-count-by-cell.csv\n",
      "2017-10-17 10:45:38   10569514 MAA000604.htseq-count-by-cell.csv\n",
      "2017-10-17 10:45:44   10718229 MAA000605.htseq-count-by-cell.csv\n",
      "2017-10-17 10:45:48   17391270 MAA000607.htseq-count-by-cell.csv\n",
      "2017-10-17 10:46:07    7975644 MAA000609.htseq-count-by-cell.csv\n",
      "2017-10-17 10:46:07   16833252 MAA000611.htseq-count-by-cell.csv\n",
      "2017-10-17 10:46:09   15082828 MAA000612.htseq-count-by-cell.csv\n",
      "2017-10-17 10:46:09   13707585 MAA000614.htseq-count-by-cell.csv\n",
      "2017-10-17 10:46:09    5776317 MAA000615.htseq-count-by-cell.csv\n",
      "2017-10-17 10:46:20   15080353 MAA000617.htseq-count-by-cell.csv\n",
      "2017-10-17 10:46:22   13569487 MAA000638.htseq-count-by-cell.csv\n",
      "2017-10-17 10:46:41   14004290 MAA000639.htseq-count-by-cell.csv\n",
      "2017-10-17 10:46:41    5367121 MAA000641.htseq-count-by-cell.csv\n",
      "2017-10-17 10:46:41   15458193 MAA000652.htseq-count-by-cell.csv\n",
      "2017-10-17 10:46:49    5207175 MAA000752.htseq-count-by-cell.csv\n",
      "2017-10-17 10:46:52   11682737 MAA000776.htseq-count-by-cell.csv\n",
      "2017-10-17 10:46:56   16354334 MAA000779.htseq-count-by-cell.csv\n",
      "2017-10-17 10:46:56    9722420 MAA000801.htseq-count-by-cell.csv\n",
      "2017-10-17 10:47:12    7922381 MAA000839.htseq-count-by-cell.csv\n",
      "2017-10-17 10:47:13   13922664 MAA000844.htseq-count-by-cell.csv\n",
      "2017-10-17 10:47:18   18546834 MAA000848.htseq-count-by-cell.csv\n",
      "2017-10-17 10:47:21   13473286 MAA000870.htseq-count-by-cell.csv\n",
      "2017-10-17 10:47:21   16671831 MAA000871.htseq-count-by-cell.csv\n",
      "2017-10-17 10:47:21    2757790 MAA000873.htseq-count-by-cell.csv\n",
      "2017-10-17 10:47:33   14485607 MAA000877.htseq-count-by-cell.csv\n",
      "2017-10-17 10:47:45    9872382 MAA000880.htseq-count-by-cell.csv\n",
      "2017-10-17 10:47:54   16613945 MAA000884.htseq-count-by-cell.csv\n",
      "2017-10-17 10:47:54    8757374 MAA000891.htseq-count-by-cell.csv\n",
      "2017-10-17 10:47:56    4132415 MAA000898.htseq-count-by-cell.csv\n",
      "2017-10-17 10:47:59    3123044 MAA000899.htseq-count-by-cell.csv\n",
      "2017-10-17 10:48:02    8887051 MAA000901.htseq-count-by-cell.csv\n",
      "2017-10-17 10:48:04    4297926 MAA000902.htseq-count-by-cell.csv\n",
      "2017-10-17 10:48:07   11283437 MAA000903.htseq-count-by-cell.csv\n",
      "2017-10-17 10:48:12    7460160 MAA000906.htseq-count-by-cell.csv\n",
      "2017-10-17 10:48:15   15877909 MAA000907.htseq-count-by-cell.csv\n",
      "2017-10-17 10:48:16   10610278 MAA000908.htseq-count-by-cell.csv\n",
      "2017-10-17 10:48:23   17038121 MAA000909.htseq-count-by-cell.csv\n",
      "2017-10-17 10:48:25    8161454 MAA000910.htseq-count-by-cell.csv\n",
      "2017-10-17 10:48:32   15437805 MAA000913.htseq-count-by-cell.csv\n",
      "2017-10-17 10:48:35   10582805 MAA000914.htseq-count-by-cell.csv\n",
      "2017-10-17 10:48:48   12380155 MAA000917.htseq-count-by-cell.csv\n",
      "2017-10-17 10:48:52    4484089 MAA000918.htseq-count-by-cell.csv\n",
      "2017-10-17 10:48:54    7538313 MAA000919.htseq-count-by-cell.csv\n",
      "2017-10-17 10:48:58   11185900 MAA000920.htseq-count-by-cell.csv\n",
      "2017-10-17 10:48:59    3860990 MAA000922.htseq-count-by-cell.csv\n",
      "2017-10-17 10:49:03    9878248 MAA000923.htseq-count-by-cell.csv\n",
      "2017-10-17 10:49:06   12042609 MAA000924.htseq-count-by-cell.csv\n",
      "2017-10-17 10:49:09    4508581 MAA000925.htseq-count-by-cell.csv\n",
      "2017-10-17 10:49:11   14742371 MAA000926.htseq-count-by-cell.csv\n",
      "2017-10-17 10:49:15   13121844 MAA000927.htseq-count-by-cell.csv\n",
      "2017-10-17 10:49:22    5635804 MAA000928.htseq-count-by-cell.csv\n",
      "2017-10-17 10:49:27    5915882 MAA000930.htseq-count-by-cell.csv\n",
      "2017-10-17 10:49:34    9822652 MAA000932.htseq-count-by-cell.csv\n",
      "2017-10-17 10:49:34   14724471 MAA000934.htseq-count-by-cell.csv\n",
      "2017-10-17 10:49:35    7182395 MAA000935.htseq-count-by-cell.csv\n",
      "2017-10-17 10:49:46    7348383 MAA000936.htseq-count-by-cell.csv\n",
      "2017-10-17 10:49:46   12510337 MAA000937.htseq-count-by-cell.csv\n",
      "2017-10-17 10:49:49   12427970 MAA000938.htseq-count-by-cell.csv\n",
      "2017-10-17 10:49:50    3541767 MAA000940.htseq-count-by-cell.csv\n",
      "2017-10-17 10:50:01    8426594 MAA000941.htseq-count-by-cell.csv\n",
      "2017-10-17 10:50:01    9241602 MAA000942.htseq-count-by-cell.csv\n",
      "2017-10-17 10:50:03   11681769 MAA000944.htseq-count-by-cell.csv\n",
      "2017-10-17 10:50:12    8708261 MAA000947.htseq-count-by-cell.csv\n",
      "2017-10-17 10:50:12    8434028 MAA001454.htseq-count-by-cell.csv\n",
      "2017-10-17 10:50:20   17650397 MAA001539.htseq-count-by-cell.csv\n",
      "2017-10-17 10:50:19   17446058 MAA001632.htseq-count-by-cell.csv\n",
      "2017-10-17 10:50:21    6497975 MAA001842.htseq-count-by-cell.csv\n",
      "2017-10-17 10:50:29   12994719 MAA001844.htseq-count-by-cell.csv\n",
      "2017-10-17 10:50:31    4755496 MAA001845.htseq-count-by-cell.csv\n",
      "2017-10-17 10:50:36   11110648 MAA001847.htseq-count-by-cell.csv\n",
      "2017-10-17 10:50:40    2006138 MAA001853.htseq-count-by-cell.csv\n",
      "2017-10-17 10:50:49    2311942 MAA001854.htseq-count-by-cell.csv\n",
      "2017-10-17 10:50:54    2788946 MAA001856.htseq-count-by-cell.csv\n",
      "2017-10-17 10:50:57   14844793 MAA001857.htseq-count-by-cell.csv\n",
      "2017-10-17 10:50:57    6949257 MAA001861.htseq-count-by-cell.csv\n",
      "2017-10-17 10:50:57   15104226 MAA001862.htseq-count-by-cell.csv\n",
      "2017-10-17 10:50:57   15940451 MAA001865.htseq-count-by-cell.csv\n",
      "2017-10-17 10:50:58   14683957 MAA001867.htseq-count-by-cell.csv\n",
      "2017-10-17 10:51:01    9917096 MAA001868.htseq-count-by-cell.csv\n",
      "2017-10-17 10:51:27   14831648 MAA001869.htseq-count-by-cell.csv\n",
      "2017-10-17 10:51:28   16119720 MAA001871.htseq-count-by-cell.csv\n",
      "2017-10-17 10:51:28   16096640 MAA001872.htseq-count-by-cell.csv\n",
      "2017-10-17 10:51:28   13752827 MAA001873.htseq-count-by-cell.csv\n",
      "2017-10-17 10:51:30   13992817 MAA001875.htseq-count-by-cell.csv\n",
      "2017-10-17 10:51:58   12557380 MAA001883.htseq-count-by-cell.csv\n",
      "2017-10-17 10:51:58   17605482 MAA001884.htseq-count-by-cell.csv\n",
      "2017-10-17 10:51:59   14429223 MAA001887.htseq-count-by-cell.csv\n",
      "2017-10-17 10:51:59    7268583 MAA001888.htseq-count-by-cell.csv\n",
      "2017-10-17 10:52:08   16104044 MAA001889.htseq-count-by-cell.csv\n",
      "2017-10-17 10:52:10   13298593 MAA001892.htseq-count-by-cell.csv\n",
      "2017-10-17 10:52:22   10439218 MAA001894.htseq-count-by-cell.csv\n",
      "2017-10-17 10:52:25    5034292 MAA001895.htseq-count-by-cell.csv\n",
      "2017-10-17 10:52:34    4861327 MAA100037.htseq-count-by-cell.csv\n",
      "2017-10-17 10:52:36    4893612 MAA100039.htseq-count-by-cell.csv\n",
      "2017-10-17 10:52:39    4796870 MAA100040.htseq-count-by-cell.csv\n",
      "2017-10-17 10:52:41    4789465 MAA100041.htseq-count-by-cell.csv\n",
      "2017-10-17 10:52:42    4758578 MAA100042.htseq-count-by-cell.csv\n",
      "2017-10-17 10:52:42    2787368 MAA100096.htseq-count-by-cell.csv\n",
      "2017-10-17 10:52:42    3490419 MAA100097.htseq-count-by-cell.csv\n",
      "2017-10-17 10:52:48    5133816 MAA100138.htseq-count-by-cell.csv\n",
      "2017-10-17 10:52:51    5085364 MAA100140.htseq-count-by-cell.csv\n"
     ]
    }
   ],
   "source": [
    "! aws s3 ls s3://czbiohub-maca/gc_table_by_plates_processed_remux_redux/"
   ]
  },
  {
   "cell_type": "code",
   "execution_count": 46,
   "metadata": {},
   "outputs": [],
   "source": [
    "bladder_plate_to_use = 'D041914'"
   ]
  },
  {
   "cell_type": "code",
   "execution_count": 47,
   "metadata": {},
   "outputs": [
    {
     "name": "stdout",
     "output_type": "stream",
     "text": [
      "download: s3://czbiohub-maca/gc_table_by_plates_processed_remux_redux/D041914.htseq-count-by-cell.csv to ../../../../mnt/data/facs_counts/D041914.htseq-count-by-cell.csv\n"
     ]
    }
   ],
   "source": [
    "! aws s3 cp --exclude \"*\" --include \"$bladder_plate_to_use*\" --recursive s3://czbiohub-maca/gc_table_by_plates_processed_remux_redux/ /mnt/data/facs_counts/"
   ]
  },
  {
   "cell_type": "markdown",
   "metadata": {},
   "source": [
    "### Read droplet annotations"
   ]
  },
  {
   "cell_type": "code",
   "execution_count": 36,
   "metadata": {},
   "outputs": [
    {
     "name": "stdout",
     "output_type": "stream",
     "text": [
      "(2500, 11)\n"
     ]
    },
    {
     "data": {
      "text/html": [
       "<div>\n",
       "<style scoped>\n",
       "    .dataframe tbody tr th:only-of-type {\n",
       "        vertical-align: middle;\n",
       "    }\n",
       "\n",
       "    .dataframe tbody tr th {\n",
       "        vertical-align: top;\n",
       "    }\n",
       "\n",
       "    .dataframe thead th {\n",
       "        text-align: right;\n",
       "    }\n",
       "</style>\n",
       "<table border=\"1\" class=\"dataframe\">\n",
       "  <thead>\n",
       "    <tr style=\"text-align: right;\">\n",
       "      <th></th>\n",
       "      <th>tissue</th>\n",
       "      <th>subtissue</th>\n",
       "      <th>cell_ontology_class</th>\n",
       "      <th>cell_ontology_id</th>\n",
       "      <th>free_annotation</th>\n",
       "      <th>cluster.ids</th>\n",
       "      <th>mouse.sex</th>\n",
       "      <th>mouse.id</th>\n",
       "      <th>tSNE_1</th>\n",
       "      <th>tSNE_2</th>\n",
       "      <th>channel</th>\n",
       "    </tr>\n",
       "    <tr>\n",
       "      <th>cell</th>\n",
       "      <th></th>\n",
       "      <th></th>\n",
       "      <th></th>\n",
       "      <th></th>\n",
       "      <th></th>\n",
       "      <th></th>\n",
       "      <th></th>\n",
       "      <th></th>\n",
       "      <th></th>\n",
       "      <th></th>\n",
       "      <th></th>\n",
       "    </tr>\n",
       "  </thead>\n",
       "  <tbody>\n",
       "    <tr>\n",
       "      <th>10X_P4_3_AAAGTAGAGATGCCAG</th>\n",
       "      <td>Bladder</td>\n",
       "      <td>NaN</td>\n",
       "      <td>bladder cell</td>\n",
       "      <td>CL:1001319</td>\n",
       "      <td>Bladder mesenchymal cell</td>\n",
       "      <td>0</td>\n",
       "      <td>M</td>\n",
       "      <td>3-M-8</td>\n",
       "      <td>-28.034252</td>\n",
       "      <td>-13.407488</td>\n",
       "      <td>10X_P4_3</td>\n",
       "    </tr>\n",
       "    <tr>\n",
       "      <th>10X_P4_3_AACCGCGTCCAACCAA</th>\n",
       "      <td>Bladder</td>\n",
       "      <td>NaN</td>\n",
       "      <td>bladder cell</td>\n",
       "      <td>CL:1001319</td>\n",
       "      <td>Bladder mesenchymal cell</td>\n",
       "      <td>2</td>\n",
       "      <td>M</td>\n",
       "      <td>3-M-8</td>\n",
       "      <td>-15.890827</td>\n",
       "      <td>7.453387</td>\n",
       "      <td>10X_P4_3</td>\n",
       "    </tr>\n",
       "    <tr>\n",
       "      <th>10X_P4_3_AACTCCCGTCGGGTCT</th>\n",
       "      <td>Bladder</td>\n",
       "      <td>NaN</td>\n",
       "      <td>bladder cell</td>\n",
       "      <td>CL:1001319</td>\n",
       "      <td>Bladder mesenchymal cell</td>\n",
       "      <td>5</td>\n",
       "      <td>M</td>\n",
       "      <td>3-M-8</td>\n",
       "      <td>-11.131739</td>\n",
       "      <td>8.426802</td>\n",
       "      <td>10X_P4_3</td>\n",
       "    </tr>\n",
       "    <tr>\n",
       "      <th>10X_P4_3_AACTCTTAGTTGCAGG</th>\n",
       "      <td>Bladder</td>\n",
       "      <td>NaN</td>\n",
       "      <td>bladder urothelial cell</td>\n",
       "      <td>CL:1001428</td>\n",
       "      <td>Luminal bladder epithelial cell</td>\n",
       "      <td>3</td>\n",
       "      <td>M</td>\n",
       "      <td>3-M-8</td>\n",
       "      <td>21.559201</td>\n",
       "      <td>6.817286</td>\n",
       "      <td>10X_P4_3</td>\n",
       "    </tr>\n",
       "    <tr>\n",
       "      <th>10X_P4_3_AACTCTTTCATAACCG</th>\n",
       "      <td>Bladder</td>\n",
       "      <td>NaN</td>\n",
       "      <td>bladder cell</td>\n",
       "      <td>CL:1001319</td>\n",
       "      <td>Bladder mesenchymal cell</td>\n",
       "      <td>2</td>\n",
       "      <td>M</td>\n",
       "      <td>3-M-8</td>\n",
       "      <td>-5.939946</td>\n",
       "      <td>19.630456</td>\n",
       "      <td>10X_P4_3</td>\n",
       "    </tr>\n",
       "  </tbody>\n",
       "</table>\n",
       "</div>"
      ],
      "text/plain": [
       "                            tissue  subtissue      cell_ontology_class  \\\n",
       "cell                                                                     \n",
       "10X_P4_3_AAAGTAGAGATGCCAG  Bladder        NaN             bladder cell   \n",
       "10X_P4_3_AACCGCGTCCAACCAA  Bladder        NaN             bladder cell   \n",
       "10X_P4_3_AACTCCCGTCGGGTCT  Bladder        NaN             bladder cell   \n",
       "10X_P4_3_AACTCTTAGTTGCAGG  Bladder        NaN  bladder urothelial cell   \n",
       "10X_P4_3_AACTCTTTCATAACCG  Bladder        NaN             bladder cell   \n",
       "\n",
       "                          cell_ontology_id                  free_annotation  \\\n",
       "cell                                                                          \n",
       "10X_P4_3_AAAGTAGAGATGCCAG       CL:1001319         Bladder mesenchymal cell   \n",
       "10X_P4_3_AACCGCGTCCAACCAA       CL:1001319         Bladder mesenchymal cell   \n",
       "10X_P4_3_AACTCCCGTCGGGTCT       CL:1001319         Bladder mesenchymal cell   \n",
       "10X_P4_3_AACTCTTAGTTGCAGG       CL:1001428  Luminal bladder epithelial cell   \n",
       "10X_P4_3_AACTCTTTCATAACCG       CL:1001319         Bladder mesenchymal cell   \n",
       "\n",
       "                           cluster.ids mouse.sex mouse.id     tSNE_1  \\\n",
       "cell                                                                   \n",
       "10X_P4_3_AAAGTAGAGATGCCAG            0         M    3-M-8 -28.034252   \n",
       "10X_P4_3_AACCGCGTCCAACCAA            2         M    3-M-8 -15.890827   \n",
       "10X_P4_3_AACTCCCGTCGGGTCT            5         M    3-M-8 -11.131739   \n",
       "10X_P4_3_AACTCTTAGTTGCAGG            3         M    3-M-8  21.559201   \n",
       "10X_P4_3_AACTCTTTCATAACCG            2         M    3-M-8  -5.939946   \n",
       "\n",
       "                              tSNE_2   channel  \n",
       "cell                                            \n",
       "10X_P4_3_AAAGTAGAGATGCCAG -13.407488  10X_P4_3  \n",
       "10X_P4_3_AACCGCGTCCAACCAA   7.453387  10X_P4_3  \n",
       "10X_P4_3_AACTCCCGTCGGGTCT   8.426802  10X_P4_3  \n",
       "10X_P4_3_AACTCTTAGTTGCAGG   6.817286  10X_P4_3  \n",
       "10X_P4_3_AACTCTTTCATAACCG  19.630456  10X_P4_3  "
      ]
     },
     "execution_count": 36,
     "metadata": {},
     "output_type": "execute_result"
    }
   ],
   "source": [
    "droplet_annotations = pd.read_csv('/home/ubuntu/tabula-muris/00_data_ingest/03_tissue_annotation_csv/Bladder_droplet_annotation.csv', index_col=0)\n",
    "print(droplet_annotations.shape)\n",
    "droplet_annotations.head()"
   ]
  },
  {
   "cell_type": "markdown",
   "metadata": {},
   "source": [
    "### subset droplet annotations to just this run"
   ]
  },
  {
   "cell_type": "code",
   "execution_count": 42,
   "metadata": {},
   "outputs": [
    {
     "name": "stdout",
     "output_type": "stream",
     "text": [
      "(149, 11)\n"
     ]
    },
    {
     "data": {
      "text/html": [
       "<div>\n",
       "<style scoped>\n",
       "    .dataframe tbody tr th:only-of-type {\n",
       "        vertical-align: middle;\n",
       "    }\n",
       "\n",
       "    .dataframe tbody tr th {\n",
       "        vertical-align: top;\n",
       "    }\n",
       "\n",
       "    .dataframe thead th {\n",
       "        text-align: right;\n",
       "    }\n",
       "</style>\n",
       "<table border=\"1\" class=\"dataframe\">\n",
       "  <thead>\n",
       "    <tr style=\"text-align: right;\">\n",
       "      <th></th>\n",
       "      <th>tissue</th>\n",
       "      <th>subtissue</th>\n",
       "      <th>cell_ontology_class</th>\n",
       "      <th>cell_ontology_id</th>\n",
       "      <th>free_annotation</th>\n",
       "      <th>cluster.ids</th>\n",
       "      <th>mouse.sex</th>\n",
       "      <th>mouse.id</th>\n",
       "      <th>tSNE_1</th>\n",
       "      <th>tSNE_2</th>\n",
       "      <th>channel</th>\n",
       "    </tr>\n",
       "    <tr>\n",
       "      <th>cell</th>\n",
       "      <th></th>\n",
       "      <th></th>\n",
       "      <th></th>\n",
       "      <th></th>\n",
       "      <th></th>\n",
       "      <th></th>\n",
       "      <th></th>\n",
       "      <th></th>\n",
       "      <th></th>\n",
       "      <th></th>\n",
       "      <th></th>\n",
       "    </tr>\n",
       "  </thead>\n",
       "  <tbody>\n",
       "    <tr>\n",
       "      <th>10X_P4_3_AAAGTAGAGATGCCAG</th>\n",
       "      <td>Bladder</td>\n",
       "      <td>NaN</td>\n",
       "      <td>bladder cell</td>\n",
       "      <td>CL:1001319</td>\n",
       "      <td>Bladder mesenchymal cell</td>\n",
       "      <td>0</td>\n",
       "      <td>M</td>\n",
       "      <td>3-M-8</td>\n",
       "      <td>-28.034252</td>\n",
       "      <td>-13.407488</td>\n",
       "      <td>10X_P4_3</td>\n",
       "    </tr>\n",
       "    <tr>\n",
       "      <th>10X_P4_3_AACCGCGTCCAACCAA</th>\n",
       "      <td>Bladder</td>\n",
       "      <td>NaN</td>\n",
       "      <td>bladder cell</td>\n",
       "      <td>CL:1001319</td>\n",
       "      <td>Bladder mesenchymal cell</td>\n",
       "      <td>2</td>\n",
       "      <td>M</td>\n",
       "      <td>3-M-8</td>\n",
       "      <td>-15.890827</td>\n",
       "      <td>7.453387</td>\n",
       "      <td>10X_P4_3</td>\n",
       "    </tr>\n",
       "    <tr>\n",
       "      <th>10X_P4_3_AACTCCCGTCGGGTCT</th>\n",
       "      <td>Bladder</td>\n",
       "      <td>NaN</td>\n",
       "      <td>bladder cell</td>\n",
       "      <td>CL:1001319</td>\n",
       "      <td>Bladder mesenchymal cell</td>\n",
       "      <td>5</td>\n",
       "      <td>M</td>\n",
       "      <td>3-M-8</td>\n",
       "      <td>-11.131739</td>\n",
       "      <td>8.426802</td>\n",
       "      <td>10X_P4_3</td>\n",
       "    </tr>\n",
       "    <tr>\n",
       "      <th>10X_P4_3_AACTCTTAGTTGCAGG</th>\n",
       "      <td>Bladder</td>\n",
       "      <td>NaN</td>\n",
       "      <td>bladder urothelial cell</td>\n",
       "      <td>CL:1001428</td>\n",
       "      <td>Luminal bladder epithelial cell</td>\n",
       "      <td>3</td>\n",
       "      <td>M</td>\n",
       "      <td>3-M-8</td>\n",
       "      <td>21.559201</td>\n",
       "      <td>6.817286</td>\n",
       "      <td>10X_P4_3</td>\n",
       "    </tr>\n",
       "    <tr>\n",
       "      <th>10X_P4_3_AACTCTTTCATAACCG</th>\n",
       "      <td>Bladder</td>\n",
       "      <td>NaN</td>\n",
       "      <td>bladder cell</td>\n",
       "      <td>CL:1001319</td>\n",
       "      <td>Bladder mesenchymal cell</td>\n",
       "      <td>2</td>\n",
       "      <td>M</td>\n",
       "      <td>3-M-8</td>\n",
       "      <td>-5.939946</td>\n",
       "      <td>19.630456</td>\n",
       "      <td>10X_P4_3</td>\n",
       "    </tr>\n",
       "  </tbody>\n",
       "</table>\n",
       "</div>"
      ],
      "text/plain": [
       "                            tissue  subtissue      cell_ontology_class  \\\n",
       "cell                                                                     \n",
       "10X_P4_3_AAAGTAGAGATGCCAG  Bladder        NaN             bladder cell   \n",
       "10X_P4_3_AACCGCGTCCAACCAA  Bladder        NaN             bladder cell   \n",
       "10X_P4_3_AACTCCCGTCGGGTCT  Bladder        NaN             bladder cell   \n",
       "10X_P4_3_AACTCTTAGTTGCAGG  Bladder        NaN  bladder urothelial cell   \n",
       "10X_P4_3_AACTCTTTCATAACCG  Bladder        NaN             bladder cell   \n",
       "\n",
       "                          cell_ontology_id                  free_annotation  \\\n",
       "cell                                                                          \n",
       "10X_P4_3_AAAGTAGAGATGCCAG       CL:1001319         Bladder mesenchymal cell   \n",
       "10X_P4_3_AACCGCGTCCAACCAA       CL:1001319         Bladder mesenchymal cell   \n",
       "10X_P4_3_AACTCCCGTCGGGTCT       CL:1001319         Bladder mesenchymal cell   \n",
       "10X_P4_3_AACTCTTAGTTGCAGG       CL:1001428  Luminal bladder epithelial cell   \n",
       "10X_P4_3_AACTCTTTCATAACCG       CL:1001319         Bladder mesenchymal cell   \n",
       "\n",
       "                           cluster.ids mouse.sex mouse.id     tSNE_1  \\\n",
       "cell                                                                   \n",
       "10X_P4_3_AAAGTAGAGATGCCAG            0         M    3-M-8 -28.034252   \n",
       "10X_P4_3_AACCGCGTCCAACCAA            2         M    3-M-8 -15.890827   \n",
       "10X_P4_3_AACTCCCGTCGGGTCT            5         M    3-M-8 -11.131739   \n",
       "10X_P4_3_AACTCTTAGTTGCAGG            3         M    3-M-8  21.559201   \n",
       "10X_P4_3_AACTCTTTCATAACCG            2         M    3-M-8  -5.939946   \n",
       "\n",
       "                              tSNE_2   channel  \n",
       "cell                                            \n",
       "10X_P4_3_AAAGTAGAGATGCCAG -13.407488  10X_P4_3  \n",
       "10X_P4_3_AACCGCGTCCAACCAA   7.453387  10X_P4_3  \n",
       "10X_P4_3_AACTCCCGTCGGGTCT   8.426802  10X_P4_3  \n",
       "10X_P4_3_AACTCTTAGTTGCAGG   6.817286  10X_P4_3  \n",
       "10X_P4_3_AACTCTTTCATAACCG  19.630456  10X_P4_3  "
      ]
     },
     "execution_count": 42,
     "metadata": {},
     "output_type": "execute_result"
    }
   ],
   "source": [
    "droplet_annotations_subset = droplet_annotations.query('channel == \"10X_P4_3\"')\n",
    "print(droplet_annotations_subset.shape)\n",
    "droplet_annotations_subset.head()"
   ]
  },
  {
   "cell_type": "markdown",
   "metadata": {},
   "source": [
    "### Read facs annotatinos"
   ]
  },
  {
   "cell_type": "code",
   "execution_count": 40,
   "metadata": {},
   "outputs": [
    {
     "name": "stdout",
     "output_type": "stream",
     "text": [
      "(1378, 11)\n"
     ]
    },
    {
     "data": {
      "text/html": [
       "<div>\n",
       "<style scoped>\n",
       "    .dataframe tbody tr th:only-of-type {\n",
       "        vertical-align: middle;\n",
       "    }\n",
       "\n",
       "    .dataframe tbody tr th {\n",
       "        vertical-align: top;\n",
       "    }\n",
       "\n",
       "    .dataframe thead th {\n",
       "        text-align: right;\n",
       "    }\n",
       "</style>\n",
       "<table border=\"1\" class=\"dataframe\">\n",
       "  <thead>\n",
       "    <tr style=\"text-align: right;\">\n",
       "      <th></th>\n",
       "      <th>tissue</th>\n",
       "      <th>subtissue</th>\n",
       "      <th>cell_ontology_class</th>\n",
       "      <th>cell_ontology_id</th>\n",
       "      <th>free_annotation</th>\n",
       "      <th>cluster_ids</th>\n",
       "      <th>mouse_sex</th>\n",
       "      <th>mouse_id</th>\n",
       "      <th>tSNE_1</th>\n",
       "      <th>tSNE_2</th>\n",
       "      <th>plate_barcode</th>\n",
       "    </tr>\n",
       "    <tr>\n",
       "      <th>cell</th>\n",
       "      <th></th>\n",
       "      <th></th>\n",
       "      <th></th>\n",
       "      <th></th>\n",
       "      <th></th>\n",
       "      <th></th>\n",
       "      <th></th>\n",
       "      <th></th>\n",
       "      <th></th>\n",
       "      <th></th>\n",
       "      <th></th>\n",
       "    </tr>\n",
       "  </thead>\n",
       "  <tbody>\n",
       "    <tr>\n",
       "      <th>A1-B000610-3_56_F-1-1</th>\n",
       "      <td>Bladder</td>\n",
       "      <td>NaN</td>\n",
       "      <td>bladder cell</td>\n",
       "      <td>CL:1001319</td>\n",
       "      <td>Bladder mesenchymal cell</td>\n",
       "      <td>5</td>\n",
       "      <td>F</td>\n",
       "      <td>3_56_F</td>\n",
       "      <td>-7.182841</td>\n",
       "      <td>-10.895094</td>\n",
       "      <td>B000610</td>\n",
       "    </tr>\n",
       "    <tr>\n",
       "      <th>A1-B002764-3_38_F-1-1</th>\n",
       "      <td>Bladder</td>\n",
       "      <td>NaN</td>\n",
       "      <td>bladder urothelial cell</td>\n",
       "      <td>CL:1001428</td>\n",
       "      <td>Luminal bladder epithelial cell</td>\n",
       "      <td>3</td>\n",
       "      <td>F</td>\n",
       "      <td>3_38_F</td>\n",
       "      <td>4.199059</td>\n",
       "      <td>-11.050240</td>\n",
       "      <td>B002764</td>\n",
       "    </tr>\n",
       "    <tr>\n",
       "      <th>A1-B002771-3_39_F-1-1</th>\n",
       "      <td>Bladder</td>\n",
       "      <td>NaN</td>\n",
       "      <td>bladder cell</td>\n",
       "      <td>CL:1001319</td>\n",
       "      <td>Bladder mesenchymal cell</td>\n",
       "      <td>5</td>\n",
       "      <td>F</td>\n",
       "      <td>3_39_F</td>\n",
       "      <td>-11.995435</td>\n",
       "      <td>-7.325534</td>\n",
       "      <td>B002771</td>\n",
       "    </tr>\n",
       "    <tr>\n",
       "      <th>A1-D041914-3_8_M-1-1</th>\n",
       "      <td>Bladder</td>\n",
       "      <td>NaN</td>\n",
       "      <td>bladder cell</td>\n",
       "      <td>CL:1001319</td>\n",
       "      <td>Bladder mesenchymal cell</td>\n",
       "      <td>5</td>\n",
       "      <td>M</td>\n",
       "      <td>3_8_M</td>\n",
       "      <td>-6.820022</td>\n",
       "      <td>-14.174246</td>\n",
       "      <td>D041914</td>\n",
       "    </tr>\n",
       "    <tr>\n",
       "      <th>A1-D042253-3_9_M-1-1</th>\n",
       "      <td>Bladder</td>\n",
       "      <td>NaN</td>\n",
       "      <td>bladder cell</td>\n",
       "      <td>CL:1001319</td>\n",
       "      <td>Bladder mesenchymal cell</td>\n",
       "      <td>2</td>\n",
       "      <td>M</td>\n",
       "      <td>3_9_M</td>\n",
       "      <td>-24.163538</td>\n",
       "      <td>-7.499349</td>\n",
       "      <td>D042253</td>\n",
       "    </tr>\n",
       "  </tbody>\n",
       "</table>\n",
       "</div>"
      ],
      "text/plain": [
       "                        tissue  subtissue      cell_ontology_class  \\\n",
       "cell                                                                 \n",
       "A1-B000610-3_56_F-1-1  Bladder        NaN             bladder cell   \n",
       "A1-B002764-3_38_F-1-1  Bladder        NaN  bladder urothelial cell   \n",
       "A1-B002771-3_39_F-1-1  Bladder        NaN             bladder cell   \n",
       "A1-D041914-3_8_M-1-1   Bladder        NaN             bladder cell   \n",
       "A1-D042253-3_9_M-1-1   Bladder        NaN             bladder cell   \n",
       "\n",
       "                      cell_ontology_id                  free_annotation  \\\n",
       "cell                                                                      \n",
       "A1-B000610-3_56_F-1-1       CL:1001319         Bladder mesenchymal cell   \n",
       "A1-B002764-3_38_F-1-1       CL:1001428  Luminal bladder epithelial cell   \n",
       "A1-B002771-3_39_F-1-1       CL:1001319         Bladder mesenchymal cell   \n",
       "A1-D041914-3_8_M-1-1        CL:1001319         Bladder mesenchymal cell   \n",
       "A1-D042253-3_9_M-1-1        CL:1001319         Bladder mesenchymal cell   \n",
       "\n",
       "                       cluster_ids mouse_sex mouse_id     tSNE_1     tSNE_2  \\\n",
       "cell                                                                          \n",
       "A1-B000610-3_56_F-1-1            5         F   3_56_F  -7.182841 -10.895094   \n",
       "A1-B002764-3_38_F-1-1            3         F   3_38_F   4.199059 -11.050240   \n",
       "A1-B002771-3_39_F-1-1            5         F   3_39_F -11.995435  -7.325534   \n",
       "A1-D041914-3_8_M-1-1             5         M    3_8_M  -6.820022 -14.174246   \n",
       "A1-D042253-3_9_M-1-1             2         M    3_9_M -24.163538  -7.499349   \n",
       "\n",
       "                      plate_barcode  \n",
       "cell                                 \n",
       "A1-B000610-3_56_F-1-1       B000610  \n",
       "A1-B002764-3_38_F-1-1       B002764  \n",
       "A1-B002771-3_39_F-1-1       B002771  \n",
       "A1-D041914-3_8_M-1-1        D041914  \n",
       "A1-D042253-3_9_M-1-1        D042253  "
      ]
     },
     "execution_count": 40,
     "metadata": {},
     "output_type": "execute_result"
    }
   ],
   "source": [
    "facs_annotations = pd.read_csv('/home/ubuntu/tabula-muris/00_data_ingest/03_tissue_annotation_csv/Bladder_facs_annotation.csv', index_col=0)\n",
    "facs_annotations.columns = facs_annotations.columns.str.replace('.', '_')\n",
    "facs_annotations.index = facs_annotations.index.str.replace('.', '-')\n",
    "print(facs_annotations.shape)\n",
    "facs_annotations.head()"
   ]
  },
  {
   "cell_type": "code",
   "execution_count": 49,
   "metadata": {},
   "outputs": [
    {
     "name": "stdout",
     "output_type": "stream",
     "text": [
      "(317, 11)\n"
     ]
    },
    {
     "data": {
      "text/html": [
       "<div>\n",
       "<style scoped>\n",
       "    .dataframe tbody tr th:only-of-type {\n",
       "        vertical-align: middle;\n",
       "    }\n",
       "\n",
       "    .dataframe tbody tr th {\n",
       "        vertical-align: top;\n",
       "    }\n",
       "\n",
       "    .dataframe thead th {\n",
       "        text-align: right;\n",
       "    }\n",
       "</style>\n",
       "<table border=\"1\" class=\"dataframe\">\n",
       "  <thead>\n",
       "    <tr style=\"text-align: right;\">\n",
       "      <th></th>\n",
       "      <th>tissue</th>\n",
       "      <th>subtissue</th>\n",
       "      <th>cell_ontology_class</th>\n",
       "      <th>cell_ontology_id</th>\n",
       "      <th>free_annotation</th>\n",
       "      <th>cluster_ids</th>\n",
       "      <th>mouse_sex</th>\n",
       "      <th>mouse_id</th>\n",
       "      <th>tSNE_1</th>\n",
       "      <th>tSNE_2</th>\n",
       "      <th>plate_barcode</th>\n",
       "    </tr>\n",
       "    <tr>\n",
       "      <th>cell</th>\n",
       "      <th></th>\n",
       "      <th></th>\n",
       "      <th></th>\n",
       "      <th></th>\n",
       "      <th></th>\n",
       "      <th></th>\n",
       "      <th></th>\n",
       "      <th></th>\n",
       "      <th></th>\n",
       "      <th></th>\n",
       "      <th></th>\n",
       "    </tr>\n",
       "  </thead>\n",
       "  <tbody>\n",
       "    <tr>\n",
       "      <th>A1-D041914-3_8_M-1-1</th>\n",
       "      <td>Bladder</td>\n",
       "      <td>NaN</td>\n",
       "      <td>bladder cell</td>\n",
       "      <td>CL:1001319</td>\n",
       "      <td>Bladder mesenchymal cell</td>\n",
       "      <td>5</td>\n",
       "      <td>M</td>\n",
       "      <td>3_8_M</td>\n",
       "      <td>-6.820022</td>\n",
       "      <td>-14.174246</td>\n",
       "      <td>D041914</td>\n",
       "    </tr>\n",
       "    <tr>\n",
       "      <th>A10-D041914-3_8_M-1-1</th>\n",
       "      <td>Bladder</td>\n",
       "      <td>NaN</td>\n",
       "      <td>bladder cell</td>\n",
       "      <td>CL:1001319</td>\n",
       "      <td>Bladder mesenchymal cell</td>\n",
       "      <td>2</td>\n",
       "      <td>M</td>\n",
       "      <td>3_8_M</td>\n",
       "      <td>-16.643703</td>\n",
       "      <td>-2.434115</td>\n",
       "      <td>D041914</td>\n",
       "    </tr>\n",
       "    <tr>\n",
       "      <th>A11-D041914-3_8_M-1-1</th>\n",
       "      <td>Bladder</td>\n",
       "      <td>NaN</td>\n",
       "      <td>bladder cell</td>\n",
       "      <td>CL:1001319</td>\n",
       "      <td>Bladder mesenchymal cell</td>\n",
       "      <td>0</td>\n",
       "      <td>M</td>\n",
       "      <td>3_8_M</td>\n",
       "      <td>-8.102068</td>\n",
       "      <td>-17.873610</td>\n",
       "      <td>D041914</td>\n",
       "    </tr>\n",
       "    <tr>\n",
       "      <th>A12-D041914-3_8_M-1-1</th>\n",
       "      <td>Bladder</td>\n",
       "      <td>NaN</td>\n",
       "      <td>bladder cell</td>\n",
       "      <td>CL:1001319</td>\n",
       "      <td>Bladder mesenchymal cell</td>\n",
       "      <td>2</td>\n",
       "      <td>M</td>\n",
       "      <td>3_8_M</td>\n",
       "      <td>-21.307140</td>\n",
       "      <td>2.633208</td>\n",
       "      <td>D041914</td>\n",
       "    </tr>\n",
       "    <tr>\n",
       "      <th>A13-D041914-3_8_M-1-1</th>\n",
       "      <td>Bladder</td>\n",
       "      <td>NaN</td>\n",
       "      <td>bladder cell</td>\n",
       "      <td>CL:1001319</td>\n",
       "      <td>Bladder mesenchymal cell</td>\n",
       "      <td>0</td>\n",
       "      <td>M</td>\n",
       "      <td>3_8_M</td>\n",
       "      <td>5.418347</td>\n",
       "      <td>-26.099985</td>\n",
       "      <td>D041914</td>\n",
       "    </tr>\n",
       "  </tbody>\n",
       "</table>\n",
       "</div>"
      ],
      "text/plain": [
       "                        tissue  subtissue cell_ontology_class  \\\n",
       "cell                                                            \n",
       "A1-D041914-3_8_M-1-1   Bladder        NaN        bladder cell   \n",
       "A10-D041914-3_8_M-1-1  Bladder        NaN        bladder cell   \n",
       "A11-D041914-3_8_M-1-1  Bladder        NaN        bladder cell   \n",
       "A12-D041914-3_8_M-1-1  Bladder        NaN        bladder cell   \n",
       "A13-D041914-3_8_M-1-1  Bladder        NaN        bladder cell   \n",
       "\n",
       "                      cell_ontology_id           free_annotation  cluster_ids  \\\n",
       "cell                                                                            \n",
       "A1-D041914-3_8_M-1-1        CL:1001319  Bladder mesenchymal cell            5   \n",
       "A10-D041914-3_8_M-1-1       CL:1001319  Bladder mesenchymal cell            2   \n",
       "A11-D041914-3_8_M-1-1       CL:1001319  Bladder mesenchymal cell            0   \n",
       "A12-D041914-3_8_M-1-1       CL:1001319  Bladder mesenchymal cell            2   \n",
       "A13-D041914-3_8_M-1-1       CL:1001319  Bladder mesenchymal cell            0   \n",
       "\n",
       "                      mouse_sex mouse_id     tSNE_1     tSNE_2 plate_barcode  \n",
       "cell                                                                          \n",
       "A1-D041914-3_8_M-1-1          M    3_8_M  -6.820022 -14.174246       D041914  \n",
       "A10-D041914-3_8_M-1-1         M    3_8_M -16.643703  -2.434115       D041914  \n",
       "A11-D041914-3_8_M-1-1         M    3_8_M  -8.102068 -17.873610       D041914  \n",
       "A12-D041914-3_8_M-1-1         M    3_8_M -21.307140   2.633208       D041914  \n",
       "A13-D041914-3_8_M-1-1         M    3_8_M   5.418347 -26.099985       D041914  "
      ]
     },
     "execution_count": 49,
     "metadata": {},
     "output_type": "execute_result"
    }
   ],
   "source": [
    "facs_annotations_subset = facs_annotations.query('(mouse_id == \"3_8_M\") & (plate_barcode == @bladder_plate_to_use)')\n",
    "print(facs_annotations_subset.shape)\n",
    "facs_annotations_subset.head()"
   ]
  },
  {
   "cell_type": "code",
   "execution_count": 101,
   "metadata": {},
   "outputs": [
    {
     "data": {
      "text/html": [
       "<div>\n",
       "<style scoped>\n",
       "    .dataframe tbody tr th:only-of-type {\n",
       "        vertical-align: middle;\n",
       "    }\n",
       "\n",
       "    .dataframe tbody tr th {\n",
       "        vertical-align: top;\n",
       "    }\n",
       "\n",
       "    .dataframe thead th {\n",
       "        text-align: right;\n",
       "    }\n",
       "</style>\n",
       "<table border=\"1\" class=\"dataframe\">\n",
       "  <thead>\n",
       "    <tr style=\"text-align: right;\">\n",
       "      <th></th>\n",
       "      <th>tissue</th>\n",
       "      <th>subtissue</th>\n",
       "      <th>cell_ontology_class</th>\n",
       "      <th>cell_ontology_id</th>\n",
       "      <th>free_annotation</th>\n",
       "      <th>cluster_ids</th>\n",
       "      <th>mouse_sex</th>\n",
       "      <th>mouse_id</th>\n",
       "      <th>tSNE_1</th>\n",
       "      <th>tSNE_2</th>\n",
       "      <th>plate_barcode</th>\n",
       "    </tr>\n",
       "    <tr>\n",
       "      <th>cell</th>\n",
       "      <th></th>\n",
       "      <th></th>\n",
       "      <th></th>\n",
       "      <th></th>\n",
       "      <th></th>\n",
       "      <th></th>\n",
       "      <th></th>\n",
       "      <th></th>\n",
       "      <th></th>\n",
       "      <th></th>\n",
       "      <th></th>\n",
       "    </tr>\n",
       "  </thead>\n",
       "  <tbody>\n",
       "    <tr>\n",
       "      <th>A15-D041914-3_8_M-1-1</th>\n",
       "      <td>Bladder</td>\n",
       "      <td>NaN</td>\n",
       "      <td>bladder urothelial cell</td>\n",
       "      <td>CL:1001428</td>\n",
       "      <td>Luminal bladder epithelial cell</td>\n",
       "      <td>3</td>\n",
       "      <td>M</td>\n",
       "      <td>3_8_M</td>\n",
       "      <td>12.824701</td>\n",
       "      <td>22.522847</td>\n",
       "      <td>D041914</td>\n",
       "    </tr>\n",
       "    <tr>\n",
       "      <th>A16-D041914-3_8_M-1-1</th>\n",
       "      <td>Bladder</td>\n",
       "      <td>NaN</td>\n",
       "      <td>bladder urothelial cell</td>\n",
       "      <td>CL:1001428</td>\n",
       "      <td>Luminal bladder epithelial cell</td>\n",
       "      <td>4</td>\n",
       "      <td>M</td>\n",
       "      <td>3_8_M</td>\n",
       "      <td>21.264186</td>\n",
       "      <td>23.671775</td>\n",
       "      <td>D041914</td>\n",
       "    </tr>\n",
       "    <tr>\n",
       "      <th>A17-D041914-3_8_M-1-1</th>\n",
       "      <td>Bladder</td>\n",
       "      <td>NaN</td>\n",
       "      <td>bladder urothelial cell</td>\n",
       "      <td>CL:1001428</td>\n",
       "      <td>Luminal bladder epithelial cell</td>\n",
       "      <td>4</td>\n",
       "      <td>M</td>\n",
       "      <td>3_8_M</td>\n",
       "      <td>21.559859</td>\n",
       "      <td>21.387896</td>\n",
       "      <td>D041914</td>\n",
       "    </tr>\n",
       "    <tr>\n",
       "      <th>A18-D041914-3_8_M-1-1</th>\n",
       "      <td>Bladder</td>\n",
       "      <td>NaN</td>\n",
       "      <td>bladder urothelial cell</td>\n",
       "      <td>CL:1001428</td>\n",
       "      <td>Luminal bladder epithelial cell</td>\n",
       "      <td>4</td>\n",
       "      <td>M</td>\n",
       "      <td>3_8_M</td>\n",
       "      <td>24.464130</td>\n",
       "      <td>19.392865</td>\n",
       "      <td>D041914</td>\n",
       "    </tr>\n",
       "    <tr>\n",
       "      <th>A20-D041914-3_8_M-1-1</th>\n",
       "      <td>Bladder</td>\n",
       "      <td>NaN</td>\n",
       "      <td>bladder urothelial cell</td>\n",
       "      <td>CL:1001428</td>\n",
       "      <td>Luminal bladder epithelial cell</td>\n",
       "      <td>3</td>\n",
       "      <td>M</td>\n",
       "      <td>3_8_M</td>\n",
       "      <td>14.796384</td>\n",
       "      <td>24.363092</td>\n",
       "      <td>D041914</td>\n",
       "    </tr>\n",
       "  </tbody>\n",
       "</table>\n",
       "</div>"
      ],
      "text/plain": [
       "                        tissue  subtissue      cell_ontology_class  \\\n",
       "cell                                                                 \n",
       "A15-D041914-3_8_M-1-1  Bladder        NaN  bladder urothelial cell   \n",
       "A16-D041914-3_8_M-1-1  Bladder        NaN  bladder urothelial cell   \n",
       "A17-D041914-3_8_M-1-1  Bladder        NaN  bladder urothelial cell   \n",
       "A18-D041914-3_8_M-1-1  Bladder        NaN  bladder urothelial cell   \n",
       "A20-D041914-3_8_M-1-1  Bladder        NaN  bladder urothelial cell   \n",
       "\n",
       "                      cell_ontology_id                  free_annotation  \\\n",
       "cell                                                                      \n",
       "A15-D041914-3_8_M-1-1       CL:1001428  Luminal bladder epithelial cell   \n",
       "A16-D041914-3_8_M-1-1       CL:1001428  Luminal bladder epithelial cell   \n",
       "A17-D041914-3_8_M-1-1       CL:1001428  Luminal bladder epithelial cell   \n",
       "A18-D041914-3_8_M-1-1       CL:1001428  Luminal bladder epithelial cell   \n",
       "A20-D041914-3_8_M-1-1       CL:1001428  Luminal bladder epithelial cell   \n",
       "\n",
       "                       cluster_ids mouse_sex mouse_id     tSNE_1     tSNE_2  \\\n",
       "cell                                                                          \n",
       "A15-D041914-3_8_M-1-1            3         M    3_8_M  12.824701  22.522847   \n",
       "A16-D041914-3_8_M-1-1            4         M    3_8_M  21.264186  23.671775   \n",
       "A17-D041914-3_8_M-1-1            4         M    3_8_M  21.559859  21.387896   \n",
       "A18-D041914-3_8_M-1-1            4         M    3_8_M  24.464130  19.392865   \n",
       "A20-D041914-3_8_M-1-1            3         M    3_8_M  14.796384  24.363092   \n",
       "\n",
       "                      plate_barcode  \n",
       "cell                                 \n",
       "A15-D041914-3_8_M-1-1       D041914  \n",
       "A16-D041914-3_8_M-1-1       D041914  \n",
       "A17-D041914-3_8_M-1-1       D041914  \n",
       "A18-D041914-3_8_M-1-1       D041914  \n",
       "A20-D041914-3_8_M-1-1       D041914  "
      ]
     },
     "execution_count": 101,
     "metadata": {},
     "output_type": "execute_result"
    }
   ],
   "source": [
    "facs_annotations_subset.query('cell_ontology_class == \"bladder urothelial cell\"').head()"
   ]
  },
  {
   "cell_type": "code",
   "execution_count": null,
   "metadata": {},
   "outputs": [],
   "source": []
  },
  {
   "cell_type": "code",
   "execution_count": 50,
   "metadata": {},
   "outputs": [
    {
     "data": {
      "text/html": [
       "<div>\n",
       "<style scoped>\n",
       "    .dataframe tbody tr th:only-of-type {\n",
       "        vertical-align: middle;\n",
       "    }\n",
       "\n",
       "    .dataframe tbody tr th {\n",
       "        vertical-align: top;\n",
       "    }\n",
       "\n",
       "    .dataframe thead th {\n",
       "        text-align: right;\n",
       "    }\n",
       "</style>\n",
       "<table border=\"1\" class=\"dataframe\">\n",
       "  <thead>\n",
       "    <tr style=\"text-align: right;\">\n",
       "      <th></th>\n",
       "      <th>0610005C13Rik</th>\n",
       "      <th>0610007C21Rik</th>\n",
       "      <th>0610007L01Rik</th>\n",
       "      <th>0610007N19Rik</th>\n",
       "      <th>0610007P08Rik</th>\n",
       "      <th>0610007P14Rik</th>\n",
       "      <th>0610007P22Rik</th>\n",
       "      <th>0610008F07Rik</th>\n",
       "      <th>0610009B14Rik</th>\n",
       "      <th>0610009B22Rik</th>\n",
       "      <th>...</th>\n",
       "      <th>Zxda</th>\n",
       "      <th>Zxdb</th>\n",
       "      <th>Zxdc</th>\n",
       "      <th>Zyg11a</th>\n",
       "      <th>Zyg11b</th>\n",
       "      <th>Zyx</th>\n",
       "      <th>Zzef1</th>\n",
       "      <th>Zzz3</th>\n",
       "      <th>a</th>\n",
       "      <th>l7Rn6</th>\n",
       "    </tr>\n",
       "    <tr>\n",
       "      <th>SAMPLE_ID</th>\n",
       "      <th></th>\n",
       "      <th></th>\n",
       "      <th></th>\n",
       "      <th></th>\n",
       "      <th></th>\n",
       "      <th></th>\n",
       "      <th></th>\n",
       "      <th></th>\n",
       "      <th></th>\n",
       "      <th></th>\n",
       "      <th></th>\n",
       "      <th></th>\n",
       "      <th></th>\n",
       "      <th></th>\n",
       "      <th></th>\n",
       "      <th></th>\n",
       "      <th></th>\n",
       "      <th></th>\n",
       "      <th></th>\n",
       "      <th></th>\n",
       "      <th></th>\n",
       "    </tr>\n",
       "  </thead>\n",
       "  <tbody>\n",
       "    <tr>\n",
       "      <th>A12-D041914-3_8_M-1-1</th>\n",
       "      <td>0</td>\n",
       "      <td>194</td>\n",
       "      <td>28</td>\n",
       "      <td>57</td>\n",
       "      <td>0</td>\n",
       "      <td>2</td>\n",
       "      <td>3</td>\n",
       "      <td>0</td>\n",
       "      <td>0</td>\n",
       "      <td>0</td>\n",
       "      <td>...</td>\n",
       "      <td>0</td>\n",
       "      <td>0</td>\n",
       "      <td>0</td>\n",
       "      <td>0</td>\n",
       "      <td>0</td>\n",
       "      <td>299</td>\n",
       "      <td>0</td>\n",
       "      <td>2</td>\n",
       "      <td>0</td>\n",
       "      <td>41</td>\n",
       "    </tr>\n",
       "    <tr>\n",
       "      <th>B16-D041914-3_8_M-1-1</th>\n",
       "      <td>0</td>\n",
       "      <td>460</td>\n",
       "      <td>0</td>\n",
       "      <td>0</td>\n",
       "      <td>0</td>\n",
       "      <td>0</td>\n",
       "      <td>230</td>\n",
       "      <td>0</td>\n",
       "      <td>0</td>\n",
       "      <td>0</td>\n",
       "      <td>...</td>\n",
       "      <td>0</td>\n",
       "      <td>0</td>\n",
       "      <td>0</td>\n",
       "      <td>0</td>\n",
       "      <td>0</td>\n",
       "      <td>0</td>\n",
       "      <td>0</td>\n",
       "      <td>0</td>\n",
       "      <td>0</td>\n",
       "      <td>0</td>\n",
       "    </tr>\n",
       "    <tr>\n",
       "      <th>C18-D041914-3_8_M-1-1</th>\n",
       "      <td>0</td>\n",
       "      <td>692</td>\n",
       "      <td>62</td>\n",
       "      <td>73</td>\n",
       "      <td>113</td>\n",
       "      <td>5</td>\n",
       "      <td>0</td>\n",
       "      <td>0</td>\n",
       "      <td>0</td>\n",
       "      <td>3</td>\n",
       "      <td>...</td>\n",
       "      <td>0</td>\n",
       "      <td>0</td>\n",
       "      <td>13</td>\n",
       "      <td>0</td>\n",
       "      <td>30</td>\n",
       "      <td>6</td>\n",
       "      <td>0</td>\n",
       "      <td>378</td>\n",
       "      <td>0</td>\n",
       "      <td>196</td>\n",
       "    </tr>\n",
       "    <tr>\n",
       "      <th>D22-D041914-3_8_M-1-1</th>\n",
       "      <td>0</td>\n",
       "      <td>90</td>\n",
       "      <td>16</td>\n",
       "      <td>7</td>\n",
       "      <td>0</td>\n",
       "      <td>0</td>\n",
       "      <td>1</td>\n",
       "      <td>0</td>\n",
       "      <td>0</td>\n",
       "      <td>22</td>\n",
       "      <td>...</td>\n",
       "      <td>0</td>\n",
       "      <td>1</td>\n",
       "      <td>0</td>\n",
       "      <td>0</td>\n",
       "      <td>0</td>\n",
       "      <td>0</td>\n",
       "      <td>0</td>\n",
       "      <td>0</td>\n",
       "      <td>0</td>\n",
       "      <td>0</td>\n",
       "    </tr>\n",
       "    <tr>\n",
       "      <th>F4-D041914-3_8_M-1-1</th>\n",
       "      <td>0</td>\n",
       "      <td>59</td>\n",
       "      <td>8</td>\n",
       "      <td>0</td>\n",
       "      <td>0</td>\n",
       "      <td>0</td>\n",
       "      <td>0</td>\n",
       "      <td>0</td>\n",
       "      <td>0</td>\n",
       "      <td>0</td>\n",
       "      <td>...</td>\n",
       "      <td>0</td>\n",
       "      <td>0</td>\n",
       "      <td>0</td>\n",
       "      <td>0</td>\n",
       "      <td>0</td>\n",
       "      <td>2</td>\n",
       "      <td>0</td>\n",
       "      <td>4</td>\n",
       "      <td>0</td>\n",
       "      <td>0</td>\n",
       "    </tr>\n",
       "  </tbody>\n",
       "</table>\n",
       "<p>5 rows × 23429 columns</p>\n",
       "</div>"
      ],
      "text/plain": [
       "                       0610005C13Rik  0610007C21Rik  0610007L01Rik  \\\n",
       "SAMPLE_ID                                                            \n",
       "A12-D041914-3_8_M-1-1              0            194             28   \n",
       "B16-D041914-3_8_M-1-1              0            460              0   \n",
       "C18-D041914-3_8_M-1-1              0            692             62   \n",
       "D22-D041914-3_8_M-1-1              0             90             16   \n",
       "F4-D041914-3_8_M-1-1               0             59              8   \n",
       "\n",
       "                       0610007N19Rik  0610007P08Rik  0610007P14Rik  \\\n",
       "SAMPLE_ID                                                            \n",
       "A12-D041914-3_8_M-1-1             57              0              2   \n",
       "B16-D041914-3_8_M-1-1              0              0              0   \n",
       "C18-D041914-3_8_M-1-1             73            113              5   \n",
       "D22-D041914-3_8_M-1-1              7              0              0   \n",
       "F4-D041914-3_8_M-1-1               0              0              0   \n",
       "\n",
       "                       0610007P22Rik  0610008F07Rik  0610009B14Rik  \\\n",
       "SAMPLE_ID                                                            \n",
       "A12-D041914-3_8_M-1-1              3              0              0   \n",
       "B16-D041914-3_8_M-1-1            230              0              0   \n",
       "C18-D041914-3_8_M-1-1              0              0              0   \n",
       "D22-D041914-3_8_M-1-1              1              0              0   \n",
       "F4-D041914-3_8_M-1-1               0              0              0   \n",
       "\n",
       "                       0610009B22Rik  ...    Zxda  Zxdb  Zxdc  Zyg11a  Zyg11b  \\\n",
       "SAMPLE_ID                             ...                                       \n",
       "A12-D041914-3_8_M-1-1              0  ...       0     0     0       0       0   \n",
       "B16-D041914-3_8_M-1-1              0  ...       0     0     0       0       0   \n",
       "C18-D041914-3_8_M-1-1              3  ...       0     0    13       0      30   \n",
       "D22-D041914-3_8_M-1-1             22  ...       0     1     0       0       0   \n",
       "F4-D041914-3_8_M-1-1               0  ...       0     0     0       0       0   \n",
       "\n",
       "                       Zyx  Zzef1  Zzz3  a  l7Rn6  \n",
       "SAMPLE_ID                                          \n",
       "A12-D041914-3_8_M-1-1  299      0     2  0     41  \n",
       "B16-D041914-3_8_M-1-1    0      0     0  0      0  \n",
       "C18-D041914-3_8_M-1-1    6      0   378  0    196  \n",
       "D22-D041914-3_8_M-1-1    0      0     0  0      0  \n",
       "F4-D041914-3_8_M-1-1     2      0     4  0      0  \n",
       "\n",
       "[5 rows x 23429 columns]"
      ]
     },
     "execution_count": 50,
     "metadata": {},
     "output_type": "execute_result"
    }
   ],
   "source": [
    "facs_counts = pd.read_csv(f'/mnt/data/facs_counts/{bladder_plate_to_use}.htseq-count-by-cell.csv', index_col=0)\n",
    "columns_to_drop = [x for x in facs_counts.columns if '_' in x] + ['TAXON']\n",
    "facs_counts = facs_counts.drop(columns=columns_to_drop)\n",
    "facs_counts.head()"
   ]
  },
  {
   "cell_type": "markdown",
   "metadata": {},
   "source": [
    "## Dot products of facs data\n",
    "\n",
    "\n",
    "Pick two cells that are in the same cluster and annotated the same"
   ]
  },
  {
   "cell_type": "code",
   "execution_count": 102,
   "metadata": {},
   "outputs": [],
   "source": [
    "# Both in cluster2, annotated as \"bladder cell\"\n",
    "facs_cell_a = 'A10-D041914-3_8_M-1-1'\n",
    "facs_cell_b = 'A12-D041914-3_8_M-1-1'\n",
    "\n",
    "# Cluster 3, but also  \"bladder urothelial cell\"\n",
    "facs_cell_c = 'A15-D041914-3_8_M-1-1'"
   ]
  },
  {
   "cell_type": "code",
   "execution_count": 104,
   "metadata": {
    "scrolled": true
   },
   "outputs": [
    {
     "data": {
      "text/plain": [
       "41737785706"
      ]
     },
     "execution_count": 104,
     "metadata": {},
     "output_type": "execute_result"
    }
   ],
   "source": [
    "facs_x = facs_counts.loc[facs_cell_a]\n",
    "facs_y = facs_counts.loc[facs_cell_b]\n",
    "facs_z = facs_counts.loc[facs_cell_c]\n",
    "\n",
    "np.dot(facs_x, facs_y)"
   ]
  },
  {
   "cell_type": "code",
   "execution_count": 105,
   "metadata": {},
   "outputs": [
    {
     "data": {
      "text/plain": [
       "0.9516412126034777"
      ]
     },
     "execution_count": 105,
     "metadata": {},
     "output_type": "execute_result"
    }
   ],
   "source": [
    "facs_x.corr(facs_y)"
   ]
  },
  {
   "cell_type": "code",
   "execution_count": 106,
   "metadata": {},
   "outputs": [
    {
     "data": {
      "text/plain": [
       "0.7178551838364595"
      ]
     },
     "execution_count": 106,
     "metadata": {},
     "output_type": "execute_result"
    }
   ],
   "source": [
    "facs_x.corr(facs_z)"
   ]
  },
  {
   "cell_type": "code",
   "execution_count": 107,
   "metadata": {},
   "outputs": [
    {
     "data": {
      "text/plain": [
       "0.5767937913621816"
      ]
     },
     "execution_count": 107,
     "metadata": {},
     "output_type": "execute_result"
    }
   ],
   "source": [
    "facs_x.corr(facs_y, method='spearman')"
   ]
  },
  {
   "cell_type": "code",
   "execution_count": 108,
   "metadata": {},
   "outputs": [
    {
     "data": {
      "text/plain": [
       "0.5379428064333963"
      ]
     },
     "execution_count": 108,
     "metadata": {},
     "output_type": "execute_result"
    }
   ],
   "source": [
    "(facs_x > 0).corr(facs_y > 0)"
   ]
  },
  {
   "cell_type": "code",
   "execution_count": 109,
   "metadata": {},
   "outputs": [
    {
     "data": {
      "text/plain": [
       "0.44517106600194273"
      ]
     },
     "execution_count": 109,
     "metadata": {},
     "output_type": "execute_result"
    }
   ],
   "source": [
    "(facs_x > 0).corr(facs_z > 0)"
   ]
  },
  {
   "cell_type": "markdown",
   "metadata": {},
   "source": [
    "## Dot products of droplet data"
   ]
  },
  {
   "cell_type": "code",
   "execution_count": 60,
   "metadata": {},
   "outputs": [
    {
     "data": {
      "text/html": [
       "<div>\n",
       "<style scoped>\n",
       "    .dataframe tbody tr th:only-of-type {\n",
       "        vertical-align: middle;\n",
       "    }\n",
       "\n",
       "    .dataframe tbody tr th {\n",
       "        vertical-align: top;\n",
       "    }\n",
       "\n",
       "    .dataframe thead th {\n",
       "        text-align: right;\n",
       "    }\n",
       "</style>\n",
       "<table border=\"1\" class=\"dataframe\">\n",
       "  <thead>\n",
       "    <tr style=\"text-align: right;\">\n",
       "      <th></th>\n",
       "      <th>tissue</th>\n",
       "      <th>subtissue</th>\n",
       "      <th>cell_ontology_class</th>\n",
       "      <th>cell_ontology_id</th>\n",
       "      <th>free_annotation</th>\n",
       "      <th>cluster.ids</th>\n",
       "      <th>mouse.sex</th>\n",
       "      <th>mouse.id</th>\n",
       "      <th>tSNE_1</th>\n",
       "      <th>tSNE_2</th>\n",
       "      <th>channel</th>\n",
       "    </tr>\n",
       "    <tr>\n",
       "      <th>cell</th>\n",
       "      <th></th>\n",
       "      <th></th>\n",
       "      <th></th>\n",
       "      <th></th>\n",
       "      <th></th>\n",
       "      <th></th>\n",
       "      <th></th>\n",
       "      <th></th>\n",
       "      <th></th>\n",
       "      <th></th>\n",
       "      <th></th>\n",
       "    </tr>\n",
       "  </thead>\n",
       "  <tbody>\n",
       "    <tr>\n",
       "      <th>10X_P4_3_AAAGTAGAGATGCCAG</th>\n",
       "      <td>Bladder</td>\n",
       "      <td>NaN</td>\n",
       "      <td>bladder cell</td>\n",
       "      <td>CL:1001319</td>\n",
       "      <td>Bladder mesenchymal cell</td>\n",
       "      <td>0</td>\n",
       "      <td>M</td>\n",
       "      <td>3-M-8</td>\n",
       "      <td>-28.034252</td>\n",
       "      <td>-13.407488</td>\n",
       "      <td>10X_P4_3</td>\n",
       "    </tr>\n",
       "    <tr>\n",
       "      <th>10X_P4_3_AACCGCGTCCAACCAA</th>\n",
       "      <td>Bladder</td>\n",
       "      <td>NaN</td>\n",
       "      <td>bladder cell</td>\n",
       "      <td>CL:1001319</td>\n",
       "      <td>Bladder mesenchymal cell</td>\n",
       "      <td>2</td>\n",
       "      <td>M</td>\n",
       "      <td>3-M-8</td>\n",
       "      <td>-15.890827</td>\n",
       "      <td>7.453387</td>\n",
       "      <td>10X_P4_3</td>\n",
       "    </tr>\n",
       "    <tr>\n",
       "      <th>10X_P4_3_AACTCCCGTCGGGTCT</th>\n",
       "      <td>Bladder</td>\n",
       "      <td>NaN</td>\n",
       "      <td>bladder cell</td>\n",
       "      <td>CL:1001319</td>\n",
       "      <td>Bladder mesenchymal cell</td>\n",
       "      <td>5</td>\n",
       "      <td>M</td>\n",
       "      <td>3-M-8</td>\n",
       "      <td>-11.131739</td>\n",
       "      <td>8.426802</td>\n",
       "      <td>10X_P4_3</td>\n",
       "    </tr>\n",
       "    <tr>\n",
       "      <th>10X_P4_3_AACTCTTAGTTGCAGG</th>\n",
       "      <td>Bladder</td>\n",
       "      <td>NaN</td>\n",
       "      <td>bladder urothelial cell</td>\n",
       "      <td>CL:1001428</td>\n",
       "      <td>Luminal bladder epithelial cell</td>\n",
       "      <td>3</td>\n",
       "      <td>M</td>\n",
       "      <td>3-M-8</td>\n",
       "      <td>21.559201</td>\n",
       "      <td>6.817286</td>\n",
       "      <td>10X_P4_3</td>\n",
       "    </tr>\n",
       "    <tr>\n",
       "      <th>10X_P4_3_AACTCTTTCATAACCG</th>\n",
       "      <td>Bladder</td>\n",
       "      <td>NaN</td>\n",
       "      <td>bladder cell</td>\n",
       "      <td>CL:1001319</td>\n",
       "      <td>Bladder mesenchymal cell</td>\n",
       "      <td>2</td>\n",
       "      <td>M</td>\n",
       "      <td>3-M-8</td>\n",
       "      <td>-5.939946</td>\n",
       "      <td>19.630456</td>\n",
       "      <td>10X_P4_3</td>\n",
       "    </tr>\n",
       "  </tbody>\n",
       "</table>\n",
       "</div>"
      ],
      "text/plain": [
       "                            tissue  subtissue      cell_ontology_class  \\\n",
       "cell                                                                     \n",
       "10X_P4_3_AAAGTAGAGATGCCAG  Bladder        NaN             bladder cell   \n",
       "10X_P4_3_AACCGCGTCCAACCAA  Bladder        NaN             bladder cell   \n",
       "10X_P4_3_AACTCCCGTCGGGTCT  Bladder        NaN             bladder cell   \n",
       "10X_P4_3_AACTCTTAGTTGCAGG  Bladder        NaN  bladder urothelial cell   \n",
       "10X_P4_3_AACTCTTTCATAACCG  Bladder        NaN             bladder cell   \n",
       "\n",
       "                          cell_ontology_id                  free_annotation  \\\n",
       "cell                                                                          \n",
       "10X_P4_3_AAAGTAGAGATGCCAG       CL:1001319         Bladder mesenchymal cell   \n",
       "10X_P4_3_AACCGCGTCCAACCAA       CL:1001319         Bladder mesenchymal cell   \n",
       "10X_P4_3_AACTCCCGTCGGGTCT       CL:1001319         Bladder mesenchymal cell   \n",
       "10X_P4_3_AACTCTTAGTTGCAGG       CL:1001428  Luminal bladder epithelial cell   \n",
       "10X_P4_3_AACTCTTTCATAACCG       CL:1001319         Bladder mesenchymal cell   \n",
       "\n",
       "                           cluster.ids mouse.sex mouse.id     tSNE_1  \\\n",
       "cell                                                                   \n",
       "10X_P4_3_AAAGTAGAGATGCCAG            0         M    3-M-8 -28.034252   \n",
       "10X_P4_3_AACCGCGTCCAACCAA            2         M    3-M-8 -15.890827   \n",
       "10X_P4_3_AACTCCCGTCGGGTCT            5         M    3-M-8 -11.131739   \n",
       "10X_P4_3_AACTCTTAGTTGCAGG            3         M    3-M-8  21.559201   \n",
       "10X_P4_3_AACTCTTTCATAACCG            2         M    3-M-8  -5.939946   \n",
       "\n",
       "                              tSNE_2   channel  \n",
       "cell                                            \n",
       "10X_P4_3_AAAGTAGAGATGCCAG -13.407488  10X_P4_3  \n",
       "10X_P4_3_AACCGCGTCCAACCAA   7.453387  10X_P4_3  \n",
       "10X_P4_3_AACTCCCGTCGGGTCT   8.426802  10X_P4_3  \n",
       "10X_P4_3_AACTCTTAGTTGCAGG   6.817286  10X_P4_3  \n",
       "10X_P4_3_AACTCTTTCATAACCG  19.630456  10X_P4_3  "
      ]
     },
     "execution_count": 60,
     "metadata": {},
     "output_type": "execute_result"
    }
   ],
   "source": [
    "droplet_annotations_subset.head()"
   ]
  },
  {
   "cell_type": "markdown",
   "metadata": {},
   "source": [
    "Pick some cells"
   ]
  },
  {
   "cell_type": "code",
   "execution_count": 92,
   "metadata": {},
   "outputs": [],
   "source": [
    "\n",
    "# Both in cluster2, annotated as \"bladder cell\"\n",
    "droplet_cell_a = 'AACCGCGTCCAACCAA-1'\n",
    "droplet_cell_b = 'AACTCTTTCATAACCG-1'\n",
    "\n",
    "# in cluster 3, \"bladder urothelial cell\"\n",
    "droplet_cell_c = 'AACTCTTAGTTGCAGG-1'"
   ]
  },
  {
   "cell_type": "code",
   "execution_count": 110,
   "metadata": {},
   "outputs": [
    {
     "data": {
      "text/plain": [
       "625094.0"
      ]
     },
     "execution_count": 110,
     "metadata": {},
     "output_type": "execute_result"
    }
   ],
   "source": [
    "index = adata.var_names\n",
    "\n",
    "droplet_x = pd.Series(adata[droplet_cell_a, :].X.toarray(), index=index)\n",
    "droplet_y = pd.Series(adata[droplet_cell_b, :].X.toarray(), index=index)\n",
    "droplet_z = pd.Series(adata[droplet_cell_c, :].X.toarray(), index=index)\n",
    "\n",
    "np.dot(droplet_x, droplet_y)"
   ]
  },
  {
   "cell_type": "code",
   "execution_count": 111,
   "metadata": {},
   "outputs": [
    {
     "data": {
      "text/plain": [
       "0.8671407957916231"
      ]
     },
     "execution_count": 111,
     "metadata": {},
     "output_type": "execute_result"
    }
   ],
   "source": [
    "droplet_x.corr(droplet_y)"
   ]
  },
  {
   "cell_type": "code",
   "execution_count": 112,
   "metadata": {},
   "outputs": [
    {
     "data": {
      "text/plain": [
       "0.5792142448792879"
      ]
     },
     "execution_count": 112,
     "metadata": {},
     "output_type": "execute_result"
    }
   ],
   "source": [
    "droplet_x.corr(droplet_z)"
   ]
  },
  {
   "cell_type": "code",
   "execution_count": 113,
   "metadata": {},
   "outputs": [
    {
     "data": {
      "text/plain": [
       "0.5313184924613816"
      ]
     },
     "execution_count": 113,
     "metadata": {},
     "output_type": "execute_result"
    }
   ],
   "source": [
    "droplet_x.corr(droplet_y, method='spearman')"
   ]
  },
  {
   "cell_type": "code",
   "execution_count": 114,
   "metadata": {},
   "outputs": [
    {
     "data": {
      "text/plain": [
       "0.48979496737274747"
      ]
     },
     "execution_count": 114,
     "metadata": {},
     "output_type": "execute_result"
    }
   ],
   "source": [
    "(droplet_x > 0).corr(droplet_y > 0)"
   ]
  },
  {
   "cell_type": "code",
   "execution_count": 115,
   "metadata": {},
   "outputs": [
    {
     "data": {
      "text/plain": [
       "0.4310073646429292"
      ]
     },
     "execution_count": 115,
     "metadata": {},
     "output_type": "execute_result"
    }
   ],
   "source": [
    "(droplet_x > 0).corr(droplet_z > 0)"
   ]
  },
  {
   "cell_type": "markdown",
   "metadata": {},
   "source": [
    "## Facs vs droplet"
   ]
  },
  {
   "cell_type": "markdown",
   "metadata": {},
   "source": [
    "###  x vs x - same cell types"
   ]
  },
  {
   "cell_type": "code",
   "execution_count": 116,
   "metadata": {},
   "outputs": [
    {
     "data": {
      "text/plain": [
       "0.19092797757213742"
      ]
     },
     "execution_count": 116,
     "metadata": {},
     "output_type": "execute_result"
    }
   ],
   "source": [
    "droplet_x.corr(facs_x)"
   ]
  },
  {
   "cell_type": "code",
   "execution_count": 117,
   "metadata": {},
   "outputs": [
    {
     "data": {
      "text/plain": [
       "0.5023687519063417"
      ]
     },
     "execution_count": 117,
     "metadata": {},
     "output_type": "execute_result"
    }
   ],
   "source": [
    "(droplet_x > 0).corr(facs_x > 0)"
   ]
  },
  {
   "cell_type": "markdown",
   "metadata": {},
   "source": [
    "### x vs z - different cell types"
   ]
  },
  {
   "cell_type": "code",
   "execution_count": 119,
   "metadata": {},
   "outputs": [
    {
     "data": {
      "text/plain": [
       "0.18566616322026358"
      ]
     },
     "execution_count": 119,
     "metadata": {},
     "output_type": "execute_result"
    }
   ],
   "source": [
    "droplet_x.corr(facs_z)"
   ]
  },
  {
   "cell_type": "code",
   "execution_count": 118,
   "metadata": {},
   "outputs": [
    {
     "data": {
      "text/plain": [
       "0.4268088649421203"
      ]
     },
     "execution_count": 118,
     "metadata": {},
     "output_type": "execute_result"
    }
   ],
   "source": [
    "(droplet_x > 0).corr(facs_z > 0)"
   ]
  },
  {
   "cell_type": "markdown",
   "metadata": {},
   "source": [
    "### TODO: ie, making the nearest neighbor more likely to be of same type?"
   ]
  }
 ],
 "metadata": {
  "kernelspec": {
   "display_name": "Python 3",
   "language": "python",
   "name": "python3"
  },
  "language_info": {
   "codemirror_mode": {
    "name": "ipython",
    "version": 3
   },
   "file_extension": ".py",
   "mimetype": "text/x-python",
   "name": "python",
   "nbconvert_exporter": "python",
   "pygments_lexer": "ipython3",
   "version": "3.6.5"
  }
 },
 "nbformat": 4,
 "nbformat_minor": 2
}
