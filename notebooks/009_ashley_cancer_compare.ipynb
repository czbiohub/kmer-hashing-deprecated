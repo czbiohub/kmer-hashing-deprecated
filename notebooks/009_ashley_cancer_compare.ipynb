{
 "cells": [
  {
   "cell_type": "code",
   "execution_count": 1,
   "metadata": {},
   "outputs": [
    {
     "name": "stdout",
     "output_type": "stream",
     "text": [
      "(5054, 10)\n"
     ]
    },
    {
     "data": {
      "text/html": [
       "<div>\n",
       "<style scoped>\n",
       "    .dataframe tbody tr th:only-of-type {\n",
       "        vertical-align: middle;\n",
       "    }\n",
       "\n",
       "    .dataframe tbody tr th {\n",
       "        vertical-align: top;\n",
       "    }\n",
       "\n",
       "    .dataframe thead th {\n",
       "        text-align: right;\n",
       "    }\n",
       "</style>\n",
       "<table border=\"1\" class=\"dataframe\">\n",
       "  <thead>\n",
       "    <tr style=\"text-align: right;\">\n",
       "      <th></th>\n",
       "      <th>id</th>\n",
       "      <th>read1</th>\n",
       "      <th>read2</th>\n",
       "      <th>name</th>\n",
       "      <th>output</th>\n",
       "      <th>trim_low_abundance_kmers</th>\n",
       "      <th>dna</th>\n",
       "      <th>protein</th>\n",
       "      <th>ksizes</th>\n",
       "      <th>scaled</th>\n",
       "    </tr>\n",
       "  </thead>\n",
       "  <tbody>\n",
       "    <tr>\n",
       "      <th>0</th>\n",
       "      <td>A10_B000419_S34</td>\n",
       "      <td>s3://czbiohub-seqbot/fastqs/180516_A00111_0149_AH5CM2DSXX/rawdata/A10_B000419_S34/A10_B000419_S34_R1_001.fastq.gz</td>\n",
       "      <td>s3://czbiohub-seqbot/fastqs/180516_A00111_0149_AH5CM2DSXX/rawdata/A10_B000419_S34/A10_B000419_S34_R2_001.fastq.gz</td>\n",
       "      <td>A10_B000419_S34</td>\n",
       "      <td>s3://olgabot-maca/lung_cancer/sourmash_v3/A10_B000419_S34.signature</td>\n",
       "      <td>True</td>\n",
       "      <td>True</td>\n",
       "      <td>False</td>\n",
       "      <td>21,33,51</td>\n",
       "      <td>500</td>\n",
       "    </tr>\n",
       "    <tr>\n",
       "      <th>1</th>\n",
       "      <td>A10_B000420_S82</td>\n",
       "      <td>s3://czbiohub-seqbot/fastqs/180516_A00111_0149_AH5CM2DSXX/rawdata/A10_B000420_S82/A10_B000420_S82_R1_001.fastq.gz</td>\n",
       "      <td>s3://czbiohub-seqbot/fastqs/180516_A00111_0149_AH5CM2DSXX/rawdata/A10_B000420_S82/A10_B000420_S82_R2_001.fastq.gz</td>\n",
       "      <td>A10_B000420_S82</td>\n",
       "      <td>s3://olgabot-maca/lung_cancer/sourmash_v3/A10_B000420_S82.signature</td>\n",
       "      <td>True</td>\n",
       "      <td>True</td>\n",
       "      <td>False</td>\n",
       "      <td>21,33,51</td>\n",
       "      <td>500</td>\n",
       "    </tr>\n",
       "    <tr>\n",
       "      <th>2</th>\n",
       "      <td>A10_B002073_S166</td>\n",
       "      <td>s3://czbiohub-seqbot/fastqs/180516_A00111_0149_AH5CM2DSXX/rawdata/A10_B002073_S166/A10_B002073_S166_R1_001.fastq.gz</td>\n",
       "      <td>s3://czbiohub-seqbot/fastqs/180516_A00111_0149_AH5CM2DSXX/rawdata/A10_B002073_S166/A10_B002073_S166_R2_001.fastq.gz</td>\n",
       "      <td>A10_B002073_S166</td>\n",
       "      <td>s3://olgabot-maca/lung_cancer/sourmash_v3/A10_B002073_S166.signature</td>\n",
       "      <td>True</td>\n",
       "      <td>True</td>\n",
       "      <td>False</td>\n",
       "      <td>21,33,51</td>\n",
       "      <td>500</td>\n",
       "    </tr>\n",
       "    <tr>\n",
       "      <th>3</th>\n",
       "      <td>A10_B002078_S202</td>\n",
       "      <td>s3://czbiohub-seqbot/fastqs/180516_A00111_0149_AH5CM2DSXX/rawdata/A10_B002078_S202/A10_B002078_S202_R1_001.fastq.gz</td>\n",
       "      <td>s3://czbiohub-seqbot/fastqs/180516_A00111_0149_AH5CM2DSXX/rawdata/A10_B002078_S202/A10_B002078_S202_R2_001.fastq.gz</td>\n",
       "      <td>A10_B002078_S202</td>\n",
       "      <td>s3://olgabot-maca/lung_cancer/sourmash_v3/A10_B002078_S202.signature</td>\n",
       "      <td>True</td>\n",
       "      <td>True</td>\n",
       "      <td>False</td>\n",
       "      <td>21,33,51</td>\n",
       "      <td>500</td>\n",
       "    </tr>\n",
       "    <tr>\n",
       "      <th>4</th>\n",
       "      <td>A10_B002095_S118</td>\n",
       "      <td>s3://czbiohub-seqbot/fastqs/180516_A00111_0149_AH5CM2DSXX/rawdata/A10_B002095_S118/A10_B002095_S118_R1_001.fastq.gz</td>\n",
       "      <td>s3://czbiohub-seqbot/fastqs/180516_A00111_0149_AH5CM2DSXX/rawdata/A10_B002095_S118/A10_B002095_S118_R2_001.fastq.gz</td>\n",
       "      <td>A10_B002095_S118</td>\n",
       "      <td>s3://olgabot-maca/lung_cancer/sourmash_v3/A10_B002095_S118.signature</td>\n",
       "      <td>True</td>\n",
       "      <td>True</td>\n",
       "      <td>False</td>\n",
       "      <td>21,33,51</td>\n",
       "      <td>500</td>\n",
       "    </tr>\n",
       "  </tbody>\n",
       "</table>\n",
       "</div>"
      ],
      "text/plain": [
       "                 id  \\\n",
       "0   A10_B000419_S34   \n",
       "1   A10_B000420_S82   \n",
       "2  A10_B002073_S166   \n",
       "3  A10_B002078_S202   \n",
       "4  A10_B002095_S118   \n",
       "\n",
       "                                                                                                                 read1  \\\n",
       "0    s3://czbiohub-seqbot/fastqs/180516_A00111_0149_AH5CM2DSXX/rawdata/A10_B000419_S34/A10_B000419_S34_R1_001.fastq.gz   \n",
       "1    s3://czbiohub-seqbot/fastqs/180516_A00111_0149_AH5CM2DSXX/rawdata/A10_B000420_S82/A10_B000420_S82_R1_001.fastq.gz   \n",
       "2  s3://czbiohub-seqbot/fastqs/180516_A00111_0149_AH5CM2DSXX/rawdata/A10_B002073_S166/A10_B002073_S166_R1_001.fastq.gz   \n",
       "3  s3://czbiohub-seqbot/fastqs/180516_A00111_0149_AH5CM2DSXX/rawdata/A10_B002078_S202/A10_B002078_S202_R1_001.fastq.gz   \n",
       "4  s3://czbiohub-seqbot/fastqs/180516_A00111_0149_AH5CM2DSXX/rawdata/A10_B002095_S118/A10_B002095_S118_R1_001.fastq.gz   \n",
       "\n",
       "                                                                                                                 read2  \\\n",
       "0    s3://czbiohub-seqbot/fastqs/180516_A00111_0149_AH5CM2DSXX/rawdata/A10_B000419_S34/A10_B000419_S34_R2_001.fastq.gz   \n",
       "1    s3://czbiohub-seqbot/fastqs/180516_A00111_0149_AH5CM2DSXX/rawdata/A10_B000420_S82/A10_B000420_S82_R2_001.fastq.gz   \n",
       "2  s3://czbiohub-seqbot/fastqs/180516_A00111_0149_AH5CM2DSXX/rawdata/A10_B002073_S166/A10_B002073_S166_R2_001.fastq.gz   \n",
       "3  s3://czbiohub-seqbot/fastqs/180516_A00111_0149_AH5CM2DSXX/rawdata/A10_B002078_S202/A10_B002078_S202_R2_001.fastq.gz   \n",
       "4  s3://czbiohub-seqbot/fastqs/180516_A00111_0149_AH5CM2DSXX/rawdata/A10_B002095_S118/A10_B002095_S118_R2_001.fastq.gz   \n",
       "\n",
       "               name  \\\n",
       "0   A10_B000419_S34   \n",
       "1   A10_B000420_S82   \n",
       "2  A10_B002073_S166   \n",
       "3  A10_B002078_S202   \n",
       "4  A10_B002095_S118   \n",
       "\n",
       "                                                                 output  \\\n",
       "0   s3://olgabot-maca/lung_cancer/sourmash_v3/A10_B000419_S34.signature   \n",
       "1   s3://olgabot-maca/lung_cancer/sourmash_v3/A10_B000420_S82.signature   \n",
       "2  s3://olgabot-maca/lung_cancer/sourmash_v3/A10_B002073_S166.signature   \n",
       "3  s3://olgabot-maca/lung_cancer/sourmash_v3/A10_B002078_S202.signature   \n",
       "4  s3://olgabot-maca/lung_cancer/sourmash_v3/A10_B002095_S118.signature   \n",
       "\n",
       "   trim_low_abundance_kmers   dna  protein    ksizes  scaled  \n",
       "0                      True  True    False  21,33,51     500  \n",
       "1                      True  True    False  21,33,51     500  \n",
       "2                      True  True    False  21,33,51     500  \n",
       "3                      True  True    False  21,33,51     500  \n",
       "4                      True  True    False  21,33,51     500  "
      ]
     },
     "execution_count": 1,
     "metadata": {},
     "output_type": "execute_result"
    }
   ],
   "source": [
    "import pandas as pd\n",
    "\n",
    "pd.options.display.max_colwidth = 500\n",
    "\n",
    "samples = pd.read_csv('../sourmash/lung_cancer_v4/compute/samples.csv')\n",
    "print(samples.shape)\n",
    "samples.head()"
   ]
  },
  {
   "cell_type": "code",
   "execution_count": null,
   "metadata": {
    "collapsed": true
   },
   "outputs": [],
   "source": []
  },
  {
   "cell_type": "code",
   "execution_count": 13,
   "metadata": {},
   "outputs": [
    {
     "data": {
      "text/html": [
       "<div>\n",
       "<style scoped>\n",
       "    .dataframe tbody tr th:only-of-type {\n",
       "        vertical-align: middle;\n",
       "    }\n",
       "\n",
       "    .dataframe tbody tr th {\n",
       "        vertical-align: top;\n",
       "    }\n",
       "\n",
       "    .dataframe thead th {\n",
       "        text-align: right;\n",
       "    }\n",
       "</style>\n",
       "<table border=\"1\" class=\"dataframe\">\n",
       "  <thead>\n",
       "    <tr style=\"text-align: right;\">\n",
       "      <th></th>\n",
       "      <th>ksize</th>\n",
       "      <th>signatures</th>\n",
       "      <th>output</th>\n",
       "    </tr>\n",
       "    <tr>\n",
       "      <th>id</th>\n",
       "      <th></th>\n",
       "      <th></th>\n",
       "      <th></th>\n",
       "    </tr>\n",
       "  </thead>\n",
       "  <tbody>\n",
       "    <tr>\n",
       "      <th>k21</th>\n",
       "      <td>21</td>\n",
       "      <td>s3://olgabot-maca/lung_cancer/sourmash_v3/</td>\n",
       "      <td>s3://olgabot-maca/lung_cancer/sourmash_v3_compare/k21.csv</td>\n",
       "    </tr>\n",
       "    <tr>\n",
       "      <th>k33</th>\n",
       "      <td>33</td>\n",
       "      <td>s3://olgabot-maca/lung_cancer/sourmash_v3/</td>\n",
       "      <td>s3://olgabot-maca/lung_cancer/sourmash_v3_compare/k33.csv</td>\n",
       "    </tr>\n",
       "    <tr>\n",
       "      <th>k51</th>\n",
       "      <td>51</td>\n",
       "      <td>s3://olgabot-maca/lung_cancer/sourmash_v3/</td>\n",
       "      <td>s3://olgabot-maca/lung_cancer/sourmash_v3_compare/k51.csv</td>\n",
       "    </tr>\n",
       "  </tbody>\n",
       "</table>\n",
       "</div>"
      ],
      "text/plain": [
       "     ksize                                  signatures  \\\n",
       "id                                                       \n",
       "k21     21  s3://olgabot-maca/lung_cancer/sourmash_v3/   \n",
       "k33     33  s3://olgabot-maca/lung_cancer/sourmash_v3/   \n",
       "k51     51  s3://olgabot-maca/lung_cancer/sourmash_v3/   \n",
       "\n",
       "                                                        output  \n",
       "id                                                              \n",
       "k21  s3://olgabot-maca/lung_cancer/sourmash_v3_compare/k21.csv  \n",
       "k33  s3://olgabot-maca/lung_cancer/sourmash_v3_compare/k33.csv  \n",
       "k51  s3://olgabot-maca/lung_cancer/sourmash_v3_compare/k51.csv  "
      ]
     },
     "execution_count": 13,
     "metadata": {},
     "output_type": "execute_result"
    }
   ],
   "source": [
    "ksizes = 21, 33, 51\n",
    "\n",
    "runs = pd.DataFrame({'ksize': ksizes})\n",
    "runs['signatures'] = 's3://olgabot-maca/lung_cancer/sourmash_v3/'\n",
    "runs['output'] = 's3://olgabot-maca/lung_cancer/sourmash_v3_compare/k' + runs['ksize'].astype(str) + '.csv'\n",
    "runs.index = 'k' + runs['ksize'].astype(str)\n",
    "runs.index.name = 'id'\n",
    "runs.head()"
   ]
  },
  {
   "cell_type": "code",
   "execution_count": 14,
   "metadata": {},
   "outputs": [
    {
     "name": "stdout",
     "output_type": "stream",
     "text": [
      "mkdir: ../sourmash/lung_cancer_v4/compare: File exists\r\n"
     ]
    }
   ],
   "source": [
    "folder = '../sourmash/lung_cancer_v4/compare'\n",
    "! mkdir $folder"
   ]
  },
  {
   "cell_type": "code",
   "execution_count": 19,
   "metadata": {
    "collapsed": true
   },
   "outputs": [],
   "source": [
    "import json\n",
    "\n",
    "config = \t{\n",
    "\t\t\"program\": \"../../../reflow/sourmash_compare.rf\",\n",
    "\t\t\"runs_file\": \"samples.csv\"\n",
    "\t}\n",
    "\n",
    "runs.to_csv(f'{folder}/samples.csv', index=True)\n",
    "\n",
    "\n",
    "with open(f'{folder}/config.json', 'w') as f:\n",
    "    json.dump(config, f)"
   ]
  },
  {
   "cell_type": "code",
   "execution_count": 16,
   "metadata": {},
   "outputs": [
    {
     "data": {
      "text/plain": [
       "'/Users/olgabot/code/kmer-hashing/notebooks'"
      ]
     },
     "execution_count": 16,
     "metadata": {},
     "output_type": "execute_result"
    }
   ],
   "source": [
    "pwd"
   ]
  },
  {
   "cell_type": "code",
   "execution_count": 18,
   "metadata": {},
   "outputs": [
    {
     "name": "stdout",
     "output_type": "stream",
     "text": [
      "total 9960\r\n",
      "drwxr-xr-x  10 olgabot  staff   340B Aug  8 16:31 \u001b[1m\u001b[36m.\u001b[m\u001b[m/\r\n",
      "drwxr-xr-x   4 olgabot  staff   136B Aug  8 16:26 \u001b[1m\u001b[36m..\u001b[m\u001b[m/\r\n",
      "-rw-r--r--   1 olgabot  staff    78B Aug  9 06:02 config.json\r\n",
      "-rw-------   1 olgabot  staff   1.5M Aug  8 17:30 log.21\r\n",
      "-rw-------   1 olgabot  staff   1.5M Aug  8 17:30 log.33\r\n",
      "-rw-------   1 olgabot  staff   1.9M Aug  8 17:31 log.51\r\n",
      "-rw-r--r--   1 olgabot  staff   336B Aug  9 06:02 samples.csv\r\n",
      "-rw-------   1 olgabot  staff   917B Aug  8 16:28 state.bak\r\n",
      "-rw-------   1 olgabot  staff   917B Aug  8 16:28 state.json\r\n",
      "-rwxr-xr-x   1 olgabot  staff     0B Aug  8 16:27 \u001b[31mstate.lock\u001b[m\u001b[m*\r\n"
     ]
    }
   ],
   "source": [
    "ls -lha $folder"
   ]
  },
  {
   "cell_type": "code",
   "execution_count": null,
   "metadata": {
    "collapsed": true
   },
   "outputs": [],
   "source": []
  }
 ],
 "metadata": {
  "kernelspec": {
   "display_name": "Python 3",
   "language": "python",
   "name": "python3"
  },
  "language_info": {
   "codemirror_mode": {
    "name": "ipython",
    "version": 3
   },
   "file_extension": ".py",
   "mimetype": "text/x-python",
   "name": "python",
   "nbconvert_exporter": "python",
   "pygments_lexer": "ipython3",
   "version": "3.6.5"
  }
 },
 "nbformat": 4,
 "nbformat_minor": 2
}
