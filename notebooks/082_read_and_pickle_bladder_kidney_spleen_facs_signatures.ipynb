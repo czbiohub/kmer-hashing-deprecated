{
 "cells": [
  {
   "cell_type": "code",
   "execution_count": 1,
   "metadata": {},
   "outputs": [],
   "source": [
    "import glob\n",
    "from itertools import product\n",
    "import os\n",
    "\n",
    "import matplotlib.pyplot as plt\n",
    "import pandas as pd\n",
    "import seaborn as sns\n",
    "from sourmash import signature as sig\n",
    "from tqdm import tqdm\n",
    "\n",
    "%matplotlib inline"
   ]
  },
  {
   "cell_type": "markdown",
   "metadata": {},
   "source": [
    "## Info about the kmer hashes loaded"
   ]
  },
  {
   "cell_type": "code",
   "execution_count": 2,
   "metadata": {},
   "outputs": [],
   "source": [
    "ksizes = 21, 27, 33, 51\n",
    "ksize = ','.join(map(str, ksizes))\n",
    "num_hashes = int(1e6)\n",
    "dna = True\n",
    "protein = True\n"
   ]
  },
  {
   "cell_type": "code",
   "execution_count": 3,
   "metadata": {},
   "outputs": [],
   "source": [
    "output_prefix = 's3://olgabot-maca/facs/sourmash_compute_tissue_subset/'\n"
   ]
  },
  {
   "cell_type": "code",
   "execution_count": 4,
   "metadata": {},
   "outputs": [
    {
     "name": "stdout",
     "output_type": "stream",
     "text": [
      "(44949, 24)\n"
     ]
    },
    {
     "name": "stderr",
     "output_type": "stream",
     "text": [
      "/home/olga/miniconda3/envs/kmer-hashing/lib/python3.6/site-packages/IPython/core/interactiveshell.py:2785: DtypeWarning: Columns (0,1) have mixed types. Specify dtype option on import or set low_memory=False.\n",
      "  interactivity=interactivity, compiler=compiler, result=result)\n"
     ]
    },
    {
     "data": {
      "text/html": [
       "<div>\n",
       "<style scoped>\n",
       "    .dataframe tbody tr th:only-of-type {\n",
       "        vertical-align: middle;\n",
       "    }\n",
       "\n",
       "    .dataframe tbody tr th {\n",
       "        vertical-align: top;\n",
       "    }\n",
       "\n",
       "    .dataframe thead th {\n",
       "        text-align: right;\n",
       "    }\n",
       "</style>\n",
       "<table border=\"1\" class=\"dataframe\">\n",
       "  <thead>\n",
       "    <tr style=\"text-align: right;\">\n",
       "      <th></th>\n",
       "      <th>Neurog3&gt;0_raw</th>\n",
       "      <th>Neurog3&gt;0_scaled</th>\n",
       "      <th>cell</th>\n",
       "      <th>cell_ontology_class</th>\n",
       "      <th>cell_ontology_id</th>\n",
       "      <th>cluster.ids</th>\n",
       "      <th>free_annotation</th>\n",
       "      <th>mouse.id</th>\n",
       "      <th>mouse.sex</th>\n",
       "      <th>plate.barcode</th>\n",
       "      <th>...</th>\n",
       "      <th>subsetC</th>\n",
       "      <th>subsetC_cluster.ids</th>\n",
       "      <th>subsetD</th>\n",
       "      <th>subsetD_cluster.ids</th>\n",
       "      <th>subsetE</th>\n",
       "      <th>subsetE_cluster.ids</th>\n",
       "      <th>subtissue</th>\n",
       "      <th>tissue</th>\n",
       "      <th>tissue_tSNE_1</th>\n",
       "      <th>tissue_tSNE_2</th>\n",
       "    </tr>\n",
       "  </thead>\n",
       "  <tbody>\n",
       "    <tr>\n",
       "      <th>0</th>\n",
       "      <td>NaN</td>\n",
       "      <td>NaN</td>\n",
       "      <td>A1-B000610-3_56_F-1-1</td>\n",
       "      <td>bladder cell</td>\n",
       "      <td>CL:1001319</td>\n",
       "      <td>5</td>\n",
       "      <td>Bladder mesenchymal cell</td>\n",
       "      <td>3_56_F</td>\n",
       "      <td>F</td>\n",
       "      <td>B000610</td>\n",
       "      <td>...</td>\n",
       "      <td>NaN</td>\n",
       "      <td>NaN</td>\n",
       "      <td>NaN</td>\n",
       "      <td>NaN</td>\n",
       "      <td>NaN</td>\n",
       "      <td>NaN</td>\n",
       "      <td>NaN</td>\n",
       "      <td>Bladder</td>\n",
       "      <td>-7.182841</td>\n",
       "      <td>-10.895094</td>\n",
       "    </tr>\n",
       "    <tr>\n",
       "      <th>1</th>\n",
       "      <td>NaN</td>\n",
       "      <td>NaN</td>\n",
       "      <td>A1-B002764-3_38_F-1-1</td>\n",
       "      <td>bladder urothelial cell</td>\n",
       "      <td>CL:1001428</td>\n",
       "      <td>3</td>\n",
       "      <td>Luminal bladder epithelial cell</td>\n",
       "      <td>3_38_F</td>\n",
       "      <td>F</td>\n",
       "      <td>B002764</td>\n",
       "      <td>...</td>\n",
       "      <td>NaN</td>\n",
       "      <td>NaN</td>\n",
       "      <td>NaN</td>\n",
       "      <td>NaN</td>\n",
       "      <td>NaN</td>\n",
       "      <td>NaN</td>\n",
       "      <td>NaN</td>\n",
       "      <td>Bladder</td>\n",
       "      <td>4.199059</td>\n",
       "      <td>-11.050240</td>\n",
       "    </tr>\n",
       "    <tr>\n",
       "      <th>2</th>\n",
       "      <td>NaN</td>\n",
       "      <td>NaN</td>\n",
       "      <td>A1-B002771-3_39_F-1-1</td>\n",
       "      <td>bladder cell</td>\n",
       "      <td>CL:1001319</td>\n",
       "      <td>5</td>\n",
       "      <td>Bladder mesenchymal cell</td>\n",
       "      <td>3_39_F</td>\n",
       "      <td>F</td>\n",
       "      <td>B002771</td>\n",
       "      <td>...</td>\n",
       "      <td>NaN</td>\n",
       "      <td>NaN</td>\n",
       "      <td>NaN</td>\n",
       "      <td>NaN</td>\n",
       "      <td>NaN</td>\n",
       "      <td>NaN</td>\n",
       "      <td>NaN</td>\n",
       "      <td>Bladder</td>\n",
       "      <td>-11.995435</td>\n",
       "      <td>-7.325534</td>\n",
       "    </tr>\n",
       "    <tr>\n",
       "      <th>3</th>\n",
       "      <td>NaN</td>\n",
       "      <td>NaN</td>\n",
       "      <td>A1-D041914-3_8_M-1-1</td>\n",
       "      <td>bladder cell</td>\n",
       "      <td>CL:1001319</td>\n",
       "      <td>5</td>\n",
       "      <td>Bladder mesenchymal cell</td>\n",
       "      <td>3_8_M</td>\n",
       "      <td>M</td>\n",
       "      <td>D041914</td>\n",
       "      <td>...</td>\n",
       "      <td>NaN</td>\n",
       "      <td>NaN</td>\n",
       "      <td>NaN</td>\n",
       "      <td>NaN</td>\n",
       "      <td>NaN</td>\n",
       "      <td>NaN</td>\n",
       "      <td>NaN</td>\n",
       "      <td>Bladder</td>\n",
       "      <td>-6.820022</td>\n",
       "      <td>-14.174246</td>\n",
       "    </tr>\n",
       "    <tr>\n",
       "      <th>4</th>\n",
       "      <td>NaN</td>\n",
       "      <td>NaN</td>\n",
       "      <td>A1-D042253-3_9_M-1-1</td>\n",
       "      <td>bladder cell</td>\n",
       "      <td>CL:1001319</td>\n",
       "      <td>2</td>\n",
       "      <td>Bladder mesenchymal cell</td>\n",
       "      <td>3_9_M</td>\n",
       "      <td>M</td>\n",
       "      <td>D042253</td>\n",
       "      <td>...</td>\n",
       "      <td>NaN</td>\n",
       "      <td>NaN</td>\n",
       "      <td>NaN</td>\n",
       "      <td>NaN</td>\n",
       "      <td>NaN</td>\n",
       "      <td>NaN</td>\n",
       "      <td>NaN</td>\n",
       "      <td>Bladder</td>\n",
       "      <td>-24.163538</td>\n",
       "      <td>-7.499349</td>\n",
       "    </tr>\n",
       "  </tbody>\n",
       "</table>\n",
       "<p>5 rows × 24 columns</p>\n",
       "</div>"
      ],
      "text/plain": [
       "  Neurog3>0_raw Neurog3>0_scaled                   cell  \\\n",
       "0           NaN              NaN  A1-B000610-3_56_F-1-1   \n",
       "1           NaN              NaN  A1-B002764-3_38_F-1-1   \n",
       "2           NaN              NaN  A1-B002771-3_39_F-1-1   \n",
       "3           NaN              NaN   A1-D041914-3_8_M-1-1   \n",
       "4           NaN              NaN   A1-D042253-3_9_M-1-1   \n",
       "\n",
       "       cell_ontology_class cell_ontology_id  cluster.ids  \\\n",
       "0             bladder cell       CL:1001319            5   \n",
       "1  bladder urothelial cell       CL:1001428            3   \n",
       "2             bladder cell       CL:1001319            5   \n",
       "3             bladder cell       CL:1001319            5   \n",
       "4             bladder cell       CL:1001319            2   \n",
       "\n",
       "                   free_annotation mouse.id mouse.sex plate.barcode  \\\n",
       "0         Bladder mesenchymal cell   3_56_F         F       B000610   \n",
       "1  Luminal bladder epithelial cell   3_38_F         F       B002764   \n",
       "2         Bladder mesenchymal cell   3_39_F         F       B002771   \n",
       "3         Bladder mesenchymal cell    3_8_M         M       D041914   \n",
       "4         Bladder mesenchymal cell    3_9_M         M       D042253   \n",
       "\n",
       "       ...       subsetC  subsetC_cluster.ids subsetD  subsetD_cluster.ids  \\\n",
       "0      ...           NaN                  NaN     NaN                  NaN   \n",
       "1      ...           NaN                  NaN     NaN                  NaN   \n",
       "2      ...           NaN                  NaN     NaN                  NaN   \n",
       "3      ...           NaN                  NaN     NaN                  NaN   \n",
       "4      ...           NaN                  NaN     NaN                  NaN   \n",
       "\n",
       "  subsetE  subsetE_cluster.ids subtissue   tissue tissue_tSNE_1  tissue_tSNE_2  \n",
       "0     NaN                  NaN       NaN  Bladder     -7.182841     -10.895094  \n",
       "1     NaN                  NaN       NaN  Bladder      4.199059     -11.050240  \n",
       "2     NaN                  NaN       NaN  Bladder    -11.995435      -7.325534  \n",
       "3     NaN                  NaN       NaN  Bladder     -6.820022     -14.174246  \n",
       "4     NaN                  NaN       NaN  Bladder    -24.163538      -7.499349  \n",
       "\n",
       "[5 rows x 24 columns]"
      ]
     },
     "execution_count": 4,
     "metadata": {},
     "output_type": "execute_result"
    }
   ],
   "source": [
    "annotations = pd.read_csv(\"/home/olga/tabula-muris/00_data_ingest/18_global_annotation_csv/annotations_facs.csv\")\n",
    "annotations['cell'] = annotations['cell'].str.replace('.', '-')\n",
    "print(annotations.shape)\n",
    "annotations.head()"
   ]
  },
  {
   "cell_type": "code",
   "execution_count": 5,
   "metadata": {},
   "outputs": [
    {
     "name": "stdout",
     "output_type": "stream",
     "text": [
      "1000\r\n"
     ]
    }
   ],
   "source": [
    "! aws s3 ls $output_prefix | wc -l"
   ]
  },
  {
   "cell_type": "markdown",
   "metadata": {},
   "source": [
    "### Copy the files to ndnd"
   ]
  },
  {
   "cell_type": "code",
   "execution_count": null,
   "metadata": {},
   "outputs": [
    {
     "name": "stdout",
     "output_type": "stream",
     "text": [
      "download: s3://olgabot-maca/facs/sourmash_compute_tissue_subset/A1-MAA000487-3_10_M-1-1.sig to ../../../scratch/maca/facs/sourmash_compute_tissue_subset/A1-MAA000487-3_10_M-1-1.sig\n",
      "download: s3://olgabot-maca/facs/sourmash_compute_tissue_subset/A1-D042253-3_9_M-1-1.sig to ../../../scratch/maca/facs/sourmash_compute_tissue_subset/A1-D042253-3_9_M-1-1.sig\n",
      "download: s3://olgabot-maca/facs/sourmash_compute_tissue_subset/A1-MAA100039-3_11_M-1-1.sig to ../../../scratch/maca/facs/sourmash_compute_tissue_subset/A1-MAA100039-3_11_M-1-1.sig\n",
      "download: s3://olgabot-maca/facs/sourmash_compute_tissue_subset/A1-B002764-3_38_F-1-1.sig to ../../../scratch/maca/facs/sourmash_compute_tissue_subset/A1-B002764-3_38_F-1-1.sig\n",
      "download: s3://olgabot-maca/facs/sourmash_compute_tissue_subset/A1-MAA000779-3_11_M-1-1.sig to ../../../scratch/maca/facs/sourmash_compute_tissue_subset/A1-MAA000779-3_11_M-1-1.sig\n",
      "download: s3://olgabot-maca/facs/sourmash_compute_tissue_subset/A10-MAA000559-3_8_M-1-1.sig to ../../../scratch/maca/facs/sourmash_compute_tissue_subset/A10-MAA000559-3_8_M-1-1.sig\n",
      "download: s3://olgabot-maca/facs/sourmash_compute_tissue_subset/A10-B000971-3_39_F-1-1.sig to ../../../scratch/maca/facs/sourmash_compute_tissue_subset/A10-B000971-3_39_F-1-1.sig\n",
      "download: s3://olgabot-maca/facs/sourmash_compute_tissue_subset/A10-B002775-3_39_F-1-1.sig to ../../../scratch/maca/facs/sourmash_compute_tissue_subset/A10-B002775-3_39_F-1-1.sig\n",
      "download: s3://olgabot-maca/facs/sourmash_compute_tissue_subset/A10-D041914-3_8_M-1-1.sig to ../../../scratch/maca/facs/sourmash_compute_tissue_subset/A10-D041914-3_8_M-1-1.sig\n",
      "download: s3://olgabot-maca/facs/sourmash_compute_tissue_subset/A11-D041914-3_8_M-1-1.sig to ../../../scratch/maca/facs/sourmash_compute_tissue_subset/A11-D041914-3_8_M-1-1.sig\n",
      "download: s3://olgabot-maca/facs/sourmash_compute_tissue_subset/A11-MAA000559-3_8_M-1-1.sig to ../../../scratch/maca/facs/sourmash_compute_tissue_subset/A11-MAA000559-3_8_M-1-1.sig\n",
      "download: s3://olgabot-maca/facs/sourmash_compute_tissue_subset/A11-MAA100041-3_9_M-1-1.sig to ../../../scratch/maca/facs/sourmash_compute_tissue_subset/A11-MAA100041-3_9_M-1-1.sig\n",
      "download: s3://olgabot-maca/facs/sourmash_compute_tissue_subset/A11-MAA000577-3_8_M-1-1.sig to ../../../scratch/maca/facs/sourmash_compute_tissue_subset/A11-MAA000577-3_8_M-1-1.sig\n",
      "download: s3://olgabot-maca/facs/sourmash_compute_tissue_subset/A12-B001717-3_38_F-1-1.sig to ../../../scratch/maca/facs/sourmash_compute_tissue_subset/A12-B001717-3_38_F-1-1.sig\n",
      "download: s3://olgabot-maca/facs/sourmash_compute_tissue_subset/A12-D041914-3_8_M-1-1.sig to ../../../scratch/maca/facs/sourmash_compute_tissue_subset/A12-D041914-3_8_M-1-1.sig\n",
      "download: s3://olgabot-maca/facs/sourmash_compute_tissue_subset/A11-MAA100140-3_57_F-1-1.sig to ../../../scratch/maca/facs/sourmash_compute_tissue_subset/A11-MAA100140-3_57_F-1-1.sig\n",
      "download: s3://olgabot-maca/facs/sourmash_compute_tissue_subset/A12-D042253-3_9_M-1-1.sig to ../../../scratch/maca/facs/sourmash_compute_tissue_subset/A12-D042253-3_9_M-1-1.sig\n",
      "download: s3://olgabot-maca/facs/sourmash_compute_tissue_subset/A12-MAA000508-3_9_M-1-1.sig to ../../../scratch/maca/facs/sourmash_compute_tissue_subset/A12-MAA000508-3_9_M-1-1.sig\n",
      "download: s3://olgabot-maca/facs/sourmash_compute_tissue_subset/A12-MAA000776-3_10_M-1-1.sig to ../../../scratch/maca/facs/sourmash_compute_tissue_subset/A12-MAA000776-3_10_M-1-1.sig\n",
      "download: s3://olgabot-maca/facs/sourmash_compute_tissue_subset/A12-MAA000801-3_11_M-1-1.sig to ../../../scratch/maca/facs/sourmash_compute_tissue_subset/A12-MAA000801-3_11_M-1-1.sig\n",
      "download: s3://olgabot-maca/facs/sourmash_compute_tissue_subset/A12-MAA000884-3_10_M-1-1.sig to ../../../scratch/maca/facs/sourmash_compute_tissue_subset/A12-MAA000884-3_10_M-1-1.sig\n",
      "download: s3://olgabot-maca/facs/sourmash_compute_tissue_subset/A12-MAA000559-3_8_M-1-1.sig to ../../../scratch/maca/facs/sourmash_compute_tissue_subset/A12-MAA000559-3_8_M-1-1.sig\n",
      "download: s3://olgabot-maca/facs/sourmash_compute_tissue_subset/A12-MAA000922-3_9_M-1-1.sig to ../../../scratch/maca/facs/sourmash_compute_tissue_subset/A12-MAA000922-3_9_M-1-1.sig\n",
      "download: s3://olgabot-maca/facs/sourmash_compute_tissue_subset/A13-B001717-3_38_F-1-1.sig to ../../../scratch/maca/facs/sourmash_compute_tissue_subset/A13-B001717-3_38_F-1-1.sig\n",
      "download: s3://olgabot-maca/facs/sourmash_compute_tissue_subset/A13-MAA001857-3_38_F-1-1.sig to ../../../scratch/maca/facs/sourmash_compute_tissue_subset/A13-MAA001857-3_38_F-1-1.sig\n",
      "download: s3://olgabot-maca/facs/sourmash_compute_tissue_subset/A13-MAA000545-3_8_M-1-1.sig to ../../../scratch/maca/facs/sourmash_compute_tissue_subset/A13-MAA000545-3_8_M-1-1.sig\n",
      "download: s3://olgabot-maca/facs/sourmash_compute_tissue_subset/A13-MAA000907-3_11_M-1-1.sig to ../../../scratch/maca/facs/sourmash_compute_tissue_subset/A13-MAA000907-3_11_M-1-1.sig\n",
      "download: s3://olgabot-maca/facs/sourmash_compute_tissue_subset/A14-B002775-3_39_F-1-1.sig to ../../../scratch/maca/facs/sourmash_compute_tissue_subset/A14-B002775-3_39_F-1-1.sig\n",
      "download: s3://olgabot-maca/facs/sourmash_compute_tissue_subset/A14-MAA000487-3_10_M-1-1.sig to ../../../scratch/maca/facs/sourmash_compute_tissue_subset/A14-MAA000487-3_10_M-1-1.sig\n",
      "download: s3://olgabot-maca/facs/sourmash_compute_tissue_subset/A14-MAA001857-3_38_F-1-1.sig to ../../../scratch/maca/facs/sourmash_compute_tissue_subset/A14-MAA001857-3_38_F-1-1.sig\n",
      "download: s3://olgabot-maca/facs/sourmash_compute_tissue_subset/A14-MAA000801-3_11_M-1-1.sig to ../../../scratch/maca/facs/sourmash_compute_tissue_subset/A14-MAA000801-3_11_M-1-1.sig\n",
      "download: s3://olgabot-maca/facs/sourmash_compute_tissue_subset/A14-MAA001862-3_39_F-1-1.sig to ../../../scratch/maca/facs/sourmash_compute_tissue_subset/A14-MAA001862-3_39_F-1-1.sig\n",
      "download: s3://olgabot-maca/facs/sourmash_compute_tissue_subset/A15-B002775-3_39_F-1-1.sig to ../../../scratch/maca/facs/sourmash_compute_tissue_subset/A15-B002775-3_39_F-1-1.sig\n",
      "download: s3://olgabot-maca/facs/sourmash_compute_tissue_subset/A15-D042253-3_9_M-1-1.sig to ../../../scratch/maca/facs/sourmash_compute_tissue_subset/A15-D042253-3_9_M-1-1.sig\n",
      "download: s3://olgabot-maca/facs/sourmash_compute_tissue_subset/A15-MAA000776-3_10_M-1-1.sig to ../../../scratch/maca/facs/sourmash_compute_tissue_subset/A15-MAA000776-3_10_M-1-1.sig\n",
      "download: s3://olgabot-maca/facs/sourmash_compute_tissue_subset/A16-D042253-3_9_M-1-1.sig to ../../../scratch/maca/facs/sourmash_compute_tissue_subset/A16-D042253-3_9_M-1-1.sig\n",
      "download: s3://olgabot-maca/facs/sourmash_compute_tissue_subset/A15-MAA000801-3_11_M-1-1.sig to ../../../scratch/maca/facs/sourmash_compute_tissue_subset/A15-MAA000801-3_11_M-1-1.sig\n",
      "download: s3://olgabot-maca/facs/sourmash_compute_tissue_subset/A18-D042253-3_9_M-1-1.sig to ../../../scratch/maca/facs/sourmash_compute_tissue_subset/A18-D042253-3_9_M-1-1.sig\n",
      "download: s3://olgabot-maca/facs/sourmash_compute_tissue_subset/A16-MAA000559-3_8_M-1-1.sig to ../../../scratch/maca/facs/sourmash_compute_tissue_subset/A16-MAA000559-3_8_M-1-1.sig\n",
      "download: s3://olgabot-maca/facs/sourmash_compute_tissue_subset/A18-B002764-3_38_F-1-1.sig to ../../../scratch/maca/facs/sourmash_compute_tissue_subset/A18-B002764-3_38_F-1-1.sig\n",
      "download: s3://olgabot-maca/facs/sourmash_compute_tissue_subset/A16-MAA000907-3_11_M-1-1.sig to ../../../scratch/maca/facs/sourmash_compute_tissue_subset/A16-MAA000907-3_11_M-1-1.sig\n",
      "download: s3://olgabot-maca/facs/sourmash_compute_tissue_subset/A17-MAA000907-3_11_M-1-1.sig to ../../../scratch/maca/facs/sourmash_compute_tissue_subset/A17-MAA000907-3_11_M-1-1.sig\n",
      "download: s3://olgabot-maca/facs/sourmash_compute_tissue_subset/A18-MAA000801-3_11_M-1-1.sig to ../../../scratch/maca/facs/sourmash_compute_tissue_subset/A18-MAA000801-3_11_M-1-1.sig\n",
      "download: s3://olgabot-maca/facs/sourmash_compute_tissue_subset/A18-MAA001857-3_38_F-1-1.sig to ../../../scratch/maca/facs/sourmash_compute_tissue_subset/A18-MAA001857-3_38_F-1-1.sig\n",
      "download: s3://olgabot-maca/facs/sourmash_compute_tissue_subset/A19-B000971-3_39_F-1-1.sig to ../../../scratch/maca/facs/sourmash_compute_tissue_subset/A19-B000971-3_39_F-1-1.sig\n",
      "download: s3://olgabot-maca/facs/sourmash_compute_tissue_subset/A19-B001750-3_38_F-1-1.sig to ../../../scratch/maca/facs/sourmash_compute_tissue_subset/A19-B001750-3_38_F-1-1.sig\n",
      "download: s3://olgabot-maca/facs/sourmash_compute_tissue_subset/A19-MAA000508-3_9_M-1-1.sig to ../../../scratch/maca/facs/sourmash_compute_tissue_subset/A19-MAA000508-3_9_M-1-1.sig\n",
      "download: s3://olgabot-maca/facs/sourmash_compute_tissue_subset/A2-B000971-3_39_F-1-1.sig to ../../../scratch/maca/facs/sourmash_compute_tissue_subset/A2-B000971-3_39_F-1-1.sig\n",
      "download: s3://olgabot-maca/facs/sourmash_compute_tissue_subset/A2-B001717-3_38_F-1-1.sig to ../../../scratch/maca/facs/sourmash_compute_tissue_subset/A2-B001717-3_38_F-1-1.sig\n",
      "download: s3://olgabot-maca/facs/sourmash_compute_tissue_subset/A2-B002764-3_38_F-1-1.sig to ../../../scratch/maca/facs/sourmash_compute_tissue_subset/A2-B002764-3_38_F-1-1.sig\n",
      "download: s3://olgabot-maca/facs/sourmash_compute_tissue_subset/A2-B002771-3_39_F-1-1.sig to ../../../scratch/maca/facs/sourmash_compute_tissue_subset/A2-B002771-3_39_F-1-1.sig\n",
      "download: s3://olgabot-maca/facs/sourmash_compute_tissue_subset/A2-B002775-3_39_F-1-1.sig to ../../../scratch/maca/facs/sourmash_compute_tissue_subset/A2-B002775-3_39_F-1-1.sig\n",
      "download: s3://olgabot-maca/facs/sourmash_compute_tissue_subset/A2-D041914-3_8_M-1-1.sig to ../../../scratch/maca/facs/sourmash_compute_tissue_subset/A2-D041914-3_8_M-1-1.sig\n",
      "download: s3://olgabot-maca/facs/sourmash_compute_tissue_subset/A2-D042253-3_9_M-1-1.sig to ../../../scratch/maca/facs/sourmash_compute_tissue_subset/A2-D042253-3_9_M-1-1.sig\n",
      "download: s3://olgabot-maca/facs/sourmash_compute_tissue_subset/A2-MAA000884-3_10_M-1-1.sig to ../../../scratch/maca/facs/sourmash_compute_tissue_subset/A2-MAA000884-3_10_M-1-1.sig\n",
      "download: s3://olgabot-maca/facs/sourmash_compute_tissue_subset/A20-D042253-3_9_M-1-1.sig to ../../../scratch/maca/facs/sourmash_compute_tissue_subset/A20-D042253-3_9_M-1-1.sig\n",
      "download: s3://olgabot-maca/facs/sourmash_compute_tissue_subset/A2-MAA000907-3_11_M-1-1.sig to ../../../scratch/maca/facs/sourmash_compute_tissue_subset/A2-MAA000907-3_11_M-1-1.sig\n",
      "download: s3://olgabot-maca/facs/sourmash_compute_tissue_subset/A20-MAA000508-3_9_M-1-1.sig to ../../../scratch/maca/facs/sourmash_compute_tissue_subset/A20-MAA000508-3_9_M-1-1.sig\n",
      "download: s3://olgabot-maca/facs/sourmash_compute_tissue_subset/A21-MAA000907-3_11_M-1-1.sig to ../../../scratch/maca/facs/sourmash_compute_tissue_subset/A21-MAA000907-3_11_M-1-1.sig\n",
      "download: s3://olgabot-maca/facs/sourmash_compute_tissue_subset/A22-MAA000545-3_8_M-1-1.sig to ../../../scratch/maca/facs/sourmash_compute_tissue_subset/A22-MAA000545-3_8_M-1-1.sig\n",
      "download: s3://olgabot-maca/facs/sourmash_compute_tissue_subset/A22-MAA000776-3_10_M-1-1.sig to ../../../scratch/maca/facs/sourmash_compute_tissue_subset/A22-MAA000776-3_10_M-1-1.sig\n",
      "download: s3://olgabot-maca/facs/sourmash_compute_tissue_subset/A3-B000971-3_39_F-1-1.sig to ../../../scratch/maca/facs/sourmash_compute_tissue_subset/A3-B000971-3_39_F-1-1.sig\n",
      "download: s3://olgabot-maca/facs/sourmash_compute_tissue_subset/A22-B000971-3_39_F-1-1.sig to ../../../scratch/maca/facs/sourmash_compute_tissue_subset/A22-B000971-3_39_F-1-1.sig\n",
      "download: s3://olgabot-maca/facs/sourmash_compute_tissue_subset/A3-MAA001857-3_38_F-1-1.sig to ../../../scratch/maca/facs/sourmash_compute_tissue_subset/A3-MAA001857-3_38_F-1-1.sig\n",
      "download: s3://olgabot-maca/facs/sourmash_compute_tissue_subset/A3-MAA000559-3_8_M-1-1.sig to ../../../scratch/maca/facs/sourmash_compute_tissue_subset/A3-MAA000559-3_8_M-1-1.sig\n",
      "download: s3://olgabot-maca/facs/sourmash_compute_tissue_subset/A3-MAA001861-3_39_F-1-1.sig to ../../../scratch/maca/facs/sourmash_compute_tissue_subset/A3-MAA001861-3_39_F-1-1.sig\n",
      "download: s3://olgabot-maca/facs/sourmash_compute_tissue_subset/A3-MAA100040-3_11_M-1-1.sig to ../../../scratch/maca/facs/sourmash_compute_tissue_subset/A3-MAA100040-3_11_M-1-1.sig\n",
      "download: s3://olgabot-maca/facs/sourmash_compute_tissue_subset/A4-MAA000779-3_11_M-1-1.sig to ../../../scratch/maca/facs/sourmash_compute_tissue_subset/A4-MAA000779-3_11_M-1-1.sig\n",
      "download: s3://olgabot-maca/facs/sourmash_compute_tissue_subset/A4-MAA000884-3_10_M-1-1.sig to ../../../scratch/maca/facs/sourmash_compute_tissue_subset/A4-MAA000884-3_10_M-1-1.sig\n",
      "download: s3://olgabot-maca/facs/sourmash_compute_tissue_subset/A4-MAA000907-3_11_M-1-1.sig to ../../../scratch/maca/facs/sourmash_compute_tissue_subset/A4-MAA000907-3_11_M-1-1.sig\n",
      "download: s3://olgabot-maca/facs/sourmash_compute_tissue_subset/A4-MAA100039-3_11_M-1-1.sig to ../../../scratch/maca/facs/sourmash_compute_tissue_subset/A4-MAA100039-3_11_M-1-1.sig\n",
      "download: s3://olgabot-maca/facs/sourmash_compute_tissue_subset/A4-MAA100138-3_56_F-1-1.sig to ../../../scratch/maca/facs/sourmash_compute_tissue_subset/A4-MAA100138-3_56_F-1-1.sig\n",
      "download: s3://olgabot-maca/facs/sourmash_compute_tissue_subset/A5-MAA000801-3_11_M-1-1.sig to ../../../scratch/maca/facs/sourmash_compute_tissue_subset/A5-MAA000801-3_11_M-1-1.sig\n",
      "download: s3://olgabot-maca/facs/sourmash_compute_tissue_subset/A6-D042253-3_9_M-1-1.sig to ../../../scratch/maca/facs/sourmash_compute_tissue_subset/A6-D042253-3_9_M-1-1.sig\n",
      "download: s3://olgabot-maca/facs/sourmash_compute_tissue_subset/A5-MAA100138-3_56_F-1-1.sig to ../../../scratch/maca/facs/sourmash_compute_tissue_subset/A5-MAA100138-3_56_F-1-1.sig\n",
      "download: s3://olgabot-maca/facs/sourmash_compute_tissue_subset/A6-MAA100042-3_9_M-1-1.sig to ../../../scratch/maca/facs/sourmash_compute_tissue_subset/A6-MAA100042-3_9_M-1-1.sig\n",
      "download: s3://olgabot-maca/facs/sourmash_compute_tissue_subset/A7-D042253-3_9_M-1-1.sig to ../../../scratch/maca/facs/sourmash_compute_tissue_subset/A7-D042253-3_9_M-1-1.sig\n",
      "download: s3://olgabot-maca/facs/sourmash_compute_tissue_subset/A7-MAA000508-3_9_M-1-1.sig to ../../../scratch/maca/facs/sourmash_compute_tissue_subset/A7-MAA000508-3_9_M-1-1.sig\n",
      "download: s3://olgabot-maca/facs/sourmash_compute_tissue_subset/A7-MAA000801-3_11_M-1-1.sig to ../../../scratch/maca/facs/sourmash_compute_tissue_subset/A7-MAA000801-3_11_M-1-1.sig\n",
      "download: s3://olgabot-maca/facs/sourmash_compute_tissue_subset/A7-MAA000577-3_8_M-1-1.sig to ../../../scratch/maca/facs/sourmash_compute_tissue_subset/A7-MAA000577-3_8_M-1-1.sig\n",
      "download: s3://olgabot-maca/facs/sourmash_compute_tissue_subset/A7-MAA000907-3_11_M-1-1.sig to ../../../scratch/maca/facs/sourmash_compute_tissue_subset/A7-MAA000907-3_11_M-1-1.sig\n",
      "download: s3://olgabot-maca/facs/sourmash_compute_tissue_subset/A7-MAA100040-3_11_M-1-1.sig to ../../../scratch/maca/facs/sourmash_compute_tissue_subset/A7-MAA100040-3_11_M-1-1.sig\n",
      "download: s3://olgabot-maca/facs/sourmash_compute_tissue_subset/A7-MAA100042-3_9_M-1-1.sig to ../../../scratch/maca/facs/sourmash_compute_tissue_subset/A7-MAA100042-3_9_M-1-1.sig\n",
      "download: s3://olgabot-maca/facs/sourmash_compute_tissue_subset/A7-MAA100140-3_57_F-1-1.sig to ../../../scratch/maca/facs/sourmash_compute_tissue_subset/A7-MAA100140-3_57_F-1-1.sig\n",
      "download: s3://olgabot-maca/facs/sourmash_compute_tissue_subset/A8-MAA100140-3_57_F-1-1.sig to ../../../scratch/maca/facs/sourmash_compute_tissue_subset/A8-MAA100140-3_57_F-1-1.sig\n",
      "download: s3://olgabot-maca/facs/sourmash_compute_tissue_subset/A9-B001750-3_38_F-1-1.sig to ../../../scratch/maca/facs/sourmash_compute_tissue_subset/A9-B001750-3_38_F-1-1.sig\n",
      "download: s3://olgabot-maca/facs/sourmash_compute_tissue_subset/A9-MAA000779-3_11_M-1-1.sig to ../../../scratch/maca/facs/sourmash_compute_tissue_subset/A9-MAA000779-3_11_M-1-1.sig\n",
      "download: s3://olgabot-maca/facs/sourmash_compute_tissue_subset/A8-MAA000508-3_9_M-1-1.sig to ../../../scratch/maca/facs/sourmash_compute_tissue_subset/A8-MAA000508-3_9_M-1-1.sig\n",
      "download: s3://olgabot-maca/facs/sourmash_compute_tissue_subset/B1-MAA000508-3_9_M-1-1.sig to ../../../scratch/maca/facs/sourmash_compute_tissue_subset/B1-MAA000508-3_9_M-1-1.sig\n",
      "download: s3://olgabot-maca/facs/sourmash_compute_tissue_subset/B1-MAA001868-3_38_F-1-1.sig to ../../../scratch/maca/facs/sourmash_compute_tissue_subset/B1-MAA001868-3_38_F-1-1.sig\n",
      "download: s3://olgabot-maca/facs/sourmash_compute_tissue_subset/B1-MAA100039-3_11_M-1-1.sig to ../../../scratch/maca/facs/sourmash_compute_tissue_subset/B1-MAA100039-3_11_M-1-1.sig\n"
     ]
    },
    {
     "name": "stdout",
     "output_type": "stream",
     "text": [
      "download: s3://olgabot-maca/facs/sourmash_compute_tissue_subset/B10-MAA000910-3_10_M-1-1.sig to ../../../scratch/maca/facs/sourmash_compute_tissue_subset/B10-MAA000910-3_10_M-1-1.sig\n",
      "download: s3://olgabot-maca/facs/sourmash_compute_tissue_subset/B1-MAA100138-3_56_F-1-1.sig to ../../../scratch/maca/facs/sourmash_compute_tissue_subset/B1-MAA100138-3_56_F-1-1.sig\n",
      "download: s3://olgabot-maca/facs/sourmash_compute_tissue_subset/B10-MAA100039-3_11_M-1-1.sig to ../../../scratch/maca/facs/sourmash_compute_tissue_subset/B10-MAA100039-3_11_M-1-1.sig\n",
      "download: s3://olgabot-maca/facs/sourmash_compute_tissue_subset/B11-MAA000487-3_10_M-1-1.sig to ../../../scratch/maca/facs/sourmash_compute_tissue_subset/B11-MAA000487-3_10_M-1-1.sig\n",
      "download: s3://olgabot-maca/facs/sourmash_compute_tissue_subset/B12-MAA000577-3_8_M-1-1.sig to ../../../scratch/maca/facs/sourmash_compute_tissue_subset/B12-MAA000577-3_8_M-1-1.sig\n",
      "download: s3://olgabot-maca/facs/sourmash_compute_tissue_subset/B11-MAA000801-3_11_M-1-1.sig to ../../../scratch/maca/facs/sourmash_compute_tissue_subset/B11-MAA000801-3_11_M-1-1.sig\n",
      "download: s3://olgabot-maca/facs/sourmash_compute_tissue_subset/B12-MAA100039-3_11_M-1-1.sig to ../../../scratch/maca/facs/sourmash_compute_tissue_subset/B12-MAA100039-3_11_M-1-1.sig\n",
      "download: s3://olgabot-maca/facs/sourmash_compute_tissue_subset/B12-MAA100041-3_9_M-1-1.sig to ../../../scratch/maca/facs/sourmash_compute_tissue_subset/B12-MAA100041-3_9_M-1-1.sig\n",
      "download: s3://olgabot-maca/facs/sourmash_compute_tissue_subset/B12-MAA100042-3_9_M-1-1.sig to ../../../scratch/maca/facs/sourmash_compute_tissue_subset/B12-MAA100042-3_9_M-1-1.sig\n",
      "download: s3://olgabot-maca/facs/sourmash_compute_tissue_subset/B13-B001717-3_38_F-1-1.sig to ../../../scratch/maca/facs/sourmash_compute_tissue_subset/B13-B001717-3_38_F-1-1.sig\n",
      "download: s3://olgabot-maca/facs/sourmash_compute_tissue_subset/B13-MAA000907-3_11_M-1-1.sig to ../../../scratch/maca/facs/sourmash_compute_tissue_subset/B13-MAA000907-3_11_M-1-1.sig\n",
      "download: s3://olgabot-maca/facs/sourmash_compute_tissue_subset/B13-MAA000776-3_10_M-1-1.sig to ../../../scratch/maca/facs/sourmash_compute_tissue_subset/B13-MAA000776-3_10_M-1-1.sig\n",
      "download: s3://olgabot-maca/facs/sourmash_compute_tissue_subset/B15-B001750-3_38_F-1-1.sig to ../../../scratch/maca/facs/sourmash_compute_tissue_subset/B15-B001750-3_38_F-1-1.sig\n",
      "download: s3://olgabot-maca/facs/sourmash_compute_tissue_subset/B15-MAA000776-3_10_M-1-1.sig to ../../../scratch/maca/facs/sourmash_compute_tissue_subset/B15-MAA000776-3_10_M-1-1.sig\n",
      "download: s3://olgabot-maca/facs/sourmash_compute_tissue_subset/B15-MAA000801-3_11_M-1-1.sig to ../../../scratch/maca/facs/sourmash_compute_tissue_subset/B15-MAA000801-3_11_M-1-1.sig\n",
      "download: s3://olgabot-maca/facs/sourmash_compute_tissue_subset/B15-MAA000487-3_10_M-1-1.sig to ../../../scratch/maca/facs/sourmash_compute_tissue_subset/B15-MAA000487-3_10_M-1-1.sig\n",
      "download: s3://olgabot-maca/facs/sourmash_compute_tissue_subset/B16-B000971-3_39_F-1-1.sig to ../../../scratch/maca/facs/sourmash_compute_tissue_subset/B16-B000971-3_39_F-1-1.sig\n",
      "download: s3://olgabot-maca/facs/sourmash_compute_tissue_subset/B18-B002775-3_39_F-1-1.sig to ../../../scratch/maca/facs/sourmash_compute_tissue_subset/B18-B002775-3_39_F-1-1.sig\n",
      "download: s3://olgabot-maca/facs/sourmash_compute_tissue_subset/B17-MAA000884-3_10_M-1-1.sig to ../../../scratch/maca/facs/sourmash_compute_tissue_subset/B17-MAA000884-3_10_M-1-1.sig\n",
      "download: s3://olgabot-maca/facs/sourmash_compute_tissue_subset/B18-MAA000907-3_11_M-1-1.sig to ../../../scratch/maca/facs/sourmash_compute_tissue_subset/B18-MAA000907-3_11_M-1-1.sig\n",
      "download: s3://olgabot-maca/facs/sourmash_compute_tissue_subset/B18-MAA000776-3_10_M-1-1.sig to ../../../scratch/maca/facs/sourmash_compute_tissue_subset/B18-MAA000776-3_10_M-1-1.sig\n",
      "download: s3://olgabot-maca/facs/sourmash_compute_tissue_subset/B19-B001717-3_38_F-1-1.sig to ../../../scratch/maca/facs/sourmash_compute_tissue_subset/B19-B001717-3_38_F-1-1.sig\n",
      "download: s3://olgabot-maca/facs/sourmash_compute_tissue_subset/B19-MAA000574-3_8_M-1-1.sig to ../../../scratch/maca/facs/sourmash_compute_tissue_subset/B19-MAA000574-3_8_M-1-1.sig\n",
      "download: s3://olgabot-maca/facs/sourmash_compute_tissue_subset/B19-MAA000779-3_11_M-1-1.sig to ../../../scratch/maca/facs/sourmash_compute_tissue_subset/B19-MAA000779-3_11_M-1-1.sig\n",
      "download: s3://olgabot-maca/facs/sourmash_compute_tissue_subset/B2-D041914-3_8_M-1-1.sig to ../../../scratch/maca/facs/sourmash_compute_tissue_subset/B2-D041914-3_8_M-1-1.sig\n",
      "download: s3://olgabot-maca/facs/sourmash_compute_tissue_subset/B2-D042253-3_9_M-1-1.sig to ../../../scratch/maca/facs/sourmash_compute_tissue_subset/B2-D042253-3_9_M-1-1.sig\n",
      "download: s3://olgabot-maca/facs/sourmash_compute_tissue_subset/B2-MAA000545-3_8_M-1-1.sig to ../../../scratch/maca/facs/sourmash_compute_tissue_subset/B2-MAA000545-3_8_M-1-1.sig\n",
      "download: s3://olgabot-maca/facs/sourmash_compute_tissue_subset/B2-MAA000801-3_11_M-1-1.sig to ../../../scratch/maca/facs/sourmash_compute_tissue_subset/B2-MAA000801-3_11_M-1-1.sig\n",
      "download: s3://olgabot-maca/facs/sourmash_compute_tissue_subset/B2-MAA000752-3_10_M-1-1.sig to ../../../scratch/maca/facs/sourmash_compute_tissue_subset/B2-MAA000752-3_10_M-1-1.sig\n",
      "download: s3://olgabot-maca/facs/sourmash_compute_tissue_subset/B2-MAA001857-3_38_F-1-1.sig to ../../../scratch/maca/facs/sourmash_compute_tissue_subset/B2-MAA001857-3_38_F-1-1.sig\n",
      "download: s3://olgabot-maca/facs/sourmash_compute_tissue_subset/B2-MAA000776-3_10_M-1-1.sig to ../../../scratch/maca/facs/sourmash_compute_tissue_subset/B2-MAA000776-3_10_M-1-1.sig\n",
      "download: s3://olgabot-maca/facs/sourmash_compute_tissue_subset/B20-MAA000508-3_9_M-1-1.sig to ../../../scratch/maca/facs/sourmash_compute_tissue_subset/B20-MAA000508-3_9_M-1-1.sig\n",
      "download: s3://olgabot-maca/facs/sourmash_compute_tissue_subset/B21-MAA000487-3_10_M-1-1.sig to ../../../scratch/maca/facs/sourmash_compute_tissue_subset/B21-MAA000487-3_10_M-1-1.sig\n",
      "download: s3://olgabot-maca/facs/sourmash_compute_tissue_subset/B20-MAA000801-3_11_M-1-1.sig to ../../../scratch/maca/facs/sourmash_compute_tissue_subset/B20-MAA000801-3_11_M-1-1.sig\n",
      "download: s3://olgabot-maca/facs/sourmash_compute_tissue_subset/B22-MAA001862-3_39_F-1-1.sig to ../../../scratch/maca/facs/sourmash_compute_tissue_subset/B22-MAA001862-3_39_F-1-1.sig\n",
      "download: s3://olgabot-maca/facs/sourmash_compute_tissue_subset/B21-B001717-3_38_F-1-1.sig to ../../../scratch/maca/facs/sourmash_compute_tissue_subset/B21-B001717-3_38_F-1-1.sig\n",
      "download: s3://olgabot-maca/facs/sourmash_compute_tissue_subset/B3-MAA100041-3_9_M-1-1.sig to ../../../scratch/maca/facs/sourmash_compute_tissue_subset/B3-MAA100041-3_9_M-1-1.sig\n",
      "download: s3://olgabot-maca/facs/sourmash_compute_tissue_subset/B3-B000610-3_56_F-1-1.sig to ../../../scratch/maca/facs/sourmash_compute_tissue_subset/B3-B000610-3_56_F-1-1.sig\n",
      "download: s3://olgabot-maca/facs/sourmash_compute_tissue_subset/B4-B001717-3_38_F-1-1.sig to ../../../scratch/maca/facs/sourmash_compute_tissue_subset/B4-B001717-3_38_F-1-1.sig\n",
      "download: s3://olgabot-maca/facs/sourmash_compute_tissue_subset/B3-B002775-3_39_F-1-1.sig to ../../../scratch/maca/facs/sourmash_compute_tissue_subset/B3-B002775-3_39_F-1-1.sig\n",
      "download: s3://olgabot-maca/facs/sourmash_compute_tissue_subset/B3-MAA000922-3_9_M-1-1.sig to ../../../scratch/maca/facs/sourmash_compute_tissue_subset/B3-MAA000922-3_9_M-1-1.sig\n",
      "download: s3://olgabot-maca/facs/sourmash_compute_tissue_subset/B4-D042253-3_9_M-1-1.sig to ../../../scratch/maca/facs/sourmash_compute_tissue_subset/B4-D042253-3_9_M-1-1.sig\n",
      "download: s3://olgabot-maca/facs/sourmash_compute_tissue_subset/B4-MAA000884-3_10_M-1-1.sig to ../../../scratch/maca/facs/sourmash_compute_tissue_subset/B4-MAA000884-3_10_M-1-1.sig\n",
      "download: s3://olgabot-maca/facs/sourmash_compute_tissue_subset/B4-MAA100039-3_11_M-1-1.sig to ../../../scratch/maca/facs/sourmash_compute_tissue_subset/B4-MAA100039-3_11_M-1-1.sig\n",
      "download: s3://olgabot-maca/facs/sourmash_compute_tissue_subset/B5-B000610-3_56_F-1-1.sig to ../../../scratch/maca/facs/sourmash_compute_tissue_subset/B5-B000610-3_56_F-1-1.sig\n",
      "download: s3://olgabot-maca/facs/sourmash_compute_tissue_subset/B4-MAA100042-3_9_M-1-1.sig to ../../../scratch/maca/facs/sourmash_compute_tissue_subset/B4-MAA100042-3_9_M-1-1.sig\n",
      "download: s3://olgabot-maca/facs/sourmash_compute_tissue_subset/B5-MAA000779-3_11_M-1-1.sig to ../../../scratch/maca/facs/sourmash_compute_tissue_subset/B5-MAA000779-3_11_M-1-1.sig\n",
      "download: s3://olgabot-maca/facs/sourmash_compute_tissue_subset/B5-MAA001857-3_38_F-1-1.sig to ../../../scratch/maca/facs/sourmash_compute_tissue_subset/B5-MAA001857-3_38_F-1-1.sig\n",
      "download: s3://olgabot-maca/facs/sourmash_compute_tissue_subset/B5-MAA100140-3_57_F-1-1.sig to ../../../scratch/maca/facs/sourmash_compute_tissue_subset/B5-MAA100140-3_57_F-1-1.sig\n",
      "download: s3://olgabot-maca/facs/sourmash_compute_tissue_subset/B6-B001717-3_38_F-1-1.sig to ../../../scratch/maca/facs/sourmash_compute_tissue_subset/B6-B001717-3_38_F-1-1.sig\n",
      "download: s3://olgabot-maca/facs/sourmash_compute_tissue_subset/B6-MAA000779-3_11_M-1-1.sig to ../../../scratch/maca/facs/sourmash_compute_tissue_subset/B6-MAA000779-3_11_M-1-1.sig\n",
      "download: s3://olgabot-maca/facs/sourmash_compute_tissue_subset/B6-MAA100040-3_11_M-1-1.sig to ../../../scratch/maca/facs/sourmash_compute_tissue_subset/B6-MAA100040-3_11_M-1-1.sig\n",
      "download: s3://olgabot-maca/facs/sourmash_compute_tissue_subset/B7-MAA000559-3_8_M-1-1.sig to ../../../scratch/maca/facs/sourmash_compute_tissue_subset/B7-MAA000559-3_8_M-1-1.sig\n",
      "download: s3://olgabot-maca/facs/sourmash_compute_tissue_subset/B7-MAA001857-3_38_F-1-1.sig to ../../../scratch/maca/facs/sourmash_compute_tissue_subset/B7-MAA001857-3_38_F-1-1.sig\n",
      "download: s3://olgabot-maca/facs/sourmash_compute_tissue_subset/B8-MAA000377-3_9_M-1-1.sig to ../../../scratch/maca/facs/sourmash_compute_tissue_subset/B8-MAA000377-3_9_M-1-1.sig\n",
      "download: s3://olgabot-maca/facs/sourmash_compute_tissue_subset/B8-MAA000779-3_11_M-1-1.sig to ../../../scratch/maca/facs/sourmash_compute_tissue_subset/B8-MAA000779-3_11_M-1-1.sig\n",
      "download: s3://olgabot-maca/facs/sourmash_compute_tissue_subset/B8-MAA000801-3_11_M-1-1.sig to ../../../scratch/maca/facs/sourmash_compute_tissue_subset/B8-MAA000801-3_11_M-1-1.sig\n",
      "download: s3://olgabot-maca/facs/sourmash_compute_tissue_subset/C1-MAA000779-3_11_M-1-1.sig to ../../../scratch/maca/facs/sourmash_compute_tissue_subset/C1-MAA000779-3_11_M-1-1.sig\n",
      "download: s3://olgabot-maca/facs/sourmash_compute_tissue_subset/B8-MAA001857-3_38_F-1-1.sig to ../../../scratch/maca/facs/sourmash_compute_tissue_subset/B8-MAA001857-3_38_F-1-1.sig\n",
      "download: s3://olgabot-maca/facs/sourmash_compute_tissue_subset/B9-MAA100039-3_11_M-1-1.sig to ../../../scratch/maca/facs/sourmash_compute_tissue_subset/B9-MAA100039-3_11_M-1-1.sig\n",
      "download: s3://olgabot-maca/facs/sourmash_compute_tissue_subset/C1-B002771-3_39_F-1-1.sig to ../../../scratch/maca/facs/sourmash_compute_tissue_subset/C1-B002771-3_39_F-1-1.sig\n",
      "download: s3://olgabot-maca/facs/sourmash_compute_tissue_subset/C1-MAA000559-3_8_M-1-1.sig to ../../../scratch/maca/facs/sourmash_compute_tissue_subset/C1-MAA000559-3_8_M-1-1.sig\n",
      "download: s3://olgabot-maca/facs/sourmash_compute_tissue_subset/C1-MAA001862-3_39_F-1-1.sig to ../../../scratch/maca/facs/sourmash_compute_tissue_subset/C1-MAA001862-3_39_F-1-1.sig\n",
      "download: s3://olgabot-maca/facs/sourmash_compute_tissue_subset/C10-B001750-3_38_F-1-1.sig to ../../../scratch/maca/facs/sourmash_compute_tissue_subset/C10-B001750-3_38_F-1-1.sig\n",
      "download: s3://olgabot-maca/facs/sourmash_compute_tissue_subset/C10-MAA000545-3_8_M-1-1.sig to ../../../scratch/maca/facs/sourmash_compute_tissue_subset/C10-MAA000545-3_8_M-1-1.sig\n",
      "download: s3://olgabot-maca/facs/sourmash_compute_tissue_subset/C10-MAA000559-3_8_M-1-1.sig to ../../../scratch/maca/facs/sourmash_compute_tissue_subset/C10-MAA000559-3_8_M-1-1.sig\n",
      "download: s3://olgabot-maca/facs/sourmash_compute_tissue_subset/C10-MAA001862-3_39_F-1-1.sig to ../../../scratch/maca/facs/sourmash_compute_tissue_subset/C10-MAA001862-3_39_F-1-1.sig\n",
      "download: s3://olgabot-maca/facs/sourmash_compute_tissue_subset/C11-D041914-3_8_M-1-1.sig to ../../../scratch/maca/facs/sourmash_compute_tissue_subset/C11-D041914-3_8_M-1-1.sig\n",
      "download: s3://olgabot-maca/facs/sourmash_compute_tissue_subset/C11-MAA000779-3_11_M-1-1.sig to ../../../scratch/maca/facs/sourmash_compute_tissue_subset/C11-MAA000779-3_11_M-1-1.sig\n",
      "download: s3://olgabot-maca/facs/sourmash_compute_tissue_subset/C11-MAA000907-3_11_M-1-1.sig to ../../../scratch/maca/facs/sourmash_compute_tissue_subset/C11-MAA000907-3_11_M-1-1.sig\n",
      "download: s3://olgabot-maca/facs/sourmash_compute_tissue_subset/C11-MAA100140-3_57_F-1-1.sig to ../../../scratch/maca/facs/sourmash_compute_tissue_subset/C11-MAA100140-3_57_F-1-1.sig\n",
      "download: s3://olgabot-maca/facs/sourmash_compute_tissue_subset/C12-MAA000545-3_8_M-1-1.sig to ../../../scratch/maca/facs/sourmash_compute_tissue_subset/C12-MAA000545-3_8_M-1-1.sig\n",
      "download: s3://olgabot-maca/facs/sourmash_compute_tissue_subset/C11-MAA100042-3_9_M-1-1.sig to ../../../scratch/maca/facs/sourmash_compute_tissue_subset/C11-MAA100042-3_9_M-1-1.sig\n",
      "download: s3://olgabot-maca/facs/sourmash_compute_tissue_subset/C12-MAA000577-3_8_M-1-1.sig to ../../../scratch/maca/facs/sourmash_compute_tissue_subset/C12-MAA000577-3_8_M-1-1.sig\n",
      "download: s3://olgabot-maca/facs/sourmash_compute_tissue_subset/C12-MAA000801-3_11_M-1-1.sig to ../../../scratch/maca/facs/sourmash_compute_tissue_subset/C12-MAA000801-3_11_M-1-1.sig\n",
      "download: s3://olgabot-maca/facs/sourmash_compute_tissue_subset/C13-MAA000801-3_11_M-1-1.sig to ../../../scratch/maca/facs/sourmash_compute_tissue_subset/C13-MAA000801-3_11_M-1-1.sig\n",
      "download: s3://olgabot-maca/facs/sourmash_compute_tissue_subset/C14-D041914-3_8_M-1-1.sig to ../../../scratch/maca/facs/sourmash_compute_tissue_subset/C14-D041914-3_8_M-1-1.sig\n",
      "download: s3://olgabot-maca/facs/sourmash_compute_tissue_subset/C13-B002771-3_39_F-1-1.sig to ../../../scratch/maca/facs/sourmash_compute_tissue_subset/C13-B002771-3_39_F-1-1.sig\n",
      "download: s3://olgabot-maca/facs/sourmash_compute_tissue_subset/C14-MAA000487-3_10_M-1-1.sig to ../../../scratch/maca/facs/sourmash_compute_tissue_subset/C14-MAA000487-3_10_M-1-1.sig\n",
      "download: s3://olgabot-maca/facs/sourmash_compute_tissue_subset/C14-MAA000776-3_10_M-1-1.sig to ../../../scratch/maca/facs/sourmash_compute_tissue_subset/C14-MAA000776-3_10_M-1-1.sig\n",
      "download: s3://olgabot-maca/facs/sourmash_compute_tissue_subset/C15-MAA000574-3_8_M-1-1.sig to ../../../scratch/maca/facs/sourmash_compute_tissue_subset/C15-MAA000574-3_8_M-1-1.sig\n",
      "download: s3://olgabot-maca/facs/sourmash_compute_tissue_subset/C15-MAA000577-3_8_M-1-1.sig to ../../../scratch/maca/facs/sourmash_compute_tissue_subset/C15-MAA000577-3_8_M-1-1.sig\n",
      "download: s3://olgabot-maca/facs/sourmash_compute_tissue_subset/C16-B000971-3_39_F-1-1.sig to ../../../scratch/maca/facs/sourmash_compute_tissue_subset/C16-B000971-3_39_F-1-1.sig\n",
      "download: s3://olgabot-maca/facs/sourmash_compute_tissue_subset/C16-B002771-3_39_F-1-1.sig to ../../../scratch/maca/facs/sourmash_compute_tissue_subset/C16-B002771-3_39_F-1-1.sig\n",
      "download: s3://olgabot-maca/facs/sourmash_compute_tissue_subset/C17-B002771-3_39_F-1-1.sig to ../../../scratch/maca/facs/sourmash_compute_tissue_subset/C17-B002771-3_39_F-1-1.sig\n",
      "download: s3://olgabot-maca/facs/sourmash_compute_tissue_subset/C16-MAA000752-3_10_M-1-1.sig to ../../../scratch/maca/facs/sourmash_compute_tissue_subset/C16-MAA000752-3_10_M-1-1.sig\n",
      "download: s3://olgabot-maca/facs/sourmash_compute_tissue_subset/C17-MAA000910-3_10_M-1-1.sig to ../../../scratch/maca/facs/sourmash_compute_tissue_subset/C17-MAA000910-3_10_M-1-1.sig\n",
      "download: s3://olgabot-maca/facs/sourmash_compute_tissue_subset/C18-MAA000377-3_9_M-1-1.sig to ../../../scratch/maca/facs/sourmash_compute_tissue_subset/C18-MAA000377-3_9_M-1-1.sig\n",
      "download: s3://olgabot-maca/facs/sourmash_compute_tissue_subset/C18-MAA000907-3_11_M-1-1.sig to ../../../scratch/maca/facs/sourmash_compute_tissue_subset/C18-MAA000907-3_11_M-1-1.sig\n",
      "download: s3://olgabot-maca/facs/sourmash_compute_tissue_subset/C19-MAA000487-3_10_M-1-1.sig to ../../../scratch/maca/facs/sourmash_compute_tissue_subset/C19-MAA000487-3_10_M-1-1.sig\n"
     ]
    },
    {
     "name": "stdout",
     "output_type": "stream",
     "text": [
      "download: s3://olgabot-maca/facs/sourmash_compute_tissue_subset/C19-MAA000776-3_10_M-1-1.sig to ../../../scratch/maca/facs/sourmash_compute_tissue_subset/C19-MAA000776-3_10_M-1-1.sig\n",
      "download: s3://olgabot-maca/facs/sourmash_compute_tissue_subset/C19-MAA000779-3_11_M-1-1.sig to ../../../scratch/maca/facs/sourmash_compute_tissue_subset/C19-MAA000779-3_11_M-1-1.sig\n",
      "download: s3://olgabot-maca/facs/sourmash_compute_tissue_subset/C2-D042253-3_9_M-1-1.sig to ../../../scratch/maca/facs/sourmash_compute_tissue_subset/C2-D042253-3_9_M-1-1.sig\n",
      "download: s3://olgabot-maca/facs/sourmash_compute_tissue_subset/C2-MAA000559-3_8_M-1-1.sig to ../../../scratch/maca/facs/sourmash_compute_tissue_subset/C2-MAA000559-3_8_M-1-1.sig\n",
      "download: s3://olgabot-maca/facs/sourmash_compute_tissue_subset/C2-MAA100140-3_57_F-1-1.sig to ../../../scratch/maca/facs/sourmash_compute_tissue_subset/C2-MAA100140-3_57_F-1-1.sig\n",
      "download: s3://olgabot-maca/facs/sourmash_compute_tissue_subset/C20-MAA000577-3_8_M-1-1.sig to ../../../scratch/maca/facs/sourmash_compute_tissue_subset/C20-MAA000577-3_8_M-1-1.sig\n",
      "download: s3://olgabot-maca/facs/sourmash_compute_tissue_subset/C20-B002775-3_39_F-1-1.sig to ../../../scratch/maca/facs/sourmash_compute_tissue_subset/C20-B002775-3_39_F-1-1.sig\n",
      "download: s3://olgabot-maca/facs/sourmash_compute_tissue_subset/C20-MAA000779-3_11_M-1-1.sig to ../../../scratch/maca/facs/sourmash_compute_tissue_subset/C20-MAA000779-3_11_M-1-1.sig\n",
      "download: s3://olgabot-maca/facs/sourmash_compute_tissue_subset/C20-MAA001861-3_39_F-1-1.sig to ../../../scratch/maca/facs/sourmash_compute_tissue_subset/C20-MAA001861-3_39_F-1-1.sig\n",
      "download: s3://olgabot-maca/facs/sourmash_compute_tissue_subset/C21-D041914-3_8_M-1-1.sig to ../../../scratch/maca/facs/sourmash_compute_tissue_subset/C21-D041914-3_8_M-1-1.sig\n",
      "download: s3://olgabot-maca/facs/sourmash_compute_tissue_subset/C21-MAA000577-3_8_M-1-1.sig to ../../../scratch/maca/facs/sourmash_compute_tissue_subset/C21-MAA000577-3_8_M-1-1.sig\n",
      "download: s3://olgabot-maca/facs/sourmash_compute_tissue_subset/C21-MAA000910-3_10_M-1-1.sig to ../../../scratch/maca/facs/sourmash_compute_tissue_subset/C21-MAA000910-3_10_M-1-1.sig\n",
      "download: s3://olgabot-maca/facs/sourmash_compute_tissue_subset/C22-MAA000907-3_11_M-1-1.sig to ../../../scratch/maca/facs/sourmash_compute_tissue_subset/C22-MAA000907-3_11_M-1-1.sig\n",
      "download: s3://olgabot-maca/facs/sourmash_compute_tissue_subset/C3-B000971-3_39_F-1-1.sig to ../../../scratch/maca/facs/sourmash_compute_tissue_subset/C3-B000971-3_39_F-1-1.sig\n",
      "download: s3://olgabot-maca/facs/sourmash_compute_tissue_subset/C3-D042253-3_9_M-1-1.sig to ../../../scratch/maca/facs/sourmash_compute_tissue_subset/C3-D042253-3_9_M-1-1.sig\n",
      "download: s3://olgabot-maca/facs/sourmash_compute_tissue_subset/C4-B002775-3_39_F-1-1.sig to ../../../scratch/maca/facs/sourmash_compute_tissue_subset/C4-B002775-3_39_F-1-1.sig\n",
      "download: s3://olgabot-maca/facs/sourmash_compute_tissue_subset/C4-MAA000907-3_11_M-1-1.sig to ../../../scratch/maca/facs/sourmash_compute_tissue_subset/C4-MAA000907-3_11_M-1-1.sig\n",
      "download: s3://olgabot-maca/facs/sourmash_compute_tissue_subset/C4-MAA000922-3_9_M-1-1.sig to ../../../scratch/maca/facs/sourmash_compute_tissue_subset/C4-MAA000922-3_9_M-1-1.sig\n",
      "download: s3://olgabot-maca/facs/sourmash_compute_tissue_subset/C4-MAA100040-3_11_M-1-1.sig to ../../../scratch/maca/facs/sourmash_compute_tissue_subset/C4-MAA100040-3_11_M-1-1.sig\n",
      "download: s3://olgabot-maca/facs/sourmash_compute_tissue_subset/C4-MAA100140-3_57_F-1-1.sig to ../../../scratch/maca/facs/sourmash_compute_tissue_subset/C4-MAA100140-3_57_F-1-1.sig\n",
      "download: s3://olgabot-maca/facs/sourmash_compute_tissue_subset/C5-B002764-3_38_F-1-1.sig to ../../../scratch/maca/facs/sourmash_compute_tissue_subset/C5-B002764-3_38_F-1-1.sig\n",
      "download: s3://olgabot-maca/facs/sourmash_compute_tissue_subset/C6-D041914-3_8_M-1-1.sig to ../../../scratch/maca/facs/sourmash_compute_tissue_subset/C6-D041914-3_8_M-1-1.sig\n",
      "download: s3://olgabot-maca/facs/sourmash_compute_tissue_subset/C6-D042253-3_9_M-1-1.sig to ../../../scratch/maca/facs/sourmash_compute_tissue_subset/C6-D042253-3_9_M-1-1.sig\n",
      "download: s3://olgabot-maca/facs/sourmash_compute_tissue_subset/C6-MAA000545-3_8_M-1-1.sig to ../../../scratch/maca/facs/sourmash_compute_tissue_subset/C6-MAA000545-3_8_M-1-1.sig\n",
      "download: s3://olgabot-maca/facs/sourmash_compute_tissue_subset/C6-MAA000884-3_10_M-1-1.sig to ../../../scratch/maca/facs/sourmash_compute_tissue_subset/C6-MAA000884-3_10_M-1-1.sig\n",
      "download: s3://olgabot-maca/facs/sourmash_compute_tissue_subset/C6-MAA100042-3_9_M-1-1.sig to ../../../scratch/maca/facs/sourmash_compute_tissue_subset/C6-MAA100042-3_9_M-1-1.sig\n",
      "download: s3://olgabot-maca/facs/sourmash_compute_tissue_subset/C7-B001717-3_38_F-1-1.sig to ../../../scratch/maca/facs/sourmash_compute_tissue_subset/C7-B001717-3_38_F-1-1.sig\n",
      "download: s3://olgabot-maca/facs/sourmash_compute_tissue_subset/C7-MAA001857-3_38_F-1-1.sig to ../../../scratch/maca/facs/sourmash_compute_tissue_subset/C7-MAA001857-3_38_F-1-1.sig\n",
      "download: s3://olgabot-maca/facs/sourmash_compute_tissue_subset/C7-MAA000577-3_8_M-1-1.sig to ../../../scratch/maca/facs/sourmash_compute_tissue_subset/C7-MAA000577-3_8_M-1-1.sig\n",
      "download: s3://olgabot-maca/facs/sourmash_compute_tissue_subset/C7-MAA100140-3_57_F-1-1.sig to ../../../scratch/maca/facs/sourmash_compute_tissue_subset/C7-MAA100140-3_57_F-1-1.sig\n",
      "download: s3://olgabot-maca/facs/sourmash_compute_tissue_subset/C8-MAA000910-3_10_M-1-1.sig to ../../../scratch/maca/facs/sourmash_compute_tissue_subset/C8-MAA000910-3_10_M-1-1.sig\n",
      "download: s3://olgabot-maca/facs/sourmash_compute_tissue_subset/C8-MAA001857-3_38_F-1-1.sig to ../../../scratch/maca/facs/sourmash_compute_tissue_subset/C8-MAA001857-3_38_F-1-1.sig\n",
      "download: s3://olgabot-maca/facs/sourmash_compute_tissue_subset/C9-MAA000779-3_11_M-1-1.sig to ../../../scratch/maca/facs/sourmash_compute_tissue_subset/C9-MAA000779-3_11_M-1-1.sig\n",
      "download: s3://olgabot-maca/facs/sourmash_compute_tissue_subset/C9-MAA000907-3_11_M-1-1.sig to ../../../scratch/maca/facs/sourmash_compute_tissue_subset/C9-MAA000907-3_11_M-1-1.sig\n",
      "download: s3://olgabot-maca/facs/sourmash_compute_tissue_subset/C9-MAA100042-3_9_M-1-1.sig to ../../../scratch/maca/facs/sourmash_compute_tissue_subset/C9-MAA100042-3_9_M-1-1.sig\n",
      "download: s3://olgabot-maca/facs/sourmash_compute_tissue_subset/D1-B000971-3_39_F-1-1.sig to ../../../scratch/maca/facs/sourmash_compute_tissue_subset/D1-B000971-3_39_F-1-1.sig\n",
      "download: s3://olgabot-maca/facs/sourmash_compute_tissue_subset/D1-B000610-3_56_F-1-1.sig to ../../../scratch/maca/facs/sourmash_compute_tissue_subset/D1-B000610-3_56_F-1-1.sig\n",
      "download: s3://olgabot-maca/facs/sourmash_compute_tissue_subset/D1-MAA000801-3_11_M-1-1.sig to ../../../scratch/maca/facs/sourmash_compute_tissue_subset/D1-MAA000801-3_11_M-1-1.sig\n",
      "download: s3://olgabot-maca/facs/sourmash_compute_tissue_subset/D1-MAA000545-3_8_M-1-1.sig to ../../../scratch/maca/facs/sourmash_compute_tissue_subset/D1-MAA000545-3_8_M-1-1.sig\n",
      "download: s3://olgabot-maca/facs/sourmash_compute_tissue_subset/D1-MAA001857-3_38_F-1-1.sig to ../../../scratch/maca/facs/sourmash_compute_tissue_subset/D1-MAA001857-3_38_F-1-1.sig\n",
      "download: s3://olgabot-maca/facs/sourmash_compute_tissue_subset/D1-MAA100140-3_57_F-1-1.sig to ../../../scratch/maca/facs/sourmash_compute_tissue_subset/D1-MAA100140-3_57_F-1-1.sig\n",
      "download: s3://olgabot-maca/facs/sourmash_compute_tissue_subset/D10-B001717-3_38_F-1-1.sig to ../../../scratch/maca/facs/sourmash_compute_tissue_subset/D10-B001717-3_38_F-1-1.sig\n",
      "download: s3://olgabot-maca/facs/sourmash_compute_tissue_subset/D10-MAA000884-3_10_M-1-1.sig to ../../../scratch/maca/facs/sourmash_compute_tissue_subset/D10-MAA000884-3_10_M-1-1.sig\n",
      "download: s3://olgabot-maca/facs/sourmash_compute_tissue_subset/D11-MAA001862-3_39_F-1-1.sig to ../../../scratch/maca/facs/sourmash_compute_tissue_subset/D11-MAA001862-3_39_F-1-1.sig\n",
      "download: s3://olgabot-maca/facs/sourmash_compute_tissue_subset/D11-MAA100140-3_57_F-1-1.sig to ../../../scratch/maca/facs/sourmash_compute_tissue_subset/D11-MAA100140-3_57_F-1-1.sig\n",
      "download: s3://olgabot-maca/facs/sourmash_compute_tissue_subset/D12-MAA100039-3_11_M-1-1.sig to ../../../scratch/maca/facs/sourmash_compute_tissue_subset/D12-MAA100039-3_11_M-1-1.sig\n"
     ]
    },
    {
     "name": "stdout",
     "output_type": "stream",
     "text": [
      "download: s3://olgabot-maca/facs/sourmash_compute_tissue_subset/D11-MAA100138-3_56_F-1-1.sig to ../../../scratch/maca/facs/sourmash_compute_tissue_subset/D11-MAA100138-3_56_F-1-1.sig\n",
      "download: s3://olgabot-maca/facs/sourmash_compute_tissue_subset/D12-MAA100042-3_9_M-1-1.sig to ../../../scratch/maca/facs/sourmash_compute_tissue_subset/D12-MAA100042-3_9_M-1-1.sig\n",
      "download: s3://olgabot-maca/facs/sourmash_compute_tissue_subset/D13-B000971-3_39_F-1-1.sig to ../../../scratch/maca/facs/sourmash_compute_tissue_subset/D13-B000971-3_39_F-1-1.sig\n",
      "download: s3://olgabot-maca/facs/sourmash_compute_tissue_subset/D13-B001717-3_38_F-1-1.sig to ../../../scratch/maca/facs/sourmash_compute_tissue_subset/D13-B001717-3_38_F-1-1.sig\n",
      "download: s3://olgabot-maca/facs/sourmash_compute_tissue_subset/D15-MAA000559-3_8_M-1-1.sig to ../../../scratch/maca/facs/sourmash_compute_tissue_subset/D15-MAA000559-3_8_M-1-1.sig\n",
      "download: s3://olgabot-maca/facs/sourmash_compute_tissue_subset/D16-B000610-3_56_F-1-1.sig to ../../../scratch/maca/facs/sourmash_compute_tissue_subset/D16-B000610-3_56_F-1-1.sig\n",
      "download: s3://olgabot-maca/facs/sourmash_compute_tissue_subset/D16-MAA000487-3_10_M-1-1.sig to ../../../scratch/maca/facs/sourmash_compute_tissue_subset/D16-MAA000487-3_10_M-1-1.sig\n",
      "download: s3://olgabot-maca/facs/sourmash_compute_tissue_subset/D15-B000610-3_56_F-1-1.sig to ../../../scratch/maca/facs/sourmash_compute_tissue_subset/D15-B000610-3_56_F-1-1.sig\n",
      "download: s3://olgabot-maca/facs/sourmash_compute_tissue_subset/D16-MAA000577-3_8_M-1-1.sig to ../../../scratch/maca/facs/sourmash_compute_tissue_subset/D16-MAA000577-3_8_M-1-1.sig\n",
      "download: s3://olgabot-maca/facs/sourmash_compute_tissue_subset/D17-B002771-3_39_F-1-1.sig to ../../../scratch/maca/facs/sourmash_compute_tissue_subset/D17-B002771-3_39_F-1-1.sig\n",
      "download: s3://olgabot-maca/facs/sourmash_compute_tissue_subset/D17-MAA000907-3_11_M-1-1.sig to ../../../scratch/maca/facs/sourmash_compute_tissue_subset/D17-MAA000907-3_11_M-1-1.sig\n",
      "download: s3://olgabot-maca/facs/sourmash_compute_tissue_subset/D17-MAA001861-3_39_F-1-1.sig to ../../../scratch/maca/facs/sourmash_compute_tissue_subset/D17-MAA001861-3_39_F-1-1.sig\n",
      "download: s3://olgabot-maca/facs/sourmash_compute_tissue_subset/D18-D041914-3_8_M-1-1.sig to ../../../scratch/maca/facs/sourmash_compute_tissue_subset/D18-D041914-3_8_M-1-1.sig\n",
      "download: s3://olgabot-maca/facs/sourmash_compute_tissue_subset/D18-MAA000487-3_10_M-1-1.sig to ../../../scratch/maca/facs/sourmash_compute_tissue_subset/D18-MAA000487-3_10_M-1-1.sig\n",
      "download: s3://olgabot-maca/facs/sourmash_compute_tissue_subset/D18-MAA000801-3_11_M-1-1.sig to ../../../scratch/maca/facs/sourmash_compute_tissue_subset/D18-MAA000801-3_11_M-1-1.sig\n",
      "download: s3://olgabot-maca/facs/sourmash_compute_tissue_subset/D18-MAA001862-3_39_F-1-1.sig to ../../../scratch/maca/facs/sourmash_compute_tissue_subset/D18-MAA001862-3_39_F-1-1.sig\n",
      "download: s3://olgabot-maca/facs/sourmash_compute_tissue_subset/D19-D042253-3_9_M-1-1.sig to ../../../scratch/maca/facs/sourmash_compute_tissue_subset/D19-D042253-3_9_M-1-1.sig\n",
      "download: s3://olgabot-maca/facs/sourmash_compute_tissue_subset/D2-B002771-3_39_F-1-1.sig to ../../../scratch/maca/facs/sourmash_compute_tissue_subset/D2-B002771-3_39_F-1-1.sig\n",
      "download: s3://olgabot-maca/facs/sourmash_compute_tissue_subset/D2-MAA000577-3_8_M-1-1.sig to ../../../scratch/maca/facs/sourmash_compute_tissue_subset/D2-MAA000577-3_8_M-1-1.sig\n",
      "download: s3://olgabot-maca/facs/sourmash_compute_tissue_subset/D2-MAA000801-3_11_M-1-1.sig to ../../../scratch/maca/facs/sourmash_compute_tissue_subset/D2-MAA000801-3_11_M-1-1.sig\n",
      "download: s3://olgabot-maca/facs/sourmash_compute_tissue_subset/D2-MAA000910-3_10_M-1-1.sig to ../../../scratch/maca/facs/sourmash_compute_tissue_subset/D2-MAA000910-3_10_M-1-1.sig\n",
      "download: s3://olgabot-maca/facs/sourmash_compute_tissue_subset/D2-MAA001862-3_39_F-1-1.sig to ../../../scratch/maca/facs/sourmash_compute_tissue_subset/D2-MAA001862-3_39_F-1-1.sig\n",
      "download: s3://olgabot-maca/facs/sourmash_compute_tissue_subset/D20-MAA001868-3_38_F-1-1.sig to ../../../scratch/maca/facs/sourmash_compute_tissue_subset/D20-MAA001868-3_38_F-1-1.sig\n",
      "download: s3://olgabot-maca/facs/sourmash_compute_tissue_subset/D21-B002764-3_38_F-1-1.sig to ../../../scratch/maca/facs/sourmash_compute_tissue_subset/D21-B002764-3_38_F-1-1.sig\n",
      "download: s3://olgabot-maca/facs/sourmash_compute_tissue_subset/D21-MAA000801-3_11_M-1-1.sig to ../../../scratch/maca/facs/sourmash_compute_tissue_subset/D21-MAA000801-3_11_M-1-1.sig\n",
      "download: s3://olgabot-maca/facs/sourmash_compute_tissue_subset/D21-MAA000907-3_11_M-1-1.sig to ../../../scratch/maca/facs/sourmash_compute_tissue_subset/D21-MAA000907-3_11_M-1-1.sig\n",
      "download: s3://olgabot-maca/facs/sourmash_compute_tissue_subset/D22-MAA000910-3_10_M-1-1.sig to ../../../scratch/maca/facs/sourmash_compute_tissue_subset/D22-MAA000910-3_10_M-1-1.sig\n",
      "download: s3://olgabot-maca/facs/sourmash_compute_tissue_subset/D22-MAA000776-3_10_M-1-1.sig to ../../../scratch/maca/facs/sourmash_compute_tissue_subset/D22-MAA000776-3_10_M-1-1.sig\n",
      "download: s3://olgabot-maca/facs/sourmash_compute_tissue_subset/D3-B002764-3_38_F-1-1.sig to ../../../scratch/maca/facs/sourmash_compute_tissue_subset/D3-B002764-3_38_F-1-1.sig\n",
      "download: s3://olgabot-maca/facs/sourmash_compute_tissue_subset/D3-MAA000487-3_10_M-1-1.sig to ../../../scratch/maca/facs/sourmash_compute_tissue_subset/D3-MAA000487-3_10_M-1-1.sig\n",
      "download: s3://olgabot-maca/facs/sourmash_compute_tissue_subset/D3-MAA000545-3_8_M-1-1.sig to ../../../scratch/maca/facs/sourmash_compute_tissue_subset/D3-MAA000545-3_8_M-1-1.sig\n",
      "download: s3://olgabot-maca/facs/sourmash_compute_tissue_subset/D3-MAA000776-3_10_M-1-1.sig to ../../../scratch/maca/facs/sourmash_compute_tissue_subset/D3-MAA000776-3_10_M-1-1.sig\n",
      "download: s3://olgabot-maca/facs/sourmash_compute_tissue_subset/D3-MAA100041-3_9_M-1-1.sig to ../../../scratch/maca/facs/sourmash_compute_tissue_subset/D3-MAA100041-3_9_M-1-1.sig\n",
      "download: s3://olgabot-maca/facs/sourmash_compute_tissue_subset/D3-MAA100138-3_56_F-1-1.sig to ../../../scratch/maca/facs/sourmash_compute_tissue_subset/D3-MAA100138-3_56_F-1-1.sig\n",
      "download: s3://olgabot-maca/facs/sourmash_compute_tissue_subset/D4-B000971-3_39_F-1-1.sig to ../../../scratch/maca/facs/sourmash_compute_tissue_subset/D4-B000971-3_39_F-1-1.sig\n",
      "download: s3://olgabot-maca/facs/sourmash_compute_tissue_subset/D4-B001750-3_38_F-1-1.sig to ../../../scratch/maca/facs/sourmash_compute_tissue_subset/D4-B001750-3_38_F-1-1.sig\n",
      "download: s3://olgabot-maca/facs/sourmash_compute_tissue_subset/D4-MAA001857-3_38_F-1-1.sig to ../../../scratch/maca/facs/sourmash_compute_tissue_subset/D4-MAA001857-3_38_F-1-1.sig\n",
      "download: s3://olgabot-maca/facs/sourmash_compute_tissue_subset/D4-MAA100040-3_11_M-1-1.sig to ../../../scratch/maca/facs/sourmash_compute_tissue_subset/D4-MAA100040-3_11_M-1-1.sig\n",
      "download: s3://olgabot-maca/facs/sourmash_compute_tissue_subset/D4-MAA100138-3_56_F-1-1.sig to ../../../scratch/maca/facs/sourmash_compute_tissue_subset/D4-MAA100138-3_56_F-1-1.sig\n",
      "download: s3://olgabot-maca/facs/sourmash_compute_tissue_subset/D5-D042253-3_9_M-1-1.sig to ../../../scratch/maca/facs/sourmash_compute_tissue_subset/D5-D042253-3_9_M-1-1.sig\n",
      "download: s3://olgabot-maca/facs/sourmash_compute_tissue_subset/D5-MAA000907-3_11_M-1-1.sig to ../../../scratch/maca/facs/sourmash_compute_tissue_subset/D5-MAA000907-3_11_M-1-1.sig\n",
      "download: s3://olgabot-maca/facs/sourmash_compute_tissue_subset/D5-MAA000801-3_11_M-1-1.sig to ../../../scratch/maca/facs/sourmash_compute_tissue_subset/D5-MAA000801-3_11_M-1-1.sig\n",
      "download: s3://olgabot-maca/facs/sourmash_compute_tissue_subset/D5-MAA100039-3_11_M-1-1.sig to ../../../scratch/maca/facs/sourmash_compute_tissue_subset/D5-MAA100039-3_11_M-1-1.sig\n",
      "download: s3://olgabot-maca/facs/sourmash_compute_tissue_subset/D5-MAA100138-3_56_F-1-1.sig to ../../../scratch/maca/facs/sourmash_compute_tissue_subset/D5-MAA100138-3_56_F-1-1.sig\n",
      "download: s3://olgabot-maca/facs/sourmash_compute_tissue_subset/D6-MAA000801-3_11_M-1-1.sig to ../../../scratch/maca/facs/sourmash_compute_tissue_subset/D6-MAA000801-3_11_M-1-1.sig\n",
      "download: s3://olgabot-maca/facs/sourmash_compute_tissue_subset/D6-MAA000907-3_11_M-1-1.sig to ../../../scratch/maca/facs/sourmash_compute_tissue_subset/D6-MAA000907-3_11_M-1-1.sig\n",
      "download: s3://olgabot-maca/facs/sourmash_compute_tissue_subset/D6-MAA100138-3_56_F-1-1.sig to ../../../scratch/maca/facs/sourmash_compute_tissue_subset/D6-MAA100138-3_56_F-1-1.sig\n",
      "download: s3://olgabot-maca/facs/sourmash_compute_tissue_subset/D6-MAA100140-3_57_F-1-1.sig to ../../../scratch/maca/facs/sourmash_compute_tissue_subset/D6-MAA100140-3_57_F-1-1.sig\n",
      "download: s3://olgabot-maca/facs/sourmash_compute_tissue_subset/D7-B001717-3_38_F-1-1.sig to ../../../scratch/maca/facs/sourmash_compute_tissue_subset/D7-B001717-3_38_F-1-1.sig\n",
      "download: s3://olgabot-maca/facs/sourmash_compute_tissue_subset/D7-MAA000776-3_10_M-1-1.sig to ../../../scratch/maca/facs/sourmash_compute_tissue_subset/D7-MAA000776-3_10_M-1-1.sig\n",
      "download: s3://olgabot-maca/facs/sourmash_compute_tissue_subset/D7-MAA000907-3_11_M-1-1.sig to ../../../scratch/maca/facs/sourmash_compute_tissue_subset/D7-MAA000907-3_11_M-1-1.sige(s) remaining (calculating...)\n",
      "download: s3://olgabot-maca/facs/sourmash_compute_tissue_subset/D7-MAA100039-3_11_M-1-1.sig to ../../../scratch/maca/facs/sourmash_compute_tissue_subset/D7-MAA100039-3_11_M-1-1.sig\n",
      "download: s3://olgabot-maca/facs/sourmash_compute_tissue_subset/D8-D042253-3_9_M-1-1.sig to ../../../scratch/maca/facs/sourmash_compute_tissue_subset/D8-D042253-3_9_M-1-1.sig\n",
      "download: s3://olgabot-maca/facs/sourmash_compute_tissue_subset/D8-MAA000545-3_8_M-1-1.sig to ../../../scratch/maca/facs/sourmash_compute_tissue_subset/D8-MAA000545-3_8_M-1-1.sig\n",
      "download: s3://olgabot-maca/facs/sourmash_compute_tissue_subset/D8-MAA000779-3_11_M-1-1.sig to ../../../scratch/maca/facs/sourmash_compute_tissue_subset/D8-MAA000779-3_11_M-1-1.sig\n",
      "download: s3://olgabot-maca/facs/sourmash_compute_tissue_subset/D8-MAA001857-3_38_F-1-1.sig to ../../../scratch/maca/facs/sourmash_compute_tissue_subset/D8-MAA001857-3_38_F-1-1.sig\n",
      "download: s3://olgabot-maca/facs/sourmash_compute_tissue_subset/D9-MAA000907-3_11_M-1-1.sig to ../../../scratch/maca/facs/sourmash_compute_tissue_subset/D9-MAA000907-3_11_M-1-1.sig\n",
      "download: s3://olgabot-maca/facs/sourmash_compute_tissue_subset/D8-MAA100039-3_11_M-1-1.sig to ../../../scratch/maca/facs/sourmash_compute_tissue_subset/D8-MAA100039-3_11_M-1-1.sig\n",
      "download: s3://olgabot-maca/facs/sourmash_compute_tissue_subset/E1-B001750-3_38_F-1-1.sig to ../../../scratch/maca/facs/sourmash_compute_tissue_subset/E1-B001750-3_38_F-1-1.sig\n",
      "download: s3://olgabot-maca/facs/sourmash_compute_tissue_subset/E1-MAA000545-3_8_M-1-1.sig to ../../../scratch/maca/facs/sourmash_compute_tissue_subset/E1-MAA000545-3_8_M-1-1.sig\n",
      "download: s3://olgabot-maca/facs/sourmash_compute_tissue_subset/E1-MAA000776-3_10_M-1-1.sig to ../../../scratch/maca/facs/sourmash_compute_tissue_subset/E1-MAA000776-3_10_M-1-1.sig\n",
      "download: s3://olgabot-maca/facs/sourmash_compute_tissue_subset/E1-MAA100042-3_9_M-1-1.sig to ../../../scratch/maca/facs/sourmash_compute_tissue_subset/E1-MAA100042-3_9_M-1-1.sig\n",
      "download: s3://olgabot-maca/facs/sourmash_compute_tissue_subset/E1-MAA000907-3_11_M-1-1.sig to ../../../scratch/maca/facs/sourmash_compute_tissue_subset/E1-MAA000907-3_11_M-1-1.sig\n",
      "download: s3://olgabot-maca/facs/sourmash_compute_tissue_subset/E10-B001717-3_38_F-1-1.sig to ../../../scratch/maca/facs/sourmash_compute_tissue_subset/E10-B001717-3_38_F-1-1.sig\n",
      "download: s3://olgabot-maca/facs/sourmash_compute_tissue_subset/E10-MAA000779-3_11_M-1-1.sig to ../../../scratch/maca/facs/sourmash_compute_tissue_subset/E10-MAA000779-3_11_M-1-1.sig\n",
      "download: s3://olgabot-maca/facs/sourmash_compute_tissue_subset/E10-MAA100039-3_11_M-1-1.sig to ../../../scratch/maca/facs/sourmash_compute_tissue_subset/E10-MAA100039-3_11_M-1-1.sig\n",
      "download: s3://olgabot-maca/facs/sourmash_compute_tissue_subset/E10-MAA100138-3_56_F-1-1.sig to ../../../scratch/maca/facs/sourmash_compute_tissue_subset/E10-MAA100138-3_56_F-1-1.sig\n",
      "download: s3://olgabot-maca/facs/sourmash_compute_tissue_subset/E11-B001750-3_38_F-1-1.sig to ../../../scratch/maca/facs/sourmash_compute_tissue_subset/E11-B001750-3_38_F-1-1.sig\n",
      "download: s3://olgabot-maca/facs/sourmash_compute_tissue_subset/E11-MAA000559-3_8_M-1-1.sig to ../../../scratch/maca/facs/sourmash_compute_tissue_subset/E11-MAA000559-3_8_M-1-1.sig\n",
      "download: s3://olgabot-maca/facs/sourmash_compute_tissue_subset/E13-B000971-3_39_F-1-1.sig to ../../../scratch/maca/facs/sourmash_compute_tissue_subset/E13-B000971-3_39_F-1-1.sig\n",
      "download: s3://olgabot-maca/facs/sourmash_compute_tissue_subset/E11-MAA100138-3_56_F-1-1.sig to ../../../scratch/maca/facs/sourmash_compute_tissue_subset/E11-MAA100138-3_56_F-1-1.sig\n",
      "download: s3://olgabot-maca/facs/sourmash_compute_tissue_subset/E11-MAA100140-3_57_F-1-1.sig to ../../../scratch/maca/facs/sourmash_compute_tissue_subset/E11-MAA100140-3_57_F-1-1.sig\n",
      "download: s3://olgabot-maca/facs/sourmash_compute_tissue_subset/E12-MAA001862-3_39_F-1-1.sig to ../../../scratch/maca/facs/sourmash_compute_tissue_subset/E12-MAA001862-3_39_F-1-1.sig\n",
      "download: s3://olgabot-maca/facs/sourmash_compute_tissue_subset/E12-MAA000559-3_8_M-1-1.sig to ../../../scratch/maca/facs/sourmash_compute_tissue_subset/E12-MAA000559-3_8_M-1-1.sig\n",
      "download: s3://olgabot-maca/facs/sourmash_compute_tissue_subset/E13-B001717-3_38_F-1-1.sig to ../../../scratch/maca/facs/sourmash_compute_tissue_subset/E13-B001717-3_38_F-1-1.sig\n",
      "download: s3://olgabot-maca/facs/sourmash_compute_tissue_subset/E15-MAA000907-3_11_M-1-1.sig to ../../../scratch/maca/facs/sourmash_compute_tissue_subset/E15-MAA000907-3_11_M-1-1.sig\n",
      "download: s3://olgabot-maca/facs/sourmash_compute_tissue_subset/E17-MAA001862-3_39_F-1-1.sig to ../../../scratch/maca/facs/sourmash_compute_tissue_subset/E17-MAA001862-3_39_F-1-1.sig\n",
      "download: s3://olgabot-maca/facs/sourmash_compute_tissue_subset/E16-MAA000907-3_11_M-1-1.sig to ../../../scratch/maca/facs/sourmash_compute_tissue_subset/E16-MAA000907-3_11_M-1-1.sig\n",
      "download: s3://olgabot-maca/facs/sourmash_compute_tissue_subset/E17-MAA000577-3_8_M-1-1.sig to ../../../scratch/maca/facs/sourmash_compute_tissue_subset/E17-MAA000577-3_8_M-1-1.sig\n",
      "download: s3://olgabot-maca/facs/sourmash_compute_tissue_subset/E18-B002764-3_38_F-1-1.sig to ../../../scratch/maca/facs/sourmash_compute_tissue_subset/E18-B002764-3_38_F-1-1.sig\n",
      "download: s3://olgabot-maca/facs/sourmash_compute_tissue_subset/E18-MAA000487-3_10_M-1-1.sig to ../../../scratch/maca/facs/sourmash_compute_tissue_subset/E18-MAA000487-3_10_M-1-1.sig\n",
      "download: s3://olgabot-maca/facs/sourmash_compute_tissue_subset/E2-MAA000559-3_8_M-1-1.sig to ../../../scratch/maca/facs/sourmash_compute_tissue_subset/E2-MAA000559-3_8_M-1-1.sig\n",
      "download: s3://olgabot-maca/facs/sourmash_compute_tissue_subset/E2-MAA100042-3_9_M-1-1.sig to ../../../scratch/maca/facs/sourmash_compute_tissue_subset/E2-MAA100042-3_9_M-1-1.sig\n",
      "download: s3://olgabot-maca/facs/sourmash_compute_tissue_subset/E20-MAA000776-3_10_M-1-1.sig to ../../../scratch/maca/facs/sourmash_compute_tissue_subset/E20-MAA000776-3_10_M-1-1.sig\n",
      "download: s3://olgabot-maca/facs/sourmash_compute_tissue_subset/E20-MAA000801-3_11_M-1-1.sig to ../../../scratch/maca/facs/sourmash_compute_tissue_subset/E20-MAA000801-3_11_M-1-1.sig\n",
      "download: s3://olgabot-maca/facs/sourmash_compute_tissue_subset/E21-B000971-3_39_F-1-1.sig to ../../../scratch/maca/facs/sourmash_compute_tissue_subset/E21-B000971-3_39_F-1-1.sig\n",
      "download: s3://olgabot-maca/facs/sourmash_compute_tissue_subset/E21-B002775-3_39_F-1-1.sig to ../../../scratch/maca/facs/sourmash_compute_tissue_subset/E21-B002775-3_39_F-1-1.sig\n",
      "download: s3://olgabot-maca/facs/sourmash_compute_tissue_subset/E21-D041914-3_8_M-1-1.sig to ../../../scratch/maca/facs/sourmash_compute_tissue_subset/E21-D041914-3_8_M-1-1.sig\n",
      "download: s3://olgabot-maca/facs/sourmash_compute_tissue_subset/E21-MAA000559-3_8_M-1-1.sig to ../../../scratch/maca/facs/sourmash_compute_tissue_subset/E21-MAA000559-3_8_M-1-1.sig\n",
      "download: s3://olgabot-maca/facs/sourmash_compute_tissue_subset/E21-MAA001862-3_39_F-1-1.sig to ../../../scratch/maca/facs/sourmash_compute_tissue_subset/E21-MAA001862-3_39_F-1-1.sig\n"
     ]
    },
    {
     "name": "stdout",
     "output_type": "stream",
     "text": [
      "download: s3://olgabot-maca/facs/sourmash_compute_tissue_subset/E21-MAA000577-3_8_M-1-1.sig to ../../../scratch/maca/facs/sourmash_compute_tissue_subset/E21-MAA000577-3_8_M-1-1.sig\n",
      "download: s3://olgabot-maca/facs/sourmash_compute_tissue_subset/E22-B000971-3_39_F-1-1.sig to ../../../scratch/maca/facs/sourmash_compute_tissue_subset/E22-B000971-3_39_F-1-1.sig\n",
      "download: s3://olgabot-maca/facs/sourmash_compute_tissue_subset/E22-MAA001868-3_38_F-1-1.sig to ../../../scratch/maca/facs/sourmash_compute_tissue_subset/E22-MAA001868-3_38_F-1-1.sig\n",
      "download: s3://olgabot-maca/facs/sourmash_compute_tissue_subset/E3-MAA100040-3_11_M-1-1.sig to ../../../scratch/maca/facs/sourmash_compute_tissue_subset/E3-MAA100040-3_11_M-1-1.sig\n",
      "download: s3://olgabot-maca/facs/sourmash_compute_tissue_subset/E3-MAA000487-3_10_M-1-1.sig to ../../../scratch/maca/facs/sourmash_compute_tissue_subset/E3-MAA000487-3_10_M-1-1.sig\n",
      "download: s3://olgabot-maca/facs/sourmash_compute_tissue_subset/E4-MAA000801-3_11_M-1-1.sig to ../../../scratch/maca/facs/sourmash_compute_tissue_subset/E4-MAA000801-3_11_M-1-1.sig\n",
      "Completed 51.5 GiB/~59.5 GiB (10.8 MiB/s) with ~55 file(s) remaining (calculating...)\r"
     ]
    },
    {
     "name": "stderr",
     "output_type": "stream",
     "text": [
      "IOPub message rate exceeded.\n",
      "The notebook server will temporarily stop sending output\n",
      "to the client in order to avoid crashing it.\n",
      "To change this limit, set the config variable\n",
      "`--NotebookApp.iopub_msg_rate_limit`.\n",
      "\n",
      "Current values:\n",
      "NotebookApp.iopub_msg_rate_limit=1000.0 (msgs/sec)\n",
      "NotebookApp.rate_limit_window=3.0 (secs)\n",
      "\n"
     ]
    },
    {
     "name": "stdout",
     "output_type": "stream",
     "text": [
      "download: s3://olgabot-maca/facs/sourmash_compute_tissue_subset/F14-D042253-3_9_M-1-1.sig to ../../../scratch/maca/facs/sourmash_compute_tissue_subset/F14-D042253-3_9_M-1-1.sig\n",
      "download: s3://olgabot-maca/facs/sourmash_compute_tissue_subset/F14-MAA001862-3_39_F-1-1.sig to ../../../scratch/maca/facs/sourmash_compute_tissue_subset/F14-MAA001862-3_39_F-1-1.sig\n",
      "download: s3://olgabot-maca/facs/sourmash_compute_tissue_subset/F15-D042253-3_9_M-1-1.sig to ../../../scratch/maca/facs/sourmash_compute_tissue_subset/F15-D042253-3_9_M-1-1.sig\n",
      "download: s3://olgabot-maca/facs/sourmash_compute_tissue_subset/F15-MAA000377-3_9_M-1-1.sig to ../../../scratch/maca/facs/sourmash_compute_tissue_subset/F15-MAA000377-3_9_M-1-1.sig\n",
      "download: s3://olgabot-maca/facs/sourmash_compute_tissue_subset/F15-MAA000487-3_10_M-1-1.sig to ../../../scratch/maca/facs/sourmash_compute_tissue_subset/F15-MAA000487-3_10_M-1-1.sig\n",
      "download: s3://olgabot-maca/facs/sourmash_compute_tissue_subset/F15-MAA000907-3_11_M-1-1.sig to ../../../scratch/maca/facs/sourmash_compute_tissue_subset/F15-MAA000907-3_11_M-1-1.sig\n",
      "download: s3://olgabot-maca/facs/sourmash_compute_tissue_subset/F16-MAA001862-3_39_F-1-1.sig to ../../../scratch/maca/facs/sourmash_compute_tissue_subset/F16-MAA001862-3_39_F-1-1.sig\n",
      "download: s3://olgabot-maca/facs/sourmash_compute_tissue_subset/F17-D041914-3_8_M-1-1.sig to ../../../scratch/maca/facs/sourmash_compute_tissue_subset/F17-D041914-3_8_M-1-1.sig\n",
      "download: s3://olgabot-maca/facs/sourmash_compute_tissue_subset/F17-MAA000377-3_9_M-1-1.sig to ../../../scratch/maca/facs/sourmash_compute_tissue_subset/F17-MAA000377-3_9_M-1-1.sig\n",
      "download: s3://olgabot-maca/facs/sourmash_compute_tissue_subset/F17-MAA000487-3_10_M-1-1.sig to ../../../scratch/maca/facs/sourmash_compute_tissue_subset/F17-MAA000487-3_10_M-1-1.sig\n",
      "download: s3://olgabot-maca/facs/sourmash_compute_tissue_subset/F17-MAA000884-3_10_M-1-1.sig to ../../../scratch/maca/facs/sourmash_compute_tissue_subset/F17-MAA000884-3_10_M-1-1.sig\n",
      "download: s3://olgabot-maca/facs/sourmash_compute_tissue_subset/F17-MAA001868-3_38_F-1-1.sig to ../../../scratch/maca/facs/sourmash_compute_tissue_subset/F17-MAA001868-3_38_F-1-1.sig\n",
      "Completed 58.4 GiB/~66.2 GiB (10.9 MiB/s) with ~55 file(s) remaining (calculating...)\r"
     ]
    },
    {
     "name": "stderr",
     "output_type": "stream",
     "text": [
      "IOPub message rate exceeded.\n",
      "The notebook server will temporarily stop sending output\n",
      "to the client in order to avoid crashing it.\n",
      "To change this limit, set the config variable\n",
      "`--NotebookApp.iopub_msg_rate_limit`.\n",
      "\n",
      "Current values:\n",
      "NotebookApp.iopub_msg_rate_limit=1000.0 (msgs/sec)\n",
      "NotebookApp.rate_limit_window=3.0 (secs)\n",
      "\n"
     ]
    },
    {
     "name": "stdout",
     "output_type": "stream",
     "text": [
      "download: s3://olgabot-maca/facs/sourmash_compute_tissue_subset/F3-MAA100042-3_9_M-1-1.sig to ../../../scratch/maca/facs/sourmash_compute_tissue_subset/F3-MAA100042-3_9_M-1-1.sig\n",
      "download: s3://olgabot-maca/facs/sourmash_compute_tissue_subset/F3-MAA100140-3_57_F-1-1.sig to ../../../scratch/maca/facs/sourmash_compute_tissue_subset/F3-MAA100140-3_57_F-1-1.sig\n",
      "download: s3://olgabot-maca/facs/sourmash_compute_tissue_subset/F4-B000971-3_39_F-1-1.sig to ../../../scratch/maca/facs/sourmash_compute_tissue_subset/F4-B000971-3_39_F-1-1.sig\n",
      "download: s3://olgabot-maca/facs/sourmash_compute_tissue_subset/F4-MAA000801-3_11_M-1-1.sig to ../../../scratch/maca/facs/sourmash_compute_tissue_subset/F4-MAA000801-3_11_M-1-1.sig\n",
      "download: s3://olgabot-maca/facs/sourmash_compute_tissue_subset/F4-MAA000884-3_10_M-1-1.sig to ../../../scratch/maca/facs/sourmash_compute_tissue_subset/F4-MAA000884-3_10_M-1-1.sig\n",
      "download: s3://olgabot-maca/facs/sourmash_compute_tissue_subset/F4-MAA100039-3_11_M-1-1.sig to ../../../scratch/maca/facs/sourmash_compute_tissue_subset/F4-MAA100039-3_11_M-1-1.sig\n",
      "download: s3://olgabot-maca/facs/sourmash_compute_tissue_subset/F4-MAA001862-3_39_F-1-1.sig to ../../../scratch/maca/facs/sourmash_compute_tissue_subset/F4-MAA001862-3_39_F-1-1.sig\n",
      "download: s3://olgabot-maca/facs/sourmash_compute_tissue_subset/F4-MAA100042-3_9_M-1-1.sig to ../../../scratch/maca/facs/sourmash_compute_tissue_subset/F4-MAA100042-3_9_M-1-1.sig\n",
      "download: s3://olgabot-maca/facs/sourmash_compute_tissue_subset/F5-MAA100040-3_11_M-1-1.sig to ../../../scratch/maca/facs/sourmash_compute_tissue_subset/F5-MAA100040-3_11_M-1-1.sig\n",
      "download: s3://olgabot-maca/facs/sourmash_compute_tissue_subset/F5-MAA100039-3_11_M-1-1.sig to ../../../scratch/maca/facs/sourmash_compute_tissue_subset/F5-MAA100039-3_11_M-1-1.sig\n",
      "download: s3://olgabot-maca/facs/sourmash_compute_tissue_subset/F6-MAA000776-3_10_M-1-1.sig to ../../../scratch/maca/facs/sourmash_compute_tissue_subset/F6-MAA000776-3_10_M-1-1.sig\n",
      "download: s3://olgabot-maca/facs/sourmash_compute_tissue_subset/F6-MAA000884-3_10_M-1-1.sig to ../../../scratch/maca/facs/sourmash_compute_tissue_subset/F6-MAA000884-3_10_M-1-1.sig\n",
      "download: s3://olgabot-maca/facs/sourmash_compute_tissue_subset/F6-B000971-3_39_F-1-1.sig to ../../../scratch/maca/facs/sourmash_compute_tissue_subset/F6-B000971-3_39_F-1-1.sig\n",
      "Completed 63.9 GiB/~71.7 GiB (10.9 MiB/s) with ~54 file(s) remaining (calculating...)\r"
     ]
    },
    {
     "name": "stderr",
     "output_type": "stream",
     "text": [
      "IOPub message rate exceeded.\n",
      "The notebook server will temporarily stop sending output\n",
      "to the client in order to avoid crashing it.\n",
      "To change this limit, set the config variable\n",
      "`--NotebookApp.iopub_msg_rate_limit`.\n",
      "\n",
      "Current values:\n",
      "NotebookApp.iopub_msg_rate_limit=1000.0 (msgs/sec)\n",
      "NotebookApp.rate_limit_window=3.0 (secs)\n",
      "\n"
     ]
    },
    {
     "name": "stdout",
     "output_type": "stream",
     "text": [
      "download: s3://olgabot-maca/facs/sourmash_compute_tissue_subset/G14-B000610-3_56_F-1-1.sig to ../../../scratch/maca/facs/sourmash_compute_tissue_subset/G14-B000610-3_56_F-1-1.sig\n",
      "download: s3://olgabot-maca/facs/sourmash_compute_tissue_subset/G14-MAA000884-3_10_M-1-1.sig to ../../../scratch/maca/facs/sourmash_compute_tissue_subset/G14-MAA000884-3_10_M-1-1.sig\n",
      "download: s3://olgabot-maca/facs/sourmash_compute_tissue_subset/G14-MAA001857-3_38_F-1-1.sig to ../../../scratch/maca/facs/sourmash_compute_tissue_subset/G14-MAA001857-3_38_F-1-1.sig\n",
      "download: s3://olgabot-maca/facs/sourmash_compute_tissue_subset/G15-B000971-3_39_F-1-1.sig to ../../../scratch/maca/facs/sourmash_compute_tissue_subset/G15-B000971-3_39_F-1-1.sig\n",
      "download: s3://olgabot-maca/facs/sourmash_compute_tissue_subset/G15-B001717-3_38_F-1-1.sig to ../../../scratch/maca/facs/sourmash_compute_tissue_subset/G15-B001717-3_38_F-1-1.sig\n",
      "download: s3://olgabot-maca/facs/sourmash_compute_tissue_subset/G15-D042253-3_9_M-1-1.sig to ../../../scratch/maca/facs/sourmash_compute_tissue_subset/G15-D042253-3_9_M-1-1.sig\n",
      "download: s3://olgabot-maca/facs/sourmash_compute_tissue_subset/G15-MAA000487-3_10_M-1-1.sig to ../../../scratch/maca/facs/sourmash_compute_tissue_subset/G15-MAA000487-3_10_M-1-1.sig\n",
      "download: s3://olgabot-maca/facs/sourmash_compute_tissue_subset/G15-MAA000577-3_8_M-1-1.sig to ../../../scratch/maca/facs/sourmash_compute_tissue_subset/G15-MAA000577-3_8_M-1-1.sig\n",
      "download: s3://olgabot-maca/facs/sourmash_compute_tissue_subset/G16-MAA000884-3_10_M-1-1.sig to ../../../scratch/maca/facs/sourmash_compute_tissue_subset/G16-MAA000884-3_10_M-1-1.sig\n",
      "download: s3://olgabot-maca/facs/sourmash_compute_tissue_subset/G16-MAA000907-3_11_M-1-1.sig to ../../../scratch/maca/facs/sourmash_compute_tissue_subset/G16-MAA000907-3_11_M-1-1.sig\n",
      "Completed 69.0 GiB/~77.1 GiB (10.6 MiB/s) with ~56 file(s) remaining (calculating...)\r"
     ]
    },
    {
     "name": "stderr",
     "output_type": "stream",
     "text": [
      "IOPub message rate exceeded.\n",
      "The notebook server will temporarily stop sending output\n",
      "to the client in order to avoid crashing it.\n",
      "To change this limit, set the config variable\n",
      "`--NotebookApp.iopub_msg_rate_limit`.\n",
      "\n",
      "Current values:\n",
      "NotebookApp.iopub_msg_rate_limit=1000.0 (msgs/sec)\n",
      "NotebookApp.rate_limit_window=3.0 (secs)\n",
      "\n"
     ]
    },
    {
     "name": "stdout",
     "output_type": "stream",
     "text": [
      "download: s3://olgabot-maca/facs/sourmash_compute_tissue_subset/G7-B000971-3_39_F-1-1.sig to ../../../scratch/maca/facs/sourmash_compute_tissue_subset/G7-B000971-3_39_F-1-1.sig\n",
      "download: s3://olgabot-maca/facs/sourmash_compute_tissue_subset/G7-B002775-3_39_F-1-1.sig to ../../../scratch/maca/facs/sourmash_compute_tissue_subset/G7-B002775-3_39_F-1-1.sig\n",
      "download: s3://olgabot-maca/facs/sourmash_compute_tissue_subset/G7-MAA000574-3_8_M-1-1.sig to ../../../scratch/maca/facs/sourmash_compute_tissue_subset/G7-MAA000574-3_8_M-1-1.sig\n",
      "download: s3://olgabot-maca/facs/sourmash_compute_tissue_subset/G7-MAA000884-3_10_M-1-1.sig to ../../../scratch/maca/facs/sourmash_compute_tissue_subset/G7-MAA000884-3_10_M-1-1.sig\n",
      "download: s3://olgabot-maca/facs/sourmash_compute_tissue_subset/G7-MAA100042-3_9_M-1-1.sig to ../../../scratch/maca/facs/sourmash_compute_tissue_subset/G7-MAA100042-3_9_M-1-1.sig\n",
      "download: s3://olgabot-maca/facs/sourmash_compute_tissue_subset/G9-B002775-3_39_F-1-1.sig to ../../../scratch/maca/facs/sourmash_compute_tissue_subset/G9-B002775-3_39_F-1-1.sig\n",
      "download: s3://olgabot-maca/facs/sourmash_compute_tissue_subset/G9-D041914-3_8_M-1-1.sig to ../../../scratch/maca/facs/sourmash_compute_tissue_subset/G9-D041914-3_8_M-1-1.sig\n",
      "download: s3://olgabot-maca/facs/sourmash_compute_tissue_subset/G9-MAA000487-3_10_M-1-1.sig to ../../../scratch/maca/facs/sourmash_compute_tissue_subset/G9-MAA000487-3_10_M-1-1.sig\n",
      "download: s3://olgabot-maca/facs/sourmash_compute_tissue_subset/G9-MAA100039-3_11_M-1-1.sig to ../../../scratch/maca/facs/sourmash_compute_tissue_subset/G9-MAA100039-3_11_M-1-1.sig\n",
      "download: s3://olgabot-maca/facs/sourmash_compute_tissue_subset/H1-B001717-3_38_F-1-1.sig to ../../../scratch/maca/facs/sourmash_compute_tissue_subset/H1-B001717-3_38_F-1-1.sig\n",
      "download: s3://olgabot-maca/facs/sourmash_compute_tissue_subset/H1-MAA000776-3_10_M-1-1.sig to ../../../scratch/maca/facs/sourmash_compute_tissue_subset/H1-MAA000776-3_10_M-1-1.sig\n",
      "download: s3://olgabot-maca/facs/sourmash_compute_tissue_subset/H1-MAA000801-3_11_M-1-1.sig to ../../../scratch/maca/facs/sourmash_compute_tissue_subset/H1-MAA000801-3_11_M-1-1.sig\n",
      "download: s3://olgabot-maca/facs/sourmash_compute_tissue_subset/H1-MAA100140-3_57_F-1-1.sig to ../../../scratch/maca/facs/sourmash_compute_tissue_subset/H1-MAA100140-3_57_F-1-1.sig\n",
      "Completed 74.8 GiB/~82.8 GiB (10.6 MiB/s) with ~54 file(s) remaining (calculating...)\r"
     ]
    },
    {
     "name": "stderr",
     "output_type": "stream",
     "text": [
      "IOPub message rate exceeded.\n",
      "The notebook server will temporarily stop sending output\n",
      "to the client in order to avoid crashing it.\n",
      "To change this limit, set the config variable\n",
      "`--NotebookApp.iopub_msg_rate_limit`.\n",
      "\n",
      "Current values:\n",
      "NotebookApp.iopub_msg_rate_limit=1000.0 (msgs/sec)\n",
      "NotebookApp.rate_limit_window=3.0 (secs)\n",
      "\n"
     ]
    },
    {
     "name": "stdout",
     "output_type": "stream",
     "text": [
      "download: s3://olgabot-maca/facs/sourmash_compute_tissue_subset/H3-MAA100138-3_56_F-1-1.sig to ../../../scratch/maca/facs/sourmash_compute_tissue_subset/H3-MAA100138-3_56_F-1-1.sig\n",
      "download: s3://olgabot-maca/facs/sourmash_compute_tissue_subset/H4-B002771-3_39_F-1-1.sig to ../../../scratch/maca/facs/sourmash_compute_tissue_subset/H4-B002771-3_39_F-1-1.sig\n",
      "download: s3://olgabot-maca/facs/sourmash_compute_tissue_subset/H4-MAA000801-3_11_M-1-1.sig to ../../../scratch/maca/facs/sourmash_compute_tissue_subset/H4-MAA000801-3_11_M-1-1.sig\n",
      "download: s3://olgabot-maca/facs/sourmash_compute_tissue_subset/H4-MAA001862-3_39_F-1-1.sig to ../../../scratch/maca/facs/sourmash_compute_tissue_subset/H4-MAA001862-3_39_F-1-1.sig\n",
      "download: s3://olgabot-maca/facs/sourmash_compute_tissue_subset/H5-D042253-3_9_M-1-1.sig to ../../../scratch/maca/facs/sourmash_compute_tissue_subset/H5-D042253-3_9_M-1-1.sig\n",
      "download: s3://olgabot-maca/facs/sourmash_compute_tissue_subset/H5-MAA000487-3_10_M-1-1.sig to ../../../scratch/maca/facs/sourmash_compute_tissue_subset/H5-MAA000487-3_10_M-1-1.sig\n",
      "download: s3://olgabot-maca/facs/sourmash_compute_tissue_subset/H4-MAA100140-3_57_F-1-1.sig to ../../../scratch/maca/facs/sourmash_compute_tissue_subset/H4-MAA100140-3_57_F-1-1.sig\n",
      "download: s3://olgabot-maca/facs/sourmash_compute_tissue_subset/H5-MAA100138-3_56_F-1-1.sig to ../../../scratch/maca/facs/sourmash_compute_tissue_subset/H5-MAA100138-3_56_F-1-1.sig\n",
      "download: s3://olgabot-maca/facs/sourmash_compute_tissue_subset/H6-B000971-3_39_F-1-1.sig to ../../../scratch/maca/facs/sourmash_compute_tissue_subset/H6-B000971-3_39_F-1-1.sig\n",
      "download: s3://olgabot-maca/facs/sourmash_compute_tissue_subset/H6-MAA000801-3_11_M-1-1.sig to ../../../scratch/maca/facs/sourmash_compute_tissue_subset/H6-MAA000801-3_11_M-1-1.sig\n",
      "download: s3://olgabot-maca/facs/sourmash_compute_tissue_subset/H5-MAA000907-3_11_M-1-1.sig to ../../../scratch/maca/facs/sourmash_compute_tissue_subset/H5-MAA000907-3_11_M-1-1.sig\n",
      "download: s3://olgabot-maca/facs/sourmash_compute_tissue_subset/H6-MAA000907-3_11_M-1-1.sig to ../../../scratch/maca/facs/sourmash_compute_tissue_subset/H6-MAA000907-3_11_M-1-1.sig\n",
      "Completed 81.8 GiB/~89.7 GiB (10.8 MiB/s) with ~55 file(s) remaining (calculating...)\r"
     ]
    },
    {
     "name": "stderr",
     "output_type": "stream",
     "text": [
      "IOPub message rate exceeded.\n",
      "The notebook server will temporarily stop sending output\n",
      "to the client in order to avoid crashing it.\n",
      "To change this limit, set the config variable\n",
      "`--NotebookApp.iopub_msg_rate_limit`.\n",
      "\n",
      "Current values:\n",
      "NotebookApp.iopub_msg_rate_limit=1000.0 (msgs/sec)\n",
      "NotebookApp.rate_limit_window=3.0 (secs)\n",
      "\n"
     ]
    },
    {
     "name": "stdout",
     "output_type": "stream",
     "text": [
      "download: s3://olgabot-maca/facs/sourmash_compute_tissue_subset/I15-D042253-3_9_M-1-1.sig to ../../../scratch/maca/facs/sourmash_compute_tissue_subset/I15-D042253-3_9_M-1-1.sig\n",
      "download: s3://olgabot-maca/facs/sourmash_compute_tissue_subset/I15-MAA000487-3_10_M-1-1.sig to ../../../scratch/maca/facs/sourmash_compute_tissue_subset/I15-MAA000487-3_10_M-1-1.sig\n",
      "download: s3://olgabot-maca/facs/sourmash_compute_tissue_subset/I15-MAA000752-3_10_M-1-1.sig to ../../../scratch/maca/facs/sourmash_compute_tissue_subset/I15-MAA000752-3_10_M-1-1.sig\n",
      "download: s3://olgabot-maca/facs/sourmash_compute_tissue_subset/I16-B000971-3_39_F-1-1.sig to ../../../scratch/maca/facs/sourmash_compute_tissue_subset/I16-B000971-3_39_F-1-1.sig\n",
      "download: s3://olgabot-maca/facs/sourmash_compute_tissue_subset/I16-D042253-3_9_M-1-1.sig to ../../../scratch/maca/facs/sourmash_compute_tissue_subset/I16-D042253-3_9_M-1-1.sig\n",
      "download: s3://olgabot-maca/facs/sourmash_compute_tissue_subset/I17-B001717-3_38_F-1-1.sig to ../../../scratch/maca/facs/sourmash_compute_tissue_subset/I17-B001717-3_38_F-1-1.sig\n",
      "download: s3://olgabot-maca/facs/sourmash_compute_tissue_subset/I17-MAA000559-3_8_M-1-1.sig to ../../../scratch/maca/facs/sourmash_compute_tissue_subset/I17-MAA000559-3_8_M-1-1.sig\n",
      "download: s3://olgabot-maca/facs/sourmash_compute_tissue_subset/I17-MAA000574-3_8_M-1-1.sig to ../../../scratch/maca/facs/sourmash_compute_tissue_subset/I17-MAA000574-3_8_M-1-1.sig\n",
      "download: s3://olgabot-maca/facs/sourmash_compute_tissue_subset/I17-MAA000752-3_10_M-1-1.sig to ../../../scratch/maca/facs/sourmash_compute_tissue_subset/I17-MAA000752-3_10_M-1-1.sig\n",
      "download: s3://olgabot-maca/facs/sourmash_compute_tissue_subset/I17-MAA001857-3_38_F-1-1.sig to ../../../scratch/maca/facs/sourmash_compute_tissue_subset/I17-MAA001857-3_38_F-1-1.sig\n",
      "download: s3://olgabot-maca/facs/sourmash_compute_tissue_subset/I18-MAA001862-3_39_F-1-1.sig to ../../../scratch/maca/facs/sourmash_compute_tissue_subset/I18-MAA001862-3_39_F-1-1.sig\n",
      "download: s3://olgabot-maca/facs/sourmash_compute_tissue_subset/I19-MAA000779-3_11_M-1-1.sig to ../../../scratch/maca/facs/sourmash_compute_tissue_subset/I19-MAA000779-3_11_M-1-1.sig\n",
      "Completed 87.1 GiB/~95.2 GiB (10.7 MiB/s) with ~54 file(s) remaining (calculating...)\r"
     ]
    },
    {
     "name": "stderr",
     "output_type": "stream",
     "text": [
      "IOPub message rate exceeded.\n",
      "The notebook server will temporarily stop sending output\n",
      "to the client in order to avoid crashing it.\n",
      "To change this limit, set the config variable\n",
      "`--NotebookApp.iopub_msg_rate_limit`.\n",
      "\n",
      "Current values:\n",
      "NotebookApp.iopub_msg_rate_limit=1000.0 (msgs/sec)\n",
      "NotebookApp.rate_limit_window=3.0 (secs)\n",
      "\n"
     ]
    },
    {
     "name": "stdout",
     "output_type": "stream",
     "text": [
      "download: s3://olgabot-maca/facs/sourmash_compute_tissue_subset/J1-B000971-3_39_F-1-1.sig to ../../../scratch/maca/facs/sourmash_compute_tissue_subset/J1-B000971-3_39_F-1-1.sig\n",
      "download: s3://olgabot-maca/facs/sourmash_compute_tissue_subset/J11-MAA000487-3_10_M-1-1.sig to ../../../scratch/maca/facs/sourmash_compute_tissue_subset/J11-MAA000487-3_10_M-1-1.sig\n",
      "download: s3://olgabot-maca/facs/sourmash_compute_tissue_subset/J11-B000971-3_39_F-1-1.sig to ../../../scratch/maca/facs/sourmash_compute_tissue_subset/J11-B000971-3_39_F-1-1.sig\n",
      "download: s3://olgabot-maca/facs/sourmash_compute_tissue_subset/J11-B002764-3_38_F-1-1.sig to ../../../scratch/maca/facs/sourmash_compute_tissue_subset/J11-B002764-3_38_F-1-1.sig\n",
      "download: s3://olgabot-maca/facs/sourmash_compute_tissue_subset/J12-B001717-3_38_F-1-1.sig to ../../../scratch/maca/facs/sourmash_compute_tissue_subset/J12-B001717-3_38_F-1-1.sig\n",
      "download: s3://olgabot-maca/facs/sourmash_compute_tissue_subset/J12-B001750-3_38_F-1-1.sig to ../../../scratch/maca/facs/sourmash_compute_tissue_subset/J12-B001750-3_38_F-1-1.sig\n",
      "download: s3://olgabot-maca/facs/sourmash_compute_tissue_subset/J12-B002764-3_38_F-1-1.sig to ../../../scratch/maca/facs/sourmash_compute_tissue_subset/J12-B002764-3_38_F-1-1.sig\n",
      "download: s3://olgabot-maca/facs/sourmash_compute_tissue_subset/J13-MAA000801-3_11_M-1-1.sig to ../../../scratch/maca/facs/sourmash_compute_tissue_subset/J13-MAA000801-3_11_M-1-1.sig\n",
      "download: s3://olgabot-maca/facs/sourmash_compute_tissue_subset/J14-MAA000487-3_10_M-1-1.sig to ../../../scratch/maca/facs/sourmash_compute_tissue_subset/J14-MAA000487-3_10_M-1-1.sig\n",
      "download: s3://olgabot-maca/facs/sourmash_compute_tissue_subset/J14-MAA000907-3_11_M-1-1.sig to ../../../scratch/maca/facs/sourmash_compute_tissue_subset/J14-MAA000907-3_11_M-1-1.sig\n",
      "download: s3://olgabot-maca/facs/sourmash_compute_tissue_subset/J15-MAA000779-3_11_M-1-1.sig to ../../../scratch/maca/facs/sourmash_compute_tissue_subset/J15-MAA000779-3_11_M-1-1.sig\n",
      "download: s3://olgabot-maca/facs/sourmash_compute_tissue_subset/J15-MAA000907-3_11_M-1-1.sig to ../../../scratch/maca/facs/sourmash_compute_tissue_subset/J15-MAA000907-3_11_M-1-1.sig\n",
      "download: s3://olgabot-maca/facs/sourmash_compute_tissue_subset/J16-B000610-3_56_F-1-1.sig to ../../../scratch/maca/facs/sourmash_compute_tissue_subset/J16-B000610-3_56_F-1-1.sig\n",
      "Completed 93.0 GiB/~100.9 GiB (10.6 MiB/s) with ~54 file(s) remaining (calculating...)\r"
     ]
    },
    {
     "name": "stderr",
     "output_type": "stream",
     "text": [
      "IOPub message rate exceeded.\n",
      "The notebook server will temporarily stop sending output\n",
      "to the client in order to avoid crashing it.\n",
      "To change this limit, set the config variable\n",
      "`--NotebookApp.iopub_msg_rate_limit`.\n",
      "\n",
      "Current values:\n",
      "NotebookApp.iopub_msg_rate_limit=1000.0 (msgs/sec)\n",
      "NotebookApp.rate_limit_window=3.0 (secs)\n",
      "\n"
     ]
    }
   ],
   "source": [
    "! aws s3 sync $output_prefix /home/olga/scratch-pure/maca/facs/sourmash_compute_tissue_subset/"
   ]
  },
  {
   "cell_type": "code",
   "execution_count": null,
   "metadata": {},
   "outputs": [],
   "source": [
    "folder = '/home/olga/scratch-pure/maca/facs/sourmash_compute_tissue_subset/'\n",
    "\n",
    "filenames = glob.glob(f'{folder}/*.sig')\n",
    "downloaded_cells = [os.path.basename(f).split('.')[0] for f in filenames]\n",
    "print(len(downloaded_cells))\n",
    "downloaded_cells[:5]"
   ]
  },
  {
   "cell_type": "code",
   "execution_count": null,
   "metadata": {},
   "outputs": [],
   "source": [
    "annotations_signatures = annotations.query('cell in @downloaded_cells')\n",
    "annotations_signatures.head()"
   ]
  },
  {
   "cell_type": "code",
   "execution_count": null,
   "metadata": {},
   "outputs": [],
   "source": [
    "sizes = annotations_signatures.groupby(['tissue', 'cell_ontology_class']).size()\n",
    "sizes"
   ]
  },
  {
   "cell_type": "code",
   "execution_count": null,
   "metadata": {},
   "outputs": [],
   "source": [
    "100 * sizes/200"
   ]
  },
  {
   "cell_type": "code",
   "execution_count": null,
   "metadata": {},
   "outputs": [],
   "source": [
    "most_common_classes = sizes.groupby(level=0).nlargest(1)\n",
    "most_common_classes"
   ]
  },
  {
   "cell_type": "code",
   "execution_count": null,
   "metadata": {},
   "outputs": [],
   "source": [
    "most_common_classes.index.levels[-1]"
   ]
  },
  {
   "cell_type": "code",
   "execution_count": null,
   "metadata": {},
   "outputs": [],
   "source": [
    "annotations_signatures_class_subset = annotations_signatures.query('cell_ontology_class in @most_common_classes.index.levels[-1]')\n",
    "print(annotations_signatures_class_subset.shape)\n",
    "annotations_signatures_class_subset.head()"
   ]
  },
  {
   "cell_type": "code",
   "execution_count": null,
   "metadata": {},
   "outputs": [],
   "source": [
    "annotations_signatures.cell_ontology_class.mode()[0]"
   ]
  },
  {
   "cell_type": "code",
   "execution_count": null,
   "metadata": {},
   "outputs": [],
   "source": [
    "annotations_signatures.sample()"
   ]
  },
  {
   "cell_type": "code",
   "execution_count": null,
   "metadata": {},
   "outputs": [],
   "source": [
    "n = 10\n",
    "\n",
    "def filter_by_top_classes(df, n, col='cell_ontology_class'):\n",
    "    most_common_class = df[col].mode()[0]\n",
    "    df = df.query(f'{col} == @most_common_class')\n",
    "    return df.sample(n, random_state=0)\n",
    "    \n",
    "\n",
    "annotations_random_subset = annotations_signatures.groupby('tissue').apply(filter_by_top_classes, n=n)\n",
    "print(annotations_random_subset.shape)\n",
    "annotations_random_subset.head()"
   ]
  },
  {
   "cell_type": "code",
   "execution_count": null,
   "metadata": {},
   "outputs": [],
   "source": [
    "annotations_random_subset.groupby(['tissue', 'cell_ontology_class']).size()"
   ]
  },
  {
   "cell_type": "markdown",
   "metadata": {},
   "source": [
    "## Read signatures"
   ]
  },
  {
   "cell_type": "code",
   "execution_count": null,
   "metadata": {},
   "outputs": [],
   "source": [
    "range(3)"
   ]
  },
  {
   "cell_type": "code",
   "execution_count": null,
   "metadata": {},
   "outputs": [],
   "source": [
    "\n",
    "folder = '/home/olga/scratch/maca/facs/sourmash_compute_tissue_subset/'\n",
    "\n",
    "filenames = folder + annotations_random_subset['cell'] + '.sig'\n",
    "print(f'len(filenames): {len(filenames)}')\n",
    "\n",
    "siglist_subset = []\n",
    "\n",
    "for filename in tqdm(filenames):\n",
    "    loaded = sig.load_signatures(filename)\n",
    "    siglist_subset.extend(loaded)"
   ]
  },
  {
   "cell_type": "code",
   "execution_count": null,
   "metadata": {},
   "outputs": [],
   "source": [
    "len(siglist_subset)"
   ]
  },
  {
   "cell_type": "code",
   "execution_count": null,
   "metadata": {},
   "outputs": [],
   "source": [
    "siglist_subset[:5]"
   ]
  },
  {
   "cell_type": "code",
   "execution_count": null,
   "metadata": {},
   "outputs": [],
   "source": [
    "%%time\n",
    "\n",
    "import pickle\n",
    "\n",
    "pickle_filename = f'{folder}/siglist_subset_npergroup{n}.pickle'\n",
    "\n",
    "with open(pickle_filename, 'wb') as f:\n",
    "    pickle.dump(siglist_subset, f)"
   ]
  },
  {
   "cell_type": "code",
   "execution_count": null,
   "metadata": {},
   "outputs": [],
   "source": [
    "! ls -lha $folder/*pickle"
   ]
  },
  {
   "cell_type": "code",
   "execution_count": 4,
   "metadata": {},
   "outputs": [
    {
     "data": {
      "text/plain": [
       "range(0, 3)"
      ]
     },
     "execution_count": 4,
     "metadata": {},
     "output_type": "execute_result"
    }
   ],
   "source": [
    "range(3)"
   ]
  },
  {
   "cell_type": "code",
   "execution_count": null,
   "metadata": {},
   "outputs": [
    {
     "name": "stderr",
     "output_type": "stream",
     "text": [
      "\r",
      "  0%|          | 0/1000 [00:00<?, ?it/s]"
     ]
    }
   ],
   "source": [
    "\n",
    "folder = '/home/olga/scratch-pure/maca/facs/sourmash_compute_tissue_subset/'\n",
    "\n",
    "filenames = glob.glob(f'{folder}/*.sig')\n",
    "\n",
    "\n",
    "siglist = []\n",
    "\n",
    "moltype = 'DNA'\n",
    "ksize = 21\n",
    "\n",
    "\n",
    "for filename in tqdm(filenames):\n",
    "    loaded = sig.load_signatures(filename)\n",
    "    siglist.extend(loaded)"
   ]
  },
  {
   "cell_type": "code",
   "execution_count": null,
   "metadata": {},
   "outputs": [],
   "source": [
    "%%time\n",
    "\n",
    "import pickle\n",
    "\n",
    "pickle_filename = f'{folder}/siglist.pickle'\n",
    "\n",
    "with open(pickle_filename, 'wb') as f:\n",
    "    pickle.dump(siglist, f)"
   ]
  },
  {
   "cell_type": "code",
   "execution_count": 19,
   "metadata": {},
   "outputs": [
    {
     "data": {
      "text/plain": [
       "range(0, 3)"
      ]
     },
     "execution_count": 19,
     "metadata": {},
     "output_type": "execute_result"
    }
   ],
   "source": [
    "range(3)"
   ]
  },
  {
   "cell_type": "code",
   "execution_count": 20,
   "metadata": {},
   "outputs": [
    {
     "name": "stdout",
     "output_type": "stream",
     "text": [
      "-rwxr-xr-x 1 olga olga 87G Nov  8 01:32 \u001b[0m\u001b[01;32m/home/olga/scratch/maca/facs/sourmash_compute_tissue_subset//siglist.pickle\u001b[0m\u001b[K*\r\n"
     ]
    }
   ],
   "source": [
    "ls -lha $pickle_filename"
   ]
  },
  {
   "cell_type": "code",
   "execution_count": null,
   "metadata": {},
   "outputs": [],
   "source": []
  }
 ],
 "metadata": {
  "kernelspec": {
   "display_name": "Python [conda env:kmer-hashing]",
   "language": "python",
   "name": "conda-env-kmer-hashing-py"
  },
  "language_info": {
   "codemirror_mode": {
    "name": "ipython",
    "version": 3
   },
   "file_extension": ".py",
   "mimetype": "text/x-python",
   "name": "python",
   "nbconvert_exporter": "python",
   "pygments_lexer": "ipython3",
   "version": "3.6.6"
  }
 },
 "nbformat": 4,
 "nbformat_minor": 2
}
