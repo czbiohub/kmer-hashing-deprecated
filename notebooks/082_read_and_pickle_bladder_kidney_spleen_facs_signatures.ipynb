{
 "cells": [
  {
   "cell_type": "code",
   "execution_count": 1,
   "metadata": {},
   "outputs": [],
   "source": [
    "import glob\n",
    "from itertools import product\n",
    "import os\n",
    "\n",
    "import matplotlib.pyplot as plt\n",
    "import pandas as pd\n",
    "import seaborn as sns\n",
    "from sourmash import signature as sig\n",
    "from tqdm import tqdm\n",
    "\n",
    "%matplotlib inline"
   ]
  },
  {
   "cell_type": "markdown",
   "metadata": {},
   "source": [
    "## Info about the kmer hashes loaded"
   ]
  },
  {
   "cell_type": "code",
   "execution_count": 2,
   "metadata": {},
   "outputs": [],
   "source": [
    "ksizes = 21, 27, 33, 51\n",
    "ksize = ','.join(map(str, ksizes))\n",
    "num_hashes = int(1e6)\n",
    "dna = True\n",
    "protein = True\n"
   ]
  },
  {
   "cell_type": "code",
   "execution_count": 3,
   "metadata": {},
   "outputs": [],
   "source": [
    "output_prefix = 's3://olgabot-maca/facs/sourmash_compute_tissue_subset/'\n"
   ]
  },
  {
   "cell_type": "code",
   "execution_count": 4,
   "metadata": {},
   "outputs": [
    {
     "name": "stdout",
     "output_type": "stream",
     "text": [
      "(44949, 24)\n"
     ]
    },
    {
     "name": "stderr",
     "output_type": "stream",
     "text": [
      "/home/olga/miniconda3/envs/kmer-hashing/lib/python3.6/site-packages/IPython/core/interactiveshell.py:2785: DtypeWarning: Columns (0,1) have mixed types. Specify dtype option on import or set low_memory=False.\n",
      "  interactivity=interactivity, compiler=compiler, result=result)\n"
     ]
    },
    {
     "data": {
      "text/html": [
       "<div>\n",
       "<style scoped>\n",
       "    .dataframe tbody tr th:only-of-type {\n",
       "        vertical-align: middle;\n",
       "    }\n",
       "\n",
       "    .dataframe tbody tr th {\n",
       "        vertical-align: top;\n",
       "    }\n",
       "\n",
       "    .dataframe thead th {\n",
       "        text-align: right;\n",
       "    }\n",
       "</style>\n",
       "<table border=\"1\" class=\"dataframe\">\n",
       "  <thead>\n",
       "    <tr style=\"text-align: right;\">\n",
       "      <th></th>\n",
       "      <th>Neurog3&gt;0_raw</th>\n",
       "      <th>Neurog3&gt;0_scaled</th>\n",
       "      <th>cell</th>\n",
       "      <th>cell_ontology_class</th>\n",
       "      <th>cell_ontology_id</th>\n",
       "      <th>cluster.ids</th>\n",
       "      <th>free_annotation</th>\n",
       "      <th>mouse.id</th>\n",
       "      <th>mouse.sex</th>\n",
       "      <th>plate.barcode</th>\n",
       "      <th>...</th>\n",
       "      <th>subsetC</th>\n",
       "      <th>subsetC_cluster.ids</th>\n",
       "      <th>subsetD</th>\n",
       "      <th>subsetD_cluster.ids</th>\n",
       "      <th>subsetE</th>\n",
       "      <th>subsetE_cluster.ids</th>\n",
       "      <th>subtissue</th>\n",
       "      <th>tissue</th>\n",
       "      <th>tissue_tSNE_1</th>\n",
       "      <th>tissue_tSNE_2</th>\n",
       "    </tr>\n",
       "  </thead>\n",
       "  <tbody>\n",
       "    <tr>\n",
       "      <th>0</th>\n",
       "      <td>NaN</td>\n",
       "      <td>NaN</td>\n",
       "      <td>A1-B000610-3_56_F-1-1</td>\n",
       "      <td>bladder cell</td>\n",
       "      <td>CL:1001319</td>\n",
       "      <td>5</td>\n",
       "      <td>Bladder mesenchymal cell</td>\n",
       "      <td>3_56_F</td>\n",
       "      <td>F</td>\n",
       "      <td>B000610</td>\n",
       "      <td>...</td>\n",
       "      <td>NaN</td>\n",
       "      <td>NaN</td>\n",
       "      <td>NaN</td>\n",
       "      <td>NaN</td>\n",
       "      <td>NaN</td>\n",
       "      <td>NaN</td>\n",
       "      <td>NaN</td>\n",
       "      <td>Bladder</td>\n",
       "      <td>-7.182841</td>\n",
       "      <td>-10.895094</td>\n",
       "    </tr>\n",
       "    <tr>\n",
       "      <th>1</th>\n",
       "      <td>NaN</td>\n",
       "      <td>NaN</td>\n",
       "      <td>A1-B002764-3_38_F-1-1</td>\n",
       "      <td>bladder urothelial cell</td>\n",
       "      <td>CL:1001428</td>\n",
       "      <td>3</td>\n",
       "      <td>Luminal bladder epithelial cell</td>\n",
       "      <td>3_38_F</td>\n",
       "      <td>F</td>\n",
       "      <td>B002764</td>\n",
       "      <td>...</td>\n",
       "      <td>NaN</td>\n",
       "      <td>NaN</td>\n",
       "      <td>NaN</td>\n",
       "      <td>NaN</td>\n",
       "      <td>NaN</td>\n",
       "      <td>NaN</td>\n",
       "      <td>NaN</td>\n",
       "      <td>Bladder</td>\n",
       "      <td>4.199059</td>\n",
       "      <td>-11.050240</td>\n",
       "    </tr>\n",
       "    <tr>\n",
       "      <th>2</th>\n",
       "      <td>NaN</td>\n",
       "      <td>NaN</td>\n",
       "      <td>A1-B002771-3_39_F-1-1</td>\n",
       "      <td>bladder cell</td>\n",
       "      <td>CL:1001319</td>\n",
       "      <td>5</td>\n",
       "      <td>Bladder mesenchymal cell</td>\n",
       "      <td>3_39_F</td>\n",
       "      <td>F</td>\n",
       "      <td>B002771</td>\n",
       "      <td>...</td>\n",
       "      <td>NaN</td>\n",
       "      <td>NaN</td>\n",
       "      <td>NaN</td>\n",
       "      <td>NaN</td>\n",
       "      <td>NaN</td>\n",
       "      <td>NaN</td>\n",
       "      <td>NaN</td>\n",
       "      <td>Bladder</td>\n",
       "      <td>-11.995435</td>\n",
       "      <td>-7.325534</td>\n",
       "    </tr>\n",
       "    <tr>\n",
       "      <th>3</th>\n",
       "      <td>NaN</td>\n",
       "      <td>NaN</td>\n",
       "      <td>A1-D041914-3_8_M-1-1</td>\n",
       "      <td>bladder cell</td>\n",
       "      <td>CL:1001319</td>\n",
       "      <td>5</td>\n",
       "      <td>Bladder mesenchymal cell</td>\n",
       "      <td>3_8_M</td>\n",
       "      <td>M</td>\n",
       "      <td>D041914</td>\n",
       "      <td>...</td>\n",
       "      <td>NaN</td>\n",
       "      <td>NaN</td>\n",
       "      <td>NaN</td>\n",
       "      <td>NaN</td>\n",
       "      <td>NaN</td>\n",
       "      <td>NaN</td>\n",
       "      <td>NaN</td>\n",
       "      <td>Bladder</td>\n",
       "      <td>-6.820022</td>\n",
       "      <td>-14.174246</td>\n",
       "    </tr>\n",
       "    <tr>\n",
       "      <th>4</th>\n",
       "      <td>NaN</td>\n",
       "      <td>NaN</td>\n",
       "      <td>A1-D042253-3_9_M-1-1</td>\n",
       "      <td>bladder cell</td>\n",
       "      <td>CL:1001319</td>\n",
       "      <td>2</td>\n",
       "      <td>Bladder mesenchymal cell</td>\n",
       "      <td>3_9_M</td>\n",
       "      <td>M</td>\n",
       "      <td>D042253</td>\n",
       "      <td>...</td>\n",
       "      <td>NaN</td>\n",
       "      <td>NaN</td>\n",
       "      <td>NaN</td>\n",
       "      <td>NaN</td>\n",
       "      <td>NaN</td>\n",
       "      <td>NaN</td>\n",
       "      <td>NaN</td>\n",
       "      <td>Bladder</td>\n",
       "      <td>-24.163538</td>\n",
       "      <td>-7.499349</td>\n",
       "    </tr>\n",
       "  </tbody>\n",
       "</table>\n",
       "<p>5 rows × 24 columns</p>\n",
       "</div>"
      ],
      "text/plain": [
       "  Neurog3>0_raw Neurog3>0_scaled                   cell  \\\n",
       "0           NaN              NaN  A1-B000610-3_56_F-1-1   \n",
       "1           NaN              NaN  A1-B002764-3_38_F-1-1   \n",
       "2           NaN              NaN  A1-B002771-3_39_F-1-1   \n",
       "3           NaN              NaN   A1-D041914-3_8_M-1-1   \n",
       "4           NaN              NaN   A1-D042253-3_9_M-1-1   \n",
       "\n",
       "       cell_ontology_class cell_ontology_id  cluster.ids  \\\n",
       "0             bladder cell       CL:1001319            5   \n",
       "1  bladder urothelial cell       CL:1001428            3   \n",
       "2             bladder cell       CL:1001319            5   \n",
       "3             bladder cell       CL:1001319            5   \n",
       "4             bladder cell       CL:1001319            2   \n",
       "\n",
       "                   free_annotation mouse.id mouse.sex plate.barcode  \\\n",
       "0         Bladder mesenchymal cell   3_56_F         F       B000610   \n",
       "1  Luminal bladder epithelial cell   3_38_F         F       B002764   \n",
       "2         Bladder mesenchymal cell   3_39_F         F       B002771   \n",
       "3         Bladder mesenchymal cell    3_8_M         M       D041914   \n",
       "4         Bladder mesenchymal cell    3_9_M         M       D042253   \n",
       "\n",
       "       ...       subsetC  subsetC_cluster.ids subsetD  subsetD_cluster.ids  \\\n",
       "0      ...           NaN                  NaN     NaN                  NaN   \n",
       "1      ...           NaN                  NaN     NaN                  NaN   \n",
       "2      ...           NaN                  NaN     NaN                  NaN   \n",
       "3      ...           NaN                  NaN     NaN                  NaN   \n",
       "4      ...           NaN                  NaN     NaN                  NaN   \n",
       "\n",
       "  subsetE  subsetE_cluster.ids subtissue   tissue tissue_tSNE_1  tissue_tSNE_2  \n",
       "0     NaN                  NaN       NaN  Bladder     -7.182841     -10.895094  \n",
       "1     NaN                  NaN       NaN  Bladder      4.199059     -11.050240  \n",
       "2     NaN                  NaN       NaN  Bladder    -11.995435      -7.325534  \n",
       "3     NaN                  NaN       NaN  Bladder     -6.820022     -14.174246  \n",
       "4     NaN                  NaN       NaN  Bladder    -24.163538      -7.499349  \n",
       "\n",
       "[5 rows x 24 columns]"
      ]
     },
     "execution_count": 4,
     "metadata": {},
     "output_type": "execute_result"
    }
   ],
   "source": [
    "annotations = pd.read_csv(\"/home/olga/tabula-muris/00_data_ingest/18_global_annotation_csv/annotations_facs.csv\")\n",
    "annotations['cell'] = annotations['cell'].str.replace('.', '-')\n",
    "print(annotations.shape)\n",
    "annotations.head()"
   ]
  },
  {
   "cell_type": "code",
   "execution_count": 5,
   "metadata": {},
   "outputs": [
    {
     "name": "stdout",
     "output_type": "stream",
     "text": [
      "1000\r\n"
     ]
    }
   ],
   "source": [
    "! aws s3 ls $output_prefix | wc -l"
   ]
  },
  {
   "cell_type": "markdown",
   "metadata": {},
   "source": [
    "### Copy the files to ndnd"
   ]
  },
  {
   "cell_type": "code",
   "execution_count": null,
   "metadata": {},
   "outputs": [
    {
     "name": "stdout",
     "output_type": "stream",
     "text": [
      "download: s3://olgabot-maca/facs/sourmash_compute_tissue_subset/A1-MAA000487-3_10_M-1-1.sig to ../../../scratch/maca/facs/sourmash_compute_tissue_subset/A1-MAA000487-3_10_M-1-1.sig\n",
      "download: s3://olgabot-maca/facs/sourmash_compute_tissue_subset/A1-D042253-3_9_M-1-1.sig to ../../../scratch/maca/facs/sourmash_compute_tissue_subset/A1-D042253-3_9_M-1-1.sig\n",
      "download: s3://olgabot-maca/facs/sourmash_compute_tissue_subset/A1-MAA100039-3_11_M-1-1.sig to ../../../scratch/maca/facs/sourmash_compute_tissue_subset/A1-MAA100039-3_11_M-1-1.sig\n",
      "download: s3://olgabot-maca/facs/sourmash_compute_tissue_subset/A1-B002764-3_38_F-1-1.sig to ../../../scratch/maca/facs/sourmash_compute_tissue_subset/A1-B002764-3_38_F-1-1.sig\n",
      "download: s3://olgabot-maca/facs/sourmash_compute_tissue_subset/A1-MAA000779-3_11_M-1-1.sig to ../../../scratch/maca/facs/sourmash_compute_tissue_subset/A1-MAA000779-3_11_M-1-1.sig\n",
      "download: s3://olgabot-maca/facs/sourmash_compute_tissue_subset/A10-MAA000559-3_8_M-1-1.sig to ../../../scratch/maca/facs/sourmash_compute_tissue_subset/A10-MAA000559-3_8_M-1-1.sig\n",
      "download: s3://olgabot-maca/facs/sourmash_compute_tissue_subset/A10-B000971-3_39_F-1-1.sig to ../../../scratch/maca/facs/sourmash_compute_tissue_subset/A10-B000971-3_39_F-1-1.sig\n",
      "download: s3://olgabot-maca/facs/sourmash_compute_tissue_subset/A10-B002775-3_39_F-1-1.sig to ../../../scratch/maca/facs/sourmash_compute_tissue_subset/A10-B002775-3_39_F-1-1.sig\n",
      "download: s3://olgabot-maca/facs/sourmash_compute_tissue_subset/A10-D041914-3_8_M-1-1.sig to ../../../scratch/maca/facs/sourmash_compute_tissue_subset/A10-D041914-3_8_M-1-1.sig\n",
      "download: s3://olgabot-maca/facs/sourmash_compute_tissue_subset/A11-D041914-3_8_M-1-1.sig to ../../../scratch/maca/facs/sourmash_compute_tissue_subset/A11-D041914-3_8_M-1-1.sig\n",
      "download: s3://olgabot-maca/facs/sourmash_compute_tissue_subset/A11-MAA000559-3_8_M-1-1.sig to ../../../scratch/maca/facs/sourmash_compute_tissue_subset/A11-MAA000559-3_8_M-1-1.sig\n",
      "download: s3://olgabot-maca/facs/sourmash_compute_tissue_subset/A11-MAA100041-3_9_M-1-1.sig to ../../../scratch/maca/facs/sourmash_compute_tissue_subset/A11-MAA100041-3_9_M-1-1.sig\n",
      "download: s3://olgabot-maca/facs/sourmash_compute_tissue_subset/A11-MAA000577-3_8_M-1-1.sig to ../../../scratch/maca/facs/sourmash_compute_tissue_subset/A11-MAA000577-3_8_M-1-1.sig\n",
      "download: s3://olgabot-maca/facs/sourmash_compute_tissue_subset/A12-B001717-3_38_F-1-1.sig to ../../../scratch/maca/facs/sourmash_compute_tissue_subset/A12-B001717-3_38_F-1-1.sig\n",
      "download: s3://olgabot-maca/facs/sourmash_compute_tissue_subset/A12-D041914-3_8_M-1-1.sig to ../../../scratch/maca/facs/sourmash_compute_tissue_subset/A12-D041914-3_8_M-1-1.sig\n",
      "download: s3://olgabot-maca/facs/sourmash_compute_tissue_subset/A11-MAA100140-3_57_F-1-1.sig to ../../../scratch/maca/facs/sourmash_compute_tissue_subset/A11-MAA100140-3_57_F-1-1.sig\n",
      "download: s3://olgabot-maca/facs/sourmash_compute_tissue_subset/A12-D042253-3_9_M-1-1.sig to ../../../scratch/maca/facs/sourmash_compute_tissue_subset/A12-D042253-3_9_M-1-1.sig\n",
      "download: s3://olgabot-maca/facs/sourmash_compute_tissue_subset/A12-MAA000508-3_9_M-1-1.sig to ../../../scratch/maca/facs/sourmash_compute_tissue_subset/A12-MAA000508-3_9_M-1-1.sig\n",
      "download: s3://olgabot-maca/facs/sourmash_compute_tissue_subset/A12-MAA000776-3_10_M-1-1.sig to ../../../scratch/maca/facs/sourmash_compute_tissue_subset/A12-MAA000776-3_10_M-1-1.sig\n",
      "download: s3://olgabot-maca/facs/sourmash_compute_tissue_subset/A12-MAA000801-3_11_M-1-1.sig to ../../../scratch/maca/facs/sourmash_compute_tissue_subset/A12-MAA000801-3_11_M-1-1.sig\n",
      "download: s3://olgabot-maca/facs/sourmash_compute_tissue_subset/A12-MAA000884-3_10_M-1-1.sig to ../../../scratch/maca/facs/sourmash_compute_tissue_subset/A12-MAA000884-3_10_M-1-1.sig\n",
      "download: s3://olgabot-maca/facs/sourmash_compute_tissue_subset/A12-MAA000559-3_8_M-1-1.sig to ../../../scratch/maca/facs/sourmash_compute_tissue_subset/A12-MAA000559-3_8_M-1-1.sig\n",
      "download: s3://olgabot-maca/facs/sourmash_compute_tissue_subset/A12-MAA000922-3_9_M-1-1.sig to ../../../scratch/maca/facs/sourmash_compute_tissue_subset/A12-MAA000922-3_9_M-1-1.sig\n",
      "download: s3://olgabot-maca/facs/sourmash_compute_tissue_subset/A13-B001717-3_38_F-1-1.sig to ../../../scratch/maca/facs/sourmash_compute_tissue_subset/A13-B001717-3_38_F-1-1.sig\n",
      "download: s3://olgabot-maca/facs/sourmash_compute_tissue_subset/A13-MAA001857-3_38_F-1-1.sig to ../../../scratch/maca/facs/sourmash_compute_tissue_subset/A13-MAA001857-3_38_F-1-1.sig\n",
      "download: s3://olgabot-maca/facs/sourmash_compute_tissue_subset/A13-MAA000545-3_8_M-1-1.sig to ../../../scratch/maca/facs/sourmash_compute_tissue_subset/A13-MAA000545-3_8_M-1-1.sig\n",
      "download: s3://olgabot-maca/facs/sourmash_compute_tissue_subset/A13-MAA000907-3_11_M-1-1.sig to ../../../scratch/maca/facs/sourmash_compute_tissue_subset/A13-MAA000907-3_11_M-1-1.sig\n",
      "download: s3://olgabot-maca/facs/sourmash_compute_tissue_subset/A14-B002775-3_39_F-1-1.sig to ../../../scratch/maca/facs/sourmash_compute_tissue_subset/A14-B002775-3_39_F-1-1.sig\n",
      "download: s3://olgabot-maca/facs/sourmash_compute_tissue_subset/A14-MAA000487-3_10_M-1-1.sig to ../../../scratch/maca/facs/sourmash_compute_tissue_subset/A14-MAA000487-3_10_M-1-1.sig\n",
      "download: s3://olgabot-maca/facs/sourmash_compute_tissue_subset/A14-MAA001857-3_38_F-1-1.sig to ../../../scratch/maca/facs/sourmash_compute_tissue_subset/A14-MAA001857-3_38_F-1-1.sig\n",
      "download: s3://olgabot-maca/facs/sourmash_compute_tissue_subset/A14-MAA000801-3_11_M-1-1.sig to ../../../scratch/maca/facs/sourmash_compute_tissue_subset/A14-MAA000801-3_11_M-1-1.sig\n",
      "download: s3://olgabot-maca/facs/sourmash_compute_tissue_subset/A14-MAA001862-3_39_F-1-1.sig to ../../../scratch/maca/facs/sourmash_compute_tissue_subset/A14-MAA001862-3_39_F-1-1.sig\n",
      "download: s3://olgabot-maca/facs/sourmash_compute_tissue_subset/A15-B002775-3_39_F-1-1.sig to ../../../scratch/maca/facs/sourmash_compute_tissue_subset/A15-B002775-3_39_F-1-1.sig\n",
      "download: s3://olgabot-maca/facs/sourmash_compute_tissue_subset/A15-D042253-3_9_M-1-1.sig to ../../../scratch/maca/facs/sourmash_compute_tissue_subset/A15-D042253-3_9_M-1-1.sig\n",
      "download: s3://olgabot-maca/facs/sourmash_compute_tissue_subset/A15-MAA000776-3_10_M-1-1.sig to ../../../scratch/maca/facs/sourmash_compute_tissue_subset/A15-MAA000776-3_10_M-1-1.sig\n",
      "download: s3://olgabot-maca/facs/sourmash_compute_tissue_subset/A16-D042253-3_9_M-1-1.sig to ../../../scratch/maca/facs/sourmash_compute_tissue_subset/A16-D042253-3_9_M-1-1.sig\n",
      "download: s3://olgabot-maca/facs/sourmash_compute_tissue_subset/A15-MAA000801-3_11_M-1-1.sig to ../../../scratch/maca/facs/sourmash_compute_tissue_subset/A15-MAA000801-3_11_M-1-1.sig\n",
      "download: s3://olgabot-maca/facs/sourmash_compute_tissue_subset/A18-D042253-3_9_M-1-1.sig to ../../../scratch/maca/facs/sourmash_compute_tissue_subset/A18-D042253-3_9_M-1-1.sig\n",
      "download: s3://olgabot-maca/facs/sourmash_compute_tissue_subset/A16-MAA000559-3_8_M-1-1.sig to ../../../scratch/maca/facs/sourmash_compute_tissue_subset/A16-MAA000559-3_8_M-1-1.sig\n",
      "download: s3://olgabot-maca/facs/sourmash_compute_tissue_subset/A18-B002764-3_38_F-1-1.sig to ../../../scratch/maca/facs/sourmash_compute_tissue_subset/A18-B002764-3_38_F-1-1.sig\n",
      "download: s3://olgabot-maca/facs/sourmash_compute_tissue_subset/A16-MAA000907-3_11_M-1-1.sig to ../../../scratch/maca/facs/sourmash_compute_tissue_subset/A16-MAA000907-3_11_M-1-1.sig\n",
      "download: s3://olgabot-maca/facs/sourmash_compute_tissue_subset/A17-MAA000907-3_11_M-1-1.sig to ../../../scratch/maca/facs/sourmash_compute_tissue_subset/A17-MAA000907-3_11_M-1-1.sig\n",
      "download: s3://olgabot-maca/facs/sourmash_compute_tissue_subset/A18-MAA000801-3_11_M-1-1.sig to ../../../scratch/maca/facs/sourmash_compute_tissue_subset/A18-MAA000801-3_11_M-1-1.sig\n",
      "download: s3://olgabot-maca/facs/sourmash_compute_tissue_subset/A18-MAA001857-3_38_F-1-1.sig to ../../../scratch/maca/facs/sourmash_compute_tissue_subset/A18-MAA001857-3_38_F-1-1.sig\n",
      "download: s3://olgabot-maca/facs/sourmash_compute_tissue_subset/A19-B000971-3_39_F-1-1.sig to ../../../scratch/maca/facs/sourmash_compute_tissue_subset/A19-B000971-3_39_F-1-1.sig\n",
      "download: s3://olgabot-maca/facs/sourmash_compute_tissue_subset/A19-B001750-3_38_F-1-1.sig to ../../../scratch/maca/facs/sourmash_compute_tissue_subset/A19-B001750-3_38_F-1-1.sig\n",
      "download: s3://olgabot-maca/facs/sourmash_compute_tissue_subset/A19-MAA000508-3_9_M-1-1.sig to ../../../scratch/maca/facs/sourmash_compute_tissue_subset/A19-MAA000508-3_9_M-1-1.sig\n",
      "download: s3://olgabot-maca/facs/sourmash_compute_tissue_subset/A2-B000971-3_39_F-1-1.sig to ../../../scratch/maca/facs/sourmash_compute_tissue_subset/A2-B000971-3_39_F-1-1.sig\n",
      "download: s3://olgabot-maca/facs/sourmash_compute_tissue_subset/A2-B001717-3_38_F-1-1.sig to ../../../scratch/maca/facs/sourmash_compute_tissue_subset/A2-B001717-3_38_F-1-1.sig\n",
      "download: s3://olgabot-maca/facs/sourmash_compute_tissue_subset/A2-B002764-3_38_F-1-1.sig to ../../../scratch/maca/facs/sourmash_compute_tissue_subset/A2-B002764-3_38_F-1-1.sig\n",
      "download: s3://olgabot-maca/facs/sourmash_compute_tissue_subset/A2-B002771-3_39_F-1-1.sig to ../../../scratch/maca/facs/sourmash_compute_tissue_subset/A2-B002771-3_39_F-1-1.sig\n",
      "download: s3://olgabot-maca/facs/sourmash_compute_tissue_subset/A2-B002775-3_39_F-1-1.sig to ../../../scratch/maca/facs/sourmash_compute_tissue_subset/A2-B002775-3_39_F-1-1.sig\n",
      "download: s3://olgabot-maca/facs/sourmash_compute_tissue_subset/A2-D041914-3_8_M-1-1.sig to ../../../scratch/maca/facs/sourmash_compute_tissue_subset/A2-D041914-3_8_M-1-1.sig\n",
      "download: s3://olgabot-maca/facs/sourmash_compute_tissue_subset/A2-D042253-3_9_M-1-1.sig to ../../../scratch/maca/facs/sourmash_compute_tissue_subset/A2-D042253-3_9_M-1-1.sig\n",
      "download: s3://olgabot-maca/facs/sourmash_compute_tissue_subset/A2-MAA000884-3_10_M-1-1.sig to ../../../scratch/maca/facs/sourmash_compute_tissue_subset/A2-MAA000884-3_10_M-1-1.sig\n",
      "download: s3://olgabot-maca/facs/sourmash_compute_tissue_subset/A20-D042253-3_9_M-1-1.sig to ../../../scratch/maca/facs/sourmash_compute_tissue_subset/A20-D042253-3_9_M-1-1.sig\n",
      "download: s3://olgabot-maca/facs/sourmash_compute_tissue_subset/A2-MAA000907-3_11_M-1-1.sig to ../../../scratch/maca/facs/sourmash_compute_tissue_subset/A2-MAA000907-3_11_M-1-1.sig\n",
      "download: s3://olgabot-maca/facs/sourmash_compute_tissue_subset/A20-MAA000508-3_9_M-1-1.sig to ../../../scratch/maca/facs/sourmash_compute_tissue_subset/A20-MAA000508-3_9_M-1-1.sig\n",
      "download: s3://olgabot-maca/facs/sourmash_compute_tissue_subset/A21-MAA000907-3_11_M-1-1.sig to ../../../scratch/maca/facs/sourmash_compute_tissue_subset/A21-MAA000907-3_11_M-1-1.sig\n",
      "download: s3://olgabot-maca/facs/sourmash_compute_tissue_subset/A22-MAA000545-3_8_M-1-1.sig to ../../../scratch/maca/facs/sourmash_compute_tissue_subset/A22-MAA000545-3_8_M-1-1.sig\n",
      "download: s3://olgabot-maca/facs/sourmash_compute_tissue_subset/A22-MAA000776-3_10_M-1-1.sig to ../../../scratch/maca/facs/sourmash_compute_tissue_subset/A22-MAA000776-3_10_M-1-1.sig\n",
      "download: s3://olgabot-maca/facs/sourmash_compute_tissue_subset/A3-B000971-3_39_F-1-1.sig to ../../../scratch/maca/facs/sourmash_compute_tissue_subset/A3-B000971-3_39_F-1-1.sig\n",
      "download: s3://olgabot-maca/facs/sourmash_compute_tissue_subset/A22-B000971-3_39_F-1-1.sig to ../../../scratch/maca/facs/sourmash_compute_tissue_subset/A22-B000971-3_39_F-1-1.sig\n",
      "download: s3://olgabot-maca/facs/sourmash_compute_tissue_subset/A3-MAA001857-3_38_F-1-1.sig to ../../../scratch/maca/facs/sourmash_compute_tissue_subset/A3-MAA001857-3_38_F-1-1.sig\n",
      "download: s3://olgabot-maca/facs/sourmash_compute_tissue_subset/A3-MAA000559-3_8_M-1-1.sig to ../../../scratch/maca/facs/sourmash_compute_tissue_subset/A3-MAA000559-3_8_M-1-1.sig\n",
      "download: s3://olgabot-maca/facs/sourmash_compute_tissue_subset/A3-MAA001861-3_39_F-1-1.sig to ../../../scratch/maca/facs/sourmash_compute_tissue_subset/A3-MAA001861-3_39_F-1-1.sig\n",
      "download: s3://olgabot-maca/facs/sourmash_compute_tissue_subset/A3-MAA100040-3_11_M-1-1.sig to ../../../scratch/maca/facs/sourmash_compute_tissue_subset/A3-MAA100040-3_11_M-1-1.sig\n",
      "download: s3://olgabot-maca/facs/sourmash_compute_tissue_subset/A4-MAA000779-3_11_M-1-1.sig to ../../../scratch/maca/facs/sourmash_compute_tissue_subset/A4-MAA000779-3_11_M-1-1.sig\n",
      "download: s3://olgabot-maca/facs/sourmash_compute_tissue_subset/A4-MAA000884-3_10_M-1-1.sig to ../../../scratch/maca/facs/sourmash_compute_tissue_subset/A4-MAA000884-3_10_M-1-1.sig\n",
      "download: s3://olgabot-maca/facs/sourmash_compute_tissue_subset/A4-MAA000907-3_11_M-1-1.sig to ../../../scratch/maca/facs/sourmash_compute_tissue_subset/A4-MAA000907-3_11_M-1-1.sig\n",
      "download: s3://olgabot-maca/facs/sourmash_compute_tissue_subset/A4-MAA100039-3_11_M-1-1.sig to ../../../scratch/maca/facs/sourmash_compute_tissue_subset/A4-MAA100039-3_11_M-1-1.sig\n",
      "download: s3://olgabot-maca/facs/sourmash_compute_tissue_subset/A4-MAA100138-3_56_F-1-1.sig to ../../../scratch/maca/facs/sourmash_compute_tissue_subset/A4-MAA100138-3_56_F-1-1.sig\n",
      "download: s3://olgabot-maca/facs/sourmash_compute_tissue_subset/A5-MAA000801-3_11_M-1-1.sig to ../../../scratch/maca/facs/sourmash_compute_tissue_subset/A5-MAA000801-3_11_M-1-1.sig\n",
      "download: s3://olgabot-maca/facs/sourmash_compute_tissue_subset/A6-D042253-3_9_M-1-1.sig to ../../../scratch/maca/facs/sourmash_compute_tissue_subset/A6-D042253-3_9_M-1-1.sig\n",
      "download: s3://olgabot-maca/facs/sourmash_compute_tissue_subset/A5-MAA100138-3_56_F-1-1.sig to ../../../scratch/maca/facs/sourmash_compute_tissue_subset/A5-MAA100138-3_56_F-1-1.sig\n",
      "download: s3://olgabot-maca/facs/sourmash_compute_tissue_subset/A6-MAA100042-3_9_M-1-1.sig to ../../../scratch/maca/facs/sourmash_compute_tissue_subset/A6-MAA100042-3_9_M-1-1.sig\n",
      "download: s3://olgabot-maca/facs/sourmash_compute_tissue_subset/A7-D042253-3_9_M-1-1.sig to ../../../scratch/maca/facs/sourmash_compute_tissue_subset/A7-D042253-3_9_M-1-1.sig\n",
      "download: s3://olgabot-maca/facs/sourmash_compute_tissue_subset/A7-MAA000508-3_9_M-1-1.sig to ../../../scratch/maca/facs/sourmash_compute_tissue_subset/A7-MAA000508-3_9_M-1-1.sig\n",
      "download: s3://olgabot-maca/facs/sourmash_compute_tissue_subset/A7-MAA000801-3_11_M-1-1.sig to ../../../scratch/maca/facs/sourmash_compute_tissue_subset/A7-MAA000801-3_11_M-1-1.sig\n",
      "download: s3://olgabot-maca/facs/sourmash_compute_tissue_subset/A7-MAA000577-3_8_M-1-1.sig to ../../../scratch/maca/facs/sourmash_compute_tissue_subset/A7-MAA000577-3_8_M-1-1.sig\n",
      "download: s3://olgabot-maca/facs/sourmash_compute_tissue_subset/A7-MAA000907-3_11_M-1-1.sig to ../../../scratch/maca/facs/sourmash_compute_tissue_subset/A7-MAA000907-3_11_M-1-1.sig\n",
      "download: s3://olgabot-maca/facs/sourmash_compute_tissue_subset/A7-MAA100040-3_11_M-1-1.sig to ../../../scratch/maca/facs/sourmash_compute_tissue_subset/A7-MAA100040-3_11_M-1-1.sig\n",
      "download: s3://olgabot-maca/facs/sourmash_compute_tissue_subset/A7-MAA100042-3_9_M-1-1.sig to ../../../scratch/maca/facs/sourmash_compute_tissue_subset/A7-MAA100042-3_9_M-1-1.sig\n",
      "download: s3://olgabot-maca/facs/sourmash_compute_tissue_subset/A7-MAA100140-3_57_F-1-1.sig to ../../../scratch/maca/facs/sourmash_compute_tissue_subset/A7-MAA100140-3_57_F-1-1.sig\n",
      "download: s3://olgabot-maca/facs/sourmash_compute_tissue_subset/A8-MAA100140-3_57_F-1-1.sig to ../../../scratch/maca/facs/sourmash_compute_tissue_subset/A8-MAA100140-3_57_F-1-1.sig\n",
      "download: s3://olgabot-maca/facs/sourmash_compute_tissue_subset/A9-B001750-3_38_F-1-1.sig to ../../../scratch/maca/facs/sourmash_compute_tissue_subset/A9-B001750-3_38_F-1-1.sig\n",
      "download: s3://olgabot-maca/facs/sourmash_compute_tissue_subset/A9-MAA000779-3_11_M-1-1.sig to ../../../scratch/maca/facs/sourmash_compute_tissue_subset/A9-MAA000779-3_11_M-1-1.sig\n",
      "download: s3://olgabot-maca/facs/sourmash_compute_tissue_subset/A8-MAA000508-3_9_M-1-1.sig to ../../../scratch/maca/facs/sourmash_compute_tissue_subset/A8-MAA000508-3_9_M-1-1.sig\n",
      "download: s3://olgabot-maca/facs/sourmash_compute_tissue_subset/B1-MAA000508-3_9_M-1-1.sig to ../../../scratch/maca/facs/sourmash_compute_tissue_subset/B1-MAA000508-3_9_M-1-1.sig\n",
      "download: s3://olgabot-maca/facs/sourmash_compute_tissue_subset/B1-MAA001868-3_38_F-1-1.sig to ../../../scratch/maca/facs/sourmash_compute_tissue_subset/B1-MAA001868-3_38_F-1-1.sig\n",
      "download: s3://olgabot-maca/facs/sourmash_compute_tissue_subset/B1-MAA100039-3_11_M-1-1.sig to ../../../scratch/maca/facs/sourmash_compute_tissue_subset/B1-MAA100039-3_11_M-1-1.sig\n"
     ]
    },
    {
     "name": "stdout",
     "output_type": "stream",
     "text": [
      "download: s3://olgabot-maca/facs/sourmash_compute_tissue_subset/B10-MAA000910-3_10_M-1-1.sig to ../../../scratch/maca/facs/sourmash_compute_tissue_subset/B10-MAA000910-3_10_M-1-1.sig\n",
      "download: s3://olgabot-maca/facs/sourmash_compute_tissue_subset/B1-MAA100138-3_56_F-1-1.sig to ../../../scratch/maca/facs/sourmash_compute_tissue_subset/B1-MAA100138-3_56_F-1-1.sig\n",
      "download: s3://olgabot-maca/facs/sourmash_compute_tissue_subset/B10-MAA100039-3_11_M-1-1.sig to ../../../scratch/maca/facs/sourmash_compute_tissue_subset/B10-MAA100039-3_11_M-1-1.sig\n",
      "download: s3://olgabot-maca/facs/sourmash_compute_tissue_subset/B11-MAA000487-3_10_M-1-1.sig to ../../../scratch/maca/facs/sourmash_compute_tissue_subset/B11-MAA000487-3_10_M-1-1.sig\n",
      "download: s3://olgabot-maca/facs/sourmash_compute_tissue_subset/B12-MAA000577-3_8_M-1-1.sig to ../../../scratch/maca/facs/sourmash_compute_tissue_subset/B12-MAA000577-3_8_M-1-1.sig\n",
      "download: s3://olgabot-maca/facs/sourmash_compute_tissue_subset/B11-MAA000801-3_11_M-1-1.sig to ../../../scratch/maca/facs/sourmash_compute_tissue_subset/B11-MAA000801-3_11_M-1-1.sig\n",
      "download: s3://olgabot-maca/facs/sourmash_compute_tissue_subset/B12-MAA100039-3_11_M-1-1.sig to ../../../scratch/maca/facs/sourmash_compute_tissue_subset/B12-MAA100039-3_11_M-1-1.sig\n",
      "download: s3://olgabot-maca/facs/sourmash_compute_tissue_subset/B12-MAA100041-3_9_M-1-1.sig to ../../../scratch/maca/facs/sourmash_compute_tissue_subset/B12-MAA100041-3_9_M-1-1.sig\n",
      "download: s3://olgabot-maca/facs/sourmash_compute_tissue_subset/B12-MAA100042-3_9_M-1-1.sig to ../../../scratch/maca/facs/sourmash_compute_tissue_subset/B12-MAA100042-3_9_M-1-1.sig\n",
      "download: s3://olgabot-maca/facs/sourmash_compute_tissue_subset/B13-B001717-3_38_F-1-1.sig to ../../../scratch/maca/facs/sourmash_compute_tissue_subset/B13-B001717-3_38_F-1-1.sig\n",
      "download: s3://olgabot-maca/facs/sourmash_compute_tissue_subset/B13-MAA000907-3_11_M-1-1.sig to ../../../scratch/maca/facs/sourmash_compute_tissue_subset/B13-MAA000907-3_11_M-1-1.sig\n",
      "download: s3://olgabot-maca/facs/sourmash_compute_tissue_subset/B13-MAA000776-3_10_M-1-1.sig to ../../../scratch/maca/facs/sourmash_compute_tissue_subset/B13-MAA000776-3_10_M-1-1.sig\n",
      "download: s3://olgabot-maca/facs/sourmash_compute_tissue_subset/B15-B001750-3_38_F-1-1.sig to ../../../scratch/maca/facs/sourmash_compute_tissue_subset/B15-B001750-3_38_F-1-1.sig\n",
      "download: s3://olgabot-maca/facs/sourmash_compute_tissue_subset/B15-MAA000776-3_10_M-1-1.sig to ../../../scratch/maca/facs/sourmash_compute_tissue_subset/B15-MAA000776-3_10_M-1-1.sig\n",
      "download: s3://olgabot-maca/facs/sourmash_compute_tissue_subset/B15-MAA000801-3_11_M-1-1.sig to ../../../scratch/maca/facs/sourmash_compute_tissue_subset/B15-MAA000801-3_11_M-1-1.sig\n",
      "download: s3://olgabot-maca/facs/sourmash_compute_tissue_subset/B15-MAA000487-3_10_M-1-1.sig to ../../../scratch/maca/facs/sourmash_compute_tissue_subset/B15-MAA000487-3_10_M-1-1.sig\n",
      "download: s3://olgabot-maca/facs/sourmash_compute_tissue_subset/B16-B000971-3_39_F-1-1.sig to ../../../scratch/maca/facs/sourmash_compute_tissue_subset/B16-B000971-3_39_F-1-1.sig\n",
      "download: s3://olgabot-maca/facs/sourmash_compute_tissue_subset/B18-B002775-3_39_F-1-1.sig to ../../../scratch/maca/facs/sourmash_compute_tissue_subset/B18-B002775-3_39_F-1-1.sig\n",
      "download: s3://olgabot-maca/facs/sourmash_compute_tissue_subset/B17-MAA000884-3_10_M-1-1.sig to ../../../scratch/maca/facs/sourmash_compute_tissue_subset/B17-MAA000884-3_10_M-1-1.sig\n",
      "download: s3://olgabot-maca/facs/sourmash_compute_tissue_subset/B18-MAA000907-3_11_M-1-1.sig to ../../../scratch/maca/facs/sourmash_compute_tissue_subset/B18-MAA000907-3_11_M-1-1.sig\n",
      "download: s3://olgabot-maca/facs/sourmash_compute_tissue_subset/B18-MAA000776-3_10_M-1-1.sig to ../../../scratch/maca/facs/sourmash_compute_tissue_subset/B18-MAA000776-3_10_M-1-1.sig\n",
      "download: s3://olgabot-maca/facs/sourmash_compute_tissue_subset/B19-B001717-3_38_F-1-1.sig to ../../../scratch/maca/facs/sourmash_compute_tissue_subset/B19-B001717-3_38_F-1-1.sig\n",
      "download: s3://olgabot-maca/facs/sourmash_compute_tissue_subset/B19-MAA000574-3_8_M-1-1.sig to ../../../scratch/maca/facs/sourmash_compute_tissue_subset/B19-MAA000574-3_8_M-1-1.sig\n",
      "download: s3://olgabot-maca/facs/sourmash_compute_tissue_subset/B19-MAA000779-3_11_M-1-1.sig to ../../../scratch/maca/facs/sourmash_compute_tissue_subset/B19-MAA000779-3_11_M-1-1.sig\n",
      "download: s3://olgabot-maca/facs/sourmash_compute_tissue_subset/B2-D041914-3_8_M-1-1.sig to ../../../scratch/maca/facs/sourmash_compute_tissue_subset/B2-D041914-3_8_M-1-1.sig\n",
      "download: s3://olgabot-maca/facs/sourmash_compute_tissue_subset/B2-D042253-3_9_M-1-1.sig to ../../../scratch/maca/facs/sourmash_compute_tissue_subset/B2-D042253-3_9_M-1-1.sig\n",
      "download: s3://olgabot-maca/facs/sourmash_compute_tissue_subset/B2-MAA000545-3_8_M-1-1.sig to ../../../scratch/maca/facs/sourmash_compute_tissue_subset/B2-MAA000545-3_8_M-1-1.sig\n",
      "download: s3://olgabot-maca/facs/sourmash_compute_tissue_subset/B2-MAA000801-3_11_M-1-1.sig to ../../../scratch/maca/facs/sourmash_compute_tissue_subset/B2-MAA000801-3_11_M-1-1.sig\n",
      "download: s3://olgabot-maca/facs/sourmash_compute_tissue_subset/B2-MAA000752-3_10_M-1-1.sig to ../../../scratch/maca/facs/sourmash_compute_tissue_subset/B2-MAA000752-3_10_M-1-1.sig\n",
      "download: s3://olgabot-maca/facs/sourmash_compute_tissue_subset/B2-MAA001857-3_38_F-1-1.sig to ../../../scratch/maca/facs/sourmash_compute_tissue_subset/B2-MAA001857-3_38_F-1-1.sig\n",
      "download: s3://olgabot-maca/facs/sourmash_compute_tissue_subset/B2-MAA000776-3_10_M-1-1.sig to ../../../scratch/maca/facs/sourmash_compute_tissue_subset/B2-MAA000776-3_10_M-1-1.sig\n",
      "download: s3://olgabot-maca/facs/sourmash_compute_tissue_subset/B20-MAA000508-3_9_M-1-1.sig to ../../../scratch/maca/facs/sourmash_compute_tissue_subset/B20-MAA000508-3_9_M-1-1.sig\n",
      "download: s3://olgabot-maca/facs/sourmash_compute_tissue_subset/B21-MAA000487-3_10_M-1-1.sig to ../../../scratch/maca/facs/sourmash_compute_tissue_subset/B21-MAA000487-3_10_M-1-1.sig\n",
      "download: s3://olgabot-maca/facs/sourmash_compute_tissue_subset/B20-MAA000801-3_11_M-1-1.sig to ../../../scratch/maca/facs/sourmash_compute_tissue_subset/B20-MAA000801-3_11_M-1-1.sig\n",
      "download: s3://olgabot-maca/facs/sourmash_compute_tissue_subset/B22-MAA001862-3_39_F-1-1.sig to ../../../scratch/maca/facs/sourmash_compute_tissue_subset/B22-MAA001862-3_39_F-1-1.sig\n",
      "download: s3://olgabot-maca/facs/sourmash_compute_tissue_subset/B21-B001717-3_38_F-1-1.sig to ../../../scratch/maca/facs/sourmash_compute_tissue_subset/B21-B001717-3_38_F-1-1.sig\n",
      "download: s3://olgabot-maca/facs/sourmash_compute_tissue_subset/B3-MAA100041-3_9_M-1-1.sig to ../../../scratch/maca/facs/sourmash_compute_tissue_subset/B3-MAA100041-3_9_M-1-1.sig\n",
      "download: s3://olgabot-maca/facs/sourmash_compute_tissue_subset/B3-B000610-3_56_F-1-1.sig to ../../../scratch/maca/facs/sourmash_compute_tissue_subset/B3-B000610-3_56_F-1-1.sig\n",
      "download: s3://olgabot-maca/facs/sourmash_compute_tissue_subset/B4-B001717-3_38_F-1-1.sig to ../../../scratch/maca/facs/sourmash_compute_tissue_subset/B4-B001717-3_38_F-1-1.sig\n",
      "download: s3://olgabot-maca/facs/sourmash_compute_tissue_subset/B3-B002775-3_39_F-1-1.sig to ../../../scratch/maca/facs/sourmash_compute_tissue_subset/B3-B002775-3_39_F-1-1.sig\n",
      "download: s3://olgabot-maca/facs/sourmash_compute_tissue_subset/B3-MAA000922-3_9_M-1-1.sig to ../../../scratch/maca/facs/sourmash_compute_tissue_subset/B3-MAA000922-3_9_M-1-1.sig\n",
      "download: s3://olgabot-maca/facs/sourmash_compute_tissue_subset/B4-D042253-3_9_M-1-1.sig to ../../../scratch/maca/facs/sourmash_compute_tissue_subset/B4-D042253-3_9_M-1-1.sig\n",
      "download: s3://olgabot-maca/facs/sourmash_compute_tissue_subset/B4-MAA000884-3_10_M-1-1.sig to ../../../scratch/maca/facs/sourmash_compute_tissue_subset/B4-MAA000884-3_10_M-1-1.sig\n",
      "download: s3://olgabot-maca/facs/sourmash_compute_tissue_subset/B4-MAA100039-3_11_M-1-1.sig to ../../../scratch/maca/facs/sourmash_compute_tissue_subset/B4-MAA100039-3_11_M-1-1.sig\n",
      "download: s3://olgabot-maca/facs/sourmash_compute_tissue_subset/B5-B000610-3_56_F-1-1.sig to ../../../scratch/maca/facs/sourmash_compute_tissue_subset/B5-B000610-3_56_F-1-1.sig\n",
      "download: s3://olgabot-maca/facs/sourmash_compute_tissue_subset/B4-MAA100042-3_9_M-1-1.sig to ../../../scratch/maca/facs/sourmash_compute_tissue_subset/B4-MAA100042-3_9_M-1-1.sig\n",
      "download: s3://olgabot-maca/facs/sourmash_compute_tissue_subset/B5-MAA000779-3_11_M-1-1.sig to ../../../scratch/maca/facs/sourmash_compute_tissue_subset/B5-MAA000779-3_11_M-1-1.sig\n",
      "download: s3://olgabot-maca/facs/sourmash_compute_tissue_subset/B5-MAA001857-3_38_F-1-1.sig to ../../../scratch/maca/facs/sourmash_compute_tissue_subset/B5-MAA001857-3_38_F-1-1.sig\n",
      "download: s3://olgabot-maca/facs/sourmash_compute_tissue_subset/B5-MAA100140-3_57_F-1-1.sig to ../../../scratch/maca/facs/sourmash_compute_tissue_subset/B5-MAA100140-3_57_F-1-1.sig\n",
      "download: s3://olgabot-maca/facs/sourmash_compute_tissue_subset/B6-B001717-3_38_F-1-1.sig to ../../../scratch/maca/facs/sourmash_compute_tissue_subset/B6-B001717-3_38_F-1-1.sig\n",
      "download: s3://olgabot-maca/facs/sourmash_compute_tissue_subset/B6-MAA000779-3_11_M-1-1.sig to ../../../scratch/maca/facs/sourmash_compute_tissue_subset/B6-MAA000779-3_11_M-1-1.sig\n",
      "download: s3://olgabot-maca/facs/sourmash_compute_tissue_subset/B6-MAA100040-3_11_M-1-1.sig to ../../../scratch/maca/facs/sourmash_compute_tissue_subset/B6-MAA100040-3_11_M-1-1.sig\n",
      "download: s3://olgabot-maca/facs/sourmash_compute_tissue_subset/B7-MAA000559-3_8_M-1-1.sig to ../../../scratch/maca/facs/sourmash_compute_tissue_subset/B7-MAA000559-3_8_M-1-1.sig\n",
      "download: s3://olgabot-maca/facs/sourmash_compute_tissue_subset/B7-MAA001857-3_38_F-1-1.sig to ../../../scratch/maca/facs/sourmash_compute_tissue_subset/B7-MAA001857-3_38_F-1-1.sig\n",
      "download: s3://olgabot-maca/facs/sourmash_compute_tissue_subset/B8-MAA000377-3_9_M-1-1.sig to ../../../scratch/maca/facs/sourmash_compute_tissue_subset/B8-MAA000377-3_9_M-1-1.sig\n",
      "download: s3://olgabot-maca/facs/sourmash_compute_tissue_subset/B8-MAA000779-3_11_M-1-1.sig to ../../../scratch/maca/facs/sourmash_compute_tissue_subset/B8-MAA000779-3_11_M-1-1.sig\n",
      "download: s3://olgabot-maca/facs/sourmash_compute_tissue_subset/B8-MAA000801-3_11_M-1-1.sig to ../../../scratch/maca/facs/sourmash_compute_tissue_subset/B8-MAA000801-3_11_M-1-1.sig\n",
      "download: s3://olgabot-maca/facs/sourmash_compute_tissue_subset/C1-MAA000779-3_11_M-1-1.sig to ../../../scratch/maca/facs/sourmash_compute_tissue_subset/C1-MAA000779-3_11_M-1-1.sig\n",
      "download: s3://olgabot-maca/facs/sourmash_compute_tissue_subset/B8-MAA001857-3_38_F-1-1.sig to ../../../scratch/maca/facs/sourmash_compute_tissue_subset/B8-MAA001857-3_38_F-1-1.sig\n",
      "download: s3://olgabot-maca/facs/sourmash_compute_tissue_subset/B9-MAA100039-3_11_M-1-1.sig to ../../../scratch/maca/facs/sourmash_compute_tissue_subset/B9-MAA100039-3_11_M-1-1.sig\n",
      "download: s3://olgabot-maca/facs/sourmash_compute_tissue_subset/C1-B002771-3_39_F-1-1.sig to ../../../scratch/maca/facs/sourmash_compute_tissue_subset/C1-B002771-3_39_F-1-1.sig\n",
      "download: s3://olgabot-maca/facs/sourmash_compute_tissue_subset/C1-MAA000559-3_8_M-1-1.sig to ../../../scratch/maca/facs/sourmash_compute_tissue_subset/C1-MAA000559-3_8_M-1-1.sig\n",
      "download: s3://olgabot-maca/facs/sourmash_compute_tissue_subset/C1-MAA001862-3_39_F-1-1.sig to ../../../scratch/maca/facs/sourmash_compute_tissue_subset/C1-MAA001862-3_39_F-1-1.sig\n",
      "download: s3://olgabot-maca/facs/sourmash_compute_tissue_subset/C10-B001750-3_38_F-1-1.sig to ../../../scratch/maca/facs/sourmash_compute_tissue_subset/C10-B001750-3_38_F-1-1.sig\n",
      "download: s3://olgabot-maca/facs/sourmash_compute_tissue_subset/C10-MAA000545-3_8_M-1-1.sig to ../../../scratch/maca/facs/sourmash_compute_tissue_subset/C10-MAA000545-3_8_M-1-1.sig\n",
      "download: s3://olgabot-maca/facs/sourmash_compute_tissue_subset/C10-MAA000559-3_8_M-1-1.sig to ../../../scratch/maca/facs/sourmash_compute_tissue_subset/C10-MAA000559-3_8_M-1-1.sig\n",
      "download: s3://olgabot-maca/facs/sourmash_compute_tissue_subset/C10-MAA001862-3_39_F-1-1.sig to ../../../scratch/maca/facs/sourmash_compute_tissue_subset/C10-MAA001862-3_39_F-1-1.sig\n",
      "download: s3://olgabot-maca/facs/sourmash_compute_tissue_subset/C11-D041914-3_8_M-1-1.sig to ../../../scratch/maca/facs/sourmash_compute_tissue_subset/C11-D041914-3_8_M-1-1.sig\n",
      "download: s3://olgabot-maca/facs/sourmash_compute_tissue_subset/C11-MAA000779-3_11_M-1-1.sig to ../../../scratch/maca/facs/sourmash_compute_tissue_subset/C11-MAA000779-3_11_M-1-1.sig\n",
      "download: s3://olgabot-maca/facs/sourmash_compute_tissue_subset/C11-MAA000907-3_11_M-1-1.sig to ../../../scratch/maca/facs/sourmash_compute_tissue_subset/C11-MAA000907-3_11_M-1-1.sig\n",
      "download: s3://olgabot-maca/facs/sourmash_compute_tissue_subset/C11-MAA100140-3_57_F-1-1.sig to ../../../scratch/maca/facs/sourmash_compute_tissue_subset/C11-MAA100140-3_57_F-1-1.sig\n",
      "download: s3://olgabot-maca/facs/sourmash_compute_tissue_subset/C12-MAA000545-3_8_M-1-1.sig to ../../../scratch/maca/facs/sourmash_compute_tissue_subset/C12-MAA000545-3_8_M-1-1.sig\n",
      "download: s3://olgabot-maca/facs/sourmash_compute_tissue_subset/C11-MAA100042-3_9_M-1-1.sig to ../../../scratch/maca/facs/sourmash_compute_tissue_subset/C11-MAA100042-3_9_M-1-1.sig\n",
      "download: s3://olgabot-maca/facs/sourmash_compute_tissue_subset/C12-MAA000577-3_8_M-1-1.sig to ../../../scratch/maca/facs/sourmash_compute_tissue_subset/C12-MAA000577-3_8_M-1-1.sig\n",
      "download: s3://olgabot-maca/facs/sourmash_compute_tissue_subset/C12-MAA000801-3_11_M-1-1.sig to ../../../scratch/maca/facs/sourmash_compute_tissue_subset/C12-MAA000801-3_11_M-1-1.sig\n",
      "download: s3://olgabot-maca/facs/sourmash_compute_tissue_subset/C13-MAA000801-3_11_M-1-1.sig to ../../../scratch/maca/facs/sourmash_compute_tissue_subset/C13-MAA000801-3_11_M-1-1.sig\n",
      "download: s3://olgabot-maca/facs/sourmash_compute_tissue_subset/C14-D041914-3_8_M-1-1.sig to ../../../scratch/maca/facs/sourmash_compute_tissue_subset/C14-D041914-3_8_M-1-1.sig\n",
      "download: s3://olgabot-maca/facs/sourmash_compute_tissue_subset/C13-B002771-3_39_F-1-1.sig to ../../../scratch/maca/facs/sourmash_compute_tissue_subset/C13-B002771-3_39_F-1-1.sig\n",
      "download: s3://olgabot-maca/facs/sourmash_compute_tissue_subset/C14-MAA000487-3_10_M-1-1.sig to ../../../scratch/maca/facs/sourmash_compute_tissue_subset/C14-MAA000487-3_10_M-1-1.sig\n",
      "download: s3://olgabot-maca/facs/sourmash_compute_tissue_subset/C14-MAA000776-3_10_M-1-1.sig to ../../../scratch/maca/facs/sourmash_compute_tissue_subset/C14-MAA000776-3_10_M-1-1.sig\n",
      "download: s3://olgabot-maca/facs/sourmash_compute_tissue_subset/C15-MAA000574-3_8_M-1-1.sig to ../../../scratch/maca/facs/sourmash_compute_tissue_subset/C15-MAA000574-3_8_M-1-1.sig\n",
      "download: s3://olgabot-maca/facs/sourmash_compute_tissue_subset/C15-MAA000577-3_8_M-1-1.sig to ../../../scratch/maca/facs/sourmash_compute_tissue_subset/C15-MAA000577-3_8_M-1-1.sig\n",
      "download: s3://olgabot-maca/facs/sourmash_compute_tissue_subset/C16-B000971-3_39_F-1-1.sig to ../../../scratch/maca/facs/sourmash_compute_tissue_subset/C16-B000971-3_39_F-1-1.sig\n",
      "download: s3://olgabot-maca/facs/sourmash_compute_tissue_subset/C16-B002771-3_39_F-1-1.sig to ../../../scratch/maca/facs/sourmash_compute_tissue_subset/C16-B002771-3_39_F-1-1.sig\n",
      "download: s3://olgabot-maca/facs/sourmash_compute_tissue_subset/C17-B002771-3_39_F-1-1.sig to ../../../scratch/maca/facs/sourmash_compute_tissue_subset/C17-B002771-3_39_F-1-1.sig\n",
      "download: s3://olgabot-maca/facs/sourmash_compute_tissue_subset/C16-MAA000752-3_10_M-1-1.sig to ../../../scratch/maca/facs/sourmash_compute_tissue_subset/C16-MAA000752-3_10_M-1-1.sig\n",
      "download: s3://olgabot-maca/facs/sourmash_compute_tissue_subset/C17-MAA000910-3_10_M-1-1.sig to ../../../scratch/maca/facs/sourmash_compute_tissue_subset/C17-MAA000910-3_10_M-1-1.sig\n",
      "download: s3://olgabot-maca/facs/sourmash_compute_tissue_subset/C18-MAA000377-3_9_M-1-1.sig to ../../../scratch/maca/facs/sourmash_compute_tissue_subset/C18-MAA000377-3_9_M-1-1.sig\n",
      "download: s3://olgabot-maca/facs/sourmash_compute_tissue_subset/C18-MAA000907-3_11_M-1-1.sig to ../../../scratch/maca/facs/sourmash_compute_tissue_subset/C18-MAA000907-3_11_M-1-1.sig\n",
      "download: s3://olgabot-maca/facs/sourmash_compute_tissue_subset/C19-MAA000487-3_10_M-1-1.sig to ../../../scratch/maca/facs/sourmash_compute_tissue_subset/C19-MAA000487-3_10_M-1-1.sig\n"
     ]
    },
    {
     "name": "stdout",
     "output_type": "stream",
     "text": [
      "download: s3://olgabot-maca/facs/sourmash_compute_tissue_subset/C19-MAA000776-3_10_M-1-1.sig to ../../../scratch/maca/facs/sourmash_compute_tissue_subset/C19-MAA000776-3_10_M-1-1.sig\n",
      "download: s3://olgabot-maca/facs/sourmash_compute_tissue_subset/C19-MAA000779-3_11_M-1-1.sig to ../../../scratch/maca/facs/sourmash_compute_tissue_subset/C19-MAA000779-3_11_M-1-1.sig\n",
      "download: s3://olgabot-maca/facs/sourmash_compute_tissue_subset/C2-D042253-3_9_M-1-1.sig to ../../../scratch/maca/facs/sourmash_compute_tissue_subset/C2-D042253-3_9_M-1-1.sig\n",
      "download: s3://olgabot-maca/facs/sourmash_compute_tissue_subset/C2-MAA000559-3_8_M-1-1.sig to ../../../scratch/maca/facs/sourmash_compute_tissue_subset/C2-MAA000559-3_8_M-1-1.sig\n",
      "download: s3://olgabot-maca/facs/sourmash_compute_tissue_subset/C2-MAA100140-3_57_F-1-1.sig to ../../../scratch/maca/facs/sourmash_compute_tissue_subset/C2-MAA100140-3_57_F-1-1.sig\n",
      "download: s3://olgabot-maca/facs/sourmash_compute_tissue_subset/C20-MAA000577-3_8_M-1-1.sig to ../../../scratch/maca/facs/sourmash_compute_tissue_subset/C20-MAA000577-3_8_M-1-1.sig\n",
      "download: s3://olgabot-maca/facs/sourmash_compute_tissue_subset/C20-B002775-3_39_F-1-1.sig to ../../../scratch/maca/facs/sourmash_compute_tissue_subset/C20-B002775-3_39_F-1-1.sig\n",
      "download: s3://olgabot-maca/facs/sourmash_compute_tissue_subset/C20-MAA000779-3_11_M-1-1.sig to ../../../scratch/maca/facs/sourmash_compute_tissue_subset/C20-MAA000779-3_11_M-1-1.sig\n",
      "download: s3://olgabot-maca/facs/sourmash_compute_tissue_subset/C20-MAA001861-3_39_F-1-1.sig to ../../../scratch/maca/facs/sourmash_compute_tissue_subset/C20-MAA001861-3_39_F-1-1.sig\n",
      "download: s3://olgabot-maca/facs/sourmash_compute_tissue_subset/C21-D041914-3_8_M-1-1.sig to ../../../scratch/maca/facs/sourmash_compute_tissue_subset/C21-D041914-3_8_M-1-1.sig\n",
      "download: s3://olgabot-maca/facs/sourmash_compute_tissue_subset/C21-MAA000577-3_8_M-1-1.sig to ../../../scratch/maca/facs/sourmash_compute_tissue_subset/C21-MAA000577-3_8_M-1-1.sig\n",
      "download: s3://olgabot-maca/facs/sourmash_compute_tissue_subset/C21-MAA000910-3_10_M-1-1.sig to ../../../scratch/maca/facs/sourmash_compute_tissue_subset/C21-MAA000910-3_10_M-1-1.sig\n",
      "download: s3://olgabot-maca/facs/sourmash_compute_tissue_subset/C22-MAA000907-3_11_M-1-1.sig to ../../../scratch/maca/facs/sourmash_compute_tissue_subset/C22-MAA000907-3_11_M-1-1.sig\n",
      "download: s3://olgabot-maca/facs/sourmash_compute_tissue_subset/C3-B000971-3_39_F-1-1.sig to ../../../scratch/maca/facs/sourmash_compute_tissue_subset/C3-B000971-3_39_F-1-1.sig\n",
      "download: s3://olgabot-maca/facs/sourmash_compute_tissue_subset/C3-D042253-3_9_M-1-1.sig to ../../../scratch/maca/facs/sourmash_compute_tissue_subset/C3-D042253-3_9_M-1-1.sig\n",
      "download: s3://olgabot-maca/facs/sourmash_compute_tissue_subset/C4-B002775-3_39_F-1-1.sig to ../../../scratch/maca/facs/sourmash_compute_tissue_subset/C4-B002775-3_39_F-1-1.sig\n",
      "download: s3://olgabot-maca/facs/sourmash_compute_tissue_subset/C4-MAA000907-3_11_M-1-1.sig to ../../../scratch/maca/facs/sourmash_compute_tissue_subset/C4-MAA000907-3_11_M-1-1.sig\n",
      "download: s3://olgabot-maca/facs/sourmash_compute_tissue_subset/C4-MAA000922-3_9_M-1-1.sig to ../../../scratch/maca/facs/sourmash_compute_tissue_subset/C4-MAA000922-3_9_M-1-1.sig\n",
      "download: s3://olgabot-maca/facs/sourmash_compute_tissue_subset/C4-MAA100040-3_11_M-1-1.sig to ../../../scratch/maca/facs/sourmash_compute_tissue_subset/C4-MAA100040-3_11_M-1-1.sig\n",
      "download: s3://olgabot-maca/facs/sourmash_compute_tissue_subset/C4-MAA100140-3_57_F-1-1.sig to ../../../scratch/maca/facs/sourmash_compute_tissue_subset/C4-MAA100140-3_57_F-1-1.sig\n",
      "download: s3://olgabot-maca/facs/sourmash_compute_tissue_subset/C5-B002764-3_38_F-1-1.sig to ../../../scratch/maca/facs/sourmash_compute_tissue_subset/C5-B002764-3_38_F-1-1.sig\n",
      "download: s3://olgabot-maca/facs/sourmash_compute_tissue_subset/C6-D041914-3_8_M-1-1.sig to ../../../scratch/maca/facs/sourmash_compute_tissue_subset/C6-D041914-3_8_M-1-1.sig\n",
      "download: s3://olgabot-maca/facs/sourmash_compute_tissue_subset/C6-D042253-3_9_M-1-1.sig to ../../../scratch/maca/facs/sourmash_compute_tissue_subset/C6-D042253-3_9_M-1-1.sig\n",
      "download: s3://olgabot-maca/facs/sourmash_compute_tissue_subset/C6-MAA000545-3_8_M-1-1.sig to ../../../scratch/maca/facs/sourmash_compute_tissue_subset/C6-MAA000545-3_8_M-1-1.sig\n",
      "download: s3://olgabot-maca/facs/sourmash_compute_tissue_subset/C6-MAA000884-3_10_M-1-1.sig to ../../../scratch/maca/facs/sourmash_compute_tissue_subset/C6-MAA000884-3_10_M-1-1.sig\n",
      "download: s3://olgabot-maca/facs/sourmash_compute_tissue_subset/C6-MAA100042-3_9_M-1-1.sig to ../../../scratch/maca/facs/sourmash_compute_tissue_subset/C6-MAA100042-3_9_M-1-1.sig\n",
      "download: s3://olgabot-maca/facs/sourmash_compute_tissue_subset/C7-B001717-3_38_F-1-1.sig to ../../../scratch/maca/facs/sourmash_compute_tissue_subset/C7-B001717-3_38_F-1-1.sig\n",
      "download: s3://olgabot-maca/facs/sourmash_compute_tissue_subset/C7-MAA001857-3_38_F-1-1.sig to ../../../scratch/maca/facs/sourmash_compute_tissue_subset/C7-MAA001857-3_38_F-1-1.sig\n",
      "download: s3://olgabot-maca/facs/sourmash_compute_tissue_subset/C7-MAA000577-3_8_M-1-1.sig to ../../../scratch/maca/facs/sourmash_compute_tissue_subset/C7-MAA000577-3_8_M-1-1.sig\n",
      "download: s3://olgabot-maca/facs/sourmash_compute_tissue_subset/C7-MAA100140-3_57_F-1-1.sig to ../../../scratch/maca/facs/sourmash_compute_tissue_subset/C7-MAA100140-3_57_F-1-1.sig\n",
      "download: s3://olgabot-maca/facs/sourmash_compute_tissue_subset/C8-MAA000910-3_10_M-1-1.sig to ../../../scratch/maca/facs/sourmash_compute_tissue_subset/C8-MAA000910-3_10_M-1-1.sig\n",
      "download: s3://olgabot-maca/facs/sourmash_compute_tissue_subset/C8-MAA001857-3_38_F-1-1.sig to ../../../scratch/maca/facs/sourmash_compute_tissue_subset/C8-MAA001857-3_38_F-1-1.sig\n",
      "download: s3://olgabot-maca/facs/sourmash_compute_tissue_subset/C9-MAA000779-3_11_M-1-1.sig to ../../../scratch/maca/facs/sourmash_compute_tissue_subset/C9-MAA000779-3_11_M-1-1.sig\n",
      "download: s3://olgabot-maca/facs/sourmash_compute_tissue_subset/C9-MAA000907-3_11_M-1-1.sig to ../../../scratch/maca/facs/sourmash_compute_tissue_subset/C9-MAA000907-3_11_M-1-1.sig\n",
      "download: s3://olgabot-maca/facs/sourmash_compute_tissue_subset/C9-MAA100042-3_9_M-1-1.sig to ../../../scratch/maca/facs/sourmash_compute_tissue_subset/C9-MAA100042-3_9_M-1-1.sig\n",
      "download: s3://olgabot-maca/facs/sourmash_compute_tissue_subset/D1-B000971-3_39_F-1-1.sig to ../../../scratch/maca/facs/sourmash_compute_tissue_subset/D1-B000971-3_39_F-1-1.sig\n",
      "download: s3://olgabot-maca/facs/sourmash_compute_tissue_subset/D1-B000610-3_56_F-1-1.sig to ../../../scratch/maca/facs/sourmash_compute_tissue_subset/D1-B000610-3_56_F-1-1.sig\n",
      "download: s3://olgabot-maca/facs/sourmash_compute_tissue_subset/D1-MAA000801-3_11_M-1-1.sig to ../../../scratch/maca/facs/sourmash_compute_tissue_subset/D1-MAA000801-3_11_M-1-1.sig\n",
      "download: s3://olgabot-maca/facs/sourmash_compute_tissue_subset/D1-MAA000545-3_8_M-1-1.sig to ../../../scratch/maca/facs/sourmash_compute_tissue_subset/D1-MAA000545-3_8_M-1-1.sig\n",
      "download: s3://olgabot-maca/facs/sourmash_compute_tissue_subset/D1-MAA001857-3_38_F-1-1.sig to ../../../scratch/maca/facs/sourmash_compute_tissue_subset/D1-MAA001857-3_38_F-1-1.sig\n",
      "download: s3://olgabot-maca/facs/sourmash_compute_tissue_subset/D1-MAA100140-3_57_F-1-1.sig to ../../../scratch/maca/facs/sourmash_compute_tissue_subset/D1-MAA100140-3_57_F-1-1.sig\n",
      "download: s3://olgabot-maca/facs/sourmash_compute_tissue_subset/D10-B001717-3_38_F-1-1.sig to ../../../scratch/maca/facs/sourmash_compute_tissue_subset/D10-B001717-3_38_F-1-1.sig\n",
      "download: s3://olgabot-maca/facs/sourmash_compute_tissue_subset/D10-MAA000884-3_10_M-1-1.sig to ../../../scratch/maca/facs/sourmash_compute_tissue_subset/D10-MAA000884-3_10_M-1-1.sig\n",
      "download: s3://olgabot-maca/facs/sourmash_compute_tissue_subset/D11-MAA001862-3_39_F-1-1.sig to ../../../scratch/maca/facs/sourmash_compute_tissue_subset/D11-MAA001862-3_39_F-1-1.sig\n",
      "download: s3://olgabot-maca/facs/sourmash_compute_tissue_subset/D11-MAA100140-3_57_F-1-1.sig to ../../../scratch/maca/facs/sourmash_compute_tissue_subset/D11-MAA100140-3_57_F-1-1.sig\n",
      "download: s3://olgabot-maca/facs/sourmash_compute_tissue_subset/D12-MAA100039-3_11_M-1-1.sig to ../../../scratch/maca/facs/sourmash_compute_tissue_subset/D12-MAA100039-3_11_M-1-1.sig\n"
     ]
    },
    {
     "name": "stdout",
     "output_type": "stream",
     "text": [
      "download: s3://olgabot-maca/facs/sourmash_compute_tissue_subset/D11-MAA100138-3_56_F-1-1.sig to ../../../scratch/maca/facs/sourmash_compute_tissue_subset/D11-MAA100138-3_56_F-1-1.sig\n",
      "download: s3://olgabot-maca/facs/sourmash_compute_tissue_subset/D12-MAA100042-3_9_M-1-1.sig to ../../../scratch/maca/facs/sourmash_compute_tissue_subset/D12-MAA100042-3_9_M-1-1.sig\n",
      "download: s3://olgabot-maca/facs/sourmash_compute_tissue_subset/D13-B000971-3_39_F-1-1.sig to ../../../scratch/maca/facs/sourmash_compute_tissue_subset/D13-B000971-3_39_F-1-1.sig\n",
      "download: s3://olgabot-maca/facs/sourmash_compute_tissue_subset/D13-B001717-3_38_F-1-1.sig to ../../../scratch/maca/facs/sourmash_compute_tissue_subset/D13-B001717-3_38_F-1-1.sig\n",
      "download: s3://olgabot-maca/facs/sourmash_compute_tissue_subset/D15-MAA000559-3_8_M-1-1.sig to ../../../scratch/maca/facs/sourmash_compute_tissue_subset/D15-MAA000559-3_8_M-1-1.sig\n",
      "download: s3://olgabot-maca/facs/sourmash_compute_tissue_subset/D16-B000610-3_56_F-1-1.sig to ../../../scratch/maca/facs/sourmash_compute_tissue_subset/D16-B000610-3_56_F-1-1.sig\n",
      "download: s3://olgabot-maca/facs/sourmash_compute_tissue_subset/D16-MAA000487-3_10_M-1-1.sig to ../../../scratch/maca/facs/sourmash_compute_tissue_subset/D16-MAA000487-3_10_M-1-1.sig\n",
      "download: s3://olgabot-maca/facs/sourmash_compute_tissue_subset/D15-B000610-3_56_F-1-1.sig to ../../../scratch/maca/facs/sourmash_compute_tissue_subset/D15-B000610-3_56_F-1-1.sig\n",
      "download: s3://olgabot-maca/facs/sourmash_compute_tissue_subset/D16-MAA000577-3_8_M-1-1.sig to ../../../scratch/maca/facs/sourmash_compute_tissue_subset/D16-MAA000577-3_8_M-1-1.sig\n",
      "download: s3://olgabot-maca/facs/sourmash_compute_tissue_subset/D17-B002771-3_39_F-1-1.sig to ../../../scratch/maca/facs/sourmash_compute_tissue_subset/D17-B002771-3_39_F-1-1.sig\n",
      "download: s3://olgabot-maca/facs/sourmash_compute_tissue_subset/D17-MAA000907-3_11_M-1-1.sig to ../../../scratch/maca/facs/sourmash_compute_tissue_subset/D17-MAA000907-3_11_M-1-1.sig\n",
      "download: s3://olgabot-maca/facs/sourmash_compute_tissue_subset/D17-MAA001861-3_39_F-1-1.sig to ../../../scratch/maca/facs/sourmash_compute_tissue_subset/D17-MAA001861-3_39_F-1-1.sig\n",
      "download: s3://olgabot-maca/facs/sourmash_compute_tissue_subset/D18-D041914-3_8_M-1-1.sig to ../../../scratch/maca/facs/sourmash_compute_tissue_subset/D18-D041914-3_8_M-1-1.sig\n",
      "download: s3://olgabot-maca/facs/sourmash_compute_tissue_subset/D18-MAA000487-3_10_M-1-1.sig to ../../../scratch/maca/facs/sourmash_compute_tissue_subset/D18-MAA000487-3_10_M-1-1.sig\n",
      "download: s3://olgabot-maca/facs/sourmash_compute_tissue_subset/D18-MAA000801-3_11_M-1-1.sig to ../../../scratch/maca/facs/sourmash_compute_tissue_subset/D18-MAA000801-3_11_M-1-1.sig\n",
      "download: s3://olgabot-maca/facs/sourmash_compute_tissue_subset/D18-MAA001862-3_39_F-1-1.sig to ../../../scratch/maca/facs/sourmash_compute_tissue_subset/D18-MAA001862-3_39_F-1-1.sig\n",
      "download: s3://olgabot-maca/facs/sourmash_compute_tissue_subset/D19-D042253-3_9_M-1-1.sig to ../../../scratch/maca/facs/sourmash_compute_tissue_subset/D19-D042253-3_9_M-1-1.sig\n",
      "download: s3://olgabot-maca/facs/sourmash_compute_tissue_subset/D2-B002771-3_39_F-1-1.sig to ../../../scratch/maca/facs/sourmash_compute_tissue_subset/D2-B002771-3_39_F-1-1.sig\n",
      "download: s3://olgabot-maca/facs/sourmash_compute_tissue_subset/D2-MAA000577-3_8_M-1-1.sig to ../../../scratch/maca/facs/sourmash_compute_tissue_subset/D2-MAA000577-3_8_M-1-1.sig\n",
      "download: s3://olgabot-maca/facs/sourmash_compute_tissue_subset/D2-MAA000801-3_11_M-1-1.sig to ../../../scratch/maca/facs/sourmash_compute_tissue_subset/D2-MAA000801-3_11_M-1-1.sig\n",
      "download: s3://olgabot-maca/facs/sourmash_compute_tissue_subset/D2-MAA000910-3_10_M-1-1.sig to ../../../scratch/maca/facs/sourmash_compute_tissue_subset/D2-MAA000910-3_10_M-1-1.sig\n",
      "download: s3://olgabot-maca/facs/sourmash_compute_tissue_subset/D2-MAA001862-3_39_F-1-1.sig to ../../../scratch/maca/facs/sourmash_compute_tissue_subset/D2-MAA001862-3_39_F-1-1.sig\n",
      "download: s3://olgabot-maca/facs/sourmash_compute_tissue_subset/D20-MAA001868-3_38_F-1-1.sig to ../../../scratch/maca/facs/sourmash_compute_tissue_subset/D20-MAA001868-3_38_F-1-1.sig\n",
      "download: s3://olgabot-maca/facs/sourmash_compute_tissue_subset/D21-B002764-3_38_F-1-1.sig to ../../../scratch/maca/facs/sourmash_compute_tissue_subset/D21-B002764-3_38_F-1-1.sig\n",
      "download: s3://olgabot-maca/facs/sourmash_compute_tissue_subset/D21-MAA000801-3_11_M-1-1.sig to ../../../scratch/maca/facs/sourmash_compute_tissue_subset/D21-MAA000801-3_11_M-1-1.sig\n",
      "download: s3://olgabot-maca/facs/sourmash_compute_tissue_subset/D21-MAA000907-3_11_M-1-1.sig to ../../../scratch/maca/facs/sourmash_compute_tissue_subset/D21-MAA000907-3_11_M-1-1.sig\n",
      "download: s3://olgabot-maca/facs/sourmash_compute_tissue_subset/D22-MAA000910-3_10_M-1-1.sig to ../../../scratch/maca/facs/sourmash_compute_tissue_subset/D22-MAA000910-3_10_M-1-1.sig\n",
      "download: s3://olgabot-maca/facs/sourmash_compute_tissue_subset/D22-MAA000776-3_10_M-1-1.sig to ../../../scratch/maca/facs/sourmash_compute_tissue_subset/D22-MAA000776-3_10_M-1-1.sig\n",
      "download: s3://olgabot-maca/facs/sourmash_compute_tissue_subset/D3-B002764-3_38_F-1-1.sig to ../../../scratch/maca/facs/sourmash_compute_tissue_subset/D3-B002764-3_38_F-1-1.sig\n",
      "download: s3://olgabot-maca/facs/sourmash_compute_tissue_subset/D3-MAA000487-3_10_M-1-1.sig to ../../../scratch/maca/facs/sourmash_compute_tissue_subset/D3-MAA000487-3_10_M-1-1.sig\n",
      "download: s3://olgabot-maca/facs/sourmash_compute_tissue_subset/D3-MAA000545-3_8_M-1-1.sig to ../../../scratch/maca/facs/sourmash_compute_tissue_subset/D3-MAA000545-3_8_M-1-1.sig\n",
      "download: s3://olgabot-maca/facs/sourmash_compute_tissue_subset/D3-MAA000776-3_10_M-1-1.sig to ../../../scratch/maca/facs/sourmash_compute_tissue_subset/D3-MAA000776-3_10_M-1-1.sig\n",
      "download: s3://olgabot-maca/facs/sourmash_compute_tissue_subset/D3-MAA100041-3_9_M-1-1.sig to ../../../scratch/maca/facs/sourmash_compute_tissue_subset/D3-MAA100041-3_9_M-1-1.sig\n",
      "download: s3://olgabot-maca/facs/sourmash_compute_tissue_subset/D3-MAA100138-3_56_F-1-1.sig to ../../../scratch/maca/facs/sourmash_compute_tissue_subset/D3-MAA100138-3_56_F-1-1.sig\n",
      "download: s3://olgabot-maca/facs/sourmash_compute_tissue_subset/D4-B000971-3_39_F-1-1.sig to ../../../scratch/maca/facs/sourmash_compute_tissue_subset/D4-B000971-3_39_F-1-1.sig\n",
      "download: s3://olgabot-maca/facs/sourmash_compute_tissue_subset/D4-B001750-3_38_F-1-1.sig to ../../../scratch/maca/facs/sourmash_compute_tissue_subset/D4-B001750-3_38_F-1-1.sig\n",
      "download: s3://olgabot-maca/facs/sourmash_compute_tissue_subset/D4-MAA001857-3_38_F-1-1.sig to ../../../scratch/maca/facs/sourmash_compute_tissue_subset/D4-MAA001857-3_38_F-1-1.sig\n",
      "download: s3://olgabot-maca/facs/sourmash_compute_tissue_subset/D4-MAA100040-3_11_M-1-1.sig to ../../../scratch/maca/facs/sourmash_compute_tissue_subset/D4-MAA100040-3_11_M-1-1.sig\n",
      "download: s3://olgabot-maca/facs/sourmash_compute_tissue_subset/D4-MAA100138-3_56_F-1-1.sig to ../../../scratch/maca/facs/sourmash_compute_tissue_subset/D4-MAA100138-3_56_F-1-1.sig\n",
      "download: s3://olgabot-maca/facs/sourmash_compute_tissue_subset/D5-D042253-3_9_M-1-1.sig to ../../../scratch/maca/facs/sourmash_compute_tissue_subset/D5-D042253-3_9_M-1-1.sig\n",
      "download: s3://olgabot-maca/facs/sourmash_compute_tissue_subset/D5-MAA000907-3_11_M-1-1.sig to ../../../scratch/maca/facs/sourmash_compute_tissue_subset/D5-MAA000907-3_11_M-1-1.sig\n",
      "download: s3://olgabot-maca/facs/sourmash_compute_tissue_subset/D5-MAA000801-3_11_M-1-1.sig to ../../../scratch/maca/facs/sourmash_compute_tissue_subset/D5-MAA000801-3_11_M-1-1.sig\n",
      "download: s3://olgabot-maca/facs/sourmash_compute_tissue_subset/D5-MAA100039-3_11_M-1-1.sig to ../../../scratch/maca/facs/sourmash_compute_tissue_subset/D5-MAA100039-3_11_M-1-1.sig\n",
      "download: s3://olgabot-maca/facs/sourmash_compute_tissue_subset/D5-MAA100138-3_56_F-1-1.sig to ../../../scratch/maca/facs/sourmash_compute_tissue_subset/D5-MAA100138-3_56_F-1-1.sig\n",
      "download: s3://olgabot-maca/facs/sourmash_compute_tissue_subset/D6-MAA000801-3_11_M-1-1.sig to ../../../scratch/maca/facs/sourmash_compute_tissue_subset/D6-MAA000801-3_11_M-1-1.sig\n",
      "download: s3://olgabot-maca/facs/sourmash_compute_tissue_subset/D6-MAA000907-3_11_M-1-1.sig to ../../../scratch/maca/facs/sourmash_compute_tissue_subset/D6-MAA000907-3_11_M-1-1.sig\n",
      "download: s3://olgabot-maca/facs/sourmash_compute_tissue_subset/D6-MAA100138-3_56_F-1-1.sig to ../../../scratch/maca/facs/sourmash_compute_tissue_subset/D6-MAA100138-3_56_F-1-1.sig\n",
      "download: s3://olgabot-maca/facs/sourmash_compute_tissue_subset/D6-MAA100140-3_57_F-1-1.sig to ../../../scratch/maca/facs/sourmash_compute_tissue_subset/D6-MAA100140-3_57_F-1-1.sig\n",
      "download: s3://olgabot-maca/facs/sourmash_compute_tissue_subset/D7-B001717-3_38_F-1-1.sig to ../../../scratch/maca/facs/sourmash_compute_tissue_subset/D7-B001717-3_38_F-1-1.sig\n",
      "download: s3://olgabot-maca/facs/sourmash_compute_tissue_subset/D7-MAA000776-3_10_M-1-1.sig to ../../../scratch/maca/facs/sourmash_compute_tissue_subset/D7-MAA000776-3_10_M-1-1.sig\n",
      "download: s3://olgabot-maca/facs/sourmash_compute_tissue_subset/D7-MAA000907-3_11_M-1-1.sig to ../../../scratch/maca/facs/sourmash_compute_tissue_subset/D7-MAA000907-3_11_M-1-1.sige(s) remaining (calculating...)\n",
      "download: s3://olgabot-maca/facs/sourmash_compute_tissue_subset/D7-MAA100039-3_11_M-1-1.sig to ../../../scratch/maca/facs/sourmash_compute_tissue_subset/D7-MAA100039-3_11_M-1-1.sig\n",
      "download: s3://olgabot-maca/facs/sourmash_compute_tissue_subset/D8-D042253-3_9_M-1-1.sig to ../../../scratch/maca/facs/sourmash_compute_tissue_subset/D8-D042253-3_9_M-1-1.sig\n",
      "download: s3://olgabot-maca/facs/sourmash_compute_tissue_subset/D8-MAA000545-3_8_M-1-1.sig to ../../../scratch/maca/facs/sourmash_compute_tissue_subset/D8-MAA000545-3_8_M-1-1.sig\n",
      "download: s3://olgabot-maca/facs/sourmash_compute_tissue_subset/D8-MAA000779-3_11_M-1-1.sig to ../../../scratch/maca/facs/sourmash_compute_tissue_subset/D8-MAA000779-3_11_M-1-1.sig\n",
      "download: s3://olgabot-maca/facs/sourmash_compute_tissue_subset/D8-MAA001857-3_38_F-1-1.sig to ../../../scratch/maca/facs/sourmash_compute_tissue_subset/D8-MAA001857-3_38_F-1-1.sig\n",
      "download: s3://olgabot-maca/facs/sourmash_compute_tissue_subset/D9-MAA000907-3_11_M-1-1.sig to ../../../scratch/maca/facs/sourmash_compute_tissue_subset/D9-MAA000907-3_11_M-1-1.sig\n",
      "download: s3://olgabot-maca/facs/sourmash_compute_tissue_subset/D8-MAA100039-3_11_M-1-1.sig to ../../../scratch/maca/facs/sourmash_compute_tissue_subset/D8-MAA100039-3_11_M-1-1.sig\n",
      "download: s3://olgabot-maca/facs/sourmash_compute_tissue_subset/E1-B001750-3_38_F-1-1.sig to ../../../scratch/maca/facs/sourmash_compute_tissue_subset/E1-B001750-3_38_F-1-1.sig\n",
      "download: s3://olgabot-maca/facs/sourmash_compute_tissue_subset/E1-MAA000545-3_8_M-1-1.sig to ../../../scratch/maca/facs/sourmash_compute_tissue_subset/E1-MAA000545-3_8_M-1-1.sig\n",
      "download: s3://olgabot-maca/facs/sourmash_compute_tissue_subset/E1-MAA000776-3_10_M-1-1.sig to ../../../scratch/maca/facs/sourmash_compute_tissue_subset/E1-MAA000776-3_10_M-1-1.sig\n",
      "download: s3://olgabot-maca/facs/sourmash_compute_tissue_subset/E1-MAA100042-3_9_M-1-1.sig to ../../../scratch/maca/facs/sourmash_compute_tissue_subset/E1-MAA100042-3_9_M-1-1.sig\n",
      "download: s3://olgabot-maca/facs/sourmash_compute_tissue_subset/E1-MAA000907-3_11_M-1-1.sig to ../../../scratch/maca/facs/sourmash_compute_tissue_subset/E1-MAA000907-3_11_M-1-1.sig\n",
      "download: s3://olgabot-maca/facs/sourmash_compute_tissue_subset/E10-B001717-3_38_F-1-1.sig to ../../../scratch/maca/facs/sourmash_compute_tissue_subset/E10-B001717-3_38_F-1-1.sig\n",
      "download: s3://olgabot-maca/facs/sourmash_compute_tissue_subset/E10-MAA000779-3_11_M-1-1.sig to ../../../scratch/maca/facs/sourmash_compute_tissue_subset/E10-MAA000779-3_11_M-1-1.sig\n",
      "download: s3://olgabot-maca/facs/sourmash_compute_tissue_subset/E10-MAA100039-3_11_M-1-1.sig to ../../../scratch/maca/facs/sourmash_compute_tissue_subset/E10-MAA100039-3_11_M-1-1.sig\n",
      "download: s3://olgabot-maca/facs/sourmash_compute_tissue_subset/E10-MAA100138-3_56_F-1-1.sig to ../../../scratch/maca/facs/sourmash_compute_tissue_subset/E10-MAA100138-3_56_F-1-1.sig\n",
      "download: s3://olgabot-maca/facs/sourmash_compute_tissue_subset/E11-B001750-3_38_F-1-1.sig to ../../../scratch/maca/facs/sourmash_compute_tissue_subset/E11-B001750-3_38_F-1-1.sig\n",
      "download: s3://olgabot-maca/facs/sourmash_compute_tissue_subset/E11-MAA000559-3_8_M-1-1.sig to ../../../scratch/maca/facs/sourmash_compute_tissue_subset/E11-MAA000559-3_8_M-1-1.sig\n",
      "download: s3://olgabot-maca/facs/sourmash_compute_tissue_subset/E13-B000971-3_39_F-1-1.sig to ../../../scratch/maca/facs/sourmash_compute_tissue_subset/E13-B000971-3_39_F-1-1.sig\n",
      "download: s3://olgabot-maca/facs/sourmash_compute_tissue_subset/E11-MAA100138-3_56_F-1-1.sig to ../../../scratch/maca/facs/sourmash_compute_tissue_subset/E11-MAA100138-3_56_F-1-1.sig\n",
      "download: s3://olgabot-maca/facs/sourmash_compute_tissue_subset/E11-MAA100140-3_57_F-1-1.sig to ../../../scratch/maca/facs/sourmash_compute_tissue_subset/E11-MAA100140-3_57_F-1-1.sig\n",
      "download: s3://olgabot-maca/facs/sourmash_compute_tissue_subset/E12-MAA001862-3_39_F-1-1.sig to ../../../scratch/maca/facs/sourmash_compute_tissue_subset/E12-MAA001862-3_39_F-1-1.sig\n",
      "download: s3://olgabot-maca/facs/sourmash_compute_tissue_subset/E12-MAA000559-3_8_M-1-1.sig to ../../../scratch/maca/facs/sourmash_compute_tissue_subset/E12-MAA000559-3_8_M-1-1.sig\n",
      "download: s3://olgabot-maca/facs/sourmash_compute_tissue_subset/E13-B001717-3_38_F-1-1.sig to ../../../scratch/maca/facs/sourmash_compute_tissue_subset/E13-B001717-3_38_F-1-1.sig\n",
      "download: s3://olgabot-maca/facs/sourmash_compute_tissue_subset/E15-MAA000907-3_11_M-1-1.sig to ../../../scratch/maca/facs/sourmash_compute_tissue_subset/E15-MAA000907-3_11_M-1-1.sig\n",
      "download: s3://olgabot-maca/facs/sourmash_compute_tissue_subset/E17-MAA001862-3_39_F-1-1.sig to ../../../scratch/maca/facs/sourmash_compute_tissue_subset/E17-MAA001862-3_39_F-1-1.sig\n",
      "download: s3://olgabot-maca/facs/sourmash_compute_tissue_subset/E16-MAA000907-3_11_M-1-1.sig to ../../../scratch/maca/facs/sourmash_compute_tissue_subset/E16-MAA000907-3_11_M-1-1.sig\n",
      "download: s3://olgabot-maca/facs/sourmash_compute_tissue_subset/E17-MAA000577-3_8_M-1-1.sig to ../../../scratch/maca/facs/sourmash_compute_tissue_subset/E17-MAA000577-3_8_M-1-1.sig\n",
      "download: s3://olgabot-maca/facs/sourmash_compute_tissue_subset/E18-B002764-3_38_F-1-1.sig to ../../../scratch/maca/facs/sourmash_compute_tissue_subset/E18-B002764-3_38_F-1-1.sig\n",
      "download: s3://olgabot-maca/facs/sourmash_compute_tissue_subset/E18-MAA000487-3_10_M-1-1.sig to ../../../scratch/maca/facs/sourmash_compute_tissue_subset/E18-MAA000487-3_10_M-1-1.sig\n",
      "download: s3://olgabot-maca/facs/sourmash_compute_tissue_subset/E2-MAA000559-3_8_M-1-1.sig to ../../../scratch/maca/facs/sourmash_compute_tissue_subset/E2-MAA000559-3_8_M-1-1.sig\n",
      "download: s3://olgabot-maca/facs/sourmash_compute_tissue_subset/E2-MAA100042-3_9_M-1-1.sig to ../../../scratch/maca/facs/sourmash_compute_tissue_subset/E2-MAA100042-3_9_M-1-1.sig\n",
      "download: s3://olgabot-maca/facs/sourmash_compute_tissue_subset/E20-MAA000776-3_10_M-1-1.sig to ../../../scratch/maca/facs/sourmash_compute_tissue_subset/E20-MAA000776-3_10_M-1-1.sig\n",
      "download: s3://olgabot-maca/facs/sourmash_compute_tissue_subset/E20-MAA000801-3_11_M-1-1.sig to ../../../scratch/maca/facs/sourmash_compute_tissue_subset/E20-MAA000801-3_11_M-1-1.sig\n",
      "download: s3://olgabot-maca/facs/sourmash_compute_tissue_subset/E21-B000971-3_39_F-1-1.sig to ../../../scratch/maca/facs/sourmash_compute_tissue_subset/E21-B000971-3_39_F-1-1.sig\n",
      "download: s3://olgabot-maca/facs/sourmash_compute_tissue_subset/E21-B002775-3_39_F-1-1.sig to ../../../scratch/maca/facs/sourmash_compute_tissue_subset/E21-B002775-3_39_F-1-1.sig\n",
      "download: s3://olgabot-maca/facs/sourmash_compute_tissue_subset/E21-D041914-3_8_M-1-1.sig to ../../../scratch/maca/facs/sourmash_compute_tissue_subset/E21-D041914-3_8_M-1-1.sig\n",
      "download: s3://olgabot-maca/facs/sourmash_compute_tissue_subset/E21-MAA000559-3_8_M-1-1.sig to ../../../scratch/maca/facs/sourmash_compute_tissue_subset/E21-MAA000559-3_8_M-1-1.sig\n",
      "download: s3://olgabot-maca/facs/sourmash_compute_tissue_subset/E21-MAA001862-3_39_F-1-1.sig to ../../../scratch/maca/facs/sourmash_compute_tissue_subset/E21-MAA001862-3_39_F-1-1.sig\n"
     ]
    },
    {
     "name": "stdout",
     "output_type": "stream",
     "text": [
      "download: s3://olgabot-maca/facs/sourmash_compute_tissue_subset/E21-MAA000577-3_8_M-1-1.sig to ../../../scratch/maca/facs/sourmash_compute_tissue_subset/E21-MAA000577-3_8_M-1-1.sig\n",
      "download: s3://olgabot-maca/facs/sourmash_compute_tissue_subset/E22-B000971-3_39_F-1-1.sig to ../../../scratch/maca/facs/sourmash_compute_tissue_subset/E22-B000971-3_39_F-1-1.sig\n",
      "download: s3://olgabot-maca/facs/sourmash_compute_tissue_subset/E22-MAA001868-3_38_F-1-1.sig to ../../../scratch/maca/facs/sourmash_compute_tissue_subset/E22-MAA001868-3_38_F-1-1.sig\n",
      "download: s3://olgabot-maca/facs/sourmash_compute_tissue_subset/E3-MAA100040-3_11_M-1-1.sig to ../../../scratch/maca/facs/sourmash_compute_tissue_subset/E3-MAA100040-3_11_M-1-1.sig\n",
      "download: s3://olgabot-maca/facs/sourmash_compute_tissue_subset/E3-MAA000487-3_10_M-1-1.sig to ../../../scratch/maca/facs/sourmash_compute_tissue_subset/E3-MAA000487-3_10_M-1-1.sig\n",
      "download: s3://olgabot-maca/facs/sourmash_compute_tissue_subset/E4-MAA000801-3_11_M-1-1.sig to ../../../scratch/maca/facs/sourmash_compute_tissue_subset/E4-MAA000801-3_11_M-1-1.sig\n",
      "Completed 51.5 GiB/~59.5 GiB (10.8 MiB/s) with ~55 file(s) remaining (calculating...)\r"
     ]
    },
    {
     "name": "stderr",
     "output_type": "stream",
     "text": [
      "IOPub message rate exceeded.\n",
      "The notebook server will temporarily stop sending output\n",
      "to the client in order to avoid crashing it.\n",
      "To change this limit, set the config variable\n",
      "`--NotebookApp.iopub_msg_rate_limit`.\n",
      "\n",
      "Current values:\n",
      "NotebookApp.iopub_msg_rate_limit=1000.0 (msgs/sec)\n",
      "NotebookApp.rate_limit_window=3.0 (secs)\n",
      "\n"
     ]
    },
    {
     "name": "stdout",
     "output_type": "stream",
     "text": [
      "download: s3://olgabot-maca/facs/sourmash_compute_tissue_subset/F14-D042253-3_9_M-1-1.sig to ../../../scratch/maca/facs/sourmash_compute_tissue_subset/F14-D042253-3_9_M-1-1.sig\n",
      "download: s3://olgabot-maca/facs/sourmash_compute_tissue_subset/F14-MAA001862-3_39_F-1-1.sig to ../../../scratch/maca/facs/sourmash_compute_tissue_subset/F14-MAA001862-3_39_F-1-1.sig\n",
      "download: s3://olgabot-maca/facs/sourmash_compute_tissue_subset/F15-D042253-3_9_M-1-1.sig to ../../../scratch/maca/facs/sourmash_compute_tissue_subset/F15-D042253-3_9_M-1-1.sig\n",
      "download: s3://olgabot-maca/facs/sourmash_compute_tissue_subset/F15-MAA000377-3_9_M-1-1.sig to ../../../scratch/maca/facs/sourmash_compute_tissue_subset/F15-MAA000377-3_9_M-1-1.sig\n",
      "download: s3://olgabot-maca/facs/sourmash_compute_tissue_subset/F15-MAA000487-3_10_M-1-1.sig to ../../../scratch/maca/facs/sourmash_compute_tissue_subset/F15-MAA000487-3_10_M-1-1.sig\n",
      "download: s3://olgabot-maca/facs/sourmash_compute_tissue_subset/F15-MAA000907-3_11_M-1-1.sig to ../../../scratch/maca/facs/sourmash_compute_tissue_subset/F15-MAA000907-3_11_M-1-1.sig\n",
      "download: s3://olgabot-maca/facs/sourmash_compute_tissue_subset/F16-MAA001862-3_39_F-1-1.sig to ../../../scratch/maca/facs/sourmash_compute_tissue_subset/F16-MAA001862-3_39_F-1-1.sig\n",
      "download: s3://olgabot-maca/facs/sourmash_compute_tissue_subset/F17-D041914-3_8_M-1-1.sig to ../../../scratch/maca/facs/sourmash_compute_tissue_subset/F17-D041914-3_8_M-1-1.sig\n",
      "download: s3://olgabot-maca/facs/sourmash_compute_tissue_subset/F17-MAA000377-3_9_M-1-1.sig to ../../../scratch/maca/facs/sourmash_compute_tissue_subset/F17-MAA000377-3_9_M-1-1.sig\n",
      "download: s3://olgabot-maca/facs/sourmash_compute_tissue_subset/F17-MAA000487-3_10_M-1-1.sig to ../../../scratch/maca/facs/sourmash_compute_tissue_subset/F17-MAA000487-3_10_M-1-1.sig\n",
      "download: s3://olgabot-maca/facs/sourmash_compute_tissue_subset/F17-MAA000884-3_10_M-1-1.sig to ../../../scratch/maca/facs/sourmash_compute_tissue_subset/F17-MAA000884-3_10_M-1-1.sig\n",
      "download: s3://olgabot-maca/facs/sourmash_compute_tissue_subset/F17-MAA001868-3_38_F-1-1.sig to ../../../scratch/maca/facs/sourmash_compute_tissue_subset/F17-MAA001868-3_38_F-1-1.sig\n",
      "Completed 58.4 GiB/~66.2 GiB (10.9 MiB/s) with ~55 file(s) remaining (calculating...)\r"
     ]
    },
    {
     "name": "stderr",
     "output_type": "stream",
     "text": [
      "IOPub message rate exceeded.\n",
      "The notebook server will temporarily stop sending output\n",
      "to the client in order to avoid crashing it.\n",
      "To change this limit, set the config variable\n",
      "`--NotebookApp.iopub_msg_rate_limit`.\n",
      "\n",
      "Current values:\n",
      "NotebookApp.iopub_msg_rate_limit=1000.0 (msgs/sec)\n",
      "NotebookApp.rate_limit_window=3.0 (secs)\n",
      "\n"
     ]
    },
    {
     "name": "stdout",
     "output_type": "stream",
     "text": [
      "download: s3://olgabot-maca/facs/sourmash_compute_tissue_subset/F3-MAA100042-3_9_M-1-1.sig to ../../../scratch/maca/facs/sourmash_compute_tissue_subset/F3-MAA100042-3_9_M-1-1.sig\n",
      "download: s3://olgabot-maca/facs/sourmash_compute_tissue_subset/F3-MAA100140-3_57_F-1-1.sig to ../../../scratch/maca/facs/sourmash_compute_tissue_subset/F3-MAA100140-3_57_F-1-1.sig\n",
      "download: s3://olgabot-maca/facs/sourmash_compute_tissue_subset/F4-B000971-3_39_F-1-1.sig to ../../../scratch/maca/facs/sourmash_compute_tissue_subset/F4-B000971-3_39_F-1-1.sig\n",
      "download: s3://olgabot-maca/facs/sourmash_compute_tissue_subset/F4-MAA000801-3_11_M-1-1.sig to ../../../scratch/maca/facs/sourmash_compute_tissue_subset/F4-MAA000801-3_11_M-1-1.sig\n",
      "download: s3://olgabot-maca/facs/sourmash_compute_tissue_subset/F4-MAA000884-3_10_M-1-1.sig to ../../../scratch/maca/facs/sourmash_compute_tissue_subset/F4-MAA000884-3_10_M-1-1.sig\n",
      "download: s3://olgabot-maca/facs/sourmash_compute_tissue_subset/F4-MAA100039-3_11_M-1-1.sig to ../../../scratch/maca/facs/sourmash_compute_tissue_subset/F4-MAA100039-3_11_M-1-1.sig\n",
      "download: s3://olgabot-maca/facs/sourmash_compute_tissue_subset/F4-MAA001862-3_39_F-1-1.sig to ../../../scratch/maca/facs/sourmash_compute_tissue_subset/F4-MAA001862-3_39_F-1-1.sig\n",
      "download: s3://olgabot-maca/facs/sourmash_compute_tissue_subset/F4-MAA100042-3_9_M-1-1.sig to ../../../scratch/maca/facs/sourmash_compute_tissue_subset/F4-MAA100042-3_9_M-1-1.sig\n",
      "download: s3://olgabot-maca/facs/sourmash_compute_tissue_subset/F5-MAA100040-3_11_M-1-1.sig to ../../../scratch/maca/facs/sourmash_compute_tissue_subset/F5-MAA100040-3_11_M-1-1.sig\n",
      "download: s3://olgabot-maca/facs/sourmash_compute_tissue_subset/F5-MAA100039-3_11_M-1-1.sig to ../../../scratch/maca/facs/sourmash_compute_tissue_subset/F5-MAA100039-3_11_M-1-1.sig\n",
      "download: s3://olgabot-maca/facs/sourmash_compute_tissue_subset/F6-MAA000776-3_10_M-1-1.sig to ../../../scratch/maca/facs/sourmash_compute_tissue_subset/F6-MAA000776-3_10_M-1-1.sig\n",
      "download: s3://olgabot-maca/facs/sourmash_compute_tissue_subset/F6-MAA000884-3_10_M-1-1.sig to ../../../scratch/maca/facs/sourmash_compute_tissue_subset/F6-MAA000884-3_10_M-1-1.sig\n",
      "download: s3://olgabot-maca/facs/sourmash_compute_tissue_subset/F6-B000971-3_39_F-1-1.sig to ../../../scratch/maca/facs/sourmash_compute_tissue_subset/F6-B000971-3_39_F-1-1.sig\n",
      "Completed 63.9 GiB/~71.7 GiB (10.9 MiB/s) with ~54 file(s) remaining (calculating...)\r"
     ]
    },
    {
     "name": "stderr",
     "output_type": "stream",
     "text": [
      "IOPub message rate exceeded.\n",
      "The notebook server will temporarily stop sending output\n",
      "to the client in order to avoid crashing it.\n",
      "To change this limit, set the config variable\n",
      "`--NotebookApp.iopub_msg_rate_limit`.\n",
      "\n",
      "Current values:\n",
      "NotebookApp.iopub_msg_rate_limit=1000.0 (msgs/sec)\n",
      "NotebookApp.rate_limit_window=3.0 (secs)\n",
      "\n"
     ]
    },
    {
     "name": "stdout",
     "output_type": "stream",
     "text": [
      "download: s3://olgabot-maca/facs/sourmash_compute_tissue_subset/G14-B000610-3_56_F-1-1.sig to ../../../scratch/maca/facs/sourmash_compute_tissue_subset/G14-B000610-3_56_F-1-1.sig\n",
      "download: s3://olgabot-maca/facs/sourmash_compute_tissue_subset/G14-MAA000884-3_10_M-1-1.sig to ../../../scratch/maca/facs/sourmash_compute_tissue_subset/G14-MAA000884-3_10_M-1-1.sig\n",
      "download: s3://olgabot-maca/facs/sourmash_compute_tissue_subset/G14-MAA001857-3_38_F-1-1.sig to ../../../scratch/maca/facs/sourmash_compute_tissue_subset/G14-MAA001857-3_38_F-1-1.sig\n",
      "download: s3://olgabot-maca/facs/sourmash_compute_tissue_subset/G15-B000971-3_39_F-1-1.sig to ../../../scratch/maca/facs/sourmash_compute_tissue_subset/G15-B000971-3_39_F-1-1.sig\n",
      "download: s3://olgabot-maca/facs/sourmash_compute_tissue_subset/G15-B001717-3_38_F-1-1.sig to ../../../scratch/maca/facs/sourmash_compute_tissue_subset/G15-B001717-3_38_F-1-1.sig\n",
      "download: s3://olgabot-maca/facs/sourmash_compute_tissue_subset/G15-D042253-3_9_M-1-1.sig to ../../../scratch/maca/facs/sourmash_compute_tissue_subset/G15-D042253-3_9_M-1-1.sig\n",
      "download: s3://olgabot-maca/facs/sourmash_compute_tissue_subset/G15-MAA000487-3_10_M-1-1.sig to ../../../scratch/maca/facs/sourmash_compute_tissue_subset/G15-MAA000487-3_10_M-1-1.sig\n",
      "download: s3://olgabot-maca/facs/sourmash_compute_tissue_subset/G15-MAA000577-3_8_M-1-1.sig to ../../../scratch/maca/facs/sourmash_compute_tissue_subset/G15-MAA000577-3_8_M-1-1.sig\n",
      "download: s3://olgabot-maca/facs/sourmash_compute_tissue_subset/G16-MAA000884-3_10_M-1-1.sig to ../../../scratch/maca/facs/sourmash_compute_tissue_subset/G16-MAA000884-3_10_M-1-1.sig\n",
      "download: s3://olgabot-maca/facs/sourmash_compute_tissue_subset/G16-MAA000907-3_11_M-1-1.sig to ../../../scratch/maca/facs/sourmash_compute_tissue_subset/G16-MAA000907-3_11_M-1-1.sig\n",
      "Completed 69.0 GiB/~77.1 GiB (10.6 MiB/s) with ~56 file(s) remaining (calculating...)\r"
     ]
    },
    {
     "name": "stderr",
     "output_type": "stream",
     "text": [
      "IOPub message rate exceeded.\n",
      "The notebook server will temporarily stop sending output\n",
      "to the client in order to avoid crashing it.\n",
      "To change this limit, set the config variable\n",
      "`--NotebookApp.iopub_msg_rate_limit`.\n",
      "\n",
      "Current values:\n",
      "NotebookApp.iopub_msg_rate_limit=1000.0 (msgs/sec)\n",
      "NotebookApp.rate_limit_window=3.0 (secs)\n",
      "\n"
     ]
    },
    {
     "name": "stdout",
     "output_type": "stream",
     "text": [
      "download: s3://olgabot-maca/facs/sourmash_compute_tissue_subset/G7-B000971-3_39_F-1-1.sig to ../../../scratch/maca/facs/sourmash_compute_tissue_subset/G7-B000971-3_39_F-1-1.sig\n",
      "download: s3://olgabot-maca/facs/sourmash_compute_tissue_subset/G7-B002775-3_39_F-1-1.sig to ../../../scratch/maca/facs/sourmash_compute_tissue_subset/G7-B002775-3_39_F-1-1.sig\n",
      "download: s3://olgabot-maca/facs/sourmash_compute_tissue_subset/G7-MAA000574-3_8_M-1-1.sig to ../../../scratch/maca/facs/sourmash_compute_tissue_subset/G7-MAA000574-3_8_M-1-1.sig\n",
      "download: s3://olgabot-maca/facs/sourmash_compute_tissue_subset/G7-MAA000884-3_10_M-1-1.sig to ../../../scratch/maca/facs/sourmash_compute_tissue_subset/G7-MAA000884-3_10_M-1-1.sig\n",
      "download: s3://olgabot-maca/facs/sourmash_compute_tissue_subset/G7-MAA100042-3_9_M-1-1.sig to ../../../scratch/maca/facs/sourmash_compute_tissue_subset/G7-MAA100042-3_9_M-1-1.sig\n",
      "download: s3://olgabot-maca/facs/sourmash_compute_tissue_subset/G9-B002775-3_39_F-1-1.sig to ../../../scratch/maca/facs/sourmash_compute_tissue_subset/G9-B002775-3_39_F-1-1.sig\n",
      "download: s3://olgabot-maca/facs/sourmash_compute_tissue_subset/G9-D041914-3_8_M-1-1.sig to ../../../scratch/maca/facs/sourmash_compute_tissue_subset/G9-D041914-3_8_M-1-1.sig\n",
      "download: s3://olgabot-maca/facs/sourmash_compute_tissue_subset/G9-MAA000487-3_10_M-1-1.sig to ../../../scratch/maca/facs/sourmash_compute_tissue_subset/G9-MAA000487-3_10_M-1-1.sig\n",
      "download: s3://olgabot-maca/facs/sourmash_compute_tissue_subset/G9-MAA100039-3_11_M-1-1.sig to ../../../scratch/maca/facs/sourmash_compute_tissue_subset/G9-MAA100039-3_11_M-1-1.sig\n",
      "download: s3://olgabot-maca/facs/sourmash_compute_tissue_subset/H1-B001717-3_38_F-1-1.sig to ../../../scratch/maca/facs/sourmash_compute_tissue_subset/H1-B001717-3_38_F-1-1.sig\n",
      "download: s3://olgabot-maca/facs/sourmash_compute_tissue_subset/H1-MAA000776-3_10_M-1-1.sig to ../../../scratch/maca/facs/sourmash_compute_tissue_subset/H1-MAA000776-3_10_M-1-1.sig\n",
      "download: s3://olgabot-maca/facs/sourmash_compute_tissue_subset/H1-MAA000801-3_11_M-1-1.sig to ../../../scratch/maca/facs/sourmash_compute_tissue_subset/H1-MAA000801-3_11_M-1-1.sig\n",
      "download: s3://olgabot-maca/facs/sourmash_compute_tissue_subset/H1-MAA100140-3_57_F-1-1.sig to ../../../scratch/maca/facs/sourmash_compute_tissue_subset/H1-MAA100140-3_57_F-1-1.sig\n",
      "Completed 74.8 GiB/~82.8 GiB (10.6 MiB/s) with ~54 file(s) remaining (calculating...)\r"
     ]
    },
    {
     "name": "stderr",
     "output_type": "stream",
     "text": [
      "IOPub message rate exceeded.\n",
      "The notebook server will temporarily stop sending output\n",
      "to the client in order to avoid crashing it.\n",
      "To change this limit, set the config variable\n",
      "`--NotebookApp.iopub_msg_rate_limit`.\n",
      "\n",
      "Current values:\n",
      "NotebookApp.iopub_msg_rate_limit=1000.0 (msgs/sec)\n",
      "NotebookApp.rate_limit_window=3.0 (secs)\n",
      "\n"
     ]
    },
    {
     "name": "stdout",
     "output_type": "stream",
     "text": [
      "download: s3://olgabot-maca/facs/sourmash_compute_tissue_subset/H3-MAA100138-3_56_F-1-1.sig to ../../../scratch/maca/facs/sourmash_compute_tissue_subset/H3-MAA100138-3_56_F-1-1.sig\n",
      "download: s3://olgabot-maca/facs/sourmash_compute_tissue_subset/H4-B002771-3_39_F-1-1.sig to ../../../scratch/maca/facs/sourmash_compute_tissue_subset/H4-B002771-3_39_F-1-1.sig\n",
      "download: s3://olgabot-maca/facs/sourmash_compute_tissue_subset/H4-MAA000801-3_11_M-1-1.sig to ../../../scratch/maca/facs/sourmash_compute_tissue_subset/H4-MAA000801-3_11_M-1-1.sig\n",
      "download: s3://olgabot-maca/facs/sourmash_compute_tissue_subset/H4-MAA001862-3_39_F-1-1.sig to ../../../scratch/maca/facs/sourmash_compute_tissue_subset/H4-MAA001862-3_39_F-1-1.sig\n",
      "download: s3://olgabot-maca/facs/sourmash_compute_tissue_subset/H5-D042253-3_9_M-1-1.sig to ../../../scratch/maca/facs/sourmash_compute_tissue_subset/H5-D042253-3_9_M-1-1.sig\n",
      "download: s3://olgabot-maca/facs/sourmash_compute_tissue_subset/H5-MAA000487-3_10_M-1-1.sig to ../../../scratch/maca/facs/sourmash_compute_tissue_subset/H5-MAA000487-3_10_M-1-1.sig\n",
      "download: s3://olgabot-maca/facs/sourmash_compute_tissue_subset/H4-MAA100140-3_57_F-1-1.sig to ../../../scratch/maca/facs/sourmash_compute_tissue_subset/H4-MAA100140-3_57_F-1-1.sig\n",
      "download: s3://olgabot-maca/facs/sourmash_compute_tissue_subset/H5-MAA100138-3_56_F-1-1.sig to ../../../scratch/maca/facs/sourmash_compute_tissue_subset/H5-MAA100138-3_56_F-1-1.sig\n",
      "download: s3://olgabot-maca/facs/sourmash_compute_tissue_subset/H6-B000971-3_39_F-1-1.sig to ../../../scratch/maca/facs/sourmash_compute_tissue_subset/H6-B000971-3_39_F-1-1.sig\n",
      "download: s3://olgabot-maca/facs/sourmash_compute_tissue_subset/H6-MAA000801-3_11_M-1-1.sig to ../../../scratch/maca/facs/sourmash_compute_tissue_subset/H6-MAA000801-3_11_M-1-1.sig\n",
      "download: s3://olgabot-maca/facs/sourmash_compute_tissue_subset/H5-MAA000907-3_11_M-1-1.sig to ../../../scratch/maca/facs/sourmash_compute_tissue_subset/H5-MAA000907-3_11_M-1-1.sig\n",
      "download: s3://olgabot-maca/facs/sourmash_compute_tissue_subset/H6-MAA000907-3_11_M-1-1.sig to ../../../scratch/maca/facs/sourmash_compute_tissue_subset/H6-MAA000907-3_11_M-1-1.sig\n",
      "Completed 81.8 GiB/~89.7 GiB (10.8 MiB/s) with ~55 file(s) remaining (calculating...)\r"
     ]
    },
    {
     "name": "stderr",
     "output_type": "stream",
     "text": [
      "IOPub message rate exceeded.\n",
      "The notebook server will temporarily stop sending output\n",
      "to the client in order to avoid crashing it.\n",
      "To change this limit, set the config variable\n",
      "`--NotebookApp.iopub_msg_rate_limit`.\n",
      "\n",
      "Current values:\n",
      "NotebookApp.iopub_msg_rate_limit=1000.0 (msgs/sec)\n",
      "NotebookApp.rate_limit_window=3.0 (secs)\n",
      "\n"
     ]
    },
    {
     "name": "stdout",
     "output_type": "stream",
     "text": [
      "download: s3://olgabot-maca/facs/sourmash_compute_tissue_subset/I15-D042253-3_9_M-1-1.sig to ../../../scratch/maca/facs/sourmash_compute_tissue_subset/I15-D042253-3_9_M-1-1.sig\n",
      "download: s3://olgabot-maca/facs/sourmash_compute_tissue_subset/I15-MAA000487-3_10_M-1-1.sig to ../../../scratch/maca/facs/sourmash_compute_tissue_subset/I15-MAA000487-3_10_M-1-1.sig\n",
      "download: s3://olgabot-maca/facs/sourmash_compute_tissue_subset/I15-MAA000752-3_10_M-1-1.sig to ../../../scratch/maca/facs/sourmash_compute_tissue_subset/I15-MAA000752-3_10_M-1-1.sig\n",
      "download: s3://olgabot-maca/facs/sourmash_compute_tissue_subset/I16-B000971-3_39_F-1-1.sig to ../../../scratch/maca/facs/sourmash_compute_tissue_subset/I16-B000971-3_39_F-1-1.sig\n",
      "download: s3://olgabot-maca/facs/sourmash_compute_tissue_subset/I16-D042253-3_9_M-1-1.sig to ../../../scratch/maca/facs/sourmash_compute_tissue_subset/I16-D042253-3_9_M-1-1.sig\n",
      "download: s3://olgabot-maca/facs/sourmash_compute_tissue_subset/I17-B001717-3_38_F-1-1.sig to ../../../scratch/maca/facs/sourmash_compute_tissue_subset/I17-B001717-3_38_F-1-1.sig\n",
      "download: s3://olgabot-maca/facs/sourmash_compute_tissue_subset/I17-MAA000559-3_8_M-1-1.sig to ../../../scratch/maca/facs/sourmash_compute_tissue_subset/I17-MAA000559-3_8_M-1-1.sig\n",
      "download: s3://olgabot-maca/facs/sourmash_compute_tissue_subset/I17-MAA000574-3_8_M-1-1.sig to ../../../scratch/maca/facs/sourmash_compute_tissue_subset/I17-MAA000574-3_8_M-1-1.sig\n",
      "download: s3://olgabot-maca/facs/sourmash_compute_tissue_subset/I17-MAA000752-3_10_M-1-1.sig to ../../../scratch/maca/facs/sourmash_compute_tissue_subset/I17-MAA000752-3_10_M-1-1.sig\n",
      "download: s3://olgabot-maca/facs/sourmash_compute_tissue_subset/I17-MAA001857-3_38_F-1-1.sig to ../../../scratch/maca/facs/sourmash_compute_tissue_subset/I17-MAA001857-3_38_F-1-1.sig\n",
      "download: s3://olgabot-maca/facs/sourmash_compute_tissue_subset/I18-MAA001862-3_39_F-1-1.sig to ../../../scratch/maca/facs/sourmash_compute_tissue_subset/I18-MAA001862-3_39_F-1-1.sig\n",
      "download: s3://olgabot-maca/facs/sourmash_compute_tissue_subset/I19-MAA000779-3_11_M-1-1.sig to ../../../scratch/maca/facs/sourmash_compute_tissue_subset/I19-MAA000779-3_11_M-1-1.sig\n",
      "Completed 87.1 GiB/~95.2 GiB (10.7 MiB/s) with ~54 file(s) remaining (calculating...)\r"
     ]
    },
    {
     "name": "stderr",
     "output_type": "stream",
     "text": [
      "IOPub message rate exceeded.\n",
      "The notebook server will temporarily stop sending output\n",
      "to the client in order to avoid crashing it.\n",
      "To change this limit, set the config variable\n",
      "`--NotebookApp.iopub_msg_rate_limit`.\n",
      "\n",
      "Current values:\n",
      "NotebookApp.iopub_msg_rate_limit=1000.0 (msgs/sec)\n",
      "NotebookApp.rate_limit_window=3.0 (secs)\n",
      "\n"
     ]
    },
    {
     "name": "stdout",
     "output_type": "stream",
     "text": [
      "download: s3://olgabot-maca/facs/sourmash_compute_tissue_subset/J1-B000971-3_39_F-1-1.sig to ../../../scratch/maca/facs/sourmash_compute_tissue_subset/J1-B000971-3_39_F-1-1.sig\n",
      "download: s3://olgabot-maca/facs/sourmash_compute_tissue_subset/J11-MAA000487-3_10_M-1-1.sig to ../../../scratch/maca/facs/sourmash_compute_tissue_subset/J11-MAA000487-3_10_M-1-1.sig\n",
      "download: s3://olgabot-maca/facs/sourmash_compute_tissue_subset/J11-B000971-3_39_F-1-1.sig to ../../../scratch/maca/facs/sourmash_compute_tissue_subset/J11-B000971-3_39_F-1-1.sig\n",
      "download: s3://olgabot-maca/facs/sourmash_compute_tissue_subset/J11-B002764-3_38_F-1-1.sig to ../../../scratch/maca/facs/sourmash_compute_tissue_subset/J11-B002764-3_38_F-1-1.sig\n",
      "download: s3://olgabot-maca/facs/sourmash_compute_tissue_subset/J12-B001717-3_38_F-1-1.sig to ../../../scratch/maca/facs/sourmash_compute_tissue_subset/J12-B001717-3_38_F-1-1.sig\n",
      "download: s3://olgabot-maca/facs/sourmash_compute_tissue_subset/J12-B001750-3_38_F-1-1.sig to ../../../scratch/maca/facs/sourmash_compute_tissue_subset/J12-B001750-3_38_F-1-1.sig\n",
      "download: s3://olgabot-maca/facs/sourmash_compute_tissue_subset/J12-B002764-3_38_F-1-1.sig to ../../../scratch/maca/facs/sourmash_compute_tissue_subset/J12-B002764-3_38_F-1-1.sig\n",
      "download: s3://olgabot-maca/facs/sourmash_compute_tissue_subset/J13-MAA000801-3_11_M-1-1.sig to ../../../scratch/maca/facs/sourmash_compute_tissue_subset/J13-MAA000801-3_11_M-1-1.sig\n",
      "download: s3://olgabot-maca/facs/sourmash_compute_tissue_subset/J14-MAA000487-3_10_M-1-1.sig to ../../../scratch/maca/facs/sourmash_compute_tissue_subset/J14-MAA000487-3_10_M-1-1.sig\n",
      "download: s3://olgabot-maca/facs/sourmash_compute_tissue_subset/J14-MAA000907-3_11_M-1-1.sig to ../../../scratch/maca/facs/sourmash_compute_tissue_subset/J14-MAA000907-3_11_M-1-1.sig\n",
      "download: s3://olgabot-maca/facs/sourmash_compute_tissue_subset/J15-MAA000779-3_11_M-1-1.sig to ../../../scratch/maca/facs/sourmash_compute_tissue_subset/J15-MAA000779-3_11_M-1-1.sig\n",
      "download: s3://olgabot-maca/facs/sourmash_compute_tissue_subset/J15-MAA000907-3_11_M-1-1.sig to ../../../scratch/maca/facs/sourmash_compute_tissue_subset/J15-MAA000907-3_11_M-1-1.sig\n",
      "download: s3://olgabot-maca/facs/sourmash_compute_tissue_subset/J16-B000610-3_56_F-1-1.sig to ../../../scratch/maca/facs/sourmash_compute_tissue_subset/J16-B000610-3_56_F-1-1.sig\n",
      "Completed 93.0 GiB/~100.9 GiB (10.6 MiB/s) with ~54 file(s) remaining (calculating...)\r"
     ]
    },
    {
     "name": "stderr",
     "output_type": "stream",
     "text": [
      "IOPub message rate exceeded.\n",
      "The notebook server will temporarily stop sending output\n",
      "to the client in order to avoid crashing it.\n",
      "To change this limit, set the config variable\n",
      "`--NotebookApp.iopub_msg_rate_limit`.\n",
      "\n",
      "Current values:\n",
      "NotebookApp.iopub_msg_rate_limit=1000.0 (msgs/sec)\n",
      "NotebookApp.rate_limit_window=3.0 (secs)\n",
      "\n"
     ]
    }
   ],
   "source": [
    "! aws s3 sync $output_prefix /home/olga/scratch-pure/maca/facs/sourmash_compute_tissue_subset/"
   ]
  },
  {
   "cell_type": "code",
   "execution_count": null,
   "metadata": {},
   "outputs": [],
   "source": [
    "folder = '/home/olga/scratch-pure/maca/facs/sourmash_compute_tissue_subset/'\n",
    "\n",
    "filenames = glob.glob(f'{folder}/*.sig')\n",
    "downloaded_cells = [os.path.basename(f).split('.')[0] for f in filenames]\n",
    "print(len(downloaded_cells))\n",
    "downloaded_cells[:5]"
   ]
  },
  {
   "cell_type": "code",
   "execution_count": null,
   "metadata": {},
   "outputs": [],
   "source": [
    "annotations_signatures = annotations.query('cell in @downloaded_cells')\n",
    "annotations_signatures.head()"
   ]
  },
  {
   "cell_type": "code",
   "execution_count": null,
   "metadata": {},
   "outputs": [],
   "source": [
    "sizes = annotations_signatures.groupby(['tissue', 'cell_ontology_class']).size()\n",
    "sizes"
   ]
  },
  {
   "cell_type": "code",
   "execution_count": null,
   "metadata": {},
   "outputs": [],
   "source": [
    "100 * sizes/200"
   ]
  },
  {
   "cell_type": "code",
   "execution_count": null,
   "metadata": {},
   "outputs": [],
   "source": [
    "most_common_classes = sizes.groupby(level=0).nlargest(1)\n",
    "most_common_classes"
   ]
  },
  {
   "cell_type": "code",
   "execution_count": null,
   "metadata": {},
   "outputs": [],
   "source": [
    "most_common_classes.index.levels[-1]"
   ]
  },
  {
   "cell_type": "code",
   "execution_count": null,
   "metadata": {},
   "outputs": [],
   "source": [
    "annotations_signatures_class_subset = annotations_signatures.query('cell_ontology_class in @most_common_classes.index.levels[-1]')\n",
    "print(annotations_signatures_class_subset.shape)\n",
    "annotations_signatures_class_subset.head()"
   ]
  },
  {
   "cell_type": "code",
   "execution_count": null,
   "metadata": {},
   "outputs": [],
   "source": [
    "annotations_signatures.cell_ontology_class.mode()[0]"
   ]
  },
  {
   "cell_type": "code",
   "execution_count": null,
   "metadata": {},
   "outputs": [],
   "source": [
    "annotations_signatures.sample()"
   ]
  },
  {
   "cell_type": "code",
   "execution_count": null,
   "metadata": {},
   "outputs": [],
   "source": [
    "n = 10\n",
    "\n",
    "def filter_by_top_classes(df, n, col='cell_ontology_class'):\n",
    "    most_common_class = df[col].mode()[0]\n",
    "    df = df.query(f'{col} == @most_common_class')\n",
    "    return df.sample(n, random_state=0)\n",
    "    \n",
    "\n",
    "annotations_random_subset = annotations_signatures.groupby('tissue').apply(filter_by_top_classes, n=n)\n",
    "print(annotations_random_subset.shape)\n",
    "annotations_random_subset.head()"
   ]
  },
  {
   "cell_type": "code",
   "execution_count": null,
   "metadata": {},
   "outputs": [],
   "source": [
    "annotations_random_subset.groupby(['tissue', 'cell_ontology_class']).size()"
   ]
  },
  {
   "cell_type": "markdown",
   "metadata": {},
   "source": [
    "## Read signatures"
   ]
  },
  {
   "cell_type": "code",
   "execution_count": null,
   "metadata": {},
   "outputs": [],
   "source": [
    "range(3)"
   ]
  },
  {
   "cell_type": "code",
   "execution_count": null,
   "metadata": {},
   "outputs": [],
   "source": [
    "\n",
    "folder = '/home/olga/scratch/maca/facs/sourmash_compute_tissue_subset/'\n",
    "\n",
    "filenames = folder + annotations_random_subset['cell'] + '.sig'\n",
    "print(f'len(filenames): {len(filenames)}')\n",
    "\n",
    "siglist_subset = []\n",
    "\n",
    "for filename in tqdm(filenames):\n",
    "    loaded = sig.load_signatures(filename)\n",
    "    siglist_subset.extend(loaded)"
   ]
  },
  {
   "cell_type": "code",
   "execution_count": null,
   "metadata": {},
   "outputs": [],
   "source": [
    "len(siglist_subset)"
   ]
  },
  {
   "cell_type": "code",
   "execution_count": null,
   "metadata": {},
   "outputs": [],
   "source": [
    "siglist_subset[:5]"
   ]
  },
  {
   "cell_type": "code",
   "execution_count": null,
   "metadata": {},
   "outputs": [],
   "source": [
    "%%time\n",
    "\n",
    "import pickle\n",
    "\n",
    "pickle_filename = f'{folder}/siglist_subset_npergroup{n}.pickle'\n",
    "\n",
    "with open(pickle_filename, 'wb') as f:\n",
    "    pickle.dump(siglist_subset, f)"
   ]
  },
  {
   "cell_type": "code",
   "execution_count": null,
   "metadata": {},
   "outputs": [],
   "source": [
    "! ls -lha $folder/*pickle"
   ]
  },
  {
   "cell_type": "code",
   "execution_count": 4,
   "metadata": {},
   "outputs": [
    {
     "data": {
      "text/plain": [
       "range(0, 3)"
      ]
     },
     "execution_count": 4,
     "metadata": {},
     "output_type": "execute_result"
    }
   ],
   "source": [
    "range(3)"
   ]
  },
  {
   "cell_type": "code",
   "execution_count": null,
   "metadata": {},
   "outputs": [
    {
     "name": "stderr",
     "output_type": "stream",
     "text": [
<<<<<<< HEAD
      " 32%|███▏      | 319/1000 [23:44:45<49:17:50, 260.60s/it]"
=======
      "\n",
      "\n",
      "  0%|          | 0/1000 [00:00<?, ?it/s]\u001b[A\u001b[A\n",
      "\n",
      "  0%|          | 1/1000 [02:32<42:25:55, 152.91s/it]\u001b[A\u001b[A\n",
      "\n",
      "  0%|          | 2/1000 [05:06<42:26:52, 153.12s/it]\u001b[A\u001b[A\n",
      "\n",
      "  0%|          | 3/1000 [07:40<42:26:44, 153.26s/it]\u001b[A\u001b[A\n",
      "\n",
      "  0%|          | 4/1000 [10:12<42:21:28, 153.10s/it]\u001b[A\u001b[A\n",
      "\n",
      "  0%|          | 5/1000 [12:45<42:14:52, 152.86s/it]\u001b[A\u001b[A\n",
      "\n",
      "  1%|          | 6/1000 [15:18<42:17:00, 153.14s/it]\u001b[A\u001b[A\n",
      "\n",
      "  1%|          | 7/1000 [17:56<42:34:22, 154.34s/it]\u001b[A\u001b[A\n",
      "\n",
      "  1%|          | 8/1000 [20:30<42:32:37, 154.39s/it]\u001b[A\u001b[A\n",
      "\n",
      "  1%|          | 9/1000 [23:05<42:34:30, 154.66s/it]\u001b[A\u001b[A\n",
      "\n",
      "  1%|          | 10/1000 [25:40<42:31:15, 154.62s/it]\u001b[A\u001b[A\n",
      "\n",
      "  1%|          | 11/1000 [28:14<42:25:06, 154.41s/it]\u001b[A\u001b[A\n",
      "\n",
      "  1%|          | 12/1000 [30:47<42:15:41, 153.99s/it]\u001b[A\u001b[A\n",
      "\n",
      "  1%|▏         | 13/1000 [33:24<42:30:40, 155.06s/it]\u001b[A\u001b[A\n",
      "\n",
      "  1%|▏         | 14/1000 [35:59<42:26:12, 154.94s/it]\u001b[A\u001b[A\n",
      "\n",
      "  2%|▏         | 15/1000 [38:33<42:17:35, 154.57s/it]\u001b[A\u001b[A\n",
      "\n",
      "  2%|▏         | 16/1000 [41:05<42:05:41, 154.01s/it]\u001b[A\u001b[A\n",
      "\n",
      "  2%|▏         | 17/1000 [43:38<41:55:10, 153.52s/it]\u001b[A\u001b[A\n",
      "\n",
      "  2%|▏         | 18/1000 [46:12<41:56:32, 153.76s/it]\u001b[A\u001b[A\n",
      "\n",
      "  2%|▏         | 19/1000 [48:45<41:48:56, 153.45s/it]\u001b[A\u001b[A\n",
      "\n",
      "  2%|▏         | 20/1000 [51:17<41:42:10, 153.19s/it]\u001b[A\u001b[A\n",
      "\n",
      "  2%|▏         | 21/1000 [53:52<41:44:03, 153.47s/it]\u001b[A\u001b[A\n",
      "\n",
      "  2%|▏         | 22/1000 [56:29<41:59:12, 154.55s/it]\u001b[A\u001b[A\n",
      "\n",
      "  2%|▏         | 23/1000 [59:01<41:44:12, 153.79s/it]\u001b[A\u001b[A\n",
      "\n",
      "  2%|▏         | 24/1000 [1:01:33<41:32:44, 153.24s/it]\u001b[A\u001b[A\n",
      "\n",
      "  2%|▎         | 25/1000 [1:04:04<41:23:21, 152.82s/it]\u001b[A\u001b[A\n",
      "\n",
      "  3%|▎         | 26/1000 [1:06:36<41:16:17, 152.54s/it]\u001b[A\u001b[A\n",
      "\n",
      "  3%|▎         | 27/1000 [1:09:09<41:13:12, 152.51s/it]\u001b[A\u001b[A\n",
      "\n",
      "  3%|▎         | 28/1000 [1:11:41<41:09:50, 152.46s/it]\u001b[A\u001b[A\n",
      "\n",
      "  3%|▎         | 29/1000 [1:14:13<41:05:40, 152.36s/it]\u001b[A\u001b[A\n",
      "\n",
      "  3%|▎         | 30/1000 [1:16:46<41:04:01, 152.41s/it]\u001b[A\u001b[A\n",
      "\n",
      "  3%|▎         | 31/1000 [1:19:18<40:59:23, 152.28s/it]\u001b[A\u001b[A\n",
      "\n",
      "  3%|▎         | 32/1000 [1:21:50<40:55:43, 152.21s/it]\u001b[A\u001b[A\n",
      "\n",
      "  3%|▎         | 33/1000 [1:24:22<40:52:08, 152.15s/it]\u001b[A\u001b[A\n",
      "\n",
      "  3%|▎         | 34/1000 [1:26:54<40:50:36, 152.21s/it]\u001b[A\u001b[A\n",
      "\n",
      "  4%|▎         | 35/1000 [1:26:58<28:50:16, 107.58s/it]\u001b[A\u001b[A\n",
      "\n",
      "  4%|▎         | 36/1000 [1:29:30<32:24:03, 121.00s/it]\u001b[A\u001b[A\n",
      "\n",
      "  4%|▎         | 37/1000 [1:32:02<34:52:10, 130.35s/it]\u001b[A\u001b[A\n",
      "\n",
      "  4%|▍         | 38/1000 [1:34:34<36:32:03, 136.72s/it]\u001b[A\u001b[A\n",
      "\n",
      "  4%|▍         | 39/1000 [1:37:06<37:43:42, 141.33s/it]\u001b[A\u001b[A\n",
      "\n",
      "  4%|▍         | 40/1000 [1:39:38<38:35:47, 144.74s/it]\u001b[A\u001b[A\n",
      "\n",
      "  4%|▍         | 41/1000 [1:42:11<39:09:52, 147.02s/it]\u001b[A\u001b[A\n",
      "\n",
      "  4%|▍         | 42/1000 [1:44:44<39:35:33, 148.78s/it]\u001b[A\u001b[A\n",
      "\n",
      "  4%|▍         | 43/1000 [1:47:17<39:53:12, 150.04s/it]\u001b[A\u001b[A\n",
      "\n",
      "  4%|▍         | 44/1000 [1:49:49<40:01:11, 150.70s/it]\u001b[A\u001b[A\n",
      "\n",
      "  4%|▍         | 45/1000 [1:52:22<40:08:21, 151.31s/it]\u001b[A\u001b[A\n",
      "\n",
      "  5%|▍         | 46/1000 [1:54:54<40:11:04, 151.64s/it]\u001b[A\u001b[A\n",
      "\n",
      "  5%|▍         | 47/1000 [1:57:26<40:10:29, 151.76s/it]\u001b[A\u001b[A\n",
      "\n",
      "  5%|▍         | 48/1000 [1:59:58<40:09:55, 151.89s/it]\u001b[A\u001b[A\n",
      "\n",
      "  5%|▍         | 49/1000 [2:02:31<40:10:31, 152.08s/it]\u001b[A\u001b[A\n",
      "\n",
      "  5%|▌         | 50/1000 [2:05:03<40:08:02, 152.09s/it]\u001b[A\u001b[A\n",
      "\n",
      "  5%|▌         | 51/1000 [2:07:35<40:03:59, 151.99s/it]\u001b[A\u001b[A\n",
      "\n",
      "  5%|▌         | 52/1000 [2:10:07<40:01:23, 151.99s/it]\u001b[A\u001b[A\n",
      "\n",
      "  5%|▌         | 53/1000 [2:12:39<39:59:40, 152.04s/it]\u001b[A\u001b[A\n",
      "\n",
      "  5%|▌         | 54/1000 [2:15:13<40:07:10, 152.68s/it]\u001b[A\u001b[A\n",
      "\n",
      "  6%|▌         | 55/1000 [2:17:45<40:02:53, 152.56s/it]\u001b[A\u001b[A\n",
      "\n",
      "  6%|▌         | 56/1000 [2:20:20<40:10:36, 153.22s/it]\u001b[A\u001b[A\n",
      "\n",
      "  6%|▌         | 57/1000 [2:22:54<40:13:45, 153.58s/it]\u001b[A\u001b[A\n",
      "\n",
      "  6%|▌         | 58/1000 [2:25:28<40:09:28, 153.47s/it]\u001b[A\u001b[A\n",
      "\n",
      "  6%|▌         | 59/1000 [2:28:01<40:06:49, 153.46s/it]\u001b[A\u001b[A\n",
      "\n",
      "  6%|▌         | 60/1000 [2:30:34<40:01:25, 153.28s/it]\u001b[A\u001b[A\n",
      "\n",
      "  6%|▌         | 61/1000 [2:33:07<39:57:34, 153.20s/it]\u001b[A\u001b[A\n",
      "\n",
      "  6%|▌         | 62/1000 [2:35:40<39:55:34, 153.24s/it]\u001b[A\u001b[A\n",
      "\n",
      "  6%|▋         | 63/1000 [2:38:14<39:54:24, 153.32s/it]\u001b[A\u001b[A\n",
      "\n",
      "  6%|▋         | 64/1000 [2:40:46<39:47:57, 153.07s/it]\u001b[A\u001b[A\n",
      "\n",
      "  6%|▋         | 65/1000 [2:43:21<39:52:13, 153.51s/it]\u001b[A\u001b[A\n",
      "\n",
      "  7%|▋         | 66/1000 [2:45:57<40:02:29, 154.34s/it]\u001b[A\u001b[A\n",
      "\n",
      "  7%|▋         | 67/1000 [2:48:30<39:53:30, 153.92s/it]\u001b[A\u001b[A\n",
      "\n",
      "  7%|▋         | 68/1000 [2:51:02<39:41:33, 153.32s/it]\u001b[A\u001b[A\n",
      "\n",
      "  7%|▋         | 69/1000 [2:53:34<39:33:17, 152.95s/it]\u001b[A\u001b[A\n",
      "\n",
      "  7%|▋         | 70/1000 [2:56:07<39:28:24, 152.80s/it]\u001b[A\u001b[A\n",
      "\n",
      "  7%|▋         | 71/1000 [2:58:39<39:25:16, 152.76s/it]\u001b[A\u001b[A\n",
      "\n",
      "  7%|▋         | 72/1000 [3:01:12<39:20:45, 152.64s/it]\u001b[A\u001b[A\n",
      "\n",
      "  7%|▋         | 73/1000 [3:03:44<39:17:30, 152.59s/it]\u001b[A\u001b[A\n",
      "\n",
      "  7%|▋         | 74/1000 [3:06:16<39:13:40, 152.51s/it]\u001b[A\u001b[A\n",
      "\n",
      "  8%|▊         | 75/1000 [3:08:50<39:14:25, 152.72s/it]\u001b[A\u001b[A\n",
      "\n",
      "  8%|▊         | 76/1000 [3:11:24<39:17:26, 153.08s/it]\u001b[A\u001b[A\n",
      "\n",
      "  8%|▊         | 77/1000 [3:14:03<39:46:14, 155.12s/it]\u001b[A\u001b[A\n",
      "\n",
      "  8%|▊         | 78/1000 [3:16:37<39:36:57, 154.68s/it]\u001b[A\u001b[A\n",
      "\n",
      "  8%|▊         | 79/1000 [3:19:15<39:48:46, 155.62s/it]\u001b[A\u001b[A\n",
      "\n",
      "  8%|▊         | 80/1000 [3:21:47<39:32:04, 154.70s/it]\u001b[A\u001b[A\n",
      "\n",
      "  8%|▊         | 81/1000 [3:24:21<39:22:13, 154.23s/it]\u001b[A\u001b[A\n",
      "\n",
      "  8%|▊         | 82/1000 [3:26:52<39:07:57, 153.46s/it]\u001b[A\u001b[A\n",
      "\n",
      "  8%|▊         | 83/1000 [3:29:24<38:57:20, 152.93s/it]\u001b[A\u001b[A\n",
      "\n",
      "  8%|▊         | 84/1000 [3:31:56<38:50:45, 152.67s/it]\u001b[A\u001b[A\n",
      "\n",
      "  8%|▊         | 85/1000 [3:34:28<38:44:37, 152.43s/it]\u001b[A\u001b[A\n",
      "\n",
      "  9%|▊         | 86/1000 [3:37:00<38:39:20, 152.25s/it]\u001b[A\u001b[A\n",
      "\n",
      "  9%|▊         | 87/1000 [3:39:32<38:36:47, 152.25s/it]\u001b[A\u001b[A\n",
      "\n",
      "  9%|▉         | 88/1000 [3:42:05<38:36:33, 152.40s/it]\u001b[A\u001b[A\n",
      "\n",
      "  9%|▉         | 89/1000 [3:44:37<38:32:05, 152.28s/it]\u001b[A\u001b[A\n",
      "\n",
      "  9%|▉         | 90/1000 [3:47:09<38:28:08, 152.19s/it]\u001b[A\u001b[A\n",
      "\n",
      "  9%|▉         | 91/1000 [3:49:43<38:37:17, 152.96s/it]\u001b[A\u001b[A\n",
      "\n",
      "  9%|▉         | 92/1000 [3:52:15<38:30:36, 152.68s/it]\u001b[A\u001b[A\n",
      "\n",
      "  9%|▉         | 93/1000 [3:54:48<38:27:49, 152.67s/it]\u001b[A\u001b[A\n",
      "\n",
      "  9%|▉         | 94/1000 [3:57:20<38:21:43, 152.43s/it]\u001b[A\u001b[A\n",
      "\n",
      " 10%|▉         | 95/1000 [3:59:52<38:16:39, 152.27s/it]\u001b[A\u001b[A\n",
      "\n",
      " 10%|▉         | 96/1000 [4:02:24<38:13:55, 152.25s/it]\u001b[A\u001b[A\n",
      "\n",
      " 10%|▉         | 97/1000 [4:04:56<38:10:25, 152.19s/it]\u001b[A\u001b[A\n",
      "\n",
      " 10%|▉         | 98/1000 [4:07:28<38:06:04, 152.07s/it]\u001b[A\u001b[A\n",
      "\n",
      " 10%|▉         | 99/1000 [4:10:00<38:03:36, 152.07s/it]\u001b[A\u001b[A\n",
      "\n",
      " 10%|█         | 100/1000 [4:12:32<37:59:58, 152.00s/it]\u001b[A\u001b[A\n",
      "\n",
      " 10%|█         | 101/1000 [4:15:03<37:54:55, 151.83s/it]\u001b[A\u001b[A\n",
      "\n",
      " 10%|█         | 102/1000 [4:17:35<37:52:44, 151.85s/it]\u001b[A\u001b[A\n",
      "\n",
      " 10%|█         | 103/1000 [4:20:07<37:48:48, 151.76s/it]\u001b[A\u001b[A\n",
      "\n",
      " 10%|█         | 104/1000 [4:22:38<37:46:12, 151.75s/it]\u001b[A\u001b[A\n",
      "\n",
      " 10%|█         | 105/1000 [4:25:10<37:43:53, 151.77s/it]\u001b[A\u001b[A\n",
      "\n",
      " 11%|█         | 106/1000 [4:27:42<37:41:37, 151.79s/it]\u001b[A\u001b[A\n",
      "\n",
      " 11%|█         | 107/1000 [4:30:14<37:39:36, 151.82s/it]\u001b[A\u001b[A\n",
      "\n",
      " 11%|█         | 108/1000 [4:32:47<37:40:55, 152.08s/it]\u001b[A\u001b[A\n",
      "\n",
      " 11%|█         | 109/1000 [4:35:19<37:40:45, 152.24s/it]\u001b[A\u001b[A\n",
      "\n",
      " 11%|█         | 110/1000 [4:35:36<27:36:31, 111.68s/it]\u001b[A\u001b[A\n",
      "\n",
      " 11%|█         | 111/1000 [4:38:09<30:35:03, 123.85s/it]\u001b[A\u001b[A\n",
      "\n",
      " 11%|█         | 112/1000 [4:40:40<32:36:10, 132.17s/it]\u001b[A\u001b[A\n",
      "\n",
      " 11%|█▏        | 113/1000 [4:43:12<34:00:39, 138.04s/it]\u001b[A\u001b[A\n",
      "\n",
      " 11%|█▏        | 114/1000 [4:45:44<34:58:49, 142.13s/it]\u001b[A\u001b[A\n",
      "\n",
      " 12%|█▏        | 115/1000 [4:48:16<35:40:56, 145.15s/it]\u001b[A\u001b[A\n",
      "\n",
      " 12%|█▏        | 116/1000 [4:50:48<36:08:48, 147.20s/it]\u001b[A\u001b[A\n",
      "\n",
      " 12%|█▏        | 117/1000 [4:53:20<36:27:21, 148.63s/it]\u001b[A\u001b[A\n",
      "\n",
      " 12%|█▏        | 118/1000 [4:55:52<36:39:49, 149.65s/it]\u001b[A\u001b[A\n",
      "\n",
      " 12%|█▏        | 119/1000 [4:58:24<36:48:45, 150.43s/it]\u001b[A\u001b[A\n",
      "\n",
      " 12%|█▏        | 120/1000 [5:00:56<36:55:03, 151.03s/it]\u001b[A\u001b[A\n",
      "\n",
      " 12%|█▏        | 121/1000 [5:03:29<36:59:09, 151.48s/it]\u001b[A\u001b[A\n",
      "\n",
      " 12%|█▏        | 122/1000 [5:06:01<36:58:20, 151.60s/it]\u001b[A\u001b[A\n",
      "\n",
      " 12%|█▏        | 123/1000 [5:08:32<36:55:36, 151.58s/it]\u001b[A\u001b[A\n",
      "\n",
      " 12%|█▏        | 124/1000 [5:11:05<36:56:37, 151.82s/it]\u001b[A\u001b[A\n",
      "\n",
      " 12%|█▎        | 125/1000 [5:13:37<36:56:06, 151.96s/it]\u001b[A\u001b[A\n",
      "\n",
      " 13%|█▎        | 126/1000 [5:16:09<36:54:54, 152.05s/it]\u001b[A\u001b[A\n",
      "\n",
      " 13%|█▎        | 127/1000 [5:16:14<26:11:08, 107.98s/it]\u001b[A\u001b[A\n",
      "\n",
      " 13%|█▎        | 128/1000 [5:18:47<29:22:52, 121.30s/it]\u001b[A\u001b[A\n",
      "\n",
      " 13%|█▎        | 129/1000 [5:21:19<31:35:58, 130.61s/it]\u001b[A\u001b[A\n",
      "\n",
      " 13%|█▎        | 130/1000 [5:23:52<33:08:36, 137.15s/it]\u001b[A\u001b[A\n",
      "\n",
      " 13%|█▎        | 131/1000 [5:26:24<34:12:43, 141.73s/it]\u001b[A\u001b[A\n",
      "\n",
      " 13%|█▎        | 132/1000 [5:28:56<34:56:40, 144.93s/it]\u001b[A\u001b[A\n",
      "\n",
      " 13%|█▎        | 133/1000 [5:31:28<35:24:43, 147.04s/it]\u001b[A\u001b[A\n",
      "\n",
      " 13%|█▎        | 134/1000 [5:34:01<35:44:47, 148.60s/it]\u001b[A\u001b[A\n",
      "\n",
      " 14%|█▎        | 135/1000 [5:36:32<35:55:45, 149.53s/it]\u001b[A\u001b[A\n",
      "\n",
      " 14%|█▎        | 136/1000 [5:39:04<36:02:52, 150.20s/it]\u001b[A\u001b[A\n",
      "\n",
      " 14%|█▎        | 137/1000 [5:41:36<36:08:51, 150.79s/it]\u001b[A\u001b[A\n",
      "\n",
      " 14%|█▍        | 138/1000 [5:44:08<36:10:46, 151.10s/it]\u001b[A\u001b[A\n",
      "\n",
      " 14%|█▍        | 139/1000 [5:46:40<36:12:05, 151.36s/it]\u001b[A\u001b[A\n",
      "\n",
      " 14%|█▍        | 140/1000 [5:49:12<36:12:31, 151.57s/it]\u001b[A\u001b[A\n",
      "\n",
      " 14%|█▍        | 141/1000 [5:51:44<36:12:11, 151.72s/it]\u001b[A\u001b[A\n",
      "\n",
      " 14%|█▍        | 142/1000 [5:54:16<36:08:32, 151.65s/it]\u001b[A\u001b[A\n",
      "\n",
      " 14%|█▍        | 143/1000 [5:56:48<36:07:26, 151.75s/it]\u001b[A\u001b[A\n",
      "\n",
      " 14%|█▍        | 144/1000 [5:59:19<36:04:47, 151.74s/it]\u001b[A\u001b[A\n",
      "\n",
      " 14%|█▍        | 145/1000 [6:01:51<36:02:01, 151.72s/it]\u001b[A\u001b[A\n",
      "\n",
      " 15%|█▍        | 146/1000 [6:04:23<36:00:32, 151.80s/it]\u001b[A\u001b[A\n",
      "\n",
      " 15%|█▍        | 147/1000 [6:06:55<35:59:12, 151.88s/it]\u001b[A\u001b[A\n",
      "\n",
      " 15%|█▍        | 148/1000 [6:09:27<35:56:33, 151.87s/it]\u001b[A\u001b[A\n",
      "\n",
      " 15%|█▍        | 149/1000 [6:11:59<35:55:05, 151.95s/it]\u001b[A\u001b[A\n",
      "\n",
      " 15%|█▌        | 150/1000 [6:14:31<35:53:28, 152.01s/it]\u001b[A\u001b[A\n",
      "\n",
      " 15%|█▌        | 151/1000 [6:17:03<35:51:34, 152.05s/it]\u001b[A\u001b[A\n",
      "\n",
      " 15%|█▌        | 152/1000 [6:19:36<35:51:26, 152.22s/it]\u001b[A\u001b[A\n",
      "\n",
      " 15%|█▌        | 153/1000 [6:22:08<35:48:09, 152.17s/it]\u001b[A\u001b[A\n",
      "\n",
      " 15%|█▌        | 154/1000 [6:24:41<35:47:27, 152.30s/it]\u001b[A\u001b[A\n",
      "\n",
      " 16%|█▌        | 155/1000 [6:24:44<25:17:55, 107.78s/it]\u001b[A\u001b[A\n",
      "\n",
      " 16%|█▌        | 156/1000 [6:27:16<28:22:43, 121.05s/it]\u001b[A\u001b[A\n",
      "\n",
      " 16%|█▌        | 157/1000 [6:29:48<30:31:04, 130.33s/it]\u001b[A\u001b[A\n",
      "\n",
      " 16%|█▌        | 158/1000 [6:32:21<32:01:59, 136.96s/it]\u001b[A\u001b[A\n",
      "\n",
      " 16%|█▌        | 159/1000 [6:32:27<22:48:41, 97.65s/it] \u001b[A\u001b[A\n",
      "\n",
      " 16%|█▌        | 160/1000 [6:34:59<26:35:24, 113.96s/it]\u001b[A\u001b[A\n",
      "\n",
      " 16%|█▌        | 161/1000 [6:37:31<29:13:59, 125.43s/it]\u001b[A\u001b[A\n",
      "\n",
      " 16%|█▌        | 162/1000 [6:40:03<31:01:11, 133.26s/it]\u001b[A\u001b[A\n",
      "\n",
      " 16%|█▋        | 163/1000 [6:42:34<32:15:39, 138.76s/it]\u001b[A\u001b[A\n",
      "\n",
      " 16%|█▋        | 164/1000 [6:45:07<33:12:20, 142.99s/it]\u001b[A\u001b[A\n",
      "\n",
      " 16%|█▋        | 165/1000 [6:47:40<33:49:40, 145.85s/it]\u001b[A\u001b[A\n",
      "\n",
      " 17%|█▋        | 166/1000 [6:50:11<34:12:19, 147.65s/it]\u001b[A\u001b[A\n",
      "\n",
      " 17%|█▋        | 167/1000 [6:52:44<34:28:38, 149.00s/it]\u001b[A\u001b[A\n",
      "\n",
      " 17%|█▋        | 168/1000 [6:55:16<34:38:55, 149.92s/it]\u001b[A\u001b[A\n",
      "\n",
      " 17%|█▋        | 169/1000 [6:57:48<34:45:18, 150.56s/it]\u001b[A\u001b[A\n",
      "\n",
      " 17%|█▋        | 170/1000 [7:00:20<34:49:00, 151.01s/it]\u001b[A\u001b[A\n",
      "\n",
      " 17%|█▋        | 171/1000 [7:02:51<34:49:33, 151.23s/it]\u001b[A\u001b[A\n",
      "\n",
      " 17%|█▋        | 172/1000 [7:05:23<34:49:38, 151.42s/it]\u001b[A\u001b[A\n",
      "\n",
      " 17%|█▋        | 173/1000 [7:07:56<34:50:52, 151.70s/it]\u001b[A\u001b[A\n",
      "\n",
      " 17%|█▋        | 174/1000 [7:10:28<34:50:23, 151.84s/it]\u001b[A\u001b[A\n",
      "\n",
      " 18%|█▊        | 175/1000 [7:13:00<34:48:09, 151.87s/it]\u001b[A\u001b[A\n",
      "\n",
      " 18%|█▊        | 176/1000 [7:15:32<34:47:58, 152.04s/it]\u001b[A\u001b[A\n",
      "\n",
      " 18%|█▊        | 177/1000 [7:18:04<34:46:25, 152.11s/it]\u001b[A\u001b[A\n",
      "\n",
      " 18%|█▊        | 178/1000 [7:20:37<34:44:42, 152.17s/it]\u001b[A\u001b[A\n",
      "\n",
      " 18%|█▊        | 179/1000 [7:23:08<34:40:08, 152.02s/it]\u001b[A\u001b[A\n",
      "\n",
      " 18%|█▊        | 180/1000 [7:25:40<34:37:23, 152.00s/it]\u001b[A\u001b[A\n",
      "\n",
      " 18%|█▊        | 181/1000 [7:28:13<34:35:44, 152.07s/it]\u001b[A\u001b[A\n",
      "\n",
      " 18%|█▊        | 182/1000 [7:30:45<34:35:58, 152.27s/it]\u001b[A\u001b[A\n",
      "\n",
      " 18%|█▊        | 183/1000 [7:33:18<34:34:07, 152.32s/it]\u001b[A\u001b[A\n",
      "\n",
      " 18%|█▊        | 184/1000 [7:35:51<34:33:32, 152.47s/it]\u001b[A\u001b[A\n",
      "\n",
      " 18%|█▊        | 185/1000 [7:38:23<34:31:00, 152.47s/it]\u001b[A\u001b[A\n",
      "\n",
      " 19%|█▊        | 186/1000 [7:40:56<34:28:54, 152.50s/it]\u001b[A\u001b[A\n",
      "\n",
      " 19%|█▊        | 187/1000 [7:43:28<34:25:01, 152.40s/it]\u001b[A\u001b[A\n",
      "\n",
      " 19%|█▉        | 188/1000 [7:46:01<34:24:10, 152.53s/it]\u001b[A\u001b[A\n",
      "\n",
      " 19%|█▉        | 189/1000 [7:48:33<34:20:08, 152.41s/it]\u001b[A\u001b[A\n",
      "\n",
      " 19%|█▉        | 190/1000 [7:51:05<34:16:29, 152.33s/it]\u001b[A\u001b[A\n",
      "\n",
      " 19%|█▉        | 191/1000 [7:53:37<34:12:12, 152.20s/it]\u001b[A\u001b[A\n",
      "\n",
      " 19%|█▉        | 192/1000 [7:56:09<34:09:28, 152.19s/it]\u001b[A\u001b[A\n",
      "\n",
      " 19%|█▉        | 193/1000 [7:58:41<34:06:20, 152.14s/it]\u001b[A\u001b[A\n",
      "\n",
      " 19%|█▉        | 194/1000 [8:01:13<34:03:35, 152.13s/it]\u001b[A\u001b[A\n",
      "\n",
      " 20%|█▉        | 195/1000 [8:03:46<34:03:22, 152.30s/it]\u001b[A\u001b[A\n",
      "\n",
      " 20%|█▉        | 196/1000 [8:06:18<33:59:55, 152.23s/it]\u001b[A\u001b[A\n",
      "\n",
      " 20%|█▉        | 197/1000 [8:08:50<33:56:05, 152.14s/it]\u001b[A\u001b[A\n",
      "\n",
      " 20%|█▉        | 198/1000 [8:11:22<33:54:28, 152.20s/it]\u001b[A\u001b[A\n",
      "\n",
      " 20%|█▉        | 199/1000 [8:13:54<33:49:40, 152.04s/it]\u001b[A\u001b[A\n",
      "\n",
      " 20%|██        | 200/1000 [8:16:26<33:48:04, 152.11s/it]\u001b[A\u001b[A\n",
      "\n",
      " 20%|██        | 201/1000 [8:19:00<33:52:12, 152.61s/it]\u001b[A\u001b[A\n",
      "\n",
      " 20%|██        | 202/1000 [8:21:33<33:49:43, 152.61s/it]\u001b[A\u001b[A\n",
      "\n",
      " 20%|██        | 203/1000 [8:24:06<33:52:33, 153.02s/it]\u001b[A\u001b[A\n",
      "\n",
      " 20%|██        | 204/1000 [8:26:39<33:49:13, 152.96s/it]\u001b[A\u001b[A\n",
      "\n",
      " 20%|██        | 205/1000 [8:29:13<33:47:51, 153.05s/it]\u001b[A\u001b[A\n",
      "\n",
      " 21%|██        | 206/1000 [8:31:46<33:46:43, 153.15s/it]\u001b[A\u001b[A\n",
      "\n",
      " 21%|██        | 207/1000 [8:34:20<33:45:47, 153.28s/it]\u001b[A\u001b[A\n",
      "\n",
      " 21%|██        | 208/1000 [8:36:54<33:47:21, 153.59s/it]\u001b[A\u001b[A\n",
      "\n",
      " 21%|██        | 209/1000 [8:39:27<33:42:20, 153.40s/it]\u001b[A\u001b[A\n",
      "\n",
      " 21%|██        | 210/1000 [8:42:00<33:38:09, 153.28s/it]\u001b[A\u001b[A\n",
      "\n",
      " 21%|██        | 211/1000 [8:44:33<33:34:52, 153.22s/it]\u001b[A\u001b[A\n",
      "\n",
      " 21%|██        | 212/1000 [8:47:06<33:32:29, 153.24s/it]\u001b[A\u001b[A\n",
      "\n",
      " 21%|██▏       | 213/1000 [8:49:40<33:33:59, 153.54s/it]\u001b[A\u001b[A\n",
      "\n",
      " 21%|██▏       | 214/1000 [8:52:14<33:31:47, 153.57s/it]\u001b[A\u001b[A\n",
      "\n",
      " 22%|██▏       | 215/1000 [8:54:48<33:32:32, 153.83s/it]\u001b[A\u001b[A\n",
      "\n",
      " 22%|██▏       | 216/1000 [8:57:22<33:27:31, 153.64s/it]\u001b[A\u001b[A\n",
      "\n",
      " 22%|██▏       | 217/1000 [8:59:55<33:23:26, 153.52s/it]\u001b[A\u001b[A\n",
      "\n",
      " 22%|██▏       | 218/1000 [9:02:28<33:18:50, 153.36s/it]\u001b[A\u001b[A\n",
      "\n",
      " 22%|██▏       | 219/1000 [9:05:01<33:16:04, 153.35s/it]\u001b[A\u001b[A\n",
      "\n",
      " 22%|██▏       | 220/1000 [9:07:35<33:13:39, 153.36s/it]\u001b[A\u001b[A\n",
      "\n",
      " 22%|██▏       | 221/1000 [9:10:08<33:09:44, 153.25s/it]\u001b[A\u001b[A\n",
      "\n",
      " 22%|██▏       | 222/1000 [9:12:40<33:05:09, 153.10s/it]\u001b[A\u001b[A\n",
      "\n",
      " 22%|██▏       | 223/1000 [9:15:14<33:04:18, 153.23s/it]\u001b[A\u001b[A\n",
      "\n",
      " 22%|██▏       | 224/1000 [9:17:47<33:01:17, 153.19s/it]\u001b[A\u001b[A\n",
      "\n",
      " 22%|██▎       | 225/1000 [9:20:20<32:59:40, 153.27s/it]\u001b[A\u001b[A\n",
      "\n",
      " 23%|██▎       | 226/1000 [9:22:53<32:55:51, 153.17s/it]\u001b[A\u001b[A\n",
      "\n",
      " 23%|██▎       | 227/1000 [9:25:26<32:52:15, 153.09s/it]\u001b[A\u001b[A\n",
      "\n",
      " 23%|██▎       | 228/1000 [9:27:59<32:49:38, 153.08s/it]\u001b[A\u001b[A\n",
      "\n",
      " 23%|██▎       | 229/1000 [9:30:33<32:48:06, 153.16s/it]\u001b[A\u001b[A\n",
      "\n",
      " 23%|██▎       | 230/1000 [9:33:06<32:44:26, 153.07s/it]\u001b[A\u001b[A\n",
      "\n",
      " 23%|██▎       | 231/1000 [9:35:40<32:45:40, 153.37s/it]\u001b[A\u001b[A\n",
      "\n",
      " 23%|██▎       | 232/1000 [9:38:15<32:51:22, 154.01s/it]\u001b[A\u001b[A\n",
      "\n",
      " 23%|██▎       | 233/1000 [9:40:51<32:56:10, 154.59s/it]\u001b[A\u001b[A\n",
      "\n",
      " 23%|██▎       | 234/1000 [9:43:32<33:18:35, 156.55s/it]\u001b[A\u001b[A\n",
      "\n",
      " 24%|██▎       | 235/1000 [9:46:13<33:31:56, 157.80s/it]\u001b[A\u001b[A\n",
      "\n",
      " 24%|██▎       | 236/1000 [9:48:46<33:10:12, 156.30s/it]\u001b[A\u001b[A\n",
      "\n",
      " 24%|██▎       | 237/1000 [9:51:18<32:53:27, 155.19s/it]\u001b[A\u001b[A\n",
      "\n",
      " 24%|██▍       | 238/1000 [9:53:51<32:41:06, 154.42s/it]\u001b[A\u001b[A\n",
      "\n",
      " 24%|██▍       | 239/1000 [9:56:26<32:41:42, 154.67s/it]\u001b[A\u001b[A\n",
      "\n",
      " 24%|██▍       | 240/1000 [9:58:59<32:34:02, 154.27s/it]\u001b[A\u001b[A\n",
      "\n",
      " 24%|██▍       | 241/1000 [10:01:32<32:25:50, 153.82s/it]\u001b[A\u001b[A\n",
      "\n",
      " 24%|██▍       | 242/1000 [10:04:05<32:20:44, 153.62s/it]\u001b[A\u001b[A\n",
      "\n",
      " 24%|██▍       | 243/1000 [10:04:14<23:08:49, 110.08s/it]\u001b[A\u001b[A\n",
      "\n",
      " 24%|██▍       | 244/1000 [10:06:47<25:48:34, 122.90s/it]\u001b[A\u001b[A\n",
      "\n",
      " 24%|██▍       | 245/1000 [10:09:19<27:39:04, 131.85s/it]\u001b[A\u001b[A\n",
      "\n",
      " 25%|██▍       | 246/1000 [10:11:52<28:56:39, 138.20s/it]\u001b[A\u001b[A\n",
      "\n",
      " 25%|██▍       | 247/1000 [10:14:27<29:55:52, 143.10s/it]\u001b[A\u001b[A\n",
      "\n",
      " 25%|██▍       | 248/1000 [10:17:03<30:43:14, 147.07s/it]\u001b[A\u001b[A\n",
      "\n",
      " 25%|██▍       | 249/1000 [10:19:37<31:05:21, 149.03s/it]\u001b[A\u001b[A\n",
      "\n",
      " 25%|██▌       | 250/1000 [10:22:10<31:16:57, 150.16s/it]\u001b[A\u001b[A\n",
      "\n",
      " 25%|██▌       | 251/1000 [10:22:17<22:18:06, 107.19s/it]\u001b[A\u001b[A\n",
      "\n",
      " 25%|██▌       | 252/1000 [10:24:50<25:09:45, 121.10s/it]\u001b[A\u001b[A\n",
      "\n",
      " 25%|██▌       | 253/1000 [10:27:23<27:04:59, 130.52s/it]\u001b[A\u001b[A\n",
      "\n",
      " 25%|██▌       | 254/1000 [10:29:56<28:28:15, 137.39s/it]\u001b[A\u001b[A\n",
      "\n",
      " 26%|██▌       | 255/1000 [10:32:30<29:27:18, 142.33s/it]\u001b[A\u001b[A\n",
      "\n",
      " 26%|██▌       | 256/1000 [10:35:03<30:04:30, 145.52s/it]\u001b[A\u001b[A\n",
      "\n"
     ]
    },
    {
     "name": "stderr",
     "output_type": "stream",
     "text": [
      " 26%|██▌       | 257/1000 [10:37:35<30:27:58, 147.62s/it]\u001b[A\u001b[A\n",
      "\n",
      " 26%|██▌       | 258/1000 [10:40:10<30:49:25, 149.55s/it]\u001b[A\u001b[A\n",
      "\n",
      " 26%|██▌       | 259/1000 [10:42:51<31:31:06, 153.13s/it]\u001b[A\u001b[A\n",
      "\n",
      " 26%|██▌       | 260/1000 [10:45:31<31:55:43, 155.33s/it]\u001b[A\u001b[A\n",
      "\n",
      " 26%|██▌       | 261/1000 [10:48:05<31:45:34, 154.72s/it]\u001b[A\u001b[A\n",
      "\n",
      " 26%|██▌       | 262/1000 [10:50:40<31:45:40, 154.93s/it]\u001b[A\u001b[A\n",
      "\n",
      " 26%|██▋       | 263/1000 [10:53:13<31:36:07, 154.37s/it]\u001b[A\u001b[A\n",
      "\n",
      " 26%|██▋       | 264/1000 [10:55:47<31:31:47, 154.22s/it]\u001b[A\u001b[A\n",
      "\n",
      " 26%|██▋       | 265/1000 [10:58:21<31:28:08, 154.13s/it]\u001b[A\u001b[A\n",
      "\n",
      " 27%|██▋       | 266/1000 [11:00:54<31:20:20, 153.71s/it]\u001b[A\u001b[A\n",
      "\n",
      " 27%|██▋       | 267/1000 [11:03:29<31:22:23, 154.08s/it]\u001b[A\u001b[A\n",
      "\n",
      " 27%|██▋       | 268/1000 [11:06:05<31:26:26, 154.63s/it]\u001b[A\u001b[A\n",
      "\n",
      " 27%|██▋       | 269/1000 [11:08:42<31:34:29, 155.50s/it]\u001b[A\u001b[A\n",
      "\n",
      " 27%|██▋       | 270/1000 [11:11:16<31:24:36, 154.90s/it]\u001b[A\u001b[A\n",
      "\n",
      " 27%|██▋       | 271/1000 [11:13:54<31:35:07, 155.98s/it]\u001b[A\u001b[A\n",
      "\n",
      " 27%|██▋       | 272/1000 [11:16:27<31:21:51, 155.10s/it]\u001b[A\u001b[A\n",
      "\n",
      " 27%|██▋       | 273/1000 [11:19:02<31:17:51, 154.98s/it]\u001b[A\u001b[A\n",
      "\n",
      " 27%|██▋       | 274/1000 [11:21:36<31:10:28, 154.58s/it]\u001b[A\u001b[A\n",
      "\n",
      " 28%|██▊       | 275/1000 [11:24:11<31:11:32, 154.89s/it]\u001b[A\u001b[A\n",
      "\n",
      " 28%|██▊       | 276/1000 [11:26:45<31:06:25, 154.68s/it]\u001b[A\u001b[A\n",
      "\n",
      " 28%|██▊       | 277/1000 [11:29:19<31:01:21, 154.47s/it]\u001b[A\u001b[A\n",
      "\n",
      " 28%|██▊       | 278/1000 [11:31:52<30:53:44, 154.05s/it]\u001b[A\u001b[A\n",
      "\n",
      " 28%|██▊       | 279/1000 [11:34:26<30:49:14, 153.89s/it]\u001b[A\u001b[A\n",
      "\n",
      " 28%|██▊       | 280/1000 [11:36:59<30:42:52, 153.57s/it]\u001b[A\u001b[A\n",
      "\n",
      " 28%|██▊       | 281/1000 [11:39:32<30:37:47, 153.36s/it]\u001b[A\u001b[A\n",
      "\n",
      " 28%|██▊       | 282/1000 [11:42:08<30:45:50, 154.25s/it]\u001b[A\u001b[A\n",
      "\n",
      " 28%|██▊       | 283/1000 [11:44:49<31:07:21, 156.26s/it]\u001b[A\u001b[A\n",
      "\n",
      " 28%|██▊       | 284/1000 [11:47:22<30:53:42, 155.34s/it]\u001b[A\u001b[A\n",
      "\n",
      " 28%|██▊       | 285/1000 [11:49:55<30:43:50, 154.73s/it]\u001b[A\u001b[A\n",
      "\n",
      " 29%|██▊       | 286/1000 [11:52:30<30:39:45, 154.60s/it]\u001b[A\u001b[A\n",
      "\n",
      " 29%|██▊       | 287/1000 [11:55:03<30:30:50, 154.07s/it]\u001b[A\u001b[A\n",
      "\n",
      " 29%|██▉       | 288/1000 [11:57:35<30:22:49, 153.61s/it]\u001b[A\u001b[A\n",
      "\n",
      " 29%|██▉       | 289/1000 [12:00:08<30:17:01, 153.33s/it]\u001b[A\u001b[A\n",
      "\n",
      " 29%|██▉       | 290/1000 [12:02:40<30:09:50, 152.94s/it]\u001b[A\u001b[A\n",
      "\n",
      " 29%|██▉       | 291/1000 [12:05:12<30:04:40, 152.72s/it]\u001b[A\u001b[A\n",
      "\n",
      " 29%|██▉       | 292/1000 [12:07:45<30:04:14, 152.90s/it]\u001b[A\u001b[A\n",
      "\n",
      " 29%|██▉       | 293/1000 [12:10:17<29:58:27, 152.63s/it]\u001b[A\u001b[A\n",
      "\n",
      " 29%|██▉       | 294/1000 [12:12:49<29:54:00, 152.47s/it]\u001b[A\u001b[A\n",
      "\n",
      " 30%|██▉       | 295/1000 [12:15:21<29:49:38, 152.31s/it]\u001b[A\u001b[A\n",
      "\n",
      " 30%|██▉       | 296/1000 [12:17:54<29:47:25, 152.34s/it]\u001b[A\u001b[A\n",
      "\n",
      " 30%|██▉       | 297/1000 [12:20:26<29:43:41, 152.24s/it]\u001b[A\u001b[A\n",
      "\n",
      " 30%|██▉       | 298/1000 [12:22:58<29:41:20, 152.25s/it]\u001b[A\u001b[A\n",
      "\n",
      " 30%|██▉       | 299/1000 [12:25:32<29:44:05, 152.70s/it]\u001b[A\u001b[A\n",
      "\n",
      " 30%|███       | 300/1000 [12:28:03<29:36:22, 152.26s/it]\u001b[A\u001b[A\n",
      "\n",
      " 30%|███       | 301/1000 [12:30:35<29:31:42, 152.08s/it]\u001b[A\u001b[A\n",
      "\n",
      " 30%|███       | 302/1000 [12:33:07<29:29:33, 152.11s/it]\u001b[A\u001b[A\n",
      "\n",
      " 30%|███       | 303/1000 [12:35:39<29:26:31, 152.07s/it]\u001b[A\u001b[A\n",
      "\n",
      " 30%|███       | 304/1000 [12:38:11<29:24:28, 152.11s/it]\u001b[A\u001b[A\n",
      "\n",
      " 30%|███       | 305/1000 [12:40:44<29:24:22, 152.32s/it]\u001b[A\u001b[A\n",
      "\n",
      " 31%|███       | 306/1000 [12:43:16<29:20:55, 152.24s/it]\u001b[A\u001b[A\n",
      "\n",
      " 31%|███       | 307/1000 [12:45:48<29:18:58, 152.29s/it]\u001b[A\u001b[A\n",
      "\n",
      " 31%|███       | 308/1000 [12:48:20<29:15:09, 152.18s/it]\u001b[A\u001b[A\n",
      "\n",
      " 31%|███       | 309/1000 [12:50:53<29:13:38, 152.27s/it]\u001b[A\u001b[A\n",
      "\n",
      " 31%|███       | 310/1000 [12:53:24<29:08:26, 152.04s/it]\u001b[A\u001b[A\n",
      "\n",
      " 31%|███       | 311/1000 [12:55:56<29:06:20, 152.08s/it]\u001b[A\u001b[A\n",
      "\n",
      " 31%|███       | 312/1000 [12:58:29<29:04:47, 152.16s/it]\u001b[A\u001b[A\n",
      "\n",
      " 31%|███▏      | 313/1000 [13:01:01<29:02:55, 152.22s/it]\u001b[A\u001b[A\n",
      "\n",
      " 31%|███▏      | 314/1000 [13:03:34<29:01:12, 152.29s/it]\u001b[A\u001b[A\n",
      "\n",
      " 32%|███▏      | 315/1000 [13:06:06<28:57:49, 152.22s/it]\u001b[A\u001b[A\n",
      "\n",
      " 32%|███▏      | 316/1000 [13:08:38<28:55:31, 152.24s/it]\u001b[A\u001b[A\n",
      "\n",
      " 32%|███▏      | 317/1000 [13:11:10<28:53:00, 152.24s/it]\u001b[A\u001b[A\n",
      "\n",
      " 32%|███▏      | 318/1000 [13:13:43<28:51:06, 152.30s/it]\u001b[A\u001b[A\n",
      "\n",
      " 32%|███▏      | 319/1000 [13:16:15<28:48:22, 152.28s/it]\u001b[A\u001b[A\n",
      "\n",
      " 32%|███▏      | 320/1000 [13:18:47<28:44:55, 152.20s/it]\u001b[A\u001b[A\n",
      "\n",
      " 32%|███▏      | 321/1000 [13:21:19<28:42:44, 152.23s/it]\u001b[A\u001b[A\n",
      "\n",
      " 32%|███▏      | 322/1000 [13:23:51<28:39:14, 152.15s/it]\u001b[A\u001b[A\n",
      "\n",
      " 32%|███▏      | 323/1000 [13:26:23<28:36:30, 152.13s/it]\u001b[A\u001b[A\n",
      "\n",
      " 32%|███▏      | 324/1000 [13:28:55<28:34:11, 152.15s/it]\u001b[A\u001b[A\n",
      "\n",
      " 32%|███▎      | 325/1000 [13:31:27<28:31:00, 152.09s/it]\u001b[A\u001b[A\n",
      "\n",
      " 33%|███▎      | 326/1000 [13:33:59<28:27:49, 152.03s/it]\u001b[A\u001b[A\n",
      "\n",
      " 33%|███▎      | 327/1000 [13:36:32<28:27:03, 152.19s/it]\u001b[A\u001b[A\n",
      "\n",
      " 33%|███▎      | 328/1000 [13:39:05<28:26:37, 152.38s/it]\u001b[A\u001b[A\n",
      "\n",
      " 33%|███▎      | 329/1000 [13:41:37<28:25:32, 152.51s/it]\u001b[A\u001b[A\n",
      "\n",
      " 33%|███▎      | 330/1000 [13:44:10<28:22:38, 152.48s/it]\u001b[A\u001b[A\n",
      "\n",
      " 33%|███▎      | 331/1000 [13:46:42<28:17:59, 152.29s/it]\u001b[A\u001b[A\n",
      "\n",
      " 33%|███▎      | 332/1000 [13:49:13<28:13:59, 152.15s/it]\u001b[A\u001b[A\n",
      "\n",
      " 33%|███▎      | 333/1000 [13:51:46<28:11:16, 152.14s/it]\u001b[A\u001b[A\n",
      "\n",
      " 33%|███▎      | 334/1000 [13:54:18<28:09:09, 152.18s/it]\u001b[A\u001b[A\n",
      "\n",
      " 34%|███▎      | 335/1000 [13:56:50<28:06:10, 152.14s/it]\u001b[A\u001b[A\n",
      "\n",
      " 34%|███▎      | 336/1000 [13:59:22<28:02:55, 152.07s/it]\u001b[A\u001b[A\n",
      "\n",
      " 34%|███▎      | 337/1000 [14:01:54<28:00:31, 152.08s/it]\u001b[A\u001b[A\n",
      "\n",
      " 34%|███▍      | 338/1000 [14:04:26<27:56:36, 151.96s/it]\u001b[A\u001b[A\n",
      "\n",
      " 34%|███▍      | 339/1000 [14:06:58<27:56:08, 152.15s/it]\u001b[A\u001b[A\n",
      "\n",
      " 34%|███▍      | 340/1000 [14:09:30<27:53:32, 152.14s/it]\u001b[A\u001b[A\n",
      "\n",
      " 34%|███▍      | 341/1000 [14:12:03<27:52:33, 152.28s/it]\u001b[A\u001b[A\n",
      "\n",
      " 34%|███▍      | 342/1000 [14:14:36<27:51:15, 152.39s/it]\u001b[A\u001b[A\n",
      "\n",
      " 34%|███▍      | 343/1000 [14:17:07<27:47:16, 152.26s/it]\u001b[A\u001b[A\n",
      "\n",
      " 34%|███▍      | 344/1000 [14:19:40<27:46:49, 152.45s/it]\u001b[A\u001b[A\n",
      "\n",
      " 34%|███▍      | 345/1000 [14:22:13<27:43:14, 152.36s/it]\u001b[A\u001b[A\n",
      "\n",
      " 35%|███▍      | 346/1000 [14:24:44<27:38:04, 152.12s/it]\u001b[A\u001b[A\n",
      "\n",
      " 35%|███▍      | 347/1000 [14:27:16<27:35:53, 152.15s/it]\u001b[A\u001b[A\n",
      "\n",
      " 35%|███▍      | 348/1000 [14:29:48<27:32:21, 152.06s/it]\u001b[A\u001b[A\n",
      "\n",
      " 35%|███▍      | 349/1000 [14:32:20<27:29:38, 152.04s/it]\u001b[A\u001b[A\n",
      "\n",
      " 35%|███▌      | 350/1000 [14:34:53<27:28:58, 152.21s/it]\u001b[A\u001b[A\n",
      "\n",
      " 35%|███▌      | 351/1000 [14:37:24<27:24:39, 152.05s/it]\u001b[A\u001b[A\n",
      "\n",
      " 35%|███▌      | 352/1000 [14:39:57<27:22:22, 152.07s/it]\u001b[A\u001b[A\n",
      "\n",
      " 35%|███▌      | 353/1000 [14:42:28<27:18:53, 151.98s/it]\u001b[A\u001b[A\n",
      "\n",
      " 35%|███▌      | 354/1000 [14:45:01<27:17:50, 152.12s/it]\u001b[A\u001b[A\n",
      "\n",
      " 36%|███▌      | 355/1000 [14:47:32<27:13:08, 151.92s/it]\u001b[A\u001b[A\n",
      "\n",
      " 36%|███▌      | 356/1000 [14:50:04<27:11:22, 151.99s/it]\u001b[A\u001b[A\n",
      "\n",
      " 36%|███▌      | 357/1000 [14:52:36<27:09:13, 152.03s/it]\u001b[A\u001b[A\n",
      "\n",
      " 36%|███▌      | 358/1000 [14:55:09<27:07:25, 152.10s/it]\u001b[A\u001b[A\n",
      "\n",
      " 36%|███▌      | 359/1000 [14:57:40<27:02:51, 151.91s/it]\u001b[A\u001b[A\n",
      "\n",
      " 36%|███▌      | 360/1000 [15:00:12<27:01:24, 152.01s/it]\u001b[A\u001b[A\n",
      "\n",
      " 36%|███▌      | 361/1000 [15:02:45<27:00:13, 152.13s/it]\u001b[A\u001b[A\n",
      "\n",
      " 36%|███▌      | 362/1000 [15:05:17<26:57:40, 152.13s/it]\u001b[A\u001b[A\n",
      "\n",
      " 36%|███▋      | 363/1000 [15:07:49<26:55:04, 152.13s/it]\u001b[A\u001b[A\n",
      "\n",
      " 36%|███▋      | 364/1000 [15:10:21<26:52:40, 152.14s/it]\u001b[A\u001b[A\n",
      "\n",
      " 36%|███▋      | 365/1000 [15:12:53<26:50:05, 152.13s/it]\u001b[A\u001b[A\n",
      "\n",
      " 37%|███▋      | 366/1000 [15:15:25<26:46:43, 152.06s/it]\u001b[A\u001b[A\n",
      "\n",
      " 37%|███▋      | 367/1000 [15:17:57<26:43:41, 152.01s/it]\u001b[A\u001b[A\n",
      "\n",
      " 37%|███▋      | 368/1000 [15:20:30<26:42:11, 152.11s/it]\u001b[A\u001b[A\n",
      "\n",
      " 37%|███▋      | 369/1000 [15:23:02<26:39:42, 152.11s/it]\u001b[A\u001b[A\n",
      "\n",
      " 37%|███▋      | 370/1000 [15:25:34<26:38:13, 152.21s/it]\u001b[A\u001b[A\n",
      "\n",
      " 37%|███▋      | 371/1000 [15:28:06<26:35:27, 152.19s/it]\u001b[A\u001b[A\n",
      "\n",
      " 37%|███▋      | 372/1000 [15:30:39<26:33:37, 152.26s/it]\u001b[A\u001b[A\n",
      "\n",
      " 37%|███▋      | 373/1000 [15:33:11<26:30:02, 152.16s/it]\u001b[A\u001b[A\n",
      "\n",
      " 37%|███▋      | 374/1000 [15:35:43<26:29:34, 152.36s/it]\u001b[A\u001b[A\n",
      "\n",
      " 38%|███▊      | 375/1000 [15:38:16<26:26:25, 152.30s/it]\u001b[A\u001b[A\n",
      "\n",
      " 38%|███▊      | 376/1000 [15:40:48<26:24:27, 152.35s/it]\u001b[A\u001b[A\n",
      "\n",
      " 38%|███▊      | 377/1000 [15:43:20<26:20:50, 152.25s/it]\u001b[A\u001b[A\n",
      "\n",
      " 38%|███▊      | 378/1000 [15:45:52<26:18:21, 152.25s/it]\u001b[A\u001b[A\n",
      "\n",
      " 38%|███▊      | 379/1000 [15:48:25<26:15:51, 152.26s/it]\u001b[A\u001b[A\n",
      "\n",
      " 38%|███▊      | 380/1000 [15:50:57<26:12:43, 152.20s/it]\u001b[A\u001b[A\n",
      "\n",
      " 38%|███▊      | 381/1000 [15:53:29<26:09:26, 152.13s/it]\u001b[A\u001b[A\n",
      "\n",
      " 38%|███▊      | 382/1000 [15:56:02<26:09:59, 152.43s/it]\u001b[A\u001b[A\n",
      "\n",
      " 38%|███▊      | 383/1000 [15:58:34<26:06:34, 152.34s/it]\u001b[A\u001b[A\n",
      "\n",
      " 38%|███▊      | 384/1000 [16:01:07<26:06:17, 152.56s/it]\u001b[A\u001b[A\n",
      "\n",
      " 38%|███▊      | 385/1000 [16:03:39<26:02:53, 152.48s/it]\u001b[A\u001b[A\n",
      "\n",
      " 39%|███▊      | 386/1000 [16:03:47<18:35:51, 109.04s/it]\u001b[A\u001b[A\n",
      "\n",
      " 39%|███▊      | 387/1000 [16:06:20<20:47:51, 122.14s/it]\u001b[A\u001b[A\n",
      "\n",
      " 39%|███▉      | 388/1000 [16:08:52<22:18:30, 131.23s/it]\u001b[A\u001b[A\n",
      "\n",
      " 39%|███▉      | 389/1000 [16:11:24<23:20:35, 137.54s/it]\u001b[A\u001b[A\n",
      "\n",
      " 39%|███▉      | 390/1000 [16:13:57<24:03:35, 141.99s/it]\u001b[A\u001b[A\n",
      "\n",
      " 39%|███▉      | 391/1000 [16:16:29<24:33:09, 145.14s/it]\u001b[A\u001b[A\n",
      "\n",
      " 39%|███▉      | 392/1000 [16:19:01<24:51:33, 147.19s/it]\u001b[A\u001b[A\n",
      "\n",
      " 39%|███▉      | 393/1000 [16:21:34<25:06:18, 148.89s/it]\u001b[A\u001b[A\n",
      "\n",
      " 39%|███▉      | 394/1000 [16:24:06<25:13:50, 149.89s/it]\u001b[A\u001b[A\n",
      "\n",
      " 40%|███▉      | 395/1000 [16:26:39<25:19:51, 150.73s/it]\u001b[A\u001b[A\n",
      "\n",
      " 40%|███▉      | 396/1000 [16:29:11<25:21:51, 151.18s/it]\u001b[A\u001b[A\n",
      "\n",
      " 40%|███▉      | 397/1000 [16:31:43<25:22:17, 151.47s/it]\u001b[A\u001b[A\n",
      "\n",
      " 40%|███▉      | 398/1000 [16:34:15<25:21:36, 151.66s/it]\u001b[A\u001b[A\n",
      "\n",
      " 40%|███▉      | 399/1000 [16:36:48<25:21:26, 151.89s/it]\u001b[A\u001b[A\n",
      "\n",
      " 40%|████      | 400/1000 [16:39:21<25:22:06, 152.21s/it]\u001b[A\u001b[A\n",
      "\n",
      " 40%|████      | 401/1000 [16:41:54<25:22:06, 152.47s/it]\u001b[A\u001b[A\n",
      "\n",
      " 40%|████      | 402/1000 [16:44:27<25:22:40, 152.78s/it]\u001b[A\u001b[A\n",
      "\n",
      " 40%|████      | 403/1000 [16:47:00<25:20:50, 152.85s/it]\u001b[A\u001b[A\n",
      "\n",
      " 40%|████      | 404/1000 [16:49:35<25:22:45, 153.30s/it]\u001b[A\u001b[A\n",
      "\n",
      " 40%|████      | 405/1000 [16:52:07<25:18:03, 153.08s/it]\u001b[A\u001b[A\n",
      "\n",
      " 41%|████      | 406/1000 [16:54:40<25:14:10, 152.95s/it]\u001b[A\u001b[A\n",
      "\n",
      " 41%|████      | 407/1000 [16:57:13<25:11:48, 152.97s/it]\u001b[A\u001b[A\n",
      "\n",
      " 41%|████      | 408/1000 [16:59:48<25:14:44, 153.52s/it]\u001b[A\u001b[A\n",
      "\n",
      " 41%|████      | 409/1000 [17:02:23<25:16:23, 153.95s/it]\u001b[A\u001b[A\n",
      "\n",
      " 41%|████      | 410/1000 [17:06:14<29:00:48, 177.03s/it]\u001b[A\u001b[A\n",
      "\n",
      " 41%|████      | 411/1000 [17:10:36<33:08:20, 202.55s/it]\u001b[A\u001b[A\n",
      "\n",
      " 41%|████      | 412/1000 [17:15:04<36:17:04, 222.15s/it]\u001b[A\u001b[A\n",
      "\n",
      " 41%|████▏     | 413/1000 [17:19:30<38:21:58, 235.30s/it]\u001b[A\u001b[A\n",
      "\n",
      " 41%|████▏     | 414/1000 [17:23:54<39:43:19, 244.03s/it]\u001b[A\u001b[A\n",
      "\n",
      " 42%|████▏     | 415/1000 [17:27:28<38:11:02, 234.98s/it]\u001b[A\u001b[A\n",
      "\n",
      " 42%|████▏     | 416/1000 [17:30:01<34:08:28, 210.46s/it]\u001b[A\u001b[A\n",
      "\n",
      " 42%|████▏     | 417/1000 [17:32:34<31:16:19, 193.10s/it]\u001b[A\u001b[A\n",
      "\n",
      " 42%|████▏     | 418/1000 [17:35:08<29:21:30, 181.60s/it]\u001b[A\u001b[A\n",
      "\n",
      " 42%|████▏     | 419/1000 [17:37:41<27:54:27, 172.92s/it]\u001b[A\u001b[A\n",
      "\n",
      " 42%|████▏     | 420/1000 [17:40:15<26:56:06, 167.18s/it]\u001b[A\u001b[A\n",
      "\n",
      " 42%|████▏     | 421/1000 [17:42:49<26:15:58, 163.31s/it]\u001b[A\u001b[A\n",
      "\n",
      " 42%|████▏     | 422/1000 [17:45:24<25:48:01, 160.69s/it]\u001b[A\u001b[A\n",
      "\n",
      " 42%|████▏     | 423/1000 [17:47:59<25:29:00, 159.00s/it]\u001b[A\u001b[A\n",
      "\n",
      " 42%|████▏     | 424/1000 [17:50:32<25:09:32, 157.24s/it]\u001b[A\u001b[A\n",
      "\n",
      " 42%|████▎     | 425/1000 [17:53:05<24:54:08, 155.91s/it]\u001b[A\u001b[A\n",
      "\n",
      " 43%|████▎     | 426/1000 [17:55:40<24:48:27, 155.59s/it]\u001b[A\u001b[A\n",
      "\n",
      " 43%|████▎     | 427/1000 [17:58:14<24:43:25, 155.33s/it]\u001b[A\u001b[A\n",
      "\n",
      " 43%|████▎     | 428/1000 [18:00:49<24:39:32, 155.20s/it]\u001b[A\u001b[A\n",
      "\n",
      " 43%|████▎     | 429/1000 [18:03:24<24:36:22, 155.14s/it]\u001b[A\u001b[A\n",
      "\n",
      " 43%|████▎     | 430/1000 [18:05:59<24:32:15, 154.97s/it]\u001b[A\u001b[A\n",
      "\n",
      " 43%|████▎     | 431/1000 [18:08:34<24:29:27, 154.95s/it]\u001b[A\u001b[A\n",
      "\n",
      " 43%|████▎     | 432/1000 [18:11:09<24:27:38, 155.03s/it]\u001b[A\u001b[A\n",
      "\n",
      " 43%|████▎     | 433/1000 [18:13:44<24:24:41, 154.99s/it]\u001b[A\u001b[A\n",
      "\n",
      " 43%|████▎     | 434/1000 [18:16:18<24:21:08, 154.89s/it]\u001b[A\u001b[A\n",
      "\n",
      " 44%|████▎     | 435/1000 [18:18:53<24:17:52, 154.82s/it]\u001b[A\u001b[A\n",
      "\n",
      " 44%|████▎     | 436/1000 [18:21:28<24:14:32, 154.74s/it]\u001b[A\u001b[A\n",
      "\n",
      " 44%|████▎     | 437/1000 [18:24:03<24:12:28, 154.79s/it]\u001b[A\u001b[A\n",
      "\n",
      " 44%|████▍     | 438/1000 [18:26:38<24:10:52, 154.90s/it]\u001b[A\u001b[A\n",
      "\n",
      " 44%|████▍     | 439/1000 [18:29:12<24:06:58, 154.76s/it]\u001b[A\u001b[A\n",
      "\n",
      " 44%|████▍     | 440/1000 [18:31:47<24:04:58, 154.82s/it]\u001b[A\u001b[A\n",
      "\n",
      " 44%|████▍     | 441/1000 [18:34:23<24:04:10, 155.01s/it]\u001b[A\u001b[A\n",
      "\n",
      " 44%|████▍     | 442/1000 [18:36:57<23:59:40, 154.80s/it]\u001b[A\u001b[A\n",
      "\n",
      " 44%|████▍     | 443/1000 [18:39:31<23:55:53, 154.67s/it]\u001b[A\u001b[A\n",
      "\n",
      " 44%|████▍     | 444/1000 [18:42:06<23:53:11, 154.66s/it]\u001b[A\u001b[A\n",
      "\n",
      " 44%|████▍     | 445/1000 [18:44:40<23:49:43, 154.57s/it]\u001b[A\u001b[A\n",
      "\n",
      " 45%|████▍     | 446/1000 [18:47:14<23:44:30, 154.28s/it]\u001b[A\u001b[A\n",
      "\n",
      " 45%|████▍     | 447/1000 [18:49:47<23:38:45, 153.93s/it]\u001b[A\u001b[A\n",
      "\n",
      " 45%|████▍     | 448/1000 [18:52:20<23:33:41, 153.66s/it]\u001b[A\u001b[A\n",
      "\n",
      " 45%|████▍     | 449/1000 [18:54:53<23:29:15, 153.46s/it]\u001b[A\u001b[A\n",
      "\n",
      " 45%|████▌     | 450/1000 [18:57:26<23:25:09, 153.29s/it]\u001b[A\u001b[A\n",
      "\n",
      " 45%|████▌     | 451/1000 [19:00:01<23:26:31, 153.72s/it]\u001b[A\u001b[A\n",
      "\n",
      " 45%|████▌     | 452/1000 [19:02:33<23:21:25, 153.44s/it]\u001b[A\u001b[A\n",
      "\n",
      " 45%|████▌     | 453/1000 [19:05:06<23:17:03, 153.24s/it]\u001b[A\u001b[A\n",
      "\n",
      " 45%|████▌     | 454/1000 [19:07:39<23:13:15, 153.11s/it]\u001b[A\u001b[A\n",
      "\n",
      " 46%|████▌     | 455/1000 [19:10:12<23:10:05, 153.04s/it]\u001b[A\u001b[A\n",
      "\n",
      " 46%|████▌     | 456/1000 [19:12:45<23:07:04, 152.99s/it]\u001b[A\u001b[A\n",
      "\n",
      " 46%|████▌     | 457/1000 [19:15:18<23:04:08, 152.94s/it]\u001b[A\u001b[A\n",
      "\n",
      " 46%|████▌     | 458/1000 [19:17:49<22:58:48, 152.63s/it]\u001b[A\u001b[A\n",
      "\n",
      " 46%|████▌     | 459/1000 [19:20:22<22:56:32, 152.67s/it]\u001b[A\u001b[A\n",
      "\n",
      " 46%|████▌     | 460/1000 [19:22:57<22:59:24, 153.27s/it]\u001b[A\u001b[A\n",
      "\n",
      " 46%|████▌     | 461/1000 [19:25:32<23:00:57, 153.72s/it]\u001b[A\u001b[A\n",
      "\n",
      " 46%|████▌     | 462/1000 [19:28:06<22:59:08, 153.81s/it]\u001b[A\u001b[A\n",
      "\n",
      " 46%|████▋     | 463/1000 [19:30:39<22:54:56, 153.63s/it]\u001b[A\u001b[A\n",
      "\n",
      " 46%|████▋     | 464/1000 [19:33:12<22:50:51, 153.45s/it]\u001b[A\u001b[A\n",
      "\n",
      " 46%|████▋     | 465/1000 [19:35:45<22:46:51, 153.29s/it]\u001b[A\u001b[A\n",
      "\n",
      " 47%|████▋     | 466/1000 [19:38:18<22:43:22, 153.19s/it]\u001b[A\u001b[A\n",
      "\n",
      " 47%|████▋     | 467/1000 [19:40:50<22:39:30, 153.04s/it]\u001b[A\u001b[A\n",
      "\n",
      " 47%|████▋     | 468/1000 [19:43:24<22:37:51, 153.14s/it]\u001b[A\u001b[A\n",
      "\n",
      " 47%|████▋     | 469/1000 [19:45:56<22:33:35, 152.95s/it]\u001b[A\u001b[A\n",
      "\n",
      " 47%|████▋     | 470/1000 [19:48:31<22:35:07, 153.41s/it]\u001b[A\u001b[A\n",
      "\n",
      " 47%|████▋     | 471/1000 [19:51:05<22:35:54, 153.79s/it]\u001b[A\u001b[A\n",
      "\n",
      " 47%|████▋     | 472/1000 [19:53:39<22:32:31, 153.70s/it]\u001b[A\u001b[A\n",
      "\n",
      " 47%|████▋     | 473/1000 [19:56:12<22:29:23, 153.63s/it]\u001b[A\u001b[A\n",
      "\n",
      " 47%|████▋     | 474/1000 [19:58:46<22:26:05, 153.55s/it]\u001b[A\u001b[A\n",
      "\n",
      " 48%|████▊     | 475/1000 [20:01:19<22:22:15, 153.40s/it]\u001b[A\u001b[A\n",
      "\n",
      " 48%|████▊     | 476/1000 [20:01:29<16:05:02, 110.50s/it]\u001b[A\u001b[A\n",
      "\n",
      " 48%|████▊     | 477/1000 [20:04:01<17:52:02, 122.99s/it]\u001b[A\u001b[A\n",
      "\n",
      " 48%|████▊     | 478/1000 [20:06:35<19:09:09, 132.09s/it]\u001b[A\u001b[A\n",
      "\n",
      " 48%|████▊     | 479/1000 [20:09:08<20:02:23, 138.47s/it]\u001b[A\u001b[A\n",
      "\n",
      " 48%|████▊     | 480/1000 [20:11:41<20:36:40, 142.69s/it]\u001b[A\u001b[A\n",
      "\n",
      " 48%|████▊     | 481/1000 [20:14:15<21:03:33, 146.08s/it]\u001b[A\u001b[A\n",
      "\n",
      " 48%|████▊     | 482/1000 [20:16:47<21:18:33, 148.10s/it]\u001b[A\u001b[A\n",
      "\n",
      " 48%|████▊     | 483/1000 [20:19:21<21:31:38, 149.90s/it]\u001b[A\u001b[A\n",
      "\n",
      " 48%|████▊     | 484/1000 [20:21:57<21:42:41, 151.48s/it]\u001b[A\u001b[A\n",
      "\n",
      " 48%|████▊     | 485/1000 [20:24:33<21:51:43, 152.82s/it]\u001b[A\u001b[A\n",
      "\n",
      " 49%|████▊     | 486/1000 [20:27:07<21:53:37, 153.34s/it]\u001b[A\u001b[A\n",
      "\n",
      " 49%|████▊     | 487/1000 [20:27:11<15:27:50, 108.52s/it]\u001b[A\u001b[A\n",
      "\n",
      " 49%|████▉     | 488/1000 [20:29:45<17:21:41, 122.07s/it]\u001b[A\u001b[A\n",
      "\n",
      " 49%|████▉     | 489/1000 [20:32:19<18:40:37, 131.58s/it]\u001b[A\u001b[A\n",
      "\n",
      " 49%|████▉     | 490/1000 [20:34:53<19:37:21, 138.51s/it]\u001b[A\u001b[A\n",
      "\n",
      " 49%|████▉     | 491/1000 [20:37:28<20:15:26, 143.27s/it]\u001b[A\u001b[A\n",
      "\n",
      " 49%|████▉     | 492/1000 [20:40:04<20:45:07, 147.06s/it]\u001b[A\u001b[A\n",
      "\n",
      " 49%|████▉     | 493/1000 [20:42:36<20:56:14, 148.67s/it]\u001b[A\u001b[A\n",
      "\n",
      " 49%|████▉     | 494/1000 [20:45:09<21:05:32, 150.06s/it]\u001b[A\u001b[A\n",
      "\n",
      " 50%|████▉     | 495/1000 [20:47:42<21:10:59, 151.01s/it]\u001b[A\u001b[A\n",
      "\n",
      " 50%|████▉     | 496/1000 [20:50:16<21:14:06, 151.68s/it]\u001b[A\u001b[A\n",
      "\n",
      " 50%|████▉     | 497/1000 [20:52:48<21:13:37, 151.92s/it]\u001b[A\u001b[A\n",
      "\n",
      " 50%|████▉     | 498/1000 [20:55:21<21:13:57, 152.27s/it]\u001b[A\u001b[A\n",
      "\n",
      " 50%|████▉     | 499/1000 [20:57:55<21:14:33, 152.64s/it]\u001b[A\u001b[A\n",
      "\n",
      " 50%|█████     | 500/1000 [21:00:28<21:13:48, 152.86s/it]\u001b[A\u001b[A\n",
      "\n",
      " 50%|█████     | 501/1000 [21:03:01<21:11:22, 152.87s/it]\u001b[A\u001b[A\n",
      "\n",
      " 50%|█████     | 502/1000 [21:05:35<21:12:10, 153.27s/it]\u001b[A\u001b[A\n",
      "\n",
      " 50%|█████     | 503/1000 [21:08:09<21:10:54, 153.43s/it]\u001b[A\u001b[A\n",
      "\n",
      " 50%|█████     | 504/1000 [21:10:44<21:10:54, 153.74s/it]\u001b[A\u001b[A"
     ]
    }
   ],
   "source": [
    "%%time\n",
    "\n",
    "folder = '/data_lg/olga/maca/facs/sourmash_compute_tissue_subset/'\n",
    "\n",
    "filenames = glob.glob(f'{folder}/*.sig')\n",
    "\n",
    "\n",
    "siglist = []\n",
    "\n",
    "for filename in tqdm(filenames):\n",
    "    loaded = sig.load_signatures(filename)\n",
    "    siglist.extend(loaded)"
   ]
  },
  {
   "cell_type": "code",
   "execution_count": 1,
   "metadata": {},
   "outputs": [
    {
     "name": "stdout",
     "output_type": "stream",
     "text": [
      "total 241G\r\n",
      "drwxrwxr-x 4 olga olga 128K Feb 27 11:18 .\r\n",
      "drwxrwxr-x 3 olga olga 4.0K Feb  7 11:53 ..\r\n",
      "-rw-rw-r-- 1 olga olga 161M Nov  3 04:09 A10-B000971-3_39_F-1-1.sig\r\n",
      "-rw-rw-r-- 1 olga olga 162M Nov  3 02:17 A10-B002775-3_39_F-1-1.sig\r\n",
      "-rw-rw-r-- 1 olga olga 161M Nov  3 02:39 A10-D041914-3_8_M-1-1.sig\r\n",
      "-rw-rw-r-- 1 olga olga 4.9M Oct 31 17:24 A10-MAA000559-3_8_M-1-1.sig\r\n",
      "-rw-rw-r-- 1 olga olga 161M Nov  3 03:36 A11-D041914-3_8_M-1-1.sig\r\n",
      "-rw-rw-r-- 1 olga olga 162M Nov  3 01:21 A11-MAA000559-3_8_M-1-1.sig\r\n",
      "-rw-rw-r-- 1 olga olga 159M Nov  3 01:27 A11-MAA000577-3_8_M-1-1.sig\r\n",
      "ls: write error: Broken pipe\r\n"
     ]
    }
   ],
   "source": [
    "!ls -lha /data_lg/olga/maca/facs/sourmash_compute_tissue_subset/ | head"
   ]
  },
  {
   "cell_type": "code",
   "execution_count": null,
   "metadata": {},
   "outputs": [],
   "source": []
  },
  {
   "cell_type": "code",
   "execution_count": 17,
   "metadata": {},
   "outputs": [
    {
     "data": {
      "text/plain": [
       "range(0, 2)"
      ]
     },
     "execution_count": 17,
     "metadata": {},
     "output_type": "execute_result"
    }
   ],
   "source": [
    "range(2)"
   ]
  },
  {
   "cell_type": "code",
   "execution_count": 19,
   "metadata": {},
   "outputs": [
    {
     "data": {
      "text/plain": [
       "1000"
      ]
     },
     "execution_count": 19,
     "metadata": {},
     "output_type": "execute_result"
    }
   ],
   "source": [
    "len(filenames)"
   ]
  },
  {
   "cell_type": "code",
   "execution_count": 18,
   "metadata": {},
   "outputs": [
    {
     "data": {
      "text/plain": [
       "7948"
      ]
     },
     "execution_count": 18,
     "metadata": {},
     "output_type": "execute_result"
    }
   ],
   "source": [
    "len(siglist)"
   ]
  },
  {
   "cell_type": "code",
   "execution_count": 23,
   "metadata": {},
   "outputs": [
    {
     "data": {
      "text/plain": [
       "SourmashSignature('B18-MAA000907-3_11_M-1-1|tissue:Liver|subtissue:Non-hepatocytes|cell_ontology_class:endothelial_cell_of_hepatic_sinusoid|free_annotation:NA', eac1bcca)"
      ]
     },
     "execution_count": 23,
     "metadata": {},
     "output_type": "execute_result"
    }
   ],
   "source": [
    "siglist[0]"
   ]
  },
  {
   "cell_type": "code",
   "execution_count": 24,
   "metadata": {},
   "outputs": [
    {
     "name": "stdout",
     "output_type": "stream",
     "text": [
      "\r\n",
      "from joblib import Parallel, delayed\r\n",
      "import itertools\r\n",
      "\r\n",
      "def jaccard_sigs(i, j, siglist):\r\n",
      "    return siglist[i].jaccard(siglist[j])\r\n",
      "\r\n",
      "def jaccard_sigs_idf(i, j, siglist, idf, mean_idf_per_cell):\r\n",
      "    i_hashes = filter_idf(siglist[i].get_mins(), inverse_document_frequency, mean_idf_per_cell)\r\n",
      "    j_hashes = filter_idf(siglist[j].get_mins(), inverse_document_frequency, mean_idf_per_cell)\r\n",
      "    return jacard(i_hashes, j_hashes)\r\n",
      "\r\n",
      "\r\n",
      "def jaccard(sample1, sample2):\r\n",
      "    \"\"\"Jaccard similarity between two sets\"\"\"\r\n",
      "    intersection = len(sample1.intersection(sample2))\r\n",
      "    union = len(sample1.union(sample2))\r\n",
      "    return intersection/union"
     ]
    }
   ],
   "source": [
    "cat jaccard_utils.py"
   ]
  },
  {
   "cell_type": "markdown",
   "metadata": {},
   "source": [
    "#### Write the pickle file"
   ]
  },
  {
   "cell_type": "code",
   "execution_count": 20,
   "metadata": {},
   "outputs": [
    {
     "name": "stdout",
     "output_type": "stream",
     "text": [
      "CPU times: user 1h 6min 56s, sys: 2min 42s, total: 1h 9min 38s\n",
      "Wall time: 1h 9min 33s\n"
     ]
    }
   ],
   "source": [
    "%%time\n",
    "\n",
    "import pickle\n",
    "\n",
    "pickle_filename = f'{folder}/siglist.pickle'\n",
    "\n",
    "with open(pickle_filename, 'wb') as f:\n",
    "    pickle.dump(siglist, f)"
   ]
  },
  {
   "cell_type": "code",
   "execution_count": 21,
   "metadata": {},
   "outputs": [
    {
     "data": {
      "text/plain": [
       "range(0, 3)"
      ]
     },
     "execution_count": 21,
     "metadata": {},
     "output_type": "execute_result"
    }
   ],
   "source": [
    "range(3)"
   ]
  },
  {
   "cell_type": "code",
   "execution_count": 22,
   "metadata": {},
   "outputs": [
    {
     "name": "stdout",
     "output_type": "stream",
     "text": [
      "-rw-rw-r-- 1 olga olga 87G Feb 12 20:01 /data_lg/olga/maca/facs/sourmash_compute_tissue_subset//siglist.pickle\r\n"
     ]
    }
   ],
   "source": [
    "ls -lha $pickle_filename"
   ]
  },
  {
   "cell_type": "code",
   "execution_count": 25,
   "metadata": {},
   "outputs": [],
   "source": [
    "def filter_siglist(siglist, ksize, moltype):\n",
    "    if moltype == 'protein':\n",
    "        molfilter = lambda x: x.minhash.is_protein\n",
    "    else:\n",
    "        molfilter = lambda x: not x.minhash.is_protein\n",
    "    \n",
    "    return [s for s in siglist if molfilter(s) and (s.minhash.ksize == ksize)]\n"
   ]
  },
  {
   "cell_type": "code",
   "execution_count": 27,
   "metadata": {},
   "outputs": [
    {
     "name": "stdout",
     "output_type": "stream",
     "text": [
      "CPU times: user 11.2 ms, sys: 0 ns, total: 11.2 ms\n",
      "Wall time: 10.8 ms\n",
      "974\n"
     ]
    },
    {
     "data": {
      "text/plain": [
       "[SourmashSignature('B18-MAA000907-3_11_M-1-1|tissue:Liver|subtissue:Non-hepatocytes|cell_ontology_class:endothelial_cell_of_hepatic_sinusoid|free_annotation:NA', 42691629),\n",
       " SourmashSignature('K12-D041914-3_8_M-1-1|tissue:Bladder|subtissue:NA|cell_ontology_class:bladder_cell|free_annotation:Bladder_mesenchymal_cell', 933d809f),\n",
       " SourmashSignature('O14-B001717-3_38_F-1-1|tissue:Kidney|subtissue:NA|cell_ontology_class:endothelial_cell|free_annotation:NA', 38ddea47),\n",
       " SourmashSignature('L19-B001750-3_38_F-1-1|tissue:Spleen|subtissue:NA|cell_ontology_class:B_cell|free_annotation:NA', c04cf989),\n",
       " SourmashSignature('E6-D041914-3_8_M-1-1|tissue:Bladder|subtissue:NA|cell_ontology_class:bladder_cell|free_annotation:Bladder_mesenchymal_cell', 14b26b76)]"
      ]
     },
     "execution_count": 27,
     "metadata": {},
     "output_type": "execute_result"
    }
   ],
   "source": [
    "%time siglist_k27_dna = filter_siglist(siglist, 27, \"DNA\")\n",
    "print(len(siglist_k27_dna))\n",
    "siglist_k27_dna[:5]"
   ]
  },
  {
   "cell_type": "code",
   "execution_count": 28,
   "metadata": {},
   "outputs": [
    {
     "name": "stdout",
     "output_type": "stream",
     "text": [
      "\r\n",
      "from joblib import Parallel, delayed\r\n",
      "import itertools\r\n",
      "\r\n",
      "def jaccard_sigs(i, j, siglist):\r\n",
      "    return siglist[i].jaccard(siglist[j])\r\n",
      "\r\n",
      "def jaccard_sigs_idf(i, j, siglist, idf, mean_idf_per_cell):\r\n",
      "    i_hashes = filter_idf(siglist[i].get_mins(), inverse_document_frequency, mean_idf_per_cell)\r\n",
      "    j_hashes = filter_idf(siglist[j].get_mins(), inverse_document_frequency, mean_idf_per_cell)\r\n",
      "    return jacard(i_hashes, j_hashes)\r\n",
      "\r\n",
      "\r\n",
      "def jaccard(sample1, sample2):\r\n",
      "    \"\"\"Jaccard similarity between two sets\"\"\"\r\n",
      "    intersection = len(sample1.intersection(sample2))\r\n",
      "    union = len(sample1.union(sample2))\r\n",
      "    return intersection/union"
     ]
    }
   ],
   "source": [
    "cat jaccard_utils.py"
   ]
  },
  {
   "cell_type": "code",
   "execution_count": 83,
   "metadata": {},
   "outputs": [],
   "source": [
    "import itertools\n",
    "\n",
    "import numpy as np\n",
    "from scipy.spatial.distance import squareform\n",
    "from joblib import Parallel, delayed\n",
    "\n",
    "\n",
    "def _compare_serial(siglist, iterator):\n",
    "    n = len(siglist)\n",
    "    values = np.ones((n, n))\n",
    "    \n",
    "    for i, j in iterator:\n",
    "        jaccard = siglist[i].jaccard(siglist[j])\n",
    "        \n",
    "        values[i, j] = jaccard\n",
    "        values[j, i] = jaccard\n",
    "        \n",
    "    return values\n",
    "\n",
    "\n",
    "def compare_all_pairs(siglist, n_jobs=None, verbose=0, **kws):\n",
    "    n = len(siglist)\n",
    "    \n",
    "    # Combinations makes all unique sets of pairs, e.g. (A, B) but not (B, A)\n",
    "    iterator = itertools.combinations(range(n), 2)\n",
    "    sig_iterator = itertools.combinations(siglist, 2)\n",
    "    \n",
    "    if n_jobs is None:\n",
    "        values = _compare_serial(siglist, iterator)\n",
    "    else:\n",
    "        # This creates a condensed distance matrix\n",
    "        condensed = Parallel(n_jobs=n_jobs, verbose=verbose, **kws)(delayed(sig1.jaccard)(sig2) for sig1, sig2 in sig_iterator)\n",
    "        values = squareform(condensed)\n",
    "#         values = condensed\n",
    "        \n",
    "    return values"
   ]
  },
  {
   "cell_type": "markdown",
   "metadata": {},
   "source": [
    "## Serial vs parallel comparison"
   ]
  },
  {
   "cell_type": "code",
   "execution_count": 57,
   "metadata": {},
   "outputs": [
    {
     "name": "stdout",
     "output_type": "stream",
     "text": [
      "CPU times: user 4.71 s, sys: 40 ms, total: 4.75 s\n",
      "Wall time: 4.74 s\n"
     ]
    },
    {
     "data": {
      "text/plain": [
       "array([[1.      , 0.052594, 0.036896, 0.032664, 0.05257 ],\n",
       "       [0.052594, 1.      , 0.048739, 0.044368, 0.104441],\n",
       "       [0.036896, 0.048739, 1.      , 0.034484, 0.046098],\n",
       "       [0.032664, 0.044368, 0.034484, 1.      , 0.0453  ],\n",
       "       [0.05257 , 0.104441, 0.046098, 0.0453  , 1.      ]])"
      ]
     },
     "execution_count": 57,
     "metadata": {},
     "output_type": "execute_result"
    }
   ],
   "source": [
    "%time compare_all_pairs(siglist_k27_dna[:5])"
   ]
  },
  {
   "cell_type": "code",
   "execution_count": 58,
   "metadata": {},
   "outputs": [
    {
     "data": {
      "text/plain": [
       "16.4638"
      ]
     },
     "execution_count": 58,
     "metadata": {},
     "output_type": "execute_result"
    }
   ],
   "source": [
    "n = 6.26\n",
    "n*(n-1)/2"
   ]
  },
  {
   "cell_type": "code",
   "execution_count": 67,
   "metadata": {
    "scrolled": false
   },
   "outputs": [
    {
     "name": "stdout",
     "output_type": "stream",
     "text": [
      "         669 function calls in 242.735 seconds\n",
      "\n",
      "   Ordered by: standard name\n",
      "\n",
      "   ncalls  tottime  percall  cumtime  percall filename:lineno(function)\n",
      "        1    0.000    0.000  242.735  242.735 <ipython-input-65-564599965297>:21(compare_all_pairs)\n",
      "        4    0.000    0.000    0.000    0.000 <ipython-input-65-564599965297>:32(<genexpr>)\n",
      "        1    0.000    0.000  242.735  242.735 <string>:1(<module>)\n",
      "        4    0.000    0.000    0.000    0.000 _base.py:312(__init__)\n",
      "       10    0.000    0.000    0.000    0.000 _base.py:382(__get_result)\n",
      "        4    0.000    0.000    0.000    0.000 _base.py:388(add_done_callback)\n",
      "       10    0.000    0.000  242.510   24.251 _base.py:405(result)\n",
      "        1    0.000    0.000    0.000    0.000 _collections_abc.py:657(get)\n",
      "        1    0.000    0.000    0.000    0.000 _memmapping_reducer.py:122(_get_temp_dir)\n",
      "        2    0.000    0.000    0.000    0.000 _memmapping_reducer.py:279(__init__)\n",
      "        1    0.000    0.000    0.000    0.000 _memmapping_reducer.py:364(get_memmapping_reducers)\n",
      "        2    0.000    0.000    0.000    0.000 _memmapping_reducer.py:69(__init__)\n",
      "        5    0.000    0.000    0.000    0.000 _parallel_backends.py:120(get_nested_backend)\n",
      "        2    0.000    0.000    0.000    0.000 _parallel_backends.py:133(retrieval_context)\n",
      "        1    0.000    0.000    0.000    0.000 _parallel_backends.py:254(__init__)\n",
      "        5    0.000    0.000    0.000    0.000 _parallel_backends.py:258(compute_batch_size)\n",
      "        1    0.000    0.000    0.000    0.000 _parallel_backends.py:321(reset_batch_stats)\n",
      "        5    0.000    0.000    0.000    0.000 _parallel_backends.py:36(__init__)\n",
      "        1    0.000    0.000    0.000    0.000 _parallel_backends.py:465(configure)\n",
      "        1    0.000    0.000    0.000    0.000 _parallel_backends.py:480(effective_n_jobs)\n",
      "        4    0.000    0.000    0.223    0.056 _parallel_backends.py:508(apply_async)\n",
      "       10    0.000    0.000  242.510   24.251 _parallel_backends.py:516(wrap_future_result)\n",
      "        1    0.000    0.000    0.000    0.000 _parallel_backends.py:525(terminate)\n",
      "        4    0.000    0.000    0.000    0.000 _parallel_backends.py:562(__init__)\n",
      "        1    0.000    0.000    0.000    0.000 _parallel_backends.py:76(start_call)\n",
      "        1    0.000    0.000    0.000    0.000 _parallel_backends.py:79(stop_call)\n",
      "        4    0.000    0.000    0.000    0.000 connection.py:134(_check_closed)\n",
      "        4    0.000    0.000    0.000    0.000 connection.py:142(_check_writable)\n",
      "        4    0.000    0.000    0.223    0.056 connection.py:181(send_bytes)\n",
      "        4    0.000    0.000    0.223    0.056 connection.py:365(_send)\n",
      "        4    0.000    0.000    0.223    0.056 connection.py:390(_send_bytes)\n",
      "        1    0.000    0.000    0.000    0.000 context.py:232(get_context)\n",
      "        1    0.000    0.000    0.000    0.000 contextlib.py:157(helper)\n",
      "        1    0.000    0.000    0.000    0.000 contextlib.py:59(__init__)\n",
      "        1    0.000    0.000    0.000    0.000 contextlib.py:79(__enter__)\n",
      "        1    0.000    0.000    0.000    0.000 contextlib.py:85(__exit__)\n",
      "        2    0.000    0.000    0.000    0.000 disk.py:104(delete_folder)\n",
      "        1    0.000    0.000    0.000    0.000 disk.py:41(memstr_to_bytes)\n",
      "        1    0.000    0.000    0.000    0.000 executor.py:20(get_memmapping_executor)\n",
      "        4    0.000    0.000    0.000    0.000 functools.py:44(update_wrapper)\n",
      "        4    0.000    0.000    0.000    0.000 functools.py:74(wraps)\n",
      "        3    0.000    0.000    0.000    0.000 genericpath.py:16(exists)\n",
      "        2    0.000    0.000    0.000    0.000 genericpath.py:39(isdir)\n",
      "        1    0.000    0.000    0.000    0.000 genericpath.py:87(samestat)\n",
      "        1    0.000    0.000    0.000    0.000 logger.py:23(_squeeze_time)\n",
      "        1    0.000    0.000    0.000    0.000 logger.py:39(short_format_time)\n",
      "        1    0.000    0.000    0.000    0.000 os.py:195(makedirs)\n",
      "        1    0.000    0.000    0.000    0.000 os.py:664(__getitem__)\n",
      "        1    0.000    0.000    0.000    0.000 os.py:742(encode)\n",
      "        5    0.000    0.000    0.000    0.000 parallel.py:209(__init__)\n",
      "       13    0.000    0.000    0.000    0.000 parallel.py:227(__len__)\n",
      "        4    0.000    0.000    0.000    0.000 parallel.py:264(delayed)\n",
      "        4    0.000    0.000    0.000    0.000 parallel.py:274(delayed_function)\n",
      "        4    0.000    0.000    0.000    0.000 parallel.py:295(__init__)\n",
      "        1    0.000    0.000    0.000    0.000 parallel.py:584(__init__)\n",
      "        1    0.000    0.000    0.000    0.000 parallel.py:669(_initialize_backend)\n",
      "        1    0.000    0.000    0.000    0.000 parallel.py:694(_terminate_backend)\n",
      "        4    0.000    0.000    0.223    0.056 parallel.py:698(_dispatch)\n",
      "        5    0.000    0.000    0.223    0.045 parallel.py:735(dispatch_one_batch)\n",
      "        2    0.000    0.000    0.000    0.000 parallel.py:762(_print)\n",
      "        1    0.000    0.000    0.000    0.000 parallel.py:78(get_active_backend)\n",
      "        1    0.000    0.000  242.511  242.511 parallel.py:818(retrieve)\n",
      "        1    0.000    0.000  242.735  242.735 parallel.py:866(__call__)\n",
      "        1    0.000    0.000    0.000    0.000 pickle.py:275(whichmodule)\n",
      "        1    0.000    0.000    0.000    0.000 posixpath.py:104(split)\n",
      "        1    0.000    0.000    0.000    0.000 posixpath.py:232(expanduser)\n",
      "        1    0.000    0.000    0.000    0.000 posixpath.py:338(normpath)\n",
      "        1    0.000    0.000    0.000    0.000 posixpath.py:376(abspath)\n",
      "        4    0.000    0.000    0.000    0.000 posixpath.py:41(_get_sep)\n",
      "        1    0.000    0.000    0.000    0.000 posixpath.py:64(isabs)\n",
      "        2    0.000    0.000    0.000    0.000 posixpath.py:75(join)\n",
      "        1    0.000    0.000    0.000    0.000 process.py:155(daemon)\n",
      "        1    0.000    0.000    0.000    0.000 process.py:35(current_process)\n",
      "        4    0.000    0.000    0.000    0.000 process_executor.py:1011(_ensure_executor_running)\n",
      "        4    0.000    0.000    0.223    0.056 process_executor.py:1019(submit)\n",
      "        4    0.000    0.000    0.223    0.056 process_executor.py:149(wakeup)\n",
      "        4    0.000    0.000    0.000    0.000 process_executor.py:244(__init__)\n",
      "        4    0.000    0.000    0.000    0.000 process_executor.py:949(_start_queue_management_thread)\n",
      "        4    0.000    0.000    0.000    0.000 queue.py:115(put)\n",
      "        4    0.000    0.000    0.000    0.000 queue.py:206(_put)\n",
      "        1    0.000    0.000    0.000    0.000 random.py:173(randrange)\n",
      "        1    0.000    0.000    0.000    0.000 random.py:217(randint)\n",
      "        1    0.000    0.000    0.000    0.000 random.py:223(_randbelow)\n",
      "        4    0.000    0.000    0.223    0.056 reusable_executor.py:148(submit)\n",
      "        1    0.000    0.000    0.000    0.000 reusable_executor.py:153(_resize)\n",
      "        1    0.000    0.000    0.000    0.000 reusable_executor.py:40(get_reusable_executor)\n",
      "        1    0.000    0.000    0.000    0.000 shutil.py:402(_rmtree_safe_fd)\n",
      "        1    0.000    0.000    0.000    0.000 shutil.py:451(rmtree)\n",
      "        4    0.000    0.000    0.000    0.000 synchronize.py:103(__enter__)\n",
      "        4    0.000    0.000    0.000    0.000 synchronize.py:106(__exit__)\n",
      "        1    0.000    0.000    0.000    0.000 threading.py:1230(current_thread)\n",
      "        4    0.000    0.000    0.000    0.000 threading.py:215(__init__)\n",
      "       18    0.000    0.000    0.000    0.000 threading.py:239(__enter__)\n",
      "       18    0.000    0.000    0.000    0.000 threading.py:242(__exit__)\n",
      "        4    0.000    0.000    0.000    0.000 threading.py:254(_is_owned)\n",
      "       10    0.000    0.000  242.510   24.251 threading.py:263(wait)\n",
      "        4    0.000    0.000    0.000    0.000 threading.py:334(notify)\n",
      "        5    0.000    0.000    0.000    0.000 threading.py:74(RLock)\n",
      "        1    0.000    0.000    0.000    0.000 util.py:48(debug)\n",
      "        1    0.000    0.000    0.000    0.000 {built-in method _stat.S_ISDIR}\n",
      "        4    0.000    0.000    0.000    0.000 {built-in method _struct.pack}\n",
      "       10    0.000    0.000    0.000    0.000 {built-in method _thread.allocate_lock}\n",
      "        1    0.000    0.000    0.000    0.000 {built-in method _thread.get_ident}\n",
      "        1    0.000    0.000    0.000    0.000 {built-in method atexit.register}\n",
      "        1    0.000    0.000    0.000    0.000 {built-in method builtins.eval}\n",
      "        1    0.000    0.000  242.735  242.735 {built-in method builtins.exec}\n",
      "       48    0.000    0.000    0.000    0.000 {built-in method builtins.getattr}\n",
      "        5    0.000    0.000    0.000    0.000 {built-in method builtins.hasattr}\n",
      "       16    0.000    0.000    0.000    0.000 {built-in method builtins.isinstance}\n",
      "        1    0.000    0.000    0.000    0.000 {built-in method builtins.iter}\n",
      "       56    0.000    0.000    0.000    0.000 {built-in method builtins.len}\n",
      "        1    0.000    0.000    0.000    0.000 {built-in method builtins.max}\n",
      "        2    0.000    0.000    0.000    0.000 {built-in method builtins.next}\n",
      "       20    0.000    0.000    0.000    0.000 {built-in method builtins.setattr}\n",
      "        1    0.000    0.000    0.000    0.000 {built-in method posix.close}\n",
      "        7    0.000    0.000    0.000    0.000 {built-in method posix.fspath}\n",
      "        1    0.000    0.000    0.000    0.000 {built-in method posix.fstat}\n",
      "        1    0.000    0.000    0.000    0.000 {built-in method posix.getpid}\n",
      "        1    0.000    0.000    0.000    0.000 {built-in method posix.listdir}\n",
      "        1    0.000    0.000    0.000    0.000 {built-in method posix.lstat}\n",
      "        1    0.000    0.000    0.000    0.000 {built-in method posix.mkdir}\n",
      "        1    0.000    0.000    0.000    0.000 {built-in method posix.open}\n",
      "        1    0.000    0.000    0.000    0.000 {built-in method posix.rmdir}\n",
      "        1    0.000    0.000    0.000    0.000 {built-in method posix.statvfs}\n",
      "        5    0.000    0.000    0.000    0.000 {built-in method posix.stat}\n",
      "        4    0.223    0.056    0.223    0.056 {built-in method posix.write}\n",
      "        6    0.000    0.000    0.000    0.000 {built-in method time.time}\n",
      "       14    0.000    0.000    0.000    0.000 {method '__enter__' of '_thread.RLock' objects}\n",
      "        4    0.000    0.000    0.000    0.000 {method '__enter__' of '_thread.lock' objects}\n",
      "       14    0.000    0.000    0.000    0.000 {method '__exit__' of '_thread.RLock' objects}\n",
      "        4    0.000    0.000    0.000    0.000 {method '__exit__' of '_thread.lock' objects}\n",
      "       10    0.000    0.000    0.000    0.000 {method '_acquire_restore' of '_thread.RLock' objects}\n",
      "       10    0.000    0.000    0.000    0.000 {method '_is_owned' of '_thread.RLock' objects}\n",
      "       10    0.000    0.000    0.000    0.000 {method '_release_save' of '_thread.RLock' objects}\n",
      "        4    0.000    0.000    0.000    0.000 {method 'acquire' of '_multiprocessing.SemLock' objects}\n",
      "       24  242.510   10.105  242.510   10.105 {method 'acquire' of '_thread.lock' objects}\n",
      "       14    0.000    0.000    0.000    0.000 {method 'append' of 'collections.deque' objects}\n",
      "        6    0.000    0.000    0.000    0.000 {method 'append' of 'list' objects}\n",
      "        1    0.000    0.000    0.000    0.000 {method 'bit_length' of 'int' objects}\n",
      "        1    0.000    0.000    0.000    0.000 {method 'disable' of '_lsprof.Profiler' objects}\n",
      "        1    0.000    0.000    0.000    0.000 {method 'encode' of 'str' objects}\n",
      "        2    0.000    0.000    0.000    0.000 {method 'endswith' of 'str' objects}\n",
      "       10    0.000    0.000    0.000    0.000 {method 'extend' of 'list' objects}\n",
      "        2    0.000    0.000    0.000    0.000 {method 'format' of 'str' objects}\n",
      "        1    0.000    0.000    0.000    0.000 {method 'get' of 'dict' objects}\n",
      "        1    0.000    0.000    0.000    0.000 {method 'getrandbits' of '_random.Random' objects}\n",
      "        4    0.000    0.000    0.000    0.000 {method 'insert' of 'list' objects}\n",
      "        1    0.000    0.000    0.000    0.000 {method 'join' of 'str' objects}\n",
      "       10    0.000    0.000    0.000    0.000 {method 'pop' of 'list' objects}\n",
      "        4    0.000    0.000    0.000    0.000 {method 'release' of '_multiprocessing.SemLock' objects}\n",
      "        1    0.000    0.000    0.000    0.000 {method 'rfind' of 'str' objects}\n",
      "        1    0.000    0.000    0.000    0.000 {method 'rstrip' of 'str' objects}\n",
      "        1    0.000    0.000    0.000    0.000 {method 'split' of 'str' objects}\n",
      "        7    0.000    0.000    0.000    0.000 {method 'startswith' of 'str' objects}\n",
      "        4    0.000    0.000    0.000    0.000 {method 'update' of 'dict' objects}\n",
      "\n",
      "\n"
     ]
    }
   ],
   "source": [
    "import cProfile\n",
    "import re\n",
    "cProfile.run('compare_all_pairs(siglist_k27_dna[:5], n_jobs=2, verbose=0)')"
   ]
  },
  {
   "cell_type": "code",
   "execution_count": 62,
   "metadata": {},
   "outputs": [
    {
     "name": "stdout",
     "output_type": "stream",
     "text": [
      "CPU times: user 4min 1s, sys: 1.19 s, total: 4min 2s\n",
      "Wall time: 4min 4s\n"
     ]
    },
    {
     "data": {
      "text/plain": [
       "[0.052594,\n",
       " 0.036896,\n",
       " 0.032664,\n",
       " 0.05257,\n",
       " 0.048739,\n",
       " 0.044368,\n",
       " 0.104441,\n",
       " 0.034484,\n",
       " 0.046098,\n",
       " 0.0453]"
      ]
     },
     "execution_count": 62,
     "metadata": {},
     "output_type": "execute_result"
    }
   ],
   "source": [
    "%time compare_all_pairs(siglist_k27_dna[:5], n_jobs=2, verbose=0)"
   ]
  },
  {
   "cell_type": "code",
   "execution_count": 66,
   "metadata": {},
   "outputs": [
    {
     "name": "stdout",
     "output_type": "stream",
     "text": [
      "CPU times: user 4.69 s, sys: 50.1 ms, total: 4.74 s\n",
      "Wall time: 4.83 s\n"
     ]
    },
    {
     "data": {
      "text/plain": [
       "[0.052594,\n",
       " 0.036896,\n",
       " 0.032664,\n",
       " 0.05257,\n",
       " 0.048739,\n",
       " 0.044368,\n",
       " 0.104441,\n",
       " 0.034484,\n",
       " 0.046098,\n",
       " 0.0453]"
      ]
     },
     "execution_count": 66,
     "metadata": {},
     "output_type": "execute_result"
    }
   ],
   "source": [
    "%time compare_all_pairs(siglist_k27_dna[:5], n_ jobs=2, verbose=0, backend='threading')"
   ]
  },
  {
   "cell_type": "code",
   "execution_count": 63,
   "metadata": {},
   "outputs": [
    {
     "name": "stderr",
     "output_type": "stream",
     "text": [
      "[Parallel(n_jobs=2)]: Using backend LokyBackend with 2 concurrent workers.\n",
      "[Parallel(n_jobs=2)]: Done   1 tasks      | elapsed:   26.5s\n",
      "[Parallel(n_jobs=2)]: Done   4 tasks      | elapsed:  1.6min\n"
     ]
    },
    {
     "name": "stdout",
     "output_type": "stream",
     "text": [
      "CPU times: user 4min 2s, sys: 170 ms, total: 4min 2s\n",
      "Wall time: 4min 5s\n"
     ]
    },
    {
     "name": "stderr",
     "output_type": "stream",
     "text": [
      "[Parallel(n_jobs=2)]: Done  10 out of  10 | elapsed:  4.1min finished\n"
     ]
    },
    {
     "data": {
      "text/plain": [
       "[0.052594,\n",
       " 0.036896,\n",
       " 0.032664,\n",
       " 0.05257,\n",
       " 0.048739,\n",
       " 0.044368,\n",
       " 0.104441,\n",
       " 0.034484,\n",
       " 0.046098,\n",
       " 0.0453]"
      ]
     },
     "execution_count": 63,
     "metadata": {},
     "output_type": "execute_result"
    }
   ],
   "source": [
    "%time compare_all_pairs(siglist_k27_dna[:5], n_jobs=2, verbose=10)"
   ]
  },
  {
   "cell_type": "code",
   "execution_count": 48,
   "metadata": {},
   "outputs": [
    {
     "data": {
      "text/plain": [
       "40.333333333333336"
      ]
     },
     "execution_count": 48,
     "metadata": {},
     "output_type": "execute_result"
    }
   ],
   "source": [
    "(4*60 + 2)/6"
   ]
  },
  {
   "cell_type": "code",
   "execution_count": 40,
   "metadata": {},
   "outputs": [
    {
     "name": "stdout",
     "output_type": "stream",
     "text": [
      "CPU times: user 29.3 s, sys: 190 ms, total: 29.5 s\n",
      "Wall time: 29.5 s\n"
     ]
    },
    {
     "data": {
      "text/plain": [
       "array([[1.      , 0.052594, 0.036896, 0.032664, 0.05257 , 0.044477,\n",
       "        0.026633, 0.032755, 0.034058, 0.041419],\n",
       "       [0.052594, 1.      , 0.048739, 0.044368, 0.104441, 0.075196,\n",
       "        0.031727, 0.043431, 0.04097 , 0.046796],\n",
       "       [0.036896, 0.048739, 1.      , 0.034484, 0.046098, 0.043704,\n",
       "        0.024897, 0.035947, 0.028144, 0.039598],\n",
       "       [0.032664, 0.044368, 0.034484, 1.      , 0.0453  , 0.041797,\n",
       "        0.030011, 0.049822, 0.044296, 0.038339],\n",
       "       [0.05257 , 0.104441, 0.046098, 0.0453  , 1.      , 0.073886,\n",
       "        0.035624, 0.044594, 0.045683, 0.048744],\n",
       "       [0.044477, 0.075196, 0.043704, 0.041797, 0.073886, 1.      ,\n",
       "        0.032788, 0.047804, 0.036424, 0.041845],\n",
       "       [0.026633, 0.031727, 0.024897, 0.030011, 0.035624, 0.032788,\n",
       "        1.      , 0.026536, 0.032024, 0.02673 ],\n",
       "       [0.032755, 0.043431, 0.035947, 0.049822, 0.044594, 0.047804,\n",
       "        0.026536, 1.      , 0.038092, 0.03525 ],\n",
       "       [0.034058, 0.04097 , 0.028144, 0.044296, 0.045683, 0.036424,\n",
       "        0.032024, 0.038092, 1.      , 0.033602],\n",
       "       [0.041419, 0.046796, 0.039598, 0.038339, 0.048744, 0.041845,\n",
       "        0.02673 , 0.03525 , 0.033602, 1.      ]])"
      ]
     },
     "execution_count": 40,
     "metadata": {},
     "output_type": "execute_result"
    }
   ],
   "source": [
    "%time compare_all_pairs(siglist_k27_dna[:10])"
   ]
  },
  {
   "cell_type": "code",
   "execution_count": 64,
   "metadata": {},
   "outputs": [
    {
     "name": "stdout",
     "output_type": "stream",
     "text": [
      "CPU times: user 17min 58s, sys: 2 s, total: 18min\n",
      "Wall time: 18min 2s\n"
     ]
    },
    {
     "data": {
      "text/plain": [
       "[0.052594,\n",
       " 0.036896,\n",
       " 0.032664,\n",
       " 0.05257,\n",
       " 0.044477,\n",
       " 0.026633,\n",
       " 0.032755,\n",
       " 0.034058,\n",
       " 0.041419,\n",
       " 0.048739,\n",
       " 0.044368,\n",
       " 0.104441,\n",
       " 0.075196,\n",
       " 0.031727,\n",
       " 0.043431,\n",
       " 0.04097,\n",
       " 0.046796,\n",
       " 0.034484,\n",
       " 0.046098,\n",
       " 0.043704,\n",
       " 0.024897,\n",
       " 0.035947,\n",
       " 0.028144,\n",
       " 0.039598,\n",
       " 0.0453,\n",
       " 0.041797,\n",
       " 0.030011,\n",
       " 0.049822,\n",
       " 0.044296,\n",
       " 0.038339,\n",
       " 0.073886,\n",
       " 0.035624,\n",
       " 0.044594,\n",
       " 0.045683,\n",
       " 0.048744,\n",
       " 0.032788,\n",
       " 0.047804,\n",
       " 0.036424,\n",
       " 0.041845,\n",
       " 0.026536,\n",
       " 0.032024,\n",
       " 0.02673,\n",
       " 0.038092,\n",
       " 0.03525,\n",
       " 0.033602]"
      ]
     },
     "execution_count": 64,
     "metadata": {},
     "output_type": "execute_result"
    }
   ],
   "source": [
    "%time compare_all_pairs(siglist_k27_dna[:10], n_jobs=2)"
   ]
  },
  {
   "cell_type": "code",
   "execution_count": 37,
   "metadata": {},
   "outputs": [
    {
     "name": "stdout",
     "output_type": "stream",
     "text": [
      "CPU times: user 1min 39s, sys: 640 ms, total: 1min 40s\n",
      "Wall time: 1min 40s\n"
     ]
    },
    {
     "data": {
      "text/plain": [
       "array([[1.      , 0.052594, 0.036896, 0.032664, 0.05257 , 0.044477,\n",
       "        0.026633, 0.032755, 0.034058, 0.041419, 0.028012, 0.038435,\n",
       "        0.056022, 0.031442, 0.050267, 0.044169, 0.034657, 0.026591,\n",
       "        0.043057, 0.041743],\n",
       "       [0.052594, 1.      , 0.048739, 0.044368, 0.104441, 0.075196,\n",
       "        0.031727, 0.043431, 0.04097 , 0.046796, 0.034856, 0.053615,\n",
       "        0.111691, 0.039028, 0.104456, 0.055113, 0.039543, 0.041071,\n",
       "        0.073189, 0.057099],\n",
       "       [0.036896, 0.048739, 1.      , 0.034484, 0.046098, 0.043704,\n",
       "        0.024897, 0.035947, 0.028144, 0.039598, 0.02737 , 0.036212,\n",
       "        0.046941, 0.027451, 0.045927, 0.041513, 0.035812, 0.0268  ,\n",
       "        0.036648, 0.036744],\n",
       "       [0.032664, 0.044368, 0.034484, 1.      , 0.0453  , 0.041797,\n",
       "        0.030011, 0.049822, 0.044296, 0.038339, 0.033337, 0.032502,\n",
       "        0.045438, 0.043237, 0.036435, 0.03777 , 0.027723, 0.023143,\n",
       "        0.03404 , 0.046541],\n",
       "       [0.05257 , 0.104441, 0.046098, 0.0453  , 1.      , 0.073886,\n",
       "        0.035624, 0.044594, 0.045683, 0.048744, 0.03633 , 0.054124,\n",
       "        0.119608, 0.041648, 0.094857, 0.055815, 0.039548, 0.039743,\n",
       "        0.07188 , 0.059465],\n",
       "       [0.044477, 0.075196, 0.043704, 0.041797, 0.073886, 1.      ,\n",
       "        0.032788, 0.047804, 0.036424, 0.041845, 0.03061 , 0.053984,\n",
       "        0.077136, 0.036545, 0.073835, 0.048366, 0.036173, 0.046143,\n",
       "        0.087138, 0.057875],\n",
       "       [0.026633, 0.031727, 0.024897, 0.030011, 0.035624, 0.032788,\n",
       "        1.      , 0.026536, 0.032024, 0.02673 , 0.022901, 0.027206,\n",
       "        0.038095, 0.025931, 0.02478 , 0.028507, 0.020775, 0.017954,\n",
       "        0.049601, 0.035997],\n",
       "       [0.032755, 0.043431, 0.035947, 0.049822, 0.044594, 0.047804,\n",
       "        0.026536, 1.      , 0.038092, 0.03525 , 0.029746, 0.034275,\n",
       "        0.04067 , 0.039142, 0.037244, 0.035879, 0.029287, 0.028182,\n",
       "        0.040855, 0.048262],\n",
       "       [0.034058, 0.04097 , 0.028144, 0.044296, 0.045683, 0.036424,\n",
       "        0.032024, 0.038092, 1.      , 0.033602, 0.042648, 0.035165,\n",
       "        0.052082, 0.049735, 0.035671, 0.038167, 0.024452, 0.019618,\n",
       "        0.03162 , 0.046745],\n",
       "       [0.041419, 0.046796, 0.039598, 0.038339, 0.048744, 0.041845,\n",
       "        0.02673 , 0.03525 , 0.033602, 1.      , 0.029833, 0.035979,\n",
       "        0.051767, 0.031628, 0.041395, 0.047928, 0.035162, 0.021892,\n",
       "        0.033379, 0.038157],\n",
       "       [0.028012, 0.034856, 0.02737 , 0.033337, 0.03633 , 0.03061 ,\n",
       "        0.022901, 0.029746, 0.042648, 0.029833, 1.      , 0.026332,\n",
       "        0.038917, 0.03357 , 0.029089, 0.02959 , 0.020999, 0.016703,\n",
       "        0.023544, 0.036987],\n",
       "       [0.038435, 0.053615, 0.036212, 0.032502, 0.054124, 0.053984,\n",
       "        0.027206, 0.034275, 0.035165, 0.035979, 0.026332, 1.      ,\n",
       "        0.057281, 0.034901, 0.052982, 0.03965 , 0.033722, 0.032267,\n",
       "        0.048792, 0.043474],\n",
       "       [0.056022, 0.111691, 0.046941, 0.045438, 0.119608, 0.077136,\n",
       "        0.038095, 0.04067 , 0.052082, 0.051767, 0.038917, 0.057281,\n",
       "        1.      , 0.042964, 0.100121, 0.060296, 0.038415, 0.038227,\n",
       "        0.074663, 0.063482],\n",
       "       [0.031442, 0.039028, 0.027451, 0.043237, 0.041648, 0.036545,\n",
       "        0.025931, 0.039142, 0.049735, 0.031628, 0.03357 , 0.034901,\n",
       "        0.042964, 1.      , 0.03488 , 0.034533, 0.031194, 0.02351 ,\n",
       "        0.032185, 0.044631],\n",
       "       [0.050267, 0.104456, 0.045927, 0.036435, 0.094857, 0.073835,\n",
       "        0.02478 , 0.037244, 0.035671, 0.041395, 0.029089, 0.052982,\n",
       "        0.100121, 0.03488 , 1.      , 0.053326, 0.04069 , 0.046031,\n",
       "        0.081327, 0.053832],\n",
       "       [0.044169, 0.055113, 0.041513, 0.03777 , 0.055815, 0.048366,\n",
       "        0.028507, 0.035879, 0.038167, 0.047928, 0.02959 , 0.03965 ,\n",
       "        0.060296, 0.034533, 0.053326, 1.      , 0.037883, 0.026549,\n",
       "        0.046055, 0.045653],\n",
       "       [0.034657, 0.039543, 0.035812, 0.027723, 0.039548, 0.036173,\n",
       "        0.020775, 0.029287, 0.024452, 0.035162, 0.020999, 0.033722,\n",
       "        0.038415, 0.031194, 0.04069 , 0.037883, 1.      , 0.02718 ,\n",
       "        0.033926, 0.03537 ],\n",
       "       [0.026591, 0.041071, 0.0268  , 0.023143, 0.039743, 0.046143,\n",
       "        0.017954, 0.028182, 0.019618, 0.021892, 0.016703, 0.032267,\n",
       "        0.038227, 0.02351 , 0.046031, 0.026549, 0.02718 , 1.      ,\n",
       "        0.052239, 0.033886],\n",
       "       [0.043057, 0.073189, 0.036648, 0.03404 , 0.07188 , 0.087138,\n",
       "        0.049601, 0.040855, 0.03162 , 0.033379, 0.023544, 0.048792,\n",
       "        0.074663, 0.032185, 0.081327, 0.046055, 0.033926, 0.052239,\n",
       "        1.      , 0.060309],\n",
       "       [0.041743, 0.057099, 0.036744, 0.046541, 0.059465, 0.057875,\n",
       "        0.035997, 0.048262, 0.046745, 0.038157, 0.036987, 0.043474,\n",
       "        0.063482, 0.044631, 0.053832, 0.045653, 0.03537 , 0.033886,\n",
       "        0.060309, 1.      ]])"
      ]
     },
     "execution_count": 37,
     "metadata": {},
     "output_type": "execute_result"
    }
   ],
   "source": [
    "%time compare_all_pairs(siglist_k27_dna[:20])"
   ]
  },
  {
   "cell_type": "code",
   "execution_count": 38,
   "metadata": {},
   "outputs": [
    {
     "ename": "TypeError",
     "evalue": "'function' object is not iterable",
     "output_type": "error",
     "traceback": [
      "\u001b[0;31m---------------------------------------------------------------------------\u001b[0m",
      "\u001b[0;31m_RemoteTraceback\u001b[0m                          Traceback (most recent call last)",
      "\u001b[0;31m_RemoteTraceback\u001b[0m: \n\"\"\"\nTraceback (most recent call last):\n  File \"/home/olga/.conda/envs/kmer-hashing/lib/python3.6/site-packages/joblib/externals/loky/process_executor.py\", line 418, in _process_worker\n    r = call_item()\n  File \"/home/olga/.conda/envs/kmer-hashing/lib/python3.6/site-packages/joblib/externals/loky/process_executor.py\", line 272, in __call__\n    return self.fn(*self.args, **self.kwargs)\n  File \"/home/olga/.conda/envs/kmer-hashing/lib/python3.6/site-packages/joblib/_parallel_backends.py\", line 567, in __call__\n    return self.func(*args, **kwargs)\n  File \"/home/olga/.conda/envs/kmer-hashing/lib/python3.6/site-packages/joblib/parallel.py\", line 225, in __call__\n    for func, args, kwargs in self.items]\n  File \"/home/olga/.conda/envs/kmer-hashing/lib/python3.6/site-packages/joblib/parallel.py\", line 225, in <listcomp>\n    for func, args, kwargs in self.items]\nTypeError: 'function' object is not iterable\n\"\"\"",
      "\nThe above exception was the direct cause of the following exception:\n",
      "\u001b[0;31mTypeError\u001b[0m                                 Traceback (most recent call last)",
      "\u001b[0;32m<timed eval>\u001b[0m in \u001b[0;36m<module>\u001b[0;34m\u001b[0m\n",
      "\u001b[0;32m<ipython-input-34-992c4d4a16f6>\u001b[0m in \u001b[0;36mcompare_all_pairs\u001b[0;34m(siglist, n_jobs)\u001b[0m\n\u001b[1;32m     30\u001b[0m     \u001b[0;32melse\u001b[0m\u001b[0;34m:\u001b[0m\u001b[0;34m\u001b[0m\u001b[0;34m\u001b[0m\u001b[0m\n\u001b[1;32m     31\u001b[0m         \u001b[0;31m# This creates a condensed distance matrix\u001b[0m\u001b[0;34m\u001b[0m\u001b[0;34m\u001b[0m\u001b[0;34m\u001b[0m\u001b[0m\n\u001b[0;32m---> 32\u001b[0;31m         \u001b[0mcondensed\u001b[0m \u001b[0;34m=\u001b[0m \u001b[0mParallel\u001b[0m\u001b[0;34m(\u001b[0m\u001b[0mn_jobs\u001b[0m\u001b[0;34m=\u001b[0m\u001b[0mn_jobs\u001b[0m\u001b[0;34m)\u001b[0m\u001b[0;34m(\u001b[0m\u001b[0mdelayed\u001b[0m\u001b[0;34m(\u001b[0m\u001b[0msig1\u001b[0m\u001b[0;34m.\u001b[0m\u001b[0mjaccard\u001b[0m\u001b[0;34m(\u001b[0m\u001b[0msig2\u001b[0m\u001b[0;34m)\u001b[0m\u001b[0;34m)\u001b[0m\u001b[0;32mfor\u001b[0m \u001b[0msig1\u001b[0m\u001b[0;34m,\u001b[0m \u001b[0msig2\u001b[0m \u001b[0;32min\u001b[0m \u001b[0msig_iterator\u001b[0m\u001b[0;34m)\u001b[0m\u001b[0;34m\u001b[0m\u001b[0;34m\u001b[0m\u001b[0m\n\u001b[0m\u001b[1;32m     33\u001b[0m         \u001b[0mvalues\u001b[0m \u001b[0;34m=\u001b[0m \u001b[0msquareform\u001b[0m\u001b[0;34m(\u001b[0m\u001b[0mcondensed\u001b[0m\u001b[0;34m)\u001b[0m\u001b[0;34m\u001b[0m\u001b[0;34m\u001b[0m\u001b[0m\n\u001b[1;32m     34\u001b[0m \u001b[0;34m\u001b[0m\u001b[0m\n",
      "\u001b[0;32m~/.conda/envs/kmer-hashing/lib/python3.6/site-packages/joblib/parallel.py\u001b[0m in \u001b[0;36m__call__\u001b[0;34m(self, iterable)\u001b[0m\n\u001b[1;32m    932\u001b[0m \u001b[0;34m\u001b[0m\u001b[0m\n\u001b[1;32m    933\u001b[0m             \u001b[0;32mwith\u001b[0m \u001b[0mself\u001b[0m\u001b[0;34m.\u001b[0m\u001b[0m_backend\u001b[0m\u001b[0;34m.\u001b[0m\u001b[0mretrieval_context\u001b[0m\u001b[0;34m(\u001b[0m\u001b[0;34m)\u001b[0m\u001b[0;34m:\u001b[0m\u001b[0;34m\u001b[0m\u001b[0;34m\u001b[0m\u001b[0m\n\u001b[0;32m--> 934\u001b[0;31m                 \u001b[0mself\u001b[0m\u001b[0;34m.\u001b[0m\u001b[0mretrieve\u001b[0m\u001b[0;34m(\u001b[0m\u001b[0;34m)\u001b[0m\u001b[0;34m\u001b[0m\u001b[0;34m\u001b[0m\u001b[0m\n\u001b[0m\u001b[1;32m    935\u001b[0m             \u001b[0;31m# Make sure that we get a last message telling us we are done\u001b[0m\u001b[0;34m\u001b[0m\u001b[0;34m\u001b[0m\u001b[0;34m\u001b[0m\u001b[0m\n\u001b[1;32m    936\u001b[0m             \u001b[0melapsed_time\u001b[0m \u001b[0;34m=\u001b[0m \u001b[0mtime\u001b[0m\u001b[0;34m.\u001b[0m\u001b[0mtime\u001b[0m\u001b[0;34m(\u001b[0m\u001b[0;34m)\u001b[0m \u001b[0;34m-\u001b[0m \u001b[0mself\u001b[0m\u001b[0;34m.\u001b[0m\u001b[0m_start_time\u001b[0m\u001b[0;34m\u001b[0m\u001b[0;34m\u001b[0m\u001b[0m\n",
      "\u001b[0;32m~/.conda/envs/kmer-hashing/lib/python3.6/site-packages/joblib/parallel.py\u001b[0m in \u001b[0;36mretrieve\u001b[0;34m(self)\u001b[0m\n\u001b[1;32m    831\u001b[0m             \u001b[0;32mtry\u001b[0m\u001b[0;34m:\u001b[0m\u001b[0;34m\u001b[0m\u001b[0;34m\u001b[0m\u001b[0m\n\u001b[1;32m    832\u001b[0m                 \u001b[0;32mif\u001b[0m \u001b[0mgetattr\u001b[0m\u001b[0;34m(\u001b[0m\u001b[0mself\u001b[0m\u001b[0;34m.\u001b[0m\u001b[0m_backend\u001b[0m\u001b[0;34m,\u001b[0m \u001b[0;34m'supports_timeout'\u001b[0m\u001b[0;34m,\u001b[0m \u001b[0;32mFalse\u001b[0m\u001b[0;34m)\u001b[0m\u001b[0;34m:\u001b[0m\u001b[0;34m\u001b[0m\u001b[0;34m\u001b[0m\u001b[0m\n\u001b[0;32m--> 833\u001b[0;31m                     \u001b[0mself\u001b[0m\u001b[0;34m.\u001b[0m\u001b[0m_output\u001b[0m\u001b[0;34m.\u001b[0m\u001b[0mextend\u001b[0m\u001b[0;34m(\u001b[0m\u001b[0mjob\u001b[0m\u001b[0;34m.\u001b[0m\u001b[0mget\u001b[0m\u001b[0;34m(\u001b[0m\u001b[0mtimeout\u001b[0m\u001b[0;34m=\u001b[0m\u001b[0mself\u001b[0m\u001b[0;34m.\u001b[0m\u001b[0mtimeout\u001b[0m\u001b[0;34m)\u001b[0m\u001b[0;34m)\u001b[0m\u001b[0;34m\u001b[0m\u001b[0;34m\u001b[0m\u001b[0m\n\u001b[0m\u001b[1;32m    834\u001b[0m                 \u001b[0;32melse\u001b[0m\u001b[0;34m:\u001b[0m\u001b[0;34m\u001b[0m\u001b[0;34m\u001b[0m\u001b[0m\n\u001b[1;32m    835\u001b[0m                     \u001b[0mself\u001b[0m\u001b[0;34m.\u001b[0m\u001b[0m_output\u001b[0m\u001b[0;34m.\u001b[0m\u001b[0mextend\u001b[0m\u001b[0;34m(\u001b[0m\u001b[0mjob\u001b[0m\u001b[0;34m.\u001b[0m\u001b[0mget\u001b[0m\u001b[0;34m(\u001b[0m\u001b[0;34m)\u001b[0m\u001b[0;34m)\u001b[0m\u001b[0;34m\u001b[0m\u001b[0;34m\u001b[0m\u001b[0m\n",
      "\u001b[0;32m~/.conda/envs/kmer-hashing/lib/python3.6/site-packages/joblib/_parallel_backends.py\u001b[0m in \u001b[0;36mwrap_future_result\u001b[0;34m(future, timeout)\u001b[0m\n\u001b[1;32m    519\u001b[0m         AsyncResults.get from multiprocessing.\"\"\"\n\u001b[1;32m    520\u001b[0m         \u001b[0;32mtry\u001b[0m\u001b[0;34m:\u001b[0m\u001b[0;34m\u001b[0m\u001b[0;34m\u001b[0m\u001b[0m\n\u001b[0;32m--> 521\u001b[0;31m             \u001b[0;32mreturn\u001b[0m \u001b[0mfuture\u001b[0m\u001b[0;34m.\u001b[0m\u001b[0mresult\u001b[0m\u001b[0;34m(\u001b[0m\u001b[0mtimeout\u001b[0m\u001b[0;34m=\u001b[0m\u001b[0mtimeout\u001b[0m\u001b[0;34m)\u001b[0m\u001b[0;34m\u001b[0m\u001b[0;34m\u001b[0m\u001b[0m\n\u001b[0m\u001b[1;32m    522\u001b[0m         \u001b[0;32mexcept\u001b[0m \u001b[0mLokyTimeoutError\u001b[0m\u001b[0;34m:\u001b[0m\u001b[0;34m\u001b[0m\u001b[0;34m\u001b[0m\u001b[0m\n\u001b[1;32m    523\u001b[0m             \u001b[0;32mraise\u001b[0m \u001b[0mTimeoutError\u001b[0m\u001b[0;34m(\u001b[0m\u001b[0;34m)\u001b[0m\u001b[0;34m\u001b[0m\u001b[0;34m\u001b[0m\u001b[0m\n",
      "\u001b[0;32m~/.conda/envs/kmer-hashing/lib/python3.6/concurrent/futures/_base.py\u001b[0m in \u001b[0;36mresult\u001b[0;34m(self, timeout)\u001b[0m\n\u001b[1;32m    430\u001b[0m                 \u001b[0;32mraise\u001b[0m \u001b[0mCancelledError\u001b[0m\u001b[0;34m(\u001b[0m\u001b[0;34m)\u001b[0m\u001b[0;34m\u001b[0m\u001b[0;34m\u001b[0m\u001b[0m\n\u001b[1;32m    431\u001b[0m             \u001b[0;32melif\u001b[0m \u001b[0mself\u001b[0m\u001b[0;34m.\u001b[0m\u001b[0m_state\u001b[0m \u001b[0;34m==\u001b[0m \u001b[0mFINISHED\u001b[0m\u001b[0;34m:\u001b[0m\u001b[0;34m\u001b[0m\u001b[0;34m\u001b[0m\u001b[0m\n\u001b[0;32m--> 432\u001b[0;31m                 \u001b[0;32mreturn\u001b[0m \u001b[0mself\u001b[0m\u001b[0;34m.\u001b[0m\u001b[0m__get_result\u001b[0m\u001b[0;34m(\u001b[0m\u001b[0;34m)\u001b[0m\u001b[0;34m\u001b[0m\u001b[0;34m\u001b[0m\u001b[0m\n\u001b[0m\u001b[1;32m    433\u001b[0m             \u001b[0;32melse\u001b[0m\u001b[0;34m:\u001b[0m\u001b[0;34m\u001b[0m\u001b[0;34m\u001b[0m\u001b[0m\n\u001b[1;32m    434\u001b[0m                 \u001b[0;32mraise\u001b[0m \u001b[0mTimeoutError\u001b[0m\u001b[0;34m(\u001b[0m\u001b[0;34m)\u001b[0m\u001b[0;34m\u001b[0m\u001b[0;34m\u001b[0m\u001b[0m\n",
      "\u001b[0;32m~/.conda/envs/kmer-hashing/lib/python3.6/concurrent/futures/_base.py\u001b[0m in \u001b[0;36m__get_result\u001b[0;34m(self)\u001b[0m\n\u001b[1;32m    382\u001b[0m     \u001b[0;32mdef\u001b[0m \u001b[0m__get_result\u001b[0m\u001b[0;34m(\u001b[0m\u001b[0mself\u001b[0m\u001b[0;34m)\u001b[0m\u001b[0;34m:\u001b[0m\u001b[0;34m\u001b[0m\u001b[0;34m\u001b[0m\u001b[0m\n\u001b[1;32m    383\u001b[0m         \u001b[0;32mif\u001b[0m \u001b[0mself\u001b[0m\u001b[0;34m.\u001b[0m\u001b[0m_exception\u001b[0m\u001b[0;34m:\u001b[0m\u001b[0;34m\u001b[0m\u001b[0;34m\u001b[0m\u001b[0m\n\u001b[0;32m--> 384\u001b[0;31m             \u001b[0;32mraise\u001b[0m \u001b[0mself\u001b[0m\u001b[0;34m.\u001b[0m\u001b[0m_exception\u001b[0m\u001b[0;34m\u001b[0m\u001b[0;34m\u001b[0m\u001b[0m\n\u001b[0m\u001b[1;32m    385\u001b[0m         \u001b[0;32melse\u001b[0m\u001b[0;34m:\u001b[0m\u001b[0;34m\u001b[0m\u001b[0;34m\u001b[0m\u001b[0m\n\u001b[1;32m    386\u001b[0m             \u001b[0;32mreturn\u001b[0m \u001b[0mself\u001b[0m\u001b[0;34m.\u001b[0m\u001b[0m_result\u001b[0m\u001b[0;34m\u001b[0m\u001b[0;34m\u001b[0m\u001b[0m\n",
      "\u001b[0;31mTypeError\u001b[0m: 'function' object is not iterable"
     ]
    }
   ],
   "source": [
    "%time compare_all_pairs(siglist_k27_dna[:20], n_jobs=2)"
   ]
  },
  {
   "cell_type": "markdown",
   "metadata": {},
   "source": [
    "## Try memory mapping??\n",
    "\n",
    "```\n",
    ">>> import tempfile\n",
    ">>> import os\n",
    ">>> from joblib import load, dump\n",
    "\n",
    ">>> temp_folder = tempfile.mkdtemp()\n",
    ">>> filename = os.path.join(temp_folder, 'joblib_test.mmap')\n",
    ">>> if os.path.exists(filename): os.unlink(filename)\n",
    ">>> _ = dump(large_array, filename)\n",
    ">>> large_memmap = load(filename, mmap_mode='r+')\n",
    "```"
   ]
  },
  {
   "cell_type": "code",
   "execution_count": 68,
   "metadata": {},
   "outputs": [
    {
     "data": {
      "text/plain": [
       "'/data_lg/olga/maca/facs/sourmash_compute_tissue_subset/'"
      ]
     },
     "execution_count": 68,
     "metadata": {},
     "output_type": "execute_result"
    }
   ],
   "source": [
    "folder"
   ]
  },
  {
   "cell_type": "code",
   "execution_count": 70,
   "metadata": {},
   "outputs": [],
   "source": [
    "from joblib import load, dump\n",
    "\n",
    "filename = os.path.join(folder, 'siglist_first5.memmap')\n",
    "if os.path.exists(filename): \n",
    "    os.unlink(filename)\n",
    "_ = dump(siglist_k27_dna[:5], filename)\n",
    "siglist_k27_dna_memmap = load(filename, mmap_mode='r+')"
   ]
  },
  {
   "cell_type": "code",
   "execution_count": 72,
   "metadata": {},
   "outputs": [
    {
     "name": "stderr",
     "output_type": "stream",
     "text": [
      "/home/olga/.conda/envs/kmer-hashing/lib/python3.6/site-packages/joblib/externals/loky/process_executor.py:706: UserWarning: A worker stopped while some jobs were given to the executor. This can be caused by a too short worker timeout or by a memory leak.\n",
      "  \"timeout or by a memory leak.\", UserWarning\n"
     ]
    },
    {
     "name": "stdout",
     "output_type": "stream",
     "text": [
      "CPU times: user 4min 4s, sys: 1.15 s, total: 4min 5s\n",
      "Wall time: 4min 7s\n"
     ]
    },
    {
     "data": {
      "text/plain": [
       "[0.052594,\n",
       " 0.036896,\n",
       " 0.032664,\n",
       " 0.05257,\n",
       " 0.048739,\n",
       " 0.044368,\n",
       " 0.104441,\n",
       " 0.034484,\n",
       " 0.046098,\n",
       " 0.0453]"
      ]
     },
     "execution_count": 72,
     "metadata": {},
     "output_type": "execute_result"
    }
   ],
   "source": [
    "%time compare_all_pairs(siglist_k27_dna_memmap[:5], n_jobs=2, verbose=0)"
   ]
  },
  {
   "cell_type": "code",
   "execution_count": 81,
   "metadata": {},
   "outputs": [
    {
     "name": "stdout",
     "output_type": "stream",
     "text": [
      "CPU times: user 5.12 s, sys: 40 ms, total: 5.16 s\n",
      "Wall time: 5.14 s\n"
     ]
    },
    {
     "data": {
      "text/plain": [
       "[0.052594,\n",
       " 0.036896,\n",
       " 0.032664,\n",
       " 0.05257,\n",
       " 0.048739,\n",
       " 0.044368,\n",
       " 0.104441,\n",
       " 0.034484,\n",
       " 0.046098,\n",
       " 0.0453]"
      ]
     },
     "execution_count": 81,
     "metadata": {},
     "output_type": "execute_result"
    }
   ],
   "source": [
    "%time compare_all_pairs(siglist_k27_dna[:5], n_jobs=1, require='sharedmem')"
   ]
  },
  {
   "cell_type": "code",
   "execution_count": 80,
   "metadata": {},
   "outputs": [
    {
     "name": "stdout",
     "output_type": "stream",
     "text": [
      "CPU times: user 5.08 s, sys: 69.7 ms, total: 5.14 s\n",
      "Wall time: 5.13 s\n"
     ]
    },
    {
     "data": {
      "text/plain": [
       "[0.052594,\n",
       " 0.036896,\n",
       " 0.032664,\n",
       " 0.05257,\n",
       " 0.048739,\n",
       " 0.044368,\n",
       " 0.104441,\n",
       " 0.034484,\n",
       " 0.046098,\n",
       " 0.0453]"
      ]
     },
     "execution_count": 80,
     "metadata": {},
     "output_type": "execute_result"
    }
   ],
   "source": [
    "%time compare_all_pairs(siglist_k27_dna_memmap[:5], n_jobs=1, require='sharedmem')"
   ]
  },
  {
   "cell_type": "code",
   "execution_count": 79,
   "metadata": {},
   "outputs": [
    {
     "name": "stdout",
     "output_type": "stream",
     "text": [
      "CPU times: user 5.02 s, sys: 30.1 ms, total: 5.05 s\n",
      "Wall time: 5.13 s\n"
     ]
    },
    {
     "data": {
      "text/plain": [
       "[0.052594,\n",
       " 0.036896,\n",
       " 0.032664,\n",
       " 0.05257,\n",
       " 0.048739,\n",
       " 0.044368,\n",
       " 0.104441,\n",
       " 0.034484,\n",
       " 0.046098,\n",
       " 0.0453]"
      ]
     },
     "execution_count": 79,
     "metadata": {},
     "output_type": "execute_result"
    }
   ],
   "source": [
    "%time compare_all_pairs(siglist_k27_dna_memmap[:5], n_jobs=2, require='sharedmem')"
   ]
  },
  {
   "cell_type": "code",
   "execution_count": 78,
   "metadata": {},
   "outputs": [
    {
     "name": "stdout",
     "output_type": "stream",
     "text": [
      "CPU times: user 5.16 s, sys: 30.1 ms, total: 5.19 s\n",
      "Wall time: 5.27 s\n"
     ]
    },
    {
     "data": {
      "text/plain": [
       "[0.052594,\n",
       " 0.036896,\n",
       " 0.032664,\n",
       " 0.05257,\n",
       " 0.048739,\n",
       " 0.044368,\n",
       " 0.104441,\n",
       " 0.034484,\n",
       " 0.046098,\n",
       " 0.0453]"
      ]
     },
     "execution_count": 78,
     "metadata": {},
     "output_type": "execute_result"
    }
   ],
   "source": [
    "%time compare_all_pairs(siglist_k27_dna[:5], n_jobs=2, require='sharedmem')"
   ]
  },
  {
   "cell_type": "code",
   "execution_count": 77,
   "metadata": {},
   "outputs": [
    {
     "name": "stdout",
     "output_type": "stream",
     "text": [
      "CPU times: user 5.17 s, sys: 40 ms, total: 5.21 s\n",
      "Wall time: 5.28 s\n"
     ]
    },
    {
     "data": {
      "text/plain": [
       "[0.052594,\n",
       " 0.036896,\n",
       " 0.032664,\n",
       " 0.05257,\n",
       " 0.048739,\n",
       " 0.044368,\n",
       " 0.104441,\n",
       " 0.034484,\n",
       " 0.046098,\n",
       " 0.0453]"
      ]
     },
     "execution_count": 77,
     "metadata": {},
     "output_type": "execute_result"
    }
   ],
   "source": [
    "%time compare_all_pairs(siglist_k27_dna[:5], n_jobs=4, require='sharedmem')"
   ]
  },
  {
   "cell_type": "code",
   "execution_count": 84,
   "metadata": {},
   "outputs": [
    {
     "name": "stdout",
     "output_type": "stream",
     "text": [
      "CPU times: user 22.9 s, sys: 230 ms, total: 23.2 s\n",
      "Wall time: 23.1 s\n"
     ]
    },
    {
     "data": {
      "text/plain": [
       "array([[0.      , 0.052594, 0.036896, 0.032664, 0.05257 , 0.044477,\n",
       "        0.026633, 0.032755, 0.034058, 0.041419],\n",
       "       [0.052594, 0.      , 0.048739, 0.044368, 0.104441, 0.075196,\n",
       "        0.031727, 0.043431, 0.04097 , 0.046796],\n",
       "       [0.036896, 0.048739, 0.      , 0.034484, 0.046098, 0.043704,\n",
       "        0.024897, 0.035947, 0.028144, 0.039598],\n",
       "       [0.032664, 0.044368, 0.034484, 0.      , 0.0453  , 0.041797,\n",
       "        0.030011, 0.049822, 0.044296, 0.038339],\n",
       "       [0.05257 , 0.104441, 0.046098, 0.0453  , 0.      , 0.073886,\n",
       "        0.035624, 0.044594, 0.045683, 0.048744],\n",
       "       [0.044477, 0.075196, 0.043704, 0.041797, 0.073886, 0.      ,\n",
       "        0.032788, 0.047804, 0.036424, 0.041845],\n",
       "       [0.026633, 0.031727, 0.024897, 0.030011, 0.035624, 0.032788,\n",
       "        0.      , 0.026536, 0.032024, 0.02673 ],\n",
       "       [0.032755, 0.043431, 0.035947, 0.049822, 0.044594, 0.047804,\n",
       "        0.026536, 0.      , 0.038092, 0.03525 ],\n",
       "       [0.034058, 0.04097 , 0.028144, 0.044296, 0.045683, 0.036424,\n",
       "        0.032024, 0.038092, 0.      , 0.033602],\n",
       "       [0.041419, 0.046796, 0.039598, 0.038339, 0.048744, 0.041845,\n",
       "        0.02673 , 0.03525 , 0.033602, 0.      ]])"
      ]
     },
     "execution_count": 84,
     "metadata": {},
     "output_type": "execute_result"
    }
   ],
   "source": [
    "%time compare_all_pairs(siglist_k27_dna[:10], n_jobs=4, require='sharedmem')"
   ]
  },
  {
   "cell_type": "code",
   "execution_count": 86,
   "metadata": {},
   "outputs": [
    {
     "name": "stdout",
     "output_type": "stream",
     "text": [
      "CPU times: user 5.12 s, sys: 120 ms, total: 5.24 s\n",
      "Wall time: 5.3 s\n"
     ]
    },
    {
     "data": {
      "text/plain": [
       "array([[0.      , 0.052594, 0.036896, 0.032664, 0.05257 ],\n",
       "       [0.052594, 0.      , 0.048739, 0.044368, 0.104441],\n",
       "       [0.036896, 0.048739, 0.      , 0.034484, 0.046098],\n",
       "       [0.032664, 0.044368, 0.034484, 0.      , 0.0453  ],\n",
       "       [0.05257 , 0.104441, 0.046098, 0.0453  , 0.      ]])"
      ]
     },
     "execution_count": 86,
     "metadata": {},
     "output_type": "execute_result"
    }
   ],
   "source": [
    "%time compare_all_pairs(siglist_k27_dna_memmap[:10], n_jobs=4, require='sharedmem')"
   ]
  },
  {
   "cell_type": "code",
   "execution_count": 92,
   "metadata": {},
   "outputs": [
    {
     "name": "stderr",
     "output_type": "stream",
     "text": [
      "/home/olga/.conda/envs/kmer-hashing/lib/python3.6/site-packages/joblib/externals/loky/process_executor.py:706: UserWarning: A worker stopped while some jobs were given to the executor. This can be caused by a too short worker timeout or by a memory leak.\n",
      "  \"timeout or by a memory leak.\", UserWarning\n",
      "/home/olga/.conda/envs/kmer-hashing/lib/python3.6/site-packages/joblib/externals/loky/process_executor.py:706: UserWarning: A worker stopped while some jobs were given to the executor. This can be caused by a too short worker timeout or by a memory leak.\n",
      "  \"timeout or by a memory leak.\", UserWarning\n"
     ]
    },
    {
     "name": "stdout",
     "output_type": "stream",
     "text": [
      "CPU times: user 4min 1s, sys: 1.28 s, total: 4min 2s\n",
      "Wall time: 4min 5s\n"
     ]
    },
    {
     "data": {
      "text/plain": [
       "array([[0.      , 0.052594, 0.036896, 0.032664, 0.05257 ],\n",
       "       [0.052594, 0.      , 0.048739, 0.044368, 0.104441],\n",
       "       [0.036896, 0.048739, 0.      , 0.034484, 0.046098],\n",
       "       [0.032664, 0.044368, 0.034484, 0.      , 0.0453  ],\n",
       "       [0.05257 , 0.104441, 0.046098, 0.0453  , 0.      ]])"
      ]
     },
     "execution_count": 92,
     "metadata": {},
     "output_type": "execute_result"
    }
   ],
   "source": [
    "%time compare_all_pairs(siglist_k27_dna_memmap[:10], n_jobs=4)"
   ]
  },
  {
   "cell_type": "code",
   "execution_count": 85,
   "metadata": {},
   "outputs": [
    {
     "name": "stdout",
     "output_type": "stream",
     "text": [
      "CPU times: user 1min 32s, sys: 1.42 s, total: 1min 34s\n",
      "Wall time: 1min 33s\n"
     ]
    },
    {
     "data": {
      "text/plain": [
       "array([[0.      , 0.052594, 0.036896, 0.032664, 0.05257 , 0.044477,\n",
       "        0.026633, 0.032755, 0.034058, 0.041419, 0.028012, 0.038435,\n",
       "        0.056022, 0.031442, 0.050267, 0.044169, 0.034657, 0.026591,\n",
       "        0.043057, 0.041743],\n",
       "       [0.052594, 0.      , 0.048739, 0.044368, 0.104441, 0.075196,\n",
       "        0.031727, 0.043431, 0.04097 , 0.046796, 0.034856, 0.053615,\n",
       "        0.111691, 0.039028, 0.104456, 0.055113, 0.039543, 0.041071,\n",
       "        0.073189, 0.057099],\n",
       "       [0.036896, 0.048739, 0.      , 0.034484, 0.046098, 0.043704,\n",
       "        0.024897, 0.035947, 0.028144, 0.039598, 0.02737 , 0.036212,\n",
       "        0.046941, 0.027451, 0.045927, 0.041513, 0.035812, 0.0268  ,\n",
       "        0.036648, 0.036744],\n",
       "       [0.032664, 0.044368, 0.034484, 0.      , 0.0453  , 0.041797,\n",
       "        0.030011, 0.049822, 0.044296, 0.038339, 0.033337, 0.032502,\n",
       "        0.045438, 0.043237, 0.036435, 0.03777 , 0.027723, 0.023143,\n",
       "        0.03404 , 0.046541],\n",
       "       [0.05257 , 0.104441, 0.046098, 0.0453  , 0.      , 0.073886,\n",
       "        0.035624, 0.044594, 0.045683, 0.048744, 0.03633 , 0.054124,\n",
       "        0.119608, 0.041648, 0.094857, 0.055815, 0.039548, 0.039743,\n",
       "        0.07188 , 0.059465],\n",
       "       [0.044477, 0.075196, 0.043704, 0.041797, 0.073886, 0.      ,\n",
       "        0.032788, 0.047804, 0.036424, 0.041845, 0.03061 , 0.053984,\n",
       "        0.077136, 0.036545, 0.073835, 0.048366, 0.036173, 0.046143,\n",
       "        0.087138, 0.057875],\n",
       "       [0.026633, 0.031727, 0.024897, 0.030011, 0.035624, 0.032788,\n",
       "        0.      , 0.026536, 0.032024, 0.02673 , 0.022901, 0.027206,\n",
       "        0.038095, 0.025931, 0.02478 , 0.028507, 0.020775, 0.017954,\n",
       "        0.049601, 0.035997],\n",
       "       [0.032755, 0.043431, 0.035947, 0.049822, 0.044594, 0.047804,\n",
       "        0.026536, 0.      , 0.038092, 0.03525 , 0.029746, 0.034275,\n",
       "        0.04067 , 0.039142, 0.037244, 0.035879, 0.029287, 0.028182,\n",
       "        0.040855, 0.048262],\n",
       "       [0.034058, 0.04097 , 0.028144, 0.044296, 0.045683, 0.036424,\n",
       "        0.032024, 0.038092, 0.      , 0.033602, 0.042648, 0.035165,\n",
       "        0.052082, 0.049735, 0.035671, 0.038167, 0.024452, 0.019618,\n",
       "        0.03162 , 0.046745],\n",
       "       [0.041419, 0.046796, 0.039598, 0.038339, 0.048744, 0.041845,\n",
       "        0.02673 , 0.03525 , 0.033602, 0.      , 0.029833, 0.035979,\n",
       "        0.051767, 0.031628, 0.041395, 0.047928, 0.035162, 0.021892,\n",
       "        0.033379, 0.038157],\n",
       "       [0.028012, 0.034856, 0.02737 , 0.033337, 0.03633 , 0.03061 ,\n",
       "        0.022901, 0.029746, 0.042648, 0.029833, 0.      , 0.026332,\n",
       "        0.038917, 0.03357 , 0.029089, 0.02959 , 0.020999, 0.016703,\n",
       "        0.023544, 0.036987],\n",
       "       [0.038435, 0.053615, 0.036212, 0.032502, 0.054124, 0.053984,\n",
       "        0.027206, 0.034275, 0.035165, 0.035979, 0.026332, 0.      ,\n",
       "        0.057281, 0.034901, 0.052982, 0.03965 , 0.033722, 0.032267,\n",
       "        0.048792, 0.043474],\n",
       "       [0.056022, 0.111691, 0.046941, 0.045438, 0.119608, 0.077136,\n",
       "        0.038095, 0.04067 , 0.052082, 0.051767, 0.038917, 0.057281,\n",
       "        0.      , 0.042964, 0.100121, 0.060296, 0.038415, 0.038227,\n",
       "        0.074663, 0.063482],\n",
       "       [0.031442, 0.039028, 0.027451, 0.043237, 0.041648, 0.036545,\n",
       "        0.025931, 0.039142, 0.049735, 0.031628, 0.03357 , 0.034901,\n",
       "        0.042964, 0.      , 0.03488 , 0.034533, 0.031194, 0.02351 ,\n",
       "        0.032185, 0.044631],\n",
       "       [0.050267, 0.104456, 0.045927, 0.036435, 0.094857, 0.073835,\n",
       "        0.02478 , 0.037244, 0.035671, 0.041395, 0.029089, 0.052982,\n",
       "        0.100121, 0.03488 , 0.      , 0.053326, 0.04069 , 0.046031,\n",
       "        0.081327, 0.053832],\n",
       "       [0.044169, 0.055113, 0.041513, 0.03777 , 0.055815, 0.048366,\n",
       "        0.028507, 0.035879, 0.038167, 0.047928, 0.02959 , 0.03965 ,\n",
       "        0.060296, 0.034533, 0.053326, 0.      , 0.037883, 0.026549,\n",
       "        0.046055, 0.045653],\n",
       "       [0.034657, 0.039543, 0.035812, 0.027723, 0.039548, 0.036173,\n",
       "        0.020775, 0.029287, 0.024452, 0.035162, 0.020999, 0.033722,\n",
       "        0.038415, 0.031194, 0.04069 , 0.037883, 0.      , 0.02718 ,\n",
       "        0.033926, 0.03537 ],\n",
       "       [0.026591, 0.041071, 0.0268  , 0.023143, 0.039743, 0.046143,\n",
       "        0.017954, 0.028182, 0.019618, 0.021892, 0.016703, 0.032267,\n",
       "        0.038227, 0.02351 , 0.046031, 0.026549, 0.02718 , 0.      ,\n",
       "        0.052239, 0.033886],\n",
       "       [0.043057, 0.073189, 0.036648, 0.03404 , 0.07188 , 0.087138,\n",
       "        0.049601, 0.040855, 0.03162 , 0.033379, 0.023544, 0.048792,\n",
       "        0.074663, 0.032185, 0.081327, 0.046055, 0.033926, 0.052239,\n",
       "        0.      , 0.060309],\n",
       "       [0.041743, 0.057099, 0.036744, 0.046541, 0.059465, 0.057875,\n",
       "        0.035997, 0.048262, 0.046745, 0.038157, 0.036987, 0.043474,\n",
       "        0.063482, 0.044631, 0.053832, 0.045653, 0.03537 , 0.033886,\n",
       "        0.060309, 0.      ]])"
      ]
     },
     "execution_count": 85,
     "metadata": {},
     "output_type": "execute_result"
    }
   ],
   "source": [
    "%time compare_all_pairs(siglist_k27_dna[:20], n_jobs=8, require='sharedmem')"
   ]
  },
  {
   "cell_type": "code",
   "execution_count": 90,
   "metadata": {},
   "outputs": [
    {
     "name": "stdout",
     "output_type": "stream",
     "text": [
      "5.17 s ± 124 ms per loop (mean ± std. dev. of 7 runs, 1 loop each)\n"
     ]
    }
   ],
   "source": [
    "%timeit compare_all_pairs(siglist_k27_dna_memmap[:20], n_jobs=8, require='sharedmem')"
   ]
  },
  {
   "cell_type": "code",
   "execution_count": 89,
   "metadata": {},
   "outputs": [
    {
     "name": "stdout",
     "output_type": "stream",
     "text": [
      "5.34 s ± 211 ms per loop (mean ± std. dev. of 7 runs, 1 loop each)\n"
     ]
    }
   ],
   "source": [
    "%timeit compare_all_pairs(siglist_k27_dna_memmap[:20], n_jobs=8, require='sharedmem', backend='threading')"
   ]
  },
  {
   "cell_type": "code",
   "execution_count": 91,
   "metadata": {},
   "outputs": [
    {
     "name": "stdout",
     "output_type": "stream",
     "text": [
      "4min 5s ± 2.81 s per loop (mean ± std. dev. of 7 runs, 1 loop each)\n"
     ]
    }
   ],
   "source": [
    "%timeit compare_all_pairs(siglist_k27_dna_memmap[:20], n_jobs=8)"
   ]
  },
  {
   "cell_type": "code",
   "execution_count": 126,
   "metadata": {},
   "outputs": [],
   "source": [
    "import glob\n",
    "import itertools\n",
    "import os\n",
    "import sys\n",
    "import tempfile\n",
    "import time\n",
    "\n",
    "import click\n",
    "from joblib import Parallel, delayed, load, dump\n",
    "import numpy as np\n",
    "import pandas as pd\n",
    "from scipy.spatial.distance import squareform\n",
    "from sourmash import signature as sig\n",
    "from tqdm import tqdm\n",
    "\n",
    "\n",
    "KSIZES = 21, 27, 33, 51\n",
    "MOLECULES = 'dna', 'protein'\n",
    "LOG2_NUM_HASHES = 8, 9, 10, 11, 12, 13, 14, 15, 16\n",
    "\n",
    "def seconds_to_formatted_time(seconds):\n",
    "    m, s = divmod(seconds, 60)\n",
    "    h, m = divmod(m, 60)\n",
    "    return '{:d}:{:02d}:{:02d}'.format(h, m, s)\n",
    "\n",
    "\n",
    "def filter_siglist(siglist, ksize, moltype):\n",
    "    if moltype == 'protein':\n",
    "        molfilter = lambda x: x.minhash.is_protein\n",
    "    else:\n",
    "        molfilter = lambda x: not x.minhash.is_protein\n",
    "\n",
    "    return [s for s in siglist if molfilter(s) and (s.minhash.ksize == ksize)]\n",
    "\n",
    "\n",
    "def load_signatures(filenames):\n",
    "\n",
    "    siglist = []\n",
    "\n",
    "    for filename in tqdm(filenames):\n",
    "        loaded = sig.load_signatures(filename)\n",
    "        siglist.extend(loaded)\n",
    "    return siglist\n",
    "\n",
    "\n",
    "def _compare_serial(siglist, iterator):\n",
    "    n = len(siglist)\n",
    "    values = np.ones((n, n))\n",
    "\n",
    "    for i, j in iterator:\n",
    "        jaccard = siglist[i].jaccard(siglist[j])\n",
    "\n",
    "        values[i, j] = jaccard\n",
    "        values[j, i] = jaccard\n",
    "\n",
    "    return values\n",
    "\n",
    "\n",
    "def compare_all_pairs(siglist, n_jobs=None):\n",
    "    n = len(siglist)\n",
    "\n",
    "    # Combinations makes all unique sets of pairs, e.g. (A, B) but not (B, A)\n",
    "    iterator = itertools.combinations(range(n), 2)\n",
    "    sig_iterator = itertools.combinations(siglist, 2)\n",
    "\n",
    "    if n_jobs is None or n_jobs == 1:\n",
    "        values = _compare_serial(siglist, iterator)\n",
    "    else:\n",
    "        # This creates a condensed distance matrix\n",
    "        condensed = Parallel(n_jobs=n_jobs, require='sharedmem',\n",
    "                             backend='threading')(\n",
    "            delayed(sig1.jaccard)(sig2) for sig1, sig2 in sig_iterator)\n",
    "        values = squareform(condensed)\n",
    "\n",
    "    return values\n",
    "\n",
    "\n",
    "def _memmap_siglist(siglist):\n",
    "    \"\"\"Write a memory-mapped array of signatures\"\"\"\n",
    "    temp_folder = tempfile.mkdtemp()\n",
    "    filename = os.path.join(temp_folder, 'joblib_test.mmap')\n",
    "    if os.path.exists(filename): os.unlink(filename)\n",
    "    _ = dump(siglist, filename)\n",
    "    large_memmap = load(filename, mmap_mode='r+')\n",
    "    return large_memmap\n",
    "\n",
    "\n",
    "\n",
    "def downsample_and_compare(signatures, log2_num_hash, molecule, ksize, n_jobs=None):\n",
    "    t0 = time.time()\n",
    "    \n",
    "    filtered = filter_siglist(signatures, ksize, molecule)\n",
    "    t1 = time.time()\n",
    "    \n",
    "    num_hash = 2**log2_num_hash\n",
    "    downsampled = [s.minhash.downsample_n(num_hash) for s in filtered]\n",
    "    t2 = time.time()\n",
    "    \n",
    "    memmapped = _memmap_siglist(downsampled)\n",
    "    t3 = time.time()\n",
    "    \n",
    "    values = compare_all_pairs(memmapped, n_jobs=n_jobs)\n",
    "    t4 = time.time()\n",
    "\n",
    "    names = [s.name().split('|')[0] for s in filtered]\n",
    "    t5 = time.time()\n",
    "\n",
    "    df = pd.DataFrame(values, index=names, columns=names)\n",
    "    t6 = time.time()\n",
    "\n",
    "    print(f\"--- num_hash: {num_hash}, molecule: {molecule}, \"\n",
    "          f\"ksize: {ksize} ---\")\n",
    "    print(f\"Time to filter on ksize and molecule: {seconds_to_formatted_time(t1-t0)}\")\n",
    "    print(f\"Time to downsample on num_hash: {seconds_to_formatted_time(t2-t1)}\")\n",
    "    print(f\"Time to write memory-mapped array: {seconds_to_formatted_time(t3-t2)}\")\n",
    "    print(f\"Time to compare all pairs: {seconds_to_formatted_time(t4-t3)}\")\n",
    "    print(f\"Time to get names of samples: {seconds_to_formatted_time(t5-t4)}\")\n",
    "    print(f\"Time to create dataframe: {seconds_to_formatted_time(t6-t5)}\")\n",
    "    return df"
   ]
  },
  {
   "cell_type": "code",
   "execution_count": 95,
   "metadata": {},
   "outputs": [],
   "source": []
  },
  {
   "cell_type": "code",
   "execution_count": 96,
   "metadata": {},
   "outputs": [],
   "source": [
    "\n",
    "\n",
    "iterable = itertools.product(log2_num_hashes, molecules, ksizes)"
   ]
  },
  {
   "cell_type": "code",
   "execution_count": 103,
   "metadata": {},
   "outputs": [
    {
     "data": {
      "text/plain": [
       "range(0, 2)"
      ]
     },
     "execution_count": 103,
     "metadata": {},
     "output_type": "execute_result"
    }
   ],
   "source": [
    "range(2)"
   ]
  },
  {
   "cell_type": "code",
   "execution_count": 104,
   "metadata": {},
   "outputs": [],
   "source": []
  },
  {
   "cell_type": "markdown",
   "metadata": {},
   "source": [
    "## Do comparisons in serial"
   ]
  },
  {
   "cell_type": "code",
   "execution_count": 114,
   "metadata": {},
   "outputs": [
    {
     "data": {
      "text/plain": [
       "['B18-MAA000907-3_11_M-1-1|tissue:Liver|subtissue:Non-hepatocytes|cell_ontology_class:endothelial_cell_of_hepatic_sinusoid|free_annotation:NA',\n",
       " 'B18-MAA000907-3_11_M-1-1|tissue:Liver|subtissue:Non-hepatocytes|cell_ontology_class:endothelial_cell_of_hepatic_sinusoid|free_annotation:NA',\n",
       " 'B18-MAA000907-3_11_M-1-1|tissue:Liver|subtissue:Non-hepatocytes|cell_ontology_class:endothelial_cell_of_hepatic_sinusoid|free_annotation:NA',\n",
       " 'B18-MAA000907-3_11_M-1-1|tissue:Liver|subtissue:Non-hepatocytes|cell_ontology_class:endothelial_cell_of_hepatic_sinusoid|free_annotation:NA',\n",
       " 'B18-MAA000907-3_11_M-1-1|tissue:Liver|subtissue:Non-hepatocytes|cell_ontology_class:endothelial_cell_of_hepatic_sinusoid|free_annotation:NA']"
      ]
     },
     "execution_count": 114,
     "metadata": {},
     "output_type": "execute_result"
    }
   ],
   "source": [
    "names = [s.name() for s in siglist] \n",
    "names[:5]"
   ]
  },
  {
   "cell_type": "code",
   "execution_count": 112,
   "metadata": {},
   "outputs": [],
   "source": [
    "s = siglist[0]"
   ]
  },
  {
   "cell_type": "code",
   "execution_count": 113,
   "metadata": {},
   "outputs": [
    {
     "data": {
      "text/plain": [
       "<sourmash._minhash.MinHash at 0x7ffd634763c8>"
      ]
     },
     "execution_count": 113,
     "metadata": {},
     "output_type": "execute_result"
    }
   ],
   "source": [
    "s_downsampled = s.minhash.downsample_n(100)\n",
    "s_downsampled"
   ]
  },
  {
   "cell_type": "code",
   "execution_count": null,
   "metadata": {},
   "outputs": [],
   "source": [
    "s_downsampled.j"
   ]
  },
  {
   "cell_type": "code",
   "execution_count": null,
   "metadata": {},
   "outputs": [],
   "source": [
    "s.ja"
   ]
  },
  {
   "cell_type": "code",
   "execution_count": 119,
   "metadata": {},
   "outputs": [
    {
     "name": "stdout",
     "output_type": "stream",
     "text": [
      "--- log2_num_hash: 8, molecule: DNA, ksize: 21 ---\n",
      "--- num_hash: 256, molecule: DNA, ks§ize: 21 ---\n",
      "Time to filter on ksize and molecule: 0.0057s\n",
      "Time to downsample on num_hash: 5.3e+02s\n",
      "Time to write memory-mapped array: 5.5s\n",
      "Time to compare all pairs: 1.2e+02s\n",
      "CPU times: user 10min 44s, sys: 7.24 s, total: 10min 51s\n",
      "Wall time: 10min 50s\n",
      "--- log2_num_hash: 8, molecule: DNA, ksize: 27 ---\n",
      "--- num_hash: 256, molecule: DNA, ks§ize: 27 ---\n",
      "Time to filter on ksize and molecule: 0.0074s\n",
      "Time to downsample on num_hash: 5.2e+02s\n",
      "Time to write memory-mapped array: 5.4s\n",
      "Time to compare all pairs: 1.1e+02s\n",
      "CPU times: user 10min 28s, sys: 10.8 s, total: 10min 39s\n",
      "Wall time: 10min 40s\n",
      "--- log2_num_hash: 8, molecule: protein, ksize: 21 ---\n",
      "--- num_hash: 256, molecule: protein, ks§ize: 21 ---\n",
      "Time to filter on ksize and molecule: 0.0081s\n",
      "Time to downsample on num_hash: 5.2e+02s\n",
      "Time to write memory-mapped array: 5.5s\n",
      "Time to compare all pairs: 1.2e+02s\n",
      "CPU times: user 10min 32s, sys: 11.1 s, total: 10min 43s\n",
      "Wall time: 10min 44s\n",
      "--- log2_num_hash: 8, molecule: protein, ksize: 27 ---\n",
      "--- num_hash: 256, molecule: protein, ks§ize: 27 ---\n",
      "Time to filter on ksize and molecule: 0.0071s\n",
      "Time to downsample on num_hash: 5.2e+02s\n",
      "Time to write memory-mapped array: 5.4s\n",
      "Time to compare all pairs: 1.1e+02s\n",
      "CPU times: user 10min 31s, sys: 10.8 s, total: 10min 42s\n",
      "Wall time: 10min 41s\n",
      "--- log2_num_hash: 9, molecule: DNA, ksize: 21 ---\n",
      "--- num_hash: 512, molecule: DNA, ks§ize: 21 ---\n",
      "Time to filter on ksize and molecule: 0.0075s\n",
      "Time to downsample on num_hash: 5.2e+02s\n",
      "Time to write memory-mapped array: 1.1e+01s\n",
      "Time to compare all pairs: 1.6e+02s\n",
      "CPU times: user 11min 19s, sys: 10.3 s, total: 11min 29s\n",
      "Wall time: 11min 29s\n",
      "--- log2_num_hash: 9, molecule: DNA, ksize: 27 ---\n",
      "--- num_hash: 512, molecule: DNA, ks§ize: 27 ---\n",
      "Time to filter on ksize and molecule: 0.0078s\n",
      "Time to downsample on num_hash: 5.2e+02s\n",
      "Time to write memory-mapped array: 1.1e+01s\n",
      "Time to compare all pairs: 1.5e+02s\n",
      "CPU times: user 11min 9s, sys: 11.9 s, total: 11min 21s\n",
      "Wall time: 11min 20s\n",
      "--- log2_num_hash: 9, molecule: protein, ksize: 21 ---\n",
      "--- num_hash: 512, molecule: protein, ks§ize: 21 ---\n",
      "Time to filter on ksize and molecule: 0.0067s\n",
      "Time to downsample on num_hash: 5.3e+02s\n",
      "Time to write memory-mapped array: 1.1e+01s\n",
      "Time to compare all pairs: 1.6e+02s\n",
      "CPU times: user 11min 29s, sys: 12.1 s, total: 11min 42s\n",
      "Wall time: 11min 41s\n",
      "--- log2_num_hash: 9, molecule: protein, ksize: 27 ---\n",
      "--- num_hash: 512, molecule: protein, ks§ize: 27 ---\n",
      "Time to filter on ksize and molecule: 0.0085s\n",
      "Time to downsample on num_hash: 5.3e+02s\n",
      "Time to write memory-mapped array: 1.1e+01s\n",
      "Time to compare all pairs: 1.6e+02s\n",
      "CPU times: user 11min 25s, sys: 12.9 s, total: 11min 38s\n",
      "Wall time: 11min 37s\n",
      "--- log2_num_hash: 10, molecule: DNA, ksize: 21 ---\n",
      "--- num_hash: 1024, molecule: DNA, ks§ize: 21 ---\n",
      "Time to filter on ksize and molecule: 0.0079s\n",
      "Time to downsample on num_hash: 5.4e+02s\n",
      "Time to write memory-mapped array: 2.2e+01s\n",
      "Time to compare all pairs: 2.4e+02s\n",
      "CPU times: user 13min 16s, sys: 12.2 s, total: 13min 28s\n",
      "Wall time: 13min 25s\n",
      "--- log2_num_hash: 10, molecule: DNA, ksize: 27 ---\n",
      "--- num_hash: 1024, molecule: DNA, ks§ize: 27 ---\n",
      "Time to filter on ksize and molecule: 0.0079s\n",
      "Time to downsample on num_hash: 5.4e+02s\n",
      "Time to write memory-mapped array: 2.1e+01s\n",
      "Time to compare all pairs: 2.3e+02s\n",
      "CPU times: user 12min 55s, sys: 11.9 s, total: 13min 6s\n",
      "Wall time: 13min 4s\n",
      "--- log2_num_hash: 10, molecule: protein, ksize: 21 ---\n",
      "--- num_hash: 1024, molecule: protein, ks§ize: 21 ---\n",
      "Time to filter on ksize and molecule: 0.0076s\n",
      "Time to downsample on num_hash: 5.8e+02s\n",
      "Time to write memory-mapped array: 2.2e+01s\n",
      "Time to compare all pairs: 2.5e+02s\n",
      "CPU times: user 13min 55s, sys: 12.2 s, total: 14min 7s\n",
      "Wall time: 14min 4s\n",
      "--- log2_num_hash: 10, molecule: protein, ksize: 27 ---\n",
      "--- num_hash: 1024, molecule: protein, ks§ize: 27 ---\n",
      "Time to filter on ksize and molecule: 0.0066s\n",
      "Time to downsample on num_hash: 5.6e+02s\n",
      "Time to write memory-mapped array: 2.4e+01s\n",
      "Time to compare all pairs: 2.3e+02s\n",
      "CPU times: user 13min 19s, sys: 12.4 s, total: 13min 32s\n",
      "Wall time: 13min 29s\n",
      "CPU times: user 2h 21min 9s, sys: 2min 15s, total: 2h 23min 25s\n",
      "Wall time: 2h 23min 9s\n"
>>>>>>> Add notebooks from euler
     ]
    }
   ],
   "source": [
    "%%time\n",
    "\n",
<<<<<<< HEAD
    "folder = '/home/olga/scratch-pure/maca/facs/sourmash_compute_tissue_subset/'\n",
=======
    "n_jobs = 4\n",
>>>>>>> Add notebooks from euler
    "\n",
    "log2_num_hashes = 8, 9, 10\n",
    "molecules = 'DNA', 'protein'\n",
    "ksizes = 21, 27\n",
    "\n",
    "similarities = []\n",
    "\n",
    "iterable = itertools.product(log2_num_hashes, molecules, ksizes)\n",
    "\n",
    "for log2_num_hash, molecule, ksize in iterable:\n",
    "    print(f'--- log2_num_hash: {log2_num_hash}, molecule: {molecule}, ksize: {ksize} ---')\n",
    "    %time similarity = downsample_and_compare(siglist, log2_num_hash, molecule, ksize, n_jobs)\n",
    "    similarities.append(similarity)"
   ]
  },
  {
   "cell_type": "code",
   "execution_count": 121,
   "metadata": {},
   "outputs": [],
   "source": [
    "import xarray as xr"
   ]
  },
  {
   "cell_type": "code",
   "execution_count": 123,
   "metadata": {},
   "outputs": [
    {
     "data": {
      "text/plain": [
       "<xarray.Dataset>\n",
       "Dimensions:                                   (cell1: 1000, cell2: 1000)\n",
       "Coordinates:\n",
       "  * cell1                                     (cell1) object 'A1-B002764-3_38_F-1-1' ... 'P9-MAA000487-3_10_M-1-1'\n",
       "  * cell2                                     (cell2) object 'A1-B002764-3_38_F-1-1' ... 'P9-MAA000487-3_10_M-1-1'\n",
       "Data variables:\n",
       "    molecule=DNA_ksize=21_log2numhash=8       (cell1, cell2) float64 0.0 ... 0.0\n",
       "    molecule=DNA_ksize=27_log2numhash=8       (cell1, cell2) float64 0.0 ... 0.0\n",
       "    molecule=protein_ksize=21_log2numhash=8   (cell1, cell2) float64 0.0 ... 0.0\n",
       "    molecule=protein_ksize=27_log2numhash=8   (cell1, cell2) float64 0.0 ... 0.0\n",
       "    molecule=DNA_ksize=21_log2numhash=9       (cell1, cell2) float64 0.0 ... 0.0\n",
       "    molecule=DNA_ksize=27_log2numhash=9       (cell1, cell2) float64 0.0 ... 0.0\n",
       "    molecule=protein_ksize=21_log2numhash=9   (cell1, cell2) float64 0.0 ... 0.0\n",
       "    molecule=protein_ksize=27_log2numhash=9   (cell1, cell2) float64 0.0 ... 0.0\n",
       "    molecule=DNA_ksize=21_log2numhash=10      (cell1, cell2) float64 0.0 ... 0.0\n",
       "    molecule=DNA_ksize=27_log2numhash=10      (cell1, cell2) float64 0.0 ... 0.0\n",
       "    molecule=protein_ksize=21_log2numhash=10  (cell1, cell2) float64 0.0 ... 0.0\n",
       "    molecule=protein_ksize=27_log2numhash=10  (cell1, cell2) float64 0.0 ... 0.0"
      ]
     },
     "execution_count": 123,
     "metadata": {},
     "output_type": "execute_result"
    }
   ],
   "source": [
    "iterable = itertools.product(log2_num_hashes, molecules, ksizes)\n",
    "\n",
<<<<<<< HEAD
    "moltype = 'DNA'\n",
    "ksize = 21\n",
=======
    "data_arrays = {}\n",
>>>>>>> Add notebooks from euler
    "\n",
    "DIMS = ('cell1', 'cell2')\n",
    "\n",
    "\n",
    "for (log2_num_hash, molecule, ksize), similarity in zip(iterable, similarities):\n",
    "    name = f'molecule={molecule}_ksize={ksize}_log2numhash={log2_num_hash}'\n",
    "    \n",
    "    coords = {'cell1': similarity.index, 'cell2': similarity.columns}\n",
    "    data_array = xr.DataArray(similarity, coords=coords, dims=DIMS)\n",
    "    data_arrays[name] = data_array\n",
    "    \n",
    "dataset = xr.Dataset(data_arrays)\n",
    "dataset"
   ]
  },
  {
   "cell_type": "code",
   "execution_count": 124,
   "metadata": {},
   "outputs": [
    {
     "name": "stdout",
     "output_type": "stream",
     "text": [
      "/data_lg/olga\n",
      "└── maca\n",
      "    └── facs\n",
      "        └── sourmash_compute_tissue_subset\n",
      "            └── dask\n",
      "\n",
      "4 directories\n"
     ]
    }
   ],
   "source": [
    "! tree -d /data_lg/olga"
   ]
  },
  {
<<<<<<< HEAD
=======
   "cell_type": "markdown",
   "metadata": {},
   "source": [
    "### Write the array!!!"
   ]
  },
  {
>>>>>>> Add notebooks from euler
   "cell_type": "code",
   "execution_count": 132,
   "metadata": {},
   "outputs": [
    {
     "name": "stdout",
     "output_type": "stream",
     "text": [
      "mkdir: cannot create directory ‘/data_lg/olga/maca/facs/sourmash_compute_tissue_subset/xarray/’: File exists\r\n"
     ]
    }
   ],
   "source": [
    "folder = \"/data_lg/olga/maca/facs/sourmash_compute_tissue_subset/xarray/\"\n",
    "! mkdir $folder\n",
    "basename = \"similarities_ksizes=21,27_molecules=DNA,protein_log2numhashes=8,9,10.netcdf\"\n",
    "\n",
    "filename = f\"{folder}/{basename}\"\n",
    "\n",
    "dataset.to_netcdf(filename)"
   ]
  },
  {
   "cell_type": "code",
   "execution_count": 133,
   "metadata": {},
   "outputs": [
    {
     "name": "stdout",
     "output_type": "stream",
     "text": [
      "total 8.2M\r\n",
      "drwxrwxr-x 2 olga olga 4.0K Feb 27 11:19 \u001b[0m\u001b[38;5;27m.\u001b[0m/\r\n",
      "drwxrwxr-x 4 olga olga 128K Feb 27 11:18 \u001b[38;5;27m..\u001b[0m/\r\n",
      "-rw-rw-r-- 1 olga olga  92M Feb 27 11:19 similarities_ksizes=21,27_molecules=DNA,protein_log2numhashes=8,9,10.netcdf\r\n"
     ]
    }
   ],
   "source": [
    "ls -lha $folder"
   ]
  },
  {
   "cell_type": "code",
   "execution_count": 131,
   "metadata": {},
   "outputs": [
    {
     "name": "stdout",
     "output_type": "stream",
     "text": [
      "ls: cannot access /data_lg/olga/maca/facs/sourmash_compute_tissue_subset/xarray//similarities_ksizes=21,27_molecules=DNA,protein_log2numhashes=8,9,10.netcdf: No such file or directory\r\n"
     ]
    }
   ],
   "source": [
    "ls -lha $filename"
   ]
  },
  {
   "cell_type": "markdown",
   "metadata": {},
   "source": [
    "## Pre-memory-map the signature list and compare in serial just because"
   ]
  },
  {
   "cell_type": "code",
   "execution_count": 134,
   "metadata": {},
   "outputs": [
    {
     "ename": "KeyboardInterrupt",
     "evalue": "",
     "output_type": "error",
     "traceback": [
      "\u001b[0;31m---------------------------------------------------------------------------\u001b[0m",
      "\u001b[0;31mKeyboardInterrupt\u001b[0m                         Traceback (most recent call last)",
      "\u001b[0;32m<timed exec>\u001b[0m in \u001b[0;36m<module>\u001b[0;34m\u001b[0m\n",
      "\u001b[0;32m<ipython-input-126-5e697ef1d626>\u001b[0m in \u001b[0;36m_memmap_siglist\u001b[0;34m(siglist)\u001b[0m\n\u001b[1;32m     81\u001b[0m     \u001b[0mfilename\u001b[0m \u001b[0;34m=\u001b[0m \u001b[0mos\u001b[0m\u001b[0;34m.\u001b[0m\u001b[0mpath\u001b[0m\u001b[0;34m.\u001b[0m\u001b[0mjoin\u001b[0m\u001b[0;34m(\u001b[0m\u001b[0mtemp_folder\u001b[0m\u001b[0;34m,\u001b[0m \u001b[0;34m'joblib_test.mmap'\u001b[0m\u001b[0;34m)\u001b[0m\u001b[0;34m\u001b[0m\u001b[0;34m\u001b[0m\u001b[0m\n\u001b[1;32m     82\u001b[0m     \u001b[0;32mif\u001b[0m \u001b[0mos\u001b[0m\u001b[0;34m.\u001b[0m\u001b[0mpath\u001b[0m\u001b[0;34m.\u001b[0m\u001b[0mexists\u001b[0m\u001b[0;34m(\u001b[0m\u001b[0mfilename\u001b[0m\u001b[0;34m)\u001b[0m\u001b[0;34m:\u001b[0m \u001b[0mos\u001b[0m\u001b[0;34m.\u001b[0m\u001b[0munlink\u001b[0m\u001b[0;34m(\u001b[0m\u001b[0mfilename\u001b[0m\u001b[0;34m)\u001b[0m\u001b[0;34m\u001b[0m\u001b[0;34m\u001b[0m\u001b[0m\n\u001b[0;32m---> 83\u001b[0;31m     \u001b[0m_\u001b[0m \u001b[0;34m=\u001b[0m \u001b[0mdump\u001b[0m\u001b[0;34m(\u001b[0m\u001b[0msiglist\u001b[0m\u001b[0;34m,\u001b[0m \u001b[0mfilename\u001b[0m\u001b[0;34m)\u001b[0m\u001b[0;34m\u001b[0m\u001b[0;34m\u001b[0m\u001b[0m\n\u001b[0m\u001b[1;32m     84\u001b[0m     \u001b[0mlarge_memmap\u001b[0m \u001b[0;34m=\u001b[0m \u001b[0mload\u001b[0m\u001b[0;34m(\u001b[0m\u001b[0mfilename\u001b[0m\u001b[0;34m,\u001b[0m \u001b[0mmmap_mode\u001b[0m\u001b[0;34m=\u001b[0m\u001b[0;34m'r+'\u001b[0m\u001b[0;34m)\u001b[0m\u001b[0;34m\u001b[0m\u001b[0;34m\u001b[0m\u001b[0m\n\u001b[1;32m     85\u001b[0m     \u001b[0;32mreturn\u001b[0m \u001b[0mlarge_memmap\u001b[0m\u001b[0;34m\u001b[0m\u001b[0;34m\u001b[0m\u001b[0m\n",
      "\u001b[0;32m~/.conda/envs/kmer-hashing/lib/python3.6/site-packages/joblib/numpy_pickle.py\u001b[0m in \u001b[0;36mdump\u001b[0;34m(value, filename, compress, protocol, cache_size)\u001b[0m\n\u001b[1;32m    500\u001b[0m     \u001b[0;32melif\u001b[0m \u001b[0mis_filename\u001b[0m\u001b[0;34m:\u001b[0m\u001b[0;34m\u001b[0m\u001b[0;34m\u001b[0m\u001b[0m\n\u001b[1;32m    501\u001b[0m         \u001b[0;32mwith\u001b[0m \u001b[0mopen\u001b[0m\u001b[0;34m(\u001b[0m\u001b[0mfilename\u001b[0m\u001b[0;34m,\u001b[0m \u001b[0;34m'wb'\u001b[0m\u001b[0;34m)\u001b[0m \u001b[0;32mas\u001b[0m \u001b[0mf\u001b[0m\u001b[0;34m:\u001b[0m\u001b[0;34m\u001b[0m\u001b[0;34m\u001b[0m\u001b[0m\n\u001b[0;32m--> 502\u001b[0;31m             \u001b[0mNumpyPickler\u001b[0m\u001b[0;34m(\u001b[0m\u001b[0mf\u001b[0m\u001b[0;34m,\u001b[0m \u001b[0mprotocol\u001b[0m\u001b[0;34m=\u001b[0m\u001b[0mprotocol\u001b[0m\u001b[0;34m)\u001b[0m\u001b[0;34m.\u001b[0m\u001b[0mdump\u001b[0m\u001b[0;34m(\u001b[0m\u001b[0mvalue\u001b[0m\u001b[0;34m)\u001b[0m\u001b[0;34m\u001b[0m\u001b[0;34m\u001b[0m\u001b[0m\n\u001b[0m\u001b[1;32m    503\u001b[0m     \u001b[0;32melse\u001b[0m\u001b[0;34m:\u001b[0m\u001b[0;34m\u001b[0m\u001b[0;34m\u001b[0m\u001b[0m\n\u001b[1;32m    504\u001b[0m         \u001b[0mNumpyPickler\u001b[0m\u001b[0;34m(\u001b[0m\u001b[0mfilename\u001b[0m\u001b[0;34m,\u001b[0m \u001b[0mprotocol\u001b[0m\u001b[0;34m=\u001b[0m\u001b[0mprotocol\u001b[0m\u001b[0;34m)\u001b[0m\u001b[0;34m.\u001b[0m\u001b[0mdump\u001b[0m\u001b[0;34m(\u001b[0m\u001b[0mvalue\u001b[0m\u001b[0;34m)\u001b[0m\u001b[0;34m\u001b[0m\u001b[0;34m\u001b[0m\u001b[0m\n",
      "\u001b[0;32m~/.conda/envs/kmer-hashing/lib/python3.6/pickle.py\u001b[0m in \u001b[0;36mdump\u001b[0;34m(self, obj)\u001b[0m\n\u001b[1;32m    407\u001b[0m         \u001b[0;32mif\u001b[0m \u001b[0mself\u001b[0m\u001b[0;34m.\u001b[0m\u001b[0mproto\u001b[0m \u001b[0;34m>=\u001b[0m \u001b[0;36m4\u001b[0m\u001b[0;34m:\u001b[0m\u001b[0;34m\u001b[0m\u001b[0;34m\u001b[0m\u001b[0m\n\u001b[1;32m    408\u001b[0m             \u001b[0mself\u001b[0m\u001b[0;34m.\u001b[0m\u001b[0mframer\u001b[0m\u001b[0;34m.\u001b[0m\u001b[0mstart_framing\u001b[0m\u001b[0;34m(\u001b[0m\u001b[0;34m)\u001b[0m\u001b[0;34m\u001b[0m\u001b[0;34m\u001b[0m\u001b[0m\n\u001b[0;32m--> 409\u001b[0;31m         \u001b[0mself\u001b[0m\u001b[0;34m.\u001b[0m\u001b[0msave\u001b[0m\u001b[0;34m(\u001b[0m\u001b[0mobj\u001b[0m\u001b[0;34m)\u001b[0m\u001b[0;34m\u001b[0m\u001b[0;34m\u001b[0m\u001b[0m\n\u001b[0m\u001b[1;32m    410\u001b[0m         \u001b[0mself\u001b[0m\u001b[0;34m.\u001b[0m\u001b[0mwrite\u001b[0m\u001b[0;34m(\u001b[0m\u001b[0mSTOP\u001b[0m\u001b[0;34m)\u001b[0m\u001b[0;34m\u001b[0m\u001b[0;34m\u001b[0m\u001b[0m\n\u001b[1;32m    411\u001b[0m         \u001b[0mself\u001b[0m\u001b[0;34m.\u001b[0m\u001b[0mframer\u001b[0m\u001b[0;34m.\u001b[0m\u001b[0mend_framing\u001b[0m\u001b[0;34m(\u001b[0m\u001b[0;34m)\u001b[0m\u001b[0;34m\u001b[0m\u001b[0;34m\u001b[0m\u001b[0m\n",
      "\u001b[0;32m~/.conda/envs/kmer-hashing/lib/python3.6/site-packages/joblib/numpy_pickle.py\u001b[0m in \u001b[0;36msave\u001b[0;34m(self, obj)\u001b[0m\n\u001b[1;32m    290\u001b[0m             \u001b[0;32mreturn\u001b[0m\u001b[0;34m\u001b[0m\u001b[0;34m\u001b[0m\u001b[0m\n\u001b[1;32m    291\u001b[0m \u001b[0;34m\u001b[0m\u001b[0m\n\u001b[0;32m--> 292\u001b[0;31m         \u001b[0;32mreturn\u001b[0m \u001b[0mPickler\u001b[0m\u001b[0;34m.\u001b[0m\u001b[0msave\u001b[0m\u001b[0;34m(\u001b[0m\u001b[0mself\u001b[0m\u001b[0;34m,\u001b[0m \u001b[0mobj\u001b[0m\u001b[0;34m)\u001b[0m\u001b[0;34m\u001b[0m\u001b[0;34m\u001b[0m\u001b[0m\n\u001b[0m\u001b[1;32m    293\u001b[0m \u001b[0;34m\u001b[0m\u001b[0m\n\u001b[1;32m    294\u001b[0m \u001b[0;34m\u001b[0m\u001b[0m\n",
      "\u001b[0;32m~/.conda/envs/kmer-hashing/lib/python3.6/pickle.py\u001b[0m in \u001b[0;36msave\u001b[0;34m(self, obj, save_persistent_id)\u001b[0m\n\u001b[1;32m    474\u001b[0m         \u001b[0mf\u001b[0m \u001b[0;34m=\u001b[0m \u001b[0mself\u001b[0m\u001b[0;34m.\u001b[0m\u001b[0mdispatch\u001b[0m\u001b[0;34m.\u001b[0m\u001b[0mget\u001b[0m\u001b[0;34m(\u001b[0m\u001b[0mt\u001b[0m\u001b[0;34m)\u001b[0m\u001b[0;34m\u001b[0m\u001b[0;34m\u001b[0m\u001b[0m\n\u001b[1;32m    475\u001b[0m         \u001b[0;32mif\u001b[0m \u001b[0mf\u001b[0m \u001b[0;32mis\u001b[0m \u001b[0;32mnot\u001b[0m \u001b[0;32mNone\u001b[0m\u001b[0;34m:\u001b[0m\u001b[0;34m\u001b[0m\u001b[0;34m\u001b[0m\u001b[0m\n\u001b[0;32m--> 476\u001b[0;31m             \u001b[0mf\u001b[0m\u001b[0;34m(\u001b[0m\u001b[0mself\u001b[0m\u001b[0;34m,\u001b[0m \u001b[0mobj\u001b[0m\u001b[0;34m)\u001b[0m \u001b[0;31m# Call unbound method with explicit self\u001b[0m\u001b[0;34m\u001b[0m\u001b[0;34m\u001b[0m\u001b[0m\n\u001b[0m\u001b[1;32m    477\u001b[0m             \u001b[0;32mreturn\u001b[0m\u001b[0;34m\u001b[0m\u001b[0;34m\u001b[0m\u001b[0m\n\u001b[1;32m    478\u001b[0m \u001b[0;34m\u001b[0m\u001b[0m\n",
      "\u001b[0;32m~/.conda/envs/kmer-hashing/lib/python3.6/pickle.py\u001b[0m in \u001b[0;36msave_list\u001b[0;34m(self, obj)\u001b[0m\n\u001b[1;32m    779\u001b[0m \u001b[0;34m\u001b[0m\u001b[0m\n\u001b[1;32m    780\u001b[0m         \u001b[0mself\u001b[0m\u001b[0;34m.\u001b[0m\u001b[0mmemoize\u001b[0m\u001b[0;34m(\u001b[0m\u001b[0mobj\u001b[0m\u001b[0;34m)\u001b[0m\u001b[0;34m\u001b[0m\u001b[0;34m\u001b[0m\u001b[0m\n\u001b[0;32m--> 781\u001b[0;31m         \u001b[0mself\u001b[0m\u001b[0;34m.\u001b[0m\u001b[0m_batch_appends\u001b[0m\u001b[0;34m(\u001b[0m\u001b[0mobj\u001b[0m\u001b[0;34m)\u001b[0m\u001b[0;34m\u001b[0m\u001b[0;34m\u001b[0m\u001b[0m\n\u001b[0m\u001b[1;32m    782\u001b[0m \u001b[0;34m\u001b[0m\u001b[0m\n\u001b[1;32m    783\u001b[0m     \u001b[0mdispatch\u001b[0m\u001b[0;34m[\u001b[0m\u001b[0mlist\u001b[0m\u001b[0;34m]\u001b[0m \u001b[0;34m=\u001b[0m \u001b[0msave_list\u001b[0m\u001b[0;34m\u001b[0m\u001b[0;34m\u001b[0m\u001b[0m\n",
      "\u001b[0;32m~/.conda/envs/kmer-hashing/lib/python3.6/pickle.py\u001b[0m in \u001b[0;36m_batch_appends\u001b[0;34m(self, items)\u001b[0m\n\u001b[1;32m    803\u001b[0m                 \u001b[0mwrite\u001b[0m\u001b[0;34m(\u001b[0m\u001b[0mMARK\u001b[0m\u001b[0;34m)\u001b[0m\u001b[0;34m\u001b[0m\u001b[0;34m\u001b[0m\u001b[0m\n\u001b[1;32m    804\u001b[0m                 \u001b[0;32mfor\u001b[0m \u001b[0mx\u001b[0m \u001b[0;32min\u001b[0m \u001b[0mtmp\u001b[0m\u001b[0;34m:\u001b[0m\u001b[0;34m\u001b[0m\u001b[0;34m\u001b[0m\u001b[0m\n\u001b[0;32m--> 805\u001b[0;31m                     \u001b[0msave\u001b[0m\u001b[0;34m(\u001b[0m\u001b[0mx\u001b[0m\u001b[0;34m)\u001b[0m\u001b[0;34m\u001b[0m\u001b[0;34m\u001b[0m\u001b[0m\n\u001b[0m\u001b[1;32m    806\u001b[0m                 \u001b[0mwrite\u001b[0m\u001b[0;34m(\u001b[0m\u001b[0mAPPENDS\u001b[0m\u001b[0;34m)\u001b[0m\u001b[0;34m\u001b[0m\u001b[0;34m\u001b[0m\u001b[0m\n\u001b[1;32m    807\u001b[0m             \u001b[0;32melif\u001b[0m \u001b[0mn\u001b[0m\u001b[0;34m:\u001b[0m\u001b[0;34m\u001b[0m\u001b[0;34m\u001b[0m\u001b[0m\n",
      "\u001b[0;32m~/.conda/envs/kmer-hashing/lib/python3.6/site-packages/joblib/numpy_pickle.py\u001b[0m in \u001b[0;36msave\u001b[0;34m(self, obj)\u001b[0m\n\u001b[1;32m    290\u001b[0m             \u001b[0;32mreturn\u001b[0m\u001b[0;34m\u001b[0m\u001b[0;34m\u001b[0m\u001b[0m\n\u001b[1;32m    291\u001b[0m \u001b[0;34m\u001b[0m\u001b[0m\n\u001b[0;32m--> 292\u001b[0;31m         \u001b[0;32mreturn\u001b[0m \u001b[0mPickler\u001b[0m\u001b[0;34m.\u001b[0m\u001b[0msave\u001b[0m\u001b[0;34m(\u001b[0m\u001b[0mself\u001b[0m\u001b[0;34m,\u001b[0m \u001b[0mobj\u001b[0m\u001b[0;34m)\u001b[0m\u001b[0;34m\u001b[0m\u001b[0;34m\u001b[0m\u001b[0m\n\u001b[0m\u001b[1;32m    293\u001b[0m \u001b[0;34m\u001b[0m\u001b[0m\n\u001b[1;32m    294\u001b[0m \u001b[0;34m\u001b[0m\u001b[0m\n",
      "\u001b[0;32m~/.conda/envs/kmer-hashing/lib/python3.6/pickle.py\u001b[0m in \u001b[0;36msave\u001b[0;34m(self, obj, save_persistent_id)\u001b[0m\n\u001b[1;32m    519\u001b[0m \u001b[0;34m\u001b[0m\u001b[0m\n\u001b[1;32m    520\u001b[0m         \u001b[0;31m# Save the reduce() output and finally memoize the object\u001b[0m\u001b[0;34m\u001b[0m\u001b[0;34m\u001b[0m\u001b[0;34m\u001b[0m\u001b[0m\n\u001b[0;32m--> 521\u001b[0;31m         \u001b[0mself\u001b[0m\u001b[0;34m.\u001b[0m\u001b[0msave_reduce\u001b[0m\u001b[0;34m(\u001b[0m\u001b[0mobj\u001b[0m\u001b[0;34m=\u001b[0m\u001b[0mobj\u001b[0m\u001b[0;34m,\u001b[0m \u001b[0;34m*\u001b[0m\u001b[0mrv\u001b[0m\u001b[0;34m)\u001b[0m\u001b[0;34m\u001b[0m\u001b[0;34m\u001b[0m\u001b[0m\n\u001b[0m\u001b[1;32m    522\u001b[0m \u001b[0;34m\u001b[0m\u001b[0m\n\u001b[1;32m    523\u001b[0m     \u001b[0;32mdef\u001b[0m \u001b[0mpersistent_id\u001b[0m\u001b[0;34m(\u001b[0m\u001b[0mself\u001b[0m\u001b[0;34m,\u001b[0m \u001b[0mobj\u001b[0m\u001b[0;34m)\u001b[0m\u001b[0;34m:\u001b[0m\u001b[0;34m\u001b[0m\u001b[0;34m\u001b[0m\u001b[0m\n",
      "\u001b[0;32m~/.conda/envs/kmer-hashing/lib/python3.6/pickle.py\u001b[0m in \u001b[0;36msave_reduce\u001b[0;34m(self, func, args, state, listitems, dictitems, obj)\u001b[0m\n\u001b[1;32m    632\u001b[0m \u001b[0;34m\u001b[0m\u001b[0m\n\u001b[1;32m    633\u001b[0m         \u001b[0;32mif\u001b[0m \u001b[0mstate\u001b[0m \u001b[0;32mis\u001b[0m \u001b[0;32mnot\u001b[0m \u001b[0;32mNone\u001b[0m\u001b[0;34m:\u001b[0m\u001b[0;34m\u001b[0m\u001b[0;34m\u001b[0m\u001b[0m\n\u001b[0;32m--> 634\u001b[0;31m             \u001b[0msave\u001b[0m\u001b[0;34m(\u001b[0m\u001b[0mstate\u001b[0m\u001b[0;34m)\u001b[0m\u001b[0;34m\u001b[0m\u001b[0;34m\u001b[0m\u001b[0m\n\u001b[0m\u001b[1;32m    635\u001b[0m             \u001b[0mwrite\u001b[0m\u001b[0;34m(\u001b[0m\u001b[0mBUILD\u001b[0m\u001b[0;34m)\u001b[0m\u001b[0;34m\u001b[0m\u001b[0;34m\u001b[0m\u001b[0m\n\u001b[1;32m    636\u001b[0m \u001b[0;34m\u001b[0m\u001b[0m\n",
      "\u001b[0;32m~/.conda/envs/kmer-hashing/lib/python3.6/site-packages/joblib/numpy_pickle.py\u001b[0m in \u001b[0;36msave\u001b[0;34m(self, obj)\u001b[0m\n\u001b[1;32m    290\u001b[0m             \u001b[0;32mreturn\u001b[0m\u001b[0;34m\u001b[0m\u001b[0;34m\u001b[0m\u001b[0m\n\u001b[1;32m    291\u001b[0m \u001b[0;34m\u001b[0m\u001b[0m\n\u001b[0;32m--> 292\u001b[0;31m         \u001b[0;32mreturn\u001b[0m \u001b[0mPickler\u001b[0m\u001b[0;34m.\u001b[0m\u001b[0msave\u001b[0m\u001b[0;34m(\u001b[0m\u001b[0mself\u001b[0m\u001b[0;34m,\u001b[0m \u001b[0mobj\u001b[0m\u001b[0;34m)\u001b[0m\u001b[0;34m\u001b[0m\u001b[0;34m\u001b[0m\u001b[0m\n\u001b[0m\u001b[1;32m    293\u001b[0m \u001b[0;34m\u001b[0m\u001b[0m\n\u001b[1;32m    294\u001b[0m \u001b[0;34m\u001b[0m\u001b[0m\n",
      "\u001b[0;32m~/.conda/envs/kmer-hashing/lib/python3.6/pickle.py\u001b[0m in \u001b[0;36msave\u001b[0;34m(self, obj, save_persistent_id)\u001b[0m\n\u001b[1;32m    474\u001b[0m         \u001b[0mf\u001b[0m \u001b[0;34m=\u001b[0m \u001b[0mself\u001b[0m\u001b[0;34m.\u001b[0m\u001b[0mdispatch\u001b[0m\u001b[0;34m.\u001b[0m\u001b[0mget\u001b[0m\u001b[0;34m(\u001b[0m\u001b[0mt\u001b[0m\u001b[0;34m)\u001b[0m\u001b[0;34m\u001b[0m\u001b[0;34m\u001b[0m\u001b[0m\n\u001b[1;32m    475\u001b[0m         \u001b[0;32mif\u001b[0m \u001b[0mf\u001b[0m \u001b[0;32mis\u001b[0m \u001b[0;32mnot\u001b[0m \u001b[0;32mNone\u001b[0m\u001b[0;34m:\u001b[0m\u001b[0;34m\u001b[0m\u001b[0;34m\u001b[0m\u001b[0m\n\u001b[0;32m--> 476\u001b[0;31m             \u001b[0mf\u001b[0m\u001b[0;34m(\u001b[0m\u001b[0mself\u001b[0m\u001b[0;34m,\u001b[0m \u001b[0mobj\u001b[0m\u001b[0;34m)\u001b[0m \u001b[0;31m# Call unbound method with explicit self\u001b[0m\u001b[0;34m\u001b[0m\u001b[0;34m\u001b[0m\u001b[0m\n\u001b[0m\u001b[1;32m    477\u001b[0m             \u001b[0;32mreturn\u001b[0m\u001b[0;34m\u001b[0m\u001b[0;34m\u001b[0m\u001b[0m\n\u001b[1;32m    478\u001b[0m \u001b[0;34m\u001b[0m\u001b[0m\n",
      "\u001b[0;32m~/.conda/envs/kmer-hashing/lib/python3.6/pickle.py\u001b[0m in \u001b[0;36msave_dict\u001b[0;34m(self, obj)\u001b[0m\n\u001b[1;32m    819\u001b[0m \u001b[0;34m\u001b[0m\u001b[0m\n\u001b[1;32m    820\u001b[0m         \u001b[0mself\u001b[0m\u001b[0;34m.\u001b[0m\u001b[0mmemoize\u001b[0m\u001b[0;34m(\u001b[0m\u001b[0mobj\u001b[0m\u001b[0;34m)\u001b[0m\u001b[0;34m\u001b[0m\u001b[0;34m\u001b[0m\u001b[0m\n\u001b[0;32m--> 821\u001b[0;31m         \u001b[0mself\u001b[0m\u001b[0;34m.\u001b[0m\u001b[0m_batch_setitems\u001b[0m\u001b[0;34m(\u001b[0m\u001b[0mobj\u001b[0m\u001b[0;34m.\u001b[0m\u001b[0mitems\u001b[0m\u001b[0;34m(\u001b[0m\u001b[0;34m)\u001b[0m\u001b[0;34m)\u001b[0m\u001b[0;34m\u001b[0m\u001b[0;34m\u001b[0m\u001b[0m\n\u001b[0m\u001b[1;32m    822\u001b[0m \u001b[0;34m\u001b[0m\u001b[0m\n\u001b[1;32m    823\u001b[0m     \u001b[0mdispatch\u001b[0m\u001b[0;34m[\u001b[0m\u001b[0mdict\u001b[0m\u001b[0;34m]\u001b[0m \u001b[0;34m=\u001b[0m \u001b[0msave_dict\u001b[0m\u001b[0;34m\u001b[0m\u001b[0;34m\u001b[0m\u001b[0m\n",
      "\u001b[0;32m~/.conda/envs/kmer-hashing/lib/python3.6/pickle.py\u001b[0m in \u001b[0;36m_batch_setitems\u001b[0;34m(self, items)\u001b[0m\n\u001b[1;32m    845\u001b[0m                 \u001b[0;32mfor\u001b[0m \u001b[0mk\u001b[0m\u001b[0;34m,\u001b[0m \u001b[0mv\u001b[0m \u001b[0;32min\u001b[0m \u001b[0mtmp\u001b[0m\u001b[0;34m:\u001b[0m\u001b[0;34m\u001b[0m\u001b[0;34m\u001b[0m\u001b[0m\n\u001b[1;32m    846\u001b[0m                     \u001b[0msave\u001b[0m\u001b[0;34m(\u001b[0m\u001b[0mk\u001b[0m\u001b[0;34m)\u001b[0m\u001b[0;34m\u001b[0m\u001b[0;34m\u001b[0m\u001b[0m\n\u001b[0;32m--> 847\u001b[0;31m                     \u001b[0msave\u001b[0m\u001b[0;34m(\u001b[0m\u001b[0mv\u001b[0m\u001b[0;34m)\u001b[0m\u001b[0;34m\u001b[0m\u001b[0;34m\u001b[0m\u001b[0m\n\u001b[0m\u001b[1;32m    848\u001b[0m                 \u001b[0mwrite\u001b[0m\u001b[0;34m(\u001b[0m\u001b[0mSETITEMS\u001b[0m\u001b[0;34m)\u001b[0m\u001b[0;34m\u001b[0m\u001b[0;34m\u001b[0m\u001b[0m\n\u001b[1;32m    849\u001b[0m             \u001b[0;32melif\u001b[0m \u001b[0mn\u001b[0m\u001b[0;34m:\u001b[0m\u001b[0;34m\u001b[0m\u001b[0;34m\u001b[0m\u001b[0m\n",
      "\u001b[0;32m~/.conda/envs/kmer-hashing/lib/python3.6/site-packages/joblib/numpy_pickle.py\u001b[0m in \u001b[0;36msave\u001b[0;34m(self, obj)\u001b[0m\n\u001b[1;32m    290\u001b[0m             \u001b[0;32mreturn\u001b[0m\u001b[0;34m\u001b[0m\u001b[0;34m\u001b[0m\u001b[0m\n\u001b[1;32m    291\u001b[0m \u001b[0;34m\u001b[0m\u001b[0m\n\u001b[0;32m--> 292\u001b[0;31m         \u001b[0;32mreturn\u001b[0m \u001b[0mPickler\u001b[0m\u001b[0;34m.\u001b[0m\u001b[0msave\u001b[0m\u001b[0;34m(\u001b[0m\u001b[0mself\u001b[0m\u001b[0;34m,\u001b[0m \u001b[0mobj\u001b[0m\u001b[0;34m)\u001b[0m\u001b[0;34m\u001b[0m\u001b[0;34m\u001b[0m\u001b[0m\n\u001b[0m\u001b[1;32m    293\u001b[0m \u001b[0;34m\u001b[0m\u001b[0m\n\u001b[1;32m    294\u001b[0m \u001b[0;34m\u001b[0m\u001b[0m\n",
      "\u001b[0;32m~/.conda/envs/kmer-hashing/lib/python3.6/pickle.py\u001b[0m in \u001b[0;36msave\u001b[0;34m(self, obj, save_persistent_id)\u001b[0m\n\u001b[1;32m    519\u001b[0m \u001b[0;34m\u001b[0m\u001b[0m\n\u001b[1;32m    520\u001b[0m         \u001b[0;31m# Save the reduce() output and finally memoize the object\u001b[0m\u001b[0;34m\u001b[0m\u001b[0;34m\u001b[0m\u001b[0;34m\u001b[0m\u001b[0m\n\u001b[0;32m--> 521\u001b[0;31m         \u001b[0mself\u001b[0m\u001b[0;34m.\u001b[0m\u001b[0msave_reduce\u001b[0m\u001b[0;34m(\u001b[0m\u001b[0mobj\u001b[0m\u001b[0;34m=\u001b[0m\u001b[0mobj\u001b[0m\u001b[0;34m,\u001b[0m \u001b[0;34m*\u001b[0m\u001b[0mrv\u001b[0m\u001b[0;34m)\u001b[0m\u001b[0;34m\u001b[0m\u001b[0;34m\u001b[0m\u001b[0m\n\u001b[0m\u001b[1;32m    522\u001b[0m \u001b[0;34m\u001b[0m\u001b[0m\n\u001b[1;32m    523\u001b[0m     \u001b[0;32mdef\u001b[0m \u001b[0mpersistent_id\u001b[0m\u001b[0;34m(\u001b[0m\u001b[0mself\u001b[0m\u001b[0;34m,\u001b[0m \u001b[0mobj\u001b[0m\u001b[0;34m)\u001b[0m\u001b[0;34m:\u001b[0m\u001b[0;34m\u001b[0m\u001b[0;34m\u001b[0m\u001b[0m\n",
      "\u001b[0;32m~/.conda/envs/kmer-hashing/lib/python3.6/pickle.py\u001b[0m in \u001b[0;36msave_reduce\u001b[0;34m(self, func, args, state, listitems, dictitems, obj)\u001b[0m\n\u001b[1;32m    608\u001b[0m         \u001b[0;32melse\u001b[0m\u001b[0;34m:\u001b[0m\u001b[0;34m\u001b[0m\u001b[0;34m\u001b[0m\u001b[0m\n\u001b[1;32m    609\u001b[0m             \u001b[0msave\u001b[0m\u001b[0;34m(\u001b[0m\u001b[0mfunc\u001b[0m\u001b[0;34m)\u001b[0m\u001b[0;34m\u001b[0m\u001b[0;34m\u001b[0m\u001b[0m\n\u001b[0;32m--> 610\u001b[0;31m             \u001b[0msave\u001b[0m\u001b[0;34m(\u001b[0m\u001b[0margs\u001b[0m\u001b[0;34m)\u001b[0m\u001b[0;34m\u001b[0m\u001b[0;34m\u001b[0m\u001b[0m\n\u001b[0m\u001b[1;32m    611\u001b[0m             \u001b[0mwrite\u001b[0m\u001b[0;34m(\u001b[0m\u001b[0mREDUCE\u001b[0m\u001b[0;34m)\u001b[0m\u001b[0;34m\u001b[0m\u001b[0;34m\u001b[0m\u001b[0m\n\u001b[1;32m    612\u001b[0m \u001b[0;34m\u001b[0m\u001b[0m\n",
      "\u001b[0;32m~/.conda/envs/kmer-hashing/lib/python3.6/site-packages/joblib/numpy_pickle.py\u001b[0m in \u001b[0;36msave\u001b[0;34m(self, obj)\u001b[0m\n\u001b[1;32m    290\u001b[0m             \u001b[0;32mreturn\u001b[0m\u001b[0;34m\u001b[0m\u001b[0;34m\u001b[0m\u001b[0m\n\u001b[1;32m    291\u001b[0m \u001b[0;34m\u001b[0m\u001b[0m\n\u001b[0;32m--> 292\u001b[0;31m         \u001b[0;32mreturn\u001b[0m \u001b[0mPickler\u001b[0m\u001b[0;34m.\u001b[0m\u001b[0msave\u001b[0m\u001b[0;34m(\u001b[0m\u001b[0mself\u001b[0m\u001b[0;34m,\u001b[0m \u001b[0mobj\u001b[0m\u001b[0;34m)\u001b[0m\u001b[0;34m\u001b[0m\u001b[0;34m\u001b[0m\u001b[0m\n\u001b[0m\u001b[1;32m    293\u001b[0m \u001b[0;34m\u001b[0m\u001b[0m\n\u001b[1;32m    294\u001b[0m \u001b[0;34m\u001b[0m\u001b[0m\n",
      "\u001b[0;32m~/.conda/envs/kmer-hashing/lib/python3.6/pickle.py\u001b[0m in \u001b[0;36msave\u001b[0;34m(self, obj, save_persistent_id)\u001b[0m\n\u001b[1;32m    474\u001b[0m         \u001b[0mf\u001b[0m \u001b[0;34m=\u001b[0m \u001b[0mself\u001b[0m\u001b[0;34m.\u001b[0m\u001b[0mdispatch\u001b[0m\u001b[0;34m.\u001b[0m\u001b[0mget\u001b[0m\u001b[0;34m(\u001b[0m\u001b[0mt\u001b[0m\u001b[0;34m)\u001b[0m\u001b[0;34m\u001b[0m\u001b[0;34m\u001b[0m\u001b[0m\n\u001b[1;32m    475\u001b[0m         \u001b[0;32mif\u001b[0m \u001b[0mf\u001b[0m \u001b[0;32mis\u001b[0m \u001b[0;32mnot\u001b[0m \u001b[0;32mNone\u001b[0m\u001b[0;34m:\u001b[0m\u001b[0;34m\u001b[0m\u001b[0;34m\u001b[0m\u001b[0m\n\u001b[0;32m--> 476\u001b[0;31m             \u001b[0mf\u001b[0m\u001b[0;34m(\u001b[0m\u001b[0mself\u001b[0m\u001b[0;34m,\u001b[0m \u001b[0mobj\u001b[0m\u001b[0;34m)\u001b[0m \u001b[0;31m# Call unbound method with explicit self\u001b[0m\u001b[0;34m\u001b[0m\u001b[0;34m\u001b[0m\u001b[0m\n\u001b[0m\u001b[1;32m    477\u001b[0m             \u001b[0;32mreturn\u001b[0m\u001b[0;34m\u001b[0m\u001b[0;34m\u001b[0m\u001b[0m\n\u001b[1;32m    478\u001b[0m \u001b[0;34m\u001b[0m\u001b[0m\n",
      "\u001b[0;32m~/.conda/envs/kmer-hashing/lib/python3.6/pickle.py\u001b[0m in \u001b[0;36msave_tuple\u001b[0;34m(self, obj)\u001b[0m\n\u001b[1;32m    749\u001b[0m         \u001b[0mwrite\u001b[0m\u001b[0;34m(\u001b[0m\u001b[0mMARK\u001b[0m\u001b[0;34m)\u001b[0m\u001b[0;34m\u001b[0m\u001b[0;34m\u001b[0m\u001b[0m\n\u001b[1;32m    750\u001b[0m         \u001b[0;32mfor\u001b[0m \u001b[0melement\u001b[0m \u001b[0;32min\u001b[0m \u001b[0mobj\u001b[0m\u001b[0;34m:\u001b[0m\u001b[0;34m\u001b[0m\u001b[0;34m\u001b[0m\u001b[0m\n\u001b[0;32m--> 751\u001b[0;31m             \u001b[0msave\u001b[0m\u001b[0;34m(\u001b[0m\u001b[0melement\u001b[0m\u001b[0;34m)\u001b[0m\u001b[0;34m\u001b[0m\u001b[0;34m\u001b[0m\u001b[0m\n\u001b[0m\u001b[1;32m    752\u001b[0m \u001b[0;34m\u001b[0m\u001b[0m\n\u001b[1;32m    753\u001b[0m         \u001b[0;32mif\u001b[0m \u001b[0mid\u001b[0m\u001b[0;34m(\u001b[0m\u001b[0mobj\u001b[0m\u001b[0;34m)\u001b[0m \u001b[0;32min\u001b[0m \u001b[0mmemo\u001b[0m\u001b[0;34m:\u001b[0m\u001b[0;34m\u001b[0m\u001b[0;34m\u001b[0m\u001b[0m\n",
      "\u001b[0;32m~/.conda/envs/kmer-hashing/lib/python3.6/site-packages/joblib/numpy_pickle.py\u001b[0m in \u001b[0;36msave\u001b[0;34m(self, obj)\u001b[0m\n\u001b[1;32m    290\u001b[0m             \u001b[0;32mreturn\u001b[0m\u001b[0;34m\u001b[0m\u001b[0;34m\u001b[0m\u001b[0m\n\u001b[1;32m    291\u001b[0m \u001b[0;34m\u001b[0m\u001b[0m\n\u001b[0;32m--> 292\u001b[0;31m         \u001b[0;32mreturn\u001b[0m \u001b[0mPickler\u001b[0m\u001b[0;34m.\u001b[0m\u001b[0msave\u001b[0m\u001b[0;34m(\u001b[0m\u001b[0mself\u001b[0m\u001b[0;34m,\u001b[0m \u001b[0mobj\u001b[0m\u001b[0;34m)\u001b[0m\u001b[0;34m\u001b[0m\u001b[0;34m\u001b[0m\u001b[0m\n\u001b[0m\u001b[1;32m    293\u001b[0m \u001b[0;34m\u001b[0m\u001b[0m\n\u001b[1;32m    294\u001b[0m \u001b[0;34m\u001b[0m\u001b[0m\n",
      "\u001b[0;32m~/.conda/envs/kmer-hashing/lib/python3.6/pickle.py\u001b[0m in \u001b[0;36msave\u001b[0;34m(self, obj, save_persistent_id)\u001b[0m\n\u001b[1;32m    474\u001b[0m         \u001b[0mf\u001b[0m \u001b[0;34m=\u001b[0m \u001b[0mself\u001b[0m\u001b[0;34m.\u001b[0m\u001b[0mdispatch\u001b[0m\u001b[0;34m.\u001b[0m\u001b[0mget\u001b[0m\u001b[0;34m(\u001b[0m\u001b[0mt\u001b[0m\u001b[0;34m)\u001b[0m\u001b[0;34m\u001b[0m\u001b[0;34m\u001b[0m\u001b[0m\n\u001b[1;32m    475\u001b[0m         \u001b[0;32mif\u001b[0m \u001b[0mf\u001b[0m \u001b[0;32mis\u001b[0m \u001b[0;32mnot\u001b[0m \u001b[0;32mNone\u001b[0m\u001b[0;34m:\u001b[0m\u001b[0;34m\u001b[0m\u001b[0;34m\u001b[0m\u001b[0m\n\u001b[0;32m--> 476\u001b[0;31m             \u001b[0mf\u001b[0m\u001b[0;34m(\u001b[0m\u001b[0mself\u001b[0m\u001b[0;34m,\u001b[0m \u001b[0mobj\u001b[0m\u001b[0;34m)\u001b[0m \u001b[0;31m# Call unbound method with explicit self\u001b[0m\u001b[0;34m\u001b[0m\u001b[0;34m\u001b[0m\u001b[0m\n\u001b[0m\u001b[1;32m    477\u001b[0m             \u001b[0;32mreturn\u001b[0m\u001b[0;34m\u001b[0m\u001b[0;34m\u001b[0m\u001b[0m\n\u001b[1;32m    478\u001b[0m \u001b[0;34m\u001b[0m\u001b[0m\n",
      "\u001b[0;32m~/.conda/envs/kmer-hashing/lib/python3.6/pickle.py\u001b[0m in \u001b[0;36msave_dict\u001b[0;34m(self, obj)\u001b[0m\n\u001b[1;32m    819\u001b[0m \u001b[0;34m\u001b[0m\u001b[0m\n\u001b[1;32m    820\u001b[0m         \u001b[0mself\u001b[0m\u001b[0;34m.\u001b[0m\u001b[0mmemoize\u001b[0m\u001b[0;34m(\u001b[0m\u001b[0mobj\u001b[0m\u001b[0;34m)\u001b[0m\u001b[0;34m\u001b[0m\u001b[0;34m\u001b[0m\u001b[0m\n\u001b[0;32m--> 821\u001b[0;31m         \u001b[0mself\u001b[0m\u001b[0;34m.\u001b[0m\u001b[0m_batch_setitems\u001b[0m\u001b[0;34m(\u001b[0m\u001b[0mobj\u001b[0m\u001b[0;34m.\u001b[0m\u001b[0mitems\u001b[0m\u001b[0;34m(\u001b[0m\u001b[0;34m)\u001b[0m\u001b[0;34m)\u001b[0m\u001b[0;34m\u001b[0m\u001b[0;34m\u001b[0m\u001b[0m\n\u001b[0m\u001b[1;32m    822\u001b[0m \u001b[0;34m\u001b[0m\u001b[0m\n\u001b[1;32m    823\u001b[0m     \u001b[0mdispatch\u001b[0m\u001b[0;34m[\u001b[0m\u001b[0mdict\u001b[0m\u001b[0;34m]\u001b[0m \u001b[0;34m=\u001b[0m \u001b[0msave_dict\u001b[0m\u001b[0;34m\u001b[0m\u001b[0;34m\u001b[0m\u001b[0m\n",
      "\u001b[0;32m~/.conda/envs/kmer-hashing/lib/python3.6/pickle.py\u001b[0m in \u001b[0;36m_batch_setitems\u001b[0;34m(self, items)\u001b[0m\n\u001b[1;32m    844\u001b[0m                 \u001b[0mwrite\u001b[0m\u001b[0;34m(\u001b[0m\u001b[0mMARK\u001b[0m\u001b[0;34m)\u001b[0m\u001b[0;34m\u001b[0m\u001b[0;34m\u001b[0m\u001b[0m\n\u001b[1;32m    845\u001b[0m                 \u001b[0;32mfor\u001b[0m \u001b[0mk\u001b[0m\u001b[0;34m,\u001b[0m \u001b[0mv\u001b[0m \u001b[0;32min\u001b[0m \u001b[0mtmp\u001b[0m\u001b[0;34m:\u001b[0m\u001b[0;34m\u001b[0m\u001b[0;34m\u001b[0m\u001b[0m\n\u001b[0;32m--> 846\u001b[0;31m                     \u001b[0msave\u001b[0m\u001b[0;34m(\u001b[0m\u001b[0mk\u001b[0m\u001b[0;34m)\u001b[0m\u001b[0;34m\u001b[0m\u001b[0;34m\u001b[0m\u001b[0m\n\u001b[0m\u001b[1;32m    847\u001b[0m                     \u001b[0msave\u001b[0m\u001b[0;34m(\u001b[0m\u001b[0mv\u001b[0m\u001b[0;34m)\u001b[0m\u001b[0;34m\u001b[0m\u001b[0;34m\u001b[0m\u001b[0m\n\u001b[1;32m    848\u001b[0m                 \u001b[0mwrite\u001b[0m\u001b[0;34m(\u001b[0m\u001b[0mSETITEMS\u001b[0m\u001b[0;34m)\u001b[0m\u001b[0;34m\u001b[0m\u001b[0;34m\u001b[0m\u001b[0m\n",
      "\u001b[0;32m~/.conda/envs/kmer-hashing/lib/python3.6/site-packages/joblib/numpy_pickle.py\u001b[0m in \u001b[0;36msave\u001b[0;34m(self, obj)\u001b[0m\n\u001b[1;32m    290\u001b[0m             \u001b[0;32mreturn\u001b[0m\u001b[0;34m\u001b[0m\u001b[0;34m\u001b[0m\u001b[0m\n\u001b[1;32m    291\u001b[0m \u001b[0;34m\u001b[0m\u001b[0m\n\u001b[0;32m--> 292\u001b[0;31m         \u001b[0;32mreturn\u001b[0m \u001b[0mPickler\u001b[0m\u001b[0;34m.\u001b[0m\u001b[0msave\u001b[0m\u001b[0;34m(\u001b[0m\u001b[0mself\u001b[0m\u001b[0;34m,\u001b[0m \u001b[0mobj\u001b[0m\u001b[0;34m)\u001b[0m\u001b[0;34m\u001b[0m\u001b[0;34m\u001b[0m\u001b[0m\n\u001b[0m\u001b[1;32m    293\u001b[0m \u001b[0;34m\u001b[0m\u001b[0m\n\u001b[1;32m    294\u001b[0m \u001b[0;34m\u001b[0m\u001b[0m\n",
      "\u001b[0;32m~/.conda/envs/kmer-hashing/lib/python3.6/pickle.py\u001b[0m in \u001b[0;36msave\u001b[0;34m(self, obj, save_persistent_id)\u001b[0m\n\u001b[1;32m    465\u001b[0m \u001b[0;34m\u001b[0m\u001b[0m\n\u001b[1;32m    466\u001b[0m         \u001b[0;31m# Check the memo\u001b[0m\u001b[0;34m\u001b[0m\u001b[0;34m\u001b[0m\u001b[0;34m\u001b[0m\u001b[0m\n\u001b[0;32m--> 467\u001b[0;31m         \u001b[0mx\u001b[0m \u001b[0;34m=\u001b[0m \u001b[0mself\u001b[0m\u001b[0;34m.\u001b[0m\u001b[0mmemo\u001b[0m\u001b[0;34m.\u001b[0m\u001b[0mget\u001b[0m\u001b[0;34m(\u001b[0m\u001b[0mid\u001b[0m\u001b[0;34m(\u001b[0m\u001b[0mobj\u001b[0m\u001b[0;34m)\u001b[0m\u001b[0;34m)\u001b[0m\u001b[0;34m\u001b[0m\u001b[0;34m\u001b[0m\u001b[0m\n\u001b[0m\u001b[1;32m    468\u001b[0m         \u001b[0;32mif\u001b[0m \u001b[0mx\u001b[0m \u001b[0;32mis\u001b[0m \u001b[0;32mnot\u001b[0m \u001b[0;32mNone\u001b[0m\u001b[0;34m:\u001b[0m\u001b[0;34m\u001b[0m\u001b[0;34m\u001b[0m\u001b[0m\n\u001b[1;32m    469\u001b[0m             \u001b[0mself\u001b[0m\u001b[0;34m.\u001b[0m\u001b[0mwrite\u001b[0m\u001b[0;34m(\u001b[0m\u001b[0mself\u001b[0m\u001b[0;34m.\u001b[0m\u001b[0mget\u001b[0m\u001b[0;34m(\u001b[0m\u001b[0mx\u001b[0m\u001b[0;34m[\u001b[0m\u001b[0;36m0\u001b[0m\u001b[0;34m]\u001b[0m\u001b[0;34m)\u001b[0m\u001b[0;34m)\u001b[0m\u001b[0;34m\u001b[0m\u001b[0;34m\u001b[0m\u001b[0m\n",
      "\u001b[0;31mKeyboardInterrupt\u001b[0m: "
     ]
    },
    {
     "name": "stdout",
     "output_type": "stream",
     "text": [
      "--- log2_num_hashes: (8, 9, 10), molecule: DNA, ksize: 21 ---\n"
     ]
    },
    {
     "name": "stderr",
     "output_type": "stream",
     "text": [
      "\n",
      "KeyboardInterrupt\n",
      "\n"
     ]
    }
   ],
   "source": [
    "%%time\n",
    "\n",
    "log2_num_hashes = 8, 9, 10\n",
    "molecules = 'DNA', 'protein'\n",
    "ksizes = 21, 27\n",
    "\n",
    "similarities = []\n",
    "\n",
    "%time siglist_memmaped = _memmap_siglist(siglist)\n",
    "\n",
    "iterable = itertools.product(log2_num_hashes, molecules, ksizes)\n",
    "\n",
    "for log2_num_hash, molecule, ksize in iterable:\n",
    "    print(f'--- log2_num_hashes: {log2_num_hashes}, molecule: {molecule}, ksize: {ksize} ---')\n",
    "    similarity = downsample_and_compare(siglist_memmaped, log2_num_hash, molecule, ksize, n_jobs)\n",
    "    similarities.append(similarity)"
   ]
  },
  {
   "cell_type": "code",
   "execution_count": 135,
   "metadata": {},
   "outputs": [
    {
     "data": {
      "text/plain": [
       "range(0, 3)"
      ]
     },
     "execution_count": 135,
     "metadata": {},
     "output_type": "execute_result"
    }
   ],
   "source": [
    "range(3)"
   ]
  },
  {
   "cell_type": "markdown",
   "metadata": {},
   "source": [
    "## Parallelize the comparisons"
   ]
  },
  {
   "cell_type": "code",
   "execution_count": null,
   "metadata": {},
   "outputs": [],
   "source": [
    "\n",
    "iterable = itertools.product(log2_num_hashes, molecules, ksizes)\n",
    "%time similarities = Parallel(n_jobs=n_jobs)(delayed(downsample_and_compare) (siglist, log2_num_hash, molecule, ksize, n_jobs) for log2_num_hashes, molecule, ksize in iterable)"
   ]
  },
  {
   "cell_type": "markdown",
   "metadata": {},
   "source": [
    "## Pre-memory-map the signature and do the parallelization"
   ]
  },
  {
   "cell_type": "code",
   "execution_count": null,
   "metadata": {
    "scrolled": false
   },
   "outputs": [],
   "source": [
    "%%time\n",
    "\n",
    "%time siglist_memmaped = _memmap_siglist(siglist)\n",
    "\n",
    "iterable = itertools.product(log2_num_hashes, molecules, ksizes)\n",
    "\n",
    "%time similarities = Parallel(n_jobs=n_jobs)(delayed(downsample_and_compare) (siglist_memmaped, log2_num_hash, molecule, ksize, n_jobs) for log2_num_hashes, molecule, ksize in iterable)"
   ]
  },
  {
   "cell_type": "code",
   "execution_count": null,
   "metadata": {},
   "outputs": [],
   "source": [
    "2+3"
   ]
  },
  {
   "cell_type": "code",
   "execution_count": null,
   "metadata": {},
   "outputs": [],
   "source": [
    "range(2)"
   ]
  },
  {
   "cell_type": "code",
   "execution_count": null,
   "metadata": {},
   "outputs": [],
   "source": []
  }
 ],
 "metadata": {
  "kernelspec": {
   "display_name": "Python [conda env:kmer-hashing]",
   "language": "python",
   "name": "conda-env-kmer-hashing-py"
  },
  "language_info": {
   "codemirror_mode": {
    "name": "ipython",
    "version": 3
   },
   "file_extension": ".py",
   "mimetype": "text/x-python",
   "name": "python",
   "nbconvert_exporter": "python",
   "pygments_lexer": "ipython3",
   "version": "3.6.6"
  }
 },
 "nbformat": 4,
 "nbformat_minor": 2
}
