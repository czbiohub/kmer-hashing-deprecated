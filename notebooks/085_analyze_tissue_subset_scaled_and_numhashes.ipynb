{
 "cells": [
  {
   "cell_type": "code",
   "execution_count": 7,
   "metadata": {},
   "outputs": [],
   "source": [
    "import glob\n",
    "from itertools import product\n",
    "import itertools\n",
    "\n",
    "\n",
    "from joblib import Parallel, delayed\n",
    "import numpy as np\n",
    "import matplotlib.pyplot as plt\n",
    "import pandas as pd\n",
    "import seaborn as sns\n",
    "from sourmash import signature as sig\n",
    "from tqdm import tqdm\n",
    "\n",
    "%matplotlib inline"
   ]
  },
  {
   "cell_type": "code",
   "execution_count": 8,
   "metadata": {},
   "outputs": [
    {
     "name": "stdout",
     "output_type": "stream",
     "text": [
      "The autoreload extension is already loaded. To reload it, use:\n",
      "  %reload_ext autoreload\n"
     ]
    }
   ],
   "source": [
    "%load_ext autoreload\n",
    "%autoreload 2"
   ]
  },
  {
   "cell_type": "code",
   "execution_count": 9,
   "metadata": {},
   "outputs": [
    {
     "data": {
      "text/plain": [
       "'../figures/084_analyze_tissue_subset_scaled_and_numhashes'"
      ]
     },
     "execution_count": 9,
     "metadata": {},
     "output_type": "execute_result"
    }
   ],
   "source": [
    "import common\n",
    "\n",
    "figure_folder = common.get_figure_folder()\n",
    "! mkdir -p $figure_folder\n",
    "figure_folder"
   ]
  },
  {
   "cell_type": "markdown",
   "metadata": {},
   "source": [
    "## Load signature subset"
   ]
  },
  {
   "cell_type": "code",
   "execution_count": 1,
   "metadata": {},
   "outputs": [],
   "source": [
    "import time"
   ]
  },
  {
   "cell_type": "code",
   "execution_count": 3,
   "metadata": {},
   "outputs": [],
   "source": [
    "t0 = time.time()\n"
   ]
  },
  {
   "cell_type": "code",
   "execution_count": 4,
   "metadata": {},
   "outputs": [],
   "source": [
    "t1 = time.time()"
   ]
  },
  {
   "cell_type": "code",
   "execution_count": 5,
   "metadata": {},
   "outputs": [
    {
     "data": {
      "text/plain": [
       "10.960232496261597"
      ]
     },
     "execution_count": 5,
     "metadata": {},
     "output_type": "execute_result"
    }
   ],
   "source": [
    "tdelta = time.time() - t0\n",
    "tdelta"
   ]
  },
  {
   "cell_type": "code",
   "execution_count": 6,
   "metadata": {},
   "outputs": [],
   "source": [
    "%%time\n",
    "\n",
    "import pickle\n",
    "folder = '/home/olga/scratch/maca/facs/sourmash_compute_tissue_subset/'\n",
    "\n",
    "pickle_filename = f'{folder}/siglist_subset_npergroup10.pickle'\n",
    "\n",
    "with open(pickle_filename, 'rb') as f:\n",
    "    siglist_all = pickle.load(f)"
   ]
  },
  {
   "cell_type": "code",
   "execution_count": 5,
   "metadata": {},
   "outputs": [],
   "source": [
    "ksizes = 21, 27, 33, 51"
   ]
  },
  {
   "cell_type": "code",
   "execution_count": 98,
   "metadata": {},
   "outputs": [
    {
     "data": {
      "text/plain": [
       "4"
      ]
     },
     "execution_count": 98,
     "metadata": {},
     "output_type": "execute_result"
    }
   ],
   "source": [
    "2+2"
   ]
  },
  {
   "cell_type": "code",
   "execution_count": 99,
   "metadata": {},
   "outputs": [
    {
     "data": {
      "text/plain": [
       "{'class': 'sourmash_signature',\n",
       " 'license': 'CC0',\n",
       " 'name': 'O1-B002771-3_39_F-1-1|tissue:Bladder|subtissue:NA|cell_ontology_class:bladder_cell|free_annotation:Bladder_mesenchymal_cell',\n",
       " 'filename': '/arg/2/1'}"
      ]
     },
     "execution_count": 99,
     "metadata": {},
     "output_type": "execute_result"
    }
   ],
   "source": [
    "s.d"
   ]
  },
  {
   "cell_type": "code",
   "execution_count": 100,
   "metadata": {},
   "outputs": [
    {
     "data": {
      "text/plain": [
       "1000000"
      ]
     },
     "execution_count": 100,
     "metadata": {},
     "output_type": "execute_result"
    }
   ],
   "source": [
    "s.minhash.num"
   ]
  },
  {
   "cell_type": "code",
   "execution_count": 101,
   "metadata": {},
   "outputs": [
    {
     "data": {
      "text/plain": [
       "398"
      ]
     },
     "execution_count": 101,
     "metadata": {},
     "output_type": "execute_result"
    }
   ],
   "source": [
    "len(siglist_all)"
   ]
  },
  {
   "cell_type": "code",
   "execution_count": 102,
   "metadata": {},
   "outputs": [
    {
     "data": {
      "text/plain": [
       "<bound method SourmashSignature.name of SourmashSignature('D16-B000610-3_56_F-1-1|tissue:Bladder|subtissue:NA|cell_ontology_class:bladder_cell|free_annotation:Bladder_mesenchymal_cell', 95b877f3)>"
      ]
     },
     "execution_count": 102,
     "metadata": {},
     "output_type": "execute_result"
    }
   ],
   "source": [
    "s = siglist_all[0]\n",
    "s.name\n"
   ]
  },
  {
   "cell_type": "code",
   "execution_count": 103,
   "metadata": {},
   "outputs": [
    {
     "data": {
      "text/plain": [
       "['__class__',\n",
       " '__delattr__',\n",
       " '__dict__',\n",
       " '__dir__',\n",
       " '__doc__',\n",
       " '__eq__',\n",
       " '__format__',\n",
       " '__ge__',\n",
       " '__getattribute__',\n",
       " '__gt__',\n",
       " '__hash__',\n",
       " '__init__',\n",
       " '__init_subclass__',\n",
       " '__le__',\n",
       " '__lt__',\n",
       " '__module__',\n",
       " '__ne__',\n",
       " '__new__',\n",
       " '__reduce__',\n",
       " '__reduce_ex__',\n",
       " '__repr__',\n",
       " '__setattr__',\n",
       " '__sizeof__',\n",
       " '__str__',\n",
       " '__subclasshook__',\n",
       " '__weakref__',\n",
       " '_display_name',\n",
       " '_save',\n",
       " 'contained_by',\n",
       " 'd',\n",
       " 'jaccard',\n",
       " 'md5sum',\n",
       " 'minhash',\n",
       " 'name',\n",
       " 'similarity']"
      ]
     },
     "execution_count": 103,
     "metadata": {},
     "output_type": "execute_result"
    }
   ],
   "source": [
    "dir(s)"
   ]
  },
  {
   "cell_type": "code",
   "execution_count": 104,
   "metadata": {},
   "outputs": [
    {
     "data": {
      "text/plain": [
       "['__class__',\n",
       " '__copy__',\n",
       " '__delattr__',\n",
       " '__dir__',\n",
       " '__doc__',\n",
       " '__eq__',\n",
       " '__format__',\n",
       " '__ge__',\n",
       " '__getattribute__',\n",
       " '__getstate__',\n",
       " '__gt__',\n",
       " '__hash__',\n",
       " '__iadd__',\n",
       " '__init__',\n",
       " '__init_subclass__',\n",
       " '__le__',\n",
       " '__len__',\n",
       " '__lt__',\n",
       " '__ne__',\n",
       " '__new__',\n",
       " '__pyx_vtable__',\n",
       " '__reduce__',\n",
       " '__reduce_ex__',\n",
       " '__repr__',\n",
       " '__setattr__',\n",
       " '__setstate__',\n",
       " '__sizeof__',\n",
       " '__str__',\n",
       " '__subclasshook__',\n",
       " 'add',\n",
       " 'add_hash',\n",
       " 'add_many',\n",
       " 'add_protein',\n",
       " 'add_sequence',\n",
       " 'compare',\n",
       " 'contained_by',\n",
       " 'copy_and_clear',\n",
       " 'count_common',\n",
       " 'downsample_max_hash',\n",
       " 'downsample_n',\n",
       " 'downsample_scaled',\n",
       " 'get_hashes',\n",
       " 'get_mins',\n",
       " 'intersection',\n",
       " 'is_molecule_type',\n",
       " 'is_protein',\n",
       " 'jaccard',\n",
       " 'ksize',\n",
       " 'max_hash',\n",
       " 'merge',\n",
       " 'num',\n",
       " 'scaled',\n",
       " 'seed',\n",
       " 'set_abundances',\n",
       " 'similarity',\n",
       " 'similarity_ignore_maxhash',\n",
       " 'subtract_mins',\n",
       " 'track_abundance',\n",
       " 'update']"
      ]
     },
     "execution_count": 104,
     "metadata": {},
     "output_type": "execute_result"
    }
   ],
   "source": [
    "dir(s.minhash)"
   ]
  },
  {
   "cell_type": "code",
   "execution_count": 105,
   "metadata": {},
   "outputs": [
    {
     "name": "stdout",
     "output_type": "stream",
     "text": [
      "---\n",
      "s.minhash.ksize: 21\n",
      "s.minhash.is_protein: True\n",
      "---\n",
      "s.minhash.ksize: 21\n",
      "s.minhash.is_protein: False\n",
      "---\n",
      "s.minhash.ksize: 27\n",
      "s.minhash.is_protein: True\n",
      "---\n",
      "s.minhash.ksize: 27\n",
      "s.minhash.is_protein: False\n",
      "---\n",
      "s.minhash.ksize: 33\n",
      "s.minhash.is_protein: True\n",
      "---\n",
      "s.minhash.ksize: 33\n",
      "s.minhash.is_protein: False\n",
      "---\n",
      "s.minhash.ksize: 51\n",
      "s.minhash.is_protein: True\n",
      "---\n",
      "s.minhash.ksize: 51\n",
      "s.minhash.is_protein: False\n",
      "---\n",
      "s.minhash.ksize: 21\n",
      "s.minhash.is_protein: True\n",
      "---\n",
      "s.minhash.ksize: 21\n",
      "s.minhash.is_protein: False\n"
     ]
    }
   ],
   "source": [
    "for s in siglist_all[:10]:\n",
    "    print('---')\n",
    "    print(f's.minhash.ksize: {s.minhash.ksize}')\n",
    "    print(f's.minhash.is_protein: {s.minhash.is_protein}')"
   ]
  },
  {
   "cell_type": "code",
   "execution_count": 106,
   "metadata": {},
   "outputs": [
    {
     "ename": "NameError",
     "evalue": "name 'siglist' is not defined",
     "output_type": "error",
     "traceback": [
      "\u001b[0;31m---------------------------------------------------------------------------\u001b[0m",
      "\u001b[0;31mNameError\u001b[0m                                 Traceback (most recent call last)",
      "\u001b[0;32m<ipython-input-106-aef90309ba09>\u001b[0m in \u001b[0;36m<module>\u001b[0;34m()\u001b[0m\n\u001b[0;32m----> 1\u001b[0;31m \u001b[0mnrow\u001b[0m \u001b[0;34m=\u001b[0m \u001b[0mncol\u001b[0m \u001b[0;34m=\u001b[0m \u001b[0mlen\u001b[0m\u001b[0;34m(\u001b[0m\u001b[0msiglist\u001b[0m\u001b[0;34m)\u001b[0m\u001b[0;34m\u001b[0m\u001b[0m\n\u001b[0m",
      "\u001b[0;31mNameError\u001b[0m: name 'siglist' is not defined"
     ]
    }
   ],
   "source": [
    "nrow = ncol = len(siglist)"
   ]
  },
  {
   "cell_type": "code",
   "execution_count": null,
   "metadata": {},
   "outputs": [],
   "source": [
    "import jaccard_utils"
   ]
  },
  {
   "cell_type": "code",
   "execution_count": null,
   "metadata": {},
   "outputs": [],
   "source": [
    "cat jaccard_utils.py"
   ]
  },
  {
   "cell_type": "code",
   "execution_count": null,
   "metadata": {},
   "outputs": [],
   "source": [
    "# %%time\n",
    "\n",
    "# n_jobs = 8\n",
    "\n",
    "# values = Parallel(n_jobs=n_jobs)(delayed(jaccard_utils.jaccard_sigs)(i, j, siglist) \n",
    "#                                  for i, j in itertools.product(range(len(siglist)), range(len(siglist))))"
   ]
  },
  {
   "cell_type": "code",
   "execution_count": 107,
   "metadata": {},
   "outputs": [],
   "source": [
    "import itertools\n",
    "\n",
    "from scipy.spatial.distance import squareform\n",
    "\n",
    "\n",
    "def _compare_serial(siglist, iterator):\n",
    "    n = len(siglist)\n",
    "    values = np.ones((n, n))\n",
    "    \n",
    "    for i, j in iterator:\n",
    "        jaccard = jaccard_utils.jaccard_sigs(i, j, siglist)\n",
    "        \n",
    "        values[i, j] = jaccard\n",
    "        values[j, i] = jaccard\n",
    "        \n",
    "    return values\n",
    "\n",
    "\n",
    "def compare_all_pairs(siglist, n_jobs=None):\n",
    "    n = len(siglist)\n",
    "    iterator = itertools.combinations(range(n), 2)\n",
    "    \n",
    "    \n",
    "    if n_jobs is None:\n",
    "        values = _compare_serial(siglist, iterator)\n",
    "    else:\n",
    "        # This creates a condensed distance matrix\n",
    "        condensed = Parallel(n_jobs=n_jobs)(delayed(jaccard_utils.jaccard_sigs)(i, j, siglist) for i, j in iterator)\n",
    "        values = squareform(condensed)\n",
    "        \n",
    "    return values\n",
    "\n"
   ]
  },
  {
   "cell_type": "code",
   "execution_count": 108,
   "metadata": {},
   "outputs": [],
   "source": [
    "def filter_siglist(siglist, ksize, moltype):\n",
    "    if moltype == 'protein':\n",
    "        molfilter = lambda x: x.minhash.is_protein\n",
    "    else:\n",
    "        molfilter = lambda x: not x.minhash.is_protein\n",
    "    \n",
    "    return [s for s in siglist if molfilter(s) and (s.minhash.ksize == ksize)]\n"
   ]
  },
  {
   "cell_type": "code",
   "execution_count": 109,
   "metadata": {},
   "outputs": [
    {
     "name": "stdout",
     "output_type": "stream",
     "text": [
      "49\n"
     ]
    },
    {
     "data": {
      "text/plain": [
       "[SourmashSignature('D16-B000610-3_56_F-1-1|tissue:Bladder|subtissue:NA|cell_ontology_class:bladder_cell|free_annotation:Bladder_mesenchymal_cell', 3e5edf55),\n",
       " SourmashSignature('J8-D041914-3_8_M-1-1|tissue:Bladder|subtissue:NA|cell_ontology_class:bladder_cell|free_annotation:Bladder_mesenchymal_cell', 743c7b8e),\n",
       " SourmashSignature('A10-D041914-3_8_M-1-1|tissue:Bladder|subtissue:NA|cell_ontology_class:bladder_cell|free_annotation:Bladder_mesenchymal_cell', b5888448),\n",
       " SourmashSignature('K1-B000610-3_56_F-1-1|tissue:Bladder|subtissue:NA|cell_ontology_class:bladder_cell|free_annotation:Bladder_mesenchymal_cell', 6075f17a),\n",
       " SourmashSignature('O1-B002771-3_39_F-1-1|tissue:Bladder|subtissue:NA|cell_ontology_class:bladder_cell|free_annotation:Bladder_mesenchymal_cell', c4e34c88)]"
      ]
     },
     "execution_count": 109,
     "metadata": {},
     "output_type": "execute_result"
    }
   ],
   "source": [
    "siglist_k27_dna = filter_siglist(siglist_all, 27, \"DNA\")\n",
    "print(len(siglist_k27_dna))\n",
    "siglist_k27_dna[:5]"
   ]
  },
  {
   "cell_type": "code",
   "execution_count": 111,
   "metadata": {},
   "outputs": [
    {
     "data": {
      "text/plain": [
       "False"
      ]
     },
     "execution_count": 111,
     "metadata": {},
     "output_type": "execute_result"
    }
   ],
   "source": [
    "any(s.minhash.is_protein for s in siglist_k27_dna)"
   ]
  },
  {
   "cell_type": "code",
   "execution_count": 112,
   "metadata": {},
   "outputs": [
    {
     "name": "stdout",
     "output_type": "stream",
     "text": [
      "CPU times: user 12min 35s, sys: 26 s, total: 13min 1s\n",
      "Wall time: 13min 52s\n"
     ]
    },
    {
     "data": {
      "text/plain": [
       "array([[1.      , 0.075768, 0.070774, ..., 0.040544, 0.044088, 0.0395  ],\n",
       "       [0.075768, 1.      , 0.110656, ..., 0.047962, 0.047579, 0.043913],\n",
       "       [0.070774, 0.110656, 1.      , ..., 0.048923, 0.047328, 0.043935],\n",
       "       ...,\n",
       "       [0.040544, 0.047962, 0.048923, ..., 1.      , 0.054105, 0.049739],\n",
       "       [0.044088, 0.047579, 0.047328, ..., 0.054105, 1.      , 0.050342],\n",
       "       [0.0395  , 0.043913, 0.043935, ..., 0.049739, 0.050342, 1.      ]])"
      ]
     },
     "execution_count": 112,
     "metadata": {},
     "output_type": "execute_result"
    }
   ],
   "source": [
    "%time values = compare_all_pairs(siglist_k27_dna)\n",
    "values"
   ]
  },
  {
   "cell_type": "code",
   "execution_count": 117,
   "metadata": {},
   "outputs": [],
   "source": [
    "# %time values = compare_all_pairs(siglist_k27_dna, n_jobs=8)\n",
    "# values"
   ]
  },
  {
   "cell_type": "code",
   "execution_count": 118,
   "metadata": {},
   "outputs": [
    {
     "data": {
      "text/plain": [
       "3"
      ]
     },
     "execution_count": 118,
     "metadata": {},
     "output_type": "execute_result"
    }
   ],
   "source": [
    "1+2"
   ]
  },
  {
   "cell_type": "code",
   "execution_count": 114,
   "metadata": {},
   "outputs": [],
   "source": [
    "# scaled = 200\n",
    "# %time siglist_k27_dna_downsampled = [s.minhash.downsample_scaled(scaled) for s in siglist_k27_dna]\n",
    "# print(len(siglist_k27_dna_downsampled))\n",
    "# siglist_k27_dna_downsampled[:5]"
   ]
  },
  {
   "cell_type": "code",
   "execution_count": 115,
   "metadata": {},
   "outputs": [
    {
     "name": "stdout",
     "output_type": "stream",
     "text": [
      "CPU times: user 20.2 s, sys: 6.56 s, total: 26.8 s\n",
      "Wall time: 26.8 s\n",
      "49\n"
     ]
    },
    {
     "data": {
      "text/plain": [
       "[<sourmash._minhash.MinHash at 0x7f6b958c6990>,\n",
       " <sourmash._minhash.MinHash at 0x7f668e472af8>,\n",
       " <sourmash._minhash.MinHash at 0x7f668e472198>,\n",
       " <sourmash._minhash.MinHash at 0x7f668e4721e8>,\n",
       " <sourmash._minhash.MinHash at 0x7f6b95886f30>]"
      ]
     },
     "execution_count": 115,
     "metadata": {},
     "output_type": "execute_result"
    }
   ],
   "source": [
    "num_hashes = 1000\n",
    "\n",
    "%time siglist_k27_dna_downsampled_num_hashes = [s.minhash.downsample_n(num_hashes) for s in siglist_k27_dna]\n",
    "print(len(siglist_k27_dna_downsampled_num_hashes))\n",
    "siglist_k27_dna_downsampled_num_hashes[:5]"
   ]
  },
  {
   "cell_type": "code",
   "execution_count": 116,
   "metadata": {},
   "outputs": [
    {
     "name": "stdout",
     "output_type": "stream",
     "text": [
      "CPU times: user 432 ms, sys: 20 ms, total: 452 ms\n",
      "Wall time: 555 ms\n"
     ]
    },
    {
     "data": {
      "text/plain": [
       "array([[1.   , 0.077, 0.061, ..., 0.025, 0.039, 0.031],\n",
       "       [0.077, 1.   , 0.099, ..., 0.043, 0.046, 0.038],\n",
       "       [0.061, 0.099, 1.   , ..., 0.058, 0.041, 0.04 ],\n",
       "       ...,\n",
       "       [0.025, 0.043, 0.058, ..., 1.   , 0.063, 0.056],\n",
       "       [0.039, 0.046, 0.041, ..., 0.063, 1.   , 0.045],\n",
       "       [0.031, 0.038, 0.04 , ..., 0.056, 0.045, 1.   ]])"
      ]
     },
     "execution_count": 116,
     "metadata": {},
     "output_type": "execute_result"
    }
   ],
   "source": [
    "%time values_numhashes = compare_all_pairs(siglist_k27_dna_downsampled_num_hashes)\n",
    "values_numhashes"
   ]
  },
  {
   "cell_type": "code",
   "execution_count": 119,
   "metadata": {},
   "outputs": [],
   "source": [
    "import knn\n"
   ]
  },
  {
   "cell_type": "code",
   "execution_count": 120,
   "metadata": {},
   "outputs": [
    {
     "name": "stdout",
     "output_type": "stream",
     "text": [
      "(44949, 24)\n"
     ]
    },
    {
     "name": "stderr",
     "output_type": "stream",
     "text": [
      "/home/olga/miniconda3/envs/kmer-hashing/lib/python3.6/site-packages/IPython/core/interactiveshell.py:2785: DtypeWarning: Columns (0,1) have mixed types. Specify dtype option on import or set low_memory=False.\n",
      "  interactivity=interactivity, compiler=compiler, result=result)\n"
     ]
    },
    {
     "data": {
      "text/html": [
       "<div>\n",
       "<style scoped>\n",
       "    .dataframe tbody tr th:only-of-type {\n",
       "        vertical-align: middle;\n",
       "    }\n",
       "\n",
       "    .dataframe tbody tr th {\n",
       "        vertical-align: top;\n",
       "    }\n",
       "\n",
       "    .dataframe thead th {\n",
       "        text-align: right;\n",
       "    }\n",
       "</style>\n",
       "<table border=\"1\" class=\"dataframe\">\n",
       "  <thead>\n",
       "    <tr style=\"text-align: right;\">\n",
       "      <th></th>\n",
       "      <th>Neurog3&gt;0_raw</th>\n",
       "      <th>Neurog3&gt;0_scaled</th>\n",
       "      <th>cell</th>\n",
       "      <th>cell_ontology_class</th>\n",
       "      <th>cell_ontology_id</th>\n",
       "      <th>cluster.ids</th>\n",
       "      <th>free_annotation</th>\n",
       "      <th>mouse.id</th>\n",
       "      <th>mouse.sex</th>\n",
       "      <th>plate.barcode</th>\n",
       "      <th>...</th>\n",
       "      <th>subsetC</th>\n",
       "      <th>subsetC_cluster.ids</th>\n",
       "      <th>subsetD</th>\n",
       "      <th>subsetD_cluster.ids</th>\n",
       "      <th>subsetE</th>\n",
       "      <th>subsetE_cluster.ids</th>\n",
       "      <th>subtissue</th>\n",
       "      <th>tissue</th>\n",
       "      <th>tissue_tSNE_1</th>\n",
       "      <th>tissue_tSNE_2</th>\n",
       "    </tr>\n",
       "  </thead>\n",
       "  <tbody>\n",
       "    <tr>\n",
       "      <th>0</th>\n",
       "      <td>NaN</td>\n",
       "      <td>NaN</td>\n",
       "      <td>A1-B000610-3_56_F-1-1</td>\n",
       "      <td>bladder cell</td>\n",
       "      <td>CL:1001319</td>\n",
       "      <td>5</td>\n",
       "      <td>Bladder mesenchymal cell</td>\n",
       "      <td>3_56_F</td>\n",
       "      <td>F</td>\n",
       "      <td>B000610</td>\n",
       "      <td>...</td>\n",
       "      <td>NaN</td>\n",
       "      <td>NaN</td>\n",
       "      <td>NaN</td>\n",
       "      <td>NaN</td>\n",
       "      <td>NaN</td>\n",
       "      <td>NaN</td>\n",
       "      <td>NaN</td>\n",
       "      <td>Bladder</td>\n",
       "      <td>-7.182841</td>\n",
       "      <td>-10.895094</td>\n",
       "    </tr>\n",
       "    <tr>\n",
       "      <th>1</th>\n",
       "      <td>NaN</td>\n",
       "      <td>NaN</td>\n",
       "      <td>A1-B002764-3_38_F-1-1</td>\n",
       "      <td>bladder urothelial cell</td>\n",
       "      <td>CL:1001428</td>\n",
       "      <td>3</td>\n",
       "      <td>Luminal bladder epithelial cell</td>\n",
       "      <td>3_38_F</td>\n",
       "      <td>F</td>\n",
       "      <td>B002764</td>\n",
       "      <td>...</td>\n",
       "      <td>NaN</td>\n",
       "      <td>NaN</td>\n",
       "      <td>NaN</td>\n",
       "      <td>NaN</td>\n",
       "      <td>NaN</td>\n",
       "      <td>NaN</td>\n",
       "      <td>NaN</td>\n",
       "      <td>Bladder</td>\n",
       "      <td>4.199059</td>\n",
       "      <td>-11.050240</td>\n",
       "    </tr>\n",
       "    <tr>\n",
       "      <th>2</th>\n",
       "      <td>NaN</td>\n",
       "      <td>NaN</td>\n",
       "      <td>A1-B002771-3_39_F-1-1</td>\n",
       "      <td>bladder cell</td>\n",
       "      <td>CL:1001319</td>\n",
       "      <td>5</td>\n",
       "      <td>Bladder mesenchymal cell</td>\n",
       "      <td>3_39_F</td>\n",
       "      <td>F</td>\n",
       "      <td>B002771</td>\n",
       "      <td>...</td>\n",
       "      <td>NaN</td>\n",
       "      <td>NaN</td>\n",
       "      <td>NaN</td>\n",
       "      <td>NaN</td>\n",
       "      <td>NaN</td>\n",
       "      <td>NaN</td>\n",
       "      <td>NaN</td>\n",
       "      <td>Bladder</td>\n",
       "      <td>-11.995435</td>\n",
       "      <td>-7.325534</td>\n",
       "    </tr>\n",
       "    <tr>\n",
       "      <th>3</th>\n",
       "      <td>NaN</td>\n",
       "      <td>NaN</td>\n",
       "      <td>A1-D041914-3_8_M-1-1</td>\n",
       "      <td>bladder cell</td>\n",
       "      <td>CL:1001319</td>\n",
       "      <td>5</td>\n",
       "      <td>Bladder mesenchymal cell</td>\n",
       "      <td>3_8_M</td>\n",
       "      <td>M</td>\n",
       "      <td>D041914</td>\n",
       "      <td>...</td>\n",
       "      <td>NaN</td>\n",
       "      <td>NaN</td>\n",
       "      <td>NaN</td>\n",
       "      <td>NaN</td>\n",
       "      <td>NaN</td>\n",
       "      <td>NaN</td>\n",
       "      <td>NaN</td>\n",
       "      <td>Bladder</td>\n",
       "      <td>-6.820022</td>\n",
       "      <td>-14.174246</td>\n",
       "    </tr>\n",
       "    <tr>\n",
       "      <th>4</th>\n",
       "      <td>NaN</td>\n",
       "      <td>NaN</td>\n",
       "      <td>A1-D042253-3_9_M-1-1</td>\n",
       "      <td>bladder cell</td>\n",
       "      <td>CL:1001319</td>\n",
       "      <td>2</td>\n",
       "      <td>Bladder mesenchymal cell</td>\n",
       "      <td>3_9_M</td>\n",
       "      <td>M</td>\n",
       "      <td>D042253</td>\n",
       "      <td>...</td>\n",
       "      <td>NaN</td>\n",
       "      <td>NaN</td>\n",
       "      <td>NaN</td>\n",
       "      <td>NaN</td>\n",
       "      <td>NaN</td>\n",
       "      <td>NaN</td>\n",
       "      <td>NaN</td>\n",
       "      <td>Bladder</td>\n",
       "      <td>-24.163538</td>\n",
       "      <td>-7.499349</td>\n",
       "    </tr>\n",
       "  </tbody>\n",
       "</table>\n",
       "<p>5 rows × 24 columns</p>\n",
       "</div>"
      ],
      "text/plain": [
       "  Neurog3>0_raw Neurog3>0_scaled                   cell  \\\n",
       "0           NaN              NaN  A1-B000610-3_56_F-1-1   \n",
       "1           NaN              NaN  A1-B002764-3_38_F-1-1   \n",
       "2           NaN              NaN  A1-B002771-3_39_F-1-1   \n",
       "3           NaN              NaN   A1-D041914-3_8_M-1-1   \n",
       "4           NaN              NaN   A1-D042253-3_9_M-1-1   \n",
       "\n",
       "       cell_ontology_class cell_ontology_id  cluster.ids  \\\n",
       "0             bladder cell       CL:1001319            5   \n",
       "1  bladder urothelial cell       CL:1001428            3   \n",
       "2             bladder cell       CL:1001319            5   \n",
       "3             bladder cell       CL:1001319            5   \n",
       "4             bladder cell       CL:1001319            2   \n",
       "\n",
       "                   free_annotation mouse.id mouse.sex plate.barcode  \\\n",
       "0         Bladder mesenchymal cell   3_56_F         F       B000610   \n",
       "1  Luminal bladder epithelial cell   3_38_F         F       B002764   \n",
       "2         Bladder mesenchymal cell   3_39_F         F       B002771   \n",
       "3         Bladder mesenchymal cell    3_8_M         M       D041914   \n",
       "4         Bladder mesenchymal cell    3_9_M         M       D042253   \n",
       "\n",
       "       ...       subsetC  subsetC_cluster.ids subsetD  subsetD_cluster.ids  \\\n",
       "0      ...           NaN                  NaN     NaN                  NaN   \n",
       "1      ...           NaN                  NaN     NaN                  NaN   \n",
       "2      ...           NaN                  NaN     NaN                  NaN   \n",
       "3      ...           NaN                  NaN     NaN                  NaN   \n",
       "4      ...           NaN                  NaN     NaN                  NaN   \n",
       "\n",
       "  subsetE  subsetE_cluster.ids subtissue   tissue tissue_tSNE_1  tissue_tSNE_2  \n",
       "0     NaN                  NaN       NaN  Bladder     -7.182841     -10.895094  \n",
       "1     NaN                  NaN       NaN  Bladder      4.199059     -11.050240  \n",
       "2     NaN                  NaN       NaN  Bladder    -11.995435      -7.325534  \n",
       "3     NaN                  NaN       NaN  Bladder     -6.820022     -14.174246  \n",
       "4     NaN                  NaN       NaN  Bladder    -24.163538      -7.499349  \n",
       "\n",
       "[5 rows x 24 columns]"
      ]
     },
     "execution_count": 120,
     "metadata": {},
     "output_type": "execute_result"
    }
   ],
   "source": [
    "annotations = pd.read_csv(\"/home/olga/tabula-muris/00_data_ingest/18_global_annotation_csv/annotations_facs.csv\")\n",
    "annotations['cell'] = annotations['cell'].str.replace('.', '-')\n",
    "print(annotations.shape)\n",
    "annotations.head()"
   ]
  },
  {
   "cell_type": "code",
   "execution_count": null,
   "metadata": {},
   "outputs": [],
   "source": []
  },
  {
   "cell_type": "code",
   "execution_count": 121,
   "metadata": {},
   "outputs": [
    {
     "data": {
      "text/plain": [
       "['D16-B000610-3_56_F-1-1',\n",
       " 'J8-D041914-3_8_M-1-1',\n",
       " 'A10-D041914-3_8_M-1-1',\n",
       " 'K1-B000610-3_56_F-1-1',\n",
       " 'O1-B002771-3_39_F-1-1']"
      ]
     },
     "execution_count": 121,
     "metadata": {},
     "output_type": "execute_result"
    }
   ],
   "source": [
    "cell_ids_k27_dna = [s.name().split('|')[0] for s in siglist_k27_dna]\n",
    "cell_ids_k27_dna[:5]"
   ]
  },
  {
   "cell_type": "code",
   "execution_count": 122,
   "metadata": {},
   "outputs": [
    {
     "name": "stdout",
     "output_type": "stream",
     "text": [
      "(49, 23)\n"
     ]
    },
    {
     "data": {
      "text/html": [
       "<div>\n",
       "<style scoped>\n",
       "    .dataframe tbody tr th:only-of-type {\n",
       "        vertical-align: middle;\n",
       "    }\n",
       "\n",
       "    .dataframe tbody tr th {\n",
       "        vertical-align: top;\n",
       "    }\n",
       "\n",
       "    .dataframe thead th {\n",
       "        text-align: right;\n",
       "    }\n",
       "</style>\n",
       "<table border=\"1\" class=\"dataframe\">\n",
       "  <thead>\n",
       "    <tr style=\"text-align: right;\">\n",
       "      <th></th>\n",
       "      <th>Neurog3&gt;0_raw</th>\n",
       "      <th>Neurog3&gt;0_scaled</th>\n",
       "      <th>cell_ontology_class</th>\n",
       "      <th>cell_ontology_id</th>\n",
       "      <th>cluster.ids</th>\n",
       "      <th>free_annotation</th>\n",
       "      <th>mouse.id</th>\n",
       "      <th>mouse.sex</th>\n",
       "      <th>plate.barcode</th>\n",
       "      <th>subsetA</th>\n",
       "      <th>...</th>\n",
       "      <th>subsetC</th>\n",
       "      <th>subsetC_cluster.ids</th>\n",
       "      <th>subsetD</th>\n",
       "      <th>subsetD_cluster.ids</th>\n",
       "      <th>subsetE</th>\n",
       "      <th>subsetE_cluster.ids</th>\n",
       "      <th>subtissue</th>\n",
       "      <th>tissue</th>\n",
       "      <th>tissue_tSNE_1</th>\n",
       "      <th>tissue_tSNE_2</th>\n",
       "    </tr>\n",
       "    <tr>\n",
       "      <th>cell</th>\n",
       "      <th></th>\n",
       "      <th></th>\n",
       "      <th></th>\n",
       "      <th></th>\n",
       "      <th></th>\n",
       "      <th></th>\n",
       "      <th></th>\n",
       "      <th></th>\n",
       "      <th></th>\n",
       "      <th></th>\n",
       "      <th></th>\n",
       "      <th></th>\n",
       "      <th></th>\n",
       "      <th></th>\n",
       "      <th></th>\n",
       "      <th></th>\n",
       "      <th></th>\n",
       "      <th></th>\n",
       "      <th></th>\n",
       "      <th></th>\n",
       "      <th></th>\n",
       "    </tr>\n",
       "  </thead>\n",
       "  <tbody>\n",
       "    <tr>\n",
       "      <th>A10-D041914-3_8_M-1-1</th>\n",
       "      <td>NaN</td>\n",
       "      <td>NaN</td>\n",
       "      <td>bladder cell</td>\n",
       "      <td>CL:1001319</td>\n",
       "      <td>2</td>\n",
       "      <td>Bladder mesenchymal cell</td>\n",
       "      <td>3_8_M</td>\n",
       "      <td>M</td>\n",
       "      <td>D041914</td>\n",
       "      <td>NaN</td>\n",
       "      <td>...</td>\n",
       "      <td>NaN</td>\n",
       "      <td>NaN</td>\n",
       "      <td>NaN</td>\n",
       "      <td>NaN</td>\n",
       "      <td>NaN</td>\n",
       "      <td>NaN</td>\n",
       "      <td>NaN</td>\n",
       "      <td>Bladder</td>\n",
       "      <td>-16.643703</td>\n",
       "      <td>-2.434115</td>\n",
       "    </tr>\n",
       "    <tr>\n",
       "      <th>C1-B002771-3_39_F-1-1</th>\n",
       "      <td>NaN</td>\n",
       "      <td>NaN</td>\n",
       "      <td>bladder cell</td>\n",
       "      <td>CL:1001319</td>\n",
       "      <td>0</td>\n",
       "      <td>Bladder mesenchymal cell</td>\n",
       "      <td>3_39_F</td>\n",
       "      <td>F</td>\n",
       "      <td>B002771</td>\n",
       "      <td>NaN</td>\n",
       "      <td>...</td>\n",
       "      <td>NaN</td>\n",
       "      <td>NaN</td>\n",
       "      <td>NaN</td>\n",
       "      <td>NaN</td>\n",
       "      <td>NaN</td>\n",
       "      <td>NaN</td>\n",
       "      <td>NaN</td>\n",
       "      <td>Bladder</td>\n",
       "      <td>6.323991</td>\n",
       "      <td>-20.799954</td>\n",
       "    </tr>\n",
       "    <tr>\n",
       "      <th>D16-B000610-3_56_F-1-1</th>\n",
       "      <td>NaN</td>\n",
       "      <td>NaN</td>\n",
       "      <td>bladder cell</td>\n",
       "      <td>CL:1001319</td>\n",
       "      <td>5</td>\n",
       "      <td>Bladder mesenchymal cell</td>\n",
       "      <td>3_56_F</td>\n",
       "      <td>F</td>\n",
       "      <td>B000610</td>\n",
       "      <td>NaN</td>\n",
       "      <td>...</td>\n",
       "      <td>NaN</td>\n",
       "      <td>NaN</td>\n",
       "      <td>NaN</td>\n",
       "      <td>NaN</td>\n",
       "      <td>NaN</td>\n",
       "      <td>NaN</td>\n",
       "      <td>NaN</td>\n",
       "      <td>Bladder</td>\n",
       "      <td>-3.680862</td>\n",
       "      <td>-7.935199</td>\n",
       "    </tr>\n",
       "    <tr>\n",
       "      <th>G2-MAA000487-3_10_M-1-1</th>\n",
       "      <td>NaN</td>\n",
       "      <td>NaN</td>\n",
       "      <td>bladder cell</td>\n",
       "      <td>CL:1001319</td>\n",
       "      <td>0</td>\n",
       "      <td>Bladder mesenchymal cell</td>\n",
       "      <td>3_10_M</td>\n",
       "      <td>M</td>\n",
       "      <td>MAA000487</td>\n",
       "      <td>NaN</td>\n",
       "      <td>...</td>\n",
       "      <td>NaN</td>\n",
       "      <td>NaN</td>\n",
       "      <td>NaN</td>\n",
       "      <td>NaN</td>\n",
       "      <td>NaN</td>\n",
       "      <td>NaN</td>\n",
       "      <td>NaN</td>\n",
       "      <td>Bladder</td>\n",
       "      <td>-7.573929</td>\n",
       "      <td>-25.838321</td>\n",
       "    </tr>\n",
       "    <tr>\n",
       "      <th>H2-D041914-3_8_M-1-1</th>\n",
       "      <td>NaN</td>\n",
       "      <td>NaN</td>\n",
       "      <td>bladder cell</td>\n",
       "      <td>CL:1001319</td>\n",
       "      <td>2</td>\n",
       "      <td>Bladder mesenchymal cell</td>\n",
       "      <td>3_8_M</td>\n",
       "      <td>M</td>\n",
       "      <td>D041914</td>\n",
       "      <td>NaN</td>\n",
       "      <td>...</td>\n",
       "      <td>NaN</td>\n",
       "      <td>NaN</td>\n",
       "      <td>NaN</td>\n",
       "      <td>NaN</td>\n",
       "      <td>NaN</td>\n",
       "      <td>NaN</td>\n",
       "      <td>NaN</td>\n",
       "      <td>Bladder</td>\n",
       "      <td>-19.457846</td>\n",
       "      <td>7.086368</td>\n",
       "    </tr>\n",
       "  </tbody>\n",
       "</table>\n",
       "<p>5 rows × 23 columns</p>\n",
       "</div>"
      ],
      "text/plain": [
       "                        Neurog3>0_raw Neurog3>0_scaled cell_ontology_class  \\\n",
       "cell                                                                         \n",
       "A10-D041914-3_8_M-1-1             NaN              NaN        bladder cell   \n",
       "C1-B002771-3_39_F-1-1             NaN              NaN        bladder cell   \n",
       "D16-B000610-3_56_F-1-1            NaN              NaN        bladder cell   \n",
       "G2-MAA000487-3_10_M-1-1           NaN              NaN        bladder cell   \n",
       "H2-D041914-3_8_M-1-1              NaN              NaN        bladder cell   \n",
       "\n",
       "                        cell_ontology_id  cluster.ids  \\\n",
       "cell                                                    \n",
       "A10-D041914-3_8_M-1-1         CL:1001319            2   \n",
       "C1-B002771-3_39_F-1-1         CL:1001319            0   \n",
       "D16-B000610-3_56_F-1-1        CL:1001319            5   \n",
       "G2-MAA000487-3_10_M-1-1       CL:1001319            0   \n",
       "H2-D041914-3_8_M-1-1          CL:1001319            2   \n",
       "\n",
       "                                  free_annotation mouse.id mouse.sex  \\\n",
       "cell                                                                   \n",
       "A10-D041914-3_8_M-1-1    Bladder mesenchymal cell    3_8_M         M   \n",
       "C1-B002771-3_39_F-1-1    Bladder mesenchymal cell   3_39_F         F   \n",
       "D16-B000610-3_56_F-1-1   Bladder mesenchymal cell   3_56_F         F   \n",
       "G2-MAA000487-3_10_M-1-1  Bladder mesenchymal cell   3_10_M         M   \n",
       "H2-D041914-3_8_M-1-1     Bladder mesenchymal cell    3_8_M         M   \n",
       "\n",
       "                        plate.barcode subsetA      ...       subsetC  \\\n",
       "cell                                               ...                 \n",
       "A10-D041914-3_8_M-1-1         D041914     NaN      ...           NaN   \n",
       "C1-B002771-3_39_F-1-1         B002771     NaN      ...           NaN   \n",
       "D16-B000610-3_56_F-1-1        B000610     NaN      ...           NaN   \n",
       "G2-MAA000487-3_10_M-1-1     MAA000487     NaN      ...           NaN   \n",
       "H2-D041914-3_8_M-1-1          D041914     NaN      ...           NaN   \n",
       "\n",
       "                        subsetC_cluster.ids  subsetD subsetD_cluster.ids  \\\n",
       "cell                                                                       \n",
       "A10-D041914-3_8_M-1-1                   NaN      NaN                 NaN   \n",
       "C1-B002771-3_39_F-1-1                   NaN      NaN                 NaN   \n",
       "D16-B000610-3_56_F-1-1                  NaN      NaN                 NaN   \n",
       "G2-MAA000487-3_10_M-1-1                 NaN      NaN                 NaN   \n",
       "H2-D041914-3_8_M-1-1                    NaN      NaN                 NaN   \n",
       "\n",
       "                         subsetE subsetE_cluster.ids  subtissue   tissue  \\\n",
       "cell                                                                       \n",
       "A10-D041914-3_8_M-1-1        NaN                 NaN        NaN  Bladder   \n",
       "C1-B002771-3_39_F-1-1        NaN                 NaN        NaN  Bladder   \n",
       "D16-B000610-3_56_F-1-1       NaN                 NaN        NaN  Bladder   \n",
       "G2-MAA000487-3_10_M-1-1      NaN                 NaN        NaN  Bladder   \n",
       "H2-D041914-3_8_M-1-1         NaN                 NaN        NaN  Bladder   \n",
       "\n",
       "                         tissue_tSNE_1 tissue_tSNE_2  \n",
       "cell                                                  \n",
       "A10-D041914-3_8_M-1-1       -16.643703     -2.434115  \n",
       "C1-B002771-3_39_F-1-1         6.323991    -20.799954  \n",
       "D16-B000610-3_56_F-1-1       -3.680862     -7.935199  \n",
       "G2-MAA000487-3_10_M-1-1      -7.573929    -25.838321  \n",
       "H2-D041914-3_8_M-1-1        -19.457846      7.086368  \n",
       "\n",
       "[5 rows x 23 columns]"
      ]
     },
     "execution_count": 122,
     "metadata": {},
     "output_type": "execute_result"
    }
   ],
   "source": [
    "metadata = annotations.query('cell in @cell_ids_k27_dna').set_index('cell')\n",
    "print(metadata.shape)\n",
    "metadata.head()"
   ]
  },
  {
   "cell_type": "code",
   "execution_count": 123,
   "metadata": {},
   "outputs": [
    {
     "data": {
      "text/html": [
       "<div>\n",
       "<style scoped>\n",
       "    .dataframe tbody tr th:only-of-type {\n",
       "        vertical-align: middle;\n",
       "    }\n",
       "\n",
       "    .dataframe tbody tr th {\n",
       "        vertical-align: top;\n",
       "    }\n",
       "\n",
       "    .dataframe thead th {\n",
       "        text-align: right;\n",
       "    }\n",
       "</style>\n",
       "<table border=\"1\" class=\"dataframe\">\n",
       "  <thead>\n",
       "    <tr style=\"text-align: right;\">\n",
       "      <th></th>\n",
       "      <th>D16-B000610-3_56_F-1-1</th>\n",
       "      <th>J8-D041914-3_8_M-1-1</th>\n",
       "      <th>A10-D041914-3_8_M-1-1</th>\n",
       "      <th>K1-B000610-3_56_F-1-1</th>\n",
       "      <th>O1-B002771-3_39_F-1-1</th>\n",
       "      <th>H2-D041914-3_8_M-1-1</th>\n",
       "      <th>C1-B002771-3_39_F-1-1</th>\n",
       "      <th>P2-B000610-3_56_F-1-1</th>\n",
       "      <th>I6-D041914-3_8_M-1-1</th>\n",
       "      <th>G2-MAA000487-3_10_M-1-1</th>\n",
       "      <th>...</th>\n",
       "      <th>O18-MAA001862-3_39_F-1-1</th>\n",
       "      <th>M13-B001750-3_38_F-1-1</th>\n",
       "      <th>C16-B000971-3_39_F-1-1</th>\n",
       "      <th>L19-B001750-3_38_F-1-1</th>\n",
       "      <th>A19-B000971-3_39_F-1-1</th>\n",
       "      <th>K4-MAA000508-3_9_M-1-1</th>\n",
       "      <th>D22-MAA000776-3_10_M-1-1</th>\n",
       "      <th>I20-B000971-3_39_F-1-1</th>\n",
       "      <th>G4-B001750-3_38_F-1-1</th>\n",
       "      <th>G10-B001750-3_38_F-1-1</th>\n",
       "    </tr>\n",
       "  </thead>\n",
       "  <tbody>\n",
       "    <tr>\n",
       "      <th>D16-B000610-3_56_F-1-1</th>\n",
       "      <td>1.000000</td>\n",
       "      <td>0.075768</td>\n",
       "      <td>0.070774</td>\n",
       "      <td>0.075483</td>\n",
       "      <td>0.061413</td>\n",
       "      <td>0.084365</td>\n",
       "      <td>0.079117</td>\n",
       "      <td>0.082958</td>\n",
       "      <td>0.074517</td>\n",
       "      <td>0.055713</td>\n",
       "      <td>...</td>\n",
       "      <td>0.048662</td>\n",
       "      <td>0.040939</td>\n",
       "      <td>0.037233</td>\n",
       "      <td>0.042356</td>\n",
       "      <td>0.037722</td>\n",
       "      <td>0.038222</td>\n",
       "      <td>0.033112</td>\n",
       "      <td>0.040544</td>\n",
       "      <td>0.044088</td>\n",
       "      <td>0.039500</td>\n",
       "    </tr>\n",
       "    <tr>\n",
       "      <th>J8-D041914-3_8_M-1-1</th>\n",
       "      <td>0.075768</td>\n",
       "      <td>1.000000</td>\n",
       "      <td>0.110656</td>\n",
       "      <td>0.095762</td>\n",
       "      <td>0.094588</td>\n",
       "      <td>0.113787</td>\n",
       "      <td>0.110328</td>\n",
       "      <td>0.087658</td>\n",
       "      <td>0.107888</td>\n",
       "      <td>0.095467</td>\n",
       "      <td>...</td>\n",
       "      <td>0.080262</td>\n",
       "      <td>0.047532</td>\n",
       "      <td>0.040653</td>\n",
       "      <td>0.043899</td>\n",
       "      <td>0.044750</td>\n",
       "      <td>0.039540</td>\n",
       "      <td>0.039569</td>\n",
       "      <td>0.047962</td>\n",
       "      <td>0.047579</td>\n",
       "      <td>0.043913</td>\n",
       "    </tr>\n",
       "    <tr>\n",
       "      <th>A10-D041914-3_8_M-1-1</th>\n",
       "      <td>0.070774</td>\n",
       "      <td>0.110656</td>\n",
       "      <td>1.000000</td>\n",
       "      <td>0.089041</td>\n",
       "      <td>0.084941</td>\n",
       "      <td>0.114014</td>\n",
       "      <td>0.096012</td>\n",
       "      <td>0.083851</td>\n",
       "      <td>0.113230</td>\n",
       "      <td>0.095182</td>\n",
       "      <td>...</td>\n",
       "      <td>0.077649</td>\n",
       "      <td>0.047329</td>\n",
       "      <td>0.041871</td>\n",
       "      <td>0.043327</td>\n",
       "      <td>0.045125</td>\n",
       "      <td>0.038878</td>\n",
       "      <td>0.039886</td>\n",
       "      <td>0.048923</td>\n",
       "      <td>0.047328</td>\n",
       "      <td>0.043935</td>\n",
       "    </tr>\n",
       "    <tr>\n",
       "      <th>K1-B000610-3_56_F-1-1</th>\n",
       "      <td>0.075483</td>\n",
       "      <td>0.095762</td>\n",
       "      <td>0.089041</td>\n",
       "      <td>1.000000</td>\n",
       "      <td>0.080479</td>\n",
       "      <td>0.093818</td>\n",
       "      <td>0.096238</td>\n",
       "      <td>0.083216</td>\n",
       "      <td>0.086865</td>\n",
       "      <td>0.078582</td>\n",
       "      <td>...</td>\n",
       "      <td>0.068187</td>\n",
       "      <td>0.044781</td>\n",
       "      <td>0.037555</td>\n",
       "      <td>0.040809</td>\n",
       "      <td>0.041846</td>\n",
       "      <td>0.037676</td>\n",
       "      <td>0.034827</td>\n",
       "      <td>0.044738</td>\n",
       "      <td>0.044295</td>\n",
       "      <td>0.040594</td>\n",
       "    </tr>\n",
       "    <tr>\n",
       "      <th>O1-B002771-3_39_F-1-1</th>\n",
       "      <td>0.061413</td>\n",
       "      <td>0.094588</td>\n",
       "      <td>0.084941</td>\n",
       "      <td>0.080479</td>\n",
       "      <td>1.000000</td>\n",
       "      <td>0.086823</td>\n",
       "      <td>0.088497</td>\n",
       "      <td>0.068989</td>\n",
       "      <td>0.084056</td>\n",
       "      <td>0.081769</td>\n",
       "      <td>...</td>\n",
       "      <td>0.066603</td>\n",
       "      <td>0.040245</td>\n",
       "      <td>0.035381</td>\n",
       "      <td>0.036368</td>\n",
       "      <td>0.039008</td>\n",
       "      <td>0.032765</td>\n",
       "      <td>0.033826</td>\n",
       "      <td>0.042489</td>\n",
       "      <td>0.039067</td>\n",
       "      <td>0.037353</td>\n",
       "    </tr>\n",
       "  </tbody>\n",
       "</table>\n",
       "<p>5 rows × 49 columns</p>\n",
       "</div>"
      ],
      "text/plain": [
       "                        D16-B000610-3_56_F-1-1  J8-D041914-3_8_M-1-1  \\\n",
       "D16-B000610-3_56_F-1-1                1.000000              0.075768   \n",
       "J8-D041914-3_8_M-1-1                  0.075768              1.000000   \n",
       "A10-D041914-3_8_M-1-1                 0.070774              0.110656   \n",
       "K1-B000610-3_56_F-1-1                 0.075483              0.095762   \n",
       "O1-B002771-3_39_F-1-1                 0.061413              0.094588   \n",
       "\n",
       "                        A10-D041914-3_8_M-1-1  K1-B000610-3_56_F-1-1  \\\n",
       "D16-B000610-3_56_F-1-1               0.070774               0.075483   \n",
       "J8-D041914-3_8_M-1-1                 0.110656               0.095762   \n",
       "A10-D041914-3_8_M-1-1                1.000000               0.089041   \n",
       "K1-B000610-3_56_F-1-1                0.089041               1.000000   \n",
       "O1-B002771-3_39_F-1-1                0.084941               0.080479   \n",
       "\n",
       "                        O1-B002771-3_39_F-1-1  H2-D041914-3_8_M-1-1  \\\n",
       "D16-B000610-3_56_F-1-1               0.061413              0.084365   \n",
       "J8-D041914-3_8_M-1-1                 0.094588              0.113787   \n",
       "A10-D041914-3_8_M-1-1                0.084941              0.114014   \n",
       "K1-B000610-3_56_F-1-1                0.080479              0.093818   \n",
       "O1-B002771-3_39_F-1-1                1.000000              0.086823   \n",
       "\n",
       "                        C1-B002771-3_39_F-1-1  P2-B000610-3_56_F-1-1  \\\n",
       "D16-B000610-3_56_F-1-1               0.079117               0.082958   \n",
       "J8-D041914-3_8_M-1-1                 0.110328               0.087658   \n",
       "A10-D041914-3_8_M-1-1                0.096012               0.083851   \n",
       "K1-B000610-3_56_F-1-1                0.096238               0.083216   \n",
       "O1-B002771-3_39_F-1-1                0.088497               0.068989   \n",
       "\n",
       "                        I6-D041914-3_8_M-1-1  G2-MAA000487-3_10_M-1-1  \\\n",
       "D16-B000610-3_56_F-1-1              0.074517                 0.055713   \n",
       "J8-D041914-3_8_M-1-1                0.107888                 0.095467   \n",
       "A10-D041914-3_8_M-1-1               0.113230                 0.095182   \n",
       "K1-B000610-3_56_F-1-1               0.086865                 0.078582   \n",
       "O1-B002771-3_39_F-1-1               0.084056                 0.081769   \n",
       "\n",
       "                                 ...            O18-MAA001862-3_39_F-1-1  \\\n",
       "D16-B000610-3_56_F-1-1           ...                            0.048662   \n",
       "J8-D041914-3_8_M-1-1             ...                            0.080262   \n",
       "A10-D041914-3_8_M-1-1            ...                            0.077649   \n",
       "K1-B000610-3_56_F-1-1            ...                            0.068187   \n",
       "O1-B002771-3_39_F-1-1            ...                            0.066603   \n",
       "\n",
       "                        M13-B001750-3_38_F-1-1  C16-B000971-3_39_F-1-1  \\\n",
       "D16-B000610-3_56_F-1-1                0.040939                0.037233   \n",
       "J8-D041914-3_8_M-1-1                  0.047532                0.040653   \n",
       "A10-D041914-3_8_M-1-1                 0.047329                0.041871   \n",
       "K1-B000610-3_56_F-1-1                 0.044781                0.037555   \n",
       "O1-B002771-3_39_F-1-1                 0.040245                0.035381   \n",
       "\n",
       "                        L19-B001750-3_38_F-1-1  A19-B000971-3_39_F-1-1  \\\n",
       "D16-B000610-3_56_F-1-1                0.042356                0.037722   \n",
       "J8-D041914-3_8_M-1-1                  0.043899                0.044750   \n",
       "A10-D041914-3_8_M-1-1                 0.043327                0.045125   \n",
       "K1-B000610-3_56_F-1-1                 0.040809                0.041846   \n",
       "O1-B002771-3_39_F-1-1                 0.036368                0.039008   \n",
       "\n",
       "                        K4-MAA000508-3_9_M-1-1  D22-MAA000776-3_10_M-1-1  \\\n",
       "D16-B000610-3_56_F-1-1                0.038222                  0.033112   \n",
       "J8-D041914-3_8_M-1-1                  0.039540                  0.039569   \n",
       "A10-D041914-3_8_M-1-1                 0.038878                  0.039886   \n",
       "K1-B000610-3_56_F-1-1                 0.037676                  0.034827   \n",
       "O1-B002771-3_39_F-1-1                 0.032765                  0.033826   \n",
       "\n",
       "                        I20-B000971-3_39_F-1-1  G4-B001750-3_38_F-1-1  \\\n",
       "D16-B000610-3_56_F-1-1                0.040544               0.044088   \n",
       "J8-D041914-3_8_M-1-1                  0.047962               0.047579   \n",
       "A10-D041914-3_8_M-1-1                 0.048923               0.047328   \n",
       "K1-B000610-3_56_F-1-1                 0.044738               0.044295   \n",
       "O1-B002771-3_39_F-1-1                 0.042489               0.039067   \n",
       "\n",
       "                        G10-B001750-3_38_F-1-1  \n",
       "D16-B000610-3_56_F-1-1                0.039500  \n",
       "J8-D041914-3_8_M-1-1                  0.043913  \n",
       "A10-D041914-3_8_M-1-1                 0.043935  \n",
       "K1-B000610-3_56_F-1-1                 0.040594  \n",
       "O1-B002771-3_39_F-1-1                 0.037353  \n",
       "\n",
       "[5 rows x 49 columns]"
      ]
     },
     "execution_count": 123,
     "metadata": {},
     "output_type": "execute_result"
    }
   ],
   "source": [
    "jaccard_1m = pd.DataFrame(values, index=cell_ids_k27_dna, columns=cell_ids_k27_dna)\n",
    "jaccard_1m.head()"
   ]
  },
  {
   "cell_type": "code",
   "execution_count": 124,
   "metadata": {},
   "outputs": [
    {
     "data": {
      "text/html": [
       "<div>\n",
       "<style scoped>\n",
       "    .dataframe tbody tr th:only-of-type {\n",
       "        vertical-align: middle;\n",
       "    }\n",
       "\n",
       "    .dataframe tbody tr th {\n",
       "        vertical-align: top;\n",
       "    }\n",
       "\n",
       "    .dataframe thead th {\n",
       "        text-align: right;\n",
       "    }\n",
       "</style>\n",
       "<table border=\"1\" class=\"dataframe\">\n",
       "  <thead>\n",
       "    <tr style=\"text-align: right;\">\n",
       "      <th></th>\n",
       "      <th>D16-B000610-3_56_F-1-1</th>\n",
       "      <th>J8-D041914-3_8_M-1-1</th>\n",
       "      <th>A10-D041914-3_8_M-1-1</th>\n",
       "      <th>K1-B000610-3_56_F-1-1</th>\n",
       "      <th>O1-B002771-3_39_F-1-1</th>\n",
       "      <th>H2-D041914-3_8_M-1-1</th>\n",
       "      <th>C1-B002771-3_39_F-1-1</th>\n",
       "      <th>P2-B000610-3_56_F-1-1</th>\n",
       "      <th>I6-D041914-3_8_M-1-1</th>\n",
       "      <th>G2-MAA000487-3_10_M-1-1</th>\n",
       "      <th>...</th>\n",
       "      <th>O18-MAA001862-3_39_F-1-1</th>\n",
       "      <th>M13-B001750-3_38_F-1-1</th>\n",
       "      <th>C16-B000971-3_39_F-1-1</th>\n",
       "      <th>L19-B001750-3_38_F-1-1</th>\n",
       "      <th>A19-B000971-3_39_F-1-1</th>\n",
       "      <th>K4-MAA000508-3_9_M-1-1</th>\n",
       "      <th>D22-MAA000776-3_10_M-1-1</th>\n",
       "      <th>I20-B000971-3_39_F-1-1</th>\n",
       "      <th>G4-B001750-3_38_F-1-1</th>\n",
       "      <th>G10-B001750-3_38_F-1-1</th>\n",
       "    </tr>\n",
       "  </thead>\n",
       "  <tbody>\n",
       "    <tr>\n",
       "      <th>D16-B000610-3_56_F-1-1</th>\n",
       "      <td>1.000</td>\n",
       "      <td>0.077</td>\n",
       "      <td>0.061</td>\n",
       "      <td>0.070</td>\n",
       "      <td>0.055</td>\n",
       "      <td>0.080</td>\n",
       "      <td>0.072</td>\n",
       "      <td>0.078</td>\n",
       "      <td>0.063</td>\n",
       "      <td>0.056</td>\n",
       "      <td>...</td>\n",
       "      <td>0.036</td>\n",
       "      <td>0.027</td>\n",
       "      <td>0.027</td>\n",
       "      <td>0.033</td>\n",
       "      <td>0.027</td>\n",
       "      <td>0.030</td>\n",
       "      <td>0.020</td>\n",
       "      <td>0.025</td>\n",
       "      <td>0.039</td>\n",
       "      <td>0.031</td>\n",
       "    </tr>\n",
       "    <tr>\n",
       "      <th>J8-D041914-3_8_M-1-1</th>\n",
       "      <td>0.077</td>\n",
       "      <td>1.000</td>\n",
       "      <td>0.099</td>\n",
       "      <td>0.102</td>\n",
       "      <td>0.092</td>\n",
       "      <td>0.113</td>\n",
       "      <td>0.108</td>\n",
       "      <td>0.084</td>\n",
       "      <td>0.108</td>\n",
       "      <td>0.103</td>\n",
       "      <td>...</td>\n",
       "      <td>0.073</td>\n",
       "      <td>0.043</td>\n",
       "      <td>0.037</td>\n",
       "      <td>0.049</td>\n",
       "      <td>0.041</td>\n",
       "      <td>0.037</td>\n",
       "      <td>0.029</td>\n",
       "      <td>0.043</td>\n",
       "      <td>0.046</td>\n",
       "      <td>0.038</td>\n",
       "    </tr>\n",
       "    <tr>\n",
       "      <th>A10-D041914-3_8_M-1-1</th>\n",
       "      <td>0.061</td>\n",
       "      <td>0.099</td>\n",
       "      <td>1.000</td>\n",
       "      <td>0.088</td>\n",
       "      <td>0.088</td>\n",
       "      <td>0.126</td>\n",
       "      <td>0.089</td>\n",
       "      <td>0.082</td>\n",
       "      <td>0.115</td>\n",
       "      <td>0.097</td>\n",
       "      <td>...</td>\n",
       "      <td>0.071</td>\n",
       "      <td>0.043</td>\n",
       "      <td>0.038</td>\n",
       "      <td>0.045</td>\n",
       "      <td>0.046</td>\n",
       "      <td>0.038</td>\n",
       "      <td>0.037</td>\n",
       "      <td>0.058</td>\n",
       "      <td>0.041</td>\n",
       "      <td>0.040</td>\n",
       "    </tr>\n",
       "    <tr>\n",
       "      <th>K1-B000610-3_56_F-1-1</th>\n",
       "      <td>0.070</td>\n",
       "      <td>0.102</td>\n",
       "      <td>0.088</td>\n",
       "      <td>1.000</td>\n",
       "      <td>0.065</td>\n",
       "      <td>0.093</td>\n",
       "      <td>0.084</td>\n",
       "      <td>0.087</td>\n",
       "      <td>0.075</td>\n",
       "      <td>0.076</td>\n",
       "      <td>...</td>\n",
       "      <td>0.062</td>\n",
       "      <td>0.042</td>\n",
       "      <td>0.032</td>\n",
       "      <td>0.039</td>\n",
       "      <td>0.030</td>\n",
       "      <td>0.035</td>\n",
       "      <td>0.028</td>\n",
       "      <td>0.038</td>\n",
       "      <td>0.039</td>\n",
       "      <td>0.031</td>\n",
       "    </tr>\n",
       "    <tr>\n",
       "      <th>O1-B002771-3_39_F-1-1</th>\n",
       "      <td>0.055</td>\n",
       "      <td>0.092</td>\n",
       "      <td>0.088</td>\n",
       "      <td>0.065</td>\n",
       "      <td>1.000</td>\n",
       "      <td>0.081</td>\n",
       "      <td>0.079</td>\n",
       "      <td>0.070</td>\n",
       "      <td>0.079</td>\n",
       "      <td>0.076</td>\n",
       "      <td>...</td>\n",
       "      <td>0.059</td>\n",
       "      <td>0.036</td>\n",
       "      <td>0.036</td>\n",
       "      <td>0.037</td>\n",
       "      <td>0.042</td>\n",
       "      <td>0.033</td>\n",
       "      <td>0.025</td>\n",
       "      <td>0.045</td>\n",
       "      <td>0.031</td>\n",
       "      <td>0.029</td>\n",
       "    </tr>\n",
       "  </tbody>\n",
       "</table>\n",
       "<p>5 rows × 49 columns</p>\n",
       "</div>"
      ],
      "text/plain": [
       "                        D16-B000610-3_56_F-1-1  J8-D041914-3_8_M-1-1  \\\n",
       "D16-B000610-3_56_F-1-1                   1.000                 0.077   \n",
       "J8-D041914-3_8_M-1-1                     0.077                 1.000   \n",
       "A10-D041914-3_8_M-1-1                    0.061                 0.099   \n",
       "K1-B000610-3_56_F-1-1                    0.070                 0.102   \n",
       "O1-B002771-3_39_F-1-1                    0.055                 0.092   \n",
       "\n",
       "                        A10-D041914-3_8_M-1-1  K1-B000610-3_56_F-1-1  \\\n",
       "D16-B000610-3_56_F-1-1                  0.061                  0.070   \n",
       "J8-D041914-3_8_M-1-1                    0.099                  0.102   \n",
       "A10-D041914-3_8_M-1-1                   1.000                  0.088   \n",
       "K1-B000610-3_56_F-1-1                   0.088                  1.000   \n",
       "O1-B002771-3_39_F-1-1                   0.088                  0.065   \n",
       "\n",
       "                        O1-B002771-3_39_F-1-1  H2-D041914-3_8_M-1-1  \\\n",
       "D16-B000610-3_56_F-1-1                  0.055                 0.080   \n",
       "J8-D041914-3_8_M-1-1                    0.092                 0.113   \n",
       "A10-D041914-3_8_M-1-1                   0.088                 0.126   \n",
       "K1-B000610-3_56_F-1-1                   0.065                 0.093   \n",
       "O1-B002771-3_39_F-1-1                   1.000                 0.081   \n",
       "\n",
       "                        C1-B002771-3_39_F-1-1  P2-B000610-3_56_F-1-1  \\\n",
       "D16-B000610-3_56_F-1-1                  0.072                  0.078   \n",
       "J8-D041914-3_8_M-1-1                    0.108                  0.084   \n",
       "A10-D041914-3_8_M-1-1                   0.089                  0.082   \n",
       "K1-B000610-3_56_F-1-1                   0.084                  0.087   \n",
       "O1-B002771-3_39_F-1-1                   0.079                  0.070   \n",
       "\n",
       "                        I6-D041914-3_8_M-1-1  G2-MAA000487-3_10_M-1-1  \\\n",
       "D16-B000610-3_56_F-1-1                 0.063                    0.056   \n",
       "J8-D041914-3_8_M-1-1                   0.108                    0.103   \n",
       "A10-D041914-3_8_M-1-1                  0.115                    0.097   \n",
       "K1-B000610-3_56_F-1-1                  0.075                    0.076   \n",
       "O1-B002771-3_39_F-1-1                  0.079                    0.076   \n",
       "\n",
       "                                 ...            O18-MAA001862-3_39_F-1-1  \\\n",
       "D16-B000610-3_56_F-1-1           ...                               0.036   \n",
       "J8-D041914-3_8_M-1-1             ...                               0.073   \n",
       "A10-D041914-3_8_M-1-1            ...                               0.071   \n",
       "K1-B000610-3_56_F-1-1            ...                               0.062   \n",
       "O1-B002771-3_39_F-1-1            ...                               0.059   \n",
       "\n",
       "                        M13-B001750-3_38_F-1-1  C16-B000971-3_39_F-1-1  \\\n",
       "D16-B000610-3_56_F-1-1                   0.027                   0.027   \n",
       "J8-D041914-3_8_M-1-1                     0.043                   0.037   \n",
       "A10-D041914-3_8_M-1-1                    0.043                   0.038   \n",
       "K1-B000610-3_56_F-1-1                    0.042                   0.032   \n",
       "O1-B002771-3_39_F-1-1                    0.036                   0.036   \n",
       "\n",
       "                        L19-B001750-3_38_F-1-1  A19-B000971-3_39_F-1-1  \\\n",
       "D16-B000610-3_56_F-1-1                   0.033                   0.027   \n",
       "J8-D041914-3_8_M-1-1                     0.049                   0.041   \n",
       "A10-D041914-3_8_M-1-1                    0.045                   0.046   \n",
       "K1-B000610-3_56_F-1-1                    0.039                   0.030   \n",
       "O1-B002771-3_39_F-1-1                    0.037                   0.042   \n",
       "\n",
       "                        K4-MAA000508-3_9_M-1-1  D22-MAA000776-3_10_M-1-1  \\\n",
       "D16-B000610-3_56_F-1-1                   0.030                     0.020   \n",
       "J8-D041914-3_8_M-1-1                     0.037                     0.029   \n",
       "A10-D041914-3_8_M-1-1                    0.038                     0.037   \n",
       "K1-B000610-3_56_F-1-1                    0.035                     0.028   \n",
       "O1-B002771-3_39_F-1-1                    0.033                     0.025   \n",
       "\n",
       "                        I20-B000971-3_39_F-1-1  G4-B001750-3_38_F-1-1  \\\n",
       "D16-B000610-3_56_F-1-1                   0.025                  0.039   \n",
       "J8-D041914-3_8_M-1-1                     0.043                  0.046   \n",
       "A10-D041914-3_8_M-1-1                    0.058                  0.041   \n",
       "K1-B000610-3_56_F-1-1                    0.038                  0.039   \n",
       "O1-B002771-3_39_F-1-1                    0.045                  0.031   \n",
       "\n",
       "                        G10-B001750-3_38_F-1-1  \n",
       "D16-B000610-3_56_F-1-1                   0.031  \n",
       "J8-D041914-3_8_M-1-1                     0.038  \n",
       "A10-D041914-3_8_M-1-1                    0.040  \n",
       "K1-B000610-3_56_F-1-1                    0.031  \n",
       "O1-B002771-3_39_F-1-1                    0.029  \n",
       "\n",
       "[5 rows x 49 columns]"
      ]
     },
     "execution_count": 124,
     "metadata": {},
     "output_type": "execute_result"
    }
   ],
   "source": [
    "jaccard_1k = pd.DataFrame(values_numhashes, index=cell_ids_k27_dna, columns=cell_ids_k27_dna)\n",
    "jaccard_1k.head()"
   ]
  },
  {
   "cell_type": "code",
   "execution_count": 140,
   "metadata": {},
   "outputs": [
    {
     "data": {
      "text/plain": [
       "<networkx.classes.graph.Graph at 0x7f6c0eff42e8>"
      ]
     },
     "execution_count": 140,
     "metadata": {},
     "output_type": "execute_result"
    }
   ],
   "source": [
    "\n",
    "\n",
    "\n",
    "palettes = dict(tissue='husl', cell_ontology_class='tab10')\n",
    "color_cols = ['cell_ontology_class', 'tissue']\n",
    "\n",
    "\n",
    "\n",
    "\n",
    "n_neighbors = 5\n",
    "\n",
    "graph_1m = knn.nearest_neighbor_graph(jaccard_1m, metadata, n_neighbors=n_neighbors, \n",
    "                                      color_cols=color_cols, palettes=palettes)\n",
    "graph_1m"
   ]
  },
  {
   "cell_type": "code",
   "execution_count": 141,
   "metadata": {},
   "outputs": [
    {
     "data": {
      "text/plain": [
       "tissue\n",
       "Bladder                           bladder cell\n",
       "Kidney      epithelial cell of proximal tubule\n",
       "Liver                               hepatocyte\n",
       "Pancreas                type B pancreatic cell\n",
       "Spleen                                  B cell\n",
       "dtype: object"
      ]
     },
     "execution_count": 141,
     "metadata": {},
     "output_type": "execute_result"
    }
   ],
   "source": [
    "metadata.groupby('tissue').apply(lambda x: x['cell_ontology_class'].mode()[0])"
   ]
  },
  {
   "cell_type": "code",
   "execution_count": 142,
   "metadata": {},
   "outputs": [],
   "source": [
    "import networkx as nx"
   ]
  },
  {
   "cell_type": "code",
   "execution_count": 143,
   "metadata": {},
   "outputs": [
    {
     "name": "stderr",
     "output_type": "stream",
     "text": [
      "/home/olga/miniconda3/envs/kmer-hashing/lib/python3.6/site-packages/networkx/drawing/nx_pylab.py:611: MatplotlibDeprecationWarning: isinstance(..., numbers.Number)\n",
      "  if cb.is_numlike(alpha):\n"
     ]
    },
    {
     "data": {
      "image/png": "[encoded data removed]",
      "text/plain": [
       "<Figure size 432x288 with 1 Axes>"
      ]
     },
     "metadata": {},
     "output_type": "display_data"
    }
   ],
   "source": [
    "pos = nx.spring_layout(graph_1m, seed=0)\n",
    "\n",
    "label = 'tissue'\n",
    "knn.draw_graph(graph_1m, edge_color='black', pos=pos, label_col=label,)"
   ]
  },
  {
   "cell_type": "code",
   "execution_count": 144,
   "metadata": {},
   "outputs": [
    {
     "name": "stderr",
     "output_type": "stream",
     "text": [
      "/home/olga/miniconda3/envs/kmer-hashing/lib/python3.6/site-packages/networkx/drawing/nx_pylab.py:611: MatplotlibDeprecationWarning: isinstance(..., numbers.Number)\n",
      "  if cb.is_numlike(alpha):\n"
     ]
    },
    {
     "data": {
      "image/png": "[encoded data removed]",
      "text/plain": [
       "<Figure size 432x288 with 1 Axes>"
      ]
     },
     "metadata": {},
     "output_type": "display_data"
    }
   ],
   "source": [
    "pos = nx.spring_layout(graph_1m, seed=0)\n",
    "\n",
    "label = 'cell_ontology_class'\n",
    "knn.draw_graph(graph_1m, edge_color='black', pos=pos, label_col=label,)"
   ]
  },
  {
   "cell_type": "code",
   "execution_count": 145,
   "metadata": {},
   "outputs": [
    {
     "data": {
      "text/plain": [
       "False"
      ]
     },
     "execution_count": 145,
     "metadata": {},
     "output_type": "execute_result"
    }
   ],
   "source": [
    "graph == graph_1m"
   ]
  },
  {
   "cell_type": "code",
   "execution_count": 146,
   "metadata": {},
   "outputs": [
    {
     "name": "stderr",
     "output_type": "stream",
     "text": [
      "/home/olga/miniconda3/envs/kmer-hashing/lib/python3.6/site-packages/networkx/drawing/nx_pylab.py:611: MatplotlibDeprecationWarning: isinstance(..., numbers.Number)\n",
      "  if cb.is_numlike(alpha):\n",
      "/home/olga/miniconda3/envs/kmer-hashing/lib/python3.6/site-packages/networkx/drawing/nx_pylab.py:611: MatplotlibDeprecationWarning: isinstance(..., numbers.Number)\n",
      "  if cb.is_numlike(alpha):\n",
      "/home/olga/miniconda3/envs/kmer-hashing/lib/python3.6/site-packages/networkx/drawing/nx_pylab.py:611: MatplotlibDeprecationWarning: isinstance(..., numbers.Number)\n",
      "  if cb.is_numlike(alpha):\n",
      "/home/olga/miniconda3/envs/kmer-hashing/lib/python3.6/site-packages/networkx/drawing/nx_pylab.py:611: MatplotlibDeprecationWarning: isinstance(..., numbers.Number)\n",
      "  if cb.is_numlike(alpha):\n"
     ]
    },
    {
     "data": {
      "image/png": "[encoded data removed]",
      "text/plain": [
       "<Figure size 432x288 with 1 Axes>"
      ]
     },
     "metadata": {},
     "output_type": "display_data"
    },
    {
     "data": {
      "image/png": "[encoded data removed]",
      "text/plain": [
       "<Figure size 432x288 with 1 Axes>"
      ]
     },
     "metadata": {},
     "output_type": "display_data"
    },
    {
     "data": {
      "image/png": "[encoded data removed]",
      "text/plain": [
       "<Figure size 432x288 with 1 Axes>"
      ]
     },
     "metadata": {},
     "output_type": "display_data"
    },
    {
     "data": {
      "image/png": "[encoded data removed]",
      "text/plain": [
       "<Figure size 432x288 with 1 Axes>"
      ]
     },
     "metadata": {},
     "output_type": "display_data"
    }
   ],
   "source": [
    "jaccards = dict(jaccard_1m=jaccard_1m, jaccard_1k=jaccard_1k)\n",
    "\n",
    "\n",
    "for name, data in jaccards.items():\n",
    "    graph = knn.nearest_neighbor_graph(data, metadata, n_neighbors=n_neighbors, \n",
    "                                      color_cols=color_cols, palettes=palettes)\n",
    "    pos = nx.spring_layout(graph, seed=0)\n",
    "\n",
    "    for label in color_cols:\n",
    "        fig, ax = plt.subplots()\n",
    "        knn.draw_graph(graph, edge_color='black', pos=pos, label_col=label,)\n",
    "        ax.set_title(name)"
   ]
  },
  {
   "cell_type": "code",
   "execution_count": 132,
   "metadata": {},
   "outputs": [
    {
     "ename": "NameError",
     "evalue": "name 'names' is not defined",
     "output_type": "error",
     "traceback": [
      "\u001b[0;31m---------------------------------------------------------------------------\u001b[0m",
      "\u001b[0;31mNameError\u001b[0m                                 Traceback (most recent call last)",
      "\u001b[0;32m<ipython-input-132-9877d23ab3a0>\u001b[0m in \u001b[0;36m<module>\u001b[0;34m()\u001b[0m\n\u001b[0;32m----> 1\u001b[0;31m \u001b[0mcompare_vanilla\u001b[0m \u001b[0;34m=\u001b[0m \u001b[0mpd\u001b[0m\u001b[0;34m.\u001b[0m\u001b[0mDataFrame\u001b[0m\u001b[0;34m(\u001b[0m\u001b[0mvalues\u001b[0m\u001b[0;34m,\u001b[0m \u001b[0mindex\u001b[0m\u001b[0;34m=\u001b[0m\u001b[0mnames\u001b[0m\u001b[0;34m,\u001b[0m \u001b[0mcolumns\u001b[0m\u001b[0;34m=\u001b[0m\u001b[0mnames\u001b[0m\u001b[0;34m)\u001b[0m\u001b[0;34m\u001b[0m\u001b[0m\n\u001b[0m\u001b[1;32m      2\u001b[0m \u001b[0mcompare_vanilla\u001b[0m\u001b[0;34m.\u001b[0m\u001b[0mhead\u001b[0m\u001b[0;34m(\u001b[0m\u001b[0;34m)\u001b[0m\u001b[0;34m\u001b[0m\u001b[0m\n",
      "\u001b[0;31mNameError\u001b[0m: name 'names' is not defined"
     ]
    }
   ],
   "source": [
    "compare_vanilla = pd.DataFrame(values, index=names, columns=names)\n",
    "compare_vanilla.head()"
   ]
  },
  {
   "cell_type": "code",
   "execution_count": null,
   "metadata": {},
   "outputs": [],
   "source": []
  },
  {
   "cell_type": "code",
   "execution_count": null,
   "metadata": {},
   "outputs": [],
   "source": [
    "%%time\n",
    "n_jobs = 8\n",
    "\n",
    "values_idf = Parallel(n_jobs=n_jobs)(delayed(jaccard_sigs_idf)(i, j, siglist, inverse_document_frequency, mean_idf_per_cell) \n",
    "                                 for i, j in itertools.product(range(nrow), range(ncol)))"
   ]
  },
  {
   "cell_type": "code",
   "execution_count": null,
   "metadata": {},
   "outputs": [],
   "source": [
    "compare_idf = pd.DataFrame(values_idf, index=names, columns=names)"
   ]
  },
  {
   "cell_type": "code",
   "execution_count": null,
   "metadata": {},
   "outputs": [],
   "source": []
  },
  {
   "cell_type": "code",
   "execution_count": null,
   "metadata": {},
   "outputs": [],
   "source": []
  }
 ],
 "metadata": {
  "kernelspec": {
   "display_name": "Python [conda env:kmer-hashing]",
   "language": "python",
   "name": "conda-env-kmer-hashing-py"
  },
  "language_info": {
   "codemirror_mode": {
    "name": "ipython",
    "version": 3
   },
   "file_extension": ".py",
   "mimetype": "text/x-python",
   "name": "python",
   "nbconvert_exporter": "python",
   "pygments_lexer": "ipython3",
   "version": "3.6.6"
  }
 },
 "nbformat": 4,
 "nbformat_minor": 2
}
